{
 "cells": [
  {
   "attachments": {},
   "cell_type": "markdown",
   "id": "2ecf3a9c",
   "metadata": {},
   "source": [
    "---\n",
    "title: \"Data Analysis of Quentin Tarantino's Works\"\n",
    "description: \"An analysis of the works of Quentin Tarantino using data from The Movie Database\"\n",
    "author: \"Bryce Stulman\"\n",
    "date: \"03/11/2023\"\n",
    "date-modified: \"03/11/2023\"\n",
    "---"
   ]
  },
  {
   "attachments": {},
   "cell_type": "markdown",
   "id": "eeadbd90",
   "metadata": {},
   "source": [
    "# Data Analysis of Quentin Tarantino's Works\n",
    "The purpose of this analysis is to better understand the works of filmmaker Quentin Tarantino. Known for his stylized violence and profanity riddled dialog, Tarantino's films are generally highly regarded and he has won many [awards](https://www.imdb.com/name/nm0000233/awards), including Academy Awards wins for *Pulp Fiction* (1994) and *Django Unchained* (2012). Tarantino has been releasing new films every few years for the last three decades and this analysis uses data such as budget, revenue, cast, crew, and viewer sentinment to attempt to discover some of the factors which may contribute to his continued success.\n",
    "\n",
    "It covers his (currently) 11 movies:  \n",
    "\n",
    "* *Reservoir Dogs* (1992)\n",
    "* *Pulp Fiction* (1994)\n",
    "* *Four Rooms* (1995)\n",
    "* *Jackie Brown* (1997)\n",
    "* *Kill Bill: Vol. 1* (2003)\n",
    "* *Kill Bill: Vol. 2* (2004)\n",
    "* *Death Proof* (2007)\n",
    "* *Inglorious Basterds* (2009)\n",
    "* *Django Unchained* (2012)\n",
    "* *The Hateful Eight* (2015)\n",
    "* *Once Upon a Time... in Hollywood* (2019)\n"
   ]
  },
  {
   "attachments": {},
   "cell_type": "markdown",
   "id": "11d59263",
   "metadata": {},
   "source": [
    "\n",
    "### Questions that Can Be Answered with Data\n",
    "\n",
    "Data can be used to address many statistical questions as well as help form connections between seemingly disparate pieces of information.\n",
    "Some examples of questions include:  \n",
    "\n",
    "* How did the budget for tarantinos films change overtime (as he became more famous)?\n",
    "* What are the relationships between budget, revenue, popularity and rating for tarantino films? How are these related to:\n",
    "    * Genre?\n",
    "    * Cast?\n",
    "    * Crew?        \n",
    "* Since Tarantino is known for repeatedly casting some actors and actresses, can examining which ones are in which movies reveal hidden connections related to success?\n",
    "* Less well known are crew members, do Tarantino's films re-use crew members in the same way?\n",
    "\n",
    "---"
   ]
  },
  {
   "attachments": {},
   "cell_type": "markdown",
   "id": "c2bee77c",
   "metadata": {},
   "source": [
    "## The Data\n",
    "\n",
    "Data for this analysis is sourced from [The Movie Database (TMDB)](https://www.themoviedb.org), a community built database with millions of users that has been in service since 2008, using their publicly available web API.  \n",
    "For more information about TMDB see the [About page](https://www.themoviedb.org/about). For information about the API, including documentation, see the [API page](https://www.themoviedb.org/documentation/api).  \n",
    "\n",
    "The [tmdbsimple](https://github.com/celiao/tmdbsimple) library provides easy access to the TMDB web API using Python.\n",
    "\n",
    "TMDB catalogs the following data for movies and credits. The fields that are used for this analysis are shown in **bold**.\n",
    "\n",
    "##### Movies: \n",
    "\n",
    "| Field | Datatype | Description |\n",
    "| :--- | :------ | :--------- |\n",
    "| adult | boolean | Whether the movie is an adult film |\n",
    "| backdrop_path | string or null | Path for backdrop image |\n",
    "| belongs_to_collection | null or object | A collection the movie belongs to |\n",
    "| **budget** | integer | Budget of the movie, not adjusted for inflation |\n",
    "| **genres** | array[object] | List of genres |\n",
    "| homepage | string or null | URL for movie's webpage |\n",
    "| id | integer | TMDB ID |\n",
    "| imdb_id | string or null | IMDB ID |\n",
    "| original_language | string | Original language of the movie |\n",
    "| original_title | string | Original title of the movie |\n",
    "| overview | string or null | Short description of the movie |\n",
    "| **popularity** | number | Measure of how popular the movie is on TMDB (see [TMDB Popularity](#tmdb-popularity)) |\n",
    "| poster_path | string or null | Path for poster image |\n",
    "| **production_companies** | array[object] | List of production companies that worked on the movie |\n",
    "| production_countries | array[object] | List of countries the movie was produced in |\n",
    "| **release_date** | string | Release date of the movie |\n",
    "| **revenue** | integer | Revenue made by the movie, not adjusted for inflation |\n",
    "| **runtime** | integer or null | Duration of the movie (in minutes) |\n",
    "| spoken_languages | array[object] | List of languages spoken in the movie |\n",
    "| status | string | Production status of the movie |\n",
    "| tagline | string or null | Tagline used for the movie |\n",
    "| **title** | string | Title of the movie |\n",
    "| video | boolean | Wether there is a video associated with the movie |\n",
    "| **vote_average** | number | Average score among user ratings (max 10) |\n",
    "| **vote_count** | integer | Number of user ratings |\n",
    "\n",
    "##### Cast Credits:\n",
    "\n",
    "| Field | Datatype | Description |\n",
    "| :--- | :------ | :--------- |\n",
    "| adult | boolean | Whether or not the person works on adult media |\n",
    "| **gender** | integer | Integer representation of gender |\n",
    "| id | integer | TMDB ID |\n",
    "| known_for_department | string | Primary production role |\n",
    "| **name** | string | Current name |\n",
    "| original_name | string | Name before any changes (such as marriage) |\n",
    "| **popularity** | number | Measure of how popular the person is on TMDB (see [TMDB Popularity](#tmdb-popularity)) |\n",
    "| profile_path | string or null | Path to profile image |\n",
    "| cast_id | integer | ID for this cast |\n",
    "| **character** | string | Name of character played in the movie |\n",
    "| credit_id | string | ID for this credit |\n",
    "| order | integer | Order of this credit in the movie's credits |\n",
    "\n",
    "##### Crew Credits:\n",
    "\n",
    "| Field | Datatype | Description |\n",
    "| :--- | :------ | :--------- |\n",
    "| adult | boolean | Whether or not the person works on adult media |\n",
    "| **gender** | integer | Integer representation of gender |\n",
    "| id | integer | TMDB ID |\n",
    "| known_for_department | string | Primary production role |\n",
    "| **name** | string | Current name |\n",
    "| original_name | string | Name before any changes (such as marriage) |\n",
    "| **popularity** | number | Measure of how popular the person is on TMDB (see [TMDB Popularity](#tmdb-popularity)) |\n",
    "| profile_path | string or null | Path to profile image |\n",
    "| credit_id | string | ID for this credit |\n",
    "| department | integer | Department worked in |\n",
    "| **job** | string | Role in production for the movie |\n"
   ]
  },
  {
   "attachments": {},
   "cell_type": "markdown",
   "id": "56cb7a87",
   "metadata": {},
   "source": [
    "<a id='tmdb-popularity'></a>\n",
    "\n",
    "#### TMDB Popularity\n",
    "\n",
    "TMDB has a **popularity** score that it associates with every page on the site. This score is described as \"[A] very important metric [that] helps us boost search results, adds an incredibly useful sort value for Discover, and is also just kind of fun to see items chart up and down.\" It is a measure of how many users are interacting with the given database entry on a regular basis.\n",
    "\n",
    "For a list of which factors affect popularity, see the [TMDB Popularity page](https://developers.themoviedb.org/3/getting-started/popularity)."
   ]
  },
  {
   "attachments": {},
   "cell_type": "markdown",
   "id": "044ada4c",
   "metadata": {},
   "source": [
    "### Getting the Data\n",
    "\n",
    "> **Note:** In order to use the TMDB web API we must first create a free account and request an API key that will be used when making requests. The following sections cover the process of retreiving the data directly from the API and require an additional file named **api_key** containing a single line with your API key. Since each API key is private, this file has not been provided. However, a snapshot of the API data has been saved as **tarantino.json** and can be used to complete this analysis.  \n",
    "> \n",
    "> To skip the API and use the provided json, see the [Get From File](#get-from-file) section.\n",
    "\n",
    "The first step is to import the libraries that will be used to access the API and parse the reponse and to setup the API key for the requests."
   ]
  },
  {
   "cell_type": "code",
   "execution_count": null,
   "id": "bc6c4b3f",
   "metadata": {},
   "outputs": [],
   "source": [
    "import tmdbsimple as tmdb\n",
    "import json\n",
    "\n",
    "with open('api_key', 'r') as file:\n",
    "   API_KEY = file.read()\n",
    "\n",
    "tmdb.API_KEY = API_KEY"
   ]
  },
  {
   "attachments": {},
   "cell_type": "markdown",
   "id": "5cadb9f9",
   "metadata": {},
   "source": [
    "In order to get information about a specific title from the TMDB API we need to provide the title's ID in the request.  \n",
    "\n",
    "Although the TMDB API provides [Discover](https://developers.themoviedb.org/3/discover) and [Search](https://developers.themoviedb.org/3/search/search-movies) routes to look for titles and get their IDs, this analysis deals with fairly small number of titles and it is relatively easy to look them up by hand."
   ]
  },
  {
   "cell_type": "code",
   "execution_count": null,
   "id": "37f13455",
   "metadata": {},
   "outputs": [],
   "source": [
    "tarantino_tmdb_ids = {\n",
    "    \"Reservoir Dogs\": 500,\n",
    "    \"Pulp Fiction\": 680,\n",
    "    \"Four Rooms\": 5,\n",
    "    \"Jackie Brown\": 184,\n",
    "    \"Kill Bill: Vol. 1\": 24,\n",
    "    \"Kill Bill: Vol. 2\": 393,\n",
    "    \"Death Proof\": 1991,\n",
    "    \"Inglorious Basterds\": 16869,\n",
    "    \"Django Unchained\": 68718,\n",
    "    \"The Hateful Eight\": 273248,\n",
    "    \"Once Upon a Time... in Hollywood\": 466272\n",
    "}"
   ]
  },
  {
   "attachments": {},
   "cell_type": "markdown",
   "id": "29ffaa03",
   "metadata": {},
   "source": [
    "With these IDs, requests can be made to the API to get [details](https://developers.themoviedb.org/3/movies/get-movie-details) about each title. An additional request can be made to get the [credits](https://developers.themoviedb.org/3/movies/get-movie-credits) for the title, including both the cast and the crew.  \n",
    "\n",
    "The **tmdbsimple** library makes the process fairly painless."
   ]
  },
  {
   "cell_type": "code",
   "execution_count": null,
   "id": "2f45d9c7",
   "metadata": {},
   "outputs": [],
   "source": [
    "\n",
    "tarantino_movies = []\n",
    "\n",
    "for title, id in tarantino_tmdb_ids.items():\n",
    "    movie = {}\n",
    "    movie['info'] = tmdb.Movies(id).info()\n",
    "    movie['credits'] = tmdb.Movies(id).credits()\n",
    "    tarantino_movies.append(movie)"
   ]
  },
  {
   "attachments": {},
   "cell_type": "markdown",
   "id": "77da03ed",
   "metadata": {},
   "source": [
    "Let's save the results to facilitate the use of this notebook without an API key. The JSON results can then be loaded any time."
   ]
  },
  {
   "cell_type": "code",
   "execution_count": null,
   "id": "d91a7aa0",
   "metadata": {},
   "outputs": [],
   "source": [
    "with open('tarantino.json', 'w') as file:\n",
    "    file.write(json.dumps(tarantino_movies))"
   ]
  },
  {
   "attachments": {},
   "cell_type": "markdown",
   "id": "55639bfb",
   "metadata": {},
   "source": [
    "<a id='get-from-file'></a>\n",
    "\n",
    "#### Get From File\n",
    "\n",
    "If you don't have an API key, use the following code to load a snapshot of the response from the TMDB API as of the last time this notebook was updated."
   ]
  },
  {
   "cell_type": "code",
   "execution_count": null,
   "id": "4d9fd89d",
   "metadata": {},
   "outputs": [],
   "source": [
    "import json\n",
    "\n",
    "with open('tarantino.json', 'r') as file:\n",
    "    tarantino_movies = json.load(file)"
   ]
  },
  {
   "attachments": {},
   "cell_type": "markdown",
   "id": "97ab9807",
   "metadata": {},
   "source": [
    "### Data Wrangling\n",
    "\n",
    "As a web API, the responses from TMDB are sent in JSON format. While there are methods to extract the data from JSON objects, the results from the API are formatted in a way that makes utilizing them complicated. Additionally, we are only interested in a subset of the provided fields. As such, it is helpful to prune the unnecessarily fields and reformat the data to make it easier to use. A list of column names and a list of data rows for each table will make using the data easy.\n",
    "\n",
    "The **gender** field is of special note because it is saved as an integer. The values are explained by TMDB staff [here](https://www.themoviedb.org/talk/58ee5022c3a3683ded00a887?language=en-US).\n",
    "\n",
    "Also, since comparisons will be made between monetary values that were recorded many years apart, it will be necessary to adjust for inflation. The [cpi](https://pypi.org/project/cpi/) library can be used to adjust the budgets and revenue easily.\n",
    "\n",
    "Let's create the lists and process the data."
   ]
  },
  {
   "cell_type": "code",
   "execution_count": null,
   "id": "c5c15c43",
   "metadata": {},
   "outputs": [],
   "source": [
    "from datetime import date   # date data structure to enable CPI conversions\n",
    "import cpi\n",
    "\n",
    "# Dictionary to convert gender from integer to value\n",
    "tmdb_gender = {\n",
    "    0: 'NS',    # Not Specified\n",
    "    1: 'F',     # Female\n",
    "    2: 'M',     # Male\n",
    "    3: 'NB'     # Non-Binary\n",
    "}\n",
    "\n",
    "# Movie table - Movie information\n",
    "movie_cols = ['title', 'release_date', 'runtime', 'budget', 'adj_budget', 'revenue', 'adj_revenue', 'popularity', 'vote_count', 'vote_average']\n",
    "movie_rows = []\n",
    "\n",
    "# Genre table - Relates movie and genres\n",
    "genre_cols = ['title', 'genre']\n",
    "genre_rows = []\n",
    "\n",
    "# Production company table - Relates movie and production companys\n",
    "prod_company_cols = ['title', 'company']\n",
    "prod_company_rows = []\n",
    "\n",
    "# Cast table - Relates movie to its cast\n",
    "cast_cols = ['title', 'person', 'character']\n",
    "cast_rows = []\n",
    "\n",
    "# Crew table - Relates movie to its crew\n",
    "crew_cols = ['title', 'person', 'job']\n",
    "crew_rows = []\n",
    "\n",
    "# Person table - Person information\n",
    "person_cols = ['person', 'gender', 'popularity']\n",
    "person_rows = []\n",
    "\n",
    "# Process data\n",
    "for movie in tarantino_movies:\n",
    "    # Movie table\n",
    "    date_parts = movie['info']['release_date'].split('-')\n",
    "    cpi_date = date(int(date_parts[0]), int(date_parts[1]), int(date_parts[2]))\n",
    "    \n",
    "    movie_row = [\n",
    "        movie['info']['title'],\n",
    "        movie['info']['release_date'],\n",
    "        movie['info']['runtime'],\n",
    "        movie['info']['budget'],\n",
    "        int(cpi.inflate(movie['info']['budget'], cpi_date)),\n",
    "        movie['info']['revenue'],\n",
    "        int(cpi.inflate(movie['info']['revenue'], cpi_date)),\n",
    "        movie['info']['popularity'],\n",
    "        movie['info']['vote_count'],\n",
    "        movie['info']['vote_average']\n",
    "    ]\n",
    "    movie_rows.append(movie_row)\n",
    "\n",
    "    # Genre table\n",
    "    for genre in movie['info']['genres']:\n",
    "        genre_row = [\n",
    "            movie['info']['title'],\n",
    "            genre['name']\n",
    "        ]\n",
    "        genre_rows.append(genre_row)\n",
    "    \n",
    "    # Production company table\n",
    "    for company in movie['info']['production_companies']:\n",
    "        company_row = [\n",
    "            movie['info']['title'],\n",
    "            company['name']\n",
    "        ]\n",
    "        prod_company_rows.append(company_row)\n",
    "    \n",
    "    # Cast / Person table\n",
    "    for cast in movie['credits']['cast']:\n",
    "        cast_row = [\n",
    "            movie['info']['title'],\n",
    "            cast['name'],\n",
    "            cast['character']\n",
    "        ]\n",
    "        cast_rows.append(cast_row)\n",
    "\n",
    "        person_row = [\n",
    "            cast['name'],\n",
    "            tmdb_gender[cast['gender']],\n",
    "            cast['popularity']\n",
    "        ]\n",
    "        person_rows.append(person_row)\n",
    "\n",
    "    # Crew / Person table\n",
    "    for crew in movie['credits']['crew']:\n",
    "        crew_row = [\n",
    "            movie['info']['title'],\n",
    "            crew['name'],\n",
    "            crew['job']\n",
    "        ]\n",
    "        crew_rows.append(crew_row)\n",
    "\n",
    "        person_row = [\n",
    "            crew['name'],\n",
    "            tmdb_gender[crew['gender']],\n",
    "            crew['popularity']\n",
    "        ]\n",
    "        person_rows.append(person_row)"
   ]
  },
  {
   "attachments": {},
   "cell_type": "markdown",
   "id": "b598f7bb",
   "metadata": {},
   "source": [
    "### Exploring the Data\n",
    "\n",
    "Now that the data has been processed, we can make the dataframes and begin with a cursory look at each table to examine some statistics and get an idea of the big picture for our data."
   ]
  },
  {
   "cell_type": "code",
   "execution_count": 87,
   "id": "33c38a32",
   "metadata": {},
   "outputs": [
    {
     "data": {
      "text/html": [
       "<style>\n",
       "        .bk-notebook-logo {\n",
       "            display: block;\n",
       "            width: 20px;\n",
       "            height: 20px;\n",
       "            background-image: url(data:image/png;base64,iVBORw0KGgoAAAANSUhEUgAAABQAAAAUCAYAAACNiR0NAAAABHNCSVQICAgIfAhkiAAAAAlwSFlzAAALEgAACxIB0t1+/AAAABx0RVh0U29mdHdhcmUAQWRvYmUgRmlyZXdvcmtzIENTNui8sowAAAOkSURBVDiNjZRtaJVlGMd/1/08zzln5zjP1LWcU9N0NkN8m2CYjpgQYQXqSs0I84OLIC0hkEKoPtiH3gmKoiJDU7QpLgoLjLIQCpEsNJ1vqUOdO7ppbuec5+V+rj4ctwzd8IIbbi6u+8f1539dt3A78eXC7QizUF7gyV1fD1Yqg4JWz84yffhm0qkFqBogB9rM8tZdtwVsPUhWhGcFJngGeWrPzHm5oaMmkfEg1usvLFyc8jLRqDOMru7AyC8saQr7GG7f5fvDeH7Ej8CM66nIF+8yngt6HWaKh7k49Soy9nXurCi1o3qUbS3zWfrYeQDTB/Qj6kX6Ybhw4B+bOYoLKCC9H3Nu/leUTZ1JdRWkkn2ldcCamzrcf47KKXdAJllSlxAOkRgyHsGC/zRday5Qld9DyoM4/q/rUoy/CXh3jzOu3bHUVZeU+DEn8FInkPBFlu3+nW3Nw0mk6vCDiWg8CeJaxEwuHS3+z5RgY+YBR6V1Z1nxSOfoaPa4LASWxxdNp+VWTk7+4vzaou8v8PN+xo+KY2xsw6une2frhw05CTYOmQvsEhjhWjn0bmXPjpE1+kplmmkP3suftwTubK9Vq22qKmrBhpY4jvd5afdRA3wGjFAgcnTK2s4hY0/GPNIb0nErGMCRxWOOX64Z8RAC4oCXdklmEvcL8o0BfkNK4lUg9HTl+oPlQxdNo3Mg4Nv175e/1LDGzZen30MEjRUtmXSfiTVu1kK8W4txyV6BMKlbgk3lMwYCiusNy9fVfvvwMxv8Ynl6vxoByANLTWplvuj/nF9m2+PDtt1eiHPBr1oIfhCChQMBw6Aw0UulqTKZdfVvfG7VcfIqLG9bcldL/+pdWTLxLUy8Qq38heUIjh4XlzZxzQm19lLFlr8vdQ97rjZVOLf8nclzckbcD4wxXMidpX30sFd37Fv/GtwwhzhxGVAprjbg0gCAEeIgwCZyTV2Z1REEW8O4py0wsjeloKoMr6iCY6dP92H6Vw/oTyICIthibxjm/DfN9lVz8IqtqKYLUXfoKVMVQVVJOElGjrnnUt9T9wbgp8AyYKaGlqingHZU/uG2NTZSVqwHQTWkx9hxjkpWDaCg6Ckj5qebgBVbT3V3NNXMSiWSDdGV3hrtzla7J+duwPOToIg42ChPQOQjspnSlp1V+Gjdged7+8UN5CRAV7a5EdFNwCjEaBR27b3W890TE7g24NAP/mMDXRWrGoFPQI9ls/MWO2dWFAar/xcOIImbbpA3zgAAAABJRU5ErkJggg==);\n",
       "        }\n",
       "    </style>\n",
       "    <div>\n",
       "        <a href=\"https://bokeh.org\" target=\"_blank\" class=\"bk-notebook-logo\"></a>\n",
       "        <span id=\"p1048\">Loading BokehJS ...</span>\n",
       "    </div>\n"
      ]
     },
     "metadata": {},
     "output_type": "display_data"
    },
    {
     "data": {
      "application/javascript": "(function(root) {\n  function now() {\n    return new Date();\n  }\n\n  const force = true;\n\n  if (typeof root._bokeh_onload_callbacks === \"undefined\" || force === true) {\n    root._bokeh_onload_callbacks = [];\n    root._bokeh_is_loading = undefined;\n  }\n\nconst JS_MIME_TYPE = 'application/javascript';\n  const HTML_MIME_TYPE = 'text/html';\n  const EXEC_MIME_TYPE = 'application/vnd.bokehjs_exec.v0+json';\n  const CLASS_NAME = 'output_bokeh rendered_html';\n\n  /**\n   * Render data to the DOM node\n   */\n  function render(props, node) {\n    const script = document.createElement(\"script\");\n    node.appendChild(script);\n  }\n\n  /**\n   * Handle when an output is cleared or removed\n   */\n  function handleClearOutput(event, handle) {\n    const cell = handle.cell;\n\n    const id = cell.output_area._bokeh_element_id;\n    const server_id = cell.output_area._bokeh_server_id;\n    // Clean up Bokeh references\n    if (id != null && id in Bokeh.index) {\n      Bokeh.index[id].model.document.clear();\n      delete Bokeh.index[id];\n    }\n\n    if (server_id !== undefined) {\n      // Clean up Bokeh references\n      const cmd_clean = \"from bokeh.io.state import curstate; print(curstate().uuid_to_server['\" + server_id + \"'].get_sessions()[0].document.roots[0]._id)\";\n      cell.notebook.kernel.execute(cmd_clean, {\n        iopub: {\n          output: function(msg) {\n            const id = msg.content.text.trim();\n            if (id in Bokeh.index) {\n              Bokeh.index[id].model.document.clear();\n              delete Bokeh.index[id];\n            }\n          }\n        }\n      });\n      // Destroy server and session\n      const cmd_destroy = \"import bokeh.io.notebook as ion; ion.destroy_server('\" + server_id + \"')\";\n      cell.notebook.kernel.execute(cmd_destroy);\n    }\n  }\n\n  /**\n   * Handle when a new output is added\n   */\n  function handleAddOutput(event, handle) {\n    const output_area = handle.output_area;\n    const output = handle.output;\n\n    // limit handleAddOutput to display_data with EXEC_MIME_TYPE content only\n    if ((output.output_type != \"display_data\") || (!Object.prototype.hasOwnProperty.call(output.data, EXEC_MIME_TYPE))) {\n      return\n    }\n\n    const toinsert = output_area.element.find(\".\" + CLASS_NAME.split(' ')[0]);\n\n    if (output.metadata[EXEC_MIME_TYPE][\"id\"] !== undefined) {\n      toinsert[toinsert.length - 1].firstChild.textContent = output.data[JS_MIME_TYPE];\n      // store reference to embed id on output_area\n      output_area._bokeh_element_id = output.metadata[EXEC_MIME_TYPE][\"id\"];\n    }\n    if (output.metadata[EXEC_MIME_TYPE][\"server_id\"] !== undefined) {\n      const bk_div = document.createElement(\"div\");\n      bk_div.innerHTML = output.data[HTML_MIME_TYPE];\n      const script_attrs = bk_div.children[0].attributes;\n      for (let i = 0; i < script_attrs.length; i++) {\n        toinsert[toinsert.length - 1].firstChild.setAttribute(script_attrs[i].name, script_attrs[i].value);\n        toinsert[toinsert.length - 1].firstChild.textContent = bk_div.children[0].textContent\n      }\n      // store reference to server id on output_area\n      output_area._bokeh_server_id = output.metadata[EXEC_MIME_TYPE][\"server_id\"];\n    }\n  }\n\n  function register_renderer(events, OutputArea) {\n\n    function append_mime(data, metadata, element) {\n      // create a DOM node to render to\n      const toinsert = this.create_output_subarea(\n        metadata,\n        CLASS_NAME,\n        EXEC_MIME_TYPE\n      );\n      this.keyboard_manager.register_events(toinsert);\n      // Render to node\n      const props = {data: data, metadata: metadata[EXEC_MIME_TYPE]};\n      render(props, toinsert[toinsert.length - 1]);\n      element.append(toinsert);\n      return toinsert\n    }\n\n    /* Handle when an output is cleared or removed */\n    events.on('clear_output.CodeCell', handleClearOutput);\n    events.on('delete.Cell', handleClearOutput);\n\n    /* Handle when a new output is added */\n    events.on('output_added.OutputArea', handleAddOutput);\n\n    /**\n     * Register the mime type and append_mime function with output_area\n     */\n    OutputArea.prototype.register_mime_type(EXEC_MIME_TYPE, append_mime, {\n      /* Is output safe? */\n      safe: true,\n      /* Index of renderer in `output_area.display_order` */\n      index: 0\n    });\n  }\n\n  // register the mime type if in Jupyter Notebook environment and previously unregistered\n  if (root.Jupyter !== undefined) {\n    const events = require('base/js/events');\n    const OutputArea = require('notebook/js/outputarea').OutputArea;\n\n    if (OutputArea.prototype.mime_types().indexOf(EXEC_MIME_TYPE) == -1) {\n      register_renderer(events, OutputArea);\n    }\n  }\n  if (typeof (root._bokeh_timeout) === \"undefined\" || force === true) {\n    root._bokeh_timeout = Date.now() + 5000;\n    root._bokeh_failed_load = false;\n  }\n\n  const NB_LOAD_WARNING = {'data': {'text/html':\n     \"<div style='background-color: #fdd'>\\n\"+\n     \"<p>\\n\"+\n     \"BokehJS does not appear to have successfully loaded. If loading BokehJS from CDN, this \\n\"+\n     \"may be due to a slow or bad network connection. Possible fixes:\\n\"+\n     \"</p>\\n\"+\n     \"<ul>\\n\"+\n     \"<li>re-rerun `output_notebook()` to attempt to load from CDN again, or</li>\\n\"+\n     \"<li>use INLINE resources instead, as so:</li>\\n\"+\n     \"</ul>\\n\"+\n     \"<code>\\n\"+\n     \"from bokeh.resources import INLINE\\n\"+\n     \"output_notebook(resources=INLINE)\\n\"+\n     \"</code>\\n\"+\n     \"</div>\"}};\n\n  function display_loaded() {\n    const el = document.getElementById(\"p1048\");\n    if (el != null) {\n      el.textContent = \"BokehJS is loading...\";\n    }\n    if (root.Bokeh !== undefined) {\n      if (el != null) {\n        el.textContent = \"BokehJS \" + root.Bokeh.version + \" successfully loaded.\";\n      }\n    } else if (Date.now() < root._bokeh_timeout) {\n      setTimeout(display_loaded, 100)\n    }\n  }\n\n  function run_callbacks() {\n    try {\n      root._bokeh_onload_callbacks.forEach(function(callback) {\n        if (callback != null)\n          callback();\n      });\n    } finally {\n      delete root._bokeh_onload_callbacks\n    }\n    console.debug(\"Bokeh: all callbacks have finished\");\n  }\n\n  function load_libs(css_urls, js_urls, callback) {\n    if (css_urls == null) css_urls = [];\n    if (js_urls == null) js_urls = [];\n\n    root._bokeh_onload_callbacks.push(callback);\n    if (root._bokeh_is_loading > 0) {\n      console.debug(\"Bokeh: BokehJS is being loaded, scheduling callback at\", now());\n      return null;\n    }\n    if (js_urls == null || js_urls.length === 0) {\n      run_callbacks();\n      return null;\n    }\n    console.debug(\"Bokeh: BokehJS not loaded, scheduling load and callback at\", now());\n    root._bokeh_is_loading = css_urls.length + js_urls.length;\n\n    function on_load() {\n      root._bokeh_is_loading--;\n      if (root._bokeh_is_loading === 0) {\n        console.debug(\"Bokeh: all BokehJS libraries/stylesheets loaded\");\n        run_callbacks()\n      }\n    }\n\n    function on_error(url) {\n      console.error(\"failed to load \" + url);\n    }\n\n    for (let i = 0; i < css_urls.length; i++) {\n      const url = css_urls[i];\n      const element = document.createElement(\"link\");\n      element.onload = on_load;\n      element.onerror = on_error.bind(null, url);\n      element.rel = \"stylesheet\";\n      element.type = \"text/css\";\n      element.href = url;\n      console.debug(\"Bokeh: injecting link tag for BokehJS stylesheet: \", url);\n      document.body.appendChild(element);\n    }\n\n    for (let i = 0; i < js_urls.length; i++) {\n      const url = js_urls[i];\n      const element = document.createElement('script');\n      element.onload = on_load;\n      element.onerror = on_error.bind(null, url);\n      element.async = false;\n      element.src = url;\n      console.debug(\"Bokeh: injecting script tag for BokehJS library: \", url);\n      document.head.appendChild(element);\n    }\n  };\n\n  function inject_raw_css(css) {\n    const element = document.createElement(\"style\");\n    element.appendChild(document.createTextNode(css));\n    document.body.appendChild(element);\n  }\n\n  const js_urls = [\"https://cdn.bokeh.org/bokeh/release/bokeh-3.1.0.min.js\", \"https://cdn.bokeh.org/bokeh/release/bokeh-gl-3.1.0.min.js\", \"https://cdn.bokeh.org/bokeh/release/bokeh-widgets-3.1.0.min.js\", \"https://cdn.bokeh.org/bokeh/release/bokeh-tables-3.1.0.min.js\", \"https://cdn.bokeh.org/bokeh/release/bokeh-mathjax-3.1.0.min.js\"];\n  const css_urls = [];\n\n  const inline_js = [    function(Bokeh) {\n      Bokeh.set_log_level(\"info\");\n    },\nfunction(Bokeh) {\n    }\n  ];\n\n  function run_inline_js() {\n    if (root.Bokeh !== undefined || force === true) {\n          for (let i = 0; i < inline_js.length; i++) {\n      inline_js[i].call(root, root.Bokeh);\n    }\nif (force === true) {\n        display_loaded();\n      }} else if (Date.now() < root._bokeh_timeout) {\n      setTimeout(run_inline_js, 100);\n    } else if (!root._bokeh_failed_load) {\n      console.log(\"Bokeh: BokehJS failed to load within specified timeout.\");\n      root._bokeh_failed_load = true;\n    } else if (force !== true) {\n      const cell = $(document.getElementById(\"p1048\")).parents('.cell').data().cell;\n      cell.output_area.append_execute_result(NB_LOAD_WARNING)\n    }\n  }\n\n  if (root._bokeh_is_loading === 0) {\n    console.debug(\"Bokeh: BokehJS loaded, going straight to plotting\");\n    run_inline_js();\n  } else {\n    load_libs(css_urls, js_urls, function() {\n      console.debug(\"Bokeh: BokehJS plotting callback run at\", now());\n      run_inline_js();\n    });\n  }\n}(window));",
      "application/vnd.bokehjs_load.v0+json": ""
     },
     "metadata": {},
     "output_type": "display_data"
    }
   ],
   "source": [
    "\n",
    "# Important imports\n",
    "from IPython.display import display     # tool for nicely displaying Pandas dataframes\n",
    "import math\n",
    "import pandas as pd\n",
    "import matplotlib.pyplot as plt\n",
    "import plotly.express as px\n",
    "from plotly.subplots import make_subplots\n",
    "import plotly.graph_objects as go\n",
    "import networkx as nx\n",
    "from bokeh.plotting import figure, show, from_networkx\n",
    "from bokeh.io import output_notebook\n",
    "\n",
    "output_notebook() # Initialize bokeh"
   ]
  },
  {
   "cell_type": "code",
   "execution_count": null,
   "id": "680875f1",
   "metadata": {},
   "outputs": [],
   "source": [
    "# Add the data to pandas dataframes\n",
    "movie_df = pd.DataFrame(movie_rows, columns=movie_cols)\n",
    "genre_df = pd.DataFrame(genre_rows, columns=genre_cols)\n",
    "prod_company_df = pd.DataFrame(prod_company_rows, columns=prod_company_cols)\n",
    "cast_df = pd.DataFrame(cast_rows, columns=cast_cols)\n",
    "crew_df = pd.DataFrame(crew_rows, columns=crew_cols)\n",
    "person_df = pd.DataFrame(person_rows, columns=person_cols)\n",
    "\n",
    "# person entries may contain duplicates since people could work on multiple movies, must be removed\n",
    "person_df.drop_duplicates(inplace=True)"
   ]
  },
  {
   "attachments": {},
   "cell_type": "markdown",
   "id": "0d72b3ee",
   "metadata": {},
   "source": [
    "### Movie Data\n",
    "\n",
    "The Movie dataframe contains mostly numeric information about each of Tarantino's movies. Let's take a look."
   ]
  },
  {
   "cell_type": "code",
   "execution_count": 66,
   "id": "0611bf12",
   "metadata": {},
   "outputs": [
    {
     "data": {
      "text/html": [
       "<div>\n",
       "<style scoped>\n",
       "    .dataframe tbody tr th:only-of-type {\n",
       "        vertical-align: middle;\n",
       "    }\n",
       "\n",
       "    .dataframe tbody tr th {\n",
       "        vertical-align: top;\n",
       "    }\n",
       "\n",
       "    .dataframe thead th {\n",
       "        text-align: right;\n",
       "    }\n",
       "</style>\n",
       "<table border=\"1\" class=\"dataframe\">\n",
       "  <thead>\n",
       "    <tr style=\"text-align: right;\">\n",
       "      <th></th>\n",
       "      <th>title</th>\n",
       "      <th>release_date</th>\n",
       "      <th>runtime</th>\n",
       "      <th>budget</th>\n",
       "      <th>adj_budget</th>\n",
       "      <th>revenue</th>\n",
       "      <th>adj_revenue</th>\n",
       "      <th>popularity</th>\n",
       "      <th>vote_count</th>\n",
       "      <th>vote_average</th>\n",
       "    </tr>\n",
       "  </thead>\n",
       "  <tbody>\n",
       "    <tr>\n",
       "      <th>0</th>\n",
       "      <td>Reservoir Dogs</td>\n",
       "      <td>1992-09-02</td>\n",
       "      <td>99</td>\n",
       "      <td>1200000</td>\n",
       "      <td>2540721</td>\n",
       "      <td>2859750</td>\n",
       "      <td>6054857</td>\n",
       "      <td>31.693</td>\n",
       "      <td>12747</td>\n",
       "      <td>8.141</td>\n",
       "    </tr>\n",
       "    <tr>\n",
       "      <th>1</th>\n",
       "      <td>Pulp Fiction</td>\n",
       "      <td>1994-09-10</td>\n",
       "      <td>154</td>\n",
       "      <td>8000000</td>\n",
       "      <td>16019812</td>\n",
       "      <td>214179088</td>\n",
       "      <td>428888606</td>\n",
       "      <td>61.063</td>\n",
       "      <td>24794</td>\n",
       "      <td>8.489</td>\n",
       "    </tr>\n",
       "    <tr>\n",
       "      <th>2</th>\n",
       "      <td>Four Rooms</td>\n",
       "      <td>1995-12-09</td>\n",
       "      <td>98</td>\n",
       "      <td>4000000</td>\n",
       "      <td>7795960</td>\n",
       "      <td>4257354</td>\n",
       "      <td>8297541</td>\n",
       "      <td>20.826</td>\n",
       "      <td>2327</td>\n",
       "      <td>5.742</td>\n",
       "    </tr>\n",
       "    <tr>\n",
       "      <th>3</th>\n",
       "      <td>Jackie Brown</td>\n",
       "      <td>1997-12-25</td>\n",
       "      <td>154</td>\n",
       "      <td>12000000</td>\n",
       "      <td>22256912</td>\n",
       "      <td>39673162</td>\n",
       "      <td>73583508</td>\n",
       "      <td>18.849</td>\n",
       "      <td>5604</td>\n",
       "      <td>7.352</td>\n",
       "    </tr>\n",
       "    <tr>\n",
       "      <th>4</th>\n",
       "      <td>Kill Bill: Vol. 1</td>\n",
       "      <td>2003-10-10</td>\n",
       "      <td>111</td>\n",
       "      <td>30000000</td>\n",
       "      <td>48514054</td>\n",
       "      <td>180906076</td>\n",
       "      <td>292549571</td>\n",
       "      <td>37.189</td>\n",
       "      <td>15561</td>\n",
       "      <td>7.971</td>\n",
       "    </tr>\n",
       "    <tr>\n",
       "      <th>5</th>\n",
       "      <td>Kill Bill: Vol. 2</td>\n",
       "      <td>2004-04-16</td>\n",
       "      <td>136</td>\n",
       "      <td>30000000</td>\n",
       "      <td>47739893</td>\n",
       "      <td>152159461</td>\n",
       "      <td>242135882</td>\n",
       "      <td>22.264</td>\n",
       "      <td>12433</td>\n",
       "      <td>7.878</td>\n",
       "    </tr>\n",
       "    <tr>\n",
       "      <th>6</th>\n",
       "      <td>Death Proof</td>\n",
       "      <td>2007-05-22</td>\n",
       "      <td>113</td>\n",
       "      <td>25000000</td>\n",
       "      <td>35966751</td>\n",
       "      <td>31126421</td>\n",
       "      <td>44780649</td>\n",
       "      <td>23.568</td>\n",
       "      <td>4449</td>\n",
       "      <td>6.819</td>\n",
       "    </tr>\n",
       "    <tr>\n",
       "      <th>7</th>\n",
       "      <td>Inglourious Basterds</td>\n",
       "      <td>2009-08-19</td>\n",
       "      <td>153</td>\n",
       "      <td>70000000</td>\n",
       "      <td>97027808</td>\n",
       "      <td>321457747</td>\n",
       "      <td>445576295</td>\n",
       "      <td>64.328</td>\n",
       "      <td>19904</td>\n",
       "      <td>8.212</td>\n",
       "    </tr>\n",
       "    <tr>\n",
       "      <th>8</th>\n",
       "      <td>Django Unchained</td>\n",
       "      <td>2012-12-25</td>\n",
       "      <td>165</td>\n",
       "      <td>100000000</td>\n",
       "      <td>130299955</td>\n",
       "      <td>425368238</td>\n",
       "      <td>554254623</td>\n",
       "      <td>47.713</td>\n",
       "      <td>23782</td>\n",
       "      <td>8.161</td>\n",
       "    </tr>\n",
       "    <tr>\n",
       "      <th>9</th>\n",
       "      <td>The Hateful Eight</td>\n",
       "      <td>2015-12-25</td>\n",
       "      <td>188</td>\n",
       "      <td>44000000</td>\n",
       "      <td>55653651</td>\n",
       "      <td>155760117</td>\n",
       "      <td>197014075</td>\n",
       "      <td>25.322</td>\n",
       "      <td>12815</td>\n",
       "      <td>7.742</td>\n",
       "    </tr>\n",
       "    <tr>\n",
       "      <th>10</th>\n",
       "      <td>Once Upon a Time… in Hollywood</td>\n",
       "      <td>2019-07-24</td>\n",
       "      <td>162</td>\n",
       "      <td>95000000</td>\n",
       "      <td>110773041</td>\n",
       "      <td>374251247</td>\n",
       "      <td>436388935</td>\n",
       "      <td>47.244</td>\n",
       "      <td>11571</td>\n",
       "      <td>7.434</td>\n",
       "    </tr>\n",
       "  </tbody>\n",
       "</table>\n",
       "</div>"
      ],
      "text/plain": [
       "                             title release_date  runtime     budget  \\\n",
       "0                   Reservoir Dogs   1992-09-02       99    1200000   \n",
       "1                     Pulp Fiction   1994-09-10      154    8000000   \n",
       "2                       Four Rooms   1995-12-09       98    4000000   \n",
       "3                     Jackie Brown   1997-12-25      154   12000000   \n",
       "4                Kill Bill: Vol. 1   2003-10-10      111   30000000   \n",
       "5                Kill Bill: Vol. 2   2004-04-16      136   30000000   \n",
       "6                      Death Proof   2007-05-22      113   25000000   \n",
       "7             Inglourious Basterds   2009-08-19      153   70000000   \n",
       "8                 Django Unchained   2012-12-25      165  100000000   \n",
       "9                The Hateful Eight   2015-12-25      188   44000000   \n",
       "10  Once Upon a Time… in Hollywood   2019-07-24      162   95000000   \n",
       "\n",
       "    adj_budget    revenue  adj_revenue  popularity  vote_count  vote_average  \n",
       "0      2540721    2859750      6054857      31.693       12747         8.141  \n",
       "1     16019812  214179088    428888606      61.063       24794         8.489  \n",
       "2      7795960    4257354      8297541      20.826        2327         5.742  \n",
       "3     22256912   39673162     73583508      18.849        5604         7.352  \n",
       "4     48514054  180906076    292549571      37.189       15561         7.971  \n",
       "5     47739893  152159461    242135882      22.264       12433         7.878  \n",
       "6     35966751   31126421     44780649      23.568        4449         6.819  \n",
       "7     97027808  321457747    445576295      64.328       19904         8.212  \n",
       "8    130299955  425368238    554254623      47.713       23782         8.161  \n",
       "9     55653651  155760117    197014075      25.322       12815         7.742  \n",
       "10   110773041  374251247    436388935      47.244       11571         7.434  "
      ]
     },
     "metadata": {},
     "output_type": "display_data"
    }
   ],
   "source": [
    "display(movie_df)"
   ]
  },
  {
   "attachments": {},
   "cell_type": "markdown",
   "id": "9d55cf2c",
   "metadata": {},
   "source": [
    "We can already see a wide variety of values for almost every column, let's examine some statistical information about each of them."
   ]
  },
  {
   "cell_type": "code",
   "execution_count": 68,
   "id": "dd55ec48",
   "metadata": {},
   "outputs": [
    {
     "data": {
      "text/html": [
       "<div>\n",
       "<style scoped>\n",
       "    .dataframe tbody tr th:only-of-type {\n",
       "        vertical-align: middle;\n",
       "    }\n",
       "\n",
       "    .dataframe tbody tr th {\n",
       "        vertical-align: top;\n",
       "    }\n",
       "\n",
       "    .dataframe thead th {\n",
       "        text-align: right;\n",
       "    }\n",
       "</style>\n",
       "<table border=\"1\" class=\"dataframe\">\n",
       "  <thead>\n",
       "    <tr style=\"text-align: right;\">\n",
       "      <th></th>\n",
       "      <th>runtime</th>\n",
       "      <th>budget</th>\n",
       "      <th>adj_budget</th>\n",
       "      <th>revenue</th>\n",
       "      <th>adj_revenue</th>\n",
       "      <th>popularity</th>\n",
       "      <th>vote_count</th>\n",
       "      <th>vote_average</th>\n",
       "    </tr>\n",
       "  </thead>\n",
       "  <tbody>\n",
       "    <tr>\n",
       "      <th>count</th>\n",
       "      <td>11.000000</td>\n",
       "      <td>1.100000e+01</td>\n",
       "      <td>1.100000e+01</td>\n",
       "      <td>1.100000e+01</td>\n",
       "      <td>1.100000e+01</td>\n",
       "      <td>11.000000</td>\n",
       "      <td>11.000000</td>\n",
       "      <td>11.00000</td>\n",
       "    </tr>\n",
       "    <tr>\n",
       "      <th>mean</th>\n",
       "      <td>139.363636</td>\n",
       "      <td>3.810909e+07</td>\n",
       "      <td>5.223532e+07</td>\n",
       "      <td>1.729090e+08</td>\n",
       "      <td>2.481386e+08</td>\n",
       "      <td>36.369000</td>\n",
       "      <td>13271.545455</td>\n",
       "      <td>7.63100</td>\n",
       "    </tr>\n",
       "    <tr>\n",
       "      <th>std</th>\n",
       "      <td>30.000909</td>\n",
       "      <td>3.540637e+07</td>\n",
       "      <td>4.300256e+07</td>\n",
       "      <td>1.496820e+08</td>\n",
       "      <td>1.983360e+08</td>\n",
       "      <td>16.414557</td>\n",
       "      <td>7436.113909</td>\n",
       "      <td>0.78409</td>\n",
       "    </tr>\n",
       "    <tr>\n",
       "      <th>min</th>\n",
       "      <td>98.000000</td>\n",
       "      <td>1.200000e+06</td>\n",
       "      <td>2.540721e+06</td>\n",
       "      <td>2.859750e+06</td>\n",
       "      <td>6.054857e+06</td>\n",
       "      <td>18.849000</td>\n",
       "      <td>2327.000000</td>\n",
       "      <td>5.74200</td>\n",
       "    </tr>\n",
       "    <tr>\n",
       "      <th>25%</th>\n",
       "      <td>112.000000</td>\n",
       "      <td>1.000000e+07</td>\n",
       "      <td>1.913836e+07</td>\n",
       "      <td>3.539979e+07</td>\n",
       "      <td>5.918208e+07</td>\n",
       "      <td>22.916000</td>\n",
       "      <td>8587.500000</td>\n",
       "      <td>7.39300</td>\n",
       "    </tr>\n",
       "    <tr>\n",
       "      <th>50%</th>\n",
       "      <td>153.000000</td>\n",
       "      <td>3.000000e+07</td>\n",
       "      <td>4.773989e+07</td>\n",
       "      <td>1.557601e+08</td>\n",
       "      <td>2.421359e+08</td>\n",
       "      <td>31.693000</td>\n",
       "      <td>12747.000000</td>\n",
       "      <td>7.87800</td>\n",
       "    </tr>\n",
       "    <tr>\n",
       "      <th>75%</th>\n",
       "      <td>158.000000</td>\n",
       "      <td>5.700000e+07</td>\n",
       "      <td>7.634073e+07</td>\n",
       "      <td>2.678184e+08</td>\n",
       "      <td>4.326388e+08</td>\n",
       "      <td>47.478500</td>\n",
       "      <td>17732.500000</td>\n",
       "      <td>8.15100</td>\n",
       "    </tr>\n",
       "    <tr>\n",
       "      <th>max</th>\n",
       "      <td>188.000000</td>\n",
       "      <td>1.000000e+08</td>\n",
       "      <td>1.303000e+08</td>\n",
       "      <td>4.253682e+08</td>\n",
       "      <td>5.542546e+08</td>\n",
       "      <td>64.328000</td>\n",
       "      <td>24794.000000</td>\n",
       "      <td>8.48900</td>\n",
       "    </tr>\n",
       "  </tbody>\n",
       "</table>\n",
       "</div>"
      ],
      "text/plain": [
       "          runtime        budget    adj_budget       revenue   adj_revenue  \\\n",
       "count   11.000000  1.100000e+01  1.100000e+01  1.100000e+01  1.100000e+01   \n",
       "mean   139.363636  3.810909e+07  5.223532e+07  1.729090e+08  2.481386e+08   \n",
       "std     30.000909  3.540637e+07  4.300256e+07  1.496820e+08  1.983360e+08   \n",
       "min     98.000000  1.200000e+06  2.540721e+06  2.859750e+06  6.054857e+06   \n",
       "25%    112.000000  1.000000e+07  1.913836e+07  3.539979e+07  5.918208e+07   \n",
       "50%    153.000000  3.000000e+07  4.773989e+07  1.557601e+08  2.421359e+08   \n",
       "75%    158.000000  5.700000e+07  7.634073e+07  2.678184e+08  4.326388e+08   \n",
       "max    188.000000  1.000000e+08  1.303000e+08  4.253682e+08  5.542546e+08   \n",
       "\n",
       "       popularity    vote_count  vote_average  \n",
       "count   11.000000     11.000000      11.00000  \n",
       "mean    36.369000  13271.545455       7.63100  \n",
       "std     16.414557   7436.113909       0.78409  \n",
       "min     18.849000   2327.000000       5.74200  \n",
       "25%     22.916000   8587.500000       7.39300  \n",
       "50%     31.693000  12747.000000       7.87800  \n",
       "75%     47.478500  17732.500000       8.15100  \n",
       "max     64.328000  24794.000000       8.48900  "
      ]
     },
     "metadata": {},
     "output_type": "display_data"
    }
   ],
   "source": [
    "display(movie_df.describe())"
   ]
  },
  {
   "attachments": {},
   "cell_type": "markdown",
   "id": "b4776d45",
   "metadata": {},
   "source": [
    "With these statistics we can make some early observations:\n",
    "* Tarantino's films are generally profitable, with the mean adjusted revenue a whole order of magnitude above the mean adjusted budget.\n",
    "* Most of the standard deviations are high, showing the Tarantino works with a wide range of budgets and his films range in popularity and vote count on TMDB.\n",
    "* The one column with a low standard deviation is the vote average, showing that, with a mean vote average of 7.6, Tarantino's film consistently score fairly well with TMDB users.\n",
    "\n",
    "While statistics will give us information about individual columns, we are also interested in how the columns relate to each other. Let's make a pairplot, where each of the columns is plotted against each other. We will leave out unadjusted budget and revenue since they do not correlate will with the other measures based on more recent activity."
   ]
  },
  {
   "cell_type": "code",
   "execution_count": 69,
   "id": "b42ce875",
   "metadata": {},
   "outputs": [
    {
     "data": {
      "application/vnd.plotly.v1+json": {
       "config": {
        "plotlyServerURL": "https://plot.ly"
       },
       "data": [
        {
         "dimensions": [
          {
           "axis": {
            "matches": true
           },
           "label": "runtime",
           "values": [
            99,
            154,
            98,
            154,
            111,
            136,
            113,
            153,
            165,
            188,
            162
           ]
          },
          {
           "axis": {
            "matches": true
           },
           "label": "adj_budget",
           "values": [
            2540721,
            16019812,
            7795960,
            22256912,
            48514054,
            47739893,
            35966751,
            97027808,
            130299955,
            55653651,
            110773041
           ]
          },
          {
           "axis": {
            "matches": true
           },
           "label": "adj_revenue",
           "values": [
            6054857,
            428888606,
            8297541,
            73583508,
            292549571,
            242135882,
            44780649,
            445576295,
            554254623,
            197014075,
            436388935
           ]
          },
          {
           "axis": {
            "matches": true
           },
           "label": "popularity",
           "values": [
            31.693,
            61.063,
            20.826,
            18.849,
            37.189,
            22.264,
            23.568,
            64.328,
            47.713,
            25.322,
            47.244
           ]
          },
          {
           "axis": {
            "matches": true
           },
           "label": "vote_count",
           "values": [
            12747,
            24794,
            2327,
            5604,
            15561,
            12433,
            4449,
            19904,
            23782,
            12815,
            11571
           ]
          },
          {
           "axis": {
            "matches": true
           },
           "label": "vote_average",
           "values": [
            8.141,
            8.489,
            5.742,
            7.352,
            7.971,
            7.878,
            6.819,
            8.212,
            8.161,
            7.742,
            7.434
           ]
          }
         ],
         "hovertemplate": "%{xaxis.title.text}=%{x}<br>%{yaxis.title.text}=%{y}<extra></extra>",
         "legendgroup": "",
         "marker": {
          "color": "#636efa",
          "symbol": "circle"
         },
         "name": "",
         "showlegend": false,
         "type": "splom"
        }
       ],
       "layout": {
        "dragmode": "select",
        "height": 700,
        "legend": {
         "tracegroupgap": 0
        },
        "margin": {
         "b": 25,
         "l": 25,
         "r": 25,
         "t": 25
        },
        "template": {
         "data": {
          "bar": [
           {
            "error_x": {
             "color": "#2a3f5f"
            },
            "error_y": {
             "color": "#2a3f5f"
            },
            "marker": {
             "line": {
              "color": "#E5ECF6",
              "width": 0.5
             },
             "pattern": {
              "fillmode": "overlay",
              "size": 10,
              "solidity": 0.2
             }
            },
            "type": "bar"
           }
          ],
          "barpolar": [
           {
            "marker": {
             "line": {
              "color": "#E5ECF6",
              "width": 0.5
             },
             "pattern": {
              "fillmode": "overlay",
              "size": 10,
              "solidity": 0.2
             }
            },
            "type": "barpolar"
           }
          ],
          "carpet": [
           {
            "aaxis": {
             "endlinecolor": "#2a3f5f",
             "gridcolor": "white",
             "linecolor": "white",
             "minorgridcolor": "white",
             "startlinecolor": "#2a3f5f"
            },
            "baxis": {
             "endlinecolor": "#2a3f5f",
             "gridcolor": "white",
             "linecolor": "white",
             "minorgridcolor": "white",
             "startlinecolor": "#2a3f5f"
            },
            "type": "carpet"
           }
          ],
          "choropleth": [
           {
            "colorbar": {
             "outlinewidth": 0,
             "ticks": ""
            },
            "type": "choropleth"
           }
          ],
          "contour": [
           {
            "colorbar": {
             "outlinewidth": 0,
             "ticks": ""
            },
            "colorscale": [
             [
              0,
              "#0d0887"
             ],
             [
              0.1111111111111111,
              "#46039f"
             ],
             [
              0.2222222222222222,
              "#7201a8"
             ],
             [
              0.3333333333333333,
              "#9c179e"
             ],
             [
              0.4444444444444444,
              "#bd3786"
             ],
             [
              0.5555555555555556,
              "#d8576b"
             ],
             [
              0.6666666666666666,
              "#ed7953"
             ],
             [
              0.7777777777777778,
              "#fb9f3a"
             ],
             [
              0.8888888888888888,
              "#fdca26"
             ],
             [
              1,
              "#f0f921"
             ]
            ],
            "type": "contour"
           }
          ],
          "contourcarpet": [
           {
            "colorbar": {
             "outlinewidth": 0,
             "ticks": ""
            },
            "type": "contourcarpet"
           }
          ],
          "heatmap": [
           {
            "colorbar": {
             "outlinewidth": 0,
             "ticks": ""
            },
            "colorscale": [
             [
              0,
              "#0d0887"
             ],
             [
              0.1111111111111111,
              "#46039f"
             ],
             [
              0.2222222222222222,
              "#7201a8"
             ],
             [
              0.3333333333333333,
              "#9c179e"
             ],
             [
              0.4444444444444444,
              "#bd3786"
             ],
             [
              0.5555555555555556,
              "#d8576b"
             ],
             [
              0.6666666666666666,
              "#ed7953"
             ],
             [
              0.7777777777777778,
              "#fb9f3a"
             ],
             [
              0.8888888888888888,
              "#fdca26"
             ],
             [
              1,
              "#f0f921"
             ]
            ],
            "type": "heatmap"
           }
          ],
          "heatmapgl": [
           {
            "colorbar": {
             "outlinewidth": 0,
             "ticks": ""
            },
            "colorscale": [
             [
              0,
              "#0d0887"
             ],
             [
              0.1111111111111111,
              "#46039f"
             ],
             [
              0.2222222222222222,
              "#7201a8"
             ],
             [
              0.3333333333333333,
              "#9c179e"
             ],
             [
              0.4444444444444444,
              "#bd3786"
             ],
             [
              0.5555555555555556,
              "#d8576b"
             ],
             [
              0.6666666666666666,
              "#ed7953"
             ],
             [
              0.7777777777777778,
              "#fb9f3a"
             ],
             [
              0.8888888888888888,
              "#fdca26"
             ],
             [
              1,
              "#f0f921"
             ]
            ],
            "type": "heatmapgl"
           }
          ],
          "histogram": [
           {
            "marker": {
             "pattern": {
              "fillmode": "overlay",
              "size": 10,
              "solidity": 0.2
             }
            },
            "type": "histogram"
           }
          ],
          "histogram2d": [
           {
            "colorbar": {
             "outlinewidth": 0,
             "ticks": ""
            },
            "colorscale": [
             [
              0,
              "#0d0887"
             ],
             [
              0.1111111111111111,
              "#46039f"
             ],
             [
              0.2222222222222222,
              "#7201a8"
             ],
             [
              0.3333333333333333,
              "#9c179e"
             ],
             [
              0.4444444444444444,
              "#bd3786"
             ],
             [
              0.5555555555555556,
              "#d8576b"
             ],
             [
              0.6666666666666666,
              "#ed7953"
             ],
             [
              0.7777777777777778,
              "#fb9f3a"
             ],
             [
              0.8888888888888888,
              "#fdca26"
             ],
             [
              1,
              "#f0f921"
             ]
            ],
            "type": "histogram2d"
           }
          ],
          "histogram2dcontour": [
           {
            "colorbar": {
             "outlinewidth": 0,
             "ticks": ""
            },
            "colorscale": [
             [
              0,
              "#0d0887"
             ],
             [
              0.1111111111111111,
              "#46039f"
             ],
             [
              0.2222222222222222,
              "#7201a8"
             ],
             [
              0.3333333333333333,
              "#9c179e"
             ],
             [
              0.4444444444444444,
              "#bd3786"
             ],
             [
              0.5555555555555556,
              "#d8576b"
             ],
             [
              0.6666666666666666,
              "#ed7953"
             ],
             [
              0.7777777777777778,
              "#fb9f3a"
             ],
             [
              0.8888888888888888,
              "#fdca26"
             ],
             [
              1,
              "#f0f921"
             ]
            ],
            "type": "histogram2dcontour"
           }
          ],
          "mesh3d": [
           {
            "colorbar": {
             "outlinewidth": 0,
             "ticks": ""
            },
            "type": "mesh3d"
           }
          ],
          "parcoords": [
           {
            "line": {
             "colorbar": {
              "outlinewidth": 0,
              "ticks": ""
             }
            },
            "type": "parcoords"
           }
          ],
          "pie": [
           {
            "automargin": true,
            "type": "pie"
           }
          ],
          "scatter": [
           {
            "fillpattern": {
             "fillmode": "overlay",
             "size": 10,
             "solidity": 0.2
            },
            "type": "scatter"
           }
          ],
          "scatter3d": [
           {
            "line": {
             "colorbar": {
              "outlinewidth": 0,
              "ticks": ""
             }
            },
            "marker": {
             "colorbar": {
              "outlinewidth": 0,
              "ticks": ""
             }
            },
            "type": "scatter3d"
           }
          ],
          "scattercarpet": [
           {
            "marker": {
             "colorbar": {
              "outlinewidth": 0,
              "ticks": ""
             }
            },
            "type": "scattercarpet"
           }
          ],
          "scattergeo": [
           {
            "marker": {
             "colorbar": {
              "outlinewidth": 0,
              "ticks": ""
             }
            },
            "type": "scattergeo"
           }
          ],
          "scattergl": [
           {
            "marker": {
             "colorbar": {
              "outlinewidth": 0,
              "ticks": ""
             }
            },
            "type": "scattergl"
           }
          ],
          "scattermapbox": [
           {
            "marker": {
             "colorbar": {
              "outlinewidth": 0,
              "ticks": ""
             }
            },
            "type": "scattermapbox"
           }
          ],
          "scatterpolar": [
           {
            "marker": {
             "colorbar": {
              "outlinewidth": 0,
              "ticks": ""
             }
            },
            "type": "scatterpolar"
           }
          ],
          "scatterpolargl": [
           {
            "marker": {
             "colorbar": {
              "outlinewidth": 0,
              "ticks": ""
             }
            },
            "type": "scatterpolargl"
           }
          ],
          "scatterternary": [
           {
            "marker": {
             "colorbar": {
              "outlinewidth": 0,
              "ticks": ""
             }
            },
            "type": "scatterternary"
           }
          ],
          "surface": [
           {
            "colorbar": {
             "outlinewidth": 0,
             "ticks": ""
            },
            "colorscale": [
             [
              0,
              "#0d0887"
             ],
             [
              0.1111111111111111,
              "#46039f"
             ],
             [
              0.2222222222222222,
              "#7201a8"
             ],
             [
              0.3333333333333333,
              "#9c179e"
             ],
             [
              0.4444444444444444,
              "#bd3786"
             ],
             [
              0.5555555555555556,
              "#d8576b"
             ],
             [
              0.6666666666666666,
              "#ed7953"
             ],
             [
              0.7777777777777778,
              "#fb9f3a"
             ],
             [
              0.8888888888888888,
              "#fdca26"
             ],
             [
              1,
              "#f0f921"
             ]
            ],
            "type": "surface"
           }
          ],
          "table": [
           {
            "cells": {
             "fill": {
              "color": "#EBF0F8"
             },
             "line": {
              "color": "white"
             }
            },
            "header": {
             "fill": {
              "color": "#C8D4E3"
             },
             "line": {
              "color": "white"
             }
            },
            "type": "table"
           }
          ]
         },
         "layout": {
          "annotationdefaults": {
           "arrowcolor": "#2a3f5f",
           "arrowhead": 0,
           "arrowwidth": 1
          },
          "autotypenumbers": "strict",
          "coloraxis": {
           "colorbar": {
            "outlinewidth": 0,
            "ticks": ""
           }
          },
          "colorscale": {
           "diverging": [
            [
             0,
             "#8e0152"
            ],
            [
             0.1,
             "#c51b7d"
            ],
            [
             0.2,
             "#de77ae"
            ],
            [
             0.3,
             "#f1b6da"
            ],
            [
             0.4,
             "#fde0ef"
            ],
            [
             0.5,
             "#f7f7f7"
            ],
            [
             0.6,
             "#e6f5d0"
            ],
            [
             0.7,
             "#b8e186"
            ],
            [
             0.8,
             "#7fbc41"
            ],
            [
             0.9,
             "#4d9221"
            ],
            [
             1,
             "#276419"
            ]
           ],
           "sequential": [
            [
             0,
             "#0d0887"
            ],
            [
             0.1111111111111111,
             "#46039f"
            ],
            [
             0.2222222222222222,
             "#7201a8"
            ],
            [
             0.3333333333333333,
             "#9c179e"
            ],
            [
             0.4444444444444444,
             "#bd3786"
            ],
            [
             0.5555555555555556,
             "#d8576b"
            ],
            [
             0.6666666666666666,
             "#ed7953"
            ],
            [
             0.7777777777777778,
             "#fb9f3a"
            ],
            [
             0.8888888888888888,
             "#fdca26"
            ],
            [
             1,
             "#f0f921"
            ]
           ],
           "sequentialminus": [
            [
             0,
             "#0d0887"
            ],
            [
             0.1111111111111111,
             "#46039f"
            ],
            [
             0.2222222222222222,
             "#7201a8"
            ],
            [
             0.3333333333333333,
             "#9c179e"
            ],
            [
             0.4444444444444444,
             "#bd3786"
            ],
            [
             0.5555555555555556,
             "#d8576b"
            ],
            [
             0.6666666666666666,
             "#ed7953"
            ],
            [
             0.7777777777777778,
             "#fb9f3a"
            ],
            [
             0.8888888888888888,
             "#fdca26"
            ],
            [
             1,
             "#f0f921"
            ]
           ]
          },
          "colorway": [
           "#636efa",
           "#EF553B",
           "#00cc96",
           "#ab63fa",
           "#FFA15A",
           "#19d3f3",
           "#FF6692",
           "#B6E880",
           "#FF97FF",
           "#FECB52"
          ],
          "font": {
           "color": "#2a3f5f"
          },
          "geo": {
           "bgcolor": "white",
           "lakecolor": "white",
           "landcolor": "#E5ECF6",
           "showlakes": true,
           "showland": true,
           "subunitcolor": "white"
          },
          "hoverlabel": {
           "align": "left"
          },
          "hovermode": "closest",
          "mapbox": {
           "style": "light"
          },
          "paper_bgcolor": "white",
          "plot_bgcolor": "#E5ECF6",
          "polar": {
           "angularaxis": {
            "gridcolor": "white",
            "linecolor": "white",
            "ticks": ""
           },
           "bgcolor": "#E5ECF6",
           "radialaxis": {
            "gridcolor": "white",
            "linecolor": "white",
            "ticks": ""
           }
          },
          "scene": {
           "xaxis": {
            "backgroundcolor": "#E5ECF6",
            "gridcolor": "white",
            "gridwidth": 2,
            "linecolor": "white",
            "showbackground": true,
            "ticks": "",
            "zerolinecolor": "white"
           },
           "yaxis": {
            "backgroundcolor": "#E5ECF6",
            "gridcolor": "white",
            "gridwidth": 2,
            "linecolor": "white",
            "showbackground": true,
            "ticks": "",
            "zerolinecolor": "white"
           },
           "zaxis": {
            "backgroundcolor": "#E5ECF6",
            "gridcolor": "white",
            "gridwidth": 2,
            "linecolor": "white",
            "showbackground": true,
            "ticks": "",
            "zerolinecolor": "white"
           }
          },
          "shapedefaults": {
           "line": {
            "color": "#2a3f5f"
           }
          },
          "ternary": {
           "aaxis": {
            "gridcolor": "white",
            "linecolor": "white",
            "ticks": ""
           },
           "baxis": {
            "gridcolor": "white",
            "linecolor": "white",
            "ticks": ""
           },
           "bgcolor": "#E5ECF6",
           "caxis": {
            "gridcolor": "white",
            "linecolor": "white",
            "ticks": ""
           }
          },
          "title": {
           "x": 0.05
          },
          "xaxis": {
           "automargin": true,
           "gridcolor": "white",
           "linecolor": "white",
           "ticks": "",
           "title": {
            "standoff": 15
           },
           "zerolinecolor": "white",
           "zerolinewidth": 2
          },
          "yaxis": {
           "automargin": true,
           "gridcolor": "white",
           "linecolor": "white",
           "ticks": "",
           "title": {
            "standoff": 15
           },
           "zerolinecolor": "white",
           "zerolinewidth": 2
          }
         }
        },
        "width": 700
       }
      }
     },
     "metadata": {},
     "output_type": "display_data"
    }
   ],
   "source": [
    "fig = px.scatter_matrix(movie_df, dimensions=movie_df[['runtime', 'adj_budget', 'adj_revenue', 'popularity', 'vote_count', 'vote_average']],width=700, height=700)\n",
    "fig.update_layout(\n",
    "    margin={'l': 25, 'r': 25, 't': 25, 'b':25}\n",
    ")\n",
    "fig.show()"
   ]
  },
  {
   "attachments": {},
   "cell_type": "markdown",
   "id": "a36b214c",
   "metadata": {},
   "source": [
    "These plots reveal some more interesting observations:\n",
    "* There seems to be some relationship between adjusted revenue and almost every other column.\n",
    "* Runtime does not seem to have a relationship with any other column.\n",
    "* There seems to be a close, non-linear relationship between vote count and vote average.\n",
    "* Popularity is perhaps less closely related to vote count and vote average than expected."
   ]
  },
  {
   "attachments": {},
   "cell_type": "markdown",
   "id": "f98db03c",
   "metadata": {},
   "source": [
    "In addition to the numeric data, there is also genre data for each film. A histogram can be used to examine the genres that Tarantino favors."
   ]
  },
  {
   "cell_type": "code",
   "execution_count": 72,
   "id": "300ef988",
   "metadata": {},
   "outputs": [
    {
     "data": {
      "text/html": [
       "<div>\n",
       "<style scoped>\n",
       "    .dataframe tbody tr th:only-of-type {\n",
       "        vertical-align: middle;\n",
       "    }\n",
       "\n",
       "    .dataframe tbody tr th {\n",
       "        vertical-align: top;\n",
       "    }\n",
       "\n",
       "    .dataframe thead th {\n",
       "        text-align: right;\n",
       "    }\n",
       "</style>\n",
       "<table border=\"1\" class=\"dataframe\">\n",
       "  <thead>\n",
       "    <tr style=\"text-align: right;\">\n",
       "      <th></th>\n",
       "      <th>title</th>\n",
       "      <th>genre</th>\n",
       "    </tr>\n",
       "  </thead>\n",
       "  <tbody>\n",
       "    <tr>\n",
       "      <th>count</th>\n",
       "      <td>27</td>\n",
       "      <td>27</td>\n",
       "    </tr>\n",
       "    <tr>\n",
       "      <th>unique</th>\n",
       "      <td>11</td>\n",
       "      <td>8</td>\n",
       "    </tr>\n",
       "    <tr>\n",
       "      <th>top</th>\n",
       "      <td>Jackie Brown</td>\n",
       "      <td>Thriller</td>\n",
       "    </tr>\n",
       "    <tr>\n",
       "      <th>freq</th>\n",
       "      <td>3</td>\n",
       "      <td>7</td>\n",
       "    </tr>\n",
       "  </tbody>\n",
       "</table>\n",
       "</div>"
      ],
      "text/plain": [
       "               title     genre\n",
       "count             27        27\n",
       "unique            11         8\n",
       "top     Jackie Brown  Thriller\n",
       "freq               3         7"
      ]
     },
     "metadata": {},
     "output_type": "display_data"
    },
    {
     "data": {
      "application/vnd.plotly.v1+json": {
       "config": {
        "plotlyServerURL": "https://plot.ly"
       },
       "data": [
        {
         "alignmentgroup": "True",
         "bingroup": "x",
         "hovertemplate": "genre=%{x}<br>count=%{y}<extra></extra>",
         "legendgroup": "",
         "marker": {
          "color": "#636efa",
          "pattern": {
           "shape": ""
          }
         },
         "name": "",
         "offsetgroup": "",
         "orientation": "v",
         "showlegend": false,
         "type": "histogram",
         "x": [
          "Crime",
          "Thriller",
          "Thriller",
          "Crime",
          "Crime",
          "Comedy",
          "Crime",
          "Thriller",
          "Drama",
          "Action",
          "Crime",
          "Action",
          "Crime",
          "Thriller",
          "Action",
          "Thriller",
          "Drama",
          "Thriller",
          "War",
          "Drama",
          "Western",
          "Drama",
          "Mystery",
          "Western",
          "Comedy",
          "Drama",
          "Thriller"
         ],
         "xaxis": "x",
         "yaxis": "y"
        }
       ],
       "layout": {
        "barmode": "relative",
        "height": 400,
        "legend": {
         "tracegroupgap": 0
        },
        "margin": {
         "b": 25,
         "l": 25,
         "r": 25,
         "t": 25
        },
        "template": {
         "data": {
          "bar": [
           {
            "error_x": {
             "color": "#2a3f5f"
            },
            "error_y": {
             "color": "#2a3f5f"
            },
            "marker": {
             "line": {
              "color": "#E5ECF6",
              "width": 0.5
             },
             "pattern": {
              "fillmode": "overlay",
              "size": 10,
              "solidity": 0.2
             }
            },
            "type": "bar"
           }
          ],
          "barpolar": [
           {
            "marker": {
             "line": {
              "color": "#E5ECF6",
              "width": 0.5
             },
             "pattern": {
              "fillmode": "overlay",
              "size": 10,
              "solidity": 0.2
             }
            },
            "type": "barpolar"
           }
          ],
          "carpet": [
           {
            "aaxis": {
             "endlinecolor": "#2a3f5f",
             "gridcolor": "white",
             "linecolor": "white",
             "minorgridcolor": "white",
             "startlinecolor": "#2a3f5f"
            },
            "baxis": {
             "endlinecolor": "#2a3f5f",
             "gridcolor": "white",
             "linecolor": "white",
             "minorgridcolor": "white",
             "startlinecolor": "#2a3f5f"
            },
            "type": "carpet"
           }
          ],
          "choropleth": [
           {
            "colorbar": {
             "outlinewidth": 0,
             "ticks": ""
            },
            "type": "choropleth"
           }
          ],
          "contour": [
           {
            "colorbar": {
             "outlinewidth": 0,
             "ticks": ""
            },
            "colorscale": [
             [
              0,
              "#0d0887"
             ],
             [
              0.1111111111111111,
              "#46039f"
             ],
             [
              0.2222222222222222,
              "#7201a8"
             ],
             [
              0.3333333333333333,
              "#9c179e"
             ],
             [
              0.4444444444444444,
              "#bd3786"
             ],
             [
              0.5555555555555556,
              "#d8576b"
             ],
             [
              0.6666666666666666,
              "#ed7953"
             ],
             [
              0.7777777777777778,
              "#fb9f3a"
             ],
             [
              0.8888888888888888,
              "#fdca26"
             ],
             [
              1,
              "#f0f921"
             ]
            ],
            "type": "contour"
           }
          ],
          "contourcarpet": [
           {
            "colorbar": {
             "outlinewidth": 0,
             "ticks": ""
            },
            "type": "contourcarpet"
           }
          ],
          "heatmap": [
           {
            "colorbar": {
             "outlinewidth": 0,
             "ticks": ""
            },
            "colorscale": [
             [
              0,
              "#0d0887"
             ],
             [
              0.1111111111111111,
              "#46039f"
             ],
             [
              0.2222222222222222,
              "#7201a8"
             ],
             [
              0.3333333333333333,
              "#9c179e"
             ],
             [
              0.4444444444444444,
              "#bd3786"
             ],
             [
              0.5555555555555556,
              "#d8576b"
             ],
             [
              0.6666666666666666,
              "#ed7953"
             ],
             [
              0.7777777777777778,
              "#fb9f3a"
             ],
             [
              0.8888888888888888,
              "#fdca26"
             ],
             [
              1,
              "#f0f921"
             ]
            ],
            "type": "heatmap"
           }
          ],
          "heatmapgl": [
           {
            "colorbar": {
             "outlinewidth": 0,
             "ticks": ""
            },
            "colorscale": [
             [
              0,
              "#0d0887"
             ],
             [
              0.1111111111111111,
              "#46039f"
             ],
             [
              0.2222222222222222,
              "#7201a8"
             ],
             [
              0.3333333333333333,
              "#9c179e"
             ],
             [
              0.4444444444444444,
              "#bd3786"
             ],
             [
              0.5555555555555556,
              "#d8576b"
             ],
             [
              0.6666666666666666,
              "#ed7953"
             ],
             [
              0.7777777777777778,
              "#fb9f3a"
             ],
             [
              0.8888888888888888,
              "#fdca26"
             ],
             [
              1,
              "#f0f921"
             ]
            ],
            "type": "heatmapgl"
           }
          ],
          "histogram": [
           {
            "marker": {
             "pattern": {
              "fillmode": "overlay",
              "size": 10,
              "solidity": 0.2
             }
            },
            "type": "histogram"
           }
          ],
          "histogram2d": [
           {
            "colorbar": {
             "outlinewidth": 0,
             "ticks": ""
            },
            "colorscale": [
             [
              0,
              "#0d0887"
             ],
             [
              0.1111111111111111,
              "#46039f"
             ],
             [
              0.2222222222222222,
              "#7201a8"
             ],
             [
              0.3333333333333333,
              "#9c179e"
             ],
             [
              0.4444444444444444,
              "#bd3786"
             ],
             [
              0.5555555555555556,
              "#d8576b"
             ],
             [
              0.6666666666666666,
              "#ed7953"
             ],
             [
              0.7777777777777778,
              "#fb9f3a"
             ],
             [
              0.8888888888888888,
              "#fdca26"
             ],
             [
              1,
              "#f0f921"
             ]
            ],
            "type": "histogram2d"
           }
          ],
          "histogram2dcontour": [
           {
            "colorbar": {
             "outlinewidth": 0,
             "ticks": ""
            },
            "colorscale": [
             [
              0,
              "#0d0887"
             ],
             [
              0.1111111111111111,
              "#46039f"
             ],
             [
              0.2222222222222222,
              "#7201a8"
             ],
             [
              0.3333333333333333,
              "#9c179e"
             ],
             [
              0.4444444444444444,
              "#bd3786"
             ],
             [
              0.5555555555555556,
              "#d8576b"
             ],
             [
              0.6666666666666666,
              "#ed7953"
             ],
             [
              0.7777777777777778,
              "#fb9f3a"
             ],
             [
              0.8888888888888888,
              "#fdca26"
             ],
             [
              1,
              "#f0f921"
             ]
            ],
            "type": "histogram2dcontour"
           }
          ],
          "mesh3d": [
           {
            "colorbar": {
             "outlinewidth": 0,
             "ticks": ""
            },
            "type": "mesh3d"
           }
          ],
          "parcoords": [
           {
            "line": {
             "colorbar": {
              "outlinewidth": 0,
              "ticks": ""
             }
            },
            "type": "parcoords"
           }
          ],
          "pie": [
           {
            "automargin": true,
            "type": "pie"
           }
          ],
          "scatter": [
           {
            "fillpattern": {
             "fillmode": "overlay",
             "size": 10,
             "solidity": 0.2
            },
            "type": "scatter"
           }
          ],
          "scatter3d": [
           {
            "line": {
             "colorbar": {
              "outlinewidth": 0,
              "ticks": ""
             }
            },
            "marker": {
             "colorbar": {
              "outlinewidth": 0,
              "ticks": ""
             }
            },
            "type": "scatter3d"
           }
          ],
          "scattercarpet": [
           {
            "marker": {
             "colorbar": {
              "outlinewidth": 0,
              "ticks": ""
             }
            },
            "type": "scattercarpet"
           }
          ],
          "scattergeo": [
           {
            "marker": {
             "colorbar": {
              "outlinewidth": 0,
              "ticks": ""
             }
            },
            "type": "scattergeo"
           }
          ],
          "scattergl": [
           {
            "marker": {
             "colorbar": {
              "outlinewidth": 0,
              "ticks": ""
             }
            },
            "type": "scattergl"
           }
          ],
          "scattermapbox": [
           {
            "marker": {
             "colorbar": {
              "outlinewidth": 0,
              "ticks": ""
             }
            },
            "type": "scattermapbox"
           }
          ],
          "scatterpolar": [
           {
            "marker": {
             "colorbar": {
              "outlinewidth": 0,
              "ticks": ""
             }
            },
            "type": "scatterpolar"
           }
          ],
          "scatterpolargl": [
           {
            "marker": {
             "colorbar": {
              "outlinewidth": 0,
              "ticks": ""
             }
            },
            "type": "scatterpolargl"
           }
          ],
          "scatterternary": [
           {
            "marker": {
             "colorbar": {
              "outlinewidth": 0,
              "ticks": ""
             }
            },
            "type": "scatterternary"
           }
          ],
          "surface": [
           {
            "colorbar": {
             "outlinewidth": 0,
             "ticks": ""
            },
            "colorscale": [
             [
              0,
              "#0d0887"
             ],
             [
              0.1111111111111111,
              "#46039f"
             ],
             [
              0.2222222222222222,
              "#7201a8"
             ],
             [
              0.3333333333333333,
              "#9c179e"
             ],
             [
              0.4444444444444444,
              "#bd3786"
             ],
             [
              0.5555555555555556,
              "#d8576b"
             ],
             [
              0.6666666666666666,
              "#ed7953"
             ],
             [
              0.7777777777777778,
              "#fb9f3a"
             ],
             [
              0.8888888888888888,
              "#fdca26"
             ],
             [
              1,
              "#f0f921"
             ]
            ],
            "type": "surface"
           }
          ],
          "table": [
           {
            "cells": {
             "fill": {
              "color": "#EBF0F8"
             },
             "line": {
              "color": "white"
             }
            },
            "header": {
             "fill": {
              "color": "#C8D4E3"
             },
             "line": {
              "color": "white"
             }
            },
            "type": "table"
           }
          ]
         },
         "layout": {
          "annotationdefaults": {
           "arrowcolor": "#2a3f5f",
           "arrowhead": 0,
           "arrowwidth": 1
          },
          "autotypenumbers": "strict",
          "coloraxis": {
           "colorbar": {
            "outlinewidth": 0,
            "ticks": ""
           }
          },
          "colorscale": {
           "diverging": [
            [
             0,
             "#8e0152"
            ],
            [
             0.1,
             "#c51b7d"
            ],
            [
             0.2,
             "#de77ae"
            ],
            [
             0.3,
             "#f1b6da"
            ],
            [
             0.4,
             "#fde0ef"
            ],
            [
             0.5,
             "#f7f7f7"
            ],
            [
             0.6,
             "#e6f5d0"
            ],
            [
             0.7,
             "#b8e186"
            ],
            [
             0.8,
             "#7fbc41"
            ],
            [
             0.9,
             "#4d9221"
            ],
            [
             1,
             "#276419"
            ]
           ],
           "sequential": [
            [
             0,
             "#0d0887"
            ],
            [
             0.1111111111111111,
             "#46039f"
            ],
            [
             0.2222222222222222,
             "#7201a8"
            ],
            [
             0.3333333333333333,
             "#9c179e"
            ],
            [
             0.4444444444444444,
             "#bd3786"
            ],
            [
             0.5555555555555556,
             "#d8576b"
            ],
            [
             0.6666666666666666,
             "#ed7953"
            ],
            [
             0.7777777777777778,
             "#fb9f3a"
            ],
            [
             0.8888888888888888,
             "#fdca26"
            ],
            [
             1,
             "#f0f921"
            ]
           ],
           "sequentialminus": [
            [
             0,
             "#0d0887"
            ],
            [
             0.1111111111111111,
             "#46039f"
            ],
            [
             0.2222222222222222,
             "#7201a8"
            ],
            [
             0.3333333333333333,
             "#9c179e"
            ],
            [
             0.4444444444444444,
             "#bd3786"
            ],
            [
             0.5555555555555556,
             "#d8576b"
            ],
            [
             0.6666666666666666,
             "#ed7953"
            ],
            [
             0.7777777777777778,
             "#fb9f3a"
            ],
            [
             0.8888888888888888,
             "#fdca26"
            ],
            [
             1,
             "#f0f921"
            ]
           ]
          },
          "colorway": [
           "#636efa",
           "#EF553B",
           "#00cc96",
           "#ab63fa",
           "#FFA15A",
           "#19d3f3",
           "#FF6692",
           "#B6E880",
           "#FF97FF",
           "#FECB52"
          ],
          "font": {
           "color": "#2a3f5f"
          },
          "geo": {
           "bgcolor": "white",
           "lakecolor": "white",
           "landcolor": "#E5ECF6",
           "showlakes": true,
           "showland": true,
           "subunitcolor": "white"
          },
          "hoverlabel": {
           "align": "left"
          },
          "hovermode": "closest",
          "mapbox": {
           "style": "light"
          },
          "paper_bgcolor": "white",
          "plot_bgcolor": "#E5ECF6",
          "polar": {
           "angularaxis": {
            "gridcolor": "white",
            "linecolor": "white",
            "ticks": ""
           },
           "bgcolor": "#E5ECF6",
           "radialaxis": {
            "gridcolor": "white",
            "linecolor": "white",
            "ticks": ""
           }
          },
          "scene": {
           "xaxis": {
            "backgroundcolor": "#E5ECF6",
            "gridcolor": "white",
            "gridwidth": 2,
            "linecolor": "white",
            "showbackground": true,
            "ticks": "",
            "zerolinecolor": "white"
           },
           "yaxis": {
            "backgroundcolor": "#E5ECF6",
            "gridcolor": "white",
            "gridwidth": 2,
            "linecolor": "white",
            "showbackground": true,
            "ticks": "",
            "zerolinecolor": "white"
           },
           "zaxis": {
            "backgroundcolor": "#E5ECF6",
            "gridcolor": "white",
            "gridwidth": 2,
            "linecolor": "white",
            "showbackground": true,
            "ticks": "",
            "zerolinecolor": "white"
           }
          },
          "shapedefaults": {
           "line": {
            "color": "#2a3f5f"
           }
          },
          "ternary": {
           "aaxis": {
            "gridcolor": "white",
            "linecolor": "white",
            "ticks": ""
           },
           "baxis": {
            "gridcolor": "white",
            "linecolor": "white",
            "ticks": ""
           },
           "bgcolor": "#E5ECF6",
           "caxis": {
            "gridcolor": "white",
            "linecolor": "white",
            "ticks": ""
           }
          },
          "title": {
           "x": 0.05
          },
          "xaxis": {
           "automargin": true,
           "gridcolor": "white",
           "linecolor": "white",
           "ticks": "",
           "title": {
            "standoff": 15
           },
           "zerolinecolor": "white",
           "zerolinewidth": 2
          },
          "yaxis": {
           "automargin": true,
           "gridcolor": "white",
           "linecolor": "white",
           "ticks": "",
           "title": {
            "standoff": 15
           },
           "zerolinecolor": "white",
           "zerolinewidth": 2
          }
         }
        },
        "width": 600,
        "xaxis": {
         "anchor": "y",
         "domain": [
          0,
          1
         ],
         "title": {
          "text": "genre"
         }
        },
        "yaxis": {
         "anchor": "x",
         "domain": [
          0,
          1
         ],
         "title": {
          "text": "count"
         }
        }
       }
      }
     },
     "metadata": {},
     "output_type": "display_data"
    }
   ],
   "source": [
    "display(genre_df.describe())\n",
    "\n",
    "fig = px.histogram(genre_df, x=genre_df['genre'], height=400, width=600)\n",
    "fig.update_layout(\n",
    "    margin={'l': 25, 'r': 25, 't': 25, 'b':25}\n",
    ")\n",
    "fig.show()"
   ]
  },
  {
   "attachments": {},
   "cell_type": "markdown",
   "id": "4041ac5c",
   "metadata": {},
   "source": [
    "No surprises here. For anyone familiar with Tarantino's work \"Crime Thriller\" was likely to be top of the list of expected genres."
   ]
  },
  {
   "attachments": {},
   "cell_type": "markdown",
   "id": "bb32be95",
   "metadata": {},
   "source": [
    "Perhaps less obvious may be the production companies involved in Tarantino's films."
   ]
  },
  {
   "cell_type": "code",
   "execution_count": 73,
   "id": "12a62448",
   "metadata": {},
   "outputs": [
    {
     "data": {
      "text/html": [
       "<div>\n",
       "<style scoped>\n",
       "    .dataframe tbody tr th:only-of-type {\n",
       "        vertical-align: middle;\n",
       "    }\n",
       "\n",
       "    .dataframe tbody tr th {\n",
       "        vertical-align: top;\n",
       "    }\n",
       "\n",
       "    .dataframe thead th {\n",
       "        text-align: right;\n",
       "    }\n",
       "</style>\n",
       "<table border=\"1\" class=\"dataframe\">\n",
       "  <thead>\n",
       "    <tr style=\"text-align: right;\">\n",
       "      <th></th>\n",
       "      <th>title</th>\n",
       "      <th>company</th>\n",
       "    </tr>\n",
       "  </thead>\n",
       "  <tbody>\n",
       "    <tr>\n",
       "      <th>count</th>\n",
       "      <td>34</td>\n",
       "      <td>34</td>\n",
       "    </tr>\n",
       "    <tr>\n",
       "      <th>unique</th>\n",
       "      <td>11</td>\n",
       "      <td>20</td>\n",
       "    </tr>\n",
       "    <tr>\n",
       "      <th>top</th>\n",
       "      <td>Inglourious Basterds</td>\n",
       "      <td>A Band Apart</td>\n",
       "    </tr>\n",
       "    <tr>\n",
       "      <th>freq</th>\n",
       "      <td>6</td>\n",
       "      <td>6</td>\n",
       "    </tr>\n",
       "  </tbody>\n",
       "</table>\n",
       "</div>"
      ],
      "text/plain": [
       "                       title       company\n",
       "count                     34            34\n",
       "unique                    11            20\n",
       "top     Inglourious Basterds  A Band Apart\n",
       "freq                       6             6"
      ]
     },
     "metadata": {},
     "output_type": "display_data"
    },
    {
     "data": {
      "application/vnd.plotly.v1+json": {
       "config": {
        "plotlyServerURL": "https://plot.ly"
       },
       "data": [
        {
         "alignmentgroup": "True",
         "bingroup": "x",
         "hovertemplate": "company=%{x}<br>count=%{y}<extra></extra>",
         "legendgroup": "",
         "marker": {
          "color": "#636efa",
          "pattern": {
           "shape": ""
          }
         },
         "name": "",
         "offsetgroup": "",
         "orientation": "v",
         "showlegend": false,
         "type": "histogram",
         "x": [
          "Live Entertainment",
          "Dog Eat Dog Productions",
          "Miramax",
          "A Band Apart",
          "Jersey Films",
          "Miramax",
          "A Band Apart",
          "Miramax",
          "A Band Apart",
          "Lawrence Bender Productions",
          "Mighty Mighty Afrodite Productions",
          "Miramax",
          "A Band Apart",
          "Super Cool ManChu",
          "Super Cool ManChu",
          "Miramax",
          "A Band Apart",
          "Troublemaker Studios",
          "The Weinstein Company",
          "Dimension Films",
          "The Weinstein Company",
          "Universal Pictures",
          "A Band Apart",
          "Zehnte Babelsberg Film",
          "Visiona Romantica",
          "Peninsula Films",
          "The Weinstein Company",
          "Columbia Pictures",
          "The Weinstein Company",
          "Double Feature Films",
          "FilmColony",
          "Heyday Films",
          "Columbia Pictures",
          "Bona Film Group"
         ],
         "xaxis": "x",
         "yaxis": "y"
        }
       ],
       "layout": {
        "barmode": "relative",
        "height": 700,
        "legend": {
         "tracegroupgap": 0
        },
        "margin": {
         "b": 25,
         "l": 25,
         "r": 25,
         "t": 25
        },
        "template": {
         "data": {
          "bar": [
           {
            "error_x": {
             "color": "#2a3f5f"
            },
            "error_y": {
             "color": "#2a3f5f"
            },
            "marker": {
             "line": {
              "color": "#E5ECF6",
              "width": 0.5
             },
             "pattern": {
              "fillmode": "overlay",
              "size": 10,
              "solidity": 0.2
             }
            },
            "type": "bar"
           }
          ],
          "barpolar": [
           {
            "marker": {
             "line": {
              "color": "#E5ECF6",
              "width": 0.5
             },
             "pattern": {
              "fillmode": "overlay",
              "size": 10,
              "solidity": 0.2
             }
            },
            "type": "barpolar"
           }
          ],
          "carpet": [
           {
            "aaxis": {
             "endlinecolor": "#2a3f5f",
             "gridcolor": "white",
             "linecolor": "white",
             "minorgridcolor": "white",
             "startlinecolor": "#2a3f5f"
            },
            "baxis": {
             "endlinecolor": "#2a3f5f",
             "gridcolor": "white",
             "linecolor": "white",
             "minorgridcolor": "white",
             "startlinecolor": "#2a3f5f"
            },
            "type": "carpet"
           }
          ],
          "choropleth": [
           {
            "colorbar": {
             "outlinewidth": 0,
             "ticks": ""
            },
            "type": "choropleth"
           }
          ],
          "contour": [
           {
            "colorbar": {
             "outlinewidth": 0,
             "ticks": ""
            },
            "colorscale": [
             [
              0,
              "#0d0887"
             ],
             [
              0.1111111111111111,
              "#46039f"
             ],
             [
              0.2222222222222222,
              "#7201a8"
             ],
             [
              0.3333333333333333,
              "#9c179e"
             ],
             [
              0.4444444444444444,
              "#bd3786"
             ],
             [
              0.5555555555555556,
              "#d8576b"
             ],
             [
              0.6666666666666666,
              "#ed7953"
             ],
             [
              0.7777777777777778,
              "#fb9f3a"
             ],
             [
              0.8888888888888888,
              "#fdca26"
             ],
             [
              1,
              "#f0f921"
             ]
            ],
            "type": "contour"
           }
          ],
          "contourcarpet": [
           {
            "colorbar": {
             "outlinewidth": 0,
             "ticks": ""
            },
            "type": "contourcarpet"
           }
          ],
          "heatmap": [
           {
            "colorbar": {
             "outlinewidth": 0,
             "ticks": ""
            },
            "colorscale": [
             [
              0,
              "#0d0887"
             ],
             [
              0.1111111111111111,
              "#46039f"
             ],
             [
              0.2222222222222222,
              "#7201a8"
             ],
             [
              0.3333333333333333,
              "#9c179e"
             ],
             [
              0.4444444444444444,
              "#bd3786"
             ],
             [
              0.5555555555555556,
              "#d8576b"
             ],
             [
              0.6666666666666666,
              "#ed7953"
             ],
             [
              0.7777777777777778,
              "#fb9f3a"
             ],
             [
              0.8888888888888888,
              "#fdca26"
             ],
             [
              1,
              "#f0f921"
             ]
            ],
            "type": "heatmap"
           }
          ],
          "heatmapgl": [
           {
            "colorbar": {
             "outlinewidth": 0,
             "ticks": ""
            },
            "colorscale": [
             [
              0,
              "#0d0887"
             ],
             [
              0.1111111111111111,
              "#46039f"
             ],
             [
              0.2222222222222222,
              "#7201a8"
             ],
             [
              0.3333333333333333,
              "#9c179e"
             ],
             [
              0.4444444444444444,
              "#bd3786"
             ],
             [
              0.5555555555555556,
              "#d8576b"
             ],
             [
              0.6666666666666666,
              "#ed7953"
             ],
             [
              0.7777777777777778,
              "#fb9f3a"
             ],
             [
              0.8888888888888888,
              "#fdca26"
             ],
             [
              1,
              "#f0f921"
             ]
            ],
            "type": "heatmapgl"
           }
          ],
          "histogram": [
           {
            "marker": {
             "pattern": {
              "fillmode": "overlay",
              "size": 10,
              "solidity": 0.2
             }
            },
            "type": "histogram"
           }
          ],
          "histogram2d": [
           {
            "colorbar": {
             "outlinewidth": 0,
             "ticks": ""
            },
            "colorscale": [
             [
              0,
              "#0d0887"
             ],
             [
              0.1111111111111111,
              "#46039f"
             ],
             [
              0.2222222222222222,
              "#7201a8"
             ],
             [
              0.3333333333333333,
              "#9c179e"
             ],
             [
              0.4444444444444444,
              "#bd3786"
             ],
             [
              0.5555555555555556,
              "#d8576b"
             ],
             [
              0.6666666666666666,
              "#ed7953"
             ],
             [
              0.7777777777777778,
              "#fb9f3a"
             ],
             [
              0.8888888888888888,
              "#fdca26"
             ],
             [
              1,
              "#f0f921"
             ]
            ],
            "type": "histogram2d"
           }
          ],
          "histogram2dcontour": [
           {
            "colorbar": {
             "outlinewidth": 0,
             "ticks": ""
            },
            "colorscale": [
             [
              0,
              "#0d0887"
             ],
             [
              0.1111111111111111,
              "#46039f"
             ],
             [
              0.2222222222222222,
              "#7201a8"
             ],
             [
              0.3333333333333333,
              "#9c179e"
             ],
             [
              0.4444444444444444,
              "#bd3786"
             ],
             [
              0.5555555555555556,
              "#d8576b"
             ],
             [
              0.6666666666666666,
              "#ed7953"
             ],
             [
              0.7777777777777778,
              "#fb9f3a"
             ],
             [
              0.8888888888888888,
              "#fdca26"
             ],
             [
              1,
              "#f0f921"
             ]
            ],
            "type": "histogram2dcontour"
           }
          ],
          "mesh3d": [
           {
            "colorbar": {
             "outlinewidth": 0,
             "ticks": ""
            },
            "type": "mesh3d"
           }
          ],
          "parcoords": [
           {
            "line": {
             "colorbar": {
              "outlinewidth": 0,
              "ticks": ""
             }
            },
            "type": "parcoords"
           }
          ],
          "pie": [
           {
            "automargin": true,
            "type": "pie"
           }
          ],
          "scatter": [
           {
            "fillpattern": {
             "fillmode": "overlay",
             "size": 10,
             "solidity": 0.2
            },
            "type": "scatter"
           }
          ],
          "scatter3d": [
           {
            "line": {
             "colorbar": {
              "outlinewidth": 0,
              "ticks": ""
             }
            },
            "marker": {
             "colorbar": {
              "outlinewidth": 0,
              "ticks": ""
             }
            },
            "type": "scatter3d"
           }
          ],
          "scattercarpet": [
           {
            "marker": {
             "colorbar": {
              "outlinewidth": 0,
              "ticks": ""
             }
            },
            "type": "scattercarpet"
           }
          ],
          "scattergeo": [
           {
            "marker": {
             "colorbar": {
              "outlinewidth": 0,
              "ticks": ""
             }
            },
            "type": "scattergeo"
           }
          ],
          "scattergl": [
           {
            "marker": {
             "colorbar": {
              "outlinewidth": 0,
              "ticks": ""
             }
            },
            "type": "scattergl"
           }
          ],
          "scattermapbox": [
           {
            "marker": {
             "colorbar": {
              "outlinewidth": 0,
              "ticks": ""
             }
            },
            "type": "scattermapbox"
           }
          ],
          "scatterpolar": [
           {
            "marker": {
             "colorbar": {
              "outlinewidth": 0,
              "ticks": ""
             }
            },
            "type": "scatterpolar"
           }
          ],
          "scatterpolargl": [
           {
            "marker": {
             "colorbar": {
              "outlinewidth": 0,
              "ticks": ""
             }
            },
            "type": "scatterpolargl"
           }
          ],
          "scatterternary": [
           {
            "marker": {
             "colorbar": {
              "outlinewidth": 0,
              "ticks": ""
             }
            },
            "type": "scatterternary"
           }
          ],
          "surface": [
           {
            "colorbar": {
             "outlinewidth": 0,
             "ticks": ""
            },
            "colorscale": [
             [
              0,
              "#0d0887"
             ],
             [
              0.1111111111111111,
              "#46039f"
             ],
             [
              0.2222222222222222,
              "#7201a8"
             ],
             [
              0.3333333333333333,
              "#9c179e"
             ],
             [
              0.4444444444444444,
              "#bd3786"
             ],
             [
              0.5555555555555556,
              "#d8576b"
             ],
             [
              0.6666666666666666,
              "#ed7953"
             ],
             [
              0.7777777777777778,
              "#fb9f3a"
             ],
             [
              0.8888888888888888,
              "#fdca26"
             ],
             [
              1,
              "#f0f921"
             ]
            ],
            "type": "surface"
           }
          ],
          "table": [
           {
            "cells": {
             "fill": {
              "color": "#EBF0F8"
             },
             "line": {
              "color": "white"
             }
            },
            "header": {
             "fill": {
              "color": "#C8D4E3"
             },
             "line": {
              "color": "white"
             }
            },
            "type": "table"
           }
          ]
         },
         "layout": {
          "annotationdefaults": {
           "arrowcolor": "#2a3f5f",
           "arrowhead": 0,
           "arrowwidth": 1
          },
          "autotypenumbers": "strict",
          "coloraxis": {
           "colorbar": {
            "outlinewidth": 0,
            "ticks": ""
           }
          },
          "colorscale": {
           "diverging": [
            [
             0,
             "#8e0152"
            ],
            [
             0.1,
             "#c51b7d"
            ],
            [
             0.2,
             "#de77ae"
            ],
            [
             0.3,
             "#f1b6da"
            ],
            [
             0.4,
             "#fde0ef"
            ],
            [
             0.5,
             "#f7f7f7"
            ],
            [
             0.6,
             "#e6f5d0"
            ],
            [
             0.7,
             "#b8e186"
            ],
            [
             0.8,
             "#7fbc41"
            ],
            [
             0.9,
             "#4d9221"
            ],
            [
             1,
             "#276419"
            ]
           ],
           "sequential": [
            [
             0,
             "#0d0887"
            ],
            [
             0.1111111111111111,
             "#46039f"
            ],
            [
             0.2222222222222222,
             "#7201a8"
            ],
            [
             0.3333333333333333,
             "#9c179e"
            ],
            [
             0.4444444444444444,
             "#bd3786"
            ],
            [
             0.5555555555555556,
             "#d8576b"
            ],
            [
             0.6666666666666666,
             "#ed7953"
            ],
            [
             0.7777777777777778,
             "#fb9f3a"
            ],
            [
             0.8888888888888888,
             "#fdca26"
            ],
            [
             1,
             "#f0f921"
            ]
           ],
           "sequentialminus": [
            [
             0,
             "#0d0887"
            ],
            [
             0.1111111111111111,
             "#46039f"
            ],
            [
             0.2222222222222222,
             "#7201a8"
            ],
            [
             0.3333333333333333,
             "#9c179e"
            ],
            [
             0.4444444444444444,
             "#bd3786"
            ],
            [
             0.5555555555555556,
             "#d8576b"
            ],
            [
             0.6666666666666666,
             "#ed7953"
            ],
            [
             0.7777777777777778,
             "#fb9f3a"
            ],
            [
             0.8888888888888888,
             "#fdca26"
            ],
            [
             1,
             "#f0f921"
            ]
           ]
          },
          "colorway": [
           "#636efa",
           "#EF553B",
           "#00cc96",
           "#ab63fa",
           "#FFA15A",
           "#19d3f3",
           "#FF6692",
           "#B6E880",
           "#FF97FF",
           "#FECB52"
          ],
          "font": {
           "color": "#2a3f5f"
          },
          "geo": {
           "bgcolor": "white",
           "lakecolor": "white",
           "landcolor": "#E5ECF6",
           "showlakes": true,
           "showland": true,
           "subunitcolor": "white"
          },
          "hoverlabel": {
           "align": "left"
          },
          "hovermode": "closest",
          "mapbox": {
           "style": "light"
          },
          "paper_bgcolor": "white",
          "plot_bgcolor": "#E5ECF6",
          "polar": {
           "angularaxis": {
            "gridcolor": "white",
            "linecolor": "white",
            "ticks": ""
           },
           "bgcolor": "#E5ECF6",
           "radialaxis": {
            "gridcolor": "white",
            "linecolor": "white",
            "ticks": ""
           }
          },
          "scene": {
           "xaxis": {
            "backgroundcolor": "#E5ECF6",
            "gridcolor": "white",
            "gridwidth": 2,
            "linecolor": "white",
            "showbackground": true,
            "ticks": "",
            "zerolinecolor": "white"
           },
           "yaxis": {
            "backgroundcolor": "#E5ECF6",
            "gridcolor": "white",
            "gridwidth": 2,
            "linecolor": "white",
            "showbackground": true,
            "ticks": "",
            "zerolinecolor": "white"
           },
           "zaxis": {
            "backgroundcolor": "#E5ECF6",
            "gridcolor": "white",
            "gridwidth": 2,
            "linecolor": "white",
            "showbackground": true,
            "ticks": "",
            "zerolinecolor": "white"
           }
          },
          "shapedefaults": {
           "line": {
            "color": "#2a3f5f"
           }
          },
          "ternary": {
           "aaxis": {
            "gridcolor": "white",
            "linecolor": "white",
            "ticks": ""
           },
           "baxis": {
            "gridcolor": "white",
            "linecolor": "white",
            "ticks": ""
           },
           "bgcolor": "#E5ECF6",
           "caxis": {
            "gridcolor": "white",
            "linecolor": "white",
            "ticks": ""
           }
          },
          "title": {
           "x": 0.05
          },
          "xaxis": {
           "automargin": true,
           "gridcolor": "white",
           "linecolor": "white",
           "ticks": "",
           "title": {
            "standoff": 15
           },
           "zerolinecolor": "white",
           "zerolinewidth": 2
          },
          "yaxis": {
           "automargin": true,
           "gridcolor": "white",
           "linecolor": "white",
           "ticks": "",
           "title": {
            "standoff": 15
           },
           "zerolinecolor": "white",
           "zerolinewidth": 2
          }
         }
        },
        "width": 800,
        "xaxis": {
         "anchor": "y",
         "domain": [
          0,
          1
         ],
         "title": {
          "text": "company"
         }
        },
        "yaxis": {
         "anchor": "x",
         "domain": [
          0,
          1
         ],
         "title": {
          "text": "count"
         }
        }
       }
      }
     },
     "metadata": {},
     "output_type": "display_data"
    }
   ],
   "source": [
    "display(prod_company_df.describe())\n",
    "\n",
    "fig = px.histogram(prod_company_df, x=prod_company_df['company'], height=700, width=800)\n",
    "fig.update_layout(\n",
    "    margin={'l': 25, 'r': 25, 't': 25, 'b':25}\n",
    ")\n",
    "fig.show()"
   ]
  },
  {
   "attachments": {},
   "cell_type": "markdown",
   "id": "799395da",
   "metadata": {},
   "source": [
    "We can see that most of the production companies Tarantino works with only contribute to a single film, however there are a few that he has worked with repeatedly. It may be worth investigating which films they worked on and what Tarantino's relationship is to those companies."
   ]
  },
  {
   "attachments": {},
   "cell_type": "markdown",
   "id": "eba5f963",
   "metadata": {},
   "source": [
    "### People Data\n",
    "\n",
    "Next we'll examine the people behind the films. We have data for both actors/actresses and crew members.\n",
    "\n",
    "Let's start with cast."
   ]
  },
  {
   "cell_type": "code",
   "execution_count": 74,
   "id": "9eee02c0",
   "metadata": {},
   "outputs": [
    {
     "data": {
      "text/html": [
       "<div>\n",
       "<style scoped>\n",
       "    .dataframe tbody tr th:only-of-type {\n",
       "        vertical-align: middle;\n",
       "    }\n",
       "\n",
       "    .dataframe tbody tr th {\n",
       "        vertical-align: top;\n",
       "    }\n",
       "\n",
       "    .dataframe thead th {\n",
       "        text-align: right;\n",
       "    }\n",
       "</style>\n",
       "<table border=\"1\" class=\"dataframe\">\n",
       "  <thead>\n",
       "    <tr style=\"text-align: right;\">\n",
       "      <th></th>\n",
       "      <th>title</th>\n",
       "      <th>person</th>\n",
       "      <th>character</th>\n",
       "    </tr>\n",
       "  </thead>\n",
       "  <tbody>\n",
       "    <tr>\n",
       "      <th>count</th>\n",
       "      <td>550</td>\n",
       "      <td>550</td>\n",
       "      <td>550</td>\n",
       "    </tr>\n",
       "    <tr>\n",
       "      <th>unique</th>\n",
       "      <td>11</td>\n",
       "      <td>445</td>\n",
       "      <td>498</td>\n",
       "    </tr>\n",
       "    <tr>\n",
       "      <th>top</th>\n",
       "      <td>Django Unchained</td>\n",
       "      <td>Quentin Tarantino</td>\n",
       "      <td>Crazy 88</td>\n",
       "    </tr>\n",
       "    <tr>\n",
       "      <th>freq</th>\n",
       "      <td>112</td>\n",
       "      <td>9</td>\n",
       "      <td>7</td>\n",
       "    </tr>\n",
       "  </tbody>\n",
       "</table>\n",
       "</div>"
      ],
      "text/plain": [
       "                   title             person character\n",
       "count                550                550       550\n",
       "unique                11                445       498\n",
       "top     Django Unchained  Quentin Tarantino  Crazy 88\n",
       "freq                 112                  9         7"
      ]
     },
     "metadata": {},
     "output_type": "display_data"
    }
   ],
   "source": [
    "display(cast_df.describe())"
   ]
  },
  {
   "attachments": {},
   "cell_type": "markdown",
   "id": "55a72263",
   "metadata": {},
   "source": [
    "There are 550 total characters in Tarantino's 11 films with *Django Unchained* boasting 112 of them. Interestingly the most common actor in Tarantinos films is Tarantino himself, boasting a total of 9 roles across the 11 films.  \n",
    "\n",
    "Next up, crew."
   ]
  },
  {
   "cell_type": "code",
   "execution_count": 75,
   "id": "8a957a16",
   "metadata": {},
   "outputs": [
    {
     "data": {
      "text/html": [
       "<div>\n",
       "<style scoped>\n",
       "    .dataframe tbody tr th:only-of-type {\n",
       "        vertical-align: middle;\n",
       "    }\n",
       "\n",
       "    .dataframe tbody tr th {\n",
       "        vertical-align: top;\n",
       "    }\n",
       "\n",
       "    .dataframe thead th {\n",
       "        text-align: right;\n",
       "    }\n",
       "</style>\n",
       "<table border=\"1\" class=\"dataframe\">\n",
       "  <thead>\n",
       "    <tr style=\"text-align: right;\">\n",
       "      <th></th>\n",
       "      <th>title</th>\n",
       "      <th>person</th>\n",
       "      <th>job</th>\n",
       "    </tr>\n",
       "  </thead>\n",
       "  <tbody>\n",
       "    <tr>\n",
       "      <th>count</th>\n",
       "      <td>1572</td>\n",
       "      <td>1572</td>\n",
       "      <td>1572</td>\n",
       "    </tr>\n",
       "    <tr>\n",
       "      <th>unique</th>\n",
       "      <td>11</td>\n",
       "      <td>1113</td>\n",
       "      <td>281</td>\n",
       "    </tr>\n",
       "    <tr>\n",
       "      <th>top</th>\n",
       "      <td>Kill Bill: Vol. 1</td>\n",
       "      <td>Quentin Tarantino</td>\n",
       "      <td>Stunts</td>\n",
       "    </tr>\n",
       "    <tr>\n",
       "      <th>freq</th>\n",
       "      <td>220</td>\n",
       "      <td>34</td>\n",
       "      <td>45</td>\n",
       "    </tr>\n",
       "  </tbody>\n",
       "</table>\n",
       "</div>"
      ],
      "text/plain": [
       "                    title             person     job\n",
       "count                1572               1572    1572\n",
       "unique                 11               1113     281\n",
       "top     Kill Bill: Vol. 1  Quentin Tarantino  Stunts\n",
       "freq                  220                 34      45"
      ]
     },
     "metadata": {},
     "output_type": "display_data"
    }
   ],
   "source": [
    "display(crew_df.describe())"
   ]
  },
  {
   "attachments": {},
   "cell_type": "markdown",
   "id": "f8083fce",
   "metadata": {},
   "source": [
    "Less interesting is the fact that Tarantino has the most crew credits among his films, often performing both roles of writer and director. One interesting point is the fact that, of the 1572 total crew credits, over two thirds are unique individuals. This shows that most of the crew is not reused between films, but there may be some key crew members who worked on several films."
   ]
  },
  {
   "attachments": {},
   "cell_type": "markdown",
   "id": "50950d12",
   "metadata": {},
   "source": [
    "Lastly, we have information about the individual people who make up the cast and crew."
   ]
  },
  {
   "cell_type": "code",
   "execution_count": 79,
   "id": "309da748",
   "metadata": {},
   "outputs": [
    {
     "data": {
      "text/html": [
       "<div>\n",
       "<style scoped>\n",
       "    .dataframe tbody tr th:only-of-type {\n",
       "        vertical-align: middle;\n",
       "    }\n",
       "\n",
       "    .dataframe tbody tr th {\n",
       "        vertical-align: top;\n",
       "    }\n",
       "\n",
       "    .dataframe thead th {\n",
       "        text-align: right;\n",
       "    }\n",
       "</style>\n",
       "<table border=\"1\" class=\"dataframe\">\n",
       "  <thead>\n",
       "    <tr style=\"text-align: right;\">\n",
       "      <th></th>\n",
       "      <th>person</th>\n",
       "      <th>gender</th>\n",
       "      <th>popularity</th>\n",
       "    </tr>\n",
       "  </thead>\n",
       "  <tbody>\n",
       "    <tr>\n",
       "      <th>count</th>\n",
       "      <td>1655</td>\n",
       "      <td>1655</td>\n",
       "      <td>1655.000000</td>\n",
       "    </tr>\n",
       "    <tr>\n",
       "      <th>unique</th>\n",
       "      <td>1529</td>\n",
       "      <td>3</td>\n",
       "      <td>NaN</td>\n",
       "    </tr>\n",
       "    <tr>\n",
       "      <th>top</th>\n",
       "      <td>Greg Steele</td>\n",
       "      <td>NS</td>\n",
       "      <td>NaN</td>\n",
       "    </tr>\n",
       "    <tr>\n",
       "      <th>freq</th>\n",
       "      <td>3</td>\n",
       "      <td>734</td>\n",
       "      <td>NaN</td>\n",
       "    </tr>\n",
       "    <tr>\n",
       "      <th>mean</th>\n",
       "      <td>NaN</td>\n",
       "      <td>NaN</td>\n",
       "      <td>3.118512</td>\n",
       "    </tr>\n",
       "    <tr>\n",
       "      <th>std</th>\n",
       "      <td>NaN</td>\n",
       "      <td>NaN</td>\n",
       "      <td>8.220200</td>\n",
       "    </tr>\n",
       "    <tr>\n",
       "      <th>min</th>\n",
       "      <td>NaN</td>\n",
       "      <td>NaN</td>\n",
       "      <td>0.600000</td>\n",
       "    </tr>\n",
       "    <tr>\n",
       "      <th>25%</th>\n",
       "      <td>NaN</td>\n",
       "      <td>NaN</td>\n",
       "      <td>0.600000</td>\n",
       "    </tr>\n",
       "    <tr>\n",
       "      <th>50%</th>\n",
       "      <td>NaN</td>\n",
       "      <td>NaN</td>\n",
       "      <td>0.600000</td>\n",
       "    </tr>\n",
       "    <tr>\n",
       "      <th>75%</th>\n",
       "      <td>NaN</td>\n",
       "      <td>NaN</td>\n",
       "      <td>1.620500</td>\n",
       "    </tr>\n",
       "    <tr>\n",
       "      <th>max</th>\n",
       "      <td>NaN</td>\n",
       "      <td>NaN</td>\n",
       "      <td>175.273000</td>\n",
       "    </tr>\n",
       "  </tbody>\n",
       "</table>\n",
       "</div>"
      ],
      "text/plain": [
       "             person gender   popularity\n",
       "count          1655   1655  1655.000000\n",
       "unique         1529      3          NaN\n",
       "top     Greg Steele     NS          NaN\n",
       "freq              3    734          NaN\n",
       "mean            NaN    NaN     3.118512\n",
       "std             NaN    NaN     8.220200\n",
       "min             NaN    NaN     0.600000\n",
       "25%             NaN    NaN     0.600000\n",
       "50%             NaN    NaN     0.600000\n",
       "75%             NaN    NaN     1.620500\n",
       "max             NaN    NaN   175.273000"
      ]
     },
     "metadata": {},
     "output_type": "display_data"
    }
   ],
   "source": [
    "display(person_df.describe(include='all'))"
   ]
  },
  {
   "attachments": {},
   "cell_type": "markdown",
   "id": "9b58e8a1",
   "metadata": {},
   "source": [
    "Most interesting here is the popularity column. We can see that the vast majority of the people associated with Tarantino's films are not well known. This is not very surprising given the industries focus on celebrities, but with a maximum of 175, there are clearly some really large outliers.\n",
    "\n",
    "We can also see that there are some duplicates in the name column which could represent some discrepancy in the data, but it is also likely that it is simply due to the fact that people's names are not unique.\n",
    "\n",
    "Let's see who the most popular people are."
   ]
  },
  {
   "cell_type": "code",
   "execution_count": 84,
   "id": "adbbebb8",
   "metadata": {},
   "outputs": [
    {
     "data": {
      "text/html": [
       "<div>\n",
       "<style scoped>\n",
       "    .dataframe tbody tr th:only-of-type {\n",
       "        vertical-align: middle;\n",
       "    }\n",
       "\n",
       "    .dataframe tbody tr th {\n",
       "        vertical-align: top;\n",
       "    }\n",
       "\n",
       "    .dataframe thead th {\n",
       "        text-align: right;\n",
       "    }\n",
       "</style>\n",
       "<table border=\"1\" class=\"dataframe\">\n",
       "  <thead>\n",
       "    <tr style=\"text-align: right;\">\n",
       "      <th></th>\n",
       "      <th>person</th>\n",
       "      <th>gender</th>\n",
       "      <th>popularity</th>\n",
       "    </tr>\n",
       "  </thead>\n",
       "  <tbody>\n",
       "    <tr>\n",
       "      <th>1863</th>\n",
       "      <td>Sydney Sweeney</td>\n",
       "      <td>F</td>\n",
       "      <td>175.273</td>\n",
       "    </tr>\n",
       "    <tr>\n",
       "      <th>1844</th>\n",
       "      <td>Austin Butler</td>\n",
       "      <td>M</td>\n",
       "      <td>67.371</td>\n",
       "    </tr>\n",
       "    <tr>\n",
       "      <th>1837</th>\n",
       "      <td>Leonardo DiCaprio</td>\n",
       "      <td>M</td>\n",
       "      <td>63.787</td>\n",
       "    </tr>\n",
       "    <tr>\n",
       "      <th>1756</th>\n",
       "      <td>Channing Tatum</td>\n",
       "      <td>M</td>\n",
       "      <td>61.005</td>\n",
       "    </tr>\n",
       "    <tr>\n",
       "      <th>429</th>\n",
       "      <td>Robert De Niro</td>\n",
       "      <td>M</td>\n",
       "      <td>58.699</td>\n",
       "    </tr>\n",
       "    <tr>\n",
       "      <th>1522</th>\n",
       "      <td>Leonardo DiCaprio</td>\n",
       "      <td>M</td>\n",
       "      <td>57.956</td>\n",
       "    </tr>\n",
       "    <tr>\n",
       "      <th>1839</th>\n",
       "      <td>Margot Robbie</td>\n",
       "      <td>F</td>\n",
       "      <td>53.977</td>\n",
       "    </tr>\n",
       "    <tr>\n",
       "      <th>428</th>\n",
       "      <td>Samuel L. Jackson</td>\n",
       "      <td>M</td>\n",
       "      <td>53.443</td>\n",
       "    </tr>\n",
       "    <tr>\n",
       "      <th>1862</th>\n",
       "      <td>Victoria Pedretti</td>\n",
       "      <td>F</td>\n",
       "      <td>52.857</td>\n",
       "    </tr>\n",
       "    <tr>\n",
       "      <th>1850</th>\n",
       "      <td>Al Pacino</td>\n",
       "      <td>M</td>\n",
       "      <td>48.859</td>\n",
       "    </tr>\n",
       "  </tbody>\n",
       "</table>\n",
       "</div>"
      ],
      "text/plain": [
       "                 person gender  popularity\n",
       "1863     Sydney Sweeney      F     175.273\n",
       "1844      Austin Butler      M      67.371\n",
       "1837  Leonardo DiCaprio      M      63.787\n",
       "1756     Channing Tatum      M      61.005\n",
       "429      Robert De Niro      M      58.699\n",
       "1522  Leonardo DiCaprio      M      57.956\n",
       "1839      Margot Robbie      F      53.977\n",
       "428   Samuel L. Jackson      M      53.443\n",
       "1862  Victoria Pedretti      F      52.857\n",
       "1850          Al Pacino      M      48.859"
      ]
     },
     "metadata": {},
     "output_type": "display_data"
    }
   ],
   "source": [
    "display(person_df.sort_values('popularity', ascending=False).head(10))"
   ]
  },
  {
   "attachments": {},
   "cell_type": "markdown",
   "id": "26f07c79",
   "metadata": {},
   "source": [
    "Unsurprisingly, super celebrities make up the most popular entries on TMDB, with Sydney Sweeney from the most recent film, *Once Upon a Time... in Hollywood*, topping the chart."
   ]
  },
  {
   "attachments": {},
   "cell_type": "markdown",
   "id": "6a655983",
   "metadata": {},
   "source": [
    "Another point of interest may be the gender breakdown between people who work on Tarantino's films."
   ]
  },
  {
   "cell_type": "code",
   "execution_count": 85,
   "id": "5e38f523",
   "metadata": {},
   "outputs": [
    {
     "data": {
      "application/vnd.plotly.v1+json": {
       "config": {
        "plotlyServerURL": "https://plot.ly"
       },
       "data": [
        {
         "showlegend": false,
         "type": "histogram",
         "x": [
          "M",
          "M",
          "M",
          "M",
          "M",
          "M",
          "M",
          "M",
          "M",
          "M",
          "NS",
          "M",
          "NS",
          "NS",
          "M",
          "M",
          "M",
          "F",
          "NS",
          "M",
          "F",
          "NS",
          "M",
          "M",
          "NS",
          "M",
          "F",
          "M",
          "M",
          "M",
          "F",
          "M",
          "NS",
          "F",
          "F",
          "F",
          "M",
          "M",
          "M",
          "M",
          "F",
          "M",
          "F",
          "M",
          "NS",
          "M",
          "M",
          "F",
          "NS",
          "M",
          "NS",
          "NS",
          "NS",
          "M",
          "NS",
          "M",
          "M",
          "NS",
          "NS",
          "M",
          "F",
          "F",
          "NS",
          "NS",
          "M",
          "F",
          "NS",
          "M",
          "NS",
          "F",
          "NS",
          "NS",
          "NS",
          "NS",
          "NS",
          "NS",
          "NS",
          "NS",
          "NS",
          "NS",
          "NS",
          "NS",
          "NS",
          "NS",
          "NS",
          "NS",
          "NS",
          "NS",
          "NS",
          "NS",
          "NS",
          "NS",
          "NS",
          "NS",
          "NS",
          "NS",
          "NS",
          "NS",
          "F",
          "NS",
          "NS",
          "NS",
          "M",
          "M",
          "F",
          "M",
          "M",
          "M",
          "F",
          "F",
          "M",
          "F",
          "M",
          "M",
          "F",
          "M",
          "F",
          "F",
          "M",
          "M",
          "M",
          "M",
          "NS",
          "F",
          "NS",
          "M",
          "M",
          "F",
          "M",
          "F",
          "NS",
          "NS",
          "M",
          "NS",
          "F",
          "F",
          "F",
          "M",
          "F",
          "F",
          "F",
          "M",
          "F",
          "M",
          "NS",
          "F",
          "M",
          "F",
          "F",
          "M",
          "M",
          "M",
          "F",
          "M",
          "M",
          "F",
          "NS",
          "NS",
          "F",
          "M",
          "M",
          "M",
          "NS",
          "M",
          "M",
          "M",
          "M",
          "M",
          "F",
          "M",
          "F",
          "NS",
          "M",
          "F",
          "M",
          "M",
          "NS",
          "NS",
          "M",
          "M",
          "M",
          "NS",
          "NS",
          "M",
          "M",
          "NS",
          "NS",
          "NS",
          "NS",
          "NS",
          "F",
          "NS",
          "NS",
          "NS",
          "NS",
          "F",
          "NS",
          "M",
          "M",
          "F",
          "NS",
          "NS",
          "NS",
          "M",
          "NS",
          "NS",
          "F",
          "NS",
          "NS",
          "F",
          "NS",
          "NS",
          "NS",
          "NS",
          "NS",
          "M",
          "NS",
          "NS",
          "NS",
          "NS",
          "NS",
          "NS",
          "M",
          "NS",
          "NS",
          "NS",
          "NS",
          "M",
          "NS",
          "NS",
          "NS",
          "NS",
          "NS",
          "NS",
          "NS",
          "NS",
          "NS",
          "NS",
          "NS",
          "NS",
          "NS",
          "NS",
          "NS",
          "NS",
          "NS",
          "M",
          "F",
          "M",
          "F",
          "M",
          "F",
          "F",
          "F",
          "F",
          "F",
          "F",
          "F",
          "F",
          "M",
          "F",
          "F",
          "M",
          "M",
          "M",
          "F",
          "F",
          "M",
          "F",
          "M",
          "NS",
          "F",
          "M",
          "M",
          "NS",
          "M",
          "M",
          "M",
          "M",
          "M",
          "F",
          "F",
          "M",
          "M",
          "M",
          "NS",
          "M",
          "F",
          "NS",
          "F",
          "M",
          "F",
          "NS",
          "NS",
          "M",
          "M",
          "M",
          "M",
          "NS",
          "M",
          "F",
          "NS",
          "F",
          "F",
          "NS",
          "F",
          "NS",
          "NS",
          "F",
          "NS",
          "F",
          "M",
          "M",
          "NS",
          "F",
          "NS",
          "NS",
          "NS",
          "F",
          "NS",
          "NS",
          "NS",
          "NS",
          "NS",
          "NS",
          "NS",
          "NS",
          "M",
          "NS",
          "NS",
          "NS",
          "NS",
          "NS",
          "NS",
          "NS",
          "NS",
          "NS",
          "NS",
          "NS",
          "NS",
          "NS",
          "NS",
          "NS",
          "NS",
          "NS",
          "NS",
          "M",
          "NS",
          "F",
          "NS",
          "NS",
          "NS",
          "NS",
          "NS",
          "F",
          "NS",
          "NS",
          "NS",
          "NS",
          "NS",
          "F",
          "M",
          "M",
          "F",
          "M",
          "M",
          "M",
          "M",
          "F",
          "M",
          "F",
          "M",
          "F",
          "M",
          "F",
          "F",
          "NS",
          "NS",
          "F",
          "F",
          "F",
          "F",
          "F",
          "F",
          "NS",
          "F",
          "F",
          "NS",
          "M",
          "NS",
          "NS",
          "NS",
          "F",
          "F",
          "M",
          "M",
          "M",
          "F",
          "F",
          "F",
          "F",
          "F",
          "M",
          "M",
          "F",
          "M",
          "M",
          "NS",
          "M",
          "M",
          "M",
          "M",
          "F",
          "NS",
          "M",
          "F",
          "NS",
          "M",
          "M",
          "NS",
          "F",
          "NS",
          "M",
          "M",
          "M",
          "NS",
          "NS",
          "M",
          "M",
          "NS",
          "NS",
          "M",
          "M",
          "M",
          "NS",
          "M",
          "M",
          "M",
          "NS",
          "M",
          "M",
          "M",
          "NS",
          "NS",
          "NS",
          "M",
          "F",
          "NS",
          "M",
          "NS",
          "NS",
          "NS",
          "M",
          "M",
          "F",
          "M",
          "NS",
          "NS",
          "NS",
          "NS",
          "NS",
          "NS",
          "NS",
          "M",
          "M",
          "NS",
          "NS",
          "NS",
          "M",
          "M",
          "M",
          "M",
          "F",
          "NS",
          "NS",
          "NS",
          "M",
          "M",
          "M",
          "NS",
          "F",
          "NS",
          "NS",
          "NS",
          "NS",
          "NS",
          "NS",
          "NS",
          "NS",
          "NS",
          "NS",
          "M",
          "NS",
          "M",
          "NS",
          "NS",
          "NS",
          "M",
          "M",
          "M",
          "NS",
          "NS",
          "NS",
          "NS",
          "M",
          "NS",
          "NS",
          "NS",
          "NS",
          "NS",
          "M",
          "M",
          "M",
          "NS",
          "NS",
          "NS",
          "NS",
          "NS",
          "NS",
          "NS",
          "NS",
          "NS",
          "NS",
          "M",
          "NS",
          "NS",
          "NS",
          "NS",
          "NS",
          "NS",
          "NS",
          "NS",
          "NS",
          "NS",
          "M",
          "NS",
          "NS",
          "NS",
          "NS",
          "NS",
          "NS",
          "NS",
          "NS",
          "NS",
          "NS",
          "M",
          "NS",
          "NS",
          "NS",
          "NS",
          "NS",
          "M",
          "NS",
          "NS",
          "NS",
          "NS",
          "NS",
          "NS",
          "NS",
          "NS",
          "NS",
          "NS",
          "NS",
          "NS",
          "NS",
          "NS",
          "NS",
          "F",
          "F",
          "F",
          "M",
          "F",
          "F",
          "M",
          "M",
          "M",
          "M",
          "M",
          "M",
          "F",
          "M",
          "M",
          "M",
          "M",
          "M",
          "M",
          "M",
          "M",
          "F",
          "M",
          "M",
          "M",
          "M",
          "NS",
          "F",
          "F",
          "F",
          "F",
          "M",
          "M",
          "M",
          "M",
          "M",
          "F",
          "F",
          "M",
          "F",
          "M",
          "M",
          "M",
          "M",
          "NS",
          "F",
          "M",
          "NS",
          "NS",
          "M",
          "F",
          "M",
          "M",
          "F",
          "M",
          "F",
          "NS",
          "M",
          "M",
          "M",
          "F",
          "F",
          "NS",
          "F",
          "M",
          "NS",
          "M",
          "M",
          "M",
          "NS",
          "M",
          "NS",
          "NS",
          "NS",
          "NS",
          "NS",
          "NS",
          "M",
          "M",
          "NS",
          "NS",
          "M",
          "M",
          "NS",
          "NS",
          "M",
          "NS",
          "NS",
          "F",
          "M",
          "NS",
          "NS",
          "NS",
          "M",
          "M",
          "M",
          "M",
          "M",
          "NS",
          "M",
          "NS",
          "F",
          "M",
          "NS",
          "F",
          "NS",
          "NS",
          "NS",
          "M",
          "NS",
          "NS",
          "M",
          "NS",
          "M",
          "M",
          "M",
          "NS",
          "M",
          "M",
          "NS",
          "M",
          "M",
          "M",
          "M",
          "M",
          "NS",
          "M",
          "M",
          "M",
          "NS",
          "M",
          "NS",
          "NS",
          "M",
          "NS",
          "NS",
          "M",
          "NS",
          "M",
          "NS",
          "F",
          "M",
          "NS",
          "NS",
          "F",
          "NS",
          "NS",
          "NS",
          "NS",
          "F",
          "NS",
          "NS",
          "NS",
          "NS",
          "M",
          "M",
          "NS",
          "M",
          "NS",
          "NS",
          "NS",
          "NS",
          "NS",
          "NS",
          "NS",
          "NS",
          "NS",
          "NS",
          "M",
          "NS",
          "NS",
          "NS",
          "F",
          "NS",
          "NS",
          "NS",
          "NS",
          "NS",
          "NS",
          "NS",
          "M",
          "F",
          "M",
          "M",
          "F",
          "M",
          "M",
          "M",
          "NS",
          "NS",
          "NS",
          "NS",
          "NS",
          "M",
          "F",
          "NS",
          "NS",
          "F",
          "M",
          "NS",
          "M",
          "NS",
          "NS",
          "NS",
          "NS",
          "NS",
          "NS",
          "NS",
          "NS",
          "NS",
          "NS",
          "NS",
          "M",
          "NS",
          "NS",
          "NS",
          "NS",
          "NS",
          "NS",
          "NS",
          "NS",
          "NS",
          "F",
          "F",
          "M",
          "F",
          "M",
          "M",
          "M",
          "F",
          "M",
          "F",
          "F",
          "F",
          "M",
          "F",
          "F",
          "M",
          "M",
          "M",
          "M",
          "M",
          "F",
          "M",
          "M",
          "M",
          "F",
          "F",
          "M",
          "M",
          "M",
          "F",
          "F",
          "F",
          "F",
          "M",
          "M",
          "M",
          "M",
          "M",
          "M",
          "F",
          "F",
          "M",
          "F",
          "M",
          "M",
          "M",
          "NS",
          "NS",
          "M",
          "M",
          "F",
          "F",
          "M",
          "M",
          "NS",
          "M",
          "NS",
          "NS",
          "NS",
          "NS",
          "NS",
          "NS",
          "NS",
          "M",
          "NS",
          "NS",
          "M",
          "NS",
          "M",
          "M",
          "M",
          "NS",
          "NS",
          "M",
          "NS",
          "NS",
          "NS",
          "M",
          "M",
          "NS",
          "NS",
          "M",
          "M",
          "NS",
          "M",
          "NS",
          "NS",
          "NS",
          "M",
          "M",
          "M",
          "NS",
          "NS",
          "NS",
          "NS",
          "M",
          "NS",
          "NS",
          "NS",
          "NS",
          "NS",
          "NS",
          "NS",
          "NS",
          "NS",
          "M",
          "NS",
          "M",
          "NS",
          "NS",
          "NS",
          "NS",
          "NS",
          "NS",
          "NS",
          "NS",
          "NS",
          "F",
          "NS",
          "NS",
          "NS",
          "M",
          "F",
          "F",
          "F",
          "F",
          "F",
          "F",
          "F",
          "F",
          "M",
          "M",
          "M",
          "F",
          "F",
          "M",
          "F",
          "M",
          "F",
          "F",
          "F",
          "F",
          "F",
          "NS",
          "F",
          "F",
          "F",
          "F",
          "NS",
          "M",
          "F",
          "F",
          "F",
          "NS",
          "NS",
          "NS",
          "M",
          "NS",
          "M",
          "F",
          "M",
          "M",
          "NS",
          "M",
          "F",
          "F",
          "M",
          "M",
          "M",
          "NS",
          "NS",
          "F",
          "NS",
          "NS",
          "NS",
          "M",
          "F",
          "NS",
          "M",
          "NS",
          "NS",
          "NS",
          "NS",
          "M",
          "F",
          "NS",
          "NS",
          "NS",
          "NS",
          "M",
          "F",
          "NS",
          "NS",
          "NS",
          "NS",
          "NS",
          "NS",
          "NS",
          "F",
          "NS",
          "NS",
          "M",
          "NS",
          "NS",
          "NS",
          "NS",
          "NS",
          "NS",
          "NS",
          "NS",
          "F",
          "NS",
          "NS",
          "M",
          "F",
          "NS",
          "F",
          "NS",
          "F",
          "NS",
          "NS",
          "NS",
          "M",
          "NS",
          "M",
          "NS",
          "NS",
          "M",
          "NS",
          "NS",
          "NS",
          "F",
          "F",
          "NS",
          "NS",
          "M",
          "NS",
          "NS",
          "NS",
          "NS",
          "NS",
          "NS",
          "NS",
          "NS",
          "NS",
          "NS",
          "NS",
          "NS",
          "NS",
          "F",
          "NS",
          "NS",
          "NS",
          "F",
          "F",
          "NS",
          "NS",
          "NS",
          "NS",
          "NS",
          "NS",
          "NS",
          "NS",
          "NS",
          "NS",
          "NS",
          "NS",
          "NS",
          "NS",
          "NS",
          "NS",
          "NS",
          "NS",
          "NS",
          "NS",
          "NS",
          "NS",
          "NS",
          "NS",
          "NS",
          "NS",
          "NS",
          "NS",
          "NS",
          "NS",
          "NS",
          "NS",
          "NS",
          "NS",
          "NS",
          "NS",
          "M",
          "F",
          "M",
          "M",
          "M",
          "F",
          "M",
          "M",
          "M",
          "M",
          "M",
          "M",
          "M",
          "M",
          "M",
          "M",
          "M",
          "F",
          "M",
          "M",
          "M",
          "M",
          "M",
          "M",
          "M",
          "F",
          "M",
          "M",
          "M",
          "F",
          "F",
          "M",
          "F",
          "M",
          "M",
          "M",
          "M",
          "M",
          "M",
          "M",
          "M",
          "M",
          "M",
          "F",
          "M",
          "M",
          "M",
          "M",
          "M",
          "M",
          "NS",
          "M",
          "M",
          "M",
          "M",
          "F",
          "F",
          "F",
          "M",
          "M",
          "M",
          "M",
          "F",
          "F",
          "F",
          "M",
          "F",
          "M",
          "F",
          "F",
          "F",
          "M",
          "M",
          "NS",
          "M",
          "F",
          "M",
          "F",
          "NS",
          "M",
          "M",
          "M",
          "M",
          "M",
          "M",
          "NS",
          "M",
          "M",
          "F",
          "M",
          "M",
          "M",
          "F",
          "NS",
          "NS",
          "M",
          "M",
          "NS",
          "NS",
          "NS",
          "NS",
          "NS",
          "F",
          "NS",
          "M",
          "NS",
          "NS",
          "NS",
          "NS",
          "NS",
          "NS",
          "NS",
          "NS",
          "NS",
          "M",
          "NS",
          "NS",
          "F",
          "F",
          "M",
          "NS",
          "NS",
          "M",
          "M",
          "F",
          "M",
          "M",
          "M",
          "F",
          "F",
          "F",
          "M",
          "M",
          "M",
          "M",
          "F",
          "M",
          "M",
          "M",
          "M",
          "M",
          "F",
          "M",
          "M",
          "M",
          "M",
          "M",
          "M",
          "M",
          "M",
          "M",
          "M",
          "M",
          "M",
          "M",
          "M",
          "M",
          "F",
          "M",
          "F",
          "M",
          "F",
          "F",
          "F",
          "M",
          "M",
          "M",
          "M",
          "M",
          "M",
          "M",
          "M",
          "F",
          "M",
          "M",
          "M",
          "M",
          "M",
          "M",
          "M",
          "M",
          "M",
          "M",
          "M",
          "M",
          "M",
          "NS",
          "NS",
          "M",
          "NS",
          "M",
          "M",
          "F",
          "F",
          "F",
          "F",
          "F",
          "F",
          "F",
          "M",
          "M",
          "M",
          "M",
          "M",
          "M",
          "M",
          "F",
          "M",
          "M",
          "M",
          "M",
          "M",
          "F",
          "M",
          "NS",
          "F",
          "M",
          "F",
          "F",
          "M",
          "F",
          "M",
          "M",
          "M",
          "M",
          "M",
          "M",
          "F",
          "NS",
          "M",
          "F",
          "NS",
          "M",
          "F",
          "M",
          "M",
          "M",
          "M",
          "M",
          "F",
          "M",
          "F",
          "NS",
          "M",
          "M",
          "NS",
          "NS",
          "NS",
          "F",
          "NS",
          "NS",
          "NS",
          "NS",
          "M",
          "F",
          "F",
          "NS",
          "NS",
          "M",
          "F",
          "NS",
          "NS",
          "NS",
          "NS",
          "NS",
          "NS",
          "F",
          "NS",
          "F",
          "M",
          "F",
          "NS",
          "NS",
          "NS",
          "NS",
          "F",
          "NS",
          "NS",
          "M",
          "NS",
          "NS",
          "NS",
          "F",
          "NS",
          "NS",
          "NS",
          "F",
          "M",
          "M",
          "M",
          "M",
          "M",
          "F",
          "M",
          "F",
          "M",
          "NS",
          "NS",
          "F",
          "NS",
          "NS",
          "M",
          "NS",
          "NS",
          "F",
          "NS",
          "NS",
          "NS",
          "NS",
          "NS",
          "NS",
          "NS",
          "NS",
          "F",
          "M",
          "M",
          "F",
          "NS",
          "NS",
          "NS",
          "NS",
          "NS",
          "NS",
          "NS",
          "NS",
          "NS",
          "NS",
          "NS",
          "NS",
          "NS",
          "NS",
          "NS",
          "M",
          "NS",
          "NS",
          "M",
          "M",
          "F",
          "M",
          "F",
          "M",
          "F",
          "M",
          "F",
          "M",
          "M",
          "M",
          "M",
          "M",
          "M",
          "F",
          "M",
          "F",
          "M",
          "M",
          "F",
          "F",
          "F",
          "M",
          "F",
          "F",
          "F",
          "F",
          "F",
          "F",
          "NS",
          "F",
          "F",
          "F",
          "NS",
          "M",
          "M",
          "M",
          "M",
          "M",
          "F",
          "F",
          "F",
          "F",
          "F",
          "M",
          "M",
          "M",
          "F",
          "M",
          "F",
          "M",
          "M",
          "F",
          "F",
          "NS",
          "F",
          "M",
          "NS",
          "M",
          "NS",
          "F",
          "NS",
          "NS",
          "NS",
          "M",
          "M",
          "NS",
          "M",
          "NS",
          "NS",
          "M",
          "M",
          "NS",
          "M",
          "NS",
          "NS",
          "NS",
          "F",
          "M",
          "M",
          "M",
          "F",
          "NS",
          "F",
          "F",
          "M",
          "F",
          "F",
          "F",
          "M",
          "F",
          "F",
          "M",
          "F",
          "M",
          "M",
          "NS",
          "M",
          "M",
          "M",
          "M",
          "F",
          "M",
          "M",
          "F",
          "M",
          "M",
          "M",
          "NS",
          "M",
          "NS",
          "M",
          "M",
          "M",
          "M",
          "F",
          "NS",
          "NS",
          "NS",
          "M",
          "F",
          "F",
          "M",
          "NS",
          "NS",
          "NS",
          "NS",
          "NS",
          "NS",
          "NS",
          "F",
          "NS",
          "NS",
          "F",
          "NS",
          "M",
          "NS",
          "NS",
          "M",
          "NS",
          "NS",
          "NS",
          "M",
          "NS",
          "NS",
          "NS",
          "M",
          "F",
          "NS",
          "NS",
          "NS",
          "NS",
          "NS",
          "M",
          "M",
          "NS",
          "NS",
          "NS",
          "NS",
          "M",
          "NS",
          "M",
          "NS",
          "F",
          "NS",
          "F",
          "NS",
          "F",
          "NS",
          "NS",
          "M",
          "NS",
          "NS",
          "NS",
          "NS",
          "NS",
          "M",
          "NS",
          "NS",
          "NS",
          "NS",
          "NS",
          "NS",
          "NS",
          "NS",
          "NS",
          "NS",
          "NS",
          "NS",
          "F",
          "M",
          "NS",
          "NS",
          "F",
          "NS",
          "NS",
          "F",
          "F",
          "M",
          "M",
          "NS",
          "NS",
          "NS",
          "NS",
          "NS",
          "NS",
          "NS",
          "NS",
          "NS",
          "NS",
          "NS",
          "F",
          "NS",
          "F",
          "M",
          "NS",
          "NS",
          "M",
          "M",
          "NS",
          "NS",
          "NS",
          "NS",
          "NS",
          "F",
          "NS",
          "NS",
          "NS",
          "NS",
          "NS",
          "NS",
          "NS",
          "NS",
          "NS",
          "NS",
          "NS",
          "NS",
          "NS",
          "NS",
          "M"
         ],
         "xaxis": "x",
         "yaxis": "y"
        },
        {
         "showlegend": false,
         "type": "histogram",
         "x": [
          "M",
          "M",
          "M",
          "M",
          "M",
          "M",
          "M",
          "M",
          "M",
          "M",
          "M",
          "M",
          "M",
          "NS",
          "M",
          "M",
          "NS",
          "NS",
          "M",
          "M",
          "M",
          "M",
          "F",
          "NS",
          "M",
          "F",
          "NS",
          "M",
          "M",
          "NS",
          "M",
          "M",
          "M",
          "F",
          "F",
          "M",
          "M",
          "M",
          "M",
          "M",
          "M",
          "M",
          "F",
          "F",
          "M",
          "M",
          "M",
          "F",
          "M",
          "M",
          "F",
          "M",
          "M",
          "F",
          "F",
          "F",
          "M",
          "M",
          "M",
          "M",
          "M",
          "M",
          "NS",
          "F",
          "NS",
          "M",
          "M",
          "F",
          "M",
          "F",
          "NS",
          "NS",
          "M",
          "NS",
          "M",
          "NS",
          "F",
          "F",
          "F",
          "F",
          "F",
          "M",
          "F",
          "F",
          "M",
          "M",
          "F",
          "M",
          "F",
          "M",
          "NS",
          "F",
          "M",
          "M",
          "M",
          "F",
          "F",
          "M",
          "F",
          "M",
          "F",
          "F",
          "F",
          "F",
          "F",
          "F",
          "F",
          "F",
          "M",
          "F",
          "F",
          "M",
          "M",
          "M",
          "M",
          "M",
          "M",
          "F",
          "F",
          "F",
          "M",
          "M",
          "F",
          "M",
          "NS",
          "F",
          "M",
          "M",
          "M",
          "F",
          "M",
          "M",
          "M",
          "M",
          "M",
          "F",
          "M",
          "F",
          "M",
          "F",
          "M",
          "F",
          "F",
          "NS",
          "NS",
          "F",
          "F",
          "F",
          "F",
          "F",
          "F",
          "F",
          "NS",
          "F",
          "F",
          "NS",
          "M",
          "NS",
          "NS",
          "NS",
          "F",
          "M",
          "F",
          "M",
          "M",
          "F",
          "F",
          "F",
          "F",
          "F",
          "F",
          "F",
          "F",
          "M",
          "M",
          "M",
          "M",
          "F",
          "F",
          "F",
          "F",
          "M",
          "M",
          "M",
          "M",
          "M",
          "M",
          "M",
          "M",
          "M",
          "M",
          "M",
          "M",
          "F",
          "M",
          "M",
          "M",
          "M",
          "M",
          "M",
          "M",
          "M",
          "M",
          "M",
          "M",
          "M",
          "M",
          "M",
          "M",
          "F",
          "M",
          "M",
          "M",
          "M",
          "M",
          "M",
          "M",
          "NS",
          "F",
          "F",
          "F",
          "F",
          "F",
          "F",
          "M",
          "M",
          "M",
          "M",
          "F",
          "F",
          "M",
          "M",
          "F",
          "F",
          "M",
          "M",
          "M",
          "M",
          "M",
          "M",
          "F",
          "M",
          "M",
          "M",
          "F",
          "F",
          "F",
          "F",
          "F",
          "F",
          "M",
          "M",
          "F",
          "F",
          "F",
          "M",
          "M",
          "M",
          "M",
          "M",
          "M",
          "M",
          "M",
          "M",
          "M",
          "F",
          "F",
          "M",
          "M",
          "M",
          "M",
          "M",
          "M",
          "F",
          "F",
          "F",
          "M",
          "M",
          "M",
          "M",
          "M",
          "M",
          "M",
          "M",
          "F",
          "F",
          "F",
          "F",
          "F",
          "M",
          "M",
          "M",
          "M",
          "M",
          "M",
          "M",
          "M",
          "M",
          "M",
          "F",
          "F",
          "F",
          "F",
          "F",
          "F",
          "F",
          "F",
          "F",
          "M",
          "M",
          "F",
          "M",
          "M",
          "M",
          "M",
          "M",
          "M",
          "F",
          "F",
          "M",
          "M",
          "M",
          "M",
          "M",
          "M",
          "F",
          "F",
          "F",
          "F",
          "M",
          "F",
          "M",
          "F",
          "F",
          "F",
          "F",
          "F",
          "NS",
          "F",
          "F",
          "F",
          "F",
          "NS",
          "M",
          "M",
          "M",
          "F",
          "M",
          "M",
          "M",
          "M",
          "F",
          "M",
          "M",
          "M",
          "M",
          "M",
          "M",
          "M",
          "M",
          "M",
          "M",
          "M",
          "M",
          "F",
          "F",
          "F",
          "M",
          "M",
          "M",
          "M",
          "M",
          "M",
          "M",
          "M",
          "F",
          "M",
          "M",
          "M",
          "F",
          "F",
          "F",
          "M",
          "F",
          "M",
          "M",
          "M",
          "M",
          "M",
          "M",
          "M",
          "M",
          "M",
          "M",
          "F",
          "M",
          "M",
          "M",
          "M",
          "M",
          "M",
          "NS",
          "M",
          "M",
          "M",
          "M",
          "M",
          "M",
          "M",
          "F",
          "F",
          "M",
          "M",
          "F",
          "M",
          "M",
          "M",
          "M",
          "M",
          "M",
          "M",
          "M",
          "M",
          "F",
          "F",
          "F",
          "M",
          "M",
          "M",
          "M",
          "F",
          "M",
          "M",
          "M",
          "M",
          "M",
          "M",
          "M",
          "M",
          "F",
          "F",
          "F",
          "F",
          "F",
          "M",
          "M",
          "M",
          "M",
          "F",
          "M",
          "M",
          "M",
          "M",
          "M",
          "F",
          "M",
          "M",
          "M",
          "M",
          "M",
          "M",
          "M",
          "F",
          "F",
          "M",
          "M",
          "M",
          "M",
          "M",
          "M",
          "M",
          "M",
          "M",
          "M",
          "M",
          "M",
          "M",
          "M",
          "M",
          "M",
          "M",
          "M",
          "M",
          "M",
          "F",
          "M",
          "F",
          "F",
          "M",
          "F",
          "F",
          "F",
          "F",
          "M",
          "M",
          "M",
          "M",
          "M",
          "M",
          "M",
          "M",
          "M",
          "M",
          "F",
          "M",
          "M",
          "M",
          "M",
          "M",
          "M",
          "M",
          "M",
          "M",
          "M",
          "M",
          "M",
          "M",
          "M",
          "NS",
          "NS",
          "M",
          "NS",
          "M",
          "M",
          "F",
          "F",
          "F",
          "F",
          "F",
          "F",
          "F",
          "M",
          "M",
          "M",
          "M",
          "M",
          "M",
          "M",
          "F",
          "M",
          "M",
          "M",
          "M",
          "M",
          "F",
          "M",
          "NS",
          "F",
          "M",
          "F",
          "M",
          "F",
          "M",
          "F",
          "M",
          "M",
          "M",
          "M",
          "M",
          "F",
          "M",
          "M",
          "M",
          "M",
          "M",
          "M",
          "M",
          "M",
          "M",
          "M",
          "F",
          "F",
          "F",
          "M",
          "M",
          "M",
          "M",
          "M",
          "M",
          "F",
          "M",
          "M",
          "M",
          "M",
          "M",
          "M",
          "M",
          "F",
          "M",
          "F",
          "M",
          "F",
          "M",
          "F",
          "M",
          "M",
          "M",
          "M",
          "M",
          "M",
          "M",
          "F",
          "M",
          "F",
          "M",
          "M",
          "F",
          "F",
          "F",
          "M",
          "F",
          "F",
          "F",
          "F",
          "F",
          "F",
          "NS",
          "F",
          "F",
          "F",
          "NS",
          "M",
          "M",
          "M",
          "M",
          "M",
          "F",
          "F",
          "F",
          "F",
          "F",
          "F",
          "M",
          "M",
          "M",
          "F",
          "M",
          "M",
          "F",
          "F",
          "M",
          "M",
          "F",
          "M",
          "M",
          "F",
          "F",
          "M",
          "M",
          "M",
          "M",
          "M",
          "M",
          "F",
          "F",
          "NS",
          "M",
          "F",
          "M",
          "NS",
          "M",
          "M",
          "NS",
          "F",
          "F",
          "NS",
          "NS",
          "NS",
          "M",
          "M",
          "NS",
          "M",
          "NS",
          "NS",
          "M",
          "M",
          "NS",
          "M",
          "NS",
          "NS",
          "NS",
          "F",
          "M",
          "M",
          "M",
          "F",
          "NS",
          "F",
          "F",
          "M",
          "F",
          "M",
          "M",
          "M",
          "F"
         ],
         "xaxis": "x2",
         "yaxis": "y2"
        },
        {
         "showlegend": false,
         "type": "histogram",
         "x": [
          "M",
          "M",
          "M",
          "M",
          "M",
          "M",
          "M",
          "F",
          "F",
          "M",
          "M",
          "M",
          "M",
          "M",
          "F",
          "M",
          "M",
          "NS",
          "F",
          "F",
          "F",
          "F",
          "M",
          "M",
          "M",
          "M",
          "M",
          "F",
          "F",
          "M",
          "M",
          "F",
          "M",
          "NS",
          "M",
          "M",
          "M",
          "M",
          "F",
          "NS",
          "M",
          "NS",
          "NS",
          "NS",
          "M",
          "NS",
          "NS",
          "M",
          "M",
          "NS",
          "NS",
          "M",
          "F",
          "F",
          "NS",
          "NS",
          "M",
          "F",
          "NS",
          "M",
          "NS",
          "F",
          "NS",
          "NS",
          "NS",
          "NS",
          "NS",
          "NS",
          "NS",
          "NS",
          "NS",
          "NS",
          "NS",
          "NS",
          "NS",
          "NS",
          "NS",
          "NS",
          "NS",
          "NS",
          "NS",
          "NS",
          "NS",
          "NS",
          "NS",
          "NS",
          "NS",
          "NS",
          "NS",
          "NS",
          "NS",
          "F",
          "NS",
          "NS",
          "NS",
          "M",
          "M",
          "M",
          "M",
          "M",
          "M",
          "M",
          "M",
          "F",
          "M",
          "F",
          "F",
          "F",
          "F",
          "M",
          "M",
          "M",
          "M",
          "M",
          "M",
          "F",
          "F",
          "M",
          "M",
          "F",
          "M",
          "F",
          "NS",
          "M",
          "M",
          "NS",
          "NS",
          "F",
          "M",
          "M",
          "F",
          "F",
          "F",
          "M",
          "NS",
          "M",
          "M",
          "M",
          "M",
          "M",
          "M",
          "F",
          "F",
          "M",
          "M",
          "M",
          "M",
          "M",
          "M",
          "F",
          "M",
          "F",
          "NS",
          "NS",
          "M",
          "M",
          "M",
          "F",
          "F",
          "M",
          "M",
          "M",
          "M",
          "NS",
          "NS",
          "NS",
          "M",
          "NS",
          "M",
          "M",
          "NS",
          "NS",
          "NS",
          "M",
          "M",
          "NS",
          "NS",
          "NS",
          "NS",
          "NS",
          "NS",
          "F",
          "NS",
          "NS",
          "NS",
          "NS",
          "F",
          "NS",
          "M",
          "M",
          "F",
          "NS",
          "NS",
          "NS",
          "NS",
          "M",
          "NS",
          "NS",
          "F",
          "NS",
          "NS",
          "F",
          "F",
          "NS",
          "NS",
          "NS",
          "NS",
          "NS",
          "NS",
          "NS",
          "M",
          "NS",
          "NS",
          "NS",
          "NS",
          "NS",
          "NS",
          "M",
          "NS",
          "NS",
          "NS",
          "NS",
          "M",
          "NS",
          "NS",
          "NS",
          "NS",
          "NS",
          "NS",
          "NS",
          "NS",
          "NS",
          "NS",
          "NS",
          "NS",
          "NS",
          "NS",
          "NS",
          "NS",
          "NS",
          "NS",
          "F",
          "F",
          "M",
          "M",
          "M",
          "M",
          "M",
          "M",
          "M",
          "M",
          "M",
          "M",
          "M",
          "M",
          "M",
          "M",
          "M",
          "NS",
          "M",
          "M",
          "M",
          "M",
          "F",
          "M",
          "M",
          "M",
          "M",
          "M",
          "F",
          "F",
          "F",
          "M",
          "M",
          "M",
          "M",
          "NS",
          "NS",
          "M",
          "F",
          "NS",
          "F",
          "F",
          "M",
          "F",
          "NS",
          "NS",
          "NS",
          "M",
          "M",
          "M",
          "M",
          "NS",
          "M",
          "M",
          "F",
          "F",
          "NS",
          "F",
          "F",
          "NS",
          "M",
          "F",
          "NS",
          "M",
          "NS",
          "F",
          "NS",
          "F",
          "M",
          "M",
          "NS",
          "F",
          "NS",
          "NS",
          "NS",
          "M",
          "NS",
          "F",
          "NS",
          "NS",
          "M",
          "NS",
          "NS",
          "NS",
          "NS",
          "NS",
          "NS",
          "M",
          "NS",
          "NS",
          "NS",
          "NS",
          "NS",
          "NS",
          "NS",
          "NS",
          "NS",
          "NS",
          "NS",
          "NS",
          "NS",
          "NS",
          "NS",
          "NS",
          "NS",
          "NS",
          "NS",
          "NS",
          "NS",
          "NS",
          "M",
          "NS",
          "NS",
          "F",
          "NS",
          "NS",
          "NS",
          "NS",
          "NS",
          "NS",
          "F",
          "NS",
          "NS",
          "NS",
          "NS",
          "NS",
          "NS",
          "M",
          "M",
          "M",
          "M",
          "M",
          "M",
          "M",
          "M",
          "M",
          "M",
          "F",
          "M",
          "F",
          "F",
          "M",
          "M",
          "M",
          "M",
          "M",
          "M",
          "M",
          "F",
          "F",
          "M",
          "F",
          "F",
          "NS",
          "F",
          "F",
          "F",
          "M",
          "M",
          "M",
          "F",
          "F",
          "F",
          "F",
          "M",
          "M",
          "M",
          "M",
          "NS",
          "M",
          "M",
          "M",
          "F",
          "F",
          "M",
          "M",
          "M",
          "M",
          "NS",
          "NS",
          "NS",
          "F",
          "NS",
          "M",
          "F",
          "NS",
          "M",
          "NS",
          "M",
          "M",
          "F",
          "F",
          "M",
          "M",
          "NS",
          "F",
          "NS",
          "M",
          "M",
          "M",
          "NS",
          "F",
          "NS",
          "M",
          "M",
          "M",
          "NS",
          "NS",
          "M",
          "M",
          "M",
          "NS",
          "NS",
          "NS",
          "M",
          "M",
          "M",
          "NS",
          "M",
          "M",
          "M",
          "M",
          "NS",
          "NS",
          "F",
          "NS",
          "NS",
          "M",
          "F",
          "NS",
          "M",
          "M",
          "NS",
          "NS",
          "NS",
          "NS",
          "M",
          "M",
          "F",
          "F",
          "M",
          "NS",
          "NS",
          "NS",
          "NS",
          "NS",
          "NS",
          "NS",
          "NS",
          "M",
          "NS",
          "M",
          "NS",
          "NS",
          "NS",
          "M",
          "M",
          "M",
          "M",
          "F",
          "NS",
          "NS",
          "NS",
          "NS",
          "M",
          "M",
          "M",
          "NS",
          "F",
          "NS",
          "NS",
          "NS",
          "NS",
          "NS",
          "NS",
          "NS",
          "NS",
          "NS",
          "NS",
          "NS",
          "M",
          "NS",
          "M",
          "NS",
          "NS",
          "NS",
          "M",
          "M",
          "M",
          "NS",
          "NS",
          "NS",
          "NS",
          "M",
          "NS",
          "NS",
          "NS",
          "F",
          "NS",
          "NS",
          "NS",
          "NS",
          "NS",
          "NS",
          "M",
          "M",
          "M",
          "NS",
          "NS",
          "NS",
          "NS",
          "NS",
          "NS",
          "NS",
          "NS",
          "NS",
          "NS",
          "M",
          "NS",
          "NS",
          "NS",
          "NS",
          "NS",
          "NS",
          "NS",
          "NS",
          "NS",
          "NS",
          "NS",
          "M",
          "NS",
          "NS",
          "NS",
          "NS",
          "NS",
          "NS",
          "NS",
          "NS",
          "NS",
          "NS",
          "M",
          "NS",
          "NS",
          "NS",
          "NS",
          "NS",
          "M",
          "NS",
          "NS",
          "NS",
          "NS",
          "NS",
          "NS",
          "NS",
          "NS",
          "NS",
          "NS",
          "NS",
          "NS",
          "NS",
          "NS",
          "NS",
          "M",
          "M",
          "M",
          "M",
          "M",
          "M",
          "M",
          "M",
          "M",
          "M",
          "F",
          "F",
          "M",
          "M",
          "F",
          "F",
          "F",
          "F",
          "F",
          "F",
          "F",
          "F",
          "F",
          "F",
          "M",
          "M",
          "F",
          "F",
          "M",
          "M",
          "M",
          "M",
          "M",
          "M",
          "M",
          "M",
          "M",
          "M",
          "M",
          "M",
          "M",
          "NS",
          "NS",
          "F",
          "F",
          "F",
          "M",
          "NS",
          "NS",
          "NS",
          "M",
          "M",
          "F",
          "F",
          "F",
          "F",
          "M",
          "M",
          "M",
          "M",
          "F",
          "F",
          "M",
          "M",
          "F",
          "F",
          "NS",
          "M",
          "M",
          "M",
          "M",
          "M",
          "M",
          "M",
          "F",
          "M",
          "M",
          "F",
          "NS",
          "F",
          "M",
          "M",
          "M",
          "M",
          "NS",
          "NS",
          "M",
          "M",
          "M",
          "NS",
          "NS",
          "M",
          "NS",
          "NS",
          "NS",
          "NS",
          "NS",
          "NS",
          "NS",
          "NS",
          "NS",
          "NS",
          "M",
          "M",
          "NS",
          "NS",
          "NS",
          "NS",
          "M",
          "M",
          "NS",
          "NS",
          "NS",
          "M",
          "M",
          "NS",
          "NS",
          "NS",
          "F",
          "F",
          "M",
          "NS",
          "NS",
          "NS",
          "M",
          "M",
          "M",
          "M",
          "M",
          "M",
          "M",
          "M",
          "NS",
          "M",
          "NS",
          "F",
          "M",
          "NS",
          "NS",
          "F",
          "NS",
          "NS",
          "NS",
          "NS",
          "M",
          "M",
          "NS",
          "NS",
          "NS",
          "NS",
          "NS",
          "NS",
          "M",
          "NS",
          "M",
          "M",
          "M",
          "M",
          "NS",
          "NS",
          "M",
          "M",
          "NS",
          "F",
          "M",
          "NS",
          "M",
          "M",
          "NS",
          "M",
          "M",
          "M",
          "M",
          "M",
          "NS",
          "M",
          "M",
          "M",
          "NS",
          "M",
          "NS",
          "NS",
          "F",
          "F",
          "M",
          "M",
          "NS",
          "NS",
          "M",
          "NS",
          "M",
          "NS",
          "F",
          "M",
          "NS",
          "NS",
          "F",
          "M",
          "NS",
          "NS",
          "NS",
          "NS",
          "F",
          "NS",
          "NS",
          "NS",
          "NS",
          "M",
          "M",
          "NS",
          "M",
          "NS",
          "NS",
          "NS",
          "NS",
          "NS",
          "NS",
          "NS",
          "NS",
          "NS",
          "NS",
          "NS",
          "NS",
          "M",
          "NS",
          "NS",
          "NS",
          "F",
          "NS",
          "NS",
          "NS",
          "NS",
          "NS",
          "NS",
          "NS",
          "NS",
          "M",
          "F",
          "M",
          "M",
          "F",
          "M",
          "M",
          "M",
          "M",
          "M",
          "NS",
          "NS",
          "NS",
          "NS",
          "NS",
          "M",
          "F",
          "NS",
          "NS",
          "F",
          "M",
          "NS",
          "M",
          "NS",
          "NS",
          "NS",
          "NS",
          "NS",
          "NS",
          "NS",
          "NS",
          "NS",
          "NS",
          "NS",
          "NS",
          "M",
          "NS",
          "NS",
          "NS",
          "NS",
          "NS",
          "NS",
          "NS",
          "NS",
          "NS",
          "F",
          "M",
          "M",
          "M",
          "M",
          "M",
          "M",
          "M",
          "M",
          "M",
          "M",
          "M",
          "M",
          "F",
          "F",
          "M",
          "M",
          "F",
          "F",
          "M",
          "M",
          "F",
          "F",
          "F",
          "F",
          "F",
          "F",
          "M",
          "M",
          "F",
          "F",
          "M",
          "M",
          "M",
          "M",
          "M",
          "M",
          "M",
          "M",
          "M",
          "M",
          "M",
          "M",
          "M",
          "NS",
          "NS",
          "F",
          "F",
          "NS",
          "NS",
          "M",
          "M",
          "F",
          "F",
          "M",
          "M",
          "M",
          "M",
          "F",
          "F",
          "F",
          "F",
          "M",
          "M",
          "M",
          "F",
          "M",
          "M",
          "NS",
          "M",
          "NS",
          "NS",
          "NS",
          "NS",
          "NS",
          "NS",
          "NS",
          "NS",
          "NS",
          "NS",
          "NS",
          "NS",
          "NS",
          "NS",
          "NS",
          "NS",
          "M",
          "NS",
          "M",
          "NS",
          "NS",
          "M",
          "M",
          "NS",
          "NS",
          "NS",
          "M",
          "M",
          "M",
          "M",
          "M",
          "M",
          "M",
          "M",
          "NS",
          "F",
          "M",
          "NS",
          "NS",
          "NS",
          "NS",
          "M",
          "M",
          "NS",
          "NS",
          "NS",
          "NS",
          "NS",
          "NS",
          "NS",
          "NS",
          "M",
          "M",
          "M",
          "M",
          "NS",
          "NS",
          "NS",
          "M",
          "M",
          "NS",
          "M",
          "M",
          "NS",
          "M",
          "M",
          "NS",
          "NS",
          "NS",
          "M",
          "M",
          "NS",
          "NS",
          "M",
          "NS",
          "NS",
          "F",
          "M",
          "M",
          "M",
          "NS",
          "NS",
          "M",
          "NS",
          "M",
          "NS",
          "NS",
          "M",
          "F",
          "M",
          "M",
          "NS",
          "NS",
          "NS",
          "NS",
          "M",
          "NS",
          "M",
          "NS",
          "NS",
          "NS",
          "NS",
          "NS",
          "NS",
          "NS",
          "NS",
          "NS",
          "M",
          "F",
          "NS",
          "NS",
          "NS",
          "NS",
          "NS",
          "NS",
          "M",
          "NS",
          "NS",
          "NS",
          "NS",
          "NS",
          "NS",
          "NS",
          "NS",
          "NS",
          "F",
          "NS",
          "M",
          "M",
          "NS",
          "M",
          "M",
          "NS",
          "NS",
          "NS",
          "NS",
          "NS",
          "NS",
          "F",
          "NS",
          "NS",
          "NS",
          "NS",
          "NS",
          "NS",
          "NS",
          "NS",
          "NS",
          "NS",
          "NS",
          "NS",
          "M",
          "NS",
          "NS",
          "NS",
          "NS",
          "NS",
          "NS",
          "NS",
          "NS",
          "F",
          "NS",
          "NS",
          "NS",
          "M",
          "M",
          "M",
          "M",
          "M",
          "M",
          "M",
          "M",
          "M",
          "M",
          "M",
          "M",
          "F",
          "F",
          "M",
          "M",
          "M",
          "M",
          "F",
          "F",
          "M",
          "M",
          "M",
          "M",
          "F",
          "F",
          "F",
          "NS",
          "NS",
          "NS",
          "NS",
          "M",
          "M",
          "NS",
          "F",
          "F",
          "M",
          "M",
          "M",
          "M",
          "NS",
          "M",
          "M",
          "M",
          "M",
          "M",
          "M",
          "F",
          "NS",
          "M",
          "M",
          "M",
          "NS",
          "F",
          "F",
          "NS",
          "NS",
          "NS",
          "NS",
          "NS",
          "NS",
          "NS",
          "NS",
          "M",
          "F",
          "F",
          "F",
          "M",
          "M",
          "M",
          "NS",
          "NS",
          "F",
          "NS",
          "NS",
          "NS",
          "M",
          "M",
          "M",
          "F",
          "M",
          "M",
          "NS",
          "M",
          "NS",
          "M",
          "M",
          "NS",
          "NS",
          "M",
          "M",
          "NS",
          "NS",
          "NS",
          "M",
          "F",
          "NS",
          "NS",
          "NS",
          "NS",
          "M",
          "NS",
          "F",
          "NS",
          "NS",
          "NS",
          "NS",
          "M",
          "NS",
          "NS",
          "NS",
          "NS",
          "F",
          "NS",
          "NS",
          "M",
          "M",
          "NS",
          "NS",
          "NS",
          "NS",
          "NS",
          "NS",
          "NS",
          "NS",
          "M",
          "F",
          "NS",
          "NS",
          "M",
          "F",
          "M",
          "NS",
          "NS",
          "F",
          "NS",
          "F",
          "NS",
          "NS",
          "NS",
          "M",
          "NS",
          "M",
          "NS",
          "NS",
          "NS",
          "M",
          "NS",
          "NS",
          "NS",
          "F",
          "F",
          "NS",
          "NS",
          "M",
          "NS",
          "NS",
          "NS",
          "NS",
          "NS",
          "NS",
          "NS",
          "NS",
          "NS",
          "NS",
          "NS",
          "NS",
          "NS",
          "F",
          "NS",
          "NS",
          "NS",
          "F",
          "F",
          "NS",
          "NS",
          "NS",
          "NS",
          "NS",
          "NS",
          "NS",
          "NS",
          "NS",
          "NS",
          "NS",
          "NS",
          "NS",
          "NS",
          "NS",
          "NS",
          "NS",
          "NS",
          "NS",
          "NS",
          "NS",
          "NS",
          "NS",
          "NS",
          "NS",
          "NS",
          "NS",
          "NS",
          "NS",
          "NS",
          "NS",
          "NS",
          "NS",
          "NS",
          "NS",
          "NS",
          "M",
          "M",
          "M",
          "M",
          "M",
          "M",
          "M",
          "M",
          "F",
          "F",
          "F",
          "F",
          "M",
          "M",
          "F",
          "F",
          "F",
          "F",
          "M",
          "F",
          "M",
          "M",
          "M",
          "M",
          "M",
          "M",
          "F",
          "F",
          "NS",
          "F",
          "F",
          "F",
          "M",
          "M",
          "NS",
          "M",
          "F",
          "M",
          "F",
          "NS",
          "M",
          "M",
          "M",
          "M",
          "F",
          "F",
          "M",
          "M",
          "M",
          "M",
          "NS",
          "M",
          "M",
          "M",
          "M",
          "M",
          "M",
          "M",
          "M",
          "M",
          "F",
          "M",
          "M",
          "M",
          "F",
          "F",
          "NS",
          "NS",
          "M",
          "M",
          "M",
          "M",
          "NS",
          "NS",
          "M",
          "M",
          "NS",
          "M",
          "NS",
          "NS",
          "F",
          "NS",
          "M",
          "M",
          "F",
          "NS",
          "M",
          "M",
          "NS",
          "NS",
          "NS",
          "F",
          "M",
          "NS",
          "NS",
          "NS",
          "NS",
          "NS",
          "M",
          "NS",
          "NS",
          "NS",
          "NS",
          "M",
          "NS",
          "NS",
          "F",
          "F",
          "M",
          "NS",
          "NS",
          "M",
          "M",
          "M",
          "M",
          "M",
          "M",
          "M",
          "M",
          "M",
          "M",
          "F",
          "F",
          "M",
          "M",
          "M",
          "M",
          "M",
          "M",
          "M",
          "M",
          "M",
          "F",
          "M",
          "M",
          "M",
          "M",
          "M",
          "F",
          "NS",
          "NS",
          "M",
          "M",
          "F",
          "M",
          "NS",
          "M",
          "M",
          "M",
          "F",
          "M",
          "M",
          "M",
          "M",
          "M",
          "M",
          "M",
          "M",
          "M",
          "M",
          "M",
          "F",
          "NS",
          "NS",
          "NS",
          "M",
          "F",
          "F",
          "NS",
          "NS",
          "NS",
          "F",
          "M",
          "M",
          "M",
          "NS",
          "M",
          "M",
          "NS",
          "NS",
          "NS",
          "F",
          "NS",
          "M",
          "M",
          "M",
          "NS",
          "NS",
          "NS",
          "M",
          "M",
          "M",
          "F",
          "F",
          "F",
          "NS",
          "M",
          "M",
          "F",
          "NS",
          "M",
          "M",
          "F",
          "F",
          "NS",
          "NS",
          "NS",
          "NS",
          "NS",
          "NS",
          "NS",
          "NS",
          "NS",
          "F",
          "NS",
          "F",
          "M",
          "F",
          "NS",
          "NS",
          "NS",
          "M",
          "M",
          "NS",
          "NS",
          "F",
          "M",
          "NS",
          "F",
          "M",
          "M",
          "NS",
          "M",
          "NS",
          "M",
          "NS",
          "NS",
          "NS",
          "M",
          "M",
          "NS",
          "F",
          "NS",
          "NS",
          "NS",
          "M",
          "M",
          "M",
          "M",
          "M",
          "M",
          "M",
          "M",
          "F",
          "F",
          "M",
          "M",
          "M",
          "M",
          "M",
          "M",
          "F",
          "M",
          "M",
          "F",
          "M",
          "M",
          "M",
          "M",
          "F",
          "M",
          "M",
          "M",
          "M",
          "M",
          "M",
          "M",
          "M",
          "M",
          "F",
          "F",
          "M",
          "M",
          "NS",
          "NS",
          "F",
          "F",
          "NS",
          "NS",
          "NS",
          "M",
          "M",
          "M",
          "M",
          "M",
          "M",
          "M",
          "NS",
          "NS",
          "NS",
          "F",
          "NS",
          "M",
          "M",
          "F",
          "NS",
          "NS",
          "NS",
          "M",
          "M",
          "M",
          "M",
          "F",
          "NS",
          "M",
          "M",
          "NS",
          "NS",
          "NS",
          "NS",
          "F",
          "M",
          "F",
          "M",
          "F",
          "NS",
          "M",
          "NS",
          "NS",
          "NS",
          "NS",
          "F",
          "M",
          "M",
          "NS",
          "NS",
          "NS",
          "NS",
          "NS",
          "NS",
          "NS",
          "NS",
          "NS",
          "NS",
          "NS",
          "M",
          "M",
          "NS",
          "NS",
          "M",
          "M",
          "M",
          "M",
          "M",
          "M",
          "M",
          "M",
          "M",
          "M",
          "M",
          "M",
          "M",
          "M",
          "F",
          "F",
          "F",
          "F",
          "M",
          "F",
          "F",
          "F",
          "F",
          "M",
          "M",
          "F",
          "M",
          "M",
          "NS",
          "NS",
          "M",
          "M",
          "M",
          "M",
          "M",
          "F",
          "M",
          "M",
          "M",
          "M",
          "M",
          "M",
          "M",
          "F",
          "M",
          "M",
          "M",
          "NS",
          "M",
          "NS",
          "M",
          "M",
          "M",
          "M",
          "M",
          "NS",
          "NS",
          "F",
          "NS",
          "NS",
          "NS",
          "F",
          "F",
          "M",
          "F",
          "F",
          "F",
          "M",
          "M",
          "NS",
          "NS",
          "NS",
          "NS",
          "NS",
          "NS",
          "NS",
          "NS",
          "F",
          "M",
          "NS",
          "NS",
          "M",
          "M",
          "F",
          "NS",
          "M",
          "M",
          "NS",
          "NS",
          "NS",
          "M",
          "M",
          "F",
          "M",
          "M",
          "M",
          "NS",
          "F",
          "NS",
          "NS",
          "M",
          "NS",
          "M",
          "NS",
          "NS",
          "NS",
          "NS",
          "M",
          "F",
          "NS",
          "NS",
          "NS",
          "NS",
          "F",
          "NS",
          "M",
          "M",
          "M",
          "NS",
          "NS",
          "NS",
          "NS",
          "M",
          "NS",
          "F",
          "M",
          "NS",
          "M",
          "NS",
          "F",
          "NS",
          "F",
          "F",
          "M",
          "M",
          "NS",
          "F",
          "NS",
          "NS",
          "M",
          "NS",
          "NS",
          "NS",
          "NS",
          "NS",
          "M",
          "NS",
          "NS",
          "NS",
          "NS",
          "NS",
          "NS",
          "NS",
          "NS",
          "NS",
          "NS",
          "NS",
          "NS",
          "NS",
          "F",
          "M",
          "NS",
          "NS",
          "NS",
          "F",
          "NS",
          "NS",
          "F",
          "F",
          "M",
          "M",
          "NS",
          "NS",
          "NS",
          "NS",
          "NS",
          "NS",
          "NS",
          "NS",
          "NS",
          "NS",
          "NS",
          "F",
          "NS",
          "F",
          "M",
          "NS",
          "NS",
          "M",
          "M",
          "NS",
          "NS",
          "NS",
          "NS",
          "NS",
          "F",
          "NS",
          "NS",
          "NS",
          "NS",
          "NS",
          "NS",
          "NS",
          "NS",
          "NS",
          "NS",
          "NS",
          "NS",
          "NS",
          "NS",
          "NS",
          "M"
         ],
         "xaxis": "x3",
         "yaxis": "y3"
        }
       ],
       "layout": {
        "annotations": [
         {
          "font": {
           "size": 16
          },
          "showarrow": false,
          "text": "Overall",
          "x": 0.14444444444444446,
          "xanchor": "center",
          "xref": "paper",
          "y": 1,
          "yanchor": "bottom",
          "yref": "paper"
         },
         {
          "font": {
           "size": 16
          },
          "showarrow": false,
          "text": "Cast",
          "x": 0.5,
          "xanchor": "center",
          "xref": "paper",
          "y": 1,
          "yanchor": "bottom",
          "yref": "paper"
         },
         {
          "font": {
           "size": 16
          },
          "showarrow": false,
          "text": "Crew",
          "x": 0.8555555555555556,
          "xanchor": "center",
          "xref": "paper",
          "y": 1,
          "yanchor": "bottom",
          "yref": "paper"
         }
        ],
        "margin": {
         "b": 25,
         "l": 25,
         "r": 25,
         "t": 25
        },
        "template": {
         "data": {
          "bar": [
           {
            "error_x": {
             "color": "#2a3f5f"
            },
            "error_y": {
             "color": "#2a3f5f"
            },
            "marker": {
             "line": {
              "color": "#E5ECF6",
              "width": 0.5
             },
             "pattern": {
              "fillmode": "overlay",
              "size": 10,
              "solidity": 0.2
             }
            },
            "type": "bar"
           }
          ],
          "barpolar": [
           {
            "marker": {
             "line": {
              "color": "#E5ECF6",
              "width": 0.5
             },
             "pattern": {
              "fillmode": "overlay",
              "size": 10,
              "solidity": 0.2
             }
            },
            "type": "barpolar"
           }
          ],
          "carpet": [
           {
            "aaxis": {
             "endlinecolor": "#2a3f5f",
             "gridcolor": "white",
             "linecolor": "white",
             "minorgridcolor": "white",
             "startlinecolor": "#2a3f5f"
            },
            "baxis": {
             "endlinecolor": "#2a3f5f",
             "gridcolor": "white",
             "linecolor": "white",
             "minorgridcolor": "white",
             "startlinecolor": "#2a3f5f"
            },
            "type": "carpet"
           }
          ],
          "choropleth": [
           {
            "colorbar": {
             "outlinewidth": 0,
             "ticks": ""
            },
            "type": "choropleth"
           }
          ],
          "contour": [
           {
            "colorbar": {
             "outlinewidth": 0,
             "ticks": ""
            },
            "colorscale": [
             [
              0,
              "#0d0887"
             ],
             [
              0.1111111111111111,
              "#46039f"
             ],
             [
              0.2222222222222222,
              "#7201a8"
             ],
             [
              0.3333333333333333,
              "#9c179e"
             ],
             [
              0.4444444444444444,
              "#bd3786"
             ],
             [
              0.5555555555555556,
              "#d8576b"
             ],
             [
              0.6666666666666666,
              "#ed7953"
             ],
             [
              0.7777777777777778,
              "#fb9f3a"
             ],
             [
              0.8888888888888888,
              "#fdca26"
             ],
             [
              1,
              "#f0f921"
             ]
            ],
            "type": "contour"
           }
          ],
          "contourcarpet": [
           {
            "colorbar": {
             "outlinewidth": 0,
             "ticks": ""
            },
            "type": "contourcarpet"
           }
          ],
          "heatmap": [
           {
            "colorbar": {
             "outlinewidth": 0,
             "ticks": ""
            },
            "colorscale": [
             [
              0,
              "#0d0887"
             ],
             [
              0.1111111111111111,
              "#46039f"
             ],
             [
              0.2222222222222222,
              "#7201a8"
             ],
             [
              0.3333333333333333,
              "#9c179e"
             ],
             [
              0.4444444444444444,
              "#bd3786"
             ],
             [
              0.5555555555555556,
              "#d8576b"
             ],
             [
              0.6666666666666666,
              "#ed7953"
             ],
             [
              0.7777777777777778,
              "#fb9f3a"
             ],
             [
              0.8888888888888888,
              "#fdca26"
             ],
             [
              1,
              "#f0f921"
             ]
            ],
            "type": "heatmap"
           }
          ],
          "heatmapgl": [
           {
            "colorbar": {
             "outlinewidth": 0,
             "ticks": ""
            },
            "colorscale": [
             [
              0,
              "#0d0887"
             ],
             [
              0.1111111111111111,
              "#46039f"
             ],
             [
              0.2222222222222222,
              "#7201a8"
             ],
             [
              0.3333333333333333,
              "#9c179e"
             ],
             [
              0.4444444444444444,
              "#bd3786"
             ],
             [
              0.5555555555555556,
              "#d8576b"
             ],
             [
              0.6666666666666666,
              "#ed7953"
             ],
             [
              0.7777777777777778,
              "#fb9f3a"
             ],
             [
              0.8888888888888888,
              "#fdca26"
             ],
             [
              1,
              "#f0f921"
             ]
            ],
            "type": "heatmapgl"
           }
          ],
          "histogram": [
           {
            "marker": {
             "pattern": {
              "fillmode": "overlay",
              "size": 10,
              "solidity": 0.2
             }
            },
            "type": "histogram"
           }
          ],
          "histogram2d": [
           {
            "colorbar": {
             "outlinewidth": 0,
             "ticks": ""
            },
            "colorscale": [
             [
              0,
              "#0d0887"
             ],
             [
              0.1111111111111111,
              "#46039f"
             ],
             [
              0.2222222222222222,
              "#7201a8"
             ],
             [
              0.3333333333333333,
              "#9c179e"
             ],
             [
              0.4444444444444444,
              "#bd3786"
             ],
             [
              0.5555555555555556,
              "#d8576b"
             ],
             [
              0.6666666666666666,
              "#ed7953"
             ],
             [
              0.7777777777777778,
              "#fb9f3a"
             ],
             [
              0.8888888888888888,
              "#fdca26"
             ],
             [
              1,
              "#f0f921"
             ]
            ],
            "type": "histogram2d"
           }
          ],
          "histogram2dcontour": [
           {
            "colorbar": {
             "outlinewidth": 0,
             "ticks": ""
            },
            "colorscale": [
             [
              0,
              "#0d0887"
             ],
             [
              0.1111111111111111,
              "#46039f"
             ],
             [
              0.2222222222222222,
              "#7201a8"
             ],
             [
              0.3333333333333333,
              "#9c179e"
             ],
             [
              0.4444444444444444,
              "#bd3786"
             ],
             [
              0.5555555555555556,
              "#d8576b"
             ],
             [
              0.6666666666666666,
              "#ed7953"
             ],
             [
              0.7777777777777778,
              "#fb9f3a"
             ],
             [
              0.8888888888888888,
              "#fdca26"
             ],
             [
              1,
              "#f0f921"
             ]
            ],
            "type": "histogram2dcontour"
           }
          ],
          "mesh3d": [
           {
            "colorbar": {
             "outlinewidth": 0,
             "ticks": ""
            },
            "type": "mesh3d"
           }
          ],
          "parcoords": [
           {
            "line": {
             "colorbar": {
              "outlinewidth": 0,
              "ticks": ""
             }
            },
            "type": "parcoords"
           }
          ],
          "pie": [
           {
            "automargin": true,
            "type": "pie"
           }
          ],
          "scatter": [
           {
            "fillpattern": {
             "fillmode": "overlay",
             "size": 10,
             "solidity": 0.2
            },
            "type": "scatter"
           }
          ],
          "scatter3d": [
           {
            "line": {
             "colorbar": {
              "outlinewidth": 0,
              "ticks": ""
             }
            },
            "marker": {
             "colorbar": {
              "outlinewidth": 0,
              "ticks": ""
             }
            },
            "type": "scatter3d"
           }
          ],
          "scattercarpet": [
           {
            "marker": {
             "colorbar": {
              "outlinewidth": 0,
              "ticks": ""
             }
            },
            "type": "scattercarpet"
           }
          ],
          "scattergeo": [
           {
            "marker": {
             "colorbar": {
              "outlinewidth": 0,
              "ticks": ""
             }
            },
            "type": "scattergeo"
           }
          ],
          "scattergl": [
           {
            "marker": {
             "colorbar": {
              "outlinewidth": 0,
              "ticks": ""
             }
            },
            "type": "scattergl"
           }
          ],
          "scattermapbox": [
           {
            "marker": {
             "colorbar": {
              "outlinewidth": 0,
              "ticks": ""
             }
            },
            "type": "scattermapbox"
           }
          ],
          "scatterpolar": [
           {
            "marker": {
             "colorbar": {
              "outlinewidth": 0,
              "ticks": ""
             }
            },
            "type": "scatterpolar"
           }
          ],
          "scatterpolargl": [
           {
            "marker": {
             "colorbar": {
              "outlinewidth": 0,
              "ticks": ""
             }
            },
            "type": "scatterpolargl"
           }
          ],
          "scatterternary": [
           {
            "marker": {
             "colorbar": {
              "outlinewidth": 0,
              "ticks": ""
             }
            },
            "type": "scatterternary"
           }
          ],
          "surface": [
           {
            "colorbar": {
             "outlinewidth": 0,
             "ticks": ""
            },
            "colorscale": [
             [
              0,
              "#0d0887"
             ],
             [
              0.1111111111111111,
              "#46039f"
             ],
             [
              0.2222222222222222,
              "#7201a8"
             ],
             [
              0.3333333333333333,
              "#9c179e"
             ],
             [
              0.4444444444444444,
              "#bd3786"
             ],
             [
              0.5555555555555556,
              "#d8576b"
             ],
             [
              0.6666666666666666,
              "#ed7953"
             ],
             [
              0.7777777777777778,
              "#fb9f3a"
             ],
             [
              0.8888888888888888,
              "#fdca26"
             ],
             [
              1,
              "#f0f921"
             ]
            ],
            "type": "surface"
           }
          ],
          "table": [
           {
            "cells": {
             "fill": {
              "color": "#EBF0F8"
             },
             "line": {
              "color": "white"
             }
            },
            "header": {
             "fill": {
              "color": "#C8D4E3"
             },
             "line": {
              "color": "white"
             }
            },
            "type": "table"
           }
          ]
         },
         "layout": {
          "annotationdefaults": {
           "arrowcolor": "#2a3f5f",
           "arrowhead": 0,
           "arrowwidth": 1
          },
          "autotypenumbers": "strict",
          "coloraxis": {
           "colorbar": {
            "outlinewidth": 0,
            "ticks": ""
           }
          },
          "colorscale": {
           "diverging": [
            [
             0,
             "#8e0152"
            ],
            [
             0.1,
             "#c51b7d"
            ],
            [
             0.2,
             "#de77ae"
            ],
            [
             0.3,
             "#f1b6da"
            ],
            [
             0.4,
             "#fde0ef"
            ],
            [
             0.5,
             "#f7f7f7"
            ],
            [
             0.6,
             "#e6f5d0"
            ],
            [
             0.7,
             "#b8e186"
            ],
            [
             0.8,
             "#7fbc41"
            ],
            [
             0.9,
             "#4d9221"
            ],
            [
             1,
             "#276419"
            ]
           ],
           "sequential": [
            [
             0,
             "#0d0887"
            ],
            [
             0.1111111111111111,
             "#46039f"
            ],
            [
             0.2222222222222222,
             "#7201a8"
            ],
            [
             0.3333333333333333,
             "#9c179e"
            ],
            [
             0.4444444444444444,
             "#bd3786"
            ],
            [
             0.5555555555555556,
             "#d8576b"
            ],
            [
             0.6666666666666666,
             "#ed7953"
            ],
            [
             0.7777777777777778,
             "#fb9f3a"
            ],
            [
             0.8888888888888888,
             "#fdca26"
            ],
            [
             1,
             "#f0f921"
            ]
           ],
           "sequentialminus": [
            [
             0,
             "#0d0887"
            ],
            [
             0.1111111111111111,
             "#46039f"
            ],
            [
             0.2222222222222222,
             "#7201a8"
            ],
            [
             0.3333333333333333,
             "#9c179e"
            ],
            [
             0.4444444444444444,
             "#bd3786"
            ],
            [
             0.5555555555555556,
             "#d8576b"
            ],
            [
             0.6666666666666666,
             "#ed7953"
            ],
            [
             0.7777777777777778,
             "#fb9f3a"
            ],
            [
             0.8888888888888888,
             "#fdca26"
            ],
            [
             1,
             "#f0f921"
            ]
           ]
          },
          "colorway": [
           "#636efa",
           "#EF553B",
           "#00cc96",
           "#ab63fa",
           "#FFA15A",
           "#19d3f3",
           "#FF6692",
           "#B6E880",
           "#FF97FF",
           "#FECB52"
          ],
          "font": {
           "color": "#2a3f5f"
          },
          "geo": {
           "bgcolor": "white",
           "lakecolor": "white",
           "landcolor": "#E5ECF6",
           "showlakes": true,
           "showland": true,
           "subunitcolor": "white"
          },
          "hoverlabel": {
           "align": "left"
          },
          "hovermode": "closest",
          "mapbox": {
           "style": "light"
          },
          "paper_bgcolor": "white",
          "plot_bgcolor": "#E5ECF6",
          "polar": {
           "angularaxis": {
            "gridcolor": "white",
            "linecolor": "white",
            "ticks": ""
           },
           "bgcolor": "#E5ECF6",
           "radialaxis": {
            "gridcolor": "white",
            "linecolor": "white",
            "ticks": ""
           }
          },
          "scene": {
           "xaxis": {
            "backgroundcolor": "#E5ECF6",
            "gridcolor": "white",
            "gridwidth": 2,
            "linecolor": "white",
            "showbackground": true,
            "ticks": "",
            "zerolinecolor": "white"
           },
           "yaxis": {
            "backgroundcolor": "#E5ECF6",
            "gridcolor": "white",
            "gridwidth": 2,
            "linecolor": "white",
            "showbackground": true,
            "ticks": "",
            "zerolinecolor": "white"
           },
           "zaxis": {
            "backgroundcolor": "#E5ECF6",
            "gridcolor": "white",
            "gridwidth": 2,
            "linecolor": "white",
            "showbackground": true,
            "ticks": "",
            "zerolinecolor": "white"
           }
          },
          "shapedefaults": {
           "line": {
            "color": "#2a3f5f"
           }
          },
          "ternary": {
           "aaxis": {
            "gridcolor": "white",
            "linecolor": "white",
            "ticks": ""
           },
           "baxis": {
            "gridcolor": "white",
            "linecolor": "white",
            "ticks": ""
           },
           "bgcolor": "#E5ECF6",
           "caxis": {
            "gridcolor": "white",
            "linecolor": "white",
            "ticks": ""
           }
          },
          "title": {
           "x": 0.05
          },
          "xaxis": {
           "automargin": true,
           "gridcolor": "white",
           "linecolor": "white",
           "ticks": "",
           "title": {
            "standoff": 15
           },
           "zerolinecolor": "white",
           "zerolinewidth": 2
          },
          "yaxis": {
           "automargin": true,
           "gridcolor": "white",
           "linecolor": "white",
           "ticks": "",
           "title": {
            "standoff": 15
           },
           "zerolinecolor": "white",
           "zerolinewidth": 2
          }
         }
        },
        "width": 1000,
        "xaxis": {
         "anchor": "y",
         "domain": [
          0,
          0.2888888888888889
         ]
        },
        "xaxis2": {
         "anchor": "y2",
         "domain": [
          0.35555555555555557,
          0.6444444444444445
         ]
        },
        "xaxis3": {
         "anchor": "y3",
         "domain": [
          0.7111111111111111,
          1
         ]
        },
        "yaxis": {
         "anchor": "x",
         "domain": [
          0,
          1
         ]
        },
        "yaxis2": {
         "anchor": "x2",
         "domain": [
          0,
          1
         ]
        },
        "yaxis3": {
         "anchor": "x3",
         "domain": [
          0,
          1
         ]
        }
       }
      }
     },
     "metadata": {},
     "output_type": "display_data"
    }
   ],
   "source": [
    "df = person_df.join(cast_df.set_index('person'), on='person', how='right')[['title', 'person', 'gender']]\n",
    "\n",
    "fig = make_subplots(rows=1, cols=3, subplot_titles=('Overall', 'Cast', 'Crew'))\n",
    "\n",
    "fig.add_trace(go.Histogram(x=person_df['gender']), row=1, col=1)\n",
    "\n",
    "df = person_df.join(cast_df.set_index('person'), on='person', how='right')[['title', 'person', 'gender']]\n",
    "\n",
    "fig.add_trace(go.Histogram(x=df['gender']), row=1, col=2)\n",
    "\n",
    "df = person_df.join(crew_df.set_index('person'), on='person', how='right')[['title', 'person', 'gender']]\n",
    "\n",
    "fig.add_trace(go.Histogram(x=df['gender']), row=1, col=3)\n",
    "\n",
    "fig.update_traces(showlegend=False)\n",
    "\n",
    "fig.update_layout(\n",
    "    width=1000,\n",
    "    margin={'l': 25, 'r': 25, 't': 25, 'b':25}\n",
    ")\n",
    "fig.show()"
   ]
  },
  {
   "attachments": {},
   "cell_type": "markdown",
   "id": "bfaddcf8",
   "metadata": {},
   "source": [
    "We can see that there is actually a large amount of missing data in terms of gender, and none that have been recorded as Non-Binary. Unsurprisingly, the missing information is largely in the crew section, where the people are mostly unknown and TMDB users are less inclined to update information for.\n",
    "\n",
    "Interestingly, there are about twice as many males and females working as cast on Tarantino's films and even more for the crew. However, this may be more indicative of industry biases than any specific bias of Tarantino or the Production Companies. "
   ]
  },
  {
   "attachments": {},
   "cell_type": "markdown",
   "id": "438f2ad4",
   "metadata": {},
   "source": [
    "## Analysis\n",
    "\n",
    "Now that we have taken a look at the data we have, let's see if we can draw any conclusions about what makes Tarantino's films successful.\n",
    "\n",
    "Before we can begin, we must first determine the relative success between the films."
   ]
  },
  {
   "cell_type": "code",
   "execution_count": 100,
   "id": "ac7185cc",
   "metadata": {},
   "outputs": [
    {
     "data": {
      "application/vnd.plotly.v1+json": {
       "config": {
        "plotlyServerURL": "https://plot.ly"
       },
       "data": [
        {
         "alignmentgroup": "True",
         "hovertemplate": "adj_budget=%{x}<br>title=%{y}<extra></extra>",
         "legendgroup": "",
         "marker": {
          "color": "#636efa",
          "pattern": {
           "shape": ""
          }
         },
         "name": "",
         "offsetgroup": "",
         "orientation": "h",
         "showlegend": false,
         "textposition": "auto",
         "type": "bar",
         "x": [
          2540721,
          16019812,
          7795960,
          22256912,
          48514054,
          47739893,
          35966751,
          97027808,
          130299955,
          55653651,
          110773041
         ],
         "xaxis": "x",
         "y": [
          "Reservoir Dogs",
          "Pulp Fiction",
          "Four Rooms",
          "Jackie Brown",
          "Kill Bill: Vol. 1",
          "Kill Bill: Vol. 2",
          "Death Proof",
          "Inglourious Basterds",
          "Django Unchained",
          "The Hateful Eight",
          "Once Upon a Time… in Hollywood"
         ],
         "yaxis": "y"
        }
       ],
       "layout": {
        "barmode": "relative",
        "legend": {
         "tracegroupgap": 0
        },
        "margin": {
         "b": 25,
         "l": 25,
         "r": 25,
         "t": 25
        },
        "template": {
         "data": {
          "bar": [
           {
            "error_x": {
             "color": "#2a3f5f"
            },
            "error_y": {
             "color": "#2a3f5f"
            },
            "marker": {
             "line": {
              "color": "#E5ECF6",
              "width": 0.5
             },
             "pattern": {
              "fillmode": "overlay",
              "size": 10,
              "solidity": 0.2
             }
            },
            "type": "bar"
           }
          ],
          "barpolar": [
           {
            "marker": {
             "line": {
              "color": "#E5ECF6",
              "width": 0.5
             },
             "pattern": {
              "fillmode": "overlay",
              "size": 10,
              "solidity": 0.2
             }
            },
            "type": "barpolar"
           }
          ],
          "carpet": [
           {
            "aaxis": {
             "endlinecolor": "#2a3f5f",
             "gridcolor": "white",
             "linecolor": "white",
             "minorgridcolor": "white",
             "startlinecolor": "#2a3f5f"
            },
            "baxis": {
             "endlinecolor": "#2a3f5f",
             "gridcolor": "white",
             "linecolor": "white",
             "minorgridcolor": "white",
             "startlinecolor": "#2a3f5f"
            },
            "type": "carpet"
           }
          ],
          "choropleth": [
           {
            "colorbar": {
             "outlinewidth": 0,
             "ticks": ""
            },
            "type": "choropleth"
           }
          ],
          "contour": [
           {
            "colorbar": {
             "outlinewidth": 0,
             "ticks": ""
            },
            "colorscale": [
             [
              0,
              "#0d0887"
             ],
             [
              0.1111111111111111,
              "#46039f"
             ],
             [
              0.2222222222222222,
              "#7201a8"
             ],
             [
              0.3333333333333333,
              "#9c179e"
             ],
             [
              0.4444444444444444,
              "#bd3786"
             ],
             [
              0.5555555555555556,
              "#d8576b"
             ],
             [
              0.6666666666666666,
              "#ed7953"
             ],
             [
              0.7777777777777778,
              "#fb9f3a"
             ],
             [
              0.8888888888888888,
              "#fdca26"
             ],
             [
              1,
              "#f0f921"
             ]
            ],
            "type": "contour"
           }
          ],
          "contourcarpet": [
           {
            "colorbar": {
             "outlinewidth": 0,
             "ticks": ""
            },
            "type": "contourcarpet"
           }
          ],
          "heatmap": [
           {
            "colorbar": {
             "outlinewidth": 0,
             "ticks": ""
            },
            "colorscale": [
             [
              0,
              "#0d0887"
             ],
             [
              0.1111111111111111,
              "#46039f"
             ],
             [
              0.2222222222222222,
              "#7201a8"
             ],
             [
              0.3333333333333333,
              "#9c179e"
             ],
             [
              0.4444444444444444,
              "#bd3786"
             ],
             [
              0.5555555555555556,
              "#d8576b"
             ],
             [
              0.6666666666666666,
              "#ed7953"
             ],
             [
              0.7777777777777778,
              "#fb9f3a"
             ],
             [
              0.8888888888888888,
              "#fdca26"
             ],
             [
              1,
              "#f0f921"
             ]
            ],
            "type": "heatmap"
           }
          ],
          "heatmapgl": [
           {
            "colorbar": {
             "outlinewidth": 0,
             "ticks": ""
            },
            "colorscale": [
             [
              0,
              "#0d0887"
             ],
             [
              0.1111111111111111,
              "#46039f"
             ],
             [
              0.2222222222222222,
              "#7201a8"
             ],
             [
              0.3333333333333333,
              "#9c179e"
             ],
             [
              0.4444444444444444,
              "#bd3786"
             ],
             [
              0.5555555555555556,
              "#d8576b"
             ],
             [
              0.6666666666666666,
              "#ed7953"
             ],
             [
              0.7777777777777778,
              "#fb9f3a"
             ],
             [
              0.8888888888888888,
              "#fdca26"
             ],
             [
              1,
              "#f0f921"
             ]
            ],
            "type": "heatmapgl"
           }
          ],
          "histogram": [
           {
            "marker": {
             "pattern": {
              "fillmode": "overlay",
              "size": 10,
              "solidity": 0.2
             }
            },
            "type": "histogram"
           }
          ],
          "histogram2d": [
           {
            "colorbar": {
             "outlinewidth": 0,
             "ticks": ""
            },
            "colorscale": [
             [
              0,
              "#0d0887"
             ],
             [
              0.1111111111111111,
              "#46039f"
             ],
             [
              0.2222222222222222,
              "#7201a8"
             ],
             [
              0.3333333333333333,
              "#9c179e"
             ],
             [
              0.4444444444444444,
              "#bd3786"
             ],
             [
              0.5555555555555556,
              "#d8576b"
             ],
             [
              0.6666666666666666,
              "#ed7953"
             ],
             [
              0.7777777777777778,
              "#fb9f3a"
             ],
             [
              0.8888888888888888,
              "#fdca26"
             ],
             [
              1,
              "#f0f921"
             ]
            ],
            "type": "histogram2d"
           }
          ],
          "histogram2dcontour": [
           {
            "colorbar": {
             "outlinewidth": 0,
             "ticks": ""
            },
            "colorscale": [
             [
              0,
              "#0d0887"
             ],
             [
              0.1111111111111111,
              "#46039f"
             ],
             [
              0.2222222222222222,
              "#7201a8"
             ],
             [
              0.3333333333333333,
              "#9c179e"
             ],
             [
              0.4444444444444444,
              "#bd3786"
             ],
             [
              0.5555555555555556,
              "#d8576b"
             ],
             [
              0.6666666666666666,
              "#ed7953"
             ],
             [
              0.7777777777777778,
              "#fb9f3a"
             ],
             [
              0.8888888888888888,
              "#fdca26"
             ],
             [
              1,
              "#f0f921"
             ]
            ],
            "type": "histogram2dcontour"
           }
          ],
          "mesh3d": [
           {
            "colorbar": {
             "outlinewidth": 0,
             "ticks": ""
            },
            "type": "mesh3d"
           }
          ],
          "parcoords": [
           {
            "line": {
             "colorbar": {
              "outlinewidth": 0,
              "ticks": ""
             }
            },
            "type": "parcoords"
           }
          ],
          "pie": [
           {
            "automargin": true,
            "type": "pie"
           }
          ],
          "scatter": [
           {
            "fillpattern": {
             "fillmode": "overlay",
             "size": 10,
             "solidity": 0.2
            },
            "type": "scatter"
           }
          ],
          "scatter3d": [
           {
            "line": {
             "colorbar": {
              "outlinewidth": 0,
              "ticks": ""
             }
            },
            "marker": {
             "colorbar": {
              "outlinewidth": 0,
              "ticks": ""
             }
            },
            "type": "scatter3d"
           }
          ],
          "scattercarpet": [
           {
            "marker": {
             "colorbar": {
              "outlinewidth": 0,
              "ticks": ""
             }
            },
            "type": "scattercarpet"
           }
          ],
          "scattergeo": [
           {
            "marker": {
             "colorbar": {
              "outlinewidth": 0,
              "ticks": ""
             }
            },
            "type": "scattergeo"
           }
          ],
          "scattergl": [
           {
            "marker": {
             "colorbar": {
              "outlinewidth": 0,
              "ticks": ""
             }
            },
            "type": "scattergl"
           }
          ],
          "scattermapbox": [
           {
            "marker": {
             "colorbar": {
              "outlinewidth": 0,
              "ticks": ""
             }
            },
            "type": "scattermapbox"
           }
          ],
          "scatterpolar": [
           {
            "marker": {
             "colorbar": {
              "outlinewidth": 0,
              "ticks": ""
             }
            },
            "type": "scatterpolar"
           }
          ],
          "scatterpolargl": [
           {
            "marker": {
             "colorbar": {
              "outlinewidth": 0,
              "ticks": ""
             }
            },
            "type": "scatterpolargl"
           }
          ],
          "scatterternary": [
           {
            "marker": {
             "colorbar": {
              "outlinewidth": 0,
              "ticks": ""
             }
            },
            "type": "scatterternary"
           }
          ],
          "surface": [
           {
            "colorbar": {
             "outlinewidth": 0,
             "ticks": ""
            },
            "colorscale": [
             [
              0,
              "#0d0887"
             ],
             [
              0.1111111111111111,
              "#46039f"
             ],
             [
              0.2222222222222222,
              "#7201a8"
             ],
             [
              0.3333333333333333,
              "#9c179e"
             ],
             [
              0.4444444444444444,
              "#bd3786"
             ],
             [
              0.5555555555555556,
              "#d8576b"
             ],
             [
              0.6666666666666666,
              "#ed7953"
             ],
             [
              0.7777777777777778,
              "#fb9f3a"
             ],
             [
              0.8888888888888888,
              "#fdca26"
             ],
             [
              1,
              "#f0f921"
             ]
            ],
            "type": "surface"
           }
          ],
          "table": [
           {
            "cells": {
             "fill": {
              "color": "#EBF0F8"
             },
             "line": {
              "color": "white"
             }
            },
            "header": {
             "fill": {
              "color": "#C8D4E3"
             },
             "line": {
              "color": "white"
             }
            },
            "type": "table"
           }
          ]
         },
         "layout": {
          "annotationdefaults": {
           "arrowcolor": "#2a3f5f",
           "arrowhead": 0,
           "arrowwidth": 1
          },
          "autotypenumbers": "strict",
          "coloraxis": {
           "colorbar": {
            "outlinewidth": 0,
            "ticks": ""
           }
          },
          "colorscale": {
           "diverging": [
            [
             0,
             "#8e0152"
            ],
            [
             0.1,
             "#c51b7d"
            ],
            [
             0.2,
             "#de77ae"
            ],
            [
             0.3,
             "#f1b6da"
            ],
            [
             0.4,
             "#fde0ef"
            ],
            [
             0.5,
             "#f7f7f7"
            ],
            [
             0.6,
             "#e6f5d0"
            ],
            [
             0.7,
             "#b8e186"
            ],
            [
             0.8,
             "#7fbc41"
            ],
            [
             0.9,
             "#4d9221"
            ],
            [
             1,
             "#276419"
            ]
           ],
           "sequential": [
            [
             0,
             "#0d0887"
            ],
            [
             0.1111111111111111,
             "#46039f"
            ],
            [
             0.2222222222222222,
             "#7201a8"
            ],
            [
             0.3333333333333333,
             "#9c179e"
            ],
            [
             0.4444444444444444,
             "#bd3786"
            ],
            [
             0.5555555555555556,
             "#d8576b"
            ],
            [
             0.6666666666666666,
             "#ed7953"
            ],
            [
             0.7777777777777778,
             "#fb9f3a"
            ],
            [
             0.8888888888888888,
             "#fdca26"
            ],
            [
             1,
             "#f0f921"
            ]
           ],
           "sequentialminus": [
            [
             0,
             "#0d0887"
            ],
            [
             0.1111111111111111,
             "#46039f"
            ],
            [
             0.2222222222222222,
             "#7201a8"
            ],
            [
             0.3333333333333333,
             "#9c179e"
            ],
            [
             0.4444444444444444,
             "#bd3786"
            ],
            [
             0.5555555555555556,
             "#d8576b"
            ],
            [
             0.6666666666666666,
             "#ed7953"
            ],
            [
             0.7777777777777778,
             "#fb9f3a"
            ],
            [
             0.8888888888888888,
             "#fdca26"
            ],
            [
             1,
             "#f0f921"
            ]
           ]
          },
          "colorway": [
           "#636efa",
           "#EF553B",
           "#00cc96",
           "#ab63fa",
           "#FFA15A",
           "#19d3f3",
           "#FF6692",
           "#B6E880",
           "#FF97FF",
           "#FECB52"
          ],
          "font": {
           "color": "#2a3f5f"
          },
          "geo": {
           "bgcolor": "white",
           "lakecolor": "white",
           "landcolor": "#E5ECF6",
           "showlakes": true,
           "showland": true,
           "subunitcolor": "white"
          },
          "hoverlabel": {
           "align": "left"
          },
          "hovermode": "closest",
          "mapbox": {
           "style": "light"
          },
          "paper_bgcolor": "white",
          "plot_bgcolor": "#E5ECF6",
          "polar": {
           "angularaxis": {
            "gridcolor": "white",
            "linecolor": "white",
            "ticks": ""
           },
           "bgcolor": "#E5ECF6",
           "radialaxis": {
            "gridcolor": "white",
            "linecolor": "white",
            "ticks": ""
           }
          },
          "scene": {
           "xaxis": {
            "backgroundcolor": "#E5ECF6",
            "gridcolor": "white",
            "gridwidth": 2,
            "linecolor": "white",
            "showbackground": true,
            "ticks": "",
            "zerolinecolor": "white"
           },
           "yaxis": {
            "backgroundcolor": "#E5ECF6",
            "gridcolor": "white",
            "gridwidth": 2,
            "linecolor": "white",
            "showbackground": true,
            "ticks": "",
            "zerolinecolor": "white"
           },
           "zaxis": {
            "backgroundcolor": "#E5ECF6",
            "gridcolor": "white",
            "gridwidth": 2,
            "linecolor": "white",
            "showbackground": true,
            "ticks": "",
            "zerolinecolor": "white"
           }
          },
          "shapedefaults": {
           "line": {
            "color": "#2a3f5f"
           }
          },
          "ternary": {
           "aaxis": {
            "gridcolor": "white",
            "linecolor": "white",
            "ticks": ""
           },
           "baxis": {
            "gridcolor": "white",
            "linecolor": "white",
            "ticks": ""
           },
           "bgcolor": "#E5ECF6",
           "caxis": {
            "gridcolor": "white",
            "linecolor": "white",
            "ticks": ""
           }
          },
          "title": {
           "x": 0.05
          },
          "xaxis": {
           "automargin": true,
           "gridcolor": "white",
           "linecolor": "white",
           "ticks": "",
           "title": {
            "standoff": 15
           },
           "zerolinecolor": "white",
           "zerolinewidth": 2
          },
          "yaxis": {
           "automargin": true,
           "gridcolor": "white",
           "linecolor": "white",
           "ticks": "",
           "title": {
            "standoff": 15
           },
           "zerolinecolor": "white",
           "zerolinewidth": 2
          }
         }
        },
        "width": 700,
        "xaxis": {
         "anchor": "y",
         "domain": [
          0,
          1
         ],
         "title": {
          "text": "adj_budget"
         }
        },
        "yaxis": {
         "anchor": "x",
         "domain": [
          0,
          1
         ],
         "title": {
          "text": "title"
         }
        }
       }
      }
     },
     "metadata": {},
     "output_type": "display_data"
    },
    {
     "data": {
      "application/vnd.plotly.v1+json": {
       "config": {
        "plotlyServerURL": "https://plot.ly"
       },
       "data": [
        {
         "alignmentgroup": "True",
         "hovertemplate": "adj_revenue=%{x}<br>title=%{y}<extra></extra>",
         "legendgroup": "",
         "marker": {
          "color": "#636efa",
          "pattern": {
           "shape": ""
          }
         },
         "name": "",
         "offsetgroup": "",
         "orientation": "h",
         "showlegend": false,
         "textposition": "auto",
         "type": "bar",
         "x": [
          6054857,
          428888606,
          8297541,
          73583508,
          292549571,
          242135882,
          44780649,
          445576295,
          554254623,
          197014075,
          436388935
         ],
         "xaxis": "x",
         "y": [
          "Reservoir Dogs",
          "Pulp Fiction",
          "Four Rooms",
          "Jackie Brown",
          "Kill Bill: Vol. 1",
          "Kill Bill: Vol. 2",
          "Death Proof",
          "Inglourious Basterds",
          "Django Unchained",
          "The Hateful Eight",
          "Once Upon a Time… in Hollywood"
         ],
         "yaxis": "y"
        }
       ],
       "layout": {
        "barmode": "relative",
        "legend": {
         "tracegroupgap": 0
        },
        "margin": {
         "b": 25,
         "l": 25,
         "r": 25,
         "t": 25
        },
        "template": {
         "data": {
          "bar": [
           {
            "error_x": {
             "color": "#2a3f5f"
            },
            "error_y": {
             "color": "#2a3f5f"
            },
            "marker": {
             "line": {
              "color": "#E5ECF6",
              "width": 0.5
             },
             "pattern": {
              "fillmode": "overlay",
              "size": 10,
              "solidity": 0.2
             }
            },
            "type": "bar"
           }
          ],
          "barpolar": [
           {
            "marker": {
             "line": {
              "color": "#E5ECF6",
              "width": 0.5
             },
             "pattern": {
              "fillmode": "overlay",
              "size": 10,
              "solidity": 0.2
             }
            },
            "type": "barpolar"
           }
          ],
          "carpet": [
           {
            "aaxis": {
             "endlinecolor": "#2a3f5f",
             "gridcolor": "white",
             "linecolor": "white",
             "minorgridcolor": "white",
             "startlinecolor": "#2a3f5f"
            },
            "baxis": {
             "endlinecolor": "#2a3f5f",
             "gridcolor": "white",
             "linecolor": "white",
             "minorgridcolor": "white",
             "startlinecolor": "#2a3f5f"
            },
            "type": "carpet"
           }
          ],
          "choropleth": [
           {
            "colorbar": {
             "outlinewidth": 0,
             "ticks": ""
            },
            "type": "choropleth"
           }
          ],
          "contour": [
           {
            "colorbar": {
             "outlinewidth": 0,
             "ticks": ""
            },
            "colorscale": [
             [
              0,
              "#0d0887"
             ],
             [
              0.1111111111111111,
              "#46039f"
             ],
             [
              0.2222222222222222,
              "#7201a8"
             ],
             [
              0.3333333333333333,
              "#9c179e"
             ],
             [
              0.4444444444444444,
              "#bd3786"
             ],
             [
              0.5555555555555556,
              "#d8576b"
             ],
             [
              0.6666666666666666,
              "#ed7953"
             ],
             [
              0.7777777777777778,
              "#fb9f3a"
             ],
             [
              0.8888888888888888,
              "#fdca26"
             ],
             [
              1,
              "#f0f921"
             ]
            ],
            "type": "contour"
           }
          ],
          "contourcarpet": [
           {
            "colorbar": {
             "outlinewidth": 0,
             "ticks": ""
            },
            "type": "contourcarpet"
           }
          ],
          "heatmap": [
           {
            "colorbar": {
             "outlinewidth": 0,
             "ticks": ""
            },
            "colorscale": [
             [
              0,
              "#0d0887"
             ],
             [
              0.1111111111111111,
              "#46039f"
             ],
             [
              0.2222222222222222,
              "#7201a8"
             ],
             [
              0.3333333333333333,
              "#9c179e"
             ],
             [
              0.4444444444444444,
              "#bd3786"
             ],
             [
              0.5555555555555556,
              "#d8576b"
             ],
             [
              0.6666666666666666,
              "#ed7953"
             ],
             [
              0.7777777777777778,
              "#fb9f3a"
             ],
             [
              0.8888888888888888,
              "#fdca26"
             ],
             [
              1,
              "#f0f921"
             ]
            ],
            "type": "heatmap"
           }
          ],
          "heatmapgl": [
           {
            "colorbar": {
             "outlinewidth": 0,
             "ticks": ""
            },
            "colorscale": [
             [
              0,
              "#0d0887"
             ],
             [
              0.1111111111111111,
              "#46039f"
             ],
             [
              0.2222222222222222,
              "#7201a8"
             ],
             [
              0.3333333333333333,
              "#9c179e"
             ],
             [
              0.4444444444444444,
              "#bd3786"
             ],
             [
              0.5555555555555556,
              "#d8576b"
             ],
             [
              0.6666666666666666,
              "#ed7953"
             ],
             [
              0.7777777777777778,
              "#fb9f3a"
             ],
             [
              0.8888888888888888,
              "#fdca26"
             ],
             [
              1,
              "#f0f921"
             ]
            ],
            "type": "heatmapgl"
           }
          ],
          "histogram": [
           {
            "marker": {
             "pattern": {
              "fillmode": "overlay",
              "size": 10,
              "solidity": 0.2
             }
            },
            "type": "histogram"
           }
          ],
          "histogram2d": [
           {
            "colorbar": {
             "outlinewidth": 0,
             "ticks": ""
            },
            "colorscale": [
             [
              0,
              "#0d0887"
             ],
             [
              0.1111111111111111,
              "#46039f"
             ],
             [
              0.2222222222222222,
              "#7201a8"
             ],
             [
              0.3333333333333333,
              "#9c179e"
             ],
             [
              0.4444444444444444,
              "#bd3786"
             ],
             [
              0.5555555555555556,
              "#d8576b"
             ],
             [
              0.6666666666666666,
              "#ed7953"
             ],
             [
              0.7777777777777778,
              "#fb9f3a"
             ],
             [
              0.8888888888888888,
              "#fdca26"
             ],
             [
              1,
              "#f0f921"
             ]
            ],
            "type": "histogram2d"
           }
          ],
          "histogram2dcontour": [
           {
            "colorbar": {
             "outlinewidth": 0,
             "ticks": ""
            },
            "colorscale": [
             [
              0,
              "#0d0887"
             ],
             [
              0.1111111111111111,
              "#46039f"
             ],
             [
              0.2222222222222222,
              "#7201a8"
             ],
             [
              0.3333333333333333,
              "#9c179e"
             ],
             [
              0.4444444444444444,
              "#bd3786"
             ],
             [
              0.5555555555555556,
              "#d8576b"
             ],
             [
              0.6666666666666666,
              "#ed7953"
             ],
             [
              0.7777777777777778,
              "#fb9f3a"
             ],
             [
              0.8888888888888888,
              "#fdca26"
             ],
             [
              1,
              "#f0f921"
             ]
            ],
            "type": "histogram2dcontour"
           }
          ],
          "mesh3d": [
           {
            "colorbar": {
             "outlinewidth": 0,
             "ticks": ""
            },
            "type": "mesh3d"
           }
          ],
          "parcoords": [
           {
            "line": {
             "colorbar": {
              "outlinewidth": 0,
              "ticks": ""
             }
            },
            "type": "parcoords"
           }
          ],
          "pie": [
           {
            "automargin": true,
            "type": "pie"
           }
          ],
          "scatter": [
           {
            "fillpattern": {
             "fillmode": "overlay",
             "size": 10,
             "solidity": 0.2
            },
            "type": "scatter"
           }
          ],
          "scatter3d": [
           {
            "line": {
             "colorbar": {
              "outlinewidth": 0,
              "ticks": ""
             }
            },
            "marker": {
             "colorbar": {
              "outlinewidth": 0,
              "ticks": ""
             }
            },
            "type": "scatter3d"
           }
          ],
          "scattercarpet": [
           {
            "marker": {
             "colorbar": {
              "outlinewidth": 0,
              "ticks": ""
             }
            },
            "type": "scattercarpet"
           }
          ],
          "scattergeo": [
           {
            "marker": {
             "colorbar": {
              "outlinewidth": 0,
              "ticks": ""
             }
            },
            "type": "scattergeo"
           }
          ],
          "scattergl": [
           {
            "marker": {
             "colorbar": {
              "outlinewidth": 0,
              "ticks": ""
             }
            },
            "type": "scattergl"
           }
          ],
          "scattermapbox": [
           {
            "marker": {
             "colorbar": {
              "outlinewidth": 0,
              "ticks": ""
             }
            },
            "type": "scattermapbox"
           }
          ],
          "scatterpolar": [
           {
            "marker": {
             "colorbar": {
              "outlinewidth": 0,
              "ticks": ""
             }
            },
            "type": "scatterpolar"
           }
          ],
          "scatterpolargl": [
           {
            "marker": {
             "colorbar": {
              "outlinewidth": 0,
              "ticks": ""
             }
            },
            "type": "scatterpolargl"
           }
          ],
          "scatterternary": [
           {
            "marker": {
             "colorbar": {
              "outlinewidth": 0,
              "ticks": ""
             }
            },
            "type": "scatterternary"
           }
          ],
          "surface": [
           {
            "colorbar": {
             "outlinewidth": 0,
             "ticks": ""
            },
            "colorscale": [
             [
              0,
              "#0d0887"
             ],
             [
              0.1111111111111111,
              "#46039f"
             ],
             [
              0.2222222222222222,
              "#7201a8"
             ],
             [
              0.3333333333333333,
              "#9c179e"
             ],
             [
              0.4444444444444444,
              "#bd3786"
             ],
             [
              0.5555555555555556,
              "#d8576b"
             ],
             [
              0.6666666666666666,
              "#ed7953"
             ],
             [
              0.7777777777777778,
              "#fb9f3a"
             ],
             [
              0.8888888888888888,
              "#fdca26"
             ],
             [
              1,
              "#f0f921"
             ]
            ],
            "type": "surface"
           }
          ],
          "table": [
           {
            "cells": {
             "fill": {
              "color": "#EBF0F8"
             },
             "line": {
              "color": "white"
             }
            },
            "header": {
             "fill": {
              "color": "#C8D4E3"
             },
             "line": {
              "color": "white"
             }
            },
            "type": "table"
           }
          ]
         },
         "layout": {
          "annotationdefaults": {
           "arrowcolor": "#2a3f5f",
           "arrowhead": 0,
           "arrowwidth": 1
          },
          "autotypenumbers": "strict",
          "coloraxis": {
           "colorbar": {
            "outlinewidth": 0,
            "ticks": ""
           }
          },
          "colorscale": {
           "diverging": [
            [
             0,
             "#8e0152"
            ],
            [
             0.1,
             "#c51b7d"
            ],
            [
             0.2,
             "#de77ae"
            ],
            [
             0.3,
             "#f1b6da"
            ],
            [
             0.4,
             "#fde0ef"
            ],
            [
             0.5,
             "#f7f7f7"
            ],
            [
             0.6,
             "#e6f5d0"
            ],
            [
             0.7,
             "#b8e186"
            ],
            [
             0.8,
             "#7fbc41"
            ],
            [
             0.9,
             "#4d9221"
            ],
            [
             1,
             "#276419"
            ]
           ],
           "sequential": [
            [
             0,
             "#0d0887"
            ],
            [
             0.1111111111111111,
             "#46039f"
            ],
            [
             0.2222222222222222,
             "#7201a8"
            ],
            [
             0.3333333333333333,
             "#9c179e"
            ],
            [
             0.4444444444444444,
             "#bd3786"
            ],
            [
             0.5555555555555556,
             "#d8576b"
            ],
            [
             0.6666666666666666,
             "#ed7953"
            ],
            [
             0.7777777777777778,
             "#fb9f3a"
            ],
            [
             0.8888888888888888,
             "#fdca26"
            ],
            [
             1,
             "#f0f921"
            ]
           ],
           "sequentialminus": [
            [
             0,
             "#0d0887"
            ],
            [
             0.1111111111111111,
             "#46039f"
            ],
            [
             0.2222222222222222,
             "#7201a8"
            ],
            [
             0.3333333333333333,
             "#9c179e"
            ],
            [
             0.4444444444444444,
             "#bd3786"
            ],
            [
             0.5555555555555556,
             "#d8576b"
            ],
            [
             0.6666666666666666,
             "#ed7953"
            ],
            [
             0.7777777777777778,
             "#fb9f3a"
            ],
            [
             0.8888888888888888,
             "#fdca26"
            ],
            [
             1,
             "#f0f921"
            ]
           ]
          },
          "colorway": [
           "#636efa",
           "#EF553B",
           "#00cc96",
           "#ab63fa",
           "#FFA15A",
           "#19d3f3",
           "#FF6692",
           "#B6E880",
           "#FF97FF",
           "#FECB52"
          ],
          "font": {
           "color": "#2a3f5f"
          },
          "geo": {
           "bgcolor": "white",
           "lakecolor": "white",
           "landcolor": "#E5ECF6",
           "showlakes": true,
           "showland": true,
           "subunitcolor": "white"
          },
          "hoverlabel": {
           "align": "left"
          },
          "hovermode": "closest",
          "mapbox": {
           "style": "light"
          },
          "paper_bgcolor": "white",
          "plot_bgcolor": "#E5ECF6",
          "polar": {
           "angularaxis": {
            "gridcolor": "white",
            "linecolor": "white",
            "ticks": ""
           },
           "bgcolor": "#E5ECF6",
           "radialaxis": {
            "gridcolor": "white",
            "linecolor": "white",
            "ticks": ""
           }
          },
          "scene": {
           "xaxis": {
            "backgroundcolor": "#E5ECF6",
            "gridcolor": "white",
            "gridwidth": 2,
            "linecolor": "white",
            "showbackground": true,
            "ticks": "",
            "zerolinecolor": "white"
           },
           "yaxis": {
            "backgroundcolor": "#E5ECF6",
            "gridcolor": "white",
            "gridwidth": 2,
            "linecolor": "white",
            "showbackground": true,
            "ticks": "",
            "zerolinecolor": "white"
           },
           "zaxis": {
            "backgroundcolor": "#E5ECF6",
            "gridcolor": "white",
            "gridwidth": 2,
            "linecolor": "white",
            "showbackground": true,
            "ticks": "",
            "zerolinecolor": "white"
           }
          },
          "shapedefaults": {
           "line": {
            "color": "#2a3f5f"
           }
          },
          "ternary": {
           "aaxis": {
            "gridcolor": "white",
            "linecolor": "white",
            "ticks": ""
           },
           "baxis": {
            "gridcolor": "white",
            "linecolor": "white",
            "ticks": ""
           },
           "bgcolor": "#E5ECF6",
           "caxis": {
            "gridcolor": "white",
            "linecolor": "white",
            "ticks": ""
           }
          },
          "title": {
           "x": 0.05
          },
          "xaxis": {
           "automargin": true,
           "gridcolor": "white",
           "linecolor": "white",
           "ticks": "",
           "title": {
            "standoff": 15
           },
           "zerolinecolor": "white",
           "zerolinewidth": 2
          },
          "yaxis": {
           "automargin": true,
           "gridcolor": "white",
           "linecolor": "white",
           "ticks": "",
           "title": {
            "standoff": 15
           },
           "zerolinecolor": "white",
           "zerolinewidth": 2
          }
         }
        },
        "width": 700,
        "xaxis": {
         "anchor": "y",
         "domain": [
          0,
          1
         ],
         "title": {
          "text": "adj_revenue"
         }
        },
        "yaxis": {
         "anchor": "x",
         "domain": [
          0,
          1
         ],
         "title": {
          "text": "title"
         }
        }
       }
      }
     },
     "metadata": {},
     "output_type": "display_data"
    }
   ],
   "source": [
    "fig = px.bar(movie_df, x='adj_budget', y='title')\n",
    "fig.update_layout(\n",
    "    width=700,\n",
    "    margin={'l': 25, 'r': 25, 't': 25, 'b':25}\n",
    ")\n",
    "\n",
    "fig.show()\n",
    "\n",
    "fig = px.bar(movie_df, x='adj_revenue', y='title')\n",
    "fig.update_layout(\n",
    "    width=700,\n",
    "    margin={'l': 25, 'r': 25, 't': 25, 'b':25}\n",
    ")\n",
    "\n",
    "fig.show()"
   ]
  },
  {
   "cell_type": "code",
   "execution_count": null,
   "id": "429dea8c",
   "metadata": {},
   "outputs": [
    {
     "data": {
      "text/html": [
       "\n",
       "  <div id=\"aa2b26b9-8806-4d30-91e3-d9ef5665672b\" data-root-id=\"p1125\" style=\"display: contents;\"></div>\n"
      ]
     },
     "metadata": {},
     "output_type": "display_data"
    },
    {
     "data": {
      "application/javascript": "(function(root) {\n  function embed_document(root) {\n  const docs_json = {\"c8250c2e-87ff-4dfb-a300-a86e51e60c2a\":{\"version\":\"3.1.0\",\"title\":\"Bokeh Application\",\"defs\":[],\"roots\":[{\"type\":\"object\",\"name\":\"Figure\",\"id\":\"p1125\",\"attributes\":{\"x_range\":{\"type\":\"object\",\"name\":\"Range1d\",\"id\":\"p1123\",\"attributes\":{\"start\":-20.1,\"end\":20.1}},\"y_range\":{\"type\":\"object\",\"name\":\"Range1d\",\"id\":\"p1124\",\"attributes\":{\"start\":-20.1,\"end\":20.1}},\"x_scale\":{\"type\":\"object\",\"name\":\"LinearScale\",\"id\":\"p1137\"},\"y_scale\":{\"type\":\"object\",\"name\":\"LinearScale\",\"id\":\"p1139\"},\"title\":{\"type\":\"object\",\"name\":\"Title\",\"id\":\"p1128\",\"attributes\":{\"text\":\"Tarantino Cast Network\"}},\"renderers\":[{\"type\":\"object\",\"name\":\"GraphRenderer\",\"id\":\"p1166\",\"attributes\":{\"layout_provider\":{\"type\":\"object\",\"name\":\"StaticLayoutProvider\",\"id\":\"p1197\",\"attributes\":{\"graph_layout\":{\"type\":\"map\",\"entries\":[[0,{\"type\":\"ndarray\",\"array\":{\"type\":\"bytes\",\"data\":\"56lxNI6vF8Cb7uU9PJwbQA==\"},\"shape\":[2],\"dtype\":\"float64\",\"order\":\"little\"}],[1,{\"type\":\"ndarray\",\"array\":{\"type\":\"bytes\",\"data\":\"fncHXMi8sr+A4bafH58jQA==\"},\"shape\":[2],\"dtype\":\"float64\",\"order\":\"little\"}],[2,{\"type\":\"ndarray\",\"array\":{\"type\":\"bytes\",\"data\":\"QKa4dTflB8Ds2x5lUGEgQA==\"},\"shape\":[2],\"dtype\":\"float64\",\"order\":\"little\"}],[3,{\"type\":\"ndarray\",\"array\":{\"type\":\"bytes\",\"data\":\"OyqtRXbzDkDcIG2aQQAFQA==\"},\"shape\":[2],\"dtype\":\"float64\",\"order\":\"little\"}],[4,{\"type\":\"ndarray\",\"array\":{\"type\":\"bytes\",\"data\":\"1dtaIS+VBECfoebzI+QpQA==\"},\"shape\":[2],\"dtype\":\"float64\",\"order\":\"little\"}],[5,{\"type\":\"ndarray\",\"array\":{\"type\":\"bytes\",\"data\":\"5eLaT9xzDcAMgPgyoH0lQA==\"},\"shape\":[2],\"dtype\":\"float64\",\"order\":\"little\"}],[6,{\"type\":\"ndarray\",\"array\":{\"type\":\"bytes\",\"data\":\"e8l8SsM/8j8GQS5gXEspQA==\"},\"shape\":[2],\"dtype\":\"float64\",\"order\":\"little\"}],[7,{\"type\":\"ndarray\",\"array\":{\"type\":\"bytes\",\"data\":\"Em1hbeQ517+Fd86ivI4rQA==\"},\"shape\":[2],\"dtype\":\"float64\",\"order\":\"little\"}],[8,{\"type\":\"ndarray\",\"array\":{\"type\":\"bytes\",\"data\":\"lZJWpZcz0r9p8325jHMqQA==\"},\"shape\":[2],\"dtype\":\"float64\",\"order\":\"little\"}],[9,{\"type\":\"ndarray\",\"array\":{\"type\":\"bytes\",\"data\":\"apgBDVTe/j+lsbYFwrooQA==\"},\"shape\":[2],\"dtype\":\"float64\",\"order\":\"little\"}],[10,{\"type\":\"ndarray\",\"array\":{\"type\":\"bytes\",\"data\":\"EhEwfQRr+b8c8k8Fr3wDQA==\"},\"shape\":[2],\"dtype\":\"float64\",\"order\":\"little\"}],[11,{\"type\":\"ndarray\",\"array\":{\"type\":\"bytes\",\"data\":\"LslxKbL2DcBt5m6P9nkmQA==\"},\"shape\":[2],\"dtype\":\"float64\",\"order\":\"little\"}],[12,{\"type\":\"ndarray\",\"array\":{\"type\":\"bytes\",\"data\":\"ctmEN/XwEkAJU9WW8QTDPw==\"},\"shape\":[2],\"dtype\":\"float64\",\"order\":\"little\"}],[13,{\"type\":\"ndarray\",\"array\":{\"type\":\"bytes\",\"data\":\"ny+NOj9H+j923mCOXOMrQA==\"},\"shape\":[2],\"dtype\":\"float64\",\"order\":\"little\"}],[14,{\"type\":\"ndarray\",\"array\":{\"type\":\"bytes\",\"data\":\"BSA4BWBHyT8WW+5YzkMsQA==\"},\"shape\":[2],\"dtype\":\"float64\",\"order\":\"little\"}],[15,{\"type\":\"ndarray\",\"array\":{\"type\":\"bytes\",\"data\":\"uz7HsyBpAUCIMheTjTQrQA==\"},\"shape\":[2],\"dtype\":\"float64\",\"order\":\"little\"}],[16,{\"type\":\"ndarray\",\"array\":{\"type\":\"bytes\",\"data\":\"rgDAJEvwCcDgM3ry6ksnQA==\"},\"shape\":[2],\"dtype\":\"float64\",\"order\":\"little\"}],[17,{\"type\":\"ndarray\",\"array\":{\"type\":\"bytes\",\"data\":\"fxS1cSJ0EsB7O0OKLHopQA==\"},\"shape\":[2],\"dtype\":\"float64\",\"order\":\"little\"}],[18,{\"type\":\"ndarray\",\"array\":{\"type\":\"bytes\",\"data\":\"zghl7PeMCsBHqkER91UmQA==\"},\"shape\":[2],\"dtype\":\"float64\",\"order\":\"little\"}],[19,{\"type\":\"ndarray\",\"array\":{\"type\":\"bytes\",\"data\":\"xVagA8W+/j/bHm3RNPYpQA==\"},\"shape\":[2],\"dtype\":\"float64\",\"order\":\"little\"}],[20,{\"type\":\"ndarray\",\"array\":{\"type\":\"bytes\",\"data\":\"oV6jRJr94z8JRag/sJgrQA==\"},\"shape\":[2],\"dtype\":\"float64\",\"order\":\"little\"}],[21,{\"type\":\"ndarray\",\"array\":{\"type\":\"bytes\",\"data\":\"A+AfsqIL5T+0l4uiiH4qQA==\"},\"shape\":[2],\"dtype\":\"float64\",\"order\":\"little\"}],[22,{\"type\":\"ndarray\",\"array\":{\"type\":\"bytes\",\"data\":\"k0dYZ9If9j8FujyhuscqQA==\"},\"shape\":[2],\"dtype\":\"float64\",\"order\":\"little\"}],[23,{\"type\":\"ndarray\",\"array\":{\"type\":\"bytes\",\"data\":\"ZdsBXcojDcCNU1beSbwnQA==\"},\"shape\":[2],\"dtype\":\"float64\",\"order\":\"little\"}],[24,{\"type\":\"ndarray\",\"array\":{\"type\":\"bytes\",\"data\":\"fWjhK65x0D/C99Gzio4pQA==\"},\"shape\":[2],\"dtype\":\"float64\",\"order\":\"little\"}],[25,{\"type\":\"ndarray\",\"array\":{\"type\":\"bytes\",\"data\":\"lYbD82rc8D/N8LcDL2ksQA==\"},\"shape\":[2],\"dtype\":\"float64\",\"order\":\"little\"}],[26,{\"type\":\"ndarray\",\"array\":{\"type\":\"bytes\",\"data\":\"liwaIBkrHsAdcvpG3HYsQA==\"},\"shape\":[2],\"dtype\":\"float64\",\"order\":\"little\"}],[27,{\"type\":\"ndarray\",\"array\":{\"type\":\"bytes\",\"data\":\"vMdsNu6EHcBsROJsWB4lQA==\"},\"shape\":[2],\"dtype\":\"float64\",\"order\":\"little\"}],[28,{\"type\":\"ndarray\",\"array\":{\"type\":\"bytes\",\"data\":\"htVGtUKIEMCwnqEDH8/uvw==\"},\"shape\":[2],\"dtype\":\"float64\",\"order\":\"little\"}],[29,{\"type\":\"ndarray\",\"array\":{\"type\":\"bytes\",\"data\":\"xNRkxV/kDsAx6nVR2NYUQA==\"},\"shape\":[2],\"dtype\":\"float64\",\"order\":\"little\"}],[30,{\"type\":\"ndarray\",\"array\":{\"type\":\"bytes\",\"data\":\"u4qhc9cnIsDfmE6vFYEtQA==\"},\"shape\":[2],\"dtype\":\"float64\",\"order\":\"little\"}],[31,{\"type\":\"ndarray\",\"array\":{\"type\":\"bytes\",\"data\":\"qaWSekDPG8BwntV4C54tQA==\"},\"shape\":[2],\"dtype\":\"float64\",\"order\":\"little\"}],[32,{\"type\":\"ndarray\",\"array\":{\"type\":\"bytes\",\"data\":\"SjuyWrlCIcCJnFi9veUqQA==\"},\"shape\":[2],\"dtype\":\"float64\",\"order\":\"little\"}],[33,{\"type\":\"ndarray\",\"array\":{\"type\":\"bytes\",\"data\":\"OOrVjXSWHcCZ566PZjQuQA==\"},\"shape\":[2],\"dtype\":\"float64\",\"order\":\"little\"}],[34,{\"type\":\"ndarray\",\"array\":{\"type\":\"bytes\",\"data\":\"s6wRaghUJsDSSSny8SQnQA==\"},\"shape\":[2],\"dtype\":\"float64\",\"order\":\"little\"}],[35,{\"type\":\"ndarray\",\"array\":{\"type\":\"bytes\",\"data\":\"9BUgIjA2GcBc0Xhrgc8rQA==\"},\"shape\":[2],\"dtype\":\"float64\",\"order\":\"little\"}],[36,{\"type\":\"ndarray\",\"array\":{\"type\":\"bytes\",\"data\":\"N5Uif0VEI8BmUrmQICQqQA==\"},\"shape\":[2],\"dtype\":\"float64\",\"order\":\"little\"}],[37,{\"type\":\"ndarray\",\"array\":{\"type\":\"bytes\",\"data\":\"MKYeAcNbI8AUFlERokgrQA==\"},\"shape\":[2],\"dtype\":\"float64\",\"order\":\"little\"}],[38,{\"type\":\"ndarray\",\"array\":{\"type\":\"bytes\",\"data\":\"aaVoP5pPFsCcaS8Ka4ksQA==\"},\"shape\":[2],\"dtype\":\"float64\",\"order\":\"little\"}],[39,{\"type\":\"ndarray\",\"array\":{\"type\":\"bytes\",\"data\":\"JsW0kDevIMAFDyvjDAUpQA==\"},\"shape\":[2],\"dtype\":\"float64\",\"order\":\"little\"}],[40,{\"type\":\"ndarray\",\"array\":{\"type\":\"bytes\",\"data\":\"RqxSGQFDJsD98DwWvh4qQA==\"},\"shape\":[2],\"dtype\":\"float64\",\"order\":\"little\"}],[41,{\"type\":\"ndarray\",\"array\":{\"type\":\"bytes\",\"data\":\"GdnaysUnG8AHBDVkOJwpQA==\"},\"shape\":[2],\"dtype\":\"float64\",\"order\":\"little\"}],[42,{\"type\":\"ndarray\",\"array\":{\"type\":\"bytes\",\"data\":\"1nAL1XI1IsAD0eFo80P6Pw==\"},\"shape\":[2],\"dtype\":\"float64\",\"order\":\"little\"}],[43,{\"type\":\"ndarray\",\"array\":{\"type\":\"bytes\",\"data\":\"Z0F1L+HuIMB2HHTDR1UtQA==\"},\"shape\":[2],\"dtype\":\"float64\",\"order\":\"little\"}],[44,{\"type\":\"ndarray\",\"array\":{\"type\":\"bytes\",\"data\":\"SpmyoUi9I8Ao1w3R9d0sQA==\"},\"shape\":[2],\"dtype\":\"float64\",\"order\":\"little\"}],[45,{\"type\":\"ndarray\",\"array\":{\"type\":\"bytes\",\"data\":\"S0EAFhVmIsCQqIJhzI0nQA==\"},\"shape\":[2],\"dtype\":\"float64\",\"order\":\"little\"}],[46,{\"type\":\"ndarray\",\"array\":{\"type\":\"bytes\",\"data\":\"LUzNu+7PJcCJ+KY/56soQA==\"},\"shape\":[2],\"dtype\":\"float64\",\"order\":\"little\"}],[47,{\"type\":\"ndarray\",\"array\":{\"type\":\"bytes\",\"data\":\"DMm+NSGhH8COS4/757MtQA==\"},\"shape\":[2],\"dtype\":\"float64\",\"order\":\"little\"}],[48,{\"type\":\"ndarray\",\"array\":{\"type\":\"bytes\",\"data\":\"hVQ38Cv9JsC03t/E2TopQA==\"},\"shape\":[2],\"dtype\":\"float64\",\"order\":\"little\"}],[49,{\"type\":\"ndarray\",\"array\":{\"type\":\"bytes\",\"data\":\"9Cxk/Bm5IcABlX1jEP4rQA==\"},\"shape\":[2],\"dtype\":\"float64\",\"order\":\"little\"}],[50,{\"type\":\"ndarray\",\"array\":{\"type\":\"bytes\",\"data\":\"4HjaYY4rJcC1Zb34g1EnQA==\"},\"shape\":[2],\"dtype\":\"float64\",\"order\":\"little\"}],[51,{\"type\":\"ndarray\",\"array\":{\"type\":\"bytes\",\"data\":\"+G4NvoGXJcCeGs5FU+wqQA==\"},\"shape\":[2],\"dtype\":\"float64\",\"order\":\"little\"}],[52,{\"type\":\"ndarray\",\"array\":{\"type\":\"bytes\",\"data\":\"NL8Zv3mLI8BXZxDleOgoQA==\"},\"shape\":[2],\"dtype\":\"float64\",\"order\":\"little\"}],[53,{\"type\":\"ndarray\",\"array\":{\"type\":\"bytes\",\"data\":\"EljxahU0J8BJXzirHO0nQA==\"},\"shape\":[2],\"dtype\":\"float64\",\"order\":\"little\"}],[54,{\"type\":\"ndarray\",\"array\":{\"type\":\"bytes\",\"data\":\"PbSNvYAAJMDTEkcStaQnQA==\"},\"shape\":[2],\"dtype\":\"float64\",\"order\":\"little\"}],[55,{\"type\":\"ndarray\",\"array\":{\"type\":\"bytes\",\"data\":\"rFmucdrgIcC1z4tAwLMpQA==\"},\"shape\":[2],\"dtype\":\"float64\",\"order\":\"little\"}],[56,{\"type\":\"ndarray\",\"array\":{\"type\":\"bytes\",\"data\":\"V02daXBiIMBtaUv8tzEsQA==\"},\"shape\":[2],\"dtype\":\"float64\",\"order\":\"little\"}],[57,{\"type\":\"ndarray\",\"array\":{\"type\":\"bytes\",\"data\":\"KW/jBZ9rGMChN0pX91wqQA==\"},\"shape\":[2],\"dtype\":\"float64\",\"order\":\"little\"}],[58,{\"type\":\"ndarray\",\"array\":{\"type\":\"bytes\",\"data\":\"6CgoLeUDJMCahEJ6VfklQA==\"},\"shape\":[2],\"dtype\":\"float64\",\"order\":\"little\"}],[59,{\"type\":\"ndarray\",\"array\":{\"type\":\"bytes\",\"data\":\"eHBPJrGvJMCZVBZ3tlcrQA==\"},\"shape\":[2],\"dtype\":\"float64\",\"order\":\"little\"}],[60,{\"type\":\"ndarray\",\"array\":{\"type\":\"bytes\",\"data\":\"Gkdag0bqIsAXE77I4RMtQA==\"},\"shape\":[2],\"dtype\":\"float64\",\"order\":\"little\"}],[61,{\"type\":\"ndarray\",\"array\":{\"type\":\"bytes\",\"data\":\"CqhA3/9/G8BbwEHQEWIsQA==\"},\"shape\":[2],\"dtype\":\"float64\",\"order\":\"little\"}],[62,{\"type\":\"ndarray\",\"array\":{\"type\":\"bytes\",\"data\":\"MkeOz2UXGMAnU5ufszEtQA==\"},\"shape\":[2],\"dtype\":\"float64\",\"order\":\"little\"}],[63,{\"type\":\"ndarray\",\"array\":{\"type\":\"bytes\",\"data\":\"3lyB3OfVJMBQ8tv7eJcpQA==\"},\"shape\":[2],\"dtype\":\"float64\",\"order\":\"little\"}],[64,{\"type\":\"ndarray\",\"array\":{\"type\":\"bytes\",\"data\":\"2z+LWEGVJsC7y3Xt2gQmQA==\"},\"shape\":[2],\"dtype\":\"float64\",\"order\":\"little\"}],[65,{\"type\":\"ndarray\",\"array\":{\"type\":\"bytes\",\"data\":\"8RA2YOEaFsDddG9KiUgrQA==\"},\"shape\":[2],\"dtype\":\"float64\",\"order\":\"little\"}],[66,{\"type\":\"ndarray\",\"array\":{\"type\":\"bytes\",\"data\":\"C9APwIO2GcAvPneM2O8tQA==\"},\"shape\":[2],\"dtype\":\"float64\",\"order\":\"little\"}],[67,{\"type\":\"ndarray\",\"array\":{\"type\":\"bytes\",\"data\":\"txKZ+plNJcB+6a9Hi3IlQA==\"},\"shape\":[2],\"dtype\":\"float64\",\"order\":\"little\"}],[68,{\"type\":\"ndarray\",\"array\":{\"type\":\"bytes\",\"data\":\"yJLAvLioIcCxA8u+Ehj5Pw==\"},\"shape\":[2],\"dtype\":\"float64\",\"order\":\"little\"}],[69,{\"type\":\"ndarray\",\"array\":{\"type\":\"bytes\",\"data\":\"B26WLNKNHsBgUOO56jwpQA==\"},\"shape\":[2],\"dtype\":\"float64\",\"order\":\"little\"}],[70,{\"type\":\"ndarray\",\"array\":{\"type\":\"bytes\",\"data\":\"sAA2rRNEHMBY9kbj1wIrQA==\"},\"shape\":[2],\"dtype\":\"float64\",\"order\":\"little\"}],[71,{\"type\":\"ndarray\",\"array\":{\"type\":\"bytes\",\"data\":\"kyTCHJZFH8AhIy0APuYqQA==\"},\"shape\":[2],\"dtype\":\"float64\",\"order\":\"little\"}],[72,{\"type\":\"ndarray\",\"array\":{\"type\":\"bytes\",\"data\":\"nIzmy7XfIMCfW3MkuxwvQA==\"},\"shape\":[2],\"dtype\":\"float64\",\"order\":\"little\"}],[73,{\"type\":\"ndarray\",\"array\":{\"type\":\"bytes\",\"data\":\"FkDt4JGCJMA8X2adByMzQA==\"},\"shape\":[2],\"dtype\":\"float64\",\"order\":\"little\"}],[74,{\"type\":\"ndarray\",\"array\":{\"type\":\"bytes\",\"data\":\"8nA6eYKPKMA+zEbxBMwxQA==\"},\"shape\":[2],\"dtype\":\"float64\",\"order\":\"little\"}],[75,{\"type\":\"ndarray\",\"array\":{\"type\":\"bytes\",\"data\":\"BUcaCGk8JsB9Gm2GoJsyQA==\"},\"shape\":[2],\"dtype\":\"float64\",\"order\":\"little\"}],[76,{\"type\":\"ndarray\",\"array\":{\"type\":\"bytes\",\"data\":\"duiKKX9RJsCO13T0Ky0zQA==\"},\"shape\":[2],\"dtype\":\"float64\",\"order\":\"little\"}],[77,{\"type\":\"ndarray\",\"array\":{\"type\":\"bytes\",\"data\":\"A7p/KBnPJcCmaoAC0hcyQA==\"},\"shape\":[2],\"dtype\":\"float64\",\"order\":\"little\"}],[78,{\"type\":\"ndarray\",\"array\":{\"type\":\"bytes\",\"data\":\"VX91PbUeI8AAAAAAAAA0QA==\"},\"shape\":[2],\"dtype\":\"float64\",\"order\":\"little\"}],[79,{\"type\":\"ndarray\",\"array\":{\"type\":\"bytes\",\"data\":\"zLlm9xcgKMCPZNiNeUkxQA==\"},\"shape\":[2],\"dtype\":\"float64\",\"order\":\"little\"}],[80,{\"type\":\"ndarray\",\"array\":{\"type\":\"bytes\",\"data\":\"HJ9I4PKMJMBE7vq8VtEzQA==\"},\"shape\":[2],\"dtype\":\"float64\",\"order\":\"little\"}],[81,{\"type\":\"ndarray\",\"array\":{\"type\":\"bytes\",\"data\":\"7Kk3QWW7IMB1f21lovUzQA==\"},\"shape\":[2],\"dtype\":\"float64\",\"order\":\"little\"}],[82,{\"type\":\"ndarray\",\"array\":{\"type\":\"bytes\",\"data\":\"Uw/RqTXxIcDMyPmmsOkzQA==\"},\"shape\":[2],\"dtype\":\"float64\",\"order\":\"little\"}],[83,{\"type\":\"ndarray\",\"array\":{\"type\":\"bytes\",\"data\":\"zyqfsjiHIcCBcu7eDkMzQA==\"},\"shape\":[2],\"dtype\":\"float64\",\"order\":\"little\"}],[84,{\"type\":\"ndarray\",\"array\":{\"type\":\"bytes\",\"data\":\"XJY90C7JIsBJXIYwHPAyQA==\"},\"shape\":[2],\"dtype\":\"float64\",\"order\":\"little\"}],[85,{\"type\":\"ndarray\",\"array\":{\"type\":\"bytes\",\"data\":\"ov7Ox5XzJ8Bwk6O3QlYyQA==\"},\"shape\":[2],\"dtype\":\"float64\",\"order\":\"little\"}],[86,{\"type\":\"ndarray\",\"array\":{\"type\":\"bytes\",\"data\":\"YEUL/1n8H8A+/Ven5X4zQA==\"},\"shape\":[2],\"dtype\":\"float64\",\"order\":\"little\"}],[87,{\"type\":\"ndarray\",\"array\":{\"type\":\"bytes\",\"data\":\"0g7yggZqI8DUzh9QinQzQA==\"},\"shape\":[2],\"dtype\":\"float64\",\"order\":\"little\"}],[88,{\"type\":\"ndarray\",\"array\":{\"type\":\"bytes\",\"data\":\"BhYIarigJcAOkgiJmokzQA==\"},\"shape\":[2],\"dtype\":\"float64\",\"order\":\"little\"}],[89,{\"type\":\"ndarray\",\"array\":{\"type\":\"bytes\",\"data\":\"640VTgBnJ8DMb+sjbNsyQA==\"},\"shape\":[2],\"dtype\":\"float64\",\"order\":\"little\"}],[90,{\"type\":\"ndarray\",\"array\":{\"type\":\"bytes\",\"data\":\"1YWWZoQVJ8AWh9y/2NMxQA==\"},\"shape\":[2],\"dtype\":\"float64\",\"order\":\"little\"}],[91,{\"type\":\"ndarray\",\"array\":{\"type\":\"bytes\",\"data\":\"MeAPUNaMJMBOxuGhwYoyQA==\"},\"shape\":[2],\"dtype\":\"float64\",\"order\":\"little\"}],[92,{\"type\":\"ndarray\",\"array\":{\"type\":\"bytes\",\"data\":\"kaDL+hnbJcCboY3VdXAlwA==\"},\"shape\":[2],\"dtype\":\"float64\",\"order\":\"little\"}],[93,{\"type\":\"ndarray\",\"array\":{\"type\":\"bytes\",\"data\":\"z7gfeCvKJMDMtBKDbzAdwA==\"},\"shape\":[2],\"dtype\":\"float64\",\"order\":\"little\"}],[94,{\"type\":\"ndarray\",\"array\":{\"type\":\"bytes\",\"data\":\"ORokG0rDK8DFvDXLJbwgwA==\"},\"shape\":[2],\"dtype\":\"float64\",\"order\":\"little\"}],[95,{\"type\":\"ndarray\",\"array\":{\"type\":\"bytes\",\"data\":\"Uz6/kIzbKsC/qq8Qs5AjwA==\"},\"shape\":[2],\"dtype\":\"float64\",\"order\":\"little\"}],[96,{\"type\":\"ndarray\",\"array\":{\"type\":\"bytes\",\"data\":\"dfC1bcPhK8DlKGKQpxUjwA==\"},\"shape\":[2],\"dtype\":\"float64\",\"order\":\"little\"}],[97,{\"type\":\"ndarray\",\"array\":{\"type\":\"bytes\",\"data\":\"Z8Kbovj2JcC/n6tLbiQkwA==\"},\"shape\":[2],\"dtype\":\"float64\",\"order\":\"little\"}],[98,{\"type\":\"ndarray\",\"array\":{\"type\":\"bytes\",\"data\":\"A2xhi58TCMBsdTr7xKUSwA==\"},\"shape\":[2],\"dtype\":\"float64\",\"order\":\"little\"}],[99,{\"type\":\"ndarray\",\"array\":{\"type\":\"bytes\",\"data\":\"uGmhj0K3J8Acq6anEUsjwA==\"},\"shape\":[2],\"dtype\":\"float64\",\"order\":\"little\"}],[100,{\"type\":\"ndarray\",\"array\":{\"type\":\"bytes\",\"data\":\"szE2meSeKsB2t/YCjaUkwA==\"},\"shape\":[2],\"dtype\":\"float64\",\"order\":\"little\"}],[101,{\"type\":\"ndarray\",\"array\":{\"type\":\"bytes\",\"data\":\"n1XtjK9CJ8Dh42dB7c0kwA==\"},\"shape\":[2],\"dtype\":\"float64\",\"order\":\"little\"}],[102,{\"type\":\"ndarray\",\"array\":{\"type\":\"bytes\",\"data\":\"NnPx9oVELMBNtuyhJokkwA==\"},\"shape\":[2],\"dtype\":\"float64\",\"order\":\"little\"}],[103,{\"type\":\"ndarray\",\"array\":{\"type\":\"bytes\",\"data\":\"YQkbgN9EF8AlEWRrk3oPwA==\"},\"shape\":[2],\"dtype\":\"float64\",\"order\":\"little\"}],[104,{\"type\":\"ndarray\",\"array\":{\"type\":\"bytes\",\"data\":\"ghQU0liGKMAgHLee83gnwA==\"},\"shape\":[2],\"dtype\":\"float64\",\"order\":\"little\"}],[105,{\"type\":\"ndarray\",\"array\":{\"type\":\"bytes\",\"data\":\"9qGhjEQqKcDwFqRL59AjwA==\"},\"shape\":[2],\"dtype\":\"float64\",\"order\":\"little\"}],[106,{\"type\":\"ndarray\",\"array\":{\"type\":\"bytes\",\"data\":\"A3Zz5p+nK8B1dSiGO38lwA==\"},\"shape\":[2],\"dtype\":\"float64\",\"order\":\"little\"}],[107,{\"type\":\"ndarray\",\"array\":{\"type\":\"bytes\",\"data\":\"V4lrce29JMD2u23U/fMlwA==\"},\"shape\":[2],\"dtype\":\"float64\",\"order\":\"little\"}],[108,{\"type\":\"ndarray\",\"array\":{\"type\":\"bytes\",\"data\":\"JDMztPWjJcDdXJkX+CMnwA==\"},\"shape\":[2],\"dtype\":\"float64\",\"order\":\"little\"}],[109,{\"type\":\"ndarray\",\"array\":{\"type\":\"bytes\",\"data\":\"T4RJEX3EKcCn+QR3VlIlwA==\"},\"shape\":[2],\"dtype\":\"float64\",\"order\":\"little\"}],[110,{\"type\":\"ndarray\",\"array\":{\"type\":\"bytes\",\"data\":\"MF+7rkNoKsD+Mp7/76cgwA==\"},\"shape\":[2],\"dtype\":\"float64\",\"order\":\"little\"}],[111,{\"type\":\"ndarray\",\"array\":{\"type\":\"bytes\",\"data\":\"ywD8PhMOKcBA7ekTiGcmwA==\"},\"shape\":[2],\"dtype\":\"float64\",\"order\":\"little\"}],[112,{\"type\":\"ndarray\",\"array\":{\"type\":\"bytes\",\"data\":\"XeEjyalXLcBftAm69xoiwA==\"},\"shape\":[2],\"dtype\":\"float64\",\"order\":\"little\"}],[113,{\"type\":\"ndarray\",\"array\":{\"type\":\"bytes\",\"data\":\"xSaKfUqVKsB1vWlmWx8iwA==\"},\"shape\":[2],\"dtype\":\"float64\",\"order\":\"little\"}],[114,{\"type\":\"ndarray\",\"array\":{\"type\":\"bytes\",\"data\":\"tijo3u/MKsCoO06vVTAmwA==\"},\"shape\":[2],\"dtype\":\"float64\",\"order\":\"little\"}],[115,{\"type\":\"ndarray\",\"array\":{\"type\":\"bytes\",\"data\":\"/kjVbTigJsDQovEQa4ImwA==\"},\"shape\":[2],\"dtype\":\"float64\",\"order\":\"little\"}],[116,{\"type\":\"ndarray\",\"array\":{\"type\":\"bytes\",\"data\":\"ZYuUi081KcAIssfjPFkiwA==\"},\"shape\":[2],\"dtype\":\"float64\",\"order\":\"little\"}],[117,{\"type\":\"ndarray\",\"array\":{\"type\":\"bytes\",\"data\":\"k0czAWn7KcAC4yypCAAnwA==\"},\"shape\":[2],\"dtype\":\"float64\",\"order\":\"little\"}],[118,{\"type\":\"ndarray\",\"array\":{\"type\":\"bytes\",\"data\":\"M6xJrOs1J8COQQ+NapMnwA==\"},\"shape\":[2],\"dtype\":\"float64\",\"order\":\"little\"}],[119,{\"type\":\"ndarray\",\"array\":{\"type\":\"bytes\",\"data\":\"SGhDE6LQJ8BipCrpn0ImwA==\"},\"shape\":[2],\"dtype\":\"float64\",\"order\":\"little\"}],[120,{\"type\":\"ndarray\",\"array\":{\"type\":\"bytes\",\"data\":\"9GXZ4mYwLcAzckU25LEgwA==\"},\"shape\":[2],\"dtype\":\"float64\",\"order\":\"little\"}],[121,{\"type\":\"ndarray\",\"array\":{\"type\":\"bytes\",\"data\":\"SfOqwu4zLMAmMRjS7TofwA==\"},\"shape\":[2],\"dtype\":\"float64\",\"order\":\"little\"}],[122,{\"type\":\"ndarray\",\"array\":{\"type\":\"bytes\",\"data\":\"091dAOQmLMCXlNI2P+shwA==\"},\"shape\":[2],\"dtype\":\"float64\",\"order\":\"little\"}],[123,{\"type\":\"ndarray\",\"array\":{\"type\":\"bytes\",\"data\":\"2vIRN0P1LMC2pgUzGYMjwA==\"},\"shape\":[2],\"dtype\":\"float64\",\"order\":\"little\"}],[124,{\"type\":\"ndarray\",\"array\":{\"type\":\"bytes\",\"data\":\"lYqKp75/KMABL6TlCwwlwA==\"},\"shape\":[2],\"dtype\":\"float64\",\"order\":\"little\"}],[125,{\"type\":\"ndarray\",\"array\":{\"type\":\"bytes\",\"data\":\"VYtm2/2Q/78yqi8sg7j2Pw==\"},\"shape\":[2],\"dtype\":\"float64\",\"order\":\"little\"}],[126,{\"type\":\"ndarray\",\"array\":{\"type\":\"bytes\",\"data\":\"FEBoeUbq8L9Q9PcR/K8HQA==\"},\"shape\":[2],\"dtype\":\"float64\",\"order\":\"little\"}],[127,{\"type\":\"ndarray\",\"array\":{\"type\":\"bytes\",\"data\":\"s67gjNhA47/19u8JltwFQA==\"},\"shape\":[2],\"dtype\":\"float64\",\"order\":\"little\"}],[128,{\"type\":\"ndarray\",\"array\":{\"type\":\"bytes\",\"data\":\"nQAlGQgjAsAYVoVp/0jfPw==\"},\"shape\":[2],\"dtype\":\"float64\",\"order\":\"little\"}],[129,{\"type\":\"ndarray\",\"array\":{\"type\":\"bytes\",\"data\":\"oFZrYpsqBMDejlqn0pb/Pw==\"},\"shape\":[2],\"dtype\":\"float64\",\"order\":\"little\"}],[130,{\"type\":\"ndarray\",\"array\":{\"type\":\"bytes\",\"data\":\"guAOXPD9FMAn1TeavU7rPw==\"},\"shape\":[2],\"dtype\":\"float64\",\"order\":\"little\"}],[131,{\"type\":\"ndarray\",\"array\":{\"type\":\"bytes\",\"data\":\"VNbE+rvmsD9eGTRXH3T/Pw==\"},\"shape\":[2],\"dtype\":\"float64\",\"order\":\"little\"}],[132,{\"type\":\"ndarray\",\"array\":{\"type\":\"bytes\",\"data\":\"RBogxjgaBsCn9YJkjWoSQA==\"},\"shape\":[2],\"dtype\":\"float64\",\"order\":\"little\"}],[133,{\"type\":\"ndarray\",\"array\":{\"type\":\"bytes\",\"data\":\"qelIG7trBMChK7r8srDtvw==\"},\"shape\":[2],\"dtype\":\"float64\",\"order\":\"little\"}],[134,{\"type\":\"ndarray\",\"array\":{\"type\":\"bytes\",\"data\":\"gLu0LYD2/D/+RxhMpR74vw==\"},\"shape\":[2],\"dtype\":\"float64\",\"order\":\"little\"}],[135,{\"type\":\"ndarray\",\"array\":{\"type\":\"bytes\",\"data\":\"7bynOn22+r9t15VMAO8GQA==\"},\"shape\":[2],\"dtype\":\"float64\",\"order\":\"little\"}],[136,{\"type\":\"ndarray\",\"array\":{\"type\":\"bytes\",\"data\":\"h6niwwReCcATQz6IqoG1Pw==\"},\"shape\":[2],\"dtype\":\"float64\",\"order\":\"little\"}],[137,{\"type\":\"ndarray\",\"array\":{\"type\":\"bytes\",\"data\":\"TDVu/hEyEcCo/3WdZEkEQA==\"},\"shape\":[2],\"dtype\":\"float64\",\"order\":\"little\"}],[138,{\"type\":\"ndarray\",\"array\":{\"type\":\"bytes\",\"data\":\"Y/B98k1+AED4DjWF8+b2vw==\"},\"shape\":[2],\"dtype\":\"float64\",\"order\":\"little\"}],[139,{\"type\":\"ndarray\",\"array\":{\"type\":\"bytes\",\"data\":\"+pvW7mQ43L8yUAs8+ff7Pw==\"},\"shape\":[2],\"dtype\":\"float64\",\"order\":\"little\"}],[140,{\"type\":\"ndarray\",\"array\":{\"type\":\"bytes\",\"data\":\"g5eGNmSh8j/xJFjlWVwKQA==\"},\"shape\":[2],\"dtype\":\"float64\",\"order\":\"little\"}],[141,{\"type\":\"ndarray\",\"array\":{\"type\":\"bytes\",\"data\":\"oGlIsm9j9L9TkJcTIxPoPw==\"},\"shape\":[2],\"dtype\":\"float64\",\"order\":\"little\"}],[142,{\"type\":\"ndarray\",\"array\":{\"type\":\"bytes\",\"data\":\"PM7ogFxQCcAFJWOrZSsTQA==\"},\"shape\":[2],\"dtype\":\"float64\",\"order\":\"little\"}],[143,{\"type\":\"ndarray\",\"array\":{\"type\":\"bytes\",\"data\":\"1qFOaon98L8dVDQF+C3+Pw==\"},\"shape\":[2],\"dtype\":\"float64\",\"order\":\"little\"}],[144,{\"type\":\"ndarray\",\"array\":{\"type\":\"bytes\",\"data\":\"r+ws931fCMBJK8+wExblPw==\"},\"shape\":[2],\"dtype\":\"float64\",\"order\":\"little\"}],[145,{\"type\":\"ndarray\",\"array\":{\"type\":\"bytes\",\"data\":\"++atNtpR1r9syrsjJjjxPw==\"},\"shape\":[2],\"dtype\":\"float64\",\"order\":\"little\"}],[146,{\"type\":\"ndarray\",\"array\":{\"type\":\"bytes\",\"data\":\"dx3Zqqn9EsAV63wWuu4KQA==\"},\"shape\":[2],\"dtype\":\"float64\",\"order\":\"little\"}],[147,{\"type\":\"ndarray\",\"array\":{\"type\":\"bytes\",\"data\":\"JOZUmR3UBsB9DgYXEz3avw==\"},\"shape\":[2],\"dtype\":\"float64\",\"order\":\"little\"}],[148,{\"type\":\"ndarray\",\"array\":{\"type\":\"bytes\",\"data\":\"X040GLsJ9b+UOKlYdoLSvw==\"},\"shape\":[2],\"dtype\":\"float64\",\"order\":\"little\"}],[149,{\"type\":\"ndarray\",\"array\":{\"type\":\"bytes\",\"data\":\"I9P4YjocB8A2+STjtj70Pw==\"},\"shape\":[2],\"dtype\":\"float64\",\"order\":\"little\"}],[150,{\"type\":\"ndarray\",\"array\":{\"type\":\"bytes\",\"data\":\"f50g6oRcEMBeyMMFp8kKQA==\"},\"shape\":[2],\"dtype\":\"float64\",\"order\":\"little\"}],[151,{\"type\":\"ndarray\",\"array\":{\"type\":\"bytes\",\"data\":\"oXDswaVDE8Dpb4nPJ8H8Pw==\"},\"shape\":[2],\"dtype\":\"float64\",\"order\":\"little\"}],[152,{\"type\":\"ndarray\",\"array\":{\"type\":\"bytes\",\"data\":\"m4gJHX6dAcA1k+6HRn7Cvw==\"},\"shape\":[2],\"dtype\":\"float64\",\"order\":\"little\"}],[153,{\"type\":\"ndarray\",\"array\":{\"type\":\"bytes\",\"data\":\"eUDQ4I8W/r8zOflnVYLovw==\"},\"shape\":[2],\"dtype\":\"float64\",\"order\":\"little\"}],[154,{\"type\":\"ndarray\",\"array\":{\"type\":\"bytes\",\"data\":\"gV6zLlppDMB2tOfAYWUOQA==\"},\"shape\":[2],\"dtype\":\"float64\",\"order\":\"little\"}],[155,{\"type\":\"ndarray\",\"array\":{\"type\":\"bytes\",\"data\":\"KPYOO/5TEMB9dqjsLrQQQA==\"},\"shape\":[2],\"dtype\":\"float64\",\"order\":\"little\"}],[156,{\"type\":\"ndarray\",\"array\":{\"type\":\"bytes\",\"data\":\"KIlNBAGwEsAny3DKpAPXPw==\"},\"shape\":[2],\"dtype\":\"float64\",\"order\":\"little\"}],[157,{\"type\":\"ndarray\",\"array\":{\"type\":\"bytes\",\"data\":\"adCjR6PVE8BeXF1BTZUEQA==\"},\"shape\":[2],\"dtype\":\"float64\",\"order\":\"little\"}],[158,{\"type\":\"ndarray\",\"array\":{\"type\":\"bytes\",\"data\":\"IfnicFdtxb9IPbsMXxIFQA==\"},\"shape\":[2],\"dtype\":\"float64\",\"order\":\"little\"}],[159,{\"type\":\"ndarray\",\"array\":{\"type\":\"bytes\",\"data\":\"3a7dKAKQ57/rXfIf2aqqPw==\"},\"shape\":[2],\"dtype\":\"float64\",\"order\":\"little\"}],[160,{\"type\":\"ndarray\",\"array\":{\"type\":\"bytes\",\"data\":\"Dz8S0lSDGUCJ/UFaZ9HNvw==\"},\"shape\":[2],\"dtype\":\"float64\",\"order\":\"little\"}],[161,{\"type\":\"ndarray\",\"array\":{\"type\":\"bytes\",\"data\":\"Ax/R9zKq9j8tgaLWLlwCQA==\"},\"shape\":[2],\"dtype\":\"float64\",\"order\":\"little\"}],[162,{\"type\":\"ndarray\",\"array\":{\"type\":\"bytes\",\"data\":\"6rhpiWL18T91fCPN9HPhvw==\"},\"shape\":[2],\"dtype\":\"float64\",\"order\":\"little\"}],[163,{\"type\":\"ndarray\",\"array\":{\"type\":\"bytes\",\"data\":\"BOgL7yDHAUBkUH20HW4LQA==\"},\"shape\":[2],\"dtype\":\"float64\",\"order\":\"little\"}],[164,{\"type\":\"ndarray\",\"array\":{\"type\":\"bytes\",\"data\":\"p7bM/yBH4j9VAQhAGzwUwA==\"},\"shape\":[2],\"dtype\":\"float64\",\"order\":\"little\"}],[165,{\"type\":\"ndarray\",\"array\":{\"type\":\"bytes\",\"data\":\"IxHD4Fds+r+gxNVfRLcCwA==\"},\"shape\":[2],\"dtype\":\"float64\",\"order\":\"little\"}],[166,{\"type\":\"ndarray\",\"array\":{\"type\":\"bytes\",\"data\":\"2Uu+RrcEF8BPDtm2ZvvTPw==\"},\"shape\":[2],\"dtype\":\"float64\",\"order\":\"little\"}],[167,{\"type\":\"ndarray\",\"array\":{\"type\":\"bytes\",\"data\":\"oU3tljA7/T9jdOIwAFvnPw==\"},\"shape\":[2],\"dtype\":\"float64\",\"order\":\"little\"}],[168,{\"type\":\"ndarray\",\"array\":{\"type\":\"bytes\",\"data\":\"VDs75oCo0r87Q6yxxjQBwA==\"},\"shape\":[2],\"dtype\":\"float64\",\"order\":\"little\"}],[169,{\"type\":\"ndarray\",\"array\":{\"type\":\"bytes\",\"data\":\"N4iPmI7q7T+mM05EM2ETwA==\"},\"shape\":[2],\"dtype\":\"float64\",\"order\":\"little\"}],[170,{\"type\":\"ndarray\",\"array\":{\"type\":\"bytes\",\"data\":\"5dgWdaJo8T8HtHzfybr4Pw==\"},\"shape\":[2],\"dtype\":\"float64\",\"order\":\"little\"}],[171,{\"type\":\"ndarray\",\"array\":{\"type\":\"bytes\",\"data\":\"fwMlBhNTHkDnsF6WQ8r3Pw==\"},\"shape\":[2],\"dtype\":\"float64\",\"order\":\"little\"}],[172,{\"type\":\"ndarray\",\"array\":{\"type\":\"bytes\",\"data\":\"PDOuMMPqEUD+ZH7U3kwVQA==\"},\"shape\":[2],\"dtype\":\"float64\",\"order\":\"little\"}],[173,{\"type\":\"ndarray\",\"array\":{\"type\":\"bytes\",\"data\":\"btjXk/KuGED3QtjPeXj9vw==\"},\"shape\":[2],\"dtype\":\"float64\",\"order\":\"little\"}],[174,{\"type\":\"ndarray\",\"array\":{\"type\":\"bytes\",\"data\":\"6WIx4v0+HkCNDXxptZgiQA==\"},\"shape\":[2],\"dtype\":\"float64\",\"order\":\"little\"}],[175,{\"type\":\"ndarray\",\"array\":{\"type\":\"bytes\",\"data\":\"bgnSE2s1HkBrJ30+wM0ZQA==\"},\"shape\":[2],\"dtype\":\"float64\",\"order\":\"little\"}],[176,{\"type\":\"ndarray\",\"array\":{\"type\":\"bytes\",\"data\":\"KgpMpbrrFUA5ObEliXkjQA==\"},\"shape\":[2],\"dtype\":\"float64\",\"order\":\"little\"}],[177,{\"type\":\"ndarray\",\"array\":{\"type\":\"bytes\",\"data\":\"72/wZmyyF0A8QklgxtYdQA==\"},\"shape\":[2],\"dtype\":\"float64\",\"order\":\"little\"}],[178,{\"type\":\"ndarray\",\"array\":{\"type\":\"bytes\",\"data\":\"ebGa2Lk6IEAH3G0ZFT4cQA==\"},\"shape\":[2],\"dtype\":\"float64\",\"order\":\"little\"}],[179,{\"type\":\"ndarray\",\"array\":{\"type\":\"bytes\",\"data\":\"/yZpeH5JG0D4Fb2jP/waQA==\"},\"shape\":[2],\"dtype\":\"float64\",\"order\":\"little\"}],[180,{\"type\":\"ndarray\",\"array\":{\"type\":\"bytes\",\"data\":\"1jZm65dLFkB4Scc2HRogQA==\"},\"shape\":[2],\"dtype\":\"float64\",\"order\":\"little\"}],[181,{\"type\":\"ndarray\",\"array\":{\"type\":\"bytes\",\"data\":\"ENlLVleUEUADQ3TPSrwhQA==\"},\"shape\":[2],\"dtype\":\"float64\",\"order\":\"little\"}],[182,{\"type\":\"ndarray\",\"array\":{\"type\":\"bytes\",\"data\":\"SWftV1J9BsDElrv+kvsPQA==\"},\"shape\":[2],\"dtype\":\"float64\",\"order\":\"little\"}],[183,{\"type\":\"ndarray\",\"array\":{\"type\":\"bytes\",\"data\":\"uIj++qlD/z+31cab8kz0Pw==\"},\"shape\":[2],\"dtype\":\"float64\",\"order\":\"little\"}],[184,{\"type\":\"ndarray\",\"array\":{\"type\":\"bytes\",\"data\":\"SMtEs5E+8b9D5sqv8I/0vw==\"},\"shape\":[2],\"dtype\":\"float64\",\"order\":\"little\"}],[185,{\"type\":\"ndarray\",\"array\":{\"type\":\"bytes\",\"data\":\"fHvNc9aVIkCvbt6WUHwHQA==\"},\"shape\":[2],\"dtype\":\"float64\",\"order\":\"little\"}],[186,{\"type\":\"ndarray\",\"array\":{\"type\":\"bytes\",\"data\":\"n4c1URj3HUCepnykapYhQA==\"},\"shape\":[2],\"dtype\":\"float64\",\"order\":\"little\"}],[187,{\"type\":\"ndarray\",\"array\":{\"type\":\"bytes\",\"data\":\"pEvOZxbeBcAz58mp3pQNQA==\"},\"shape\":[2],\"dtype\":\"float64\",\"order\":\"little\"}],[188,{\"type\":\"ndarray\",\"array\":{\"type\":\"bytes\",\"data\":\"TrmIjofTGkC/4SaeGZEhQA==\"},\"shape\":[2],\"dtype\":\"float64\",\"order\":\"little\"}],[189,{\"type\":\"ndarray\",\"array\":{\"type\":\"bytes\",\"data\":\"xDkPfgvcG0DJ7La0WJIiQA==\"},\"shape\":[2],\"dtype\":\"float64\",\"order\":\"little\"}],[190,{\"type\":\"ndarray\",\"array\":{\"type\":\"bytes\",\"data\":\"hRqjYHT+F0AbrusoHw8jQA==\"},\"shape\":[2],\"dtype\":\"float64\",\"order\":\"little\"}],[191,{\"type\":\"ndarray\",\"array\":{\"type\":\"bytes\",\"data\":\"eNSNK54AHUCLIP6JETkdQA==\"},\"shape\":[2],\"dtype\":\"float64\",\"order\":\"little\"}],[192,{\"type\":\"ndarray\",\"array\":{\"type\":\"bytes\",\"data\":\"ppTWp7lVGkBCxsTFLy4eQA==\"},\"shape\":[2],\"dtype\":\"float64\",\"order\":\"little\"}],[193,{\"type\":\"ndarray\",\"array\":{\"type\":\"bytes\",\"data\":\"AIeHWRnlF0CtBBjt5TgiQA==\"},\"shape\":[2],\"dtype\":\"float64\",\"order\":\"little\"}],[194,{\"type\":\"ndarray\",\"array\":{\"type\":\"bytes\",\"data\":\"bxFsdE8LGUCCDfNv66YgQA==\"},\"shape\":[2],\"dtype\":\"float64\",\"order\":\"little\"}],[195,{\"type\":\"ndarray\",\"array\":{\"type\":\"bytes\",\"data\":\"s2G1WVBrIEA3LH2RC6YfQA==\"},\"shape\":[2],\"dtype\":\"float64\",\"order\":\"little\"}],[196,{\"type\":\"ndarray\",\"array\":{\"type\":\"bytes\",\"data\":\"Kl53MzMnFEAF/5gL93siQA==\"},\"shape\":[2],\"dtype\":\"float64\",\"order\":\"little\"}],[197,{\"type\":\"ndarray\",\"array\":{\"type\":\"bytes\",\"data\":\"8PfYlGsNHUAfuuQ//HIgQA==\"},\"shape\":[2],\"dtype\":\"float64\",\"order\":\"little\"}],[198,{\"type\":\"ndarray\",\"array\":{\"type\":\"bytes\",\"data\":\"4UqHYsS7FED9PensrCQhQA==\"},\"shape\":[2],\"dtype\":\"float64\",\"order\":\"little\"}],[199,{\"type\":\"ndarray\",\"array\":{\"type\":\"bytes\",\"data\":\"8FiFUMXCH0BTSUKMleQgQA==\"},\"shape\":[2],\"dtype\":\"float64\",\"order\":\"little\"}],[200,{\"type\":\"ndarray\",\"array\":{\"type\":\"bytes\",\"data\":\"l+Ouj4OSGkDzvVTOIG4jQA==\"},\"shape\":[2],\"dtype\":\"float64\",\"order\":\"little\"}],[201,{\"type\":\"ndarray\",\"array\":{\"type\":\"bytes\",\"data\":\"P/Rp5PYtH0BGwEi08IAeQA==\"},\"shape\":[2],\"dtype\":\"float64\",\"order\":\"little\"}],[202,{\"type\":\"ndarray\",\"array\":{\"type\":\"bytes\",\"data\":\"PfI7GQx5EkDaaCkXgmQgQA==\"},\"shape\":[2],\"dtype\":\"float64\",\"order\":\"little\"}],[203,{\"type\":\"ndarray\",\"array\":{\"type\":\"bytes\",\"data\":\"uZeRY0UH+T93B9I0juLCPw==\"},\"shape\":[2],\"dtype\":\"float64\",\"order\":\"little\"}],[204,{\"type\":\"ndarray\",\"array\":{\"type\":\"bytes\",\"data\":\"gkL51fTeI8BQk1/EGtLwPw==\"},\"shape\":[2],\"dtype\":\"float64\",\"order\":\"little\"}],[205,{\"type\":\"ndarray\",\"array\":{\"type\":\"bytes\",\"data\":\"lM4ZrkOmK8Bkms1xC4MKQA==\"},\"shape\":[2],\"dtype\":\"float64\",\"order\":\"little\"}],[206,{\"type\":\"ndarray\",\"array\":{\"type\":\"bytes\",\"data\":\"yhyCG7STEMDsRayInuISwA==\"},\"shape\":[2],\"dtype\":\"float64\",\"order\":\"little\"}],[207,{\"type\":\"ndarray\",\"array\":{\"type\":\"bytes\",\"data\":\"BHlNRZLmLMCNdgbqLqf4Pw==\"},\"shape\":[2],\"dtype\":\"float64\",\"order\":\"little\"}],[208,{\"type\":\"ndarray\",\"array\":{\"type\":\"bytes\",\"data\":\"tHoXSmwNJ8CBCfDtAhb1vw==\"},\"shape\":[2],\"dtype\":\"float64\",\"order\":\"little\"}],[209,{\"type\":\"ndarray\",\"array\":{\"type\":\"bytes\",\"data\":\"x1uMD6qUK8DaQzRyuPflPw==\"},\"shape\":[2],\"dtype\":\"float64\",\"order\":\"little\"}],[210,{\"type\":\"ndarray\",\"array\":{\"type\":\"bytes\",\"data\":\"x4nXyn8PLsAvI8y7wTbyPw==\"},\"shape\":[2],\"dtype\":\"float64\",\"order\":\"little\"}],[211,{\"type\":\"ndarray\",\"array\":{\"type\":\"bytes\",\"data\":\"TSMFS91uJsA4b3Y0CdAAwA==\"},\"shape\":[2],\"dtype\":\"float64\",\"order\":\"little\"}],[212,{\"type\":\"ndarray\",\"array\":{\"type\":\"bytes\",\"data\":\"Y8HoviiXLMDHxaCrx4UMQA==\"},\"shape\":[2],\"dtype\":\"float64\",\"order\":\"little\"}],[213,{\"type\":\"ndarray\",\"array\":{\"type\":\"bytes\",\"data\":\"g0+Zh4idKsDYRd5GiWkDQA==\"},\"shape\":[2],\"dtype\":\"float64\",\"order\":\"little\"}],[214,{\"type\":\"ndarray\",\"array\":{\"type\":\"bytes\",\"data\":\"jXt8nRKCJ8BlTXqD8i/+Pw==\"},\"shape\":[2],\"dtype\":\"float64\",\"order\":\"little\"}],[215,{\"type\":\"ndarray\",\"array\":{\"type\":\"bytes\",\"data\":\"mx+iEGtaLMBBKUI35xEHQA==\"},\"shape\":[2],\"dtype\":\"float64\",\"order\":\"little\"}],[216,{\"type\":\"ndarray\",\"array\":{\"type\":\"bytes\",\"data\":\"eIJ2ilbTJcAlP72VJz0MQA==\"},\"shape\":[2],\"dtype\":\"float64\",\"order\":\"little\"}],[217,{\"type\":\"ndarray\",\"array\":{\"type\":\"bytes\",\"data\":\"K4eKywLnKMAPBAn30toBwA==\"},\"shape\":[2],\"dtype\":\"float64\",\"order\":\"little\"}],[218,{\"type\":\"ndarray\",\"array\":{\"type\":\"bytes\",\"data\":\"EBVowubFLMCri8XzAIACQA==\"},\"shape\":[2],\"dtype\":\"float64\",\"order\":\"little\"}],[219,{\"type\":\"ndarray\",\"array\":{\"type\":\"bytes\",\"data\":\"8wYv42h0LMCcNrxhaCfzvw==\"},\"shape\":[2],\"dtype\":\"float64\",\"order\":\"little\"}],[220,{\"type\":\"ndarray\",\"array\":{\"type\":\"bytes\",\"data\":\"pGnGJYvxK8DSHC8jI4LHPw==\"},\"shape\":[2],\"dtype\":\"float64\",\"order\":\"little\"}],[221,{\"type\":\"ndarray\",\"array\":{\"type\":\"bytes\",\"data\":\"+ZHEuOmPKcAiGCpT+4sSQA==\"},\"shape\":[2],\"dtype\":\"float64\",\"order\":\"little\"}],[222,{\"type\":\"ndarray\",\"array\":{\"type\":\"bytes\",\"data\":\"LuolTafPKsBICh8X3xbhvw==\"},\"shape\":[2],\"dtype\":\"float64\",\"order\":\"little\"}],[223,{\"type\":\"ndarray\",\"array\":{\"type\":\"bytes\",\"data\":\"maiiEM2yJ8DgOlSbx4EAwA==\"},\"shape\":[2],\"dtype\":\"float64\",\"order\":\"little\"}],[224,{\"type\":\"ndarray\",\"array\":{\"type\":\"bytes\",\"data\":\"3swazId2KcDNpv6wXqoQQA==\"},\"shape\":[2],\"dtype\":\"float64\",\"order\":\"little\"}],[225,{\"type\":\"ndarray\",\"array\":{\"type\":\"bytes\",\"data\":\"tM4JKqtAKsDx5pWm0hEAwA==\"},\"shape\":[2],\"dtype\":\"float64\",\"order\":\"little\"}],[226,{\"type\":\"ndarray\",\"array\":{\"type\":\"bytes\",\"data\":\"IZ46zLLkJ8AdzINPy/MIQA==\"},\"shape\":[2],\"dtype\":\"float64\",\"order\":\"little\"}],[227,{\"type\":\"ndarray\",\"array\":{\"type\":\"bytes\",\"data\":\"zW4In2xJK8A1vBPFXvv7Pw==\"},\"shape\":[2],\"dtype\":\"float64\",\"order\":\"little\"}],[228,{\"type\":\"ndarray\",\"array\":{\"type\":\"bytes\",\"data\":\"MyRt6K0TKMDz4W14YFISQA==\"},\"shape\":[2],\"dtype\":\"float64\",\"order\":\"little\"}],[229,{\"type\":\"ndarray\",\"array\":{\"type\":\"bytes\",\"data\":\"Ya1IJwkhJsBdzeNyBH7kvw==\"},\"shape\":[2],\"dtype\":\"float64\",\"order\":\"little\"}],[230,{\"type\":\"ndarray\",\"array\":{\"type\":\"bytes\",\"data\":\"uLIbnHGuKMBVOmeYi6nUPw==\"},\"shape\":[2],\"dtype\":\"float64\",\"order\":\"little\"}],[231,{\"type\":\"ndarray\",\"array\":{\"type\":\"bytes\",\"data\":\"2ujuiIblKMCBT6utFZH5vw==\"},\"shape\":[2],\"dtype\":\"float64\",\"order\":\"little\"}],[232,{\"type\":\"ndarray\",\"array\":{\"type\":\"bytes\",\"data\":\"NLSFaBdHLcD2p8Frv5PHPw==\"},\"shape\":[2],\"dtype\":\"float64\",\"order\":\"little\"}],[233,{\"type\":\"ndarray\",\"array\":{\"type\":\"bytes\",\"data\":\"AcxdBYDHJ8AVOfB3b8gOQA==\"},\"shape\":[2],\"dtype\":\"float64\",\"order\":\"little\"}],[234,{\"type\":\"ndarray\",\"array\":{\"type\":\"bytes\",\"data\":\"i+ZJJCr0KMAdkpAI8tMDQA==\"},\"shape\":[2],\"dtype\":\"float64\",\"order\":\"little\"}],[235,{\"type\":\"ndarray\",\"array\":{\"type\":\"bytes\",\"data\":\"kNeU70rrLMDaAH0a/gzrPw==\"},\"shape\":[2],\"dtype\":\"float64\",\"order\":\"little\"}],[236,{\"type\":\"ndarray\",\"array\":{\"type\":\"bytes\",\"data\":\"3DakLtn5K8AqLSuIYjHVvw==\"},\"shape\":[2],\"dtype\":\"float64\",\"order\":\"little\"}],[237,{\"type\":\"ndarray\",\"array\":{\"type\":\"bytes\",\"data\":\"gK542mRnKMBmuuFuRp3vvw==\"},\"shape\":[2],\"dtype\":\"float64\",\"order\":\"little\"}],[238,{\"type\":\"ndarray\",\"array\":{\"type\":\"bytes\",\"data\":\"VS5Eb5R3JsDpY/nY86IGQA==\"},\"shape\":[2],\"dtype\":\"float64\",\"order\":\"little\"}],[239,{\"type\":\"ndarray\",\"array\":{\"type\":\"bytes\",\"data\":\"RYzWYCkkK8BE0mO9CQoRQA==\"},\"shape\":[2],\"dtype\":\"float64\",\"order\":\"little\"}],[240,{\"type\":\"ndarray\",\"array\":{\"type\":\"bytes\",\"data\":\"wN5mHJlZKcCHg/+MX4T8Pw==\"},\"shape\":[2],\"dtype\":\"float64\",\"order\":\"little\"}],[241,{\"type\":\"ndarray\",\"array\":{\"type\":\"bytes\",\"data\":\"4MuftumAK8AWA+Dap376vw==\"},\"shape\":[2],\"dtype\":\"float64\",\"order\":\"little\"}],[242,{\"type\":\"ndarray\",\"array\":{\"type\":\"bytes\",\"data\":\"zFn9uNQULsBM3FgTL3jhPw==\"},\"shape\":[2],\"dtype\":\"float64\",\"order\":\"little\"}],[243,{\"type\":\"ndarray\",\"array\":{\"type\":\"bytes\",\"data\":\"OiSyEF0IKsAl6Y2xo9blPw==\"},\"shape\":[2],\"dtype\":\"float64\",\"order\":\"little\"}],[244,{\"type\":\"ndarray\",\"array\":{\"type\":\"bytes\",\"data\":\"FvReO2slKsBxaefVmxD1Pw==\"},\"shape\":[2],\"dtype\":\"float64\",\"order\":\"little\"}],[245,{\"type\":\"ndarray\",\"array\":{\"type\":\"bytes\",\"data\":\"2Mm2F593LcDKNjXawQ0HQA==\"},\"shape\":[2],\"dtype\":\"float64\",\"order\":\"little\"}],[246,{\"type\":\"ndarray\",\"array\":{\"type\":\"bytes\",\"data\":\"M5DdsoC5K8Bj5UfzdMjzPw==\"},\"shape\":[2],\"dtype\":\"float64\",\"order\":\"little\"}],[247,{\"type\":\"ndarray\",\"array\":{\"type\":\"bytes\",\"data\":\"eTDe0P+aKsAlF0fX/lQIQA==\"},\"shape\":[2],\"dtype\":\"float64\",\"order\":\"little\"}],[248,{\"type\":\"ndarray\",\"array\":{\"type\":\"bytes\",\"data\":\"pyeHKtkRK8DpvY/UYpnxvw==\"},\"shape\":[2],\"dtype\":\"float64\",\"order\":\"little\"}],[249,{\"type\":\"ndarray\",\"array\":{\"type\":\"bytes\",\"data\":\"LuHxazv1JsCUGeWe4ZURQA==\"},\"shape\":[2],\"dtype\":\"float64\",\"order\":\"little\"}],[250,{\"type\":\"ndarray\",\"array\":{\"type\":\"bytes\",\"data\":\"f8eKMHDqLcCrS+hVWbQBQA==\"},\"shape\":[2],\"dtype\":\"float64\",\"order\":\"little\"}],[251,{\"type\":\"ndarray\",\"array\":{\"type\":\"bytes\",\"data\":\"DsTFE1NpKsDroZEfFpuuPw==\"},\"shape\":[2],\"dtype\":\"float64\",\"order\":\"little\"}],[252,{\"type\":\"ndarray\",\"array\":{\"type\":\"bytes\",\"data\":\"n99rRn64J8CxExeXd0TQvw==\"},\"shape\":[2],\"dtype\":\"float64\",\"order\":\"little\"}],[253,{\"type\":\"ndarray\",\"array\":{\"type\":\"bytes\",\"data\":\"I5QxxOGqKcBtdxMo+swNQA==\"},\"shape\":[2],\"dtype\":\"float64\",\"order\":\"little\"}],[254,{\"type\":\"ndarray\",\"array\":{\"type\":\"bytes\",\"data\":\"G2RlkzvALcD143SHAN/Rvw==\"},\"shape\":[2],\"dtype\":\"float64\",\"order\":\"little\"}],[255,{\"type\":\"ndarray\",\"array\":{\"type\":\"bytes\",\"data\":\"Yx2HQwViJcAHhPjI1qD4vw==\"},\"shape\":[2],\"dtype\":\"float64\",\"order\":\"little\"}],[256,{\"type\":\"ndarray\",\"array\":{\"type\":\"bytes\",\"data\":\"OpfGTLuyD8DoKGifw/QRwA==\"},\"shape\":[2],\"dtype\":\"float64\",\"order\":\"little\"}],[257,{\"type\":\"ndarray\",\"array\":{\"type\":\"bytes\",\"data\":\"atIQSB6hJ8AfKESudMDtPw==\"},\"shape\":[2],\"dtype\":\"float64\",\"order\":\"little\"}],[258,{\"type\":\"ndarray\",\"array\":{\"type\":\"bytes\",\"data\":\"DYjIncoJK8DZfJZpLSoOQA==\"},\"shape\":[2],\"dtype\":\"float64\",\"order\":\"little\"}],[259,{\"type\":\"ndarray\",\"array\":{\"type\":\"bytes\",\"data\":\"OXkDzOP3LMCVSEzUCK/mvw==\"},\"shape\":[2],\"dtype\":\"float64\",\"order\":\"little\"}],[260,{\"type\":\"ndarray\",\"array\":{\"type\":\"bytes\",\"data\":\"1whSWVKpJcCIFF0EX8UQQA==\"},\"shape\":[2],\"dtype\":\"float64\",\"order\":\"little\"}],[261,{\"type\":\"ndarray\",\"array\":{\"type\":\"bytes\",\"data\":\"3LP0j5FOKcCKxEStwYMJQA==\"},\"shape\":[2],\"dtype\":\"float64\",\"order\":\"little\"}],[262,{\"type\":\"ndarray\",\"array\":{\"type\":\"bytes\",\"data\":\"yFjemQUXKsAnDVfK+A/2vw==\"},\"shape\":[2],\"dtype\":\"float64\",\"order\":\"little\"}],[263,{\"type\":\"ndarray\",\"array\":{\"type\":\"bytes\",\"data\":\"DaRkPA+wK8CfYQgR9fMBQA==\"},\"shape\":[2],\"dtype\":\"float64\",\"order\":\"little\"}],[264,{\"type\":\"ndarray\",\"array\":{\"type\":\"bytes\",\"data\":\"PBWT08UXLsByueuXvfj6Pw==\"},\"shape\":[2],\"dtype\":\"float64\",\"order\":\"little\"}],[265,{\"type\":\"ndarray\",\"array\":{\"type\":\"bytes\",\"data\":\"npwKL3+CKcCyLUO71rzivw==\"},\"shape\":[2],\"dtype\":\"float64\",\"order\":\"little\"}],[266,{\"type\":\"ndarray\",\"array\":{\"type\":\"bytes\",\"data\":\"e0Vfoz87F0DS8nSzpasrwA==\"},\"shape\":[2],\"dtype\":\"float64\",\"order\":\"little\"}],[267,{\"type\":\"ndarray\",\"array\":{\"type\":\"bytes\",\"data\":\"PoUX4W5FBUDcU+0FuykjwA==\"},\"shape\":[2],\"dtype\":\"float64\",\"order\":\"little\"}],[268,{\"type\":\"ndarray\",\"array\":{\"type\":\"bytes\",\"data\":\"VWUh+ByYIEAn1Qay818WwA==\"},\"shape\":[2],\"dtype\":\"float64\",\"order\":\"little\"}],[269,{\"type\":\"ndarray\",\"array\":{\"type\":\"bytes\",\"data\":\"M0337pMtBEDIwNAfSs0rwA==\"},\"shape\":[2],\"dtype\":\"float64\",\"order\":\"little\"}],[270,{\"type\":\"ndarray\",\"array\":{\"type\":\"bytes\",\"data\":\"4/JatazXDEBHWi2ZztYUwA==\"},\"shape\":[2],\"dtype\":\"float64\",\"order\":\"little\"}],[271,{\"type\":\"ndarray\",\"array\":{\"type\":\"bytes\",\"data\":\"DbFpjvWj8D/B4eC1x2wswA==\"},\"shape\":[2],\"dtype\":\"float64\",\"order\":\"little\"}],[272,{\"type\":\"ndarray\",\"array\":{\"type\":\"bytes\",\"data\":\"eypKYRYDIUC7oAtj7kIXwA==\"},\"shape\":[2],\"dtype\":\"float64\",\"order\":\"little\"}],[273,{\"type\":\"ndarray\",\"array\":{\"type\":\"bytes\",\"data\":\"EZ2SjQ8XCkA5eaPbAPsUwA==\"},\"shape\":[2],\"dtype\":\"float64\",\"order\":\"little\"}],[274,{\"type\":\"ndarray\",\"array\":{\"type\":\"bytes\",\"data\":\"3difcL0x2L+GybYwy3YpwA==\"},\"shape\":[2],\"dtype\":\"float64\",\"order\":\"little\"}],[275,{\"type\":\"ndarray\",\"array\":{\"type\":\"bytes\",\"data\":\"9UAOSEsMFkCwuNtwC/YhwA==\"},\"shape\":[2],\"dtype\":\"float64\",\"order\":\"little\"}],[276,{\"type\":\"ndarray\",\"array\":{\"type\":\"bytes\",\"data\":\"Oq2/lrqx879lrSQ/LpgnwA==\"},\"shape\":[2],\"dtype\":\"float64\",\"order\":\"little\"}],[277,{\"type\":\"ndarray\",\"array\":{\"type\":\"bytes\",\"data\":\"mOWDB1WNCEBpUL1UZCQswA==\"},\"shape\":[2],\"dtype\":\"float64\",\"order\":\"little\"}],[278,{\"type\":\"ndarray\",\"array\":{\"type\":\"bytes\",\"data\":\"4gQUpKXE6D8RaHBsnZUmwA==\"},\"shape\":[2],\"dtype\":\"float64\",\"order\":\"little\"}],[279,{\"type\":\"ndarray\",\"array\":{\"type\":\"bytes\",\"data\":\"wRrLbvTLE0D1ksuyqvoiwA==\"},\"shape\":[2],\"dtype\":\"float64\",\"order\":\"little\"}],[280,{\"type\":\"ndarray\",\"array\":{\"type\":\"bytes\",\"data\":\"3G6z64hPzr+IQ6QtnoMrwA==\"},\"shape\":[2],\"dtype\":\"float64\",\"order\":\"little\"}],[281,{\"type\":\"ndarray\",\"array\":{\"type\":\"bytes\",\"data\":\"GSm2FPXu/j9Jl0fy1sktwA==\"},\"shape\":[2],\"dtype\":\"float64\",\"order\":\"little\"}],[282,{\"type\":\"ndarray\",\"array\":{\"type\":\"bytes\",\"data\":\"IA+eCG5b8z+ItpmrLMUpwA==\"},\"shape\":[2],\"dtype\":\"float64\",\"order\":\"little\"}],[283,{\"type\":\"ndarray\",\"array\":{\"type\":\"bytes\",\"data\":\"/PqdV7lQEUB7mpPY8UMkwA==\"},\"shape\":[2],\"dtype\":\"float64\",\"order\":\"little\"}],[284,{\"type\":\"ndarray\",\"array\":{\"type\":\"bytes\",\"data\":\"ipJvcVNh878VAWe0J1gmwA==\"},\"shape\":[2],\"dtype\":\"float64\",\"order\":\"little\"}],[285,{\"type\":\"ndarray\",\"array\":{\"type\":\"bytes\",\"data\":\"10oeS+KK/j/5+jpcRQYqwA==\"},\"shape\":[2],\"dtype\":\"float64\",\"order\":\"little\"}],[286,{\"type\":\"ndarray\",\"array\":{\"type\":\"bytes\",\"data\":\"rP9+D4uyG0DwNphaFKYQwA==\"},\"shape\":[2],\"dtype\":\"float64\",\"order\":\"little\"}],[287,{\"type\":\"ndarray\",\"array\":{\"type\":\"bytes\",\"data\":\"ASHrSUUTDUBnU3ZR3E8swA==\"},\"shape\":[2],\"dtype\":\"float64\",\"order\":\"little\"}],[288,{\"type\":\"ndarray\",\"array\":{\"type\":\"bytes\",\"data\":\"x7xIeI9cFUCkrI4Lox4swA==\"},\"shape\":[2],\"dtype\":\"float64\",\"order\":\"little\"}],[289,{\"type\":\"ndarray\",\"array\":{\"type\":\"bytes\",\"data\":\"36d81xalG0BmqV1E+uwnwA==\"},\"shape\":[2],\"dtype\":\"float64\",\"order\":\"little\"}],[290,{\"type\":\"ndarray\",\"array\":{\"type\":\"bytes\",\"data\":\"J6Pf2wfAEUA6l/FkHwgowA==\"},\"shape\":[2],\"dtype\":\"float64\",\"order\":\"little\"}],[291,{\"type\":\"ndarray\",\"array\":{\"type\":\"bytes\",\"data\":\"oqRKZatBB0B3pT77mtAUwA==\"},\"shape\":[2],\"dtype\":\"float64\",\"order\":\"little\"}],[292,{\"type\":\"ndarray\",\"array\":{\"type\":\"bytes\",\"data\":\"CB0789kmC0AX+Q66GcUpwA==\"},\"shape\":[2],\"dtype\":\"float64\",\"order\":\"little\"}],[293,{\"type\":\"ndarray\",\"array\":{\"type\":\"bytes\",\"data\":\"YwrX9DipDEAAAKoX5A0rwA==\"},\"shape\":[2],\"dtype\":\"float64\",\"order\":\"little\"}],[294,{\"type\":\"ndarray\",\"array\":{\"type\":\"bytes\",\"data\":\"qqmkJhMI9j//icU/+IEtwA==\"},\"shape\":[2],\"dtype\":\"float64\",\"order\":\"little\"}],[295,{\"type\":\"ndarray\",\"array\":{\"type\":\"bytes\",\"data\":\"jQNWTcKWEkDy22YCiwoqwA==\"},\"shape\":[2],\"dtype\":\"float64\",\"order\":\"little\"}],[296,{\"type\":\"ndarray\",\"array\":{\"type\":\"bytes\",\"data\":\"zvsl1C0RBECFD8zOPqApwA==\"},\"shape\":[2],\"dtype\":\"float64\",\"order\":\"little\"}],[297,{\"type\":\"ndarray\",\"array\":{\"type\":\"bytes\",\"data\":\"c04C1amTGkCNvdroiFAQwA==\"},\"shape\":[2],\"dtype\":\"float64\",\"order\":\"little\"}],[298,{\"type\":\"ndarray\",\"array\":{\"type\":\"bytes\",\"data\":\"yfWo5Ic+F0DvxN9/fnQpwA==\"},\"shape\":[2],\"dtype\":\"float64\",\"order\":\"little\"}],[299,{\"type\":\"ndarray\",\"array\":{\"type\":\"bytes\",\"data\":\"wJplkXRFG0BJvPRBssQkwA==\"},\"shape\":[2],\"dtype\":\"float64\",\"order\":\"little\"}],[300,{\"type\":\"ndarray\",\"array\":{\"type\":\"bytes\",\"data\":\"+4qd0hJoFECjQ4SzNlEnwA==\"},\"shape\":[2],\"dtype\":\"float64\",\"order\":\"little\"}],[301,{\"type\":\"ndarray\",\"array\":{\"type\":\"bytes\",\"data\":\"2V9oruPWA0BpLKEfMc8twA==\"},\"shape\":[2],\"dtype\":\"float64\",\"order\":\"little\"}],[302,{\"type\":\"ndarray\",\"array\":{\"type\":\"bytes\",\"data\":\"0Vjwm2I3GUD0FK5o12AqwA==\"},\"shape\":[2],\"dtype\":\"float64\",\"order\":\"little\"}],[303,{\"type\":\"ndarray\",\"array\":{\"type\":\"bytes\",\"data\":\"FMLf5K7LvT8xgQ3XD4gqwA==\"},\"shape\":[2],\"dtype\":\"float64\",\"order\":\"little\"}],[304,{\"type\":\"ndarray\",\"array\":{\"type\":\"bytes\",\"data\":\"psFNL5IhFUBvM8xj9QIqwA==\"},\"shape\":[2],\"dtype\":\"float64\",\"order\":\"little\"}],[305,{\"type\":\"ndarray\",\"array\":{\"type\":\"bytes\",\"data\":\"MaMKalBQ4z/DVELZRMApwA==\"},\"shape\":[2],\"dtype\":\"float64\",\"order\":\"little\"}],[306,{\"type\":\"ndarray\",\"array\":{\"type\":\"bytes\",\"data\":\"3Tueg2aMGUAxOiBSSoQowA==\"},\"shape\":[2],\"dtype\":\"float64\",\"order\":\"little\"}],[307,{\"type\":\"ndarray\",\"array\":{\"type\":\"bytes\",\"data\":\"DJWgUfYa479X7pawipcqwA==\"},\"shape\":[2],\"dtype\":\"float64\",\"order\":\"little\"}],[308,{\"type\":\"ndarray\",\"array\":{\"type\":\"bytes\",\"data\":\"Pu37/bmCFkDM9WNeByAmwA==\"},\"shape\":[2],\"dtype\":\"float64\",\"order\":\"little\"}],[309,{\"type\":\"ndarray\",\"array\":{\"type\":\"bytes\",\"data\":\"4una1r9Twj/EiN1sHyQnwA==\"},\"shape\":[2],\"dtype\":\"float64\",\"order\":\"little\"}],[310,{\"type\":\"ndarray\",\"array\":{\"type\":\"bytes\",\"data\":\"wl25TBklFEB/xH5IRjklwA==\"},\"shape\":[2],\"dtype\":\"float64\",\"order\":\"little\"}],[311,{\"type\":\"ndarray\",\"array\":{\"type\":\"bytes\",\"data\":\"yjBzbXUGHEBcNNSDu1ImwA==\"},\"shape\":[2],\"dtype\":\"float64\",\"order\":\"little\"}],[312,{\"type\":\"ndarray\",\"array\":{\"type\":\"bytes\",\"data\":\"CPLL2jCe8j9ykHKg5VgiwA==\"},\"shape\":[2],\"dtype\":\"float64\",\"order\":\"little\"}],[313,{\"type\":\"ndarray\",\"array\":{\"type\":\"bytes\",\"data\":\"b/RZf2yeF0A5l4grPDwnwA==\"},\"shape\":[2],\"dtype\":\"float64\",\"order\":\"little\"}],[314,{\"type\":\"ndarray\",\"array\":{\"type\":\"bytes\",\"data\":\"/xnyBwyNCkA3m6VbFEIlwA==\"},\"shape\":[2],\"dtype\":\"float64\",\"order\":\"little\"}],[315,{\"type\":\"ndarray\",\"array\":{\"type\":\"bytes\",\"data\":\"hp/RYmc6FkBeFe85lfQjwA==\"},\"shape\":[2],\"dtype\":\"float64\",\"order\":\"little\"}],[316,{\"type\":\"ndarray\",\"array\":{\"type\":\"bytes\",\"data\":\"4MHNuBC4GkBSnv8RtnopwA==\"},\"shape\":[2],\"dtype\":\"float64\",\"order\":\"little\"}],[317,{\"type\":\"ndarray\",\"array\":{\"type\":\"bytes\",\"data\":\"klCdSL3vCUBxwL/QGvImwA==\"},\"shape\":[2],\"dtype\":\"float64\",\"order\":\"little\"}],[318,{\"type\":\"ndarray\",\"array\":{\"type\":\"bytes\",\"data\":\"g7bBfj315T/VFVV57C8rwA==\"},\"shape\":[2],\"dtype\":\"float64\",\"order\":\"little\"}],[319,{\"type\":\"ndarray\",\"array\":{\"type\":\"bytes\",\"data\":\"wSMgrhdaEUBVqonsZ2kmwA==\"},\"shape\":[2],\"dtype\":\"float64\",\"order\":\"little\"}],[320,{\"type\":\"ndarray\",\"array\":{\"type\":\"bytes\",\"data\":\"nVdulsI1G0AiAFfJuNcOwA==\"},\"shape\":[2],\"dtype\":\"float64\",\"order\":\"little\"}],[321,{\"type\":\"ndarray\",\"array\":{\"type\":\"bytes\",\"data\":\"lojzs0sEDkDLal4VCpstwA==\"},\"shape\":[2],\"dtype\":\"float64\",\"order\":\"little\"}],[322,{\"type\":\"ndarray\",\"array\":{\"type\":\"bytes\",\"data\":\"b/CkgAl99z+0cyxSVS8nwA==\"},\"shape\":[2],\"dtype\":\"float64\",\"order\":\"little\"}],[323,{\"type\":\"ndarray\",\"array\":{\"type\":\"bytes\",\"data\":\"oKfOgfw1AkB56HocOTEnwA==\"},\"shape\":[2],\"dtype\":\"float64\",\"order\":\"little\"}],[324,{\"type\":\"ndarray\",\"array\":{\"type\":\"bytes\",\"data\":\"PevdNOPXDUC7zqY980wowA==\"},\"shape\":[2],\"dtype\":\"float64\",\"order\":\"little\"}],[325,{\"type\":\"ndarray\",\"array\":{\"type\":\"bytes\",\"data\":\"PNUuu8X3EUBKMbyPCJ4hwA==\"},\"shape\":[2],\"dtype\":\"float64\",\"order\":\"little\"}],[326,{\"type\":\"ndarray\",\"array\":{\"type\":\"bytes\",\"data\":\"jLrm3pEG2z8PNyiTWUwlwA==\"},\"shape\":[2],\"dtype\":\"float64\",\"order\":\"little\"}],[327,{\"type\":\"ndarray\",\"array\":{\"type\":\"bytes\",\"data\":\"D2V9XX0HGkCFR/0NhSgnwA==\"},\"shape\":[2],\"dtype\":\"float64\",\"order\":\"little\"}],[328,{\"type\":\"ndarray\",\"array\":{\"type\":\"bytes\",\"data\":\"RTaaersDzz+5nmHlSgcswA==\"},\"shape\":[2],\"dtype\":\"float64\",\"order\":\"little\"}],[329,{\"type\":\"ndarray\",\"array\":{\"type\":\"bytes\",\"data\":\"hFyuidbkEEClOyR7m0MswA==\"},\"shape\":[2],\"dtype\":\"float64\",\"order\":\"little\"}],[330,{\"type\":\"ndarray\",\"array\":{\"type\":\"bytes\",\"data\":\"6eiQt6A/AUA8R8XavK8swA==\"},\"shape\":[2],\"dtype\":\"float64\",\"order\":\"little\"}],[331,{\"type\":\"ndarray\",\"array\":{\"type\":\"bytes\",\"data\":\"7I7k+Vpn+j+xgn/hw6QowA==\"},\"shape\":[2],\"dtype\":\"float64\",\"order\":\"little\"}],[332,{\"type\":\"ndarray\",\"array\":{\"type\":\"bytes\",\"data\":\"DFRYrMLIBkA15DsJHHYowA==\"},\"shape\":[2],\"dtype\":\"float64\",\"order\":\"little\"}],[333,{\"type\":\"ndarray\",\"array\":{\"type\":\"bytes\",\"data\":\"9O331M0fF0CIfoHLP7cqwA==\"},\"shape\":[2],\"dtype\":\"float64\",\"order\":\"little\"}],[334,{\"type\":\"ndarray\",\"array\":{\"type\":\"bytes\",\"data\":\"K4aH9b6TvD+NAsnCMtkowA==\"},\"shape\":[2],\"dtype\":\"float64\",\"order\":\"little\"}],[335,{\"type\":\"ndarray\",\"array\":{\"type\":\"bytes\",\"data\":\"MihGq+d2B0AmmfZ3h0UtwA==\"},\"shape\":[2],\"dtype\":\"float64\",\"order\":\"little\"}],[336,{\"type\":\"ndarray\",\"array\":{\"type\":\"bytes\",\"data\":\"wvzIKlTyEEDIeksnQHwtwA==\"},\"shape\":[2],\"dtype\":\"float64\",\"order\":\"little\"}],[337,{\"type\":\"ndarray\",\"array\":{\"type\":\"bytes\",\"data\":\"EtF8f/AEFEDvPCt0brIowA==\"},\"shape\":[2],\"dtype\":\"float64\",\"order\":\"little\"}],[338,{\"type\":\"ndarray\",\"array\":{\"type\":\"bytes\",\"data\":\"pVSaROAVGEBmdRTgIAclwA==\"},\"shape\":[2],\"dtype\":\"float64\",\"order\":\"little\"}],[339,{\"type\":\"ndarray\",\"array\":{\"type\":\"bytes\",\"data\":\"SKmEuTvB+j+8WJDnUyslwA==\"},\"shape\":[2],\"dtype\":\"float64\",\"order\":\"little\"}],[340,{\"type\":\"ndarray\",\"array\":{\"type\":\"bytes\",\"data\":\"YZnyqH5TE0DjxNRzAQkswA==\"},\"shape\":[2],\"dtype\":\"float64\",\"order\":\"little\"}],[341,{\"type\":\"ndarray\",\"array\":{\"type\":\"bytes\",\"data\":\"0Vkf5/X5GUACZW2Zdt4lwA==\"},\"shape\":[2],\"dtype\":\"float64\",\"order\":\"little\"}],[342,{\"type\":\"ndarray\",\"array\":{\"type\":\"bytes\",\"data\":\"VpIyYrVz5z9uJY0IGEQowA==\"},\"shape\":[2],\"dtype\":\"float64\",\"order\":\"little\"}],[343,{\"type\":\"ndarray\",\"array\":{\"type\":\"bytes\",\"data\":\"UcL2Xy4K8L8wG+6KY4opwA==\"},\"shape\":[2],\"dtype\":\"float64\",\"order\":\"little\"}],[344,{\"type\":\"ndarray\",\"array\":{\"type\":\"bytes\",\"data\":\"Gog2h1WtGUBFwRvY68ojwA==\"},\"shape\":[2],\"dtype\":\"float64\",\"order\":\"little\"}],[345,{\"type\":\"ndarray\",\"array\":{\"type\":\"bytes\",\"data\":\"Xw7ljHlH4z+M/XiMB+AswA==\"},\"shape\":[2],\"dtype\":\"float64\",\"order\":\"little\"}],[346,{\"type\":\"ndarray\",\"array\":{\"type\":\"bytes\",\"data\":\"h8u7Kfct47+1WlN156QjwA==\"},\"shape\":[2],\"dtype\":\"float64\",\"order\":\"little\"}],[347,{\"type\":\"ndarray\",\"array\":{\"type\":\"bytes\",\"data\":\"p8wJuXp98L/tB6TJ6AIlwA==\"},\"shape\":[2],\"dtype\":\"float64\",\"order\":\"little\"}],[348,{\"type\":\"ndarray\",\"array\":{\"type\":\"bytes\",\"data\":\"t/RD3ptT2r/MPPsZHKknwA==\"},\"shape\":[2],\"dtype\":\"float64\",\"order\":\"little\"}],[349,{\"type\":\"ndarray\",\"array\":{\"type\":\"bytes\",\"data\":\"LLTmr5aW5T8oc0IIJNsjwA==\"},\"shape\":[2],\"dtype\":\"float64\",\"order\":\"little\"}],[350,{\"type\":\"ndarray\",\"array\":{\"type\":\"bytes\",\"data\":\"RRSth0sGB0B4VjkZ8L4qwA==\"},\"shape\":[2],\"dtype\":\"float64\",\"order\":\"little\"}],[351,{\"type\":\"ndarray\",\"array\":{\"type\":\"bytes\",\"data\":\"OvofHnse7L+a/bpPr3YowA==\"},\"shape\":[2],\"dtype\":\"float64\",\"order\":\"little\"}],[352,{\"type\":\"ndarray\",\"array\":{\"type\":\"bytes\",\"data\":\"HhI0g9vBkT+nmAJ1Jr0iwA==\"},\"shape\":[2],\"dtype\":\"float64\",\"order\":\"little\"}],[353,{\"type\":\"ndarray\",\"array\":{\"type\":\"bytes\",\"data\":\"EecICcgCF0DW0ypUs2cowA==\"},\"shape\":[2],\"dtype\":\"float64\",\"order\":\"little\"}],[354,{\"type\":\"ndarray\",\"array\":{\"type\":\"bytes\",\"data\":\"dbm/5e0s0b8caU1u7dwkwA==\"},\"shape\":[2],\"dtype\":\"float64\",\"order\":\"little\"}],[355,{\"type\":\"ndarray\",\"array\":{\"type\":\"bytes\",\"data\":\"9dxftFBeEEBz/rqaKp0pwA==\"},\"shape\":[2],\"dtype\":\"float64\",\"order\":\"little\"}],[356,{\"type\":\"ndarray\",\"array\":{\"type\":\"bytes\",\"data\":\"Oe6kCBDYEEDBqVu9aR0rwA==\"},\"shape\":[2],\"dtype\":\"float64\",\"order\":\"little\"}],[357,{\"type\":\"ndarray\",\"array\":{\"type\":\"bytes\",\"data\":\"5whWDY43GEA5xgvApb8iwA==\"},\"shape\":[2],\"dtype\":\"float64\",\"order\":\"little\"}],[358,{\"type\":\"ndarray\",\"array\":{\"type\":\"bytes\",\"data\":\"dZv+VK8lE0A2bPmCXhUtwA==\"},\"shape\":[2],\"dtype\":\"float64\",\"order\":\"little\"}],[359,{\"type\":\"ndarray\",\"array\":{\"type\":\"bytes\",\"data\":\"TbbknPWt/z/yJ+Fayj0rwA==\"},\"shape\":[2],\"dtype\":\"float64\",\"order\":\"little\"}],[360,{\"type\":\"ndarray\",\"array\":{\"type\":\"bytes\",\"data\":\"LxsFPFw+IEBGPqZSPmIVwA==\"},\"shape\":[2],\"dtype\":\"float64\",\"order\":\"little\"}],[361,{\"type\":\"ndarray\",\"array\":{\"type\":\"bytes\",\"data\":\"Y3C/9V8pBEAfG1sYsJcUwA==\"},\"shape\":[2],\"dtype\":\"float64\",\"order\":\"little\"}],[362,{\"type\":\"ndarray\",\"array\":{\"type\":\"bytes\",\"data\":\"jhPZHC4aCkBg5uCZ+PEtwA==\"},\"shape\":[2],\"dtype\":\"float64\",\"order\":\"little\"}],[363,{\"type\":\"ndarray\",\"array\":{\"type\":\"bytes\",\"data\":\"Gzes646337+d1RxA+0AmwA==\"},\"shape\":[2],\"dtype\":\"float64\",\"order\":\"little\"}],[364,{\"type\":\"ndarray\",\"array\":{\"type\":\"bytes\",\"data\":\"nYlr8xGE+T8rCuRfwlEswA==\"},\"shape\":[2],\"dtype\":\"float64\",\"order\":\"little\"}],[365,{\"type\":\"ndarray\",\"array\":{\"type\":\"bytes\",\"data\":\"JOj1TP2g9D+mM/m6dB4rwA==\"},\"shape\":[2],\"dtype\":\"float64\",\"order\":\"little\"}],[366,{\"type\":\"ndarray\",\"array\":{\"type\":\"bytes\",\"data\":\"wG0JWBLgE0CoXaxvEAorwA==\"},\"shape\":[2],\"dtype\":\"float64\",\"order\":\"little\"}],[367,{\"type\":\"ndarray\",\"array\":{\"type\":\"bytes\",\"data\":\"7uAFGdb6BkDMA1VIl4bkvw==\"},\"shape\":[2],\"dtype\":\"float64\",\"order\":\"little\"}],[368,{\"type\":\"ndarray\",\"array\":{\"type\":\"bytes\",\"data\":\"c3WFQwRXFkCxxfp1r8SyPw==\"},\"shape\":[2],\"dtype\":\"float64\",\"order\":\"little\"}],[369,{\"type\":\"ndarray\",\"array\":{\"type\":\"bytes\",\"data\":\"Q2TcWA7uE0Dz72R4n+D1Pw==\"},\"shape\":[2],\"dtype\":\"float64\",\"order\":\"little\"}],[370,{\"type\":\"ndarray\",\"array\":{\"type\":\"bytes\",\"data\":\"KxBZuO5iFUCGtcdaGvXsvw==\"},\"shape\":[2],\"dtype\":\"float64\",\"order\":\"little\"}],[371,{\"type\":\"ndarray\",\"array\":{\"type\":\"bytes\",\"data\":\"e76slX3qFUAGAg0qWI7qPw==\"},\"shape\":[2],\"dtype\":\"float64\",\"order\":\"little\"}],[372,{\"type\":\"ndarray\",\"array\":{\"type\":\"bytes\",\"data\":\"dg+cJM0DKkAR4oTTLozqvw==\"},\"shape\":[2],\"dtype\":\"float64\",\"order\":\"little\"}],[373,{\"type\":\"ndarray\",\"array\":{\"type\":\"bytes\",\"data\":\"e7LZoRtWK0BRVIDAjkUBwA==\"},\"shape\":[2],\"dtype\":\"float64\",\"order\":\"little\"}],[374,{\"type\":\"ndarray\",\"array\":{\"type\":\"bytes\",\"data\":\"5FT0W+7RLUDs6mje6Mr9Pw==\"},\"shape\":[2],\"dtype\":\"float64\",\"order\":\"little\"}],[375,{\"type\":\"ndarray\",\"array\":{\"type\":\"bytes\",\"data\":\"LX77JiGWMUBssTynVUn8Pw==\"},\"shape\":[2],\"dtype\":\"float64\",\"order\":\"little\"}],[376,{\"type\":\"ndarray\",\"array\":{\"type\":\"bytes\",\"data\":\"dpzN+ThIMEA5iP30DQwHQA==\"},\"shape\":[2],\"dtype\":\"float64\",\"order\":\"little\"}],[377,{\"type\":\"ndarray\",\"array\":{\"type\":\"bytes\",\"data\":\"SzoDY6dwMEA6qLS0QjsHwA==\"},\"shape\":[2],\"dtype\":\"float64\",\"order\":\"little\"}],[378,{\"type\":\"ndarray\",\"array\":{\"type\":\"bytes\",\"data\":\"+Pls+8zHLUAR0k52x88MwA==\"},\"shape\":[2],\"dtype\":\"float64\",\"order\":\"little\"}],[379,{\"type\":\"ndarray\",\"array\":{\"type\":\"bytes\",\"data\":\"yiPysBUSL0DH2DPDjqDzvw==\"},\"shape\":[2],\"dtype\":\"float64\",\"order\":\"little\"}],[380,{\"type\":\"ndarray\",\"array\":{\"type\":\"bytes\",\"data\":\"U+iqqQonLkDLz8vK34rXvw==\"},\"shape\":[2],\"dtype\":\"float64\",\"order\":\"little\"}],[381,{\"type\":\"ndarray\",\"array\":{\"type\":\"bytes\",\"data\":\"qrlqE+T3L0Cf1H4LYBr7vw==\"},\"shape\":[2],\"dtype\":\"float64\",\"order\":\"little\"}],[382,{\"type\":\"ndarray\",\"array\":{\"type\":\"bytes\",\"data\":\"TaMcL8M0MUBEYF+NBAXrvw==\"},\"shape\":[2],\"dtype\":\"float64\",\"order\":\"little\"}],[383,{\"type\":\"ndarray\",\"array\":{\"type\":\"bytes\",\"data\":\"e05YFQxhLUA1DY+s/tPoPw==\"},\"shape\":[2],\"dtype\":\"float64\",\"order\":\"little\"}],[384,{\"type\":\"ndarray\",\"array\":{\"type\":\"bytes\",\"data\":\"QhxBbRUsMkCpWiDZtk4CwA==\"},\"shape\":[2],\"dtype\":\"float64\",\"order\":\"little\"}],[385,{\"type\":\"ndarray\",\"array\":{\"type\":\"bytes\",\"data\":\"+RuXvqkvMUAgPoSmTnP3Pw==\"},\"shape\":[2],\"dtype\":\"float64\",\"order\":\"little\"}],[386,{\"type\":\"ndarray\",\"array\":{\"type\":\"bytes\",\"data\":\"9T862sUYKkCOTZoyVJIHwA==\"},\"shape\":[2],\"dtype\":\"float64\",\"order\":\"little\"}],[387,{\"type\":\"ndarray\",\"array\":{\"type\":\"bytes\",\"data\":\"F7aWqt0kLUCySknrKocSwA==\"},\"shape\":[2],\"dtype\":\"float64\",\"order\":\"little\"}],[388,{\"type\":\"ndarray\",\"array\":{\"type\":\"bytes\",\"data\":\"8Q+yTTRfMkDVN5V3xpfEvw==\"},\"shape\":[2],\"dtype\":\"float64\",\"order\":\"little\"}],[389,{\"type\":\"ndarray\",\"array\":{\"type\":\"bytes\",\"data\":\"fSvVaaiuMEBoFb7EKXMEQA==\"},\"shape\":[2],\"dtype\":\"float64\",\"order\":\"little\"}],[390,{\"type\":\"ndarray\",\"array\":{\"type\":\"bytes\",\"data\":\"tJG/DCGGLEADe4b6J30PwA==\"},\"shape\":[2],\"dtype\":\"float64\",\"order\":\"little\"}],[391,{\"type\":\"ndarray\",\"array\":{\"type\":\"bytes\",\"data\":\"sYy65RdgMkA9Meklllrrvw==\"},\"shape\":[2],\"dtype\":\"float64\",\"order\":\"little\"}],[392,{\"type\":\"ndarray\",\"array\":{\"type\":\"bytes\",\"data\":\"LxCf0D6+MUCB7buORqnyvw==\"},\"shape\":[2],\"dtype\":\"float64\",\"order\":\"little\"}],[393,{\"type\":\"ndarray\",\"array\":{\"type\":\"bytes\",\"data\":\"TRAEKk2cMEBWB4LX1zsAQA==\"},\"shape\":[2],\"dtype\":\"float64\",\"order\":\"little\"}],[394,{\"type\":\"ndarray\",\"array\":{\"type\":\"bytes\",\"data\":\"B9RXgFzzKkCIdYAzad4MwA==\"},\"shape\":[2],\"dtype\":\"float64\",\"order\":\"little\"}],[395,{\"type\":\"ndarray\",\"array\":{\"type\":\"bytes\",\"data\":\"Sry6jxvfKUBxo7GTQO34Pw==\"},\"shape\":[2],\"dtype\":\"float64\",\"order\":\"little\"}],[396,{\"type\":\"ndarray\",\"array\":{\"type\":\"bytes\",\"data\":\"i7lK/6ktKkD6mII/GeQCQA==\"},\"shape\":[2],\"dtype\":\"float64\",\"order\":\"little\"}],[397,{\"type\":\"ndarray\",\"array\":{\"type\":\"bytes\",\"data\":\"igj629VNMUA4obLk5oL5vw==\"},\"shape\":[2],\"dtype\":\"float64\",\"order\":\"little\"}],[398,{\"type\":\"ndarray\",\"array\":{\"type\":\"bytes\",\"data\":\"9ysjcO0mLUDZZonLML4BwA==\"},\"shape\":[2],\"dtype\":\"float64\",\"order\":\"little\"}],[399,{\"type\":\"ndarray\",\"array\":{\"type\":\"bytes\",\"data\":\"lmI+CmzEMECpFpUOWiEMwA==\"},\"shape\":[2],\"dtype\":\"float64\",\"order\":\"little\"}],[400,{\"type\":\"ndarray\",\"array\":{\"type\":\"bytes\",\"data\":\"HUOXcCrhMUBrKrZH48bivw==\"},\"shape\":[2],\"dtype\":\"float64\",\"order\":\"little\"}],[401,{\"type\":\"ndarray\",\"array\":{\"type\":\"bytes\",\"data\":\"cKy6HMqKMUDA8NGzPPQLwA==\"},\"shape\":[2],\"dtype\":\"float64\",\"order\":\"little\"}],[402,{\"type\":\"ndarray\",\"array\":{\"type\":\"bytes\",\"data\":\"vZ0ghFb8LkB0uICoadgCQA==\"},\"shape\":[2],\"dtype\":\"float64\",\"order\":\"little\"}],[403,{\"type\":\"ndarray\",\"array\":{\"type\":\"bytes\",\"data\":\"gLLed7DcLkBD+DY5uMAJQA==\"},\"shape\":[2],\"dtype\":\"float64\",\"order\":\"little\"}],[404,{\"type\":\"ndarray\",\"array\":{\"type\":\"bytes\",\"data\":\"7hqirvTULkCwg2X97vsCwA==\"},\"shape\":[2],\"dtype\":\"float64\",\"order\":\"little\"}],[405,{\"type\":\"ndarray\",\"array\":{\"type\":\"bytes\",\"data\":\"4PFoogRuLEDf/Bwrq+0IQA==\"},\"shape\":[2],\"dtype\":\"float64\",\"order\":\"little\"}],[406,{\"type\":\"ndarray\",\"array\":{\"type\":\"bytes\",\"data\":\"wKNRxXjJMED0l81ShJXuPw==\"},\"shape\":[2],\"dtype\":\"float64\",\"order\":\"little\"}],[407,{\"type\":\"ndarray\",\"array\":{\"type\":\"bytes\",\"data\":\"sJO9fxVXMEDCAjGwwrcQwA==\"},\"shape\":[2],\"dtype\":\"float64\",\"order\":\"little\"}],[408,{\"type\":\"ndarray\",\"array\":{\"type\":\"bytes\",\"data\":\"RcpkQjmYMUDrmljf1zDaPw==\"},\"shape\":[2],\"dtype\":\"float64\",\"order\":\"little\"}],[409,{\"type\":\"ndarray\",\"array\":{\"type\":\"bytes\",\"data\":\"YMsLJoU+K0Bk1S7C7LwGQA==\"},\"shape\":[2],\"dtype\":\"float64\",\"order\":\"little\"}],[410,{\"type\":\"ndarray\",\"array\":{\"type\":\"bytes\",\"data\":\"y7ClAaovMEBwVhFaoPoMwA==\"},\"shape\":[2],\"dtype\":\"float64\",\"order\":\"little\"}],[411,{\"type\":\"ndarray\",\"array\":{\"type\":\"bytes\",\"data\":\"APoyws5wK0CoIhc2JoX/Pw==\"},\"shape\":[2],\"dtype\":\"float64\",\"order\":\"little\"}],[412,{\"type\":\"ndarray\",\"array\":{\"type\":\"bytes\",\"data\":\"BCOVBFz1MEBgj3+pTjYQwA==\"},\"shape\":[2],\"dtype\":\"float64\",\"order\":\"little\"}],[413,{\"type\":\"ndarray\",\"array\":{\"type\":\"bytes\",\"data\":\"c4GzEb58L0DHd4WVH/7LPw==\"},\"shape\":[2],\"dtype\":\"float64\",\"order\":\"little\"}],[414,{\"type\":\"ndarray\",\"array\":{\"type\":\"bytes\",\"data\":\"zo0mXpGPMUCn6D5vMlIBwA==\"},\"shape\":[2],\"dtype\":\"float64\",\"order\":\"little\"}],[415,{\"type\":\"ndarray\",\"array\":{\"type\":\"bytes\",\"data\":\"42ExYHjzMUAHG8gMecD7vw==\"},\"shape\":[2],\"dtype\":\"float64\",\"order\":\"little\"}],[416,{\"type\":\"ndarray\",\"array\":{\"type\":\"bytes\",\"data\":\"UfKMxyLfLUBRFYV9IvkEQA==\"},\"shape\":[2],\"dtype\":\"float64\",\"order\":\"little\"}],[417,{\"type\":\"ndarray\",\"array\":{\"type\":\"bytes\",\"data\":\"L83ghmzzK0DjdVUYvmESwA==\"},\"shape\":[2],\"dtype\":\"float64\",\"order\":\"little\"}],[418,{\"type\":\"ndarray\",\"array\":{\"type\":\"bytes\",\"data\":\"cGl1AqHZMEAzXBu3KmsBwA==\"},\"shape\":[2],\"dtype\":\"float64\",\"order\":\"little\"}],[419,{\"type\":\"ndarray\",\"array\":{\"type\":\"bytes\",\"data\":\"wmfLY0qRMEDAE949fJ3ovw==\"},\"shape\":[2],\"dtype\":\"float64\",\"order\":\"little\"}],[420,{\"type\":\"ndarray\",\"array\":{\"type\":\"bytes\",\"data\":\"uMe31xw3MkCKhpCofT7fPw==\"},\"shape\":[2],\"dtype\":\"float64\",\"order\":\"little\"}],[421,{\"type\":\"ndarray\",\"array\":{\"type\":\"bytes\",\"data\":\"zBdDsOH+MEAOtgqaHk3aPw==\"},\"shape\":[2],\"dtype\":\"float64\",\"order\":\"little\"}],[422,{\"type\":\"ndarray\",\"array\":{\"type\":\"bytes\",\"data\":\"6YAAkFIiMUAo+QJMSzoJwA==\"},\"shape\":[2],\"dtype\":\"float64\",\"order\":\"little\"}],[423,{\"type\":\"ndarray\",\"array\":{\"type\":\"bytes\",\"data\":\"2p2Jx+NoLUBAZS0CQNP1vw==\"},\"shape\":[2],\"dtype\":\"float64\",\"order\":\"little\"}],[424,{\"type\":\"ndarray\",\"array\":{\"type\":\"bytes\",\"data\":\"SnirkKE2L0C/KrEIIGMNwA==\"},\"shape\":[2],\"dtype\":\"float64\",\"order\":\"little\"}],[425,{\"type\":\"ndarray\",\"array\":{\"type\":\"bytes\",\"data\":\"T2BcbUCMLECllWi/Q2D3Pw==\"},\"shape\":[2],\"dtype\":\"float64\",\"order\":\"little\"}],[426,{\"type\":\"ndarray\",\"array\":{\"type\":\"bytes\",\"data\":\"HEl9XqgjMUBN/fj97XXOvw==\"},\"shape\":[2],\"dtype\":\"float64\",\"order\":\"little\"}],[427,{\"type\":\"ndarray\",\"array\":{\"type\":\"bytes\",\"data\":\"m9Z/4SR1MEDLKve5ui2VPw==\"},\"shape\":[2],\"dtype\":\"float64\",\"order\":\"little\"}],[428,{\"type\":\"ndarray\",\"array\":{\"type\":\"bytes\",\"data\":\"z/ii8AsyL0CU6bqkFBsSwA==\"},\"shape\":[2],\"dtype\":\"float64\",\"order\":\"little\"}],[429,{\"type\":\"ndarray\",\"array\":{\"type\":\"bytes\",\"data\":\"d4U3qRRmL0B3BJyaEgv2Pw==\"},\"shape\":[2],\"dtype\":\"float64\",\"order\":\"little\"}],[430,{\"type\":\"ndarray\",\"array\":{\"type\":\"bytes\",\"data\":\"TPPfRNyKMUDEBuW7I97uPw==\"},\"shape\":[2],\"dtype\":\"float64\",\"order\":\"little\"}],[431,{\"type\":\"ndarray\",\"array\":{\"type\":\"bytes\",\"data\":\"OPIhFh2zLUCUQFuiKroHwA==\"},\"shape\":[2],\"dtype\":\"float64\",\"order\":\"little\"}],[432,{\"type\":\"ndarray\",\"array\":{\"type\":\"bytes\",\"data\":\"Zxay/hosMUBLXq6rSqoBQA==\"},\"shape\":[2],\"dtype\":\"float64\",\"order\":\"little\"}],[433,{\"type\":\"ndarray\",\"array\":{\"type\":\"bytes\",\"data\":\"oMRVACUeMEDxBSAbYUrpPw==\"},\"shape\":[2],\"dtype\":\"float64\",\"order\":\"little\"}],[434,{\"type\":\"ndarray\",\"array\":{\"type\":\"bytes\",\"data\":\"A3+1BpWgLUCWypWDisUJQA==\"},\"shape\":[2],\"dtype\":\"float64\",\"order\":\"little\"}],[435,{\"type\":\"ndarray\",\"array\":{\"type\":\"bytes\",\"data\":\"fsDOsE3QMUCxcDxeQBmuvw==\"},\"shape\":[2],\"dtype\":\"float64\",\"order\":\"little\"}],[436,{\"type\":\"ndarray\",\"array\":{\"type\":\"bytes\",\"data\":\"rnzZy9WKLkDpDrB3kPDuPw==\"},\"shape\":[2],\"dtype\":\"float64\",\"order\":\"little\"}],[437,{\"type\":\"ndarray\",\"array\":{\"type\":\"bytes\",\"data\":\"ZRujwC2sKkAD2PNMJN8QwA==\"},\"shape\":[2],\"dtype\":\"float64\",\"order\":\"little\"}],[438,{\"type\":\"ndarray\",\"array\":{\"type\":\"bytes\",\"data\":\"58GHBis/MUCPE93XVA8FwA==\"},\"shape\":[2],\"dtype\":\"float64\",\"order\":\"little\"}],[439,{\"type\":\"ndarray\",\"array\":{\"type\":\"bytes\",\"data\":\"iXar6GM9LkA/T5YB4bUQwA==\"},\"shape\":[2],\"dtype\":\"float64\",\"order\":\"little\"}],[440,{\"type\":\"ndarray\",\"array\":{\"type\":\"bytes\",\"data\":\"Szc6SZHOL0DL+cg3Mgbjvw==\"},\"shape\":[2],\"dtype\":\"float64\",\"order\":\"little\"}],[441,{\"type\":\"ndarray\",\"array\":{\"type\":\"bytes\",\"data\":\"pOLduPBFMED9LV+tJSsCwA==\"},\"shape\":[2],\"dtype\":\"float64\",\"order\":\"little\"}],[442,{\"type\":\"ndarray\",\"array\":{\"type\":\"bytes\",\"data\":\"NDJtj/kBK0DjruSp4WjtPw==\"},\"shape\":[2],\"dtype\":\"float64\",\"order\":\"little\"}],[443,{\"type\":\"ndarray\",\"array\":{\"type\":\"bytes\",\"data\":\"1SuE71GuMEBqqXqPAx/3vw==\"},\"shape\":[2],\"dtype\":\"float64\",\"order\":\"little\"}],[444,{\"type\":\"ndarray\",\"array\":{\"type\":\"bytes\",\"data\":\"pZB3Td3DL0Da1EnbvEb/Pw==\"},\"shape\":[2],\"dtype\":\"float64\",\"order\":\"little\"}],[445,{\"type\":\"ndarray\",\"array\":{\"type\":\"bytes\",\"data\":\"4WRs3Q2NLEDbX4prIx+bPw==\"},\"shape\":[2],\"dtype\":\"float64\",\"order\":\"little\"}],[446,{\"type\":\"ndarray\",\"array\":{\"type\":\"bytes\",\"data\":\"fj5E5igSLEC3bvs2sNYIwA==\"},\"shape\":[2],\"dtype\":\"float64\",\"order\":\"little\"}],[447,{\"type\":\"ndarray\",\"array\":{\"type\":\"bytes\",\"data\":\"XPCqCMQeMEC8k7UzOoISwA==\"},\"shape\":[2],\"dtype\":\"float64\",\"order\":\"little\"}],[448,{\"type\":\"ndarray\",\"array\":{\"type\":\"bytes\",\"data\":\"/SW76Bn/MUAhi6Q149byPw==\"},\"shape\":[2],\"dtype\":\"float64\",\"order\":\"little\"}],[449,{\"type\":\"ndarray\",\"array\":{\"type\":\"bytes\",\"data\":\"TQ0kbJWPLEA1ZIeDsT0DQA==\"},\"shape\":[2],\"dtype\":\"float64\",\"order\":\"little\"}],[450,{\"type\":\"ndarray\",\"array\":{\"type\":\"bytes\",\"data\":\"d8qWVqOKL0CWWHZx9OoHwA==\"},\"shape\":[2],\"dtype\":\"float64\",\"order\":\"little\"}],[451,{\"type\":\"ndarray\",\"array\":{\"type\":\"bytes\",\"data\":\"w9AjOUveMUAtmZvRr84GwA==\"},\"shape\":[2],\"dtype\":\"float64\",\"order\":\"little\"}],[452,{\"type\":\"ndarray\",\"array\":{\"type\":\"bytes\",\"data\":\"60BC4wMzLkDZxGygEIgTwA==\"},\"shape\":[2],\"dtype\":\"float64\",\"order\":\"little\"}],[453,{\"type\":\"ndarray\",\"array\":{\"type\":\"bytes\",\"data\":\"P7TxbvJbMkBSFrKbTQT3vw==\"},\"shape\":[2],\"dtype\":\"float64\",\"order\":\"little\"}],[454,{\"type\":\"ndarray\",\"array\":{\"type\":\"bytes\",\"data\":\"sv6Sqdx5MECnryoqf+f3Pw==\"},\"shape\":[2],\"dtype\":\"float64\",\"order\":\"little\"}],[455,{\"type\":\"ndarray\",\"array\":{\"type\":\"bytes\",\"data\":\"WoXEf/aTL0COizUi7FcGQA==\"},\"shape\":[2],\"dtype\":\"float64\",\"order\":\"little\"}]]}}},\"node_renderer\":{\"type\":\"object\",\"name\":\"GlyphRenderer\",\"id\":\"p1171\",\"attributes\":{\"data_source\":{\"type\":\"object\",\"name\":\"ColumnDataSource\",\"id\":\"p1168\",\"attributes\":{\"selected\":{\"type\":\"object\",\"name\":\"Selection\",\"id\":\"p1169\",\"attributes\":{\"indices\":[],\"line_indices\":[]}},\"selection_policy\":{\"type\":\"object\",\"name\":\"UnionRenderers\",\"id\":\"p1170\"},\"data\":{\"type\":\"map\",\"entries\":[[\"adjusted_size\",[13.788898309344878,30.751006598945605,16.090354888959126,17.875503299472804,5.0,10.545177444479563,5.0,5.0,5.0,5.0,22.577796618689757,10.545177444479563,13.788898309344878,5.0,5.0,5.0,10.545177444479563,13.788898309344878,10.545177444479563,5.0,5.0,5.0,5.0,10.545177444479563,5.0,5.0,5.0,36.911872372514196,19.33407575382444,13.788898309344878,10.545177444479563,5.0,5.0,5.0,5.0,5.0,5.0,5.0,5.0,5.0,5.0,5.0,10.545177444479563,5.0,10.545177444479563,5.0,5.0,5.0,5.0,5.0,5.0,5.0,5.0,5.0,5.0,5.0,5.0,5.0,5.0,5.0,10.545177444479563,5.0,5.0,5.0,5.0,5.0,5.0,5.0,10.545177444479563,5.0,5.0,5.0,30.751006598945605,5.0,5.0,5.0,5.0,5.0,5.0,5.0,5.0,5.0,5.0,5.0,5.0,5.0,5.0,5.0,5.0,5.0,5.0,5.0,5.0,33.66815150764888,5.0,5.0,5.0,5.0,16.090354888959126,5.0,5.0,5.0,5.0,10.545177444479563,5.0,5.0,5.0,5.0,5.0,5.0,5.0,5.0,5.0,5.0,5.0,5.0,5.0,5.0,5.0,5.0,5.0,5.0,5.0,5.0,5.0,33.66815150764888,10.545177444479563,10.545177444479563,10.545177444479563,10.545177444479563,13.788898309344878,10.545177444479563,5.0,10.545177444479563,16.090354888959126,10.545177444479563,10.545177444479563,5.0,17.875503299472804,10.545177444479563,13.788898309344878,10.545177444479563,5.0,10.545177444479563,10.545177444479563,10.545177444479563,5.0,10.545177444479563,10.545177444479563,10.545177444479563,5.0,5.0,10.545177444479563,10.545177444479563,5.0,5.0,5.0,5.0,10.545177444479563,34.30849316903717,10.545177444479563,5.0,5.0,10.545177444479563,10.545177444479563,5.0,10.545177444479563,5.0,5.0,10.545177444479563,5.0,13.788898309344878,33.66815150764888,16.090354888959126,5.0,5.0,5.0,5.0,5.0,5.0,5.0,5.0,10.545177444479563,13.788898309344878,13.788898309344878,10.545177444479563,5.0,10.545177444479563,5.0,5.0,5.0,5.0,5.0,5.0,5.0,5.0,5.0,5.0,5.0,5.0,5.0,5.0,5.0,10.545177444479563,39.101439016330524,5.0,10.545177444479563,5.0,5.0,5.0,5.0,5.0,5.0,5.0,5.0,5.0,5.0,5.0,5.0,5.0,5.0,5.0,5.0,5.0,5.0,5.0,5.0,5.0,5.0,5.0,5.0,5.0,5.0,5.0,5.0,5.0,5.0,5.0,5.0,5.0,5.0,5.0,5.0,5.0,5.0,5.0,5.0,5.0,5.0,5.0,5.0,5.0,5.0,5.0,5.0,5.0,10.545177444479563,5.0,5.0,5.0,5.0,5.0,5.0,5.0,5.0,5.0,5.0,42.74799097036075,10.545177444479563,5.0,10.545177444479563,5.0,10.545177444479563,10.545177444479563,5.0,5.0,5.0,5.0,5.0,5.0,5.0,5.0,5.0,5.0,5.0,5.0,13.788898309344878,5.0,5.0,5.0,5.0,10.545177444479563,5.0,5.0,5.0,5.0,5.0,13.788898309344878,5.0,5.0,5.0,5.0,5.0,5.0,5.0,5.0,5.0,5.0,5.0,5.0,5.0,5.0,5.0,5.0,5.0,5.0,5.0,5.0,5.0,5.0,13.788898309344878,5.0,5.0,5.0,5.0,5.0,5.0,5.0,5.0,5.0,5.0,5.0,5.0,5.0,5.0,5.0,5.0,5.0,5.0,5.0,5.0,5.0,5.0,5.0,5.0,5.0,5.0,5.0,5.0,5.0,5.0,5.0,5.0,5.0,5.0,5.0,5.0,5.0,5.0,5.0,10.545177444479563,10.545177444479563,5.0,5.0,5.0,5.0,5.0,28.122974063169316,5.0,5.0,5.0,5.0,41.67973982936458,5.0,5.0,5.0,5.0,5.0,5.0,5.0,5.0,5.0,5.0,5.0,5.0,5.0,5.0,5.0,5.0,5.0,5.0,5.0,5.0,5.0,5.0,5.0,5.0,5.0,5.0,5.0,5.0,5.0,5.0,5.0,5.0,5.0,5.0,5.0,5.0,5.0,5.0,5.0,5.0,5.0,5.0,5.0,5.0,5.0,5.0,5.0,5.0,5.0,5.0,5.0,5.0,5.0,5.0,5.0,5.0,5.0,5.0,5.0,5.0,5.0,5.0,5.0,5.0,5.0,5.0,5.0,5.0,5.0,5.0,5.0,5.0,5.0,5.0,5.0,5.0,5.0,5.0,5.0,5.0,5.0,5.0,5.0]],[\"degree\",[3,25,4,5,1,2,1,1,1,1,9,2,3,1,1,1,2,3,2,1,1,1,1,2,1,1,1,54,6,3,2,1,1,1,1,1,1,1,1,1,1,1,2,1,2,1,1,1,1,1,1,1,1,1,1,1,1,1,1,1,2,1,1,1,1,1,1,1,2,1,1,1,25,1,1,1,1,1,1,1,1,1,1,1,1,1,1,1,1,1,1,1,1,36,1,1,1,1,4,1,1,1,1,2,1,1,1,1,1,1,1,1,1,1,1,1,1,1,1,1,1,1,1,1,1,36,2,2,2,2,3,2,1,2,4,2,2,1,5,2,3,2,1,2,2,2,1,2,2,2,1,1,2,2,1,1,1,1,2,39,2,1,1,2,2,1,2,1,1,2,1,3,36,4,1,1,1,1,1,1,1,1,2,3,3,2,1,2,1,1,1,1,1,1,1,1,1,1,1,1,1,1,1,2,71,1,2,1,1,1,1,1,1,1,1,1,1,1,1,1,1,1,1,1,1,1,1,1,1,1,1,1,1,1,1,1,1,1,1,1,1,1,1,1,1,1,1,1,1,1,1,1,1,1,1,1,2,1,1,1,1,1,1,1,1,1,1,112,2,1,2,1,2,2,1,1,1,1,1,1,1,1,1,1,1,1,3,1,1,1,1,2,1,1,1,1,1,3,1,1,1,1,1,1,1,1,1,1,1,1,1,1,1,1,1,1,1,1,1,1,3,1,1,1,1,1,1,1,1,1,1,1,1,1,1,1,1,1,1,1,1,1,1,1,1,1,1,1,1,1,1,1,1,1,1,1,1,1,1,1,2,2,1,1,1,1,1,18,1,1,1,1,98,1,1,1,1,1,1,1,1,1,1,1,1,1,1,1,1,1,1,1,1,1,1,1,1,1,1,1,1,1,1,1,1,1,1,1,1,1,1,1,1,1,1,1,1,1,1,1,1,1,1,1,1,1,1,1,1,1,1,1,1,1,1,1,1,1,1,1,1,1,1,1,1,1,1,1,1,1,1,1,1,1,1,1]],[\"name\",[\"Harvey Keitel\",\"Reservoir Dogs\",\"Tim Roth\",\"Michael Madsen\",\"Chris Penn\",\"Steve Buscemi\",\"Lawrence Tierney\",\"Randy Brooks\",\"Kirk Baltz\",\"Edward Bunker\",\"Quentin Tarantino\",\"Rich Turner\",\"David Steen\",\"Tony Cosmo\",\"Stevo Polyi\",\"Michael Sottile\",\"Robert Ruth\",\"Lawrence Bender\",\"Linda Kaye\",\"Suzanne Celeste\",\"Steven Wright\",\"Laurie Lathem\",\"Maria Strova\",\"Burr Steers\",\"Craig Hamann\",\"Rowland Wafford\",\"John Travolta\",\"Pulp Fiction\",\"Samuel L. Jackson\",\"Uma Thurman\",\"Bruce Willis\",\"Ving Rhames\",\"Eric Stoltz\",\"Amanda Plummer\",\"Maria de Medeiros\",\"Christopher Walken\",\"Rosanna Arquette\",\"Peter Greene\",\"Duane Whitaker\",\"Angela Jones\",\"Phil LaMarr\",\"Bronagh Gallagher\",\"Laura Lovelace\",\"Frank Whaley\",\"Paul Calderon\",\"Jerome Patrick Hoban\",\"Michael Gilden\",\"Gary Shorelle\",\"Susan Griffiths\",\"Eric Clark\",\"Joseph Pilato\",\"Brad Blumenthal\",\"Lorelei Leslie\",\"Emil Sitka\",\"Brenda Hillhouse\",\"Chandler Lindauer\",\"Sy Sher\",\"Don Blakely\",\"Carl Allen\",\"Karen Maruyama\",\"Kathy Griffin\",\"Venessia Valentino\",\"Stephen Hibbert\",\"Alexis Arquette\",\"Julia Sweeney\",\"Cie Allman\",\"Rene Beard\",\"Lori Pizzo\",\"Glendon Rich\",\"Devan Richardson\",\"Ani Sava\",\"Richard Rossi\",\"Four Rooms\",\"Jennifer Beals\",\"Antonio Banderas\",\"Valeria Golino\",\"David Proval\",\"Sammi Davis\",\"Amanda de Cadenet\",\"Madonna\",\"Ione Skye\",\"Lili Taylor\",\"Alicia Witt\",\"Tamlyn Tomita\",\"Lana McKissack\",\"Danny Verduzco\",\"Patricia Vonne\",\"Salma Hayek\",\"Marisa Tomei\",\"Kimberly Blair\",\"Marc Lawrence\",\"Paul Skemp\",\"Pam Grier\",\"Jackie Brown\",\"Robert De Niro\",\"Bridget Fonda\",\"Michael Keaton\",\"Robert Forster\",\"Michael Bowen\",\"Chris Tucker\",\"LisaGay Hamilton\",\"Tom 'Tiny' Lister Jr.\",\"Hattie Winston\",\"Sid Haig\",\"Aimee Graham\",\"Ellis E. Williams\",\"Tangie Ambrose\",\"T'Keyah Crystal Keym\\u00e1h\",\"Vanessia Valentino\",\"Diana Uribe\",\"Renee Kelly\",\"Elizabeth McInerney\",\"Colleen Mayne\",\"Christine Lydon\",\"Julia Ervin\",\"Juliet Long\",\"Michelle Berube\",\"Gillian White\",\"Candice Briese\",\"Gary Mann\",\"Jeffrey Deedrick\",\"Roy Nesvold\",\"Herbert Hans Wilmsen\",\"Mary Ann Schmidt\",\"Denise Crosby\",\"Kill Bill: Vol. 1\",\"Lucy Liu\",\"Vivica A. Fox\",\"Daryl Hannah\",\"David Carradine\",\"Julie Dreyfus\",\"Chiaki Kuriyama\",\"Shin'ichi Chiba\",\"Gordon Liu Chia-hui\",\"Michael Parks\",\"Jun Kunimura\",\"Kenji Ohba\",\"Yuki Kazamatsuri\",\"James Parks\",\"Sakichi Sat\\u014d\",\"Jonathan Loughran\",\"Yoshiyuki Morishita\",\"Tetsuro Shimaguchi\",\"Kazuki Kitamura\",\"Yoji Tanaka\",\"S\\u014d Yamanaka\",\"Juri Manase\",\"Akaji Maro\",\"Goro Daimon\",\"Shun Sugata\",\"Zhang Jinzhan\",\"Hu Xiaohui\",\"Ambrosia Kelley\",\"Sachiko Fujii\",\"Shu Lan Tuan\",\"Ai Maeda\",\"Naomi Kusumi\",\"Hikaru Midorikawa\",\"Issey Takahashi\",\"Kill Bill: Vol. 2\",\"Perla Haney-Jardine\",\"Larry Bishop\",\"Christopher Allen Nelson\",\"Helen Kim\",\"Laura Cayouette\",\"Claire Smithies\",\"Bo Svenson\",\"Clark Middleton\",\"Jeannie Epper\",\"Shana Stein\",\"Caitlin Keats\",\"Kurt Russell\",\"Death Proof\",\"Zo\\u00eb Bell\",\"Rosario Dawson\",\"Vanessa Ferlito\",\"Sydney Tamiia Poitier\",\"Tracie Thoms\",\"Rose McGowan\",\"Jordan Ladd\",\"Mary Elizabeth Winstead\",\"Marcy Harriell\",\"Eli Roth\",\"Omar Doom\",\"Michael Bacall\",\"Monica Staggs\",\"Marley Shelton\",\"Tina Rodriguez\",\"Nicky Katt\",\"Marta Mendoza\",\"Tim Murphy\",\"Melissa Arcaro\",\"Electra Avellan\",\"Elise Avellan\",\"Eurlyne Epper\",\"Jamie L. Dunno\",\"Chris King\",\"April March\",\"Julitta Pourciau\",\"Amanda Rivas\",\"Kelley Robins Hicks\",\"Gary Teague\",\"Tommy Nix\",\"Brad Pitt\",\"Inglourious Basterds\",\"M\\u00e9lanie Laurent\",\"Christoph Waltz\",\"Michael Fassbender\",\"Diane Kruger\",\"Daniel Br\\u00fchl\",\"Til Schweiger\",\"Gedeon Burkhard\",\"Jacky Ido\",\"B.J. Novak\",\"August Diehl\",\"Denis M\\u00e9nochet\",\"Sylvester Groth\",\"Martin Wuttke\",\"Mike Myers\",\"L\\u00e9a Seydoux\",\"Richard Sammel\",\"Alexander Fehling\",\"Rod Taylor\",\"Samm Levine\",\"Paul Rust\",\"Arndt Schwering-Sohnrey\",\"Petra Hartung\",\"Volker Michalowski\",\"Ken Duken\",\"Christian Berkel\",\"Lena Friedrich\",\"Ludger Pistor\",\"Jana Pallaske\",\"Wolfgang Lindner\",\"Michael Kranz\",\"Rainer Bock\",\"Andr\\u00e9 Penvern\",\"Sebastian H\\u00fclk\",\"Buddy Joe Hooker\",\"S\\u00f6nke M\\u00f6hring\",\"Carlos Fidel\",\"Hilmar Eichhorn\",\"Patrick Elias\",\"Eva L\\u00f6bau\",\"Salvadore Brandt\",\"Jasper Linnewedel\",\"Wilfried Hochholdinger\",\"Olivier Girard\",\"Michael Scheel\",\"Leo Plank\",\"Andreas Tietz\",\"Enzo G. Castellari\",\"Christian Br\\u00fcckner\",\"Bela B.\",\"Noemi Besedes\",\"H\\u00e9l\\u00e8ne Cardona\",\"Jake Garber\",\"Sabrina Rattey\",\"Alex Boden\",\"Guido F\\u00f6hrwei\\u00dfer\",\"Andrew Napier\",\"Gregory Nicotero\",\"Vitus Wieser\",\"Bea-Marie R\\u00fcck\",\"Daniela Schwerdt\",\"Anne-Sophie Franck\",\"Jamie Foxx\",\"Django Unchained\",\"Leonardo DiCaprio\",\"Kerry Washington\",\"Walton Goggins\",\"Dennis Christopher\",\"James Remar\",\"Dana Gourrier\",\"Nichole Galicia\",\"Ato Essandoh\",\"Sammi Rotibi\",\"Clay Donahue Fontenot\",\"Escalante Lundy\",\"Miriam F. Glover\",\"Don Johnson\",\"Franco Nero\",\"James Russo\",\"Tom Wopat\",\"Don Stroud\",\"Amber Tamblyn\",\"Bruce Dern\",\"M.C. Gainey\",\"Cooper Huckabee\",\"Doc Duhame\",\"Jonah Hill\",\"Lee Horsley\",\"Robert Carradine\",\"Ted Neeley\",\"Tom Savini\",\"John Jarratt\",\"Amari Cheatom\",\"Keith Jefferson\",\"Marcus Henderson\",\"Lil Chuuch\",\"Kinetic\",\"Louise Stratten\",\"Kim Robillard\",\"Shannon Hazlett\",\"Jack Lucarelli\",\"Victoria Thomas\",\"Grace Collins\",\"Sharon Pierre-Louis\",\"Christopher Berry\",\"Kim Collins\",\"Dane Rhodes\",\"J.D. Evermore\",\"Rex Linn\",\"Ronan Hice\",\"Ned Bellamy\",\"Dave Coennen\",\"Dani\\u00e8le Watts\",\"Jon Eyez\",\"Omar J. Dorsey\",\"Evan Parke\",\"Craig Stark\",\"Brian Brown\",\"Ritchie Montgomery\",\"Nicholas Dashnaw\",\"Jarrod Bunch\",\"Edrick Browne\",\"Kerry Sims\",\"Jamal Duff\",\"Todd Allen\",\"Lewis Smith\",\"Keniaryn Mitchell\",\"Jakel Marshall\",\"Carl Singleton\",\"Ashley Toman\",\"John McConnell\",\"Mark Amos\",\"Monica Rene'e Anderson\",\"Marsha Stephanie Blake\",\"Catherine Lambert\",\"Deborah Ayorinde\",\"Takara Clark\",\"Kimberley Drummond\",\"Tenaj L. Jackson\",\"Carl Bailey\",\"Ross P. Cook\",\"Gregory Allen Gabroy\",\"Seth Bailey\",\"David G. Baker\",\"Richie J. Ladner\",\"Glen Warner\",\"Kesha Bullard\",\"Edward J. Clare\",\"Jordon Michael Corbin\",\"Mike DeMille\",\"Gary Grubbs\",\"Justin Hall\",\"Sandra Linz\",\"Kasey James\",\"Skipper Landry\",\"Cindy Mah\",\"Johnny Otto\",\"Belinda Owino\",\"Mark Ulano\",\"Misty Upham\",\"Russ Tamblyn\",\"Fatimah Taliah\",\"Santana Draper\",\"The Hateful Eight\",\"Jennifer Jason Leigh\",\"Demi\\u00e1n Bichir\",\"Gene Jones\",\"Channing Tatum\",\"Once Upon a Time\\u2026 in Hollywood\",\"Margot Robbie\",\"Emile Hirsch\",\"Margaret Qualley\",\"Timothy Olyphant\",\"Julia Butters\",\"Austin Butler\",\"Dakota Fanning\",\"Mike Moh\",\"Luke Perry\",\"Damian Lewis\",\"Al Pacino\",\"Nicholas Hammond\",\"Samantha Robinson\",\"Rafa\\u0142 Zawierucha\",\"Lorenza Izzo\",\"Costa Ronin\",\"Damon Herriman\",\"Lena Dunham\",\"Madisen Beaty\",\"Mikey Madison\",\"James Landry H\\u00e9bert\",\"Maya Hawke\",\"Victoria Pedretti\",\"Sydney Sweeney\",\"Harley Quinn Smith\",\"Dallas Jay Hunter\",\"Kansas Bowling\",\"Parker Love Bowling\",\"Cassidy Vick Hice\",\"Ruby Rose Skotchdopole\",\"Danielle Harris\",\"Josephine Valentina Clark\",\"Scoot McNairy\",\"Clifton Collins Jr.\",\"Marco Rodr\\u00edguez\",\"Ram\\u00f3n Franco\",\"Ra\\u00fal Cardona\",\"Courtney Hoffman\",\"Dreama Walker\",\"Rachel Redleaf\",\"Rebecca Rittenhouse\",\"Rumer Willis\",\"Spencer Garrett\",\"Clu Gulager\",\"Martin Kove\",\"Rebecca Gayheart\",\"Kate Berlant\",\"Victoria Truscott\",\"Allison Yaple\",\"Bruce Del Castillo\",\"Brenda Vaccaro\",\"Lew Temple\",\"Daniella Pick\",\"Mark Warrack\",\"Gabriela Flores\",\"Heba Thorisdottir\",\"Breanna Wing\",\"Kenneth Sonny Donato\",\"Sergio Gonzalez\",\"Casey O'Neill\",\"Michael Graham\",\"Emile Williams\",\"Vincent Laresca\",\"JLouis Mills\",\"Gilbert Saldivar\",\"Maurice Compte\",\"Eddie Perez\",\"Hugh McCallum\",\"Zander Grable\",\"Ed Regine\",\"Michael Bissett\",\"Lenny Langley Jr.\",\"Gillian M. Berrow\",\"Chad Ridgely\",\"Chic Daniel\",\"Corey Burton\",\"Michaela Sprague\",\"Ryan Ramirez\",\"Kayla Jenee Radomski\",\"Kerry Westcott\",\"William DeAtley\",\"Brianna Joy Chomer\",\"Gina Aponte\"]],[\"color\",[\"#EE8866\",\"#77AADD\",\"#EE8866\",\"#EE8866\",\"#EE8866\",\"#EE8866\",\"#EE8866\",\"#EE8866\",\"#EE8866\",\"#EE8866\",\"#EE8866\",\"#EE8866\",\"#EE8866\",\"#EE8866\",\"#EE8866\",\"#EE8866\",\"#EE8866\",\"#EE8866\",\"#EE8866\",\"#EE8866\",\"#EE8866\",\"#EE8866\",\"#EE8866\",\"#EE8866\",\"#EE8866\",\"#EE8866\",\"#EE8866\",\"#77AADD\",\"#EE8866\",\"#EE8866\",\"#EE8866\",\"#EE8866\",\"#EE8866\",\"#EE8866\",\"#EE8866\",\"#EE8866\",\"#EE8866\",\"#EE8866\",\"#EE8866\",\"#EE8866\",\"#EE8866\",\"#EE8866\",\"#EE8866\",\"#EE8866\",\"#EE8866\",\"#EE8866\",\"#EE8866\",\"#EE8866\",\"#EE8866\",\"#EE8866\",\"#EE8866\",\"#EE8866\",\"#EE8866\",\"#EE8866\",\"#EE8866\",\"#EE8866\",\"#EE8866\",\"#EE8866\",\"#EE8866\",\"#EE8866\",\"#EE8866\",\"#EE8866\",\"#EE8866\",\"#EE8866\",\"#EE8866\",\"#EE8866\",\"#EE8866\",\"#EE8866\",\"#EE8866\",\"#EE8866\",\"#EE8866\",\"#EE8866\",\"#77AADD\",\"#EE8866\",\"#EE8866\",\"#EE8866\",\"#EE8866\",\"#EE8866\",\"#EE8866\",\"#EE8866\",\"#EE8866\",\"#EE8866\",\"#EE8866\",\"#EE8866\",\"#EE8866\",\"#EE8866\",\"#EE8866\",\"#EE8866\",\"#EE8866\",\"#EE8866\",\"#EE8866\",\"#EE8866\",\"#EE8866\",\"#77AADD\",\"#EE8866\",\"#EE8866\",\"#EE8866\",\"#EE8866\",\"#EE8866\",\"#EE8866\",\"#EE8866\",\"#EE8866\",\"#EE8866\",\"#EE8866\",\"#EE8866\",\"#EE8866\",\"#EE8866\",\"#EE8866\",\"#EE8866\",\"#EE8866\",\"#EE8866\",\"#EE8866\",\"#EE8866\",\"#EE8866\",\"#EE8866\",\"#EE8866\",\"#EE8866\",\"#EE8866\",\"#EE8866\",\"#EE8866\",\"#EE8866\",\"#EE8866\",\"#EE8866\",\"#EE8866\",\"#EE8866\",\"#77AADD\",\"#EE8866\",\"#EE8866\",\"#EE8866\",\"#EE8866\",\"#EE8866\",\"#EE8866\",\"#EE8866\",\"#EE8866\",\"#EE8866\",\"#EE8866\",\"#EE8866\",\"#EE8866\",\"#EE8866\",\"#EE8866\",\"#EE8866\",\"#EE8866\",\"#EE8866\",\"#EE8866\",\"#EE8866\",\"#EE8866\",\"#EE8866\",\"#EE8866\",\"#EE8866\",\"#EE8866\",\"#EE8866\",\"#EE8866\",\"#EE8866\",\"#EE8866\",\"#EE8866\",\"#EE8866\",\"#EE8866\",\"#EE8866\",\"#EE8866\",\"#77AADD\",\"#EE8866\",\"#EE8866\",\"#EE8866\",\"#EE8866\",\"#EE8866\",\"#EE8866\",\"#EE8866\",\"#EE8866\",\"#EE8866\",\"#EE8866\",\"#EE8866\",\"#EE8866\",\"#77AADD\",\"#EE8866\",\"#EE8866\",\"#EE8866\",\"#EE8866\",\"#EE8866\",\"#EE8866\",\"#EE8866\",\"#EE8866\",\"#EE8866\",\"#EE8866\",\"#EE8866\",\"#EE8866\",\"#EE8866\",\"#EE8866\",\"#EE8866\",\"#EE8866\",\"#EE8866\",\"#EE8866\",\"#EE8866\",\"#EE8866\",\"#EE8866\",\"#EE8866\",\"#EE8866\",\"#EE8866\",\"#EE8866\",\"#EE8866\",\"#EE8866\",\"#EE8866\",\"#EE8866\",\"#EE8866\",\"#EE8866\",\"#77AADD\",\"#EE8866\",\"#EE8866\",\"#EE8866\",\"#EE8866\",\"#EE8866\",\"#EE8866\",\"#EE8866\",\"#EE8866\",\"#EE8866\",\"#EE8866\",\"#EE8866\",\"#EE8866\",\"#EE8866\",\"#EE8866\",\"#EE8866\",\"#EE8866\",\"#EE8866\",\"#EE8866\",\"#EE8866\",\"#EE8866\",\"#EE8866\",\"#EE8866\",\"#EE8866\",\"#EE8866\",\"#EE8866\",\"#EE8866\",\"#EE8866\",\"#EE8866\",\"#EE8866\",\"#EE8866\",\"#EE8866\",\"#EE8866\",\"#EE8866\",\"#EE8866\",\"#EE8866\",\"#EE8866\",\"#EE8866\",\"#EE8866\",\"#EE8866\",\"#EE8866\",\"#EE8866\",\"#EE8866\",\"#EE8866\",\"#EE8866\",\"#EE8866\",\"#EE8866\",\"#EE8866\",\"#EE8866\",\"#EE8866\",\"#EE8866\",\"#EE8866\",\"#EE8866\",\"#EE8866\",\"#EE8866\",\"#EE8866\",\"#EE8866\",\"#EE8866\",\"#EE8866\",\"#EE8866\",\"#EE8866\",\"#EE8866\",\"#EE8866\",\"#77AADD\",\"#EE8866\",\"#EE8866\",\"#EE8866\",\"#EE8866\",\"#EE8866\",\"#EE8866\",\"#EE8866\",\"#EE8866\",\"#EE8866\",\"#EE8866\",\"#EE8866\",\"#EE8866\",\"#EE8866\",\"#EE8866\",\"#EE8866\",\"#EE8866\",\"#EE8866\",\"#EE8866\",\"#EE8866\",\"#EE8866\",\"#EE8866\",\"#EE8866\",\"#EE8866\",\"#EE8866\",\"#EE8866\",\"#EE8866\",\"#EE8866\",\"#EE8866\",\"#EE8866\",\"#EE8866\",\"#EE8866\",\"#EE8866\",\"#EE8866\",\"#EE8866\",\"#EE8866\",\"#EE8866\",\"#EE8866\",\"#EE8866\",\"#EE8866\",\"#EE8866\",\"#EE8866\",\"#EE8866\",\"#EE8866\",\"#EE8866\",\"#EE8866\",\"#EE8866\",\"#EE8866\",\"#EE8866\",\"#EE8866\",\"#EE8866\",\"#EE8866\",\"#EE8866\",\"#EE8866\",\"#EE8866\",\"#EE8866\",\"#EE8866\",\"#EE8866\",\"#EE8866\",\"#EE8866\",\"#EE8866\",\"#EE8866\",\"#EE8866\",\"#EE8866\",\"#EE8866\",\"#EE8866\",\"#EE8866\",\"#EE8866\",\"#EE8866\",\"#EE8866\",\"#EE8866\",\"#EE8866\",\"#EE8866\",\"#EE8866\",\"#EE8866\",\"#EE8866\",\"#EE8866\",\"#EE8866\",\"#EE8866\",\"#EE8866\",\"#EE8866\",\"#EE8866\",\"#EE8866\",\"#EE8866\",\"#EE8866\",\"#EE8866\",\"#EE8866\",\"#EE8866\",\"#EE8866\",\"#EE8866\",\"#EE8866\",\"#EE8866\",\"#EE8866\",\"#EE8866\",\"#EE8866\",\"#EE8866\",\"#EE8866\",\"#EE8866\",\"#EE8866\",\"#EE8866\",\"#77AADD\",\"#EE8866\",\"#EE8866\",\"#EE8866\",\"#EE8866\",\"#77AADD\",\"#EE8866\",\"#EE8866\",\"#EE8866\",\"#EE8866\",\"#EE8866\",\"#EE8866\",\"#EE8866\",\"#EE8866\",\"#EE8866\",\"#EE8866\",\"#EE8866\",\"#EE8866\",\"#EE8866\",\"#EE8866\",\"#EE8866\",\"#EE8866\",\"#EE8866\",\"#EE8866\",\"#EE8866\",\"#EE8866\",\"#EE8866\",\"#EE8866\",\"#EE8866\",\"#EE8866\",\"#EE8866\",\"#EE8866\",\"#EE8866\",\"#EE8866\",\"#EE8866\",\"#EE8866\",\"#EE8866\",\"#EE8866\",\"#EE8866\",\"#EE8866\",\"#EE8866\",\"#EE8866\",\"#EE8866\",\"#EE8866\",\"#EE8866\",\"#EE8866\",\"#EE8866\",\"#EE8866\",\"#EE8866\",\"#EE8866\",\"#EE8866\",\"#EE8866\",\"#EE8866\",\"#EE8866\",\"#EE8866\",\"#EE8866\",\"#EE8866\",\"#EE8866\",\"#EE8866\",\"#EE8866\",\"#EE8866\",\"#EE8866\",\"#EE8866\",\"#EE8866\",\"#EE8866\",\"#EE8866\",\"#EE8866\",\"#EE8866\",\"#EE8866\",\"#EE8866\",\"#EE8866\",\"#EE8866\",\"#EE8866\",\"#EE8866\",\"#EE8866\",\"#EE8866\",\"#EE8866\",\"#EE8866\",\"#EE8866\",\"#EE8866\",\"#EE8866\",\"#EE8866\",\"#EE8866\",\"#EE8866\",\"#EE8866\",\"#EE8866\",\"#EE8866\",\"#EE8866\",\"#EE8866\"]],[\"index\",[0,1,2,3,4,5,6,7,8,9,10,11,12,13,14,15,16,17,18,19,20,21,22,23,24,25,26,27,28,29,30,31,32,33,34,35,36,37,38,39,40,41,42,43,44,45,46,47,48,49,50,51,52,53,54,55,56,57,58,59,60,61,62,63,64,65,66,67,68,69,70,71,72,73,74,75,76,77,78,79,80,81,82,83,84,85,86,87,88,89,90,91,92,93,94,95,96,97,98,99,100,101,102,103,104,105,106,107,108,109,110,111,112,113,114,115,116,117,118,119,120,121,122,123,124,125,126,127,128,129,130,131,132,133,134,135,136,137,138,139,140,141,142,143,144,145,146,147,148,149,150,151,152,153,154,155,156,157,158,159,160,161,162,163,164,165,166,167,168,169,170,171,172,173,174,175,176,177,178,179,180,181,182,183,184,185,186,187,188,189,190,191,192,193,194,195,196,197,198,199,200,201,202,203,204,205,206,207,208,209,210,211,212,213,214,215,216,217,218,219,220,221,222,223,224,225,226,227,228,229,230,231,232,233,234,235,236,237,238,239,240,241,242,243,244,245,246,247,248,249,250,251,252,253,254,255,256,257,258,259,260,261,262,263,264,265,266,267,268,269,270,271,272,273,274,275,276,277,278,279,280,281,282,283,284,285,286,287,288,289,290,291,292,293,294,295,296,297,298,299,300,301,302,303,304,305,306,307,308,309,310,311,312,313,314,315,316,317,318,319,320,321,322,323,324,325,326,327,328,329,330,331,332,333,334,335,336,337,338,339,340,341,342,343,344,345,346,347,348,349,350,351,352,353,354,355,356,357,358,359,360,361,362,363,364,365,366,367,368,369,370,371,372,373,374,375,376,377,378,379,380,381,382,383,384,385,386,387,388,389,390,391,392,393,394,395,396,397,398,399,400,401,402,403,404,405,406,407,408,409,410,411,412,413,414,415,416,417,418,419,420,421,422,423,424,425,426,427,428,429,430,431,432,433,434,435,436,437,438,439,440,441,442,443,444,445,446,447,448,449,450,451,452,453,454,455]]]}}},\"view\":{\"type\":\"object\",\"name\":\"CDSView\",\"id\":\"p1172\",\"attributes\":{\"filter\":{\"type\":\"object\",\"name\":\"AllIndices\",\"id\":\"p1173\"}}},\"glyph\":{\"type\":\"object\",\"name\":\"Circle\",\"id\":\"p1198\",\"attributes\":{\"size\":{\"type\":\"field\",\"field\":\"adjusted_size\"},\"fill_color\":{\"type\":\"field\",\"field\":\"color\"}}}}},\"edge_renderer\":{\"type\":\"object\",\"name\":\"GlyphRenderer\",\"id\":\"p1180\",\"attributes\":{\"data_source\":{\"type\":\"object\",\"name\":\"ColumnDataSource\",\"id\":\"p1177\",\"attributes\":{\"selected\":{\"type\":\"object\",\"name\":\"Selection\",\"id\":\"p1178\",\"attributes\":{\"indices\":[],\"line_indices\":[]}},\"selection_policy\":{\"type\":\"object\",\"name\":\"UnionRenderers\",\"id\":\"p1179\"},\"data\":{\"type\":\"map\",\"entries\":[[\"character\",[\"Mr. White / Larry Dimmick\",\"Winston \\\"The Wolf\\\" Wolfe\",\"OSS Commander Who Agrees to Deal (voice) (uncredited)\",\"Mr. Orange / Freddy Newandyke\",\"Mr. Blonde / Vic Vega\",\"\\\"Nice Guy\\\" Eddie Cabot\",\"Mr. Pink\",\"Joe Cabot\",\"Detective Holdaway\",\"Officer Marvin Nash\",\"Mr. Blue\",\"Mr. Brown\",\"Sheriff #1\",\"Sheriff #2\",\"Sheriff #3\",\"Sheriff #4\",\"Teddy\",\"Shot Cop\",\"Young Cop\",\"Shocked Woman\",\"Shot Woman\",\"K-Billy DJ (voice)\",\"Background Radio Play (voice)\",\"Background Radio Play (voice)\",\"Background Radio Play (voice)\",\"Background Radio Play (voice)\",\"Diner Patron (uncredited)\",\"Ringo (\\\"Pumpkin\\\")\",\"Ted the Bellhop\",\"Oswaldo Mobray\",\"Budd\",\"Budd\",\"Joe Gage\",\"'Bounty Law' - Sheriff Hackett\",\"Buddy Holly\",\"Jimmie Dimmick\",\"Chester Rush\",\"Answering Machine (voice) (uncredited)\",\"Warren\",\"First Scalped Nazi / American Soldier in 'Pride of Nation' (uncredited)\",\"The LeQuint Dickey Mining Co. Employee\",\"Narrator (voice) (uncredited)\",\"Red Apple Ad Director (voice) (uncredited)\",\"Sportscaster #2\",\"Mr. Stonesipher\",\"'Straight Satan' David\",\"Sportscaster #1 - Coffee Shop\",\"Long Hair Yuppy Scum\",\"Long Hair Yuppy Scum\",\"Shot Woman\",\"Roger\",\"Vincent Vega\",\"Jules Winnfield\",\"Mia Wallace\",\"Butch Coolidge\",\"Marsellus Wallace\",\"Lance\",\"Yolanda (\\\"Honey Bunny\\\")\",\"Fabienne\",\"Captain Koons\",\"Jody\",\"Zed\",\"Maynard\",\"Esmarelda Villalobos\",\"Marvin\",\"Trudi\",\"Waitress\",\"Brett\",\"Paul\",\"Ed Sullivan\",\"Page for Phillip Morris\",\"Ricky Nelson\",\"Marilyn Monroe\",\"James Dean\",\"Dean Martin\",\"Jerry Lewis\",\"Mamie van Doren\",\"Hold Hands You Lovebirds (archive footage)\",\"Mrs. Coolidge - Butch's Mother\",\"Young Butch\",\"Klondike\",\"Wilson's Trainer\",\"Dead Floyd Wilson\",\"Gawker #1\",\"Hit-and-run Witness\",\"Pedestrian / Bonnie Dimmick\",\"The Gimp\",\"Man No. 4\",\"Raquel\",\"Winston Wolfe's Girlfriend at Party (uncredited)\",\"Bar Tender (uncredited)\",\"Lucky Lady (uncredited)\",\"Drug Dealer (uncredited)\",\"Hopalong Cassidy (uncredited)\",\"Woman in Bathroom (uncredited)\",\"Diner Patron #2 (uncredited)\",\"Ordell Robbie\",\"Rufus\",\"Narrator (voice) (uncredited)\",\"Stephen\",\"Major Marquis Warren\",\"Beatrix \\\"The Bride\\\" Kiddo\",\"Beatrix \\\"The Bride\\\" Kiddo\",\"Leo (uncredited)\",\"Steakhouse Waitress\",\"Norman\",\"Betty\",\"Restaurant Regular (uncredited)\",\"Angela\",\"Man\",\"Athena\",\"Siegfried\",\"Jezebel\",\"Diana\",\"Elspeth\",\"Eva\",\"Raven\",\"Kiva\",\"Wife\",\"Sarah\",\"Juancho\",\"Corpse\",\"TV Dancing Girl\",\"Margaret\",\"Hooker\",\"Sam the Bellhop\",\"Real Theodore\",\"Jackie Brown\",\"Louis Gara\",\"Melanie Ralston\",\"Ray Nicolette\",\"Max Cherry\",\"Mark Dargus\",\"Beaumont Livingston\",\"Sheronda\",\"Winston\",\"Simone\",\"Judge\",\"Amy \\u2013 Billingsley Sales Girl\",\"Cockatoo Bartender\",\"Billingsley Sales Girl #2\",\"Raynelle \\u2013 Ordell's Junkie Friend\",\"Cabo Flight Attendant\",\"Anita Lopez\",\"Cocktail Waitress\",\"Bartender at Sam's\",\"Girl at Security Gate\",\"Tec-9 Sidney \\u2013 Chicks Who Love Guns\",\"Steyr AUG Cindy \\u2013 Chicks Who Love Guns\",\"AK-47 Gloria \\u2013 Chicks Who Love Guns\",\"Baretta 12S Brittany \\u2013 Chicks Who Love Guns\",\"Mossberg 500 Tammy Jo \\u2013 Chicks Who Love Guns\",\"The Deputy\",\"The Deputy\",\"The Sheriff\",\"The Sheriff\",\"The Sheriff\",\"Flight Attendant (uncredited)\",\"Public Defender (uncredited)\",\"Buck\",\"Buck\",\"Tracker\",\"Bartender\",\"O-Ren Ishii\",\"Vernita Green\",\"Elle Driver\",\"Bill\",\"Sofie Fatale\",\"Gogo Yubari\",\"Hattori Hanzo\",\"Johnny Mo\",\"Earl McGraw\",\"Tanaka\",\"Bald Guy (Sushi Shop)\",\"Proprietor\",\"Edgar McGraw\",\"Charlie Brown\",\"Trucker\",\"Tokyo Business Man\",\"Crazy 88 #1 (Miki)\",\"Crazy 88\",\"Crazy 88\",\"Crazy 88\",\"Crazy 88 #6 (Girl)\",\"Boss Ozawah\",\"Boss Honda\",\"Boss Benta\",\"Boss Orgami\",\"Young 88 (Spanked Boy)\",\"Nikki Bell\",\"The 5, 6, 7, 8's\",\"Okinawa Airline Ticket Agent\",\"O-Ren (anime sequence) (voice)\",\"Boss Matsumoto (anime sequence) (voice)\",\"Pretty Riki (anime sequence) (voice)\",\"Crazy 88\",\"O-Ren Ishii\",\"Vernita Green\",\"Elle Driver\",\"Bill\",\"Sofie Fatale\",\"Francesca Mondino\",\"Gogo\",\"Pai Mei\",\"Esteban Vihaio\",\"Earl McGraw\",\"The LeQuint Dickey Mining Co. Employee\",\"Boss Tanaka\",\"Bald Guy\",\"Edgar McGraw\",\"Edgar McGraw\",\"Tracker\",\"O. B. Jackson\",\"Charlie Brown\",\"Trucker\",\"Jasper\",\"Tokyo Businessman\",\"Boss Koji / Crazy 88\",\"Crazy 88\",\"Crazy 88\",\"Boss Ozawah\",\"Boss Honda\",\"Boss Benta\",\"Nikki\",\"The 5, 6, 7, 8's\",\"Crazy 88\",\"B.B. Kiddo\",\"Larry Gomez\",\"Tommy Plympton\",\"Karen Kim\",\"Rocket\",\"Clarita\",\"Reverend Harmony\",\"Ernie\",\"Mrs. Harmony\",\"Erica\",\"Janeen\",\"Hippie Selling Acid Cigarettes\",\"Peg\",\"Lara Lee Candie-Fitzwilly\",\"American Colonel\",\"Daughtrey Bitty\",\"Stuntman Mike McKay\",\"John 'The Hangman' Ruth\",\"Randy / Narrator\",\"Zo\\u00eb Bell\",\"Abernathy Ross\",\"Arlene \\\"Butterfly\\\"\",\"Jungle Julia Lucai\",\"Kim Mathis\",\"Pam\",\"Shanna\",\"Lee Montgomery\",\"Marcy\",\"Dov\",\"Nate\",\"Omar\",\"Lanna Frank\",\"Dr. Dakota Block\",\"Juana\",\"Counter Guy\",\"Punky Bruiser\",\"Tim the Bartender\",\"Venus Envy\",\"Babysitter Twin #1\",\"Babysitter Twin #2\",\"Lanna Frank Friend #1\",\"Lanna Frank Friend #2\",\"Extra (uncredited)\",\"April March (voice) (uncredited)\",\"Female Business Class Passenger (uncredited)\",\"Nurse (uncredited)\",\"Laquanda (uncredited)\",\"Businessman (uncredited)\",\"Bar Patron (uncredited)\",\"Tracker\",\"'Six-Horse' Judy\",\"Janet\",\"Staff Sergeant Donny \\\"The Bear Jew\\\" Donowitz\",\"Private First Class Omar Ulmer\",\"Donnie\",\"Private First Class Michael Zimmerman\",\"Smitty Bacall\",\"Connie\",\"Julie LaPadite\",\"First Lieutenant Aldo \\\"The Apache\\\" Raine\",\"Cliff Booth\",\"Shosanna Dreyfus / Emmanuelle Mimieux\",\"SS Colonel Hans \\\"The Jew Hunter\\\" Landa\",\"Lieutenant Archie Hicox\",\"Bridget von Hammersmark\",\"Private First Class Fredrick Zoller\",\"Sergeant Hugo Stiglitz\",\"Corporal Wilhelm Wicki\",\"Marcel\",\"Private First Class Smithson \\\"The Little Man\\\" Utivich\",\"Major Dieter Hellstrom\",\"Perrier LaPadite\",\"Joseph Goebbels\",\"Adolf Hitler\",\"General Ed Fenech\",\"Charlotte LaPadite\",\"Sergeant Werner Rachtman\",\"Staff Sergeant Wilhelm / Pola Negri\",\"Winston Churchill\",\"Private First Class Hirschberg\",\"Private First Class Andy Kagan\",\"German Soldier / Winnetou\",\"German Female Soldier / Beethoven\",\"German Soldier / Edgar Wallace\",\"German Soldier / Mata Hari\",\"Proprietor Eric\",\"Suzanne LaPadite\",\"CPT. Wolfgang\",\"Babette\",\"Herrman #1\",\"Herrman #3\",\"General Schonherr\",\"Old French Veterinarian\",\"Hellstrom's Driver / Nazi Usher #1\",\"Gaspar\",\"Private Butz / Walter Frazer\",\"PFC. Simon Sakowitz\",\"Emil Jannings\",\"Jakob Dreyfus\",\"Miriam Dreyfus\",\"Bob Dreyfus\",\"Amos Dreyfus\",\"German Company SGT.\",\"Maxim's Waiter\",\"General Frank\",\"Motorcycle Rider #1\",\"Motorcycle Rider #2\",\"Himself\",\"Kliest Voice (voice)\",\"Usher #2 (uncredited)\",\"German Movie Star (uncredited)\",\"German Official (voice) (uncredited)\",\"German Soldier (uncredited)\",\"German Civilian (uncredited)\",\"Military Attach\\u00e9 (uncredited)\",\"SS Major (uncredited)\",\"Nazi Theatre Attendee (uncredited)\",\"Gestapo Major (uncredited)\",\"French Waiter (uncredited)\",\"German Female Soldier (uncredited)\",\"Cinema Guest (uncredited)\",\"Mathilda\",\"Dr. King Schultz\",\"Tracker\",\"Django Freeman\",\"Calvin J. Candie\",\"Broomhilda von Shaft\",\"Billy Crash\",\"Leonide Moguy\",\"Butch Pooch / Ace Speck\",\"Cora\",\"Sheba\",\"D'Artagnan\",\"Rodney\",\"Big Fred's Opponent\",\"Big Fred\",\"Betina\",\"Spencer \\\"Big Daddy\\\" Bennett\",\"Amerigo Vessepi\",\"Dicky Speck\",\"U.S. Marshall Gill Tatum\",\"Sheriff Bill Sharp\",\"Daughter of a Son of a Gunfighter\",\"Old Man Carrucan\",\"Big John Brittle\",\"Lil Raj Brittle\",\"Ellis Brittle\",\"Bag Head #2\",\"Sheriff Gus (Snowy Snow)\",\"Tracker\",\"Tracker\",\"Tracker\",\"The Le Quint Dickey Mining Co. Employee\",\"Roy\",\"Pudgy Ralph\",\"Big Sid\",\"Slave on Chain Gang\",\"Franklin\",\"Daughtrey Saloon Girl\",\"Saloon Keeper Pete\",\"Daughtrey Saloon Girl\",\"Daughtrey Rifleman\",\"Daughtrey Woman\",\"Grace Bennett\",\"Little Jody\",\"Willard\",\"Randy\",\"Tennessee Redfish\",\"O.D.\",\"Tennessee Harry\",\"\",\"Wilson\",\"Mr. Eigglesworth\",\"Coco\",\"\",\"Chicken Charlie\",\"Baghead\",\"Tommy Gilles\",\"Hoot Peters\",\"Overseer Johnny Jerome\",\"Baghead\",\"Banjo\",\"Joshua\",\"\",\"Tatum\",\"Dollar Bill\",\"Jinglebells Cody\",\"\",\"House Servant\",\"Carl / House Servant\",\"\",\"\",\"Beard Man (uncredited)\",\"House Servant (uncredited)\",\"House Slave (uncredited)\",\"House Slave (uncredited)\",\"Cleopatra Pony (uncredited)\",\"Pony (uncredited)\",\"Pony (uncredited)\",\"Pony (uncredited)\",\"Mandingo Overseer (uncredited)\",\"Overseer (uncredited)\",\"Overseer (uncredited)\",\"Daughtrey Rifleman (uncredited)\",\"Slave Master (uncredited)\",\"Slave Master (uncredited)\",\"Slave Overseer (uncredited)\",\"Crazy Sadie (uncredited)\",\"Plantation Owner (uncredited)\",\"Samson (uncredited)\",\"Cowboy (uncredited)\",\"Bob Gibbs (uncredited)\",\"Goat Farmer (uncredited)\",\"Town Woman (uncredited)\",\"Mule Wrangler (uncredited)\",\"Cleo Master (uncredited)\",\"Chinese Boy (uncredited)\",\"Dr. Brown (uncredited)\",\"Candyland House Servant (uncredited)\",\"Gabby the Banker (uncredited)\",\"Minnie (uncredited)\",\"Son of a Gunfighter\",\"Slave (uncredited)\",\"Bennet Plantation Slave Water Boy (uncredited)\",\"Rick Dalton\",\"Sheriff Chris Mannix\",\"'Bounty Law' - 'Ugly Owl'\",\"Minnie\",\"General Sandy Smithers\",\"George Spahn\",\"Ed\",\"Charly\",\"Land Pirate Keith\",\"Chester Charles Smithers\",\"Land Pirate Craig\",\"Police Officer (uncredited)\",\"Gemma\",\"Daisy Domergue\",\"Bob\",\"Sweet Dave\",\"Jody\",\"Sharon Tate\",\"Jay Sebring\",\"'Pussycat'\",\"Jim Stacy\",\"Trudi Fraser\",\"'Tex'\",\"'Squeaky'\",\"Bruce Lee\",\"Wayne Maunder\",\"Steve McQueen\",\"Marvin Schwarz\",\"Sam Wanamaker\",\"Abigail Folger\",\"Roman Polanski\",\"Francesca Capucci\",\"Voytek Frykowski\",\"Charlie\",\"'Gypsy'\",\"'Katie'\",\"'Sadie'\",\"'Clem'\",\"'Flowerchild'\",\"'Lulu'\",\"'Snake'\",\"'Froggie'\",\"'Deliah'\",\"'Blue'\",\"'Tadpole'\",\"'Sundance'\",\"'Butterfly'\",\"'Angel'\",\"'Happy Cappy'\",\"'Lancer' - 'Business Bob' Gilbert\",\"'Lancer' - Ernesto the Mexican Vaquero\",\"'Lancer' - Bartender Pepe\",\"Movie Theater Manager\",\"'Lancer' - 'Bad Guy' Delgado\",\"Rebekka\",\"Connie Stevens\",\"Mama Cass\",\"Michelle Phillips\",\"Joanna Pettet\",\"Allen Kincade\",\"Book Store Man\",\"'Bounty Law' - Sheriff\",\"Billie Booth\",\"Bruin Box Office Girl\",\"Musso & Frank Hostess (Gina)\",\"'Lancer' - Script Girl\",\"Back Lot Crew Member\",\"Mary Alice Schwarz\",\"Land Pirate Lew\",\"Daphna Ben-Cobo\",\"Curt\",\"Maralu the Fiddle Player\",\"Make-Up Artist Sonya\",\"Young Girl Hippy Hitchhiker\",\"Musso & Frank Bartender\",\"Musso & Frank Waiter\",\"Nazi Soldier / McCluskey Burn Nazi #1\",\"Policeman\",\"Paramedic\",\"Land Pirate Vincent\",\"Land Pirate J\",\"Land Pirate Gil\",\"Land Pirate Maurice\",\"Land Pirate Eddie\",\"'Lancer' - Camera Operator Hugh\",\"Hermann the Nazi Youth\",\"Cicada Maitre'd\",\"Officer Mike\",\"Dashihi Donnell\",\"Gillian\",\"Cop #1\",\"Cop #2\",\"'Bounty Law' - Promo Announcer (voice)\",\"Dancer #1\",\"Dancer #2\",\"Dancer #3\",\"Dancer #4\",\"Jack (uncredited)\",\"Starlet (uncredited)\",\"Waitress (uncredited)\"]],[\"start\",[0,0,0,1,1,1,1,1,1,1,1,1,1,1,1,1,1,1,1,1,1,1,1,1,1,1,1,2,2,2,3,3,3,3,5,10,10,10,10,10,10,10,10,11,12,12,16,17,17,18,23,26,27,27,27,27,27,27,27,27,27,27,27,27,27,27,27,27,27,27,27,27,27,27,27,27,27,27,27,27,27,27,27,27,27,27,27,27,27,27,27,27,27,27,27,27,28,28,28,28,28,29,29,30,42,44,60,68,72,72,72,72,72,72,72,72,72,72,72,72,72,72,72,72,72,72,72,92,93,93,93,93,93,93,93,93,93,93,93,93,93,93,93,93,93,93,93,93,93,93,93,93,93,93,93,93,93,93,93,98,98,98,103,125,125,125,125,125,125,125,125,125,125,125,125,125,125,125,125,125,125,125,125,125,125,125,125,125,125,125,125,125,125,125,125,125,126,127,128,129,130,130,131,133,134,134,134,135,136,138,138,138,138,139,140,140,141,143,144,145,147,148,149,152,153,158,159,159,159,159,159,159,159,159,159,159,159,160,163,164,166,169,171,171,171,172,172,172,172,172,172,172,172,172,172,172,172,172,172,172,172,172,172,172,172,172,172,172,172,172,172,172,172,172,172,173,173,173,182,183,183,184,184,185,187,203,203,204,204,204,204,204,204,204,204,204,204,204,204,204,204,204,204,204,204,204,204,204,204,204,204,204,204,204,204,204,204,204,204,204,204,204,204,204,204,204,204,204,204,204,204,204,204,204,204,204,204,204,204,204,204,204,204,204,204,204,204,204,206,256,266,267,267,267,267,267,267,267,267,267,267,267,267,267,267,267,267,267,267,267,267,267,267,267,267,267,267,267,267,267,267,267,267,267,267,267,267,267,267,267,267,267,267,267,267,267,267,267,267,267,267,267,267,267,267,267,267,267,267,267,267,267,267,267,267,267,267,267,267,267,267,267,267,267,267,267,267,267,267,267,267,267,267,267,267,267,267,267,267,267,267,267,267,267,267,267,267,267,267,267,268,270,272,273,286,286,291,297,297,320,320,360,361,367,367,367,367,372,372,372,372,372,372,372,372,372,372,372,372,372,372,372,372,372,372,372,372,372,372,372,372,372,372,372,372,372,372,372,372,372,372,372,372,372,372,372,372,372,372,372,372,372,372,372,372,372,372,372,372,372,372,372,372,372,372,372,372,372,372,372,372,372,372,372,372,372,372,372,372,372,372,372,372,372,372,372,372,372,372,372]],[\"end\",[1,27,204,2,3,4,5,6,7,8,9,10,11,12,13,14,15,16,17,18,19,20,21,22,23,24,25,27,72,367,125,159,367,372,27,27,72,93,172,204,267,367,372,27,267,372,27,27,72,27,27,27,28,29,30,31,32,33,34,35,36,37,38,39,40,41,42,43,44,45,46,47,48,49,50,51,52,53,54,55,56,57,58,59,60,61,62,63,64,65,66,67,68,69,70,71,93,159,204,267,367,125,159,72,93,72,72,93,73,74,75,76,77,78,79,80,81,82,83,84,85,86,87,88,89,90,91,93,94,95,96,97,98,99,100,101,102,103,104,105,106,107,108,109,110,111,112,113,114,115,116,117,118,119,120,121,122,123,124,125,159,267,159,126,127,128,129,130,131,132,133,134,135,136,137,138,139,140,141,142,143,144,145,146,147,148,149,150,151,152,153,154,155,156,157,158,159,159,159,159,159,204,159,159,159,172,267,159,159,159,172,267,367,159,159,172,159,159,159,159,159,159,159,159,159,159,160,161,162,163,164,165,166,167,168,169,170,372,172,267,204,267,172,367,372,173,174,175,176,177,178,179,180,181,182,183,184,185,186,187,188,189,190,191,192,193,194,195,196,197,198,199,200,201,202,267,367,372,204,204,372,204,267,372,204,204,372,205,206,207,208,209,210,211,212,213,214,215,216,217,218,219,220,221,222,223,224,225,226,227,228,229,230,231,232,233,234,235,236,237,238,239,240,241,242,243,244,245,246,247,248,249,250,251,252,253,254,255,256,257,258,259,260,261,262,263,264,265,267,267,267,268,269,270,271,272,273,274,275,276,277,278,279,280,281,282,283,284,285,286,287,288,289,290,291,292,293,294,295,296,297,298,299,300,301,302,303,304,305,306,307,308,309,310,311,312,313,314,315,316,317,318,319,320,321,322,323,324,325,326,327,328,329,330,331,332,333,334,335,336,337,338,339,340,341,342,343,344,345,346,347,348,349,350,351,352,353,354,355,356,357,358,359,360,361,362,363,364,365,366,372,367,372,367,367,372,367,367,372,367,372,372,367,368,369,370,371,373,374,375,376,377,378,379,380,381,382,383,384,385,386,387,388,389,390,391,392,393,394,395,396,397,398,399,400,401,402,403,404,405,406,407,408,409,410,411,412,413,414,415,416,417,418,419,420,421,422,423,424,425,426,427,428,429,430,431,432,433,434,435,436,437,438,439,440,441,442,443,444,445,446,447,448,449,450,451,452,453,454,455]]]}}},\"view\":{\"type\":\"object\",\"name\":\"CDSView\",\"id\":\"p1181\",\"attributes\":{\"filter\":{\"type\":\"object\",\"name\":\"AllIndices\",\"id\":\"p1182\"}}},\"glyph\":{\"type\":\"object\",\"name\":\"MultiLine\",\"id\":\"p1206\",\"attributes\":{\"line_alpha\":{\"type\":\"value\",\"value\":0.3}}}}},\"selection_policy\":{\"type\":\"object\",\"name\":\"NodesOnly\",\"id\":\"p1174\"},\"inspection_policy\":{\"type\":\"object\",\"name\":\"NodesOnly\",\"id\":\"p1175\"}}}],\"toolbar\":{\"type\":\"object\",\"name\":\"Toolbar\",\"id\":\"p1134\",\"attributes\":{\"tools\":[{\"type\":\"object\",\"name\":\"PanTool\",\"id\":\"p1155\"},{\"type\":\"object\",\"name\":\"WheelZoomTool\",\"id\":\"p1156\"},{\"type\":\"object\",\"name\":\"SaveTool\",\"id\":\"p1157\"},{\"type\":\"object\",\"name\":\"ResetTool\",\"id\":\"p1158\"},{\"type\":\"object\",\"name\":\"HoverTool\",\"id\":\"p1159\",\"attributes\":{\"renderers\":\"auto\",\"tooltips\":[[\"Name\",\"@name\"],[\"Degree\",\"@degree\"]]}}],\"active_scroll\":{\"id\":\"p1156\"}}},\"left\":[{\"type\":\"object\",\"name\":\"LinearAxis\",\"id\":\"p1148\",\"attributes\":{\"ticker\":{\"type\":\"object\",\"name\":\"BasicTicker\",\"id\":\"p1149\",\"attributes\":{\"mantissas\":[1,2,5]}},\"formatter\":{\"type\":\"object\",\"name\":\"BasicTickFormatter\",\"id\":\"p1150\"},\"major_label_policy\":{\"type\":\"object\",\"name\":\"AllLabels\",\"id\":\"p1151\"}}}],\"below\":[{\"type\":\"object\",\"name\":\"LinearAxis\",\"id\":\"p1141\",\"attributes\":{\"ticker\":{\"type\":\"object\",\"name\":\"BasicTicker\",\"id\":\"p1142\",\"attributes\":{\"mantissas\":[1,2,5]}},\"formatter\":{\"type\":\"object\",\"name\":\"BasicTickFormatter\",\"id\":\"p1143\"},\"major_label_policy\":{\"type\":\"object\",\"name\":\"AllLabels\",\"id\":\"p1144\"}}}],\"center\":[{\"type\":\"object\",\"name\":\"Grid\",\"id\":\"p1147\",\"attributes\":{\"axis\":{\"id\":\"p1141\"}}},{\"type\":\"object\",\"name\":\"Grid\",\"id\":\"p1154\",\"attributes\":{\"dimension\":1,\"axis\":{\"id\":\"p1148\"}}}]}}],\"callbacks\":{\"type\":\"map\"}}};\n  const render_items = [{\"docid\":\"c8250c2e-87ff-4dfb-a300-a86e51e60c2a\",\"roots\":{\"p1125\":\"aa2b26b9-8806-4d30-91e3-d9ef5665672b\"},\"root_ids\":[\"p1125\"]}];\n  root.Bokeh.embed.embed_items_notebook(docs_json, render_items);\n  }\n  if (root.Bokeh !== undefined) {\n    embed_document(root);\n  } else {\n    let attempts = 0;\n    const timer = setInterval(function(root) {\n      if (root.Bokeh !== undefined) {\n        clearInterval(timer);\n        embed_document(root);\n      } else {\n        attempts++;\n        if (attempts > 100) {\n          clearInterval(timer);\n          console.log(\"Bokeh: ERROR: Unable to run BokehJS code because BokehJS library is missing\");\n        }\n      }\n    }, 10, root)\n  }\n})(window);",
      "application/vnd.bokehjs_exec.v0+json": ""
     },
     "metadata": {},
     "output_type": "display_data"
    }
   ],
   "source": [
    "G = nx.from_pandas_edgelist(cast_df, 'person', 'title', 'character')\n",
    "\n",
    "degrees = dict(nx.degree(G))\n",
    "nx.set_node_attributes(G, name='degree', values=degrees)\n",
    "adjusted_node_size = dict([(node, 8*math.log(degree) + 5) for node, degree in nx.degree(G)])\n",
    "nx.set_node_attributes(G, name='adjusted_size', values=adjusted_node_size)\n",
    "\n",
    "node_colors = {} \n",
    "\n",
    "for node in G.nodes():\n",
    "    if node in list(movie_df['title']):\n",
    "        node_colors[node] = Light3[0]\n",
    "    else:\n",
    "        node_colors[node] = Light3[1]\n",
    "\n",
    "nx.set_node_attributes(G, name='color', values=node_colors)\n",
    "\n",
    "G = nx.convert_node_labels_to_integers(G, label_attribute='name')\n",
    "\n",
    "#Establish which categories will appear when hovering over each node\n",
    "HOVER_TOOLTIPS = [\n",
    "    (\"Name\", \"@name\"),\n",
    "    (\"Degree\", \"@degree\")\n",
    "]\n",
    "\n",
    "\n",
    "title = 'Tarantino Cast Network'\n",
    "\n",
    "plot = figure(tooltips = HOVER_TOOLTIPS,\n",
    "              tools=\"pan,wheel_zoom,save,reset\", active_scroll='wheel_zoom',\n",
    "              x_range=Range1d(-20.1, 20.1), y_range=Range1d(-20.1, 20.1), title=title)\n",
    "\n",
    "graph = from_networkx(G, nx.spring_layout, scale=20, center=(0,0))\n",
    "\n",
    "graph.node_renderer.glyph = Circle(size='adjusted_size', fill_color='color')\n",
    "\n",
    "graph.edge_renderer.glyph = MultiLine(line_alpha=0.3)\n",
    "\n",
    "plot.renderers.append(graph)\n",
    "\n",
    "show(plot)"
   ]
  },
  {
   "cell_type": "markdown",
   "id": "47249023",
   "metadata": {},
   "source": []
  },
  {
   "cell_type": "code",
   "execution_count": 92,
   "id": "90f0b0f2",
   "metadata": {},
   "outputs": [
    {
     "data": {
      "text/html": [
       "\n",
       "  <div id=\"6b1f105d-9f32-41be-b01d-cbb6f282105c\" data-root-id=\"p1965\" style=\"display: contents;\"></div>\n"
      ]
     },
     "metadata": {},
     "output_type": "display_data"
    },
    {
     "data": {
      "application/javascript": "(function(root) {\n  function embed_document(root) {\n  const docs_json = {\"14dc0a04-1aa1-489d-b56e-bb52f417845f\":{\"version\":\"3.1.0\",\"title\":\"Bokeh Application\",\"defs\":[],\"roots\":[{\"type\":\"object\",\"name\":\"Figure\",\"id\":\"p1965\",\"attributes\":{\"x_range\":{\"type\":\"object\",\"name\":\"Range1d\",\"id\":\"p1963\",\"attributes\":{\"start\":-20.1,\"end\":20.1}},\"y_range\":{\"type\":\"object\",\"name\":\"Range1d\",\"id\":\"p1964\",\"attributes\":{\"start\":-20.1,\"end\":20.1}},\"x_scale\":{\"type\":\"object\",\"name\":\"LinearScale\",\"id\":\"p1977\"},\"y_scale\":{\"type\":\"object\",\"name\":\"LinearScale\",\"id\":\"p1979\"},\"title\":{\"type\":\"object\",\"name\":\"Title\",\"id\":\"p1968\",\"attributes\":{\"text\":\"Tarantino Crew Network\"}},\"renderers\":[{\"type\":\"object\",\"name\":\"GraphRenderer\",\"id\":\"p2006\",\"attributes\":{\"layout_provider\":{\"type\":\"object\",\"name\":\"StaticLayoutProvider\",\"id\":\"p2037\",\"attributes\":{\"graph_layout\":{\"type\":\"map\",\"entries\":[[0,{\"type\":\"ndarray\",\"array\":{\"type\":\"bytes\",\"data\":\"AAAAAKlN6T8AAACAunXwPw==\"},\"shape\":[2],\"dtype\":\"float64\",\"order\":\"little\"}],[1,{\"type\":\"ndarray\",\"array\":{\"type\":\"bytes\",\"data\":\"AAAAYAxUCkAAAADgPrgnQA==\"},\"shape\":[2],\"dtype\":\"float64\",\"order\":\"little\"}],[2,{\"type\":\"ndarray\",\"array\":{\"type\":\"bytes\",\"data\":\"AAAAoJvz/r8AAABAJz//Pw==\"},\"shape\":[2],\"dtype\":\"float64\",\"order\":\"little\"}],[3,{\"type\":\"ndarray\",\"array\":{\"type\":\"bytes\",\"data\":\"AAAAQNr39L8AAADgeasJQA==\"},\"shape\":[2],\"dtype\":\"float64\",\"order\":\"little\"}],[4,{\"type\":\"ndarray\",\"array\":{\"type\":\"bytes\",\"data\":\"AAAAwFnu/78AAADAVBcGQA==\"},\"shape\":[2],\"dtype\":\"float64\",\"order\":\"little\"}],[5,{\"type\":\"ndarray\",\"array\":{\"type\":\"bytes\",\"data\":\"AAAA4HPkH0AAAADgONQrQA==\"},\"shape\":[2],\"dtype\":\"float64\",\"order\":\"little\"}],[6,{\"type\":\"ndarray\",\"array\":{\"type\":\"bytes\",\"data\":\"AAAAYCRZGEAAAAAgTksvQA==\"},\"shape\":[2],\"dtype\":\"float64\",\"order\":\"little\"}],[7,{\"type\":\"ndarray\",\"array\":{\"type\":\"bytes\",\"data\":\"AAAAgFywEMAAAADgJ0/8Pw==\"},\"shape\":[2],\"dtype\":\"float64\",\"order\":\"little\"}],[8,{\"type\":\"ndarray\",\"array\":{\"type\":\"bytes\",\"data\":\"AAAAoGqhBMAAAACAMD4nQA==\"},\"shape\":[2],\"dtype\":\"float64\",\"order\":\"little\"}],[9,{\"type\":\"ndarray\",\"array\":{\"type\":\"bytes\",\"data\":\"AAAAYJE0A8AAAACg1pImQA==\"},\"shape\":[2],\"dtype\":\"float64\",\"order\":\"little\"}],[10,{\"type\":\"ndarray\",\"array\":{\"type\":\"bytes\",\"data\":\"AAAA4Nx99T8AAADA6wcgQA==\"},\"shape\":[2],\"dtype\":\"float64\",\"order\":\"little\"}],[11,{\"type\":\"ndarray\",\"array\":{\"type\":\"bytes\",\"data\":\"AAAAwGoC9j8AAAAgYwsgQA==\"},\"shape\":[2],\"dtype\":\"float64\",\"order\":\"little\"}],[12,{\"type\":\"ndarray\",\"array\":{\"type\":\"bytes\",\"data\":\"AAAAoPu6EMAAAAAA3vT+Pw==\"},\"shape\":[2],\"dtype\":\"float64\",\"order\":\"little\"}],[13,{\"type\":\"ndarray\",\"array\":{\"type\":\"bytes\",\"data\":\"AAAAoD86BMAAAACgmeclQA==\"},\"shape\":[2],\"dtype\":\"float64\",\"order\":\"little\"}],[14,{\"type\":\"ndarray\",\"array\":{\"type\":\"bytes\",\"data\":\"AAAAAHROFEAAAAAgLRwyQA==\"},\"shape\":[2],\"dtype\":\"float64\",\"order\":\"little\"}],[15,{\"type\":\"ndarray\",\"array\":{\"type\":\"bytes\",\"data\":\"AAAAIIY+/78AAAAAhcoIQA==\"},\"shape\":[2],\"dtype\":\"float64\",\"order\":\"little\"}],[16,{\"type\":\"ndarray\",\"array\":{\"type\":\"bytes\",\"data\":\"AAAAgI5RFkAAAABg3IAxQA==\"},\"shape\":[2],\"dtype\":\"float64\",\"order\":\"little\"}],[17,{\"type\":\"ndarray\",\"array\":{\"type\":\"bytes\",\"data\":\"AAAAYKPmHEAAAACgI3AwQA==\"},\"shape\":[2],\"dtype\":\"float64\",\"order\":\"little\"}],[18,{\"type\":\"ndarray\",\"array\":{\"type\":\"bytes\",\"data\":\"AAAAAHUM/78AAACgxwsSQA==\"},\"shape\":[2],\"dtype\":\"float64\",\"order\":\"little\"}],[19,{\"type\":\"ndarray\",\"array\":{\"type\":\"bytes\",\"data\":\"AAAAgB3m9L8AAADAToQKQA==\"},\"shape\":[2],\"dtype\":\"float64\",\"order\":\"little\"}],[20,{\"type\":\"ndarray\",\"array\":{\"type\":\"bytes\",\"data\":\"AAAAQMAz7j8AAAAgz7f4Pw==\"},\"shape\":[2],\"dtype\":\"float64\",\"order\":\"little\"}],[21,{\"type\":\"ndarray\",\"array\":{\"type\":\"bytes\",\"data\":\"AAAAIFGPGUAAAACA04ExQA==\"},\"shape\":[2],\"dtype\":\"float64\",\"order\":\"little\"}],[22,{\"type\":\"ndarray\",\"array\":{\"type\":\"bytes\",\"data\":\"AAAAAMYfIUAAAACAsdssQA==\"},\"shape\":[2],\"dtype\":\"float64\",\"order\":\"little\"}],[23,{\"type\":\"ndarray\",\"array\":{\"type\":\"bytes\",\"data\":\"AAAAQBcoAMAAAADgCJglQA==\"},\"shape\":[2],\"dtype\":\"float64\",\"order\":\"little\"}],[24,{\"type\":\"ndarray\",\"array\":{\"type\":\"bytes\",\"data\":\"AAAAABjc9L8AAABAtLYJQA==\"},\"shape\":[2],\"dtype\":\"float64\",\"order\":\"little\"}],[25,{\"type\":\"ndarray\",\"array\":{\"type\":\"bytes\",\"data\":\"AAAA4PsUEcAAAADAy2ALQA==\"},\"shape\":[2],\"dtype\":\"float64\",\"order\":\"little\"}],[26,{\"type\":\"ndarray\",\"array\":{\"type\":\"bytes\",\"data\":\"AAAAAMJzFUAAAADAEhExQA==\"},\"shape\":[2],\"dtype\":\"float64\",\"order\":\"little\"}],[27,{\"type\":\"ndarray\",\"array\":{\"type\":\"bytes\",\"data\":\"AAAAQAfiGkAAAAAAK/MtQA==\"},\"shape\":[2],\"dtype\":\"float64\",\"order\":\"little\"}],[28,{\"type\":\"ndarray\",\"array\":{\"type\":\"bytes\",\"data\":\"AAAAYKoGF0AAAAAAhpwwQA==\"},\"shape\":[2],\"dtype\":\"float64\",\"order\":\"little\"}],[29,{\"type\":\"ndarray\",\"array\":{\"type\":\"bytes\",\"data\":\"AAAAYAIpBsAAAADA+YUmQA==\"},\"shape\":[2],\"dtype\":\"float64\",\"order\":\"little\"}],[30,{\"type\":\"ndarray\",\"array\":{\"type\":\"bytes\",\"data\":\"AAAA4B4EEkAAAAAAtd8yQA==\"},\"shape\":[2],\"dtype\":\"float64\",\"order\":\"little\"}],[31,{\"type\":\"ndarray\",\"array\":{\"type\":\"bytes\",\"data\":\"AAAAAAULGkAAAAAgndkxQA==\"},\"shape\":[2],\"dtype\":\"float64\",\"order\":\"little\"}],[32,{\"type\":\"ndarray\",\"array\":{\"type\":\"bytes\",\"data\":\"AAAA4KF+IUAAAACAmtMtQA==\"},\"shape\":[2],\"dtype\":\"float64\",\"order\":\"little\"}],[33,{\"type\":\"ndarray\",\"array\":{\"type\":\"bytes\",\"data\":\"AAAAQIls978AAACgyegEQA==\"},\"shape\":[2],\"dtype\":\"float64\",\"order\":\"little\"}],[34,{\"type\":\"ndarray\",\"array\":{\"type\":\"bytes\",\"data\":\"AAAAYI/ZH0AAAADAsJgwQA==\"},\"shape\":[2],\"dtype\":\"float64\",\"order\":\"little\"}],[35,{\"type\":\"ndarray\",\"array\":{\"type\":\"bytes\",\"data\":\"AAAAIMNPGkAAAADADAUwQA==\"},\"shape\":[2],\"dtype\":\"float64\",\"order\":\"little\"}],[36,{\"type\":\"ndarray\",\"array\":{\"type\":\"bytes\",\"data\":\"AAAAgNGqH0AAAAAAqwIwQA==\"},\"shape\":[2],\"dtype\":\"float64\",\"order\":\"little\"}],[37,{\"type\":\"ndarray\",\"array\":{\"type\":\"bytes\",\"data\":\"AAAAQGW4/r8AAACA09IkQA==\"},\"shape\":[2],\"dtype\":\"float64\",\"order\":\"little\"}],[38,{\"type\":\"ndarray\",\"array\":{\"type\":\"bytes\",\"data\":\"AAAAACbbHEAAAABAIdQtQA==\"},\"shape\":[2],\"dtype\":\"float64\",\"order\":\"little\"}],[39,{\"type\":\"ndarray\",\"array\":{\"type\":\"bytes\",\"data\":\"AAAAANQhIEAAAACghigtQA==\"},\"shape\":[2],\"dtype\":\"float64\",\"order\":\"little\"}],[40,{\"type\":\"ndarray\",\"array\":{\"type\":\"bytes\",\"data\":\"AAAAoHuvEkAAAACgHPMxQA==\"},\"shape\":[2],\"dtype\":\"float64\",\"order\":\"little\"}],[41,{\"type\":\"ndarray\",\"array\":{\"type\":\"bytes\",\"data\":\"AAAAYDBUGkAAAABgwLEwQA==\"},\"shape\":[2],\"dtype\":\"float64\",\"order\":\"little\"}],[42,{\"type\":\"ndarray\",\"array\":{\"type\":\"bytes\",\"data\":\"AAAAQHcZ+T8AAABA+Q4gQA==\"},\"shape\":[2],\"dtype\":\"float64\",\"order\":\"little\"}],[43,{\"type\":\"ndarray\",\"array\":{\"type\":\"bytes\",\"data\":\"AAAAwAxqHEAAAADA8bgvQA==\"},\"shape\":[2],\"dtype\":\"float64\",\"order\":\"little\"}],[44,{\"type\":\"ndarray\",\"array\":{\"type\":\"bytes\",\"data\":\"AAAA4I2hF0AAAACA5r0xQA==\"},\"shape\":[2],\"dtype\":\"float64\",\"order\":\"little\"}],[45,{\"type\":\"ndarray\",\"array\":{\"type\":\"bytes\",\"data\":\"AAAA4BkwCMAAAABAOg8DQA==\"},\"shape\":[2],\"dtype\":\"float64\",\"order\":\"little\"}],[46,{\"type\":\"ndarray\",\"array\":{\"type\":\"bytes\",\"data\":\"AAAAwEJAHkAAAABg2FosQA==\"},\"shape\":[2],\"dtype\":\"float64\",\"order\":\"little\"}],[47,{\"type\":\"ndarray\",\"array\":{\"type\":\"bytes\",\"data\":\"AAAAIONjD0AAAAAAYCYyQA==\"},\"shape\":[2],\"dtype\":\"float64\",\"order\":\"little\"}],[48,{\"type\":\"ndarray\",\"array\":{\"type\":\"bytes\",\"data\":\"AAAAoCu+AsAAAABg8UElQA==\"},\"shape\":[2],\"dtype\":\"float64\",\"order\":\"little\"}],[49,{\"type\":\"ndarray\",\"array\":{\"type\":\"bytes\",\"data\":\"AAAAgDP8HkAAAADgd0gxQA==\"},\"shape\":[2],\"dtype\":\"float64\",\"order\":\"little\"}],[50,{\"type\":\"ndarray\",\"array\":{\"type\":\"bytes\",\"data\":\"AAAAAAikHUAAAABAH5YxQA==\"},\"shape\":[2],\"dtype\":\"float64\",\"order\":\"little\"}],[51,{\"type\":\"ndarray\",\"array\":{\"type\":\"bytes\",\"data\":\"AAAAYBOtG0AAAABAUGUxQA==\"},\"shape\":[2],\"dtype\":\"float64\",\"order\":\"little\"}],[52,{\"type\":\"ndarray\",\"array\":{\"type\":\"bytes\",\"data\":\"AAAAYDzlAMAAAAAATFgmQA==\"},\"shape\":[2],\"dtype\":\"float64\",\"order\":\"little\"}],[53,{\"type\":\"ndarray\",\"array\":{\"type\":\"bytes\",\"data\":\"AAAAAPynIUAAAADgFLQvQA==\"},\"shape\":[2],\"dtype\":\"float64\",\"order\":\"little\"}],[54,{\"type\":\"ndarray\",\"array\":{\"type\":\"bytes\",\"data\":\"AAAAwNeVHUAAAABApAwxQA==\"},\"shape\":[2],\"dtype\":\"float64\",\"order\":\"little\"}],[55,{\"type\":\"ndarray\",\"array\":{\"type\":\"bytes\",\"data\":\"AAAAwHlZIEAAAABAm0ouQA==\"},\"shape\":[2],\"dtype\":\"float64\",\"order\":\"little\"}],[56,{\"type\":\"ndarray\",\"array\":{\"type\":\"bytes\",\"data\":\"AAAAAJSmF0AAAAAgVgYxQA==\"},\"shape\":[2],\"dtype\":\"float64\",\"order\":\"little\"}],[57,{\"type\":\"ndarray\",\"array\":{\"type\":\"bytes\",\"data\":\"AAAAIA+EGkAAAADA/TwyQA==\"},\"shape\":[2],\"dtype\":\"float64\",\"order\":\"little\"}],[58,{\"type\":\"ndarray\",\"array\":{\"type\":\"bytes\",\"data\":\"AAAA4EboIEAAAACgDyEwQA==\"},\"shape\":[2],\"dtype\":\"float64\",\"order\":\"little\"}],[59,{\"type\":\"ndarray\",\"array\":{\"type\":\"bytes\",\"data\":\"AAAAYLY5IEAAAACgkRUxQA==\"},\"shape\":[2],\"dtype\":\"float64\",\"order\":\"little\"}],[60,{\"type\":\"ndarray\",\"array\":{\"type\":\"bytes\",\"data\":\"AAAAAI/lEUAAAACAanUxQA==\"},\"shape\":[2],\"dtype\":\"float64\",\"order\":\"little\"}],[61,{\"type\":\"ndarray\",\"array\":{\"type\":\"bytes\",\"data\":\"AAAAwKyVIEAAAAAApIovQA==\"},\"shape\":[2],\"dtype\":\"float64\",\"order\":\"little\"}],[62,{\"type\":\"ndarray\",\"array\":{\"type\":\"bytes\",\"data\":\"AAAAgH9qE0AAAAAAm/MwQA==\"},\"shape\":[2],\"dtype\":\"float64\",\"order\":\"little\"}],[63,{\"type\":\"ndarray\",\"array\":{\"type\":\"bytes\",\"data\":\"AAAAgMP9GEAAAADA7rswQA==\"},\"shape\":[2],\"dtype\":\"float64\",\"order\":\"little\"}],[64,{\"type\":\"ndarray\",\"array\":{\"type\":\"bytes\",\"data\":\"AAAAANflIEAAAADAG6cwQA==\"},\"shape\":[2],\"dtype\":\"float64\",\"order\":\"little\"}],[65,{\"type\":\"ndarray\",\"array\":{\"type\":\"bytes\",\"data\":\"AAAAYGFCHEAAAADAq+AxQA==\"},\"shape\":[2],\"dtype\":\"float64\",\"order\":\"little\"}],[66,{\"type\":\"ndarray\",\"array\":{\"type\":\"bytes\",\"data\":\"AAAAoP4EEUAAAACAD/UxQA==\"},\"shape\":[2],\"dtype\":\"float64\",\"order\":\"little\"}],[67,{\"type\":\"ndarray\",\"array\":{\"type\":\"bytes\",\"data\":\"AAAAoPYFFUAAAADAW0kwQA==\"},\"shape\":[2],\"dtype\":\"float64\",\"order\":\"little\"}],[68,{\"type\":\"ndarray\",\"array\":{\"type\":\"bytes\",\"data\":\"AAAAQP5GF0AAAACgiAkwQA==\"},\"shape\":[2],\"dtype\":\"float64\",\"order\":\"little\"}],[69,{\"type\":\"ndarray\",\"array\":{\"type\":\"bytes\",\"data\":\"AAAAwCdxHkAAAABg+U4wQA==\"},\"shape\":[2],\"dtype\":\"float64\",\"order\":\"little\"}],[70,{\"type\":\"ndarray\",\"array\":{\"type\":\"bytes\",\"data\":\"AAAAYEJWGEAAAACgpEYyQA==\"},\"shape\":[2],\"dtype\":\"float64\",\"order\":\"little\"}],[71,{\"type\":\"ndarray\",\"array\":{\"type\":\"bytes\",\"data\":\"AAAAgC0XHUAAAABAD90uQA==\"},\"shape\":[2],\"dtype\":\"float64\",\"order\":\"little\"}],[72,{\"type\":\"ndarray\",\"array\":{\"type\":\"bytes\",\"data\":\"AAAAYNTkHkAAAADg6EouQA==\"},\"shape\":[2],\"dtype\":\"float64\",\"order\":\"little\"}],[73,{\"type\":\"ndarray\",\"array\":{\"type\":\"bytes\",\"data\":\"AAAA4DCuG0AAAAAg9bgwQA==\"},\"shape\":[2],\"dtype\":\"float64\",\"order\":\"little\"}],[74,{\"type\":\"ndarray\",\"array\":{\"type\":\"bytes\",\"data\":\"AAAAYBS1HEAAAADgS+osQA==\"},\"shape\":[2],\"dtype\":\"float64\",\"order\":\"little\"}],[75,{\"type\":\"ndarray\",\"array\":{\"type\":\"bytes\",\"data\":\"AAAAAO2uFEAAAABgEskyQA==\"},\"shape\":[2],\"dtype\":\"float64\",\"order\":\"little\"}],[76,{\"type\":\"ndarray\",\"array\":{\"type\":\"bytes\",\"data\":\"AAAA4DbzFkAAAADASpYyQA==\"},\"shape\":[2],\"dtype\":\"float64\",\"order\":\"little\"}],[77,{\"type\":\"ndarray\",\"array\":{\"type\":\"bytes\",\"data\":\"AAAAAO4aFEAAAADgHIAxQA==\"},\"shape\":[2],\"dtype\":\"float64\",\"order\":\"little\"}],[78,{\"type\":\"ndarray\",\"array\":{\"type\":\"bytes\",\"data\":\"AAAAAJpgE0AAAACA7YwyQA==\"},\"shape\":[2],\"dtype\":\"float64\",\"order\":\"little\"}],[79,{\"type\":\"ndarray\",\"array\":{\"type\":\"bytes\",\"data\":\"AAAA4AiJIUAAAADgJ8kuQA==\"},\"shape\":[2],\"dtype\":\"float64\",\"order\":\"little\"}],[80,{\"type\":\"ndarray\",\"array\":{\"type\":\"bytes\",\"data\":\"AAAA4Cn5FUAAAAAAbRIyQA==\"},\"shape\":[2],\"dtype\":\"float64\",\"order\":\"little\"}],[81,{\"type\":\"ndarray\",\"array\":{\"type\":\"bytes\",\"data\":\"AAAAgNPAGUAAAAAgPaguQA==\"},\"shape\":[2],\"dtype\":\"float64\",\"order\":\"little\"}],[82,{\"type\":\"ndarray\",\"array\":{\"type\":\"bytes\",\"data\":\"AAAAoL4aHsAAAAAgLOUfQA==\"},\"shape\":[2],\"dtype\":\"float64\",\"order\":\"little\"}],[83,{\"type\":\"ndarray\",\"array\":{\"type\":\"bytes\",\"data\":\"AAAAwEchAcAAAADgRTTwPw==\"},\"shape\":[2],\"dtype\":\"float64\",\"order\":\"little\"}],[84,{\"type\":\"ndarray\",\"array\":{\"type\":\"bytes\",\"data\":\"AAAAgBquKMAAAACgH2gqQA==\"},\"shape\":[2],\"dtype\":\"float64\",\"order\":\"little\"}],[85,{\"type\":\"ndarray\",\"array\":{\"type\":\"bytes\",\"data\":\"AAAAYIe3K8AAAADgJaghQA==\"},\"shape\":[2],\"dtype\":\"float64\",\"order\":\"little\"}],[86,{\"type\":\"ndarray\",\"array\":{\"type\":\"bytes\",\"data\":\"AAAAAIYdAsAAAADAG97vPw==\"},\"shape\":[2],\"dtype\":\"float64\",\"order\":\"little\"}],[87,{\"type\":\"ndarray\",\"array\":{\"type\":\"bytes\",\"data\":\"AAAAQCsxAsAAAAAAn47uPw==\"},\"shape\":[2],\"dtype\":\"float64\",\"order\":\"little\"}],[88,{\"type\":\"ndarray\",\"array\":{\"type\":\"bytes\",\"data\":\"AAAAwFJBI8AAAADASiLoPw==\"},\"shape\":[2],\"dtype\":\"float64\",\"order\":\"little\"}],[89,{\"type\":\"ndarray\",\"array\":{\"type\":\"bytes\",\"data\":\"AAAAAAaUI8AAAACAp/ArQA==\"},\"shape\":[2],\"dtype\":\"float64\",\"order\":\"little\"}],[90,{\"type\":\"ndarray\",\"array\":{\"type\":\"bytes\",\"data\":\"AAAA4IIb4b8AAACADX8HQA==\"},\"shape\":[2],\"dtype\":\"float64\",\"order\":\"little\"}],[91,{\"type\":\"ndarray\",\"array\":{\"type\":\"bytes\",\"data\":\"AAAAQDqU7j8AAADAD0EKQA==\"},\"shape\":[2],\"dtype\":\"float64\",\"order\":\"little\"}],[92,{\"type\":\"ndarray\",\"array\":{\"type\":\"bytes\",\"data\":\"AAAAAAwsJMAAAADAs6LjPw==\"},\"shape\":[2],\"dtype\":\"float64\",\"order\":\"little\"}],[93,{\"type\":\"ndarray\",\"array\":{\"type\":\"bytes\",\"data\":\"AAAAgHkYIsAAAADAjTwqQA==\"},\"shape\":[2],\"dtype\":\"float64\",\"order\":\"little\"}],[94,{\"type\":\"ndarray\",\"array\":{\"type\":\"bytes\",\"data\":\"AAAAoK7dKcAAAACA/bUjQA==\"},\"shape\":[2],\"dtype\":\"float64\",\"order\":\"little\"}],[95,{\"type\":\"ndarray\",\"array\":{\"type\":\"bytes\",\"data\":\"AAAAwHuZJ8AAAABA0JwmQA==\"},\"shape\":[2],\"dtype\":\"float64\",\"order\":\"little\"}],[96,{\"type\":\"ndarray\",\"array\":{\"type\":\"bytes\",\"data\":\"AAAAoCTeI8AAAADAuKonQA==\"},\"shape\":[2],\"dtype\":\"float64\",\"order\":\"little\"}],[97,{\"type\":\"ndarray\",\"array\":{\"type\":\"bytes\",\"data\":\"AAAAIEpUI8AAAABANaUoQA==\"},\"shape\":[2],\"dtype\":\"float64\",\"order\":\"little\"}],[98,{\"type\":\"ndarray\",\"array\":{\"type\":\"bytes\",\"data\":\"AAAAYBNmKsAAAABAPdEgQA==\"},\"shape\":[2],\"dtype\":\"float64\",\"order\":\"little\"}],[99,{\"type\":\"ndarray\",\"array\":{\"type\":\"bytes\",\"data\":\"AAAAYNTcJcAAAABgikQrQA==\"},\"shape\":[2],\"dtype\":\"float64\",\"order\":\"little\"}],[100,{\"type\":\"ndarray\",\"array\":{\"type\":\"bytes\",\"data\":\"AAAAwMd4IsAAAAAgtJnhPw==\"},\"shape\":[2],\"dtype\":\"float64\",\"order\":\"little\"}],[101,{\"type\":\"ndarray\",\"array\":{\"type\":\"bytes\",\"data\":\"AAAAwLQ+KcAAAAAA/AcpQA==\"},\"shape\":[2],\"dtype\":\"float64\",\"order\":\"little\"}],[102,{\"type\":\"ndarray\",\"array\":{\"type\":\"bytes\",\"data\":\"AAAAwKerHcAAAACgdzLqvw==\"},\"shape\":[2],\"dtype\":\"float64\",\"order\":\"little\"}],[103,{\"type\":\"ndarray\",\"array\":{\"type\":\"bytes\",\"data\":\"AAAA4AKJLMAAAABAmu0jQA==\"},\"shape\":[2],\"dtype\":\"float64\",\"order\":\"little\"}],[104,{\"type\":\"ndarray\",\"array\":{\"type\":\"bytes\",\"data\":\"AAAAgGeXKsAAAADAyG0jQA==\"},\"shape\":[2],\"dtype\":\"float64\",\"order\":\"little\"}],[105,{\"type\":\"ndarray\",\"array\":{\"type\":\"bytes\",\"data\":\"AAAAgBknJcAAAAAgmAUoQA==\"},\"shape\":[2],\"dtype\":\"float64\",\"order\":\"little\"}],[106,{\"type\":\"ndarray\",\"array\":{\"type\":\"bytes\",\"data\":\"AAAAAJUiK8AAAADgzUQgQA==\"},\"shape\":[2],\"dtype\":\"float64\",\"order\":\"little\"}],[107,{\"type\":\"ndarray\",\"array\":{\"type\":\"bytes\",\"data\":\"AAAAoPpMK8AAAAAg3XUmQA==\"},\"shape\":[2],\"dtype\":\"float64\",\"order\":\"little\"}],[108,{\"type\":\"ndarray\",\"array\":{\"type\":\"bytes\",\"data\":\"AAAAoFC2K8AAAADA0VYkQA==\"},\"shape\":[2],\"dtype\":\"float64\",\"order\":\"little\"}],[109,{\"type\":\"ndarray\",\"array\":{\"type\":\"bytes\",\"data\":\"AAAAII9rAcAAAAAgBuwGQA==\"},\"shape\":[2],\"dtype\":\"float64\",\"order\":\"little\"}],[110,{\"type\":\"ndarray\",\"array\":{\"type\":\"bytes\",\"data\":\"AAAA4F/IK8AAAACAZ80lQA==\"},\"shape\":[2],\"dtype\":\"float64\",\"order\":\"little\"}],[111,{\"type\":\"ndarray\",\"array\":{\"type\":\"bytes\",\"data\":\"AAAAAOHDKsAAAABAfcwnQA==\"},\"shape\":[2],\"dtype\":\"float64\",\"order\":\"little\"}],[112,{\"type\":\"ndarray\",\"array\":{\"type\":\"bytes\",\"data\":\"AAAAoH3yK8AAAACg59AgQA==\"},\"shape\":[2],\"dtype\":\"float64\",\"order\":\"little\"}],[113,{\"type\":\"ndarray\",\"array\":{\"type\":\"bytes\",\"data\":\"AAAAwGXcKsAAAABA+hUiQA==\"},\"shape\":[2],\"dtype\":\"float64\",\"order\":\"little\"}],[114,{\"type\":\"ndarray\",\"array\":{\"type\":\"bytes\",\"data\":\"AAAAgOXEIsAAAAAggdXdPw==\"},\"shape\":[2],\"dtype\":\"float64\",\"order\":\"little\"}],[115,{\"type\":\"ndarray\",\"array\":{\"type\":\"bytes\",\"data\":\"AAAAgIijKMAAAADAui0nQA==\"},\"shape\":[2],\"dtype\":\"float64\",\"order\":\"little\"}],[116,{\"type\":\"ndarray\",\"array\":{\"type\":\"bytes\",\"data\":\"AAAAIDR58T8AAABgP5kbQA==\"},\"shape\":[2],\"dtype\":\"float64\",\"order\":\"little\"}],[117,{\"type\":\"ndarray\",\"array\":{\"type\":\"bytes\",\"data\":\"AAAAoBrVJsAAAADgaEknQA==\"},\"shape\":[2],\"dtype\":\"float64\",\"order\":\"little\"}],[118,{\"type\":\"ndarray\",\"array\":{\"type\":\"bytes\",\"data\":\"AAAA4OFxHcAAAACgBgfmvw==\"},\"shape\":[2],\"dtype\":\"float64\",\"order\":\"little\"}],[119,{\"type\":\"ndarray\",\"array\":{\"type\":\"bytes\",\"data\":\"AAAA4LS47T8AAACA1u8YQA==\"},\"shape\":[2],\"dtype\":\"float64\",\"order\":\"little\"}],[120,{\"type\":\"ndarray\",\"array\":{\"type\":\"bytes\",\"data\":\"AAAAAM/UKcAAAADAqEAoQA==\"},\"shape\":[2],\"dtype\":\"float64\",\"order\":\"little\"}],[121,{\"type\":\"ndarray\",\"array\":{\"type\":\"bytes\",\"data\":\"AAAAAF/OKMAAAACAuSUoQA==\"},\"shape\":[2],\"dtype\":\"float64\",\"order\":\"little\"}],[122,{\"type\":\"ndarray\",\"array\":{\"type\":\"bytes\",\"data\":\"AAAAAE9eKMAAAAAgc4kpQA==\"},\"shape\":[2],\"dtype\":\"float64\",\"order\":\"little\"}],[123,{\"type\":\"ndarray\",\"array\":{\"type\":\"bytes\",\"data\":\"AAAAQMndKcAAAABA8ZUhQA==\"},\"shape\":[2],\"dtype\":\"float64\",\"order\":\"little\"}],[124,{\"type\":\"ndarray\",\"array\":{\"type\":\"bytes\",\"data\":\"AAAAgFVRJMAAAACg9jYpQA==\"},\"shape\":[2],\"dtype\":\"float64\",\"order\":\"little\"}],[125,{\"type\":\"ndarray\",\"array\":{\"type\":\"bytes\",\"data\":\"AAAAgGVxLMAAAABgCkAiQA==\"},\"shape\":[2],\"dtype\":\"float64\",\"order\":\"little\"}],[126,{\"type\":\"ndarray\",\"array\":{\"type\":\"bytes\",\"data\":\"AAAAQB6hKsAAAACg1IYlQA==\"},\"shape\":[2],\"dtype\":\"float64\",\"order\":\"little\"}],[127,{\"type\":\"ndarray\",\"array\":{\"type\":\"bytes\",\"data\":\"AAAAIJQqJsAAAABgyxQoQA==\"},\"shape\":[2],\"dtype\":\"float64\",\"order\":\"little\"}],[128,{\"type\":\"ndarray\",\"array\":{\"type\":\"bytes\",\"data\":\"AAAA4Hl7I8AAAACAlqvpPw==\"},\"shape\":[2],\"dtype\":\"float64\",\"order\":\"little\"}],[129,{\"type\":\"ndarray\",\"array\":{\"type\":\"bytes\",\"data\":\"AAAAYL1nKcAAAADgdl8kQA==\"},\"shape\":[2],\"dtype\":\"float64\",\"order\":\"little\"}],[130,{\"type\":\"ndarray\",\"array\":{\"type\":\"bytes\",\"data\":\"AAAAgJGiKcAAAABAZXIiQA==\"},\"shape\":[2],\"dtype\":\"float64\",\"order\":\"little\"}],[131,{\"type\":\"ndarray\",\"array\":{\"type\":\"bytes\",\"data\":\"AAAAYDtsJMAAAAAgeT4qQA==\"},\"shape\":[2],\"dtype\":\"float64\",\"order\":\"little\"}],[132,{\"type\":\"ndarray\",\"array\":{\"type\":\"bytes\",\"data\":\"AAAAQCdAKMAAAADgtfYlQA==\"},\"shape\":[2],\"dtype\":\"float64\",\"order\":\"little\"}],[133,{\"type\":\"ndarray\",\"array\":{\"type\":\"bytes\",\"data\":\"AAAAgIf8JsAAAABAwtokQA==\"},\"shape\":[2],\"dtype\":\"float64\",\"order\":\"little\"}],[134,{\"type\":\"ndarray\",\"array\":{\"type\":\"bytes\",\"data\":\"AAAAIEkVKMAAAADg7RQrQA==\"},\"shape\":[2],\"dtype\":\"float64\",\"order\":\"little\"}],[135,{\"type\":\"ndarray\",\"array\":{\"type\":\"bytes\",\"data\":\"AAAAAA42yL8AAABgmrv5vw==\"},\"shape\":[2],\"dtype\":\"float64\",\"order\":\"little\"}],[136,{\"type\":\"ndarray\",\"array\":{\"type\":\"bytes\",\"data\":\"AAAAAD3OJsAAAACAkcAoQA==\"},\"shape\":[2],\"dtype\":\"float64\",\"order\":\"little\"}],[137,{\"type\":\"ndarray\",\"array\":{\"type\":\"bytes\",\"data\":\"AAAAgOu0KcAAAAAgrGElQA==\"},\"shape\":[2],\"dtype\":\"float64\",\"order\":\"little\"}],[138,{\"type\":\"ndarray\",\"array\":{\"type\":\"bytes\",\"data\":\"AAAAAHVgJcAAAABgyFwqQA==\"},\"shape\":[2],\"dtype\":\"float64\",\"order\":\"little\"}],[139,{\"type\":\"ndarray\",\"array\":{\"type\":\"bytes\",\"data\":\"AAAAwJnB6j8AAADAIwsZQA==\"},\"shape\":[2],\"dtype\":\"float64\",\"order\":\"little\"}],[140,{\"type\":\"ndarray\",\"array\":{\"type\":\"bytes\",\"data\":\"AAAAgBlTKcAAAACgYXMmQA==\"},\"shape\":[2],\"dtype\":\"float64\",\"order\":\"little\"}],[141,{\"type\":\"ndarray\",\"array\":{\"type\":\"bytes\",\"data\":\"AAAAQD5SI8AAAACArwrePw==\"},\"shape\":[2],\"dtype\":\"float64\",\"order\":\"little\"}],[142,{\"type\":\"ndarray\",\"array\":{\"type\":\"bytes\",\"data\":\"AAAAgDXfJMAAAAAAh/MmQA==\"},\"shape\":[2],\"dtype\":\"float64\",\"order\":\"little\"}],[143,{\"type\":\"ndarray\",\"array\":{\"type\":\"bytes\",\"data\":\"AAAAAOGwJsAAAACA+9IlQA==\"},\"shape\":[2],\"dtype\":\"float64\",\"order\":\"little\"}],[144,{\"type\":\"ndarray\",\"array\":{\"type\":\"bytes\",\"data\":\"AAAAQAuNKcAAAADg1NcpQA==\"},\"shape\":[2],\"dtype\":\"float64\",\"order\":\"little\"}],[145,{\"type\":\"ndarray\",\"array\":{\"type\":\"bytes\",\"data\":\"AAAA4BadIsAAAABgL0IrQA==\"},\"shape\":[2],\"dtype\":\"float64\",\"order\":\"little\"}],[146,{\"type\":\"ndarray\",\"array\":{\"type\":\"bytes\",\"data\":\"AAAAgE9BJMAAAABgFH7mPw==\"},\"shape\":[2],\"dtype\":\"float64\",\"order\":\"little\"}],[147,{\"type\":\"ndarray\",\"array\":{\"type\":\"bytes\",\"data\":\"AAAAgPUK5T8AAABgQ5MaQA==\"},\"shape\":[2],\"dtype\":\"float64\",\"order\":\"little\"}],[148,{\"type\":\"ndarray\",\"array\":{\"type\":\"bytes\",\"data\":\"AAAAIOtf8z8AAADAG3wcQA==\"},\"shape\":[2],\"dtype\":\"float64\",\"order\":\"little\"}],[149,{\"type\":\"ndarray\",\"array\":{\"type\":\"bytes\",\"data\":\"AAAAIIKF6j8AAAAgDjYcQA==\"},\"shape\":[2],\"dtype\":\"float64\",\"order\":\"little\"}],[150,{\"type\":\"ndarray\",\"array\":{\"type\":\"bytes\",\"data\":\"AAAA4PJXIsAAAACALA4pQA==\"},\"shape\":[2],\"dtype\":\"float64\",\"order\":\"little\"}],[151,{\"type\":\"ndarray\",\"array\":{\"type\":\"bytes\",\"data\":\"AAAAYAmnJMAAAADgeUksQA==\"},\"shape\":[2],\"dtype\":\"float64\",\"order\":\"little\"}],[152,{\"type\":\"ndarray\",\"array\":{\"type\":\"bytes\",\"data\":\"AAAAIF5fJcAAAACg/AUpQA==\"},\"shape\":[2],\"dtype\":\"float64\",\"order\":\"little\"}],[153,{\"type\":\"ndarray\",\"array\":{\"type\":\"bytes\",\"data\":\"AAAAIBUb6z8AAADAOKYaQA==\"},\"shape\":[2],\"dtype\":\"float64\",\"order\":\"little\"}],[154,{\"type\":\"ndarray\",\"array\":{\"type\":\"bytes\",\"data\":\"AAAAoOSnKMAAAADg9YgiQA==\"},\"shape\":[2],\"dtype\":\"float64\",\"order\":\"little\"}],[155,{\"type\":\"ndarray\",\"array\":{\"type\":\"bytes\",\"data\":\"AAAAYNd+JsAAAABAjZIqQA==\"},\"shape\":[2],\"dtype\":\"float64\",\"order\":\"little\"}],[156,{\"type\":\"ndarray\",\"array\":{\"type\":\"bytes\",\"data\":\"AAAAYM/FJcAAAAAgYl8mQA==\"},\"shape\":[2],\"dtype\":\"float64\",\"order\":\"little\"}],[157,{\"type\":\"ndarray\",\"array\":{\"type\":\"bytes\",\"data\":\"AAAA4L5VKsAAAADgAIAmQA==\"},\"shape\":[2],\"dtype\":\"float64\",\"order\":\"little\"}],[158,{\"type\":\"ndarray\",\"array\":{\"type\":\"bytes\",\"data\":\"AAAAwJvPJcAAAACADSEsQA==\"},\"shape\":[2],\"dtype\":\"float64\",\"order\":\"little\"}],[159,{\"type\":\"ndarray\",\"array\":{\"type\":\"bytes\",\"data\":\"AAAAwHSqI8AAAAAAOO4qQA==\"},\"shape\":[2],\"dtype\":\"float64\",\"order\":\"little\"}],[160,{\"type\":\"ndarray\",\"array\":{\"type\":\"bytes\",\"data\":\"AAAAwE+9JMAAAADgTGIrQA==\"},\"shape\":[2],\"dtype\":\"float64\",\"order\":\"little\"}],[161,{\"type\":\"ndarray\",\"array\":{\"type\":\"bytes\",\"data\":\"AAAAIIfL8j8AAACgpO8ZQA==\"},\"shape\":[2],\"dtype\":\"float64\",\"order\":\"little\"}],[162,{\"type\":\"ndarray\",\"array\":{\"type\":\"bytes\",\"data\":\"AAAAQDGFJ8AAAACAhP4pQA==\"},\"shape\":[2],\"dtype\":\"float64\",\"order\":\"little\"}],[163,{\"type\":\"ndarray\",\"array\":{\"type\":\"bytes\",\"data\":\"AAAAQOw6J8AAAAAAIQErQA==\"},\"shape\":[2],\"dtype\":\"float64\",\"order\":\"little\"}],[164,{\"type\":\"ndarray\",\"array\":{\"type\":\"bytes\",\"data\":\"AAAAoMLaKcAAAACgkFUnQA==\"},\"shape\":[2],\"dtype\":\"float64\",\"order\":\"little\"}],[165,{\"type\":\"ndarray\",\"array\":{\"type\":\"bytes\",\"data\":\"AAAAIFB/IcAAAADg8HbGPw==\"},\"shape\":[2],\"dtype\":\"float64\",\"order\":\"little\"}],[166,{\"type\":\"ndarray\",\"array\":{\"type\":\"bytes\",\"data\":\"AAAAIHbyKsAAAABAO8MkQA==\"},\"shape\":[2],\"dtype\":\"float64\",\"order\":\"little\"}],[167,{\"type\":\"ndarray\",\"array\":{\"type\":\"bytes\",\"data\":\"AAAAAKc29D8AAADgMEcbQA==\"},\"shape\":[2],\"dtype\":\"float64\",\"order\":\"little\"}],[168,{\"type\":\"ndarray\",\"array\":{\"type\":\"bytes\",\"data\":\"AAAAoL57K8AAAACgfkonQA==\"},\"shape\":[2],\"dtype\":\"float64\",\"order\":\"little\"}],[169,{\"type\":\"ndarray\",\"array\":{\"type\":\"bytes\",\"data\":\"AAAAIEI9I8AAAACgXAYqQA==\"},\"shape\":[2],\"dtype\":\"float64\",\"order\":\"little\"}],[170,{\"type\":\"ndarray\",\"array\":{\"type\":\"bytes\",\"data\":\"AAAAQMPbJ8AAAABgquQoQA==\"},\"shape\":[2],\"dtype\":\"float64\",\"order\":\"little\"}],[171,{\"type\":\"ndarray\",\"array\":{\"type\":\"bytes\",\"data\":\"AAAAYB17JsAAAACgwacpQA==\"},\"shape\":[2],\"dtype\":\"float64\",\"order\":\"little\"}],[172,{\"type\":\"ndarray\",\"array\":{\"type\":\"bytes\",\"data\":\"AAAAINHNJ8AAAACgt+onQA==\"},\"shape\":[2],\"dtype\":\"float64\",\"order\":\"little\"}],[173,{\"type\":\"ndarray\",\"array\":{\"type\":\"bytes\",\"data\":\"AAAAoEhxKsAAAABgZ9woQA==\"},\"shape\":[2],\"dtype\":\"float64\",\"order\":\"little\"}],[174,{\"type\":\"ndarray\",\"array\":{\"type\":\"bytes\",\"data\":\"AAAAoJ4XLMAAAABAOf0iQA==\"},\"shape\":[2],\"dtype\":\"float64\",\"order\":\"little\"}],[175,{\"type\":\"ndarray\",\"array\":{\"type\":\"bytes\",\"data\":\"AAAAIBr1JsAAAACAQ94rQA==\"},\"shape\":[2],\"dtype\":\"float64\",\"order\":\"little\"}],[176,{\"type\":\"ndarray\",\"array\":{\"type\":\"bytes\",\"data\":\"AAAAQE+DKMAAAADgyJMjQA==\"},\"shape\":[2],\"dtype\":\"float64\",\"order\":\"little\"}],[177,{\"type\":\"ndarray\",\"array\":{\"type\":\"bytes\",\"data\":\"AAAA4P3XJ8AAAACA21QkQA==\"},\"shape\":[2],\"dtype\":\"float64\",\"order\":\"little\"}],[178,{\"type\":\"ndarray\",\"array\":{\"type\":\"bytes\",\"data\":\"AAAA4C2yKMAAAACg4CwlQA==\"},\"shape\":[2],\"dtype\":\"float64\",\"order\":\"little\"}],[179,{\"type\":\"ndarray\",\"array\":{\"type\":\"bytes\",\"data\":\"AAAAYLBUK8AAAACAJzsjQA==\"},\"shape\":[2],\"dtype\":\"float64\",\"order\":\"little\"}],[180,{\"type\":\"ndarray\",\"array\":{\"type\":\"bytes\",\"data\":\"AAAA4BFGLMAAAACAaCQlQA==\"},\"shape\":[2],\"dtype\":\"float64\",\"order\":\"little\"}],[181,{\"type\":\"ndarray\",\"array\":{\"type\":\"bytes\",\"data\":\"AAAAYL2sL0AAAACgvB0SQA==\"},\"shape\":[2],\"dtype\":\"float64\",\"order\":\"little\"}],[182,{\"type\":\"ndarray\",\"array\":{\"type\":\"bytes\",\"data\":\"AAAAYEFNIUAAAADgARsRQA==\"},\"shape\":[2],\"dtype\":\"float64\",\"order\":\"little\"}],[183,{\"type\":\"ndarray\",\"array\":{\"type\":\"bytes\",\"data\":\"AAAA4M6mL0AAAABAtJ4WQA==\"},\"shape\":[2],\"dtype\":\"float64\",\"order\":\"little\"}],[184,{\"type\":\"ndarray\",\"array\":{\"type\":\"bytes\",\"data\":\"AAAAQKiK5D8AAABA0IT4Pw==\"},\"shape\":[2],\"dtype\":\"float64\",\"order\":\"little\"}],[185,{\"type\":\"ndarray\",\"array\":{\"type\":\"bytes\",\"data\":\"AAAAwOMYLUAAAABgO+gWQA==\"},\"shape\":[2],\"dtype\":\"float64\",\"order\":\"little\"}],[186,{\"type\":\"ndarray\",\"array\":{\"type\":\"bytes\",\"data\":\"AAAA4O05KkAAAABAu+wLQA==\"},\"shape\":[2],\"dtype\":\"float64\",\"order\":\"little\"}],[187,{\"type\":\"ndarray\",\"array\":{\"type\":\"bytes\",\"data\":\"AAAAoMiOKkAAAABAPhATQA==\"},\"shape\":[2],\"dtype\":\"float64\",\"order\":\"little\"}],[188,{\"type\":\"ndarray\",\"array\":{\"type\":\"bytes\",\"data\":\"AAAAAKEWLUAAAADA27IdQA==\"},\"shape\":[2],\"dtype\":\"float64\",\"order\":\"little\"}],[189,{\"type\":\"ndarray\",\"array\":{\"type\":\"bytes\",\"data\":\"AAAAYMoQKUAAAADguXMiQA==\"},\"shape\":[2],\"dtype\":\"float64\",\"order\":\"little\"}],[190,{\"type\":\"ndarray\",\"array\":{\"type\":\"bytes\",\"data\":\"AAAAIJzMLkAAAACgDNwVQA==\"},\"shape\":[2],\"dtype\":\"float64\",\"order\":\"little\"}],[191,{\"type\":\"ndarray\",\"array\":{\"type\":\"bytes\",\"data\":\"AAAAwJaZK0AAAAAATf0hQA==\"},\"shape\":[2],\"dtype\":\"float64\",\"order\":\"little\"}],[192,{\"type\":\"ndarray\",\"array\":{\"type\":\"bytes\",\"data\":\"AAAAwEMQ0j8AAABgrq4DwA==\"},\"shape\":[2],\"dtype\":\"float64\",\"order\":\"little\"}],[193,{\"type\":\"ndarray\",\"array\":{\"type\":\"bytes\",\"data\":\"AAAAoDnHKUAAAADgKHgcQA==\"},\"shape\":[2],\"dtype\":\"float64\",\"order\":\"little\"}],[194,{\"type\":\"ndarray\",\"array\":{\"type\":\"bytes\",\"data\":\"AAAAIHuTK0AAAAAguCwhQA==\"},\"shape\":[2],\"dtype\":\"float64\",\"order\":\"little\"}],[195,{\"type\":\"ndarray\",\"array\":{\"type\":\"bytes\",\"data\":\"AAAAAKI0LEAAAACAKO4fQA==\"},\"shape\":[2],\"dtype\":\"float64\",\"order\":\"little\"}],[196,{\"type\":\"ndarray\",\"array\":{\"type\":\"bytes\",\"data\":\"AAAAoK0dKkAAAADA2W4WQA==\"},\"shape\":[2],\"dtype\":\"float64\",\"order\":\"little\"}],[197,{\"type\":\"ndarray\",\"array\":{\"type\":\"bytes\",\"data\":\"AAAAwDHVLUAAAAAAzmQRQA==\"},\"shape\":[2],\"dtype\":\"float64\",\"order\":\"little\"}],[198,{\"type\":\"ndarray\",\"array\":{\"type\":\"bytes\",\"data\":\"AAAAIGgMLEAAAADgxtIHQA==\"},\"shape\":[2],\"dtype\":\"float64\",\"order\":\"little\"}],[199,{\"type\":\"ndarray\",\"array\":{\"type\":\"bytes\",\"data\":\"AAAAANS+LEAAAAAAPA8LQA==\"},\"shape\":[2],\"dtype\":\"float64\",\"order\":\"little\"}],[200,{\"type\":\"ndarray\",\"array\":{\"type\":\"bytes\",\"data\":\"AAAAwCvcKkAAAAAg1pgcQA==\"},\"shape\":[2],\"dtype\":\"float64\",\"order\":\"little\"}],[201,{\"type\":\"ndarray\",\"array\":{\"type\":\"bytes\",\"data\":\"AAAAAPiG0L8AAADgxQn5vw==\"},\"shape\":[2],\"dtype\":\"float64\",\"order\":\"little\"}],[202,{\"type\":\"ndarray\",\"array\":{\"type\":\"bytes\",\"data\":\"AAAAAKSQK0AAAAAgLiwYQA==\"},\"shape\":[2],\"dtype\":\"float64\",\"order\":\"little\"}],[203,{\"type\":\"ndarray\",\"array\":{\"type\":\"bytes\",\"data\":\"AAAAYKhJLEAAAABAgQMXQA==\"},\"shape\":[2],\"dtype\":\"float64\",\"order\":\"little\"}],[204,{\"type\":\"ndarray\",\"array\":{\"type\":\"bytes\",\"data\":\"AAAAwHg0LEAAAADgPfsbQA==\"},\"shape\":[2],\"dtype\":\"float64\",\"order\":\"little\"}],[205,{\"type\":\"ndarray\",\"array\":{\"type\":\"bytes\",\"data\":\"AAAA4PTNLkAAAABgAsIQQA==\"},\"shape\":[2],\"dtype\":\"float64\",\"order\":\"little\"}],[206,{\"type\":\"ndarray\",\"array\":{\"type\":\"bytes\",\"data\":\"AAAAoDRGpj8AAAAgM7/7vw==\"},\"shape\":[2],\"dtype\":\"float64\",\"order\":\"little\"}],[207,{\"type\":\"ndarray\",\"array\":{\"type\":\"bytes\",\"data\":\"AAAAoEeCLEAAAACAKr4TQA==\"},\"shape\":[2],\"dtype\":\"float64\",\"order\":\"little\"}],[208,{\"type\":\"ndarray\",\"array\":{\"type\":\"bytes\",\"data\":\"AAAAwN+zLUAAAADApL4YQA==\"},\"shape\":[2],\"dtype\":\"float64\",\"order\":\"little\"}],[209,{\"type\":\"ndarray\",\"array\":{\"type\":\"bytes\",\"data\":\"AAAAoHvfK0AAAADAhMADQA==\"},\"shape\":[2],\"dtype\":\"float64\",\"order\":\"little\"}],[210,{\"type\":\"ndarray\",\"array\":{\"type\":\"bytes\",\"data\":\"AAAAIEAoLUAAAACAUE4bQA==\"},\"shape\":[2],\"dtype\":\"float64\",\"order\":\"little\"}],[211,{\"type\":\"ndarray\",\"array\":{\"type\":\"bytes\",\"data\":\"AAAAwKDuKkAAAAAgph8PQA==\"},\"shape\":[2],\"dtype\":\"float64\",\"order\":\"little\"}],[212,{\"type\":\"ndarray\",\"array\":{\"type\":\"bytes\",\"data\":\"AAAAoIemLEAAAAAAtpIZQA==\"},\"shape\":[2],\"dtype\":\"float64\",\"order\":\"little\"}],[213,{\"type\":\"ndarray\",\"array\":{\"type\":\"bytes\",\"data\":\"AAAA4Ixt2j8AAADgt+cAwA==\"},\"shape\":[2],\"dtype\":\"float64\",\"order\":\"little\"}],[214,{\"type\":\"ndarray\",\"array\":{\"type\":\"bytes\",\"data\":\"AAAA4I9E0z8AAACAQ64DwA==\"},\"shape\":[2],\"dtype\":\"float64\",\"order\":\"little\"}],[215,{\"type\":\"ndarray\",\"array\":{\"type\":\"bytes\",\"data\":\"AAAAAFQ+LkAAAABAHm0eQA==\"},\"shape\":[2],\"dtype\":\"float64\",\"order\":\"little\"}],[216,{\"type\":\"ndarray\",\"array\":{\"type\":\"bytes\",\"data\":\"AAAAQE9fL0AAAADgcJcYQA==\"},\"shape\":[2],\"dtype\":\"float64\",\"order\":\"little\"}],[217,{\"type\":\"ndarray\",\"array\":{\"type\":\"bytes\",\"data\":\"AAAA4LhNKkAAAABgboMSQA==\"},\"shape\":[2],\"dtype\":\"float64\",\"order\":\"little\"}],[218,{\"type\":\"ndarray\",\"array\":{\"type\":\"bytes\",\"data\":\"AAAA4PgHLkAAAADg86ocQA==\"},\"shape\":[2],\"dtype\":\"float64\",\"order\":\"little\"}],[219,{\"type\":\"ndarray\",\"array\":{\"type\":\"bytes\",\"data\":\"AAAAwOhILkAAAABAeuATQA==\"},\"shape\":[2],\"dtype\":\"float64\",\"order\":\"little\"}],[220,{\"type\":\"ndarray\",\"array\":{\"type\":\"bytes\",\"data\":\"AAAAAKp+LkAAAABAZa0XQA==\"},\"shape\":[2],\"dtype\":\"float64\",\"order\":\"little\"}],[221,{\"type\":\"ndarray\",\"array\":{\"type\":\"bytes\",\"data\":\"AAAAQE/0K0AAAACARrsdQA==\"},\"shape\":[2],\"dtype\":\"float64\",\"order\":\"little\"}],[222,{\"type\":\"ndarray\",\"array\":{\"type\":\"bytes\",\"data\":\"AAAAYAxZLkAAAAAA2OUNQA==\"},\"shape\":[2],\"dtype\":\"float64\",\"order\":\"little\"}],[223,{\"type\":\"ndarray\",\"array\":{\"type\":\"bytes\",\"data\":\"AAAAYNyF0L8AAAAgeQr/vw==\"},\"shape\":[2],\"dtype\":\"float64\",\"order\":\"little\"}],[224,{\"type\":\"ndarray\",\"array\":{\"type\":\"bytes\",\"data\":\"AAAAIPSRL0AAAABguXAUQA==\"},\"shape\":[2],\"dtype\":\"float64\",\"order\":\"little\"}],[225,{\"type\":\"ndarray\",\"array\":{\"type\":\"bytes\",\"data\":\"AAAA4HUiKUAAAABAetYgQA==\"},\"shape\":[2],\"dtype\":\"float64\",\"order\":\"little\"}],[226,{\"type\":\"ndarray\",\"array\":{\"type\":\"bytes\",\"data\":\"AAAAIPtRKkAAAABAUBIgQA==\"},\"shape\":[2],\"dtype\":\"float64\",\"order\":\"little\"}],[227,{\"type\":\"ndarray\",\"array\":{\"type\":\"bytes\",\"data\":\"AAAAYOtNKkAAAABgQXAiQA==\"},\"shape\":[2],\"dtype\":\"float64\",\"order\":\"little\"}],[228,{\"type\":\"ndarray\",\"array\":{\"type\":\"bytes\",\"data\":\"AAAAYNb/KkAAAABgWdsGQA==\"},\"shape\":[2],\"dtype\":\"float64\",\"order\":\"little\"}],[229,{\"type\":\"ndarray\",\"array\":{\"type\":\"bytes\",\"data\":\"AAAAYFw2LEAAAABAJiEBQA==\"},\"shape\":[2],\"dtype\":\"float64\",\"order\":\"little\"}],[230,{\"type\":\"ndarray\",\"array\":{\"type\":\"bytes\",\"data\":\"AAAAoH2iK0AAAAAAHsMRQA==\"},\"shape\":[2],\"dtype\":\"float64\",\"order\":\"little\"}],[231,{\"type\":\"ndarray\",\"array\":{\"type\":\"bytes\",\"data\":\"AAAAoD4PE0AAAACAG4IhQA==\"},\"shape\":[2],\"dtype\":\"float64\",\"order\":\"little\"}],[232,{\"type\":\"ndarray\",\"array\":{\"type\":\"bytes\",\"data\":\"AAAAwAySK0AAAACASXEUQA==\"},\"shape\":[2],\"dtype\":\"float64\",\"order\":\"little\"}],[233,{\"type\":\"ndarray\",\"array\":{\"type\":\"bytes\",\"data\":\"AAAAACA7KUAAAACghZIfQA==\"},\"shape\":[2],\"dtype\":\"float64\",\"order\":\"little\"}],[234,{\"type\":\"ndarray\",\"array\":{\"type\":\"bytes\",\"data\":\"AAAAAL5e0b8AAACgt3z+vw==\"},\"shape\":[2],\"dtype\":\"float64\",\"order\":\"little\"}],[235,{\"type\":\"ndarray\",\"array\":{\"type\":\"bytes\",\"data\":\"AAAAwHyKK0AAAAAAfLAaQA==\"},\"shape\":[2],\"dtype\":\"float64\",\"order\":\"little\"}],[236,{\"type\":\"ndarray\",\"array\":{\"type\":\"bytes\",\"data\":\"AAAAYMrkLkAAAAAgsgcaQA==\"},\"shape\":[2],\"dtype\":\"float64\",\"order\":\"little\"}],[237,{\"type\":\"ndarray\",\"array\":{\"type\":\"bytes\",\"data\":\"AAAA4KD7LkAAAADgQQEcQA==\"},\"shape\":[2],\"dtype\":\"float64\",\"order\":\"little\"}],[238,{\"type\":\"ndarray\",\"array\":{\"type\":\"bytes\",\"data\":\"AAAAQNsPLkAAAAAA/cEaQA==\"},\"shape\":[2],\"dtype\":\"float64\",\"order\":\"little\"}],[239,{\"type\":\"ndarray\",\"array\":{\"type\":\"bytes\",\"data\":\"AAAAABFgLUAAAADARdQTQA==\"},\"shape\":[2],\"dtype\":\"float64\",\"order\":\"little\"}],[240,{\"type\":\"ndarray\",\"array\":{\"type\":\"bytes\",\"data\":\"AAAAYPwjLUAAAAAAo3IgQA==\"},\"shape\":[2],\"dtype\":\"float64\",\"order\":\"little\"}],[241,{\"type\":\"ndarray\",\"array\":{\"type\":\"bytes\",\"data\":\"AAAAwJqCLEAAAAAAfA0hQA==\"},\"shape\":[2],\"dtype\":\"float64\",\"order\":\"little\"}],[242,{\"type\":\"ndarray\",\"array\":{\"type\":\"bytes\",\"data\":\"AAAAQDozLEAAAADATrMPQA==\"},\"shape\":[2],\"dtype\":\"float64\",\"order\":\"little\"}],[243,{\"type\":\"ndarray\",\"array\":{\"type\":\"bytes\",\"data\":\"AAAAACS5LUAAAACgB9YVQA==\"},\"shape\":[2],\"dtype\":\"float64\",\"order\":\"little\"}],[244,{\"type\":\"ndarray\",\"array\":{\"type\":\"bytes\",\"data\":\"AAAAIHG+LkAAAABAEpkJQA==\"},\"shape\":[2],\"dtype\":\"float64\",\"order\":\"little\"}],[245,{\"type\":\"ndarray\",\"array\":{\"type\":\"bytes\",\"data\":\"AAAAoGMYK0AAAABAgW8WQA==\"},\"shape\":[2],\"dtype\":\"float64\",\"order\":\"little\"}],[246,{\"type\":\"ndarray\",\"array\":{\"type\":\"bytes\",\"data\":\"AAAA4PFrLUAAAABgS2sfQA==\"},\"shape\":[2],\"dtype\":\"float64\",\"order\":\"little\"}],[247,{\"type\":\"ndarray\",\"array\":{\"type\":\"bytes\",\"data\":\"AAAAwEJWL0AAAABg6bQOQA==\"},\"shape\":[2],\"dtype\":\"float64\",\"order\":\"little\"}],[248,{\"type\":\"ndarray\",\"array\":{\"type\":\"bytes\",\"data\":\"AAAAAMNiLUAAAAAA8y0OQA==\"},\"shape\":[2],\"dtype\":\"float64\",\"order\":\"little\"}],[249,{\"type\":\"ndarray\",\"array\":{\"type\":\"bytes\",\"data\":\"AAAAAHreLkAAAACAiMYSQA==\"},\"shape\":[2],\"dtype\":\"float64\",\"order\":\"little\"}],[250,{\"type\":\"ndarray\",\"array\":{\"type\":\"bytes\",\"data\":\"AAAA4ElWK0AAAADgdlkfQA==\"},\"shape\":[2],\"dtype\":\"float64\",\"order\":\"little\"}],[251,{\"type\":\"ndarray\",\"array\":{\"type\":\"bytes\",\"data\":\"AAAAANHOKUAAAADg0v0ZQA==\"},\"shape\":[2],\"dtype\":\"float64\",\"order\":\"little\"}],[252,{\"type\":\"ndarray\",\"array\":{\"type\":\"bytes\",\"data\":\"AAAAwP1MKkAAAADg85khQA==\"},\"shape\":[2],\"dtype\":\"float64\",\"order\":\"little\"}],[253,{\"type\":\"ndarray\",\"array\":{\"type\":\"bytes\",\"data\":\"AAAAYAHlLUAAAACAuZ8JQA==\"},\"shape\":[2],\"dtype\":\"float64\",\"order\":\"little\"}],[254,{\"type\":\"ndarray\",\"array\":{\"type\":\"bytes\",\"data\":\"AAAAgM7fLEAAAADA/D8RQA==\"},\"shape\":[2],\"dtype\":\"float64\",\"order\":\"little\"}],[255,{\"type\":\"ndarray\",\"array\":{\"type\":\"bytes\",\"data\":\"AAAAYJYvLUAAAACgry4HQA==\"},\"shape\":[2],\"dtype\":\"float64\",\"order\":\"little\"}],[256,{\"type\":\"ndarray\",\"array\":{\"type\":\"bytes\",\"data\":\"AAAAYDp3LUAAAAAgcQAEQA==\"},\"shape\":[2],\"dtype\":\"float64\",\"order\":\"little\"}],[257,{\"type\":\"ndarray\",\"array\":{\"type\":\"bytes\",\"data\":\"AAAA4Cy4KkAAAAAAh6EZQA==\"},\"shape\":[2],\"dtype\":\"float64\",\"order\":\"little\"}],[258,{\"type\":\"ndarray\",\"array\":{\"type\":\"bytes\",\"data\":\"AAAAYG6CK0AAAAAgxokLQA==\"},\"shape\":[2],\"dtype\":\"float64\",\"order\":\"little\"}],[259,{\"type\":\"ndarray\",\"array\":{\"type\":\"bytes\",\"data\":\"AAAAwBUoKkAAAACgcmoeQA==\"},\"shape\":[2],\"dtype\":\"float64\",\"order\":\"little\"}],[260,{\"type\":\"ndarray\",\"array\":{\"type\":\"bytes\",\"data\":\"AAAA4Dq8vD8AAABAtCcAwA==\"},\"shape\":[2],\"dtype\":\"float64\",\"order\":\"little\"}],[261,{\"type\":\"ndarray\",\"array\":{\"type\":\"bytes\",\"data\":\"AAAAgHE+zT8AAABAy60AwA==\"},\"shape\":[2],\"dtype\":\"float64\",\"order\":\"little\"}],[262,{\"type\":\"ndarray\",\"array\":{\"type\":\"bytes\",\"data\":\"AAAAAEpgmj8AAADAKj8BwA==\"},\"shape\":[2],\"dtype\":\"float64\",\"order\":\"little\"}],[263,{\"type\":\"ndarray\",\"array\":{\"type\":\"bytes\",\"data\":\"AAAAIKnCKkAAAADARcsgQA==\"},\"shape\":[2],\"dtype\":\"float64\",\"order\":\"little\"}],[264,{\"type\":\"ndarray\",\"array\":{\"type\":\"bytes\",\"data\":\"AAAAwO0yKUAAAAAAE58hQA==\"},\"shape\":[2],\"dtype\":\"float64\",\"order\":\"little\"}],[265,{\"type\":\"ndarray\",\"array\":{\"type\":\"bytes\",\"data\":\"AAAAYJpyKkAAAAAgtlkEQA==\"},\"shape\":[2],\"dtype\":\"float64\",\"order\":\"little\"}],[266,{\"type\":\"ndarray\",\"array\":{\"type\":\"bytes\",\"data\":\"AAAAoJj6IsAAAADAOP0dwA==\"},\"shape\":[2],\"dtype\":\"float64\",\"order\":\"little\"}],[267,{\"type\":\"ndarray\",\"array\":{\"type\":\"bytes\",\"data\":\"AAAAgOKgMMAAAABAi74jwA==\"},\"shape\":[2],\"dtype\":\"float64\",\"order\":\"little\"}],[268,{\"type\":\"ndarray\",\"array\":{\"type\":\"bytes\",\"data\":\"AAAAYICYLcAAAADgreIgwA==\"},\"shape\":[2],\"dtype\":\"float64\",\"order\":\"little\"}],[269,{\"type\":\"ndarray\",\"array\":{\"type\":\"bytes\",\"data\":\"AAAA4ArzKsAAAABg7dMhwA==\"},\"shape\":[2],\"dtype\":\"float64\",\"order\":\"little\"}],[270,{\"type\":\"ndarray\",\"array\":{\"type\":\"bytes\",\"data\":\"AAAA4KfGJ8AAAABgjzgqwA==\"},\"shape\":[2],\"dtype\":\"float64\",\"order\":\"little\"}],[271,{\"type\":\"ndarray\",\"array\":{\"type\":\"bytes\",\"data\":\"AAAAgLGTK8AAAADAs+MgwA==\"},\"shape\":[2],\"dtype\":\"float64\",\"order\":\"little\"}],[272,{\"type\":\"ndarray\",\"array\":{\"type\":\"bytes\",\"data\":\"AAAAgG8wHcAAAAAAzssbwA==\"},\"shape\":[2],\"dtype\":\"float64\",\"order\":\"little\"}],[273,{\"type\":\"ndarray\",\"array\":{\"type\":\"bytes\",\"data\":\"AAAAIKCnE8AAAADA2FXgPw==\"},\"shape\":[2],\"dtype\":\"float64\",\"order\":\"little\"}],[274,{\"type\":\"ndarray\",\"array\":{\"type\":\"bytes\",\"data\":\"AAAA4KghKMAAAAAAZAUswA==\"},\"shape\":[2],\"dtype\":\"float64\",\"order\":\"little\"}],[275,{\"type\":\"ndarray\",\"array\":{\"type\":\"bytes\",\"data\":\"AAAAIE+mLMAAAAAAq38owA==\"},\"shape\":[2],\"dtype\":\"float64\",\"order\":\"little\"}],[276,{\"type\":\"ndarray\",\"array\":{\"type\":\"bytes\",\"data\":\"AAAAYLd/LcAAAADA9gMcwA==\"},\"shape\":[2],\"dtype\":\"float64\",\"order\":\"little\"}],[277,{\"type\":\"ndarray\",\"array\":{\"type\":\"bytes\",\"data\":\"AAAA4HwtLcAAAADABkYkwA==\"},\"shape\":[2],\"dtype\":\"float64\",\"order\":\"little\"}],[278,{\"type\":\"ndarray\",\"array\":{\"type\":\"bytes\",\"data\":\"AAAAgBbhL8AAAACgCUwZwA==\"},\"shape\":[2],\"dtype\":\"float64\",\"order\":\"little\"}],[279,{\"type\":\"ndarray\",\"array\":{\"type\":\"bytes\",\"data\":\"AAAAAPOwL8AAAACgCIwgwA==\"},\"shape\":[2],\"dtype\":\"float64\",\"order\":\"little\"}],[280,{\"type\":\"ndarray\",\"array\":{\"type\":\"bytes\",\"data\":\"AAAAYNbvLsAAAACgmhEkwA==\"},\"shape\":[2],\"dtype\":\"float64\",\"order\":\"little\"}],[281,{\"type\":\"ndarray\",\"array\":{\"type\":\"bytes\",\"data\":\"AAAAYI2qLMAAAADAzyodwA==\"},\"shape\":[2],\"dtype\":\"float64\",\"order\":\"little\"}],[282,{\"type\":\"ndarray\",\"array\":{\"type\":\"bytes\",\"data\":\"AAAAQJtnKcAAAACAo8wswA==\"},\"shape\":[2],\"dtype\":\"float64\",\"order\":\"little\"}],[283,{\"type\":\"ndarray\",\"array\":{\"type\":\"bytes\",\"data\":\"AAAAQGQWLMAAAACA6EAnwA==\"},\"shape\":[2],\"dtype\":\"float64\",\"order\":\"little\"}],[284,{\"type\":\"ndarray\",\"array\":{\"type\":\"bytes\",\"data\":\"AAAAIPldKcAAAAAAecYlwA==\"},\"shape\":[2],\"dtype\":\"float64\",\"order\":\"little\"}],[285,{\"type\":\"ndarray\",\"array\":{\"type\":\"bytes\",\"data\":\"AAAAoPjbBsAAAACgsi0GwA==\"},\"shape\":[2],\"dtype\":\"float64\",\"order\":\"little\"}],[286,{\"type\":\"ndarray\",\"array\":{\"type\":\"bytes\",\"data\":\"AAAAgOSTLMAAAAAg4NEqwA==\"},\"shape\":[2],\"dtype\":\"float64\",\"order\":\"little\"}],[287,{\"type\":\"ndarray\",\"array\":{\"type\":\"bytes\",\"data\":\"AAAAoBqDKcAAAACA+gsowA==\"},\"shape\":[2],\"dtype\":\"float64\",\"order\":\"little\"}],[288,{\"type\":\"ndarray\",\"array\":{\"type\":\"bytes\",\"data\":\"AAAAAHvwL8AAAACgHxwbwA==\"},\"shape\":[2],\"dtype\":\"float64\",\"order\":\"little\"}],[289,{\"type\":\"ndarray\",\"array\":{\"type\":\"bytes\",\"data\":\"AAAAwNYkLsAAAACgtoApwA==\"},\"shape\":[2],\"dtype\":\"float64\",\"order\":\"little\"}],[290,{\"type\":\"ndarray\",\"array\":{\"type\":\"bytes\",\"data\":\"AAAAgMU1LMAAAACg1zIkwA==\"},\"shape\":[2],\"dtype\":\"float64\",\"order\":\"little\"}],[291,{\"type\":\"ndarray\",\"array\":{\"type\":\"bytes\",\"data\":\"AAAAYHeTLcAAAADAZoAowA==\"},\"shape\":[2],\"dtype\":\"float64\",\"order\":\"little\"}],[292,{\"type\":\"ndarray\",\"array\":{\"type\":\"bytes\",\"data\":\"AAAAACDcJcAAAACAl9MmwA==\"},\"shape\":[2],\"dtype\":\"float64\",\"order\":\"little\"}],[293,{\"type\":\"ndarray\",\"array\":{\"type\":\"bytes\",\"data\":\"AAAAoM1FKcAAAAAAy0EkwA==\"},\"shape\":[2],\"dtype\":\"float64\",\"order\":\"little\"}],[294,{\"type\":\"ndarray\",\"array\":{\"type\":\"bytes\",\"data\":\"AAAAwEbHLsAAAACgVswYwA==\"},\"shape\":[2],\"dtype\":\"float64\",\"order\":\"little\"}],[295,{\"type\":\"ndarray\",\"array\":{\"type\":\"bytes\",\"data\":\"AAAAANvAMMAAAACAjHkgwA==\"},\"shape\":[2],\"dtype\":\"float64\",\"order\":\"little\"}],[296,{\"type\":\"ndarray\",\"array\":{\"type\":\"bytes\",\"data\":\"AAAAQBy+MMAAAADAj0IiwA==\"},\"shape\":[2],\"dtype\":\"float64\",\"order\":\"little\"}],[297,{\"type\":\"ndarray\",\"array\":{\"type\":\"bytes\",\"data\":\"AAAAAFYGJMAAAACgDawrwA==\"},\"shape\":[2],\"dtype\":\"float64\",\"order\":\"little\"}],[298,{\"type\":\"ndarray\",\"array\":{\"type\":\"bytes\",\"data\":\"AAAAoJD5JcAAAAAAXcQtwA==\"},\"shape\":[2],\"dtype\":\"float64\",\"order\":\"little\"}],[299,{\"type\":\"ndarray\",\"array\":{\"type\":\"bytes\",\"data\":\"AAAAIBG8JMAAAAAA75YnwA==\"},\"shape\":[2],\"dtype\":\"float64\",\"order\":\"little\"}],[300,{\"type\":\"ndarray\",\"array\":{\"type\":\"bytes\",\"data\":\"AAAAwPiZG8AAAABAHVwbwA==\"},\"shape\":[2],\"dtype\":\"float64\",\"order\":\"little\"}],[301,{\"type\":\"ndarray\",\"array\":{\"type\":\"bytes\",\"data\":\"AAAAACCxKsAAAACg3dYqwA==\"},\"shape\":[2],\"dtype\":\"float64\",\"order\":\"little\"}],[302,{\"type\":\"ndarray\",\"array\":{\"type\":\"bytes\",\"data\":\"AAAAIPU0L8AAAADg7LkcwA==\"},\"shape\":[2],\"dtype\":\"float64\",\"order\":\"little\"}],[303,{\"type\":\"ndarray\",\"array\":{\"type\":\"bytes\",\"data\":\"AAAAgAiRJMAAAADgAN0twA==\"},\"shape\":[2],\"dtype\":\"float64\",\"order\":\"little\"}],[304,{\"type\":\"ndarray\",\"array\":{\"type\":\"bytes\",\"data\":\"AAAAwBxnLcAAAACgbIUmwA==\"},\"shape\":[2],\"dtype\":\"float64\",\"order\":\"little\"}],[305,{\"type\":\"ndarray\",\"array\":{\"type\":\"bytes\",\"data\":\"AAAAYEdBL8AAAABAIJkmwA==\"},\"shape\":[2],\"dtype\":\"float64\",\"order\":\"little\"}],[306,{\"type\":\"ndarray\",\"array\":{\"type\":\"bytes\",\"data\":\"AAAAwKyi4j8AAACAHQn0vw==\"},\"shape\":[2],\"dtype\":\"float64\",\"order\":\"little\"}],[307,{\"type\":\"ndarray\",\"array\":{\"type\":\"bytes\",\"data\":\"AAAAIMZ2IcAAAABgpxsqwA==\"},\"shape\":[2],\"dtype\":\"float64\",\"order\":\"little\"}],[308,{\"type\":\"ndarray\",\"array\":{\"type\":\"bytes\",\"data\":\"AAAAYIvqFsAAAABg3JT+Pw==\"},\"shape\":[2],\"dtype\":\"float64\",\"order\":\"little\"}],[309,{\"type\":\"ndarray\",\"array\":{\"type\":\"bytes\",\"data\":\"AAAA4Gq9LcAAAAAgwREawA==\"},\"shape\":[2],\"dtype\":\"float64\",\"order\":\"little\"}],[310,{\"type\":\"ndarray\",\"array\":{\"type\":\"bytes\",\"data\":\"AAAAQEWOKMAAAACA7QktwA==\"},\"shape\":[2],\"dtype\":\"float64\",\"order\":\"little\"}],[311,{\"type\":\"ndarray\",\"array\":{\"type\":\"bytes\",\"data\":\"AAAAoLKeJ8AAAAAAji0pwA==\"},\"shape\":[2],\"dtype\":\"float64\",\"order\":\"little\"}],[312,{\"type\":\"ndarray\",\"array\":{\"type\":\"bytes\",\"data\":\"AAAA4Pti/r8AAABALP8YwA==\"},\"shape\":[2],\"dtype\":\"float64\",\"order\":\"little\"}],[313,{\"type\":\"ndarray\",\"array\":{\"type\":\"bytes\",\"data\":\"AAAAwOqoKMAAAACgcpUpwA==\"},\"shape\":[2],\"dtype\":\"float64\",\"order\":\"little\"}],[314,{\"type\":\"ndarray\",\"array\":{\"type\":\"bytes\",\"data\":\"AAAAQKI8GMAAAAAAc4IAQA==\"},\"shape\":[2],\"dtype\":\"float64\",\"order\":\"little\"}],[315,{\"type\":\"ndarray\",\"array\":{\"type\":\"bytes\",\"data\":\"AAAAQCKpKsAAAAAA/o0owA==\"},\"shape\":[2],\"dtype\":\"float64\",\"order\":\"little\"}],[316,{\"type\":\"ndarray\",\"array\":{\"type\":\"bytes\",\"data\":\"AAAAINR/LsAAAABg0AAjwA==\"},\"shape\":[2],\"dtype\":\"float64\",\"order\":\"little\"}],[317,{\"type\":\"ndarray\",\"array\":{\"type\":\"bytes\",\"data\":\"AAAAgF2dK8AAAADgWfAkwA==\"},\"shape\":[2],\"dtype\":\"float64\",\"order\":\"little\"}],[318,{\"type\":\"ndarray\",\"array\":{\"type\":\"bytes\",\"data\":\"AAAAoHHYKcAAAADgoe4iwA==\"},\"shape\":[2],\"dtype\":\"float64\",\"order\":\"little\"}],[319,{\"type\":\"ndarray\",\"array\":{\"type\":\"bytes\",\"data\":\"AAAAgG5GMMAAAABgEGAjwA==\"},\"shape\":[2],\"dtype\":\"float64\",\"order\":\"little\"}],[320,{\"type\":\"ndarray\",\"array\":{\"type\":\"bytes\",\"data\":\"AAAAgOsPHMAAAADgTXEiwA==\"},\"shape\":[2],\"dtype\":\"float64\",\"order\":\"little\"}],[321,{\"type\":\"ndarray\",\"array\":{\"type\":\"bytes\",\"data\":\"AAAAgN1B5D8AAADAU87yvw==\"},\"shape\":[2],\"dtype\":\"float64\",\"order\":\"little\"}],[322,{\"type\":\"ndarray\",\"array\":{\"type\":\"bytes\",\"data\":\"AAAAYDRSLsAAAACgS5kdwA==\"},\"shape\":[2],\"dtype\":\"float64\",\"order\":\"little\"}],[323,{\"type\":\"ndarray\",\"array\":{\"type\":\"bytes\",\"data\":\"AAAAILkKF8AAAADA2yYBQA==\"},\"shape\":[2],\"dtype\":\"float64\",\"order\":\"little\"}],[324,{\"type\":\"ndarray\",\"array\":{\"type\":\"bytes\",\"data\":\"AAAAIJlQJMAAAAAAms0swA==\"},\"shape\":[2],\"dtype\":\"float64\",\"order\":\"little\"}],[325,{\"type\":\"ndarray\",\"array\":{\"type\":\"bytes\",\"data\":\"AAAAwM+CLsAAAADg1RwgwA==\"},\"shape\":[2],\"dtype\":\"float64\",\"order\":\"little\"}],[326,{\"type\":\"ndarray\",\"array\":{\"type\":\"bytes\",\"data\":\"AAAAgDaCKcAAAACAWxoqwA==\"},\"shape\":[2],\"dtype\":\"float64\",\"order\":\"little\"}],[327,{\"type\":\"ndarray\",\"array\":{\"type\":\"bytes\",\"data\":\"AAAAwP/7K8AAAAAgEiofwA==\"},\"shape\":[2],\"dtype\":\"float64\",\"order\":\"little\"}],[328,{\"type\":\"ndarray\",\"array\":{\"type\":\"bytes\",\"data\":\"AAAAQP3GIMAAAADAzs74vw==\"},\"shape\":[2],\"dtype\":\"float64\",\"order\":\"little\"}],[329,{\"type\":\"ndarray\",\"array\":{\"type\":\"bytes\",\"data\":\"AAAAwMHNKcAAAABAwAMrwA==\"},\"shape\":[2],\"dtype\":\"float64\",\"order\":\"little\"}],[330,{\"type\":\"ndarray\",\"array\":{\"type\":\"bytes\",\"data\":\"AAAAYDbI6z8AAACAOmwLwA==\"},\"shape\":[2],\"dtype\":\"float64\",\"order\":\"little\"}],[331,{\"type\":\"ndarray\",\"array\":{\"type\":\"bytes\",\"data\":\"AAAAoMVLHsAAAADgedMbwA==\"},\"shape\":[2],\"dtype\":\"float64\",\"order\":\"little\"}],[332,{\"type\":\"ndarray\",\"array\":{\"type\":\"bytes\",\"data\":\"AAAA4AXaHMAAAABgWJscwA==\"},\"shape\":[2],\"dtype\":\"float64\",\"order\":\"little\"}],[333,{\"type\":\"ndarray\",\"array\":{\"type\":\"bytes\",\"data\":\"AAAAgNNMI8AAAAAARH8owA==\"},\"shape\":[2],\"dtype\":\"float64\",\"order\":\"little\"}],[334,{\"type\":\"ndarray\",\"array\":{\"type\":\"bytes\",\"data\":\"AAAA4DLNLsAAAABA4CUhwA==\"},\"shape\":[2],\"dtype\":\"float64\",\"order\":\"little\"}],[335,{\"type\":\"ndarray\",\"array\":{\"type\":\"bytes\",\"data\":\"AAAAANjTJcAAAACAW7gswA==\"},\"shape\":[2],\"dtype\":\"float64\",\"order\":\"little\"}],[336,{\"type\":\"ndarray\",\"array\":{\"type\":\"bytes\",\"data\":\"AAAAYJXdLcAAAADg4bkjwA==\"},\"shape\":[2],\"dtype\":\"float64\",\"order\":\"little\"}],[337,{\"type\":\"ndarray\",\"array\":{\"type\":\"bytes\",\"data\":\"AAAAYMdNLsAAAAAgybQmwA==\"},\"shape\":[2],\"dtype\":\"float64\",\"order\":\"little\"}],[338,{\"type\":\"ndarray\",\"array\":{\"type\":\"bytes\",\"data\":\"AAAAANVRLcAAAAAAQk8qwA==\"},\"shape\":[2],\"dtype\":\"float64\",\"order\":\"little\"}],[339,{\"type\":\"ndarray\",\"array\":{\"type\":\"bytes\",\"data\":\"AAAAoEmVLcAAAACAKjwlwA==\"},\"shape\":[2],\"dtype\":\"float64\",\"order\":\"little\"}],[340,{\"type\":\"ndarray\",\"array\":{\"type\":\"bytes\",\"data\":\"AAAAoJ2bJMAAAACgYssqwA==\"},\"shape\":[2],\"dtype\":\"float64\",\"order\":\"little\"}],[341,{\"type\":\"ndarray\",\"array\":{\"type\":\"bytes\",\"data\":\"AAAAYMotK8AAAABgJIcmwA==\"},\"shape\":[2],\"dtype\":\"float64\",\"order\":\"little\"}],[342,{\"type\":\"ndarray\",\"array\":{\"type\":\"bytes\",\"data\":\"AAAAoPZ8K8AAAACAS+0iwA==\"},\"shape\":[2],\"dtype\":\"float64\",\"order\":\"little\"}],[343,{\"type\":\"ndarray\",\"array\":{\"type\":\"bytes\",\"data\":\"AAAAID6aLsAAAABgaN8kwA==\"},\"shape\":[2],\"dtype\":\"float64\",\"order\":\"little\"}],[344,{\"type\":\"ndarray\",\"array\":{\"type\":\"bytes\",\"data\":\"AAAAgFQ5JcAAAABgRwwqwA==\"},\"shape\":[2],\"dtype\":\"float64\",\"order\":\"little\"}],[345,{\"type\":\"ndarray\",\"array\":{\"type\":\"bytes\",\"data\":\"AAAAIK7lK8AAAACgNWQrwA==\"},\"shape\":[2],\"dtype\":\"float64\",\"order\":\"little\"}],[346,{\"type\":\"ndarray\",\"array\":{\"type\":\"bytes\",\"data\":\"AAAAYKsgK8AAAACg6qwrwA==\"},\"shape\":[2],\"dtype\":\"float64\",\"order\":\"little\"}],[347,{\"type\":\"ndarray\",\"array\":{\"type\":\"bytes\",\"data\":\"AAAAIOKPKsAAAACAJFAswA==\"},\"shape\":[2],\"dtype\":\"float64\",\"order\":\"little\"}],[348,{\"type\":\"ndarray\",\"array\":{\"type\":\"bytes\",\"data\":\"AAAAoDX/LMAAAAAAGWEnwA==\"},\"shape\":[2],\"dtype\":\"float64\",\"order\":\"little\"}],[349,{\"type\":\"ndarray\",\"array\":{\"type\":\"bytes\",\"data\":\"AAAAoD2+JMAAAACAJqoowA==\"},\"shape\":[2],\"dtype\":\"float64\",\"order\":\"little\"}],[350,{\"type\":\"ndarray\",\"array\":{\"type\":\"bytes\",\"data\":\"AAAA4KhUMMAAAACA+30iwA==\"},\"shape\":[2],\"dtype\":\"float64\",\"order\":\"little\"}],[351,{\"type\":\"ndarray\",\"array\":{\"type\":\"bytes\",\"data\":\"AAAAgJ+GLsAAAADgT8QlwA==\"},\"shape\":[2],\"dtype\":\"float64\",\"order\":\"little\"}],[352,{\"type\":\"ndarray\",\"array\":{\"type\":\"bytes\",\"data\":\"AAAA4GjHK8AAAACgOlsowA==\"},\"shape\":[2],\"dtype\":\"float64\",\"order\":\"little\"}],[353,{\"type\":\"ndarray\",\"array\":{\"type\":\"bytes\",\"data\":\"AAAA4Mr+LcAAAADg2cQnwA==\"},\"shape\":[2],\"dtype\":\"float64\",\"order\":\"little\"}],[354,{\"type\":\"ndarray\",\"array\":{\"type\":\"bytes\",\"data\":\"AAAAIKZEMMAAAADAXLslwA==\"},\"shape\":[2],\"dtype\":\"float64\",\"order\":\"little\"}],[355,{\"type\":\"ndarray\",\"array\":{\"type\":\"bytes\",\"data\":\"AAAA4FjP+78AAACAiAAawA==\"},\"shape\":[2],\"dtype\":\"float64\",\"order\":\"little\"}],[356,{\"type\":\"ndarray\",\"array\":{\"type\":\"bytes\",\"data\":\"AAAAAPmJMMAAAABAhmohwA==\"},\"shape\":[2],\"dtype\":\"float64\",\"order\":\"little\"}],[357,{\"type\":\"ndarray\",\"array\":{\"type\":\"bytes\",\"data\":\"AAAAYIOZIcAAAADA8wMtwA==\"},\"shape\":[2],\"dtype\":\"float64\",\"order\":\"little\"}],[358,{\"type\":\"ndarray\",\"array\":{\"type\":\"bytes\",\"data\":\"AAAAwHZoMMAAAADA/bkkwA==\"},\"shape\":[2],\"dtype\":\"float64\",\"order\":\"little\"}],[359,{\"type\":\"ndarray\",\"array\":{\"type\":\"bytes\",\"data\":\"AAAAwJKzLsAAAADAubUowA==\"},\"shape\":[2],\"dtype\":\"float64\",\"order\":\"little\"}],[360,{\"type\":\"ndarray\",\"array\":{\"type\":\"bytes\",\"data\":\"AAAAAHZ+LMAAAAAAlbkhwA==\"},\"shape\":[2],\"dtype\":\"float64\",\"order\":\"little\"}],[361,{\"type\":\"ndarray\",\"array\":{\"type\":\"bytes\",\"data\":\"AAAAoFp0IsAAAADAA/MswA==\"},\"shape\":[2],\"dtype\":\"float64\",\"order\":\"little\"}],[362,{\"type\":\"ndarray\",\"array\":{\"type\":\"bytes\",\"data\":\"AAAAYM+7LMAAAAAg314gwA==\"},\"shape\":[2],\"dtype\":\"float64\",\"order\":\"little\"}],[363,{\"type\":\"ndarray\",\"array\":{\"type\":\"bytes\",\"data\":\"AAAAQCzqKMAAAAAgRLMmwA==\"},\"shape\":[2],\"dtype\":\"float64\",\"order\":\"little\"}],[364,{\"type\":\"ndarray\",\"array\":{\"type\":\"bytes\",\"data\":\"AAAAoCRUL8AAAADgFPcewA==\"},\"shape\":[2],\"dtype\":\"float64\",\"order\":\"little\"}],[365,{\"type\":\"ndarray\",\"array\":{\"type\":\"bytes\",\"data\":\"AAAAwKxgLMAAAACAPrQpwA==\"},\"shape\":[2],\"dtype\":\"float64\",\"order\":\"little\"}],[366,{\"type\":\"ndarray\",\"array\":{\"type\":\"bytes\",\"data\":\"AAAAgNFALcAAAABAB2EpwA==\"},\"shape\":[2],\"dtype\":\"float64\",\"order\":\"little\"}],[367,{\"type\":\"ndarray\",\"array\":{\"type\":\"bytes\",\"data\":\"AAAAQOuELMAAAADA6wAjwA==\"},\"shape\":[2],\"dtype\":\"float64\",\"order\":\"little\"}],[368,{\"type\":\"ndarray\",\"array\":{\"type\":\"bytes\",\"data\":\"AAAAoBQGJMAAAABA91QpwA==\"},\"shape\":[2],\"dtype\":\"float64\",\"order\":\"little\"}],[369,{\"type\":\"ndarray\",\"array\":{\"type\":\"bytes\",\"data\":\"AAAAwKOzKMAAAAAAMIIowA==\"},\"shape\":[2],\"dtype\":\"float64\",\"order\":\"little\"}],[370,{\"type\":\"ndarray\",\"array\":{\"type\":\"bytes\",\"data\":\"AAAAoP4OLsAAAADAa9ohwA==\"},\"shape\":[2],\"dtype\":\"float64\",\"order\":\"little\"}],[371,{\"type\":\"ndarray\",\"array\":{\"type\":\"bytes\",\"data\":\"AAAAwNh3HcAAAAAg6DwiwA==\"},\"shape\":[2],\"dtype\":\"float64\",\"order\":\"little\"}],[372,{\"type\":\"ndarray\",\"array\":{\"type\":\"bytes\",\"data\":\"AAAAoOniL8AAAACgr8skwA==\"},\"shape\":[2],\"dtype\":\"float64\",\"order\":\"little\"}],[373,{\"type\":\"ndarray\",\"array\":{\"type\":\"bytes\",\"data\":\"AAAAQLgiI8AAAAAAzK4twA==\"},\"shape\":[2],\"dtype\":\"float64\",\"order\":\"little\"}],[374,{\"type\":\"ndarray\",\"array\":{\"type\":\"bytes\",\"data\":\"AAAAoNmbL8AAAAAAh6olwA==\"},\"shape\":[2],\"dtype\":\"float64\",\"order\":\"little\"}],[375,{\"type\":\"ndarray\",\"array\":{\"type\":\"bytes\",\"data\":\"AAAAIAakK8AAAADAk2QqwA==\"},\"shape\":[2],\"dtype\":\"float64\",\"order\":\"little\"}],[376,{\"type\":\"ndarray\",\"array\":{\"type\":\"bytes\",\"data\":\"AAAAoBUnMMAAAADAuSodwA==\"},\"shape\":[2],\"dtype\":\"float64\",\"order\":\"little\"}],[377,{\"type\":\"ndarray\",\"array\":{\"type\":\"bytes\",\"data\":\"AAAAoDD8JMAAAACACfwrwA==\"},\"shape\":[2],\"dtype\":\"float64\",\"order\":\"little\"}],[378,{\"type\":\"ndarray\",\"array\":{\"type\":\"bytes\",\"data\":\"AAAAQHJKJsAAAADgNloqwA==\"},\"shape\":[2],\"dtype\":\"float64\",\"order\":\"little\"}],[379,{\"type\":\"ndarray\",\"array\":{\"type\":\"bytes\",\"data\":\"AAAAQBvgL8AAAACAotojwA==\"},\"shape\":[2],\"dtype\":\"float64\",\"order\":\"little\"}],[380,{\"type\":\"ndarray\",\"array\":{\"type\":\"bytes\",\"data\":\"AAAAYI8CK8AAAADAupQnwA==\"},\"shape\":[2],\"dtype\":\"float64\",\"order\":\"little\"}],[381,{\"type\":\"ndarray\",\"array\":{\"type\":\"bytes\",\"data\":\"AAAAQFq3JsAAAACg2F8rwA==\"},\"shape\":[2],\"dtype\":\"float64\",\"order\":\"little\"}],[382,{\"type\":\"ndarray\",\"array\":{\"type\":\"bytes\",\"data\":\"AAAAIN2OLcAAAAAg8PMewA==\"},\"shape\":[2],\"dtype\":\"float64\",\"order\":\"little\"}],[383,{\"type\":\"ndarray\",\"array\":{\"type\":\"bytes\",\"data\":\"AAAAgJroIsAAAACgMBoswA==\"},\"shape\":[2],\"dtype\":\"float64\",\"order\":\"little\"}],[384,{\"type\":\"ndarray\",\"array\":{\"type\":\"bytes\",\"data\":\"AAAAwIISMMAAAABAzYchwA==\"},\"shape\":[2],\"dtype\":\"float64\",\"order\":\"little\"}],[385,{\"type\":\"ndarray\",\"array\":{\"type\":\"bytes\",\"data\":\"AAAAQKLLKcAAAAAAe/orwA==\"},\"shape\":[2],\"dtype\":\"float64\",\"order\":\"little\"}],[386,{\"type\":\"ndarray\",\"array\":{\"type\":\"bytes\",\"data\":\"AAAAIBKEL8AAAAAg+uIiwA==\"},\"shape\":[2],\"dtype\":\"float64\",\"order\":\"little\"}],[387,{\"type\":\"ndarray\",\"array\":{\"type\":\"bytes\",\"data\":\"AAAAoJWgMMAAAAAAsnkewA==\"},\"shape\":[2],\"dtype\":\"float64\",\"order\":\"little\"}],[388,{\"type\":\"ndarray\",\"array\":{\"type\":\"bytes\",\"data\":\"AAAAQLOrJcAAAADA0UcrwA==\"},\"shape\":[2],\"dtype\":\"float64\",\"order\":\"little\"}],[389,{\"type\":\"ndarray\",\"array\":{\"type\":\"bytes\",\"data\":\"AAAAoJq5KsAAAACAHKIjwA==\"},\"shape\":[2],\"dtype\":\"float64\",\"order\":\"little\"}],[390,{\"type\":\"ndarray\",\"array\":{\"type\":\"bytes\",\"data\":\"AAAAoJ5sLcAAAAAg9I0iwA==\"},\"shape\":[2],\"dtype\":\"float64\",\"order\":\"little\"}],[391,{\"type\":\"ndarray\",\"array\":{\"type\":\"bytes\",\"data\":\"AAAAICOBJ8AAAAAgxM4lwA==\"},\"shape\":[2],\"dtype\":\"float64\",\"order\":\"little\"}],[392,{\"type\":\"ndarray\",\"array\":{\"type\":\"bytes\",\"data\":\"AAAAAPhZL8AAAADgtf4hwA==\"},\"shape\":[2],\"dtype\":\"float64\",\"order\":\"little\"}],[393,{\"type\":\"ndarray\",\"array\":{\"type\":\"bytes\",\"data\":\"AAAA4NbTLsAAAABAwpwnwA==\"},\"shape\":[2],\"dtype\":\"float64\",\"order\":\"little\"}],[394,{\"type\":\"ndarray\",\"array\":{\"type\":\"bytes\",\"data\":\"AAAA4FtwMMAAAACAQcQbwA==\"},\"shape\":[2],\"dtype\":\"float64\",\"order\":\"little\"}],[395,{\"type\":\"ndarray\",\"array\":{\"type\":\"bytes\",\"data\":\"AAAA4AELMMAAAACAo78mwA==\"},\"shape\":[2],\"dtype\":\"float64\",\"order\":\"little\"}],[396,{\"type\":\"ndarray\",\"array\":{\"type\":\"bytes\",\"data\":\"AAAAQKPzJsAAAADg7+AmwA==\"},\"shape\":[2],\"dtype\":\"float64\",\"order\":\"little\"}],[397,{\"type\":\"ndarray\",\"array\":{\"type\":\"bytes\",\"data\":\"AAAAoM6xJsAAAAAgzV0pwA==\"},\"shape\":[2],\"dtype\":\"float64\",\"order\":\"little\"}],[398,{\"type\":\"ndarray\",\"array\":{\"type\":\"bytes\",\"data\":\"AAAAoGYnI8AAAACAHSwrwA==\"},\"shape\":[2],\"dtype\":\"float64\",\"order\":\"little\"}],[399,{\"type\":\"ndarray\",\"array\":{\"type\":\"bytes\",\"data\":\"AAAAQB0hJcAAAAAgZTktwA==\"},\"shape\":[2],\"dtype\":\"float64\",\"order\":\"little\"}],[400,{\"type\":\"ndarray\",\"array\":{\"type\":\"bytes\",\"data\":\"AAAAwEuuKsAAAAAg5twpwA==\"},\"shape\":[2],\"dtype\":\"float64\",\"order\":\"little\"}],[401,{\"type\":\"ndarray\",\"array\":{\"type\":\"bytes\",\"data\":\"AAAAgC58JsAAAABguEIswA==\"},\"shape\":[2],\"dtype\":\"float64\",\"order\":\"little\"}],[402,{\"type\":\"ndarray\",\"array\":{\"type\":\"bytes\",\"data\":\"AAAAALK3J8AAAAAAR2stwA==\"},\"shape\":[2],\"dtype\":\"float64\",\"order\":\"little\"}],[403,{\"type\":\"ndarray\",\"array\":{\"type\":\"bytes\",\"data\":\"AAAAILJHIsAAAABg2zwpwA==\"},\"shape\":[2],\"dtype\":\"float64\",\"order\":\"little\"}],[404,{\"type\":\"ndarray\",\"array\":{\"type\":\"bytes\",\"data\":\"AAAAQDWMKsAAAACAaK8kwA==\"},\"shape\":[2],\"dtype\":\"float64\",\"order\":\"little\"}],[405,{\"type\":\"ndarray\",\"array\":{\"type\":\"bytes\",\"data\":\"AAAAoO94J8AAAAAA0hQrwA==\"},\"shape\":[2],\"dtype\":\"float64\",\"order\":\"little\"}],[406,{\"type\":\"ndarray\",\"array\":{\"type\":\"bytes\",\"data\":\"AAAAwK1HJsAAAABg/gcowA==\"},\"shape\":[2],\"dtype\":\"float64\",\"order\":\"little\"}],[407,{\"type\":\"ndarray\",\"array\":{\"type\":\"bytes\",\"data\":\"AAAA4JlsJ8AAAADAdHoswA==\"},\"shape\":[2],\"dtype\":\"float64\",\"order\":\"little\"}],[408,{\"type\":\"ndarray\",\"array\":{\"type\":\"bytes\",\"data\":\"AAAAoDelIMAAAAAAie0rwA==\"},\"shape\":[2],\"dtype\":\"float64\",\"order\":\"little\"}],[409,{\"type\":\"ndarray\",\"array\":{\"type\":\"bytes\",\"data\":\"AAAAAHAHIsAAAAAA2UorwA==\"},\"shape\":[2],\"dtype\":\"float64\",\"order\":\"little\"}],[410,{\"type\":\"ndarray\",\"array\":{\"type\":\"bytes\",\"data\":\"AAAAoO2AIcAAAAAAtBwswA==\"},\"shape\":[2],\"dtype\":\"float64\",\"order\":\"little\"}],[411,{\"type\":\"ndarray\",\"array\":{\"type\":\"bytes\",\"data\":\"AAAAIPulKMAAAABgC9AqwA==\"},\"shape\":[2],\"dtype\":\"float64\",\"order\":\"little\"}],[412,{\"type\":\"ndarray\",\"array\":{\"type\":\"bytes\",\"data\":\"AAAAwObqKMAAAABgWb0rwA==\"},\"shape\":[2],\"dtype\":\"float64\",\"order\":\"little\"}],[413,{\"type\":\"ndarray\",\"array\":{\"type\":\"bytes\",\"data\":\"AAAAQEjKLMAAAABgGrolwA==\"},\"shape\":[2],\"dtype\":\"float64\",\"order\":\"little\"}],[414,{\"type\":\"ndarray\",\"array\":{\"type\":\"bytes\",\"data\":\"AAAAQMC2JcAAAACg+gIpwA==\"},\"shape\":[2],\"dtype\":\"float64\",\"order\":\"little\"}],[415,{\"type\":\"ndarray\",\"array\":{\"type\":\"bytes\",\"data\":\"AAAAQFjRJsAAAADgE2UtwA==\"},\"shape\":[2],\"dtype\":\"float64\",\"order\":\"little\"}],[416,{\"type\":\"ndarray\",\"array\":{\"type\":\"bytes\",\"data\":\"AAAAQEhlKsAAAABAjs0lwA==\"},\"shape\":[2],\"dtype\":\"float64\",\"order\":\"little\"}],[417,{\"type\":\"ndarray\",\"array\":{\"type\":\"bytes\",\"data\":\"AAAAIKZ8K8AAAABgOk8pwA==\"},\"shape\":[2],\"dtype\":\"float64\",\"order\":\"little\"}],[418,{\"type\":\"ndarray\",\"array\":{\"type\":\"bytes\",\"data\":\"AAAAAOHfIMAAAACAuekqwA==\"},\"shape\":[2],\"dtype\":\"float64\",\"order\":\"little\"}],[419,{\"type\":\"ndarray\",\"array\":{\"type\":\"bytes\",\"data\":\"AAAAgGLzK8AAAAAgq/4lwA==\"},\"shape\":[2],\"dtype\":\"float64\",\"order\":\"little\"}],[420,{\"type\":\"ndarray\",\"array\":{\"type\":\"bytes\",\"data\":\"AAAAQFMJKsAAAACg1ycnwA==\"},\"shape\":[2],\"dtype\":\"float64\",\"order\":\"little\"}],[421,{\"type\":\"ndarray\",\"array\":{\"type\":\"bytes\",\"data\":\"AAAAQECdI8AAAADAAjQqwA==\"},\"shape\":[2],\"dtype\":\"float64\",\"order\":\"little\"}],[422,{\"type\":\"ndarray\",\"array\":{\"type\":\"bytes\",\"data\":\"AAAA4E+QIsAAAABgSEAqwA==\"},\"shape\":[2],\"dtype\":\"float64\",\"order\":\"little\"}],[423,{\"type\":\"ndarray\",\"array\":{\"type\":\"bytes\",\"data\":\"AAAAgE8oKMAAAADALjknwA==\"},\"shape\":[2],\"dtype\":\"float64\",\"order\":\"little\"}],[424,{\"type\":\"ndarray\",\"array\":{\"type\":\"bytes\",\"data\":\"AAAAgA9VMMAAAABAhWYgwA==\"},\"shape\":[2],\"dtype\":\"float64\",\"order\":\"little\"}],[425,{\"type\":\"ndarray\",\"array\":{\"type\":\"bytes\",\"data\":\"AAAAQDTMLsAAAADAAdAawA==\"},\"shape\":[2],\"dtype\":\"float64\",\"order\":\"little\"}],[426,{\"type\":\"ndarray\",\"array\":{\"type\":\"bytes\",\"data\":\"AAAAYFqNI8AAAAAgq+8swA==\"},\"shape\":[2],\"dtype\":\"float64\",\"order\":\"little\"}],[427,{\"type\":\"ndarray\",\"array\":{\"type\":\"bytes\",\"data\":\"AAAA4K7jKcAAAAAAYikpwA==\"},\"shape\":[2],\"dtype\":\"float64\",\"order\":\"little\"}],[428,{\"type\":\"ndarray\",\"array\":{\"type\":\"bytes\",\"data\":\"AAAAQIpfKMAAAADAHwYlwA==\"},\"shape\":[2],\"dtype\":\"float64\",\"order\":\"little\"}],[429,{\"type\":\"ndarray\",\"array\":{\"type\":\"bytes\",\"data\":\"AAAAIGmHJ8AAAAAgGxYowA==\"},\"shape\":[2],\"dtype\":\"float64\",\"order\":\"little\"}],[430,{\"type\":\"ndarray\",\"array\":{\"type\":\"bytes\",\"data\":\"AAAA4JwuMMAAAABglP4ewA==\"},\"shape\":[2],\"dtype\":\"float64\",\"order\":\"little\"}],[431,{\"type\":\"ndarray\",\"array\":{\"type\":\"bytes\",\"data\":\"AAAAoFWPL8AAAABASdEnwA==\"},\"shape\":[2],\"dtype\":\"float64\",\"order\":\"little\"}],[432,{\"type\":\"ndarray\",\"array\":{\"type\":\"bytes\",\"data\":\"AAAAgMozCsAAAACAb7oXwA==\"},\"shape\":[2],\"dtype\":\"float64\",\"order\":\"little\"}],[433,{\"type\":\"ndarray\",\"array\":{\"type\":\"bytes\",\"data\":\"AAAAIMWeEsAAAAAgom0RwA==\"},\"shape\":[2],\"dtype\":\"float64\",\"order\":\"little\"}],[434,{\"type\":\"ndarray\",\"array\":{\"type\":\"bytes\",\"data\":\"AAAAQDMQAkAAAACAa2cDwA==\"},\"shape\":[2],\"dtype\":\"float64\",\"order\":\"little\"}],[435,{\"type\":\"ndarray\",\"array\":{\"type\":\"bytes\",\"data\":\"AAAAYPkSCsAAAAAgJpkjwA==\"},\"shape\":[2],\"dtype\":\"float64\",\"order\":\"little\"}],[436,{\"type\":\"ndarray\",\"array\":{\"type\":\"bytes\",\"data\":\"AAAAAKy4FMAAAACgGiwSwA==\"},\"shape\":[2],\"dtype\":\"float64\",\"order\":\"little\"}],[437,{\"type\":\"ndarray\",\"array\":{\"type\":\"bytes\",\"data\":\"AAAAAJdcE8AAAABAK2jtvw==\"},\"shape\":[2],\"dtype\":\"float64\",\"order\":\"little\"}],[438,{\"type\":\"ndarray\",\"array\":{\"type\":\"bytes\",\"data\":\"AAAAQORo+T8AAAAAPzHhvw==\"},\"shape\":[2],\"dtype\":\"float64\",\"order\":\"little\"}],[439,{\"type\":\"ndarray\",\"array\":{\"type\":\"bytes\",\"data\":\"AAAA4DKC9T8AAADAHCrUvw==\"},\"shape\":[2],\"dtype\":\"float64\",\"order\":\"little\"}],[440,{\"type\":\"ndarray\",\"array\":{\"type\":\"bytes\",\"data\":\"AAAAgBsBGsAAAACAby8VwA==\"},\"shape\":[2],\"dtype\":\"float64\",\"order\":\"little\"}],[441,{\"type\":\"ndarray\",\"array\":{\"type\":\"bytes\",\"data\":\"AAAAIHHDn78AAACArXbsvw==\"},\"shape\":[2],\"dtype\":\"float64\",\"order\":\"little\"}],[442,{\"type\":\"ndarray\",\"array\":{\"type\":\"bytes\",\"data\":\"AAAAYDTaFMAAAABARZknwA==\"},\"shape\":[2],\"dtype\":\"float64\",\"order\":\"little\"}],[443,{\"type\":\"ndarray\",\"array\":{\"type\":\"bytes\",\"data\":\"AAAAwLci6r8AAACg+ZMOwA==\"},\"shape\":[2],\"dtype\":\"float64\",\"order\":\"little\"}],[444,{\"type\":\"ndarray\",\"array\":{\"type\":\"bytes\",\"data\":\"AAAAoKpdIMAAAABA4lAZwA==\"},\"shape\":[2],\"dtype\":\"float64\",\"order\":\"little\"}],[445,{\"type\":\"ndarray\",\"array\":{\"type\":\"bytes\",\"data\":\"AAAAANcZ/78AAADglwYmwA==\"},\"shape\":[2],\"dtype\":\"float64\",\"order\":\"little\"}],[446,{\"type\":\"ndarray\",\"array\":{\"type\":\"bytes\",\"data\":\"AAAAgIy7BsAAAABgkUomwA==\"},\"shape\":[2],\"dtype\":\"float64\",\"order\":\"little\"}],[447,{\"type\":\"ndarray\",\"array\":{\"type\":\"bytes\",\"data\":\"AAAA4NCwC8AAAAAAOj0AQA==\"},\"shape\":[2],\"dtype\":\"float64\",\"order\":\"little\"}],[448,{\"type\":\"ndarray\",\"array\":{\"type\":\"bytes\",\"data\":\"AAAAoK2CEsAAAACgVjckwA==\"},\"shape\":[2],\"dtype\":\"float64\",\"order\":\"little\"}],[449,{\"type\":\"ndarray\",\"array\":{\"type\":\"bytes\",\"data\":\"AAAAoPi9G8AAAADgYBgVwA==\"},\"shape\":[2],\"dtype\":\"float64\",\"order\":\"little\"}],[450,{\"type\":\"ndarray\",\"array\":{\"type\":\"bytes\",\"data\":\"AAAAoJaLGcAAAACgVMwIwA==\"},\"shape\":[2],\"dtype\":\"float64\",\"order\":\"little\"}],[451,{\"type\":\"ndarray\",\"array\":{\"type\":\"bytes\",\"data\":\"AAAAoJYHD8AAAADggCwDQA==\"},\"shape\":[2],\"dtype\":\"float64\",\"order\":\"little\"}],[452,{\"type\":\"ndarray\",\"array\":{\"type\":\"bytes\",\"data\":\"AAAAQLsp4L8AAADgtm0lwA==\"},\"shape\":[2],\"dtype\":\"float64\",\"order\":\"little\"}],[453,{\"type\":\"ndarray\",\"array\":{\"type\":\"bytes\",\"data\":\"AAAAYJQ7IcAAAADgyUITwA==\"},\"shape\":[2],\"dtype\":\"float64\",\"order\":\"little\"}],[454,{\"type\":\"ndarray\",\"array\":{\"type\":\"bytes\",\"data\":\"AAAAgF6L8b8AAACAu8YhwA==\"},\"shape\":[2],\"dtype\":\"float64\",\"order\":\"little\"}],[455,{\"type\":\"ndarray\",\"array\":{\"type\":\"bytes\",\"data\":\"AAAA4M2qF8AAAAAANXgZwA==\"},\"shape\":[2],\"dtype\":\"float64\",\"order\":\"little\"}],[456,{\"type\":\"ndarray\",\"array\":{\"type\":\"bytes\",\"data\":\"AAAAAHl5yz8AAAAg8uojwA==\"},\"shape\":[2],\"dtype\":\"float64\",\"order\":\"little\"}],[457,{\"type\":\"ndarray\",\"array\":{\"type\":\"bytes\",\"data\":\"AAAAQI51BUAAAADAiMSvvw==\"},\"shape\":[2],\"dtype\":\"float64\",\"order\":\"little\"}],[458,{\"type\":\"ndarray\",\"array\":{\"type\":\"bytes\",\"data\":\"AAAAoBzmH8AAAAAAnjoWwA==\"},\"shape\":[2],\"dtype\":\"float64\",\"order\":\"little\"}],[459,{\"type\":\"ndarray\",\"array\":{\"type\":\"bytes\",\"data\":\"AAAA4Du12L8AAADA0IAkwA==\"},\"shape\":[2],\"dtype\":\"float64\",\"order\":\"little\"}],[460,{\"type\":\"ndarray\",\"array\":{\"type\":\"bytes\",\"data\":\"AAAAwHyWEsAAAADgiSwjwA==\"},\"shape\":[2],\"dtype\":\"float64\",\"order\":\"little\"}],[461,{\"type\":\"ndarray\",\"array\":{\"type\":\"bytes\",\"data\":\"AAAA4JbjAMAAAABgJ98kwA==\"},\"shape\":[2],\"dtype\":\"float64\",\"order\":\"little\"}],[462,{\"type\":\"ndarray\",\"array\":{\"type\":\"bytes\",\"data\":\"AAAA4PT4BcAAAADg3ioJQA==\"},\"shape\":[2],\"dtype\":\"float64\",\"order\":\"little\"}],[463,{\"type\":\"ndarray\",\"array\":{\"type\":\"bytes\",\"data\":\"AAAA4A8HGsAAAABAJukNwA==\"},\"shape\":[2],\"dtype\":\"float64\",\"order\":\"little\"}],[464,{\"type\":\"ndarray\",\"array\":{\"type\":\"bytes\",\"data\":\"AAAAAGjCD8AAAAAANtMowA==\"},\"shape\":[2],\"dtype\":\"float64\",\"order\":\"little\"}],[465,{\"type\":\"ndarray\",\"array\":{\"type\":\"bytes\",\"data\":\"AAAAALWj/b8AAAAA0p0owA==\"},\"shape\":[2],\"dtype\":\"float64\",\"order\":\"little\"}],[466,{\"type\":\"ndarray\",\"array\":{\"type\":\"bytes\",\"data\":\"AAAAYAi68L8AAADAa0AowA==\"},\"shape\":[2],\"dtype\":\"float64\",\"order\":\"little\"}],[467,{\"type\":\"ndarray\",\"array\":{\"type\":\"bytes\",\"data\":\"AAAAAHGZBcAAAAAgz3cowA==\"},\"shape\":[2],\"dtype\":\"float64\",\"order\":\"little\"}],[468,{\"type\":\"ndarray\",\"array\":{\"type\":\"bytes\",\"data\":\"AAAAIL8jsr8AAACA+FghwA==\"},\"shape\":[2],\"dtype\":\"float64\",\"order\":\"little\"}],[469,{\"type\":\"ndarray\",\"array\":{\"type\":\"bytes\",\"data\":\"AAAAgCGtC8AAAAAA3DcAQA==\"},\"shape\":[2],\"dtype\":\"float64\",\"order\":\"little\"}],[470,{\"type\":\"ndarray\",\"array\":{\"type\":\"bytes\",\"data\":\"AAAAwGEBDMAAAAAgfx8DQA==\"},\"shape\":[2],\"dtype\":\"float64\",\"order\":\"little\"}],[471,{\"type\":\"ndarray\",\"array\":{\"type\":\"bytes\",\"data\":\"AAAAACns+j8AAABgKwgZwA==\"},\"shape\":[2],\"dtype\":\"float64\",\"order\":\"little\"}],[472,{\"type\":\"ndarray\",\"array\":{\"type\":\"bytes\",\"data\":\"AAAAAFS+CcAAAACgSewBQA==\"},\"shape\":[2],\"dtype\":\"float64\",\"order\":\"little\"}],[473,{\"type\":\"ndarray\",\"array\":{\"type\":\"bytes\",\"data\":\"AAAAgIj6EcAAAADgbsgNwA==\"},\"shape\":[2],\"dtype\":\"float64\",\"order\":\"little\"}],[474,{\"type\":\"ndarray\",\"array\":{\"type\":\"bytes\",\"data\":\"AAAAAHBwB8AAAADA0S0nwA==\"},\"shape\":[2],\"dtype\":\"float64\",\"order\":\"little\"}],[475,{\"type\":\"ndarray\",\"array\":{\"type\":\"bytes\",\"data\":\"AAAAYMhZAsAAAABg/P4nwA==\"},\"shape\":[2],\"dtype\":\"float64\",\"order\":\"little\"}],[476,{\"type\":\"ndarray\",\"array\":{\"type\":\"bytes\",\"data\":\"AAAAADEmAsAAAABAjpQiwA==\"},\"shape\":[2],\"dtype\":\"float64\",\"order\":\"little\"}],[477,{\"type\":\"ndarray\",\"array\":{\"type\":\"bytes\",\"data\":\"AAAA4I47BkAAAABginAWwA==\"},\"shape\":[2],\"dtype\":\"float64\",\"order\":\"little\"}],[478,{\"type\":\"ndarray\",\"array\":{\"type\":\"bytes\",\"data\":\"AAAAoKdq578AAADgwJ8QwA==\"},\"shape\":[2],\"dtype\":\"float64\",\"order\":\"little\"}],[479,{\"type\":\"ndarray\",\"array\":{\"type\":\"bytes\",\"data\":\"AAAAIPNmFMAAAADgDC8awA==\"},\"shape\":[2],\"dtype\":\"float64\",\"order\":\"little\"}],[480,{\"type\":\"ndarray\",\"array\":{\"type\":\"bytes\",\"data\":\"AAAAoL1hB8AAAABgFcUiwA==\"},\"shape\":[2],\"dtype\":\"float64\",\"order\":\"little\"}],[481,{\"type\":\"ndarray\",\"array\":{\"type\":\"bytes\",\"data\":\"AAAAwEciIcAAAAAAgBYVwA==\"},\"shape\":[2],\"dtype\":\"float64\",\"order\":\"little\"}],[482,{\"type\":\"ndarray\",\"array\":{\"type\":\"bytes\",\"data\":\"AAAAAIwG/j8AAACg5U0awA==\"},\"shape\":[2],\"dtype\":\"float64\",\"order\":\"little\"}],[483,{\"type\":\"ndarray\",\"array\":{\"type\":\"bytes\",\"data\":\"AAAAgHdM/L8AAADAn076vw==\"},\"shape\":[2],\"dtype\":\"float64\",\"order\":\"little\"}],[484,{\"type\":\"ndarray\",\"array\":{\"type\":\"bytes\",\"data\":\"AAAA4H/AFcAAAAAguZkjwA==\"},\"shape\":[2],\"dtype\":\"float64\",\"order\":\"little\"}],[485,{\"type\":\"ndarray\",\"array\":{\"type\":\"bytes\",\"data\":\"AAAAQDIDEcAAAACAmrAXwA==\"},\"shape\":[2],\"dtype\":\"float64\",\"order\":\"little\"}],[486,{\"type\":\"ndarray\",\"array\":{\"type\":\"bytes\",\"data\":\"AAAAAPdAEsAAAABg1X4mwA==\"},\"shape\":[2],\"dtype\":\"float64\",\"order\":\"little\"}],[487,{\"type\":\"ndarray\",\"array\":{\"type\":\"bytes\",\"data\":\"AAAA4CS6CMAAAADAO94owA==\"},\"shape\":[2],\"dtype\":\"float64\",\"order\":\"little\"}],[488,{\"type\":\"ndarray\",\"array\":{\"type\":\"bytes\",\"data\":\"AAAAICXFFsAAAABghx8lwA==\"},\"shape\":[2],\"dtype\":\"float64\",\"order\":\"little\"}],[489,{\"type\":\"ndarray\",\"array\":{\"type\":\"bytes\",\"data\":\"AAAAwID7FsAAAABA11cSwA==\"},\"shape\":[2],\"dtype\":\"float64\",\"order\":\"little\"}],[490,{\"type\":\"ndarray\",\"array\":{\"type\":\"bytes\",\"data\":\"AAAAwKSIEcAAAAAAWcIowA==\"},\"shape\":[2],\"dtype\":\"float64\",\"order\":\"little\"}],[491,{\"type\":\"ndarray\",\"array\":{\"type\":\"bytes\",\"data\":\"AAAAILxGAUAAAAAglqfqvw==\"},\"shape\":[2],\"dtype\":\"float64\",\"order\":\"little\"}],[492,{\"type\":\"ndarray\",\"array\":{\"type\":\"bytes\",\"data\":\"AAAAQOZqDMAAAAAgMVUKwA==\"},\"shape\":[2],\"dtype\":\"float64\",\"order\":\"little\"}],[493,{\"type\":\"ndarray\",\"array\":{\"type\":\"bytes\",\"data\":\"AAAAoA84tz8AAACA/xb0Pw==\"},\"shape\":[2],\"dtype\":\"float64\",\"order\":\"little\"}],[494,{\"type\":\"ndarray\",\"array\":{\"type\":\"bytes\",\"data\":\"AAAAQKVZ/z8AAACgFa3Evw==\"},\"shape\":[2],\"dtype\":\"float64\",\"order\":\"little\"}],[495,{\"type\":\"ndarray\",\"array\":{\"type\":\"bytes\",\"data\":\"AAAAYLTkBUAAAAAAoc/jvw==\"},\"shape\":[2],\"dtype\":\"float64\",\"order\":\"little\"}],[496,{\"type\":\"ndarray\",\"array\":{\"type\":\"bytes\",\"data\":\"AAAA4BClD8AAAABgJ5QSwA==\"},\"shape\":[2],\"dtype\":\"float64\",\"order\":\"little\"}],[497,{\"type\":\"ndarray\",\"array\":{\"type\":\"bytes\",\"data\":\"AAAAwONuC8AAAACgpZEpwA==\"},\"shape\":[2],\"dtype\":\"float64\",\"order\":\"little\"}],[498,{\"type\":\"ndarray\",\"array\":{\"type\":\"bytes\",\"data\":\"AAAAQPOYBcAAAADAC4kkwA==\"},\"shape\":[2],\"dtype\":\"float64\",\"order\":\"little\"}],[499,{\"type\":\"ndarray\",\"array\":{\"type\":\"bytes\",\"data\":\"AAAAwO8DAkAAAAAAw2YDwA==\"},\"shape\":[2],\"dtype\":\"float64\",\"order\":\"little\"}],[500,{\"type\":\"ndarray\",\"array\":{\"type\":\"bytes\",\"data\":\"AAAAwBKPHMAAAAAA46sSwA==\"},\"shape\":[2],\"dtype\":\"float64\",\"order\":\"little\"}],[501,{\"type\":\"ndarray\",\"array\":{\"type\":\"bytes\",\"data\":\"AAAAgIU0E8AAAAAgwc8EwA==\"},\"shape\":[2],\"dtype\":\"float64\",\"order\":\"little\"}],[502,{\"type\":\"ndarray\",\"array\":{\"type\":\"bytes\",\"data\":\"AAAAgKGZ+b8AAACgq3opwA==\"},\"shape\":[2],\"dtype\":\"float64\",\"order\":\"little\"}],[503,{\"type\":\"ndarray\",\"array\":{\"type\":\"bytes\",\"data\":\"AAAAQJFrGcAAAACgeO4kwA==\"},\"shape\":[2],\"dtype\":\"float64\",\"order\":\"little\"}],[504,{\"type\":\"ndarray\",\"array\":{\"type\":\"bytes\",\"data\":\"AAAAoHryIMAAAACAmU0RwA==\"},\"shape\":[2],\"dtype\":\"float64\",\"order\":\"little\"}],[505,{\"type\":\"ndarray\",\"array\":{\"type\":\"bytes\",\"data\":\"AAAAQDTW978AAADgjG4lwA==\"},\"shape\":[2],\"dtype\":\"float64\",\"order\":\"little\"}],[506,{\"type\":\"ndarray\",\"array\":{\"type\":\"bytes\",\"data\":\"AAAAQBL5FsAAAACAHPMPwA==\"},\"shape\":[2],\"dtype\":\"float64\",\"order\":\"little\"}],[507,{\"type\":\"ndarray\",\"array\":{\"type\":\"bytes\",\"data\":\"AAAAwI/xFMAAAAAg2QEMwA==\"},\"shape\":[2],\"dtype\":\"float64\",\"order\":\"little\"}],[508,{\"type\":\"ndarray\",\"array\":{\"type\":\"bytes\",\"data\":\"AAAAgAErD8AAAAAgKRsNwA==\"},\"shape\":[2],\"dtype\":\"float64\",\"order\":\"little\"}],[509,{\"type\":\"ndarray\",\"array\":{\"type\":\"bytes\",\"data\":\"AAAAgEZgjr8AAABAkGsmwA==\"},\"shape\":[2],\"dtype\":\"float64\",\"order\":\"little\"}],[510,{\"type\":\"ndarray\",\"array\":{\"type\":\"bytes\",\"data\":\"AAAAoGhlC8AAAADARD4SwA==\"},\"shape\":[2],\"dtype\":\"float64\",\"order\":\"little\"}],[511,{\"type\":\"ndarray\",\"array\":{\"type\":\"bytes\",\"data\":\"AAAAwFOaGcAAAADAaiUZwA==\"},\"shape\":[2],\"dtype\":\"float64\",\"order\":\"little\"}],[512,{\"type\":\"ndarray\",\"array\":{\"type\":\"bytes\",\"data\":\"AAAAwMmz578AAACgPBUQwA==\"},\"shape\":[2],\"dtype\":\"float64\",\"order\":\"little\"}],[513,{\"type\":\"ndarray\",\"array\":{\"type\":\"bytes\",\"data\":\"AAAAAM05BEAAAABgyHIXwA==\"},\"shape\":[2],\"dtype\":\"float64\",\"order\":\"little\"}],[514,{\"type\":\"ndarray\",\"array\":{\"type\":\"bytes\",\"data\":\"AAAAwKLXAkAAAADAshTwvw==\"},\"shape\":[2],\"dtype\":\"float64\",\"order\":\"little\"}],[515,{\"type\":\"ndarray\",\"array\":{\"type\":\"bytes\",\"data\":\"AAAAgG4sDsAAAAAgry4CQA==\"},\"shape\":[2],\"dtype\":\"float64\",\"order\":\"little\"}],[516,{\"type\":\"ndarray\",\"array\":{\"type\":\"bytes\",\"data\":\"AAAAILBfD8AAAAAgYBQjwA==\"},\"shape\":[2],\"dtype\":\"float64\",\"order\":\"little\"}],[517,{\"type\":\"ndarray\",\"array\":{\"type\":\"bytes\",\"data\":\"AAAAwIoW8b8AAACAgVIjwA==\"},\"shape\":[2],\"dtype\":\"float64\",\"order\":\"little\"}],[518,{\"type\":\"ndarray\",\"array\":{\"type\":\"bytes\",\"data\":\"AAAAIHbUCMAAAABgM3YAQA==\"},\"shape\":[2],\"dtype\":\"float64\",\"order\":\"little\"}],[519,{\"type\":\"ndarray\",\"array\":{\"type\":\"bytes\",\"data\":\"AAAAQMjoDsAAAAAg6NQpwA==\"},\"shape\":[2],\"dtype\":\"float64\",\"order\":\"little\"}],[520,{\"type\":\"ndarray\",\"array\":{\"type\":\"bytes\",\"data\":\"AAAAYHTPFsAAAADAkwQnwA==\"},\"shape\":[2],\"dtype\":\"float64\",\"order\":\"little\"}],[521,{\"type\":\"ndarray\",\"array\":{\"type\":\"bytes\",\"data\":\"AAAAQKAVB8AAAADA96QpwA==\"},\"shape\":[2],\"dtype\":\"float64\",\"order\":\"little\"}],[522,{\"type\":\"ndarray\",\"array\":{\"type\":\"bytes\",\"data\":\"AAAA4DeAEsAAAACAGmIlwA==\"},\"shape\":[2],\"dtype\":\"float64\",\"order\":\"little\"}],[523,{\"type\":\"ndarray\",\"array\":{\"type\":\"bytes\",\"data\":\"AAAAgJAlGMAAAADgNOolwA==\"},\"shape\":[2],\"dtype\":\"float64\",\"order\":\"little\"}],[524,{\"type\":\"ndarray\",\"array\":{\"type\":\"bytes\",\"data\":\"AAAAoOPmrj8AAAAAeRsjwA==\"},\"shape\":[2],\"dtype\":\"float64\",\"order\":\"little\"}],[525,{\"type\":\"ndarray\",\"array\":{\"type\":\"bytes\",\"data\":\"AAAA4I+YFMAAAACgLZokwA==\"},\"shape\":[2],\"dtype\":\"float64\",\"order\":\"little\"}],[526,{\"type\":\"ndarray\",\"array\":{\"type\":\"bytes\",\"data\":\"AAAAQO1V4T8AAABgYq0kwA==\"},\"shape\":[2],\"dtype\":\"float64\",\"order\":\"little\"}],[527,{\"type\":\"ndarray\",\"array\":{\"type\":\"bytes\",\"data\":\"AAAAAM0tFsAAAACgcpcbwA==\"},\"shape\":[2],\"dtype\":\"float64\",\"order\":\"little\"}],[528,{\"type\":\"ndarray\",\"array\":{\"type\":\"bytes\",\"data\":\"AAAAoDRVFkAAAABg9GMRwA==\"},\"shape\":[2],\"dtype\":\"float64\",\"order\":\"little\"}],[529,{\"type\":\"ndarray\",\"array\":{\"type\":\"bytes\",\"data\":\"AAAAAGRnFMAAAAAABejuvw==\"},\"shape\":[2],\"dtype\":\"float64\",\"order\":\"little\"}],[530,{\"type\":\"ndarray\",\"array\":{\"type\":\"bytes\",\"data\":\"AAAAADrbE8AAAADgaZ8XwA==\"},\"shape\":[2],\"dtype\":\"float64\",\"order\":\"little\"}],[531,{\"type\":\"ndarray\",\"array\":{\"type\":\"bytes\",\"data\":\"AAAAYO+WEsAAAAAAuzQpwA==\"},\"shape\":[2],\"dtype\":\"float64\",\"order\":\"little\"}],[532,{\"type\":\"ndarray\",\"array\":{\"type\":\"bytes\",\"data\":\"AAAAAHpnFcAAAADAEkcWwA==\"},\"shape\":[2],\"dtype\":\"float64\",\"order\":\"little\"}],[533,{\"type\":\"ndarray\",\"array\":{\"type\":\"bytes\",\"data\":\"AAAA4EdjEsAAAADgsPgVwA==\"},\"shape\":[2],\"dtype\":\"float64\",\"order\":\"little\"}],[534,{\"type\":\"ndarray\",\"array\":{\"type\":\"bytes\",\"data\":\"AAAAoO1eIMAAAACAlN0SwA==\"},\"shape\":[2],\"dtype\":\"float64\",\"order\":\"little\"}],[535,{\"type\":\"ndarray\",\"array\":{\"type\":\"bytes\",\"data\":\"AAAAYGoQIMAAAACgMcEOwA==\"},\"shape\":[2],\"dtype\":\"float64\",\"order\":\"little\"}],[536,{\"type\":\"ndarray\",\"array\":{\"type\":\"bytes\",\"data\":\"AAAAoIzVGMAAAACgDjkRwA==\"},\"shape\":[2],\"dtype\":\"float64\",\"order\":\"little\"}],[537,{\"type\":\"ndarray\",\"array\":{\"type\":\"bytes\",\"data\":\"AAAAgBoJG8AAAACgFU0YwA==\"},\"shape\":[2],\"dtype\":\"float64\",\"order\":\"little\"}],[538,{\"type\":\"ndarray\",\"array\":{\"type\":\"bytes\",\"data\":\"AAAAwCHuG8AAAACArqQHwA==\"},\"shape\":[2],\"dtype\":\"float64\",\"order\":\"little\"}],[539,{\"type\":\"ndarray\",\"array\":{\"type\":\"bytes\",\"data\":\"AAAA4LkyHMAAAACA5QYLwA==\"},\"shape\":[2],\"dtype\":\"float64\",\"order\":\"little\"}],[540,{\"type\":\"ndarray\",\"array\":{\"type\":\"bytes\",\"data\":\"AAAA4Knr+78AAACgdawnwA==\"},\"shape\":[2],\"dtype\":\"float64\",\"order\":\"little\"}],[541,{\"type\":\"ndarray\",\"array\":{\"type\":\"bytes\",\"data\":\"AAAAQIN0zz8AAABAM5wlwA==\"},\"shape\":[2],\"dtype\":\"float64\",\"order\":\"little\"}],[542,{\"type\":\"ndarray\",\"array\":{\"type\":\"bytes\",\"data\":\"AAAAgCy2FMAAAADAELImwA==\"},\"shape\":[2],\"dtype\":\"float64\",\"order\":\"little\"}],[543,{\"type\":\"ndarray\",\"array\":{\"type\":\"bytes\",\"data\":\"AAAAoDWLD8AAAACAeSImwA==\"},\"shape\":[2],\"dtype\":\"float64\",\"order\":\"little\"}],[544,{\"type\":\"ndarray\",\"array\":{\"type\":\"bytes\",\"data\":\"AAAAINo69b8AAADA9q8owA==\"},\"shape\":[2],\"dtype\":\"float64\",\"order\":\"little\"}],[545,{\"type\":\"ndarray\",\"array\":{\"type\":\"bytes\",\"data\":\"AAAAwHOU978AAABgmzwkwA==\"},\"shape\":[2],\"dtype\":\"float64\",\"order\":\"little\"}],[546,{\"type\":\"ndarray\",\"array\":{\"type\":\"bytes\",\"data\":\"AAAAIKpsGMAAAACgMdYKwA==\"},\"shape\":[2],\"dtype\":\"float64\",\"order\":\"little\"}],[547,{\"type\":\"ndarray\",\"array\":{\"type\":\"bytes\",\"data\":\"AAAAwCSQA8AAAABgsj8pwA==\"},\"shape\":[2],\"dtype\":\"float64\",\"order\":\"little\"}],[548,{\"type\":\"ndarray\",\"array\":{\"type\":\"bytes\",\"data\":\"AAAAwDG4F8AAAAAAzggkwA==\"},\"shape\":[2],\"dtype\":\"float64\",\"order\":\"little\"}],[549,{\"type\":\"ndarray\",\"array\":{\"type\":\"bytes\",\"data\":\"AAAAYPveHcAAAACAFOoWwA==\"},\"shape\":[2],\"dtype\":\"float64\",\"order\":\"little\"}],[550,{\"type\":\"ndarray\",\"array\":{\"type\":\"bytes\",\"data\":\"AAAAgNn6GMAAAADAvU4bwA==\"},\"shape\":[2],\"dtype\":\"float64\",\"order\":\"little\"}],[551,{\"type\":\"ndarray\",\"array\":{\"type\":\"bytes\",\"data\":\"AAAAwH8YC8AAAAAAXfAPwA==\"},\"shape\":[2],\"dtype\":\"float64\",\"order\":\"little\"}],[552,{\"type\":\"ndarray\",\"array\":{\"type\":\"bytes\",\"data\":\"AAAAIADwGcAAAAAg6RoTwA==\"},\"shape\":[2],\"dtype\":\"float64\",\"order\":\"little\"}],[553,{\"type\":\"ndarray\",\"array\":{\"type\":\"bytes\",\"data\":\"AAAAYL32AMAAAABAZaIpwA==\"},\"shape\":[2],\"dtype\":\"float64\",\"order\":\"little\"}],[554,{\"type\":\"ndarray\",\"array\":{\"type\":\"bytes\",\"data\":\"AAAAIEdsH8AAAADAucIRwA==\"},\"shape\":[2],\"dtype\":\"float64\",\"order\":\"little\"}],[555,{\"type\":\"ndarray\",\"array\":{\"type\":\"bytes\",\"data\":\"AAAAwJlwGcAAAAAgXQkXwA==\"},\"shape\":[2],\"dtype\":\"float64\",\"order\":\"little\"}],[556,{\"type\":\"ndarray\",\"array\":{\"type\":\"bytes\",\"data\":\"AAAAIIhFHsAAAADABwETwA==\"},\"shape\":[2],\"dtype\":\"float64\",\"order\":\"little\"}],[557,{\"type\":\"ndarray\",\"array\":{\"type\":\"bytes\",\"data\":\"AAAAQLD/IMAAAACg1MIWwA==\"},\"shape\":[2],\"dtype\":\"float64\",\"order\":\"little\"}],[558,{\"type\":\"ndarray\",\"array\":{\"type\":\"bytes\",\"data\":\"AAAA4OvJG8AAAAAgY4gPwA==\"},\"shape\":[2],\"dtype\":\"float64\",\"order\":\"little\"}],[559,{\"type\":\"ndarray\",\"array\":{\"type\":\"bytes\",\"data\":\"AAAAALUQDsAAAAAgpkoVwA==\"},\"shape\":[2],\"dtype\":\"float64\",\"order\":\"little\"}],[560,{\"type\":\"ndarray\",\"array\":{\"type\":\"bytes\",\"data\":\"AAAAIJvnHsAAAACAm+AUwA==\"},\"shape\":[2],\"dtype\":\"float64\",\"order\":\"little\"}],[561,{\"type\":\"ndarray\",\"array\":{\"type\":\"bytes\",\"data\":\"AAAA4MRhC8AAAABgalEmwA==\"},\"shape\":[2],\"dtype\":\"float64\",\"order\":\"little\"}],[562,{\"type\":\"ndarray\",\"array\":{\"type\":\"bytes\",\"data\":\"AAAAwGoG2z8AAAAAgDoiwA==\"},\"shape\":[2],\"dtype\":\"float64\",\"order\":\"little\"}],[563,{\"type\":\"ndarray\",\"array\":{\"type\":\"bytes\",\"data\":\"AAAAQMdjIMAAAACAKJgXwA==\"},\"shape\":[2],\"dtype\":\"float64\",\"order\":\"little\"}],[564,{\"type\":\"ndarray\",\"array\":{\"type\":\"bytes\",\"data\":\"AAAAYDaQCcAAAAAAK0slwA==\"},\"shape\":[2],\"dtype\":\"float64\",\"order\":\"little\"}],[565,{\"type\":\"ndarray\",\"array\":{\"type\":\"bytes\",\"data\":\"AAAAAPNVG8AAAADAvm0RwA==\"},\"shape\":[2],\"dtype\":\"float64\",\"order\":\"little\"}],[566,{\"type\":\"ndarray\",\"array\":{\"type\":\"bytes\",\"data\":\"AAAAwFQ7IMAAAADgcf8PwA==\"},\"shape\":[2],\"dtype\":\"float64\",\"order\":\"little\"}],[567,{\"type\":\"ndarray\",\"array\":{\"type\":\"bytes\",\"data\":\"AAAAwJ47EMAAAAAA8yQlwA==\"},\"shape\":[2],\"dtype\":\"float64\",\"order\":\"little\"}],[568,{\"type\":\"ndarray\",\"array\":{\"type\":\"bytes\",\"data\":\"AAAAgOdm+b8AAAAA2osiwA==\"},\"shape\":[2],\"dtype\":\"float64\",\"order\":\"little\"}],[569,{\"type\":\"ndarray\",\"array\":{\"type\":\"bytes\",\"data\":\"AAAAIAqJEMAAAABgH9InwA==\"},\"shape\":[2],\"dtype\":\"float64\",\"order\":\"little\"}],[570,{\"type\":\"ndarray\",\"array\":{\"type\":\"bytes\",\"data\":\"AAAAAFDmFsAAAACAfg0bwA==\"},\"shape\":[2],\"dtype\":\"float64\",\"order\":\"little\"}],[571,{\"type\":\"ndarray\",\"array\":{\"type\":\"bytes\",\"data\":\"AAAAQKGZHcAAAAAgwskZwA==\"},\"shape\":[2],\"dtype\":\"float64\",\"order\":\"little\"}],[572,{\"type\":\"ndarray\",\"array\":{\"type\":\"bytes\",\"data\":\"AAAAAKrKDsAAAACAGCInwA==\"},\"shape\":[2],\"dtype\":\"float64\",\"order\":\"little\"}],[573,{\"type\":\"ndarray\",\"array\":{\"type\":\"bytes\",\"data\":\"AAAAAIeWF8AAAACAIykXwA==\"},\"shape\":[2],\"dtype\":\"float64\",\"order\":\"little\"}],[574,{\"type\":\"ndarray\",\"array\":{\"type\":\"bytes\",\"data\":\"AAAAoIIV+78AAACg8JkmwA==\"},\"shape\":[2],\"dtype\":\"float64\",\"order\":\"little\"}],[575,{\"type\":\"ndarray\",\"array\":{\"type\":\"bytes\",\"data\":\"AAAAoK4zGMAAAACAs3YUwA==\"},\"shape\":[2],\"dtype\":\"float64\",\"order\":\"little\"}],[576,{\"type\":\"ndarray\",\"array\":{\"type\":\"bytes\",\"data\":\"AAAAIAmgHMAAAABAIToZwA==\"},\"shape\":[2],\"dtype\":\"float64\",\"order\":\"little\"}],[577,{\"type\":\"ndarray\",\"array\":{\"type\":\"bytes\",\"data\":\"AAAAwFh4A8AAAAAAzOYlwA==\"},\"shape\":[2],\"dtype\":\"float64\",\"order\":\"little\"}],[578,{\"type\":\"ndarray\",\"array\":{\"type\":\"bytes\",\"data\":\"AAAAADSO7L8AAADgeW8kwA==\"},\"shape\":[2],\"dtype\":\"float64\",\"order\":\"little\"}],[579,{\"type\":\"ndarray\",\"array\":{\"type\":\"bytes\",\"data\":\"AAAAQOBM4b8AAADAal0mwA==\"},\"shape\":[2],\"dtype\":\"float64\",\"order\":\"little\"}],[580,{\"type\":\"ndarray\",\"array\":{\"type\":\"bytes\",\"data\":\"AAAAAKrZGcAAAAAALc8jwA==\"},\"shape\":[2],\"dtype\":\"float64\",\"order\":\"little\"}],[581,{\"type\":\"ndarray\",\"array\":{\"type\":\"bytes\",\"data\":\"AAAAoHbc+T8AAACg+oAXwA==\"},\"shape\":[2],\"dtype\":\"float64\",\"order\":\"little\"}],[582,{\"type\":\"ndarray\",\"array\":{\"type\":\"bytes\",\"data\":\"AAAAwB9kEMAAAACgYZgQwA==\"},\"shape\":[2],\"dtype\":\"float64\",\"order\":\"little\"}],[583,{\"type\":\"ndarray\",\"array\":{\"type\":\"bytes\",\"data\":\"AAAAAOwuHMAAAADAkfwWwA==\"},\"shape\":[2],\"dtype\":\"float64\",\"order\":\"little\"}],[584,{\"type\":\"ndarray\",\"array\":{\"type\":\"bytes\",\"data\":\"AAAAoJomFcAAAAAgKcAlwA==\"},\"shape\":[2],\"dtype\":\"float64\",\"order\":\"little\"}],[585,{\"type\":\"ndarray\",\"array\":{\"type\":\"bytes\",\"data\":\"AAAAAJw+E8AAAABgI0oJwA==\"},\"shape\":[2],\"dtype\":\"float64\",\"order\":\"little\"}],[586,{\"type\":\"ndarray\",\"array\":{\"type\":\"bytes\",\"data\":\"AAAAQPHdFcAAAAAgA34YwA==\"},\"shape\":[2],\"dtype\":\"float64\",\"order\":\"little\"}],[587,{\"type\":\"ndarray\",\"array\":{\"type\":\"bytes\",\"data\":\"AAAAAHNwEsAAAACA+IknwA==\"},\"shape\":[2],\"dtype\":\"float64\",\"order\":\"little\"}],[588,{\"type\":\"ndarray\",\"array\":{\"type\":\"bytes\",\"data\":\"AAAAYPAJFMAAAAAA61gowA==\"},\"shape\":[2],\"dtype\":\"float64\",\"order\":\"little\"}],[589,{\"type\":\"ndarray\",\"array\":{\"type\":\"bytes\",\"data\":\"AAAAgPL2AsAAAADgYCInwA==\"},\"shape\":[2],\"dtype\":\"float64\",\"order\":\"little\"}],[590,{\"type\":\"ndarray\",\"array\":{\"type\":\"bytes\",\"data\":\"AAAAQLUHH8AAAACAtaEKwA==\"},\"shape\":[2],\"dtype\":\"float64\",\"order\":\"little\"}],[591,{\"type\":\"ndarray\",\"array\":{\"type\":\"bytes\",\"data\":\"AAAAQFvqCsAAAAAglIwnwA==\"},\"shape\":[2],\"dtype\":\"float64\",\"order\":\"little\"}],[592,{\"type\":\"ndarray\",\"array\":{\"type\":\"bytes\",\"data\":\"AAAAYDPFHcAAAAAg3RkNwA==\"},\"shape\":[2],\"dtype\":\"float64\",\"order\":\"little\"}],[593,{\"type\":\"ndarray\",\"array\":{\"type\":\"bytes\",\"data\":\"AAAAQCawFsAAAADg/7YIwA==\"},\"shape\":[2],\"dtype\":\"float64\",\"order\":\"little\"}],[594,{\"type\":\"ndarray\",\"array\":{\"type\":\"bytes\",\"data\":\"AAAAYIebEMAAAAAg4CgJwA==\"},\"shape\":[2],\"dtype\":\"float64\",\"order\":\"little\"}],[595,{\"type\":\"ndarray\",\"array\":{\"type\":\"bytes\",\"data\":\"AAAAYIKu4L8AAABgkOkiwA==\"},\"shape\":[2],\"dtype\":\"float64\",\"order\":\"little\"}],[596,{\"type\":\"ndarray\",\"array\":{\"type\":\"bytes\",\"data\":\"AAAAwK5f4b8AAAAA2owhwA==\"},\"shape\":[2],\"dtype\":\"float64\",\"order\":\"little\"}],[597,{\"type\":\"ndarray\",\"array\":{\"type\":\"bytes\",\"data\":\"AAAAIEOi3j8AAAAAcR0hwA==\"},\"shape\":[2],\"dtype\":\"float64\",\"order\":\"little\"}],[598,{\"type\":\"ndarray\",\"array\":{\"type\":\"bytes\",\"data\":\"AAAAIGIpDMAAAADg2rEowA==\"},\"shape\":[2],\"dtype\":\"float64\",\"order\":\"little\"}],[599,{\"type\":\"ndarray\",\"array\":{\"type\":\"bytes\",\"data\":\"AAAAQCdAkb8AAADAN6okwA==\"},\"shape\":[2],\"dtype\":\"float64\",\"order\":\"little\"}],[600,{\"type\":\"ndarray\",\"array\":{\"type\":\"bytes\",\"data\":\"AAAAAMsGH8AAAABAIecYwA==\"},\"shape\":[2],\"dtype\":\"float64\",\"order\":\"little\"}],[601,{\"type\":\"ndarray\",\"array\":{\"type\":\"bytes\",\"data\":\"AAAAgLWTEsAAAAAgWWEZwA==\"},\"shape\":[2],\"dtype\":\"float64\",\"order\":\"little\"}],[602,{\"type\":\"ndarray\",\"array\":{\"type\":\"bytes\",\"data\":\"AAAAQJM/HcAAAABgx7AUwA==\"},\"shape\":[2],\"dtype\":\"float64\",\"order\":\"little\"}],[603,{\"type\":\"ndarray\",\"array\":{\"type\":\"bytes\",\"data\":\"AAAAwFUH8b8AAADA5Y8mwA==\"},\"shape\":[2],\"dtype\":\"float64\",\"order\":\"little\"}],[604,{\"type\":\"ndarray\",\"array\":{\"type\":\"bytes\",\"data\":\"AAAAoJ6T8r8AAACAWXInwA==\"},\"shape\":[2],\"dtype\":\"float64\",\"order\":\"little\"}],[605,{\"type\":\"ndarray\",\"array\":{\"type\":\"bytes\",\"data\":\"AAAAIGV96z8AAADgS7EiwA==\"},\"shape\":[2],\"dtype\":\"float64\",\"order\":\"little\"}],[606,{\"type\":\"ndarray\",\"array\":{\"type\":\"bytes\",\"data\":\"AAAAoIatyL8AAACg/48nwA==\"},\"shape\":[2],\"dtype\":\"float64\",\"order\":\"little\"}],[607,{\"type\":\"ndarray\",\"array\":{\"type\":\"bytes\",\"data\":\"AAAAoAhVFcAAAADgNNcFwA==\"},\"shape\":[2],\"dtype\":\"float64\",\"order\":\"little\"}],[608,{\"type\":\"ndarray\",\"array\":{\"type\":\"bytes\",\"data\":\"AAAAwBctHsAAAAAg/kMQwA==\"},\"shape\":[2],\"dtype\":\"float64\",\"order\":\"little\"}],[609,{\"type\":\"ndarray\",\"array\":{\"type\":\"bytes\",\"data\":\"AAAAwFxPFsAAAADATYcUwA==\"},\"shape\":[2],\"dtype\":\"float64\",\"order\":\"little\"}],[610,{\"type\":\"ndarray\",\"array\":{\"type\":\"bytes\",\"data\":\"AAAAgHXvHsAAAABgaLAYwA==\"},\"shape\":[2],\"dtype\":\"float64\",\"order\":\"little\"}],[611,{\"type\":\"ndarray\",\"array\":{\"type\":\"bytes\",\"data\":\"AAAAgIBf5T8AAADAw5QjwA==\"},\"shape\":[2],\"dtype\":\"float64\",\"order\":\"little\"}],[612,{\"type\":\"ndarray\",\"array\":{\"type\":\"bytes\",\"data\":\"AAAA4BVKIMAAAAAAXpcUwA==\"},\"shape\":[2],\"dtype\":\"float64\",\"order\":\"little\"}],[613,{\"type\":\"ndarray\",\"array\":{\"type\":\"bytes\",\"data\":\"AAAAID/fE8AAAADglhYUwA==\"},\"shape\":[2],\"dtype\":\"float64\",\"order\":\"little\"}],[614,{\"type\":\"ndarray\",\"array\":{\"type\":\"bytes\",\"data\":\"AAAAAMC+AMAAAAAgbqEjwA==\"},\"shape\":[2],\"dtype\":\"float64\",\"order\":\"little\"}],[615,{\"type\":\"ndarray\",\"array\":{\"type\":\"bytes\",\"data\":\"AAAAgMIgEcAAAACgWEQUwA==\"},\"shape\":[2],\"dtype\":\"float64\",\"order\":\"little\"}],[616,{\"type\":\"ndarray\",\"array\":{\"type\":\"bytes\",\"data\":\"AAAAQHTPEMAAAACArXAFwA==\"},\"shape\":[2],\"dtype\":\"float64\",\"order\":\"little\"}],[617,{\"type\":\"ndarray\",\"array\":{\"type\":\"bytes\",\"data\":\"AAAAQPzY8L8AAACgd3wlwA==\"},\"shape\":[2],\"dtype\":\"float64\",\"order\":\"little\"}],[618,{\"type\":\"ndarray\",\"array\":{\"type\":\"bytes\",\"data\":\"AAAAwL+3FMAAAACgI9EPwA==\"},\"shape\":[2],\"dtype\":\"float64\",\"order\":\"little\"}],[619,{\"type\":\"ndarray\",\"array\":{\"type\":\"bytes\",\"data\":\"AAAAwKlj5L8AAADg36MnwA==\"},\"shape\":[2],\"dtype\":\"float64\",\"order\":\"little\"}],[620,{\"type\":\"ndarray\",\"array\":{\"type\":\"bytes\",\"data\":\"AAAAIDvGDcAAAAAAfFgkwA==\"},\"shape\":[2],\"dtype\":\"float64\",\"order\":\"little\"}],[621,{\"type\":\"ndarray\",\"array\":{\"type\":\"bytes\",\"data\":\"AAAAoLZXGcAAAACA3n0BwA==\"},\"shape\":[2],\"dtype\":\"float64\",\"order\":\"little\"}],[622,{\"type\":\"ndarray\",\"array\":{\"type\":\"bytes\",\"data\":\"AAAAgJtcJsAAAABAW4TjPw==\"},\"shape\":[2],\"dtype\":\"float64\",\"order\":\"little\"}],[623,{\"type\":\"ndarray\",\"array\":{\"type\":\"bytes\",\"data\":\"AAAAQIbCKMAAAAAg1p+5Pw==\"},\"shape\":[2],\"dtype\":\"float64\",\"order\":\"little\"}],[624,{\"type\":\"ndarray\",\"array\":{\"type\":\"bytes\",\"data\":\"AAAAwK4PEcAAAAAAURIUQA==\"},\"shape\":[2],\"dtype\":\"float64\",\"order\":\"little\"}],[625,{\"type\":\"ndarray\",\"array\":{\"type\":\"bytes\",\"data\":\"AAAAwMjTJ8AAAABAttgEwA==\"},\"shape\":[2],\"dtype\":\"float64\",\"order\":\"little\"}],[626,{\"type\":\"ndarray\",\"array\":{\"type\":\"bytes\",\"data\":\"AAAA4A5MJ8AAAADAZzAPwA==\"},\"shape\":[2],\"dtype\":\"float64\",\"order\":\"little\"}],[627,{\"type\":\"ndarray\",\"array\":{\"type\":\"bytes\",\"data\":\"AAAAAO96KcAAAACgeoALwA==\"},\"shape\":[2],\"dtype\":\"float64\",\"order\":\"little\"}],[628,{\"type\":\"ndarray\",\"array\":{\"type\":\"bytes\",\"data\":\"AAAAIAH0KMAAAADg1RsHwA==\"},\"shape\":[2],\"dtype\":\"float64\",\"order\":\"little\"}],[629,{\"type\":\"ndarray\",\"array\":{\"type\":\"bytes\",\"data\":\"AAAAgOJ6KMAAAAAAonQLwA==\"},\"shape\":[2],\"dtype\":\"float64\",\"order\":\"little\"}],[630,{\"type\":\"ndarray\",\"array\":{\"type\":\"bytes\",\"data\":\"AAAA4GjjKsAAAACA1un4vw==\"},\"shape\":[2],\"dtype\":\"float64\",\"order\":\"little\"}],[631,{\"type\":\"ndarray\",\"array\":{\"type\":\"bytes\",\"data\":\"AAAAYBGA+D8AAAAgM3jfvw==\"},\"shape\":[2],\"dtype\":\"float64\",\"order\":\"little\"}],[632,{\"type\":\"ndarray\",\"array\":{\"type\":\"bytes\",\"data\":\"AAAAoM4NKMAAAACA7dzTvw==\"},\"shape\":[2],\"dtype\":\"float64\",\"order\":\"little\"}],[633,{\"type\":\"ndarray\",\"array\":{\"type\":\"bytes\",\"data\":\"AAAAoBlyJ8AAAACAkOy1Pw==\"},\"shape\":[2],\"dtype\":\"float64\",\"order\":\"little\"}],[634,{\"type\":\"ndarray\",\"array\":{\"type\":\"bytes\",\"data\":\"AAAAwKUFKcAAAACg5Djxvw==\"},\"shape\":[2],\"dtype\":\"float64\",\"order\":\"little\"}],[635,{\"type\":\"ndarray\",\"array\":{\"type\":\"bytes\",\"data\":\"AAAAABXl2r8AAAAAESYDQA==\"},\"shape\":[2],\"dtype\":\"float64\",\"order\":\"little\"}],[636,{\"type\":\"ndarray\",\"array\":{\"type\":\"bytes\",\"data\":\"AAAAQNYIKsAAAAAgU5Hxvw==\"},\"shape\":[2],\"dtype\":\"float64\",\"order\":\"little\"}],[637,{\"type\":\"ndarray\",\"array\":{\"type\":\"bytes\",\"data\":\"AAAAIJqgKMAAAABgKcz8vw==\"},\"shape\":[2],\"dtype\":\"float64\",\"order\":\"little\"}],[638,{\"type\":\"ndarray\",\"array\":{\"type\":\"bytes\",\"data\":\"AAAAgLD3KMAAAADgj2zfPw==\"},\"shape\":[2],\"dtype\":\"float64\",\"order\":\"little\"}],[639,{\"type\":\"ndarray\",\"array\":{\"type\":\"bytes\",\"data\":\"AAAAQKSGJsAAAACA+q4DwA==\"},\"shape\":[2],\"dtype\":\"float64\",\"order\":\"little\"}],[640,{\"type\":\"ndarray\",\"array\":{\"type\":\"bytes\",\"data\":\"AAAAAOPFJ8AAAABA96TrPw==\"},\"shape\":[2],\"dtype\":\"float64\",\"order\":\"little\"}],[641,{\"type\":\"ndarray\",\"array\":{\"type\":\"bytes\",\"data\":\"AAAAwJARJsAAAACgdF/svw==\"},\"shape\":[2],\"dtype\":\"float64\",\"order\":\"little\"}],[642,{\"type\":\"ndarray\",\"array\":{\"type\":\"bytes\",\"data\":\"AAAAgGwvJ8AAAABgQO7zvw==\"},\"shape\":[2],\"dtype\":\"float64\",\"order\":\"little\"}],[643,{\"type\":\"ndarray\",\"array\":{\"type\":\"bytes\",\"data\":\"AAAAgABuKMAAAAAg8UoCwA==\"},\"shape\":[2],\"dtype\":\"float64\",\"order\":\"little\"}],[644,{\"type\":\"ndarray\",\"array\":{\"type\":\"bytes\",\"data\":\"AAAAIMKrKsAAAABguXwDwA==\"},\"shape\":[2],\"dtype\":\"float64\",\"order\":\"little\"}],[645,{\"type\":\"ndarray\",\"array\":{\"type\":\"bytes\",\"data\":\"AAAAwCZOKMAAAABA1E4PwA==\"},\"shape\":[2],\"dtype\":\"float64\",\"order\":\"little\"}],[646,{\"type\":\"ndarray\",\"array\":{\"type\":\"bytes\",\"data\":\"AAAAgDu4JsAAAADg66kLwA==\"},\"shape\":[2],\"dtype\":\"float64\",\"order\":\"little\"}],[647,{\"type\":\"ndarray\",\"array\":{\"type\":\"bytes\",\"data\":\"AAAAwGCFKsAAAAAgtwwAwA==\"},\"shape\":[2],\"dtype\":\"float64\",\"order\":\"little\"}],[648,{\"type\":\"ndarray\",\"array\":{\"type\":\"bytes\",\"data\":\"AAAAoM2+KcAAAACA/wPkvw==\"},\"shape\":[2],\"dtype\":\"float64\",\"order\":\"little\"}],[649,{\"type\":\"ndarray\",\"array\":{\"type\":\"bytes\",\"data\":\"AAAA4FryJcAAAACgbjHLvw==\"},\"shape\":[2],\"dtype\":\"float64\",\"order\":\"little\"}],[650,{\"type\":\"ndarray\",\"array\":{\"type\":\"bytes\",\"data\":\"AAAA4LmJKcAAAACgXpX/vw==\"},\"shape\":[2],\"dtype\":\"float64\",\"order\":\"little\"}],[651,{\"type\":\"ndarray\",\"array\":{\"type\":\"bytes\",\"data\":\"AAAAoIRgJ8AAAABghWr+vw==\"},\"shape\":[2],\"dtype\":\"float64\",\"order\":\"little\"}],[652,{\"type\":\"ndarray\",\"array\":{\"type\":\"bytes\",\"data\":\"AAAAoH+vKsAAAADgvd3pvw==\"},\"shape\":[2],\"dtype\":\"float64\",\"order\":\"little\"}],[653,{\"type\":\"ndarray\",\"array\":{\"type\":\"bytes\",\"data\":\"AAAAYJAjKMAAAAAAErj2vw==\"},\"shape\":[2],\"dtype\":\"float64\",\"order\":\"little\"}],[654,{\"type\":\"ndarray\",\"array\":{\"type\":\"bytes\",\"data\":\"AAAAgFsQKsAAAACgcNgHwA==\"},\"shape\":[2],\"dtype\":\"float64\",\"order\":\"little\"}],[655,{\"type\":\"ndarray\",\"array\":{\"type\":\"bytes\",\"data\":\"AAAA4AOZKcAAAADA2gkEwA==\"},\"shape\":[2],\"dtype\":\"float64\",\"order\":\"little\"}],[656,{\"type\":\"ndarray\",\"array\":{\"type\":\"bytes\",\"data\":\"AAAAgJ04KMAAAABAlODpvw==\"},\"shape\":[2],\"dtype\":\"float64\",\"order\":\"little\"}],[657,{\"type\":\"ndarray\",\"array\":{\"type\":\"bytes\",\"data\":\"AAAAgIAFKsAAAADgz2W6vw==\"},\"shape\":[2],\"dtype\":\"float64\",\"order\":\"little\"}],[658,{\"type\":\"ndarray\",\"array\":{\"type\":\"bytes\",\"data\":\"AAAAACEqJsAAAADgMWz3vw==\"},\"shape\":[2],\"dtype\":\"float64\",\"order\":\"little\"}],[659,{\"type\":\"ndarray\",\"array\":{\"type\":\"bytes\",\"data\":\"AAAA4PLEJsAAAAAgeU4HwA==\"},\"shape\":[2],\"dtype\":\"float64\",\"order\":\"little\"}],[660,{\"type\":\"ndarray\",\"array\":{\"type\":\"bytes\",\"data\":\"AAAAQAs/JsAAAADAN/b/vw==\"},\"shape\":[2],\"dtype\":\"float64\",\"order\":\"little\"}],[661,{\"type\":\"ndarray\",\"array\":{\"type\":\"bytes\",\"data\":\"AAAAIGetJsAAAAAgUMy8vw==\"},\"shape\":[2],\"dtype\":\"float64\",\"order\":\"little\"}],[662,{\"type\":\"ndarray\",\"array\":{\"type\":\"bytes\",\"data\":\"AAAAYBjFJ8AAAADAiEMJwA==\"},\"shape\":[2],\"dtype\":\"float64\",\"order\":\"little\"}],[663,{\"type\":\"ndarray\",\"array\":{\"type\":\"bytes\",\"data\":\"AAAAgMCIJ8AAAABgKFbgPw==\"},\"shape\":[2],\"dtype\":\"float64\",\"order\":\"little\"}],[664,{\"type\":\"ndarray\",\"array\":{\"type\":\"bytes\",\"data\":\"AAAAQMEoKcAAAABA9ATUvw==\"},\"shape\":[2],\"dtype\":\"float64\",\"order\":\"little\"}],[665,{\"type\":\"ndarray\",\"array\":{\"type\":\"bytes\",\"data\":\"AAAAIIjqKcAAAADgy//3vw==\"},\"shape\":[2],\"dtype\":\"float64\",\"order\":\"little\"}],[666,{\"type\":\"ndarray\",\"array\":{\"type\":\"bytes\",\"data\":\"AAAAwKMWJ8AAAAAAA0Pmvw==\"},\"shape\":[2],\"dtype\":\"float64\",\"order\":\"little\"}],[667,{\"type\":\"ndarray\",\"array\":{\"type\":\"bytes\",\"data\":\"AAAAoAV5878AAACgrDcmQA==\"},\"shape\":[2],\"dtype\":\"float64\",\"order\":\"little\"}],[668,{\"type\":\"ndarray\",\"array\":{\"type\":\"bytes\",\"data\":\"AAAAQCmsBcAAAADAuxwxQA==\"},\"shape\":[2],\"dtype\":\"float64\",\"order\":\"little\"}],[669,{\"type\":\"ndarray\",\"array\":{\"type\":\"bytes\",\"data\":\"AAAAgDMC978AAABAmywvQA==\"},\"shape\":[2],\"dtype\":\"float64\",\"order\":\"little\"}],[670,{\"type\":\"ndarray\",\"array\":{\"type\":\"bytes\",\"data\":\"AAAAoJkpDsAAAADg0woyQA==\"},\"shape\":[2],\"dtype\":\"float64\",\"order\":\"little\"}],[671,{\"type\":\"ndarray\",\"array\":{\"type\":\"bytes\",\"data\":\"AAAAwOb0DsAAAACgLZYgQA==\"},\"shape\":[2],\"dtype\":\"float64\",\"order\":\"little\"}],[672,{\"type\":\"ndarray\",\"array\":{\"type\":\"bytes\",\"data\":\"AAAAIJ8IDcAAAACgq4kwQA==\"},\"shape\":[2],\"dtype\":\"float64\",\"order\":\"little\"}],[673,{\"type\":\"ndarray\",\"array\":{\"type\":\"bytes\",\"data\":\"AAAA4Hq/EMAAAABAp4ssQA==\"},\"shape\":[2],\"dtype\":\"float64\",\"order\":\"little\"}],[674,{\"type\":\"ndarray\",\"array\":{\"type\":\"bytes\",\"data\":\"AAAAYK2k+z8AAACA+TQPQA==\"},\"shape\":[2],\"dtype\":\"float64\",\"order\":\"little\"}],[675,{\"type\":\"ndarray\",\"array\":{\"type\":\"bytes\",\"data\":\"AAAAIJWxDcAAAACgtWstQA==\"},\"shape\":[2],\"dtype\":\"float64\",\"order\":\"little\"}],[676,{\"type\":\"ndarray\",\"array\":{\"type\":\"bytes\",\"data\":\"AAAA4OgtD8AAAAAgy8IuQA==\"},\"shape\":[2],\"dtype\":\"float64\",\"order\":\"little\"}],[677,{\"type\":\"ndarray\",\"array\":{\"type\":\"bytes\",\"data\":\"AAAAgLAi9T8AAACgsm4uQA==\"},\"shape\":[2],\"dtype\":\"float64\",\"order\":\"little\"}],[678,{\"type\":\"ndarray\",\"array\":{\"type\":\"bytes\",\"data\":\"AAAAoHcL5b8AAABg44UxQA==\"},\"shape\":[2],\"dtype\":\"float64\",\"order\":\"little\"}],[679,{\"type\":\"ndarray\",\"array\":{\"type\":\"bytes\",\"data\":\"AAAAYBClE8AAAAAgrRowQA==\"},\"shape\":[2],\"dtype\":\"float64\",\"order\":\"little\"}],[680,{\"type\":\"ndarray\",\"array\":{\"type\":\"bytes\",\"data\":\"AAAAoNAnGEAAAADgXWnxPw==\"},\"shape\":[2],\"dtype\":\"float64\",\"order\":\"little\"}],[681,{\"type\":\"ndarray\",\"array\":{\"type\":\"bytes\",\"data\":\"AAAAIOdn8j8AAADgYHYqQA==\"},\"shape\":[2],\"dtype\":\"float64\",\"order\":\"little\"}],[682,{\"type\":\"ndarray\",\"array\":{\"type\":\"bytes\",\"data\":\"AAAAoEe34r8AAAAApEEyQA==\"},\"shape\":[2],\"dtype\":\"float64\",\"order\":\"little\"}],[683,{\"type\":\"ndarray\",\"array\":{\"type\":\"bytes\",\"data\":\"AAAA4LkdBsAAAADgJIwxQA==\"},\"shape\":[2],\"dtype\":\"float64\",\"order\":\"little\"}],[684,{\"type\":\"ndarray\",\"array\":{\"type\":\"bytes\",\"data\":\"AAAAwL8GEcAAAADgqgUuQA==\"},\"shape\":[2],\"dtype\":\"float64\",\"order\":\"little\"}],[685,{\"type\":\"ndarray\",\"array\":{\"type\":\"bytes\",\"data\":\"AAAA4HGAEsAAAABgYTwrQA==\"},\"shape\":[2],\"dtype\":\"float64\",\"order\":\"little\"}],[686,{\"type\":\"ndarray\",\"array\":{\"type\":\"bytes\",\"data\":\"AAAAwPcv6z8AAABguAgvQA==\"},\"shape\":[2],\"dtype\":\"float64\",\"order\":\"little\"}],[687,{\"type\":\"ndarray\",\"array\":{\"type\":\"bytes\",\"data\":\"AAAAQFva7j8AAAAA3q4tQA==\"},\"shape\":[2],\"dtype\":\"float64\",\"order\":\"little\"}],[688,{\"type\":\"ndarray\",\"array\":{\"type\":\"bytes\",\"data\":\"AAAAYMI3F8AAAACAhdMvQA==\"},\"shape\":[2],\"dtype\":\"float64\",\"order\":\"little\"}],[689,{\"type\":\"ndarray\",\"array\":{\"type\":\"bytes\",\"data\":\"AAAAIGkp/r8AAAAg5qAwQA==\"},\"shape\":[2],\"dtype\":\"float64\",\"order\":\"little\"}],[690,{\"type\":\"ndarray\",\"array\":{\"type\":\"bytes\",\"data\":\"AAAAgMiND0AAAABgiI8fQA==\"},\"shape\":[2],\"dtype\":\"float64\",\"order\":\"little\"}],[691,{\"type\":\"ndarray\",\"array\":{\"type\":\"bytes\",\"data\":\"AAAAIDwuA8AAAABgijEtQA==\"},\"shape\":[2],\"dtype\":\"float64\",\"order\":\"little\"}],[692,{\"type\":\"ndarray\",\"array\":{\"type\":\"bytes\",\"data\":\"AAAAIEerAUAAAABgcd0sQA==\"},\"shape\":[2],\"dtype\":\"float64\",\"order\":\"little\"}],[693,{\"type\":\"ndarray\",\"array\":{\"type\":\"bytes\",\"data\":\"AAAAAOWX8r8AAACA3QoxQA==\"},\"shape\":[2],\"dtype\":\"float64\",\"order\":\"little\"}],[694,{\"type\":\"ndarray\",\"array\":{\"type\":\"bytes\",\"data\":\"AAAA4J9wCsAAAACg/SMgQA==\"},\"shape\":[2],\"dtype\":\"float64\",\"order\":\"little\"}],[695,{\"type\":\"ndarray\",\"array\":{\"type\":\"bytes\",\"data\":\"AAAAYD2XEMAAAAAg3aQwQA==\"},\"shape\":[2],\"dtype\":\"float64\",\"order\":\"little\"}],[696,{\"type\":\"ndarray\",\"array\":{\"type\":\"bytes\",\"data\":\"AAAAwD4SDcAAAABgoxAhQA==\"},\"shape\":[2],\"dtype\":\"float64\",\"order\":\"little\"}],[697,{\"type\":\"ndarray\",\"array\":{\"type\":\"bytes\",\"data\":\"AAAAAIe7CsAAAAAgfBUyQA==\"},\"shape\":[2],\"dtype\":\"float64\",\"order\":\"little\"}],[698,{\"type\":\"ndarray\",\"array\":{\"type\":\"bytes\",\"data\":\"AAAAIDEiCcAAAACAE6ctQA==\"},\"shape\":[2],\"dtype\":\"float64\",\"order\":\"little\"}],[699,{\"type\":\"ndarray\",\"array\":{\"type\":\"bytes\",\"data\":\"AAAAoO/3BEAAAAAAA70pQA==\"},\"shape\":[2],\"dtype\":\"float64\",\"order\":\"little\"}],[700,{\"type\":\"ndarray\",\"array\":{\"type\":\"bytes\",\"data\":\"AAAAwAnNrb8AAACg/9kvQA==\"},\"shape\":[2],\"dtype\":\"float64\",\"order\":\"little\"}],[701,{\"type\":\"ndarray\",\"array\":{\"type\":\"bytes\",\"data\":\"AAAAwNzdB8AAAACgyEAyQA==\"},\"shape\":[2],\"dtype\":\"float64\",\"order\":\"little\"}],[702,{\"type\":\"ndarray\",\"array\":{\"type\":\"bytes\",\"data\":\"AAAAIKmD2b8AAABgFyYxQA==\"},\"shape\":[2],\"dtype\":\"float64\",\"order\":\"little\"}],[703,{\"type\":\"ndarray\",\"array\":{\"type\":\"bytes\",\"data\":\"AAAAoKgRFcAAAACgmO8uQA==\"},\"shape\":[2],\"dtype\":\"float64\",\"order\":\"little\"}],[704,{\"type\":\"ndarray\",\"array\":{\"type\":\"bytes\",\"data\":\"AAAAAAY3/L8AAABgNxAwQA==\"},\"shape\":[2],\"dtype\":\"float64\",\"order\":\"little\"}],[705,{\"type\":\"ndarray\",\"array\":{\"type\":\"bytes\",\"data\":\"AAAAIP/9FMAAAAAAPzItQA==\"},\"shape\":[2],\"dtype\":\"float64\",\"order\":\"little\"}],[706,{\"type\":\"ndarray\",\"array\":{\"type\":\"bytes\",\"data\":\"AAAAQKpz2r8AAABgnYowQA==\"},\"shape\":[2],\"dtype\":\"float64\",\"order\":\"little\"}],[707,{\"type\":\"ndarray\",\"array\":{\"type\":\"bytes\",\"data\":\"AAAAgJyZ9z8AAABgaV0xQA==\"},\"shape\":[2],\"dtype\":\"float64\",\"order\":\"little\"}],[708,{\"type\":\"ndarray\",\"array\":{\"type\":\"bytes\",\"data\":\"AAAAIFzxE8AAAACAAOQrQA==\"},\"shape\":[2],\"dtype\":\"float64\",\"order\":\"little\"}],[709,{\"type\":\"ndarray\",\"array\":{\"type\":\"bytes\",\"data\":\"AAAAwC0XBcAAAADgsFkuQA==\"},\"shape\":[2],\"dtype\":\"float64\",\"order\":\"little\"}],[710,{\"type\":\"ndarray\",\"array\":{\"type\":\"bytes\",\"data\":\"AAAA4MG5/T8AAADA26AuQA==\"},\"shape\":[2],\"dtype\":\"float64\",\"order\":\"little\"}],[711,{\"type\":\"ndarray\",\"array\":{\"type\":\"bytes\",\"data\":\"AAAAQCBxFMAAAABgcJUwQA==\"},\"shape\":[2],\"dtype\":\"float64\",\"order\":\"little\"}],[712,{\"type\":\"ndarray\",\"array\":{\"type\":\"bytes\",\"data\":\"AAAAIMd2BkAAAAAAs0MRQA==\"},\"shape\":[2],\"dtype\":\"float64\",\"order\":\"little\"}],[713,{\"type\":\"ndarray\",\"array\":{\"type\":\"bytes\",\"data\":\"AAAA4HYy7b8AAADA6z0sQA==\"},\"shape\":[2],\"dtype\":\"float64\",\"order\":\"little\"}],[714,{\"type\":\"ndarray\",\"array\":{\"type\":\"bytes\",\"data\":\"AAAAABhSB0AAAACAdp0sQA==\"},\"shape\":[2],\"dtype\":\"float64\",\"order\":\"little\"}],[715,{\"type\":\"ndarray\",\"array\":{\"type\":\"bytes\",\"data\":\"AAAAwLuP5j8AAADAZ/oxQA==\"},\"shape\":[2],\"dtype\":\"float64\",\"order\":\"little\"}],[716,{\"type\":\"ndarray\",\"array\":{\"type\":\"bytes\",\"data\":\"AAAAQNxzCsAAAACggNkuQA==\"},\"shape\":[2],\"dtype\":\"float64\",\"order\":\"little\"}],[717,{\"type\":\"ndarray\",\"array\":{\"type\":\"bytes\",\"data\":\"AAAAIElSE8AAAAAAwBYuQA==\"},\"shape\":[2],\"dtype\":\"float64\",\"order\":\"little\"}],[718,{\"type\":\"ndarray\",\"array\":{\"type\":\"bytes\",\"data\":\"AAAAoNFvAcAAAAAgJacxQA==\"},\"shape\":[2],\"dtype\":\"float64\",\"order\":\"little\"}],[719,{\"type\":\"ndarray\",\"array\":{\"type\":\"bytes\",\"data\":\"AAAAQBeJD8AAAACAcXIrQA==\"},\"shape\":[2],\"dtype\":\"float64\",\"order\":\"little\"}],[720,{\"type\":\"ndarray\",\"array\":{\"type\":\"bytes\",\"data\":\"AAAAAA6rEcAAAACA+MQvQA==\"},\"shape\":[2],\"dtype\":\"float64\",\"order\":\"little\"}],[721,{\"type\":\"ndarray\",\"array\":{\"type\":\"bytes\",\"data\":\"AAAAAApppz8AAACgB34wQA==\"},\"shape\":[2],\"dtype\":\"float64\",\"order\":\"little\"}],[722,{\"type\":\"ndarray\",\"array\":{\"type\":\"bytes\",\"data\":\"AAAAAFhQ8z8AAADArecvQA==\"},\"shape\":[2],\"dtype\":\"float64\",\"order\":\"little\"}],[723,{\"type\":\"ndarray\",\"array\":{\"type\":\"bytes\",\"data\":\"AAAAYNZg9b8AAAAgUnUwQA==\"},\"shape\":[2],\"dtype\":\"float64\",\"order\":\"little\"}],[724,{\"type\":\"ndarray\",\"array\":{\"type\":\"bytes\",\"data\":\"AAAAQHbi7b8AAAAg9gkwQA==\"},\"shape\":[2],\"dtype\":\"float64\",\"order\":\"little\"}],[725,{\"type\":\"ndarray\",\"array\":{\"type\":\"bytes\",\"data\":\"AAAAAOkY9b8AAADARDQyQA==\"},\"shape\":[2],\"dtype\":\"float64\",\"order\":\"little\"}],[726,{\"type\":\"ndarray\",\"array\":{\"type\":\"bytes\",\"data\":\"AAAAQANyGUAAAABgeHL6Pw==\"},\"shape\":[2],\"dtype\":\"float64\",\"order\":\"little\"}],[727,{\"type\":\"ndarray\",\"array\":{\"type\":\"bytes\",\"data\":\"AAAAwLNS8T8AAAAgJ64xQA==\"},\"shape\":[2],\"dtype\":\"float64\",\"order\":\"little\"}],[728,{\"type\":\"ndarray\",\"array\":{\"type\":\"bytes\",\"data\":\"AAAAgAVGFsAAAADAEogwQA==\"},\"shape\":[2],\"dtype\":\"float64\",\"order\":\"little\"}],[729,{\"type\":\"ndarray\",\"array\":{\"type\":\"bytes\",\"data\":\"AAAAoILX4T8AAAAAfOswQA==\"},\"shape\":[2],\"dtype\":\"float64\",\"order\":\"little\"}],[730,{\"type\":\"ndarray\",\"array\":{\"type\":\"bytes\",\"data\":\"AAAAwNaTAMAAAACA54EyQA==\"},\"shape\":[2],\"dtype\":\"float64\",\"order\":\"little\"}],[731,{\"type\":\"ndarray\",\"array\":{\"type\":\"bytes\",\"data\":\"AAAAwJ+k+j8AAADg1fgvQA==\"},\"shape\":[2],\"dtype\":\"float64\",\"order\":\"little\"}],[732,{\"type\":\"ndarray\",\"array\":{\"type\":\"bytes\",\"data\":\"AAAAQBNn+r8AAAAgOLoxQA==\"},\"shape\":[2],\"dtype\":\"float64\",\"order\":\"little\"}],[733,{\"type\":\"ndarray\",\"array\":{\"type\":\"bytes\",\"data\":\"AAAA4CVbC8AAAADguScsQA==\"},\"shape\":[2],\"dtype\":\"float64\",\"order\":\"little\"}],[734,{\"type\":\"ndarray\",\"array\":{\"type\":\"bytes\",\"data\":\"AAAAwL9V3T8AAACgrpIvQA==\"},\"shape\":[2],\"dtype\":\"float64\",\"order\":\"little\"}],[735,{\"type\":\"ndarray\",\"array\":{\"type\":\"bytes\",\"data\":\"AAAAQFvm+j8AAADgrWktQA==\"},\"shape\":[2],\"dtype\":\"float64\",\"order\":\"little\"}],[736,{\"type\":\"ndarray\",\"array\":{\"type\":\"bytes\",\"data\":\"AAAAYId/FMAAAADgXggxQA==\"},\"shape\":[2],\"dtype\":\"float64\",\"order\":\"little\"}],[737,{\"type\":\"ndarray\",\"array\":{\"type\":\"bytes\",\"data\":\"AAAAgI/K7L8AAADgNLQuQA==\"},\"shape\":[2],\"dtype\":\"float64\",\"order\":\"little\"}],[738,{\"type\":\"ndarray\",\"array\":{\"type\":\"bytes\",\"data\":\"AAAAYM0HEcAAAADgBVkxQA==\"},\"shape\":[2],\"dtype\":\"float64\",\"order\":\"little\"}],[739,{\"type\":\"ndarray\",\"array\":{\"type\":\"bytes\",\"data\":\"AAAAIFu3A0AAAABAIOIrQA==\"},\"shape\":[2],\"dtype\":\"float64\",\"order\":\"little\"}],[740,{\"type\":\"ndarray\",\"array\":{\"type\":\"bytes\",\"data\":\"AAAA4HNY8D8AAACgRGowQA==\"},\"shape\":[2],\"dtype\":\"float64\",\"order\":\"little\"}],[741,{\"type\":\"ndarray\",\"array\":{\"type\":\"bytes\",\"data\":\"AAAAIEuICMAAAAAgmj8wQA==\"},\"shape\":[2],\"dtype\":\"float64\",\"order\":\"little\"}],[742,{\"type\":\"ndarray\",\"array\":{\"type\":\"bytes\",\"data\":\"AAAAQOuWEsAAAABANgoxQA==\"},\"shape\":[2],\"dtype\":\"float64\",\"order\":\"little\"}],[743,{\"type\":\"ndarray\",\"array\":{\"type\":\"bytes\",\"data\":\"AAAAgO9H978AAAAAg8gsQA==\"},\"shape\":[2],\"dtype\":\"float64\",\"order\":\"little\"}],[744,{\"type\":\"ndarray\",\"array\":{\"type\":\"bytes\",\"data\":\"AAAAAJD/4D8AAAAgvmUwQA==\"},\"shape\":[2],\"dtype\":\"float64\",\"order\":\"little\"}],[745,{\"type\":\"ndarray\",\"array\":{\"type\":\"bytes\",\"data\":\"AAAAgGYCEMAAAADgSAgwQA==\"},\"shape\":[2],\"dtype\":\"float64\",\"order\":\"little\"}],[746,{\"type\":\"ndarray\",\"array\":{\"type\":\"bytes\",\"data\":\"AAAA4OZk6r8AAACABLEwQA==\"},\"shape\":[2],\"dtype\":\"float64\",\"order\":\"little\"}],[747,{\"type\":\"ndarray\",\"array\":{\"type\":\"bytes\",\"data\":\"AAAAQDB08D8AAADgrRoxQA==\"},\"shape\":[2],\"dtype\":\"float64\",\"order\":\"little\"}],[748,{\"type\":\"ndarray\",\"array\":{\"type\":\"bytes\",\"data\":\"AAAAwI4i2D8AAAAAWIktQA==\"},\"shape\":[2],\"dtype\":\"float64\",\"order\":\"little\"}],[749,{\"type\":\"ndarray\",\"array\":{\"type\":\"bytes\",\"data\":\"AAAAgE5mBEAAAADghckqQA==\"},\"shape\":[2],\"dtype\":\"float64\",\"order\":\"little\"}],[750,{\"type\":\"ndarray\",\"array\":{\"type\":\"bytes\",\"data\":\"AAAAQP6h1L8AAABAjFQtQA==\"},\"shape\":[2],\"dtype\":\"float64\",\"order\":\"little\"}],[751,{\"type\":\"ndarray\",\"array\":{\"type\":\"bytes\",\"data\":\"AAAAwF2e7b8AAACgzYEyQA==\"},\"shape\":[2],\"dtype\":\"float64\",\"order\":\"little\"}],[752,{\"type\":\"ndarray\",\"array\":{\"type\":\"bytes\",\"data\":\"AAAAwLUXC8AAAABgCRQxQA==\"},\"shape\":[2],\"dtype\":\"float64\",\"order\":\"little\"}],[753,{\"type\":\"ndarray\",\"array\":{\"type\":\"bytes\",\"data\":\"AAAAwDYzFsAAAACgGCMuQA==\"},\"shape\":[2],\"dtype\":\"float64\",\"order\":\"little\"}],[754,{\"type\":\"ndarray\",\"array\":{\"type\":\"bytes\",\"data\":\"AAAAAAzO878AAAAAR3kxQA==\"},\"shape\":[2],\"dtype\":\"float64\",\"order\":\"little\"}],[755,{\"type\":\"ndarray\",\"array\":{\"type\":\"bytes\",\"data\":\"AAAA4DH4EsAAAAAgaBovQA==\"},\"shape\":[2],\"dtype\":\"float64\",\"order\":\"little\"}],[756,{\"type\":\"ndarray\",\"array\":{\"type\":\"bytes\",\"data\":\"AAAAQF4Zsj8AAABAuoouQA==\"},\"shape\":[2],\"dtype\":\"float64\",\"order\":\"little\"}],[757,{\"type\":\"ndarray\",\"array\":{\"type\":\"bytes\",\"data\":\"AAAAwI3YEsAAAAAA2IIxQA==\"},\"shape\":[2],\"dtype\":\"float64\",\"order\":\"little\"}],[758,{\"type\":\"ndarray\",\"array\":{\"type\":\"bytes\",\"data\":\"AAAAYBbMtz8AAADgdSMxQA==\"},\"shape\":[2],\"dtype\":\"float64\",\"order\":\"little\"}],[759,{\"type\":\"ndarray\",\"array\":{\"type\":\"bytes\",\"data\":\"AAAAoMZ/A8AAAADAYqMwQA==\"},\"shape\":[2],\"dtype\":\"float64\",\"order\":\"little\"}],[760,{\"type\":\"ndarray\",\"array\":{\"type\":\"bytes\",\"data\":\"AAAAwFY8/78AAAAAwBwyQA==\"},\"shape\":[2],\"dtype\":\"float64\",\"order\":\"little\"}],[761,{\"type\":\"ndarray\",\"array\":{\"type\":\"bytes\",\"data\":\"AAAAIKEV9j8AAADAKLowQA==\"},\"shape\":[2],\"dtype\":\"float64\",\"order\":\"little\"}],[762,{\"type\":\"ndarray\",\"array\":{\"type\":\"bytes\",\"data\":\"AAAAwOLmv78AAACAr1oyQA==\"},\"shape\":[2],\"dtype\":\"float64\",\"order\":\"little\"}],[763,{\"type\":\"ndarray\",\"array\":{\"type\":\"bytes\",\"data\":\"AAAAANq7EMAAAAAAg8sxQA==\"},\"shape\":[2],\"dtype\":\"float64\",\"order\":\"little\"}],[764,{\"type\":\"ndarray\",\"array\":{\"type\":\"bytes\",\"data\":\"AAAAYBoHAEAAAADgnWcwQA==\"},\"shape\":[2],\"dtype\":\"float64\",\"order\":\"little\"}],[765,{\"type\":\"ndarray\",\"array\":{\"type\":\"bytes\",\"data\":\"AAAA4D4G+b8AAADADIkyQA==\"},\"shape\":[2],\"dtype\":\"float64\",\"order\":\"little\"}],[766,{\"type\":\"ndarray\",\"array\":{\"type\":\"bytes\",\"data\":\"AAAAoJJZ/j8AAADgqcIpQA==\"},\"shape\":[2],\"dtype\":\"float64\",\"order\":\"little\"}],[767,{\"type\":\"ndarray\",\"array\":{\"type\":\"bytes\",\"data\":\"AAAAIAW1BMAAAAAgFPUxQA==\"},\"shape\":[2],\"dtype\":\"float64\",\"order\":\"little\"}],[768,{\"type\":\"ndarray\",\"array\":{\"type\":\"bytes\",\"data\":\"AAAAYLIlBEAAAADgPmAvQA==\"},\"shape\":[2],\"dtype\":\"float64\",\"order\":\"little\"}],[769,{\"type\":\"ndarray\",\"array\":{\"type\":\"bytes\",\"data\":\"AAAAAPaT+z8AAACgXD4sQA==\"},\"shape\":[2],\"dtype\":\"float64\",\"order\":\"little\"}],[770,{\"type\":\"ndarray\",\"array\":{\"type\":\"bytes\",\"data\":\"AAAAYLh+BUAAAABA9I4tQA==\"},\"shape\":[2],\"dtype\":\"float64\",\"order\":\"little\"}],[771,{\"type\":\"ndarray\",\"array\":{\"type\":\"bytes\",\"data\":\"AAAAAOa8EsAAAACg5/wsQA==\"},\"shape\":[2],\"dtype\":\"float64\",\"order\":\"little\"}],[772,{\"type\":\"ndarray\",\"array\":{\"type\":\"bytes\",\"data\":\"AAAAALElD8AAAACAghIxQA==\"},\"shape\":[2],\"dtype\":\"float64\",\"order\":\"little\"}],[773,{\"type\":\"ndarray\",\"array\":{\"type\":\"bytes\",\"data\":\"AAAAoFHS778AAABAJOExQA==\"},\"shape\":[2],\"dtype\":\"float64\",\"order\":\"little\"}],[774,{\"type\":\"ndarray\",\"array\":{\"type\":\"bytes\",\"data\":\"AAAAoLL6AMAAAABgVAQvQA==\"},\"shape\":[2],\"dtype\":\"float64\",\"order\":\"little\"}],[775,{\"type\":\"ndarray\",\"array\":{\"type\":\"bytes\",\"data\":\"AAAAAKKoCcAAAAAAj48xQA==\"},\"shape\":[2],\"dtype\":\"float64\",\"order\":\"little\"}],[776,{\"type\":\"ndarray\",\"array\":{\"type\":\"bytes\",\"data\":\"AAAAQHHWxb8AAADgWDAsQA==\"},\"shape\":[2],\"dtype\":\"float64\",\"order\":\"little\"}],[777,{\"type\":\"ndarray\",\"array\":{\"type\":\"bytes\",\"data\":\"AAAAYDpKBsAAAABAK4UvQA==\"},\"shape\":[2],\"dtype\":\"float64\",\"order\":\"little\"}],[778,{\"type\":\"ndarray\",\"array\":{\"type\":\"bytes\",\"data\":\"AAAAQHD7FcAAAADgpRIsQA==\"},\"shape\":[2],\"dtype\":\"float64\",\"order\":\"little\"}],[779,{\"type\":\"ndarray\",\"array\":{\"type\":\"bytes\",\"data\":\"AAAAoCWBDcAAAABAqo8xQA==\"},\"shape\":[2],\"dtype\":\"float64\",\"order\":\"little\"}],[780,{\"type\":\"ndarray\",\"array\":{\"type\":\"bytes\",\"data\":\"AAAAoCcjDMAAAAAAheIvQA==\"},\"shape\":[2],\"dtype\":\"float64\",\"order\":\"little\"}],[781,{\"type\":\"ndarray\",\"array\":{\"type\":\"bytes\",\"data\":\"AAAAoD8X3r8AAABggVAvQA==\"},\"shape\":[2],\"dtype\":\"float64\",\"order\":\"little\"}],[782,{\"type\":\"ndarray\",\"array\":{\"type\":\"bytes\",\"data\":\"AAAAILH/+78AAAAA+NEtQA==\"},\"shape\":[2],\"dtype\":\"float64\",\"order\":\"little\"}],[783,{\"type\":\"ndarray\",\"array\":{\"type\":\"bytes\",\"data\":\"AAAAoDSi/78AAAAAa9crQA==\"},\"shape\":[2],\"dtype\":\"float64\",\"order\":\"little\"}],[784,{\"type\":\"ndarray\",\"array\":{\"type\":\"bytes\",\"data\":\"AAAAwFE8CMAAAADANb0wQA==\"},\"shape\":[2],\"dtype\":\"float64\",\"order\":\"little\"}],[785,{\"type\":\"ndarray\",\"array\":{\"type\":\"bytes\",\"data\":\"AAAAoJgKuT8AAACA3aQxQA==\"},\"shape\":[2],\"dtype\":\"float64\",\"order\":\"little\"}],[786,{\"type\":\"ndarray\",\"array\":{\"type\":\"bytes\",\"data\":\"AAAAwFqL8j8AAADgiA8sQA==\"},\"shape\":[2],\"dtype\":\"float64\",\"order\":\"little\"}],[787,{\"type\":\"ndarray\",\"array\":{\"type\":\"bytes\",\"data\":\"AAAAgNOFCEAAAADAl4orQA==\"},\"shape\":[2],\"dtype\":\"float64\",\"order\":\"little\"}],[788,{\"type\":\"ndarray\",\"array\":{\"type\":\"bytes\",\"data\":\"AAAA4OOL7r8AAADABaItQA==\"},\"shape\":[2],\"dtype\":\"float64\",\"order\":\"little\"}],[789,{\"type\":\"ndarray\",\"array\":{\"type\":\"bytes\",\"data\":\"AAAAAJnQAsAAAADAcRUwQA==\"},\"shape\":[2],\"dtype\":\"float64\",\"order\":\"little\"}],[790,{\"type\":\"ndarray\",\"array\":{\"type\":\"bytes\",\"data\":\"AAAAgLwUAUAAAABAk9IvQA==\"},\"shape\":[2],\"dtype\":\"float64\",\"order\":\"little\"}],[791,{\"type\":\"ndarray\",\"array\":{\"type\":\"bytes\",\"data\":\"AAAA4GjY4j8AAADgr3UxQA==\"},\"shape\":[2],\"dtype\":\"float64\",\"order\":\"little\"}],[792,{\"type\":\"ndarray\",\"array\":{\"type\":\"bytes\",\"data\":\"AAAAoG23/T8AAAAgQAwrQA==\"},\"shape\":[2],\"dtype\":\"float64\",\"order\":\"little\"}],[793,{\"type\":\"ndarray\",\"array\":{\"type\":\"bytes\",\"data\":\"AAAAIAVP5D8AAACgZVcsQA==\"},\"shape\":[2],\"dtype\":\"float64\",\"order\":\"little\"}],[794,{\"type\":\"ndarray\",\"array\":{\"type\":\"bytes\",\"data\":\"AAAAADhMBMAAAABg4GsyQA==\"},\"shape\":[2],\"dtype\":\"float64\",\"order\":\"little\"}],[795,{\"type\":\"ndarray\",\"array\":{\"type\":\"bytes\",\"data\":\"AAAAIB1aEsAAAACAaYQwQA==\"},\"shape\":[2],\"dtype\":\"float64\",\"order\":\"little\"}],[796,{\"type\":\"ndarray\",\"array\":{\"type\":\"bytes\",\"data\":\"AAAAgL2KFcAAAADguAUwQA==\"},\"shape\":[2],\"dtype\":\"float64\",\"order\":\"little\"}],[797,{\"type\":\"ndarray\",\"array\":{\"type\":\"bytes\",\"data\":\"AAAAQNhj1L8AAACAst8xQA==\"},\"shape\":[2],\"dtype\":\"float64\",\"order\":\"little\"}],[798,{\"type\":\"ndarray\",\"array\":{\"type\":\"bytes\",\"data\":\"AAAAwKDUAkAAAABgQkYuQA==\"},\"shape\":[2],\"dtype\":\"float64\",\"order\":\"little\"}],[799,{\"type\":\"ndarray\",\"array\":{\"type\":\"bytes\",\"data\":\"AAAAwPuRF8AAAACggssuQA==\"},\"shape\":[2],\"dtype\":\"float64\",\"order\":\"little\"}],[800,{\"type\":\"ndarray\",\"array\":{\"type\":\"bytes\",\"data\":\"AAAAIPmJBsAAAABgQyksQA==\"},\"shape\":[2],\"dtype\":\"float64\",\"order\":\"little\"}],[801,{\"type\":\"ndarray\",\"array\":{\"type\":\"bytes\",\"data\":\"AAAAQDMtF8AAAACABTctQA==\"},\"shape\":[2],\"dtype\":\"float64\",\"order\":\"little\"}],[802,{\"type\":\"ndarray\",\"array\":{\"type\":\"bytes\",\"data\":\"AAAA4LZf1T8AAABAKicrQA==\"},\"shape\":[2],\"dtype\":\"float64\",\"order\":\"little\"}],[803,{\"type\":\"ndarray\",\"array\":{\"type\":\"bytes\",\"data\":\"AAAAYKGAAcAAAADgxzcxQA==\"},\"shape\":[2],\"dtype\":\"float64\",\"order\":\"little\"}],[804,{\"type\":\"ndarray\",\"array\":{\"type\":\"bytes\",\"data\":\"AAAAwG/b/D8AAABAct0wQA==\"},\"shape\":[2],\"dtype\":\"float64\",\"order\":\"little\"}],[805,{\"type\":\"ndarray\",\"array\":{\"type\":\"bytes\",\"data\":\"AAAAgEFA+78AAAAAoycxQA==\"},\"shape\":[2],\"dtype\":\"float64\",\"order\":\"little\"}],[806,{\"type\":\"ndarray\",\"array\":{\"type\":\"bytes\",\"data\":\"AAAAgFqj0T8AAADAgRsyQA==\"},\"shape\":[2],\"dtype\":\"float64\",\"order\":\"little\"}],[807,{\"type\":\"ndarray\",\"array\":{\"type\":\"bytes\",\"data\":\"AAAAQJ1lE8AAAADAFrIMQA==\"},\"shape\":[2],\"dtype\":\"float64\",\"order\":\"little\"}],[808,{\"type\":\"ndarray\",\"array\":{\"type\":\"bytes\",\"data\":\"AAAAwO9MIcAAAADgakUWQA==\"},\"shape\":[2],\"dtype\":\"float64\",\"order\":\"little\"}],[809,{\"type\":\"ndarray\",\"array\":{\"type\":\"bytes\",\"data\":\"AAAAYNs3JcAAAACgCGcYQA==\"},\"shape\":[2],\"dtype\":\"float64\",\"order\":\"little\"}],[810,{\"type\":\"ndarray\",\"array\":{\"type\":\"bytes\",\"data\":\"AAAAIHCgH8AAAADAvBQgQA==\"},\"shape\":[2],\"dtype\":\"float64\",\"order\":\"little\"}],[811,{\"type\":\"ndarray\",\"array\":{\"type\":\"bytes\",\"data\":\"AAAA4ALVJcAAAACAAX8WQA==\"},\"shape\":[2],\"dtype\":\"float64\",\"order\":\"little\"}],[812,{\"type\":\"ndarray\",\"array\":{\"type\":\"bytes\",\"data\":\"AAAAYC2BH8AAAABgSsMdQA==\"},\"shape\":[2],\"dtype\":\"float64\",\"order\":\"little\"}],[813,{\"type\":\"ndarray\",\"array\":{\"type\":\"bytes\",\"data\":\"AAAAAN34FsAAAADgg84aQA==\"},\"shape\":[2],\"dtype\":\"float64\",\"order\":\"little\"}],[814,{\"type\":\"ndarray\",\"array\":{\"type\":\"bytes\",\"data\":\"AAAAoC9mIcAAAABg8nQcQA==\"},\"shape\":[2],\"dtype\":\"float64\",\"order\":\"little\"}],[815,{\"type\":\"ndarray\",\"array\":{\"type\":\"bytes\",\"data\":\"AAAAAAyDIcAAAACArhERQA==\"},\"shape\":[2],\"dtype\":\"float64\",\"order\":\"little\"}],[816,{\"type\":\"ndarray\",\"array\":{\"type\":\"bytes\",\"data\":\"AAAAYN1iIMAAAAAg5hYaQA==\"},\"shape\":[2],\"dtype\":\"float64\",\"order\":\"little\"}],[817,{\"type\":\"ndarray\",\"array\":{\"type\":\"bytes\",\"data\":\"AAAAILWOJMAAAABAJ0kaQA==\"},\"shape\":[2],\"dtype\":\"float64\",\"order\":\"little\"}],[818,{\"type\":\"ndarray\",\"array\":{\"type\":\"bytes\",\"data\":\"AAAAgLPRGMAAAACAeh0fQA==\"},\"shape\":[2],\"dtype\":\"float64\",\"order\":\"little\"}],[819,{\"type\":\"ndarray\",\"array\":{\"type\":\"bytes\",\"data\":\"AAAAYPsKH8AAAADgq5kYQA==\"},\"shape\":[2],\"dtype\":\"float64\",\"order\":\"little\"}],[820,{\"type\":\"ndarray\",\"array\":{\"type\":\"bytes\",\"data\":\"AAAA4CnlH8AAAADgjK0VQA==\"},\"shape\":[2],\"dtype\":\"float64\",\"order\":\"little\"}],[821,{\"type\":\"ndarray\",\"array\":{\"type\":\"bytes\",\"data\":\"AAAAYFVvI8AAAAAgOwMVQA==\"},\"shape\":[2],\"dtype\":\"float64\",\"order\":\"little\"}],[822,{\"type\":\"ndarray\",\"array\":{\"type\":\"bytes\",\"data\":\"AAAAYBmpIsAAAABAsHgRQA==\"},\"shape\":[2],\"dtype\":\"float64\",\"order\":\"little\"}],[823,{\"type\":\"ndarray\",\"array\":{\"type\":\"bytes\",\"data\":\"AAAAILZ65j8AAAAgQvjkPw==\"},\"shape\":[2],\"dtype\":\"float64\",\"order\":\"little\"}],[824,{\"type\":\"ndarray\",\"array\":{\"type\":\"bytes\",\"data\":\"AAAA4Mv/GcAAAAAgmjogQA==\"},\"shape\":[2],\"dtype\":\"float64\",\"order\":\"little\"}],[825,{\"type\":\"ndarray\",\"array\":{\"type\":\"bytes\",\"data\":\"AAAA4FOcFsAAAAAg9kwgQA==\"},\"shape\":[2],\"dtype\":\"float64\",\"order\":\"little\"}],[826,{\"type\":\"ndarray\",\"array\":{\"type\":\"bytes\",\"data\":\"AAAAYI75EEAAAACg/PEBwA==\"},\"shape\":[2],\"dtype\":\"float64\",\"order\":\"little\"}],[827,{\"type\":\"ndarray\",\"array\":{\"type\":\"bytes\",\"data\":\"AAAAQJWiG8AAAABAU0gcQA==\"},\"shape\":[2],\"dtype\":\"float64\",\"order\":\"little\"}],[828,{\"type\":\"ndarray\",\"array\":{\"type\":\"bytes\",\"data\":\"AAAAoMCBJcAAAACA5xUTQA==\"},\"shape\":[2],\"dtype\":\"float64\",\"order\":\"little\"}],[829,{\"type\":\"ndarray\",\"array\":{\"type\":\"bytes\",\"data\":\"AAAAgPaUI8AAAADgH3gZQA==\"},\"shape\":[2],\"dtype\":\"float64\",\"order\":\"little\"}],[830,{\"type\":\"ndarray\",\"array\":{\"type\":\"bytes\",\"data\":\"AAAAwGSTIMAAAAAAX3QgQA==\"},\"shape\":[2],\"dtype\":\"float64\",\"order\":\"little\"}],[831,{\"type\":\"ndarray\",\"array\":{\"type\":\"bytes\",\"data\":\"AAAAwH6kHcAAAACgPV0gQA==\"},\"shape\":[2],\"dtype\":\"float64\",\"order\":\"little\"}],[832,{\"type\":\"ndarray\",\"array\":{\"type\":\"bytes\",\"data\":\"AAAAoIRoGMAAAAAAH9IgQA==\"},\"shape\":[2],\"dtype\":\"float64\",\"order\":\"little\"}],[833,{\"type\":\"ndarray\",\"array\":{\"type\":\"bytes\",\"data\":\"AAAAwGEbJsAAAACgYJYUQA==\"},\"shape\":[2],\"dtype\":\"float64\",\"order\":\"little\"}],[834,{\"type\":\"ndarray\",\"array\":{\"type\":\"bytes\",\"data\":\"AAAAgPenI8AAAAAgLMobQA==\"},\"shape\":[2],\"dtype\":\"float64\",\"order\":\"little\"}],[835,{\"type\":\"ndarray\",\"array\":{\"type\":\"bytes\",\"data\":\"AAAAgKhjFMAAAABg3EsdQA==\"},\"shape\":[2],\"dtype\":\"float64\",\"order\":\"little\"}],[836,{\"type\":\"ndarray\",\"array\":{\"type\":\"bytes\",\"data\":\"AAAA4JlMIcAAAACAA4gYQA==\"},\"shape\":[2],\"dtype\":\"float64\",\"order\":\"little\"}],[837,{\"type\":\"ndarray\",\"array\":{\"type\":\"bytes\",\"data\":\"AAAAAJrFIsAAAACgYSIbQA==\"},\"shape\":[2],\"dtype\":\"float64\",\"order\":\"little\"}],[838,{\"type\":\"ndarray\",\"array\":{\"type\":\"bytes\",\"data\":\"AAAAAA6iIsAAAABgOpoWQA==\"},\"shape\":[2],\"dtype\":\"float64\",\"order\":\"little\"}],[839,{\"type\":\"ndarray\",\"array\":{\"type\":\"bytes\",\"data\":\"AAAAoITgFsAAAACANUIdQA==\"},\"shape\":[2],\"dtype\":\"float64\",\"order\":\"little\"}],[840,{\"type\":\"ndarray\",\"array\":{\"type\":\"bytes\",\"data\":\"AAAA4BJhHsAAAADgSYMbQA==\"},\"shape\":[2],\"dtype\":\"float64\",\"order\":\"little\"}],[841,{\"type\":\"ndarray\",\"array\":{\"type\":\"bytes\",\"data\":\"AAAAAB9zG8AAAAAAYB4ZQA==\"},\"shape\":[2],\"dtype\":\"float64\",\"order\":\"little\"}],[842,{\"type\":\"ndarray\",\"array\":{\"type\":\"bytes\",\"data\":\"AAAA4IeuJMAAAABgYGMWQA==\"},\"shape\":[2],\"dtype\":\"float64\",\"order\":\"little\"}],[843,{\"type\":\"ndarray\",\"array\":{\"type\":\"bytes\",\"data\":\"AAAAID9gJcAAAABA9QoQQA==\"},\"shape\":[2],\"dtype\":\"float64\",\"order\":\"little\"}],[844,{\"type\":\"ndarray\",\"array\":{\"type\":\"bytes\",\"data\":\"AAAAIMwQHMAAAACA7Q8hQA==\"},\"shape\":[2],\"dtype\":\"float64\",\"order\":\"little\"}],[845,{\"type\":\"ndarray\",\"array\":{\"type\":\"bytes\",\"data\":\"AAAA4I+KE0AAAABAATb3vw==\"},\"shape\":[2],\"dtype\":\"float64\",\"order\":\"little\"}],[846,{\"type\":\"ndarray\",\"array\":{\"type\":\"bytes\",\"data\":\"AAAAYDuZIsAAAADAwOMYQA==\"},\"shape\":[2],\"dtype\":\"float64\",\"order\":\"little\"}],[847,{\"type\":\"ndarray\",\"array\":{\"type\":\"bytes\",\"data\":\"AAAAgEuTG8AAAACAKHYfQA==\"},\"shape\":[2],\"dtype\":\"float64\",\"order\":\"little\"}],[848,{\"type\":\"ndarray\",\"array\":{\"type\":\"bytes\",\"data\":\"AAAAoOb5I8AAAADAZdgSQA==\"},\"shape\":[2],\"dtype\":\"float64\",\"order\":\"little\"}],[849,{\"type\":\"ndarray\",\"array\":{\"type\":\"bytes\",\"data\":\"AAAAIGkkJsAAAADA474RQA==\"},\"shape\":[2],\"dtype\":\"float64\",\"order\":\"little\"}],[850,{\"type\":\"ndarray\",\"array\":{\"type\":\"bytes\",\"data\":\"AAAAoBG+8D8AAACAZS3tPw==\"},\"shape\":[2],\"dtype\":\"float64\",\"order\":\"little\"}],[851,{\"type\":\"ndarray\",\"array\":{\"type\":\"bytes\",\"data\":\"AAAAIHDRE0AAAABAdvT2vw==\"},\"shape\":[2],\"dtype\":\"float64\",\"order\":\"little\"}],[852,{\"type\":\"ndarray\",\"array\":{\"type\":\"bytes\",\"data\":\"AAAAwHavIcAAAADA6W8bQA==\"},\"shape\":[2],\"dtype\":\"float64\",\"order\":\"little\"}],[853,{\"type\":\"ndarray\",\"array\":{\"type\":\"bytes\",\"data\":\"AAAAQMSSJMAAAAAAPTMRQA==\"},\"shape\":[2],\"dtype\":\"float64\",\"order\":\"little\"}],[854,{\"type\":\"ndarray\",\"array\":{\"type\":\"bytes\",\"data\":\"AAAAQG/7IsAAAADA4zMPQA==\"},\"shape\":[2],\"dtype\":\"float64\",\"order\":\"little\"}],[855,{\"type\":\"ndarray\",\"array\":{\"type\":\"bytes\",\"data\":\"AAAAYLGlIMAAAAAAP28dQA==\"},\"shape\":[2],\"dtype\":\"float64\",\"order\":\"little\"}],[856,{\"type\":\"ndarray\",\"array\":{\"type\":\"bytes\",\"data\":\"AAAAALyHIcAAAABAXSgUQA==\"},\"shape\":[2],\"dtype\":\"float64\",\"order\":\"little\"}],[857,{\"type\":\"ndarray\",\"array\":{\"type\":\"bytes\",\"data\":\"AAAAoPO/JMAAAACgD6QUQA==\"},\"shape\":[2],\"dtype\":\"float64\",\"order\":\"little\"}],[858,{\"type\":\"ndarray\",\"array\":{\"type\":\"bytes\",\"data\":\"AAAAIL4PJMAAAAAgwxQPQA==\"},\"shape\":[2],\"dtype\":\"float64\",\"order\":\"little\"}],[859,{\"type\":\"ndarray\",\"array\":{\"type\":\"bytes\",\"data\":\"AAAAQA90IMAAAABgRP4SQA==\"},\"shape\":[2],\"dtype\":\"float64\",\"order\":\"little\"}],[860,{\"type\":\"ndarray\",\"array\":{\"type\":\"bytes\",\"data\":\"AAAAoNC9IsAAAACA5WsTQA==\"},\"shape\":[2],\"dtype\":\"float64\",\"order\":\"little\"}],[861,{\"type\":\"ndarray\",\"array\":{\"type\":\"bytes\",\"data\":\"AAAAQNWxGcAAAADAVAkbQA==\"},\"shape\":[2],\"dtype\":\"float64\",\"order\":\"little\"}],[862,{\"type\":\"ndarray\",\"array\":{\"type\":\"bytes\",\"data\":\"AAAAAL+CIcAAAABg1yMfQA==\"},\"shape\":[2],\"dtype\":\"float64\",\"order\":\"little\"}],[863,{\"type\":\"ndarray\",\"array\":{\"type\":\"bytes\",\"data\":\"AAAAwFOVIsAAAAAgZUodQA==\"},\"shape\":[2],\"dtype\":\"float64\",\"order\":\"little\"}],[864,{\"type\":\"ndarray\",\"array\":{\"type\":\"bytes\",\"data\":\"AAAA4OEUJMAAAACAj9gXQA==\"},\"shape\":[2],\"dtype\":\"float64\",\"order\":\"little\"}],[865,{\"type\":\"ndarray\",\"array\":{\"type\":\"bytes\",\"data\":\"AAAAIINXHcAAAACALAkXQA==\"},\"shape\":[2],\"dtype\":\"float64\",\"order\":\"little\"}],[866,{\"type\":\"ndarray\",\"array\":{\"type\":\"bytes\",\"data\":\"AAAAQGhuFEAAAAAAErwLwA==\"},\"shape\":[2],\"dtype\":\"float64\",\"order\":\"little\"}],[867,{\"type\":\"ndarray\",\"array\":{\"type\":\"bytes\",\"data\":\"AAAA4BuZI0AAAABgtbkFwA==\"},\"shape\":[2],\"dtype\":\"float64\",\"order\":\"little\"}],[868,{\"type\":\"ndarray\",\"array\":{\"type\":\"bytes\",\"data\":\"AAAAQJHyJEAAAABA8tEMwA==\"},\"shape\":[2],\"dtype\":\"float64\",\"order\":\"little\"}],[869,{\"type\":\"ndarray\",\"array\":{\"type\":\"bytes\",\"data\":\"AAAAQN3HJEAAAABgzcAUwA==\"},\"shape\":[2],\"dtype\":\"float64\",\"order\":\"little\"}],[870,{\"type\":\"ndarray\",\"array\":{\"type\":\"bytes\",\"data\":\"AAAAgCnTI0AAAADgaLQRwA==\"},\"shape\":[2],\"dtype\":\"float64\",\"order\":\"little\"}],[871,{\"type\":\"ndarray\",\"array\":{\"type\":\"bytes\",\"data\":\"AAAAgFoaGkAAAAAAyTIbwA==\"},\"shape\":[2],\"dtype\":\"float64\",\"order\":\"little\"}],[872,{\"type\":\"ndarray\",\"array\":{\"type\":\"bytes\",\"data\":\"AAAAAGe5HUAAAABAuFMWwA==\"},\"shape\":[2],\"dtype\":\"float64\",\"order\":\"little\"}],[873,{\"type\":\"ndarray\",\"array\":{\"type\":\"bytes\",\"data\":\"AAAAoHupHkAAAABgcoMTwA==\"},\"shape\":[2],\"dtype\":\"float64\",\"order\":\"little\"}],[874,{\"type\":\"ndarray\",\"array\":{\"type\":\"bytes\",\"data\":\"AAAA4CgRJEAAAADAwx0dwA==\"},\"shape\":[2],\"dtype\":\"float64\",\"order\":\"little\"}],[875,{\"type\":\"ndarray\",\"array\":{\"type\":\"bytes\",\"data\":\"AAAAgDCLIkAAAABgtOAKwA==\"},\"shape\":[2],\"dtype\":\"float64\",\"order\":\"little\"}],[876,{\"type\":\"ndarray\",\"array\":{\"type\":\"bytes\",\"data\":\"AAAAoHCDIkAAAACA7A4TwA==\"},\"shape\":[2],\"dtype\":\"float64\",\"order\":\"little\"}],[877,{\"type\":\"ndarray\",\"array\":{\"type\":\"bytes\",\"data\":\"AAAAYG8AIUAAAAAAlNsPwA==\"},\"shape\":[2],\"dtype\":\"float64\",\"order\":\"little\"}],[878,{\"type\":\"ndarray\",\"array\":{\"type\":\"bytes\",\"data\":\"AAAAoFpcIUAAAACAQfUTwA==\"},\"shape\":[2],\"dtype\":\"float64\",\"order\":\"little\"}],[879,{\"type\":\"ndarray\",\"array\":{\"type\":\"bytes\",\"data\":\"AAAAwFaqG0AAAADgJ3ghwA==\"},\"shape\":[2],\"dtype\":\"float64\",\"order\":\"little\"}],[880,{\"type\":\"ndarray\",\"array\":{\"type\":\"bytes\",\"data\":\"AAAAABf7JEAAAABgZrYQwA==\"},\"shape\":[2],\"dtype\":\"float64\",\"order\":\"little\"}],[881,{\"type\":\"ndarray\",\"array\":{\"type\":\"bytes\",\"data\":\"AAAAAOgJI0AAAABgJzcGwA==\"},\"shape\":[2],\"dtype\":\"float64\",\"order\":\"little\"}],[882,{\"type\":\"ndarray\",\"array\":{\"type\":\"bytes\",\"data\":\"AAAAYMBtH0AAAABA+jkdwA==\"},\"shape\":[2],\"dtype\":\"float64\",\"order\":\"little\"}],[883,{\"type\":\"ndarray\",\"array\":{\"type\":\"bytes\",\"data\":\"AAAAoK58IkAAAADghsgYwA==\"},\"shape\":[2],\"dtype\":\"float64\",\"order\":\"little\"}],[884,{\"type\":\"ndarray\",\"array\":{\"type\":\"bytes\",\"data\":\"AAAAILNaHkAAAABgJTDRvw==\"},\"shape\":[2],\"dtype\":\"float64\",\"order\":\"little\"}],[885,{\"type\":\"ndarray\",\"array\":{\"type\":\"bytes\",\"data\":\"AAAAYGo0JEAAAADglpAWwA==\"},\"shape\":[2],\"dtype\":\"float64\",\"order\":\"little\"}],[886,{\"type\":\"ndarray\",\"array\":{\"type\":\"bytes\",\"data\":\"AAAAIOM0IEAAAAAA3g8gwA==\"},\"shape\":[2],\"dtype\":\"float64\",\"order\":\"little\"}],[887,{\"type\":\"ndarray\",\"array\":{\"type\":\"bytes\",\"data\":\"AAAAgG+wGUAAAABgAVUgwA==\"},\"shape\":[2],\"dtype\":\"float64\",\"order\":\"little\"}],[888,{\"type\":\"ndarray\",\"array\":{\"type\":\"bytes\",\"data\":\"AAAAwDWiFkAAAAAAAF4ewA==\"},\"shape\":[2],\"dtype\":\"float64\",\"order\":\"little\"}],[889,{\"type\":\"ndarray\",\"array\":{\"type\":\"bytes\",\"data\":\"AAAAAPSsI0AAAAAAmdEEwA==\"},\"shape\":[2],\"dtype\":\"float64\",\"order\":\"little\"}],[890,{\"type\":\"ndarray\",\"array\":{\"type\":\"bytes\",\"data\":\"AAAAoBGNJEAAAADgeLUHwA==\"},\"shape\":[2],\"dtype\":\"float64\",\"order\":\"little\"}],[891,{\"type\":\"ndarray\",\"array\":{\"type\":\"bytes\",\"data\":\"AAAAIGEkI0AAAABAeAIPwA==\"},\"shape\":[2],\"dtype\":\"float64\",\"order\":\"little\"}],[892,{\"type\":\"ndarray\",\"array\":{\"type\":\"bytes\",\"data\":\"AAAAINgdF0AAAADgY94gwA==\"},\"shape\":[2],\"dtype\":\"float64\",\"order\":\"little\"}],[893,{\"type\":\"ndarray\",\"array\":{\"type\":\"bytes\",\"data\":\"AAAAIM+cI0AAAABADisUwA==\"},\"shape\":[2],\"dtype\":\"float64\",\"order\":\"little\"}],[894,{\"type\":\"ndarray\",\"array\":{\"type\":\"bytes\",\"data\":\"AAAAAMBNIEAAAAAA1n4YwA==\"},\"shape\":[2],\"dtype\":\"float64\",\"order\":\"little\"}],[895,{\"type\":\"ndarray\",\"array\":{\"type\":\"bytes\",\"data\":\"AAAAAJOQIUAAAAAALD4HwA==\"},\"shape\":[2],\"dtype\":\"float64\",\"order\":\"little\"}],[896,{\"type\":\"ndarray\",\"array\":{\"type\":\"bytes\",\"data\":\"AAAAgH5XGUAAAACARHIhwA==\"},\"shape\":[2],\"dtype\":\"float64\",\"order\":\"little\"}],[897,{\"type\":\"ndarray\",\"array\":{\"type\":\"bytes\",\"data\":\"AAAAAKxaG0AAAACgOQoYwA==\"},\"shape\":[2],\"dtype\":\"float64\",\"order\":\"little\"}],[898,{\"type\":\"ndarray\",\"array\":{\"type\":\"bytes\",\"data\":\"AAAAQDdMI0AAAAAAcU8XwA==\"},\"shape\":[2],\"dtype\":\"float64\",\"order\":\"little\"}],[899,{\"type\":\"ndarray\",\"array\":{\"type\":\"bytes\",\"data\":\"AAAAgG5IH0AAAAAgSyAbwA==\"},\"shape\":[2],\"dtype\":\"float64\",\"order\":\"little\"}],[900,{\"type\":\"ndarray\",\"array\":{\"type\":\"bytes\",\"data\":\"AAAA4K2XHkAAAAAgeOQewA==\"},\"shape\":[2],\"dtype\":\"float64\",\"order\":\"little\"}],[901,{\"type\":\"ndarray\",\"array\":{\"type\":\"bytes\",\"data\":\"AAAAoCHnIEAAAABAMoYewA==\"},\"shape\":[2],\"dtype\":\"float64\",\"order\":\"little\"}],[902,{\"type\":\"ndarray\",\"array\":{\"type\":\"bytes\",\"data\":\"AAAAQM1THkAAAADg5TYZwA==\"},\"shape\":[2],\"dtype\":\"float64\",\"order\":\"little\"}],[903,{\"type\":\"ndarray\",\"array\":{\"type\":\"bytes\",\"data\":\"AAAAQF8vI0AAAADgoswZwA==\"},\"shape\":[2],\"dtype\":\"float64\",\"order\":\"little\"}],[904,{\"type\":\"ndarray\",\"array\":{\"type\":\"bytes\",\"data\":\"AAAAYEBdIkAAAABghGL+vw==\"},\"shape\":[2],\"dtype\":\"float64\",\"order\":\"little\"}],[905,{\"type\":\"ndarray\",\"array\":{\"type\":\"bytes\",\"data\":\"AAAAgKLuJEAAAADgMLgSwA==\"},\"shape\":[2],\"dtype\":\"float64\",\"order\":\"little\"}],[906,{\"type\":\"ndarray\",\"array\":{\"type\":\"bytes\",\"data\":\"AAAAYHEzIEAAAAAghAzgvw==\"},\"shape\":[2],\"dtype\":\"float64\",\"order\":\"little\"}],[907,{\"type\":\"ndarray\",\"array\":{\"type\":\"bytes\",\"data\":\"AAAAQG0ZJEAAAACAwMANwA==\"},\"shape\":[2],\"dtype\":\"float64\",\"order\":\"little\"}],[908,{\"type\":\"ndarray\",\"array\":{\"type\":\"bytes\",\"data\":\"AAAAADf/HkAAAACgidsgwA==\"},\"shape\":[2],\"dtype\":\"float64\",\"order\":\"little\"}],[909,{\"type\":\"ndarray\",\"array\":{\"type\":\"bytes\",\"data\":\"AAAAgLgqGEAAAADgkaIfwA==\"},\"shape\":[2],\"dtype\":\"float64\",\"order\":\"little\"}],[910,{\"type\":\"ndarray\",\"array\":{\"type\":\"bytes\",\"data\":\"AAAAwLqZJEAAAABgABAbwA==\"},\"shape\":[2],\"dtype\":\"float64\",\"order\":\"little\"}],[911,{\"type\":\"ndarray\",\"array\":{\"type\":\"bytes\",\"data\":\"AAAAgOxAIEAAAACgp5/Avw==\"},\"shape\":[2],\"dtype\":\"float64\",\"order\":\"little\"}],[912,{\"type\":\"ndarray\",\"array\":{\"type\":\"bytes\",\"data\":\"AAAA4AYZIkAAAACgtu0QwA==\"},\"shape\":[2],\"dtype\":\"float64\",\"order\":\"little\"}],[913,{\"type\":\"ndarray\",\"array\":{\"type\":\"bytes\",\"data\":\"AAAAoGV4IkAAAABAgLcVwA==\"},\"shape\":[2],\"dtype\":\"float64\",\"order\":\"little\"}],[914,{\"type\":\"ndarray\",\"array\":{\"type\":\"bytes\",\"data\":\"AAAAwL6uIEAAAACgVfUbwA==\"},\"shape\":[2],\"dtype\":\"float64\",\"order\":\"little\"}],[915,{\"type\":\"ndarray\",\"array\":{\"type\":\"bytes\",\"data\":\"AAAAwB1XHEAAAACgOGEawA==\"},\"shape\":[2],\"dtype\":\"float64\",\"order\":\"little\"}],[916,{\"type\":\"ndarray\",\"array\":{\"type\":\"bytes\",\"data\":\"AAAAQAEzGEAAAACgfF8cwA==\"},\"shape\":[2],\"dtype\":\"float64\",\"order\":\"little\"}],[917,{\"type\":\"ndarray\",\"array\":{\"type\":\"bytes\",\"data\":\"AAAAAD57G0AAAACg+AYgwA==\"},\"shape\":[2],\"dtype\":\"float64\",\"order\":\"little\"}],[918,{\"type\":\"ndarray\",\"array\":{\"type\":\"bytes\",\"data\":\"AAAAQJ9NIUAAAACAxqIWwA==\"},\"shape\":[2],\"dtype\":\"float64\",\"order\":\"little\"}],[919,{\"type\":\"ndarray\",\"array\":{\"type\":\"bytes\",\"data\":\"AAAAwM1rIUAAAACgtfMawA==\"},\"shape\":[2],\"dtype\":\"float64\",\"order\":\"little\"}],[920,{\"type\":\"ndarray\",\"array\":{\"type\":\"bytes\",\"data\":\"AAAAoAxSIEAAAABgeUMVwA==\"},\"shape\":[2],\"dtype\":\"float64\",\"order\":\"little\"}],[921,{\"type\":\"ndarray\",\"array\":{\"type\":\"bytes\",\"data\":\"AAAAgDEkIEAAAABgT4YRwA==\"},\"shape\":[2],\"dtype\":\"float64\",\"order\":\"little\"}],[922,{\"type\":\"ndarray\",\"array\":{\"type\":\"bytes\",\"data\":\"AAAA4JyGIEAAAABg54sFwA==\"},\"shape\":[2],\"dtype\":\"float64\",\"order\":\"little\"}],[923,{\"type\":\"ndarray\",\"array\":{\"type\":\"bytes\",\"data\":\"AAAAgAqHIUAAAADAAeAYwA==\"},\"shape\":[2],\"dtype\":\"float64\",\"order\":\"little\"}],[924,{\"type\":\"ndarray\",\"array\":{\"type\":\"bytes\",\"data\":\"AAAAwC3uIUAAAADAbV8cwA==\"},\"shape\":[2],\"dtype\":\"float64\",\"order\":\"little\"}],[925,{\"type\":\"ndarray\",\"array\":{\"type\":\"bytes\",\"data\":\"AAAAoPvPHEAAAAAAS2YewA==\"},\"shape\":[2],\"dtype\":\"float64\",\"order\":\"little\"}],[926,{\"type\":\"ndarray\",\"array\":{\"type\":\"bytes\",\"data\":\"AAAAADqZI0AAAAAgEpMdwA==\"},\"shape\":[2],\"dtype\":\"float64\",\"order\":\"little\"}],[927,{\"type\":\"ndarray\",\"array\":{\"type\":\"bytes\",\"data\":\"AAAA4Iz5GkAAAAAg/FgdwA==\"},\"shape\":[2],\"dtype\":\"float64\",\"order\":\"little\"}],[928,{\"type\":\"ndarray\",\"array\":{\"type\":\"bytes\",\"data\":\"AAAAgJITHUAAAABAdr4gwA==\"},\"shape\":[2],\"dtype\":\"float64\",\"order\":\"little\"}],[929,{\"type\":\"ndarray\",\"array\":{\"type\":\"bytes\",\"data\":\"AAAAABdtIUAAAACAafkAwA==\"},\"shape\":[2],\"dtype\":\"float64\",\"order\":\"little\"}],[930,{\"type\":\"ndarray\",\"array\":{\"type\":\"bytes\",\"data\":\"AAAA4CltIEAAAACgB8ELwA==\"},\"shape\":[2],\"dtype\":\"float64\",\"order\":\"little\"}],[931,{\"type\":\"ndarray\",\"array\":{\"type\":\"bytes\",\"data\":\"AAAAIEHiG0AAAACgkbgFQA==\"},\"shape\":[2],\"dtype\":\"float64\",\"order\":\"little\"}],[932,{\"type\":\"ndarray\",\"array\":{\"type\":\"bytes\",\"data\":\"AAAAYC73JEAAAABgGtYYQA==\"},\"shape\":[2],\"dtype\":\"float64\",\"order\":\"little\"}],[933,{\"type\":\"ndarray\",\"array\":{\"type\":\"bytes\",\"data\":\"AAAAwPC5JEAAAADgzKsWQA==\"},\"shape\":[2],\"dtype\":\"float64\",\"order\":\"little\"}],[934,{\"type\":\"ndarray\",\"array\":{\"type\":\"bytes\",\"data\":\"AAAAAH4YKEAAAACAPdj/vw==\"},\"shape\":[2],\"dtype\":\"float64\",\"order\":\"little\"}],[935,{\"type\":\"ndarray\",\"array\":{\"type\":\"bytes\",\"data\":\"AAAAYBdMJ0AAAABAtwkDwA==\"},\"shape\":[2],\"dtype\":\"float64\",\"order\":\"little\"}],[936,{\"type\":\"ndarray\",\"array\":{\"type\":\"bytes\",\"data\":\"AAAAwIWoJUAAAAAgB8AJQA==\"},\"shape\":[2],\"dtype\":\"float64\",\"order\":\"little\"}],[937,{\"type\":\"ndarray\",\"array\":{\"type\":\"bytes\",\"data\":\"AAAAwFYWKEAAAABAb4sDwA==\"},\"shape\":[2],\"dtype\":\"float64\",\"order\":\"little\"}],[938,{\"type\":\"ndarray\",\"array\":{\"type\":\"bytes\",\"data\":\"AAAAQBNyJEAAAAAgxUIbQA==\"},\"shape\":[2],\"dtype\":\"float64\",\"order\":\"little\"}],[939,{\"type\":\"ndarray\",\"array\":{\"type\":\"bytes\",\"data\":\"AAAAYKXZI0AAAACAydIRQA==\"},\"shape\":[2],\"dtype\":\"float64\",\"order\":\"little\"}],[940,{\"type\":\"ndarray\",\"array\":{\"type\":\"bytes\",\"data\":\"AAAAQCxaIUAAAAAglm4ZQA==\"},\"shape\":[2],\"dtype\":\"float64\",\"order\":\"little\"}],[941,{\"type\":\"ndarray\",\"array\":{\"type\":\"bytes\",\"data\":\"AAAAgI0dI0AAAAAgH0oYQA==\"},\"shape\":[2],\"dtype\":\"float64\",\"order\":\"little\"}],[942,{\"type\":\"ndarray\",\"array\":{\"type\":\"bytes\",\"data\":\"AAAAwEWnJ0AAAAAAT0EBwA==\"},\"shape\":[2],\"dtype\":\"float64\",\"order\":\"little\"}],[943,{\"type\":\"ndarray\",\"array\":{\"type\":\"bytes\",\"data\":\"AAAAYCFYKEAAAAAAtOcAwA==\"},\"shape\":[2],\"dtype\":\"float64\",\"order\":\"little\"}],[944,{\"type\":\"ndarray\",\"array\":{\"type\":\"bytes\",\"data\":\"AAAA4DUlJ0AAAACgk4cDwA==\"},\"shape\":[2],\"dtype\":\"float64\",\"order\":\"little\"}],[945,{\"type\":\"ndarray\",\"array\":{\"type\":\"bytes\",\"data\":\"AAAAgP0yIUAAAABAaqEdQA==\"},\"shape\":[2],\"dtype\":\"float64\",\"order\":\"little\"}],[946,{\"type\":\"ndarray\",\"array\":{\"type\":\"bytes\",\"data\":\"AAAAgCg9JUAAAADgAesdQA==\"},\"shape\":[2],\"dtype\":\"float64\",\"order\":\"little\"}],[947,{\"type\":\"ndarray\",\"array\":{\"type\":\"bytes\",\"data\":\"AAAAYOePJkAAAADA51wRQA==\"},\"shape\":[2],\"dtype\":\"float64\",\"order\":\"little\"}],[948,{\"type\":\"ndarray\",\"array\":{\"type\":\"bytes\",\"data\":\"AAAAAEINJkAAAACgrYsdQA==\"},\"shape\":[2],\"dtype\":\"float64\",\"order\":\"little\"}],[949,{\"type\":\"ndarray\",\"array\":{\"type\":\"bytes\",\"data\":\"AAAAgJgbJ0AAAAAAFrUNQA==\"},\"shape\":[2],\"dtype\":\"float64\",\"order\":\"little\"}],[950,{\"type\":\"ndarray\",\"array\":{\"type\":\"bytes\",\"data\":\"AAAAoJ1bIkAAAADgthwbQA==\"},\"shape\":[2],\"dtype\":\"float64\",\"order\":\"little\"}],[951,{\"type\":\"ndarray\",\"array\":{\"type\":\"bytes\",\"data\":\"AAAAIG2ZIEAAAACAuXAbQA==\"},\"shape\":[2],\"dtype\":\"float64\",\"order\":\"little\"}],[952,{\"type\":\"ndarray\",\"array\":{\"type\":\"bytes\",\"data\":\"AAAAQFHTIkAAAABgApoeQA==\"},\"shape\":[2],\"dtype\":\"float64\",\"order\":\"little\"}],[953,{\"type\":\"ndarray\",\"array\":{\"type\":\"bytes\",\"data\":\"AAAAwOwgJkAAAAAg8rkdQA==\"},\"shape\":[2],\"dtype\":\"float64\",\"order\":\"little\"}],[954,{\"type\":\"ndarray\",\"array\":{\"type\":\"bytes\",\"data\":\"AAAAYAThJkAAAABATQIHQA==\"},\"shape\":[2],\"dtype\":\"float64\",\"order\":\"little\"}],[955,{\"type\":\"ndarray\",\"array\":{\"type\":\"bytes\",\"data\":\"AAAAIGcdJEAAAACAsvEfQA==\"},\"shape\":[2],\"dtype\":\"float64\",\"order\":\"little\"}],[956,{\"type\":\"ndarray\",\"array\":{\"type\":\"bytes\",\"data\":\"AAAAoCSfJkAAAACgGFUVQA==\"},\"shape\":[2],\"dtype\":\"float64\",\"order\":\"little\"}],[957,{\"type\":\"ndarray\",\"array\":{\"type\":\"bytes\",\"data\":\"AAAAAKhqI0AAAADABMYaQA==\"},\"shape\":[2],\"dtype\":\"float64\",\"order\":\"little\"}],[958,{\"type\":\"ndarray\",\"array\":{\"type\":\"bytes\",\"data\":\"AAAAQGR1JUAAAABAihMVQA==\"},\"shape\":[2],\"dtype\":\"float64\",\"order\":\"little\"}],[959,{\"type\":\"ndarray\",\"array\":{\"type\":\"bytes\",\"data\":\"AAAAYIAuJUAAAADAI+MRQA==\"},\"shape\":[2],\"dtype\":\"float64\",\"order\":\"little\"}],[960,{\"type\":\"ndarray\",\"array\":{\"type\":\"bytes\",\"data\":\"AAAAwIBCIkAAAAAAoDEYQA==\"},\"shape\":[2],\"dtype\":\"float64\",\"order\":\"little\"}],[961,{\"type\":\"ndarray\",\"array\":{\"type\":\"bytes\",\"data\":\"AAAAQMu8JEAAAAAAOVwOQA==\"},\"shape\":[2],\"dtype\":\"float64\",\"order\":\"little\"}],[962,{\"type\":\"ndarray\",\"array\":{\"type\":\"bytes\",\"data\":\"AAAAoAIKJkAAAABAgzUOQA==\"},\"shape\":[2],\"dtype\":\"float64\",\"order\":\"little\"}],[963,{\"type\":\"ndarray\",\"array\":{\"type\":\"bytes\",\"data\":\"AAAAwJgtIkAAAABgVg0dQA==\"},\"shape\":[2],\"dtype\":\"float64\",\"order\":\"little\"}],[964,{\"type\":\"ndarray\",\"array\":{\"type\":\"bytes\",\"data\":\"AAAAgO37I0AAAACAQU8YQA==\"},\"shape\":[2],\"dtype\":\"float64\",\"order\":\"little\"}],[965,{\"type\":\"ndarray\",\"array\":{\"type\":\"bytes\",\"data\":\"AAAAALYGJEAAAADAYs4UQA==\"},\"shape\":[2],\"dtype\":\"float64\",\"order\":\"little\"}],[966,{\"type\":\"ndarray\",\"array\":{\"type\":\"bytes\",\"data\":\"AAAAYAKuJUAAAACg8PEZQA==\"},\"shape\":[2],\"dtype\":\"float64\",\"order\":\"little\"}],[967,{\"type\":\"ndarray\",\"array\":{\"type\":\"bytes\",\"data\":\"AAAAQP/iJkAAAABA3aEXQA==\"},\"shape\":[2],\"dtype\":\"float64\",\"order\":\"little\"}],[968,{\"type\":\"ndarray\",\"array\":{\"type\":\"bytes\",\"data\":\"AAAAQGcaJkAAAAAgT08YQA==\"},\"shape\":[2],\"dtype\":\"float64\",\"order\":\"little\"}],[969,{\"type\":\"ndarray\",\"array\":{\"type\":\"bytes\",\"data\":\"AAAAQFtVI0AAAABA80ogQA==\"},\"shape\":[2],\"dtype\":\"float64\",\"order\":\"little\"}],[970,{\"type\":\"ndarray\",\"array\":{\"type\":\"bytes\",\"data\":\"AAAA4EruJkAAAADg/aQcQA==\"},\"shape\":[2],\"dtype\":\"float64\",\"order\":\"little\"}],[971,{\"type\":\"ndarray\",\"array\":{\"type\":\"bytes\",\"data\":\"AAAAAFHkJEAAAACAtlUfQA==\"},\"shape\":[2],\"dtype\":\"float64\",\"order\":\"little\"}],[972,{\"type\":\"ndarray\",\"array\":{\"type\":\"bytes\",\"data\":\"AAAAYELUIEAAAABAsRQYQA==\"},\"shape\":[2],\"dtype\":\"float64\",\"order\":\"little\"}],[973,{\"type\":\"ndarray\",\"array\":{\"type\":\"bytes\",\"data\":\"AAAAoKWNJkAAAACAwUETQA==\"},\"shape\":[2],\"dtype\":\"float64\",\"order\":\"little\"}],[974,{\"type\":\"ndarray\",\"array\":{\"type\":\"bytes\",\"data\":\"AAAAQKAlJEAAAABgsQweQA==\"},\"shape\":[2],\"dtype\":\"float64\",\"order\":\"little\"}],[975,{\"type\":\"ndarray\",\"array\":{\"type\":\"bytes\",\"data\":\"AAAAQMhtJkAAAACAtw8DQA==\"},\"shape\":[2],\"dtype\":\"float64\",\"order\":\"little\"}],[976,{\"type\":\"ndarray\",\"array\":{\"type\":\"bytes\",\"data\":\"AAAAIG2dIkAAAABA2RQUQA==\"},\"shape\":[2],\"dtype\":\"float64\",\"order\":\"little\"}],[977,{\"type\":\"ndarray\",\"array\":{\"type\":\"bytes\",\"data\":\"AAAAgOrWKUAAAADg3bwgwA==\"},\"shape\":[2],\"dtype\":\"float64\",\"order\":\"little\"}],[978,{\"type\":\"ndarray\",\"array\":{\"type\":\"bytes\",\"data\":\"AAAA4F+5MkAAAAAgod8awA==\"},\"shape\":[2],\"dtype\":\"float64\",\"order\":\"little\"}],[979,{\"type\":\"ndarray\",\"array\":{\"type\":\"bytes\",\"data\":\"AAAAgLamMkAAAAAAxB0lwA==\"},\"shape\":[2],\"dtype\":\"float64\",\"order\":\"little\"}],[980,{\"type\":\"ndarray\",\"array\":{\"type\":\"bytes\",\"data\":\"AAAAQNUOM0AAAABgAZEowA==\"},\"shape\":[2],\"dtype\":\"float64\",\"order\":\"little\"}],[981,{\"type\":\"ndarray\",\"array\":{\"type\":\"bytes\",\"data\":\"AAAAQLkQM0AAAADAkNgjwA==\"},\"shape\":[2],\"dtype\":\"float64\",\"order\":\"little\"}],[982,{\"type\":\"ndarray\",\"array\":{\"type\":\"bytes\",\"data\":\"AAAAoEAWK0AAAAAgHLgpwA==\"},\"shape\":[2],\"dtype\":\"float64\",\"order\":\"little\"}],[983,{\"type\":\"ndarray\",\"array\":{\"type\":\"bytes\",\"data\":\"AAAAIDzVMkAAAAAAE70nwA==\"},\"shape\":[2],\"dtype\":\"float64\",\"order\":\"little\"}],[984,{\"type\":\"ndarray\",\"array\":{\"type\":\"bytes\",\"data\":\"AAAAgNzLM0AAAADA32AiwA==\"},\"shape\":[2],\"dtype\":\"float64\",\"order\":\"little\"}],[985,{\"type\":\"ndarray\",\"array\":{\"type\":\"bytes\",\"data\":\"AAAA4CbjMUAAAADgCAkjwA==\"},\"shape\":[2],\"dtype\":\"float64\",\"order\":\"little\"}],[986,{\"type\":\"ndarray\",\"array\":{\"type\":\"bytes\",\"data\":\"AAAAgELeMkAAAADA2TwmwA==\"},\"shape\":[2],\"dtype\":\"float64\",\"order\":\"little\"}],[987,{\"type\":\"ndarray\",\"array\":{\"type\":\"bytes\",\"data\":\"AAAAwMnWMkAAAACAA1odwA==\"},\"shape\":[2],\"dtype\":\"float64\",\"order\":\"little\"}],[988,{\"type\":\"ndarray\",\"array\":{\"type\":\"bytes\",\"data\":\"AAAAADQoM0AAAAAAUHMlwA==\"},\"shape\":[2],\"dtype\":\"float64\",\"order\":\"little\"}],[989,{\"type\":\"ndarray\",\"array\":{\"type\":\"bytes\",\"data\":\"AAAAwO0DMkAAAADAxxwnwA==\"},\"shape\":[2],\"dtype\":\"float64\",\"order\":\"little\"}],[990,{\"type\":\"ndarray\",\"array\":{\"type\":\"bytes\",\"data\":\"AAAAoOt1KUAAAAAgsVUqwA==\"},\"shape\":[2],\"dtype\":\"float64\",\"order\":\"little\"}],[991,{\"type\":\"ndarray\",\"array\":{\"type\":\"bytes\",\"data\":\"AAAAAGLmMkAAAACgEgsiwA==\"},\"shape\":[2],\"dtype\":\"float64\",\"order\":\"little\"}],[992,{\"type\":\"ndarray\",\"array\":{\"type\":\"bytes\",\"data\":\"AAAAIJSPLkAAAABA8/MtwA==\"},\"shape\":[2],\"dtype\":\"float64\",\"order\":\"little\"}],[993,{\"type\":\"ndarray\",\"array\":{\"type\":\"bytes\",\"data\":\"AAAAgPHVM0AAAAAgdYohwA==\"},\"shape\":[2],\"dtype\":\"float64\",\"order\":\"little\"}],[994,{\"type\":\"ndarray\",\"array\":{\"type\":\"bytes\",\"data\":\"AAAAwHeOLEAAAADgR3ErwA==\"},\"shape\":[2],\"dtype\":\"float64\",\"order\":\"little\"}],[995,{\"type\":\"ndarray\",\"array\":{\"type\":\"bytes\",\"data\":\"AAAAYIKKMkAAAAAA56opwA==\"},\"shape\":[2],\"dtype\":\"float64\",\"order\":\"little\"}],[996,{\"type\":\"ndarray\",\"array\":{\"type\":\"bytes\",\"data\":\"AAAAoOsaMkAAAACg9bcowA==\"},\"shape\":[2],\"dtype\":\"float64\",\"order\":\"little\"}],[997,{\"type\":\"ndarray\",\"array\":{\"type\":\"bytes\",\"data\":\"AAAA4JaKM0AAAADg+y8jwA==\"},\"shape\":[2],\"dtype\":\"float64\",\"order\":\"little\"}],[998,{\"type\":\"ndarray\",\"array\":{\"type\":\"bytes\",\"data\":\"AAAAgJ28M0AAAABgnz4lwA==\"},\"shape\":[2],\"dtype\":\"float64\",\"order\":\"little\"}],[999,{\"type\":\"ndarray\",\"array\":{\"type\":\"bytes\",\"data\":\"AAAAYHNKKkAAAACASaktwA==\"},\"shape\":[2],\"dtype\":\"float64\",\"order\":\"little\"}],[1000,{\"type\":\"ndarray\",\"array\":{\"type\":\"bytes\",\"data\":\"AAAAIPGFM0AAAACAR+gcwA==\"},\"shape\":[2],\"dtype\":\"float64\",\"order\":\"little\"}],[1001,{\"type\":\"ndarray\",\"array\":{\"type\":\"bytes\",\"data\":\"AAAAAOYjM0AAAABAKtwiwA==\"},\"shape\":[2],\"dtype\":\"float64\",\"order\":\"little\"}],[1002,{\"type\":\"ndarray\",\"array\":{\"type\":\"bytes\",\"data\":\"AAAAYCZ3KkAAAABgGdIowA==\"},\"shape\":[2],\"dtype\":\"float64\",\"order\":\"little\"}],[1003,{\"type\":\"ndarray\",\"array\":{\"type\":\"bytes\",\"data\":\"AAAAQCa3M0AAAABgdV8fwA==\"},\"shape\":[2],\"dtype\":\"float64\",\"order\":\"little\"}],[1004,{\"type\":\"ndarray\",\"array\":{\"type\":\"bytes\",\"data\":\"AAAAwPsbMUAAAAAg+vcowA==\"},\"shape\":[2],\"dtype\":\"float64\",\"order\":\"little\"}],[1005,{\"type\":\"ndarray\",\"array\":{\"type\":\"bytes\",\"data\":\"AAAAIBedMkAAAACA0cEgwA==\"},\"shape\":[2],\"dtype\":\"float64\",\"order\":\"little\"}],[1006,{\"type\":\"ndarray\",\"array\":{\"type\":\"bytes\",\"data\":\"AAAAoLipMkAAAADgKu0owA==\"},\"shape\":[2],\"dtype\":\"float64\",\"order\":\"little\"}],[1007,{\"type\":\"ndarray\",\"array\":{\"type\":\"bytes\",\"data\":\"AAAAQHUZLkAAAABgfQQswA==\"},\"shape\":[2],\"dtype\":\"float64\",\"order\":\"little\"}],[1008,{\"type\":\"ndarray\",\"array\":{\"type\":\"bytes\",\"data\":\"AAAAYGt/MEAAAAAgySslwA==\"},\"shape\":[2],\"dtype\":\"float64\",\"order\":\"little\"}],[1009,{\"type\":\"ndarray\",\"array\":{\"type\":\"bytes\",\"data\":\"AAAAYPHLMUAAAAAAY44pwA==\"},\"shape\":[2],\"dtype\":\"float64\",\"order\":\"little\"}],[1010,{\"type\":\"ndarray\",\"array\":{\"type\":\"bytes\",\"data\":\"AAAA4M82LkAAAABAxvQswA==\"},\"shape\":[2],\"dtype\":\"float64\",\"order\":\"little\"}],[1011,{\"type\":\"ndarray\",\"array\":{\"type\":\"bytes\",\"data\":\"AAAAID0DM0AAAACAsYoZwA==\"},\"shape\":[2],\"dtype\":\"float64\",\"order\":\"little\"}],[1012,{\"type\":\"ndarray\",\"array\":{\"type\":\"bytes\",\"data\":\"AAAAIL0YM0AAAAAgXiIgwA==\"},\"shape\":[2],\"dtype\":\"float64\",\"order\":\"little\"}],[1013,{\"type\":\"ndarray\",\"array\":{\"type\":\"bytes\",\"data\":\"AAAAwFZiM0AAAACAKqskwA==\"},\"shape\":[2],\"dtype\":\"float64\",\"order\":\"little\"}],[1014,{\"type\":\"ndarray\",\"array\":{\"type\":\"bytes\",\"data\":\"AAAAIBpeMkAAAABANd4lwA==\"},\"shape\":[2],\"dtype\":\"float64\",\"order\":\"little\"}],[1015,{\"type\":\"ndarray\",\"array\":{\"type\":\"bytes\",\"data\":\"AAAAwJ0zMkAAAAAADxchwA==\"},\"shape\":[2],\"dtype\":\"float64\",\"order\":\"little\"}],[1016,{\"type\":\"ndarray\",\"array\":{\"type\":\"bytes\",\"data\":\"AAAAQP2NLkAAAACAEYYpwA==\"},\"shape\":[2],\"dtype\":\"float64\",\"order\":\"little\"}],[1017,{\"type\":\"ndarray\",\"array\":{\"type\":\"bytes\",\"data\":\"AAAAAJ2dLUAAAACgJaUtwA==\"},\"shape\":[2],\"dtype\":\"float64\",\"order\":\"little\"}],[1018,{\"type\":\"ndarray\",\"array\":{\"type\":\"bytes\",\"data\":\"AAAAgH2pMUAAAAAgUCIiwA==\"},\"shape\":[2],\"dtype\":\"float64\",\"order\":\"little\"}],[1019,{\"type\":\"ndarray\",\"array\":{\"type\":\"bytes\",\"data\":\"AAAAAAAANEAAAABAFmcjwA==\"},\"shape\":[2],\"dtype\":\"float64\",\"order\":\"little\"}],[1020,{\"type\":\"ndarray\",\"array\":{\"type\":\"bytes\",\"data\":\"AAAAgBFNM0AAAACA6HYewA==\"},\"shape\":[2],\"dtype\":\"float64\",\"order\":\"little\"}],[1021,{\"type\":\"ndarray\",\"array\":{\"type\":\"bytes\",\"data\":\"AAAAIOjvMEAAAADAT6snwA==\"},\"shape\":[2],\"dtype\":\"float64\",\"order\":\"little\"}],[1022,{\"type\":\"ndarray\",\"array\":{\"type\":\"bytes\",\"data\":\"AAAA4NnWL0AAAADAeLYpwA==\"},\"shape\":[2],\"dtype\":\"float64\",\"order\":\"little\"}],[1023,{\"type\":\"ndarray\",\"array\":{\"type\":\"bytes\",\"data\":\"AAAA4DxMMEAAAADg9gAiwA==\"},\"shape\":[2],\"dtype\":\"float64\",\"order\":\"little\"}],[1024,{\"type\":\"ndarray\",\"array\":{\"type\":\"bytes\",\"data\":\"AAAAAJViL0AAAACgfoktwA==\"},\"shape\":[2],\"dtype\":\"float64\",\"order\":\"little\"}],[1025,{\"type\":\"ndarray\",\"array\":{\"type\":\"bytes\",\"data\":\"AAAAIG6FLEAAAABgvRQnwA==\"},\"shape\":[2],\"dtype\":\"float64\",\"order\":\"little\"}],[1026,{\"type\":\"ndarray\",\"array\":{\"type\":\"bytes\",\"data\":\"AAAA4G0rM0AAAAAgpawbwA==\"},\"shape\":[2],\"dtype\":\"float64\",\"order\":\"little\"}],[1027,{\"type\":\"ndarray\",\"array\":{\"type\":\"bytes\",\"data\":\"AAAAAFoVKEAAAAAgtYQrwA==\"},\"shape\":[2],\"dtype\":\"float64\",\"order\":\"little\"}],[1028,{\"type\":\"ndarray\",\"array\":{\"type\":\"bytes\",\"data\":\"AAAAQG9dMkAAAABAyQYiwA==\"},\"shape\":[2],\"dtype\":\"float64\",\"order\":\"little\"}],[1029,{\"type\":\"ndarray\",\"array\":{\"type\":\"bytes\",\"data\":\"AAAAgNq6M0AAAABALywkwA==\"},\"shape\":[2],\"dtype\":\"float64\",\"order\":\"little\"}],[1030,{\"type\":\"ndarray\",\"array\":{\"type\":\"bytes\",\"data\":\"AAAAwLGsK0AAAABAkq4qwA==\"},\"shape\":[2],\"dtype\":\"float64\",\"order\":\"little\"}],[1031,{\"type\":\"ndarray\",\"array\":{\"type\":\"bytes\",\"data\":\"AAAAYOoKMUAAAAAg0N0rwA==\"},\"shape\":[2],\"dtype\":\"float64\",\"order\":\"little\"}],[1032,{\"type\":\"ndarray\",\"array\":{\"type\":\"bytes\",\"data\":\"AAAAIJqLKEAAAADAt4UswA==\"},\"shape\":[2],\"dtype\":\"float64\",\"order\":\"little\"}],[1033,{\"type\":\"ndarray\",\"array\":{\"type\":\"bytes\",\"data\":\"AAAAQMCZLUAAAACAaMUmwA==\"},\"shape\":[2],\"dtype\":\"float64\",\"order\":\"little\"}],[1034,{\"type\":\"ndarray\",\"array\":{\"type\":\"bytes\",\"data\":\"AAAAgFQKMkAAAADgIdAYwA==\"},\"shape\":[2],\"dtype\":\"float64\",\"order\":\"little\"}],[1035,{\"type\":\"ndarray\",\"array\":{\"type\":\"bytes\",\"data\":\"AAAAoNVzMkAAAABg7lkYwA==\"},\"shape\":[2],\"dtype\":\"float64\",\"order\":\"little\"}],[1036,{\"type\":\"ndarray\",\"array\":{\"type\":\"bytes\",\"data\":\"AAAA4F7mKUAAAABgKW4swA==\"},\"shape\":[2],\"dtype\":\"float64\",\"order\":\"little\"}],[1037,{\"type\":\"ndarray\",\"array\":{\"type\":\"bytes\",\"data\":\"AAAAAFcsMkAAAACALuAjwA==\"},\"shape\":[2],\"dtype\":\"float64\",\"order\":\"little\"}],[1038,{\"type\":\"ndarray\",\"array\":{\"type\":\"bytes\",\"data\":\"AAAAwMLkKkAAAACARJAswA==\"},\"shape\":[2],\"dtype\":\"float64\",\"order\":\"little\"}],[1039,{\"type\":\"ndarray\",\"array\":{\"type\":\"bytes\",\"data\":\"AAAAoIFIMUAAAADgf1MlwA==\"},\"shape\":[2],\"dtype\":\"float64\",\"order\":\"little\"}],[1040,{\"type\":\"ndarray\",\"array\":{\"type\":\"bytes\",\"data\":\"AAAAgLaRMEAAAACAmxsowA==\"},\"shape\":[2],\"dtype\":\"float64\",\"order\":\"little\"}],[1041,{\"type\":\"ndarray\",\"array\":{\"type\":\"bytes\",\"data\":\"AAAAoBwCMkAAAADA+7cfwA==\"},\"shape\":[2],\"dtype\":\"float64\",\"order\":\"little\"}],[1042,{\"type\":\"ndarray\",\"array\":{\"type\":\"bytes\",\"data\":\"AAAA4IllMEAAAAAgjD0qwA==\"},\"shape\":[2],\"dtype\":\"float64\",\"order\":\"little\"}],[1043,{\"type\":\"ndarray\",\"array\":{\"type\":\"bytes\",\"data\":\"AAAAoNRNMEAAAADA1b8jwA==\"},\"shape\":[2],\"dtype\":\"float64\",\"order\":\"little\"}],[1044,{\"type\":\"ndarray\",\"array\":{\"type\":\"bytes\",\"data\":\"AAAA4MznMUAAAADAkZgkwA==\"},\"shape\":[2],\"dtype\":\"float64\",\"order\":\"little\"}],[1045,{\"type\":\"ndarray\",\"array\":{\"type\":\"bytes\",\"data\":\"AAAAoAz/MEAAAADgLUAmwA==\"},\"shape\":[2],\"dtype\":\"float64\",\"order\":\"little\"}],[1046,{\"type\":\"ndarray\",\"array\":{\"type\":\"bytes\",\"data\":\"AAAA4DODMUAAAADg/sgowA==\"},\"shape\":[2],\"dtype\":\"float64\",\"order\":\"little\"}],[1047,{\"type\":\"ndarray\",\"array\":{\"type\":\"bytes\",\"data\":\"AAAAQANdMkAAAABASegnwA==\"},\"shape\":[2],\"dtype\":\"float64\",\"order\":\"little\"}],[1048,{\"type\":\"ndarray\",\"array\":{\"type\":\"bytes\",\"data\":\"AAAAQG2IMkAAAABACgQjwA==\"},\"shape\":[2],\"dtype\":\"float64\",\"order\":\"little\"}],[1049,{\"type\":\"ndarray\",\"array\":{\"type\":\"bytes\",\"data\":\"AAAAgKTbMEAAAADgFfUqwA==\"},\"shape\":[2],\"dtype\":\"float64\",\"order\":\"little\"}],[1050,{\"type\":\"ndarray\",\"array\":{\"type\":\"bytes\",\"data\":\"AAAAoOS5LkAAAACAixgnwA==\"},\"shape\":[2],\"dtype\":\"float64\",\"order\":\"little\"}],[1051,{\"type\":\"ndarray\",\"array\":{\"type\":\"bytes\",\"data\":\"AAAA4GzZMEAAAADAcbopwA==\"},\"shape\":[2],\"dtype\":\"float64\",\"order\":\"little\"}],[1052,{\"type\":\"ndarray\",\"array\":{\"type\":\"bytes\",\"data\":\"AAAAoDMvK0AAAABggZYtwA==\"},\"shape\":[2],\"dtype\":\"float64\",\"order\":\"little\"}],[1053,{\"type\":\"ndarray\",\"array\":{\"type\":\"bytes\",\"data\":\"AAAAAGY7MUAAAAAgD2cqwA==\"},\"shape\":[2],\"dtype\":\"float64\",\"order\":\"little\"}],[1054,{\"type\":\"ndarray\",\"array\":{\"type\":\"bytes\",\"data\":\"AAAAoNjTMUAAAABgxhgbwA==\"},\"shape\":[2],\"dtype\":\"float64\",\"order\":\"little\"}],[1055,{\"type\":\"ndarray\",\"array\":{\"type\":\"bytes\",\"data\":\"AAAAAJmGL0AAAACAQ5kqwA==\"},\"shape\":[2],\"dtype\":\"float64\",\"order\":\"little\"}],[1056,{\"type\":\"ndarray\",\"array\":{\"type\":\"bytes\",\"data\":\"AAAAoB1/MkAAAACgT90mwA==\"},\"shape\":[2],\"dtype\":\"float64\",\"order\":\"little\"}],[1057,{\"type\":\"ndarray\",\"array\":{\"type\":\"bytes\",\"data\":\"AAAAIBBTMUAAAAAgpnEfwA==\"},\"shape\":[2],\"dtype\":\"float64\",\"order\":\"little\"}],[1058,{\"type\":\"ndarray\",\"array\":{\"type\":\"bytes\",\"data\":\"AAAA4K28MUAAAAAgKpMdwA==\"},\"shape\":[2],\"dtype\":\"float64\",\"order\":\"little\"}],[1059,{\"type\":\"ndarray\",\"array\":{\"type\":\"bytes\",\"data\":\"AAAAAPBPMkAAAAAAPVMbwA==\"},\"shape\":[2],\"dtype\":\"float64\",\"order\":\"little\"}],[1060,{\"type\":\"ndarray\",\"array\":{\"type\":\"bytes\",\"data\":\"AAAA4BswMEAAAACAem8twA==\"},\"shape\":[2],\"dtype\":\"float64\",\"order\":\"little\"}],[1061,{\"type\":\"ndarray\",\"array\":{\"type\":\"bytes\",\"data\":\"AAAAoDQPLUAAAADgo5AswA==\"},\"shape\":[2],\"dtype\":\"float64\",\"order\":\"little\"}],[1062,{\"type\":\"ndarray\",\"array\":{\"type\":\"bytes\",\"data\":\"AAAAIAe2MUAAAACAOt4gwA==\"},\"shape\":[2],\"dtype\":\"float64\",\"order\":\"little\"}],[1063,{\"type\":\"ndarray\",\"array\":{\"type\":\"bytes\",\"data\":\"AAAAAPn+MEAAAAAAsG8kwA==\"},\"shape\":[2],\"dtype\":\"float64\",\"order\":\"little\"}],[1064,{\"type\":\"ndarray\",\"array\":{\"type\":\"bytes\",\"data\":\"AAAA4FCbLkAAAAAAMZ0lwA==\"},\"shape\":[2],\"dtype\":\"float64\",\"order\":\"little\"}],[1065,{\"type\":\"ndarray\",\"array\":{\"type\":\"bytes\",\"data\":\"AAAAAJdTKUAAAADAyUUtwA==\"},\"shape\":[2],\"dtype\":\"float64\",\"order\":\"little\"}],[1066,{\"type\":\"ndarray\",\"array\":{\"type\":\"bytes\",\"data\":\"AAAAYDA2L0AAAADgqI8swA==\"},\"shape\":[2],\"dtype\":\"float64\",\"order\":\"little\"}],[1067,{\"type\":\"ndarray\",\"array\":{\"type\":\"bytes\",\"data\":\"AAAAoAJ4LUAAAAAgvzUrwA==\"},\"shape\":[2],\"dtype\":\"float64\",\"order\":\"little\"}],[1068,{\"type\":\"ndarray\",\"array\":{\"type\":\"bytes\",\"data\":\"AAAAoNBYM0AAAAAA+pAnwA==\"},\"shape\":[2],\"dtype\":\"float64\",\"order\":\"little\"}],[1069,{\"type\":\"ndarray\",\"array\":{\"type\":\"bytes\",\"data\":\"AAAAgD58LEAAAABAeggqwA==\"},\"shape\":[2],\"dtype\":\"float64\",\"order\":\"little\"}],[1070,{\"type\":\"ndarray\",\"array\":{\"type\":\"bytes\",\"data\":\"AAAAQE82KkAAAABAC+8qwA==\"},\"shape\":[2],\"dtype\":\"float64\",\"order\":\"little\"}],[1071,{\"type\":\"ndarray\",\"array\":{\"type\":\"bytes\",\"data\":\"AAAAQJJPMkAAAACgqKYdwA==\"},\"shape\":[2],\"dtype\":\"float64\",\"order\":\"little\"}],[1072,{\"type\":\"ndarray\",\"array\":{\"type\":\"bytes\",\"data\":\"AAAAQB/iMUAAAABgKYMlwA==\"},\"shape\":[2],\"dtype\":\"float64\",\"order\":\"little\"}],[1073,{\"type\":\"ndarray\",\"array\":{\"type\":\"bytes\",\"data\":\"AAAAQBdEM0AAAADAULMhwA==\"},\"shape\":[2],\"dtype\":\"float64\",\"order\":\"little\"}],[1074,{\"type\":\"ndarray\",\"array\":{\"type\":\"bytes\",\"data\":\"AAAAQB5dL0AAAACAXd4jwA==\"},\"shape\":[2],\"dtype\":\"float64\",\"order\":\"little\"}],[1075,{\"type\":\"ndarray\",\"array\":{\"type\":\"bytes\",\"data\":\"AAAAoLDrL0AAAABgTXYmwA==\"},\"shape\":[2],\"dtype\":\"float64\",\"order\":\"little\"}],[1076,{\"type\":\"ndarray\",\"array\":{\"type\":\"bytes\",\"data\":\"AAAAYKFwLUAAAAAgPr4pwA==\"},\"shape\":[2],\"dtype\":\"float64\",\"order\":\"little\"}],[1077,{\"type\":\"ndarray\",\"array\":{\"type\":\"bytes\",\"data\":\"AAAAgGBnMUAAAACAT6sjwA==\"},\"shape\":[2],\"dtype\":\"float64\",\"order\":\"little\"}],[1078,{\"type\":\"ndarray\",\"array\":{\"type\":\"bytes\",\"data\":\"AAAAANC6L0AAAACA7B8lwA==\"},\"shape\":[2],\"dtype\":\"float64\",\"order\":\"little\"}],[1079,{\"type\":\"ndarray\",\"array\":{\"type\":\"bytes\",\"data\":\"AAAAII1WLUAAAACgU24owA==\"},\"shape\":[2],\"dtype\":\"float64\",\"order\":\"little\"}],[1080,{\"type\":\"ndarray\",\"array\":{\"type\":\"bytes\",\"data\":\"AAAAIP6zMUAAAADAMmUmwA==\"},\"shape\":[2],\"dtype\":\"float64\",\"order\":\"little\"}],[1081,{\"type\":\"ndarray\",\"array\":{\"type\":\"bytes\",\"data\":\"AAAAwLUJL0AAAAAgE4crwA==\"},\"shape\":[2],\"dtype\":\"float64\",\"order\":\"little\"}],[1082,{\"type\":\"ndarray\",\"array\":{\"type\":\"bytes\",\"data\":\"AAAAgMD+KkAAAABAu30rwA==\"},\"shape\":[2],\"dtype\":\"float64\",\"order\":\"little\"}],[1083,{\"type\":\"ndarray\",\"array\":{\"type\":\"bytes\",\"data\":\"AAAAwCQJMUAAAADAkTwiwA==\"},\"shape\":[2],\"dtype\":\"float64\",\"order\":\"little\"}],[1084,{\"type\":\"ndarray\",\"array\":{\"type\":\"bytes\",\"data\":\"AAAA4Bc5KUAAAAAAPZ4rwA==\"},\"shape\":[2],\"dtype\":\"float64\",\"order\":\"little\"}],[1085,{\"type\":\"ndarray\",\"array\":{\"type\":\"bytes\",\"data\":\"AAAAYEWNMUAAAAAgzWoYwA==\"},\"shape\":[2],\"dtype\":\"float64\",\"order\":\"little\"}],[1086,{\"type\":\"ndarray\",\"array\":{\"type\":\"bytes\",\"data\":\"AAAAgHSlMEAAAACAk4wgwA==\"},\"shape\":[2],\"dtype\":\"float64\",\"order\":\"little\"}],[1087,{\"type\":\"ndarray\",\"array\":{\"type\":\"bytes\",\"data\":\"AAAA4NrLMUAAAABgbW4rwA==\"},\"shape\":[2],\"dtype\":\"float64\",\"order\":\"little\"}],[1088,{\"type\":\"ndarray\",\"array\":{\"type\":\"bytes\",\"data\":\"AAAAAI/LM0AAAABAKJ0gwA==\"},\"shape\":[2],\"dtype\":\"float64\",\"order\":\"little\"}],[1089,{\"type\":\"ndarray\",\"array\":{\"type\":\"bytes\",\"data\":\"AAAAwFQzLEAAAABAEckowA==\"},\"shape\":[2],\"dtype\":\"float64\",\"order\":\"little\"}],[1090,{\"type\":\"ndarray\",\"array\":{\"type\":\"bytes\",\"data\":\"AAAA4PCUM0AAAAAgRi4mwA==\"},\"shape\":[2],\"dtype\":\"float64\",\"order\":\"little\"}],[1091,{\"type\":\"ndarray\",\"array\":{\"type\":\"bytes\",\"data\":\"AAAAwGoXMEAAAAAA+HwswA==\"},\"shape\":[2],\"dtype\":\"float64\",\"order\":\"little\"}],[1092,{\"type\":\"ndarray\",\"array\":{\"type\":\"bytes\",\"data\":\"AAAAYKySL0AAAADADakowA==\"},\"shape\":[2],\"dtype\":\"float64\",\"order\":\"little\"}],[1093,{\"type\":\"ndarray\",\"array\":{\"type\":\"bytes\",\"data\":\"AAAAAIVjMEAAAACg/AYpwA==\"},\"shape\":[2],\"dtype\":\"float64\",\"order\":\"little\"}],[1094,{\"type\":\"ndarray\",\"array\":{\"type\":\"bytes\",\"data\":\"AAAAgJQ+M0AAAAAg5MEmwA==\"},\"shape\":[2],\"dtype\":\"float64\",\"order\":\"little\"}],[1095,{\"type\":\"ndarray\",\"array\":{\"type\":\"bytes\",\"data\":\"AAAAAMZDLEAAAABARTAtwA==\"},\"shape\":[2],\"dtype\":\"float64\",\"order\":\"little\"}],[1096,{\"type\":\"ndarray\",\"array\":{\"type\":\"bytes\",\"data\":\"AAAAgDRiK0AAAABA1eknwA==\"},\"shape\":[2],\"dtype\":\"float64\",\"order\":\"little\"}],[1097,{\"type\":\"ndarray\",\"array\":{\"type\":\"bytes\",\"data\":\"AAAAoJZdKEAAAABgEWoqwA==\"},\"shape\":[2],\"dtype\":\"float64\",\"order\":\"little\"}],[1098,{\"type\":\"ndarray\",\"array\":{\"type\":\"bytes\",\"data\":\"AAAAQBEOMEAAAAAAE3YrwA==\"},\"shape\":[2],\"dtype\":\"float64\",\"order\":\"little\"}],[1099,{\"type\":\"ndarray\",\"array\":{\"type\":\"bytes\",\"data\":\"AAAAwMDtK0AAAABAFiIuwA==\"},\"shape\":[2],\"dtype\":\"float64\",\"order\":\"little\"}],[1100,{\"type\":\"ndarray\",\"array\":{\"type\":\"bytes\",\"data\":\"AAAAILZTMUAAAABATScnwA==\"},\"shape\":[2],\"dtype\":\"float64\",\"order\":\"little\"}],[1101,{\"type\":\"ndarray\",\"array\":{\"type\":\"bytes\",\"data\":\"AAAAQNCpMUAAAAAgnHkqwA==\"},\"shape\":[2],\"dtype\":\"float64\",\"order\":\"little\"}],[1102,{\"type\":\"ndarray\",\"array\":{\"type\":\"bytes\",\"data\":\"AAAAoNRtMUAAAACgcrwrwA==\"},\"shape\":[2],\"dtype\":\"float64\",\"order\":\"little\"}],[1103,{\"type\":\"ndarray\",\"array\":{\"type\":\"bytes\",\"data\":\"AAAAoD2LMEAAAADg57UswA==\"},\"shape\":[2],\"dtype\":\"float64\",\"order\":\"little\"}],[1104,{\"type\":\"ndarray\",\"array\":{\"type\":\"bytes\",\"data\":\"AAAAQF4uMkAAAADAxtcqwA==\"},\"shape\":[2],\"dtype\":\"float64\",\"order\":\"little\"}],[1105,{\"type\":\"ndarray\",\"array\":{\"type\":\"bytes\",\"data\":\"AAAAIBxYKUAAAADgM0MpwA==\"},\"shape\":[2],\"dtype\":\"float64\",\"order\":\"little\"}],[1106,{\"type\":\"ndarray\",\"array\":{\"type\":\"bytes\",\"data\":\"AAAAYOz0LEAAAADAmBouwA==\"},\"shape\":[2],\"dtype\":\"float64\",\"order\":\"little\"}],[1107,{\"type\":\"ndarray\",\"array\":{\"type\":\"bytes\",\"data\":\"AAAAwKBBMUAAAACAKUsawA==\"},\"shape\":[2],\"dtype\":\"float64\",\"order\":\"little\"}],[1108,{\"type\":\"ndarray\",\"array\":{\"type\":\"bytes\",\"data\":\"AAAAIDq3MUAAAADA3/QnwA==\"},\"shape\":[2],\"dtype\":\"float64\",\"order\":\"little\"}],[1109,{\"type\":\"ndarray\",\"array\":{\"type\":\"bytes\",\"data\":\"AAAAwI4mMUAAAACgIxQhwA==\"},\"shape\":[2],\"dtype\":\"float64\",\"order\":\"little\"}],[1110,{\"type\":\"ndarray\",\"array\":{\"type\":\"bytes\",\"data\":\"AAAAoMmsMkAAAAAArlwfwA==\"},\"shape\":[2],\"dtype\":\"float64\",\"order\":\"little\"}],[1111,{\"type\":\"ndarray\",\"array\":{\"type\":\"bytes\",\"data\":\"AAAAIKlVM0AAAACAlNsgwA==\"},\"shape\":[2],\"dtype\":\"float64\",\"order\":\"little\"}],[1112,{\"type\":\"ndarray\",\"array\":{\"type\":\"bytes\",\"data\":\"AAAAIIF9MEAAAAAgTIkmwA==\"},\"shape\":[2],\"dtype\":\"float64\",\"order\":\"little\"}],[1113,{\"type\":\"ndarray\",\"array\":{\"type\":\"bytes\",\"data\":\"AAAAgCD5MEAAAAAg17AswA==\"},\"shape\":[2],\"dtype\":\"float64\",\"order\":\"little\"}],[1114,{\"type\":\"ndarray\",\"array\":{\"type\":\"bytes\",\"data\":\"AAAAYCi5MEAAAADAgFgewA==\"},\"shape\":[2],\"dtype\":\"float64\",\"order\":\"little\"}],[1115,{\"type\":\"ndarray\",\"array\":{\"type\":\"bytes\",\"data\":\"AAAAYCQ2MUAAAADgnYAcwA==\"},\"shape\":[2],\"dtype\":\"float64\",\"order\":\"little\"}],[1116,{\"type\":\"ndarray\",\"array\":{\"type\":\"bytes\",\"data\":\"AAAAQHE6MkAAAAAA8BkqwA==\"},\"shape\":[2],\"dtype\":\"float64\",\"order\":\"little\"}],[1117,{\"type\":\"ndarray\",\"array\":{\"type\":\"bytes\",\"data\":\"AAAAAHLiK0AAAADg3zkswA==\"},\"shape\":[2],\"dtype\":\"float64\",\"order\":\"little\"}],[1118,{\"type\":\"ndarray\",\"array\":{\"type\":\"bytes\",\"data\":\"AAAAgINQLkAAAABgbZ8qwA==\"},\"shape\":[2],\"dtype\":\"float64\",\"order\":\"little\"}],[1119,{\"type\":\"ndarray\",\"array\":{\"type\":\"bytes\",\"data\":\"AAAAIHp8MEAAAADgJoErwA==\"},\"shape\":[2],\"dtype\":\"float64\",\"order\":\"little\"}],[1120,{\"type\":\"ndarray\",\"array\":{\"type\":\"bytes\",\"data\":\"AAAAYPYCMEAAAADgaKgnwA==\"},\"shape\":[2],\"dtype\":\"float64\",\"order\":\"little\"}],[1121,{\"type\":\"ndarray\",\"array\":{\"type\":\"bytes\",\"data\":\"AAAAQDB5LkAAAADAQ0gowA==\"},\"shape\":[2],\"dtype\":\"float64\",\"order\":\"little\"}],[1122,{\"type\":\"ndarray\",\"array\":{\"type\":\"bytes\",\"data\":\"AAAAQLaqMkAAAABAdTgkwA==\"},\"shape\":[2],\"dtype\":\"float64\",\"order\":\"little\"}],[1123,{\"type\":\"ndarray\",\"array\":{\"type\":\"bytes\",\"data\":\"AAAAoJnFMEAAAABg0isjwA==\"},\"shape\":[2],\"dtype\":\"float64\",\"order\":\"little\"}]]}}},\"node_renderer\":{\"type\":\"object\",\"name\":\"GlyphRenderer\",\"id\":\"p2011\",\"attributes\":{\"data_source\":{\"type\":\"object\",\"name\":\"ColumnDataSource\",\"id\":\"p2008\",\"attributes\":{\"selected\":{\"type\":\"object\",\"name\":\"Selection\",\"id\":\"p2009\",\"attributes\":{\"indices\":[],\"line_indices\":[]}},\"selection_policy\":{\"type\":\"object\",\"name\":\"UnionRenderers\",\"id\":\"p2010\"},\"data\":{\"type\":\"map\",\"entries\":[[\"adjusted_size\",[24.183162182386965,40.15559323737951,20.567281192442508,16.090354888959126,21.635532333438686,5.0,5.0,19.33407575382444,10.545177444479563,10.545177444479563,13.788898309344878,13.788898309344878,19.33407575382444,10.545177444479563,5.0,16.090354888959126,5.0,5.0,13.788898309344878,16.090354888959126,21.635532333438686,5.0,5.0,10.545177444479563,16.090354888959126,13.788898309344878,5.0,5.0,5.0,10.545177444479563,5.0,5.0,5.0,13.788898309344878,5.0,5.0,5.0,10.545177444479563,5.0,5.0,5.0,5.0,13.788898309344878,5.0,5.0,10.545177444479563,5.0,5.0,10.545177444479563,5.0,5.0,5.0,10.545177444479563,5.0,5.0,5.0,5.0,5.0,5.0,5.0,5.0,5.0,5.0,5.0,5.0,5.0,5.0,5.0,5.0,5.0,5.0,5.0,5.0,5.0,5.0,5.0,5.0,5.0,5.0,5.0,5.0,5.0,43.36632436477393,13.788898309344878,5.0,5.0,21.635532333438686,21.635532333438686,10.545177444479563,5.0,10.545177444479563,13.788898309344878,10.545177444479563,5.0,5.0,5.0,5.0,5.0,5.0,5.0,10.545177444479563,5.0,16.090354888959126,5.0,5.0,5.0,5.0,5.0,5.0,16.090354888959126,5.0,5.0,5.0,5.0,10.545177444479563,5.0,10.545177444479563,5.0,16.090354888959126,10.545177444479563,5.0,5.0,5.0,5.0,5.0,5.0,5.0,5.0,10.545177444479563,5.0,5.0,5.0,5.0,5.0,5.0,21.635532333438686,5.0,5.0,5.0,10.545177444479563,5.0,10.545177444479563,5.0,5.0,5.0,5.0,10.545177444479563,10.545177444479563,10.545177444479563,10.545177444479563,5.0,5.0,5.0,10.545177444479563,5.0,5.0,5.0,5.0,5.0,5.0,5.0,10.545177444479563,5.0,5.0,5.0,13.788898309344878,5.0,10.545177444479563,5.0,5.0,5.0,5.0,5.0,5.0,5.0,5.0,5.0,5.0,5.0,5.0,5.0,5.0,42.15512719313098,5.0,17.875503299472804,5.0,5.0,5.0,5.0,5.0,5.0,5.0,10.545177444479563,5.0,5.0,5.0,5.0,5.0,5.0,5.0,5.0,10.545177444479563,5.0,5.0,5.0,5.0,10.545177444479563,5.0,5.0,5.0,5.0,5.0,5.0,10.545177444479563,10.545177444479563,5.0,5.0,5.0,5.0,5.0,5.0,5.0,5.0,10.545177444479563,5.0,5.0,5.0,5.0,5.0,5.0,5.0,10.545177444479563,5.0,5.0,10.545177444479563,5.0,5.0,5.0,5.0,5.0,5.0,5.0,5.0,5.0,5.0,5.0,5.0,5.0,5.0,5.0,5.0,5.0,5.0,5.0,5.0,5.0,5.0,5.0,5.0,5.0,10.545177444479563,10.545177444479563,10.545177444479563,5.0,5.0,5.0,47.46614157920964,5.0,5.0,5.0,5.0,5.0,13.788898309344878,16.090354888959126,5.0,5.0,5.0,5.0,5.0,5.0,5.0,5.0,5.0,5.0,5.0,13.788898309344878,5.0,5.0,5.0,5.0,5.0,5.0,5.0,5.0,5.0,5.0,5.0,5.0,5.0,5.0,13.788898309344878,5.0,5.0,5.0,5.0,5.0,21.635532333438686,5.0,10.545177444479563,5.0,5.0,5.0,13.788898309344878,5.0,10.545177444479563,5.0,5.0,5.0,5.0,5.0,10.545177444479563,21.635532333438686,5.0,13.788898309344878,5.0,5.0,5.0,5.0,13.788898309344878,5.0,20.567281192442508,13.788898309344878,13.788898309344878,5.0,5.0,5.0,5.0,5.0,5.0,5.0,5.0,5.0,5.0,5.0,5.0,5.0,5.0,5.0,5.0,5.0,5.0,5.0,5.0,5.0,5.0,10.545177444479563,5.0,5.0,5.0,5.0,5.0,5.0,5.0,5.0,5.0,5.0,5.0,5.0,5.0,5.0,5.0,10.545177444479563,5.0,5.0,5.0,5.0,5.0,5.0,5.0,5.0,5.0,5.0,5.0,5.0,5.0,5.0,5.0,5.0,5.0,5.0,5.0,5.0,5.0,5.0,5.0,5.0,5.0,5.0,5.0,5.0,5.0,5.0,5.0,5.0,5.0,5.0,5.0,5.0,5.0,5.0,5.0,5.0,5.0,5.0,5.0,5.0,5.0,5.0,5.0,5.0,5.0,5.0,5.0,5.0,5.0,5.0,5.0,5.0,5.0,5.0,5.0,5.0,47.8526901973761,10.545177444479563,19.33407575382444,5.0,10.545177444479563,13.788898309344878,19.33407575382444,17.875503299472804,10.545177444479563,13.788898309344878,5.0,13.788898309344878,10.545177444479563,5.0,5.0,13.788898309344878,5.0,10.545177444479563,10.545177444479563,16.090354888959126,5.0,10.545177444479563,5.0,10.545177444479563,5.0,17.875503299472804,10.545177444479563,5.0,5.0,5.0,13.788898309344878,10.545177444479563,5.0,5.0,5.0,5.0,5.0,13.788898309344878,13.788898309344878,10.545177444479563,13.788898309344878,10.545177444479563,5.0,5.0,5.0,16.090354888959126,13.788898309344878,10.545177444479563,5.0,10.545177444479563,10.545177444479563,16.090354888959126,5.0,10.545177444479563,5.0,5.0,5.0,10.545177444479563,5.0,16.090354888959126,10.545177444479563,17.875503299472804,20.567281192442508,19.33407575382444,10.545177444479563,5.0,5.0,19.33407575382444,10.545177444479563,10.545177444479563,5.0,5.0,10.545177444479563,5.0,10.545177444479563,10.545177444479563,10.545177444479563,5.0,10.545177444479563,10.545177444479563,13.788898309344878,13.788898309344878,17.875503299472804,13.788898309344878,5.0,5.0,13.788898309344878,5.0,5.0,5.0,5.0,5.0,5.0,5.0,5.0,10.545177444479563,16.090354888959126,13.788898309344878,10.545177444479563,5.0,10.545177444479563,10.545177444479563,10.545177444479563,10.545177444479563,10.545177444479563,10.545177444479563,10.545177444479563,10.545177444479563,5.0,5.0,5.0,5.0,5.0,5.0,10.545177444479563,5.0,5.0,10.545177444479563,10.545177444479563,10.545177444479563,10.545177444479563,5.0,10.545177444479563,10.545177444479563,10.545177444479563,10.545177444479563,10.545177444479563,10.545177444479563,10.545177444479563,5.0,5.0,10.545177444479563,5.0,10.545177444479563,10.545177444479563,5.0,5.0,5.0,10.545177444479563,10.545177444479563,5.0,10.545177444479563,5.0,10.545177444479563,10.545177444479563,5.0,5.0,5.0,5.0,10.545177444479563,10.545177444479563,10.545177444479563,5.0,10.545177444479563,10.545177444479563,5.0,5.0,5.0,10.545177444479563,5.0,10.545177444479563,10.545177444479563,10.545177444479563,5.0,5.0,5.0,5.0,5.0,10.545177444479563,10.545177444479563,10.545177444479563,5.0,5.0,5.0,5.0,10.545177444479563,10.545177444479563,10.545177444479563,10.545177444479563,5.0,10.545177444479563,10.545177444479563,5.0,10.545177444479563,10.545177444479563,5.0,10.545177444479563,5.0,5.0,45.94395049933404,5.0,5.0,10.545177444479563,5.0,5.0,5.0,5.0,5.0,5.0,13.788898309344878,5.0,5.0,5.0,13.788898309344878,5.0,5.0,5.0,5.0,5.0,5.0,5.0,5.0,5.0,5.0,5.0,5.0,5.0,5.0,5.0,5.0,5.0,5.0,5.0,5.0,5.0,5.0,5.0,5.0,5.0,5.0,5.0,5.0,5.0,5.0,5.0,46.13330845202128,5.0,5.0,5.0,10.545177444479563,5.0,5.0,16.090354888959126,5.0,5.0,5.0,5.0,5.0,16.090354888959126,5.0,5.0,5.0,5.0,5.0,5.0,5.0,5.0,5.0,10.545177444479563,5.0,5.0,5.0,10.545177444479563,5.0,10.545177444479563,5.0,5.0,5.0,5.0,5.0,5.0,5.0,5.0,5.0,5.0,5.0,5.0,5.0,5.0,5.0,10.545177444479563,5.0,5.0,5.0,5.0,5.0,5.0,5.0,5.0,5.0,5.0,5.0,5.0,5.0,10.545177444479563,5.0,5.0,5.0,5.0,5.0,5.0,5.0,5.0,5.0,5.0,5.0,5.0,5.0,5.0,5.0,5.0,5.0,5.0,5.0,5.0,5.0,5.0,5.0,5.0,5.0,5.0,5.0,5.0,5.0,5.0,5.0,5.0,5.0,5.0,5.0,5.0,5.0,5.0,5.0,5.0,5.0,5.0,5.0,5.0,5.0,5.0,5.0,5.0,5.0,5.0,5.0,5.0,5.0,5.0,5.0,5.0,5.0,5.0,5.0,5.0,5.0,5.0,5.0,5.0,5.0,5.0,5.0,5.0,5.0,5.0,5.0,5.0,5.0,5.0,5.0,5.0,5.0,5.0,5.0,5.0,40.818694515825655,5.0,5.0,5.0,5.0,5.0,5.0,5.0,5.0,5.0,5.0,5.0,5.0,5.0,5.0,5.0,10.545177444479563,5.0,5.0,10.545177444479563,5.0,5.0,5.0,5.0,5.0,5.0,5.0,5.0,5.0,5.0,5.0,5.0,5.0,5.0,5.0,5.0,5.0,5.0,16.090354888959126,5.0,5.0,5.0,5.0,10.545177444479563,16.090354888959126,5.0,5.0,5.0,5.0,5.0,5.0,5.0,5.0,5.0,5.0,5.0,5.0,5.0,5.0,42.15512719313098,13.788898309344878,5.0,5.0,5.0,5.0,5.0,5.0,10.545177444479563,5.0,5.0,5.0,5.0,5.0,5.0,13.788898309344878,5.0,5.0,10.545177444479563,5.0,5.0,5.0,5.0,13.788898309344878,5.0,5.0,5.0,5.0,5.0,5.0,5.0,5.0,5.0,5.0,5.0,5.0,5.0,5.0,5.0,5.0,10.545177444479563,5.0,5.0,5.0,10.545177444479563,10.545177444479563,5.0,5.0,5.0,5.0,5.0,5.0,5.0,5.0,5.0,5.0,5.0,5.0,5.0,5.0,10.545177444479563,5.0,5.0,5.0,5.0,39.43252074563336,5.0,5.0,10.545177444479563,10.545177444479563,5.0,10.545177444479563,5.0,5.0,5.0,5.0,10.545177444479563,10.545177444479563,10.545177444479563,5.0,5.0,5.0,5.0,5.0,5.0,5.0,5.0,5.0,5.0,5.0,5.0,5.0,5.0,5.0,5.0,5.0,5.0,5.0,5.0,5.0,5.0,5.0,5.0,5.0,5.0,5.0,5.0,5.0,5.0,5.0,5.0,46.58797625012661,5.0,5.0,5.0,5.0,5.0,5.0,5.0,5.0,5.0,5.0,5.0,5.0,5.0,5.0,5.0,5.0,5.0,5.0,5.0,5.0,5.0,5.0,5.0,5.0,5.0,5.0,5.0,5.0,5.0,5.0,5.0,5.0,5.0,5.0,5.0,5.0,5.0,5.0,5.0,5.0,5.0,5.0,5.0,5.0,5.0,5.0,5.0,5.0,5.0,5.0,5.0,5.0,5.0,5.0,5.0,5.0,5.0,5.0,5.0,5.0,5.0,5.0,5.0,5.0,5.0,5.0,5.0,5.0,5.0,5.0,5.0,5.0,5.0,5.0,5.0,5.0,5.0,5.0,5.0,5.0,5.0,5.0,5.0,5.0,5.0,5.0,5.0,5.0,5.0,5.0,5.0,5.0,5.0,5.0,5.0,5.0,5.0,5.0,5.0,5.0,5.0,5.0,5.0,5.0,5.0,5.0,5.0,5.0,5.0,5.0,5.0,5.0,5.0,5.0,5.0,5.0,5.0,5.0,5.0,5.0,5.0,5.0,5.0,5.0,5.0,5.0,5.0,5.0,5.0,5.0,5.0,5.0,5.0,5.0,5.0,5.0,5.0,5.0,5.0,5.0,5.0,5.0,5.0,5.0,5.0,5.0]],[\"degree\",[11,81,7,4,8,1,1,6,2,2,3,3,6,2,1,4,1,1,3,4,8,1,1,2,4,3,1,1,1,2,1,1,1,3,1,1,1,2,1,1,1,1,3,1,1,2,1,1,2,1,1,1,2,1,1,1,1,1,1,1,1,1,1,1,1,1,1,1,1,1,1,1,1,1,1,1,1,1,1,1,1,1,121,3,1,1,8,8,2,1,2,3,2,1,1,1,1,1,1,1,2,1,4,1,1,1,1,1,1,4,1,1,1,1,2,1,2,1,4,2,1,1,1,1,1,1,1,1,2,1,1,1,1,1,1,8,1,1,1,2,1,2,1,1,1,1,2,2,2,2,1,1,1,2,1,1,1,1,1,1,1,2,1,1,1,3,1,2,1,1,1,1,1,1,1,1,1,1,1,1,1,1,104,1,5,1,1,1,1,1,1,1,2,1,1,1,1,1,1,1,1,2,1,1,1,1,2,1,1,1,1,1,1,2,2,1,1,1,1,1,1,1,1,2,1,1,1,1,1,1,1,2,1,1,2,1,1,1,1,1,1,1,1,1,1,1,1,1,1,1,1,1,1,1,1,1,1,1,1,1,2,2,2,1,1,1,202,1,1,1,1,1,3,4,1,1,1,1,1,1,1,1,1,1,1,3,1,1,1,1,1,1,1,1,1,1,1,1,1,1,3,1,1,1,1,1,8,1,2,1,1,1,3,1,2,1,1,1,1,1,2,8,1,3,1,1,1,1,3,1,7,3,3,1,1,1,1,1,1,1,1,1,1,1,1,1,1,1,1,1,1,1,1,1,1,2,1,1,1,1,1,1,1,1,1,1,1,1,1,1,1,2,1,1,1,1,1,1,1,1,1,1,1,1,1,1,1,1,1,1,1,1,1,1,1,1,1,1,1,1,1,1,1,1,1,1,1,1,1,1,1,1,1,1,1,1,1,1,1,1,1,1,1,1,1,1,1,1,1,1,1,1,212,2,6,1,2,3,6,5,2,3,1,3,2,1,1,3,1,2,2,4,1,2,1,2,1,5,2,1,1,1,3,2,1,1,1,1,1,3,3,2,3,2,1,1,1,4,3,2,1,2,2,4,1,2,1,1,1,2,1,4,2,5,7,6,2,1,1,6,2,2,1,1,2,1,2,2,2,1,2,2,3,3,5,3,1,1,3,1,1,1,1,1,1,1,1,2,4,3,2,1,2,2,2,2,2,2,2,2,1,1,1,1,1,1,2,1,1,2,2,2,2,1,2,2,2,2,2,2,2,1,1,2,1,2,2,1,1,1,2,2,1,2,1,2,2,1,1,1,1,2,2,2,1,2,2,1,1,1,2,1,2,2,2,1,1,1,1,1,2,2,2,1,1,1,1,2,2,2,2,1,2,2,1,2,2,1,2,1,1,167,1,1,2,1,1,1,1,1,1,3,1,1,1,3,1,1,1,1,1,1,1,1,1,1,1,1,1,1,1,1,1,1,1,1,1,1,1,1,1,1,1,1,1,1,1,171,1,1,1,2,1,1,4,1,1,1,1,1,4,1,1,1,1,1,1,1,1,1,2,1,1,1,2,1,2,1,1,1,1,1,1,1,1,1,1,1,1,1,1,1,2,1,1,1,1,1,1,1,1,1,1,1,1,1,2,1,1,1,1,1,1,1,1,1,1,1,1,1,1,1,1,1,1,1,1,1,1,1,1,1,1,1,1,1,1,1,1,1,1,1,1,1,1,1,1,1,1,1,1,1,1,1,1,1,1,1,1,1,1,1,1,1,1,1,1,1,1,1,1,1,1,1,1,1,1,1,1,1,1,1,1,1,1,1,1,88,1,1,1,1,1,1,1,1,1,1,1,1,1,1,1,2,1,1,2,1,1,1,1,1,1,1,1,1,1,1,1,1,1,1,1,1,1,4,1,1,1,1,2,4,1,1,1,1,1,1,1,1,1,1,1,1,1,1,104,3,1,1,1,1,1,1,2,1,1,1,1,1,1,3,1,1,2,1,1,1,1,3,1,1,1,1,1,1,1,1,1,1,1,1,1,1,1,1,2,1,1,1,2,2,1,1,1,1,1,1,1,1,1,1,1,1,1,1,2,1,1,1,1,74,1,1,2,2,1,2,1,1,1,1,2,2,2,1,1,1,1,1,1,1,1,1,1,1,1,1,1,1,1,1,1,1,1,1,1,1,1,1,1,1,1,1,1,1,1,181,1,1,1,1,1,1,1,1,1,1,1,1,1,1,1,1,1,1,1,1,1,1,1,1,1,1,1,1,1,1,1,1,1,1,1,1,1,1,1,1,1,1,1,1,1,1,1,1,1,1,1,1,1,1,1,1,1,1,1,1,1,1,1,1,1,1,1,1,1,1,1,1,1,1,1,1,1,1,1,1,1,1,1,1,1,1,1,1,1,1,1,1,1,1,1,1,1,1,1,1,1,1,1,1,1,1,1,1,1,1,1,1,1,1,1,1,1,1,1,1,1,1,1,1,1,1,1,1,1,1,1,1,1,1,1,1,1,1,1,1,1,1,1,1,1,1]],[\"name\",[\"Quentin Tarantino\",\"Reservoir Dogs\",\"Lawrence Bender\",\"Paul Hellerman\",\"Sally Menke\",\"Harvey Keitel\",\"Ross Katz\",\"David Wasco\",\"Roger Avary\",\"Ronnie Yeskel\",\"Andrzej Sekula\",\"Karyn Rachtman\",\"Sandy Reynolds-Wasco\",\"Betsy Heimann\",\"Debra Grieco\",\"Richard N. Gladstein\",\"Ron Bartlett\",\"Monte Hellman\",\"Ken Lesco\",\"Mary Claire Hannan\",\"Martin Kitrosser\",\"Ronna B. Wallace\",\"Mark Emery Moore\",\"Michelle B\\u00fchler\",\"Ziad Doueiri\",\"Stephen Hunter Flick\",\"Kelley Dixon\",\"Stephen DeLollis\",\"Rick Yale\",\"Larry Fioritto\",\"Steve F.B. Smith\",\"Peggy Kennedy\",\"James Lowder\",\"Brett C. Smith\",\"Curt Schulkey\",\"Geoffrey G. Rubay\",\"Jonathan Bobbitt\",\"Jonathan R. Hodges\",\"David E. Stone\",\"Marian Green\",\"Jamie Beardsley\",\"Jeannie H. Kelly\",\"Jacqueline Aronson\",\"Bruce Comtois\",\"Jennifer Pyken\",\"Charles Ewing Smith\",\"Ken Segal\",\"Mary Louise Rodgers\",\"Kelly Kiernan\",\"Enid L. Kantor\",\"Marino Pascal\",\"Ric Urbauer\",\"Iain Jones\",\"Rachel Tanner\",\"Suzanne Celeste\",\"David Coffee\",\"Wayne Alexander\",\"Warren Betts\",\"Melanie Molyneux\",\"Ben C. Giller\",\"Marina Bailey\",\"Chuck Winston\",\"Jay Dahlquist\",\"Joey D. Brown\",\"Greg R. McCullough\",\"Billy A. Fox\",\"R. Blaine Currier\",\"Dwayne S. Henkel\",\"John Hulsman\",\"Cecilia Perna\",\"John Lieberman\",\"Dink Adams\",\"Andy Spilkoman\",\"Nancy Lynn Hurlbut\",\"Dennis K. Wilson\",\"Randall Guth\",\"Mark Lass\",\"Judith E. Goldman\",\"Mary Santiago\",\"Robert John Speer\",\"Pat Domenico\",\"Wendy Baker\",\"Pulp Fiction\",\"Heidi Vogel\",\"Jennifer Beals\",\"Danny DeVito\",\"Bob Weinstein\",\"Harvey Weinstein\",\"Tatiana S. Riegel\",\"Bill Unger\",\"Michael Shamberg\",\"Stacey Sher\",\"Dean Beville\",\"Ken King\",\"Ruth Lambert\",\"Gary M. Zuckerbrod\",\"Charles Collum\",\"Scott Spiegel\",\"Ezra Dweck\",\"Andrew Dickler\",\"Jeff Olan\",\"Ricardo Mestres\",\"Daniel Bradford\",\"Lou Arkoff\",\"Agn\\u00e8s B.\",\"Stephen Martines\",\"Emily Wolfe\",\"Emanuel Steward\",\"Mike Simpson\",\"Barbara Harris\",\"Peter Borck\",\"Terry Jackson\",\"Vance Trussell\",\"Cameron\",\"Thomas L. Bellissimo\",\"Lee Stollman\",\"Ray Maxwell\",\"Patia Prouty\",\"Derek Raser\",\"Brian Markey\",\"Bob Gorelick\",\"Audrey Futterman-Stern\",\"Michael Levine\",\"John A. Johnston\",\"Catherine Rowe\",\"Deborah Wuliger\",\"Linda Arnold\",\"Cathryn Jaymes\",\"Dana Gustafson\",\"Donald Likovich\",\"Kevin McTurk\",\"Kathy Nelson\",\"Linda R. Chen\",\"Billy Gottlieb\",\"Adam Silver\",\"Mary Ramos\",\"Samantha Gore\",\"Bill Fletcher\",\"Rolf Johnson\",\"Mike Stanwick\",\"Bruce Jagoda\",\"Matthew C. Beville\",\"Haley Sweet\",\"Larry Scharf\",\"Marc Meisenheimer\",\"Anna-Lisa Nilsson\",\"Judee Flick\",\"Marc Gillson\",\"Derek Hurd\",\"Ben Parker\",\"Giuseppe Maini III\",\"Mark Shane Davis\",\"Chris Ahern\",\"Joseph W. Grafmuller\",\"Gary L. Brennan\",\"Alonzo Brown Jr.\",\"Angelo de la Cruz\",\"Ruben Cortez\",\"Francis R. Mahony III\",\"Anthony Hall\",\"Michael Stocks\",\"Kristen Becht\",\"Rory Dauson\",\"Jeff Courtie\",\"Zane\",\"Chris Cullen\",\"Bradley Morris\",\"Gregory C. Smith\",\"Kristin Dangl\",\"John W. Hyde Jr.\",\"Liz Chiz\",\"John Felgate\",\"Steve Ingrassia\",\"Robbie Meckler\",\"Alan Parr\",\"Kara Mazzola\",\"Chuck Kelley\",\"Michael Haddad\",\"Cheryl Cain\",\"Chris L. Winslow\",\"Andrew Ambrose\",\"Allison Anders\",\"Four Rooms\",\"Alexandre Rockwell\",\"Robert Rodriguez\",\"Combustible Edison\",\"Gary Frutkoff\",\"Lance Brown\",\"Scott Lambert\",\"Russell Gray\",\"Mayne Berke\",\"Sara Andrews\",\"Guillermo Navarro\",\"Mark Mothersbaugh\",\"Elena Maganini\",\"Phil Parmet\",\"Randi Hiller\",\"Wayne Fitzgerald\",\"Jonathan Brown\",\"Susan L. Bertram\",\"Erik C. Andersen\",\"Debbie Hayn-Cass\",\"Douglas Aarniokoski\",\"Rodrigo Garc\\u00eda\",\"Jay Nierenberg\",\"Chuck Jones\",\"Ermahn Ospina\",\"Tiffanie DeBartolo\",\"Margaret Goodspeed\",\"Toni G\",\"Fernando Altschul\",\"Jayne-Ann Tenggren\",\"Tim Tuchrello\",\"Robert Earl Craft\",\"Dawn Todd Curfman\",\"Zack Davis\",\"Becky Sullivan\",\"Pawel Wdowczak\",\"Glenn Hoskinson\",\"Thom 'Coach' Ehle\",\"Denise Okimoto\",\"P. Gerald Knight\",\"Bruce Fortune\",\"Kyle Oliver\",\"Lynda Reiss\",\"Victor Iorillo\",\"Marisol Jim\\u00e9nez\",\"Edgar Arellano\",\"Paul Taglianetti\",\"Nancy Willen\",\"Mynka Draper\",\"Brian Bettwy\",\"Darrell Dubovsky\",\"Paul Koronkiewicz\",\"Rick Stribling\",\"Orlando\",\"Bj\\u00f8rn Eivind Aarskog\",\"James C. Beeson\",\"Carlos A. Chavez\",\"T.D. Donnelly\",\"Elizabeth Bolden\",\"Thomas G. Marquez\",\"Paul Starr\",\"Sissy Boyd\",\"Nick Roberts\",\"Patrice Carbaugh\",\"Michael Boyce Harris\",\"Dotti Thompson\",\"Bob Allen\",\"Marcel DeJure\",\"Chuck Smith\",\"Deborah Hebert\",\"David Gertz\",\"Jan D. Tys\",\"Theresa Repola Mohammed\",\"Christina Tucker\",\"Martin Charles\",\"Mary Patvaldnieks\",\"Andrew King\",\"Vincent Cassaro\",\"Christy Sumner\",\"James Irons\",\"Bob Ivanjack\",\"Jeff Ervin\",\"Heidrun M. Williams\",\"Susan Noonan-Gero\",\"Jackie Brown\",\"Elmore Leonard\",\"Jaki Brown\",\"Robyn M. Mitchell\",\"Marietta Carter-Narcisse\",\"Leonard L. Thomas\",\"Ilona Herman\",\"Steve Joyner\",\"Andrew Laws\",\"Mary L. Mastro\",\"Robert L. Stevenson\",\"Rowland Wafford\",\"Alicia M. Tripi\",\"Bob Mills\",\"David Melito\",\"Joan Rowe\",\"Rick Canelli\",\"Alex A. Quinn\",\"Charles Maynes\",\"Pilar Savone\",\"Andrew DeCristofaro\",\"Nicholas James\",\"Terry Zarchi\",\"Jason \\\"Jake\\\" Cross\",\"Brian Pope\",\"Colleen Mayne\",\"Warren Hamilton Jr.\",\"Kiante Elam\",\"Tom Kramer\",\"Paul Berolzheimer\",\"Patricio A. Libenson\",\"David V. Butler\",\"George A. Sack\",\"David Lewis Yewdall\",\"Douglas Dresser\",\"Steve M. Davison\",\"D. Chris Smith\",\"Frank A. Monta\\u00f1o\",\"Evan T. Chen\",\"Sergio Reyes\",\"Michael Minkler\",\"Ed Callahan\",\"Caylah Eddleblute\",\"Cathy Agcayab\",\"Stephanie Flack\",\"Frank Smathers\",\"Victoria Wood\",\"Mariko Braswell\",\"Dan Kneece\",\"B. Tennyson Sebastian III\",\"Don Malot\",\"Linda Yeaney\",\"Darren Michaels\",\"Gary Ritchie\",\"Michelle Kuznetsky\",\"Mark Ulano\",\"Jennie Harris\",\"Stephanie Johnson\",\"Ben Bumatai\",\"Kimberly Lambert\",\"Ann Kline\",\"Jerome R. Vitucci\",\"Geraldine Brezca\",\"Cullen G. Chambers\",\"William Paul Clark\",\"Don Feeney\",\"Bruce Callahan\",\"David Lee\",\"Moore Brian\",\"Gordon Tadd Eto\",\"John Polce\",\"Jon Michaels\",\"Gwen Everman\",\"Dena Allen\",\"Tim Soronen\",\"Karen Dimmig\",\"Gary Burritt\",\"Mike Mertens\",\"Bruce Carothers\",\"Brian Glazen\",\"Karla Stevens Flanigan\",\"Shayne A. Wilson\",\"Roman Jakobi\",\"J.T. Thayer\",\"James Eric\",\"David Abrahamsen\",\"Young Vance Cohen\",\"Nathan Hathaway\",\"Bradley O'Donnell\",\"Chandler Vinar\",\"Kristen M. D'Angelo\",\"Thomas J. O'Connell\",\"Steven Mann\",\"R. Derek Keener\",\"Keith A. Hascher\",\"Kimberly Edwards\",\"Stephen Pizzo\",\"Geoff Teagardin\",\"Tracy Thielen\",\"Earl Thielen\",\"Richard Chaim\",\"Kenneth Pratt\",\"Jeff Graham\",\"Courtney Pakiz\",\"John Warner\",\"Norm Hvam\",\"Shannon Hart\",\"Cathy Ragona\",\"Dimitris Moraitis\",\"Mike Bertolina\",\"Tom Lawrence\",\"Alan Kerr\",\"Rick Lange\",\"Linda Stevenson-Khan\",\"David Coronella\",\"Stoney Emshwiller\",\"Craig Hama\",\"Mark Hutman\",\"Gerald Martinez\",\"Patrick Parkhurst\",\"Sally Reed\",\"Scott Tabor\",\"Kathleen McCart\",\"Eric Potter\",\"Anne Gentling\",\"Scot A. Nederman-Paul\",\"Stephen Saunders\",\"Tom Waisanen\",\"Josh Drew\",\"Susan D. Fowler\",\"Carolyn Duffy\",\"Lee Kartis\",\"Lin Coleman\",\"Kristin Eaton\",\"Eric Greenspan\",\"Elizabeth Gregory\",\"John Katovsich\",\"Paul Burlin\",\"Curtis Clark\",\"Jeff Coffman\",\"Sunday Coony\",\"Ken Day\",\"David Garris\",\"Scotty Goudreau\",\"David Joseph\",\"Erin Maguire\",\"George Nadian\",\"Laurence John Reynolds\",\"Matthew Arnold\",\"Paul Candice\",\"David Chute\",\"Kim Crockett\",\"Carolyn Sara Fine\",\"Robert Gonzalez\",\"Scott A. Hale\",\"Bill Miller\",\"Bret Robins\",\"Nick Salick\",\"John Starr\",\"Teron Stevenson\",\"David Tesi\",\"Adam Wallace\",\"Peter Christian White\",\"Ann Du Val\",\"Carlos K. Goodman\",\"Jeff Springer\",\"Kill Bill: Vol. 1\",\"Uma Thurman\",\"Robert Richardson\",\"Julie Dreyfus\",\"Koko Maeda\",\"Johanna Ray\",\"Harry Cohen\",\"Zo\\u00eb Bell\",\"Scott Martin Gershin\",\"Yohei Taneda\",\"Christopher Allen Nelson\",\"RZA\",\"Bob Beher\",\"Debbie Zoller\",\"Mitsuhisa Ishikawa\",\"Dino Dimuro\",\"Yoshihito Akatsuka\",\"John Hartigan\",\"Frankie Chung\",\"Erica Steinberg\",\"Peter Bogdanovich\",\"Catherine Marie Thomas\",\"Kwame Parker\",\"E. Bennett Walsh\",\"Mahiro Maeda\",\"Gregory Nicotero\",\"Joan Sobel\",\"Michiko Nishiwaki\",\"Spencer Sano\",\"Noriko Watanabe\",\"Howard Berger\",\"Jasmine Yuen Carrucan\",\"Minoru Nishida\",\"Katsuhito Ishii\",\"Mizuho Nishikubo\",\"Shou Tajima\",\"Katsuji Morishita\",\"Nerses Gezalyan\",\"James Moriana\",\"Branden Spencer\",\"Jeffrey Wilhoit\",\"Cao Juiping\",\"Takashi Sasaki\",\"Jake McKinnon\",\"Kazuto Nakazawa\",\"Ian Kincaid\",\"Larry McConkey\",\"Ted Gidlow\",\"Jerome Ro Brooks\",\"Mary Saisselin\",\"Greg D'Auria\",\"Jake Garber\",\"Scott Patton\",\"Glenn Cannon\",\"Monica Staggs\",\"Mitsuo Iso\",\"Motoki Ishida\",\"Kumiko Ogawa\",\"Helen Monaghan\",\"Tom Hartig\",\"Frederick H. Stahly\",\"Michael Hertlein\",\"Wylie Stateman\",\"Andrew Cooper\",\"Kanani Wolf\",\"Hidefumi Hanatani\",\"Lu Yo Lui\",\"Heba Thorisdottir\",\"Peter Davidson\",\"Gretchen Engel\",\"Katrina Siegmund\",\"Peter Michael Sullivan\",\"Corey Pritchett\",\"Tommy Tom\",\"Keith Adams\",\"Daniel Grant North\",\"Jay B. Richardson\",\"Akira Morii\",\"David Greenbaum\",\"Hugh Waddell\",\"Greg Steele\",\"John R. Manocchia\",\"Will Casey\",\"Edward J. Borasch Jr\",\"James Logan\",\"Eriko Miyagawa\",\"Eddie Bydalek\",\"Shinya Ohira\",\"Eiji Ishimoto\",\"Sushio\",\"Yasunori Miyazawa\",\"Yutaka Sakamoto\",\"Keiichi Sasajima\",\"Hideki Takahashi\",\"Takaaki Yamashita\",\"Dede Nickerson\",\"Bruce Del Castillo\",\"Emanuel Millar\",\"Rachael Lin Gallaghan\",\"Norman Cabrera\",\"John Bires\",\"Steve Borgese\",\"John Stone\",\"Archie Hankins\",\"Jeff Plauster\",\"Jessica Miglio\",\"Cornelia Ryan\",\"Vincent Joseph Flaherty\",\"Michael Spitaletto\",\"Stephen Dudycha\",\"Angela Meryl\",\"Mark Zunino\",\"Alexander AD\",\"Satoko Saito\",\"Laurel Pickering\",\"Marie Healy\",\"Ayako Sakahara\",\"Elizabeth Norton\",\"Jamie Felz\",\"Herb Ault\",\"David Ladish\",\"D.A. Young\",\"Paul Abraham\",\"Robert Aaron Brown\",\"Ian Elias\",\"Peter Mavromates\",\"Rome Duval\",\"Jennifer A. Bolitho\",\"Elida Cerda\",\"Leslie Yeransian\",\"Sho Brown\",\"Arturo del R\\u00edo\",\"Jennifer Hall Lee\",\"Greg Fausak\",\"Khan Griffith\",\"Preston A. Adams\",\"Carlos Escobar\",\"Katsumi Furuhashi\",\"Jennifer S. Deayton\",\"Mike Hurst\",\"Kelly Bumbarger\",\"Jason Gustafson\",\"Daniel R. Kerr\",\"Julie Helton\",\"Satya Bellord\",\"Roger Morris\",\"Carlos A. Aragon\",\"Shauna Duggins\",\"Jody Hart\",\"Craig S. Jaeger\",\"Sue Smith\",\"Rich King\",\"Adam Blantz\",\"Antonio V. Garrido\",\"Rob Moses\",\"Kennedy Taylor\",\"Jonathan Tex Levitt\",\"Texas Dave\",\"Aaron Denenberg\",\"Rui Kuroki\",\"Heather I. Denton\",\"Stephanie Ito\",\"Andrew Blau\",\"Lisa McCullough\",\"Charlie Estepp\",\"Gary Fry\",\"Ty Williams\",\"Go Abe\",\"Jaime Norman\",\"Beverly Jusi\",\"Edward Poveda\",\"Lisa Bojarski\",\"Ryan Tighe\",\"Juning Li\",\"Kei Itsutsuji\",\"Ellen C. Troy\",\"Phill Zagajewski\",\"Marcus Epps\",\"Jack Jennings\",\"Melanie C. Brown\",\"Amy Lin\",\"Wendi Morris\",\"Hiroyuki Nakano\",\"Jerry Carville\",\"Alan Schwartz\",\"Ryutaro Ishimori\",\"Sean Carville\",\"Junichiro Aki\",\"Ming Qiu\",\"Kill Bill: Vol. 2\",\"Shin'ichi Chiba\",\"Ricardo Del R\\u00edo\",\"Peggy Eghbalian\",\"Christopher Tandon\",\"Carl Thiel\",\"Kerry Ann Carmean\",\"Lee Wimer\",\"David James\",\"Ron Barr\",\"Hector C. Gika\",\"Peter Owen\",\"Douglas S. McClintock II\",\"Kyra Panchenko\",\"Tysuela Hill-Scott\",\"Gerardo Rene Arellano\",\"Jim Hansen\",\"Pete Anthony\",\"Carlos Ponce de Le\\u00f3n\",\"Yingchun Fang\",\"Manuel Barrera Oliver\",\"Thomas W. Lay Jr.\",\"Kristina Soderquist\",\"Norberto Nava\",\"Hally Grounds\",\"Ariel Oclarino\",\"Edgar Ambriz Espinoza\",\"Jeff Brinker\",\"Jessica Vogl\",\"Alan Meyerson\",\"Christopher Haydostian\",\"V\\u00edctor Solorio\",\"Kevin Connolly\",\"Matthew J. Barden\",\"Michele Flynn\",\"Dawn Massaro\",\"Janet Kusnick\",\"Keith O. Wilson\",\"Ernesto Cairo\",\"Dan Duffy\",\"Stephanie A. Fowler\",\"Perry Strong\",\"Cheryl Bermeo\",\"Liuba Esperon Otero\",\"Jessica James\",\"Arturo Saldivar\",\"Death Proof\",\"Elizabeth Avellan\",\"Beth Sepko\",\"Mary Vernieu\",\"Joe D'Augustine\",\"Christopher Assells\",\"Nina Proctor\",\"Jeffrey J. Dashnaw\",\"Ken Zorniak\",\"Jeanette Scott\",\"Michael Keller\",\"Joe Rivera\",\"Greg Zimmerman\",\"Shannon McIntosh\",\"Tracy Keehn-Dashnaw\",\"Jimmy Lindsey\",\"J.C. Cantu\",\"David Hack\",\"Tracey Landon\",\"John McLeod\",\"Crystal Santos\",\"Harrison Witt\",\"Dennis Liddiard\",\"Jonny Pray\",\"Jeffrey W. Petersen\",\"Margit Pfeiffer\",\"Pete Stockton\",\"Jim Schultz\",\"Jeff B. Adams Jr.\",\"Ann Scibelli\",\"Jennifer Long\",\"Ken Gaston-Kilgore\",\"P.K. Munson\",\"Pam Fuller\",\"Drew Webster\",\"Joe McCusker\",\"Peter Zinda\",\"Hap Weaver\",\"Scott Wolf\",\"Tara Smith\",\"Darylin Nagy\",\"Debbie Cortez Haber\",\"Steve A. Hagberg\",\"David Michael Ableman\",\"Mike Walker\",\"Ren\\u00e9e Tondelli\",\"Michael Janov\",\"Arin Finger\",\"Ryan Tudhope\",\"Stefan Tarzan\",\"John 'Fest' Sandau\",\"Brenda J. Chambers\",\"Janice Janacek\",\"Vanessa Nirode\",\"Mirin Soliz\",\"Nina Kawasaki\",\"Cecil D. Evans\",\"Ken Stranahan\",\"Travis Carr\",\"Dana Reed\",\"Amber Kirsch\",\"Crystal Falkner-Paysse\",\"Joe Montenegro\",\"Cynthia Streit\",\"Stephen R. Sheridan\",\"Dina L. Margolin\",\"Shawn Wallbridge\",\"Selena Carrillo\",\"Edison Jackson\",\"Logan Cooper\",\"James F. Cornick\",\"Mike Revell\",\"Matthew McGinn\",\"Steve White\",\"Clark Campbell\",\"Rocky Quiroz\",\"Mo Henry\",\"Richard L. Carden\",\"Jim Shelton\",\"Jamie Franta\",\"Karin Silvestri\",\"Chrissy Weathersby Ball\",\"Ronald Perkins\",\"Alan R. Serotta\",\"Gary A. Beaird\",\"Bethany Orlemann\",\"Neil Fraser\",\"Ferrell A. Shinnick\",\"Kurt Volk\",\"Sebastian Vega\",\"Erin Michelle Hopkins\",\"Raul Mello\",\"Sean Wright\",\"Rick Pratt\",\"Kenneth Bosse\",\"Jennifer Mosley\",\"Daniel Yates\",\"Dirk Rogers\",\"Cheri Jacobs\",\"Amanda Curry\",\"Matthew K. Grigsby\",\"Eric Johnson\",\"April Kelley\",\"Susan Jasso\",\"Michael Dudash\",\"Kurt Kornemann\",\"Kelly Bogdan\",\"Mike Sheeren\",\"Todd Smiley\",\"Todd Green\",\"Mary Duque\",\"Richard M. Moore\",\"Robert Janecka\",\"Scott Conn\",\"Matt Fliehler\",\"David Rimer\",\"Barbara Chennault\",\"Omar Torres\",\"Michael Semon\",\"Carrin Welch\",\"Jammie S. Goodman\",\"Garry Kirks\",\"James Toole\",\"Douglas Gessaman\",\"Timothy W. Lobdell\",\"Desmond O'Regan\",\"Michael P. Weller\",\"Peter Bret Lennon\",\"Dan Hammond\",\"John Eschberger\",\"Erin Randall\",\"Matt Morrow\",\"Kyle Kaufman\",\"Brian Cross\",\"Brian Montgomery\",\"Emily Davis\",\"Adam Picchietti\",\"Denny Rubianes\",\"Greg Urich\",\"Rob DaFoe\",\"Inglourious Basterds\",\"Lloyd Phillips\",\"Maggie Cheung\",\"Tom Tykwer\",\"Simone B\\u00e4r\",\"Anna B. Sheppard\",\"Cloris Leachman\",\"Henning Molfenter\",\"Charlie Woebcken\",\"Marco Bittner Rosser\",\"Sebastian T. Krawinkel\",\"Antje Rau\",\"Sascha Girndt\",\"Alexandra Nazahn\",\"Stephan O. Gessler\",\"Bud Davis\",\"Tony Lamberti\",\"Bruce Moriarty\",\"Olivier Carbone\",\"John Dykstra\",\"Katrin Schneider\",\"Barry Primus\",\"Carlos Fidel\",\"Giorgio Armani\",\"Julie Garc\\u00e9s\",\"Tim Trella\",\"Gabriel Roth\",\"David Scheunemann\",\"Jenny Jue\",\"Evan Henke\",\"Gregg Baxter\",\"Christoph Fisser\",\"Fran\\u00e7ois Duhamel\",\"D\\u00f6rte Eben\",\"Nils Konrad\",\"Sebastian Meuschel\",\"Caroline Veyssi\\u00e8re\",\"Matthias Pilz\",\"Tina Anderson\",\"Klaus Gro\\u00dfe Darrelmann\",\"Viktor M\\u00fcller\",\"Michael Scheel\",\"Sheryl Benko\",\"Yvan Lucas\",\"Gregor Tavenner\",\"Birgit Dierken\",\"Gregor Wilson\",\"Gero Neumann\",\"Erin Hopkins\",\"Danny Bortfeld\",\"Lester Dunton\",\"Christopher Berg\",\"Matthew Sakata\",\"Sebastiano Cartier\",\"Nicole Dierken\",\"Kristin Haberland\",\"Dennis Grzesczak\",\"S\\u00f6nke Korries\",\"Michael Duessel\",\"Django Unchained\",\"Victoria Thomas\",\"James W. Skotchdopole\",\"Richard Roundtree\",\"Sacha Baron Cohen\",\"Kurt Russell\",\"J. Michael Riva\",\"Leslie A. Pope\",\"Tim Monich\",\"David F. Klassen\",\"Sharen Davis\",\"Franco Nero\",\"Page Buckner\",\"Joseph Gordon-Levitt\",\"Nancy Piraquive\",\"Fred Raskin\",\"Luis Bacalov\",\"Reginald Hudlin\",\"Andrew S. Eisen\",\"Erik Polczwartek\",\"Lady Gaga\",\"Dror Mohar\",\"Mara LePere-Schloop\",\"Gary A. Hecker\",\"Gino Crognale\",\"Elaine Ramires\",\"Chere Theriot\",\"Gary Marullo\",\"Nancy Nugent\",\"Mandi Dillin\",\"Russell R. Anderson\",\"Cuitlahuac Morales Velazquez\",\"Lauri Mills\",\"John C. Stuver\",\"Hope M. Parrish\",\"Molly Allen\",\"Robb Boyd\",\"Molly Mikula\",\"Deidra Dixon\",\"Durel Yates\",\"Marc A. Hammer\",\"Michael D. Wilhoit\",\"A. Welch Lambeth\",\"Steve Duncan\",\"Sian Grigg\",\"Camille Friend\",\"Caleb Guillotte\",\"Lauren Abiouness\",\"Brian Walker\",\"Julie Stark\",\"Joseph Guerino\",\"Kei Rowan-Young\",\"Remi Savva\",\"Mark Amos\",\"Craig Branham\",\"Jessica Lakoff\",\"Nicole Reed LeFevre\",\"Kellie Robinson\",\"Greg Hale\",\"Vince LeBlanc\",\"Darren Patnode\",\"Stephanie Portnoy Porter\",\"John Lamkin\",\"Chris Britt\",\"Jason Portera\",\"The Hateful Eight\",\"Ennio Morricone\",\"Bill Abbott\",\"Georgia Kacandes\",\"Richard L. Johnson\",\"Rosemary Brandenburg\",\"Greg Funk\",\"Carole Zacek\",\"Lara Perez Takagi\",\"Courtney Hoffman\",\"Benjamin Edelberg\",\"Sylvain Lasseur\",\"Christian P. Minkler\",\"Rick Owens\",\"Darren Poe\",\"Tricia Yoo\",\"Joshua Coleman\",\"Bob Moore Jr.\",\"Lisa Goldberg\",\"Michael Harden\",\"Stan Parks\",\"Barbara Cantu\",\"Marina Marit\",\"Michael Diersing\",\"Diana Choi\",\"Bruno Van Zeebroeck\",\"Robert 'Rock' Galotti\",\"Lauren Hadaway\",\"Shawn Broes\",\"Sara Ghaffar\",\"Laurent Gillet\",\"Brittany Montero\",\"Mark Webb\",\"Molly Tissavary\",\"Jen R. Clark\",\"Holly E. McCarthy\",\"Mike Edmonson\",\"Kil Won Yu\",\"Megan Louise Smith\",\"Ashley Bradford\",\"Patrick Ready\",\"Louise DeCordoba\",\"Nick Marra\",\"Billy Hobson\",\"Coco Francini\",\"Matt Lange\",\"Once Upon a Time\\u2026 in Hollywood\",\"Tim Roth\",\"John Dexter\",\"Nancy Haigh\",\"Barbara Ling\",\"Toni Basil\",\"Jim Palmer\",\"David Heyman\",\"James Marsden\",\"Adam West\",\"Burt Ward\",\"Arianne Phillips\",\"Sergio Corbucci\",\"Kathy Lucas\",\"Gary Archer\",\"Yu Dong\",\"Keith Jardine\",\"Paul Sonski\",\"Jeremy Fitzgerald\",\"Richard Schuler\",\"Peter Epstein\",\"Toby Holguin\",\"Marcus Young\",\"Tara Macken\",\"Jeffrey Chan\",\"William Fletcher\",\"Debra Tate\",\"Eric Sundahl\",\"Nichole Galicia\",\"Sarah Contant\",\"Samuel Le\",\"Andr\\u00e9s Murillo\",\"Tristan Paris Bourne\",\"Betsy Glick\",\"Jean Ann Black\",\"Lynda Foote\",\"Sam Page\",\"Anne Porter\",\"Patrushkha Mierzwa\",\"Nathan Kelly\",\"Susannah Carradine\",\"Corey Bronson\",\"Sara Philpott\",\"Pete Romano\",\"Lisa Tutunjian\",\"Angel Acosta\",\"Shari Ratliff\",\"Henry Tirl\",\"Rob O'Malley\",\"Janine Rath\",\"Andrew Blustain\",\"Kyle Rochlin\",\"Anna Quinn\",\"Michael Thurman\",\"Mark Weissenfluh\",\"Leigh Bell\",\"Kelly Porter\",\"Jeff Frost\",\"Eric Salas\",\"Chris Tonick\",\"Anthony DiMaria\",\"Charlotte Nichol\",\"Jessica Ripka\",\"Jeremy Hays\",\"Jimmy Hart\",\"Michelle Diamantides\",\"Chris Call\",\"Corey Deist\",\"Michyl-Shannon Quilty\",\"Joel A. Ruiz\",\"Lisa Hoyle\",\"Cindy Mah\",\"Marc Tantin\",\"Vanessa Riegel\",\"Jennifer Yoo\",\"Chris Centrella\",\"Mark Aaron Wagner\",\"Tina Charad\",\"Allan Padelford\",\"Bryan Lane\",\"Krystina Figg\",\"Jared Gibson\",\"Norman Mora\",\"Dario Perez\",\"Seana Gorlick\",\"Braxton McAllister\",\"Marc Banich\",\"Stephen Bettles\",\"Lauren Baker\",\"Rio Noel Zumwalt\",\"Vince Manocchia\",\"Robin Borman\",\"Fante Zamora\",\"Rusty Davis\",\"Hugh McCallum\",\"Jason Zorigian\",\"Michaela McAllister\",\"Dalton Rondell\",\"Jon Nicholson\",\"Christopher T. Sadler\",\"Nashon Petrushkin\",\"Brendan Lee\",\"Mike Byrd\",\"Maryellen Aviano\",\"Brit DeLillo\",\"Riley Harper\",\"Glen Yrigoyen\",\"Dylan Hice\",\"Zoe Gardner\",\"Karl Van Moorsel\",\"Jory Alvarado\",\"Carla Lewis\",\"Chris Howland\",\"Felicia Leilani Jarvis\",\"Zach Goheen\",\"David Tichauer\",\"Kevin Souls\",\"Lance Malbon\",\"Kimberly Shannon Murphy\",\"Amy Redfern\",\"Leigh Jonte\",\"Edward R. Apodaca\",\"Paul Kahil\",\"Mike Morales\",\"Michael James Faradie\",\"Leo Marcil\",\"Leah Holmes\",\"Brandon Linville\",\"Christina Beaumont\",\"Stephen Mapel\",\"Jessica Adler\",\"Mayra-Alejandra Garcia\",\"Katie Pruitt\",\"Paola Magrans\",\"Celine Eva Gimpirea\",\"Roxanne Gross\",\"Daren Metropoulos\",\"Megan Morris\",\"Brett Elliott\",\"Andrew Williams\",\"Donnell Wiley\",\"Jose Reyes\",\"Debbie Chung\",\"Ericka Poniewaz\",\"Rob Alonzo\",\"Sierra Schotts\",\"Bill Harrison\"]],[\"color\",[\"#EE8866\",\"#77AADD\",\"#EE8866\",\"#EE8866\",\"#EE8866\",\"#EE8866\",\"#EE8866\",\"#EE8866\",\"#EE8866\",\"#EE8866\",\"#EE8866\",\"#EE8866\",\"#EE8866\",\"#EE8866\",\"#EE8866\",\"#EE8866\",\"#EE8866\",\"#EE8866\",\"#EE8866\",\"#EE8866\",\"#EE8866\",\"#EE8866\",\"#EE8866\",\"#EE8866\",\"#EE8866\",\"#EE8866\",\"#EE8866\",\"#EE8866\",\"#EE8866\",\"#EE8866\",\"#EE8866\",\"#EE8866\",\"#EE8866\",\"#EE8866\",\"#EE8866\",\"#EE8866\",\"#EE8866\",\"#EE8866\",\"#EE8866\",\"#EE8866\",\"#EE8866\",\"#EE8866\",\"#EE8866\",\"#EE8866\",\"#EE8866\",\"#EE8866\",\"#EE8866\",\"#EE8866\",\"#EE8866\",\"#EE8866\",\"#EE8866\",\"#EE8866\",\"#EE8866\",\"#EE8866\",\"#EE8866\",\"#EE8866\",\"#EE8866\",\"#EE8866\",\"#EE8866\",\"#EE8866\",\"#EE8866\",\"#EE8866\",\"#EE8866\",\"#EE8866\",\"#EE8866\",\"#EE8866\",\"#EE8866\",\"#EE8866\",\"#EE8866\",\"#EE8866\",\"#EE8866\",\"#EE8866\",\"#EE8866\",\"#EE8866\",\"#EE8866\",\"#EE8866\",\"#EE8866\",\"#EE8866\",\"#EE8866\",\"#EE8866\",\"#EE8866\",\"#EE8866\",\"#77AADD\",\"#EE8866\",\"#EE8866\",\"#EE8866\",\"#EE8866\",\"#EE8866\",\"#EE8866\",\"#EE8866\",\"#EE8866\",\"#EE8866\",\"#EE8866\",\"#EE8866\",\"#EE8866\",\"#EE8866\",\"#EE8866\",\"#EE8866\",\"#EE8866\",\"#EE8866\",\"#EE8866\",\"#EE8866\",\"#EE8866\",\"#EE8866\",\"#EE8866\",\"#EE8866\",\"#EE8866\",\"#EE8866\",\"#EE8866\",\"#EE8866\",\"#EE8866\",\"#EE8866\",\"#EE8866\",\"#EE8866\",\"#EE8866\",\"#EE8866\",\"#EE8866\",\"#EE8866\",\"#EE8866\",\"#EE8866\",\"#EE8866\",\"#EE8866\",\"#EE8866\",\"#EE8866\",\"#EE8866\",\"#EE8866\",\"#EE8866\",\"#EE8866\",\"#EE8866\",\"#EE8866\",\"#EE8866\",\"#EE8866\",\"#EE8866\",\"#EE8866\",\"#EE8866\",\"#EE8866\",\"#EE8866\",\"#EE8866\",\"#EE8866\",\"#EE8866\",\"#EE8866\",\"#EE8866\",\"#EE8866\",\"#EE8866\",\"#EE8866\",\"#EE8866\",\"#EE8866\",\"#EE8866\",\"#EE8866\",\"#EE8866\",\"#EE8866\",\"#EE8866\",\"#EE8866\",\"#EE8866\",\"#EE8866\",\"#EE8866\",\"#EE8866\",\"#EE8866\",\"#EE8866\",\"#EE8866\",\"#EE8866\",\"#EE8866\",\"#EE8866\",\"#EE8866\",\"#EE8866\",\"#EE8866\",\"#EE8866\",\"#EE8866\",\"#EE8866\",\"#EE8866\",\"#EE8866\",\"#EE8866\",\"#EE8866\",\"#EE8866\",\"#EE8866\",\"#EE8866\",\"#EE8866\",\"#EE8866\",\"#EE8866\",\"#EE8866\",\"#EE8866\",\"#EE8866\",\"#77AADD\",\"#EE8866\",\"#EE8866\",\"#EE8866\",\"#EE8866\",\"#EE8866\",\"#EE8866\",\"#EE8866\",\"#EE8866\",\"#EE8866\",\"#EE8866\",\"#EE8866\",\"#EE8866\",\"#EE8866\",\"#EE8866\",\"#EE8866\",\"#EE8866\",\"#EE8866\",\"#EE8866\",\"#EE8866\",\"#EE8866\",\"#EE8866\",\"#EE8866\",\"#EE8866\",\"#EE8866\",\"#EE8866\",\"#EE8866\",\"#EE8866\",\"#EE8866\",\"#EE8866\",\"#EE8866\",\"#EE8866\",\"#EE8866\",\"#EE8866\",\"#EE8866\",\"#EE8866\",\"#EE8866\",\"#EE8866\",\"#EE8866\",\"#EE8866\",\"#EE8866\",\"#EE8866\",\"#EE8866\",\"#EE8866\",\"#EE8866\",\"#EE8866\",\"#EE8866\",\"#EE8866\",\"#EE8866\",\"#EE8866\",\"#EE8866\",\"#EE8866\",\"#EE8866\",\"#EE8866\",\"#EE8866\",\"#EE8866\",\"#EE8866\",\"#EE8866\",\"#EE8866\",\"#EE8866\",\"#EE8866\",\"#EE8866\",\"#EE8866\",\"#EE8866\",\"#EE8866\",\"#EE8866\",\"#EE8866\",\"#EE8866\",\"#EE8866\",\"#EE8866\",\"#EE8866\",\"#EE8866\",\"#EE8866\",\"#EE8866\",\"#EE8866\",\"#EE8866\",\"#EE8866\",\"#EE8866\",\"#EE8866\",\"#EE8866\",\"#EE8866\",\"#EE8866\",\"#EE8866\",\"#EE8866\",\"#77AADD\",\"#EE8866\",\"#EE8866\",\"#EE8866\",\"#EE8866\",\"#EE8866\",\"#EE8866\",\"#EE8866\",\"#EE8866\",\"#EE8866\",\"#EE8866\",\"#EE8866\",\"#EE8866\",\"#EE8866\",\"#EE8866\",\"#EE8866\",\"#EE8866\",\"#EE8866\",\"#EE8866\",\"#EE8866\",\"#EE8866\",\"#EE8866\",\"#EE8866\",\"#EE8866\",\"#EE8866\",\"#EE8866\",\"#EE8866\",\"#EE8866\",\"#EE8866\",\"#EE8866\",\"#EE8866\",\"#EE8866\",\"#EE8866\",\"#EE8866\",\"#EE8866\",\"#EE8866\",\"#EE8866\",\"#EE8866\",\"#EE8866\",\"#EE8866\",\"#EE8866\",\"#EE8866\",\"#EE8866\",\"#EE8866\",\"#EE8866\",\"#EE8866\",\"#EE8866\",\"#EE8866\",\"#EE8866\",\"#EE8866\",\"#EE8866\",\"#EE8866\",\"#EE8866\",\"#EE8866\",\"#EE8866\",\"#EE8866\",\"#EE8866\",\"#EE8866\",\"#EE8866\",\"#EE8866\",\"#EE8866\",\"#EE8866\",\"#EE8866\",\"#EE8866\",\"#EE8866\",\"#EE8866\",\"#EE8866\",\"#EE8866\",\"#EE8866\",\"#EE8866\",\"#EE8866\",\"#EE8866\",\"#EE8866\",\"#EE8866\",\"#EE8866\",\"#EE8866\",\"#EE8866\",\"#EE8866\",\"#EE8866\",\"#EE8866\",\"#EE8866\",\"#EE8866\",\"#EE8866\",\"#EE8866\",\"#EE8866\",\"#EE8866\",\"#EE8866\",\"#EE8866\",\"#EE8866\",\"#EE8866\",\"#EE8866\",\"#EE8866\",\"#EE8866\",\"#EE8866\",\"#EE8866\",\"#EE8866\",\"#EE8866\",\"#EE8866\",\"#EE8866\",\"#EE8866\",\"#EE8866\",\"#EE8866\",\"#EE8866\",\"#EE8866\",\"#EE8866\",\"#EE8866\",\"#EE8866\",\"#EE8866\",\"#EE8866\",\"#EE8866\",\"#EE8866\",\"#EE8866\",\"#EE8866\",\"#EE8866\",\"#EE8866\",\"#EE8866\",\"#EE8866\",\"#EE8866\",\"#EE8866\",\"#EE8866\",\"#EE8866\",\"#EE8866\",\"#EE8866\",\"#EE8866\",\"#EE8866\",\"#EE8866\",\"#EE8866\",\"#EE8866\",\"#EE8866\",\"#EE8866\",\"#EE8866\",\"#EE8866\",\"#EE8866\",\"#EE8866\",\"#EE8866\",\"#EE8866\",\"#EE8866\",\"#EE8866\",\"#EE8866\",\"#EE8866\",\"#EE8866\",\"#EE8866\",\"#EE8866\",\"#EE8866\",\"#EE8866\",\"#EE8866\",\"#EE8866\",\"#EE8866\",\"#EE8866\",\"#EE8866\",\"#EE8866\",\"#EE8866\",\"#EE8866\",\"#EE8866\",\"#EE8866\",\"#EE8866\",\"#EE8866\",\"#EE8866\",\"#EE8866\",\"#EE8866\",\"#EE8866\",\"#EE8866\",\"#EE8866\",\"#EE8866\",\"#EE8866\",\"#EE8866\",\"#77AADD\",\"#EE8866\",\"#EE8866\",\"#EE8866\",\"#EE8866\",\"#EE8866\",\"#EE8866\",\"#EE8866\",\"#EE8866\",\"#EE8866\",\"#EE8866\",\"#EE8866\",\"#EE8866\",\"#EE8866\",\"#EE8866\",\"#EE8866\",\"#EE8866\",\"#EE8866\",\"#EE8866\",\"#EE8866\",\"#EE8866\",\"#EE8866\",\"#EE8866\",\"#EE8866\",\"#EE8866\",\"#EE8866\",\"#EE8866\",\"#EE8866\",\"#EE8866\",\"#EE8866\",\"#EE8866\",\"#EE8866\",\"#EE8866\",\"#EE8866\",\"#EE8866\",\"#EE8866\",\"#EE8866\",\"#EE8866\",\"#EE8866\",\"#EE8866\",\"#EE8866\",\"#EE8866\",\"#EE8866\",\"#EE8866\",\"#EE8866\",\"#EE8866\",\"#EE8866\",\"#EE8866\",\"#EE8866\",\"#EE8866\",\"#EE8866\",\"#EE8866\",\"#EE8866\",\"#EE8866\",\"#EE8866\",\"#EE8866\",\"#EE8866\",\"#EE8866\",\"#EE8866\",\"#EE8866\",\"#EE8866\",\"#EE8866\",\"#EE8866\",\"#EE8866\",\"#EE8866\",\"#EE8866\",\"#EE8866\",\"#EE8866\",\"#EE8866\",\"#EE8866\",\"#EE8866\",\"#EE8866\",\"#EE8866\",\"#EE8866\",\"#EE8866\",\"#EE8866\",\"#EE8866\",\"#EE8866\",\"#EE8866\",\"#EE8866\",\"#EE8866\",\"#EE8866\",\"#EE8866\",\"#EE8866\",\"#EE8866\",\"#EE8866\",\"#EE8866\",\"#EE8866\",\"#EE8866\",\"#EE8866\",\"#EE8866\",\"#EE8866\",\"#EE8866\",\"#EE8866\",\"#EE8866\",\"#EE8866\",\"#EE8866\",\"#EE8866\",\"#EE8866\",\"#EE8866\",\"#EE8866\",\"#EE8866\",\"#EE8866\",\"#EE8866\",\"#EE8866\",\"#EE8866\",\"#EE8866\",\"#EE8866\",\"#EE8866\",\"#EE8866\",\"#EE8866\",\"#EE8866\",\"#EE8866\",\"#EE8866\",\"#EE8866\",\"#EE8866\",\"#EE8866\",\"#EE8866\",\"#EE8866\",\"#EE8866\",\"#EE8866\",\"#EE8866\",\"#EE8866\",\"#EE8866\",\"#EE8866\",\"#EE8866\",\"#EE8866\",\"#EE8866\",\"#EE8866\",\"#EE8866\",\"#EE8866\",\"#EE8866\",\"#EE8866\",\"#EE8866\",\"#EE8866\",\"#EE8866\",\"#EE8866\",\"#EE8866\",\"#EE8866\",\"#EE8866\",\"#EE8866\",\"#EE8866\",\"#EE8866\",\"#EE8866\",\"#EE8866\",\"#EE8866\",\"#EE8866\",\"#EE8866\",\"#EE8866\",\"#EE8866\",\"#EE8866\",\"#EE8866\",\"#EE8866\",\"#EE8866\",\"#EE8866\",\"#EE8866\",\"#EE8866\",\"#EE8866\",\"#EE8866\",\"#EE8866\",\"#EE8866\",\"#EE8866\",\"#EE8866\",\"#EE8866\",\"#EE8866\",\"#EE8866\",\"#EE8866\",\"#EE8866\",\"#EE8866\",\"#EE8866\",\"#EE8866\",\"#EE8866\",\"#EE8866\",\"#EE8866\",\"#EE8866\",\"#EE8866\",\"#EE8866\",\"#EE8866\",\"#EE8866\",\"#EE8866\",\"#EE8866\",\"#EE8866\",\"#EE8866\",\"#EE8866\",\"#EE8866\",\"#EE8866\",\"#EE8866\",\"#EE8866\",\"#EE8866\",\"#77AADD\",\"#EE8866\",\"#EE8866\",\"#EE8866\",\"#EE8866\",\"#EE8866\",\"#EE8866\",\"#EE8866\",\"#EE8866\",\"#EE8866\",\"#EE8866\",\"#EE8866\",\"#EE8866\",\"#EE8866\",\"#EE8866\",\"#EE8866\",\"#EE8866\",\"#EE8866\",\"#EE8866\",\"#EE8866\",\"#EE8866\",\"#EE8866\",\"#EE8866\",\"#EE8866\",\"#EE8866\",\"#EE8866\",\"#EE8866\",\"#EE8866\",\"#EE8866\",\"#EE8866\",\"#EE8866\",\"#EE8866\",\"#EE8866\",\"#EE8866\",\"#EE8866\",\"#EE8866\",\"#EE8866\",\"#EE8866\",\"#EE8866\",\"#EE8866\",\"#EE8866\",\"#EE8866\",\"#EE8866\",\"#EE8866\",\"#EE8866\",\"#EE8866\",\"#77AADD\",\"#EE8866\",\"#EE8866\",\"#EE8866\",\"#EE8866\",\"#EE8866\",\"#EE8866\",\"#EE8866\",\"#EE8866\",\"#EE8866\",\"#EE8866\",\"#EE8866\",\"#EE8866\",\"#EE8866\",\"#EE8866\",\"#EE8866\",\"#EE8866\",\"#EE8866\",\"#EE8866\",\"#EE8866\",\"#EE8866\",\"#EE8866\",\"#EE8866\",\"#EE8866\",\"#EE8866\",\"#EE8866\",\"#EE8866\",\"#EE8866\",\"#EE8866\",\"#EE8866\",\"#EE8866\",\"#EE8866\",\"#EE8866\",\"#EE8866\",\"#EE8866\",\"#EE8866\",\"#EE8866\",\"#EE8866\",\"#EE8866\",\"#EE8866\",\"#EE8866\",\"#EE8866\",\"#EE8866\",\"#EE8866\",\"#EE8866\",\"#EE8866\",\"#EE8866\",\"#EE8866\",\"#EE8866\",\"#EE8866\",\"#EE8866\",\"#EE8866\",\"#EE8866\",\"#EE8866\",\"#EE8866\",\"#EE8866\",\"#EE8866\",\"#EE8866\",\"#EE8866\",\"#EE8866\",\"#EE8866\",\"#EE8866\",\"#EE8866\",\"#EE8866\",\"#EE8866\",\"#EE8866\",\"#EE8866\",\"#EE8866\",\"#EE8866\",\"#EE8866\",\"#EE8866\",\"#EE8866\",\"#EE8866\",\"#EE8866\",\"#EE8866\",\"#EE8866\",\"#EE8866\",\"#EE8866\",\"#EE8866\",\"#EE8866\",\"#EE8866\",\"#EE8866\",\"#EE8866\",\"#EE8866\",\"#EE8866\",\"#EE8866\",\"#EE8866\",\"#EE8866\",\"#EE8866\",\"#EE8866\",\"#EE8866\",\"#EE8866\",\"#EE8866\",\"#EE8866\",\"#EE8866\",\"#EE8866\",\"#EE8866\",\"#EE8866\",\"#EE8866\",\"#EE8866\",\"#EE8866\",\"#EE8866\",\"#EE8866\",\"#EE8866\",\"#EE8866\",\"#EE8866\",\"#EE8866\",\"#EE8866\",\"#EE8866\",\"#EE8866\",\"#EE8866\",\"#EE8866\",\"#EE8866\",\"#EE8866\",\"#EE8866\",\"#EE8866\",\"#EE8866\",\"#EE8866\",\"#EE8866\",\"#EE8866\",\"#EE8866\",\"#EE8866\",\"#EE8866\",\"#EE8866\",\"#EE8866\",\"#EE8866\",\"#EE8866\",\"#EE8866\",\"#EE8866\",\"#EE8866\",\"#EE8866\",\"#EE8866\",\"#EE8866\",\"#EE8866\",\"#EE8866\",\"#EE8866\",\"#EE8866\",\"#EE8866\",\"#EE8866\",\"#EE8866\",\"#77AADD\",\"#EE8866\",\"#EE8866\",\"#EE8866\",\"#EE8866\",\"#EE8866\",\"#EE8866\",\"#EE8866\",\"#EE8866\",\"#EE8866\",\"#EE8866\",\"#EE8866\",\"#EE8866\",\"#EE8866\",\"#EE8866\",\"#EE8866\",\"#EE8866\",\"#EE8866\",\"#EE8866\",\"#EE8866\",\"#EE8866\",\"#EE8866\",\"#EE8866\",\"#EE8866\",\"#EE8866\",\"#EE8866\",\"#EE8866\",\"#EE8866\",\"#EE8866\",\"#EE8866\",\"#EE8866\",\"#EE8866\",\"#EE8866\",\"#EE8866\",\"#EE8866\",\"#EE8866\",\"#EE8866\",\"#EE8866\",\"#EE8866\",\"#EE8866\",\"#EE8866\",\"#EE8866\",\"#EE8866\",\"#EE8866\",\"#EE8866\",\"#EE8866\",\"#EE8866\",\"#EE8866\",\"#EE8866\",\"#EE8866\",\"#EE8866\",\"#EE8866\",\"#EE8866\",\"#EE8866\",\"#EE8866\",\"#EE8866\",\"#EE8866\",\"#EE8866\",\"#EE8866\",\"#77AADD\",\"#EE8866\",\"#EE8866\",\"#EE8866\",\"#EE8866\",\"#EE8866\",\"#EE8866\",\"#EE8866\",\"#EE8866\",\"#EE8866\",\"#EE8866\",\"#EE8866\",\"#EE8866\",\"#EE8866\",\"#EE8866\",\"#EE8866\",\"#EE8866\",\"#EE8866\",\"#EE8866\",\"#EE8866\",\"#EE8866\",\"#EE8866\",\"#EE8866\",\"#EE8866\",\"#EE8866\",\"#EE8866\",\"#EE8866\",\"#EE8866\",\"#EE8866\",\"#EE8866\",\"#EE8866\",\"#EE8866\",\"#EE8866\",\"#EE8866\",\"#EE8866\",\"#EE8866\",\"#EE8866\",\"#EE8866\",\"#EE8866\",\"#EE8866\",\"#EE8866\",\"#EE8866\",\"#EE8866\",\"#EE8866\",\"#EE8866\",\"#EE8866\",\"#EE8866\",\"#EE8866\",\"#EE8866\",\"#EE8866\",\"#EE8866\",\"#EE8866\",\"#EE8866\",\"#EE8866\",\"#EE8866\",\"#EE8866\",\"#EE8866\",\"#EE8866\",\"#EE8866\",\"#EE8866\",\"#EE8866\",\"#EE8866\",\"#EE8866\",\"#EE8866\",\"#EE8866\",\"#77AADD\",\"#EE8866\",\"#EE8866\",\"#EE8866\",\"#EE8866\",\"#EE8866\",\"#EE8866\",\"#EE8866\",\"#EE8866\",\"#EE8866\",\"#EE8866\",\"#EE8866\",\"#EE8866\",\"#EE8866\",\"#EE8866\",\"#EE8866\",\"#EE8866\",\"#EE8866\",\"#EE8866\",\"#EE8866\",\"#EE8866\",\"#EE8866\",\"#EE8866\",\"#EE8866\",\"#EE8866\",\"#EE8866\",\"#EE8866\",\"#EE8866\",\"#EE8866\",\"#EE8866\",\"#EE8866\",\"#EE8866\",\"#EE8866\",\"#EE8866\",\"#EE8866\",\"#EE8866\",\"#EE8866\",\"#EE8866\",\"#EE8866\",\"#EE8866\",\"#EE8866\",\"#EE8866\",\"#EE8866\",\"#EE8866\",\"#EE8866\",\"#EE8866\",\"#77AADD\",\"#EE8866\",\"#EE8866\",\"#EE8866\",\"#EE8866\",\"#EE8866\",\"#EE8866\",\"#EE8866\",\"#EE8866\",\"#EE8866\",\"#EE8866\",\"#EE8866\",\"#EE8866\",\"#EE8866\",\"#EE8866\",\"#EE8866\",\"#EE8866\",\"#EE8866\",\"#EE8866\",\"#EE8866\",\"#EE8866\",\"#EE8866\",\"#EE8866\",\"#EE8866\",\"#EE8866\",\"#EE8866\",\"#EE8866\",\"#EE8866\",\"#EE8866\",\"#EE8866\",\"#EE8866\",\"#EE8866\",\"#EE8866\",\"#EE8866\",\"#EE8866\",\"#EE8866\",\"#EE8866\",\"#EE8866\",\"#EE8866\",\"#EE8866\",\"#EE8866\",\"#EE8866\",\"#EE8866\",\"#EE8866\",\"#EE8866\",\"#EE8866\",\"#EE8866\",\"#EE8866\",\"#EE8866\",\"#EE8866\",\"#EE8866\",\"#EE8866\",\"#EE8866\",\"#EE8866\",\"#EE8866\",\"#EE8866\",\"#EE8866\",\"#EE8866\",\"#EE8866\",\"#EE8866\",\"#EE8866\",\"#EE8866\",\"#EE8866\",\"#EE8866\",\"#EE8866\",\"#EE8866\",\"#EE8866\",\"#EE8866\",\"#EE8866\",\"#EE8866\",\"#EE8866\",\"#EE8866\",\"#EE8866\",\"#EE8866\",\"#EE8866\",\"#EE8866\",\"#EE8866\",\"#EE8866\",\"#EE8866\",\"#EE8866\",\"#EE8866\",\"#EE8866\",\"#EE8866\",\"#EE8866\",\"#EE8866\",\"#EE8866\",\"#EE8866\",\"#EE8866\",\"#EE8866\",\"#EE8866\",\"#EE8866\",\"#EE8866\",\"#EE8866\",\"#EE8866\",\"#EE8866\",\"#EE8866\",\"#EE8866\",\"#EE8866\",\"#EE8866\",\"#EE8866\",\"#EE8866\",\"#EE8866\",\"#EE8866\",\"#EE8866\",\"#EE8866\",\"#EE8866\",\"#EE8866\",\"#EE8866\",\"#EE8866\",\"#EE8866\",\"#EE8866\",\"#EE8866\",\"#EE8866\",\"#EE8866\",\"#EE8866\",\"#EE8866\",\"#EE8866\",\"#EE8866\",\"#EE8866\",\"#EE8866\",\"#EE8866\",\"#EE8866\",\"#EE8866\",\"#EE8866\",\"#EE8866\",\"#EE8866\",\"#EE8866\",\"#EE8866\",\"#EE8866\",\"#EE8866\",\"#EE8866\",\"#EE8866\",\"#EE8866\",\"#EE8866\",\"#EE8866\",\"#EE8866\",\"#EE8866\",\"#EE8866\",\"#EE8866\",\"#EE8866\",\"#EE8866\",\"#EE8866\",\"#EE8866\",\"#EE8866\",\"#EE8866\",\"#EE8866\",\"#EE8866\"]],[\"index\",[0,1,2,3,4,5,6,7,8,9,10,11,12,13,14,15,16,17,18,19,20,21,22,23,24,25,26,27,28,29,30,31,32,33,34,35,36,37,38,39,40,41,42,43,44,45,46,47,48,49,50,51,52,53,54,55,56,57,58,59,60,61,62,63,64,65,66,67,68,69,70,71,72,73,74,75,76,77,78,79,80,81,82,83,84,85,86,87,88,89,90,91,92,93,94,95,96,97,98,99,100,101,102,103,104,105,106,107,108,109,110,111,112,113,114,115,116,117,118,119,120,121,122,123,124,125,126,127,128,129,130,131,132,133,134,135,136,137,138,139,140,141,142,143,144,145,146,147,148,149,150,151,152,153,154,155,156,157,158,159,160,161,162,163,164,165,166,167,168,169,170,171,172,173,174,175,176,177,178,179,180,181,182,183,184,185,186,187,188,189,190,191,192,193,194,195,196,197,198,199,200,201,202,203,204,205,206,207,208,209,210,211,212,213,214,215,216,217,218,219,220,221,222,223,224,225,226,227,228,229,230,231,232,233,234,235,236,237,238,239,240,241,242,243,244,245,246,247,248,249,250,251,252,253,254,255,256,257,258,259,260,261,262,263,264,265,266,267,268,269,270,271,272,273,274,275,276,277,278,279,280,281,282,283,284,285,286,287,288,289,290,291,292,293,294,295,296,297,298,299,300,301,302,303,304,305,306,307,308,309,310,311,312,313,314,315,316,317,318,319,320,321,322,323,324,325,326,327,328,329,330,331,332,333,334,335,336,337,338,339,340,341,342,343,344,345,346,347,348,349,350,351,352,353,354,355,356,357,358,359,360,361,362,363,364,365,366,367,368,369,370,371,372,373,374,375,376,377,378,379,380,381,382,383,384,385,386,387,388,389,390,391,392,393,394,395,396,397,398,399,400,401,402,403,404,405,406,407,408,409,410,411,412,413,414,415,416,417,418,419,420,421,422,423,424,425,426,427,428,429,430,431,432,433,434,435,436,437,438,439,440,441,442,443,444,445,446,447,448,449,450,451,452,453,454,455,456,457,458,459,460,461,462,463,464,465,466,467,468,469,470,471,472,473,474,475,476,477,478,479,480,481,482,483,484,485,486,487,488,489,490,491,492,493,494,495,496,497,498,499,500,501,502,503,504,505,506,507,508,509,510,511,512,513,514,515,516,517,518,519,520,521,522,523,524,525,526,527,528,529,530,531,532,533,534,535,536,537,538,539,540,541,542,543,544,545,546,547,548,549,550,551,552,553,554,555,556,557,558,559,560,561,562,563,564,565,566,567,568,569,570,571,572,573,574,575,576,577,578,579,580,581,582,583,584,585,586,587,588,589,590,591,592,593,594,595,596,597,598,599,600,601,602,603,604,605,606,607,608,609,610,611,612,613,614,615,616,617,618,619,620,621,622,623,624,625,626,627,628,629,630,631,632,633,634,635,636,637,638,639,640,641,642,643,644,645,646,647,648,649,650,651,652,653,654,655,656,657,658,659,660,661,662,663,664,665,666,667,668,669,670,671,672,673,674,675,676,677,678,679,680,681,682,683,684,685,686,687,688,689,690,691,692,693,694,695,696,697,698,699,700,701,702,703,704,705,706,707,708,709,710,711,712,713,714,715,716,717,718,719,720,721,722,723,724,725,726,727,728,729,730,731,732,733,734,735,736,737,738,739,740,741,742,743,744,745,746,747,748,749,750,751,752,753,754,755,756,757,758,759,760,761,762,763,764,765,766,767,768,769,770,771,772,773,774,775,776,777,778,779,780,781,782,783,784,785,786,787,788,789,790,791,792,793,794,795,796,797,798,799,800,801,802,803,804,805,806,807,808,809,810,811,812,813,814,815,816,817,818,819,820,821,822,823,824,825,826,827,828,829,830,831,832,833,834,835,836,837,838,839,840,841,842,843,844,845,846,847,848,849,850,851,852,853,854,855,856,857,858,859,860,861,862,863,864,865,866,867,868,869,870,871,872,873,874,875,876,877,878,879,880,881,882,883,884,885,886,887,888,889,890,891,892,893,894,895,896,897,898,899,900,901,902,903,904,905,906,907,908,909,910,911,912,913,914,915,916,917,918,919,920,921,922,923,924,925,926,927,928,929,930,931,932,933,934,935,936,937,938,939,940,941,942,943,944,945,946,947,948,949,950,951,952,953,954,955,956,957,958,959,960,961,962,963,964,965,966,967,968,969,970,971,972,973,974,975,976,977,978,979,980,981,982,983,984,985,986,987,988,989,990,991,992,993,994,995,996,997,998,999,1000,1001,1002,1003,1004,1005,1006,1007,1008,1009,1010,1011,1012,1013,1014,1015,1016,1017,1018,1019,1020,1021,1022,1023,1024,1025,1026,1027,1028,1029,1030,1031,1032,1033,1034,1035,1036,1037,1038,1039,1040,1041,1042,1043,1044,1045,1046,1047,1048,1049,1050,1051,1052,1053,1054,1055,1056,1057,1058,1059,1060,1061,1062,1063,1064,1065,1066,1067,1068,1069,1070,1071,1072,1073,1074,1075,1076,1077,1078,1079,1080,1081,1082,1083,1084,1085,1086,1087,1088,1089,1090,1091,1092,1093,1094,1095,1096,1097,1098,1099,1100,1101,1102,1103,1104,1105,1106,1107,1108,1109,1110,1111,1112,1113,1114,1115,1116,1117,1118,1119,1120,1121,1122,1123]]]}}},\"view\":{\"type\":\"object\",\"name\":\"CDSView\",\"id\":\"p2012\",\"attributes\":{\"filter\":{\"type\":\"object\",\"name\":\"AllIndices\",\"id\":\"p2013\"}}},\"glyph\":{\"type\":\"object\",\"name\":\"Circle\",\"id\":\"p2038\",\"attributes\":{\"size\":{\"type\":\"field\",\"field\":\"adjusted_size\"},\"fill_color\":{\"type\":\"field\",\"field\":\"color\"}}}}},\"edge_renderer\":{\"type\":\"object\",\"name\":\"GlyphRenderer\",\"id\":\"p2020\",\"attributes\":{\"data_source\":{\"type\":\"object\",\"name\":\"ColumnDataSource\",\"id\":\"p2017\",\"attributes\":{\"selected\":{\"type\":\"object\",\"name\":\"Selection\",\"id\":\"p2018\",\"attributes\":{\"indices\":[],\"line_indices\":[]}},\"selection_policy\":{\"type\":\"object\",\"name\":\"UnionRenderers\",\"id\":\"p2019\"},\"data\":{\"type\":\"map\",\"entries\":[[\"job\",[\"Writer\",\"Story\",\"Writer\",\"Executive Music Producer\",\"Writer\",\"Writer\",\"Writer\",\"Writer\",\"Writer\",\"Writer\",\"Writer\",\"Producer\",\"Production Manager\",\"Editor\",\"Co-Producer\",\"Grip\",\"Production Design\",\"Creator\",\"Casting\",\"Director of Photography\",\"Music Supervisor\",\"Set Decoration\",\"Costume Design\",\"Assistant Accountant\",\"Executive Producer\",\"Sound Re-Recording Mixer\",\"Executive Producer\",\"Stunt Coordinator\",\"Costume Supervisor\",\"Script Supervisor\",\"Executive Producer\",\"Steadicam Operator\",\"Makeup Artist\",\"First Assistant Camera\",\"Supervising Sound Editor\",\"First Assistant Editor\",\"Special Effects\",\"Special Effects\",\"Special Effects Coordinator\",\"Dolby Consultant\",\"Casting Associate\",\"Transportation Coordinator\",\"Leadman\",\"Sound Editor\",\"Supervising Sound Editor\",\"Swing\",\"Property Master\",\"Sound Editor\",\"Stunts\",\"First Assistant Director\",\"Craft Service\",\"Set Costumer\",\"Security\",\"Post Production Assistant\",\"Sound Editor\",\"Production Sound Mixer\",\"Foley Artist\",\"Second Assistant Director\",\"Production Coordinator\",\"Location Scout\",\"Key Grip\",\"Hair Designer\",\"Hairstylist\",\"Dialect Coach\",\"Driver\",\"Legal Services\",\"Public Relations\",\"Set Medic\",\"Transportation Captain\",\"Unit Publicist\",\"Color Timer\",\"Best Boy Electric\",\"Electrician\",\"Gaffer\",\"Location Manager\",\"Production Accountant\",\"Boom Operator\",\"Assistant Sound Editor\",\"Foley Mixer\",\"Thanks\",\"Best Boy Grip\",\"Second Second Assistant Director\",\"Assistant Music Supervisor\",\"Dolly Grip\",\"Second Assistant Camera\",\"Negative Cutter\",\"Assistant Location Manager\",\"Extras Casting\",\"Generator Operator\",\"Key Special Effects\",\"Production Assistant\",\"Producer\",\"Producer\",\"Executive Music Producer\",\"Producer\",\"Producer\",\"Producer\",\"Production Manager\",\"Co-Producer\",\"Co-Producer\",\"Editor\",\"Editor\",\"Editor\",\"Editor\",\"Editor\",\"Editor\",\"Editor\",\"Production Design\",\"Production Design\",\"Production Design\",\"Production Design\",\"Production Design\",\"Story\",\"Casting\",\"Director of Photography\",\"Director of Photography\",\"Music Supervisor\",\"Music Supervisor\",\"Set Decoration\",\"Set Decoration\",\"Set Decoration\",\"Set Decoration\",\"Set Decoration\",\"Costume Design\",\"Co-Executive Producer\",\"Executive Producer\",\"Producer\",\"Stunt Coordinator\",\"Utility Stunts\",\"Assistant Costume Designer\",\"Costume Design\",\"Costume Design\",\"Script Supervisor\",\"Script Supervisor\",\"Script Supervisor\",\"Script Supervisor\",\"Script Supervisor\",\"Script Supervisor\",\"Script Supervisor\",\"Makeup Artist\",\"First Assistant Camera\",\"First Assistant Camera\",\"First Assistant Camera\",\"Supervising Sound Editor\",\"Supervising Sound Editor\",\"Special Effects Coordinator\",\"Leadman\",\"Leadman\",\"Property Master\",\"Costume Supervisor\",\"Costume Supervisor\",\"Sound Editor\",\"Second Assistant Director\",\"Hair Designer\",\"Post Production Supervisor\",\"Thanks\",\"Executive Producer\",\"Co-Executive Producer\",\"Co-Executive Producer\",\"First Assistant Editor\",\"Thanks\",\"Executive Producer\",\"Executive Producer\",\"Sound Editor\",\"Production Sound Mixer\",\"Casting Associate\",\"Casting\",\"Art Direction\",\"Thanks\",\"Foley Mixer\",\"Editorial Staff\",\"Casting\",\"Thanks\",\"Set Designer\",\"Thanks\",\"Thanks\",\"Thanks\",\"Art Department Coordinator\",\"Thanks\",\"Thanks\",\"ADR Voice Casting\",\"Leadman\",\"Stunt Double\",\"Gaffer\",\"Stand In\",\"Makeup Effects\",\"Thanks\",\"Construction Foreman\",\"Set Costumer\",\"Transportation Coordinator\",\"Construction Coordinator\",\"Steadicam Operator\",\"Key Hair Stylist\",\"Camera Operator\",\"Assistant Location Manager\",\"Foley Artist\",\"Unit Publicist\",\"Hairstylist\",\"Thanks\",\"Assistant Sound Editor\",\"Assistant Editor\",\"Special Effects Assistant\",\"Music Supervisor\",\"Thanks\",\"Assistant Music Supervisor\",\"Location Scout\",\"Music Coordinator\",\"Assistant Art Director\",\"Wigmaker\",\"Music Editor\",\"Color Timer\",\"Electrician\",\"Sound Recordist\",\"Location Assistant\",\"Boom Operator\",\"Rigging Gaffer\",\"Production Coordinator\",\"Supervising ADR Editor\",\"Lead Painter\",\"Craft Service\",\"Post Production Assistant\",\"Painter\",\"Key Grip\",\"Grip\",\"Set Dressing Artist\",\"Carpenter\",\"Driver\",\"Camera Loader\",\"Security\",\"First Assistant Director\",\"Best Boy Electric\",\"Key Rigging Grip\",\"Assistant Music Supervisor\",\"Stand In\",\"ADR Mixer\",\"Assistant Accountant\",\"Graphic Designer\",\"Production Secretary\",\"Second Assistant Camera\",\"Costumer\",\"Second Second Assistant Director\",\"Assistant Decorator\",\"Assistant Property Master\",\"Swing\",\"Best Boy Grip\",\"Dolly Grip\",\"Post Production Coordinator\",\"Music Consultant\",\"Assistant Craft Service\",\"Assistant Production Coordinator\",\"Charge Scenic Artist\",\"Special Effects Assistant\",\"Co-Producer\",\"Post Production Supervisor\",\"Executive Producer\",\"Executive Producer\",\"Executive Producer\",\"Executive Producer\",\"Executive Producer\",\"Executive Producer\",\"Executive Producer\",\"Executive Producer\",\"Executive Producer\",\"Executive Producer\",\"Executive Producer\",\"Executive Producer\",\"Executive Producer\",\"Executive Producer\",\"Associate Editor\",\"Executive Producer\",\"Producer\",\"Producer\",\"Sound Editor\",\"Extras Casting\",\"Art Direction\",\"Art Direction\",\"Art Direction\",\"ADR Voice Casting\",\"ADR Voice Casting\",\"ADR Voice Casting\",\"Special Effects Coordinator\",\"Construction Foreman\",\"Transportation Coordinator\",\"Transportation Coordinator\",\"Transportation Coordinator\",\"Construction Coordinator\",\"Foley Editor\",\"Music Consultant\",\"Music Supervisor\",\"Music Supervisor\",\"Music Supervisor\",\"Music Supervisor\",\"Music Supervisor\",\"Music Supervisor\",\"Color Timer\",\"Foley Mixer\",\"Supervising ADR Editor\",\"Lead Painter\",\"Craft Service\",\"Set Production Assistant\",\"Swing\",\"Music Coordinator\",\"Graphic Designer\",\"Graphic Designer\",\"Assistant Camera\",\"Writer\",\"Writer\",\"Writer\",\"Original Music Composer\",\"Production Design\",\"Sound Designer\",\"Co-Producer\",\"Casting\",\"Art Direction\",\"Set Decoration\",\"Director of Photography\",\"Music Producer\",\"Editor\",\"Director of Photography\",\"Casting Associate\",\"Title Designer\",\"Steadicam Operator\",\"Costume Design\",\"First Assistant Editor\",\"Production Supervisor\",\"First Assistant Director\",\"Director of Photography\",\"Sound Editor\",\"Creative Consultant\",\"Key Hair Stylist\",\"Intern\",\"Editor\",\"Assistant Makeup Artist\",\"First Assistant Director\",\"Script Supervisor\",\"First Assistant Sound Editor\",\"Location Manager\",\"Post Production Coordinator\",\"ADR Editor\",\"Supervising ADR Editor\",\"Production Sound Mixer\",\"Sound Effects Editor\",\"Dolby Consultant\",\"Music Editor\",\"Transportation Coordinator\",\"Supervising Sound Editor\",\"Location Assistant\",\"Property Master\",\"Special Sound Effects\",\"Art Department Coordinator\",\"Best Boy Electric\",\"Special Effects Coordinator\",\"Unit Publicist\",\"Costumer\",\"Second Assistant Director\",\"Driver\",\"Boom Operator\",\"Key Grip\",\"Hairstylist\",\"Second Assistant Camera\",\"Carpenter\",\"Painter\",\"Standby Painter\",\"Grip\",\"Costume Supervisor\",\"Makeup Artist\",\"Choreographer\",\"Security\",\"Set Medic\",\"Stand In\",\"Transportation Captain\",\"First Assistant Editor\",\"Electrician\",\"Gaffer\",\"Production Accountant\",\"Foley Mixer\",\"Studio Teachers\",\"Negative Cutter\",\"ADR Mixer\",\"Graphic Designer\",\"Assistant Decorator\",\"Assistant Property Master\",\"Second Assistant Sound\",\"Special Effects Assistant\",\"Best Boy Grip\",\"Dolly Grip\",\"Assistant Editor\",\"Assistant Accountant\",\"Assistant Production Coordinator\",\"Thanks\",\"Original Music Composer\",\"Producer\",\"Thanks\",\"Director of Photography\",\"Production Manager\",\"Key Makeup Artist\",\"Location Manager\",\"Production Coordinator\",\"Location Scout\",\"First Assistant Director\",\"Key Grip\",\"Special Effects Assistant\",\"Grip\",\"Dolly Grip\",\"Novel\",\"Casting\",\"Casting\",\"Makeup Artist\",\"Driver\",\"Hairstylist\",\"Property Master\",\"Graphic Designer\",\"Hairstylist\",\"Key Hair Stylist\",\"Set Production Assistant\",\"Hairstylist\",\"Makeup Artist\",\"Art Department Coordinator\",\"Foley Artist\",\"ADR Recordist\",\"Production Intern\",\"Sound Editor\",\"Second Second Assistant Director\",\"ADR Editor\",\"Sound Editor\",\"Extras Casting\",\"Grip\",\"Second Assistant Accountant\",\"Stand In\",\"Sound Editor\",\"Stunt Coordinator\",\"Music Editor\",\"Special Sound Effects\",\"Sound Editor\",\"Sound Effects\",\"Driver\",\"Sound Editor\",\"Assistant Location Manager\",\"Stunt Coordinator\",\"Foley Recordist\",\"Sound Re-Recording Mixer\",\"Foley Recordist\",\"Additional Sound Re-Recording Mixer\",\"Sound Re-Recording Mixer\",\"Sound Editor\",\"Assistant Property Master\",\"Assistant Production Coordinator\",\"Sound Editor\",\"Sound Editor\",\"Wig Designer\",\"Set Designer\",\"Steadicam Operator\",\"Additional Sound Re-Recording Mixer\",\"Assistant Makeup Artist\",\"First Assistant Sound Editor\",\"Still Photographer\",\"Sound Recordist\",\"Music Consultant\",\"Production Sound Mixer\",\"Assistant Set Decoration\",\"Assistant Editor\",\"Head Carpenter\",\"ADR Editor\",\"Music Coordinator\",\"Boom Operator\",\"Camera Intern\",\"Stand In\",\"First Assistant Director\",\"Driver\",\"Driver\",\"Gaffer\",\"Driver\",\"Electrician\",\"Stand In\",\"Sound Effects\",\"Production Accountant\",\"Set Dresser\",\"Best Boy Grip\",\"First Assistant Editor\",\"Negative Cutter\",\"Color Timer\",\"Grip\",\"Location Assistant\",\"Costume Supervisor\",\"Script Coordinator\",\"Electrician\",\"Transportation Captain\",\"Utility Sound\",\"Sound\",\"Grip\",\"Best Boy Electric\",\"Construction Foreman\",\"Swing\",\"Production Secretary\",\"ADR Mixer\",\"\\\"B\\\" Camera Operator\",\"Electrician\",\"Lighting Technician\",\"Post Production Accountant\",\"Second Assistant Camera\",\"Driver\",\"Driver\",\"Driver\",\"Sound\",\"Production Assistant\",\"Additional Director of Photography\",\"Stunts\",\"Key Rigging Grip\",\"Animation\",\"Property Buyer\",\"Post Production Coordinator\",\"Stand In\",\"Production Assistant\",\"Stand In\",\"Foley Artist\",\"Second Assistant Director\",\"Assistant Hairstylist\",\"Set Dresser\",\"Set Dresser\",\"Graphic Designer\",\"On Set Dresser\",\"Graphic Designer\",\"Construction Coordinator\",\"Set Dresser\",\"Props\",\"Sound Recordist\",\"Sound Effects\",\"Loader\",\"Loader\",\"Electrician\",\"Second Assistant Camera\",\"Rigging Grip\",\"Casting Assistant\",\"Wardrobe Assistant\",\"Set Costumer\",\"Assistant Editor\",\"Assistant Editor\",\"Legal Services\",\"Legal Services\",\"Music Coordinator\",\"Driver\",\"Driver\",\"Driver\",\"Driver\",\"Camera Car\",\"Driver\",\"Driver\",\"Driver\",\"Driver\",\"Driver\",\"Driver\",\"Production Assistant\",\"Assistant Craft Service\",\"Unit Publicist\",\"Stand In\",\"Key Set Production Assistant\",\"Production Assistant\",\"Production Assistant\",\"Stand In\",\"Production Assistant\",\"Production Intern\",\"Craft Service\",\"Production Intern\",\"Set Production Assistant\",\"Set Production Assistant\",\"Production Assistant\",\"Legal Services\",\"Legal Services\",\"Legal Services\",\"Hairstylist\",\"Hairstylist\",\"Property Master\",\"Property Master\",\"Production Design\",\"Associate Producer\",\"Producer\",\"Location Manager\",\"Location Manager\",\"Sound Re-Recording Mixer\",\"Sound Re-Recording Mixer\",\"Sound Re-Recording Mixer\",\"Sound Re-Recording Mixer\",\"Sound Re-Recording Mixer\",\"Sound Re-Recording Mixer\",\"Sound Re-Recording Mixer\",\"Art Direction\",\"Wigmaker\",\"Wigmaker\",\"Steadicam Operator\",\"Music Supervisor\",\"Production Sound Mixer\",\"Production Sound Mixer\",\"Production Sound Mixer\",\"Production Sound Mixer\",\"Production Sound Mixer\",\"Production Sound Mixer\",\"Production Sound Mixer\",\"Assistant Editor\",\"First Assistant Editor\",\"Set Production Assistant\",\"Clapper Loader\",\"Assistant Director\",\"Assistant Director\",\"Associate Producer\",\"Associate Producer\",\"Associate Producer\",\"First Assistant Director\",\"Picture Car Coordinator\",\"Picture Car Coordinator\",\"Transportation Co-Captain\",\"Transportation Co-Captain\",\"Set Dresser\",\"Graphic Designer\",\"Characters\",\"Director of Photography\",\"Casting Associate\",\"Associate Producer\",\"Casting\",\"Sound Designer\",\"Stunt Double\",\"Supervising Sound Editor\",\"Production Design\",\"Special Effects Makeup Artist\",\"Original Music Composer\",\"Sound Editor\",\"Key Makeup Artist\",\"Executive Producer\",\"Sound Effects Editor\",\"Set Decoration\",\"Special Effects Coordinator\",\"Visual Effects Supervisor\",\"Executive Producer\",\"Thanks\",\"Costume Design\",\"Associate Producer\",\"Executive Producer\",\"Animation\",\"Special Effects Makeup Artist\",\"First Assistant Editor\",\"Stunt Double\",\"Stunts\",\"Hairstylist\",\"Special Effects Makeup Artist\",\"Second Assistant Camera\",\"Art Direction\",\"Animation Director\",\"Second Unit Director\",\"Character Designer\",\"Producer\",\"Foley Mixer\",\"Foley Artist\",\"First Assistant Sound Editor\",\"Foley Artist\",\"Art Direction\",\"Set Designer\",\"Special Effects Makeup Artist\",\"First Assistant Director\",\"Gaffer\",\"Steadicam Operator\",\"Post Production Coordinator\",\"Casting Assistant\",\"Set Designer\",\"Assistant Editor\",\"Special Effects Makeup Artist\",\"Makeup Effects Designer\",\"Video Assist Operator\",\"Stunt Double\",\"Animation\",\"Production Manager\",\"Costume Design\",\"Costume Supervisor\",\"Boom Operator\",\"Dialogue Editor\",\"Dialogue Editor\",\"Supervising Sound Editor\",\"Still Photographer\",\"Set Costumer\",\"Art Direction\",\"Art Direction\",\"Makeup Department Head\",\"Set Designer\",\"Art Department Coordinator\",\"Dialogue Editor\",\"Sound Designer\",\"Special Effects Coordinator\",\"Visual Effects Supervisor\",\"Stunt Coordinator\",\"Costume Supervisor\",\"Music Editor\",\"Location Manager\",\"Executive Assistant\",\"ADR Supervisor\",\"ADR Mixer\",\"Rigging Gaffer\",\"Unit Publicist\",\"Assistant Property Master\",\"Stunts\",\"Art Department Assistant\",\"Sound Mix Technician\",\"Animation\",\"Animation\",\"Animation\",\"Animation\",\"Animation Manager\",\"Animation\",\"Animation\",\"Animation\",\"Associate Producer\",\"Grip\",\"Key Hair Stylist\",\"Assistant Production Coordinator\",\"Special Effects Makeup Artist\",\"Sound Engineer\",\"Greensman\",\"Construction Coordinator\",\"Carpenter\",\"Construction Foreman\",\"Camera Production Assistant\",\"Unit Production Manager\",\"Armorer\",\"Painter\",\"Set Production Assistant\",\"Stunt Double\",\"Costume Design\",\"Costume Design\",\"Assistant Art Director\",\"Lead Painter\",\"Location Scout\",\"Production Illustrator\",\"Standby Painter\",\"First Assistant Camera\",\"Key Grip\",\"Set Dresser\",\"Additional Music\",\"Craft Service\",\"Driver\",\"Post Production Assistant\",\"Post Production Supervisor\",\"Propmaker\",\"Scenic Artist\",\"Set Medic\",\"Stand In\",\"Stunts\",\"Unit Production Manager\",\"Digital Intermediate\",\"Best Boy Grip\",\"Electrician\",\"Lighting Technician\",\"Rigging Grip\",\"Production Accountant\",\"Production Coordinator\",\"Assistant Sound Editor\",\"Digital Compositors\",\"Special Effects Supervisor\",\"Sound\",\"Camera Loader\",\"Stunts\",\"ADR Recordist\",\"Assistant Location Manager\",\"Stunt Double\",\"Stunt Driver\",\"Foley Editor\",\"Production Secretary\",\"Extras Casting\",\"Utility Sound\",\"Dolly Grip\",\"Fight Choreographer\",\"First Assistant Director\",\"Second Assistant Director\",\"Third Assistant Director\",\"Negative Cutter\",\"Assistant Production Manager\",\"Second Second Assistant Director\",\"Digital Intermediate Producer\",\"Travel Coordinator\",\"Stunt Double\",\"Stunts\",\"Stunts\",\"Stunt Driver\",\"Production Assistant\",\"Visual Effects Production Manager\",\"First Assistant Accountant\",\"Payroll Accountant\",\"Costumer\",\"Additional Second Assistant Director\",\"Art Department Assistant\",\"Assistant Set Designer\",\"Construction Buyer\",\"Creative Director\",\"Swing\",\"Special Effects Technician\",\"Assistant Camera\",\"Wardrobe Assistant\",\"Music Coordinator\",\"Accountant\",\"Assistant Accountant\",\"Assistant Craft Service\",\"Key Production Assistant\",\"Second Assistant Accountant\",\"Technical Advisor\",\"Stunt Double\",\"Characters\",\"Director of Photography\",\"Director of Photography\",\"Director of Photography\",\"Director of Photography\",\"Director of Photography\",\"Associate Producer\",\"Casting\",\"Casting\",\"Supervising Sound Editor\",\"Sound Effects Designer\",\"Sound Designer\",\"Sound Designer\",\"Sound Effects Designer\",\"Stunt Double\",\"Stunts\",\"Stunt Double\",\"Stunt Coordinator\",\"Supervising Sound Editor\",\"Production Design\",\"Production Design\",\"Additional Music\",\"Thanks\",\"Sound Editor\",\"Sound Designer\",\"Sound Effects Editor\",\"Special Effects Coordinator\",\"Visual Effects Supervisor\",\"Executive Producer\",\"Producer\",\"Executive Producer\",\"Costume Design\",\"Executive Producer\",\"Makeup Effects Designer\",\"Makeup Effects\",\"Makeup Effects\",\"Makeup Effects Designer\",\"First Assistant Editor\",\"Makeup Effects Designer\",\"Makeup Effects\",\"Second Assistant Camera\",\"Foley Mixer\",\"Foley Mixer\",\"Foley Artist\",\"Foley Artist\",\"Sound Effects Editor\",\"Foley Artist\",\"Foley Artist\",\"Production Design\",\"Gaffer\",\"Gaffer\",\"Gaffer\",\"Steadicam Operator\",\"Steadicam Operator\",\"Post Production Coordinator\",\"Set Designer\",\"First Assistant Editor\",\"Makeup Effects\",\"Makeup Effects\",\"Makeup Effects\",\"Video Assist Operator\",\"Costume Design\",\"Boom Operator\",\"Boom Operator\",\"Boom Operator\",\"Dialogue Editor\",\"Dialogue Editor\",\"Dialogue Editor\",\"Dialogue Editor\",\"Dialogue Editor\",\"Supervising Sound Editor\",\"Supervising Sound Editor\",\"Supervising Sound Editor\",\"Supervising Sound Editor\",\"Supervising Sound Editor\",\"Supervising Sound Editor\",\"Still Photographer\",\"Still Photographer\",\"Still Photographer\",\"Still Photographer\",\"Still Photographer\",\"Set Costumer\",\"Makeup Department Head\",\"Makeup Department Head\",\"Makeup Department Head\",\"Makeup Department Head\",\"Makeup Department Head\",\"Set Designer\",\"Art Department Coordinator\",\"Special Effects Coordinator\",\"Stunt Coordinator\",\"Costume Supervisor\",\"Music Editor\",\"Executive Assistant\",\"ADR Supervisor\",\"ADR Mixer\",\"Visual Effects Supervisor\",\"Rigging Gaffer\",\"Rigging Gaffer\",\"Unit Publicist\",\"Unit Publicist\",\"Unit Publicist\",\"Unit Publicist\",\"Assistant Property Master\",\"Property Master\",\"Sound Mix Technician\",\"Sound Mix Technician\",\"Associate Producer\",\"Grip\",\"Grip\",\"Driver\",\"Key Hair Stylist\",\"Key Hair Stylist\",\"Assistant Production Coordinator\",\"Sound Engineer\",\"Greensman\",\"Construction Coordinator\",\"Carpenter\",\"Construction Foreman\",\"Camera Production Assistant\",\"Production Manager\",\"Armorer\",\"Lead Painter\",\"Standby Painter\",\"First Assistant Camera\",\"Key Grip\",\"Set Dresser\",\"Craft Service\",\"Driver\",\"Sound\",\"Post Production Supervisor\",\"Propmaker\",\"Scenic Artist\",\"Set Medic\",\"Unit Production Manager\",\"Best Boy Grip\",\"Lighting Technician\",\"Production Coordinator\",\"Assistant Sound Editor\",\"Special Effects Supervisor\",\"Camera Loader\",\"Utility Stunts\",\"Foley Editor\",\"Production Secretary\",\"Extras Casting\",\"Dolly Grip\",\"Fight Choreographer\",\"Negative Cutter\",\"Second Second Assistant Director\",\"Digital Intermediate Producer\",\"Travel Coordinator\",\"Visual Effects Production Manager\",\"First Assistant Accountant\",\"Payroll Accountant\",\"Construction Buyer\",\"Creative Director\",\"Swing\",\"Special Effects Technician\",\"Wardrobe Assistant\",\"Music Coordinator\",\"Assistant Accountant\",\"Assistant Craft Service\",\"Second Assistant Accountant\",\"Fight Choreographer\",\"Production Supervisor\",\"Assistant Editor\",\"Assistant Art Director\",\"Music Producer\",\"Sound Designer\",\"Color Timer\",\"Sculptor\",\"Digital Intermediate Editor\",\"Sound Effects Editor\",\"Wigmaker\",\"Assistant Location Manager\",\"Hair Designer\",\"Makeup Artist\",\"Extras Casting Assistant\",\"Costumer\",\"Conductor\",\"Transportation Captain\",\"Line Producer\",\"Painter\",\"Production Illustrator\",\"Production Controller\",\"Security Coordinator\",\"Stand In\",\"Systems Administrators & Support\",\"Electrician\",\"Rigging Grip\",\"Casting Associate\",\"Scoring Mixer\",\"Digital Compositors\",\"Unit Manager\",\"Musician\",\"Grip\",\"Ager/Dyer\",\"Second Assistant Director\",\"Storyboard Artist\",\"Special Effects Assistant\",\"Extras Casting Coordinator\",\"Generator Operator\",\"Assistant Makeup Artist\",\"Art Department Assistant\",\"Stunt Driver\",\"Location Assistant\",\"Production Assistant\",\"Production Driver\",\"Assistant Editor\",\"Sound Effects Editor\",\"Sound Effects Editor\",\"Makeup Department Head\",\"Makeup Artist\",\"Producer\",\"Extras Casting\",\"Casting\",\"Additional Editor\",\"Sound Effects Editor\",\"Costume Design\",\"Stunt Coordinator\",\"Visual Effects\",\"Set Decoration\",\"Sound Re-Recording Mixer\",\"Hairstylist\",\"ADR Recordist\",\"Executive Producer\",\"Stunt Double\",\"Camera Operator\",\"Casting Associate\",\"Leadman\",\"Production Supervisor\",\"Special Effects Coordinator\",\"Stunts\",\"Electrician\",\"Makeup Artist\",\"Costume Supervisor\",\"Electrician\",\"Dialogue Editor\",\"Key Rigging Grip\",\"Music Editor\",\"Set Designer\",\"Sound Effects Designer\",\"Set Decoration Buyer\",\"Set Dresser\",\"First Assistant \\\"B\\\" Camera\",\"Script Supervisor\",\"Sound Mix Technician\",\"Construction Coordinator\",\"Sound Effects Editor\",\"Greensman\",\"Sound Effects Editor\",\"Hair Department Head\",\"Key Makeup Artist\",\"Art Department Coordinator\",\"Construction Coordinator\",\"Scenic Artist\",\"Scenic Artist\",\"ADR Supervisor\",\"CG Supervisor\",\"Visual Effects Producer\",\"Visual Effects Supervisor\",\"Camera Operator\",\"Gaffer\",\"Set Costumer\",\"Set Costumer\",\"Key Set Costumer\",\"Set Costumer\",\"First Assistant Editor\",\"Transportation Coordinator\",\"VFX Artist\",\"Key Set Production Assistant\",\"Stunts\",\"Visual Effects Producer\",\"Costumer\",\"Special Effects Technician\",\"Production Coordinator\",\"Color Timer\",\"Stunts\",\"Systems Administrators & Support\",\"Assistant Production Coordinator\",\"Rigging Gaffer\",\"Location Manager\",\"Best Boy Electric\",\"Production Accountant\",\"Camera Production Assistant\",\"Location Manager\",\"Assistant Editor\",\"Utility Sound\",\"Negative Cutter\",\"Best Boy Grip\",\"Key Grip\",\"Grip\",\"Stunt Double\",\"Stunt Double\",\"Construction Foreman\",\"Construction Foreman\",\"Dolly Grip\",\"Assistant Editor\",\"Rigging Grip\",\"Key Grip\",\"Graphic Designer\",\"First Assistant \\\"A\\\" Camera\",\"Assistant Editor\",\"Electrician\",\"Grip\",\"Key Rigging Grip\",\"Special Effects Technician\",\"Assistant Production Coordinator\",\"Special Effects Technician\",\"Special Effects Technician\",\"First Assistant Accountant\",\"First Assistant Accountant\",\"Production Accountant\",\"Editorial Production Assistant\",\"Second Assistant \\\"A\\\" Camera\",\"Second Second Assistant Director\",\"Painter\",\"Best Boy Grip\",\"Second Assistant \\\"B\\\" Camera\",\"Dolly Grip\",\"Assistant Chief Lighting Technician\",\"Assistant Production Coordinator\",\"Art Department Assistant\",\"Propmaker\",\"Electrician\",\"Electrician\",\"Electrician\",\"Second Assistant Director\",\"Production Assistant\",\"Special Effects Technician\",\"Assistant Property Master\",\"Construction Buyer\",\"Painter\",\"Propmaker\",\"Propmaker\",\"Propmaker\",\"Propmaker\",\"Propmaker\",\"Propmaker\",\"Propmaker\",\"Assistant Camera\",\"Electrician\",\"Costumer\",\"Editorial Production Assistant\",\"Location Manager\",\"Special Effects Technician\",\"Special Effects Technician\",\"Visual Effects Coordinator\",\"Production Assistant\",\"Production Assistant\",\"Production Assistant\",\"Production Assistant\",\"Additional Editor\",\"Stunt Coordinator\",\"Stunt Coordinator\",\"Stunt Coordinator\",\"Executive Producer\",\"Producer\",\"Producer\",\"Costume Supervisor\",\"Music Editor\",\"Sound Designer\",\"ADR Supervisor\",\"Stunts\",\"Executive Producer\",\"Thanks\",\"Thanks\",\"Casting\",\"Costume Design\",\"Thanks\",\"Co-Producer\",\"Co-Producer\",\"Art Direction\",\"Supervising Art Director\",\"Stunt Coordinator\",\"Stunts\",\"Stunt Double\",\"Art Direction\",\"Stunt Coordinator\",\"Sound Re-Recording Mixer\",\"Associate Producer\",\"Casting\",\"Visual Effects Designer\",\"Makeup Artist\",\"Thanks\",\"Assistant Director\",\"Costume Design\",\"Assistant Editor\",\"Utility Stunts\",\"Thanks\",\"Art Direction\",\"Casting\",\"First Assistant Editor\",\"ADR Supervisor\",\"Co-Producer\",\"Still Photographer\",\"Hairstylist\",\"Driver\",\"Steadicam Operator\",\"Additional Script Supervisor\",\"Loader\",\"Post Production Supervisor\",\"Location Manager\",\"Visual Effects Supervisor\",\"Unit Production Manager\",\"Post Production Coordinator\",\"Color Timer\",\"First Assistant \\\"A\\\" Camera\",\"First Assistant \\\"B\\\" Camera\",\"Unit Production Manager\",\"Second Assistant \\\"A\\\" Camera\",\"Assistant Editor\",\"Stunts\",\"Visual Effects Camera\",\"Post Production Supervisor\",\"Editorial Production Assistant\",\"Stunts\",\"Second Assistant \\\"B\\\" Camera\",\"Stunt Double\",\"Stunts\",\"Stunt Double\",\"Stunts\",\"Sound Re-Recording Mixer\",\"Visual Effects Designer\",\"Post Production Supervisor\",\"Post Production Supervisor\",\"Post Production Producer\",\"Digital Intermediate\",\"First Assistant \\\"A\\\" Camera\",\"First Assistant Camera\",\"First Assistant Camera\",\"Casting\",\"Unit Production Manager\",\"Thanks\",\"Thanks\",\"Thanks\",\"Production Design\",\"Set Decoration\",\"Dialect Coach\",\"Supervising Art Director\",\"Costume Design\",\"Thanks\",\"Art Direction\",\"Thanks\",\"Second Assistant Camera\",\"Editor\",\"Music\",\"Producer\",\"Visual Effects Editor\",\"Set Dresser\",\"Thanks\",\"Sound Effects Editor\",\"Art Direction\",\"Foley\",\"Makeup Effects\",\"Costume Supervisor\",\"Set Decoration Buyer\",\"Foley\",\"Dialogue Editor\",\"Location Manager\",\"Leadman\",\"Sculptor\",\"Studio Teachers\",\"Dialogue Editor\",\"Property Master\",\"Production Supervisor\",\"Music Editor\",\"Set Designer\",\"Hairstylist\",\"Set Dresser\",\"Production Supervisor\",\"Sound Effects Editor\",\"Transportation Coordinator\",\"Transportation Coordinator\",\"Makeup Artist\",\"Hairstylist\",\"Art Department Coordinator\",\"Assistant Art Director\",\"Construction Coordinator\",\"Sequence Supervisor\",\"Rigging Gaffer\",\"Location Manager\",\"Makeup Artist\",\"Production Accountant\",\"Stunts\",\"Second Assistant \\\"A\\\" Camera\",\"Set Designer\",\"Makeup Artist\",\"Second Assistant Director\",\"Set Dresser\",\"Set Dresser\",\"Assistant Costume Designer\",\"Set Dresser\",\"Set Dresser\",\"Set Dresser\",\"Casting\",\"Casting\",\"Dialect Coach\",\"Editor\",\"Editor\",\"Visual Effects Editor\",\"Foley\",\"Foley Supervisor\",\"Unit Production Manager\",\"Makeup Artist\",\"Hair Department Head\",\"On Set Dresser\",\"Original Music Composer\",\"Music Editor\",\"Executive Producer\",\"Art Direction\",\"Set Decoration\",\"Makeup Artist\",\"Set Costumer\",\"Visual Effects Coordinator\",\"Costume Design\",\"Art Direction\",\"Sound Effects Editor\",\"Sound Re-Recording Mixer\",\"Foley\",\"Visual Effects Supervisor\",\"Set Costumer\",\"Set Costumer\",\"Set Costumer\",\"Visual Effects Producer\",\"Visual Effects Editor\",\"Special Effects Supervisor\",\"Key Hair Stylist\",\"Set Costumer\",\"Construction Coordinator\",\"Wigmaker\",\"Special Effects Coordinator\",\"Armorer\",\"Dialogue Editor\",\"Visual Effects Editor\",\"Art Department Coordinator\",\"Visual Effects Supervisor\",\"Visual Effects Coordinator\",\"Visual Effects Producer\",\"Makeup Artist\",\"Art Department Assistant\",\"Art Department Assistant\",\"Special Effects Supervisor\",\"Assistant Art Director\",\"Visual Effects Coordinator\",\"Visual Effects Coordinator\",\"Digital Intermediate\",\"Production Supervisor\",\"Sculptor\",\"Digital Intermediate\",\"Associate Producer\",\"Sound Designer\",\"Unit Production Manager\",\"Supervising Art Director\",\"Makeup Department Head\",\"Sound Effects Designer\",\"Sound Re-Recording Mixer\",\"Foley Artist\",\"Thanks\",\"Art Direction\",\"Set Decoration\",\"Production Design\",\"Choreographer\",\"Stunts\",\"Producer\",\"Thanks\",\"Thanks\",\"Thanks\",\"Costume Designer\",\"Thanks\",\"Set Buyer\",\"Prosthetics\",\"Executive Producer\",\"Stunts\",\"Set Designer\",\"Stunts\",\"Location Manager\",\"Stunts\",\"Stunts\",\"Stunts\",\"Stunts\",\"Executive Producer\",\"First Assistant Editor\",\"Thanks\",\"Art Direction\",\"Thanks\",\"Set Designer\",\"Stunts\",\"Rigging Grip\",\"Art Direction\",\"Key Costumer\",\"Makeup Artist\",\"Costume Supervisor\",\"Set Designer\",\"Set Designer\",\"Utility Sound\",\"Unit Production Manager\",\"Art Department Coordinator\",\"Set Costumer\",\"Assistant Set Decoration\",\"Underwater Camera\",\"Digital Intermediate Editor\",\"Assistant Property Master\",\"Set Designer\",\"Steadicam Operator\",\"Stand In\",\"Hair Department Head\",\"Assistant Editor\",\"Foley Mixer\",\"Hairstylist\",\"Set Dresser\",\"Leadman\",\"Costumer\",\"Set Costumer\",\"Modeling\",\"Stunts\",\"First Assistant Editor\",\"Thanks\",\"Actor's Assistant\",\"Set Decorating Coordinator\",\"Special Effects Supervisor\",\"Stunts\",\"Hair Department Head\",\"Property Master\",\"Assistant Costume Designer\",\"Production Coordinator\",\"Electrician\",\"Stunts\",\"Assistant Property Master\",\"Special Effects Technician\",\"Graphic Designer\",\"Casting Associate\",\"Key Grip\",\"Stunts\",\"Graphic Designer\",\"Stunts\",\"Set Designer\",\"Best Boy Grip\",\"Stand In\",\"Stunts\",\"Stunts\",\"Makeup Artist\",\"Stunts\",\"Special Effects Technician\",\"Special Effects Makeup Artist\",\"Production Assistant\",\"Loader\",\"Electrician\",\"Key Costumer\",\"Set Dresser\",\"Grip\",\"Grip\",\"Production Supervisor\",\"Stunts\",\"Stunts\",\"Set Dresser\",\"Second Assistant Director\",\"Set Dresser\",\"Second Second Assistant Director\",\"Grip\",\"Extras Casting Coordinator\",\"Assistant Editor\",\"Stunts\",\"Stunts\",\"Stunts\",\"Production Assistant\",\"Stunts\",\"Set Dresser\",\"Extras Casting\",\"Additional Production Sound Mixer\",\"Costumer\",\"Sound Editor\",\"Mix Technician\",\"Visual Effects Supervisor\",\"Researcher\",\"Stunts\",\"Digital Intermediate Producer\",\"Casting Assistant\",\"Grip\",\"Actor's Assistant\",\"Grip\",\"Stand In\",\"Sound Editor\",\"Post Production Accountant\",\"First Assistant Accountant\",\"Location Assistant\",\"Location Manager\",\"Production Secretary\",\"Actor's Assistant\",\"Additional Second Assistant Director\",\"Sound Assistant\",\"Production Intern\",\"Special Effects Technician\",\"Associate Producer\",\"Second Assistant Camera\",\"Grip\",\"Grip\",\"Grip\",\"Grip\",\"Additional Second Assistant Director\",\"Set Medic\",\"Fight Choreographer\",\"Stand In\",\"Pyrotechnician\"]],[\"start\",[0,0,0,0,0,0,0,0,0,0,0,1,1,1,1,1,1,1,1,1,1,1,1,1,1,1,1,1,1,1,1,1,1,1,1,1,1,1,1,1,1,1,1,1,1,1,1,1,1,1,1,1,1,1,1,1,1,1,1,1,1,1,1,1,1,1,1,1,1,1,1,1,1,1,1,1,1,1,1,1,1,1,1,1,1,1,1,1,1,1,1,2,2,2,2,2,2,3,3,3,4,4,4,4,4,4,4,7,7,7,7,7,8,9,10,10,11,11,12,12,12,12,12,13,15,15,15,18,18,19,19,19,20,20,20,20,20,20,20,23,24,24,24,25,25,29,33,33,37,42,42,45,48,52,82,82,82,82,82,82,82,82,82,82,82,82,82,82,82,82,82,82,82,82,82,82,82,82,82,82,82,82,82,82,82,82,82,82,82,82,82,82,82,82,82,82,82,82,82,82,82,82,82,82,82,82,82,82,82,82,82,82,82,82,82,82,82,82,82,82,82,82,82,82,82,82,82,82,82,82,82,82,82,82,82,82,82,82,82,82,82,82,82,82,82,82,82,82,82,82,82,82,83,83,86,86,86,86,86,86,86,87,87,87,87,87,87,87,88,90,91,91,92,100,102,102,102,109,109,109,114,116,118,118,118,119,128,135,135,135,135,135,135,135,139,141,146,147,148,149,153,161,165,165,167,181,182,182,182,182,182,182,182,182,182,182,182,182,182,182,182,182,182,182,182,182,182,182,182,182,182,182,182,182,182,182,182,182,182,182,182,182,182,182,182,182,182,182,182,182,182,182,182,182,182,182,182,182,182,182,182,182,182,182,182,182,182,182,182,182,182,182,182,182,182,182,182,182,182,182,182,182,182,182,182,182,182,182,182,184,184,184,184,192,201,206,213,214,223,231,234,260,261,262,266,266,266,266,266,266,266,266,266,266,266,266,266,266,266,266,266,266,266,266,266,266,266,266,266,266,266,266,266,266,266,266,266,266,266,266,266,266,266,266,266,266,266,266,266,266,266,266,266,266,266,266,266,266,266,266,266,266,266,266,266,266,266,266,266,266,266,266,266,266,266,266,266,266,266,266,266,266,266,266,266,266,266,266,266,266,266,266,266,266,266,266,266,266,266,266,266,266,266,266,266,266,266,266,266,266,266,266,266,266,266,266,266,266,266,266,266,266,266,266,266,266,266,266,266,266,266,266,266,266,266,266,266,266,266,266,266,266,266,266,266,266,266,266,266,266,266,266,266,266,266,266,266,266,266,266,266,266,266,266,266,266,266,266,266,272,272,273,273,273,285,285,300,300,306,306,306,306,306,306,306,308,312,312,314,320,321,321,321,321,321,321,321,323,323,328,328,330,330,330,330,330,330,331,331,332,332,355,371,432,432,432,432,432,432,432,432,432,432,432,432,432,432,432,432,432,432,432,432,432,432,432,432,432,432,432,432,432,432,432,432,432,432,432,432,432,432,432,432,432,432,432,432,432,432,432,432,432,432,432,432,432,432,432,432,432,432,432,432,432,432,432,432,432,432,432,432,432,432,432,432,432,432,432,432,432,432,432,432,432,432,432,432,432,432,432,432,432,432,432,432,432,432,432,432,432,432,432,432,432,432,432,432,432,432,432,432,432,432,432,432,432,432,432,432,432,432,432,432,432,432,432,432,432,432,432,432,432,432,432,432,432,432,432,432,432,432,432,432,432,432,432,432,432,432,432,432,432,432,432,432,432,432,432,432,432,432,432,432,432,432,432,432,432,432,432,432,432,432,432,432,432,432,432,432,432,432,432,432,432,432,432,432,432,432,432,432,433,434,434,434,434,434,436,437,437,438,438,438,438,438,439,439,439,439,440,441,441,443,443,444,447,447,449,450,451,451,451,453,455,457,457,457,457,458,462,462,463,469,469,470,470,471,472,472,473,477,477,477,478,478,479,481,482,483,483,483,485,489,491,491,491,492,493,493,493,493,494,494,494,494,494,494,495,495,495,495,495,496,499,499,499,499,499,500,501,504,506,507,508,510,511,512,512,513,513,514,514,514,514,515,515,518,518,527,528,528,528,529,529,530,532,533,534,535,536,537,538,539,546,549,550,551,552,554,555,556,557,558,559,560,563,565,566,570,571,573,575,576,581,582,583,585,586,590,592,593,594,600,601,602,607,608,609,610,612,613,615,616,618,621,621,621,621,621,621,621,621,621,621,621,621,621,621,621,621,621,621,621,621,621,621,621,621,621,621,621,621,621,621,621,621,621,621,621,621,621,621,621,621,621,621,621,621,621,624,631,631,635,635,667,667,667,667,667,667,667,667,667,667,667,667,667,667,667,667,667,667,667,667,667,667,667,667,667,667,667,667,667,667,667,667,667,667,667,667,667,667,667,667,667,667,667,667,667,667,667,667,667,667,667,667,667,667,667,667,667,667,667,667,667,667,667,667,667,667,667,667,667,667,667,667,667,667,667,667,667,667,667,667,667,667,667,667,667,667,667,667,667,667,667,667,667,667,667,667,667,667,667,667,667,667,667,667,667,667,667,667,667,667,667,667,667,667,667,667,667,667,667,667,667,667,667,667,667,667,667,667,667,667,667,667,667,667,667,667,667,667,667,671,674,674,674,680,680,680,690,694,696,712,726,807,807,807,807,807,807,807,807,807,807,807,807,807,807,807,807,807,807,807,807,807,807,807,807,807,807,807,807,807,807,807,807,807,807,807,807,807,807,807,807,807,807,807,807,807,807,807,807,807,807,807,807,807,807,807,807,807,807,823,826,845,845,845,850,851,851,851,866,866,866,866,866,866,866,866,866,866,866,866,866,866,866,866,866,866,866,866,866,866,866,866,866,866,866,866,866,866,866,866,866,866,866,866,866,866,866,866,866,866,866,866,866,866,866,866,866,866,866,866,866,866,866,866,866,866,866,866,866,866,866,866,867,867,874,881,881,884,889,889,906,910,911,926,931,931,931,931,931,931,931,931,931,931,931,931,931,931,931,931,931,931,931,931,931,931,931,931,931,931,931,931,931,931,931,931,931,931,931,931,931,931,931,931,931,931,931,931,931,934,935,937,942,943,944,977,977,977,977,977,977,977,977,977,977,977,977,977,977,977,977,977,977,977,977,977,977,977,977,977,977,977,977,977,977,977,977,977,977,977,977,977,977,977,977,977,977,977,977,977,977,977,977,977,977,977,977,977,977,977,977,977,977,977,977,977,977,977,977,977,977,977,977,977,977,977,977,977,977,977,977,977,977,977,977,977,977,977,977,977,977,977,977,977,977,977,977,977,977,977,977,977,977,977,977,977,977,977,977,977,977,977,977,977,977,977,977,977,977,977,977,977,977,977,977,977,977,977,977,977,977,977,977,977,977,977,977,977,977,977,977,977,977,977,977,977,977,977,977,977,977]],[\"end\",[1,82,182,266,432,621,667,807,866,931,977,2,3,4,5,6,7,8,9,10,11,12,13,14,15,16,17,18,19,20,21,22,23,24,25,26,27,28,29,30,31,32,33,34,35,36,37,38,39,40,41,42,43,44,45,46,47,48,49,50,51,52,53,54,55,56,57,58,59,60,61,62,63,64,65,66,67,68,69,70,71,72,73,74,75,76,77,78,79,80,81,82,182,266,432,621,807,82,182,266,82,182,266,432,621,667,807,82,266,432,621,807,82,82,82,182,82,182,82,266,432,621,807,82,82,266,931,82,432,82,182,266,82,266,667,807,866,931,977,82,82,182,266,82,266,82,432,621,82,82,182,266,82,82,83,84,85,86,87,88,89,90,91,92,93,94,95,96,97,98,99,100,101,102,103,104,105,106,107,108,109,110,111,112,113,114,115,116,117,118,119,120,121,122,123,124,125,126,127,128,129,130,131,132,133,134,135,136,137,138,139,140,141,142,143,144,145,146,147,148,149,150,151,152,153,154,155,156,157,158,159,160,161,162,163,164,165,166,167,168,169,170,171,172,173,174,175,176,177,178,179,180,182,266,266,432,621,667,807,866,931,266,432,621,667,807,866,931,266,866,866,931,266,266,266,432,621,182,266,667,266,182,266,432,621,182,266,266,432,621,807,866,931,977,182,266,266,182,182,182,182,182,266,621,182,182,183,184,185,186,187,188,189,190,191,192,193,194,195,196,197,198,199,200,201,202,203,204,205,206,207,208,209,210,211,212,213,214,215,216,217,218,219,220,221,222,223,224,225,226,227,228,229,230,231,232,233,234,235,236,237,238,239,240,241,242,243,244,245,246,247,248,249,250,251,252,253,254,255,256,257,258,259,260,261,262,263,264,265,432,621,667,866,266,266,266,266,266,266,667,266,266,266,266,267,268,269,270,271,272,273,274,275,276,277,278,279,280,281,282,283,284,285,286,287,288,289,290,291,292,293,294,295,296,297,298,299,300,301,302,303,304,305,306,307,308,309,310,311,312,313,314,315,316,317,318,319,320,321,322,323,324,325,326,327,328,329,330,331,332,333,334,335,336,337,338,339,340,341,342,343,344,345,346,347,348,349,350,351,352,353,354,355,356,357,358,359,360,361,362,363,364,365,366,367,368,369,370,371,372,373,374,375,376,377,378,379,380,381,382,383,384,385,386,387,388,389,390,391,392,393,394,395,396,397,398,399,400,401,402,403,404,405,406,407,408,409,410,411,412,413,414,415,416,417,418,419,420,421,422,423,424,425,426,427,428,429,430,431,432,621,432,621,667,807,866,432,621,432,621,667,807,866,931,977,667,432,866,667,432,432,621,667,807,866,931,977,667,807,621,807,432,621,807,866,931,977,432,621,432,621,866,432,433,434,435,436,437,438,439,440,441,442,443,444,445,446,447,448,449,450,451,452,453,454,455,456,457,458,459,460,461,462,463,464,465,466,467,468,469,470,471,472,473,474,475,476,477,478,479,480,481,482,483,484,485,486,487,488,489,490,491,492,493,494,495,496,497,498,499,500,501,502,503,504,505,506,507,508,509,510,511,512,513,514,515,516,517,518,519,520,521,522,523,524,525,526,527,528,529,530,531,532,533,534,535,536,537,538,539,540,541,542,543,544,545,546,547,548,549,550,551,552,553,554,555,556,557,558,559,560,561,562,563,564,565,566,567,568,569,570,571,572,573,574,575,576,577,578,579,580,581,582,583,584,585,586,587,588,589,590,591,592,593,594,595,596,597,598,599,600,601,602,603,604,605,606,607,608,609,610,611,612,613,614,615,616,617,618,619,620,621,621,807,866,931,977,621,621,807,621,667,807,866,977,621,667,807,977,621,621,931,621,866,621,621,667,621,621,621,667,807,621,621,667,807,866,977,621,667,807,621,621,667,621,667,866,621,667,621,621,866,977,621,866,621,621,866,621,807,866,621,621,621,667,977,621,621,667,866,931,621,667,807,866,931,977,621,667,866,931,977,621,621,807,866,931,977,621,621,621,621,621,621,621,621,621,866,621,977,621,667,866,977,621,667,621,667,621,866,931,977,621,807,621,621,621,621,621,621,621,621,621,621,621,621,621,621,621,621,621,621,621,621,621,621,621,621,621,621,621,621,621,866,621,621,621,621,621,621,621,621,621,621,621,621,621,621,621,621,621,621,621,621,622,623,624,625,626,627,628,629,630,631,632,633,634,635,636,637,638,639,640,641,642,643,644,645,646,647,648,649,650,651,652,653,654,655,656,657,658,659,660,661,662,663,664,665,666,667,866,931,667,866,668,669,670,671,672,673,674,675,676,677,678,679,680,681,682,683,684,685,686,687,688,689,690,691,692,693,694,695,696,697,698,699,700,701,702,703,704,705,706,707,708,709,710,711,712,713,714,715,716,717,718,719,720,721,722,723,724,725,726,727,728,729,730,731,732,733,734,735,736,737,738,739,740,741,742,743,744,745,746,747,748,749,750,751,752,753,754,755,756,757,758,759,760,761,762,763,764,765,766,767,768,769,770,771,772,773,774,775,776,777,778,779,780,781,782,783,784,785,786,787,788,789,790,791,792,793,794,795,796,797,798,799,800,801,802,803,804,805,806,807,807,866,931,866,931,977,931,807,807,866,977,808,809,810,811,812,813,814,815,816,817,818,819,820,821,822,823,824,825,826,827,828,829,830,831,832,833,834,835,836,837,838,839,840,841,842,843,844,845,846,847,848,849,850,851,852,853,854,855,856,857,858,859,860,861,862,863,864,865,866,977,866,931,977,866,866,931,977,867,868,869,870,871,872,873,874,875,876,877,878,879,880,881,882,883,884,885,886,887,888,889,890,891,892,893,894,895,896,897,898,899,900,901,902,903,904,905,906,907,908,909,910,911,912,913,914,915,916,917,918,919,920,921,922,923,924,925,926,927,928,929,930,931,977,977,931,977,931,931,977,931,977,931,977,932,933,934,935,936,937,938,939,940,941,942,943,944,945,946,947,948,949,950,951,952,953,954,955,956,957,958,959,960,961,962,963,964,965,966,967,968,969,970,971,972,973,974,975,976,977,977,977,977,977,977,978,979,980,981,982,983,984,985,986,987,988,989,990,991,992,993,994,995,996,997,998,999,1000,1001,1002,1003,1004,1005,1006,1007,1008,1009,1010,1011,1012,1013,1014,1015,1016,1017,1018,1019,1020,1021,1022,1023,1024,1025,1026,1027,1028,1029,1030,1031,1032,1033,1034,1035,1036,1037,1038,1039,1040,1041,1042,1043,1044,1045,1046,1047,1048,1049,1050,1051,1052,1053,1054,1055,1056,1057,1058,1059,1060,1061,1062,1063,1064,1065,1066,1067,1068,1069,1070,1071,1072,1073,1074,1075,1076,1077,1078,1079,1080,1081,1082,1083,1084,1085,1086,1087,1088,1089,1090,1091,1092,1093,1094,1095,1096,1097,1098,1099,1100,1101,1102,1103,1104,1105,1106,1107,1108,1109,1110,1111,1112,1113,1114,1115,1116,1117,1118,1119,1120,1121,1122,1123]]]}}},\"view\":{\"type\":\"object\",\"name\":\"CDSView\",\"id\":\"p2021\",\"attributes\":{\"filter\":{\"type\":\"object\",\"name\":\"AllIndices\",\"id\":\"p2022\"}}},\"glyph\":{\"type\":\"object\",\"name\":\"MultiLine\",\"id\":\"p2046\",\"attributes\":{\"line_alpha\":{\"type\":\"value\",\"value\":0.3}}}}},\"selection_policy\":{\"type\":\"object\",\"name\":\"NodesOnly\",\"id\":\"p2014\"},\"inspection_policy\":{\"type\":\"object\",\"name\":\"NodesOnly\",\"id\":\"p2015\"}}}],\"toolbar\":{\"type\":\"object\",\"name\":\"Toolbar\",\"id\":\"p1974\",\"attributes\":{\"tools\":[{\"type\":\"object\",\"name\":\"PanTool\",\"id\":\"p1995\"},{\"type\":\"object\",\"name\":\"WheelZoomTool\",\"id\":\"p1996\"},{\"type\":\"object\",\"name\":\"SaveTool\",\"id\":\"p1997\"},{\"type\":\"object\",\"name\":\"ResetTool\",\"id\":\"p1998\"},{\"type\":\"object\",\"name\":\"HoverTool\",\"id\":\"p1999\",\"attributes\":{\"renderers\":\"auto\",\"tooltips\":[[\"Name\",\"@name\"],[\"Degree\",\"@degree\"]]}}],\"active_scroll\":{\"id\":\"p1996\"}}},\"left\":[{\"type\":\"object\",\"name\":\"LinearAxis\",\"id\":\"p1988\",\"attributes\":{\"ticker\":{\"type\":\"object\",\"name\":\"BasicTicker\",\"id\":\"p1989\",\"attributes\":{\"mantissas\":[1,2,5]}},\"formatter\":{\"type\":\"object\",\"name\":\"BasicTickFormatter\",\"id\":\"p1990\"},\"major_label_policy\":{\"type\":\"object\",\"name\":\"AllLabels\",\"id\":\"p1991\"}}}],\"below\":[{\"type\":\"object\",\"name\":\"LinearAxis\",\"id\":\"p1981\",\"attributes\":{\"ticker\":{\"type\":\"object\",\"name\":\"BasicTicker\",\"id\":\"p1982\",\"attributes\":{\"mantissas\":[1,2,5]}},\"formatter\":{\"type\":\"object\",\"name\":\"BasicTickFormatter\",\"id\":\"p1983\"},\"major_label_policy\":{\"type\":\"object\",\"name\":\"AllLabels\",\"id\":\"p1984\"}}}],\"center\":[{\"type\":\"object\",\"name\":\"Grid\",\"id\":\"p1987\",\"attributes\":{\"axis\":{\"id\":\"p1981\"}}},{\"type\":\"object\",\"name\":\"Grid\",\"id\":\"p1994\",\"attributes\":{\"dimension\":1,\"axis\":{\"id\":\"p1988\"}}}]}}],\"callbacks\":{\"type\":\"map\"}}};\n  const render_items = [{\"docid\":\"14dc0a04-1aa1-489d-b56e-bb52f417845f\",\"roots\":{\"p1965\":\"6b1f105d-9f32-41be-b01d-cbb6f282105c\"},\"root_ids\":[\"p1965\"]}];\n  root.Bokeh.embed.embed_items_notebook(docs_json, render_items);\n  }\n  if (root.Bokeh !== undefined) {\n    embed_document(root);\n  } else {\n    let attempts = 0;\n    const timer = setInterval(function(root) {\n      if (root.Bokeh !== undefined) {\n        clearInterval(timer);\n        embed_document(root);\n      } else {\n        attempts++;\n        if (attempts > 100) {\n          clearInterval(timer);\n          console.log(\"Bokeh: ERROR: Unable to run BokehJS code because BokehJS library is missing\");\n        }\n      }\n    }, 10, root)\n  }\n})(window);",
      "application/vnd.bokehjs_exec.v0+json": ""
     },
     "metadata": {
      "application/vnd.bokehjs_exec.v0+json": {
       "id": "p1965"
      }
     },
     "output_type": "display_data"
    }
   ],
   "source": [
    "from bokeh.models import Range1d, Circle, ColumnDataSource, MultiLine, NodesAndLinkedEdges, LabelSet\n",
    "from bokeh.palettes import Light3\n",
    "\n",
    "G = nx.from_pandas_edgelist(crew_df, 'person', 'title', 'job')\n",
    "\n",
    "degrees = dict(nx.degree(G))\n",
    "nx.set_node_attributes(G, name='degree', values=degrees)\n",
    "adjusted_node_size = dict([(node, 8*math.log(degree) + 5) for node, degree in nx.degree(G)])\n",
    "nx.set_node_attributes(G, name='adjusted_size', values=adjusted_node_size)\n",
    "\n",
    "node_colors = {} \n",
    "\n",
    "for node in G.nodes():\n",
    "    if node in list(movie_df['title']):\n",
    "        node_colors[node] = Light3[0]\n",
    "    else:\n",
    "        node_colors[node] = Light3[1]\n",
    "\n",
    "nx.set_node_attributes(G, name='color', values=node_colors)\n",
    "\n",
    "G = nx.convert_node_labels_to_integers(G, label_attribute='name')\n",
    "\n",
    "#Establish which categories will appear when hovering over each node\n",
    "HOVER_TOOLTIPS = [\n",
    "    (\"Name\", \"@name\"),\n",
    "    (\"Degree\", \"@degree\")\n",
    "]\n",
    "\n",
    "\n",
    "title = 'Tarantino Crew Network'\n",
    "\n",
    "plot = figure(tooltips = HOVER_TOOLTIPS,\n",
    "              tools=\"pan,wheel_zoom,save,reset\", active_scroll='wheel_zoom',\n",
    "              x_range=Range1d(-20.1, 20.1), y_range=Range1d(-20.1, 20.1), title=title)\n",
    "\n",
    "graph = from_networkx(G, nx.spring_layout, scale=20, center=(0,0))\n",
    "\n",
    "graph.node_renderer.glyph = Circle(size='adjusted_size', fill_color='color')\n",
    "\n",
    "graph.edge_renderer.glyph = MultiLine(line_alpha=0.3)\n",
    "\n",
    "plot.renderers.append(graph)\n",
    "\n",
    "show(plot)"
   ]
  }
 ],
 "metadata": {
  "kernelspec": {
   "display_name": "Python 3 (ipykernel)",
   "language": "python",
   "name": "python3"
  },
  "language_info": {
   "codemirror_mode": {
    "name": "ipython",
    "version": 3
   },
   "file_extension": ".py",
   "mimetype": "text/x-python",
   "name": "python",
   "nbconvert_exporter": "python",
   "pygments_lexer": "ipython3",
   "version": "3.11.0"
  }
 },
 "nbformat": 4,
 "nbformat_minor": 5
}
