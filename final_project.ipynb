{
 "cells": [
  {
   "attachments": {},
   "cell_type": "markdown",
   "id": "2ecf3a9c",
   "metadata": {},
   "source": [
    "---\n",
    "title: \"Data Analysis of Quentin Tarantino's Works\"\n",
    "description: \"An analysis of the works of Quentin Tarantino using data from The Movie Database\"\n",
    "author: \"Bryce Stulman\"\n",
    "date: \"03/11/2023\"\n",
    "date-modified: \"03/13/2023\"\n",
    "---"
   ]
  },
  {
   "attachments": {},
   "cell_type": "markdown",
   "id": "eeadbd90",
   "metadata": {},
   "source": [
    "# Data Analysis of Quentin Tarantino's Works\n",
    "The purpose of this analysis is to better understand the works of filmmaker Quentin Tarantino. Known for his stylized violence and profanity riddled dialog, Tarantino's films are generally highly regarded and he has won many [awards](https://www.imdb.com/name/nm0000233/awards), including Academy Awards wins for *Pulp Fiction* (1994) and *Django Unchained* (2012). Tarantino has been releasing new films every few years for the last three decades and this analysis uses data such as budget, revenue, cast, crew, and viewer sentinment to attempt to discover some of the factors which may contribute to his continued success.\n",
    "\n",
    "It covers his (currently) 11 movies:  \n",
    "\n",
    "* *Reservoir Dogs* (1992)\n",
    "* *Pulp Fiction* (1994)\n",
    "* *Four Rooms* (1995)\n",
    "* *Jackie Brown* (1997)\n",
    "* *Kill Bill: Vol. 1* (2003)\n",
    "* *Kill Bill: Vol. 2* (2004)\n",
    "* *Death Proof* (2007)\n",
    "* *Inglorious Basterds* (2009)\n",
    "* *Django Unchained* (2012)\n",
    "* *The Hateful Eight* (2015)\n",
    "* *Once Upon a Time... in Hollywood* (2019)\n"
   ]
  },
  {
   "attachments": {},
   "cell_type": "markdown",
   "id": "11d59263",
   "metadata": {},
   "source": [
    "\n",
    "### Questions that Can Be Answered with Data\n",
    "\n",
    "Data can be used to address many statistical questions as well as help form connections between seemingly disparate pieces of information.\n",
    "Some examples of questions include:  \n",
    "\n",
    "* How did the budget for tarantinos films change overtime (as he became more famous)?\n",
    "* What are the relationships between budget, revenue, popularity and rating for tarantino films? How are these related to:\n",
    "    * Genre?\n",
    "    * Cast?\n",
    "    * Crew?        \n",
    "* Since Tarantino is known for repeatedly casting some actors and actresses, can examining which ones are in which movies reveal hidden connections related to success?\n",
    "* Less well known are crew members, do Tarantino's films re-use crew members in the same way?\n",
    "\n",
    "---"
   ]
  },
  {
   "attachments": {},
   "cell_type": "markdown",
   "id": "c2bee77c",
   "metadata": {},
   "source": [
    "## The Data\n",
    "\n",
    "Data for this analysis is sourced from [The Movie Database (TMDB)](https://www.themoviedb.org), a community built database with millions of users that has been in service since 2008, using their publicly available web API.  \n",
    "For more information about TMDB see the [About page](https://www.themoviedb.org/about). For information about the API, including documentation, see the [API page](https://www.themoviedb.org/documentation/api).  \n",
    "\n",
    "The [tmdbsimple](https://github.com/celiao/tmdbsimple) library provides easy access to the TMDB web API using Python.\n",
    "\n",
    "TMDB catalogs the following data for movies and credits. The fields that are used for this analysis are shown in **bold**.\n",
    "\n",
    "##### Movies: \n",
    "\n",
    "| Field | Datatype | Description |\n",
    "| :--- | :------ | :--------- |\n",
    "| adult | boolean | Whether the movie is an adult film |\n",
    "| backdrop_path | string or null | Path for backdrop image |\n",
    "| belongs_to_collection | null or object | A collection the movie belongs to |\n",
    "| **budget** | integer | Budget of the movie, not adjusted for inflation |\n",
    "| **genres** | array[object] | List of genres |\n",
    "| homepage | string or null | URL for movie's webpage |\n",
    "| id | integer | TMDB ID |\n",
    "| imdb_id | string or null | IMDB ID |\n",
    "| original_language | string | Original language of the movie |\n",
    "| original_title | string | Original title of the movie |\n",
    "| overview | string or null | Short description of the movie |\n",
    "| **popularity** | number | Measure of how popular the movie is on TMDB (see [TMDB Popularity](#tmdb-popularity)) |\n",
    "| poster_path | string or null | Path for poster image |\n",
    "| **production_companies** | array[object] | List of production companies that worked on the movie |\n",
    "| production_countries | array[object] | List of countries the movie was produced in |\n",
    "| **release_date** | string | Release date of the movie |\n",
    "| **revenue** | integer | Revenue made by the movie, not adjusted for inflation |\n",
    "| **runtime** | integer or null | Duration of the movie (in minutes) |\n",
    "| spoken_languages | array[object] | List of languages spoken in the movie |\n",
    "| status | string | Production status of the movie |\n",
    "| tagline | string or null | Tagline used for the movie |\n",
    "| **title** | string | Title of the movie |\n",
    "| video | boolean | Wether there is a video associated with the movie |\n",
    "| **vote_average** | number | Average score among user ratings (max 10) |\n",
    "| **vote_count** | integer | Number of user ratings |\n",
    "\n",
    "##### Cast Credits:\n",
    "\n",
    "| Field | Datatype | Description |\n",
    "| :--- | :------ | :--------- |\n",
    "| adult | boolean | Whether or not the person works on adult media |\n",
    "| **gender** | integer | Integer representation of gender |\n",
    "| id | integer | TMDB ID |\n",
    "| known_for_department | string | Primary production role |\n",
    "| **name** | string | Current name |\n",
    "| original_name | string | Name before any changes (such as marriage) |\n",
    "| **popularity** | number | Measure of how popular the person is on TMDB (see [TMDB Popularity](#tmdb-popularity)) |\n",
    "| profile_path | string or null | Path to profile image |\n",
    "| cast_id | integer | ID for this cast |\n",
    "| **character** | string | Name of character played in the movie |\n",
    "| credit_id | string | ID for this credit |\n",
    "| order | integer | Order of this credit in the movie's credits |\n",
    "\n",
    "##### Crew Credits:\n",
    "\n",
    "| Field | Datatype | Description |\n",
    "| :--- | :------ | :--------- |\n",
    "| adult | boolean | Whether or not the person works on adult media |\n",
    "| **gender** | integer | Integer representation of gender |\n",
    "| id | integer | TMDB ID |\n",
    "| known_for_department | string | Primary production role |\n",
    "| **name** | string | Current name |\n",
    "| original_name | string | Name before any changes (such as marriage) |\n",
    "| **popularity** | number | Measure of how popular the person is on TMDB (see [TMDB Popularity](#tmdb-popularity)) |\n",
    "| profile_path | string or null | Path to profile image |\n",
    "| credit_id | string | ID for this credit |\n",
    "| department | integer | Department worked in |\n",
    "| **job** | string | Role in production for the movie |\n"
   ]
  },
  {
   "attachments": {},
   "cell_type": "markdown",
   "id": "56cb7a87",
   "metadata": {},
   "source": [
    "<a id='tmdb-popularity'></a>\n",
    "\n",
    "#### TMDB Popularity\n",
    "\n",
    "TMDB has a **popularity** score that it associates with every page on the site. This score is described as \"[A] very important metric [that] helps us boost search results, adds an incredibly useful sort value for Discover, and is also just kind of fun to see items chart up and down.\" It is a measure of how many users are interacting with the given database entry on a regular basis.\n",
    "\n",
    "For a list of which factors affect popularity, see the [TMDB Popularity page](https://developers.themoviedb.org/3/getting-started/popularity)."
   ]
  },
  {
   "attachments": {},
   "cell_type": "markdown",
   "id": "044ada4c",
   "metadata": {},
   "source": [
    "### Getting the Data\n",
    "\n",
    "> **Note:** In order to use the TMDB web API we must first create a free account and request an API key that will be used when making requests. The following sections cover the process of retreiving the data directly from the API and require an additional file named **api_key** containing a single line with your API key. Since each API key is private, this file has not been provided. However, a snapshot of the API data has been saved as **tarantino.json** and can be used to complete this analysis.  \n",
    "> \n",
    "> To skip the API and use the provided json, skip directly to the [Exploring the Data](#get-from-file) section.\n",
    "\n",
    "The first step is to import the libraries that will be used to access the API and parse the reponse and to setup the API key for the requests."
   ]
  },
  {
   "cell_type": "code",
   "execution_count": 1,
   "id": "bc6c4b3f",
   "metadata": {},
   "outputs": [],
   "source": [
    "import tmdbsimple as tmdb\n",
    "import json\n",
    "\n",
    "with open('api_key', 'r') as file:\n",
    "   API_KEY = file.read()\n",
    "\n",
    "tmdb.API_KEY = API_KEY"
   ]
  },
  {
   "attachments": {},
   "cell_type": "markdown",
   "id": "5cadb9f9",
   "metadata": {},
   "source": [
    "In order to get information about a specific title from the TMDB API we need to provide the title's ID in the request.  \n",
    "\n",
    "Although the TMDB API provides [Discover](https://developers.themoviedb.org/3/discover) and [Search](https://developers.themoviedb.org/3/search/search-movies) routes to look for titles and get their IDs, this analysis deals with fairly small number of titles and it is relatively easy to look them up by hand."
   ]
  },
  {
   "cell_type": "code",
   "execution_count": 2,
   "id": "37f13455",
   "metadata": {},
   "outputs": [],
   "source": [
    "tarantino_tmdb_ids = {\n",
    "    \"Reservoir Dogs\": 500,\n",
    "    \"Pulp Fiction\": 680,\n",
    "    \"Four Rooms\": 5,\n",
    "    \"Jackie Brown\": 184,\n",
    "    \"Kill Bill: Vol. 1\": 24,\n",
    "    \"Kill Bill: Vol. 2\": 393,\n",
    "    \"Death Proof\": 1991,\n",
    "    \"Inglorious Basterds\": 16869,\n",
    "    \"Django Unchained\": 68718,\n",
    "    \"The Hateful Eight\": 273248,\n",
    "    \"Once Upon a Time... in Hollywood\": 466272\n",
    "}"
   ]
  },
  {
   "attachments": {},
   "cell_type": "markdown",
   "id": "29ffaa03",
   "metadata": {},
   "source": [
    "With these IDs, requests can be made to the API to get [details](https://developers.themoviedb.org/3/movies/get-movie-details) about each title. An additional request can be made to get the [credits](https://developers.themoviedb.org/3/movies/get-movie-credits) for the title, including both the cast and the crew.  \n",
    "\n",
    "The **tmdbsimple** library makes the process fairly painless."
   ]
  },
  {
   "cell_type": "code",
   "execution_count": 3,
   "id": "2f45d9c7",
   "metadata": {},
   "outputs": [],
   "source": [
    "\n",
    "tarantino_movies = []\n",
    "\n",
    "for title, id in tarantino_tmdb_ids.items():\n",
    "    movie = {}\n",
    "    movie['info'] = tmdb.Movies(id).info()\n",
    "    movie['credits'] = tmdb.Movies(id).credits()\n",
    "    tarantino_movies.append(movie)"
   ]
  },
  {
   "attachments": {},
   "cell_type": "markdown",
   "id": "97ab9807",
   "metadata": {},
   "source": [
    "### Data Wrangling\n",
    "\n",
    "As a web API, the responses from TMDB are sent in JSON format. While there are methods to extract the data from JSON objects, the results from the API are formatted in a way that makes utilizing them complicated. Additionally, we are only interested in a subset of the provided fields. As such, it is helpful to prune the unnecessarily fields and reformat the data to make it easier to use. A list of column names and a list of data rows for each table will make using the data easy.\n",
    "\n",
    "The **gender** field is of special note because it is saved as an integer. The values are explained by TMDB staff [here](https://www.themoviedb.org/talk/58ee5022c3a3683ded00a887?language=en-US).\n",
    "\n",
    "Also, since comparisons will be made between monetary values that were recorded many years apart, it will be necessary to adjust for inflation. The [cpi](https://pypi.org/project/cpi/) library can be used to adjust the budgets and revenue easily.\n",
    "\n",
    "Let's create the lists and process the data."
   ]
  },
  {
   "cell_type": "code",
   "execution_count": 4,
   "id": "c5c15c43",
   "metadata": {},
   "outputs": [],
   "source": [
    "from datetime import date   # date data structure to enable CPI conversions\n",
    "import cpi\n",
    "\n",
    "# Dictionary to convert gender from integer to value\n",
    "tmdb_gender = {\n",
    "    0: 'NS',    # Not Specified\n",
    "    1: 'F',     # Female\n",
    "    2: 'M',     # Male\n",
    "    3: 'NB'     # Non-Binary\n",
    "}\n",
    "\n",
    "# Movie table - Movie information\n",
    "movie_cols = ['title', 'release_date', 'runtime', 'budget', 'adj_budget', 'revenue', 'adj_revenue', 'popularity', 'vote_count', 'vote_average']\n",
    "movie_rows = []\n",
    "\n",
    "# Genre table - Relates movie and genres\n",
    "genre_cols = ['title', 'genre']\n",
    "genre_rows = []\n",
    "\n",
    "# Production company table - Relates movie and production companys\n",
    "prod_company_cols = ['title', 'company']\n",
    "prod_company_rows = []\n",
    "\n",
    "# Cast table - Relates movie to its cast\n",
    "cast_cols = ['title', 'person', 'character']\n",
    "cast_rows = []\n",
    "\n",
    "# Crew table - Relates movie to its crew\n",
    "crew_cols = ['title', 'person', 'job']\n",
    "crew_rows = []\n",
    "\n",
    "# Person table - Person information\n",
    "person_cols = ['person', 'gender', 'popularity']\n",
    "person_rows = []\n",
    "\n",
    "# Process data\n",
    "for movie in tarantino_movies:\n",
    "    # Movie table\n",
    "    date_parts = movie['info']['release_date'].split('-')\n",
    "    cpi_date = date(int(date_parts[0]), int(date_parts[1]), int(date_parts[2]))\n",
    "    \n",
    "    movie_row = [\n",
    "        movie['info']['title'],\n",
    "        movie['info']['release_date'],\n",
    "        movie['info']['runtime'],\n",
    "        movie['info']['budget'],\n",
    "        int(cpi.inflate(movie['info']['budget'], cpi_date)),\n",
    "        movie['info']['revenue'],\n",
    "        int(cpi.inflate(movie['info']['revenue'], cpi_date)),\n",
    "        movie['info']['popularity'],\n",
    "        movie['info']['vote_count'],\n",
    "        movie['info']['vote_average']\n",
    "    ]\n",
    "    movie_rows.append(movie_row)\n",
    "\n",
    "    # Genre table\n",
    "    for genre in movie['info']['genres']:\n",
    "        genre_row = [\n",
    "            movie['info']['title'],\n",
    "            genre['name']\n",
    "        ]\n",
    "        genre_rows.append(genre_row)\n",
    "    \n",
    "    # Production company table\n",
    "    for company in movie['info']['production_companies']:\n",
    "        company_row = [\n",
    "            movie['info']['title'],\n",
    "            company['name']\n",
    "        ]\n",
    "        prod_company_rows.append(company_row)\n",
    "    \n",
    "    # Cast / Person table\n",
    "    for cast in movie['credits']['cast']:\n",
    "        cast_row = [\n",
    "            movie['info']['title'],\n",
    "            cast['name'],\n",
    "            cast['character']\n",
    "        ]\n",
    "        cast_rows.append(cast_row)\n",
    "\n",
    "        person_row = [\n",
    "            cast['name'],\n",
    "            tmdb_gender[cast['gender']],\n",
    "            cast['popularity']\n",
    "        ]\n",
    "        person_rows.append(person_row)\n",
    "\n",
    "    # Crew / Person table\n",
    "    for crew in movie['credits']['crew']:\n",
    "        crew_row = [\n",
    "            movie['info']['title'],\n",
    "            crew['name'],\n",
    "            crew['job']\n",
    "        ]\n",
    "        crew_rows.append(crew_row)\n",
    "\n",
    "        person_row = [\n",
    "            crew['name'],\n",
    "            tmdb_gender[crew['gender']],\n",
    "            crew['popularity']\n",
    "        ]\n",
    "        person_rows.append(person_row)"
   ]
  },
  {
   "cell_type": "markdown",
   "id": "30981028",
   "metadata": {},
   "source": [
    "Let's save the results to facilitate the use of this notebook without an API key. The CSV files can then be loaded any time."
   ]
  },
  {
   "cell_type": "code",
   "execution_count": 5,
   "id": "d908b75e",
   "metadata": {},
   "outputs": [],
   "source": [
    "import csv\n",
    "\n",
    "with open('./csv/movie.csv', 'w', encoding='utf-8') as csv_file:\n",
    "    writer = csv.writer(csv_file)\n",
    "    writer.writerow(movie_cols)\n",
    "    writer.writerows(movie_rows)\n",
    "\n",
    "with open('./csv/genre.csv', 'w', encoding='utf-8') as csv_file:\n",
    "    writer = csv.writer(csv_file)\n",
    "    writer.writerow(genre_cols)\n",
    "    writer.writerows(genre_rows)\n",
    "\n",
    "with open('./csv/prod_company.csv', 'w', encoding='utf-8') as csv_file:\n",
    "    writer = csv.writer(csv_file)\n",
    "    writer.writerow(prod_company_cols)\n",
    "    writer.writerows(prod_company_rows)\n",
    "\n",
    "with open('./csv/cast.csv', 'w', encoding='utf-8') as csv_file:\n",
    "    writer = csv.writer(csv_file)\n",
    "    writer.writerow(cast_cols)\n",
    "    writer.writerows(cast_rows)\n",
    "\n",
    "with open('./csv/crew.csv', 'w', encoding='utf-8') as csv_file:\n",
    "    writer = csv.writer(csv_file)\n",
    "    writer.writerow(crew_cols)\n",
    "    writer.writerows(crew_rows)\n",
    "\n",
    "with open('./csv/person.csv', 'w', encoding='utf-8') as csv_file:\n",
    "    writer = csv.writer(csv_file)\n",
    "    writer.writerow(person_cols)\n",
    "    writer.writerows(person_rows)\n"
   ]
  },
  {
   "attachments": {},
   "cell_type": "markdown",
   "id": "b598f7bb",
   "metadata": {},
   "source": [
    "<a id='get-from-file'></a>\n",
    "\n",
    "### Exploring the Data\n",
    "\n",
    "Now that the data has been processed, we can make the dataframes and begin with a cursory look at each table to examine some statistics and get an idea of the big picture for our data.\n",
    "\n",
    "To skip the use of the API key, a snap shot of the data can be loaded from the provided set of CSV files."
   ]
  },
  {
   "cell_type": "code",
   "execution_count": 6,
   "id": "33c38a32",
   "metadata": {},
   "outputs": [
    {
     "data": {
      "text/html": [
       "<style>\n",
       "        .bk-notebook-logo {\n",
       "            display: block;\n",
       "            width: 20px;\n",
       "            height: 20px;\n",
       "            background-image: url(data:image/png;base64,iVBORw0KGgoAAAANSUhEUgAAABQAAAAUCAYAAACNiR0NAAAABHNCSVQICAgIfAhkiAAAAAlwSFlzAAALEgAACxIB0t1+/AAAABx0RVh0U29mdHdhcmUAQWRvYmUgRmlyZXdvcmtzIENTNui8sowAAAOkSURBVDiNjZRtaJVlGMd/1/08zzln5zjP1LWcU9N0NkN8m2CYjpgQYQXqSs0I84OLIC0hkEKoPtiH3gmKoiJDU7QpLgoLjLIQCpEsNJ1vqUOdO7ppbuec5+V+rj4ctwzd8IIbbi6u+8f1539dt3A78eXC7QizUF7gyV1fD1Yqg4JWz84yffhm0qkFqBogB9rM8tZdtwVsPUhWhGcFJngGeWrPzHm5oaMmkfEg1usvLFyc8jLRqDOMru7AyC8saQr7GG7f5fvDeH7Ej8CM66nIF+8yngt6HWaKh7k49Soy9nXurCi1o3qUbS3zWfrYeQDTB/Qj6kX6Ybhw4B+bOYoLKCC9H3Nu/leUTZ1JdRWkkn2ldcCamzrcf47KKXdAJllSlxAOkRgyHsGC/zRday5Qld9DyoM4/q/rUoy/CXh3jzOu3bHUVZeU+DEn8FInkPBFlu3+nW3Nw0mk6vCDiWg8CeJaxEwuHS3+z5RgY+YBR6V1Z1nxSOfoaPa4LASWxxdNp+VWTk7+4vzaou8v8PN+xo+KY2xsw6une2frhw05CTYOmQvsEhjhWjn0bmXPjpE1+kplmmkP3suftwTubK9Vq22qKmrBhpY4jvd5afdRA3wGjFAgcnTK2s4hY0/GPNIb0nErGMCRxWOOX64Z8RAC4oCXdklmEvcL8o0BfkNK4lUg9HTl+oPlQxdNo3Mg4Nv175e/1LDGzZen30MEjRUtmXSfiTVu1kK8W4txyV6BMKlbgk3lMwYCiusNy9fVfvvwMxv8Ynl6vxoByANLTWplvuj/nF9m2+PDtt1eiHPBr1oIfhCChQMBw6Aw0UulqTKZdfVvfG7VcfIqLG9bcldL/+pdWTLxLUy8Qq38heUIjh4XlzZxzQm19lLFlr8vdQ97rjZVOLf8nclzckbcD4wxXMidpX30sFd37Fv/GtwwhzhxGVAprjbg0gCAEeIgwCZyTV2Z1REEW8O4py0wsjeloKoMr6iCY6dP92H6Vw/oTyICIthibxjm/DfN9lVz8IqtqKYLUXfoKVMVQVVJOElGjrnnUt9T9wbgp8AyYKaGlqingHZU/uG2NTZSVqwHQTWkx9hxjkpWDaCg6Ckj5qebgBVbT3V3NNXMSiWSDdGV3hrtzla7J+duwPOToIg42ChPQOQjspnSlp1V+Gjdged7+8UN5CRAV7a5EdFNwCjEaBR27b3W890TE7g24NAP/mMDXRWrGoFPQI9ls/MWO2dWFAar/xcOIImbbpA3zgAAAABJRU5ErkJggg==);\n",
       "        }\n",
       "    </style>\n",
       "    <div>\n",
       "        <a href=\"https://bokeh.org\" target=\"_blank\" class=\"bk-notebook-logo\"></a>\n",
       "        <span id=\"p1001\">Loading BokehJS ...</span>\n",
       "    </div>\n"
      ]
     },
     "metadata": {},
     "output_type": "display_data"
    },
    {
     "data": {
      "application/javascript": "(function(root) {\n  function now() {\n    return new Date();\n  }\n\n  const force = true;\n\n  if (typeof root._bokeh_onload_callbacks === \"undefined\" || force === true) {\n    root._bokeh_onload_callbacks = [];\n    root._bokeh_is_loading = undefined;\n  }\n\nconst JS_MIME_TYPE = 'application/javascript';\n  const HTML_MIME_TYPE = 'text/html';\n  const EXEC_MIME_TYPE = 'application/vnd.bokehjs_exec.v0+json';\n  const CLASS_NAME = 'output_bokeh rendered_html';\n\n  /**\n   * Render data to the DOM node\n   */\n  function render(props, node) {\n    const script = document.createElement(\"script\");\n    node.appendChild(script);\n  }\n\n  /**\n   * Handle when an output is cleared or removed\n   */\n  function handleClearOutput(event, handle) {\n    const cell = handle.cell;\n\n    const id = cell.output_area._bokeh_element_id;\n    const server_id = cell.output_area._bokeh_server_id;\n    // Clean up Bokeh references\n    if (id != null && id in Bokeh.index) {\n      Bokeh.index[id].model.document.clear();\n      delete Bokeh.index[id];\n    }\n\n    if (server_id !== undefined) {\n      // Clean up Bokeh references\n      const cmd_clean = \"from bokeh.io.state import curstate; print(curstate().uuid_to_server['\" + server_id + \"'].get_sessions()[0].document.roots[0]._id)\";\n      cell.notebook.kernel.execute(cmd_clean, {\n        iopub: {\n          output: function(msg) {\n            const id = msg.content.text.trim();\n            if (id in Bokeh.index) {\n              Bokeh.index[id].model.document.clear();\n              delete Bokeh.index[id];\n            }\n          }\n        }\n      });\n      // Destroy server and session\n      const cmd_destroy = \"import bokeh.io.notebook as ion; ion.destroy_server('\" + server_id + \"')\";\n      cell.notebook.kernel.execute(cmd_destroy);\n    }\n  }\n\n  /**\n   * Handle when a new output is added\n   */\n  function handleAddOutput(event, handle) {\n    const output_area = handle.output_area;\n    const output = handle.output;\n\n    // limit handleAddOutput to display_data with EXEC_MIME_TYPE content only\n    if ((output.output_type != \"display_data\") || (!Object.prototype.hasOwnProperty.call(output.data, EXEC_MIME_TYPE))) {\n      return\n    }\n\n    const toinsert = output_area.element.find(\".\" + CLASS_NAME.split(' ')[0]);\n\n    if (output.metadata[EXEC_MIME_TYPE][\"id\"] !== undefined) {\n      toinsert[toinsert.length - 1].firstChild.textContent = output.data[JS_MIME_TYPE];\n      // store reference to embed id on output_area\n      output_area._bokeh_element_id = output.metadata[EXEC_MIME_TYPE][\"id\"];\n    }\n    if (output.metadata[EXEC_MIME_TYPE][\"server_id\"] !== undefined) {\n      const bk_div = document.createElement(\"div\");\n      bk_div.innerHTML = output.data[HTML_MIME_TYPE];\n      const script_attrs = bk_div.children[0].attributes;\n      for (let i = 0; i < script_attrs.length; i++) {\n        toinsert[toinsert.length - 1].firstChild.setAttribute(script_attrs[i].name, script_attrs[i].value);\n        toinsert[toinsert.length - 1].firstChild.textContent = bk_div.children[0].textContent\n      }\n      // store reference to server id on output_area\n      output_area._bokeh_server_id = output.metadata[EXEC_MIME_TYPE][\"server_id\"];\n    }\n  }\n\n  function register_renderer(events, OutputArea) {\n\n    function append_mime(data, metadata, element) {\n      // create a DOM node to render to\n      const toinsert = this.create_output_subarea(\n        metadata,\n        CLASS_NAME,\n        EXEC_MIME_TYPE\n      );\n      this.keyboard_manager.register_events(toinsert);\n      // Render to node\n      const props = {data: data, metadata: metadata[EXEC_MIME_TYPE]};\n      render(props, toinsert[toinsert.length - 1]);\n      element.append(toinsert);\n      return toinsert\n    }\n\n    /* Handle when an output is cleared or removed */\n    events.on('clear_output.CodeCell', handleClearOutput);\n    events.on('delete.Cell', handleClearOutput);\n\n    /* Handle when a new output is added */\n    events.on('output_added.OutputArea', handleAddOutput);\n\n    /**\n     * Register the mime type and append_mime function with output_area\n     */\n    OutputArea.prototype.register_mime_type(EXEC_MIME_TYPE, append_mime, {\n      /* Is output safe? */\n      safe: true,\n      /* Index of renderer in `output_area.display_order` */\n      index: 0\n    });\n  }\n\n  // register the mime type if in Jupyter Notebook environment and previously unregistered\n  if (root.Jupyter !== undefined) {\n    const events = require('base/js/events');\n    const OutputArea = require('notebook/js/outputarea').OutputArea;\n\n    if (OutputArea.prototype.mime_types().indexOf(EXEC_MIME_TYPE) == -1) {\n      register_renderer(events, OutputArea);\n    }\n  }\n  if (typeof (root._bokeh_timeout) === \"undefined\" || force === true) {\n    root._bokeh_timeout = Date.now() + 5000;\n    root._bokeh_failed_load = false;\n  }\n\n  const NB_LOAD_WARNING = {'data': {'text/html':\n     \"<div style='background-color: #fdd'>\\n\"+\n     \"<p>\\n\"+\n     \"BokehJS does not appear to have successfully loaded. If loading BokehJS from CDN, this \\n\"+\n     \"may be due to a slow or bad network connection. Possible fixes:\\n\"+\n     \"</p>\\n\"+\n     \"<ul>\\n\"+\n     \"<li>re-rerun `output_notebook()` to attempt to load from CDN again, or</li>\\n\"+\n     \"<li>use INLINE resources instead, as so:</li>\\n\"+\n     \"</ul>\\n\"+\n     \"<code>\\n\"+\n     \"from bokeh.resources import INLINE\\n\"+\n     \"output_notebook(resources=INLINE)\\n\"+\n     \"</code>\\n\"+\n     \"</div>\"}};\n\n  function display_loaded() {\n    const el = document.getElementById(\"p1001\");\n    if (el != null) {\n      el.textContent = \"BokehJS is loading...\";\n    }\n    if (root.Bokeh !== undefined) {\n      if (el != null) {\n        el.textContent = \"BokehJS \" + root.Bokeh.version + \" successfully loaded.\";\n      }\n    } else if (Date.now() < root._bokeh_timeout) {\n      setTimeout(display_loaded, 100)\n    }\n  }\n\n  function run_callbacks() {\n    try {\n      root._bokeh_onload_callbacks.forEach(function(callback) {\n        if (callback != null)\n          callback();\n      });\n    } finally {\n      delete root._bokeh_onload_callbacks\n    }\n    console.debug(\"Bokeh: all callbacks have finished\");\n  }\n\n  function load_libs(css_urls, js_urls, callback) {\n    if (css_urls == null) css_urls = [];\n    if (js_urls == null) js_urls = [];\n\n    root._bokeh_onload_callbacks.push(callback);\n    if (root._bokeh_is_loading > 0) {\n      console.debug(\"Bokeh: BokehJS is being loaded, scheduling callback at\", now());\n      return null;\n    }\n    if (js_urls == null || js_urls.length === 0) {\n      run_callbacks();\n      return null;\n    }\n    console.debug(\"Bokeh: BokehJS not loaded, scheduling load and callback at\", now());\n    root._bokeh_is_loading = css_urls.length + js_urls.length;\n\n    function on_load() {\n      root._bokeh_is_loading--;\n      if (root._bokeh_is_loading === 0) {\n        console.debug(\"Bokeh: all BokehJS libraries/stylesheets loaded\");\n        run_callbacks()\n      }\n    }\n\n    function on_error(url) {\n      console.error(\"failed to load \" + url);\n    }\n\n    for (let i = 0; i < css_urls.length; i++) {\n      const url = css_urls[i];\n      const element = document.createElement(\"link\");\n      element.onload = on_load;\n      element.onerror = on_error.bind(null, url);\n      element.rel = \"stylesheet\";\n      element.type = \"text/css\";\n      element.href = url;\n      console.debug(\"Bokeh: injecting link tag for BokehJS stylesheet: \", url);\n      document.body.appendChild(element);\n    }\n\n    for (let i = 0; i < js_urls.length; i++) {\n      const url = js_urls[i];\n      const element = document.createElement('script');\n      element.onload = on_load;\n      element.onerror = on_error.bind(null, url);\n      element.async = false;\n      element.src = url;\n      console.debug(\"Bokeh: injecting script tag for BokehJS library: \", url);\n      document.head.appendChild(element);\n    }\n  };\n\n  function inject_raw_css(css) {\n    const element = document.createElement(\"style\");\n    element.appendChild(document.createTextNode(css));\n    document.body.appendChild(element);\n  }\n\n  const js_urls = [\"https://cdn.bokeh.org/bokeh/release/bokeh-3.1.0.min.js\", \"https://cdn.bokeh.org/bokeh/release/bokeh-gl-3.1.0.min.js\", \"https://cdn.bokeh.org/bokeh/release/bokeh-widgets-3.1.0.min.js\", \"https://cdn.bokeh.org/bokeh/release/bokeh-tables-3.1.0.min.js\", \"https://cdn.bokeh.org/bokeh/release/bokeh-mathjax-3.1.0.min.js\"];\n  const css_urls = [];\n\n  const inline_js = [    function(Bokeh) {\n      Bokeh.set_log_level(\"info\");\n    },\nfunction(Bokeh) {\n    }\n  ];\n\n  function run_inline_js() {\n    if (root.Bokeh !== undefined || force === true) {\n          for (let i = 0; i < inline_js.length; i++) {\n      inline_js[i].call(root, root.Bokeh);\n    }\nif (force === true) {\n        display_loaded();\n      }} else if (Date.now() < root._bokeh_timeout) {\n      setTimeout(run_inline_js, 100);\n    } else if (!root._bokeh_failed_load) {\n      console.log(\"Bokeh: BokehJS failed to load within specified timeout.\");\n      root._bokeh_failed_load = true;\n    } else if (force !== true) {\n      const cell = $(document.getElementById(\"p1001\")).parents('.cell').data().cell;\n      cell.output_area.append_execute_result(NB_LOAD_WARNING)\n    }\n  }\n\n  if (root._bokeh_is_loading === 0) {\n    console.debug(\"Bokeh: BokehJS loaded, going straight to plotting\");\n    run_inline_js();\n  } else {\n    load_libs(css_urls, js_urls, function() {\n      console.debug(\"Bokeh: BokehJS plotting callback run at\", now());\n      run_inline_js();\n    });\n  }\n}(window));",
      "application/vnd.bokehjs_load.v0+json": ""
     },
     "metadata": {},
     "output_type": "display_data"
    }
   ],
   "source": [
    "\n",
    "# Important imports\n",
    "from IPython.display import display     # tool for nicely displaying Pandas dataframes\n",
    "import math\n",
    "import pandas as pd\n",
    "import matplotlib.pyplot as plt\n",
    "import plotly.express as px\n",
    "from plotly.subplots import make_subplots\n",
    "import plotly.graph_objects as go\n",
    "import networkx as nx\n",
    "from bokeh.plotting import figure, show, from_networkx\n",
    "from bokeh.io import output_notebook\n",
    "\n",
    "output_notebook() # Initialize bokeh"
   ]
  },
  {
   "cell_type": "code",
   "execution_count": 7,
   "id": "680875f1",
   "metadata": {},
   "outputs": [],
   "source": [
    "# Add the data to pandas dataframes\n",
    "movie_df = pd.read_csv('./csv/movie.csv')\n",
    "genre_df = pd.read_csv('./csv/genre.csv')\n",
    "prod_company_df = pd.read_csv('./csv/prod_company.csv')\n",
    "cast_df = pd.read_csv('./csv/cast.csv')\n",
    "crew_df = pd.read_csv('./csv/crew.csv')\n",
    "person_df = pd.read_csv('./csv/person.csv')\n",
    "\n",
    "# person entries may contain duplicates since people could work on multiple movies, must be removed\n",
    "person_df.drop_duplicates(inplace=True)"
   ]
  },
  {
   "attachments": {},
   "cell_type": "markdown",
   "id": "0d72b3ee",
   "metadata": {},
   "source": [
    "### Movie Data\n",
    "\n",
    "The Movie dataframe contains mostly numeric information about each of Tarantino's movies. Let's take a look."
   ]
  },
  {
   "cell_type": "code",
   "execution_count": 8,
   "id": "0611bf12",
   "metadata": {},
   "outputs": [
    {
     "data": {
      "text/html": [
       "<div>\n",
       "<style scoped>\n",
       "    .dataframe tbody tr th:only-of-type {\n",
       "        vertical-align: middle;\n",
       "    }\n",
       "\n",
       "    .dataframe tbody tr th {\n",
       "        vertical-align: top;\n",
       "    }\n",
       "\n",
       "    .dataframe thead th {\n",
       "        text-align: right;\n",
       "    }\n",
       "</style>\n",
       "<table border=\"1\" class=\"dataframe\">\n",
       "  <thead>\n",
       "    <tr style=\"text-align: right;\">\n",
       "      <th></th>\n",
       "      <th>title</th>\n",
       "      <th>release_date</th>\n",
       "      <th>runtime</th>\n",
       "      <th>budget</th>\n",
       "      <th>adj_budget</th>\n",
       "      <th>revenue</th>\n",
       "      <th>adj_revenue</th>\n",
       "      <th>popularity</th>\n",
       "      <th>vote_count</th>\n",
       "      <th>vote_average</th>\n",
       "    </tr>\n",
       "  </thead>\n",
       "  <tbody>\n",
       "    <tr>\n",
       "      <th>0</th>\n",
       "      <td>Reservoir Dogs</td>\n",
       "      <td>1992-09-02</td>\n",
       "      <td>99</td>\n",
       "      <td>1200000</td>\n",
       "      <td>2540721</td>\n",
       "      <td>2859750</td>\n",
       "      <td>6054857</td>\n",
       "      <td>43.988</td>\n",
       "      <td>12753</td>\n",
       "      <td>8.141</td>\n",
       "    </tr>\n",
       "    <tr>\n",
       "      <th>1</th>\n",
       "      <td>Pulp Fiction</td>\n",
       "      <td>1994-09-10</td>\n",
       "      <td>154</td>\n",
       "      <td>8000000</td>\n",
       "      <td>16019812</td>\n",
       "      <td>214179088</td>\n",
       "      <td>428888606</td>\n",
       "      <td>69.434</td>\n",
       "      <td>24804</td>\n",
       "      <td>8.489</td>\n",
       "    </tr>\n",
       "    <tr>\n",
       "      <th>2</th>\n",
       "      <td>Four Rooms</td>\n",
       "      <td>1995-12-09</td>\n",
       "      <td>98</td>\n",
       "      <td>4000000</td>\n",
       "      <td>7795960</td>\n",
       "      <td>4257354</td>\n",
       "      <td>8297541</td>\n",
       "      <td>23.624</td>\n",
       "      <td>2327</td>\n",
       "      <td>5.742</td>\n",
       "    </tr>\n",
       "    <tr>\n",
       "      <th>3</th>\n",
       "      <td>Jackie Brown</td>\n",
       "      <td>1997-12-25</td>\n",
       "      <td>154</td>\n",
       "      <td>12000000</td>\n",
       "      <td>22256912</td>\n",
       "      <td>39673162</td>\n",
       "      <td>73583508</td>\n",
       "      <td>21.078</td>\n",
       "      <td>5607</td>\n",
       "      <td>7.352</td>\n",
       "    </tr>\n",
       "    <tr>\n",
       "      <th>4</th>\n",
       "      <td>Kill Bill: Vol. 1</td>\n",
       "      <td>2003-10-10</td>\n",
       "      <td>111</td>\n",
       "      <td>30000000</td>\n",
       "      <td>48514054</td>\n",
       "      <td>180906076</td>\n",
       "      <td>292549571</td>\n",
       "      <td>41.229</td>\n",
       "      <td>15565</td>\n",
       "      <td>8.000</td>\n",
       "    </tr>\n",
       "    <tr>\n",
       "      <th>5</th>\n",
       "      <td>Kill Bill: Vol. 2</td>\n",
       "      <td>2004-04-16</td>\n",
       "      <td>136</td>\n",
       "      <td>30000000</td>\n",
       "      <td>47739893</td>\n",
       "      <td>152159461</td>\n",
       "      <td>242135882</td>\n",
       "      <td>31.170</td>\n",
       "      <td>12437</td>\n",
       "      <td>7.878</td>\n",
       "    </tr>\n",
       "    <tr>\n",
       "      <th>6</th>\n",
       "      <td>Death Proof</td>\n",
       "      <td>2007-05-22</td>\n",
       "      <td>113</td>\n",
       "      <td>25000000</td>\n",
       "      <td>35966751</td>\n",
       "      <td>31126421</td>\n",
       "      <td>44780649</td>\n",
       "      <td>24.237</td>\n",
       "      <td>4450</td>\n",
       "      <td>6.819</td>\n",
       "    </tr>\n",
       "    <tr>\n",
       "      <th>7</th>\n",
       "      <td>Inglourious Basterds</td>\n",
       "      <td>2009-08-19</td>\n",
       "      <td>153</td>\n",
       "      <td>70000000</td>\n",
       "      <td>97027808</td>\n",
       "      <td>321457747</td>\n",
       "      <td>445576295</td>\n",
       "      <td>80.251</td>\n",
       "      <td>19910</td>\n",
       "      <td>8.212</td>\n",
       "    </tr>\n",
       "    <tr>\n",
       "      <th>8</th>\n",
       "      <td>Django Unchained</td>\n",
       "      <td>2012-12-25</td>\n",
       "      <td>165</td>\n",
       "      <td>100000000</td>\n",
       "      <td>130299955</td>\n",
       "      <td>425368238</td>\n",
       "      <td>554254623</td>\n",
       "      <td>67.358</td>\n",
       "      <td>23794</td>\n",
       "      <td>8.161</td>\n",
       "    </tr>\n",
       "    <tr>\n",
       "      <th>9</th>\n",
       "      <td>The Hateful Eight</td>\n",
       "      <td>2015-12-25</td>\n",
       "      <td>188</td>\n",
       "      <td>44000000</td>\n",
       "      <td>55653651</td>\n",
       "      <td>155760117</td>\n",
       "      <td>197014075</td>\n",
       "      <td>31.074</td>\n",
       "      <td>12818</td>\n",
       "      <td>7.700</td>\n",
       "    </tr>\n",
       "    <tr>\n",
       "      <th>10</th>\n",
       "      <td>Once Upon a Time… in Hollywood</td>\n",
       "      <td>2019-07-24</td>\n",
       "      <td>162</td>\n",
       "      <td>95000000</td>\n",
       "      <td>110773041</td>\n",
       "      <td>374251247</td>\n",
       "      <td>436388935</td>\n",
       "      <td>59.378</td>\n",
       "      <td>11580</td>\n",
       "      <td>7.434</td>\n",
       "    </tr>\n",
       "  </tbody>\n",
       "</table>\n",
       "</div>"
      ],
      "text/plain": [
       "                             title release_date  runtime     budget  \\\n",
       "0                   Reservoir Dogs   1992-09-02       99    1200000   \n",
       "1                     Pulp Fiction   1994-09-10      154    8000000   \n",
       "2                       Four Rooms   1995-12-09       98    4000000   \n",
       "3                     Jackie Brown   1997-12-25      154   12000000   \n",
       "4                Kill Bill: Vol. 1   2003-10-10      111   30000000   \n",
       "5                Kill Bill: Vol. 2   2004-04-16      136   30000000   \n",
       "6                      Death Proof   2007-05-22      113   25000000   \n",
       "7             Inglourious Basterds   2009-08-19      153   70000000   \n",
       "8                 Django Unchained   2012-12-25      165  100000000   \n",
       "9                The Hateful Eight   2015-12-25      188   44000000   \n",
       "10  Once Upon a Time… in Hollywood   2019-07-24      162   95000000   \n",
       "\n",
       "    adj_budget    revenue  adj_revenue  popularity  vote_count  vote_average  \n",
       "0      2540721    2859750      6054857      43.988       12753         8.141  \n",
       "1     16019812  214179088    428888606      69.434       24804         8.489  \n",
       "2      7795960    4257354      8297541      23.624        2327         5.742  \n",
       "3     22256912   39673162     73583508      21.078        5607         7.352  \n",
       "4     48514054  180906076    292549571      41.229       15565         8.000  \n",
       "5     47739893  152159461    242135882      31.170       12437         7.878  \n",
       "6     35966751   31126421     44780649      24.237        4450         6.819  \n",
       "7     97027808  321457747    445576295      80.251       19910         8.212  \n",
       "8    130299955  425368238    554254623      67.358       23794         8.161  \n",
       "9     55653651  155760117    197014075      31.074       12818         7.700  \n",
       "10   110773041  374251247    436388935      59.378       11580         7.434  "
      ]
     },
     "metadata": {},
     "output_type": "display_data"
    }
   ],
   "source": [
    "display(movie_df)"
   ]
  },
  {
   "attachments": {},
   "cell_type": "markdown",
   "id": "9d55cf2c",
   "metadata": {},
   "source": [
    "We can already see a wide variety of values for almost every column, let's examine some statistical information about each of them."
   ]
  },
  {
   "cell_type": "code",
   "execution_count": 9,
   "id": "dd55ec48",
   "metadata": {},
   "outputs": [
    {
     "data": {
      "text/html": [
       "<div>\n",
       "<style scoped>\n",
       "    .dataframe tbody tr th:only-of-type {\n",
       "        vertical-align: middle;\n",
       "    }\n",
       "\n",
       "    .dataframe tbody tr th {\n",
       "        vertical-align: top;\n",
       "    }\n",
       "\n",
       "    .dataframe thead th {\n",
       "        text-align: right;\n",
       "    }\n",
       "</style>\n",
       "<table border=\"1\" class=\"dataframe\">\n",
       "  <thead>\n",
       "    <tr style=\"text-align: right;\">\n",
       "      <th></th>\n",
       "      <th>runtime</th>\n",
       "      <th>budget</th>\n",
       "      <th>adj_budget</th>\n",
       "      <th>revenue</th>\n",
       "      <th>adj_revenue</th>\n",
       "      <th>popularity</th>\n",
       "      <th>vote_count</th>\n",
       "      <th>vote_average</th>\n",
       "    </tr>\n",
       "  </thead>\n",
       "  <tbody>\n",
       "    <tr>\n",
       "      <th>count</th>\n",
       "      <td>11.000000</td>\n",
       "      <td>1.100000e+01</td>\n",
       "      <td>1.100000e+01</td>\n",
       "      <td>1.100000e+01</td>\n",
       "      <td>1.100000e+01</td>\n",
       "      <td>11.000000</td>\n",
       "      <td>11.000000</td>\n",
       "      <td>11.000000</td>\n",
       "    </tr>\n",
       "    <tr>\n",
       "      <th>mean</th>\n",
       "      <td>139.363636</td>\n",
       "      <td>3.810909e+07</td>\n",
       "      <td>5.223532e+07</td>\n",
       "      <td>1.729090e+08</td>\n",
       "      <td>2.481386e+08</td>\n",
       "      <td>44.801909</td>\n",
       "      <td>13276.818182</td>\n",
       "      <td>7.629818</td>\n",
       "    </tr>\n",
       "    <tr>\n",
       "      <th>std</th>\n",
       "      <td>30.000909</td>\n",
       "      <td>3.540637e+07</td>\n",
       "      <td>4.300256e+07</td>\n",
       "      <td>1.496820e+08</td>\n",
       "      <td>1.983360e+08</td>\n",
       "      <td>20.991840</td>\n",
       "      <td>7439.278498</td>\n",
       "      <td>0.784918</td>\n",
       "    </tr>\n",
       "    <tr>\n",
       "      <th>min</th>\n",
       "      <td>98.000000</td>\n",
       "      <td>1.200000e+06</td>\n",
       "      <td>2.540721e+06</td>\n",
       "      <td>2.859750e+06</td>\n",
       "      <td>6.054857e+06</td>\n",
       "      <td>21.078000</td>\n",
       "      <td>2327.000000</td>\n",
       "      <td>5.742000</td>\n",
       "    </tr>\n",
       "    <tr>\n",
       "      <th>25%</th>\n",
       "      <td>112.000000</td>\n",
       "      <td>1.000000e+07</td>\n",
       "      <td>1.913836e+07</td>\n",
       "      <td>3.539979e+07</td>\n",
       "      <td>5.918208e+07</td>\n",
       "      <td>27.655500</td>\n",
       "      <td>8593.500000</td>\n",
       "      <td>7.393000</td>\n",
       "    </tr>\n",
       "    <tr>\n",
       "      <th>50%</th>\n",
       "      <td>153.000000</td>\n",
       "      <td>3.000000e+07</td>\n",
       "      <td>4.773989e+07</td>\n",
       "      <td>1.557601e+08</td>\n",
       "      <td>2.421359e+08</td>\n",
       "      <td>41.229000</td>\n",
       "      <td>12753.000000</td>\n",
       "      <td>7.878000</td>\n",
       "    </tr>\n",
       "    <tr>\n",
       "      <th>75%</th>\n",
       "      <td>158.000000</td>\n",
       "      <td>5.700000e+07</td>\n",
       "      <td>7.634073e+07</td>\n",
       "      <td>2.678184e+08</td>\n",
       "      <td>4.326388e+08</td>\n",
       "      <td>63.368000</td>\n",
       "      <td>17737.500000</td>\n",
       "      <td>8.151000</td>\n",
       "    </tr>\n",
       "    <tr>\n",
       "      <th>max</th>\n",
       "      <td>188.000000</td>\n",
       "      <td>1.000000e+08</td>\n",
       "      <td>1.303000e+08</td>\n",
       "      <td>4.253682e+08</td>\n",
       "      <td>5.542546e+08</td>\n",
       "      <td>80.251000</td>\n",
       "      <td>24804.000000</td>\n",
       "      <td>8.489000</td>\n",
       "    </tr>\n",
       "  </tbody>\n",
       "</table>\n",
       "</div>"
      ],
      "text/plain": [
       "          runtime        budget    adj_budget       revenue   adj_revenue  \\\n",
       "count   11.000000  1.100000e+01  1.100000e+01  1.100000e+01  1.100000e+01   \n",
       "mean   139.363636  3.810909e+07  5.223532e+07  1.729090e+08  2.481386e+08   \n",
       "std     30.000909  3.540637e+07  4.300256e+07  1.496820e+08  1.983360e+08   \n",
       "min     98.000000  1.200000e+06  2.540721e+06  2.859750e+06  6.054857e+06   \n",
       "25%    112.000000  1.000000e+07  1.913836e+07  3.539979e+07  5.918208e+07   \n",
       "50%    153.000000  3.000000e+07  4.773989e+07  1.557601e+08  2.421359e+08   \n",
       "75%    158.000000  5.700000e+07  7.634073e+07  2.678184e+08  4.326388e+08   \n",
       "max    188.000000  1.000000e+08  1.303000e+08  4.253682e+08  5.542546e+08   \n",
       "\n",
       "       popularity    vote_count  vote_average  \n",
       "count   11.000000     11.000000     11.000000  \n",
       "mean    44.801909  13276.818182      7.629818  \n",
       "std     20.991840   7439.278498      0.784918  \n",
       "min     21.078000   2327.000000      5.742000  \n",
       "25%     27.655500   8593.500000      7.393000  \n",
       "50%     41.229000  12753.000000      7.878000  \n",
       "75%     63.368000  17737.500000      8.151000  \n",
       "max     80.251000  24804.000000      8.489000  "
      ]
     },
     "metadata": {},
     "output_type": "display_data"
    }
   ],
   "source": [
    "display(movie_df.describe())"
   ]
  },
  {
   "attachments": {},
   "cell_type": "markdown",
   "id": "b4776d45",
   "metadata": {},
   "source": [
    "With these statistics we can make some early observations:\n",
    "\n",
    "* Tarantino's films are generally profitable, with the mean adjusted revenue a whole order of magnitude above the mean adjusted budget.\n",
    "* Most of the standard deviations are high, showing the Tarantino works with a wide range of budgets and his films range in popularity and vote count on TMDB.\n",
    "* The one column with a low standard deviation is the vote average, showing that, with a mean vote average of 7.6, Tarantino's film consistently score fairly well with TMDB users.\n",
    "\n",
    "While statistics will give us information about individual columns, we are also interested in how the columns relate to each other. Let's make a pairplot, where each of the columns is plotted against each other. We will leave out unadjusted budget and revenue since they do not correlate will with the other measures based on more recent activity."
   ]
  },
  {
   "cell_type": "code",
   "execution_count": 10,
   "id": "b42ce875",
   "metadata": {},
   "outputs": [
    {
     "data": {
      "application/vnd.plotly.v1+json": {
       "config": {
        "plotlyServerURL": "https://plot.ly"
       },
       "data": [
        {
         "dimensions": [
          {
           "axis": {
            "matches": true
           },
           "label": "runtime",
           "values": [
            99,
            154,
            98,
            154,
            111,
            136,
            113,
            153,
            165,
            188,
            162
           ]
          },
          {
           "axis": {
            "matches": true
           },
           "label": "adj_budget",
           "values": [
            2540721,
            16019812,
            7795960,
            22256912,
            48514054,
            47739893,
            35966751,
            97027808,
            130299955,
            55653651,
            110773041
           ]
          },
          {
           "axis": {
            "matches": true
           },
           "label": "adj_revenue",
           "values": [
            6054857,
            428888606,
            8297541,
            73583508,
            292549571,
            242135882,
            44780649,
            445576295,
            554254623,
            197014075,
            436388935
           ]
          },
          {
           "axis": {
            "matches": true
           },
           "label": "popularity",
           "values": [
            43.988,
            69.434,
            23.624,
            21.078,
            41.229,
            31.17,
            24.237,
            80.251,
            67.358,
            31.074,
            59.378
           ]
          },
          {
           "axis": {
            "matches": true
           },
           "label": "vote_count",
           "values": [
            12753,
            24804,
            2327,
            5607,
            15565,
            12437,
            4450,
            19910,
            23794,
            12818,
            11580
           ]
          },
          {
           "axis": {
            "matches": true
           },
           "label": "vote_average",
           "values": [
            8.141,
            8.489,
            5.742,
            7.352,
            8,
            7.878,
            6.819,
            8.212,
            8.161,
            7.7,
            7.434
           ]
          }
         ],
         "hovertemplate": "%{xaxis.title.text}=%{x}<br>%{yaxis.title.text}=%{y}<extra></extra>",
         "legendgroup": "",
         "marker": {
          "color": "#636efa",
          "symbol": "circle"
         },
         "name": "",
         "showlegend": false,
         "type": "splom"
        }
       ],
       "layout": {
        "dragmode": "select",
        "height": 700,
        "legend": {
         "tracegroupgap": 0
        },
        "margin": {
         "b": 25,
         "l": 25,
         "r": 25,
         "t": 25
        },
        "template": {
         "data": {
          "bar": [
           {
            "error_x": {
             "color": "#2a3f5f"
            },
            "error_y": {
             "color": "#2a3f5f"
            },
            "marker": {
             "line": {
              "color": "#E5ECF6",
              "width": 0.5
             },
             "pattern": {
              "fillmode": "overlay",
              "size": 10,
              "solidity": 0.2
             }
            },
            "type": "bar"
           }
          ],
          "barpolar": [
           {
            "marker": {
             "line": {
              "color": "#E5ECF6",
              "width": 0.5
             },
             "pattern": {
              "fillmode": "overlay",
              "size": 10,
              "solidity": 0.2
             }
            },
            "type": "barpolar"
           }
          ],
          "carpet": [
           {
            "aaxis": {
             "endlinecolor": "#2a3f5f",
             "gridcolor": "white",
             "linecolor": "white",
             "minorgridcolor": "white",
             "startlinecolor": "#2a3f5f"
            },
            "baxis": {
             "endlinecolor": "#2a3f5f",
             "gridcolor": "white",
             "linecolor": "white",
             "minorgridcolor": "white",
             "startlinecolor": "#2a3f5f"
            },
            "type": "carpet"
           }
          ],
          "choropleth": [
           {
            "colorbar": {
             "outlinewidth": 0,
             "ticks": ""
            },
            "type": "choropleth"
           }
          ],
          "contour": [
           {
            "colorbar": {
             "outlinewidth": 0,
             "ticks": ""
            },
            "colorscale": [
             [
              0,
              "#0d0887"
             ],
             [
              0.1111111111111111,
              "#46039f"
             ],
             [
              0.2222222222222222,
              "#7201a8"
             ],
             [
              0.3333333333333333,
              "#9c179e"
             ],
             [
              0.4444444444444444,
              "#bd3786"
             ],
             [
              0.5555555555555556,
              "#d8576b"
             ],
             [
              0.6666666666666666,
              "#ed7953"
             ],
             [
              0.7777777777777778,
              "#fb9f3a"
             ],
             [
              0.8888888888888888,
              "#fdca26"
             ],
             [
              1,
              "#f0f921"
             ]
            ],
            "type": "contour"
           }
          ],
          "contourcarpet": [
           {
            "colorbar": {
             "outlinewidth": 0,
             "ticks": ""
            },
            "type": "contourcarpet"
           }
          ],
          "heatmap": [
           {
            "colorbar": {
             "outlinewidth": 0,
             "ticks": ""
            },
            "colorscale": [
             [
              0,
              "#0d0887"
             ],
             [
              0.1111111111111111,
              "#46039f"
             ],
             [
              0.2222222222222222,
              "#7201a8"
             ],
             [
              0.3333333333333333,
              "#9c179e"
             ],
             [
              0.4444444444444444,
              "#bd3786"
             ],
             [
              0.5555555555555556,
              "#d8576b"
             ],
             [
              0.6666666666666666,
              "#ed7953"
             ],
             [
              0.7777777777777778,
              "#fb9f3a"
             ],
             [
              0.8888888888888888,
              "#fdca26"
             ],
             [
              1,
              "#f0f921"
             ]
            ],
            "type": "heatmap"
           }
          ],
          "heatmapgl": [
           {
            "colorbar": {
             "outlinewidth": 0,
             "ticks": ""
            },
            "colorscale": [
             [
              0,
              "#0d0887"
             ],
             [
              0.1111111111111111,
              "#46039f"
             ],
             [
              0.2222222222222222,
              "#7201a8"
             ],
             [
              0.3333333333333333,
              "#9c179e"
             ],
             [
              0.4444444444444444,
              "#bd3786"
             ],
             [
              0.5555555555555556,
              "#d8576b"
             ],
             [
              0.6666666666666666,
              "#ed7953"
             ],
             [
              0.7777777777777778,
              "#fb9f3a"
             ],
             [
              0.8888888888888888,
              "#fdca26"
             ],
             [
              1,
              "#f0f921"
             ]
            ],
            "type": "heatmapgl"
           }
          ],
          "histogram": [
           {
            "marker": {
             "pattern": {
              "fillmode": "overlay",
              "size": 10,
              "solidity": 0.2
             }
            },
            "type": "histogram"
           }
          ],
          "histogram2d": [
           {
            "colorbar": {
             "outlinewidth": 0,
             "ticks": ""
            },
            "colorscale": [
             [
              0,
              "#0d0887"
             ],
             [
              0.1111111111111111,
              "#46039f"
             ],
             [
              0.2222222222222222,
              "#7201a8"
             ],
             [
              0.3333333333333333,
              "#9c179e"
             ],
             [
              0.4444444444444444,
              "#bd3786"
             ],
             [
              0.5555555555555556,
              "#d8576b"
             ],
             [
              0.6666666666666666,
              "#ed7953"
             ],
             [
              0.7777777777777778,
              "#fb9f3a"
             ],
             [
              0.8888888888888888,
              "#fdca26"
             ],
             [
              1,
              "#f0f921"
             ]
            ],
            "type": "histogram2d"
           }
          ],
          "histogram2dcontour": [
           {
            "colorbar": {
             "outlinewidth": 0,
             "ticks": ""
            },
            "colorscale": [
             [
              0,
              "#0d0887"
             ],
             [
              0.1111111111111111,
              "#46039f"
             ],
             [
              0.2222222222222222,
              "#7201a8"
             ],
             [
              0.3333333333333333,
              "#9c179e"
             ],
             [
              0.4444444444444444,
              "#bd3786"
             ],
             [
              0.5555555555555556,
              "#d8576b"
             ],
             [
              0.6666666666666666,
              "#ed7953"
             ],
             [
              0.7777777777777778,
              "#fb9f3a"
             ],
             [
              0.8888888888888888,
              "#fdca26"
             ],
             [
              1,
              "#f0f921"
             ]
            ],
            "type": "histogram2dcontour"
           }
          ],
          "mesh3d": [
           {
            "colorbar": {
             "outlinewidth": 0,
             "ticks": ""
            },
            "type": "mesh3d"
           }
          ],
          "parcoords": [
           {
            "line": {
             "colorbar": {
              "outlinewidth": 0,
              "ticks": ""
             }
            },
            "type": "parcoords"
           }
          ],
          "pie": [
           {
            "automargin": true,
            "type": "pie"
           }
          ],
          "scatter": [
           {
            "fillpattern": {
             "fillmode": "overlay",
             "size": 10,
             "solidity": 0.2
            },
            "type": "scatter"
           }
          ],
          "scatter3d": [
           {
            "line": {
             "colorbar": {
              "outlinewidth": 0,
              "ticks": ""
             }
            },
            "marker": {
             "colorbar": {
              "outlinewidth": 0,
              "ticks": ""
             }
            },
            "type": "scatter3d"
           }
          ],
          "scattercarpet": [
           {
            "marker": {
             "colorbar": {
              "outlinewidth": 0,
              "ticks": ""
             }
            },
            "type": "scattercarpet"
           }
          ],
          "scattergeo": [
           {
            "marker": {
             "colorbar": {
              "outlinewidth": 0,
              "ticks": ""
             }
            },
            "type": "scattergeo"
           }
          ],
          "scattergl": [
           {
            "marker": {
             "colorbar": {
              "outlinewidth": 0,
              "ticks": ""
             }
            },
            "type": "scattergl"
           }
          ],
          "scattermapbox": [
           {
            "marker": {
             "colorbar": {
              "outlinewidth": 0,
              "ticks": ""
             }
            },
            "type": "scattermapbox"
           }
          ],
          "scatterpolar": [
           {
            "marker": {
             "colorbar": {
              "outlinewidth": 0,
              "ticks": ""
             }
            },
            "type": "scatterpolar"
           }
          ],
          "scatterpolargl": [
           {
            "marker": {
             "colorbar": {
              "outlinewidth": 0,
              "ticks": ""
             }
            },
            "type": "scatterpolargl"
           }
          ],
          "scatterternary": [
           {
            "marker": {
             "colorbar": {
              "outlinewidth": 0,
              "ticks": ""
             }
            },
            "type": "scatterternary"
           }
          ],
          "surface": [
           {
            "colorbar": {
             "outlinewidth": 0,
             "ticks": ""
            },
            "colorscale": [
             [
              0,
              "#0d0887"
             ],
             [
              0.1111111111111111,
              "#46039f"
             ],
             [
              0.2222222222222222,
              "#7201a8"
             ],
             [
              0.3333333333333333,
              "#9c179e"
             ],
             [
              0.4444444444444444,
              "#bd3786"
             ],
             [
              0.5555555555555556,
              "#d8576b"
             ],
             [
              0.6666666666666666,
              "#ed7953"
             ],
             [
              0.7777777777777778,
              "#fb9f3a"
             ],
             [
              0.8888888888888888,
              "#fdca26"
             ],
             [
              1,
              "#f0f921"
             ]
            ],
            "type": "surface"
           }
          ],
          "table": [
           {
            "cells": {
             "fill": {
              "color": "#EBF0F8"
             },
             "line": {
              "color": "white"
             }
            },
            "header": {
             "fill": {
              "color": "#C8D4E3"
             },
             "line": {
              "color": "white"
             }
            },
            "type": "table"
           }
          ]
         },
         "layout": {
          "annotationdefaults": {
           "arrowcolor": "#2a3f5f",
           "arrowhead": 0,
           "arrowwidth": 1
          },
          "autotypenumbers": "strict",
          "coloraxis": {
           "colorbar": {
            "outlinewidth": 0,
            "ticks": ""
           }
          },
          "colorscale": {
           "diverging": [
            [
             0,
             "#8e0152"
            ],
            [
             0.1,
             "#c51b7d"
            ],
            [
             0.2,
             "#de77ae"
            ],
            [
             0.3,
             "#f1b6da"
            ],
            [
             0.4,
             "#fde0ef"
            ],
            [
             0.5,
             "#f7f7f7"
            ],
            [
             0.6,
             "#e6f5d0"
            ],
            [
             0.7,
             "#b8e186"
            ],
            [
             0.8,
             "#7fbc41"
            ],
            [
             0.9,
             "#4d9221"
            ],
            [
             1,
             "#276419"
            ]
           ],
           "sequential": [
            [
             0,
             "#0d0887"
            ],
            [
             0.1111111111111111,
             "#46039f"
            ],
            [
             0.2222222222222222,
             "#7201a8"
            ],
            [
             0.3333333333333333,
             "#9c179e"
            ],
            [
             0.4444444444444444,
             "#bd3786"
            ],
            [
             0.5555555555555556,
             "#d8576b"
            ],
            [
             0.6666666666666666,
             "#ed7953"
            ],
            [
             0.7777777777777778,
             "#fb9f3a"
            ],
            [
             0.8888888888888888,
             "#fdca26"
            ],
            [
             1,
             "#f0f921"
            ]
           ],
           "sequentialminus": [
            [
             0,
             "#0d0887"
            ],
            [
             0.1111111111111111,
             "#46039f"
            ],
            [
             0.2222222222222222,
             "#7201a8"
            ],
            [
             0.3333333333333333,
             "#9c179e"
            ],
            [
             0.4444444444444444,
             "#bd3786"
            ],
            [
             0.5555555555555556,
             "#d8576b"
            ],
            [
             0.6666666666666666,
             "#ed7953"
            ],
            [
             0.7777777777777778,
             "#fb9f3a"
            ],
            [
             0.8888888888888888,
             "#fdca26"
            ],
            [
             1,
             "#f0f921"
            ]
           ]
          },
          "colorway": [
           "#636efa",
           "#EF553B",
           "#00cc96",
           "#ab63fa",
           "#FFA15A",
           "#19d3f3",
           "#FF6692",
           "#B6E880",
           "#FF97FF",
           "#FECB52"
          ],
          "font": {
           "color": "#2a3f5f"
          },
          "geo": {
           "bgcolor": "white",
           "lakecolor": "white",
           "landcolor": "#E5ECF6",
           "showlakes": true,
           "showland": true,
           "subunitcolor": "white"
          },
          "hoverlabel": {
           "align": "left"
          },
          "hovermode": "closest",
          "mapbox": {
           "style": "light"
          },
          "paper_bgcolor": "white",
          "plot_bgcolor": "#E5ECF6",
          "polar": {
           "angularaxis": {
            "gridcolor": "white",
            "linecolor": "white",
            "ticks": ""
           },
           "bgcolor": "#E5ECF6",
           "radialaxis": {
            "gridcolor": "white",
            "linecolor": "white",
            "ticks": ""
           }
          },
          "scene": {
           "xaxis": {
            "backgroundcolor": "#E5ECF6",
            "gridcolor": "white",
            "gridwidth": 2,
            "linecolor": "white",
            "showbackground": true,
            "ticks": "",
            "zerolinecolor": "white"
           },
           "yaxis": {
            "backgroundcolor": "#E5ECF6",
            "gridcolor": "white",
            "gridwidth": 2,
            "linecolor": "white",
            "showbackground": true,
            "ticks": "",
            "zerolinecolor": "white"
           },
           "zaxis": {
            "backgroundcolor": "#E5ECF6",
            "gridcolor": "white",
            "gridwidth": 2,
            "linecolor": "white",
            "showbackground": true,
            "ticks": "",
            "zerolinecolor": "white"
           }
          },
          "shapedefaults": {
           "line": {
            "color": "#2a3f5f"
           }
          },
          "ternary": {
           "aaxis": {
            "gridcolor": "white",
            "linecolor": "white",
            "ticks": ""
           },
           "baxis": {
            "gridcolor": "white",
            "linecolor": "white",
            "ticks": ""
           },
           "bgcolor": "#E5ECF6",
           "caxis": {
            "gridcolor": "white",
            "linecolor": "white",
            "ticks": ""
           }
          },
          "title": {
           "x": 0.05
          },
          "xaxis": {
           "automargin": true,
           "gridcolor": "white",
           "linecolor": "white",
           "ticks": "",
           "title": {
            "standoff": 15
           },
           "zerolinecolor": "white",
           "zerolinewidth": 2
          },
          "yaxis": {
           "automargin": true,
           "gridcolor": "white",
           "linecolor": "white",
           "ticks": "",
           "title": {
            "standoff": 15
           },
           "zerolinecolor": "white",
           "zerolinewidth": 2
          }
         }
        },
        "width": 700
       }
      }
     },
     "metadata": {},
     "output_type": "display_data"
    }
   ],
   "source": [
    "fig = px.scatter_matrix(movie_df, dimensions=movie_df[['runtime', 'adj_budget', 'adj_revenue', 'popularity', 'vote_count', 'vote_average']],width=700, height=700)\n",
    "fig.update_layout(\n",
    "    margin={'l': 25, 'r': 25, 't': 25, 'b':25}\n",
    ")\n",
    "fig.show()"
   ]
  },
  {
   "attachments": {},
   "cell_type": "markdown",
   "id": "a36b214c",
   "metadata": {},
   "source": [
    "These plots reveal some more interesting observations:\n",
    "\n",
    "* There seems to be some relationship between adjusted revenue and almost every other column.\n",
    "* Runtime does not seem to have a relationship with any other column.\n",
    "* There seems to be a close, non-linear relationship between vote count and vote average.\n",
    "* Popularity is perhaps less closely related to vote count and vote average than expected."
   ]
  },
  {
   "attachments": {},
   "cell_type": "markdown",
   "id": "f98db03c",
   "metadata": {},
   "source": [
    "In addition to the numeric data, there is also genre data for each film. A histogram can be used to examine the genres that Tarantino favors."
   ]
  },
  {
   "cell_type": "code",
   "execution_count": 11,
   "id": "300ef988",
   "metadata": {},
   "outputs": [
    {
     "data": {
      "text/html": [
       "<div>\n",
       "<style scoped>\n",
       "    .dataframe tbody tr th:only-of-type {\n",
       "        vertical-align: middle;\n",
       "    }\n",
       "\n",
       "    .dataframe tbody tr th {\n",
       "        vertical-align: top;\n",
       "    }\n",
       "\n",
       "    .dataframe thead th {\n",
       "        text-align: right;\n",
       "    }\n",
       "</style>\n",
       "<table border=\"1\" class=\"dataframe\">\n",
       "  <thead>\n",
       "    <tr style=\"text-align: right;\">\n",
       "      <th></th>\n",
       "      <th>title</th>\n",
       "      <th>genre</th>\n",
       "    </tr>\n",
       "  </thead>\n",
       "  <tbody>\n",
       "    <tr>\n",
       "      <th>count</th>\n",
       "      <td>27</td>\n",
       "      <td>27</td>\n",
       "    </tr>\n",
       "    <tr>\n",
       "      <th>unique</th>\n",
       "      <td>11</td>\n",
       "      <td>8</td>\n",
       "    </tr>\n",
       "    <tr>\n",
       "      <th>top</th>\n",
       "      <td>Jackie Brown</td>\n",
       "      <td>Thriller</td>\n",
       "    </tr>\n",
       "    <tr>\n",
       "      <th>freq</th>\n",
       "      <td>3</td>\n",
       "      <td>7</td>\n",
       "    </tr>\n",
       "  </tbody>\n",
       "</table>\n",
       "</div>"
      ],
      "text/plain": [
       "               title     genre\n",
       "count             27        27\n",
       "unique            11         8\n",
       "top     Jackie Brown  Thriller\n",
       "freq               3         7"
      ]
     },
     "metadata": {},
     "output_type": "display_data"
    },
    {
     "data": {
      "application/vnd.plotly.v1+json": {
       "config": {
        "plotlyServerURL": "https://plot.ly"
       },
       "data": [
        {
         "alignmentgroup": "True",
         "bingroup": "x",
         "hovertemplate": "genre=%{x}<br>count=%{y}<extra></extra>",
         "legendgroup": "",
         "marker": {
          "color": "#636efa",
          "pattern": {
           "shape": ""
          }
         },
         "name": "",
         "offsetgroup": "",
         "orientation": "v",
         "showlegend": false,
         "type": "histogram",
         "x": [
          "Crime",
          "Thriller",
          "Thriller",
          "Crime",
          "Crime",
          "Comedy",
          "Crime",
          "Thriller",
          "Drama",
          "Action",
          "Crime",
          "Action",
          "Crime",
          "Thriller",
          "Action",
          "Thriller",
          "Drama",
          "Thriller",
          "War",
          "Drama",
          "Western",
          "Drama",
          "Mystery",
          "Western",
          "Comedy",
          "Drama",
          "Thriller"
         ],
         "xaxis": "x",
         "yaxis": "y"
        }
       ],
       "layout": {
        "barmode": "relative",
        "height": 400,
        "legend": {
         "tracegroupgap": 0
        },
        "margin": {
         "b": 25,
         "l": 25,
         "r": 25,
         "t": 25
        },
        "template": {
         "data": {
          "bar": [
           {
            "error_x": {
             "color": "#2a3f5f"
            },
            "error_y": {
             "color": "#2a3f5f"
            },
            "marker": {
             "line": {
              "color": "#E5ECF6",
              "width": 0.5
             },
             "pattern": {
              "fillmode": "overlay",
              "size": 10,
              "solidity": 0.2
             }
            },
            "type": "bar"
           }
          ],
          "barpolar": [
           {
            "marker": {
             "line": {
              "color": "#E5ECF6",
              "width": 0.5
             },
             "pattern": {
              "fillmode": "overlay",
              "size": 10,
              "solidity": 0.2
             }
            },
            "type": "barpolar"
           }
          ],
          "carpet": [
           {
            "aaxis": {
             "endlinecolor": "#2a3f5f",
             "gridcolor": "white",
             "linecolor": "white",
             "minorgridcolor": "white",
             "startlinecolor": "#2a3f5f"
            },
            "baxis": {
             "endlinecolor": "#2a3f5f",
             "gridcolor": "white",
             "linecolor": "white",
             "minorgridcolor": "white",
             "startlinecolor": "#2a3f5f"
            },
            "type": "carpet"
           }
          ],
          "choropleth": [
           {
            "colorbar": {
             "outlinewidth": 0,
             "ticks": ""
            },
            "type": "choropleth"
           }
          ],
          "contour": [
           {
            "colorbar": {
             "outlinewidth": 0,
             "ticks": ""
            },
            "colorscale": [
             [
              0,
              "#0d0887"
             ],
             [
              0.1111111111111111,
              "#46039f"
             ],
             [
              0.2222222222222222,
              "#7201a8"
             ],
             [
              0.3333333333333333,
              "#9c179e"
             ],
             [
              0.4444444444444444,
              "#bd3786"
             ],
             [
              0.5555555555555556,
              "#d8576b"
             ],
             [
              0.6666666666666666,
              "#ed7953"
             ],
             [
              0.7777777777777778,
              "#fb9f3a"
             ],
             [
              0.8888888888888888,
              "#fdca26"
             ],
             [
              1,
              "#f0f921"
             ]
            ],
            "type": "contour"
           }
          ],
          "contourcarpet": [
           {
            "colorbar": {
             "outlinewidth": 0,
             "ticks": ""
            },
            "type": "contourcarpet"
           }
          ],
          "heatmap": [
           {
            "colorbar": {
             "outlinewidth": 0,
             "ticks": ""
            },
            "colorscale": [
             [
              0,
              "#0d0887"
             ],
             [
              0.1111111111111111,
              "#46039f"
             ],
             [
              0.2222222222222222,
              "#7201a8"
             ],
             [
              0.3333333333333333,
              "#9c179e"
             ],
             [
              0.4444444444444444,
              "#bd3786"
             ],
             [
              0.5555555555555556,
              "#d8576b"
             ],
             [
              0.6666666666666666,
              "#ed7953"
             ],
             [
              0.7777777777777778,
              "#fb9f3a"
             ],
             [
              0.8888888888888888,
              "#fdca26"
             ],
             [
              1,
              "#f0f921"
             ]
            ],
            "type": "heatmap"
           }
          ],
          "heatmapgl": [
           {
            "colorbar": {
             "outlinewidth": 0,
             "ticks": ""
            },
            "colorscale": [
             [
              0,
              "#0d0887"
             ],
             [
              0.1111111111111111,
              "#46039f"
             ],
             [
              0.2222222222222222,
              "#7201a8"
             ],
             [
              0.3333333333333333,
              "#9c179e"
             ],
             [
              0.4444444444444444,
              "#bd3786"
             ],
             [
              0.5555555555555556,
              "#d8576b"
             ],
             [
              0.6666666666666666,
              "#ed7953"
             ],
             [
              0.7777777777777778,
              "#fb9f3a"
             ],
             [
              0.8888888888888888,
              "#fdca26"
             ],
             [
              1,
              "#f0f921"
             ]
            ],
            "type": "heatmapgl"
           }
          ],
          "histogram": [
           {
            "marker": {
             "pattern": {
              "fillmode": "overlay",
              "size": 10,
              "solidity": 0.2
             }
            },
            "type": "histogram"
           }
          ],
          "histogram2d": [
           {
            "colorbar": {
             "outlinewidth": 0,
             "ticks": ""
            },
            "colorscale": [
             [
              0,
              "#0d0887"
             ],
             [
              0.1111111111111111,
              "#46039f"
             ],
             [
              0.2222222222222222,
              "#7201a8"
             ],
             [
              0.3333333333333333,
              "#9c179e"
             ],
             [
              0.4444444444444444,
              "#bd3786"
             ],
             [
              0.5555555555555556,
              "#d8576b"
             ],
             [
              0.6666666666666666,
              "#ed7953"
             ],
             [
              0.7777777777777778,
              "#fb9f3a"
             ],
             [
              0.8888888888888888,
              "#fdca26"
             ],
             [
              1,
              "#f0f921"
             ]
            ],
            "type": "histogram2d"
           }
          ],
          "histogram2dcontour": [
           {
            "colorbar": {
             "outlinewidth": 0,
             "ticks": ""
            },
            "colorscale": [
             [
              0,
              "#0d0887"
             ],
             [
              0.1111111111111111,
              "#46039f"
             ],
             [
              0.2222222222222222,
              "#7201a8"
             ],
             [
              0.3333333333333333,
              "#9c179e"
             ],
             [
              0.4444444444444444,
              "#bd3786"
             ],
             [
              0.5555555555555556,
              "#d8576b"
             ],
             [
              0.6666666666666666,
              "#ed7953"
             ],
             [
              0.7777777777777778,
              "#fb9f3a"
             ],
             [
              0.8888888888888888,
              "#fdca26"
             ],
             [
              1,
              "#f0f921"
             ]
            ],
            "type": "histogram2dcontour"
           }
          ],
          "mesh3d": [
           {
            "colorbar": {
             "outlinewidth": 0,
             "ticks": ""
            },
            "type": "mesh3d"
           }
          ],
          "parcoords": [
           {
            "line": {
             "colorbar": {
              "outlinewidth": 0,
              "ticks": ""
             }
            },
            "type": "parcoords"
           }
          ],
          "pie": [
           {
            "automargin": true,
            "type": "pie"
           }
          ],
          "scatter": [
           {
            "fillpattern": {
             "fillmode": "overlay",
             "size": 10,
             "solidity": 0.2
            },
            "type": "scatter"
           }
          ],
          "scatter3d": [
           {
            "line": {
             "colorbar": {
              "outlinewidth": 0,
              "ticks": ""
             }
            },
            "marker": {
             "colorbar": {
              "outlinewidth": 0,
              "ticks": ""
             }
            },
            "type": "scatter3d"
           }
          ],
          "scattercarpet": [
           {
            "marker": {
             "colorbar": {
              "outlinewidth": 0,
              "ticks": ""
             }
            },
            "type": "scattercarpet"
           }
          ],
          "scattergeo": [
           {
            "marker": {
             "colorbar": {
              "outlinewidth": 0,
              "ticks": ""
             }
            },
            "type": "scattergeo"
           }
          ],
          "scattergl": [
           {
            "marker": {
             "colorbar": {
              "outlinewidth": 0,
              "ticks": ""
             }
            },
            "type": "scattergl"
           }
          ],
          "scattermapbox": [
           {
            "marker": {
             "colorbar": {
              "outlinewidth": 0,
              "ticks": ""
             }
            },
            "type": "scattermapbox"
           }
          ],
          "scatterpolar": [
           {
            "marker": {
             "colorbar": {
              "outlinewidth": 0,
              "ticks": ""
             }
            },
            "type": "scatterpolar"
           }
          ],
          "scatterpolargl": [
           {
            "marker": {
             "colorbar": {
              "outlinewidth": 0,
              "ticks": ""
             }
            },
            "type": "scatterpolargl"
           }
          ],
          "scatterternary": [
           {
            "marker": {
             "colorbar": {
              "outlinewidth": 0,
              "ticks": ""
             }
            },
            "type": "scatterternary"
           }
          ],
          "surface": [
           {
            "colorbar": {
             "outlinewidth": 0,
             "ticks": ""
            },
            "colorscale": [
             [
              0,
              "#0d0887"
             ],
             [
              0.1111111111111111,
              "#46039f"
             ],
             [
              0.2222222222222222,
              "#7201a8"
             ],
             [
              0.3333333333333333,
              "#9c179e"
             ],
             [
              0.4444444444444444,
              "#bd3786"
             ],
             [
              0.5555555555555556,
              "#d8576b"
             ],
             [
              0.6666666666666666,
              "#ed7953"
             ],
             [
              0.7777777777777778,
              "#fb9f3a"
             ],
             [
              0.8888888888888888,
              "#fdca26"
             ],
             [
              1,
              "#f0f921"
             ]
            ],
            "type": "surface"
           }
          ],
          "table": [
           {
            "cells": {
             "fill": {
              "color": "#EBF0F8"
             },
             "line": {
              "color": "white"
             }
            },
            "header": {
             "fill": {
              "color": "#C8D4E3"
             },
             "line": {
              "color": "white"
             }
            },
            "type": "table"
           }
          ]
         },
         "layout": {
          "annotationdefaults": {
           "arrowcolor": "#2a3f5f",
           "arrowhead": 0,
           "arrowwidth": 1
          },
          "autotypenumbers": "strict",
          "coloraxis": {
           "colorbar": {
            "outlinewidth": 0,
            "ticks": ""
           }
          },
          "colorscale": {
           "diverging": [
            [
             0,
             "#8e0152"
            ],
            [
             0.1,
             "#c51b7d"
            ],
            [
             0.2,
             "#de77ae"
            ],
            [
             0.3,
             "#f1b6da"
            ],
            [
             0.4,
             "#fde0ef"
            ],
            [
             0.5,
             "#f7f7f7"
            ],
            [
             0.6,
             "#e6f5d0"
            ],
            [
             0.7,
             "#b8e186"
            ],
            [
             0.8,
             "#7fbc41"
            ],
            [
             0.9,
             "#4d9221"
            ],
            [
             1,
             "#276419"
            ]
           ],
           "sequential": [
            [
             0,
             "#0d0887"
            ],
            [
             0.1111111111111111,
             "#46039f"
            ],
            [
             0.2222222222222222,
             "#7201a8"
            ],
            [
             0.3333333333333333,
             "#9c179e"
            ],
            [
             0.4444444444444444,
             "#bd3786"
            ],
            [
             0.5555555555555556,
             "#d8576b"
            ],
            [
             0.6666666666666666,
             "#ed7953"
            ],
            [
             0.7777777777777778,
             "#fb9f3a"
            ],
            [
             0.8888888888888888,
             "#fdca26"
            ],
            [
             1,
             "#f0f921"
            ]
           ],
           "sequentialminus": [
            [
             0,
             "#0d0887"
            ],
            [
             0.1111111111111111,
             "#46039f"
            ],
            [
             0.2222222222222222,
             "#7201a8"
            ],
            [
             0.3333333333333333,
             "#9c179e"
            ],
            [
             0.4444444444444444,
             "#bd3786"
            ],
            [
             0.5555555555555556,
             "#d8576b"
            ],
            [
             0.6666666666666666,
             "#ed7953"
            ],
            [
             0.7777777777777778,
             "#fb9f3a"
            ],
            [
             0.8888888888888888,
             "#fdca26"
            ],
            [
             1,
             "#f0f921"
            ]
           ]
          },
          "colorway": [
           "#636efa",
           "#EF553B",
           "#00cc96",
           "#ab63fa",
           "#FFA15A",
           "#19d3f3",
           "#FF6692",
           "#B6E880",
           "#FF97FF",
           "#FECB52"
          ],
          "font": {
           "color": "#2a3f5f"
          },
          "geo": {
           "bgcolor": "white",
           "lakecolor": "white",
           "landcolor": "#E5ECF6",
           "showlakes": true,
           "showland": true,
           "subunitcolor": "white"
          },
          "hoverlabel": {
           "align": "left"
          },
          "hovermode": "closest",
          "mapbox": {
           "style": "light"
          },
          "paper_bgcolor": "white",
          "plot_bgcolor": "#E5ECF6",
          "polar": {
           "angularaxis": {
            "gridcolor": "white",
            "linecolor": "white",
            "ticks": ""
           },
           "bgcolor": "#E5ECF6",
           "radialaxis": {
            "gridcolor": "white",
            "linecolor": "white",
            "ticks": ""
           }
          },
          "scene": {
           "xaxis": {
            "backgroundcolor": "#E5ECF6",
            "gridcolor": "white",
            "gridwidth": 2,
            "linecolor": "white",
            "showbackground": true,
            "ticks": "",
            "zerolinecolor": "white"
           },
           "yaxis": {
            "backgroundcolor": "#E5ECF6",
            "gridcolor": "white",
            "gridwidth": 2,
            "linecolor": "white",
            "showbackground": true,
            "ticks": "",
            "zerolinecolor": "white"
           },
           "zaxis": {
            "backgroundcolor": "#E5ECF6",
            "gridcolor": "white",
            "gridwidth": 2,
            "linecolor": "white",
            "showbackground": true,
            "ticks": "",
            "zerolinecolor": "white"
           }
          },
          "shapedefaults": {
           "line": {
            "color": "#2a3f5f"
           }
          },
          "ternary": {
           "aaxis": {
            "gridcolor": "white",
            "linecolor": "white",
            "ticks": ""
           },
           "baxis": {
            "gridcolor": "white",
            "linecolor": "white",
            "ticks": ""
           },
           "bgcolor": "#E5ECF6",
           "caxis": {
            "gridcolor": "white",
            "linecolor": "white",
            "ticks": ""
           }
          },
          "title": {
           "x": 0.05
          },
          "xaxis": {
           "automargin": true,
           "gridcolor": "white",
           "linecolor": "white",
           "ticks": "",
           "title": {
            "standoff": 15
           },
           "zerolinecolor": "white",
           "zerolinewidth": 2
          },
          "yaxis": {
           "automargin": true,
           "gridcolor": "white",
           "linecolor": "white",
           "ticks": "",
           "title": {
            "standoff": 15
           },
           "zerolinecolor": "white",
           "zerolinewidth": 2
          }
         }
        },
        "width": 600,
        "xaxis": {
         "anchor": "y",
         "domain": [
          0,
          1
         ],
         "title": {
          "text": "genre"
         }
        },
        "yaxis": {
         "anchor": "x",
         "domain": [
          0,
          1
         ],
         "title": {
          "text": "count"
         }
        }
       }
      }
     },
     "metadata": {},
     "output_type": "display_data"
    }
   ],
   "source": [
    "display(genre_df.describe())\n",
    "\n",
    "fig = px.histogram(genre_df, x=genre_df['genre'], height=400, width=600)\n",
    "fig.update_layout(\n",
    "    margin={'l': 25, 'r': 25, 't': 25, 'b':25}\n",
    ")\n",
    "fig.show()"
   ]
  },
  {
   "attachments": {},
   "cell_type": "markdown",
   "id": "4041ac5c",
   "metadata": {},
   "source": [
    "No surprises here. For anyone familiar with Tarantino's work \"Crime Thriller\" was likely to be top of the list of expected genres."
   ]
  },
  {
   "attachments": {},
   "cell_type": "markdown",
   "id": "bb32be95",
   "metadata": {},
   "source": [
    "Perhaps less obvious may be the production companies involved in Tarantino's films."
   ]
  },
  {
   "cell_type": "code",
   "execution_count": 12,
   "id": "12a62448",
   "metadata": {},
   "outputs": [
    {
     "data": {
      "text/html": [
       "<div>\n",
       "<style scoped>\n",
       "    .dataframe tbody tr th:only-of-type {\n",
       "        vertical-align: middle;\n",
       "    }\n",
       "\n",
       "    .dataframe tbody tr th {\n",
       "        vertical-align: top;\n",
       "    }\n",
       "\n",
       "    .dataframe thead th {\n",
       "        text-align: right;\n",
       "    }\n",
       "</style>\n",
       "<table border=\"1\" class=\"dataframe\">\n",
       "  <thead>\n",
       "    <tr style=\"text-align: right;\">\n",
       "      <th></th>\n",
       "      <th>title</th>\n",
       "      <th>company</th>\n",
       "    </tr>\n",
       "  </thead>\n",
       "  <tbody>\n",
       "    <tr>\n",
       "      <th>count</th>\n",
       "      <td>34</td>\n",
       "      <td>34</td>\n",
       "    </tr>\n",
       "    <tr>\n",
       "      <th>unique</th>\n",
       "      <td>11</td>\n",
       "      <td>20</td>\n",
       "    </tr>\n",
       "    <tr>\n",
       "      <th>top</th>\n",
       "      <td>Inglourious Basterds</td>\n",
       "      <td>A Band Apart</td>\n",
       "    </tr>\n",
       "    <tr>\n",
       "      <th>freq</th>\n",
       "      <td>6</td>\n",
       "      <td>6</td>\n",
       "    </tr>\n",
       "  </tbody>\n",
       "</table>\n",
       "</div>"
      ],
      "text/plain": [
       "                       title       company\n",
       "count                     34            34\n",
       "unique                    11            20\n",
       "top     Inglourious Basterds  A Band Apart\n",
       "freq                       6             6"
      ]
     },
     "metadata": {},
     "output_type": "display_data"
    },
    {
     "data": {
      "application/vnd.plotly.v1+json": {
       "config": {
        "plotlyServerURL": "https://plot.ly"
       },
       "data": [
        {
         "alignmentgroup": "True",
         "bingroup": "x",
         "hovertemplate": "company=%{x}<br>count=%{y}<extra></extra>",
         "legendgroup": "",
         "marker": {
          "color": "#636efa",
          "pattern": {
           "shape": ""
          }
         },
         "name": "",
         "offsetgroup": "",
         "orientation": "v",
         "showlegend": false,
         "type": "histogram",
         "x": [
          "Live Entertainment",
          "Dog Eat Dog Productions",
          "Miramax",
          "A Band Apart",
          "Jersey Films",
          "Miramax",
          "A Band Apart",
          "Miramax",
          "A Band Apart",
          "Lawrence Bender Productions",
          "Mighty Mighty Afrodite Productions",
          "Miramax",
          "A Band Apart",
          "Super Cool ManChu",
          "Super Cool ManChu",
          "Miramax",
          "A Band Apart",
          "Troublemaker Studios",
          "The Weinstein Company",
          "Dimension Films",
          "The Weinstein Company",
          "Universal Pictures",
          "A Band Apart",
          "Zehnte Babelsberg Film",
          "Visiona Romantica",
          "Peninsula Films",
          "The Weinstein Company",
          "Columbia Pictures",
          "The Weinstein Company",
          "Double Feature Films",
          "FilmColony",
          "Heyday Films",
          "Columbia Pictures",
          "Bona Film Group"
         ],
         "xaxis": "x",
         "yaxis": "y"
        }
       ],
       "layout": {
        "barmode": "relative",
        "height": 700,
        "legend": {
         "tracegroupgap": 0
        },
        "margin": {
         "b": 25,
         "l": 25,
         "r": 25,
         "t": 25
        },
        "template": {
         "data": {
          "bar": [
           {
            "error_x": {
             "color": "#2a3f5f"
            },
            "error_y": {
             "color": "#2a3f5f"
            },
            "marker": {
             "line": {
              "color": "#E5ECF6",
              "width": 0.5
             },
             "pattern": {
              "fillmode": "overlay",
              "size": 10,
              "solidity": 0.2
             }
            },
            "type": "bar"
           }
          ],
          "barpolar": [
           {
            "marker": {
             "line": {
              "color": "#E5ECF6",
              "width": 0.5
             },
             "pattern": {
              "fillmode": "overlay",
              "size": 10,
              "solidity": 0.2
             }
            },
            "type": "barpolar"
           }
          ],
          "carpet": [
           {
            "aaxis": {
             "endlinecolor": "#2a3f5f",
             "gridcolor": "white",
             "linecolor": "white",
             "minorgridcolor": "white",
             "startlinecolor": "#2a3f5f"
            },
            "baxis": {
             "endlinecolor": "#2a3f5f",
             "gridcolor": "white",
             "linecolor": "white",
             "minorgridcolor": "white",
             "startlinecolor": "#2a3f5f"
            },
            "type": "carpet"
           }
          ],
          "choropleth": [
           {
            "colorbar": {
             "outlinewidth": 0,
             "ticks": ""
            },
            "type": "choropleth"
           }
          ],
          "contour": [
           {
            "colorbar": {
             "outlinewidth": 0,
             "ticks": ""
            },
            "colorscale": [
             [
              0,
              "#0d0887"
             ],
             [
              0.1111111111111111,
              "#46039f"
             ],
             [
              0.2222222222222222,
              "#7201a8"
             ],
             [
              0.3333333333333333,
              "#9c179e"
             ],
             [
              0.4444444444444444,
              "#bd3786"
             ],
             [
              0.5555555555555556,
              "#d8576b"
             ],
             [
              0.6666666666666666,
              "#ed7953"
             ],
             [
              0.7777777777777778,
              "#fb9f3a"
             ],
             [
              0.8888888888888888,
              "#fdca26"
             ],
             [
              1,
              "#f0f921"
             ]
            ],
            "type": "contour"
           }
          ],
          "contourcarpet": [
           {
            "colorbar": {
             "outlinewidth": 0,
             "ticks": ""
            },
            "type": "contourcarpet"
           }
          ],
          "heatmap": [
           {
            "colorbar": {
             "outlinewidth": 0,
             "ticks": ""
            },
            "colorscale": [
             [
              0,
              "#0d0887"
             ],
             [
              0.1111111111111111,
              "#46039f"
             ],
             [
              0.2222222222222222,
              "#7201a8"
             ],
             [
              0.3333333333333333,
              "#9c179e"
             ],
             [
              0.4444444444444444,
              "#bd3786"
             ],
             [
              0.5555555555555556,
              "#d8576b"
             ],
             [
              0.6666666666666666,
              "#ed7953"
             ],
             [
              0.7777777777777778,
              "#fb9f3a"
             ],
             [
              0.8888888888888888,
              "#fdca26"
             ],
             [
              1,
              "#f0f921"
             ]
            ],
            "type": "heatmap"
           }
          ],
          "heatmapgl": [
           {
            "colorbar": {
             "outlinewidth": 0,
             "ticks": ""
            },
            "colorscale": [
             [
              0,
              "#0d0887"
             ],
             [
              0.1111111111111111,
              "#46039f"
             ],
             [
              0.2222222222222222,
              "#7201a8"
             ],
             [
              0.3333333333333333,
              "#9c179e"
             ],
             [
              0.4444444444444444,
              "#bd3786"
             ],
             [
              0.5555555555555556,
              "#d8576b"
             ],
             [
              0.6666666666666666,
              "#ed7953"
             ],
             [
              0.7777777777777778,
              "#fb9f3a"
             ],
             [
              0.8888888888888888,
              "#fdca26"
             ],
             [
              1,
              "#f0f921"
             ]
            ],
            "type": "heatmapgl"
           }
          ],
          "histogram": [
           {
            "marker": {
             "pattern": {
              "fillmode": "overlay",
              "size": 10,
              "solidity": 0.2
             }
            },
            "type": "histogram"
           }
          ],
          "histogram2d": [
           {
            "colorbar": {
             "outlinewidth": 0,
             "ticks": ""
            },
            "colorscale": [
             [
              0,
              "#0d0887"
             ],
             [
              0.1111111111111111,
              "#46039f"
             ],
             [
              0.2222222222222222,
              "#7201a8"
             ],
             [
              0.3333333333333333,
              "#9c179e"
             ],
             [
              0.4444444444444444,
              "#bd3786"
             ],
             [
              0.5555555555555556,
              "#d8576b"
             ],
             [
              0.6666666666666666,
              "#ed7953"
             ],
             [
              0.7777777777777778,
              "#fb9f3a"
             ],
             [
              0.8888888888888888,
              "#fdca26"
             ],
             [
              1,
              "#f0f921"
             ]
            ],
            "type": "histogram2d"
           }
          ],
          "histogram2dcontour": [
           {
            "colorbar": {
             "outlinewidth": 0,
             "ticks": ""
            },
            "colorscale": [
             [
              0,
              "#0d0887"
             ],
             [
              0.1111111111111111,
              "#46039f"
             ],
             [
              0.2222222222222222,
              "#7201a8"
             ],
             [
              0.3333333333333333,
              "#9c179e"
             ],
             [
              0.4444444444444444,
              "#bd3786"
             ],
             [
              0.5555555555555556,
              "#d8576b"
             ],
             [
              0.6666666666666666,
              "#ed7953"
             ],
             [
              0.7777777777777778,
              "#fb9f3a"
             ],
             [
              0.8888888888888888,
              "#fdca26"
             ],
             [
              1,
              "#f0f921"
             ]
            ],
            "type": "histogram2dcontour"
           }
          ],
          "mesh3d": [
           {
            "colorbar": {
             "outlinewidth": 0,
             "ticks": ""
            },
            "type": "mesh3d"
           }
          ],
          "parcoords": [
           {
            "line": {
             "colorbar": {
              "outlinewidth": 0,
              "ticks": ""
             }
            },
            "type": "parcoords"
           }
          ],
          "pie": [
           {
            "automargin": true,
            "type": "pie"
           }
          ],
          "scatter": [
           {
            "fillpattern": {
             "fillmode": "overlay",
             "size": 10,
             "solidity": 0.2
            },
            "type": "scatter"
           }
          ],
          "scatter3d": [
           {
            "line": {
             "colorbar": {
              "outlinewidth": 0,
              "ticks": ""
             }
            },
            "marker": {
             "colorbar": {
              "outlinewidth": 0,
              "ticks": ""
             }
            },
            "type": "scatter3d"
           }
          ],
          "scattercarpet": [
           {
            "marker": {
             "colorbar": {
              "outlinewidth": 0,
              "ticks": ""
             }
            },
            "type": "scattercarpet"
           }
          ],
          "scattergeo": [
           {
            "marker": {
             "colorbar": {
              "outlinewidth": 0,
              "ticks": ""
             }
            },
            "type": "scattergeo"
           }
          ],
          "scattergl": [
           {
            "marker": {
             "colorbar": {
              "outlinewidth": 0,
              "ticks": ""
             }
            },
            "type": "scattergl"
           }
          ],
          "scattermapbox": [
           {
            "marker": {
             "colorbar": {
              "outlinewidth": 0,
              "ticks": ""
             }
            },
            "type": "scattermapbox"
           }
          ],
          "scatterpolar": [
           {
            "marker": {
             "colorbar": {
              "outlinewidth": 0,
              "ticks": ""
             }
            },
            "type": "scatterpolar"
           }
          ],
          "scatterpolargl": [
           {
            "marker": {
             "colorbar": {
              "outlinewidth": 0,
              "ticks": ""
             }
            },
            "type": "scatterpolargl"
           }
          ],
          "scatterternary": [
           {
            "marker": {
             "colorbar": {
              "outlinewidth": 0,
              "ticks": ""
             }
            },
            "type": "scatterternary"
           }
          ],
          "surface": [
           {
            "colorbar": {
             "outlinewidth": 0,
             "ticks": ""
            },
            "colorscale": [
             [
              0,
              "#0d0887"
             ],
             [
              0.1111111111111111,
              "#46039f"
             ],
             [
              0.2222222222222222,
              "#7201a8"
             ],
             [
              0.3333333333333333,
              "#9c179e"
             ],
             [
              0.4444444444444444,
              "#bd3786"
             ],
             [
              0.5555555555555556,
              "#d8576b"
             ],
             [
              0.6666666666666666,
              "#ed7953"
             ],
             [
              0.7777777777777778,
              "#fb9f3a"
             ],
             [
              0.8888888888888888,
              "#fdca26"
             ],
             [
              1,
              "#f0f921"
             ]
            ],
            "type": "surface"
           }
          ],
          "table": [
           {
            "cells": {
             "fill": {
              "color": "#EBF0F8"
             },
             "line": {
              "color": "white"
             }
            },
            "header": {
             "fill": {
              "color": "#C8D4E3"
             },
             "line": {
              "color": "white"
             }
            },
            "type": "table"
           }
          ]
         },
         "layout": {
          "annotationdefaults": {
           "arrowcolor": "#2a3f5f",
           "arrowhead": 0,
           "arrowwidth": 1
          },
          "autotypenumbers": "strict",
          "coloraxis": {
           "colorbar": {
            "outlinewidth": 0,
            "ticks": ""
           }
          },
          "colorscale": {
           "diverging": [
            [
             0,
             "#8e0152"
            ],
            [
             0.1,
             "#c51b7d"
            ],
            [
             0.2,
             "#de77ae"
            ],
            [
             0.3,
             "#f1b6da"
            ],
            [
             0.4,
             "#fde0ef"
            ],
            [
             0.5,
             "#f7f7f7"
            ],
            [
             0.6,
             "#e6f5d0"
            ],
            [
             0.7,
             "#b8e186"
            ],
            [
             0.8,
             "#7fbc41"
            ],
            [
             0.9,
             "#4d9221"
            ],
            [
             1,
             "#276419"
            ]
           ],
           "sequential": [
            [
             0,
             "#0d0887"
            ],
            [
             0.1111111111111111,
             "#46039f"
            ],
            [
             0.2222222222222222,
             "#7201a8"
            ],
            [
             0.3333333333333333,
             "#9c179e"
            ],
            [
             0.4444444444444444,
             "#bd3786"
            ],
            [
             0.5555555555555556,
             "#d8576b"
            ],
            [
             0.6666666666666666,
             "#ed7953"
            ],
            [
             0.7777777777777778,
             "#fb9f3a"
            ],
            [
             0.8888888888888888,
             "#fdca26"
            ],
            [
             1,
             "#f0f921"
            ]
           ],
           "sequentialminus": [
            [
             0,
             "#0d0887"
            ],
            [
             0.1111111111111111,
             "#46039f"
            ],
            [
             0.2222222222222222,
             "#7201a8"
            ],
            [
             0.3333333333333333,
             "#9c179e"
            ],
            [
             0.4444444444444444,
             "#bd3786"
            ],
            [
             0.5555555555555556,
             "#d8576b"
            ],
            [
             0.6666666666666666,
             "#ed7953"
            ],
            [
             0.7777777777777778,
             "#fb9f3a"
            ],
            [
             0.8888888888888888,
             "#fdca26"
            ],
            [
             1,
             "#f0f921"
            ]
           ]
          },
          "colorway": [
           "#636efa",
           "#EF553B",
           "#00cc96",
           "#ab63fa",
           "#FFA15A",
           "#19d3f3",
           "#FF6692",
           "#B6E880",
           "#FF97FF",
           "#FECB52"
          ],
          "font": {
           "color": "#2a3f5f"
          },
          "geo": {
           "bgcolor": "white",
           "lakecolor": "white",
           "landcolor": "#E5ECF6",
           "showlakes": true,
           "showland": true,
           "subunitcolor": "white"
          },
          "hoverlabel": {
           "align": "left"
          },
          "hovermode": "closest",
          "mapbox": {
           "style": "light"
          },
          "paper_bgcolor": "white",
          "plot_bgcolor": "#E5ECF6",
          "polar": {
           "angularaxis": {
            "gridcolor": "white",
            "linecolor": "white",
            "ticks": ""
           },
           "bgcolor": "#E5ECF6",
           "radialaxis": {
            "gridcolor": "white",
            "linecolor": "white",
            "ticks": ""
           }
          },
          "scene": {
           "xaxis": {
            "backgroundcolor": "#E5ECF6",
            "gridcolor": "white",
            "gridwidth": 2,
            "linecolor": "white",
            "showbackground": true,
            "ticks": "",
            "zerolinecolor": "white"
           },
           "yaxis": {
            "backgroundcolor": "#E5ECF6",
            "gridcolor": "white",
            "gridwidth": 2,
            "linecolor": "white",
            "showbackground": true,
            "ticks": "",
            "zerolinecolor": "white"
           },
           "zaxis": {
            "backgroundcolor": "#E5ECF6",
            "gridcolor": "white",
            "gridwidth": 2,
            "linecolor": "white",
            "showbackground": true,
            "ticks": "",
            "zerolinecolor": "white"
           }
          },
          "shapedefaults": {
           "line": {
            "color": "#2a3f5f"
           }
          },
          "ternary": {
           "aaxis": {
            "gridcolor": "white",
            "linecolor": "white",
            "ticks": ""
           },
           "baxis": {
            "gridcolor": "white",
            "linecolor": "white",
            "ticks": ""
           },
           "bgcolor": "#E5ECF6",
           "caxis": {
            "gridcolor": "white",
            "linecolor": "white",
            "ticks": ""
           }
          },
          "title": {
           "x": 0.05
          },
          "xaxis": {
           "automargin": true,
           "gridcolor": "white",
           "linecolor": "white",
           "ticks": "",
           "title": {
            "standoff": 15
           },
           "zerolinecolor": "white",
           "zerolinewidth": 2
          },
          "yaxis": {
           "automargin": true,
           "gridcolor": "white",
           "linecolor": "white",
           "ticks": "",
           "title": {
            "standoff": 15
           },
           "zerolinecolor": "white",
           "zerolinewidth": 2
          }
         }
        },
        "width": 800,
        "xaxis": {
         "anchor": "y",
         "domain": [
          0,
          1
         ],
         "title": {
          "text": "company"
         }
        },
        "yaxis": {
         "anchor": "x",
         "domain": [
          0,
          1
         ],
         "title": {
          "text": "count"
         }
        }
       }
      }
     },
     "metadata": {},
     "output_type": "display_data"
    }
   ],
   "source": [
    "display(prod_company_df.describe())\n",
    "\n",
    "fig = px.histogram(prod_company_df, x=prod_company_df['company'], height=700, width=800)\n",
    "fig.update_layout(\n",
    "    margin={'l': 25, 'r': 25, 't': 25, 'b':25}\n",
    ")\n",
    "fig.show()"
   ]
  },
  {
   "attachments": {},
   "cell_type": "markdown",
   "id": "799395da",
   "metadata": {},
   "source": [
    "We can see that most of the production companies Tarantino works with only contribute to a single film, however there are a few that he has worked with repeatedly. It may be worth investigating which films they worked on and what Tarantino's relationship is to those companies."
   ]
  },
  {
   "attachments": {},
   "cell_type": "markdown",
   "id": "eba5f963",
   "metadata": {},
   "source": [
    "### People Data\n",
    "\n",
    "Next we'll examine the people behind the films. We have data for both actors/actresses and crew members.\n",
    "\n",
    "Let's start with cast."
   ]
  },
  {
   "cell_type": "code",
   "execution_count": 13,
   "id": "9eee02c0",
   "metadata": {},
   "outputs": [
    {
     "data": {
      "text/html": [
       "<div>\n",
       "<style scoped>\n",
       "    .dataframe tbody tr th:only-of-type {\n",
       "        vertical-align: middle;\n",
       "    }\n",
       "\n",
       "    .dataframe tbody tr th {\n",
       "        vertical-align: top;\n",
       "    }\n",
       "\n",
       "    .dataframe thead th {\n",
       "        text-align: right;\n",
       "    }\n",
       "</style>\n",
       "<table border=\"1\" class=\"dataframe\">\n",
       "  <thead>\n",
       "    <tr style=\"text-align: right;\">\n",
       "      <th></th>\n",
       "      <th>title</th>\n",
       "      <th>person</th>\n",
       "      <th>character</th>\n",
       "    </tr>\n",
       "  </thead>\n",
       "  <tbody>\n",
       "    <tr>\n",
       "      <th>count</th>\n",
       "      <td>551</td>\n",
       "      <td>551</td>\n",
       "      <td>545</td>\n",
       "    </tr>\n",
       "    <tr>\n",
       "      <th>unique</th>\n",
       "      <td>11</td>\n",
       "      <td>446</td>\n",
       "      <td>498</td>\n",
       "    </tr>\n",
       "    <tr>\n",
       "      <th>top</th>\n",
       "      <td>Django Unchained</td>\n",
       "      <td>Quentin Tarantino</td>\n",
       "      <td>Tracker</td>\n",
       "    </tr>\n",
       "    <tr>\n",
       "      <th>freq</th>\n",
       "      <td>112</td>\n",
       "      <td>9</td>\n",
       "      <td>7</td>\n",
       "    </tr>\n",
       "  </tbody>\n",
       "</table>\n",
       "</div>"
      ],
      "text/plain": [
       "                   title             person character\n",
       "count                551                551       545\n",
       "unique                11                446       498\n",
       "top     Django Unchained  Quentin Tarantino   Tracker\n",
       "freq                 112                  9         7"
      ]
     },
     "metadata": {},
     "output_type": "display_data"
    }
   ],
   "source": [
    "display(cast_df.describe())"
   ]
  },
  {
   "attachments": {},
   "cell_type": "markdown",
   "id": "55a72263",
   "metadata": {},
   "source": [
    "There are 550 total characters in Tarantino's 11 films with *Django Unchained* boasting 112 of them. Interestingly the most common actor in Tarantinos films is Tarantino himself, boasting a total of 9 roles across the 11 films.  \n",
    "\n",
    "Next up, crew."
   ]
  },
  {
   "cell_type": "code",
   "execution_count": 14,
   "id": "8a957a16",
   "metadata": {},
   "outputs": [
    {
     "data": {
      "text/html": [
       "<div>\n",
       "<style scoped>\n",
       "    .dataframe tbody tr th:only-of-type {\n",
       "        vertical-align: middle;\n",
       "    }\n",
       "\n",
       "    .dataframe tbody tr th {\n",
       "        vertical-align: top;\n",
       "    }\n",
       "\n",
       "    .dataframe thead th {\n",
       "        text-align: right;\n",
       "    }\n",
       "</style>\n",
       "<table border=\"1\" class=\"dataframe\">\n",
       "  <thead>\n",
       "    <tr style=\"text-align: right;\">\n",
       "      <th></th>\n",
       "      <th>title</th>\n",
       "      <th>person</th>\n",
       "      <th>job</th>\n",
       "    </tr>\n",
       "  </thead>\n",
       "  <tbody>\n",
       "    <tr>\n",
       "      <th>count</th>\n",
       "      <td>1572</td>\n",
       "      <td>1572</td>\n",
       "      <td>1572</td>\n",
       "    </tr>\n",
       "    <tr>\n",
       "      <th>unique</th>\n",
       "      <td>11</td>\n",
       "      <td>1113</td>\n",
       "      <td>281</td>\n",
       "    </tr>\n",
       "    <tr>\n",
       "      <th>top</th>\n",
       "      <td>Kill Bill: Vol. 1</td>\n",
       "      <td>Quentin Tarantino</td>\n",
       "      <td>Stunts</td>\n",
       "    </tr>\n",
       "    <tr>\n",
       "      <th>freq</th>\n",
       "      <td>220</td>\n",
       "      <td>34</td>\n",
       "      <td>45</td>\n",
       "    </tr>\n",
       "  </tbody>\n",
       "</table>\n",
       "</div>"
      ],
      "text/plain": [
       "                    title             person     job\n",
       "count                1572               1572    1572\n",
       "unique                 11               1113     281\n",
       "top     Kill Bill: Vol. 1  Quentin Tarantino  Stunts\n",
       "freq                  220                 34      45"
      ]
     },
     "metadata": {},
     "output_type": "display_data"
    }
   ],
   "source": [
    "display(crew_df.describe())"
   ]
  },
  {
   "attachments": {},
   "cell_type": "markdown",
   "id": "f8083fce",
   "metadata": {},
   "source": [
    "Less interesting is the fact that Tarantino has the most crew credits among his films, often performing both roles of writer and director. One interesting point is the fact that, of the 1572 total crew credits, over two thirds are unique individuals. This shows that most of the crew is not reused between films, but there may be some key crew members who worked on several films."
   ]
  },
  {
   "attachments": {},
   "cell_type": "markdown",
   "id": "50950d12",
   "metadata": {},
   "source": [
    "Lastly, we have information about the individual people who make up the cast and crew."
   ]
  },
  {
   "cell_type": "code",
   "execution_count": 15,
   "id": "309da748",
   "metadata": {},
   "outputs": [
    {
     "data": {
      "text/html": [
       "<div>\n",
       "<style scoped>\n",
       "    .dataframe tbody tr th:only-of-type {\n",
       "        vertical-align: middle;\n",
       "    }\n",
       "\n",
       "    .dataframe tbody tr th {\n",
       "        vertical-align: top;\n",
       "    }\n",
       "\n",
       "    .dataframe thead th {\n",
       "        text-align: right;\n",
       "    }\n",
       "</style>\n",
       "<table border=\"1\" class=\"dataframe\">\n",
       "  <thead>\n",
       "    <tr style=\"text-align: right;\">\n",
       "      <th></th>\n",
       "      <th>person</th>\n",
       "      <th>gender</th>\n",
       "      <th>popularity</th>\n",
       "    </tr>\n",
       "  </thead>\n",
       "  <tbody>\n",
       "    <tr>\n",
       "      <th>count</th>\n",
       "      <td>1555</td>\n",
       "      <td>1555</td>\n",
       "      <td>1555.000000</td>\n",
       "    </tr>\n",
       "    <tr>\n",
       "      <th>unique</th>\n",
       "      <td>1530</td>\n",
       "      <td>3</td>\n",
       "      <td>NaN</td>\n",
       "    </tr>\n",
       "    <tr>\n",
       "      <th>top</th>\n",
       "      <td>Brett C. Smith</td>\n",
       "      <td>NS</td>\n",
       "      <td>NaN</td>\n",
       "    </tr>\n",
       "    <tr>\n",
       "      <th>freq</th>\n",
       "      <td>2</td>\n",
       "      <td>725</td>\n",
       "      <td>NaN</td>\n",
       "    </tr>\n",
       "    <tr>\n",
       "      <th>mean</th>\n",
       "      <td>NaN</td>\n",
       "      <td>NaN</td>\n",
       "      <td>3.053270</td>\n",
       "    </tr>\n",
       "    <tr>\n",
       "      <th>std</th>\n",
       "      <td>NaN</td>\n",
       "      <td>NaN</td>\n",
       "      <td>8.152782</td>\n",
       "    </tr>\n",
       "    <tr>\n",
       "      <th>min</th>\n",
       "      <td>NaN</td>\n",
       "      <td>NaN</td>\n",
       "      <td>0.600000</td>\n",
       "    </tr>\n",
       "    <tr>\n",
       "      <th>25%</th>\n",
       "      <td>NaN</td>\n",
       "      <td>NaN</td>\n",
       "      <td>0.600000</td>\n",
       "    </tr>\n",
       "    <tr>\n",
       "      <th>50%</th>\n",
       "      <td>NaN</td>\n",
       "      <td>NaN</td>\n",
       "      <td>0.600000</td>\n",
       "    </tr>\n",
       "    <tr>\n",
       "      <th>75%</th>\n",
       "      <td>NaN</td>\n",
       "      <td>NaN</td>\n",
       "      <td>1.620000</td>\n",
       "    </tr>\n",
       "    <tr>\n",
       "      <th>max</th>\n",
       "      <td>NaN</td>\n",
       "      <td>NaN</td>\n",
       "      <td>140.582000</td>\n",
       "    </tr>\n",
       "  </tbody>\n",
       "</table>\n",
       "</div>"
      ],
      "text/plain": [
       "                person gender   popularity\n",
       "count             1555   1555  1555.000000\n",
       "unique            1530      3          NaN\n",
       "top     Brett C. Smith     NS          NaN\n",
       "freq                 2    725          NaN\n",
       "mean               NaN    NaN     3.053270\n",
       "std                NaN    NaN     8.152782\n",
       "min                NaN    NaN     0.600000\n",
       "25%                NaN    NaN     0.600000\n",
       "50%                NaN    NaN     0.600000\n",
       "75%                NaN    NaN     1.620000\n",
       "max                NaN    NaN   140.582000"
      ]
     },
     "metadata": {},
     "output_type": "display_data"
    }
   ],
   "source": [
    "display(person_df.describe(include='all'))"
   ]
  },
  {
   "attachments": {},
   "cell_type": "markdown",
   "id": "9b58e8a1",
   "metadata": {},
   "source": [
    "Most interesting here is the popularity column. We can see that the vast majority of the people associated with Tarantino's films are not well known. This is not very surprising given the industries focus on celebrities, but with a maximum of 175, there are clearly some really large outliers.\n",
    "\n",
    "We can also see that there are some duplicates in the name column which could represent some discrepancy in the data, but it is also likely that it is simply due to the fact that people's names are not unique.\n",
    "\n",
    "Let's see who the most popular people are."
   ]
  },
  {
   "cell_type": "code",
   "execution_count": 16,
   "id": "adbbebb8",
   "metadata": {},
   "outputs": [
    {
     "data": {
      "text/html": [
       "<div>\n",
       "<style scoped>\n",
       "    .dataframe tbody tr th:only-of-type {\n",
       "        vertical-align: middle;\n",
       "    }\n",
       "\n",
       "    .dataframe tbody tr th {\n",
       "        vertical-align: top;\n",
       "    }\n",
       "\n",
       "    .dataframe thead th {\n",
       "        text-align: right;\n",
       "    }\n",
       "</style>\n",
       "<table border=\"1\" class=\"dataframe\">\n",
       "  <thead>\n",
       "    <tr style=\"text-align: right;\">\n",
       "      <th></th>\n",
       "      <th>person</th>\n",
       "      <th>gender</th>\n",
       "      <th>popularity</th>\n",
       "    </tr>\n",
       "  </thead>\n",
       "  <tbody>\n",
       "    <tr>\n",
       "      <th>1864</th>\n",
       "      <td>Sydney Sweeney</td>\n",
       "      <td>F</td>\n",
       "      <td>140.582</td>\n",
       "    </tr>\n",
       "    <tr>\n",
       "      <th>1845</th>\n",
       "      <td>Austin Butler</td>\n",
       "      <td>M</td>\n",
       "      <td>94.319</td>\n",
       "    </tr>\n",
       "    <tr>\n",
       "      <th>1851</th>\n",
       "      <td>Al Pacino</td>\n",
       "      <td>M</td>\n",
       "      <td>68.403</td>\n",
       "    </tr>\n",
       "    <tr>\n",
       "      <th>1757</th>\n",
       "      <td>Channing Tatum</td>\n",
       "      <td>M</td>\n",
       "      <td>68.091</td>\n",
       "    </tr>\n",
       "    <tr>\n",
       "      <th>1523</th>\n",
       "      <td>Leonardo DiCaprio</td>\n",
       "      <td>M</td>\n",
       "      <td>66.736</td>\n",
       "    </tr>\n",
       "    <tr>\n",
       "      <th>1863</th>\n",
       "      <td>Victoria Pedretti</td>\n",
       "      <td>F</td>\n",
       "      <td>63.057</td>\n",
       "    </tr>\n",
       "    <tr>\n",
       "      <th>1360</th>\n",
       "      <td>Brad Pitt</td>\n",
       "      <td>M</td>\n",
       "      <td>56.496</td>\n",
       "    </tr>\n",
       "    <tr>\n",
       "      <th>303</th>\n",
       "      <td>Salma Hayek</td>\n",
       "      <td>F</td>\n",
       "      <td>56.348</td>\n",
       "    </tr>\n",
       "    <tr>\n",
       "      <th>429</th>\n",
       "      <td>Robert De Niro</td>\n",
       "      <td>M</td>\n",
       "      <td>54.010</td>\n",
       "    </tr>\n",
       "    <tr>\n",
       "      <th>109</th>\n",
       "      <td>Samuel L. Jackson</td>\n",
       "      <td>M</td>\n",
       "      <td>53.233</td>\n",
       "    </tr>\n",
       "  </tbody>\n",
       "</table>\n",
       "</div>"
      ],
      "text/plain": [
       "                 person gender  popularity\n",
       "1864     Sydney Sweeney      F     140.582\n",
       "1845      Austin Butler      M      94.319\n",
       "1851          Al Pacino      M      68.403\n",
       "1757     Channing Tatum      M      68.091\n",
       "1523  Leonardo DiCaprio      M      66.736\n",
       "1863  Victoria Pedretti      F      63.057\n",
       "1360          Brad Pitt      M      56.496\n",
       "303         Salma Hayek      F      56.348\n",
       "429      Robert De Niro      M      54.010\n",
       "109   Samuel L. Jackson      M      53.233"
      ]
     },
     "metadata": {},
     "output_type": "display_data"
    }
   ],
   "source": [
    "display(person_df.sort_values('popularity', ascending=False).head(10))"
   ]
  },
  {
   "attachments": {},
   "cell_type": "markdown",
   "id": "26f07c79",
   "metadata": {},
   "source": [
    "Unsurprisingly, super celebrities make up the most popular entries on TMDB, with Sydney Sweeney from the most recent film, *Once Upon a Time... in Hollywood*, topping the chart."
   ]
  },
  {
   "attachments": {},
   "cell_type": "markdown",
   "id": "6a655983",
   "metadata": {},
   "source": [
    "Another point of interest may be the gender breakdown between people who work on Tarantino's films."
   ]
  },
  {
   "cell_type": "code",
   "execution_count": 17,
   "id": "5e38f523",
   "metadata": {},
   "outputs": [
    {
     "data": {
      "application/vnd.plotly.v1+json": {
       "config": {
        "plotlyServerURL": "https://plot.ly"
       },
       "data": [
        {
         "showlegend": false,
         "type": "histogram",
         "x": [
          "M",
          "M",
          "M",
          "M",
          "M",
          "M",
          "M",
          "M",
          "M",
          "M",
          "NS",
          "M",
          "NS",
          "NS",
          "M",
          "M",
          "M",
          "F",
          "NS",
          "M",
          "F",
          "NS",
          "M",
          "M",
          "NS",
          "M",
          "F",
          "M",
          "M",
          "M",
          "F",
          "M",
          "NS",
          "F",
          "F",
          "F",
          "M",
          "M",
          "M",
          "M",
          "F",
          "M",
          "F",
          "M",
          "NS",
          "M",
          "M",
          "F",
          "NS",
          "M",
          "NS",
          "NS",
          "NS",
          "M",
          "NS",
          "M",
          "M",
          "NS",
          "NS",
          "M",
          "F",
          "F",
          "NS",
          "NS",
          "M",
          "F",
          "NS",
          "M",
          "NS",
          "F",
          "NS",
          "NS",
          "NS",
          "NS",
          "NS",
          "NS",
          "NS",
          "NS",
          "NS",
          "NS",
          "NS",
          "NS",
          "NS",
          "NS",
          "NS",
          "NS",
          "NS",
          "NS",
          "NS",
          "NS",
          "NS",
          "NS",
          "NS",
          "NS",
          "NS",
          "NS",
          "NS",
          "NS",
          "F",
          "NS",
          "NS",
          "NS",
          "M",
          "M",
          "F",
          "M",
          "M",
          "M",
          "F",
          "F",
          "M",
          "F",
          "M",
          "M",
          "F",
          "M",
          "F",
          "F",
          "M",
          "M",
          "M",
          "M",
          "NS",
          "F",
          "NS",
          "M",
          "M",
          "F",
          "M",
          "F",
          "NS",
          "NS",
          "M",
          "NS",
          "F",
          "F",
          "F",
          "M",
          "F",
          "F",
          "F",
          "M",
          "F",
          "M",
          "NS",
          "F",
          "M",
          "F",
          "F",
          "M",
          "M",
          "M",
          "F",
          "M",
          "M",
          "F",
          "NS",
          "NS",
          "F",
          "M",
          "M",
          "M",
          "NS",
          "M",
          "M",
          "M",
          "M",
          "M",
          "F",
          "M",
          "F",
          "NS",
          "M",
          "F",
          "M",
          "M",
          "NS",
          "NS",
          "M",
          "M",
          "M",
          "NS",
          "NS",
          "M",
          "M",
          "NS",
          "NS",
          "NS",
          "NS",
          "NS",
          "F",
          "NS",
          "NS",
          "NS",
          "NS",
          "F",
          "NS",
          "M",
          "M",
          "F",
          "NS",
          "NS",
          "NS",
          "M",
          "NS",
          "NS",
          "F",
          "NS",
          "NS",
          "F",
          "NS",
          "NS",
          "NS",
          "NS",
          "NS",
          "M",
          "NS",
          "NS",
          "NS",
          "NS",
          "NS",
          "NS",
          "M",
          "NS",
          "NS",
          "NS",
          "NS",
          "M",
          "NS",
          "NS",
          "NS",
          "NS",
          "NS",
          "NS",
          "NS",
          "NS",
          "NS",
          "NS",
          "NS",
          "NS",
          "NS",
          "NS",
          "NS",
          "NS",
          "NS",
          "M",
          "F",
          "M",
          "F",
          "F",
          "F",
          "F",
          "F",
          "F",
          "F",
          "F",
          "M",
          "F",
          "F",
          "F",
          "F",
          "M",
          "NS",
          "F",
          "M",
          "M",
          "NS",
          "M",
          "M",
          "M",
          "M",
          "M",
          "F",
          "M",
          "M",
          "NS",
          "M",
          "F",
          "NS",
          "M",
          "F",
          "NS",
          "NS",
          "M",
          "M",
          "M",
          "M",
          "NS",
          "NS",
          "F",
          "F",
          "NS",
          "F",
          "NS",
          "M",
          "NS",
          "F",
          "NS",
          "F",
          "M",
          "M",
          "NS",
          "F",
          "NS",
          "NS",
          "NS",
          "F",
          "NS",
          "NS",
          "NS",
          "NS",
          "NS",
          "NS",
          "NS",
          "NS",
          "M",
          "NS",
          "NS",
          "NS",
          "NS",
          "NS",
          "NS",
          "NS",
          "NS",
          "NS",
          "NS",
          "NS",
          "NS",
          "NS",
          "NS",
          "NS",
          "NS",
          "NS",
          "NS",
          "M",
          "NS",
          "F",
          "NS",
          "NS",
          "NS",
          "NS",
          "NS",
          "F",
          "NS",
          "NS",
          "NS",
          "NS",
          "NS",
          "F",
          "M",
          "F",
          "M",
          "M",
          "M",
          "M",
          "F",
          "M",
          "F",
          "M",
          "F",
          "M",
          "F",
          "F",
          "NS",
          "NS",
          "F",
          "F",
          "F",
          "F",
          "F",
          "NS",
          "F",
          "F",
          "NS",
          "M",
          "NS",
          "NS",
          "NS",
          "F",
          "M",
          "F",
          "M",
          "F",
          "F",
          "F",
          "M",
          "F",
          "M",
          "M",
          "NS",
          "M",
          "F",
          "NS",
          "M",
          "F",
          "NS",
          "M",
          "NS",
          "F",
          "NS",
          "M",
          "M",
          "M",
          "NS",
          "NS",
          "M",
          "M",
          "M",
          "NS",
          "NS",
          "M",
          "M",
          "M",
          "NS",
          "NS",
          "M",
          "M",
          "M",
          "NS",
          "M",
          "M",
          "M",
          "NS",
          "NS",
          "NS",
          "M",
          "F",
          "NS",
          "M",
          "NS",
          "NS",
          "NS",
          "M",
          "M",
          "F",
          "F",
          "M",
          "NS",
          "NS",
          "NS",
          "NS",
          "NS",
          "NS",
          "NS",
          "NS",
          "M",
          "M",
          "NS",
          "NS",
          "NS",
          "M",
          "M",
          "M",
          "M",
          "F",
          "NS",
          "NS",
          "NS",
          "M",
          "M",
          "M",
          "NS",
          "F",
          "NS",
          "NS",
          "NS",
          "NS",
          "NS",
          "NS",
          "NS",
          "NS",
          "NS",
          "NS",
          "M",
          "NS",
          "M",
          "NS",
          "NS",
          "NS",
          "M",
          "M",
          "M",
          "NS",
          "NS",
          "NS",
          "NS",
          "M",
          "NS",
          "NS",
          "NS",
          "NS",
          "NS",
          "NS",
          "M",
          "M",
          "M",
          "NS",
          "NS",
          "NS",
          "NS",
          "NS",
          "NS",
          "NS",
          "NS",
          "NS",
          "NS",
          "M",
          "NS",
          "NS",
          "NS",
          "NS",
          "NS",
          "NS",
          "NS",
          "NS",
          "NS",
          "NS",
          "M",
          "NS",
          "NS",
          "NS",
          "NS",
          "NS",
          "NS",
          "NS",
          "NS",
          "NS",
          "NS",
          "M",
          "NS",
          "NS",
          "NS",
          "NS",
          "NS",
          "M",
          "NS",
          "NS",
          "NS",
          "NS",
          "NS",
          "NS",
          "NS",
          "NS",
          "NS",
          "NS",
          "NS",
          "NS",
          "NS",
          "NS",
          "NS",
          "F",
          "F",
          "F",
          "M",
          "F",
          "F",
          "M",
          "M",
          "M",
          "M",
          "M",
          "F",
          "M",
          "M",
          "M",
          "M",
          "M",
          "M",
          "M",
          "M",
          "F",
          "M",
          "M",
          "M",
          "M",
          "NS",
          "F",
          "F",
          "F",
          "F",
          "M",
          "M",
          "M",
          "F",
          "M",
          "F",
          "F",
          "M",
          "F",
          "M",
          "M",
          "M",
          "M",
          "NS",
          "F",
          "M",
          "NS",
          "NS",
          "M",
          "M",
          "F",
          "M",
          "F",
          "NS",
          "M",
          "M",
          "M",
          "F",
          "F",
          "NS",
          "F",
          "M",
          "NS",
          "M",
          "M",
          "M",
          "NS",
          "M",
          "NS",
          "NS",
          "NS",
          "NS",
          "NS",
          "NS",
          "M",
          "M",
          "NS",
          "NS",
          "M",
          "M",
          "NS",
          "NS",
          "M",
          "NS",
          "NS",
          "F",
          "M",
          "NS",
          "NS",
          "NS",
          "M",
          "M",
          "M",
          "M",
          "M",
          "NS",
          "M",
          "NS",
          "F",
          "M",
          "NS",
          "F",
          "NS",
          "NS",
          "NS",
          "M",
          "NS",
          "NS",
          "M",
          "NS",
          "M",
          "NS",
          "M",
          "M",
          "NS",
          "M",
          "M",
          "NS",
          "M",
          "M",
          "M",
          "M",
          "M",
          "NS",
          "M",
          "M",
          "M",
          "NS",
          "M",
          "NS",
          "NS",
          "M",
          "NS",
          "NS",
          "M",
          "NS",
          "M",
          "NS",
          "F",
          "M",
          "NS",
          "NS",
          "F",
          "NS",
          "NS",
          "NS",
          "NS",
          "F",
          "NS",
          "NS",
          "NS",
          "NS",
          "M",
          "M",
          "NS",
          "M",
          "NS",
          "NS",
          "NS",
          "NS",
          "NS",
          "NS",
          "NS",
          "NS",
          "NS",
          "NS",
          "M",
          "NS",
          "NS",
          "NS",
          "F",
          "NS",
          "NS",
          "NS",
          "NS",
          "NS",
          "NS",
          "NS",
          "M",
          "F",
          "M",
          "M",
          "F",
          "M",
          "M",
          "M",
          "NS",
          "NS",
          "NS",
          "NS",
          "NS",
          "M",
          "F",
          "NS",
          "NS",
          "F",
          "M",
          "NS",
          "M",
          "NS",
          "NS",
          "NS",
          "NS",
          "NS",
          "NS",
          "NS",
          "NS",
          "NS",
          "NS",
          "NS",
          "M",
          "NS",
          "NS",
          "NS",
          "NS",
          "NS",
          "NS",
          "NS",
          "NS",
          "NS",
          "F",
          "F",
          "M",
          "F",
          "F",
          "F",
          "M",
          "M",
          "F",
          "F",
          "F",
          "M",
          "NS",
          "M",
          "M",
          "NS",
          "NS",
          "NS",
          "NS",
          "M",
          "NS",
          "M",
          "NS",
          "NS",
          "NS",
          "M",
          "M",
          "M",
          "NS",
          "NS",
          "NS",
          "NS",
          "M",
          "NS",
          "NS",
          "NS",
          "NS",
          "NS",
          "NS",
          "NS",
          "NS",
          "NS",
          "NS",
          "NS",
          "NS",
          "NS",
          "NS",
          "NS",
          "NS",
          "NS",
          "NS",
          "NS",
          "F",
          "NS",
          "NS",
          "NS",
          "M",
          "F",
          "F",
          "F",
          "F",
          "F",
          "F",
          "F",
          "F",
          "M",
          "M",
          "M",
          "F",
          "F",
          "M",
          "F",
          "M",
          "F",
          "F",
          "F",
          "F",
          "F",
          "NS",
          "F",
          "F",
          "F",
          "F",
          "NS",
          "M",
          "F",
          "F",
          "F",
          "NS",
          "NS",
          "NS",
          "M",
          "NS",
          "F",
          "M",
          "NS",
          "M",
          "F",
          "F",
          "M",
          "M",
          "M",
          "NS",
          "NS",
          "F",
          "NS",
          "NS",
          "NS",
          "M",
          "F",
          "NS",
          "M",
          "NS",
          "NS",
          "NS",
          "NS",
          "M",
          "F",
          "NS",
          "NS",
          "NS",
          "NS",
          "M",
          "F",
          "NS",
          "NS",
          "NS",
          "NS",
          "NS",
          "NS",
          "NS",
          "F",
          "NS",
          "NS",
          "M",
          "NS",
          "NS",
          "NS",
          "NS",
          "NS",
          "NS",
          "NS",
          "NS",
          "F",
          "NS",
          "NS",
          "M",
          "F",
          "NS",
          "F",
          "NS",
          "F",
          "NS",
          "NS",
          "NS",
          "M",
          "NS",
          "M",
          "NS",
          "NS",
          "M",
          "NS",
          "NS",
          "NS",
          "F",
          "F",
          "NS",
          "NS",
          "M",
          "NS",
          "NS",
          "NS",
          "NS",
          "NS",
          "NS",
          "NS",
          "NS",
          "NS",
          "NS",
          "NS",
          "NS",
          "NS",
          "F",
          "NS",
          "NS",
          "NS",
          "F",
          "F",
          "NS",
          "NS",
          "NS",
          "NS",
          "NS",
          "NS",
          "NS",
          "NS",
          "NS",
          "NS",
          "NS",
          "NS",
          "NS",
          "NS",
          "NS",
          "NS",
          "NS",
          "NS",
          "NS",
          "NS",
          "NS",
          "NS",
          "NS",
          "NS",
          "NS",
          "NS",
          "NS",
          "NS",
          "NS",
          "NS",
          "NS",
          "NS",
          "NS",
          "NS",
          "NS",
          "NS",
          "M",
          "F",
          "M",
          "M",
          "F",
          "M",
          "M",
          "M",
          "M",
          "M",
          "M",
          "M",
          "M",
          "M",
          "M",
          "F",
          "M",
          "M",
          "M",
          "M",
          "M",
          "M",
          "F",
          "M",
          "M",
          "M",
          "F",
          "M",
          "F",
          "M",
          "M",
          "M",
          "M",
          "M",
          "M",
          "M",
          "M",
          "M",
          "M",
          "F",
          "M",
          "M",
          "M",
          "M",
          "M",
          "M",
          "NS",
          "M",
          "M",
          "M",
          "F",
          "F",
          "F",
          "M",
          "M",
          "M",
          "M",
          "F",
          "F",
          "F",
          "M",
          "F",
          "M",
          "F",
          "F",
          "F",
          "M",
          "M",
          "NS",
          "M",
          "F",
          "M",
          "F",
          "NS",
          "M",
          "M",
          "M",
          "M",
          "M",
          "NS",
          "M",
          "M",
          "F",
          "M",
          "M",
          "M",
          "F",
          "NS",
          "NS",
          "M",
          "M",
          "NS",
          "NS",
          "NS",
          "NS",
          "NS",
          "F",
          "NS",
          "M",
          "NS",
          "NS",
          "M",
          "NS",
          "NS",
          "NS",
          "NS",
          "M",
          "NS",
          "NS",
          "NS",
          "NS",
          "M",
          "NS",
          "NS",
          "F",
          "F",
          "M",
          "NS",
          "NS",
          "M",
          "M",
          "F",
          "M",
          "M",
          "M",
          "F",
          "F",
          "M",
          "M",
          "M",
          "M",
          "F",
          "M",
          "M",
          "M",
          "M",
          "M",
          "F",
          "M",
          "M",
          "M",
          "M",
          "M",
          "M",
          "M",
          "M",
          "M",
          "M",
          "M",
          "M",
          "M",
          "M",
          "M",
          "M",
          "F",
          "M",
          "F",
          "M",
          "F",
          "F",
          "F",
          "M",
          "M",
          "M",
          "M",
          "M",
          "M",
          "M",
          "M",
          "F",
          "M",
          "M",
          "M",
          "M",
          "M",
          "M",
          "M",
          "M",
          "M",
          "M",
          "M",
          "M",
          "M",
          "NS",
          "NS",
          "M",
          "NS",
          "M",
          "M",
          "F",
          "F",
          "F",
          "F",
          "F",
          "F",
          "F",
          "M",
          "M",
          "M",
          "M",
          "M",
          "M",
          "M",
          "F",
          "M",
          "M",
          "M",
          "M",
          "M",
          "F",
          "M",
          "NS",
          "F",
          "M",
          "F",
          "F",
          "M",
          "F",
          "M",
          "M",
          "M",
          "M",
          "M",
          "F",
          "NS",
          "M",
          "F",
          "NS",
          "M",
          "F",
          "M",
          "M",
          "M",
          "M",
          "M",
          "F",
          "M",
          "NS",
          "M",
          "M",
          "NS",
          "NS",
          "NS",
          "F",
          "NS",
          "M",
          "NS",
          "NS",
          "NS",
          "M",
          "M",
          "F",
          "F",
          "NS",
          "M",
          "NS",
          "F",
          "NS",
          "NS",
          "NS",
          "NS",
          "NS",
          "NS",
          "NS",
          "F",
          "NS",
          "F",
          "M",
          "F",
          "NS",
          "NS",
          "NS",
          "M",
          "NS",
          "F",
          "NS",
          "NS",
          "M",
          "NS",
          "NS",
          "NS",
          "F",
          "NS",
          "NS",
          "NS",
          "F",
          "M",
          "M",
          "M",
          "M",
          "M",
          "M",
          "F",
          "M",
          "F",
          "M",
          "NS",
          "NS",
          "F",
          "NS",
          "NS",
          "M",
          "NS",
          "NS",
          "F",
          "NS",
          "NS",
          "NS",
          "NS",
          "NS",
          "NS",
          "NS",
          "NS",
          "F",
          "M",
          "F",
          "M",
          "F",
          "NS",
          "NS",
          "NS",
          "NS",
          "NS",
          "NS",
          "NS",
          "NS",
          "NS",
          "NS",
          "NS",
          "NS",
          "NS",
          "NS",
          "NS",
          "NS",
          "M",
          "NS",
          "NS",
          "F",
          "M",
          "F",
          "M",
          "F",
          "M",
          "F",
          "M",
          "M",
          "M",
          "M",
          "M",
          "F",
          "M",
          "F",
          "M",
          "M",
          "F",
          "F",
          "F",
          "M",
          "F",
          "F",
          "F",
          "F",
          "F",
          "F",
          "NS",
          "F",
          "F",
          "F",
          "NS",
          "M",
          "M",
          "M",
          "M",
          "M",
          "F",
          "F",
          "F",
          "F",
          "M",
          "M",
          "M",
          "F",
          "F",
          "F",
          "NS",
          "F",
          "M",
          "NS",
          "NS",
          "F",
          "NS",
          "NS",
          "NS",
          "M",
          "M",
          "NS",
          "M",
          "NS",
          "NS",
          "M",
          "M",
          "NS",
          "M",
          "NS",
          "NS",
          "NS",
          "F",
          "M",
          "M",
          "M",
          "F",
          "NS",
          "F",
          "F",
          "M",
          "F",
          "M",
          "F",
          "M",
          "F",
          "F",
          "F",
          "M",
          "M",
          "M",
          "M",
          "M",
          "F",
          "M",
          "F",
          "M",
          "M",
          "M",
          "NS",
          "M",
          "NS",
          "M",
          "M",
          "M",
          "F",
          "NS",
          "NS",
          "NS",
          "M",
          "F",
          "NS",
          "NS",
          "NS",
          "NS",
          "NS",
          "NS",
          "NS",
          "F",
          "NS",
          "NS",
          "F",
          "NS",
          "NS",
          "M",
          "NS",
          "NS",
          "NS",
          "M",
          "NS",
          "NS",
          "NS",
          "NS",
          "M",
          "F",
          "NS",
          "NS",
          "NS",
          "NS",
          "NS",
          "M",
          "M",
          "NS",
          "NS",
          "NS",
          "NS",
          "M",
          "NS",
          "M",
          "NS",
          "F",
          "NS",
          "F",
          "NS",
          "F",
          "NS",
          "NS",
          "M",
          "NS",
          "NS",
          "NS",
          "NS",
          "NS",
          "M",
          "NS",
          "NS",
          "NS",
          "NS",
          "NS",
          "NS",
          "NS",
          "NS",
          "NS",
          "NS",
          "NS",
          "NS",
          "F",
          "M",
          "NS",
          "NS",
          "F",
          "NS",
          "NS",
          "F",
          "F",
          "M",
          "M",
          "NS",
          "NS",
          "NS",
          "NS",
          "NS",
          "NS",
          "NS",
          "NS",
          "NS",
          "NS",
          "NS",
          "F",
          "NS",
          "F",
          "M",
          "NS",
          "NS",
          "M",
          "M",
          "NS",
          "NS",
          "NS",
          "NS",
          "NS",
          "F",
          "NS",
          "NS",
          "NS",
          "NS",
          "NS",
          "NS",
          "NS",
          "NS",
          "NS",
          "NS",
          "NS",
          "NS",
          "NS",
          "NS",
          "M"
         ],
         "xaxis": "x",
         "yaxis": "y"
        },
        {
         "showlegend": false,
         "type": "histogram",
         "x": [
          "M",
          "M",
          "M",
          "M",
          "M",
          "M",
          "M",
          "M",
          "M",
          "M",
          "NS",
          "M",
          "NS",
          "NS",
          "M",
          "M",
          "M",
          "F",
          "NS",
          "M",
          "F",
          "NS",
          "M",
          "M",
          "NS",
          "M",
          "M",
          "F",
          "M",
          "M",
          "M",
          "M",
          "M",
          "F",
          "F",
          "M",
          "M",
          "F",
          "M",
          "M",
          "F",
          "M",
          "M",
          "F",
          "F",
          "M",
          "M",
          "M",
          "M",
          "M",
          "NS",
          "F",
          "NS",
          "M",
          "M",
          "F",
          "M",
          "F",
          "NS",
          "NS",
          "M",
          "NS",
          "M",
          "NS",
          "F",
          "F",
          "F",
          "F",
          "M",
          "F",
          "F",
          "M",
          "F",
          "M",
          "F",
          "M",
          "M",
          "NS",
          "F",
          "M",
          "M",
          "F",
          "M",
          "F",
          "M",
          "F",
          "F",
          "F",
          "F",
          "F",
          "F",
          "F",
          "F",
          "M",
          "F",
          "F",
          "M",
          "M",
          "M",
          "F",
          "F",
          "M",
          "F",
          "M",
          "NS",
          "F",
          "M",
          "M",
          "F",
          "M",
          "M",
          "M",
          "M",
          "F",
          "M",
          "F",
          "M",
          "F",
          "M",
          "F",
          "F",
          "NS",
          "NS",
          "F",
          "F",
          "F",
          "F",
          "F",
          "F",
          "NS",
          "F",
          "F",
          "NS",
          "M",
          "NS",
          "NS",
          "NS",
          "F",
          "M",
          "M",
          "F",
          "M",
          "F",
          "F",
          "F",
          "F",
          "M",
          "M",
          "F",
          "F",
          "M",
          "M",
          "M",
          "M",
          "M",
          "M",
          "F",
          "M",
          "M",
          "M",
          "M",
          "M",
          "M",
          "M",
          "M",
          "F",
          "M",
          "M",
          "M",
          "M",
          "NS",
          "F",
          "F",
          "F",
          "F",
          "M",
          "M",
          "M",
          "F",
          "F",
          "M",
          "F",
          "M",
          "M",
          "M",
          "F",
          "M",
          "M",
          "F",
          "F",
          "F",
          "M",
          "F",
          "F",
          "M",
          "M",
          "M",
          "M",
          "M",
          "F",
          "M",
          "M",
          "M",
          "F",
          "F",
          "M",
          "M",
          "M",
          "M",
          "M",
          "F",
          "F",
          "F",
          "F",
          "M",
          "M",
          "M",
          "M",
          "M",
          "F",
          "F",
          "F",
          "F",
          "F",
          "F",
          "F",
          "F",
          "M",
          "F",
          "M",
          "M",
          "M",
          "F",
          "M",
          "M",
          "M",
          "F",
          "F",
          "F",
          "M",
          "F",
          "M",
          "F",
          "F",
          "F",
          "F",
          "F",
          "NS",
          "F",
          "F",
          "F",
          "F",
          "NS",
          "M",
          "M",
          "F",
          "M",
          "M",
          "M",
          "F",
          "M",
          "M",
          "M",
          "M",
          "M",
          "M",
          "M",
          "M",
          "M",
          "M",
          "M",
          "F",
          "F",
          "M",
          "M",
          "M",
          "M",
          "M",
          "M",
          "M",
          "F",
          "M",
          "M",
          "M",
          "F",
          "F",
          "M",
          "F",
          "M",
          "M",
          "M",
          "M",
          "M",
          "M",
          "M",
          "M",
          "M",
          "M",
          "F",
          "M",
          "M",
          "M",
          "M",
          "M",
          "M",
          "NS",
          "M",
          "M",
          "M",
          "M",
          "M",
          "F",
          "F",
          "M",
          "M",
          "F",
          "M",
          "M",
          "M",
          "M",
          "M",
          "M",
          "M",
          "F",
          "F",
          "F",
          "M",
          "M",
          "M",
          "F",
          "M",
          "M",
          "M",
          "M",
          "M",
          "F",
          "F",
          "F",
          "M",
          "M",
          "M",
          "M",
          "F",
          "M",
          "M",
          "M",
          "M",
          "M",
          "F",
          "M",
          "M",
          "M",
          "M",
          "M",
          "M",
          "F",
          "M",
          "M",
          "M",
          "M",
          "M",
          "M",
          "M",
          "M",
          "M",
          "M",
          "M",
          "M",
          "M",
          "M",
          "M",
          "M",
          "F",
          "M",
          "F",
          "F",
          "M",
          "F",
          "F",
          "F",
          "M",
          "M",
          "M",
          "M",
          "M",
          "M",
          "M",
          "M",
          "M",
          "F",
          "M",
          "M",
          "M",
          "M",
          "M",
          "M",
          "M",
          "M",
          "M",
          "M",
          "M",
          "M",
          "M",
          "NS",
          "NS",
          "M",
          "NS",
          "M",
          "M",
          "F",
          "F",
          "F",
          "F",
          "F",
          "F",
          "F",
          "M",
          "M",
          "M",
          "M",
          "M",
          "M",
          "M",
          "F",
          "M",
          "M",
          "M",
          "M",
          "M",
          "F",
          "M",
          "NS",
          "F",
          "M",
          "M",
          "F",
          "M",
          "M",
          "F",
          "M",
          "F",
          "M",
          "M",
          "M",
          "F",
          "M",
          "M",
          "M",
          "M",
          "M",
          "M",
          "F",
          "F",
          "M",
          "M",
          "M",
          "M",
          "M",
          "F",
          "M",
          "M",
          "M",
          "M",
          "F",
          "M",
          "F",
          "M",
          "F",
          "M",
          "F",
          "M",
          "M",
          "M",
          "M",
          "M",
          "M",
          "F",
          "M",
          "F",
          "M",
          "M",
          "F",
          "F",
          "F",
          "M",
          "F",
          "F",
          "F",
          "F",
          "F",
          "F",
          "NS",
          "F",
          "F",
          "F",
          "NS",
          "M",
          "M",
          "M",
          "M",
          "M",
          "F",
          "F",
          "F",
          "F",
          "F",
          "M",
          "M",
          "M",
          "F",
          "M",
          "F",
          "M",
          "F",
          "M",
          "F",
          "M",
          "M",
          "M",
          "M",
          "F",
          "F",
          "NS",
          "M",
          "M",
          "F",
          "M",
          "NS",
          "M",
          "NS",
          "F",
          "F",
          "NS",
          "NS",
          "NS",
          "M",
          "M",
          "NS",
          "M",
          "NS",
          "NS",
          "M",
          "M",
          "NS",
          "M",
          "NS",
          "NS",
          "NS",
          "F",
          "M",
          "M",
          "M",
          "F",
          "NS",
          "F",
          "F",
          "M",
          "F",
          "M",
          "M",
          "M",
          "F"
         ],
         "xaxis": "x2",
         "yaxis": "y2"
        },
        {
         "showlegend": false,
         "type": "histogram",
         "x": [
          "M",
          "M",
          "M",
          "M",
          "F",
          "M",
          "M",
          "M",
          "M",
          "M",
          "F",
          "M",
          "NS",
          "F",
          "F",
          "F",
          "M",
          "M",
          "M",
          "M",
          "F",
          "M",
          "F",
          "M",
          "NS",
          "M",
          "M",
          "F",
          "NS",
          "M",
          "NS",
          "NS",
          "NS",
          "M",
          "NS",
          "NS",
          "M",
          "M",
          "NS",
          "NS",
          "M",
          "F",
          "F",
          "NS",
          "NS",
          "M",
          "F",
          "NS",
          "NS",
          "M",
          "NS",
          "F",
          "NS",
          "NS",
          "NS",
          "NS",
          "NS",
          "NS",
          "NS",
          "NS",
          "NS",
          "NS",
          "NS",
          "NS",
          "NS",
          "NS",
          "NS",
          "NS",
          "NS",
          "NS",
          "NS",
          "NS",
          "NS",
          "NS",
          "NS",
          "NS",
          "NS",
          "NS",
          "NS",
          "NS",
          "NS",
          "F",
          "NS",
          "NS",
          "NS",
          "M",
          "M",
          "M",
          "M",
          "F",
          "M",
          "F",
          "F",
          "M",
          "M",
          "M",
          "M",
          "F",
          "M",
          "M",
          "F",
          "M",
          "F",
          "NS",
          "M",
          "NS",
          "NS",
          "F",
          "M",
          "M",
          "F",
          "F",
          "M",
          "NS",
          "M",
          "M",
          "M",
          "M",
          "F",
          "M",
          "M",
          "M",
          "M",
          "F",
          "M",
          "F",
          "NS",
          "NS",
          "M",
          "M",
          "F",
          "M",
          "M",
          "M",
          "NS",
          "NS",
          "NS",
          "M",
          "M",
          "NS",
          "M",
          "M",
          "NS",
          "NS",
          "NS",
          "M",
          "M",
          "M",
          "NS",
          "NS",
          "NS",
          "NS",
          "NS",
          "NS",
          "F",
          "NS",
          "NS",
          "NS",
          "NS",
          "F",
          "NS",
          "M",
          "M",
          "F",
          "F",
          "NS",
          "NS",
          "NS",
          "NS",
          "M",
          "NS",
          "NS",
          "F",
          "NS",
          "NS",
          "F",
          "F",
          "NS",
          "NS",
          "NS",
          "NS",
          "NS",
          "NS",
          "NS",
          "M",
          "NS",
          "NS",
          "NS",
          "NS",
          "NS",
          "NS",
          "M",
          "NS",
          "NS",
          "NS",
          "NS",
          "M",
          "NS",
          "NS",
          "NS",
          "NS",
          "NS",
          "NS",
          "NS",
          "NS",
          "NS",
          "NS",
          "NS",
          "NS",
          "NS",
          "NS",
          "NS",
          "NS",
          "NS",
          "NS",
          "NS",
          "F",
          "F",
          "M",
          "M",
          "M",
          "M",
          "M",
          "M",
          "M",
          "M",
          "M",
          "NS",
          "M",
          "M",
          "M",
          "F",
          "M",
          "M",
          "M",
          "M",
          "M",
          "F",
          "F",
          "M",
          "M",
          "M",
          "NS",
          "NS",
          "M",
          "F",
          "NS",
          "F",
          "M",
          "F",
          "NS",
          "NS",
          "NS",
          "M",
          "M",
          "M",
          "M",
          "NS",
          "M",
          "F",
          "NS",
          "F",
          "F",
          "NS",
          "M",
          "F",
          "NS",
          "M",
          "M",
          "NS",
          "F",
          "NS",
          "F",
          "M",
          "M",
          "NS",
          "F",
          "NS",
          "NS",
          "NS",
          "M",
          "NS",
          "F",
          "NS",
          "NS",
          "M",
          "NS",
          "NS",
          "NS",
          "NS",
          "NS",
          "NS",
          "M",
          "NS",
          "NS",
          "NS",
          "NS",
          "NS",
          "NS",
          "NS",
          "NS",
          "NS",
          "NS",
          "NS",
          "NS",
          "NS",
          "NS",
          "NS",
          "NS",
          "NS",
          "NS",
          "NS",
          "NS",
          "NS",
          "NS",
          "M",
          "NS",
          "NS",
          "F",
          "NS",
          "NS",
          "NS",
          "NS",
          "NS",
          "NS",
          "F",
          "NS",
          "NS",
          "NS",
          "NS",
          "NS",
          "NS",
          "M",
          "M",
          "M",
          "M",
          "M",
          "F",
          "M",
          "F",
          "M",
          "M",
          "M",
          "M",
          "M",
          "F",
          "F",
          "M",
          "F",
          "NS",
          "F",
          "F",
          "M",
          "M",
          "F",
          "F",
          "M",
          "M",
          "M",
          "NS",
          "M",
          "M",
          "F",
          "M",
          "M",
          "NS",
          "NS",
          "NS",
          "F",
          "NS",
          "M",
          "F",
          "NS",
          "M",
          "NS",
          "M",
          "F",
          "M",
          "NS",
          "F",
          "NS",
          "M",
          "M",
          "M",
          "NS",
          "F",
          "NS",
          "M",
          "M",
          "M",
          "M",
          "NS",
          "NS",
          "M",
          "M",
          "M",
          "NS",
          "NS",
          "NS",
          "M",
          "M",
          "M",
          "NS",
          "M",
          "M",
          "M",
          "M",
          "NS",
          "NS",
          "F",
          "NS",
          "NS",
          "M",
          "F",
          "NS",
          "M",
          "M",
          "NS",
          "NS",
          "NS",
          "NS",
          "M",
          "M",
          "F",
          "F",
          "F",
          "M",
          "M",
          "NS",
          "NS",
          "NS",
          "NS",
          "NS",
          "NS",
          "NS",
          "NS",
          "NS",
          "NS",
          "M",
          "NS",
          "M",
          "M",
          "NS",
          "NS",
          "NS",
          "M",
          "M",
          "M",
          "M",
          "F",
          "NS",
          "NS",
          "NS",
          "NS",
          "M",
          "M",
          "M",
          "NS",
          "F",
          "NS",
          "NS",
          "NS",
          "NS",
          "NS",
          "NS",
          "NS",
          "NS",
          "NS",
          "NS",
          "NS",
          "M",
          "NS",
          "M",
          "NS",
          "NS",
          "NS",
          "M",
          "M",
          "M",
          "NS",
          "NS",
          "NS",
          "NS",
          "M",
          "NS",
          "NS",
          "NS",
          "NS",
          "F",
          "NS",
          "NS",
          "NS",
          "NS",
          "NS",
          "NS",
          "M",
          "M",
          "M",
          "NS",
          "NS",
          "NS",
          "NS",
          "NS",
          "NS",
          "NS",
          "NS",
          "NS",
          "NS",
          "M",
          "NS",
          "NS",
          "NS",
          "NS",
          "NS",
          "NS",
          "NS",
          "NS",
          "NS",
          "NS",
          "NS",
          "M",
          "NS",
          "NS",
          "NS",
          "NS",
          "NS",
          "NS",
          "NS",
          "NS",
          "NS",
          "NS",
          "M",
          "NS",
          "NS",
          "NS",
          "NS",
          "NS",
          "M",
          "NS",
          "NS",
          "NS",
          "NS",
          "NS",
          "NS",
          "NS",
          "NS",
          "NS",
          "NS",
          "NS",
          "NS",
          "NS",
          "NS",
          "NS",
          "M",
          "M",
          "M",
          "M",
          "M",
          "F",
          "M",
          "F",
          "F",
          "F",
          "F",
          "F",
          "M",
          "F",
          "M",
          "M",
          "M",
          "M",
          "M",
          "M",
          "M",
          "NS",
          "F",
          "F",
          "M",
          "NS",
          "NS",
          "M",
          "F",
          "F",
          "M",
          "M",
          "F",
          "M",
          "M",
          "F",
          "NS",
          "M",
          "M",
          "M",
          "M",
          "F",
          "M",
          "F",
          "NS",
          "F",
          "M",
          "M",
          "NS",
          "M",
          "M",
          "M",
          "NS",
          "NS",
          "M",
          "NS",
          "NS",
          "NS",
          "NS",
          "NS",
          "NS",
          "M",
          "M",
          "NS",
          "NS",
          "M",
          "M",
          "NS",
          "NS",
          "M",
          "M",
          "NS",
          "NS",
          "NS",
          "F",
          "M",
          "NS",
          "NS",
          "NS",
          "M",
          "M",
          "M",
          "M",
          "M",
          "M",
          "M",
          "NS",
          "M",
          "NS",
          "F",
          "M",
          "NS",
          "F",
          "NS",
          "NS",
          "NS",
          "M",
          "NS",
          "NS",
          "NS",
          "NS",
          "NS",
          "M",
          "NS",
          "M",
          "M",
          "M",
          "NS",
          "NS",
          "M",
          "NS",
          "F",
          "M",
          "NS",
          "M",
          "M",
          "NS",
          "M",
          "M",
          "M",
          "M",
          "M",
          "NS",
          "M",
          "M",
          "M",
          "NS",
          "M",
          "M",
          "NS",
          "NS",
          "F",
          "F",
          "F",
          "M",
          "M",
          "M",
          "NS",
          "NS",
          "M",
          "NS",
          "M",
          "NS",
          "F",
          "M",
          "NS",
          "NS",
          "F",
          "M",
          "M",
          "NS",
          "NS",
          "NS",
          "NS",
          "F",
          "NS",
          "NS",
          "NS",
          "NS",
          "M",
          "M",
          "NS",
          "M",
          "NS",
          "NS",
          "NS",
          "NS",
          "NS",
          "NS",
          "NS",
          "NS",
          "NS",
          "NS",
          "NS",
          "NS",
          "M",
          "NS",
          "NS",
          "NS",
          "F",
          "NS",
          "NS",
          "NS",
          "NS",
          "NS",
          "NS",
          "NS",
          "NS",
          "M",
          "F",
          "M",
          "M",
          "F",
          "M",
          "M",
          "M",
          "NS",
          "NS",
          "NS",
          "NS",
          "NS",
          "M",
          "F",
          "NS",
          "NS",
          "F",
          "M",
          "NS",
          "M",
          "NS",
          "NS",
          "NS",
          "NS",
          "NS",
          "NS",
          "NS",
          "NS",
          "NS",
          "NS",
          "NS",
          "NS",
          "M",
          "NS",
          "NS",
          "NS",
          "NS",
          "NS",
          "NS",
          "NS",
          "NS",
          "NS",
          "F",
          "M",
          "M",
          "M",
          "M",
          "M",
          "M",
          "F",
          "M",
          "F",
          "M",
          "F",
          "F",
          "F",
          "M",
          "F",
          "M",
          "M",
          "M",
          "M",
          "M",
          "M",
          "M",
          "NS",
          "F",
          "NS",
          "M",
          "F",
          "M",
          "M",
          "F",
          "F",
          "M",
          "M",
          "F",
          "M",
          "NS",
          "M",
          "NS",
          "NS",
          "NS",
          "NS",
          "NS",
          "NS",
          "NS",
          "NS",
          "M",
          "NS",
          "M",
          "NS",
          "M",
          "M",
          "NS",
          "NS",
          "NS",
          "M",
          "M",
          "M",
          "M",
          "M",
          "M",
          "M",
          "NS",
          "F",
          "M",
          "NS",
          "NS",
          "M",
          "NS",
          "NS",
          "NS",
          "NS",
          "NS",
          "NS",
          "NS",
          "M",
          "M",
          "M",
          "NS",
          "NS",
          "NS",
          "M",
          "NS",
          "M",
          "NS",
          "M",
          "M",
          "NS",
          "NS",
          "NS",
          "M",
          "M",
          "NS",
          "NS",
          "M",
          "NS",
          "NS",
          "F",
          "F",
          "M",
          "M",
          "M",
          "M",
          "NS",
          "NS",
          "M",
          "NS",
          "M",
          "NS",
          "NS",
          "M",
          "F",
          "M",
          "M",
          "M",
          "NS",
          "NS",
          "NS",
          "NS",
          "M",
          "NS",
          "M",
          "NS",
          "NS",
          "NS",
          "NS",
          "NS",
          "NS",
          "NS",
          "NS",
          "NS",
          "M",
          "F",
          "NS",
          "NS",
          "NS",
          "NS",
          "NS",
          "NS",
          "M",
          "NS",
          "NS",
          "NS",
          "NS",
          "NS",
          "NS",
          "NS",
          "NS",
          "NS",
          "F",
          "NS",
          "M",
          "NS",
          "M",
          "NS",
          "NS",
          "NS",
          "NS",
          "NS",
          "NS",
          "F",
          "NS",
          "NS",
          "NS",
          "NS",
          "NS",
          "NS",
          "NS",
          "NS",
          "NS",
          "NS",
          "NS",
          "NS",
          "M",
          "NS",
          "NS",
          "NS",
          "NS",
          "NS",
          "NS",
          "NS",
          "NS",
          "NS",
          "F",
          "NS",
          "NS",
          "NS",
          "M",
          "M",
          "M",
          "M",
          "M",
          "M",
          "F",
          "M",
          "M",
          "F",
          "M",
          "M",
          "F",
          "F",
          "F",
          "NS",
          "NS",
          "NS",
          "M",
          "NS",
          "F",
          "M",
          "M",
          "NS",
          "M",
          "M",
          "M",
          "F",
          "NS",
          "M",
          "M",
          "NS",
          "F",
          "NS",
          "NS",
          "NS",
          "NS",
          "M",
          "F",
          "F",
          "M",
          "M",
          "M",
          "NS",
          "NS",
          "F",
          "NS",
          "NS",
          "NS",
          "M",
          "M",
          "M",
          "F",
          "M",
          "M",
          "NS",
          "M",
          "NS",
          "M",
          "M",
          "NS",
          "NS",
          "M",
          "M",
          "NS",
          "NS",
          "NS",
          "M",
          "F",
          "NS",
          "NS",
          "NS",
          "NS",
          "M",
          "NS",
          "F",
          "NS",
          "NS",
          "NS",
          "NS",
          "M",
          "NS",
          "NS",
          "NS",
          "NS",
          "NS",
          "F",
          "NS",
          "NS",
          "M",
          "M",
          "NS",
          "NS",
          "NS",
          "NS",
          "NS",
          "NS",
          "NS",
          "NS",
          "M",
          "F",
          "NS",
          "NS",
          "M",
          "F",
          "M",
          "M",
          "NS",
          "NS",
          "NS",
          "F",
          "NS",
          "F",
          "NS",
          "NS",
          "NS",
          "M",
          "NS",
          "M",
          "NS",
          "NS",
          "NS",
          "M",
          "NS",
          "NS",
          "NS",
          "F",
          "F",
          "NS",
          "NS",
          "M",
          "NS",
          "NS",
          "NS",
          "NS",
          "NS",
          "NS",
          "NS",
          "NS",
          "NS",
          "NS",
          "NS",
          "NS",
          "NS",
          "F",
          "NS",
          "NS",
          "NS",
          "F",
          "F",
          "NS",
          "NS",
          "NS",
          "NS",
          "NS",
          "NS",
          "NS",
          "NS",
          "NS",
          "NS",
          "NS",
          "NS",
          "NS",
          "NS",
          "NS",
          "NS",
          "NS",
          "NS",
          "NS",
          "NS",
          "NS",
          "NS",
          "NS",
          "NS",
          "NS",
          "NS",
          "NS",
          "NS",
          "NS",
          "NS",
          "NS",
          "NS",
          "NS",
          "NS",
          "NS",
          "NS",
          "M",
          "M",
          "M",
          "M",
          "F",
          "F",
          "M",
          "F",
          "F",
          "M",
          "F",
          "M",
          "M",
          "M",
          "M",
          "F",
          "F",
          "NS",
          "F",
          "F",
          "M",
          "M",
          "NS",
          "M",
          "F",
          "M",
          "F",
          "NS",
          "M",
          "M",
          "M",
          "M",
          "F",
          "M",
          "M",
          "NS",
          "M",
          "M",
          "M",
          "M",
          "M",
          "M",
          "F",
          "M",
          "M",
          "M",
          "F",
          "F",
          "NS",
          "NS",
          "M",
          "M",
          "M",
          "M",
          "NS",
          "NS",
          "M",
          "M",
          "NS",
          "M",
          "NS",
          "NS",
          "F",
          "NS",
          "M",
          "M",
          "F",
          "NS",
          "M",
          "M",
          "NS",
          "NS",
          "NS",
          "F",
          "F",
          "M",
          "M",
          "NS",
          "NS",
          "NS",
          "NS",
          "NS",
          "NS",
          "NS",
          "M",
          "M",
          "NS",
          "NS",
          "NS",
          "NS",
          "M",
          "NS",
          "NS",
          "F",
          "F",
          "M",
          "NS",
          "NS",
          "M",
          "M",
          "M",
          "M",
          "M",
          "F",
          "M",
          "M",
          "M",
          "M",
          "M",
          "M",
          "F",
          "M",
          "M",
          "M",
          "M",
          "F",
          "NS",
          "M",
          "M",
          "F",
          "M",
          "NS",
          "M",
          "M",
          "F",
          "M",
          "M",
          "M",
          "M",
          "M",
          "M",
          "M",
          "M",
          "F",
          "NS",
          "NS",
          "M",
          "F",
          "NS",
          "NS",
          "F",
          "M",
          "M",
          "NS",
          "M",
          "M",
          "NS",
          "NS",
          "NS",
          "F",
          "NS",
          "M",
          "M",
          "M",
          "NS",
          "NS",
          "NS",
          "M",
          "M",
          "M",
          "F",
          "F",
          "F",
          "NS",
          "M",
          "M",
          "F",
          "NS",
          "M",
          "F",
          "F",
          "NS",
          "NS",
          "NS",
          "NS",
          "NS",
          "NS",
          "NS",
          "NS",
          "NS",
          "NS",
          "NS",
          "F",
          "F",
          "NS",
          "F",
          "M",
          "F",
          "NS",
          "NS",
          "NS",
          "M",
          "M",
          "M",
          "NS",
          "NS",
          "F",
          "F",
          "M",
          "M",
          "NS",
          "NS",
          "F",
          "M",
          "M",
          "M",
          "M",
          "NS",
          "M",
          "NS",
          "M",
          "NS",
          "NS",
          "NS",
          "M",
          "NS",
          "F",
          "NS",
          "NS",
          "NS",
          "M",
          "M",
          "M",
          "M",
          "F",
          "M",
          "M",
          "M",
          "M",
          "F",
          "M",
          "F",
          "M",
          "M",
          "F",
          "M",
          "M",
          "M",
          "M",
          "M",
          "F",
          "M",
          "NS",
          "NS",
          "F",
          "NS",
          "NS",
          "NS",
          "M",
          "M",
          "M",
          "M",
          "M",
          "M",
          "NS",
          "NS",
          "F",
          "NS",
          "M",
          "M",
          "F",
          "NS",
          "NS",
          "NS",
          "M",
          "M",
          "M",
          "M",
          "F",
          "NS",
          "M",
          "NS",
          "NS",
          "NS",
          "NS",
          "F",
          "M",
          "F",
          "F",
          "M",
          "F",
          "NS",
          "M",
          "M",
          "NS",
          "NS",
          "NS",
          "NS",
          "F",
          "F",
          "M",
          "M",
          "M",
          "M",
          "NS",
          "NS",
          "NS",
          "NS",
          "NS",
          "NS",
          "NS",
          "NS",
          "NS",
          "NS",
          "NS",
          "NS",
          "M",
          "M",
          "M",
          "NS",
          "NS",
          "M",
          "M",
          "M",
          "M",
          "M",
          "M",
          "M",
          "F",
          "F",
          "M",
          "F",
          "F",
          "F",
          "F",
          "M",
          "F",
          "M",
          "M",
          "NS",
          "M",
          "M",
          "M",
          "M",
          "F",
          "M",
          "M",
          "M",
          "M",
          "F",
          "M",
          "M",
          "M",
          "NS",
          "M",
          "NS",
          "M",
          "M",
          "M",
          "M",
          "NS",
          "F",
          "NS",
          "NS",
          "NS",
          "F",
          "M",
          "F",
          "F",
          "M",
          "NS",
          "NS",
          "NS",
          "NS",
          "NS",
          "NS",
          "NS",
          "NS",
          "F",
          "M",
          "NS",
          "NS",
          "M",
          "M",
          "F",
          "NS",
          "M",
          "NS",
          "NS",
          "M",
          "M",
          "F",
          "M",
          "M",
          "M",
          "NS",
          "F",
          "NS",
          "NS",
          "M",
          "NS",
          "M",
          "NS",
          "NS",
          "NS",
          "NS",
          "NS",
          "M",
          "F",
          "NS",
          "NS",
          "NS",
          "NS",
          "F",
          "NS",
          "M",
          "M",
          "M",
          "M",
          "NS",
          "NS",
          "NS",
          "NS",
          "M",
          "NS",
          "F",
          "F",
          "M",
          "M",
          "NS",
          "NS",
          "M",
          "NS",
          "F",
          "NS",
          "F",
          "F",
          "M",
          "M",
          "M",
          "M",
          "NS",
          "F",
          "NS",
          "NS",
          "M",
          "NS",
          "NS",
          "NS",
          "NS",
          "NS",
          "M",
          "NS",
          "NS",
          "NS",
          "NS",
          "NS",
          "NS",
          "NS",
          "NS",
          "NS",
          "NS",
          "NS",
          "NS",
          "NS",
          "F",
          "M",
          "NS",
          "NS",
          "NS",
          "F",
          "NS",
          "NS",
          "F",
          "F",
          "M",
          "M",
          "NS",
          "NS",
          "NS",
          "NS",
          "NS",
          "NS",
          "NS",
          "NS",
          "NS",
          "NS",
          "NS",
          "F",
          "NS",
          "F",
          "M",
          "NS",
          "NS",
          "M",
          "M",
          "NS",
          "NS",
          "NS",
          "NS",
          "NS",
          "F",
          "NS",
          "NS",
          "NS",
          "NS",
          "NS",
          "NS",
          "NS",
          "NS",
          "NS",
          "NS",
          "NS",
          "NS",
          "NS",
          "NS",
          "NS",
          "M"
         ],
         "xaxis": "x3",
         "yaxis": "y3"
        }
       ],
       "layout": {
        "annotations": [
         {
          "font": {
           "size": 16
          },
          "showarrow": false,
          "text": "Overall",
          "x": 0.14444444444444446,
          "xanchor": "center",
          "xref": "paper",
          "y": 1,
          "yanchor": "bottom",
          "yref": "paper"
         },
         {
          "font": {
           "size": 16
          },
          "showarrow": false,
          "text": "Cast",
          "x": 0.5,
          "xanchor": "center",
          "xref": "paper",
          "y": 1,
          "yanchor": "bottom",
          "yref": "paper"
         },
         {
          "font": {
           "size": 16
          },
          "showarrow": false,
          "text": "Crew",
          "x": 0.8555555555555556,
          "xanchor": "center",
          "xref": "paper",
          "y": 1,
          "yanchor": "bottom",
          "yref": "paper"
         }
        ],
        "margin": {
         "b": 25,
         "l": 25,
         "r": 25,
         "t": 25
        },
        "template": {
         "data": {
          "bar": [
           {
            "error_x": {
             "color": "#2a3f5f"
            },
            "error_y": {
             "color": "#2a3f5f"
            },
            "marker": {
             "line": {
              "color": "#E5ECF6",
              "width": 0.5
             },
             "pattern": {
              "fillmode": "overlay",
              "size": 10,
              "solidity": 0.2
             }
            },
            "type": "bar"
           }
          ],
          "barpolar": [
           {
            "marker": {
             "line": {
              "color": "#E5ECF6",
              "width": 0.5
             },
             "pattern": {
              "fillmode": "overlay",
              "size": 10,
              "solidity": 0.2
             }
            },
            "type": "barpolar"
           }
          ],
          "carpet": [
           {
            "aaxis": {
             "endlinecolor": "#2a3f5f",
             "gridcolor": "white",
             "linecolor": "white",
             "minorgridcolor": "white",
             "startlinecolor": "#2a3f5f"
            },
            "baxis": {
             "endlinecolor": "#2a3f5f",
             "gridcolor": "white",
             "linecolor": "white",
             "minorgridcolor": "white",
             "startlinecolor": "#2a3f5f"
            },
            "type": "carpet"
           }
          ],
          "choropleth": [
           {
            "colorbar": {
             "outlinewidth": 0,
             "ticks": ""
            },
            "type": "choropleth"
           }
          ],
          "contour": [
           {
            "colorbar": {
             "outlinewidth": 0,
             "ticks": ""
            },
            "colorscale": [
             [
              0,
              "#0d0887"
             ],
             [
              0.1111111111111111,
              "#46039f"
             ],
             [
              0.2222222222222222,
              "#7201a8"
             ],
             [
              0.3333333333333333,
              "#9c179e"
             ],
             [
              0.4444444444444444,
              "#bd3786"
             ],
             [
              0.5555555555555556,
              "#d8576b"
             ],
             [
              0.6666666666666666,
              "#ed7953"
             ],
             [
              0.7777777777777778,
              "#fb9f3a"
             ],
             [
              0.8888888888888888,
              "#fdca26"
             ],
             [
              1,
              "#f0f921"
             ]
            ],
            "type": "contour"
           }
          ],
          "contourcarpet": [
           {
            "colorbar": {
             "outlinewidth": 0,
             "ticks": ""
            },
            "type": "contourcarpet"
           }
          ],
          "heatmap": [
           {
            "colorbar": {
             "outlinewidth": 0,
             "ticks": ""
            },
            "colorscale": [
             [
              0,
              "#0d0887"
             ],
             [
              0.1111111111111111,
              "#46039f"
             ],
             [
              0.2222222222222222,
              "#7201a8"
             ],
             [
              0.3333333333333333,
              "#9c179e"
             ],
             [
              0.4444444444444444,
              "#bd3786"
             ],
             [
              0.5555555555555556,
              "#d8576b"
             ],
             [
              0.6666666666666666,
              "#ed7953"
             ],
             [
              0.7777777777777778,
              "#fb9f3a"
             ],
             [
              0.8888888888888888,
              "#fdca26"
             ],
             [
              1,
              "#f0f921"
             ]
            ],
            "type": "heatmap"
           }
          ],
          "heatmapgl": [
           {
            "colorbar": {
             "outlinewidth": 0,
             "ticks": ""
            },
            "colorscale": [
             [
              0,
              "#0d0887"
             ],
             [
              0.1111111111111111,
              "#46039f"
             ],
             [
              0.2222222222222222,
              "#7201a8"
             ],
             [
              0.3333333333333333,
              "#9c179e"
             ],
             [
              0.4444444444444444,
              "#bd3786"
             ],
             [
              0.5555555555555556,
              "#d8576b"
             ],
             [
              0.6666666666666666,
              "#ed7953"
             ],
             [
              0.7777777777777778,
              "#fb9f3a"
             ],
             [
              0.8888888888888888,
              "#fdca26"
             ],
             [
              1,
              "#f0f921"
             ]
            ],
            "type": "heatmapgl"
           }
          ],
          "histogram": [
           {
            "marker": {
             "pattern": {
              "fillmode": "overlay",
              "size": 10,
              "solidity": 0.2
             }
            },
            "type": "histogram"
           }
          ],
          "histogram2d": [
           {
            "colorbar": {
             "outlinewidth": 0,
             "ticks": ""
            },
            "colorscale": [
             [
              0,
              "#0d0887"
             ],
             [
              0.1111111111111111,
              "#46039f"
             ],
             [
              0.2222222222222222,
              "#7201a8"
             ],
             [
              0.3333333333333333,
              "#9c179e"
             ],
             [
              0.4444444444444444,
              "#bd3786"
             ],
             [
              0.5555555555555556,
              "#d8576b"
             ],
             [
              0.6666666666666666,
              "#ed7953"
             ],
             [
              0.7777777777777778,
              "#fb9f3a"
             ],
             [
              0.8888888888888888,
              "#fdca26"
             ],
             [
              1,
              "#f0f921"
             ]
            ],
            "type": "histogram2d"
           }
          ],
          "histogram2dcontour": [
           {
            "colorbar": {
             "outlinewidth": 0,
             "ticks": ""
            },
            "colorscale": [
             [
              0,
              "#0d0887"
             ],
             [
              0.1111111111111111,
              "#46039f"
             ],
             [
              0.2222222222222222,
              "#7201a8"
             ],
             [
              0.3333333333333333,
              "#9c179e"
             ],
             [
              0.4444444444444444,
              "#bd3786"
             ],
             [
              0.5555555555555556,
              "#d8576b"
             ],
             [
              0.6666666666666666,
              "#ed7953"
             ],
             [
              0.7777777777777778,
              "#fb9f3a"
             ],
             [
              0.8888888888888888,
              "#fdca26"
             ],
             [
              1,
              "#f0f921"
             ]
            ],
            "type": "histogram2dcontour"
           }
          ],
          "mesh3d": [
           {
            "colorbar": {
             "outlinewidth": 0,
             "ticks": ""
            },
            "type": "mesh3d"
           }
          ],
          "parcoords": [
           {
            "line": {
             "colorbar": {
              "outlinewidth": 0,
              "ticks": ""
             }
            },
            "type": "parcoords"
           }
          ],
          "pie": [
           {
            "automargin": true,
            "type": "pie"
           }
          ],
          "scatter": [
           {
            "fillpattern": {
             "fillmode": "overlay",
             "size": 10,
             "solidity": 0.2
            },
            "type": "scatter"
           }
          ],
          "scatter3d": [
           {
            "line": {
             "colorbar": {
              "outlinewidth": 0,
              "ticks": ""
             }
            },
            "marker": {
             "colorbar": {
              "outlinewidth": 0,
              "ticks": ""
             }
            },
            "type": "scatter3d"
           }
          ],
          "scattercarpet": [
           {
            "marker": {
             "colorbar": {
              "outlinewidth": 0,
              "ticks": ""
             }
            },
            "type": "scattercarpet"
           }
          ],
          "scattergeo": [
           {
            "marker": {
             "colorbar": {
              "outlinewidth": 0,
              "ticks": ""
             }
            },
            "type": "scattergeo"
           }
          ],
          "scattergl": [
           {
            "marker": {
             "colorbar": {
              "outlinewidth": 0,
              "ticks": ""
             }
            },
            "type": "scattergl"
           }
          ],
          "scattermapbox": [
           {
            "marker": {
             "colorbar": {
              "outlinewidth": 0,
              "ticks": ""
             }
            },
            "type": "scattermapbox"
           }
          ],
          "scatterpolar": [
           {
            "marker": {
             "colorbar": {
              "outlinewidth": 0,
              "ticks": ""
             }
            },
            "type": "scatterpolar"
           }
          ],
          "scatterpolargl": [
           {
            "marker": {
             "colorbar": {
              "outlinewidth": 0,
              "ticks": ""
             }
            },
            "type": "scatterpolargl"
           }
          ],
          "scatterternary": [
           {
            "marker": {
             "colorbar": {
              "outlinewidth": 0,
              "ticks": ""
             }
            },
            "type": "scatterternary"
           }
          ],
          "surface": [
           {
            "colorbar": {
             "outlinewidth": 0,
             "ticks": ""
            },
            "colorscale": [
             [
              0,
              "#0d0887"
             ],
             [
              0.1111111111111111,
              "#46039f"
             ],
             [
              0.2222222222222222,
              "#7201a8"
             ],
             [
              0.3333333333333333,
              "#9c179e"
             ],
             [
              0.4444444444444444,
              "#bd3786"
             ],
             [
              0.5555555555555556,
              "#d8576b"
             ],
             [
              0.6666666666666666,
              "#ed7953"
             ],
             [
              0.7777777777777778,
              "#fb9f3a"
             ],
             [
              0.8888888888888888,
              "#fdca26"
             ],
             [
              1,
              "#f0f921"
             ]
            ],
            "type": "surface"
           }
          ],
          "table": [
           {
            "cells": {
             "fill": {
              "color": "#EBF0F8"
             },
             "line": {
              "color": "white"
             }
            },
            "header": {
             "fill": {
              "color": "#C8D4E3"
             },
             "line": {
              "color": "white"
             }
            },
            "type": "table"
           }
          ]
         },
         "layout": {
          "annotationdefaults": {
           "arrowcolor": "#2a3f5f",
           "arrowhead": 0,
           "arrowwidth": 1
          },
          "autotypenumbers": "strict",
          "coloraxis": {
           "colorbar": {
            "outlinewidth": 0,
            "ticks": ""
           }
          },
          "colorscale": {
           "diverging": [
            [
             0,
             "#8e0152"
            ],
            [
             0.1,
             "#c51b7d"
            ],
            [
             0.2,
             "#de77ae"
            ],
            [
             0.3,
             "#f1b6da"
            ],
            [
             0.4,
             "#fde0ef"
            ],
            [
             0.5,
             "#f7f7f7"
            ],
            [
             0.6,
             "#e6f5d0"
            ],
            [
             0.7,
             "#b8e186"
            ],
            [
             0.8,
             "#7fbc41"
            ],
            [
             0.9,
             "#4d9221"
            ],
            [
             1,
             "#276419"
            ]
           ],
           "sequential": [
            [
             0,
             "#0d0887"
            ],
            [
             0.1111111111111111,
             "#46039f"
            ],
            [
             0.2222222222222222,
             "#7201a8"
            ],
            [
             0.3333333333333333,
             "#9c179e"
            ],
            [
             0.4444444444444444,
             "#bd3786"
            ],
            [
             0.5555555555555556,
             "#d8576b"
            ],
            [
             0.6666666666666666,
             "#ed7953"
            ],
            [
             0.7777777777777778,
             "#fb9f3a"
            ],
            [
             0.8888888888888888,
             "#fdca26"
            ],
            [
             1,
             "#f0f921"
            ]
           ],
           "sequentialminus": [
            [
             0,
             "#0d0887"
            ],
            [
             0.1111111111111111,
             "#46039f"
            ],
            [
             0.2222222222222222,
             "#7201a8"
            ],
            [
             0.3333333333333333,
             "#9c179e"
            ],
            [
             0.4444444444444444,
             "#bd3786"
            ],
            [
             0.5555555555555556,
             "#d8576b"
            ],
            [
             0.6666666666666666,
             "#ed7953"
            ],
            [
             0.7777777777777778,
             "#fb9f3a"
            ],
            [
             0.8888888888888888,
             "#fdca26"
            ],
            [
             1,
             "#f0f921"
            ]
           ]
          },
          "colorway": [
           "#636efa",
           "#EF553B",
           "#00cc96",
           "#ab63fa",
           "#FFA15A",
           "#19d3f3",
           "#FF6692",
           "#B6E880",
           "#FF97FF",
           "#FECB52"
          ],
          "font": {
           "color": "#2a3f5f"
          },
          "geo": {
           "bgcolor": "white",
           "lakecolor": "white",
           "landcolor": "#E5ECF6",
           "showlakes": true,
           "showland": true,
           "subunitcolor": "white"
          },
          "hoverlabel": {
           "align": "left"
          },
          "hovermode": "closest",
          "mapbox": {
           "style": "light"
          },
          "paper_bgcolor": "white",
          "plot_bgcolor": "#E5ECF6",
          "polar": {
           "angularaxis": {
            "gridcolor": "white",
            "linecolor": "white",
            "ticks": ""
           },
           "bgcolor": "#E5ECF6",
           "radialaxis": {
            "gridcolor": "white",
            "linecolor": "white",
            "ticks": ""
           }
          },
          "scene": {
           "xaxis": {
            "backgroundcolor": "#E5ECF6",
            "gridcolor": "white",
            "gridwidth": 2,
            "linecolor": "white",
            "showbackground": true,
            "ticks": "",
            "zerolinecolor": "white"
           },
           "yaxis": {
            "backgroundcolor": "#E5ECF6",
            "gridcolor": "white",
            "gridwidth": 2,
            "linecolor": "white",
            "showbackground": true,
            "ticks": "",
            "zerolinecolor": "white"
           },
           "zaxis": {
            "backgroundcolor": "#E5ECF6",
            "gridcolor": "white",
            "gridwidth": 2,
            "linecolor": "white",
            "showbackground": true,
            "ticks": "",
            "zerolinecolor": "white"
           }
          },
          "shapedefaults": {
           "line": {
            "color": "#2a3f5f"
           }
          },
          "ternary": {
           "aaxis": {
            "gridcolor": "white",
            "linecolor": "white",
            "ticks": ""
           },
           "baxis": {
            "gridcolor": "white",
            "linecolor": "white",
            "ticks": ""
           },
           "bgcolor": "#E5ECF6",
           "caxis": {
            "gridcolor": "white",
            "linecolor": "white",
            "ticks": ""
           }
          },
          "title": {
           "x": 0.05
          },
          "xaxis": {
           "automargin": true,
           "gridcolor": "white",
           "linecolor": "white",
           "ticks": "",
           "title": {
            "standoff": 15
           },
           "zerolinecolor": "white",
           "zerolinewidth": 2
          },
          "yaxis": {
           "automargin": true,
           "gridcolor": "white",
           "linecolor": "white",
           "ticks": "",
           "title": {
            "standoff": 15
           },
           "zerolinecolor": "white",
           "zerolinewidth": 2
          }
         }
        },
        "width": 1000,
        "xaxis": {
         "anchor": "y",
         "domain": [
          0,
          0.2888888888888889
         ]
        },
        "xaxis2": {
         "anchor": "y2",
         "domain": [
          0.35555555555555557,
          0.6444444444444445
         ]
        },
        "xaxis3": {
         "anchor": "y3",
         "domain": [
          0.7111111111111111,
          1
         ]
        },
        "yaxis": {
         "anchor": "x",
         "domain": [
          0,
          1
         ]
        },
        "yaxis2": {
         "anchor": "x2",
         "domain": [
          0,
          1
         ]
        },
        "yaxis3": {
         "anchor": "x3",
         "domain": [
          0,
          1
         ]
        }
       }
      }
     },
     "metadata": {},
     "output_type": "display_data"
    }
   ],
   "source": [
    "df = person_df.join(cast_df.set_index('person'), on='person', how='right')[['title', 'person', 'gender']]\n",
    "\n",
    "fig = make_subplots(rows=1, cols=3, subplot_titles=('Overall', 'Cast', 'Crew'))\n",
    "\n",
    "fig.add_trace(go.Histogram(x=person_df['gender']), row=1, col=1)\n",
    "\n",
    "df = person_df.join(cast_df.set_index('person'), on='person', how='right')[['title', 'person', 'gender']]\n",
    "\n",
    "fig.add_trace(go.Histogram(x=df['gender']), row=1, col=2)\n",
    "\n",
    "df = person_df.join(crew_df.set_index('person'), on='person', how='right')[['title', 'person', 'gender']]\n",
    "\n",
    "fig.add_trace(go.Histogram(x=df['gender']), row=1, col=3)\n",
    "\n",
    "fig.update_traces(showlegend=False)\n",
    "\n",
    "fig.update_layout(\n",
    "    width=1000,\n",
    "    margin={'l': 25, 'r': 25, 't': 25, 'b':25}\n",
    ")\n",
    "fig.show()"
   ]
  },
  {
   "attachments": {},
   "cell_type": "markdown",
   "id": "bfaddcf8",
   "metadata": {},
   "source": [
    "We can see that there is actually a large amount of missing data in terms of gender, and none that have been recorded as Non-Binary. Unsurprisingly, the missing information is largely in the crew section, where the people are mostly unknown and TMDB users are less inclined to update information for.\n",
    "\n",
    "Interestingly, there are about twice as many males and females working as cast on Tarantino's films and even more for the crew. However, this may be more indicative of industry biases than any specific bias of Tarantino or the Production Companies. "
   ]
  },
  {
   "attachments": {},
   "cell_type": "markdown",
   "id": "438f2ad4",
   "metadata": {},
   "source": [
    "## Analysis\n",
    "\n",
    "Now that we have taken a look at the data we have, let's see if we can draw any conclusions about what makes Tarantino's films successful.\n",
    "\n",
    "Before we can begin, we must first determine the relative success between the films."
   ]
  },
  {
   "cell_type": "code",
   "execution_count": 18,
   "id": "ac7185cc",
   "metadata": {},
   "outputs": [
    {
     "data": {
      "application/vnd.plotly.v1+json": {
       "config": {
        "plotlyServerURL": "https://plot.ly"
       },
       "data": [
        {
         "alignmentgroup": "True",
         "hovertemplate": "adj_budget=%{x}<br>title=%{y}<extra></extra>",
         "legendgroup": "",
         "marker": {
          "color": "#636efa",
          "pattern": {
           "shape": ""
          }
         },
         "name": "",
         "offsetgroup": "",
         "orientation": "h",
         "showlegend": false,
         "textposition": "auto",
         "type": "bar",
         "x": [
          2540721,
          16019812,
          7795960,
          22256912,
          48514054,
          47739893,
          35966751,
          97027808,
          130299955,
          55653651,
          110773041
         ],
         "xaxis": "x",
         "y": [
          "Reservoir Dogs",
          "Pulp Fiction",
          "Four Rooms",
          "Jackie Brown",
          "Kill Bill: Vol. 1",
          "Kill Bill: Vol. 2",
          "Death Proof",
          "Inglourious Basterds",
          "Django Unchained",
          "The Hateful Eight",
          "Once Upon a Time… in Hollywood"
         ],
         "yaxis": "y"
        }
       ],
       "layout": {
        "barmode": "relative",
        "legend": {
         "tracegroupgap": 0
        },
        "margin": {
         "b": 25,
         "l": 25,
         "r": 25,
         "t": 25
        },
        "template": {
         "data": {
          "bar": [
           {
            "error_x": {
             "color": "#2a3f5f"
            },
            "error_y": {
             "color": "#2a3f5f"
            },
            "marker": {
             "line": {
              "color": "#E5ECF6",
              "width": 0.5
             },
             "pattern": {
              "fillmode": "overlay",
              "size": 10,
              "solidity": 0.2
             }
            },
            "type": "bar"
           }
          ],
          "barpolar": [
           {
            "marker": {
             "line": {
              "color": "#E5ECF6",
              "width": 0.5
             },
             "pattern": {
              "fillmode": "overlay",
              "size": 10,
              "solidity": 0.2
             }
            },
            "type": "barpolar"
           }
          ],
          "carpet": [
           {
            "aaxis": {
             "endlinecolor": "#2a3f5f",
             "gridcolor": "white",
             "linecolor": "white",
             "minorgridcolor": "white",
             "startlinecolor": "#2a3f5f"
            },
            "baxis": {
             "endlinecolor": "#2a3f5f",
             "gridcolor": "white",
             "linecolor": "white",
             "minorgridcolor": "white",
             "startlinecolor": "#2a3f5f"
            },
            "type": "carpet"
           }
          ],
          "choropleth": [
           {
            "colorbar": {
             "outlinewidth": 0,
             "ticks": ""
            },
            "type": "choropleth"
           }
          ],
          "contour": [
           {
            "colorbar": {
             "outlinewidth": 0,
             "ticks": ""
            },
            "colorscale": [
             [
              0,
              "#0d0887"
             ],
             [
              0.1111111111111111,
              "#46039f"
             ],
             [
              0.2222222222222222,
              "#7201a8"
             ],
             [
              0.3333333333333333,
              "#9c179e"
             ],
             [
              0.4444444444444444,
              "#bd3786"
             ],
             [
              0.5555555555555556,
              "#d8576b"
             ],
             [
              0.6666666666666666,
              "#ed7953"
             ],
             [
              0.7777777777777778,
              "#fb9f3a"
             ],
             [
              0.8888888888888888,
              "#fdca26"
             ],
             [
              1,
              "#f0f921"
             ]
            ],
            "type": "contour"
           }
          ],
          "contourcarpet": [
           {
            "colorbar": {
             "outlinewidth": 0,
             "ticks": ""
            },
            "type": "contourcarpet"
           }
          ],
          "heatmap": [
           {
            "colorbar": {
             "outlinewidth": 0,
             "ticks": ""
            },
            "colorscale": [
             [
              0,
              "#0d0887"
             ],
             [
              0.1111111111111111,
              "#46039f"
             ],
             [
              0.2222222222222222,
              "#7201a8"
             ],
             [
              0.3333333333333333,
              "#9c179e"
             ],
             [
              0.4444444444444444,
              "#bd3786"
             ],
             [
              0.5555555555555556,
              "#d8576b"
             ],
             [
              0.6666666666666666,
              "#ed7953"
             ],
             [
              0.7777777777777778,
              "#fb9f3a"
             ],
             [
              0.8888888888888888,
              "#fdca26"
             ],
             [
              1,
              "#f0f921"
             ]
            ],
            "type": "heatmap"
           }
          ],
          "heatmapgl": [
           {
            "colorbar": {
             "outlinewidth": 0,
             "ticks": ""
            },
            "colorscale": [
             [
              0,
              "#0d0887"
             ],
             [
              0.1111111111111111,
              "#46039f"
             ],
             [
              0.2222222222222222,
              "#7201a8"
             ],
             [
              0.3333333333333333,
              "#9c179e"
             ],
             [
              0.4444444444444444,
              "#bd3786"
             ],
             [
              0.5555555555555556,
              "#d8576b"
             ],
             [
              0.6666666666666666,
              "#ed7953"
             ],
             [
              0.7777777777777778,
              "#fb9f3a"
             ],
             [
              0.8888888888888888,
              "#fdca26"
             ],
             [
              1,
              "#f0f921"
             ]
            ],
            "type": "heatmapgl"
           }
          ],
          "histogram": [
           {
            "marker": {
             "pattern": {
              "fillmode": "overlay",
              "size": 10,
              "solidity": 0.2
             }
            },
            "type": "histogram"
           }
          ],
          "histogram2d": [
           {
            "colorbar": {
             "outlinewidth": 0,
             "ticks": ""
            },
            "colorscale": [
             [
              0,
              "#0d0887"
             ],
             [
              0.1111111111111111,
              "#46039f"
             ],
             [
              0.2222222222222222,
              "#7201a8"
             ],
             [
              0.3333333333333333,
              "#9c179e"
             ],
             [
              0.4444444444444444,
              "#bd3786"
             ],
             [
              0.5555555555555556,
              "#d8576b"
             ],
             [
              0.6666666666666666,
              "#ed7953"
             ],
             [
              0.7777777777777778,
              "#fb9f3a"
             ],
             [
              0.8888888888888888,
              "#fdca26"
             ],
             [
              1,
              "#f0f921"
             ]
            ],
            "type": "histogram2d"
           }
          ],
          "histogram2dcontour": [
           {
            "colorbar": {
             "outlinewidth": 0,
             "ticks": ""
            },
            "colorscale": [
             [
              0,
              "#0d0887"
             ],
             [
              0.1111111111111111,
              "#46039f"
             ],
             [
              0.2222222222222222,
              "#7201a8"
             ],
             [
              0.3333333333333333,
              "#9c179e"
             ],
             [
              0.4444444444444444,
              "#bd3786"
             ],
             [
              0.5555555555555556,
              "#d8576b"
             ],
             [
              0.6666666666666666,
              "#ed7953"
             ],
             [
              0.7777777777777778,
              "#fb9f3a"
             ],
             [
              0.8888888888888888,
              "#fdca26"
             ],
             [
              1,
              "#f0f921"
             ]
            ],
            "type": "histogram2dcontour"
           }
          ],
          "mesh3d": [
           {
            "colorbar": {
             "outlinewidth": 0,
             "ticks": ""
            },
            "type": "mesh3d"
           }
          ],
          "parcoords": [
           {
            "line": {
             "colorbar": {
              "outlinewidth": 0,
              "ticks": ""
             }
            },
            "type": "parcoords"
           }
          ],
          "pie": [
           {
            "automargin": true,
            "type": "pie"
           }
          ],
          "scatter": [
           {
            "fillpattern": {
             "fillmode": "overlay",
             "size": 10,
             "solidity": 0.2
            },
            "type": "scatter"
           }
          ],
          "scatter3d": [
           {
            "line": {
             "colorbar": {
              "outlinewidth": 0,
              "ticks": ""
             }
            },
            "marker": {
             "colorbar": {
              "outlinewidth": 0,
              "ticks": ""
             }
            },
            "type": "scatter3d"
           }
          ],
          "scattercarpet": [
           {
            "marker": {
             "colorbar": {
              "outlinewidth": 0,
              "ticks": ""
             }
            },
            "type": "scattercarpet"
           }
          ],
          "scattergeo": [
           {
            "marker": {
             "colorbar": {
              "outlinewidth": 0,
              "ticks": ""
             }
            },
            "type": "scattergeo"
           }
          ],
          "scattergl": [
           {
            "marker": {
             "colorbar": {
              "outlinewidth": 0,
              "ticks": ""
             }
            },
            "type": "scattergl"
           }
          ],
          "scattermapbox": [
           {
            "marker": {
             "colorbar": {
              "outlinewidth": 0,
              "ticks": ""
             }
            },
            "type": "scattermapbox"
           }
          ],
          "scatterpolar": [
           {
            "marker": {
             "colorbar": {
              "outlinewidth": 0,
              "ticks": ""
             }
            },
            "type": "scatterpolar"
           }
          ],
          "scatterpolargl": [
           {
            "marker": {
             "colorbar": {
              "outlinewidth": 0,
              "ticks": ""
             }
            },
            "type": "scatterpolargl"
           }
          ],
          "scatterternary": [
           {
            "marker": {
             "colorbar": {
              "outlinewidth": 0,
              "ticks": ""
             }
            },
            "type": "scatterternary"
           }
          ],
          "surface": [
           {
            "colorbar": {
             "outlinewidth": 0,
             "ticks": ""
            },
            "colorscale": [
             [
              0,
              "#0d0887"
             ],
             [
              0.1111111111111111,
              "#46039f"
             ],
             [
              0.2222222222222222,
              "#7201a8"
             ],
             [
              0.3333333333333333,
              "#9c179e"
             ],
             [
              0.4444444444444444,
              "#bd3786"
             ],
             [
              0.5555555555555556,
              "#d8576b"
             ],
             [
              0.6666666666666666,
              "#ed7953"
             ],
             [
              0.7777777777777778,
              "#fb9f3a"
             ],
             [
              0.8888888888888888,
              "#fdca26"
             ],
             [
              1,
              "#f0f921"
             ]
            ],
            "type": "surface"
           }
          ],
          "table": [
           {
            "cells": {
             "fill": {
              "color": "#EBF0F8"
             },
             "line": {
              "color": "white"
             }
            },
            "header": {
             "fill": {
              "color": "#C8D4E3"
             },
             "line": {
              "color": "white"
             }
            },
            "type": "table"
           }
          ]
         },
         "layout": {
          "annotationdefaults": {
           "arrowcolor": "#2a3f5f",
           "arrowhead": 0,
           "arrowwidth": 1
          },
          "autotypenumbers": "strict",
          "coloraxis": {
           "colorbar": {
            "outlinewidth": 0,
            "ticks": ""
           }
          },
          "colorscale": {
           "diverging": [
            [
             0,
             "#8e0152"
            ],
            [
             0.1,
             "#c51b7d"
            ],
            [
             0.2,
             "#de77ae"
            ],
            [
             0.3,
             "#f1b6da"
            ],
            [
             0.4,
             "#fde0ef"
            ],
            [
             0.5,
             "#f7f7f7"
            ],
            [
             0.6,
             "#e6f5d0"
            ],
            [
             0.7,
             "#b8e186"
            ],
            [
             0.8,
             "#7fbc41"
            ],
            [
             0.9,
             "#4d9221"
            ],
            [
             1,
             "#276419"
            ]
           ],
           "sequential": [
            [
             0,
             "#0d0887"
            ],
            [
             0.1111111111111111,
             "#46039f"
            ],
            [
             0.2222222222222222,
             "#7201a8"
            ],
            [
             0.3333333333333333,
             "#9c179e"
            ],
            [
             0.4444444444444444,
             "#bd3786"
            ],
            [
             0.5555555555555556,
             "#d8576b"
            ],
            [
             0.6666666666666666,
             "#ed7953"
            ],
            [
             0.7777777777777778,
             "#fb9f3a"
            ],
            [
             0.8888888888888888,
             "#fdca26"
            ],
            [
             1,
             "#f0f921"
            ]
           ],
           "sequentialminus": [
            [
             0,
             "#0d0887"
            ],
            [
             0.1111111111111111,
             "#46039f"
            ],
            [
             0.2222222222222222,
             "#7201a8"
            ],
            [
             0.3333333333333333,
             "#9c179e"
            ],
            [
             0.4444444444444444,
             "#bd3786"
            ],
            [
             0.5555555555555556,
             "#d8576b"
            ],
            [
             0.6666666666666666,
             "#ed7953"
            ],
            [
             0.7777777777777778,
             "#fb9f3a"
            ],
            [
             0.8888888888888888,
             "#fdca26"
            ],
            [
             1,
             "#f0f921"
            ]
           ]
          },
          "colorway": [
           "#636efa",
           "#EF553B",
           "#00cc96",
           "#ab63fa",
           "#FFA15A",
           "#19d3f3",
           "#FF6692",
           "#B6E880",
           "#FF97FF",
           "#FECB52"
          ],
          "font": {
           "color": "#2a3f5f"
          },
          "geo": {
           "bgcolor": "white",
           "lakecolor": "white",
           "landcolor": "#E5ECF6",
           "showlakes": true,
           "showland": true,
           "subunitcolor": "white"
          },
          "hoverlabel": {
           "align": "left"
          },
          "hovermode": "closest",
          "mapbox": {
           "style": "light"
          },
          "paper_bgcolor": "white",
          "plot_bgcolor": "#E5ECF6",
          "polar": {
           "angularaxis": {
            "gridcolor": "white",
            "linecolor": "white",
            "ticks": ""
           },
           "bgcolor": "#E5ECF6",
           "radialaxis": {
            "gridcolor": "white",
            "linecolor": "white",
            "ticks": ""
           }
          },
          "scene": {
           "xaxis": {
            "backgroundcolor": "#E5ECF6",
            "gridcolor": "white",
            "gridwidth": 2,
            "linecolor": "white",
            "showbackground": true,
            "ticks": "",
            "zerolinecolor": "white"
           },
           "yaxis": {
            "backgroundcolor": "#E5ECF6",
            "gridcolor": "white",
            "gridwidth": 2,
            "linecolor": "white",
            "showbackground": true,
            "ticks": "",
            "zerolinecolor": "white"
           },
           "zaxis": {
            "backgroundcolor": "#E5ECF6",
            "gridcolor": "white",
            "gridwidth": 2,
            "linecolor": "white",
            "showbackground": true,
            "ticks": "",
            "zerolinecolor": "white"
           }
          },
          "shapedefaults": {
           "line": {
            "color": "#2a3f5f"
           }
          },
          "ternary": {
           "aaxis": {
            "gridcolor": "white",
            "linecolor": "white",
            "ticks": ""
           },
           "baxis": {
            "gridcolor": "white",
            "linecolor": "white",
            "ticks": ""
           },
           "bgcolor": "#E5ECF6",
           "caxis": {
            "gridcolor": "white",
            "linecolor": "white",
            "ticks": ""
           }
          },
          "title": {
           "x": 0.05
          },
          "xaxis": {
           "automargin": true,
           "gridcolor": "white",
           "linecolor": "white",
           "ticks": "",
           "title": {
            "standoff": 15
           },
           "zerolinecolor": "white",
           "zerolinewidth": 2
          },
          "yaxis": {
           "automargin": true,
           "gridcolor": "white",
           "linecolor": "white",
           "ticks": "",
           "title": {
            "standoff": 15
           },
           "zerolinecolor": "white",
           "zerolinewidth": 2
          }
         }
        },
        "width": 700,
        "xaxis": {
         "anchor": "y",
         "domain": [
          0,
          1
         ],
         "title": {
          "text": "adj_budget"
         }
        },
        "yaxis": {
         "anchor": "x",
         "domain": [
          0,
          1
         ],
         "title": {
          "text": "title"
         }
        }
       }
      }
     },
     "metadata": {},
     "output_type": "display_data"
    },
    {
     "data": {
      "application/vnd.plotly.v1+json": {
       "config": {
        "plotlyServerURL": "https://plot.ly"
       },
       "data": [
        {
         "alignmentgroup": "True",
         "hovertemplate": "adj_revenue=%{x}<br>title=%{y}<extra></extra>",
         "legendgroup": "",
         "marker": {
          "color": "#636efa",
          "pattern": {
           "shape": ""
          }
         },
         "name": "",
         "offsetgroup": "",
         "orientation": "h",
         "showlegend": false,
         "textposition": "auto",
         "type": "bar",
         "x": [
          6054857,
          428888606,
          8297541,
          73583508,
          292549571,
          242135882,
          44780649,
          445576295,
          554254623,
          197014075,
          436388935
         ],
         "xaxis": "x",
         "y": [
          "Reservoir Dogs",
          "Pulp Fiction",
          "Four Rooms",
          "Jackie Brown",
          "Kill Bill: Vol. 1",
          "Kill Bill: Vol. 2",
          "Death Proof",
          "Inglourious Basterds",
          "Django Unchained",
          "The Hateful Eight",
          "Once Upon a Time… in Hollywood"
         ],
         "yaxis": "y"
        }
       ],
       "layout": {
        "barmode": "relative",
        "legend": {
         "tracegroupgap": 0
        },
        "margin": {
         "b": 25,
         "l": 25,
         "r": 25,
         "t": 25
        },
        "template": {
         "data": {
          "bar": [
           {
            "error_x": {
             "color": "#2a3f5f"
            },
            "error_y": {
             "color": "#2a3f5f"
            },
            "marker": {
             "line": {
              "color": "#E5ECF6",
              "width": 0.5
             },
             "pattern": {
              "fillmode": "overlay",
              "size": 10,
              "solidity": 0.2
             }
            },
            "type": "bar"
           }
          ],
          "barpolar": [
           {
            "marker": {
             "line": {
              "color": "#E5ECF6",
              "width": 0.5
             },
             "pattern": {
              "fillmode": "overlay",
              "size": 10,
              "solidity": 0.2
             }
            },
            "type": "barpolar"
           }
          ],
          "carpet": [
           {
            "aaxis": {
             "endlinecolor": "#2a3f5f",
             "gridcolor": "white",
             "linecolor": "white",
             "minorgridcolor": "white",
             "startlinecolor": "#2a3f5f"
            },
            "baxis": {
             "endlinecolor": "#2a3f5f",
             "gridcolor": "white",
             "linecolor": "white",
             "minorgridcolor": "white",
             "startlinecolor": "#2a3f5f"
            },
            "type": "carpet"
           }
          ],
          "choropleth": [
           {
            "colorbar": {
             "outlinewidth": 0,
             "ticks": ""
            },
            "type": "choropleth"
           }
          ],
          "contour": [
           {
            "colorbar": {
             "outlinewidth": 0,
             "ticks": ""
            },
            "colorscale": [
             [
              0,
              "#0d0887"
             ],
             [
              0.1111111111111111,
              "#46039f"
             ],
             [
              0.2222222222222222,
              "#7201a8"
             ],
             [
              0.3333333333333333,
              "#9c179e"
             ],
             [
              0.4444444444444444,
              "#bd3786"
             ],
             [
              0.5555555555555556,
              "#d8576b"
             ],
             [
              0.6666666666666666,
              "#ed7953"
             ],
             [
              0.7777777777777778,
              "#fb9f3a"
             ],
             [
              0.8888888888888888,
              "#fdca26"
             ],
             [
              1,
              "#f0f921"
             ]
            ],
            "type": "contour"
           }
          ],
          "contourcarpet": [
           {
            "colorbar": {
             "outlinewidth": 0,
             "ticks": ""
            },
            "type": "contourcarpet"
           }
          ],
          "heatmap": [
           {
            "colorbar": {
             "outlinewidth": 0,
             "ticks": ""
            },
            "colorscale": [
             [
              0,
              "#0d0887"
             ],
             [
              0.1111111111111111,
              "#46039f"
             ],
             [
              0.2222222222222222,
              "#7201a8"
             ],
             [
              0.3333333333333333,
              "#9c179e"
             ],
             [
              0.4444444444444444,
              "#bd3786"
             ],
             [
              0.5555555555555556,
              "#d8576b"
             ],
             [
              0.6666666666666666,
              "#ed7953"
             ],
             [
              0.7777777777777778,
              "#fb9f3a"
             ],
             [
              0.8888888888888888,
              "#fdca26"
             ],
             [
              1,
              "#f0f921"
             ]
            ],
            "type": "heatmap"
           }
          ],
          "heatmapgl": [
           {
            "colorbar": {
             "outlinewidth": 0,
             "ticks": ""
            },
            "colorscale": [
             [
              0,
              "#0d0887"
             ],
             [
              0.1111111111111111,
              "#46039f"
             ],
             [
              0.2222222222222222,
              "#7201a8"
             ],
             [
              0.3333333333333333,
              "#9c179e"
             ],
             [
              0.4444444444444444,
              "#bd3786"
             ],
             [
              0.5555555555555556,
              "#d8576b"
             ],
             [
              0.6666666666666666,
              "#ed7953"
             ],
             [
              0.7777777777777778,
              "#fb9f3a"
             ],
             [
              0.8888888888888888,
              "#fdca26"
             ],
             [
              1,
              "#f0f921"
             ]
            ],
            "type": "heatmapgl"
           }
          ],
          "histogram": [
           {
            "marker": {
             "pattern": {
              "fillmode": "overlay",
              "size": 10,
              "solidity": 0.2
             }
            },
            "type": "histogram"
           }
          ],
          "histogram2d": [
           {
            "colorbar": {
             "outlinewidth": 0,
             "ticks": ""
            },
            "colorscale": [
             [
              0,
              "#0d0887"
             ],
             [
              0.1111111111111111,
              "#46039f"
             ],
             [
              0.2222222222222222,
              "#7201a8"
             ],
             [
              0.3333333333333333,
              "#9c179e"
             ],
             [
              0.4444444444444444,
              "#bd3786"
             ],
             [
              0.5555555555555556,
              "#d8576b"
             ],
             [
              0.6666666666666666,
              "#ed7953"
             ],
             [
              0.7777777777777778,
              "#fb9f3a"
             ],
             [
              0.8888888888888888,
              "#fdca26"
             ],
             [
              1,
              "#f0f921"
             ]
            ],
            "type": "histogram2d"
           }
          ],
          "histogram2dcontour": [
           {
            "colorbar": {
             "outlinewidth": 0,
             "ticks": ""
            },
            "colorscale": [
             [
              0,
              "#0d0887"
             ],
             [
              0.1111111111111111,
              "#46039f"
             ],
             [
              0.2222222222222222,
              "#7201a8"
             ],
             [
              0.3333333333333333,
              "#9c179e"
             ],
             [
              0.4444444444444444,
              "#bd3786"
             ],
             [
              0.5555555555555556,
              "#d8576b"
             ],
             [
              0.6666666666666666,
              "#ed7953"
             ],
             [
              0.7777777777777778,
              "#fb9f3a"
             ],
             [
              0.8888888888888888,
              "#fdca26"
             ],
             [
              1,
              "#f0f921"
             ]
            ],
            "type": "histogram2dcontour"
           }
          ],
          "mesh3d": [
           {
            "colorbar": {
             "outlinewidth": 0,
             "ticks": ""
            },
            "type": "mesh3d"
           }
          ],
          "parcoords": [
           {
            "line": {
             "colorbar": {
              "outlinewidth": 0,
              "ticks": ""
             }
            },
            "type": "parcoords"
           }
          ],
          "pie": [
           {
            "automargin": true,
            "type": "pie"
           }
          ],
          "scatter": [
           {
            "fillpattern": {
             "fillmode": "overlay",
             "size": 10,
             "solidity": 0.2
            },
            "type": "scatter"
           }
          ],
          "scatter3d": [
           {
            "line": {
             "colorbar": {
              "outlinewidth": 0,
              "ticks": ""
             }
            },
            "marker": {
             "colorbar": {
              "outlinewidth": 0,
              "ticks": ""
             }
            },
            "type": "scatter3d"
           }
          ],
          "scattercarpet": [
           {
            "marker": {
             "colorbar": {
              "outlinewidth": 0,
              "ticks": ""
             }
            },
            "type": "scattercarpet"
           }
          ],
          "scattergeo": [
           {
            "marker": {
             "colorbar": {
              "outlinewidth": 0,
              "ticks": ""
             }
            },
            "type": "scattergeo"
           }
          ],
          "scattergl": [
           {
            "marker": {
             "colorbar": {
              "outlinewidth": 0,
              "ticks": ""
             }
            },
            "type": "scattergl"
           }
          ],
          "scattermapbox": [
           {
            "marker": {
             "colorbar": {
              "outlinewidth": 0,
              "ticks": ""
             }
            },
            "type": "scattermapbox"
           }
          ],
          "scatterpolar": [
           {
            "marker": {
             "colorbar": {
              "outlinewidth": 0,
              "ticks": ""
             }
            },
            "type": "scatterpolar"
           }
          ],
          "scatterpolargl": [
           {
            "marker": {
             "colorbar": {
              "outlinewidth": 0,
              "ticks": ""
             }
            },
            "type": "scatterpolargl"
           }
          ],
          "scatterternary": [
           {
            "marker": {
             "colorbar": {
              "outlinewidth": 0,
              "ticks": ""
             }
            },
            "type": "scatterternary"
           }
          ],
          "surface": [
           {
            "colorbar": {
             "outlinewidth": 0,
             "ticks": ""
            },
            "colorscale": [
             [
              0,
              "#0d0887"
             ],
             [
              0.1111111111111111,
              "#46039f"
             ],
             [
              0.2222222222222222,
              "#7201a8"
             ],
             [
              0.3333333333333333,
              "#9c179e"
             ],
             [
              0.4444444444444444,
              "#bd3786"
             ],
             [
              0.5555555555555556,
              "#d8576b"
             ],
             [
              0.6666666666666666,
              "#ed7953"
             ],
             [
              0.7777777777777778,
              "#fb9f3a"
             ],
             [
              0.8888888888888888,
              "#fdca26"
             ],
             [
              1,
              "#f0f921"
             ]
            ],
            "type": "surface"
           }
          ],
          "table": [
           {
            "cells": {
             "fill": {
              "color": "#EBF0F8"
             },
             "line": {
              "color": "white"
             }
            },
            "header": {
             "fill": {
              "color": "#C8D4E3"
             },
             "line": {
              "color": "white"
             }
            },
            "type": "table"
           }
          ]
         },
         "layout": {
          "annotationdefaults": {
           "arrowcolor": "#2a3f5f",
           "arrowhead": 0,
           "arrowwidth": 1
          },
          "autotypenumbers": "strict",
          "coloraxis": {
           "colorbar": {
            "outlinewidth": 0,
            "ticks": ""
           }
          },
          "colorscale": {
           "diverging": [
            [
             0,
             "#8e0152"
            ],
            [
             0.1,
             "#c51b7d"
            ],
            [
             0.2,
             "#de77ae"
            ],
            [
             0.3,
             "#f1b6da"
            ],
            [
             0.4,
             "#fde0ef"
            ],
            [
             0.5,
             "#f7f7f7"
            ],
            [
             0.6,
             "#e6f5d0"
            ],
            [
             0.7,
             "#b8e186"
            ],
            [
             0.8,
             "#7fbc41"
            ],
            [
             0.9,
             "#4d9221"
            ],
            [
             1,
             "#276419"
            ]
           ],
           "sequential": [
            [
             0,
             "#0d0887"
            ],
            [
             0.1111111111111111,
             "#46039f"
            ],
            [
             0.2222222222222222,
             "#7201a8"
            ],
            [
             0.3333333333333333,
             "#9c179e"
            ],
            [
             0.4444444444444444,
             "#bd3786"
            ],
            [
             0.5555555555555556,
             "#d8576b"
            ],
            [
             0.6666666666666666,
             "#ed7953"
            ],
            [
             0.7777777777777778,
             "#fb9f3a"
            ],
            [
             0.8888888888888888,
             "#fdca26"
            ],
            [
             1,
             "#f0f921"
            ]
           ],
           "sequentialminus": [
            [
             0,
             "#0d0887"
            ],
            [
             0.1111111111111111,
             "#46039f"
            ],
            [
             0.2222222222222222,
             "#7201a8"
            ],
            [
             0.3333333333333333,
             "#9c179e"
            ],
            [
             0.4444444444444444,
             "#bd3786"
            ],
            [
             0.5555555555555556,
             "#d8576b"
            ],
            [
             0.6666666666666666,
             "#ed7953"
            ],
            [
             0.7777777777777778,
             "#fb9f3a"
            ],
            [
             0.8888888888888888,
             "#fdca26"
            ],
            [
             1,
             "#f0f921"
            ]
           ]
          },
          "colorway": [
           "#636efa",
           "#EF553B",
           "#00cc96",
           "#ab63fa",
           "#FFA15A",
           "#19d3f3",
           "#FF6692",
           "#B6E880",
           "#FF97FF",
           "#FECB52"
          ],
          "font": {
           "color": "#2a3f5f"
          },
          "geo": {
           "bgcolor": "white",
           "lakecolor": "white",
           "landcolor": "#E5ECF6",
           "showlakes": true,
           "showland": true,
           "subunitcolor": "white"
          },
          "hoverlabel": {
           "align": "left"
          },
          "hovermode": "closest",
          "mapbox": {
           "style": "light"
          },
          "paper_bgcolor": "white",
          "plot_bgcolor": "#E5ECF6",
          "polar": {
           "angularaxis": {
            "gridcolor": "white",
            "linecolor": "white",
            "ticks": ""
           },
           "bgcolor": "#E5ECF6",
           "radialaxis": {
            "gridcolor": "white",
            "linecolor": "white",
            "ticks": ""
           }
          },
          "scene": {
           "xaxis": {
            "backgroundcolor": "#E5ECF6",
            "gridcolor": "white",
            "gridwidth": 2,
            "linecolor": "white",
            "showbackground": true,
            "ticks": "",
            "zerolinecolor": "white"
           },
           "yaxis": {
            "backgroundcolor": "#E5ECF6",
            "gridcolor": "white",
            "gridwidth": 2,
            "linecolor": "white",
            "showbackground": true,
            "ticks": "",
            "zerolinecolor": "white"
           },
           "zaxis": {
            "backgroundcolor": "#E5ECF6",
            "gridcolor": "white",
            "gridwidth": 2,
            "linecolor": "white",
            "showbackground": true,
            "ticks": "",
            "zerolinecolor": "white"
           }
          },
          "shapedefaults": {
           "line": {
            "color": "#2a3f5f"
           }
          },
          "ternary": {
           "aaxis": {
            "gridcolor": "white",
            "linecolor": "white",
            "ticks": ""
           },
           "baxis": {
            "gridcolor": "white",
            "linecolor": "white",
            "ticks": ""
           },
           "bgcolor": "#E5ECF6",
           "caxis": {
            "gridcolor": "white",
            "linecolor": "white",
            "ticks": ""
           }
          },
          "title": {
           "x": 0.05
          },
          "xaxis": {
           "automargin": true,
           "gridcolor": "white",
           "linecolor": "white",
           "ticks": "",
           "title": {
            "standoff": 15
           },
           "zerolinecolor": "white",
           "zerolinewidth": 2
          },
          "yaxis": {
           "automargin": true,
           "gridcolor": "white",
           "linecolor": "white",
           "ticks": "",
           "title": {
            "standoff": 15
           },
           "zerolinecolor": "white",
           "zerolinewidth": 2
          }
         }
        },
        "width": 700,
        "xaxis": {
         "anchor": "y",
         "domain": [
          0,
          1
         ],
         "title": {
          "text": "adj_revenue"
         }
        },
        "yaxis": {
         "anchor": "x",
         "domain": [
          0,
          1
         ],
         "title": {
          "text": "title"
         }
        }
       }
      }
     },
     "metadata": {},
     "output_type": "display_data"
    }
   ],
   "source": [
    "fig = px.bar(movie_df, x='adj_budget', y='title')\n",
    "fig.update_layout(\n",
    "    width=700,\n",
    "    margin={'l': 25, 'r': 25, 't': 25, 'b':25}\n",
    ")\n",
    "\n",
    "fig.show()\n",
    "\n",
    "fig = px.bar(movie_df, x='adj_revenue', y='title')\n",
    "fig.update_layout(\n",
    "    width=700,\n",
    "    margin={'l': 25, 'r': 25, 't': 25, 'b':25}\n",
    ")\n",
    "\n",
    "fig.show()"
   ]
  },
  {
   "cell_type": "code",
   "execution_count": 19,
   "id": "429dea8c",
   "metadata": {},
   "outputs": [
    {
     "data": {
      "text/html": [
       "\n",
       "  <div id=\"d561d613-82ce-42e7-a4cf-e25c6cd0cc64\" data-root-id=\"p1004\" style=\"display: contents;\"></div>\n"
      ]
     },
     "metadata": {},
     "output_type": "display_data"
    },
    {
     "data": {
      "application/javascript": "(function(root) {\n  function embed_document(root) {\n  const docs_json = {\"4292bc44-b303-46dd-a4ad-861324b0e5a4\":{\"version\":\"3.1.0\",\"title\":\"Bokeh Application\",\"defs\":[],\"roots\":[{\"type\":\"object\",\"name\":\"Figure\",\"id\":\"p1004\",\"attributes\":{\"x_range\":{\"type\":\"object\",\"name\":\"Range1d\",\"id\":\"p1002\",\"attributes\":{\"start\":-20.1,\"end\":20.1}},\"y_range\":{\"type\":\"object\",\"name\":\"Range1d\",\"id\":\"p1003\",\"attributes\":{\"start\":-20.1,\"end\":20.1}},\"x_scale\":{\"type\":\"object\",\"name\":\"LinearScale\",\"id\":\"p1016\"},\"y_scale\":{\"type\":\"object\",\"name\":\"LinearScale\",\"id\":\"p1018\"},\"title\":{\"type\":\"object\",\"name\":\"Title\",\"id\":\"p1007\",\"attributes\":{\"text\":\"Tarantino Cast Network\"}},\"renderers\":[{\"type\":\"object\",\"name\":\"GraphRenderer\",\"id\":\"p1045\",\"attributes\":{\"layout_provider\":{\"type\":\"object\",\"name\":\"StaticLayoutProvider\",\"id\":\"p1076\",\"attributes\":{\"graph_layout\":{\"type\":\"map\",\"entries\":[[0,{\"type\":\"ndarray\",\"array\":{\"type\":\"bytes\",\"data\":\"RkOZdKeTwj+/FIQaisHYvw==\"},\"shape\":[2],\"dtype\":\"float64\",\"order\":\"little\"}],[1,{\"type\":\"ndarray\",\"array\":{\"type\":\"bytes\",\"data\":\"v1kzITFPEMBIpnFTxzHKPw==\"},\"shape\":[2],\"dtype\":\"float64\",\"order\":\"little\"}],[2,{\"type\":\"ndarray\",\"array\":{\"type\":\"bytes\",\"data\":\"ZdIybl/KHsBwHfE5AtIQQA==\"},\"shape\":[2],\"dtype\":\"float64\",\"order\":\"little\"}],[3,{\"type\":\"ndarray\",\"array\":{\"type\":\"bytes\",\"data\":\"7g3BL/3yEcDUgpKJbncAwA==\"},\"shape\":[2],\"dtype\":\"float64\",\"order\":\"little\"}],[4,{\"type\":\"ndarray\",\"array\":{\"type\":\"bytes\",\"data\":\"zZlV6nZkFcA1CH3NV5EGwA==\"},\"shape\":[2],\"dtype\":\"float64\",\"order\":\"little\"}],[5,{\"type\":\"ndarray\",\"array\":{\"type\":\"bytes\",\"data\":\"7Oo4hyOvFcAG+HP9VtITQA==\"},\"shape\":[2],\"dtype\":\"float64\",\"order\":\"little\"}],[6,{\"type\":\"ndarray\",\"array\":{\"type\":\"bytes\",\"data\":\"8BgBpgzH97+bcVzmVHsBwA==\"},\"shape\":[2],\"dtype\":\"float64\",\"order\":\"little\"}],[7,{\"type\":\"ndarray\",\"array\":{\"type\":\"bytes\",\"data\":\"iDahVGO6BMBGdXIusdwNwA==\"},\"shape\":[2],\"dtype\":\"float64\",\"order\":\"little\"}],[8,{\"type\":\"ndarray\",\"array\":{\"type\":\"bytes\",\"data\":\"6cJSWuPvB8DyPdTaPdUGwA==\"},\"shape\":[2],\"dtype\":\"float64\",\"order\":\"little\"}],[9,{\"type\":\"ndarray\",\"array\":{\"type\":\"bytes\",\"data\":\"efiA/M1KAMBaJvFhUQMDwA==\"},\"shape\":[2],\"dtype\":\"float64\",\"order\":\"little\"}],[10,{\"type\":\"ndarray\",\"array\":{\"type\":\"bytes\",\"data\":\"QcZ0gpER4r+BM3CRt3/iPw==\"},\"shape\":[2],\"dtype\":\"float64\",\"order\":\"little\"}],[11,{\"type\":\"ndarray\",\"array\":{\"type\":\"bytes\",\"data\":\"7wBQjlXAFcA0BbzfkBoWQA==\"},\"shape\":[2],\"dtype\":\"float64\",\"order\":\"little\"}],[12,{\"type\":\"ndarray\",\"array\":{\"type\":\"bytes\",\"data\":\"no4+0VGf+L8klHAaakrVvw==\"},\"shape\":[2],\"dtype\":\"float64\",\"order\":\"little\"}],[13,{\"type\":\"ndarray\",\"array\":{\"type\":\"bytes\",\"data\":\"D1axSoTAEMBG1w99SREHwA==\"},\"shape\":[2],\"dtype\":\"float64\",\"order\":\"little\"}],[14,{\"type\":\"ndarray\",\"array\":{\"type\":\"bytes\",\"data\":\"WAGPmV6VB8Czdm/7DLMBwA==\"},\"shape\":[2],\"dtype\":\"float64\",\"order\":\"little\"}],[15,{\"type\":\"ndarray\",\"array\":{\"type\":\"bytes\",\"data\":\"b53bopTgAsA34SBOGBMJwA==\"},\"shape\":[2],\"dtype\":\"float64\",\"order\":\"little\"}],[16,{\"type\":\"ndarray\",\"array\":{\"type\":\"bytes\",\"data\":\"9GLpO+s2GMAHCBBDW0gTQA==\"},\"shape\":[2],\"dtype\":\"float64\",\"order\":\"little\"}],[17,{\"type\":\"ndarray\",\"array\":{\"type\":\"bytes\",\"data\":\"WrRl4ZlrIsD+yi2qJfgQQA==\"},\"shape\":[2],\"dtype\":\"float64\",\"order\":\"little\"}],[18,{\"type\":\"ndarray\",\"array\":{\"type\":\"bytes\",\"data\":\"cgBVthPcF8Dj6yx625cUQA==\"},\"shape\":[2],\"dtype\":\"float64\",\"order\":\"little\"}],[19,{\"type\":\"ndarray\",\"array\":{\"type\":\"bytes\",\"data\":\"zTpzOw/i+b8KdcT07JYJwA==\"},\"shape\":[2],\"dtype\":\"float64\",\"order\":\"little\"}],[20,{\"type\":\"ndarray\",\"array\":{\"type\":\"bytes\",\"data\":\"GmzE1DsL/r/03+n3+yz7vw==\"},\"shape\":[2],\"dtype\":\"float64\",\"order\":\"little\"}],[21,{\"type\":\"ndarray\",\"array\":{\"type\":\"bytes\",\"data\":\"n2RG8A2aEsBSmqczRscLwA==\"},\"shape\":[2],\"dtype\":\"float64\",\"order\":\"little\"}],[22,{\"type\":\"ndarray\",\"array\":{\"type\":\"bytes\",\"data\":\"3vjG8L4FDMAMT4VJp8QJwA==\"},\"shape\":[2],\"dtype\":\"float64\",\"order\":\"little\"}],[23,{\"type\":\"ndarray\",\"array\":{\"type\":\"bytes\",\"data\":\"FY9q6yg6FMBxQrXJiYYVQA==\"},\"shape\":[2],\"dtype\":\"float64\",\"order\":\"little\"}],[24,{\"type\":\"ndarray\",\"array\":{\"type\":\"bytes\",\"data\":\"Y7mDfnn7CcAaEb0CpgIPwA==\"},\"shape\":[2],\"dtype\":\"float64\",\"order\":\"little\"}],[25,{\"type\":\"ndarray\",\"array\":{\"type\":\"bytes\",\"data\":\"kzAx7za5D8BvpROkiXYOwA==\"},\"shape\":[2],\"dtype\":\"float64\",\"order\":\"little\"}],[26,{\"type\":\"ndarray\",\"array\":{\"type\":\"bytes\",\"data\":\"BF3ef6ORJMBBJIjDk1YnQA==\"},\"shape\":[2],\"dtype\":\"float64\",\"order\":\"little\"}],[27,{\"type\":\"ndarray\",\"array\":{\"type\":\"bytes\",\"data\":\"HIVu7D/HHMCfUuZeY3oiQA==\"},\"shape\":[2],\"dtype\":\"float64\",\"order\":\"little\"}],[28,{\"type\":\"ndarray\",\"array\":{\"type\":\"bytes\",\"data\":\"pltUuO35A0Apzepq5bH+Pw==\"},\"shape\":[2],\"dtype\":\"float64\",\"order\":\"little\"}],[29,{\"type\":\"ndarray\",\"array\":{\"type\":\"bytes\",\"data\":\"cBMLZO5sGsCUZff3KAoUQA==\"},\"shape\":[2],\"dtype\":\"float64\",\"order\":\"little\"}],[30,{\"type\":\"ndarray\",\"array\":{\"type\":\"bytes\",\"data\":\"HIm0xK21KMBE9L1iMaIdQA==\"},\"shape\":[2],\"dtype\":\"float64\",\"order\":\"little\"}],[31,{\"type\":\"ndarray\",\"array\":{\"type\":\"bytes\",\"data\":\"CgBBxqnII8Cq0a7Hjv8lQA==\"},\"shape\":[2],\"dtype\":\"float64\",\"order\":\"little\"}],[32,{\"type\":\"ndarray\",\"array\":{\"type\":\"bytes\",\"data\":\"92iIcVrWJsBRECoIBs4jQA==\"},\"shape\":[2],\"dtype\":\"float64\",\"order\":\"little\"}],[33,{\"type\":\"ndarray\",\"array\":{\"type\":\"bytes\",\"data\":\"cLyYD2dXJcDkPz/vs74lQA==\"},\"shape\":[2],\"dtype\":\"float64\",\"order\":\"little\"}],[34,{\"type\":\"ndarray\",\"array\":{\"type\":\"bytes\",\"data\":\"pX1ABldfJcAQq5shkqwqQA==\"},\"shape\":[2],\"dtype\":\"float64\",\"order\":\"little\"}],[35,{\"type\":\"ndarray\",\"array\":{\"type\":\"bytes\",\"data\":\"9jRW4HpuIsADB3LDSEcqQA==\"},\"shape\":[2],\"dtype\":\"float64\",\"order\":\"little\"}],[36,{\"type\":\"ndarray\",\"array\":{\"type\":\"bytes\",\"data\":\"xM7b/2qpHMAsw/2jrLcoQA==\"},\"shape\":[2],\"dtype\":\"float64\",\"order\":\"little\"}],[37,{\"type\":\"ndarray\",\"array\":{\"type\":\"bytes\",\"data\":\"mcG5diuOHsD0ecqXwv4qQA==\"},\"shape\":[2],\"dtype\":\"float64\",\"order\":\"little\"}],[38,{\"type\":\"ndarray\",\"array\":{\"type\":\"bytes\",\"data\":\"qs0oS0LmIMB6wtamucIpQA==\"},\"shape\":[2],\"dtype\":\"float64\",\"order\":\"little\"}],[39,{\"type\":\"ndarray\",\"array\":{\"type\":\"bytes\",\"data\":\"t+1w/+zEIMCTsHBqZYcsQA==\"},\"shape\":[2],\"dtype\":\"float64\",\"order\":\"little\"}],[40,{\"type\":\"ndarray\",\"array\":{\"type\":\"bytes\",\"data\":\"io/8rNiQJcBa4xdcMeEjQA==\"},\"shape\":[2],\"dtype\":\"float64\",\"order\":\"little\"}],[41,{\"type\":\"ndarray\",\"array\":{\"type\":\"bytes\",\"data\":\"sJtH6/vgGsDg+qrAVzcrQA==\"},\"shape\":[2],\"dtype\":\"float64\",\"order\":\"little\"}],[42,{\"type\":\"ndarray\",\"array\":{\"type\":\"bytes\",\"data\":\"71OAfaIQAECkLE60i7EcQA==\"},\"shape\":[2],\"dtype\":\"float64\",\"order\":\"little\"}],[43,{\"type\":\"ndarray\",\"array\":{\"type\":\"bytes\",\"data\":\"tMczJ2n5H8DRpd2kiZYoQA==\"},\"shape\":[2],\"dtype\":\"float64\",\"order\":\"little\"}],[44,{\"type\":\"ndarray\",\"array\":{\"type\":\"bytes\",\"data\":\"V931fpsRKMCeDLTgDoocQA==\"},\"shape\":[2],\"dtype\":\"float64\",\"order\":\"little\"}],[45,{\"type\":\"ndarray\",\"array\":{\"type\":\"bytes\",\"data\":\"wPtaqP1CI8A5j0c8CRcsQA==\"},\"shape\":[2],\"dtype\":\"float64\",\"order\":\"little\"}],[46,{\"type\":\"ndarray\",\"array\":{\"type\":\"bytes\",\"data\":\"7wd0fVaVJ8AqZAQu6/MkQA==\"},\"shape\":[2],\"dtype\":\"float64\",\"order\":\"little\"}],[47,{\"type\":\"ndarray\",\"array\":{\"type\":\"bytes\",\"data\":\"6iMpxx0PGsBywayW6fApQA==\"},\"shape\":[2],\"dtype\":\"float64\",\"order\":\"little\"}],[48,{\"type\":\"ndarray\",\"array\":{\"type\":\"bytes\",\"data\":\"Szef2kNdJMBg2Js6w4ckQA==\"},\"shape\":[2],\"dtype\":\"float64\",\"order\":\"little\"}],[49,{\"type\":\"ndarray\",\"array\":{\"type\":\"bytes\",\"data\":\"4Jn9vfJCIcD8XGk1PbYnQA==\"},\"shape\":[2],\"dtype\":\"float64\",\"order\":\"little\"}],[50,{\"type\":\"ndarray\",\"array\":{\"type\":\"bytes\",\"data\":\"7zI1qpABIsD1I1H4p2MsQA==\"},\"shape\":[2],\"dtype\":\"float64\",\"order\":\"little\"}],[51,{\"type\":\"ndarray\",\"array\":{\"type\":\"bytes\",\"data\":\"Tg1x3LE6IsAj/piNtOIoQA==\"},\"shape\":[2],\"dtype\":\"float64\",\"order\":\"little\"}],[52,{\"type\":\"ndarray\",\"array\":{\"type\":\"bytes\",\"data\":\"qs7B93tuJMAY2jcNtmYrQA==\"},\"shape\":[2],\"dtype\":\"float64\",\"order\":\"little\"}],[53,{\"type\":\"ndarray\",\"array\":{\"type\":\"bytes\",\"data\":\"dYjdgJyGI8BXyoWpPhwoQA==\"},\"shape\":[2],\"dtype\":\"float64\",\"order\":\"little\"}],[54,{\"type\":\"ndarray\",\"array\":{\"type\":\"bytes\",\"data\":\"swEOCA6SI8BHP3M+sacqQA==\"},\"shape\":[2],\"dtype\":\"float64\",\"order\":\"little\"}],[55,{\"type\":\"ndarray\",\"array\":{\"type\":\"bytes\",\"data\":\"URDPDScuJ8Dj0FgL73snQA==\"},\"shape\":[2],\"dtype\":\"float64\",\"order\":\"little\"}],[56,{\"type\":\"ndarray\",\"array\":{\"type\":\"bytes\",\"data\":\"oApKFPnIIcDyJ4GLCkQrQA==\"},\"shape\":[2],\"dtype\":\"float64\",\"order\":\"little\"}],[57,{\"type\":\"ndarray\",\"array\":{\"type\":\"bytes\",\"data\":\"P6yKFWt5HcDkvtHuHPUpQA==\"},\"shape\":[2],\"dtype\":\"float64\",\"order\":\"little\"}],[58,{\"type\":\"ndarray\",\"array\":{\"type\":\"bytes\",\"data\":\"SQM/xwZAJsCEBsN067kpQA==\"},\"shape\":[2],\"dtype\":\"float64\",\"order\":\"little\"}],[59,{\"type\":\"ndarray\",\"array\":{\"type\":\"bytes\",\"data\":\"+9rTp2IbH8DhM5T+rWYsQA==\"},\"shape\":[2],\"dtype\":\"float64\",\"order\":\"little\"}],[60,{\"type\":\"ndarray\",\"array\":{\"type\":\"bytes\",\"data\":\"e797d7/8KMD9jZt+/x4fQA==\"},\"shape\":[2],\"dtype\":\"float64\",\"order\":\"little\"}],[61,{\"type\":\"ndarray\",\"array\":{\"type\":\"bytes\",\"data\":\"yXAYlsMKJ8AVhzwjsrEoQA==\"},\"shape\":[2],\"dtype\":\"float64\",\"order\":\"little\"}],[62,{\"type\":\"ndarray\",\"array\":{\"type\":\"bytes\",\"data\":\"y+coALiaJsDHQdRzC6UlQA==\"},\"shape\":[2],\"dtype\":\"float64\",\"order\":\"little\"}],[63,{\"type\":\"ndarray\",\"array\":{\"type\":\"bytes\",\"data\":\"1XLhK42MIsBDkpypw8EmQA==\"},\"shape\":[2],\"dtype\":\"float64\",\"order\":\"little\"}],[64,{\"type\":\"ndarray\",\"array\":{\"type\":\"bytes\",\"data\":\"ZuldUn7UI8BBTSXoM2MpQA==\"},\"shape\":[2],\"dtype\":\"float64\",\"order\":\"little\"}],[65,{\"type\":\"ndarray\",\"array\":{\"type\":\"bytes\",\"data\":\"IygWarOrHMAX5o0pYw0sQA==\"},\"shape\":[2],\"dtype\":\"float64\",\"order\":\"little\"}],[66,{\"type\":\"ndarray\",\"array\":{\"type\":\"bytes\",\"data\":\"Ei2/cZOCIMDGGVzQnCErQA==\"},\"shape\":[2],\"dtype\":\"float64\",\"order\":\"little\"}],[67,{\"type\":\"ndarray\",\"array\":{\"type\":\"bytes\",\"data\":\"Q5mBNGH/JMANyHlwK1kpQA==\"},\"shape\":[2],\"dtype\":\"float64\",\"order\":\"little\"}],[68,{\"type\":\"ndarray\",\"array\":{\"type\":\"bytes\",\"data\":\"pcNiZ7ZVAEDn/iX78OYdQA==\"},\"shape\":[2],\"dtype\":\"float64\",\"order\":\"little\"}],[69,{\"type\":\"ndarray\",\"array\":{\"type\":\"bytes\",\"data\":\"E96s9snvJcBwM9L9wg4nQA==\"},\"shape\":[2],\"dtype\":\"float64\",\"order\":\"little\"}],[70,{\"type\":\"ndarray\",\"array\":{\"type\":\"bytes\",\"data\":\"jWVn7LHNJcAd9dJPoGMoQA==\"},\"shape\":[2],\"dtype\":\"float64\",\"order\":\"little\"}],[71,{\"type\":\"ndarray\",\"array\":{\"type\":\"bytes\",\"data\":\"Q5VYD1OwJ8AsHR2UzmomQA==\"},\"shape\":[2],\"dtype\":\"float64\",\"order\":\"little\"}],[72,{\"type\":\"ndarray\",\"array\":{\"type\":\"bytes\",\"data\":\"dhvjn/Y0LsAYSDq8ctcQQA==\"},\"shape\":[2],\"dtype\":\"float64\",\"order\":\"little\"}],[73,{\"type\":\"ndarray\",\"array\":{\"type\":\"bytes\",\"data\":\"40ii9pFpMsBHjVybsIIVQA==\"},\"shape\":[2],\"dtype\":\"float64\",\"order\":\"little\"}],[74,{\"type\":\"ndarray\",\"array\":{\"type\":\"bytes\",\"data\":\"ZddI2y7vM8DZrfr+eecOQA==\"},\"shape\":[2],\"dtype\":\"float64\",\"order\":\"little\"}],[75,{\"type\":\"ndarray\",\"array\":{\"type\":\"bytes\",\"data\":\"i6HmJoeGMsCAXhVhvrEQQA==\"},\"shape\":[2],\"dtype\":\"float64\",\"order\":\"little\"}],[76,{\"type\":\"ndarray\",\"array\":{\"type\":\"bytes\",\"data\":\"AAAAAAAANMAQHlRTEg0SQA==\"},\"shape\":[2],\"dtype\":\"float64\",\"order\":\"little\"}],[77,{\"type\":\"ndarray\",\"array\":{\"type\":\"bytes\",\"data\":\"or15c3EaM8DuxvD46LIBQA==\"},\"shape\":[2],\"dtype\":\"float64\",\"order\":\"little\"}],[78,{\"type\":\"ndarray\",\"array\":{\"type\":\"bytes\",\"data\":\"famFBSYuM8DQ7keRJPULQA==\"},\"shape\":[2],\"dtype\":\"float64\",\"order\":\"little\"}],[79,{\"type\":\"ndarray\",\"array\":{\"type\":\"bytes\",\"data\":\"rZ/xQdJIM8DWpe9DjagQQA==\"},\"shape\":[2],\"dtype\":\"float64\",\"order\":\"little\"}],[80,{\"type\":\"ndarray\",\"array\":{\"type\":\"bytes\",\"data\":\"sx67e+ceM8AVH/wmVR4aQA==\"},\"shape\":[2],\"dtype\":\"float64\",\"order\":\"little\"}],[81,{\"type\":\"ndarray\",\"array\":{\"type\":\"bytes\",\"data\":\"yjxmNjaGMsC8rZo0FXMbQA==\"},\"shape\":[2],\"dtype\":\"float64\",\"order\":\"little\"}],[82,{\"type\":\"ndarray\",\"array\":{\"type\":\"bytes\",\"data\":\"16D+En/SM8AbqR8i6KYJQA==\"},\"shape\":[2],\"dtype\":\"float64\",\"order\":\"little\"}],[83,{\"type\":\"ndarray\",\"array\":{\"type\":\"bytes\",\"data\":\"G8olQLfaMsCbufCif1gTQA==\"},\"shape\":[2],\"dtype\":\"float64\",\"order\":\"little\"}],[84,{\"type\":\"ndarray\",\"array\":{\"type\":\"bytes\",\"data\":\"SPzuPFbdM8D1te5Dw5kVQA==\"},\"shape\":[2],\"dtype\":\"float64\",\"order\":\"little\"}],[85,{\"type\":\"ndarray\",\"array\":{\"type\":\"bytes\",\"data\":\"xR23cJmNMsArRdxo/w4KQA==\"},\"shape\":[2],\"dtype\":\"float64\",\"order\":\"little\"}],[86,{\"type\":\"ndarray\",\"array\":{\"type\":\"bytes\",\"data\":\"rd+c4H9aMsBBRTRksMYYQA==\"},\"shape\":[2],\"dtype\":\"float64\",\"order\":\"little\"}],[87,{\"type\":\"ndarray\",\"array\":{\"type\":\"bytes\",\"data\":\"FNoq1taHMsCbFU+Bq8oDQA==\"},\"shape\":[2],\"dtype\":\"float64\",\"order\":\"little\"}],[88,{\"type\":\"ndarray\",\"array\":{\"type\":\"bytes\",\"data\":\"SjdRNW9hM8CbUOz6rREGQA==\"},\"shape\":[2],\"dtype\":\"float64\",\"order\":\"little\"}],[89,{\"type\":\"ndarray\",\"array\":{\"type\":\"bytes\",\"data\":\"futFqfWVM8CoszdQlxMYQA==\"},\"shape\":[2],\"dtype\":\"float64\",\"order\":\"little\"}],[90,{\"type\":\"ndarray\",\"array\":{\"type\":\"bytes\",\"data\":\"MzFGrMcHM8DUkYSQR/QWQA==\"},\"shape\":[2],\"dtype\":\"float64\",\"order\":\"little\"}],[91,{\"type\":\"ndarray\",\"array\":{\"type\":\"bytes\",\"data\":\"xDw802yFM8BFE52vD8oTQA==\"},\"shape\":[2],\"dtype\":\"float64\",\"order\":\"little\"}],[92,{\"type\":\"ndarray\",\"array\":{\"type\":\"bytes\",\"data\":\"JPdZKRwwL0Dn2ooMNP4PQA==\"},\"shape\":[2],\"dtype\":\"float64\",\"order\":\"little\"}],[93,{\"type\":\"ndarray\",\"array\":{\"type\":\"bytes\",\"data\":\"xsjLAs1uJkAAhtE0UjEUQA==\"},\"shape\":[2],\"dtype\":\"float64\",\"order\":\"little\"}],[94,{\"type\":\"ndarray\",\"array\":{\"type\":\"bytes\",\"data\":\"ZKhoiIKcLEBBP9JdM0MSQA==\"},\"shape\":[2],\"dtype\":\"float64\",\"order\":\"little\"}],[95,{\"type\":\"ndarray\",\"array\":{\"type\":\"bytes\",\"data\":\"dgbJG+5qMEBMS+DQ//sXQA==\"},\"shape\":[2],\"dtype\":\"float64\",\"order\":\"little\"}],[96,{\"type\":\"ndarray\",\"array\":{\"type\":\"bytes\",\"data\":\"MLkJfygBLkBK71BecnoYQA==\"},\"shape\":[2],\"dtype\":\"float64\",\"order\":\"little\"}],[97,{\"type\":\"ndarray\",\"array\":{\"type\":\"bytes\",\"data\":\"cIcoEt2rLkAaaOEvCWkbQA==\"},\"shape\":[2],\"dtype\":\"float64\",\"order\":\"little\"}],[98,{\"type\":\"ndarray\",\"array\":{\"type\":\"bytes\",\"data\":\"t9FWThxNAECqE1Xp604OQA==\"},\"shape\":[2],\"dtype\":\"float64\",\"order\":\"little\"}],[99,{\"type\":\"ndarray\",\"array\":{\"type\":\"bytes\",\"data\":\"jTcctExWMEDI/ADKQRUTQA==\"},\"shape\":[2],\"dtype\":\"float64\",\"order\":\"little\"}],[100,{\"type\":\"ndarray\",\"array\":{\"type\":\"bytes\",\"data\":\"0ce1YZIhMEACX4tOMkscQA==\"},\"shape\":[2],\"dtype\":\"float64\",\"order\":\"little\"}],[101,{\"type\":\"ndarray\",\"array\":{\"type\":\"bytes\",\"data\":\"0pdVpITPLUCgY0Tv11sdQA==\"},\"shape\":[2],\"dtype\":\"float64\",\"order\":\"little\"}],[102,{\"type\":\"ndarray\",\"array\":{\"type\":\"bytes\",\"data\":\"U5PWJ17bLECUWy2Ho98ZQA==\"},\"shape\":[2],\"dtype\":\"float64\",\"order\":\"little\"}],[103,{\"type\":\"ndarray\",\"array\":{\"type\":\"bytes\",\"data\":\"XHPiUOT3D0ALNw7uYE0IQA==\"},\"shape\":[2],\"dtype\":\"float64\",\"order\":\"little\"}],[104,{\"type\":\"ndarray\",\"array\":{\"type\":\"bytes\",\"data\":\"JRA33PVhLECjL1kh1lQcQA==\"},\"shape\":[2],\"dtype\":\"float64\",\"order\":\"little\"}],[105,{\"type\":\"ndarray\",\"array\":{\"type\":\"bytes\",\"data\":\"BkZuZxaSLEDFCaAp/DMMQA==\"},\"shape\":[2],\"dtype\":\"float64\",\"order\":\"little\"}],[106,{\"type\":\"ndarray\",\"array\":{\"type\":\"bytes\",\"data\":\"IqnEz5t5L0A5OJLBZQceQA==\"},\"shape\":[2],\"dtype\":\"float64\",\"order\":\"little\"}],[107,{\"type\":\"ndarray\",\"array\":{\"type\":\"bytes\",\"data\":\"YCMzudX3LUDNLb9IIpIRQA==\"},\"shape\":[2],\"dtype\":\"float64\",\"order\":\"little\"}],[108,{\"type\":\"ndarray\",\"array\":{\"type\":\"bytes\",\"data\":\"OPg7lAZDMEDKeIXmK7cQQA==\"},\"shape\":[2],\"dtype\":\"float64\",\"order\":\"little\"}],[109,{\"type\":\"ndarray\",\"array\":{\"type\":\"bytes\",\"data\":\"Y58dwkveLUCm6tACKKcgQA==\"},\"shape\":[2],\"dtype\":\"float64\",\"order\":\"little\"}],[110,{\"type\":\"ndarray\",\"array\":{\"type\":\"bytes\",\"data\":\"6QMepnSCLECq8a0MjZUgQA==\"},\"shape\":[2],\"dtype\":\"float64\",\"order\":\"little\"}],[111,{\"type\":\"ndarray\",\"array\":{\"type\":\"bytes\",\"data\":\"O/kNUCK2LUCmjSbIuHEHQA==\"},\"shape\":[2],\"dtype\":\"float64\",\"order\":\"little\"}],[112,{\"type\":\"ndarray\",\"array\":{\"type\":\"bytes\",\"data\":\"LzH4bxr8LkCSnKu5b+cIQA==\"},\"shape\":[2],\"dtype\":\"float64\",\"order\":\"little\"}],[113,{\"type\":\"ndarray\",\"array\":{\"type\":\"bytes\",\"data\":\"1OrtcYJHL0B2SIjIZsYSQA==\"},\"shape\":[2],\"dtype\":\"float64\",\"order\":\"little\"}],[114,{\"type\":\"ndarray\",\"array\":{\"type\":\"bytes\",\"data\":\"KvkxG+2cLkAqj2kOTLMVQA==\"},\"shape\":[2],\"dtype\":\"float64\",\"order\":\"little\"}],[115,{\"type\":\"ndarray\",\"array\":{\"type\":\"bytes\",\"data\":\"HhuB9V95MEAeX3fOR2QVQA==\"},\"shape\":[2],\"dtype\":\"float64\",\"order\":\"little\"}],[116,{\"type\":\"ndarray\",\"array\":{\"type\":\"bytes\",\"data\":\"omQBxwPsL0BiU1WcijAMQA==\"},\"shape\":[2],\"dtype\":\"float64\",\"order\":\"little\"}],[117,{\"type\":\"ndarray\",\"array\":{\"type\":\"bytes\",\"data\":\"bWsNAaq8L0Bk5CYNh+AVQA==\"},\"shape\":[2],\"dtype\":\"float64\",\"order\":\"little\"}],[118,{\"type\":\"ndarray\",\"array\":{\"type\":\"bytes\",\"data\":\"gk6xTZUoMEBXQ2kOsSEaQA==\"},\"shape\":[2],\"dtype\":\"float64\",\"order\":\"little\"}],[119,{\"type\":\"ndarray\",\"array\":{\"type\":\"bytes\",\"data\":\"utxNeSQ9L0BxQKrOF7AYQA==\"},\"shape\":[2],\"dtype\":\"float64\",\"order\":\"little\"}],[120,{\"type\":\"ndarray\",\"array\":{\"type\":\"bytes\",\"data\":\"Oq5/i0bJLkB/T0uD08EfQA==\"},\"shape\":[2],\"dtype\":\"float64\",\"order\":\"little\"}],[121,{\"type\":\"ndarray\",\"array\":{\"type\":\"bytes\",\"data\":\"tNVsmpZ6LUCsXNo9ercUQA==\"},\"shape\":[2],\"dtype\":\"float64\",\"order\":\"little\"}],[122,{\"type\":\"ndarray\",\"array\":{\"type\":\"bytes\",\"data\":\"IK/zesiDLEBQOgByOT4XQA==\"},\"shape\":[2],\"dtype\":\"float64\",\"order\":\"little\"}],[123,{\"type\":\"ndarray\",\"array\":{\"type\":\"bytes\",\"data\":\"OTTt9WCOLEA+ongD7t8eQA==\"},\"shape\":[2],\"dtype\":\"float64\",\"order\":\"little\"}],[124,{\"type\":\"ndarray\",\"array\":{\"type\":\"bytes\",\"data\":\"ZasFz43WLUCrDl5K7hUNQA==\"},\"shape\":[2],\"dtype\":\"float64\",\"order\":\"little\"}],[125,{\"type\":\"ndarray\",\"array\":{\"type\":\"bytes\",\"data\":\"VQsz3STuF8BNURFSgMz0Pw==\"},\"shape\":[2],\"dtype\":\"float64\",\"order\":\"little\"}],[126,{\"type\":\"ndarray\",\"array\":{\"type\":\"bytes\",\"data\":\"+WikfEGCHMBrivS6ng/Dvw==\"},\"shape\":[2],\"dtype\":\"float64\",\"order\":\"little\"}],[127,{\"type\":\"ndarray\",\"array\":{\"type\":\"bytes\",\"data\":\"bDdgEb6JGsAWi0e+TdPlPw==\"},\"shape\":[2],\"dtype\":\"float64\",\"order\":\"little\"}],[128,{\"type\":\"ndarray\",\"array\":{\"type\":\"bytes\",\"data\":\"Em6e/eIjHcAtzznJu2jwPw==\"},\"shape\":[2],\"dtype\":\"float64\",\"order\":\"little\"}],[129,{\"type\":\"ndarray\",\"array\":{\"type\":\"bytes\",\"data\":\"Bmpe4B4rHcC/Nmtl8IvWPw==\"},\"shape\":[2],\"dtype\":\"float64\",\"order\":\"little\"}],[130,{\"type\":\"ndarray\",\"array\":{\"type\":\"bytes\",\"data\":\"I9y5DWeB4T8mFMZfNN0LwA==\"},\"shape\":[2],\"dtype\":\"float64\",\"order\":\"little\"}],[131,{\"type\":\"ndarray\",\"array\":{\"type\":\"bytes\",\"data\":\"elyPGkKZHMDFSSMkWhQFQA==\"},\"shape\":[2],\"dtype\":\"float64\",\"order\":\"little\"}],[132,{\"type\":\"ndarray\",\"array\":{\"type\":\"bytes\",\"data\":\"1ir29YHqJMDkA4PTWpn9Pw==\"},\"shape\":[2],\"dtype\":\"float64\",\"order\":\"little\"}],[133,{\"type\":\"ndarray\",\"array\":{\"type\":\"bytes\",\"data\":\"zP58wiwFF8ANywhKL1vJvw==\"},\"shape\":[2],\"dtype\":\"float64\",\"order\":\"little\"}],[134,{\"type\":\"ndarray\",\"array\":{\"type\":\"bytes\",\"data\":\"rQkYt2be7D8bbNaGi5D9Pw==\"},\"shape\":[2],\"dtype\":\"float64\",\"order\":\"little\"}],[135,{\"type\":\"ndarray\",\"array\":{\"type\":\"bytes\",\"data\":\"rL1T/YR+FcDaDp5vSHbfPw==\"},\"shape\":[2],\"dtype\":\"float64\",\"order\":\"little\"}],[136,{\"type\":\"ndarray\",\"array\":{\"type\":\"bytes\",\"data\":\"kURE8XZUFMAuReifJakBQA==\"},\"shape\":[2],\"dtype\":\"float64\",\"order\":\"little\"}],[137,{\"type\":\"ndarray\",\"array\":{\"type\":\"bytes\",\"data\":\"Iaux3UQ8JcBSoSWTsK3aPw==\"},\"shape\":[2],\"dtype\":\"float64\",\"order\":\"little\"}],[138,{\"type\":\"ndarray\",\"array\":{\"type\":\"bytes\",\"data\":\"VhBbc1LW5j/+vNuHEWoAQA==\"},\"shape\":[2],\"dtype\":\"float64\",\"order\":\"little\"}],[139,{\"type\":\"ndarray\",\"array\":{\"type\":\"bytes\",\"data\":\"HMoYHYnLGsDYP0Q8QeL2Pw==\"},\"shape\":[2],\"dtype\":\"float64\",\"order\":\"little\"}],[140,{\"type\":\"ndarray\",\"array\":{\"type\":\"bytes\",\"data\":\"M+KSvzPNyr8a1xVCnlbrvw==\"},\"shape\":[2],\"dtype\":\"float64\",\"order\":\"little\"}],[141,{\"type\":\"ndarray\",\"array\":{\"type\":\"bytes\",\"data\":\"hg+yrY3RGMCZgZ+r0eHQPw==\"},\"shape\":[2],\"dtype\":\"float64\",\"order\":\"little\"}],[142,{\"type\":\"ndarray\",\"array\":{\"type\":\"bytes\",\"data\":\"4Tn9QPIyJMAUqLuesffzPw==\"},\"shape\":[2],\"dtype\":\"float64\",\"order\":\"little\"}],[143,{\"type\":\"ndarray\",\"array\":{\"type\":\"bytes\",\"data\":\"dahKmcc8HsC03VnzX8/6Pw==\"},\"shape\":[2],\"dtype\":\"float64\",\"order\":\"little\"}],[144,{\"type\":\"ndarray\",\"array\":{\"type\":\"bytes\",\"data\":\"PHpCwa/tFcBY4qEdbVcIQA==\"},\"shape\":[2],\"dtype\":\"float64\",\"order\":\"little\"}],[145,{\"type\":\"ndarray\",\"array\":{\"type\":\"bytes\",\"data\":\"R2btXztgGsC9koGnw8fUvw==\"},\"shape\":[2],\"dtype\":\"float64\",\"order\":\"little\"}],[146,{\"type\":\"ndarray\",\"array\":{\"type\":\"bytes\",\"data\":\"xEN5ISfrI8AU6Nt6MFUCQA==\"},\"shape\":[2],\"dtype\":\"float64\",\"order\":\"little\"}],[147,{\"type\":\"ndarray\",\"array\":{\"type\":\"bytes\",\"data\":\"qY7g6aiqFMCtmjkp0P32Pw==\"},\"shape\":[2],\"dtype\":\"float64\",\"order\":\"little\"}],[148,{\"type\":\"ndarray\",\"array\":{\"type\":\"bytes\",\"data\":\"J9jy2yOmHMDQPDao5AL+Pw==\"},\"shape\":[2],\"dtype\":\"float64\",\"order\":\"little\"}],[149,{\"type\":\"ndarray\",\"array\":{\"type\":\"bytes\",\"data\":\"3RGcvsnAE8ArXxKRTAMHQA==\"},\"shape\":[2],\"dtype\":\"float64\",\"order\":\"little\"}],[150,{\"type\":\"ndarray\",\"array\":{\"type\":\"bytes\",\"data\":\"2c+eOo/dJcCRpraXDx/4Pw==\"},\"shape\":[2],\"dtype\":\"float64\",\"order\":\"little\"}],[151,{\"type\":\"ndarray\",\"array\":{\"type\":\"bytes\",\"data\":\"92hT/uW1JMAvZqSmXdHLvw==\"},\"shape\":[2],\"dtype\":\"float64\",\"order\":\"little\"}],[152,{\"type\":\"ndarray\",\"array\":{\"type\":\"bytes\",\"data\":\"2ZOUN+qUGsBewTvXYCcCQA==\"},\"shape\":[2],\"dtype\":\"float64\",\"order\":\"little\"}],[153,{\"type\":\"ndarray\",\"array\":{\"type\":\"bytes\",\"data\":\"gaU3FMC5GMBNJuiCvHYHQA==\"},\"shape\":[2],\"dtype\":\"float64\",\"order\":\"little\"}],[154,{\"type\":\"ndarray\",\"array\":{\"type\":\"bytes\",\"data\":\"O5Lxm3i3JMAOIJwBMTMHQA==\"},\"shape\":[2],\"dtype\":\"float64\",\"order\":\"little\"}],[155,{\"type\":\"ndarray\",\"array\":{\"type\":\"bytes\",\"data\":\"fo+z8s+CJcD45jRB5isDQA==\"},\"shape\":[2],\"dtype\":\"float64\",\"order\":\"little\"}],[156,{\"type\":\"ndarray\",\"array\":{\"type\":\"bytes\",\"data\":\"yliWkCeLJcD80AQ32wDuPw==\"},\"shape\":[2],\"dtype\":\"float64\",\"order\":\"little\"}],[157,{\"type\":\"ndarray\",\"array\":{\"type\":\"bytes\",\"data\":\"5e9P/UD2I8BuIY+qok7SPw==\"},\"shape\":[2],\"dtype\":\"float64\",\"order\":\"little\"}],[158,{\"type\":\"ndarray\",\"array\":{\"type\":\"bytes\",\"data\":\"TL9s7fzmF8A/vsW1b2oCQA==\"},\"shape\":[2],\"dtype\":\"float64\",\"order\":\"little\"}],[159,{\"type\":\"ndarray\",\"array\":{\"type\":\"bytes\",\"data\":\"uvDN2HziI8Du1V3Cs1oKQA==\"},\"shape\":[2],\"dtype\":\"float64\",\"order\":\"little\"}],[160,{\"type\":\"ndarray\",\"array\":{\"type\":\"bytes\",\"data\":\"MOzKwRyJC8AfhsCSHBH0Pw==\"},\"shape\":[2],\"dtype\":\"float64\",\"order\":\"little\"}],[161,{\"type\":\"ndarray\",\"array\":{\"type\":\"bytes\",\"data\":\"Gcq/olsAF8AIDinrfqAQwA==\"},\"shape\":[2],\"dtype\":\"float64\",\"order\":\"little\"}],[162,{\"type\":\"ndarray\",\"array\":{\"type\":\"bytes\",\"data\":\"5/V6o0M2G8B4LhIrk2oPQA==\"},\"shape\":[2],\"dtype\":\"float64\",\"order\":\"little\"}],[163,{\"type\":\"ndarray\",\"array\":{\"type\":\"bytes\",\"data\":\"6X+qnyDBH8BQHzAeDPTlPw==\"},\"shape\":[2],\"dtype\":\"float64\",\"order\":\"little\"}],[164,{\"type\":\"ndarray\",\"array\":{\"type\":\"bytes\",\"data\":\"klHaOwB3+j8A6+tU8H/0vw==\"},\"shape\":[2],\"dtype\":\"float64\",\"order\":\"little\"}],[165,{\"type\":\"ndarray\",\"array\":{\"type\":\"bytes\",\"data\":\"Q46T2U26xz8kifRGKcoUQA==\"},\"shape\":[2],\"dtype\":\"float64\",\"order\":\"little\"}],[166,{\"type\":\"ndarray\",\"array\":{\"type\":\"bytes\",\"data\":\"JWeaW77bGMAdTWoa/NMPQA==\"},\"shape\":[2],\"dtype\":\"float64\",\"order\":\"little\"}],[167,{\"type\":\"ndarray\",\"array\":{\"type\":\"bytes\",\"data\":\"qRvp6SMbA0BHmKCv4DUSwA==\"},\"shape\":[2],\"dtype\":\"float64\",\"order\":\"little\"}],[168,{\"type\":\"ndarray\",\"array\":{\"type\":\"bytes\",\"data\":\"F64N8XwWGcDEuIozw8rxvw==\"},\"shape\":[2],\"dtype\":\"float64\",\"order\":\"little\"}],[169,{\"type\":\"ndarray\",\"array\":{\"type\":\"bytes\",\"data\":\"XIJhFq+IFcCfaFPp6esTQA==\"},\"shape\":[2],\"dtype\":\"float64\",\"order\":\"little\"}],[170,{\"type\":\"ndarray\",\"array\":{\"type\":\"bytes\",\"data\":\"zF9VxtdSub+xp0HygWAWQA==\"},\"shape\":[2],\"dtype\":\"float64\",\"order\":\"little\"}],[171,{\"type\":\"ndarray\",\"array\":{\"type\":\"bytes\",\"data\":\"MbgVrMGaHcATmX4UYFMJQA==\"},\"shape\":[2],\"dtype\":\"float64\",\"order\":\"little\"}],[172,{\"type\":\"ndarray\",\"array\":{\"type\":\"bytes\",\"data\":\"pdcAi4ce2r874WL00u8QwA==\"},\"shape\":[2],\"dtype\":\"float64\",\"order\":\"little\"}],[173,{\"type\":\"ndarray\",\"array\":{\"type\":\"bytes\",\"data\":\"d2IpoD8nGEA9X5H09JMLwA==\"},\"shape\":[2],\"dtype\":\"float64\",\"order\":\"little\"}],[174,{\"type\":\"ndarray\",\"array\":{\"type\":\"bytes\",\"data\":\"ps1okCon5D+OTBKtOujvvw==\"},\"shape\":[2],\"dtype\":\"float64\",\"order\":\"little\"}],[175,{\"type\":\"ndarray\",\"array\":{\"type\":\"bytes\",\"data\":\"lhcDbJzGJED5cFw7J14VwA==\"},\"shape\":[2],\"dtype\":\"float64\",\"order\":\"little\"}],[176,{\"type\":\"ndarray\",\"array\":{\"type\":\"bytes\",\"data\":\"d3UjL+eVIEA8qDOPz2UXwA==\"},\"shape\":[2],\"dtype\":\"float64\",\"order\":\"little\"}],[177,{\"type\":\"ndarray\",\"array\":{\"type\":\"bytes\",\"data\":\"Z/VLVEnCI0BLm9feuN0RwA==\"},\"shape\":[2],\"dtype\":\"float64\",\"order\":\"little\"}],[178,{\"type\":\"ndarray\",\"array\":{\"type\":\"bytes\",\"data\":\"CU2izjrMIEAYd3br7FYUwA==\"},\"shape\":[2],\"dtype\":\"float64\",\"order\":\"little\"}],[179,{\"type\":\"ndarray\",\"array\":{\"type\":\"bytes\",\"data\":\"HM5q2xciHkAl170Dm3QUwA==\"},\"shape\":[2],\"dtype\":\"float64\",\"order\":\"little\"}],[180,{\"type\":\"ndarray\",\"array\":{\"type\":\"bytes\",\"data\":\"2hpZ5ynpIECUatLAfuQMwA==\"},\"shape\":[2],\"dtype\":\"float64\",\"order\":\"little\"}],[181,{\"type\":\"ndarray\",\"array\":{\"type\":\"bytes\",\"data\":\"EElOtbuJI0Co8sL2NtEUwA==\"},\"shape\":[2],\"dtype\":\"float64\",\"order\":\"little\"}],[182,{\"type\":\"ndarray\",\"array\":{\"type\":\"bytes\",\"data\":\"2GR8CHZtHkAi3+eXApMYwA==\"},\"shape\":[2],\"dtype\":\"float64\",\"order\":\"little\"}],[183,{\"type\":\"ndarray\",\"array\":{\"type\":\"bytes\",\"data\":\"BgaFIRK9HEDcHjPYWHkdwA==\"},\"shape\":[2],\"dtype\":\"float64\",\"order\":\"little\"}],[184,{\"type\":\"ndarray\",\"array\":{\"type\":\"bytes\",\"data\":\"JRIBU3hY/z+iefup6TggwA==\"},\"shape\":[2],\"dtype\":\"float64\",\"order\":\"little\"}],[185,{\"type\":\"ndarray\",\"array\":{\"type\":\"bytes\",\"data\":\"ywb3KnBtGkCYgKZZi4jtvw==\"},\"shape\":[2],\"dtype\":\"float64\",\"order\":\"little\"}],[186,{\"type\":\"ndarray\",\"array\":{\"type\":\"bytes\",\"data\":\"ut7e0OSzyD/7DulMmw0cwA==\"},\"shape\":[2],\"dtype\":\"float64\",\"order\":\"little\"}],[187,{\"type\":\"ndarray\",\"array\":{\"type\":\"bytes\",\"data\":\"BsVhxhccJECB0o8RWU4EwA==\"},\"shape\":[2],\"dtype\":\"float64\",\"order\":\"little\"}],[188,{\"type\":\"ndarray\",\"array\":{\"type\":\"bytes\",\"data\":\"hU94SbQzH0BZmJhJiR4dwA==\"},\"shape\":[2],\"dtype\":\"float64\",\"order\":\"little\"}],[189,{\"type\":\"ndarray\",\"array\":{\"type\":\"bytes\",\"data\":\"fwtFNtznIkBFNqZojN4PwA==\"},\"shape\":[2],\"dtype\":\"float64\",\"order\":\"little\"}],[190,{\"type\":\"ndarray\",\"array\":{\"type\":\"bytes\",\"data\":\"A981ltQQI0BOXbWucSYJwA==\"},\"shape\":[2],\"dtype\":\"float64\",\"order\":\"little\"}],[191,{\"type\":\"ndarray\",\"array\":{\"type\":\"bytes\",\"data\":\"ORIpgh20IUCoBmpVKLUYwA==\"},\"shape\":[2],\"dtype\":\"float64\",\"order\":\"little\"}],[192,{\"type\":\"ndarray\",\"array\":{\"type\":\"bytes\",\"data\":\"m7VLafVBIkCgvoA0/2wUwA==\"},\"shape\":[2],\"dtype\":\"float64\",\"order\":\"little\"}],[193,{\"type\":\"ndarray\",\"array\":{\"type\":\"bytes\",\"data\":\"lyRS5gtFJEBUv16uiY8MwA==\"},\"shape\":[2],\"dtype\":\"float64\",\"order\":\"little\"}],[194,{\"type\":\"ndarray\",\"array\":{\"type\":\"bytes\",\"data\":\"Q/wrcSVhI0BUra62MV0AwA==\"},\"shape\":[2],\"dtype\":\"float64\",\"order\":\"little\"}],[195,{\"type\":\"ndarray\",\"array\":{\"type\":\"bytes\",\"data\":\"KVMAkwQFI0BZ3YUfBH8XwA==\"},\"shape\":[2],\"dtype\":\"float64\",\"order\":\"little\"}],[196,{\"type\":\"ndarray\",\"array\":{\"type\":\"bytes\",\"data\":\"jELhgGSaJUDHS31RQXYQwA==\"},\"shape\":[2],\"dtype\":\"float64\",\"order\":\"little\"}],[197,{\"type\":\"ndarray\",\"array\":{\"type\":\"bytes\",\"data\":\"TOGQgWMrG0CWp99vJrMXwA==\"},\"shape\":[2],\"dtype\":\"float64\",\"order\":\"little\"}],[198,{\"type\":\"ndarray\",\"array\":{\"type\":\"bytes\",\"data\":\"Ogf5FhoMIkAzghbCJiwBwA==\"},\"shape\":[2],\"dtype\":\"float64\",\"order\":\"little\"}],[199,{\"type\":\"ndarray\",\"array\":{\"type\":\"bytes\",\"data\":\"iUBBJ+93IUDVCmJXw2cRwA==\"},\"shape\":[2],\"dtype\":\"float64\",\"order\":\"little\"}],[200,{\"type\":\"ndarray\",\"array\":{\"type\":\"bytes\",\"data\":\"kIlUflyPJUDyAAzS0ekLwA==\"},\"shape\":[2],\"dtype\":\"float64\",\"order\":\"little\"}],[201,{\"type\":\"ndarray\",\"array\":{\"type\":\"bytes\",\"data\":\"Wbfgpg9CJUCwo0pFAaQGwA==\"},\"shape\":[2],\"dtype\":\"float64\",\"order\":\"little\"}],[202,{\"type\":\"ndarray\",\"array\":{\"type\":\"bytes\",\"data\":\"ZorYnrwPJUARnDEUmpMSwA==\"},\"shape\":[2],\"dtype\":\"float64\",\"order\":\"little\"}],[203,{\"type\":\"ndarray\",\"array\":{\"type\":\"bytes\",\"data\":\"gRE6Qa3LIUAzP6t+AFIHwA==\"},\"shape\":[2],\"dtype\":\"float64\",\"order\":\"little\"}],[204,{\"type\":\"ndarray\",\"array\":{\"type\":\"bytes\",\"data\":\"44eLw48A7T/hJAcuwqskwA==\"},\"shape\":[2],\"dtype\":\"float64\",\"order\":\"little\"}],[205,{\"type\":\"ndarray\",\"array\":{\"type\":\"bytes\",\"data\":\"y3qX7e4GIEB1i7i/HMAjwA==\"},\"shape\":[2],\"dtype\":\"float64\",\"order\":\"little\"}],[206,{\"type\":\"ndarray\",\"array\":{\"type\":\"bytes\",\"data\":\"kXseUvgAKUCkXKifRv4nwA==\"},\"shape\":[2],\"dtype\":\"float64\",\"order\":\"little\"}],[207,{\"type\":\"ndarray\",\"array\":{\"type\":\"bytes\",\"data\":\"NZ1QN5/TGUCKolUSAe/ivw==\"},\"shape\":[2],\"dtype\":\"float64\",\"order\":\"little\"}],[208,{\"type\":\"ndarray\",\"array\":{\"type\":\"bytes\",\"data\":\"4Yt2rT4KKkAUOjFi+Y8kwA==\"},\"shape\":[2],\"dtype\":\"float64\",\"order\":\"little\"}],[209,{\"type\":\"ndarray\",\"array\":{\"type\":\"bytes\",\"data\":\"qgl5iZ10IECje7Q6KM0owA==\"},\"shape\":[2],\"dtype\":\"float64\",\"order\":\"little\"}],[210,{\"type\":\"ndarray\",\"array\":{\"type\":\"bytes\",\"data\":\"06+dHdglIUAP1hC5JXouwA==\"},\"shape\":[2],\"dtype\":\"float64\",\"order\":\"little\"}],[211,{\"type\":\"ndarray\",\"array\":{\"type\":\"bytes\",\"data\":\"1jXge0UGHkDoI4/QP/ctwA==\"},\"shape\":[2],\"dtype\":\"float64\",\"order\":\"little\"}],[212,{\"type\":\"ndarray\",\"array\":{\"type\":\"bytes\",\"data\":\"TDUmv6BnJ0CQP/sH9WskwA==\"},\"shape\":[2],\"dtype\":\"float64\",\"order\":\"little\"}],[213,{\"type\":\"ndarray\",\"array\":{\"type\":\"bytes\",\"data\":\"/0sVTvzkHECOw8lvrHoswA==\"},\"shape\":[2],\"dtype\":\"float64\",\"order\":\"little\"}],[214,{\"type\":\"ndarray\",\"array\":{\"type\":\"bytes\",\"data\":\"Ezcr/zqlGUAAXDVN9zkswA==\"},\"shape\":[2],\"dtype\":\"float64\",\"order\":\"little\"}],[215,{\"type\":\"ndarray\",\"array\":{\"type\":\"bytes\",\"data\":\"uYQC/yJ7GEAb142GI+oqwA==\"},\"shape\":[2],\"dtype\":\"float64\",\"order\":\"little\"}],[216,{\"type\":\"ndarray\",\"array\":{\"type\":\"bytes\",\"data\":\"d04js3oBJ0BrgiNWWzUrwA==\"},\"shape\":[2],\"dtype\":\"float64\",\"order\":\"little\"}],[217,{\"type\":\"ndarray\",\"array\":{\"type\":\"bytes\",\"data\":\"DL9bWXpjG0BsApxDKlktwA==\"},\"shape\":[2],\"dtype\":\"float64\",\"order\":\"little\"}],[218,{\"type\":\"ndarray\",\"array\":{\"type\":\"bytes\",\"data\":\"gy2UezbNKEC7essAhIskwA==\"},\"shape\":[2],\"dtype\":\"float64\",\"order\":\"little\"}],[219,{\"type\":\"ndarray\",\"array\":{\"type\":\"bytes\",\"data\":\"zLf8dZqgJUAROdUU8lgtwA==\"},\"shape\":[2],\"dtype\":\"float64\",\"order\":\"little\"}],[220,{\"type\":\"ndarray\",\"array\":{\"type\":\"bytes\",\"data\":\"No5sHpJ3I0AVTepslxgqwA==\"},\"shape\":[2],\"dtype\":\"float64\",\"order\":\"little\"}],[221,{\"type\":\"ndarray\",\"array\":{\"type\":\"bytes\",\"data\":\"NqV/ny/GKEA7vFNz6v4lwA==\"},\"shape\":[2],\"dtype\":\"float64\",\"order\":\"little\"}],[222,{\"type\":\"ndarray\",\"array\":{\"type\":\"bytes\",\"data\":\"6mX/cRPFJkBwtcsMlZ8swA==\"},\"shape\":[2],\"dtype\":\"float64\",\"order\":\"little\"}],[223,{\"type\":\"ndarray\",\"array\":{\"type\":\"bytes\",\"data\":\"MyMcaWcyIkCMaTzbkDMswA==\"},\"shape\":[2],\"dtype\":\"float64\",\"order\":\"little\"}],[224,{\"type\":\"ndarray\",\"array\":{\"type\":\"bytes\",\"data\":\"RRGm3sonKkBJkTCP2PMnwA==\"},\"shape\":[2],\"dtype\":\"float64\",\"order\":\"little\"}],[225,{\"type\":\"ndarray\",\"array\":{\"type\":\"bytes\",\"data\":\"0R9z9MVsI0CoASrrWdYswA==\"},\"shape\":[2],\"dtype\":\"float64\",\"order\":\"little\"}],[226,{\"type\":\"ndarray\",\"array\":{\"type\":\"bytes\",\"data\":\"wIxF2nSrJECCxTt7TU8rwA==\"},\"shape\":[2],\"dtype\":\"float64\",\"order\":\"little\"}],[227,{\"type\":\"ndarray\",\"array\":{\"type\":\"bytes\",\"data\":\"z/KZoHC/JkDOU5FpNsknwA==\"},\"shape\":[2],\"dtype\":\"float64\",\"order\":\"little\"}],[228,{\"type\":\"ndarray\",\"array\":{\"type\":\"bytes\",\"data\":\"Rx847rSiKEBZt6pWpm4pwA==\"},\"shape\":[2],\"dtype\":\"float64\",\"order\":\"little\"}],[229,{\"type\":\"ndarray\",\"array\":{\"type\":\"bytes\",\"data\":\"oy8FfRqlKUBR7SMKxmwpwA==\"},\"shape\":[2],\"dtype\":\"float64\",\"order\":\"little\"}],[230,{\"type\":\"ndarray\",\"array\":{\"type\":\"bytes\",\"data\":\"z1ZfjjRIJEDE/AeMCO4twA==\"},\"shape\":[2],\"dtype\":\"float64\",\"order\":\"little\"}],[231,{\"type\":\"ndarray\",\"array\":{\"type\":\"bytes\",\"data\":\"ZxLtMh4JIkAWiqVuR80twA==\"},\"shape\":[2],\"dtype\":\"float64\",\"order\":\"little\"}],[232,{\"type\":\"ndarray\",\"array\":{\"type\":\"bytes\",\"data\":\"4xGdZ4beJ0BxoPU6fXwnwA==\"},\"shape\":[2],\"dtype\":\"float64\",\"order\":\"little\"}],[233,{\"type\":\"ndarray\",\"array\":{\"type\":\"bytes\",\"data\":\"QrH3vk37JUCYzl59Ke8owA==\"},\"shape\":[2],\"dtype\":\"float64\",\"order\":\"little\"}],[234,{\"type\":\"ndarray\",\"array\":{\"type\":\"bytes\",\"data\":\"6RGwOOGHIkCJyOkFgpgnwA==\"},\"shape\":[2],\"dtype\":\"float64\",\"order\":\"little\"}],[235,{\"type\":\"ndarray\",\"array\":{\"type\":\"bytes\",\"data\":\"N/so7ZfFIUCXPuX6KpQqwA==\"},\"shape\":[2],\"dtype\":\"float64\",\"order\":\"little\"}],[236,{\"type\":\"ndarray\",\"array\":{\"type\":\"bytes\",\"data\":\"ksU2y1ynKUCUITf9LdgmwA==\"},\"shape\":[2],\"dtype\":\"float64\",\"order\":\"little\"}],[237,{\"type\":\"ndarray\",\"array\":{\"type\":\"bytes\",\"data\":\"EUPbmMDQJkBFufT/ECMqwA==\"},\"shape\":[2],\"dtype\":\"float64\",\"order\":\"little\"}],[238,{\"type\":\"ndarray\",\"array\":{\"type\":\"bytes\",\"data\":\"iXLHcBokIUDhHaSutacswA==\"},\"shape\":[2],\"dtype\":\"float64\",\"order\":\"little\"}],[239,{\"type\":\"ndarray\",\"array\":{\"type\":\"bytes\",\"data\":\"1X+IYCZEI0CoJbyhNW8rwA==\"},\"shape\":[2],\"dtype\":\"float64\",\"order\":\"little\"}],[240,{\"type\":\"ndarray\",\"array\":{\"type\":\"bytes\",\"data\":\"+DqsGXBLKkA7osXfmdolwA==\"},\"shape\":[2],\"dtype\":\"float64\",\"order\":\"little\"}],[241,{\"type\":\"ndarray\",\"array\":{\"type\":\"bytes\",\"data\":\"8o1yNuEAKECpaOQ0bskiwA==\"},\"shape\":[2],\"dtype\":\"float64\",\"order\":\"little\"}],[242,{\"type\":\"ndarray\",\"array\":{\"type\":\"bytes\",\"data\":\"HmAvmv4XI0ASiRltNysuwA==\"},\"shape\":[2],\"dtype\":\"float64\",\"order\":\"little\"}],[243,{\"type\":\"ndarray\",\"array\":{\"type\":\"bytes\",\"data\":\"IHLRggmPJkDiQL9k0lMjwA==\"},\"shape\":[2],\"dtype\":\"float64\",\"order\":\"little\"}],[244,{\"type\":\"ndarray\",\"array\":{\"type\":\"bytes\",\"data\":\"QwY1aQHnJEC1I6JM0aEnwA==\"},\"shape\":[2],\"dtype\":\"float64\",\"order\":\"little\"}],[245,{\"type\":\"ndarray\",\"array\":{\"type\":\"bytes\",\"data\":\"eDrfK0IrJEAWAEF5W0QmwA==\"},\"shape\":[2],\"dtype\":\"float64\",\"order\":\"little\"}],[246,{\"type\":\"ndarray\",\"array\":{\"type\":\"bytes\",\"data\":\"Y5EdO69OHkDhckxP2lYrwA==\"},\"shape\":[2],\"dtype\":\"float64\",\"order\":\"little\"}],[247,{\"type\":\"ndarray\",\"array\":{\"type\":\"bytes\",\"data\":\"5nA7BMGyJEAnxdRfz6cswA==\"},\"shape\":[2],\"dtype\":\"float64\",\"order\":\"little\"}],[248,{\"type\":\"ndarray\",\"array\":{\"type\":\"bytes\",\"data\":\"f07kFRSGJ0AFFl4Pf94lwA==\"},\"shape\":[2],\"dtype\":\"float64\",\"order\":\"little\"}],[249,{\"type\":\"ndarray\",\"array\":{\"type\":\"bytes\",\"data\":\"X7TnqXS8H0BVId8i65sswA==\"},\"shape\":[2],\"dtype\":\"float64\",\"order\":\"little\"}],[250,{\"type\":\"ndarray\",\"array\":{\"type\":\"bytes\",\"data\":\"T1LLRTdCKUCDXNRAXksjwA==\"},\"shape\":[2],\"dtype\":\"float64\",\"order\":\"little\"}],[251,{\"type\":\"ndarray\",\"array\":{\"type\":\"bytes\",\"data\":\"YIQlQu1iHkCaReaN/OMpwA==\"},\"shape\":[2],\"dtype\":\"float64\",\"order\":\"little\"}],[252,{\"type\":\"ndarray\",\"array\":{\"type\":\"bytes\",\"data\":\"3hndEzAyIkBu/69kgRkpwA==\"},\"shape\":[2],\"dtype\":\"float64\",\"order\":\"little\"}],[253,{\"type\":\"ndarray\",\"array\":{\"type\":\"bytes\",\"data\":\"1tPbebWXKEB8nwkstqMqwA==\"},\"shape\":[2],\"dtype\":\"float64\",\"order\":\"little\"}],[254,{\"type\":\"ndarray\",\"array\":{\"type\":\"bytes\",\"data\":\"qJin9nOUJ0B79ogeSCQpwA==\"},\"shape\":[2],\"dtype\":\"float64\",\"order\":\"little\"}],[255,{\"type\":\"ndarray\",\"array\":{\"type\":\"bytes\",\"data\":\"uPCApO2iGUA0p7FWcoUpwA==\"},\"shape\":[2],\"dtype\":\"float64\",\"order\":\"little\"}],[256,{\"type\":\"ndarray\",\"array\":{\"type\":\"bytes\",\"data\":\"ZN61V8MyIEC/JEZBSeEtwA==\"},\"shape\":[2],\"dtype\":\"float64\",\"order\":\"little\"}],[257,{\"type\":\"ndarray\",\"array\":{\"type\":\"bytes\",\"data\":\"KiKUmYzEGEAmmV0yEwTrvw==\"},\"shape\":[2],\"dtype\":\"float64\",\"order\":\"little\"}],[258,{\"type\":\"ndarray\",\"array\":{\"type\":\"bytes\",\"data\":\"6KDjmQRmG0AXElXZVfcqwA==\"},\"shape\":[2],\"dtype\":\"float64\",\"order\":\"little\"}],[259,{\"type\":\"ndarray\",\"array\":{\"type\":\"bytes\",\"data\":\"sE4NTfCPIECoXJJ76wArwA==\"},\"shape\":[2],\"dtype\":\"float64\",\"order\":\"little\"}],[260,{\"type\":\"ndarray\",\"array\":{\"type\":\"bytes\",\"data\":\"QRRAWiNzHEAjqj3XTsIowA==\"},\"shape\":[2],\"dtype\":\"float64\",\"order\":\"little\"}],[261,{\"type\":\"ndarray\",\"array\":{\"type\":\"bytes\",\"data\":\"NWJ6SWPbJUC5Ua41/skrwA==\"},\"shape\":[2],\"dtype\":\"float64\",\"order\":\"little\"}],[262,{\"type\":\"ndarray\",\"array\":{\"type\":\"bytes\",\"data\":\"tE4QhqIuJkBxFpr8c2AmwA==\"},\"shape\":[2],\"dtype\":\"float64\",\"order\":\"little\"}],[263,{\"type\":\"ndarray\",\"array\":{\"type\":\"bytes\",\"data\":\"BQpJXZXtJ0AKYr3K1rcrwA==\"},\"shape\":[2],\"dtype\":\"float64\",\"order\":\"little\"}],[264,{\"type\":\"ndarray\",\"array\":{\"type\":\"bytes\",\"data\":\"FOhWe/FRJUB+HJKX7jAqwA==\"},\"shape\":[2],\"dtype\":\"float64\",\"order\":\"little\"}],[265,{\"type\":\"ndarray\",\"array\":{\"type\":\"bytes\",\"data\":\"KIzYUbmOJUDFYlr3POIkwA==\"},\"shape\":[2],\"dtype\":\"float64\",\"order\":\"little\"}],[266,{\"type\":\"ndarray\",\"array\":{\"type\":\"bytes\",\"data\":\"6Heb0mo4JEB4kEZgfucowA==\"},\"shape\":[2],\"dtype\":\"float64\",\"order\":\"little\"}],[267,{\"type\":\"ndarray\",\"array\":{\"type\":\"bytes\",\"data\":\"IkZFl0GKIkAAbykHGYkkQA==\"},\"shape\":[2],\"dtype\":\"float64\",\"order\":\"little\"}],[268,{\"type\":\"ndarray\",\"array\":{\"type\":\"bytes\",\"data\":\"OUl1YHfTEEDbcpeGrpIgQA==\"},\"shape\":[2],\"dtype\":\"float64\",\"order\":\"little\"}],[269,{\"type\":\"ndarray\",\"array\":{\"type\":\"bytes\",\"data\":\"yOt2rV1I9b+rHAgk1FrPvw==\"},\"shape\":[2],\"dtype\":\"float64\",\"order\":\"little\"}],[270,{\"type\":\"ndarray\",\"array\":{\"type\":\"bytes\",\"data\":\"IE1J45jyE0AY6JsjQOIoQA==\"},\"shape\":[2],\"dtype\":\"float64\",\"order\":\"little\"}],[271,{\"type\":\"ndarray\",\"array\":{\"type\":\"bytes\",\"data\":\"/vv2XEIf8z/GJ4fHqSIYQA==\"},\"shape\":[2],\"dtype\":\"float64\",\"order\":\"little\"}],[272,{\"type\":\"ndarray\",\"array\":{\"type\":\"bytes\",\"data\":\"+t7zvxjbBkACtetXwusnQA==\"},\"shape\":[2],\"dtype\":\"float64\",\"order\":\"little\"}],[273,{\"type\":\"ndarray\",\"array\":{\"type\":\"bytes\",\"data\":\"WaKONnLn5b872qbCS+vjvw==\"},\"shape\":[2],\"dtype\":\"float64\",\"order\":\"little\"}],[274,{\"type\":\"ndarray\",\"array\":{\"type\":\"bytes\",\"data\":\"pcjsLilGAkCMRy+TayUVQA==\"},\"shape\":[2],\"dtype\":\"float64\",\"order\":\"little\"}],[275,{\"type\":\"ndarray\",\"array\":{\"type\":\"bytes\",\"data\":\"uF0hgtqPEkD07ylIhnIsQA==\"},\"shape\":[2],\"dtype\":\"float64\",\"order\":\"little\"}],[276,{\"type\":\"ndarray\",\"array\":{\"type\":\"bytes\",\"data\":\"yqPhbe/EF0DqiRiqkjIbQA==\"},\"shape\":[2],\"dtype\":\"float64\",\"order\":\"little\"}],[277,{\"type\":\"ndarray\",\"array\":{\"type\":\"bytes\",\"data\":\"nq0EtDCsHECJ6ZJOOXggQA==\"},\"shape\":[2],\"dtype\":\"float64\",\"order\":\"little\"}],[278,{\"type\":\"ndarray\",\"array\":{\"type\":\"bytes\",\"data\":\"1Ssod24kIUDGznvjlAcoQA==\"},\"shape\":[2],\"dtype\":\"float64\",\"order\":\"little\"}],[279,{\"type\":\"ndarray\",\"array\":{\"type\":\"bytes\",\"data\":\"Xaf3lEydC0DZBmIN3mopQA==\"},\"shape\":[2],\"dtype\":\"float64\",\"order\":\"little\"}],[280,{\"type\":\"ndarray\",\"array\":{\"type\":\"bytes\",\"data\":\"SuGLNcF9D0DAiaMUfG8sQA==\"},\"shape\":[2],\"dtype\":\"float64\",\"order\":\"little\"}],[281,{\"type\":\"ndarray\",\"array\":{\"type\":\"bytes\",\"data\":\"t6+gBpfPEUAIq+L7KcUmQA==\"},\"shape\":[2],\"dtype\":\"float64\",\"order\":\"little\"}],[282,{\"type\":\"ndarray\",\"array\":{\"type\":\"bytes\",\"data\":\"q6I4o04lHkAAkIvAmWolQA==\"},\"shape\":[2],\"dtype\":\"float64\",\"order\":\"little\"}],[283,{\"type\":\"ndarray\",\"array\":{\"type\":\"bytes\",\"data\":\"7ab8RT7KBUDoV9tlbgYqQA==\"},\"shape\":[2],\"dtype\":\"float64\",\"order\":\"little\"}],[284,{\"type\":\"ndarray\",\"array\":{\"type\":\"bytes\",\"data\":\"m40RwsPGE0BsoM5U9mQrQA==\"},\"shape\":[2],\"dtype\":\"float64\",\"order\":\"little\"}],[285,{\"type\":\"ndarray\",\"array\":{\"type\":\"bytes\",\"data\":\"aEXgBvF5GUCQ1Jij5nUrQA==\"},\"shape\":[2],\"dtype\":\"float64\",\"order\":\"little\"}],[286,{\"type\":\"ndarray\",\"array\":{\"type\":\"bytes\",\"data\":\"VqlvPnZGFUAlg62Z4GAsQA==\"},\"shape\":[2],\"dtype\":\"float64\",\"order\":\"little\"}],[287,{\"type\":\"ndarray\",\"array\":{\"type\":\"bytes\",\"data\":\"Fh+1101r6L8nMvnWmzrLvw==\"},\"shape\":[2],\"dtype\":\"float64\",\"order\":\"little\"}],[288,{\"type\":\"ndarray\",\"array\":{\"type\":\"bytes\",\"data\":\"AckezuFEG0CH9dUd3DcqQA==\"},\"shape\":[2],\"dtype\":\"float64\",\"order\":\"little\"}],[289,{\"type\":\"ndarray\",\"array\":{\"type\":\"bytes\",\"data\":\"U2VnV9PiHUDSaLz8C5cqQA==\"},\"shape\":[2],\"dtype\":\"float64\",\"order\":\"little\"}],[290,{\"type\":\"ndarray\",\"array\":{\"type\":\"bytes\",\"data\":\"QuMvGiwGIkDcJNYf3R8iQA==\"},\"shape\":[2],\"dtype\":\"float64\",\"order\":\"little\"}],[291,{\"type\":\"ndarray\",\"array\":{\"type\":\"bytes\",\"data\":\"D5YyuZntAUCDhORaGy0jQA==\"},\"shape\":[2],\"dtype\":\"float64\",\"order\":\"little\"}],[292,{\"type\":\"ndarray\",\"array\":{\"type\":\"bytes\",\"data\":\"C/e+wlXX+D/UGf0xY7QWQA==\"},\"shape\":[2],\"dtype\":\"float64\",\"order\":\"little\"}],[293,{\"type\":\"ndarray\",\"array\":{\"type\":\"bytes\",\"data\":\"CoyB9vueIUCx97YVaxQnQA==\"},\"shape\":[2],\"dtype\":\"float64\",\"order\":\"little\"}],[294,{\"type\":\"ndarray\",\"array\":{\"type\":\"bytes\",\"data\":\"uTN5jxyUHkAKDLeYBe4nQA==\"},\"shape\":[2],\"dtype\":\"float64\",\"order\":\"little\"}],[295,{\"type\":\"ndarray\",\"array\":{\"type\":\"bytes\",\"data\":\"9V2vtMu7IEC0waulXkcgQA==\"},\"shape\":[2],\"dtype\":\"float64\",\"order\":\"little\"}],[296,{\"type\":\"ndarray\",\"array\":{\"type\":\"bytes\",\"data\":\"27GFRuaaIEAMJyjESCkiQA==\"},\"shape\":[2],\"dtype\":\"float64\",\"order\":\"little\"}],[297,{\"type\":\"ndarray\",\"array\":{\"type\":\"bytes\",\"data\":\"QKiKHTwGF0A7AhmE/IooQA==\"},\"shape\":[2],\"dtype\":\"float64\",\"order\":\"little\"}],[298,{\"type\":\"ndarray\",\"array\":{\"type\":\"bytes\",\"data\":\"dLPAhPq69L+0w8s5226mPw==\"},\"shape\":[2],\"dtype\":\"float64\",\"order\":\"little\"}],[299,{\"type\":\"ndarray\",\"array\":{\"type\":\"bytes\",\"data\":\"Pm2ZvdcVBkDtFYWOVD4mQA==\"},\"shape\":[2],\"dtype\":\"float64\",\"order\":\"little\"}],[300,{\"type\":\"ndarray\",\"array\":{\"type\":\"bytes\",\"data\":\"pallp681HEAKDYRVBbQmQA==\"},\"shape\":[2],\"dtype\":\"float64\",\"order\":\"little\"}],[301,{\"type\":\"ndarray\",\"array\":{\"type\":\"bytes\",\"data\":\"WMsb3fedEUD+3nnQjn4oQA==\"},\"shape\":[2],\"dtype\":\"float64\",\"order\":\"little\"}],[302,{\"type\":\"ndarray\",\"array\":{\"type\":\"bytes\",\"data\":\"Hl8hiRBTE0CJYrdrvSYqQA==\"},\"shape\":[2],\"dtype\":\"float64\",\"order\":\"little\"}],[303,{\"type\":\"ndarray\",\"array\":{\"type\":\"bytes\",\"data\":\"pfok/v2GC0D5I+oOrgQnQA==\"},\"shape\":[2],\"dtype\":\"float64\",\"order\":\"little\"}],[304,{\"type\":\"ndarray\",\"array\":{\"type\":\"bytes\",\"data\":\"xl0K4buPIUAJoDTzMRglQA==\"},\"shape\":[2],\"dtype\":\"float64\",\"order\":\"little\"}],[305,{\"type\":\"ndarray\",\"array\":{\"type\":\"bytes\",\"data\":\"Kg+nmvCCIEBRYEQlL3IpQA==\"},\"shape\":[2],\"dtype\":\"float64\",\"order\":\"little\"}],[306,{\"type\":\"ndarray\",\"array\":{\"type\":\"bytes\",\"data\":\"fusuSJOF/j98Fspk90QoQA==\"},\"shape\":[2],\"dtype\":\"float64\",\"order\":\"little\"}],[307,{\"type\":\"ndarray\",\"array\":{\"type\":\"bytes\",\"data\":\"DVEtJO+GEUAePI9rKLIjQA==\"},\"shape\":[2],\"dtype\":\"float64\",\"order\":\"little\"}],[308,{\"type\":\"ndarray\",\"array\":{\"type\":\"bytes\",\"data\":\"jYxSytQUIUAmiPO3mKEjQA==\"},\"shape\":[2],\"dtype\":\"float64\",\"order\":\"little\"}],[309,{\"type\":\"ndarray\",\"array\":{\"type\":\"bytes\",\"data\":\"ywKBcaU79j/pMXxFRuEjQA==\"},\"shape\":[2],\"dtype\":\"float64\",\"order\":\"little\"}],[310,{\"type\":\"ndarray\",\"array\":{\"type\":\"bytes\",\"data\":\"8WN6+A888T9VZ3hUHNInQA==\"},\"shape\":[2],\"dtype\":\"float64\",\"order\":\"little\"}],[311,{\"type\":\"ndarray\",\"array\":{\"type\":\"bytes\",\"data\":\"YFnL9YsXBEBLN9daleMoQA==\"},\"shape\":[2],\"dtype\":\"float64\",\"order\":\"little\"}],[312,{\"type\":\"ndarray\",\"array\":{\"type\":\"bytes\",\"data\":\"FPhtbrPY9j8uMenKpPAmQA==\"},\"shape\":[2],\"dtype\":\"float64\",\"order\":\"little\"}],[313,{\"type\":\"ndarray\",\"array\":{\"type\":\"bytes\",\"data\":\"PMlYyTN3IkBd4yWDijcjQA==\"},\"shape\":[2],\"dtype\":\"float64\",\"order\":\"little\"}],[314,{\"type\":\"ndarray\",\"array\":{\"type\":\"bytes\",\"data\":\"o8xvO7s4GEAmmHdAEVAqQA==\"},\"shape\":[2],\"dtype\":\"float64\",\"order\":\"little\"}],[315,{\"type\":\"ndarray\",\"array\":{\"type\":\"bytes\",\"data\":\"eZAtGlltDkBkfetywpklQA==\"},\"shape\":[2],\"dtype\":\"float64\",\"order\":\"little\"}],[316,{\"type\":\"ndarray\",\"array\":{\"type\":\"bytes\",\"data\":\"gnHesnP6IEB9TPnmDUIeQA==\"},\"shape\":[2],\"dtype\":\"float64\",\"order\":\"little\"}],[317,{\"type\":\"ndarray\",\"array\":{\"type\":\"bytes\",\"data\":\"5z24qSYuF0CyLW449RYgQA==\"},\"shape\":[2],\"dtype\":\"float64\",\"order\":\"little\"}],[318,{\"type\":\"ndarray\",\"array\":{\"type\":\"bytes\",\"data\":\"0cflxYMIG0CYRltD5bskQA==\"},\"shape\":[2],\"dtype\":\"float64\",\"order\":\"little\"}],[319,{\"type\":\"ndarray\",\"array\":{\"type\":\"bytes\",\"data\":\"ptmnaext7D/1w9zC0eElQA==\"},\"shape\":[2],\"dtype\":\"float64\",\"order\":\"little\"}],[320,{\"type\":\"ndarray\",\"array\":{\"type\":\"bytes\",\"data\":\"WG8RWnatFEAu/HPEV0InQA==\"},\"shape\":[2],\"dtype\":\"float64\",\"order\":\"little\"}],[321,{\"type\":\"ndarray\",\"array\":{\"type\":\"bytes\",\"data\":\"DSm1GbJr8L+kGvgRB++vvw==\"},\"shape\":[2],\"dtype\":\"float64\",\"order\":\"little\"}],[322,{\"type\":\"ndarray\",\"array\":{\"type\":\"bytes\",\"data\":\"1FI1K7YQGEBd+H/4YlEsQA==\"},\"shape\":[2],\"dtype\":\"float64\",\"order\":\"little\"}],[323,{\"type\":\"ndarray\",\"array\":{\"type\":\"bytes\",\"data\":\"zjwv+XmBFkCyqSaOwFsrQA==\"},\"shape\":[2],\"dtype\":\"float64\",\"order\":\"little\"}],[324,{\"type\":\"ndarray\",\"array\":{\"type\":\"bytes\",\"data\":\"XwLuH+0oEUAnTrx8bzYrQA==\"},\"shape\":[2],\"dtype\":\"float64\",\"order\":\"little\"}],[325,{\"type\":\"ndarray\",\"array\":{\"type\":\"bytes\",\"data\":\"+jUxXxi5GUDBsDb4uK8hQA==\"},\"shape\":[2],\"dtype\":\"float64\",\"order\":\"little\"}],[326,{\"type\":\"ndarray\",\"array\":{\"type\":\"bytes\",\"data\":\"udUjFIbRGkA8m7CmNrIZQA==\"},\"shape\":[2],\"dtype\":\"float64\",\"order\":\"little\"}],[327,{\"type\":\"ndarray\",\"array\":{\"type\":\"bytes\",\"data\":\"yt0IiqfiHkCTXz1hnZspQA==\"},\"shape\":[2],\"dtype\":\"float64\",\"order\":\"little\"}],[328,{\"type\":\"ndarray\",\"array\":{\"type\":\"bytes\",\"data\":\"znOu+zW4HECDxwdgDRYpQA==\"},\"shape\":[2],\"dtype\":\"float64\",\"order\":\"little\"}],[329,{\"type\":\"ndarray\",\"array\":{\"type\":\"bytes\",\"data\":\"HwWGYOACCkAKexpQTA4sQA==\"},\"shape\":[2],\"dtype\":\"float64\",\"order\":\"little\"}],[330,{\"type\":\"ndarray\",\"array\":{\"type\":\"bytes\",\"data\":\"+VhqnwEWAUARJqV+vvMmQA==\"},\"shape\":[2],\"dtype\":\"float64\",\"order\":\"little\"}],[331,{\"type\":\"ndarray\",\"array\":{\"type\":\"bytes\",\"data\":\"Ej4/uEwWHkAQc+O9UhseQA==\"},\"shape\":[2],\"dtype\":\"float64\",\"order\":\"little\"}],[332,{\"type\":\"ndarray\",\"array\":{\"type\":\"bytes\",\"data\":\"/fwccSd8GkC+PO0IX+wdQA==\"},\"shape\":[2],\"dtype\":\"float64\",\"order\":\"little\"}],[333,{\"type\":\"ndarray\",\"array\":{\"type\":\"bytes\",\"data\":\"5L4XtR+bAUCYb3h+mxclQA==\"},\"shape\":[2],\"dtype\":\"float64\",\"order\":\"little\"}],[334,{\"type\":\"ndarray\",\"array\":{\"type\":\"bytes\",\"data\":\"vW2LOTH4/T8YaM0EvLMpQA==\"},\"shape\":[2],\"dtype\":\"float64\",\"order\":\"little\"}],[335,{\"type\":\"ndarray\",\"array\":{\"type\":\"bytes\",\"data\":\"e5AHuGrgE0Btt1cvM1UlQA==\"},\"shape\":[2],\"dtype\":\"float64\",\"order\":\"little\"}],[336,{\"type\":\"ndarray\",\"array\":{\"type\":\"bytes\",\"data\":\"xl8kM92vCUAJ3peuEI0qQA==\"},\"shape\":[2],\"dtype\":\"float64\",\"order\":\"little\"}],[337,{\"type\":\"ndarray\",\"array\":{\"type\":\"bytes\",\"data\":\"IO29ud8qIkAQiGbZ7SImQA==\"},\"shape\":[2],\"dtype\":\"float64\",\"order\":\"little\"}],[338,{\"type\":\"ndarray\",\"array\":{\"type\":\"bytes\",\"data\":\"ET4Q6SGFGUAcFtu2nOYlQA==\"},\"shape\":[2],\"dtype\":\"float64\",\"order\":\"little\"}],[339,{\"type\":\"ndarray\",\"array\":{\"type\":\"bytes\",\"data\":\"5OVEPtr0FUDnIO1VtLcpQA==\"},\"shape\":[2],\"dtype\":\"float64\",\"order\":\"little\"}],[340,{\"type\":\"ndarray\",\"array\":{\"type\":\"bytes\",\"data\":\"JWzbuWylHUBl88mqfrcaQA==\"},\"shape\":[2],\"dtype\":\"float64\",\"order\":\"little\"}],[341,{\"type\":\"ndarray\",\"array\":{\"type\":\"bytes\",\"data\":\"NfcsjiP/BEDKUN9qp4UrQA==\"},\"shape\":[2],\"dtype\":\"float64\",\"order\":\"little\"}],[342,{\"type\":\"ndarray\",\"array\":{\"type\":\"bytes\",\"data\":\"D8RL6SX4AEDr41lp/8sqQA==\"},\"shape\":[2],\"dtype\":\"float64\",\"order\":\"little\"}],[343,{\"type\":\"ndarray\",\"array\":{\"type\":\"bytes\",\"data\":\"hVkwwlXJDUBXrEl8DhArQA==\"},\"shape\":[2],\"dtype\":\"float64\",\"order\":\"little\"}],[344,{\"type\":\"ndarray\",\"array\":{\"type\":\"bytes\",\"data\":\"JhplEW15HUA3tkZJofcjQA==\"},\"shape\":[2],\"dtype\":\"float64\",\"order\":\"little\"}],[345,{\"type\":\"ndarray\",\"array\":{\"type\":\"bytes\",\"data\":\"mAgiNH5jH0CIt/T9oCEhQA==\"},\"shape\":[2],\"dtype\":\"float64\",\"order\":\"little\"}],[346,{\"type\":\"ndarray\",\"array\":{\"type\":\"bytes\",\"data\":\"S4orE890F0B1oZc788omQA==\"},\"shape\":[2],\"dtype\":\"float64\",\"order\":\"little\"}],[347,{\"type\":\"ndarray\",\"array\":{\"type\":\"bytes\",\"data\":\"bk/lWMtJH0CcXasSZA0jQA==\"},\"shape\":[2],\"dtype\":\"float64\",\"order\":\"little\"}],[348,{\"type\":\"ndarray\",\"array\":{\"type\":\"bytes\",\"data\":\"fpUFn2dtHECHBEMB5GciQA==\"},\"shape\":[2],\"dtype\":\"float64\",\"order\":\"little\"}],[349,{\"type\":\"ndarray\",\"array\":{\"type\":\"bytes\",\"data\":\"ZraLwQPqF0Akc9XUqB4jQA==\"},\"shape\":[2],\"dtype\":\"float64\",\"order\":\"little\"}],[350,{\"type\":\"ndarray\",\"array\":{\"type\":\"bytes\",\"data\":\"xEpCGl4EF0BSxN5pWbokQA==\"},\"shape\":[2],\"dtype\":\"float64\",\"order\":\"little\"}],[351,{\"type\":\"ndarray\",\"array\":{\"type\":\"bytes\",\"data\":\"s3k/wfyoGUBAJo4HxfonQA==\"},\"shape\":[2],\"dtype\":\"float64\",\"order\":\"little\"}],[352,{\"type\":\"ndarray\",\"array\":{\"type\":\"bytes\",\"data\":\"+eBIVgAWCUAP5lS+xBQkQA==\"},\"shape\":[2],\"dtype\":\"float64\",\"order\":\"little\"}],[353,{\"type\":\"ndarray\",\"array\":{\"type\":\"bytes\",\"data\":\"T9dgN7XmDUDgXAyyQ04oQA==\"},\"shape\":[2],\"dtype\":\"float64\",\"order\":\"little\"}],[354,{\"type\":\"ndarray\",\"array\":{\"type\":\"bytes\",\"data\":\"ttz+ADbbG0AbU6Mnh1krQA==\"},\"shape\":[2],\"dtype\":\"float64\",\"order\":\"little\"}],[355,{\"type\":\"ndarray\",\"array\":{\"type\":\"bytes\",\"data\":\"r3yMYY0xIEAufMOnNQMcQA==\"},\"shape\":[2],\"dtype\":\"float64\",\"order\":\"little\"}],[356,{\"type\":\"ndarray\",\"array\":{\"type\":\"bytes\",\"data\":\"Nl1JRTk+H0CZ/B52n7UmQA==\"},\"shape\":[2],\"dtype\":\"float64\",\"order\":\"little\"}],[357,{\"type\":\"ndarray\",\"array\":{\"type\":\"bytes\",\"data\":\"5a/4pKr99z8oH6IgxUolQA==\"},\"shape\":[2],\"dtype\":\"float64\",\"order\":\"little\"}],[358,{\"type\":\"ndarray\",\"array\":{\"type\":\"bytes\",\"data\":\"ra5OUK2vIUDXNpj/Ut8gQA==\"},\"shape\":[2],\"dtype\":\"float64\",\"order\":\"little\"}],[359,{\"type\":\"ndarray\",\"array\":{\"type\":\"bytes\",\"data\":\"GtbpFimxIEBOrToIijQmQA==\"},\"shape\":[2],\"dtype\":\"float64\",\"order\":\"little\"}],[360,{\"type\":\"ndarray\",\"array\":{\"type\":\"bytes\",\"data\":\"zNubSVuLEEC88YT67uUpQA==\"},\"shape\":[2],\"dtype\":\"float64\",\"order\":\"little\"}],[361,{\"type\":\"ndarray\",\"array\":{\"type\":\"bytes\",\"data\":\"hT9PXXn07r+661XJtIHhvw==\"},\"shape\":[2],\"dtype\":\"float64\",\"order\":\"little\"}],[362,{\"type\":\"ndarray\",\"array\":{\"type\":\"bytes\",\"data\":\"7iAvoBnK/T9qCwhBMG8VQA==\"},\"shape\":[2],\"dtype\":\"float64\",\"order\":\"little\"}],[363,{\"type\":\"ndarray\",\"array\":{\"type\":\"bytes\",\"data\":\"dagqX0CsGUD94SANgVQpQA==\"},\"shape\":[2],\"dtype\":\"float64\",\"order\":\"little\"}],[364,{\"type\":\"ndarray\",\"array\":{\"type\":\"bytes\",\"data\":\"COJ93VlKIED/RfW24tokQA==\"},\"shape\":[2],\"dtype\":\"float64\",\"order\":\"little\"}],[365,{\"type\":\"ndarray\",\"array\":{\"type\":\"bytes\",\"data\":\"RJ3xNVM8IEA712+9jHUoQA==\"},\"shape\":[2],\"dtype\":\"float64\",\"order\":\"little\"}],[366,{\"type\":\"ndarray\",\"array\":{\"type\":\"bytes\",\"data\":\"6/cVRBLr9T+/NF5VZxIpQA==\"},\"shape\":[2],\"dtype\":\"float64\",\"order\":\"little\"}],[367,{\"type\":\"ndarray\",\"array\":{\"type\":\"bytes\",\"data\":\"xkcb6zvxG0DsMuAEbggoQA==\"},\"shape\":[2],\"dtype\":\"float64\",\"order\":\"little\"}],[368,{\"type\":\"ndarray\",\"array\":{\"type\":\"bytes\",\"data\":\"WqkQUGWG8L8KNuk64X0CQA==\"},\"shape\":[2],\"dtype\":\"float64\",\"order\":\"little\"}],[369,{\"type\":\"ndarray\",\"array\":{\"type\":\"bytes\",\"data\":\"LjcserRWAcCrEHoCGg0WQA==\"},\"shape\":[2],\"dtype\":\"float64\",\"order\":\"little\"}],[370,{\"type\":\"ndarray\",\"array\":{\"type\":\"bytes\",\"data\":\"Mtt1kU0m7b8De1ogkEMRQA==\"},\"shape\":[2],\"dtype\":\"float64\",\"order\":\"little\"}],[371,{\"type\":\"ndarray\",\"array\":{\"type\":\"bytes\",\"data\":\"8UDgTkg4A8DAAE3i65kSQA==\"},\"shape\":[2],\"dtype\":\"float64\",\"order\":\"little\"}],[372,{\"type\":\"ndarray\",\"array\":{\"type\":\"bytes\",\"data\":\"5y5HijS0+b8Zfj7KX8sTQA==\"},\"shape\":[2],\"dtype\":\"float64\",\"order\":\"little\"}],[373,{\"type\":\"ndarray\",\"array\":{\"type\":\"bytes\",\"data\":\"GBTwkSMEGcAKK+OvDlgiwA==\"},\"shape\":[2],\"dtype\":\"float64\",\"order\":\"little\"}],[374,{\"type\":\"ndarray\",\"array\":{\"type\":\"bytes\",\"data\":\"9eu1Mg08JMCHebG24DIpwA==\"},\"shape\":[2],\"dtype\":\"float64\",\"order\":\"little\"}],[375,{\"type\":\"ndarray\",\"array\":{\"type\":\"bytes\",\"data\":\"jT16pHAgJ8Awf6dNvnoiwA==\"},\"shape\":[2],\"dtype\":\"float64\",\"order\":\"little\"}],[376,{\"type\":\"ndarray\",\"array\":{\"type\":\"bytes\",\"data\":\"aXVEfS9YJsDOE+j5Y70nwA==\"},\"shape\":[2],\"dtype\":\"float64\",\"order\":\"little\"}],[377,{\"type\":\"ndarray\",\"array\":{\"type\":\"bytes\",\"data\":\"qdJ/s1v6JMAOwgbGZJQnwA==\"},\"shape\":[2],\"dtype\":\"float64\",\"order\":\"little\"}],[378,{\"type\":\"ndarray\",\"array\":{\"type\":\"bytes\",\"data\":\"XjbqV3CyFcCD27CjVfMswA==\"},\"shape\":[2],\"dtype\":\"float64\",\"order\":\"little\"}],[379,{\"type\":\"ndarray\",\"array\":{\"type\":\"bytes\",\"data\":\"xNeCN6omEsCeEY3rHosrwA==\"},\"shape\":[2],\"dtype\":\"float64\",\"order\":\"little\"}],[380,{\"type\":\"ndarray\",\"array\":{\"type\":\"bytes\",\"data\":\"WkDhaOeHI8DESTC/JMAiwA==\"},\"shape\":[2],\"dtype\":\"float64\",\"order\":\"little\"}],[381,{\"type\":\"ndarray\",\"array\":{\"type\":\"bytes\",\"data\":\"M5FiuvIMJMAruC1qX7UmwA==\"},\"shape\":[2],\"dtype\":\"float64\",\"order\":\"little\"}],[382,{\"type\":\"ndarray\",\"array\":{\"type\":\"bytes\",\"data\":\"ylIdzWNqHMCl+20YN3MtwA==\"},\"shape\":[2],\"dtype\":\"float64\",\"order\":\"little\"}],[383,{\"type\":\"ndarray\",\"array\":{\"type\":\"bytes\",\"data\":\"FnHeq3IAIMC2VV5QUmwpwA==\"},\"shape\":[2],\"dtype\":\"float64\",\"order\":\"little\"}],[384,{\"type\":\"ndarray\",\"array\":{\"type\":\"bytes\",\"data\":\"kF2s4Y7BIsDV7uc9p5QpwA==\"},\"shape\":[2],\"dtype\":\"float64\",\"order\":\"little\"}],[385,{\"type\":\"ndarray\",\"array\":{\"type\":\"bytes\",\"data\":\"FqPaV6kvF8CFVjQentIrwA==\"},\"shape\":[2],\"dtype\":\"float64\",\"order\":\"little\"}],[386,{\"type\":\"ndarray\",\"array\":{\"type\":\"bytes\",\"data\":\"1x67ndPuEsD8DgVdw28lwA==\"},\"shape\":[2],\"dtype\":\"float64\",\"order\":\"little\"}],[387,{\"type\":\"ndarray\",\"array\":{\"type\":\"bytes\",\"data\":\"N3gmaRqAHMC3B1PAJkIlwA==\"},\"shape\":[2],\"dtype\":\"float64\",\"order\":\"little\"}],[388,{\"type\":\"ndarray\",\"array\":{\"type\":\"bytes\",\"data\":\"tiCuKzcaIMAsLOBAUAcmwA==\"},\"shape\":[2],\"dtype\":\"float64\",\"order\":\"little\"}],[389,{\"type\":\"ndarray\",\"array\":{\"type\":\"bytes\",\"data\":\"Bp2iqPUgFsBDRkFI4NkpwA==\"},\"shape\":[2],\"dtype\":\"float64\",\"order\":\"little\"}],[390,{\"type\":\"ndarray\",\"array\":{\"type\":\"bytes\",\"data\":\"hxogdFhdGMAqnJ9m+JsqwA==\"},\"shape\":[2],\"dtype\":\"float64\",\"order\":\"little\"}],[391,{\"type\":\"ndarray\",\"array\":{\"type\":\"bytes\",\"data\":\"rQE9aiEbIMBOtc9UFCwiwA==\"},\"shape\":[2],\"dtype\":\"float64\",\"order\":\"little\"}],[392,{\"type\":\"ndarray\",\"array\":{\"type\":\"bytes\",\"data\":\"4dJhZTMrIsAn9kEEr5YrwA==\"},\"shape\":[2],\"dtype\":\"float64\",\"order\":\"little\"}],[393,{\"type\":\"ndarray\",\"array\":{\"type\":\"bytes\",\"data\":\"XTebdJWeI8Ar30EcbF4qwA==\"},\"shape\":[2],\"dtype\":\"float64\",\"order\":\"little\"}],[394,{\"type\":\"ndarray\",\"array\":{\"type\":\"bytes\",\"data\":\"Xo3EvZDJDcCNLtfK8OUpwA==\"},\"shape\":[2],\"dtype\":\"float64\",\"order\":\"little\"}],[395,{\"type\":\"ndarray\",\"array\":{\"type\":\"bytes\",\"data\":\"7KmPYQYoHcCkJ0j1l1oswA==\"},\"shape\":[2],\"dtype\":\"float64\",\"order\":\"little\"}],[396,{\"type\":\"ndarray\",\"array\":{\"type\":\"bytes\",\"data\":\"OZnlq3TQJcCPHvJZaIEmwA==\"},\"shape\":[2],\"dtype\":\"float64\",\"order\":\"little\"}],[397,{\"type\":\"ndarray\",\"array\":{\"type\":\"bytes\",\"data\":\"yTCrMHjgIMBhFByrkcgrwA==\"},\"shape\":[2],\"dtype\":\"float64\",\"order\":\"little\"}],[398,{\"type\":\"ndarray\",\"array\":{\"type\":\"bytes\",\"data\":\"4lXPNDVuIsBUO+RbpLIewA==\"},\"shape\":[2],\"dtype\":\"float64\",\"order\":\"little\"}],[399,{\"type\":\"ndarray\",\"array\":{\"type\":\"bytes\",\"data\":\"CiwfCFV2FMBJAsigBuImwA==\"},\"shape\":[2],\"dtype\":\"float64\",\"order\":\"little\"}],[400,{\"type\":\"ndarray\",\"array\":{\"type\":\"bytes\",\"data\":\"fvj+9fzFGMA8a+4UYnsowA==\"},\"shape\":[2],\"dtype\":\"float64\",\"order\":\"little\"}],[401,{\"type\":\"ndarray\",\"array\":{\"type\":\"bytes\",\"data\":\"c5Nvr7QfGMASPCbi/JgmwA==\"},\"shape\":[2],\"dtype\":\"float64\",\"order\":\"little\"}],[402,{\"type\":\"ndarray\",\"array\":{\"type\":\"bytes\",\"data\":\"ZiKBLy+rE8CsfmHMFV8swA==\"},\"shape\":[2],\"dtype\":\"float64\",\"order\":\"little\"}],[403,{\"type\":\"ndarray\",\"array\":{\"type\":\"bytes\",\"data\":\"lvQ68dFqHMCv3ftm4+UowA==\"},\"shape\":[2],\"dtype\":\"float64\",\"order\":\"little\"}],[404,{\"type\":\"ndarray\",\"array\":{\"type\":\"bytes\",\"data\":\"ye7bfg0RIsAtgzocoZUswA==\"},\"shape\":[2],\"dtype\":\"float64\",\"order\":\"little\"}],[405,{\"type\":\"ndarray\",\"array\":{\"type\":\"bytes\",\"data\":\"pBIxMquWIMDazLCT3oYnwA==\"},\"shape\":[2],\"dtype\":\"float64\",\"order\":\"little\"}],[406,{\"type\":\"ndarray\",\"array\":{\"type\":\"bytes\",\"data\":\"0/u8JqFWI8D3UIVN+XYrwA==\"},\"shape\":[2],\"dtype\":\"float64\",\"order\":\"little\"}],[407,{\"type\":\"ndarray\",\"array\":{\"type\":\"bytes\",\"data\":\"ajeTULH9F8DNmqGSahwtwA==\"},\"shape\":[2],\"dtype\":\"float64\",\"order\":\"little\"}],[408,{\"type\":\"ndarray\",\"array\":{\"type\":\"bytes\",\"data\":\"FHFXiC7DIMDQwfCIwhYtwA==\"},\"shape\":[2],\"dtype\":\"float64\",\"order\":\"little\"}],[409,{\"type\":\"ndarray\",\"array\":{\"type\":\"bytes\",\"data\":\"v5O6lZX5JsAcm/mmR60mwA==\"},\"shape\":[2],\"dtype\":\"float64\",\"order\":\"little\"}],[410,{\"type\":\"ndarray\",\"array\":{\"type\":\"bytes\",\"data\":\"uSb0PVRdI8AGKWKy9CElwA==\"},\"shape\":[2],\"dtype\":\"float64\",\"order\":\"little\"}],[411,{\"type\":\"ndarray\",\"array\":{\"type\":\"bytes\",\"data\":\"HtMII+hBE8CuI6YYoeQpwA==\"},\"shape\":[2],\"dtype\":\"float64\",\"order\":\"little\"}],[412,{\"type\":\"ndarray\",\"array\":{\"type\":\"bytes\",\"data\":\"Jh1qD4wmJcAhuFadpOQfwA==\"},\"shape\":[2],\"dtype\":\"float64\",\"order\":\"little\"}],[413,{\"type\":\"ndarray\",\"array\":{\"type\":\"bytes\",\"data\":\"H3uYDWp2JcDCLc4kaKcpwA==\"},\"shape\":[2],\"dtype\":\"float64\",\"order\":\"little\"}],[414,{\"type\":\"ndarray\",\"array\":{\"type\":\"bytes\",\"data\":\"DkABhVkkIMD0LdEjz5MqwA==\"},\"shape\":[2],\"dtype\":\"float64\",\"order\":\"little\"}],[415,{\"type\":\"ndarray\",\"array\":{\"type\":\"bytes\",\"data\":\"Y4B0zbWxIsBXAlUVxAkkwA==\"},\"shape\":[2],\"dtype\":\"float64\",\"order\":\"little\"}],[416,{\"type\":\"ndarray\",\"array\":{\"type\":\"bytes\",\"data\":\"V9hOn9BhIsB/MUJU6l8owA==\"},\"shape\":[2],\"dtype\":\"float64\",\"order\":\"little\"}],[417,{\"type\":\"ndarray\",\"array\":{\"type\":\"bytes\",\"data\":\"rxop6F1IIcCH3+YClEgpwA==\"},\"shape\":[2],\"dtype\":\"float64\",\"order\":\"little\"}],[418,{\"type\":\"ndarray\",\"array\":{\"type\":\"bytes\",\"data\":\"+iQBTdyMJcAjnvtex6IowA==\"},\"shape\":[2],\"dtype\":\"float64\",\"order\":\"little\"}],[419,{\"type\":\"ndarray\",\"array\":{\"type\":\"bytes\",\"data\":\"otPRU/xrDcCqBajqy0snwA==\"},\"shape\":[2],\"dtype\":\"float64\",\"order\":\"little\"}],[420,{\"type\":\"ndarray\",\"array\":{\"type\":\"bytes\",\"data\":\"jYEVvSjzI8CYbu6VuJMewA==\"},\"shape\":[2],\"dtype\":\"float64\",\"order\":\"little\"}],[421,{\"type\":\"ndarray\",\"array\":{\"type\":\"bytes\",\"data\":\"wO35hjnZIcCDo40eUhknwA==\"},\"shape\":[2],\"dtype\":\"float64\",\"order\":\"little\"}],[422,{\"type\":\"ndarray\",\"array\":{\"type\":\"bytes\",\"data\":\"L6FTg/skJ8Bvj1R6NFQlwA==\"},\"shape\":[2],\"dtype\":\"float64\",\"order\":\"little\"}],[423,{\"type\":\"ndarray\",\"array\":{\"type\":\"bytes\",\"data\":\"h4JSX0zdGcAqNHpzxwIswA==\"},\"shape\":[2],\"dtype\":\"float64\",\"order\":\"little\"}],[424,{\"type\":\"ndarray\",\"array\":{\"type\":\"bytes\",\"data\":\"hjBMD42JHcBIsrIUPqkqwA==\"},\"shape\":[2],\"dtype\":\"float64\",\"order\":\"little\"}],[425,{\"type\":\"ndarray\",\"array\":{\"type\":\"bytes\",\"data\":\"YKzTEWm4JMDqskqhK4olwA==\"},\"shape\":[2],\"dtype\":\"float64\",\"order\":\"little\"}],[426,{\"type\":\"ndarray\",\"array\":{\"type\":\"bytes\",\"data\":\"vxEiBladJMAKktBjoQUkwA==\"},\"shape\":[2],\"dtype\":\"float64\",\"order\":\"little\"}],[427,{\"type\":\"ndarray\",\"array\":{\"type\":\"bytes\",\"data\":\"GPQ7biWoI8CYwrmX2QsowA==\"},\"shape\":[2],\"dtype\":\"float64\",\"order\":\"little\"}],[428,{\"type\":\"ndarray\",\"array\":{\"type\":\"bytes\",\"data\":\"8zKSbnC6JsC55IDW71sjwA==\"},\"shape\":[2],\"dtype\":\"float64\",\"order\":\"little\"}],[429,{\"type\":\"ndarray\",\"array\":{\"type\":\"bytes\",\"data\":\"5kYpd/CRJsBbleqJ9kwkwA==\"},\"shape\":[2],\"dtype\":\"float64\",\"order\":\"little\"}],[430,{\"type\":\"ndarray\",\"array\":{\"type\":\"bytes\",\"data\":\"9t/H8CPXIcAsngIzDZAqwA==\"},\"shape\":[2],\"dtype\":\"float64\",\"order\":\"little\"}],[431,{\"type\":\"ndarray\",\"array\":{\"type\":\"bytes\",\"data\":\"B26Gk5eaG8BqSY5751grwA==\"},\"shape\":[2],\"dtype\":\"float64\",\"order\":\"little\"}],[432,{\"type\":\"ndarray\",\"array\":{\"type\":\"bytes\",\"data\":\"I8I+lZbPG8DboUCwuwMnwA==\"},\"shape\":[2],\"dtype\":\"float64\",\"order\":\"little\"}],[433,{\"type\":\"ndarray\",\"array\":{\"type\":\"bytes\",\"data\":\"FBz7a1A7JsBmKjyEHsIgwA==\"},\"shape\":[2],\"dtype\":\"float64\",\"order\":\"little\"}],[434,{\"type\":\"ndarray\",\"array\":{\"type\":\"bytes\",\"data\":\"/TE7mmygEMAguuOpbccqwA==\"},\"shape\":[2],\"dtype\":\"float64\",\"order\":\"little\"}],[435,{\"type\":\"ndarray\",\"array\":{\"type\":\"bytes\",\"data\":\"P9Xa9FxxD8BhMocJMtolwA==\"},\"shape\":[2],\"dtype\":\"float64\",\"order\":\"little\"}],[436,{\"type\":\"ndarray\",\"array\":{\"type\":\"bytes\",\"data\":\"UF/IthShIsAsygaP/DUmwA==\"},\"shape\":[2],\"dtype\":\"float64\",\"order\":\"little\"}],[437,{\"type\":\"ndarray\",\"array\":{\"type\":\"bytes\",\"data\":\"Dj9JiftcH8DFWaWsvO8rwA==\"},\"shape\":[2],\"dtype\":\"float64\",\"order\":\"little\"}],[438,{\"type\":\"ndarray\",\"array\":{\"type\":\"bytes\",\"data\":\"i69f0sGAGsCMXuLn4tQpwA==\"},\"shape\":[2],\"dtype\":\"float64\",\"order\":\"little\"}],[439,{\"type\":\"ndarray\",\"array\":{\"type\":\"bytes\",\"data\":\"yuhTVYsFH8DP4wy9C2ctwA==\"},\"shape\":[2],\"dtype\":\"float64\",\"order\":\"little\"}],[440,{\"type\":\"ndarray\",\"array\":{\"type\":\"bytes\",\"data\":\"gZFgQOrrEMCl9VraFTIpwA==\"},\"shape\":[2],\"dtype\":\"float64\",\"order\":\"little\"}],[441,{\"type\":\"ndarray\",\"array\":{\"type\":\"bytes\",\"data\":\"wyha9gvPJcDAjcRVqRwlwA==\"},\"shape\":[2],\"dtype\":\"float64\",\"order\":\"little\"}],[442,{\"type\":\"ndarray\",\"array\":{\"type\":\"bytes\",\"data\":\"+9EoGZJtFcA0dDIfuWUowA==\"},\"shape\":[2],\"dtype\":\"float64\",\"order\":\"little\"}],[443,{\"type\":\"ndarray\",\"array\":{\"type\":\"bytes\",\"data\":\"b911gCGtHsDCdRizxxIowA==\"},\"shape\":[2],\"dtype\":\"float64\",\"order\":\"little\"}],[444,{\"type\":\"ndarray\",\"array\":{\"type\":\"bytes\",\"data\":\"2hJYzPvDIMB5ieg0xcckwA==\"},\"shape\":[2],\"dtype\":\"float64\",\"order\":\"little\"}],[445,{\"type\":\"ndarray\",\"array\":{\"type\":\"bytes\",\"data\":\"U19JJAaoI8A9kqQUVbkgwA==\"},\"shape\":[2],\"dtype\":\"float64\",\"order\":\"little\"}],[446,{\"type\":\"ndarray\",\"array\":{\"type\":\"bytes\",\"data\":\"4+2RXntcIcC8V79hIkojwA==\"},\"shape\":[2],\"dtype\":\"float64\",\"order\":\"little\"}],[447,{\"type\":\"ndarray\",\"array\":{\"type\":\"bytes\",\"data\":\"HSfin0oiGsCGDo+a02YtwA==\"},\"shape\":[2],\"dtype\":\"float64\",\"order\":\"little\"}],[448,{\"type\":\"ndarray\",\"array\":{\"type\":\"bytes\",\"data\":\"rsdhKG33JcAqDDkdodshwA==\"},\"shape\":[2],\"dtype\":\"float64\",\"order\":\"little\"}],[449,{\"type\":\"ndarray\",\"array\":{\"type\":\"bytes\",\"data\":\"xwDSQpc3IcBXbicz0G8gwA==\"},\"shape\":[2],\"dtype\":\"float64\",\"order\":\"little\"}],[450,{\"type\":\"ndarray\",\"array\":{\"type\":\"bytes\",\"data\":\"nuw4kovPFMBoiMohczYrwA==\"},\"shape\":[2],\"dtype\":\"float64\",\"order\":\"little\"}],[451,{\"type\":\"ndarray\",\"array\":{\"type\":\"bytes\",\"data\":\"52+CZKXtC8DVmDb7aoIowA==\"},\"shape\":[2],\"dtype\":\"float64\",\"order\":\"little\"}],[452,{\"type\":\"ndarray\",\"array\":{\"type\":\"bytes\",\"data\":\"KPdUbj2bJMCRq2FrIL8qwA==\"},\"shape\":[2],\"dtype\":\"float64\",\"order\":\"little\"}],[453,{\"type\":\"ndarray\",\"array\":{\"type\":\"bytes\",\"data\":\"9ripu9+gJMDwCeVDKKAhwA==\"},\"shape\":[2],\"dtype\":\"float64\",\"order\":\"little\"}],[454,{\"type\":\"ndarray\",\"array\":{\"type\":\"bytes\",\"data\":\"9rJ2bE5jIsBmEQe8kqghwA==\"},\"shape\":[2],\"dtype\":\"float64\",\"order\":\"little\"}],[455,{\"type\":\"ndarray\",\"array\":{\"type\":\"bytes\",\"data\":\"0WQNV6HtEcAloeW95NUnwA==\"},\"shape\":[2],\"dtype\":\"float64\",\"order\":\"little\"}],[456,{\"type\":\"ndarray\",\"array\":{\"type\":\"bytes\",\"data\":\"yoSQSJNBJcDId5dkEvciwA==\"},\"shape\":[2],\"dtype\":\"float64\",\"order\":\"little\"}]]}}},\"node_renderer\":{\"type\":\"object\",\"name\":\"GlyphRenderer\",\"id\":\"p1050\",\"attributes\":{\"data_source\":{\"type\":\"object\",\"name\":\"ColumnDataSource\",\"id\":\"p1047\",\"attributes\":{\"selected\":{\"type\":\"object\",\"name\":\"Selection\",\"id\":\"p1048\",\"attributes\":{\"indices\":[],\"line_indices\":[]}},\"selection_policy\":{\"type\":\"object\",\"name\":\"UnionRenderers\",\"id\":\"p1049\"},\"data\":{\"type\":\"map\",\"entries\":[[\"color\",[\"#EE8866\",\"#77AADD\",\"#EE8866\",\"#EE8866\",\"#EE8866\",\"#EE8866\",\"#EE8866\",\"#EE8866\",\"#EE8866\",\"#EE8866\",\"#EE8866\",\"#EE8866\",\"#EE8866\",\"#EE8866\",\"#EE8866\",\"#EE8866\",\"#EE8866\",\"#EE8866\",\"#EE8866\",\"#EE8866\",\"#EE8866\",\"#EE8866\",\"#EE8866\",\"#EE8866\",\"#EE8866\",\"#EE8866\",\"#EE8866\",\"#77AADD\",\"#EE8866\",\"#EE8866\",\"#EE8866\",\"#EE8866\",\"#EE8866\",\"#EE8866\",\"#EE8866\",\"#EE8866\",\"#EE8866\",\"#EE8866\",\"#EE8866\",\"#EE8866\",\"#EE8866\",\"#EE8866\",\"#EE8866\",\"#EE8866\",\"#EE8866\",\"#EE8866\",\"#EE8866\",\"#EE8866\",\"#EE8866\",\"#EE8866\",\"#EE8866\",\"#EE8866\",\"#EE8866\",\"#EE8866\",\"#EE8866\",\"#EE8866\",\"#EE8866\",\"#EE8866\",\"#EE8866\",\"#EE8866\",\"#EE8866\",\"#EE8866\",\"#EE8866\",\"#EE8866\",\"#EE8866\",\"#EE8866\",\"#EE8866\",\"#EE8866\",\"#EE8866\",\"#EE8866\",\"#EE8866\",\"#EE8866\",\"#77AADD\",\"#EE8866\",\"#EE8866\",\"#EE8866\",\"#EE8866\",\"#EE8866\",\"#EE8866\",\"#EE8866\",\"#EE8866\",\"#EE8866\",\"#EE8866\",\"#EE8866\",\"#EE8866\",\"#EE8866\",\"#EE8866\",\"#EE8866\",\"#EE8866\",\"#EE8866\",\"#EE8866\",\"#EE8866\",\"#EE8866\",\"#77AADD\",\"#EE8866\",\"#EE8866\",\"#EE8866\",\"#EE8866\",\"#EE8866\",\"#EE8866\",\"#EE8866\",\"#EE8866\",\"#EE8866\",\"#EE8866\",\"#EE8866\",\"#EE8866\",\"#EE8866\",\"#EE8866\",\"#EE8866\",\"#EE8866\",\"#EE8866\",\"#EE8866\",\"#EE8866\",\"#EE8866\",\"#EE8866\",\"#EE8866\",\"#EE8866\",\"#EE8866\",\"#EE8866\",\"#EE8866\",\"#EE8866\",\"#EE8866\",\"#EE8866\",\"#EE8866\",\"#EE8866\",\"#77AADD\",\"#EE8866\",\"#EE8866\",\"#EE8866\",\"#EE8866\",\"#EE8866\",\"#EE8866\",\"#EE8866\",\"#EE8866\",\"#EE8866\",\"#EE8866\",\"#EE8866\",\"#EE8866\",\"#EE8866\",\"#EE8866\",\"#EE8866\",\"#EE8866\",\"#EE8866\",\"#EE8866\",\"#EE8866\",\"#EE8866\",\"#EE8866\",\"#EE8866\",\"#EE8866\",\"#EE8866\",\"#EE8866\",\"#EE8866\",\"#EE8866\",\"#EE8866\",\"#EE8866\",\"#EE8866\",\"#EE8866\",\"#EE8866\",\"#EE8866\",\"#EE8866\",\"#77AADD\",\"#EE8866\",\"#EE8866\",\"#EE8866\",\"#EE8866\",\"#EE8866\",\"#EE8866\",\"#EE8866\",\"#EE8866\",\"#EE8866\",\"#EE8866\",\"#EE8866\",\"#EE8866\",\"#77AADD\",\"#EE8866\",\"#EE8866\",\"#EE8866\",\"#EE8866\",\"#EE8866\",\"#EE8866\",\"#EE8866\",\"#EE8866\",\"#EE8866\",\"#EE8866\",\"#EE8866\",\"#EE8866\",\"#EE8866\",\"#EE8866\",\"#EE8866\",\"#EE8866\",\"#EE8866\",\"#EE8866\",\"#EE8866\",\"#EE8866\",\"#EE8866\",\"#EE8866\",\"#EE8866\",\"#EE8866\",\"#EE8866\",\"#EE8866\",\"#EE8866\",\"#EE8866\",\"#EE8866\",\"#EE8866\",\"#EE8866\",\"#77AADD\",\"#EE8866\",\"#EE8866\",\"#EE8866\",\"#EE8866\",\"#EE8866\",\"#EE8866\",\"#EE8866\",\"#EE8866\",\"#EE8866\",\"#EE8866\",\"#EE8866\",\"#EE8866\",\"#EE8866\",\"#EE8866\",\"#EE8866\",\"#EE8866\",\"#EE8866\",\"#EE8866\",\"#EE8866\",\"#EE8866\",\"#EE8866\",\"#EE8866\",\"#EE8866\",\"#EE8866\",\"#EE8866\",\"#EE8866\",\"#EE8866\",\"#EE8866\",\"#EE8866\",\"#EE8866\",\"#EE8866\",\"#EE8866\",\"#EE8866\",\"#EE8866\",\"#EE8866\",\"#EE8866\",\"#EE8866\",\"#EE8866\",\"#EE8866\",\"#EE8866\",\"#EE8866\",\"#EE8866\",\"#EE8866\",\"#EE8866\",\"#EE8866\",\"#EE8866\",\"#EE8866\",\"#EE8866\",\"#EE8866\",\"#EE8866\",\"#EE8866\",\"#EE8866\",\"#EE8866\",\"#EE8866\",\"#EE8866\",\"#EE8866\",\"#EE8866\",\"#EE8866\",\"#EE8866\",\"#EE8866\",\"#EE8866\",\"#EE8866\",\"#77AADD\",\"#EE8866\",\"#EE8866\",\"#EE8866\",\"#EE8866\",\"#EE8866\",\"#EE8866\",\"#EE8866\",\"#EE8866\",\"#EE8866\",\"#EE8866\",\"#EE8866\",\"#EE8866\",\"#EE8866\",\"#EE8866\",\"#EE8866\",\"#EE8866\",\"#EE8866\",\"#EE8866\",\"#EE8866\",\"#EE8866\",\"#EE8866\",\"#EE8866\",\"#EE8866\",\"#EE8866\",\"#EE8866\",\"#EE8866\",\"#EE8866\",\"#EE8866\",\"#EE8866\",\"#EE8866\",\"#EE8866\",\"#EE8866\",\"#EE8866\",\"#EE8866\",\"#EE8866\",\"#EE8866\",\"#EE8866\",\"#EE8866\",\"#EE8866\",\"#EE8866\",\"#EE8866\",\"#EE8866\",\"#EE8866\",\"#EE8866\",\"#EE8866\",\"#EE8866\",\"#EE8866\",\"#EE8866\",\"#EE8866\",\"#EE8866\",\"#EE8866\",\"#EE8866\",\"#EE8866\",\"#EE8866\",\"#EE8866\",\"#EE8866\",\"#EE8866\",\"#EE8866\",\"#EE8866\",\"#EE8866\",\"#EE8866\",\"#EE8866\",\"#EE8866\",\"#EE8866\",\"#EE8866\",\"#EE8866\",\"#EE8866\",\"#EE8866\",\"#EE8866\",\"#EE8866\",\"#EE8866\",\"#EE8866\",\"#EE8866\",\"#EE8866\",\"#EE8866\",\"#EE8866\",\"#EE8866\",\"#EE8866\",\"#EE8866\",\"#EE8866\",\"#EE8866\",\"#EE8866\",\"#EE8866\",\"#EE8866\",\"#EE8866\",\"#EE8866\",\"#EE8866\",\"#EE8866\",\"#EE8866\",\"#EE8866\",\"#EE8866\",\"#EE8866\",\"#EE8866\",\"#EE8866\",\"#EE8866\",\"#EE8866\",\"#EE8866\",\"#EE8866\",\"#EE8866\",\"#77AADD\",\"#EE8866\",\"#EE8866\",\"#EE8866\",\"#EE8866\",\"#77AADD\",\"#EE8866\",\"#EE8866\",\"#EE8866\",\"#EE8866\",\"#EE8866\",\"#EE8866\",\"#EE8866\",\"#EE8866\",\"#EE8866\",\"#EE8866\",\"#EE8866\",\"#EE8866\",\"#EE8866\",\"#EE8866\",\"#EE8866\",\"#EE8866\",\"#EE8866\",\"#EE8866\",\"#EE8866\",\"#EE8866\",\"#EE8866\",\"#EE8866\",\"#EE8866\",\"#EE8866\",\"#EE8866\",\"#EE8866\",\"#EE8866\",\"#EE8866\",\"#EE8866\",\"#EE8866\",\"#EE8866\",\"#EE8866\",\"#EE8866\",\"#EE8866\",\"#EE8866\",\"#EE8866\",\"#EE8866\",\"#EE8866\",\"#EE8866\",\"#EE8866\",\"#EE8866\",\"#EE8866\",\"#EE8866\",\"#EE8866\",\"#EE8866\",\"#EE8866\",\"#EE8866\",\"#EE8866\",\"#EE8866\",\"#EE8866\",\"#EE8866\",\"#EE8866\",\"#EE8866\",\"#EE8866\",\"#EE8866\",\"#EE8866\",\"#EE8866\",\"#EE8866\",\"#EE8866\",\"#EE8866\",\"#EE8866\",\"#EE8866\",\"#EE8866\",\"#EE8866\",\"#EE8866\",\"#EE8866\",\"#EE8866\",\"#EE8866\",\"#EE8866\",\"#EE8866\",\"#EE8866\",\"#EE8866\",\"#EE8866\",\"#EE8866\",\"#EE8866\",\"#EE8866\",\"#EE8866\",\"#EE8866\",\"#EE8866\",\"#EE8866\",\"#EE8866\",\"#EE8866\",\"#EE8866\"]],[\"degree\",[3,25,4,5,1,2,1,1,1,1,9,2,3,1,1,1,2,3,2,1,1,1,1,2,1,1,1,54,6,3,2,1,1,1,1,1,1,1,1,1,1,1,2,1,2,1,1,1,1,1,1,1,1,1,1,1,1,1,1,1,2,1,1,1,1,1,1,1,2,1,1,1,25,1,1,1,1,1,1,1,1,1,1,1,1,1,1,1,1,1,1,1,1,36,1,1,1,1,4,1,1,1,1,2,1,1,1,1,1,1,1,1,1,1,1,1,1,1,1,1,1,1,1,1,1,37,2,2,2,2,3,2,1,2,4,2,2,1,5,2,3,2,1,2,2,2,1,2,2,2,1,1,2,2,1,1,1,1,2,1,39,2,1,1,2,2,1,2,1,1,2,1,3,36,4,1,1,1,1,1,1,1,1,2,3,3,2,1,2,1,1,1,1,1,1,1,1,1,1,1,1,1,1,1,2,71,1,2,1,1,1,1,1,1,1,1,1,1,1,1,1,1,1,1,1,1,1,1,1,1,1,1,1,1,1,1,1,1,1,1,1,1,1,1,1,1,1,1,1,1,1,1,1,1,1,1,1,2,1,1,1,1,1,1,1,1,1,1,112,2,1,2,1,2,2,1,1,1,1,1,1,1,1,1,1,1,1,3,1,1,1,1,2,1,1,1,1,1,3,1,1,1,1,1,1,1,1,1,1,1,1,1,1,1,1,1,1,1,1,1,1,3,1,1,1,1,1,1,1,1,1,1,1,1,1,1,1,1,1,1,1,1,1,1,1,1,1,1,1,1,1,1,1,1,1,1,1,1,1,1,1,2,2,1,1,1,1,1,18,1,1,1,1,98,1,1,1,1,1,1,1,1,1,1,1,1,1,1,1,1,1,1,1,1,1,1,1,1,1,1,1,1,1,1,1,1,1,1,1,1,1,1,1,1,1,1,1,1,1,1,1,1,1,1,1,1,1,1,1,1,1,1,1,1,1,1,1,1,1,1,1,1,1,1,1,1,1,1,1,1,1,1,1,1,1,1,1]],[\"adjusted_size\",[13.788898309344878,30.751006598945605,16.090354888959126,17.875503299472804,5.0,10.545177444479563,5.0,5.0,5.0,5.0,22.577796618689757,10.545177444479563,13.788898309344878,5.0,5.0,5.0,10.545177444479563,13.788898309344878,10.545177444479563,5.0,5.0,5.0,5.0,10.545177444479563,5.0,5.0,5.0,36.911872372514196,19.33407575382444,13.788898309344878,10.545177444479563,5.0,5.0,5.0,5.0,5.0,5.0,5.0,5.0,5.0,5.0,5.0,10.545177444479563,5.0,10.545177444479563,5.0,5.0,5.0,5.0,5.0,5.0,5.0,5.0,5.0,5.0,5.0,5.0,5.0,5.0,5.0,10.545177444479563,5.0,5.0,5.0,5.0,5.0,5.0,5.0,10.545177444479563,5.0,5.0,5.0,30.751006598945605,5.0,5.0,5.0,5.0,5.0,5.0,5.0,5.0,5.0,5.0,5.0,5.0,5.0,5.0,5.0,5.0,5.0,5.0,5.0,5.0,33.66815150764888,5.0,5.0,5.0,5.0,16.090354888959126,5.0,5.0,5.0,5.0,10.545177444479563,5.0,5.0,5.0,5.0,5.0,5.0,5.0,5.0,5.0,5.0,5.0,5.0,5.0,5.0,5.0,5.0,5.0,5.0,5.0,5.0,5.0,33.88734330115379,10.545177444479563,10.545177444479563,10.545177444479563,10.545177444479563,13.788898309344878,10.545177444479563,5.0,10.545177444479563,16.090354888959126,10.545177444479563,10.545177444479563,5.0,17.875503299472804,10.545177444479563,13.788898309344878,10.545177444479563,5.0,10.545177444479563,10.545177444479563,10.545177444479563,5.0,10.545177444479563,10.545177444479563,10.545177444479563,5.0,5.0,10.545177444479563,10.545177444479563,5.0,5.0,5.0,5.0,10.545177444479563,5.0,34.30849316903717,10.545177444479563,5.0,5.0,10.545177444479563,10.545177444479563,5.0,10.545177444479563,5.0,5.0,10.545177444479563,5.0,13.788898309344878,33.66815150764888,16.090354888959126,5.0,5.0,5.0,5.0,5.0,5.0,5.0,5.0,10.545177444479563,13.788898309344878,13.788898309344878,10.545177444479563,5.0,10.545177444479563,5.0,5.0,5.0,5.0,5.0,5.0,5.0,5.0,5.0,5.0,5.0,5.0,5.0,5.0,5.0,10.545177444479563,39.101439016330524,5.0,10.545177444479563,5.0,5.0,5.0,5.0,5.0,5.0,5.0,5.0,5.0,5.0,5.0,5.0,5.0,5.0,5.0,5.0,5.0,5.0,5.0,5.0,5.0,5.0,5.0,5.0,5.0,5.0,5.0,5.0,5.0,5.0,5.0,5.0,5.0,5.0,5.0,5.0,5.0,5.0,5.0,5.0,5.0,5.0,5.0,5.0,5.0,5.0,5.0,5.0,5.0,10.545177444479563,5.0,5.0,5.0,5.0,5.0,5.0,5.0,5.0,5.0,5.0,42.74799097036075,10.545177444479563,5.0,10.545177444479563,5.0,10.545177444479563,10.545177444479563,5.0,5.0,5.0,5.0,5.0,5.0,5.0,5.0,5.0,5.0,5.0,5.0,13.788898309344878,5.0,5.0,5.0,5.0,10.545177444479563,5.0,5.0,5.0,5.0,5.0,13.788898309344878,5.0,5.0,5.0,5.0,5.0,5.0,5.0,5.0,5.0,5.0,5.0,5.0,5.0,5.0,5.0,5.0,5.0,5.0,5.0,5.0,5.0,5.0,13.788898309344878,5.0,5.0,5.0,5.0,5.0,5.0,5.0,5.0,5.0,5.0,5.0,5.0,5.0,5.0,5.0,5.0,5.0,5.0,5.0,5.0,5.0,5.0,5.0,5.0,5.0,5.0,5.0,5.0,5.0,5.0,5.0,5.0,5.0,5.0,5.0,5.0,5.0,5.0,5.0,10.545177444479563,10.545177444479563,5.0,5.0,5.0,5.0,5.0,28.122974063169316,5.0,5.0,5.0,5.0,41.67973982936458,5.0,5.0,5.0,5.0,5.0,5.0,5.0,5.0,5.0,5.0,5.0,5.0,5.0,5.0,5.0,5.0,5.0,5.0,5.0,5.0,5.0,5.0,5.0,5.0,5.0,5.0,5.0,5.0,5.0,5.0,5.0,5.0,5.0,5.0,5.0,5.0,5.0,5.0,5.0,5.0,5.0,5.0,5.0,5.0,5.0,5.0,5.0,5.0,5.0,5.0,5.0,5.0,5.0,5.0,5.0,5.0,5.0,5.0,5.0,5.0,5.0,5.0,5.0,5.0,5.0,5.0,5.0,5.0,5.0,5.0,5.0,5.0,5.0,5.0,5.0,5.0,5.0,5.0,5.0,5.0,5.0,5.0,5.0]],[\"name\",[\"Harvey Keitel\",\"Reservoir Dogs\",\"Tim Roth\",\"Michael Madsen\",\"Chris Penn\",\"Steve Buscemi\",\"Lawrence Tierney\",\"Randy Brooks\",\"Kirk Baltz\",\"Edward Bunker\",\"Quentin Tarantino\",\"Rich Turner\",\"David Steen\",\"Tony Cosmo\",\"Stevo Polyi\",\"Michael Sottile\",\"Robert Ruth\",\"Lawrence Bender\",\"Linda Kaye\",\"Suzanne Celeste\",\"Steven Wright\",\"Laurie Lathem\",\"Maria Strova\",\"Burr Steers\",\"Craig Hamann\",\"Rowland Wafford\",\"John Travolta\",\"Pulp Fiction\",\"Samuel L. Jackson\",\"Uma Thurman\",\"Bruce Willis\",\"Ving Rhames\",\"Eric Stoltz\",\"Amanda Plummer\",\"Maria de Medeiros\",\"Christopher Walken\",\"Rosanna Arquette\",\"Peter Greene\",\"Duane Whitaker\",\"Angela Jones\",\"Phil LaMarr\",\"Bronagh Gallagher\",\"Laura Lovelace\",\"Frank Whaley\",\"Paul Calderon\",\"Jerome Patrick Hoban\",\"Michael Gilden\",\"Gary Shorelle\",\"Susan Griffiths\",\"Eric Clark\",\"Joseph Pilato\",\"Brad Blumenthal\",\"Lorelei Leslie\",\"Emil Sitka\",\"Brenda Hillhouse\",\"Chandler Lindauer\",\"Sy Sher\",\"Don Blakely\",\"Carl Allen\",\"Karen Maruyama\",\"Kathy Griffin\",\"Venessia Valentino\",\"Stephen Hibbert\",\"Alexis Arquette\",\"Julia Sweeney\",\"Cie Allman\",\"Rene Beard\",\"Lori Pizzo\",\"Glendon Rich\",\"Devan Richardson\",\"Ani Sava\",\"Richard Rossi\",\"Four Rooms\",\"Jennifer Beals\",\"Antonio Banderas\",\"Valeria Golino\",\"David Proval\",\"Sammi Davis\",\"Amanda de Cadenet\",\"Madonna\",\"Ione Skye\",\"Lili Taylor\",\"Alicia Witt\",\"Tamlyn Tomita\",\"Lana McKissack\",\"Danny Verduzco\",\"Patricia Vonne\",\"Salma Hayek\",\"Marisa Tomei\",\"Kimberly Blair\",\"Marc Lawrence\",\"Paul Skemp\",\"Pam Grier\",\"Jackie Brown\",\"Robert De Niro\",\"Bridget Fonda\",\"Michael Keaton\",\"Robert Forster\",\"Michael Bowen\",\"Chris Tucker\",\"LisaGay Hamilton\",\"Tom 'Tiny' Lister Jr.\",\"Hattie Winston\",\"Sid Haig\",\"Aimee Graham\",\"Ellis E. Williams\",\"Tangie Ambrose\",\"T'Keyah Crystal Keym\\u00e1h\",\"Vanessia Valentino\",\"Diana Uribe\",\"Renee Kelly\",\"Elizabeth McInerney\",\"Colleen Mayne\",\"Christine Lydon\",\"Julia Ervin\",\"Juliet Long\",\"Michelle Berube\",\"Gillian White\",\"Candice Briese\",\"Gary Mann\",\"Jeffrey Deedrick\",\"Roy Nesvold\",\"Herbert Hans Wilmsen\",\"Mary Ann Schmidt\",\"Denise Crosby\",\"Kill Bill: Vol. 1\",\"Lucy Liu\",\"Vivica A. Fox\",\"Daryl Hannah\",\"David Carradine\",\"Julie Dreyfus\",\"Chiaki Kuriyama\",\"Shin'ichi Chiba\",\"Gordon Liu Chia-hui\",\"Michael Parks\",\"Jun Kunimura\",\"Kenji Ohba\",\"Yuki Kazamatsuri\",\"James Parks\",\"Sakichi Sat\\u014d\",\"Jonathan Loughran\",\"Yoshiyuki Morishita\",\"Tetsuro Shimaguchi\",\"Kazuki Kitamura\",\"Yoji Tanaka\",\"S\\u014d Yamanaka\",\"Juri Manase\",\"Akaji Maro\",\"Goro Daimon\",\"Shun Sugata\",\"Zhang Jinzhan\",\"Hu Xiaohui\",\"Ambrosia Kelley\",\"Sachiko Fujii\",\"Shu Lan Tuan\",\"Ai Maeda\",\"Naomi Kusumi\",\"Hikaru Midorikawa\",\"Issey Takahashi\",\"The 5.6.7.8's\",\"Kill Bill: Vol. 2\",\"Perla Haney-Jardine\",\"Larry Bishop\",\"Christopher Allen Nelson\",\"Helen Kim\",\"Laura Cayouette\",\"Claire Smithies\",\"Bo Svenson\",\"Clark Middleton\",\"Jeannie Epper\",\"Shana Stein\",\"Caitlin Keats\",\"Kurt Russell\",\"Death Proof\",\"Zo\\u00eb Bell\",\"Rosario Dawson\",\"Vanessa Ferlito\",\"Sydney Tamiia Poitier\",\"Tracie Thoms\",\"Rose McGowan\",\"Jordan Ladd\",\"Mary Elizabeth Winstead\",\"Marcy Harriell\",\"Eli Roth\",\"Omar Doom\",\"Michael Bacall\",\"Monica Staggs\",\"Marley Shelton\",\"Tina Rodriguez\",\"Nicky Katt\",\"Marta Mendoza\",\"Tim Murphy\",\"Melissa Arcaro\",\"Electra Avellan\",\"Elise Avellan\",\"Eurlyne Epper\",\"Jamie L. Dunno\",\"Chris King\",\"April March\",\"Julitta Pourciau\",\"Amanda Rivas\",\"Kelley Robins Hicks\",\"Gary Teague\",\"Tommy Nix\",\"Brad Pitt\",\"Inglourious Basterds\",\"M\\u00e9lanie Laurent\",\"Christoph Waltz\",\"Michael Fassbender\",\"Diane Kruger\",\"Daniel Br\\u00fchl\",\"Til Schweiger\",\"Gedeon Burkhard\",\"Jacky Ido\",\"B.J. Novak\",\"August Diehl\",\"Denis M\\u00e9nochet\",\"Sylvester Groth\",\"Martin Wuttke\",\"Mike Myers\",\"L\\u00e9a Seydoux\",\"Richard Sammel\",\"Alexander Fehling\",\"Rod Taylor\",\"Samm Levine\",\"Paul Rust\",\"Arndt Schwering-Sohnrey\",\"Petra Hartung\",\"Volker Michalowski\",\"Ken Duken\",\"Christian Berkel\",\"Lena Friedrich\",\"Ludger Pistor\",\"Jana Pallaske\",\"Wolfgang Lindner\",\"Michael Kranz\",\"Rainer Bock\",\"Andr\\u00e9 Penvern\",\"Sebastian H\\u00fclk\",\"Buddy Joe Hooker\",\"S\\u00f6nke M\\u00f6hring\",\"Carlos Fidel\",\"Hilmar Eichhorn\",\"Patrick Elias\",\"Eva L\\u00f6bau\",\"Salvadore Brandt\",\"Jasper Linnewedel\",\"Wilfried Hochholdinger\",\"Olivier Girard\",\"Michael Scheel\",\"Leo Plank\",\"Andreas Tietz\",\"Enzo G. Castellari\",\"Christian Br\\u00fcckner\",\"Bela B.\",\"Noemi Besedes\",\"H\\u00e9l\\u00e8ne Cardona\",\"Jake Garber\",\"Sabrina Rattey\",\"Alex Boden\",\"Guido F\\u00f6hrwei\\u00dfer\",\"Andrew Napier\",\"Gregory Nicotero\",\"Vitus Wieser\",\"Bea-Marie R\\u00fcck\",\"Daniela Schwerdt\",\"Anne-Sophie Franck\",\"Jamie Foxx\",\"Django Unchained\",\"Leonardo DiCaprio\",\"Kerry Washington\",\"Walton Goggins\",\"Dennis Christopher\",\"James Remar\",\"Dana Gourrier\",\"Nichole Galicia\",\"Ato Essandoh\",\"Sammi Rotibi\",\"Clay Donahue Fontenot\",\"Escalante Lundy\",\"Miriam F. Glover\",\"Don Johnson\",\"Franco Nero\",\"James Russo\",\"Tom Wopat\",\"Don Stroud\",\"Amber Tamblyn\",\"Bruce Dern\",\"M.C. Gainey\",\"Cooper Huckabee\",\"Doc Duhame\",\"Jonah Hill\",\"Lee Horsley\",\"Robert Carradine\",\"Ted Neeley\",\"Tom Savini\",\"John Jarratt\",\"Amari Cheatom\",\"Keith Jefferson\",\"Marcus Henderson\",\"Lil Chuuch\",\"Kinetic\",\"Louise Stratten\",\"Kim Robillard\",\"Shannon Hazlett\",\"Jack Lucarelli\",\"Victoria Thomas\",\"Grace Collins\",\"Sharon Pierre-Louis\",\"Christopher Berry\",\"Kim Collins\",\"Dane Rhodes\",\"J.D. Evermore\",\"Rex Linn\",\"Ronan Hice\",\"Ned Bellamy\",\"Dave Coennen\",\"Dani\\u00e8le Watts\",\"Jon Eyez\",\"Omar J. Dorsey\",\"Evan Parke\",\"Craig Stark\",\"Brian Brown\",\"Ritchie Montgomery\",\"Nicholas Dashnaw\",\"Jarrod Bunch\",\"Edrick Browne\",\"Kerry Sims\",\"Jamal Duff\",\"Todd Allen\",\"Lewis Smith\",\"Keniaryn Mitchell\",\"Jakel Marshall\",\"Carl Singleton\",\"Ashley Toman\",\"John McConnell\",\"Mark Amos\",\"Monica Rene'e Anderson\",\"Marsha Stephanie Blake\",\"Catherine Lambert\",\"Deborah Ayorinde\",\"Takara Clark\",\"Kimberley Drummond\",\"Tenaj L. Jackson\",\"Carl Bailey\",\"Ross P. Cook\",\"Gregory Allen Gabroy\",\"Seth Bailey\",\"David G. Baker\",\"Richie J. Ladner\",\"Glen Warner\",\"Kesha Bullard\",\"Edward J. Clare\",\"Jordon Michael Corbin\",\"Mike DeMille\",\"Gary Grubbs\",\"Justin Hall\",\"Sandra Linz\",\"Kasey James\",\"Skipper Landry\",\"Cindy Mah\",\"Johnny Otto\",\"Belinda Owino\",\"Mark Ulano\",\"Misty Upham\",\"Russ Tamblyn\",\"Fatimah Taliah\",\"Santana Draper\",\"The Hateful Eight\",\"Jennifer Jason Leigh\",\"Demi\\u00e1n Bichir\",\"Gene Jones\",\"Channing Tatum\",\"Once Upon a Time\\u2026 in Hollywood\",\"Margot Robbie\",\"Emile Hirsch\",\"Margaret Qualley\",\"Timothy Olyphant\",\"Julia Butters\",\"Austin Butler\",\"Dakota Fanning\",\"Mike Moh\",\"Luke Perry\",\"Damian Lewis\",\"Al Pacino\",\"Nicholas Hammond\",\"Samantha Robinson\",\"Rafa\\u0142 Zawierucha\",\"Lorenza Izzo\",\"Costa Ronin\",\"Damon Herriman\",\"Lena Dunham\",\"Madisen Beaty\",\"Mikey Madison\",\"James Landry H\\u00e9bert\",\"Maya Hawke\",\"Victoria Pedretti\",\"Sydney Sweeney\",\"Harley Quinn Smith\",\"Dallas Jay Hunter\",\"Kansas Bowling\",\"Parker Love Bowling\",\"Cassidy Vick Hice\",\"Ruby Rose Skotchdopole\",\"Danielle Harris\",\"Josephine Valentina Clark\",\"Scoot McNairy\",\"Clifton Collins Jr.\",\"Marco Rodr\\u00edguez\",\"Ram\\u00f3n Franco\",\"Ra\\u00fal Cardona\",\"Courtney Hoffman\",\"Dreama Walker\",\"Rachel Redleaf\",\"Rebecca Rittenhouse\",\"Rumer Willis\",\"Spencer Garrett\",\"Clu Gulager\",\"Martin Kove\",\"Rebecca Gayheart\",\"Kate Berlant\",\"Victoria Truscott\",\"Allison Yaple\",\"Bruce Del Castillo\",\"Brenda Vaccaro\",\"Lew Temple\",\"Daniella Pick\",\"Mark Warrack\",\"Gabriela Flores\",\"Heba Thorisdottir\",\"Breanna Wing\",\"Kenneth Sonny Donato\",\"Sergio Gonzalez\",\"Casey O'Neill\",\"Michael Graham\",\"Emile Williams\",\"Vincent Laresca\",\"JLouis Mills\",\"Gilbert Saldivar\",\"Maurice Compte\",\"Eddie Perez\",\"Hugh McCallum\",\"Zander Grable\",\"Ed Regine\",\"Michael Bissett\",\"Lenny Langley Jr.\",\"Gillian M. Berrow\",\"Chad Ridgely\",\"Chic Daniel\",\"Corey Burton\",\"Michaela Sprague\",\"Ryan Ramirez\",\"Kayla Jenee Radomski\",\"Kerry Westcott\",\"William DeAtley\",\"Brianna Joy Chomer\",\"Gina Aponte\"]],[\"index\",[0,1,2,3,4,5,6,7,8,9,10,11,12,13,14,15,16,17,18,19,20,21,22,23,24,25,26,27,28,29,30,31,32,33,34,35,36,37,38,39,40,41,42,43,44,45,46,47,48,49,50,51,52,53,54,55,56,57,58,59,60,61,62,63,64,65,66,67,68,69,70,71,72,73,74,75,76,77,78,79,80,81,82,83,84,85,86,87,88,89,90,91,92,93,94,95,96,97,98,99,100,101,102,103,104,105,106,107,108,109,110,111,112,113,114,115,116,117,118,119,120,121,122,123,124,125,126,127,128,129,130,131,132,133,134,135,136,137,138,139,140,141,142,143,144,145,146,147,148,149,150,151,152,153,154,155,156,157,158,159,160,161,162,163,164,165,166,167,168,169,170,171,172,173,174,175,176,177,178,179,180,181,182,183,184,185,186,187,188,189,190,191,192,193,194,195,196,197,198,199,200,201,202,203,204,205,206,207,208,209,210,211,212,213,214,215,216,217,218,219,220,221,222,223,224,225,226,227,228,229,230,231,232,233,234,235,236,237,238,239,240,241,242,243,244,245,246,247,248,249,250,251,252,253,254,255,256,257,258,259,260,261,262,263,264,265,266,267,268,269,270,271,272,273,274,275,276,277,278,279,280,281,282,283,284,285,286,287,288,289,290,291,292,293,294,295,296,297,298,299,300,301,302,303,304,305,306,307,308,309,310,311,312,313,314,315,316,317,318,319,320,321,322,323,324,325,326,327,328,329,330,331,332,333,334,335,336,337,338,339,340,341,342,343,344,345,346,347,348,349,350,351,352,353,354,355,356,357,358,359,360,361,362,363,364,365,366,367,368,369,370,371,372,373,374,375,376,377,378,379,380,381,382,383,384,385,386,387,388,389,390,391,392,393,394,395,396,397,398,399,400,401,402,403,404,405,406,407,408,409,410,411,412,413,414,415,416,417,418,419,420,421,422,423,424,425,426,427,428,429,430,431,432,433,434,435,436,437,438,439,440,441,442,443,444,445,446,447,448,449,450,451,452,453,454,455,456]]]}}},\"view\":{\"type\":\"object\",\"name\":\"CDSView\",\"id\":\"p1051\",\"attributes\":{\"filter\":{\"type\":\"object\",\"name\":\"AllIndices\",\"id\":\"p1052\"}}},\"glyph\":{\"type\":\"object\",\"name\":\"Circle\",\"id\":\"p1077\",\"attributes\":{\"size\":{\"type\":\"field\",\"field\":\"adjusted_size\"},\"fill_color\":{\"type\":\"field\",\"field\":\"color\"}}}}},\"edge_renderer\":{\"type\":\"object\",\"name\":\"GlyphRenderer\",\"id\":\"p1058\",\"attributes\":{\"data_source\":{\"type\":\"object\",\"name\":\"ColumnDataSource\",\"id\":\"p1055\",\"attributes\":{\"selected\":{\"type\":\"object\",\"name\":\"Selection\",\"id\":\"p1056\",\"attributes\":{\"indices\":[],\"line_indices\":[]}},\"selection_policy\":{\"type\":\"object\",\"name\":\"UnionRenderers\",\"id\":\"p1057\"},\"data\":{\"type\":\"map\",\"entries\":[[\"character\",[\"Mr. White / Larry Dimmick\",\"Winston \\\"The Wolf\\\" Wolfe\",\"OSS Commander Who Agrees to Deal (voice) (uncredited)\",\"Mr. Orange / Freddy Newandyke\",\"Mr. Blonde / Vic Vega\",\"\\\"Nice Guy\\\" Eddie Cabot\",\"Mr. Pink\",\"Joe Cabot\",\"Detective Holdaway\",\"Officer Marvin Nash\",\"Mr. Blue\",\"Mr. Brown\",\"Sheriff #1\",\"Sheriff #2\",\"Sheriff #3\",\"Sheriff #4\",\"Teddy\",\"Shot Cop\",\"Young Cop\",\"Shocked Woman\",\"Shot Woman\",\"K-Billy DJ (voice)\",\"Background Radio Play (voice)\",\"Background Radio Play (voice)\",\"Background Radio Play (voice)\",\"Background Radio Play (voice)\",\"Diner Patron (uncredited)\",\"Ringo (\\\"Pumpkin\\\")\",\"Ted the Bellhop\",\"Oswaldo Mobray\",\"Budd\",\"Budd\",\"Joe Gage\",\"'Bounty Law' - Sheriff Hackett\",\"Buddy Holly\",\"Jimmie Dimmick\",\"Chester Rush\",\"Answering Machine (voice) (uncredited)\",\"Warren\",\"First Scalped Nazi / American Soldier in 'Pride of Nation' (uncredited)\",\"The LeQuint Dickey Mining Co. Employee\",\"Narrator (voice) (uncredited)\",\"Red Apple Ad Director (voice) (uncredited)\",\"Sportscaster #2\",\"Mr. Stonesipher\",\"'Straight Satan' David\",\"Sportscaster #1 - Coffee Shop\",\"Long Hair Yuppy Scum\",\"Long Hair Yuppy Scum\",\"Shot Woman\",\"Roger\",\"Vincent Vega\",\"Jules Winnfield\",\"Mia Wallace\",\"Butch Coolidge\",\"Marsellus Wallace\",\"Lance\",\"Yolanda (\\\"Honey Bunny\\\")\",\"Fabienne\",\"Captain Koons\",\"Jody\",\"Zed\",\"Maynard\",\"Esmarelda Villalobos\",\"Marvin\",\"Trudi\",\"Waitress\",\"Brett\",\"Paul\",\"Ed Sullivan\",\"Page for Phillip Morris\",\"Ricky Nelson\",\"Marilyn Monroe\",\"James Dean\",\"Dean Martin\",\"Jerry Lewis\",\"Mamie van Doren\",\"Hold Hands You Lovebirds (archive footage)\",\"Mrs. Coolidge - Butch's Mother\",\"Young Butch\",\"Klondike\",\"Wilson's Trainer\",\"Dead Floyd Wilson\",\"Gawker #1\",\"Hit-and-run Witness\",\"Pedestrian / Bonnie Dimmick\",\"The Gimp\",\"Man No. 4\",\"Raquel\",\"Winston Wolfe's Girlfriend at Party (uncredited)\",\"Bar Tender (uncredited)\",\"Lucky Lady (uncredited)\",\"Drug Dealer (uncredited)\",\"Hopalong Cassidy (uncredited)\",\"Woman in Bathroom (uncredited)\",\"Diner Patron #2 (uncredited)\",\"Ordell Robbie\",\"Rufus\",\"Narrator (voice) (uncredited)\",\"Stephen\",\"Major Marquis Warren\",\"Beatrix \\\"The Bride\\\" Kiddo\",\"Beatrix \\\"The Bride\\\" Kiddo\",\"Leo (uncredited)\",\"Steakhouse Waitress\",\"Norman\",\"Betty\",\"Restaurant Regular (uncredited)\",\"Angela\",\"Man\",\"Athena\",\"Siegfried\",\"Jezebel\",\"Diana\",\"Elspeth\",\"Eva\",\"Raven\",\"Kiva\",\"Wife\",\"Sarah\",\"Juancho\",\"Corpse\",\"TV Dancing Girl\",\"Margaret\",\"Hooker\",\"Sam the Bellhop\",\"Real Theodore\",\"Jackie Brown\",\"Louis Gara\",\"Melanie Ralston\",\"Ray Nicolette\",\"Max Cherry\",\"Mark Dargus\",\"Beaumont Livingston\",\"Sheronda\",\"Winston\",\"Simone\",\"Judge\",\"Amy \\u2013 Billingsley Sales Girl\",\"Cockatoo Bartender\",\"Billingsley Sales Girl #2\",\"Raynelle \\u2013 Ordell's Junkie Friend\",\"Cabo Flight Attendant\",\"Anita Lopez\",\"Cocktail Waitress\",\"Bartender at Sam's\",\"Girl at Security Gate\",\"Tec-9 Sidney \\u2013 Chicks Who Love Guns\",\"Steyr AUG Cindy \\u2013 Chicks Who Love Guns\",\"AK-47 Gloria \\u2013 Chicks Who Love Guns\",\"Baretta 12S Brittany \\u2013 Chicks Who Love Guns\",\"Mossberg 500 Tammy Jo \\u2013 Chicks Who Love Guns\",\"The Deputy\",\"The Deputy\",\"The Sheriff\",\"The Sheriff\",\"The Sheriff\",\"Flight Attendant (uncredited)\",\"Public Defender (uncredited)\",\"Buck\",\"Buck\",\"Tracker\",\"Bartender\",\"O-Ren Ishii\",\"Vernita Green\",\"Elle Driver\",\"Bill\",\"Sofie Fatale\",\"Gogo Yubari\",\"Hattori Hanzo\",\"Johnny Mo\",\"Earl McGraw\",\"Tanaka\",\"Bald Guy (Sushi Shop)\",\"Proprietor\",\"Edgar McGraw\",\"Charlie Brown\",\"Trucker\",\"Tokyo Business Man\",\"Crazy 88 #1 (Miki)\",\"Crazy 88\",\"Crazy 88\",\"Crazy 88\",\"Crazy 88 #6 (Girl)\",\"Boss Ozawah\",\"Boss Honda\",\"Boss Benta\",\"Boss Orgami\",\"Young 88 (Spanked Boy)\",\"Nikki Bell\",\"The 5, 6, 7, 8's\",\"Okinawa Airline Ticket Agent\",\"O-Ren (anime sequence) (voice)\",\"Boss Matsumoto (anime sequence) (voice)\",\"Pretty Riki (anime sequence) (voice)\",\"Crazy 88\",\"The 5.6.7.8's\",\"O-Ren Ishii\",\"Vernita Green\",\"Elle Driver\",\"Bill\",\"Sofie Fatale\",\"Francesca Mondino\",\"Gogo\",\"Pai Mei\",\"Esteban Vihaio\",\"Earl McGraw\",\"The LeQuint Dickey Mining Co. Employee\",\"Boss Tanaka\",\"Bald Guy\",\"Edgar McGraw\",\"Edgar McGraw\",\"Tracker\",\"O. B. Jackson\",\"Charlie Brown\",\"Trucker\",\"Jasper\",\"Tokyo Businessman\",\"Boss Koji / Crazy 88\",\"Crazy 88\",\"Crazy 88\",\"Boss Ozawah\",\"Boss Honda\",\"Boss Benta\",\"Nikki\",\"The 5, 6, 7, 8's\",\"Crazy 88\",\"B.B. Kiddo\",\"Larry Gomez\",\"Tommy Plympton\",\"Karen Kim\",\"Rocket\",\"Clarita\",\"Reverend Harmony\",\"Ernie\",\"Mrs. Harmony\",\"Erica\",\"Janeen\",\"Hippie Selling Acid Cigarettes\",\"Peg\",\"Lara Lee Candie-Fitzwilly\",\"American Colonel\",\"Daughtrey Bitty\",\"Stuntman Mike McKay\",\"John 'The Hangman' Ruth\",\"Randy / Narrator\",\"Zo\\u00eb Bell\",\"Abernathy Ross\",\"Arlene \\\"Butterfly\\\"\",\"Jungle Julia Lucai\",\"Kim Mathis\",\"Pam\",\"Shanna\",\"Lee Montgomery\",\"Marcy\",\"Dov\",\"Nate\",\"Omar\",\"Lanna Frank\",\"Dr. Dakota Block\",\"Juana\",\"Counter Guy\",\"Punky Bruiser\",\"Tim the Bartender\",\"Venus Envy\",\"Babysitter Twin #1\",\"Babysitter Twin #2\",\"Lanna Frank Friend #1\",\"Lanna Frank Friend #2\",\"Extra (uncredited)\",\"April March (voice) (uncredited)\",\"Female Business Class Passenger (uncredited)\",\"Nurse (uncredited)\",\"Laquanda (uncredited)\",\"Businessman (uncredited)\",\"Bar Patron (uncredited)\",\"Tracker\",\"'Six-Horse' Judy\",\"Janet\",\"Staff Sergeant Donny \\\"The Bear Jew\\\" Donowitz\",\"Private First Class Omar Ulmer\",\"Donnie\",\"Private First Class Michael Zimmerman\",\"Smitty Bacall\",\"Connie\",\"Julie LaPadite\",\"First Lieutenant Aldo \\\"The Apache\\\" Raine\",\"Cliff Booth\",\"Shosanna Dreyfus / Emmanuelle Mimieux\",\"SS Colonel Hans \\\"The Jew Hunter\\\" Landa\",\"Lieutenant Archie Hicox\",\"Bridget von Hammersmark\",\"Private First Class Fredrick Zoller\",\"Sergeant Hugo Stiglitz\",\"Corporal Wilhelm Wicki\",\"Marcel\",\"Private First Class Smithson \\\"The Little Man\\\" Utivich\",\"Major Dieter Hellstrom\",\"Perrier LaPadite\",\"Joseph Goebbels\",\"Adolf Hitler\",\"General Ed Fenech\",\"Charlotte LaPadite\",\"Sergeant Werner Rachtman\",\"Staff Sergeant Wilhelm / Pola Negri\",\"Winston Churchill\",\"Private First Class Hirschberg\",\"Private First Class Andy Kagan\",\"German Soldier / Winnetou\",\"German Female Soldier / Beethoven\",\"German Soldier / Edgar Wallace\",\"German Soldier / Mata Hari\",\"Proprietor Eric\",\"Suzanne LaPadite\",\"CPT. Wolfgang\",\"Babette\",\"Herrman #1\",\"Herrman #3\",\"General Schonherr\",\"Old French Veterinarian\",\"Hellstrom's Driver / Nazi Usher #1\",\"Gaspar\",\"Private Butz / Walter Frazer\",\"PFC. Simon Sakowitz\",\"Emil Jannings\",\"Jakob Dreyfus\",\"Miriam Dreyfus\",\"Bob Dreyfus\",\"Amos Dreyfus\",\"German Company SGT.\",\"Maxim's Waiter\",\"General Frank\",\"Motorcycle Rider #1\",\"Motorcycle Rider #2\",\"Himself\",\"Kliest Voice (voice)\",\"Usher #2 (uncredited)\",\"German Movie Star (uncredited)\",\"German Official (voice) (uncredited)\",\"German Soldier (uncredited)\",\"German Civilian (uncredited)\",\"Military Attach\\u00e9 (uncredited)\",\"SS Major (uncredited)\",\"Nazi Theatre Attendee (uncredited)\",\"Gestapo Major (uncredited)\",\"French Waiter (uncredited)\",\"German Female Soldier (uncredited)\",\"Cinema Guest (uncredited)\",\"Mathilda\",\"Dr. King Schultz\",\"Tracker\",\"Django Freeman\",\"Calvin J. Candie\",\"Broomhilda von Shaft\",\"Billy Crash\",\"Leonide Moguy\",\"Butch Pooch / Ace Speck\",\"Cora\",\"Sheba\",\"D'Artagnan\",\"Rodney\",\"Big Fred's Opponent\",\"Big Fred\",\"Betina\",\"Spencer \\\"Big Daddy\\\" Bennett\",\"Amerigo Vessepi\",\"Dicky Speck\",\"U.S. Marshall Gill Tatum\",\"Sheriff Bill Sharp\",\"Daughter of a Son of a Gunfighter\",\"Old Man Carrucan\",\"Big John Brittle\",\"Lil Raj Brittle\",\"Ellis Brittle\",\"Bag Head #2\",\"Sheriff Gus (Snowy Snow)\",\"Tracker\",\"Tracker\",\"Tracker\",\"The Le Quint Dickey Mining Co. Employee\",\"Roy\",\"Pudgy Ralph\",\"Big Sid\",\"Slave on Chain Gang\",\"Franklin\",\"Daughtrey Saloon Girl\",\"Saloon Keeper Pete\",\"Daughtrey Saloon Girl\",\"Daughtrey Rifleman\",\"Daughtrey Woman\",\"Grace Bennett\",\"Little Jody\",\"Willard\",\"Randy\",\"Tennessee Redfish\",\"O.D.\",\"Tennessee Harry\",{\"type\":\"number\",\"value\":\"nan\"},\"Wilson\",\"Mr. Eigglesworth\",\"Coco\",{\"type\":\"number\",\"value\":\"nan\"},\"Chicken Charlie\",\"Baghead\",\"Tommy Gilles\",\"Hoot Peters\",\"Overseer Johnny Jerome\",\"Baghead\",\"Banjo\",\"Joshua\",{\"type\":\"number\",\"value\":\"nan\"},\"Tatum\",\"Dollar Bill\",\"Jinglebells Cody\",{\"type\":\"number\",\"value\":\"nan\"},\"House Servant\",\"Carl / House Servant\",{\"type\":\"number\",\"value\":\"nan\"},{\"type\":\"number\",\"value\":\"nan\"},\"Beard Man (uncredited)\",\"House Servant (uncredited)\",\"House Slave (uncredited)\",\"House Slave (uncredited)\",\"Cleopatra Pony (uncredited)\",\"Pony (uncredited)\",\"Pony (uncredited)\",\"Pony (uncredited)\",\"Mandingo Overseer (uncredited)\",\"Overseer (uncredited)\",\"Overseer (uncredited)\",\"Daughtrey Rifleman (uncredited)\",\"Slave Master (uncredited)\",\"Slave Master (uncredited)\",\"Slave Overseer (uncredited)\",\"Crazy Sadie (uncredited)\",\"Plantation Owner (uncredited)\",\"Samson (uncredited)\",\"Cowboy (uncredited)\",\"Bob Gibbs (uncredited)\",\"Goat Farmer (uncredited)\",\"Town Woman (uncredited)\",\"Mule Wrangler (uncredited)\",\"Cleo Master (uncredited)\",\"Chinese Boy (uncredited)\",\"Dr. Brown (uncredited)\",\"Candyland House Servant (uncredited)\",\"Gabby the Banker (uncredited)\",\"Minnie (uncredited)\",\"Son of a Gunfighter\",\"Slave (uncredited)\",\"Bennet Plantation Slave Water Boy (uncredited)\",\"Rick Dalton\",\"Sheriff Chris Mannix\",\"'Bounty Law' - 'Ugly Owl'\",\"Minnie\",\"General Sandy Smithers\",\"George Spahn\",\"Ed\",\"Charly\",\"Land Pirate Keith\",\"Chester Charles Smithers\",\"Land Pirate Craig\",\"Police Officer (uncredited)\",\"Gemma\",\"Daisy Domergue\",\"Bob\",\"Sweet Dave\",\"Jody\",\"Sharon Tate\",\"Jay Sebring\",\"'Pussycat'\",\"Jim Stacy\",\"Trudi Fraser\",\"'Tex'\",\"'Squeaky'\",\"Bruce Lee\",\"Wayne Maunder\",\"Steve McQueen\",\"Marvin Schwarz\",\"Sam Wanamaker\",\"Abigail Folger\",\"Roman Polanski\",\"Francesca Capucci\",\"Voytek Frykowski\",\"Charlie\",\"'Gypsy'\",\"'Katie'\",\"'Sadie'\",\"'Clem'\",\"'Flowerchild'\",\"'Lulu'\",\"'Snake'\",\"'Froggie'\",\"'Deliah'\",\"'Blue'\",\"'Tadpole'\",\"'Sundance'\",\"'Butterfly'\",\"'Angel'\",\"'Happy Cappy'\",\"'Lancer' - 'Business Bob' Gilbert\",\"'Lancer' - Ernesto the Mexican Vaquero\",\"'Lancer' - Bartender Pepe\",\"Movie Theater Manager\",\"'Lancer' - 'Bad Guy' Delgado\",\"Rebekka\",\"Connie Stevens\",\"Mama Cass\",\"Michelle Phillips\",\"Joanna Pettet\",\"Allen Kincade\",\"Book Store Man\",\"'Bounty Law' - Sheriff\",\"Billie Booth\",\"Bruin Box Office Girl\",\"Musso & Frank Hostess (Gina)\",\"'Lancer' - Script Girl\",\"Back Lot Crew Member\",\"Mary Alice Schwarz\",\"Land Pirate Lew\",\"Daphna Ben-Cobo\",\"Curt\",\"Maralu the Fiddle Player\",\"Make-Up Artist Sonya\",\"Young Girl Hippy Hitchhiker\",\"Musso & Frank Bartender\",\"Musso & Frank Waiter\",\"Nazi Soldier / McCluskey Burn Nazi #1\",\"Policeman\",\"Paramedic\",\"Land Pirate Vincent\",\"Land Pirate J\",\"Land Pirate Gil\",\"Land Pirate Maurice\",\"Land Pirate Eddie\",\"'Lancer' - Camera Operator Hugh\",\"Hermann the Nazi Youth\",\"Cicada Maitre'd\",\"Officer Mike\",\"Dashihi Donnell\",\"Gillian\",\"Cop #1\",\"Cop #2\",\"'Bounty Law' - Promo Announcer (voice)\",\"Dancer #1\",\"Dancer #2\",\"Dancer #3\",\"Dancer #4\",\"Jack (uncredited)\",\"Starlet (uncredited)\",\"Waitress (uncredited)\"]],[\"start\",[0,0,0,1,1,1,1,1,1,1,1,1,1,1,1,1,1,1,1,1,1,1,1,1,1,1,1,2,2,2,3,3,3,3,5,10,10,10,10,10,10,10,10,11,12,12,16,17,17,18,23,26,27,27,27,27,27,27,27,27,27,27,27,27,27,27,27,27,27,27,27,27,27,27,27,27,27,27,27,27,27,27,27,27,27,27,27,27,27,27,27,27,27,27,27,27,28,28,28,28,28,29,29,30,42,44,60,68,72,72,72,72,72,72,72,72,72,72,72,72,72,72,72,72,72,72,72,92,93,93,93,93,93,93,93,93,93,93,93,93,93,93,93,93,93,93,93,93,93,93,93,93,93,93,93,93,93,93,93,98,98,98,103,125,125,125,125,125,125,125,125,125,125,125,125,125,125,125,125,125,125,125,125,125,125,125,125,125,125,125,125,125,125,125,125,125,125,126,127,128,129,130,130,131,133,134,134,134,135,136,138,138,138,138,139,140,140,141,143,144,145,147,148,149,152,153,158,160,160,160,160,160,160,160,160,160,160,160,161,164,165,167,170,172,172,172,173,173,173,173,173,173,173,173,173,173,173,173,173,173,173,173,173,173,173,173,173,173,173,173,173,173,173,173,173,173,174,174,174,183,184,184,185,185,186,188,204,204,205,205,205,205,205,205,205,205,205,205,205,205,205,205,205,205,205,205,205,205,205,205,205,205,205,205,205,205,205,205,205,205,205,205,205,205,205,205,205,205,205,205,205,205,205,205,205,205,205,205,205,205,205,205,205,205,205,205,205,205,205,207,257,267,268,268,268,268,268,268,268,268,268,268,268,268,268,268,268,268,268,268,268,268,268,268,268,268,268,268,268,268,268,268,268,268,268,268,268,268,268,268,268,268,268,268,268,268,268,268,268,268,268,268,268,268,268,268,268,268,268,268,268,268,268,268,268,268,268,268,268,268,268,268,268,268,268,268,268,268,268,268,268,268,268,268,268,268,268,268,268,268,268,268,268,268,268,268,268,268,268,268,268,269,271,273,274,287,287,292,298,298,321,321,361,362,368,368,368,368,373,373,373,373,373,373,373,373,373,373,373,373,373,373,373,373,373,373,373,373,373,373,373,373,373,373,373,373,373,373,373,373,373,373,373,373,373,373,373,373,373,373,373,373,373,373,373,373,373,373,373,373,373,373,373,373,373,373,373,373,373,373,373,373,373,373,373,373,373,373,373,373,373,373,373,373,373,373,373,373,373,373,373]],[\"end\",[1,27,205,2,3,4,5,6,7,8,9,10,11,12,13,14,15,16,17,18,19,20,21,22,23,24,25,27,72,368,125,160,368,373,27,27,72,93,173,205,268,368,373,27,268,373,27,27,72,27,27,27,28,29,30,31,32,33,34,35,36,37,38,39,40,41,42,43,44,45,46,47,48,49,50,51,52,53,54,55,56,57,58,59,60,61,62,63,64,65,66,67,68,69,70,71,93,160,205,268,368,125,160,72,93,72,72,93,73,74,75,76,77,78,79,80,81,82,83,84,85,86,87,88,89,90,91,93,94,95,96,97,98,99,100,101,102,103,104,105,106,107,108,109,110,111,112,113,114,115,116,117,118,119,120,121,122,123,124,125,160,268,160,126,127,128,129,130,131,132,133,134,135,136,137,138,139,140,141,142,143,144,145,146,147,148,149,150,151,152,153,154,155,156,157,158,159,160,160,160,160,160,205,160,160,160,173,268,160,160,160,173,268,368,160,160,173,160,160,160,160,160,160,160,160,160,160,161,162,163,164,165,166,167,168,169,170,171,373,173,268,205,268,173,368,373,174,175,176,177,178,179,180,181,182,183,184,185,186,187,188,189,190,191,192,193,194,195,196,197,198,199,200,201,202,203,268,368,373,205,205,373,205,268,373,205,205,373,206,207,208,209,210,211,212,213,214,215,216,217,218,219,220,221,222,223,224,225,226,227,228,229,230,231,232,233,234,235,236,237,238,239,240,241,242,243,244,245,246,247,248,249,250,251,252,253,254,255,256,257,258,259,260,261,262,263,264,265,266,268,268,268,269,270,271,272,273,274,275,276,277,278,279,280,281,282,283,284,285,286,287,288,289,290,291,292,293,294,295,296,297,298,299,300,301,302,303,304,305,306,307,308,309,310,311,312,313,314,315,316,317,318,319,320,321,322,323,324,325,326,327,328,329,330,331,332,333,334,335,336,337,338,339,340,341,342,343,344,345,346,347,348,349,350,351,352,353,354,355,356,357,358,359,360,361,362,363,364,365,366,367,373,368,373,368,368,373,368,368,373,368,373,373,368,369,370,371,372,374,375,376,377,378,379,380,381,382,383,384,385,386,387,388,389,390,391,392,393,394,395,396,397,398,399,400,401,402,403,404,405,406,407,408,409,410,411,412,413,414,415,416,417,418,419,420,421,422,423,424,425,426,427,428,429,430,431,432,433,434,435,436,437,438,439,440,441,442,443,444,445,446,447,448,449,450,451,452,453,454,455,456]]]}}},\"view\":{\"type\":\"object\",\"name\":\"CDSView\",\"id\":\"p1059\",\"attributes\":{\"filter\":{\"type\":\"object\",\"name\":\"AllIndices\",\"id\":\"p1060\"}}},\"glyph\":{\"type\":\"object\",\"name\":\"MultiLine\",\"id\":\"p1085\",\"attributes\":{\"line_alpha\":{\"type\":\"value\",\"value\":0.3}}}}},\"selection_policy\":{\"type\":\"object\",\"name\":\"NodesOnly\",\"id\":\"p1061\"},\"inspection_policy\":{\"type\":\"object\",\"name\":\"NodesOnly\",\"id\":\"p1053\"}}}],\"toolbar\":{\"type\":\"object\",\"name\":\"Toolbar\",\"id\":\"p1012\",\"attributes\":{\"tools\":[{\"type\":\"object\",\"name\":\"PanTool\",\"id\":\"p1034\"},{\"type\":\"object\",\"name\":\"WheelZoomTool\",\"id\":\"p1035\"},{\"type\":\"object\",\"name\":\"SaveTool\",\"id\":\"p1036\"},{\"type\":\"object\",\"name\":\"ResetTool\",\"id\":\"p1037\"},{\"type\":\"object\",\"name\":\"HoverTool\",\"id\":\"p1038\",\"attributes\":{\"renderers\":\"auto\",\"tooltips\":[[\"Name\",\"@name\"],[\"Degree\",\"@degree\"]]}}],\"active_scroll\":{\"id\":\"p1035\"}}},\"left\":[{\"type\":\"object\",\"name\":\"LinearAxis\",\"id\":\"p1027\",\"attributes\":{\"ticker\":{\"type\":\"object\",\"name\":\"BasicTicker\",\"id\":\"p1030\",\"attributes\":{\"mantissas\":[1,2,5]}},\"formatter\":{\"type\":\"object\",\"name\":\"BasicTickFormatter\",\"id\":\"p1029\"},\"major_label_policy\":{\"type\":\"object\",\"name\":\"AllLabels\",\"id\":\"p1028\"}}}],\"below\":[{\"type\":\"object\",\"name\":\"LinearAxis\",\"id\":\"p1020\",\"attributes\":{\"ticker\":{\"type\":\"object\",\"name\":\"BasicTicker\",\"id\":\"p1023\",\"attributes\":{\"mantissas\":[1,2,5]}},\"formatter\":{\"type\":\"object\",\"name\":\"BasicTickFormatter\",\"id\":\"p1022\"},\"major_label_policy\":{\"type\":\"object\",\"name\":\"AllLabels\",\"id\":\"p1021\"}}}],\"center\":[{\"type\":\"object\",\"name\":\"Grid\",\"id\":\"p1026\",\"attributes\":{\"axis\":{\"id\":\"p1020\"}}},{\"type\":\"object\",\"name\":\"Grid\",\"id\":\"p1033\",\"attributes\":{\"dimension\":1,\"axis\":{\"id\":\"p1027\"}}}]}}],\"callbacks\":{\"type\":\"map\"}}};\n  const render_items = [{\"docid\":\"4292bc44-b303-46dd-a4ad-861324b0e5a4\",\"roots\":{\"p1004\":\"d561d613-82ce-42e7-a4cf-e25c6cd0cc64\"},\"root_ids\":[\"p1004\"]}];\n  root.Bokeh.embed.embed_items_notebook(docs_json, render_items);\n  }\n  if (root.Bokeh !== undefined) {\n    embed_document(root);\n  } else {\n    let attempts = 0;\n    const timer = setInterval(function(root) {\n      if (root.Bokeh !== undefined) {\n        clearInterval(timer);\n        embed_document(root);\n      } else {\n        attempts++;\n        if (attempts > 100) {\n          clearInterval(timer);\n          console.log(\"Bokeh: ERROR: Unable to run BokehJS code because BokehJS library is missing\");\n        }\n      }\n    }, 10, root)\n  }\n})(window);",
      "application/vnd.bokehjs_exec.v0+json": ""
     },
     "metadata": {
      "application/vnd.bokehjs_exec.v0+json": {
       "id": "p1004"
      }
     },
     "output_type": "display_data"
    }
   ],
   "source": [
    "from bokeh.models import Range1d, Circle, ColumnDataSource, MultiLine, NodesAndLinkedEdges, LabelSet\n",
    "from bokeh.palettes import Light3\n",
    "\n",
    "G = nx.from_pandas_edgelist(cast_df, 'person', 'title', 'character')\n",
    "\n",
    "degrees = dict(nx.degree(G))\n",
    "nx.set_node_attributes(G, name='degree', values=degrees)\n",
    "adjusted_node_size = dict([(node, 8*math.log(degree) + 5) for node, degree in nx.degree(G)])\n",
    "nx.set_node_attributes(G, name='adjusted_size', values=adjusted_node_size)\n",
    "\n",
    "node_colors = {} \n",
    "\n",
    "for node in G.nodes():\n",
    "    if node in list(movie_df['title']):\n",
    "        node_colors[node] = Light3[0]\n",
    "    else:\n",
    "        node_colors[node] = Light3[1]\n",
    "\n",
    "nx.set_node_attributes(G, name='color', values=node_colors)\n",
    "\n",
    "G = nx.convert_node_labels_to_integers(G, label_attribute='name')\n",
    "\n",
    "#Establish which categories will appear when hovering over each node\n",
    "HOVER_TOOLTIPS = [\n",
    "    (\"Name\", \"@name\"),\n",
    "    (\"Degree\", \"@degree\")\n",
    "]\n",
    "\n",
    "\n",
    "title = 'Tarantino Cast Network'\n",
    "\n",
    "plot = figure(tooltips = HOVER_TOOLTIPS,\n",
    "              tools=\"pan,wheel_zoom,save,reset\", active_scroll='wheel_zoom',\n",
    "              x_range=Range1d(-20.1, 20.1), y_range=Range1d(-20.1, 20.1), title=title)\n",
    "\n",
    "graph = from_networkx(G, nx.spring_layout, scale=20, center=(0,0))\n",
    "\n",
    "graph.node_renderer.glyph = Circle(size='adjusted_size', fill_color='color')\n",
    "\n",
    "graph.edge_renderer.glyph = MultiLine(line_alpha=0.3)\n",
    "\n",
    "plot.renderers.append(graph)\n",
    "\n",
    "show(plot)"
   ]
  },
  {
   "cell_type": "markdown",
   "id": "47249023",
   "metadata": {},
   "source": []
  },
  {
   "cell_type": "code",
   "execution_count": 20,
   "id": "90f0b0f2",
   "metadata": {},
   "outputs": [
    {
     "data": {
      "text/html": [
       "\n",
       "  <div id=\"0dd0b5ae-f17f-4f84-b4d6-01a525cd3a21\" data-root-id=\"p1771\" style=\"display: contents;\"></div>\n"
      ]
     },
     "metadata": {},
     "output_type": "display_data"
    },
    {
     "data": {
      "application/javascript": "(function(root) {\n  function embed_document(root) {\n  const docs_json = {\"bb2de156-678c-4392-b8cc-f3a0d07933b5\":{\"version\":\"3.1.0\",\"title\":\"Bokeh Application\",\"defs\":[],\"roots\":[{\"type\":\"object\",\"name\":\"Figure\",\"id\":\"p1771\",\"attributes\":{\"x_range\":{\"type\":\"object\",\"name\":\"Range1d\",\"id\":\"p1769\",\"attributes\":{\"start\":-20.1,\"end\":20.1}},\"y_range\":{\"type\":\"object\",\"name\":\"Range1d\",\"id\":\"p1770\",\"attributes\":{\"start\":-20.1,\"end\":20.1}},\"x_scale\":{\"type\":\"object\",\"name\":\"LinearScale\",\"id\":\"p1783\"},\"y_scale\":{\"type\":\"object\",\"name\":\"LinearScale\",\"id\":\"p1785\"},\"title\":{\"type\":\"object\",\"name\":\"Title\",\"id\":\"p1774\",\"attributes\":{\"text\":\"Tarantino Crew Network\"}},\"renderers\":[{\"type\":\"object\",\"name\":\"GraphRenderer\",\"id\":\"p1812\",\"attributes\":{\"layout_provider\":{\"type\":\"object\",\"name\":\"StaticLayoutProvider\",\"id\":\"p1843\",\"attributes\":{\"graph_layout\":{\"type\":\"map\",\"entries\":[[0,{\"type\":\"ndarray\",\"array\":{\"type\":\"bytes\",\"data\":\"AAAAoJAWoj8AAAAgs1y3vw==\"},\"shape\":[2],\"dtype\":\"float64\",\"order\":\"little\"}],[1,{\"type\":\"ndarray\",\"array\":{\"type\":\"bytes\",\"data\":\"AAAAIAmNJUAAAACgtZrwvw==\"},\"shape\":[2],\"dtype\":\"float64\",\"order\":\"little\"}],[2,{\"type\":\"ndarray\",\"array\":{\"type\":\"bytes\",\"data\":\"AAAA4J0O5L8AAACAienWvw==\"},\"shape\":[2],\"dtype\":\"float64\",\"order\":\"little\"}],[3,{\"type\":\"ndarray\",\"array\":{\"type\":\"bytes\",\"data\":\"AAAA4J8+978AAACgA4cUwA==\"},\"shape\":[2],\"dtype\":\"float64\",\"order\":\"little\"}],[4,{\"type\":\"ndarray\",\"array\":{\"type\":\"bytes\",\"data\":\"AAAAgNqL+78AAADgygfgPw==\"},\"shape\":[2],\"dtype\":\"float64\",\"order\":\"little\"}],[5,{\"type\":\"ndarray\",\"array\":{\"type\":\"bytes\",\"data\":\"AAAAgKlcL0AAAAAgzeAIQA==\"},\"shape\":[2],\"dtype\":\"float64\",\"order\":\"little\"}],[6,{\"type\":\"ndarray\",\"array\":{\"type\":\"bytes\",\"data\":\"AAAAoFTrMUAAAAAgJdChvw==\"},\"shape\":[2],\"dtype\":\"float64\",\"order\":\"little\"}],[7,{\"type\":\"ndarray\",\"array\":{\"type\":\"bytes\",\"data\":\"AAAAAGvv+D8AAADA3drAPw==\"},\"shape\":[2],\"dtype\":\"float64\",\"order\":\"little\"}],[8,{\"type\":\"ndarray\",\"array\":{\"type\":\"bytes\",\"data\":\"AAAAQBOMGEAAAAAg0aQXwA==\"},\"shape\":[2],\"dtype\":\"float64\",\"order\":\"little\"}],[9,{\"type\":\"ndarray\",\"array\":{\"type\":\"bytes\",\"data\":\"AAAA4Bn2GkAAAABAbLAYwA==\"},\"shape\":[2],\"dtype\":\"float64\",\"order\":\"little\"}],[10,{\"type\":\"ndarray\",\"array\":{\"type\":\"bytes\",\"data\":\"AAAAwG/y6b8AAACAFRYSwA==\"},\"shape\":[2],\"dtype\":\"float64\",\"order\":\"little\"}],[11,{\"type\":\"ndarray\",\"array\":{\"type\":\"bytes\",\"data\":\"AAAAIMjG6b8AAABgCi0SwA==\"},\"shape\":[2],\"dtype\":\"float64\",\"order\":\"little\"}],[12,{\"type\":\"ndarray\",\"array\":{\"type\":\"bytes\",\"data\":\"AAAAgCBL+D8AAABgl2q7Pw==\"},\"shape\":[2],\"dtype\":\"float64\",\"order\":\"little\"}],[13,{\"type\":\"ndarray\",\"array\":{\"type\":\"bytes\",\"data\":\"AAAAoL3JGkAAAADgXcIYwA==\"},\"shape\":[2],\"dtype\":\"float64\",\"order\":\"little\"}],[14,{\"type\":\"ndarray\",\"array\":{\"type\":\"bytes\",\"data\":\"AAAAwFEyMEAAAABAwDT8vw==\"},\"shape\":[2],\"dtype\":\"float64\",\"order\":\"little\"}],[15,{\"type\":\"ndarray\",\"array\":{\"type\":\"bytes\",\"data\":\"AAAA4NWVBkAAAAAgtigTwA==\"},\"shape\":[2],\"dtype\":\"float64\",\"order\":\"little\"}],[16,{\"type\":\"ndarray\",\"array\":{\"type\":\"bytes\",\"data\":\"AAAAwDRQLkAAAADAJD4AQA==\"},\"shape\":[2],\"dtype\":\"float64\",\"order\":\"little\"}],[17,{\"type\":\"ndarray\",\"array\":{\"type\":\"bytes\",\"data\":\"AAAAAEFgMEAAAACAAPwFQA==\"},\"shape\":[2],\"dtype\":\"float64\",\"order\":\"little\"}],[18,{\"type\":\"ndarray\",\"array\":{\"type\":\"bytes\",\"data\":\"AAAAYC+RFEAAAADA4v74vw==\"},\"shape\":[2],\"dtype\":\"float64\",\"order\":\"little\"}],[19,{\"type\":\"ndarray\",\"array\":{\"type\":\"bytes\",\"data\":\"AAAAQPju9r8AAAAgdYYUwA==\"},\"shape\":[2],\"dtype\":\"float64\",\"order\":\"little\"}],[20,{\"type\":\"ndarray\",\"array\":{\"type\":\"bytes\",\"data\":\"AAAAoPIE8z8AAADAyN/dvw==\"},\"shape\":[2],\"dtype\":\"float64\",\"order\":\"little\"}],[21,{\"type\":\"ndarray\",\"array\":{\"type\":\"bytes\",\"data\":\"AAAAYMrWMUAAAACAie/VPw==\"},\"shape\":[2],\"dtype\":\"float64\",\"order\":\"little\"}],[22,{\"type\":\"ndarray\",\"array\":{\"type\":\"bytes\",\"data\":\"AAAAIE2fMEAAAAAgEkixPw==\"},\"shape\":[2],\"dtype\":\"float64\",\"order\":\"little\"}],[23,{\"type\":\"ndarray\",\"array\":{\"type\":\"bytes\",\"data\":\"AAAAQI7+GkAAAABAMUYawA==\"},\"shape\":[2],\"dtype\":\"float64\",\"order\":\"little\"}],[24,{\"type\":\"ndarray\",\"array\":{\"type\":\"bytes\",\"data\":\"AAAAYFPh978AAACgosQUwA==\"},\"shape\":[2],\"dtype\":\"float64\",\"order\":\"little\"}],[25,{\"type\":\"ndarray\",\"array\":{\"type\":\"bytes\",\"data\":\"AAAAIDlHA0AAAADA59QYwA==\"},\"shape\":[2],\"dtype\":\"float64\",\"order\":\"little\"}],[26,{\"type\":\"ndarray\",\"array\":{\"type\":\"bytes\",\"data\":\"AAAAoFFnL0AAAAAgKRP/vw==\"},\"shape\":[2],\"dtype\":\"float64\",\"order\":\"little\"}],[27,{\"type\":\"ndarray\",\"array\":{\"type\":\"bytes\",\"data\":\"AAAAQNLiMUAAAAAAHeravw==\"},\"shape\":[2],\"dtype\":\"float64\",\"order\":\"little\"}],[28,{\"type\":\"ndarray\",\"array\":{\"type\":\"bytes\",\"data\":\"AAAAAOUjMUAAAACgkN7Yvw==\"},\"shape\":[2],\"dtype\":\"float64\",\"order\":\"little\"}],[29,{\"type\":\"ndarray\",\"array\":{\"type\":\"bytes\",\"data\":\"AAAA4DElGEAAAACAEG8XwA==\"},\"shape\":[2],\"dtype\":\"float64\",\"order\":\"little\"}],[30,{\"type\":\"ndarray\",\"array\":{\"type\":\"bytes\",\"data\":\"AAAAQCZEMUAAAAAACwkCQA==\"},\"shape\":[2],\"dtype\":\"float64\",\"order\":\"little\"}],[31,{\"type\":\"ndarray\",\"array\":{\"type\":\"bytes\",\"data\":\"AAAAIBzPMUAAAAAAgtfmPw==\"},\"shape\":[2],\"dtype\":\"float64\",\"order\":\"little\"}],[32,{\"type\":\"ndarray\",\"array\":{\"type\":\"bytes\",\"data\":\"AAAAoObcLkAAAADAaePoPw==\"},\"shape\":[2],\"dtype\":\"float64\",\"order\":\"little\"}],[33,{\"type\":\"ndarray\",\"array\":{\"type\":\"bytes\",\"data\":\"AAAA4HccGkAAAABgZ5IRQA==\"},\"shape\":[2],\"dtype\":\"float64\",\"order\":\"little\"}],[34,{\"type\":\"ndarray\",\"array\":{\"type\":\"bytes\",\"data\":\"AAAAwCdjMUAAAABAb/Opvw==\"},\"shape\":[2],\"dtype\":\"float64\",\"order\":\"little\"}],[35,{\"type\":\"ndarray\",\"array\":{\"type\":\"bytes\",\"data\":\"AAAAYF3aMEAAAAAgr9T3vw==\"},\"shape\":[2],\"dtype\":\"float64\",\"order\":\"little\"}],[36,{\"type\":\"ndarray\",\"array\":{\"type\":\"bytes\",\"data\":\"AAAAgO9RMUAAAADgns7lPw==\"},\"shape\":[2],\"dtype\":\"float64\",\"order\":\"little\"}],[37,{\"type\":\"ndarray\",\"array\":{\"type\":\"bytes\",\"data\":\"AAAAANwvG0AAAABAtCsawA==\"},\"shape\":[2],\"dtype\":\"float64\",\"order\":\"little\"}],[38,{\"type\":\"ndarray\",\"array\":{\"type\":\"bytes\",\"data\":\"AAAAgOjiMEAAAABgagoDQA==\"},\"shape\":[2],\"dtype\":\"float64\",\"order\":\"little\"}],[39,{\"type\":\"ndarray\",\"array\":{\"type\":\"bytes\",\"data\":\"AAAAIC1jMEAAAADAikzSvw==\"},\"shape\":[2],\"dtype\":\"float64\",\"order\":\"little\"}],[40,{\"type\":\"ndarray\",\"array\":{\"type\":\"bytes\",\"data\":\"AAAA4PjzLkAAAADAAzr0Pw==\"},\"shape\":[2],\"dtype\":\"float64\",\"order\":\"little\"}],[41,{\"type\":\"ndarray\",\"array\":{\"type\":\"bytes\",\"data\":\"AAAA4A1GMEAAAADA84P1vw==\"},\"shape\":[2],\"dtype\":\"float64\",\"order\":\"little\"}],[42,{\"type\":\"ndarray\",\"array\":{\"type\":\"bytes\",\"data\":\"AAAAgE3y6b8AAACAJxYSwA==\"},\"shape\":[2],\"dtype\":\"float64\",\"order\":\"little\"}],[43,{\"type\":\"ndarray\",\"array\":{\"type\":\"bytes\",\"data\":\"AAAAQKHsL0AAAACAahsEQA==\"},\"shape\":[2],\"dtype\":\"float64\",\"order\":\"little\"}],[44,{\"type\":\"ndarray\",\"array\":{\"type\":\"bytes\",\"data\":\"AAAAIMqIMEAAAADgjhr3Pw==\"},\"shape\":[2],\"dtype\":\"float64\",\"order\":\"little\"}],[45,{\"type\":\"ndarray\",\"array\":{\"type\":\"bytes\",\"data\":\"AAAAIGMlA0AAAABA334WwA==\"},\"shape\":[2],\"dtype\":\"float64\",\"order\":\"little\"}],[46,{\"type\":\"ndarray\",\"array\":{\"type\":\"bytes\",\"data\":\"AAAA4D0HMUAAAACAvvv6Pw==\"},\"shape\":[2],\"dtype\":\"float64\",\"order\":\"little\"}],[47,{\"type\":\"ndarray\",\"array\":{\"type\":\"bytes\",\"data\":\"AAAAICu0MEAAAADAgKnwvw==\"},\"shape\":[2],\"dtype\":\"float64\",\"order\":\"little\"}],[48,{\"type\":\"ndarray\",\"array\":{\"type\":\"bytes\",\"data\":\"AAAAYJpxGUAAAACgawEXwA==\"},\"shape\":[2],\"dtype\":\"float64\",\"order\":\"little\"}],[49,{\"type\":\"ndarray\",\"array\":{\"type\":\"bytes\",\"data\":\"AAAA4EQwMUAAAAAAxl3zPw==\"},\"shape\":[2],\"dtype\":\"float64\",\"order\":\"little\"}],[50,{\"type\":\"ndarray\",\"array\":{\"type\":\"bytes\",\"data\":\"AAAAwH6BMEAAAAAAdtHfPw==\"},\"shape\":[2],\"dtype\":\"float64\",\"order\":\"little\"}],[51,{\"type\":\"ndarray\",\"array\":{\"type\":\"bytes\",\"data\":\"AAAAgE6TMUAAAABAuUT3Pw==\"},\"shape\":[2],\"dtype\":\"float64\",\"order\":\"little\"}],[52,{\"type\":\"ndarray\",\"array\":{\"type\":\"bytes\",\"data\":\"AAAAgKcZGUAAAADAOAwZwA==\"},\"shape\":[2],\"dtype\":\"float64\",\"order\":\"little\"}],[53,{\"type\":\"ndarray\",\"array\":{\"type\":\"bytes\",\"data\":\"AAAAAL/wL0AAAABgEBrwvw==\"},\"shape\":[2],\"dtype\":\"float64\",\"order\":\"little\"}],[54,{\"type\":\"ndarray\",\"array\":{\"type\":\"bytes\",\"data\":\"AAAAwGzTMEAAAAAA5/D/vw==\"},\"shape\":[2],\"dtype\":\"float64\",\"order\":\"little\"}],[55,{\"type\":\"ndarray\",\"array\":{\"type\":\"bytes\",\"data\":\"AAAAAA9KMUAAAAAAxhz9vw==\"},\"shape\":[2],\"dtype\":\"float64\",\"order\":\"little\"}],[56,{\"type\":\"ndarray\",\"array\":{\"type\":\"bytes\",\"data\":\"AAAAAEvHMUAAAACADmnyvw==\"},\"shape\":[2],\"dtype\":\"float64\",\"order\":\"little\"}],[57,{\"type\":\"ndarray\",\"array\":{\"type\":\"bytes\",\"data\":\"AAAAAK5+MUAAAAAghvb9Pw==\"},\"shape\":[2],\"dtype\":\"float64\",\"order\":\"little\"}],[58,{\"type\":\"ndarray\",\"array\":{\"type\":\"bytes\",\"data\":\"AAAAoCkfMEAAAADAONoIQA==\"},\"shape\":[2],\"dtype\":\"float64\",\"order\":\"little\"}],[59,{\"type\":\"ndarray\",\"array\":{\"type\":\"bytes\",\"data\":\"AAAAoMycMEAAAABAzUf+Pw==\"},\"shape\":[2],\"dtype\":\"float64\",\"order\":\"little\"}],[60,{\"type\":\"ndarray\",\"array\":{\"type\":\"bytes\",\"data\":\"AAAAwIAUL0AAAAAgytMDQA==\"},\"shape\":[2],\"dtype\":\"float64\",\"order\":\"little\"}],[61,{\"type\":\"ndarray\",\"array\":{\"type\":\"bytes\",\"data\":\"AAAA4PpYMEAAAADgctcBQA==\"},\"shape\":[2],\"dtype\":\"float64\",\"order\":\"little\"}],[62,{\"type\":\"ndarray\",\"array\":{\"type\":\"bytes\",\"data\":\"AAAAgAm7MEAAAADg+X7jvw==\"},\"shape\":[2],\"dtype\":\"float64\",\"order\":\"little\"}],[63,{\"type\":\"ndarray\",\"array\":{\"type\":\"bytes\",\"data\":\"AAAAAK/kL0AAAADgAfPivw==\"},\"shape\":[2],\"dtype\":\"float64\",\"order\":\"little\"}],[64,{\"type\":\"ndarray\",\"array\":{\"type\":\"bytes\",\"data\":\"AAAAoID9LkAAAABgsCX8Pw==\"},\"shape\":[2],\"dtype\":\"float64\",\"order\":\"little\"}],[65,{\"type\":\"ndarray\",\"array\":{\"type\":\"bytes\",\"data\":\"AAAAYGXGL0AAAABArDievw==\"},\"shape\":[2],\"dtype\":\"float64\",\"order\":\"little\"}],[66,{\"type\":\"ndarray\",\"array\":{\"type\":\"bytes\",\"data\":\"AAAA4IASL0AAAAAgFlDSPw==\"},\"shape\":[2],\"dtype\":\"float64\",\"order\":\"little\"}],[67,{\"type\":\"ndarray\",\"array\":{\"type\":\"bytes\",\"data\":\"AAAAwEo+MUAAAADg9rftvw==\"},\"shape\":[2],\"dtype\":\"float64\",\"order\":\"little\"}],[68,{\"type\":\"ndarray\",\"array\":{\"type\":\"bytes\",\"data\":\"AAAAwOTJMEAAAAAg4oYGQA==\"},\"shape\":[2],\"dtype\":\"float64\",\"order\":\"little\"}],[69,{\"type\":\"ndarray\",\"array\":{\"type\":\"bytes\",\"data\":\"AAAAgJ37L0AAAABAHnTjPw==\"},\"shape\":[2],\"dtype\":\"float64\",\"order\":\"little\"}],[70,{\"type\":\"ndarray\",\"array\":{\"type\":\"bytes\",\"data\":\"AAAAwFbcMEAAAADgxcPsPw==\"},\"shape\":[2],\"dtype\":\"float64\",\"order\":\"little\"}],[71,{\"type\":\"ndarray\",\"array\":{\"type\":\"bytes\",\"data\":\"AAAA4Gz7L0AAAACg+S31Pw==\"},\"shape\":[2],\"dtype\":\"float64\",\"order\":\"little\"}],[72,{\"type\":\"ndarray\",\"array\":{\"type\":\"bytes\",\"data\":\"AAAAYPhuMUAAAADgD7r2vw==\"},\"shape\":[2],\"dtype\":\"float64\",\"order\":\"little\"}],[73,{\"type\":\"ndarray\",\"array\":{\"type\":\"bytes\",\"data\":\"AAAAgMGyMUAAAACAZCDnvw==\"},\"shape\":[2],\"dtype\":\"float64\",\"order\":\"little\"}],[74,{\"type\":\"ndarray\",\"array\":{\"type\":\"bytes\",\"data\":\"AAAAgNIYL0AAAAAAVOH1vw==\"},\"shape\":[2],\"dtype\":\"float64\",\"order\":\"little\"}],[75,{\"type\":\"ndarray\",\"array\":{\"type\":\"bytes\",\"data\":\"AAAAYEjtLkAAAAAANQLgvw==\"},\"shape\":[2],\"dtype\":\"float64\",\"order\":\"little\"}],[76,{\"type\":\"ndarray\",\"array\":{\"type\":\"bytes\",\"data\":\"AAAAYOjPMUAAAADg4OnxPw==\"},\"shape\":[2],\"dtype\":\"float64\",\"order\":\"little\"}],[77,{\"type\":\"ndarray\",\"array\":{\"type\":\"bytes\",\"data\":\"AAAAgJ8XMUAAAACgVAfTPw==\"},\"shape\":[2],\"dtype\":\"float64\",\"order\":\"little\"}],[78,{\"type\":\"ndarray\",\"array\":{\"type\":\"bytes\",\"data\":\"AAAAwJaWLkAAAAAgkwoHQA==\"},\"shape\":[2],\"dtype\":\"float64\",\"order\":\"little\"}],[79,{\"type\":\"ndarray\",\"array\":{\"type\":\"bytes\",\"data\":\"AAAAwPxZMEAAAACAOG8BwA==\"},\"shape\":[2],\"dtype\":\"float64\",\"order\":\"little\"}],[80,{\"type\":\"ndarray\",\"array\":{\"type\":\"bytes\",\"data\":\"AAAAYB9dMEAAAABgjQbwPw==\"},\"shape\":[2],\"dtype\":\"float64\",\"order\":\"little\"}],[81,{\"type\":\"ndarray\",\"array\":{\"type\":\"bytes\",\"data\":\"AAAAAM7lL0AAAAAAqar9Pw==\"},\"shape\":[2],\"dtype\":\"float64\",\"order\":\"little\"}],[82,{\"type\":\"ndarray\",\"array\":{\"type\":\"bytes\",\"data\":\"AAAAQNKt6j8AAAAAPzUjwA==\"},\"shape\":[2],\"dtype\":\"float64\",\"order\":\"little\"}],[83,{\"type\":\"ndarray\",\"array\":{\"type\":\"bytes\",\"data\":\"AAAA4KG+GcAAAAAAbncgwA==\"},\"shape\":[2],\"dtype\":\"float64\",\"order\":\"little\"}],[84,{\"type\":\"ndarray\",\"array\":{\"type\":\"bytes\",\"data\":\"AAAA4Jmv+j8AAACgHtAtwA==\"},\"shape\":[2],\"dtype\":\"float64\",\"order\":\"little\"}],[85,{\"type\":\"ndarray\",\"array\":{\"type\":\"bytes\",\"data\":\"AAAAYMapwL8AAADgPdEqwA==\"},\"shape\":[2],\"dtype\":\"float64\",\"order\":\"little\"}],[86,{\"type\":\"ndarray\",\"array\":{\"type\":\"bytes\",\"data\":\"AAAAQOFy7r8AAABgKp33Pw==\"},\"shape\":[2],\"dtype\":\"float64\",\"order\":\"little\"}],[87,{\"type\":\"ndarray\",\"array\":{\"type\":\"bytes\",\"data\":\"AAAAAK3u778AAABAlD32Pw==\"},\"shape\":[2],\"dtype\":\"float64\",\"order\":\"little\"}],[88,{\"type\":\"ndarray\",\"array\":{\"type\":\"bytes\",\"data\":\"AAAAIJKBCMAAAADgvrskwA==\"},\"shape\":[2],\"dtype\":\"float64\",\"order\":\"little\"}],[89,{\"type\":\"ndarray\",\"array\":{\"type\":\"bytes\",\"data\":\"AAAAIAtdA0AAAAAgVoouwA==\"},\"shape\":[2],\"dtype\":\"float64\",\"order\":\"little\"}],[90,{\"type\":\"ndarray\",\"array\":{\"type\":\"bytes\",\"data\":\"AAAAgHSX5r8AAADAFiYLwA==\"},\"shape\":[2],\"dtype\":\"float64\",\"order\":\"little\"}],[91,{\"type\":\"ndarray\",\"array\":{\"type\":\"bytes\",\"data\":\"AAAAoFKPAEAAAACgne4CwA==\"},\"shape\":[2],\"dtype\":\"float64\",\"order\":\"little\"}],[92,{\"type\":\"ndarray\",\"array\":{\"type\":\"bytes\",\"data\":\"AAAAACtLCMAAAABAVpslwA==\"},\"shape\":[2],\"dtype\":\"float64\",\"order\":\"little\"}],[93,{\"type\":\"ndarray\",\"array\":{\"type\":\"bytes\",\"data\":\"AAAAYC+fCUAAAABAdeUqwA==\"},\"shape\":[2],\"dtype\":\"float64\",\"order\":\"little\"}],[94,{\"type\":\"ndarray\",\"array\":{\"type\":\"bytes\",\"data\":\"AAAAwJa2/j8AAACgYN0uwA==\"},\"shape\":[2],\"dtype\":\"float64\",\"order\":\"little\"}],[95,{\"type\":\"ndarray\",\"array\":{\"type\":\"bytes\",\"data\":\"AAAAoJvy8z8AAABAzDwtwA==\"},\"shape\":[2],\"dtype\":\"float64\",\"order\":\"little\"}],[96,{\"type\":\"ndarray\",\"array\":{\"type\":\"bytes\",\"data\":\"AAAA4IazBkAAAABACWcswA==\"},\"shape\":[2],\"dtype\":\"float64\",\"order\":\"little\"}],[97,{\"type\":\"ndarray\",\"array\":{\"type\":\"bytes\",\"data\":\"AAAAgAclEkAAAADgsooowA==\"},\"shape\":[2],\"dtype\":\"float64\",\"order\":\"little\"}],[98,{\"type\":\"ndarray\",\"array\":{\"type\":\"bytes\",\"data\":\"AAAAYIsI9j8AAACAlfwowA==\"},\"shape\":[2],\"dtype\":\"float64\",\"order\":\"little\"}],[99,{\"type\":\"ndarray\",\"array\":{\"type\":\"bytes\",\"data\":\"AAAAAHIu8T8AAAAgi04qwA==\"},\"shape\":[2],\"dtype\":\"float64\",\"order\":\"little\"}],[100,{\"type\":\"ndarray\",\"array\":{\"type\":\"bytes\",\"data\":\"AAAAQOhJCMAAAAAAs58mwA==\"},\"shape\":[2],\"dtype\":\"float64\",\"order\":\"little\"}],[101,{\"type\":\"ndarray\",\"array\":{\"type\":\"bytes\",\"data\":\"AAAA4B2xB0AAAACggDAwwA==\"},\"shape\":[2],\"dtype\":\"float64\",\"order\":\"little\"}],[102,{\"type\":\"ndarray\",\"array\":{\"type\":\"bytes\",\"data\":\"AAAA4ExQxL8AAADgsGnxvw==\"},\"shape\":[2],\"dtype\":\"float64\",\"order\":\"little\"}],[103,{\"type\":\"ndarray\",\"array\":{\"type\":\"bytes\",\"data\":\"AAAAIFvExL8AAACAFckuwA==\"},\"shape\":[2],\"dtype\":\"float64\",\"order\":\"little\"}],[104,{\"type\":\"ndarray\",\"array\":{\"type\":\"bytes\",\"data\":\"AAAAoFChAEAAAACgQ3grwA==\"},\"shape\":[2],\"dtype\":\"float64\",\"order\":\"little\"}],[105,{\"type\":\"ndarray\",\"array\":{\"type\":\"bytes\",\"data\":\"AAAAALciCEAAAADgg+0pwA==\"},\"shape\":[2],\"dtype\":\"float64\",\"order\":\"little\"}],[106,{\"type\":\"ndarray\",\"array\":{\"type\":\"bytes\",\"data\":\"AAAAwJ2QDkAAAACAMlYtwA==\"},\"shape\":[2],\"dtype\":\"float64\",\"order\":\"little\"}],[107,{\"type\":\"ndarray\",\"array\":{\"type\":\"bytes\",\"data\":\"AAAA4KOC4z8AAAAANp4swA==\"},\"shape\":[2],\"dtype\":\"float64\",\"order\":\"little\"}],[108,{\"type\":\"ndarray\",\"array\":{\"type\":\"bytes\",\"data\":\"AAAAIGuCEEAAAACgxTMtwA==\"},\"shape\":[2],\"dtype\":\"float64\",\"order\":\"little\"}],[109,{\"type\":\"ndarray\",\"array\":{\"type\":\"bytes\",\"data\":\"AAAAYGNcHMAAAACgVSYIwA==\"},\"shape\":[2],\"dtype\":\"float64\",\"order\":\"little\"}],[110,{\"type\":\"ndarray\",\"array\":{\"type\":\"bytes\",\"data\":\"AAAAoDpCEUAAAACAfb4uwA==\"},\"shape\":[2],\"dtype\":\"float64\",\"order\":\"little\"}],[111,{\"type\":\"ndarray\",\"array\":{\"type\":\"bytes\",\"data\":\"AAAAAPPi5L8AAADgdWcrwA==\"},\"shape\":[2],\"dtype\":\"float64\",\"order\":\"little\"}],[112,{\"type\":\"ndarray\",\"array\":{\"type\":\"bytes\",\"data\":\"AAAAgJxiCEAAAAAAnBcuwA==\"},\"shape\":[2],\"dtype\":\"float64\",\"order\":\"little\"}],[113,{\"type\":\"ndarray\",\"array\":{\"type\":\"bytes\",\"data\":\"AAAAIMGP4L8AAAAAbEAswA==\"},\"shape\":[2],\"dtype\":\"float64\",\"order\":\"little\"}],[114,{\"type\":\"ndarray\",\"array\":{\"type\":\"bytes\",\"data\":\"AAAAoA/CBcAAAABAphknwA==\"},\"shape\":[2],\"dtype\":\"float64\",\"order\":\"little\"}],[115,{\"type\":\"ndarray\",\"array\":{\"type\":\"bytes\",\"data\":\"AAAAwMlg/T8AAAAgPl0wwA==\"},\"shape\":[2],\"dtype\":\"float64\",\"order\":\"little\"}],[116,{\"type\":\"ndarray\",\"array\":{\"type\":\"bytes\",\"data\":\"AAAAQH41GsAAAABAzZkfwA==\"},\"shape\":[2],\"dtype\":\"float64\",\"order\":\"little\"}],[117,{\"type\":\"ndarray\",\"array\":{\"type\":\"bytes\",\"data\":\"AAAA4JjdBUAAAAAA5EAvwA==\"},\"shape\":[2],\"dtype\":\"float64\",\"order\":\"little\"}],[118,{\"type\":\"ndarray\",\"array\":{\"type\":\"bytes\",\"data\":\"AAAAwG7Pwr8AAABA/uHwvw==\"},\"shape\":[2],\"dtype\":\"float64\",\"order\":\"little\"}],[119,{\"type\":\"ndarray\",\"array\":{\"type\":\"bytes\",\"data\":\"AAAA4IPpGMAAAACgZH0ewA==\"},\"shape\":[2],\"dtype\":\"float64\",\"order\":\"little\"}],[120,{\"type\":\"ndarray\",\"array\":{\"type\":\"bytes\",\"data\":\"AAAA4LBx/z8AAACgiawswA==\"},\"shape\":[2],\"dtype\":\"float64\",\"order\":\"little\"}],[121,{\"type\":\"ndarray\",\"array\":{\"type\":\"bytes\",\"data\":\"AAAAwJFA8D8AAABApOQvwA==\"},\"shape\":[2],\"dtype\":\"float64\",\"order\":\"little\"}],[122,{\"type\":\"ndarray\",\"array\":{\"type\":\"bytes\",\"data\":\"AAAAQPfO1j8AAACAmR8qwA==\"},\"shape\":[2],\"dtype\":\"float64\",\"order\":\"little\"}],[123,{\"type\":\"ndarray\",\"array\":{\"type\":\"bytes\",\"data\":\"AAAAoOek/z8AAABA+8gvwA==\"},\"shape\":[2],\"dtype\":\"float64\",\"order\":\"little\"}],[124,{\"type\":\"ndarray\",\"array\":{\"type\":\"bytes\",\"data\":\"AAAAQPeo9z8AAADAAf0rwA==\"},\"shape\":[2],\"dtype\":\"float64\",\"order\":\"little\"}],[125,{\"type\":\"ndarray\",\"array\":{\"type\":\"bytes\",\"data\":\"AAAAYKLq9z8AAABAw7MvwA==\"},\"shape\":[2],\"dtype\":\"float64\",\"order\":\"little\"}],[126,{\"type\":\"ndarray\",\"array\":{\"type\":\"bytes\",\"data\":\"AAAAgCdHE0AAAABge28swA==\"},\"shape\":[2],\"dtype\":\"float64\",\"order\":\"little\"}],[127,{\"type\":\"ndarray\",\"array\":{\"type\":\"bytes\",\"data\":\"AAAAoO8zFEAAAADAo4MrwA==\"},\"shape\":[2],\"dtype\":\"float64\",\"order\":\"little\"}],[128,{\"type\":\"ndarray\",\"array\":{\"type\":\"bytes\",\"data\":\"AAAAAPcxBcAAAAAAxY8lwA==\"},\"shape\":[2],\"dtype\":\"float64\",\"order\":\"little\"}],[129,{\"type\":\"ndarray\",\"array\":{\"type\":\"bytes\",\"data\":\"AAAAIKd5DkAAAABg24ErwA==\"},\"shape\":[2],\"dtype\":\"float64\",\"order\":\"little\"}],[130,{\"type\":\"ndarray\",\"array\":{\"type\":\"bytes\",\"data\":\"AAAAgKHVs78AAAAgYbYvwA==\"},\"shape\":[2],\"dtype\":\"float64\",\"order\":\"little\"}],[131,{\"type\":\"ndarray\",\"array\":{\"type\":\"bytes\",\"data\":\"AAAAYHP89T8AAAAgxdEuwA==\"},\"shape\":[2],\"dtype\":\"float64\",\"order\":\"little\"}],[132,{\"type\":\"ndarray\",\"array\":{\"type\":\"bytes\",\"data\":\"AAAAQNoV7z8AAABgjF0uwA==\"},\"shape\":[2],\"dtype\":\"float64\",\"order\":\"little\"}],[133,{\"type\":\"ndarray\",\"array\":{\"type\":\"bytes\",\"data\":\"AAAAgPRoD0AAAAAgjbUuwA==\"},\"shape\":[2],\"dtype\":\"float64\",\"order\":\"little\"}],[134,{\"type\":\"ndarray\",\"array\":{\"type\":\"bytes\",\"data\":\"AAAAgD0p5z8AAABgsUAwwA==\"},\"shape\":[2],\"dtype\":\"float64\",\"order\":\"little\"}],[135,{\"type\":\"ndarray\",\"array\":{\"type\":\"bytes\",\"data\":\"AAAAwCkaAUAAAADg37DUvw==\"},\"shape\":[2],\"dtype\":\"float64\",\"order\":\"little\"}],[136,{\"type\":\"ndarray\",\"array\":{\"type\":\"bytes\",\"data\":\"AAAAQPvbEEAAAADATnIpwA==\"},\"shape\":[2],\"dtype\":\"float64\",\"order\":\"little\"}],[137,{\"type\":\"ndarray\",\"array\":{\"type\":\"bytes\",\"data\":\"AAAAYLAW1D8AAABAJnkuwA==\"},\"shape\":[2],\"dtype\":\"float64\",\"order\":\"little\"}],[138,{\"type\":\"ndarray\",\"array\":{\"type\":\"bytes\",\"data\":\"AAAAgAV3BEAAAADgRoMrwA==\"},\"shape\":[2],\"dtype\":\"float64\",\"order\":\"little\"}],[139,{\"type\":\"ndarray\",\"array\":{\"type\":\"bytes\",\"data\":\"AAAAwKWiGMAAAAAAt7QfwA==\"},\"shape\":[2],\"dtype\":\"float64\",\"order\":\"little\"}],[140,{\"type\":\"ndarray\",\"array\":{\"type\":\"bytes\",\"data\":\"AAAAILKq/j8AAACAXMQpwA==\"},\"shape\":[2],\"dtype\":\"float64\",\"order\":\"little\"}],[141,{\"type\":\"ndarray\",\"array\":{\"type\":\"bytes\",\"data\":\"AAAAwE51BcAAAABgHYYkwA==\"},\"shape\":[2],\"dtype\":\"float64\",\"order\":\"little\"}],[142,{\"type\":\"ndarray\",\"array\":{\"type\":\"bytes\",\"data\":\"AAAAgIaeEkAAAABAqXgqwA==\"},\"shape\":[2],\"dtype\":\"float64\",\"order\":\"little\"}],[143,{\"type\":\"ndarray\",\"array\":{\"type\":\"bytes\",\"data\":\"AAAAQGUn0r8AAADASCYtwA==\"},\"shape\":[2],\"dtype\":\"float64\",\"order\":\"little\"}],[144,{\"type\":\"ndarray\",\"array\":{\"type\":\"bytes\",\"data\":\"AAAA4PYb5T8AAAAAUkorwA==\"},\"shape\":[2],\"dtype\":\"float64\",\"order\":\"little\"}],[145,{\"type\":\"ndarray\",\"array\":{\"type\":\"bytes\",\"data\":\"AAAAoBBS5z8AAACAgGUtwA==\"},\"shape\":[2],\"dtype\":\"float64\",\"order\":\"little\"}],[146,{\"type\":\"ndarray\",\"array\":{\"type\":\"bytes\",\"data\":\"AAAA4A4VBMAAAABASUAmwA==\"},\"shape\":[2],\"dtype\":\"float64\",\"order\":\"little\"}],[147,{\"type\":\"ndarray\",\"array\":{\"type\":\"bytes\",\"data\":\"AAAAYK41GsAAAACgpIkdwA==\"},\"shape\":[2],\"dtype\":\"float64\",\"order\":\"little\"}],[148,{\"type\":\"ndarray\",\"array\":{\"type\":\"bytes\",\"data\":\"AAAAQDrQGMAAAADgTV8cwA==\"},\"shape\":[2],\"dtype\":\"float64\",\"order\":\"little\"}],[149,{\"type\":\"ndarray\",\"array\":{\"type\":\"bytes\",\"data\":\"AAAAQO/PGMAAAACgcF8cwA==\"},\"shape\":[2],\"dtype\":\"float64\",\"order\":\"little\"}],[150,{\"type\":\"ndarray\",\"array\":{\"type\":\"bytes\",\"data\":\"AAAAgDMlA0AAAAAAj1swwA==\"},\"shape\":[2],\"dtype\":\"float64\",\"order\":\"little\"}],[151,{\"type\":\"ndarray\",\"array\":{\"type\":\"bytes\",\"data\":\"AAAAgKIEEEAAAACAQj4owA==\"},\"shape\":[2],\"dtype\":\"float64\",\"order\":\"little\"}],[152,{\"type\":\"ndarray\",\"array\":{\"type\":\"bytes\",\"data\":\"AAAAYPNDD0AAAACgAX4qwA==\"},\"shape\":[2],\"dtype\":\"float64\",\"order\":\"little\"}],[153,{\"type\":\"ndarray\",\"array\":{\"type\":\"bytes\",\"data\":\"AAAA4DaIGsAAAAAgE28fwA==\"},\"shape\":[2],\"dtype\":\"float64\",\"order\":\"little\"}],[154,{\"type\":\"ndarray\",\"array\":{\"type\":\"bytes\",\"data\":\"AAAAwJpHtT8AAACAnqwtwA==\"},\"shape\":[2],\"dtype\":\"float64\",\"order\":\"little\"}],[155,{\"type\":\"ndarray\",\"array\":{\"type\":\"bytes\",\"data\":\"AAAAYDp+CUAAAAAAGoUvwA==\"},\"shape\":[2],\"dtype\":\"float64\",\"order\":\"little\"}],[156,{\"type\":\"ndarray\",\"array\":{\"type\":\"bytes\",\"data\":\"AAAAoBBeBUAAAAAgOlotwA==\"},\"shape\":[2],\"dtype\":\"float64\",\"order\":\"little\"}],[157,{\"type\":\"ndarray\",\"array\":{\"type\":\"bytes\",\"data\":\"AAAAIDFvA0AAAAAA590vwA==\"},\"shape\":[2],\"dtype\":\"float64\",\"order\":\"little\"}],[158,{\"type\":\"ndarray\",\"array\":{\"type\":\"bytes\",\"data\":\"AAAA4DjzDEAAAACAddQvwA==\"},\"shape\":[2],\"dtype\":\"float64\",\"order\":\"little\"}],[159,{\"type\":\"ndarray\",\"array\":{\"type\":\"bytes\",\"data\":\"AAAAQCQM478AAAAA2KsuwA==\"},\"shape\":[2],\"dtype\":\"float64\",\"order\":\"little\"}],[160,{\"type\":\"ndarray\",\"array\":{\"type\":\"bytes\",\"data\":\"AAAAgGPqBEAAAACA7JIowA==\"},\"shape\":[2],\"dtype\":\"float64\",\"order\":\"little\"}],[161,{\"type\":\"ndarray\",\"array\":{\"type\":\"bytes\",\"data\":\"AAAAwGsWGsAAAADgcqEdwA==\"},\"shape\":[2],\"dtype\":\"float64\",\"order\":\"little\"}],[162,{\"type\":\"ndarray\",\"array\":{\"type\":\"bytes\",\"data\":\"AAAAQHCH5D8AAABApBAvwA==\"},\"shape\":[2],\"dtype\":\"float64\",\"order\":\"little\"}],[163,{\"type\":\"ndarray\",\"array\":{\"type\":\"bytes\",\"data\":\"AAAAgFKBwD8AAABANQkswA==\"},\"shape\":[2],\"dtype\":\"float64\",\"order\":\"little\"}],[164,{\"type\":\"ndarray\",\"array\":{\"type\":\"bytes\",\"data\":\"AAAAYHRWE0AAAACgRo8pwA==\"},\"shape\":[2],\"dtype\":\"float64\",\"order\":\"little\"}],[165,{\"type\":\"ndarray\",\"array\":{\"type\":\"bytes\",\"data\":\"AAAAoFqs+r8AAAAAoh0GwA==\"},\"shape\":[2],\"dtype\":\"float64\",\"order\":\"little\"}],[166,{\"type\":\"ndarray\",\"array\":{\"type\":\"bytes\",\"data\":\"AAAAwOqeDEAAAAAgRp0pwA==\"},\"shape\":[2],\"dtype\":\"float64\",\"order\":\"little\"}],[167,{\"type\":\"ndarray\",\"array\":{\"type\":\"bytes\",\"data\":\"AAAAoA7zF8AAAACAPOIdwA==\"},\"shape\":[2],\"dtype\":\"float64\",\"order\":\"little\"}],[168,{\"type\":\"ndarray\",\"array\":{\"type\":\"bytes\",\"data\":\"AAAAwFMEAkAAAABgf5QtwA==\"},\"shape\":[2],\"dtype\":\"float64\",\"order\":\"little\"}],[169,{\"type\":\"ndarray\",\"array\":{\"type\":\"bytes\",\"data\":\"AAAAwMZbEUAAAACgGy8rwA==\"},\"shape\":[2],\"dtype\":\"float64\",\"order\":\"little\"}],[170,{\"type\":\"ndarray\",\"array\":{\"type\":\"bytes\",\"data\":\"AAAAQILBA0AAAADgDxsqwA==\"},\"shape\":[2],\"dtype\":\"float64\",\"order\":\"little\"}],[171,{\"type\":\"ndarray\",\"array\":{\"type\":\"bytes\",\"data\":\"AAAAoFI5EkAAAAAAYrgtwA==\"},\"shape\":[2],\"dtype\":\"float64\",\"order\":\"little\"}],[172,{\"type\":\"ndarray\",\"array\":{\"type\":\"bytes\",\"data\":\"AAAAQE761T8AAAAA7gMwwA==\"},\"shape\":[2],\"dtype\":\"float64\",\"order\":\"little\"}],[173,{\"type\":\"ndarray\",\"array\":{\"type\":\"bytes\",\"data\":\"AAAA4BEPC0AAAACgeC8twA==\"},\"shape\":[2],\"dtype\":\"float64\",\"order\":\"little\"}],[174,{\"type\":\"ndarray\",\"array\":{\"type\":\"bytes\",\"data\":\"AAAAIKE79T8AAACgwVwwwA==\"},\"shape\":[2],\"dtype\":\"float64\",\"order\":\"little\"}],[175,{\"type\":\"ndarray\",\"array\":{\"type\":\"bytes\",\"data\":\"AAAA4AMG9z8AAADAPCgrwA==\"},\"shape\":[2],\"dtype\":\"float64\",\"order\":\"little\"}],[176,{\"type\":\"ndarray\",\"array\":{\"type\":\"bytes\",\"data\":\"AAAAQPRPCkAAAACAFgMswA==\"},\"shape\":[2],\"dtype\":\"float64\",\"order\":\"little\"}],[177,{\"type\":\"ndarray\",\"array\":{\"type\":\"bytes\",\"data\":\"AAAAAHrgCkAAAAAAw2YowA==\"},\"shape\":[2],\"dtype\":\"float64\",\"order\":\"little\"}],[178,{\"type\":\"ndarray\",\"array\":{\"type\":\"bytes\",\"data\":\"AAAAoDJU6L8AAACgbnstwA==\"},\"shape\":[2],\"dtype\":\"float64\",\"order\":\"little\"}],[179,{\"type\":\"ndarray\",\"array\":{\"type\":\"bytes\",\"data\":\"AAAAAN0mC0AAAACA4a8uwA==\"},\"shape\":[2],\"dtype\":\"float64\",\"order\":\"little\"}],[180,{\"type\":\"ndarray\",\"array\":{\"type\":\"bytes\",\"data\":\"AAAAANyPEUAAAADAY3UswA==\"},\"shape\":[2],\"dtype\":\"float64\",\"order\":\"little\"}],[181,{\"type\":\"ndarray\",\"array\":{\"type\":\"bytes\",\"data\":\"AAAAYMzNM8AAAABgXC4UwA==\"},\"shape\":[2],\"dtype\":\"float64\",\"order\":\"little\"}],[182,{\"type\":\"ndarray\",\"array\":{\"type\":\"bytes\",\"data\":\"AAAAAPRoKsAAAACA0XsUwA==\"},\"shape\":[2],\"dtype\":\"float64\",\"order\":\"little\"}],[183,{\"type\":\"ndarray\",\"array\":{\"type\":\"bytes\",\"data\":\"AAAA4KOWM8AAAADAzJMdwA==\"},\"shape\":[2],\"dtype\":\"float64\",\"order\":\"little\"}],[184,{\"type\":\"ndarray\",\"array\":{\"type\":\"bytes\",\"data\":\"AAAAINaaEsAAAABglmwMQA==\"},\"shape\":[2],\"dtype\":\"float64\",\"order\":\"little\"}],[185,{\"type\":\"ndarray\",\"array\":{\"type\":\"bytes\",\"data\":\"AAAAYPaLMsAAAACAPcwfwA==\"},\"shape\":[2],\"dtype\":\"float64\",\"order\":\"little\"}],[186,{\"type\":\"ndarray\",\"array\":{\"type\":\"bytes\",\"data\":\"AAAAgAbXMsAAAABggtMgwA==\"},\"shape\":[2],\"dtype\":\"float64\",\"order\":\"little\"}],[187,{\"type\":\"ndarray\",\"array\":{\"type\":\"bytes\",\"data\":\"AAAA4DwvM8AAAAAATqsewA==\"},\"shape\":[2],\"dtype\":\"float64\",\"order\":\"little\"}],[188,{\"type\":\"ndarray\",\"array\":{\"type\":\"bytes\",\"data\":\"AAAAgJ4kMcAAAACg6oYQwA==\"},\"shape\":[2],\"dtype\":\"float64\",\"order\":\"little\"}],[189,{\"type\":\"ndarray\",\"array\":{\"type\":\"bytes\",\"data\":\"AAAAICgfM8AAAADggPEVwA==\"},\"shape\":[2],\"dtype\":\"float64\",\"order\":\"little\"}],[190,{\"type\":\"ndarray\",\"array\":{\"type\":\"bytes\",\"data\":\"AAAA4KT5MMAAAADgxYohwA==\"},\"shape\":[2],\"dtype\":\"float64\",\"order\":\"little\"}],[191,{\"type\":\"ndarray\",\"array\":{\"type\":\"bytes\",\"data\":\"AAAAAJC3MsAAAACADrkJwA==\"},\"shape\":[2],\"dtype\":\"float64\",\"order\":\"little\"}],[192,{\"type\":\"ndarray\",\"array\":{\"type\":\"bytes\",\"data\":\"AAAAgCl5JcAAAABgjHcbwA==\"},\"shape\":[2],\"dtype\":\"float64\",\"order\":\"little\"}],[193,{\"type\":\"ndarray\",\"array\":{\"type\":\"bytes\",\"data\":\"AAAAALz4MMAAAADAxusYwA==\"},\"shape\":[2],\"dtype\":\"float64\",\"order\":\"little\"}],[194,{\"type\":\"ndarray\",\"array\":{\"type\":\"bytes\",\"data\":\"AAAAwKehMcAAAABgUWcOwA==\"},\"shape\":[2],\"dtype\":\"float64\",\"order\":\"little\"}],[195,{\"type\":\"ndarray\",\"array\":{\"type\":\"bytes\",\"data\":\"AAAAAInoMsAAAADg0zsZwA==\"},\"shape\":[2],\"dtype\":\"float64\",\"order\":\"little\"}],[196,{\"type\":\"ndarray\",\"array\":{\"type\":\"bytes\",\"data\":\"AAAAIOxZMcAAAACAqhAewA==\"},\"shape\":[2],\"dtype\":\"float64\",\"order\":\"little\"}],[197,{\"type\":\"ndarray\",\"array\":{\"type\":\"bytes\",\"data\":\"AAAAALGOM8AAAADAwL4VwA==\"},\"shape\":[2],\"dtype\":\"float64\",\"order\":\"little\"}],[198,{\"type\":\"ndarray\",\"array\":{\"type\":\"bytes\",\"data\":\"AAAAoIB1MsAAAABAhh4XwA==\"},\"shape\":[2],\"dtype\":\"float64\",\"order\":\"little\"}],[199,{\"type\":\"ndarray\",\"array\":{\"type\":\"bytes\",\"data\":\"AAAAYEuaMcAAAADAdAcXwA==\"},\"shape\":[2],\"dtype\":\"float64\",\"order\":\"little\"}],[200,{\"type\":\"ndarray\",\"array\":{\"type\":\"bytes\",\"data\":\"AAAAAED0MsAAAADgWzsUwA==\"},\"shape\":[2],\"dtype\":\"float64\",\"order\":\"little\"}],[201,{\"type\":\"ndarray\",\"array\":{\"type\":\"bytes\",\"data\":\"AAAA4JU9J8AAAAAgOwYewA==\"},\"shape\":[2],\"dtype\":\"float64\",\"order\":\"little\"}],[202,{\"type\":\"ndarray\",\"array\":{\"type\":\"bytes\",\"data\":\"AAAAAPJTMsAAAACAL0MVwA==\"},\"shape\":[2],\"dtype\":\"float64\",\"order\":\"little\"}],[203,{\"type\":\"ndarray\",\"array\":{\"type\":\"bytes\",\"data\":\"AAAAQJBsMcAAAACAHmohwA==\"},\"shape\":[2],\"dtype\":\"float64\",\"order\":\"little\"}],[204,{\"type\":\"ndarray\",\"array\":{\"type\":\"bytes\",\"data\":\"AAAAYEwfM8AAAACAesAcwA==\"},\"shape\":[2],\"dtype\":\"float64\",\"order\":\"little\"}],[205,{\"type\":\"ndarray\",\"array\":{\"type\":\"bytes\",\"data\":\"AAAAoKYJMsAAAADAMRgbwA==\"},\"shape\":[2],\"dtype\":\"float64\",\"order\":\"little\"}],[206,{\"type\":\"ndarray\",\"array\":{\"type\":\"bytes\",\"data\":\"AAAAoMlUJsAAAACAReMbwA==\"},\"shape\":[2],\"dtype\":\"float64\",\"order\":\"little\"}],[207,{\"type\":\"ndarray\",\"array\":{\"type\":\"bytes\",\"data\":\"AAAAQO+UMcAAAABgE10iwA==\"},\"shape\":[2],\"dtype\":\"float64\",\"order\":\"little\"}],[208,{\"type\":\"ndarray\",\"array\":{\"type\":\"bytes\",\"data\":\"AAAAwJo6MsAAAADg/OkGwA==\"},\"shape\":[2],\"dtype\":\"float64\",\"order\":\"little\"}],[209,{\"type\":\"ndarray\",\"array\":{\"type\":\"bytes\",\"data\":\"AAAAoNXdM8AAAAAgTfgZwA==\"},\"shape\":[2],\"dtype\":\"float64\",\"order\":\"little\"}],[210,{\"type\":\"ndarray\",\"array\":{\"type\":\"bytes\",\"data\":\"AAAAwCPsM8AAAADglYwSwA==\"},\"shape\":[2],\"dtype\":\"float64\",\"order\":\"little\"}],[211,{\"type\":\"ndarray\",\"array\":{\"type\":\"bytes\",\"data\":\"AAAAgETZMcAAAAAAQHcfwA==\"},\"shape\":[2],\"dtype\":\"float64\",\"order\":\"little\"}],[212,{\"type\":\"ndarray\",\"array\":{\"type\":\"bytes\",\"data\":\"AAAA4C+xMsAAAACAX0oFwA==\"},\"shape\":[2],\"dtype\":\"float64\",\"order\":\"little\"}],[213,{\"type\":\"ndarray\",\"array\":{\"type\":\"bytes\",\"data\":\"AAAAYCg+KMAAAADgBDggwA==\"},\"shape\":[2],\"dtype\":\"float64\",\"order\":\"little\"}],[214,{\"type\":\"ndarray\",\"array\":{\"type\":\"bytes\",\"data\":\"AAAA4P5pJ8AAAAAg3CUgwA==\"},\"shape\":[2],\"dtype\":\"float64\",\"order\":\"little\"}],[215,{\"type\":\"ndarray\",\"array\":{\"type\":\"bytes\",\"data\":\"AAAAgJK0MsAAAAAgvCgQwA==\"},\"shape\":[2],\"dtype\":\"float64\",\"order\":\"little\"}],[216,{\"type\":\"ndarray\",\"array\":{\"type\":\"bytes\",\"data\":\"AAAAYCPnMMAAAAAg+KwSwA==\"},\"shape\":[2],\"dtype\":\"float64\",\"order\":\"little\"}],[217,{\"type\":\"ndarray\",\"array\":{\"type\":\"bytes\",\"data\":\"AAAAQBQEMsAAAAAgY/kKwA==\"},\"shape\":[2],\"dtype\":\"float64\",\"order\":\"little\"}],[218,{\"type\":\"ndarray\",\"array\":{\"type\":\"bytes\",\"data\":\"AAAAIPx3McAAAAAAmmkEwA==\"},\"shape\":[2],\"dtype\":\"float64\",\"order\":\"little\"}],[219,{\"type\":\"ndarray\",\"array\":{\"type\":\"bytes\",\"data\":\"AAAAQIESMcAAAACAdoEIwA==\"},\"shape\":[2],\"dtype\":\"float64\",\"order\":\"little\"}],[220,{\"type\":\"ndarray\",\"array\":{\"type\":\"bytes\",\"data\":\"AAAAgJkoM8AAAACgmykgwA==\"},\"shape\":[2],\"dtype\":\"float64\",\"order\":\"little\"}],[221,{\"type\":\"ndarray\",\"array\":{\"type\":\"bytes\",\"data\":\"AAAAgBbrMMAAAACAtE4bwA==\"},\"shape\":[2],\"dtype\":\"float64\",\"order\":\"little\"}],[222,{\"type\":\"ndarray\",\"array\":{\"type\":\"bytes\",\"data\":\"AAAAIAoYM8AAAADglvEawA==\"},\"shape\":[2],\"dtype\":\"float64\",\"order\":\"little\"}],[223,{\"type\":\"ndarray\",\"array\":{\"type\":\"bytes\",\"data\":\"AAAAwJnhJsAAAADgCQMdwA==\"},\"shape\":[2],\"dtype\":\"float64\",\"order\":\"little\"}],[224,{\"type\":\"ndarray\",\"array\":{\"type\":\"bytes\",\"data\":\"AAAAAGFVM8AAAABA+v8SwA==\"},\"shape\":[2],\"dtype\":\"float64\",\"order\":\"little\"}],[225,{\"type\":\"ndarray\",\"array\":{\"type\":\"bytes\",\"data\":\"AAAAAAAANMAAAACgdzsWwA==\"},\"shape\":[2],\"dtype\":\"float64\",\"order\":\"little\"}],[226,{\"type\":\"ndarray\",\"array\":{\"type\":\"bytes\",\"data\":\"AAAAQIk/McAAAACAELEUwA==\"},\"shape\":[2],\"dtype\":\"float64\",\"order\":\"little\"}],[227,{\"type\":\"ndarray\",\"array\":{\"type\":\"bytes\",\"data\":\"AAAAYM72MMAAAACAEegMwA==\"},\"shape\":[2],\"dtype\":\"float64\",\"order\":\"little\"}],[228,{\"type\":\"ndarray\",\"array\":{\"type\":\"bytes\",\"data\":\"AAAA4EFwMsAAAACAHM8ZwA==\"},\"shape\":[2],\"dtype\":\"float64\",\"order\":\"little\"}],[229,{\"type\":\"ndarray\",\"array\":{\"type\":\"bytes\",\"data\":\"AAAAAF0AM8AAAACgEogRwA==\"},\"shape\":[2],\"dtype\":\"float64\",\"order\":\"little\"}],[230,{\"type\":\"ndarray\",\"array\":{\"type\":\"bytes\",\"data\":\"AAAAICmNMsAAAACgAkoTwA==\"},\"shape\":[2],\"dtype\":\"float64\",\"order\":\"little\"}],[231,{\"type\":\"ndarray\",\"array\":{\"type\":\"bytes\",\"data\":\"AAAAYKQ5KsAAAADA3qj5Pw==\"},\"shape\":[2],\"dtype\":\"float64\",\"order\":\"little\"}],[232,{\"type\":\"ndarray\",\"array\":{\"type\":\"bytes\",\"data\":\"AAAAQCcnM8AAAAAgaHMOwA==\"},\"shape\":[2],\"dtype\":\"float64\",\"order\":\"little\"}],[233,{\"type\":\"ndarray\",\"array\":{\"type\":\"bytes\",\"data\":\"AAAAIInuMMAAAADg2pUWwA==\"},\"shape\":[2],\"dtype\":\"float64\",\"order\":\"little\"}],[234,{\"type\":\"ndarray\",\"array\":{\"type\":\"bytes\",\"data\":\"AAAAwOH4J8AAAACgr8IewA==\"},\"shape\":[2],\"dtype\":\"float64\",\"order\":\"little\"}],[235,{\"type\":\"ndarray\",\"array\":{\"type\":\"bytes\",\"data\":\"AAAAgL58MsAAAACgbt0MwA==\"},\"shape\":[2],\"dtype\":\"float64\",\"order\":\"little\"}],[236,{\"type\":\"ndarray\",\"array\":{\"type\":\"bytes\",\"data\":\"AAAAQKKfM8AAAABAJ4kbwA==\"},\"shape\":[2],\"dtype\":\"float64\",\"order\":\"little\"}],[237,{\"type\":\"ndarray\",\"array\":{\"type\":\"bytes\",\"data\":\"AAAAIOiDMsAAAAAgIHshwA==\"},\"shape\":[2],\"dtype\":\"float64\",\"order\":\"little\"}],[238,{\"type\":\"ndarray\",\"array\":{\"type\":\"bytes\",\"data\":\"AAAAoHuYMcAAAABAIzMSwA==\"},\"shape\":[2],\"dtype\":\"float64\",\"order\":\"little\"}],[239,{\"type\":\"ndarray\",\"array\":{\"type\":\"bytes\",\"data\":\"AAAA4AcWMsAAAADAA54dwA==\"},\"shape\":[2],\"dtype\":\"float64\",\"order\":\"little\"}],[240,{\"type\":\"ndarray\",\"array\":{\"type\":\"bytes\",\"data\":\"AAAAIK3gMcAAAABAiyUhwA==\"},\"shape\":[2],\"dtype\":\"float64\",\"order\":\"little\"}],[241,{\"type\":\"ndarray\",\"array\":{\"type\":\"bytes\",\"data\":\"AAAAAKZfMcAAAAAgSz8gwA==\"},\"shape\":[2],\"dtype\":\"float64\",\"order\":\"little\"}],[242,{\"type\":\"ndarray\",\"array\":{\"type\":\"bytes\",\"data\":\"AAAAINjPMMAAAABgY8sdwA==\"},\"shape\":[2],\"dtype\":\"float64\",\"order\":\"little\"}],[243,{\"type\":\"ndarray\",\"array\":{\"type\":\"bytes\",\"data\":\"AAAAYOMhM8AAAADANGAIwA==\"},\"shape\":[2],\"dtype\":\"float64\",\"order\":\"little\"}],[244,{\"type\":\"ndarray\",\"array\":{\"type\":\"bytes\",\"data\":\"AAAAIO42MsAAAABg94UgwA==\"},\"shape\":[2],\"dtype\":\"float64\",\"order\":\"little\"}],[245,{\"type\":\"ndarray\",\"array\":{\"type\":\"bytes\",\"data\":\"AAAAYPBwM8AAAABA0w4ZwA==\"},\"shape\":[2],\"dtype\":\"float64\",\"order\":\"little\"}],[246,{\"type\":\"ndarray\",\"array\":{\"type\":\"bytes\",\"data\":\"AAAAYFOGMcAAAABgqc4ZwA==\"},\"shape\":[2],\"dtype\":\"float64\",\"order\":\"little\"}],[247,{\"type\":\"ndarray\",\"array\":{\"type\":\"bytes\",\"data\":\"AAAAoMTMM8AAAAAACOEXwA==\"},\"shape\":[2],\"dtype\":\"float64\",\"order\":\"little\"}],[248,{\"type\":\"ndarray\",\"array\":{\"type\":\"bytes\",\"data\":\"AAAAAAECM8AAAAAgC30XwA==\"},\"shape\":[2],\"dtype\":\"float64\",\"order\":\"little\"}],[249,{\"type\":\"ndarray\",\"array\":{\"type\":\"bytes\",\"data\":\"AAAAAK8dMsAAAABAvBEiwA==\"},\"shape\":[2],\"dtype\":\"float64\",\"order\":\"little\"}],[250,{\"type\":\"ndarray\",\"array\":{\"type\":\"bytes\",\"data\":\"AAAAoLmbMcAAAAAgDpoIwA==\"},\"shape\":[2],\"dtype\":\"float64\",\"order\":\"little\"}],[251,{\"type\":\"ndarray\",\"array\":{\"type\":\"bytes\",\"data\":\"AAAA4GGSMcAAAAAgdTgcwA==\"},\"shape\":[2],\"dtype\":\"float64\",\"order\":\"little\"}],[252,{\"type\":\"ndarray\",\"array\":{\"type\":\"bytes\",\"data\":\"AAAAQMKSM8AAAADgbUURwA==\"},\"shape\":[2],\"dtype\":\"float64\",\"order\":\"little\"}],[253,{\"type\":\"ndarray\",\"array\":{\"type\":\"bytes\",\"data\":\"AAAAYNCPMsAAAABgiRkcwA==\"},\"shape\":[2],\"dtype\":\"float64\",\"order\":\"little\"}],[254,{\"type\":\"ndarray\",\"array\":{\"type\":\"bytes\",\"data\":\"AAAAwBcEMsAAAAAAYkgYwA==\"},\"shape\":[2],\"dtype\":\"float64\",\"order\":\"little\"}],[255,{\"type\":\"ndarray\",\"array\":{\"type\":\"bytes\",\"data\":\"AAAAgOAJMsAAAADg5WYDwA==\"},\"shape\":[2],\"dtype\":\"float64\",\"order\":\"little\"}],[256,{\"type\":\"ndarray\",\"array\":{\"type\":\"bytes\",\"data\":\"AAAAgMvTMcAAAAAgA5UUwA==\"},\"shape\":[2],\"dtype\":\"float64\",\"order\":\"little\"}],[257,{\"type\":\"ndarray\",\"array\":{\"type\":\"bytes\",\"data\":\"AAAAwBUjMsAAAAAg4j8QwA==\"},\"shape\":[2],\"dtype\":\"float64\",\"order\":\"little\"}],[258,{\"type\":\"ndarray\",\"array\":{\"type\":\"bytes\",\"data\":\"AAAAAAxrM8AAAADAN34LwA==\"},\"shape\":[2],\"dtype\":\"float64\",\"order\":\"little\"}],[259,{\"type\":\"ndarray\",\"array\":{\"type\":\"bytes\",\"data\":\"AAAA4LjXMMAAAACAHzkgwA==\"},\"shape\":[2],\"dtype\":\"float64\",\"order\":\"little\"}],[260,{\"type\":\"ndarray\",\"array\":{\"type\":\"bytes\",\"data\":\"AAAAgCLkJcAAAADgvYUewA==\"},\"shape\":[2],\"dtype\":\"float64\",\"order\":\"little\"}],[261,{\"type\":\"ndarray\",\"array\":{\"type\":\"bytes\",\"data\":\"AAAAYKegJcAAAACgPxYdwA==\"},\"shape\":[2],\"dtype\":\"float64\",\"order\":\"little\"}],[262,{\"type\":\"ndarray\",\"array\":{\"type\":\"bytes\",\"data\":\"AAAAQNaZJsAAAACA4WcfwA==\"},\"shape\":[2],\"dtype\":\"float64\",\"order\":\"little\"}],[263,{\"type\":\"ndarray\",\"array\":{\"type\":\"bytes\",\"data\":\"AAAAgL+jMsAAAABAUBEewA==\"},\"shape\":[2],\"dtype\":\"float64\",\"order\":\"little\"}],[264,{\"type\":\"ndarray\",\"array\":{\"type\":\"bytes\",\"data\":\"AAAAYM+wM8AAAAAgvjgPwA==\"},\"shape\":[2],\"dtype\":\"float64\",\"order\":\"little\"}],[265,{\"type\":\"ndarray\",\"array\":{\"type\":\"bytes\",\"data\":\"AAAAQNUmMsAAAABA1zMSwA==\"},\"shape\":[2],\"dtype\":\"float64\",\"order\":\"little\"}],[266,{\"type\":\"ndarray\",\"array\":{\"type\":\"bytes\",\"data\":\"AAAAQCDwGsAAAADgsLwiwA==\"},\"shape\":[2],\"dtype\":\"float64\",\"order\":\"little\"}],[267,{\"type\":\"ndarray\",\"array\":{\"type\":\"bytes\",\"data\":\"AAAAQM7WJ8AAAABAy7MqwA==\"},\"shape\":[2],\"dtype\":\"float64\",\"order\":\"little\"}],[268,{\"type\":\"ndarray\",\"array\":{\"type\":\"bytes\",\"data\":\"AAAAIF68I8AAAABgM0oowA==\"},\"shape\":[2],\"dtype\":\"float64\",\"order\":\"little\"}],[269,{\"type\":\"ndarray\",\"array\":{\"type\":\"bytes\",\"data\":\"AAAAQFu6FMAAAACgMrgowA==\"},\"shape\":[2],\"dtype\":\"float64\",\"order\":\"little\"}],[270,{\"type\":\"ndarray\",\"array\":{\"type\":\"bytes\",\"data\":\"AAAA4NqmHsAAAADAJ1cwwA==\"},\"shape\":[2],\"dtype\":\"float64\",\"order\":\"little\"}],[271,{\"type\":\"ndarray\",\"array\":{\"type\":\"bytes\",\"data\":\"AAAAQNyyJ8AAAABAd7QswA==\"},\"shape\":[2],\"dtype\":\"float64\",\"order\":\"little\"}],[272,{\"type\":\"ndarray\",\"array\":{\"type\":\"bytes\",\"data\":\"AAAAAGsO8r8AAADAOwznPw==\"},\"shape\":[2],\"dtype\":\"float64\",\"order\":\"little\"}],[273,{\"type\":\"ndarray\",\"array\":{\"type\":\"bytes\",\"data\":\"AAAAYND1CcAAAACgRzECQA==\"},\"shape\":[2],\"dtype\":\"float64\",\"order\":\"little\"}],[274,{\"type\":\"ndarray\",\"array\":{\"type\":\"bytes\",\"data\":\"AAAAgGm+EsAAAACAt4ktwA==\"},\"shape\":[2],\"dtype\":\"float64\",\"order\":\"little\"}],[275,{\"type\":\"ndarray\",\"array\":{\"type\":\"bytes\",\"data\":\"AAAAoFEeJ8AAAADA0BgrwA==\"},\"shape\":[2],\"dtype\":\"float64\",\"order\":\"little\"}],[276,{\"type\":\"ndarray\",\"array\":{\"type\":\"bytes\",\"data\":\"AAAAwJyVKcAAAACgdMAmwA==\"},\"shape\":[2],\"dtype\":\"float64\",\"order\":\"little\"}],[277,{\"type\":\"ndarray\",\"array\":{\"type\":\"bytes\",\"data\":\"AAAAIJoCKMAAAADgZf8owA==\"},\"shape\":[2],\"dtype\":\"float64\",\"order\":\"little\"}],[278,{\"type\":\"ndarray\",\"array\":{\"type\":\"bytes\",\"data\":\"AAAAQHYFKMAAAACA7mckwA==\"},\"shape\":[2],\"dtype\":\"float64\",\"order\":\"little\"}],[279,{\"type\":\"ndarray\",\"array\":{\"type\":\"bytes\",\"data\":\"AAAAgG7jJcAAAACgcvIkwA==\"},\"shape\":[2],\"dtype\":\"float64\",\"order\":\"little\"}],[280,{\"type\":\"ndarray\",\"array\":{\"type\":\"bytes\",\"data\":\"AAAAwLndJMAAAACgzxUtwA==\"},\"shape\":[2],\"dtype\":\"float64\",\"order\":\"little\"}],[281,{\"type\":\"ndarray\",\"array\":{\"type\":\"bytes\",\"data\":\"AAAAwMn+GsAAAADAnUIwwA==\"},\"shape\":[2],\"dtype\":\"float64\",\"order\":\"little\"}],[282,{\"type\":\"ndarray\",\"array\":{\"type\":\"bytes\",\"data\":\"AAAAwBahGcAAAACgaTovwA==\"},\"shape\":[2],\"dtype\":\"float64\",\"order\":\"little\"}],[283,{\"type\":\"ndarray\",\"array\":{\"type\":\"bytes\",\"data\":\"AAAAgFV9F8AAAADgg+AvwA==\"},\"shape\":[2],\"dtype\":\"float64\",\"order\":\"little\"}],[284,{\"type\":\"ndarray\",\"array\":{\"type\":\"bytes\",\"data\":\"AAAA4AEgHcAAAACg8fwmwA==\"},\"shape\":[2],\"dtype\":\"float64\",\"order\":\"little\"}],[285,{\"type\":\"ndarray\",\"array\":{\"type\":\"bytes\",\"data\":\"AAAAIFlbB8AAAADAqHPhPw==\"},\"shape\":[2],\"dtype\":\"float64\",\"order\":\"little\"}],[286,{\"type\":\"ndarray\",\"array\":{\"type\":\"bytes\",\"data\":\"AAAAIN1LHcAAAABgA9ApwA==\"},\"shape\":[2],\"dtype\":\"float64\",\"order\":\"little\"}],[287,{\"type\":\"ndarray\",\"array\":{\"type\":\"bytes\",\"data\":\"AAAAwFI5E8AAAACAdcUpwA==\"},\"shape\":[2],\"dtype\":\"float64\",\"order\":\"little\"}],[288,{\"type\":\"ndarray\",\"array\":{\"type\":\"bytes\",\"data\":\"AAAAwJdJJcAAAABA8NgjwA==\"},\"shape\":[2],\"dtype\":\"float64\",\"order\":\"little\"}],[289,{\"type\":\"ndarray\",\"array\":{\"type\":\"bytes\",\"data\":\"AAAAAFvHJMAAAABA4esiwA==\"},\"shape\":[2],\"dtype\":\"float64\",\"order\":\"little\"}],[290,{\"type\":\"ndarray\",\"array\":{\"type\":\"bytes\",\"data\":\"AAAAoG6EJcAAAADAWQAswA==\"},\"shape\":[2],\"dtype\":\"float64\",\"order\":\"little\"}],[291,{\"type\":\"ndarray\",\"array\":{\"type\":\"bytes\",\"data\":\"AAAA4BnyFMAAAAAg+XwswA==\"},\"shape\":[2],\"dtype\":\"float64\",\"order\":\"little\"}],[292,{\"type\":\"ndarray\",\"array\":{\"type\":\"bytes\",\"data\":\"AAAAIKsDFsAAAABgsVIvwA==\"},\"shape\":[2],\"dtype\":\"float64\",\"order\":\"little\"}],[293,{\"type\":\"ndarray\",\"array\":{\"type\":\"bytes\",\"data\":\"AAAAQFIfKMAAAADg28omwA==\"},\"shape\":[2],\"dtype\":\"float64\",\"order\":\"little\"}],[294,{\"type\":\"ndarray\",\"array\":{\"type\":\"bytes\",\"data\":\"AAAA4I8mI8AAAAAABdwtwA==\"},\"shape\":[2],\"dtype\":\"float64\",\"order\":\"little\"}],[295,{\"type\":\"ndarray\",\"array\":{\"type\":\"bytes\",\"data\":\"AAAAYNBKKMAAAADg4r0lwA==\"},\"shape\":[2],\"dtype\":\"float64\",\"order\":\"little\"}],[296,{\"type\":\"ndarray\",\"array\":{\"type\":\"bytes\",\"data\":\"AAAA4M4zJMAAAACgrK0qwA==\"},\"shape\":[2],\"dtype\":\"float64\",\"order\":\"little\"}],[297,{\"type\":\"ndarray\",\"array\":{\"type\":\"bytes\",\"data\":\"AAAA4Lm3IcAAAACgXwswwA==\"},\"shape\":[2],\"dtype\":\"float64\",\"order\":\"little\"}],[298,{\"type\":\"ndarray\",\"array\":{\"type\":\"bytes\",\"data\":\"AAAAgPSfJMAAAAAAy/IkwA==\"},\"shape\":[2],\"dtype\":\"float64\",\"order\":\"little\"}],[299,{\"type\":\"ndarray\",\"array\":{\"type\":\"bytes\",\"data\":\"AAAAIAinIcAAAADgkLYrwA==\"},\"shape\":[2],\"dtype\":\"float64\",\"order\":\"little\"}],[300,{\"type\":\"ndarray\",\"array\":{\"type\":\"bytes\",\"data\":\"AAAAAGCi9L8AAACAVxDjPw==\"},\"shape\":[2],\"dtype\":\"float64\",\"order\":\"little\"}],[301,{\"type\":\"ndarray\",\"array\":{\"type\":\"bytes\",\"data\":\"AAAAwPgII8AAAACgyFApwA==\"},\"shape\":[2],\"dtype\":\"float64\",\"order\":\"little\"}],[302,{\"type\":\"ndarray\",\"array\":{\"type\":\"bytes\",\"data\":\"AAAAYM82IsAAAAAAjwIuwA==\"},\"shape\":[2],\"dtype\":\"float64\",\"order\":\"little\"}],[303,{\"type\":\"ndarray\",\"array\":{\"type\":\"bytes\",\"data\":\"AAAAICUNIMAAAADAMSUwwA==\"},\"shape\":[2],\"dtype\":\"float64\",\"order\":\"little\"}],[304,{\"type\":\"ndarray\",\"array\":{\"type\":\"bytes\",\"data\":\"AAAAgIQEJsAAAADA4zMmwA==\"},\"shape\":[2],\"dtype\":\"float64\",\"order\":\"little\"}],[305,{\"type\":\"ndarray\",\"array\":{\"type\":\"bytes\",\"data\":\"AAAA4Li4IMAAAABAhyQwwA==\"},\"shape\":[2],\"dtype\":\"float64\",\"order\":\"little\"}],[306,{\"type\":\"ndarray\",\"array\":{\"type\":\"bytes\",\"data\":\"AAAAAFx75D8AAABgA5r5Pw==\"},\"shape\":[2],\"dtype\":\"float64\",\"order\":\"little\"}],[307,{\"type\":\"ndarray\",\"array\":{\"type\":\"bytes\",\"data\":\"AAAAgFwOJMAAAACgVhEkwA==\"},\"shape\":[2],\"dtype\":\"float64\",\"order\":\"little\"}],[308,{\"type\":\"ndarray\",\"array\":{\"type\":\"bytes\",\"data\":\"AAAAYNKpIsAAAABAVtjqvw==\"},\"shape\":[2],\"dtype\":\"float64\",\"order\":\"little\"}],[309,{\"type\":\"ndarray\",\"array\":{\"type\":\"bytes\",\"data\":\"AAAAgNScGMAAAACAiU0qwA==\"},\"shape\":[2],\"dtype\":\"float64\",\"order\":\"little\"}],[310,{\"type\":\"ndarray\",\"array\":{\"type\":\"bytes\",\"data\":\"AAAAwCNrFMAAAAAgY7YuwA==\"},\"shape\":[2],\"dtype\":\"float64\",\"order\":\"little\"}],[311,{\"type\":\"ndarray\",\"array\":{\"type\":\"bytes\",\"data\":\"AAAA4GcOKMAAAAAgZcgiwA==\"},\"shape\":[2],\"dtype\":\"float64\",\"order\":\"little\"}],[312,{\"type\":\"ndarray\",\"array\":{\"type\":\"bytes\",\"data\":\"AAAAYNJX978AAADgTGnhvw==\"},\"shape\":[2],\"dtype\":\"float64\",\"order\":\"little\"}],[313,{\"type\":\"ndarray\",\"array\":{\"type\":\"bytes\",\"data\":\"AAAA4JgzHcAAAAAgU7EvwA==\"},\"shape\":[2],\"dtype\":\"float64\",\"order\":\"little\"}],[314,{\"type\":\"ndarray\",\"array\":{\"type\":\"bytes\",\"data\":\"AAAAgHnGIsAAAADgAmDsvw==\"},\"shape\":[2],\"dtype\":\"float64\",\"order\":\"little\"}],[315,{\"type\":\"ndarray\",\"array\":{\"type\":\"bytes\",\"data\":\"AAAAgNTYJsAAAACA1skowA==\"},\"shape\":[2],\"dtype\":\"float64\",\"order\":\"little\"}],[316,{\"type\":\"ndarray\",\"array\":{\"type\":\"bytes\",\"data\":\"AAAA4OmeGMAAAABgDJwuwA==\"},\"shape\":[2],\"dtype\":\"float64\",\"order\":\"little\"}],[317,{\"type\":\"ndarray\",\"array\":{\"type\":\"bytes\",\"data\":\"AAAAoGr7JMAAAABgYgEvwA==\"},\"shape\":[2],\"dtype\":\"float64\",\"order\":\"little\"}],[318,{\"type\":\"ndarray\",\"array\":{\"type\":\"bytes\",\"data\":\"AAAAoHE6I8AAAACAaO0uwA==\"},\"shape\":[2],\"dtype\":\"float64\",\"order\":\"little\"}],[319,{\"type\":\"ndarray\",\"array\":{\"type\":\"bytes\",\"data\":\"AAAAwJfVHMAAAAAgT2QwwA==\"},\"shape\":[2],\"dtype\":\"float64\",\"order\":\"little\"}],[320,{\"type\":\"ndarray\",\"array\":{\"type\":\"bytes\",\"data\":\"AAAAAPvK8b8AAADAeQDzvw==\"},\"shape\":[2],\"dtype\":\"float64\",\"order\":\"little\"}],[321,{\"type\":\"ndarray\",\"array\":{\"type\":\"bytes\",\"data\":\"AAAAgAtL5T8AAADAWTz5Pw==\"},\"shape\":[2],\"dtype\":\"float64\",\"order\":\"little\"}],[322,{\"type\":\"ndarray\",\"array\":{\"type\":\"bytes\",\"data\":\"AAAAwJ/EIsAAAACAIfMnwA==\"},\"shape\":[2],\"dtype\":\"float64\",\"order\":\"little\"}],[323,{\"type\":\"ndarray\",\"array\":{\"type\":\"bytes\",\"data\":\"AAAA4GTTE8AAAAAAu3T+Pw==\"},\"shape\":[2],\"dtype\":\"float64\",\"order\":\"little\"}],[324,{\"type\":\"ndarray\",\"array\":{\"type\":\"bytes\",\"data\":\"AAAAYD6EJcAAAABgJSoqwA==\"},\"shape\":[2],\"dtype\":\"float64\",\"order\":\"little\"}],[325,{\"type\":\"ndarray\",\"array\":{\"type\":\"bytes\",\"data\":\"AAAAAIOMJMAAAABAPp8rwA==\"},\"shape\":[2],\"dtype\":\"float64\",\"order\":\"little\"}],[326,{\"type\":\"ndarray\",\"array\":{\"type\":\"bytes\",\"data\":\"AAAAYKZnJMAAAABAqQsmwA==\"},\"shape\":[2],\"dtype\":\"float64\",\"order\":\"little\"}],[327,{\"type\":\"ndarray\",\"array\":{\"type\":\"bytes\",\"data\":\"AAAAoPhRIcAAAABA0qkmwA==\"},\"shape\":[2],\"dtype\":\"float64\",\"order\":\"little\"}],[328,{\"type\":\"ndarray\",\"array\":{\"type\":\"bytes\",\"data\":\"AAAAoAuWA8AAAADgjB/4Pw==\"},\"shape\":[2],\"dtype\":\"float64\",\"order\":\"little\"}],[329,{\"type\":\"ndarray\",\"array\":{\"type\":\"bytes\",\"data\":\"AAAAYGtZJMAAAACA59IpwA==\"},\"shape\":[2],\"dtype\":\"float64\",\"order\":\"little\"}],[330,{\"type\":\"ndarray\",\"array\":{\"type\":\"bytes\",\"data\":\"AAAAgIXBAkAAAAAgvxDnPw==\"},\"shape\":[2],\"dtype\":\"float64\",\"order\":\"little\"}],[331,{\"type\":\"ndarray\",\"array\":{\"type\":\"bytes\",\"data\":\"AAAAAOqp7r8AAACAyLjkPw==\"},\"shape\":[2],\"dtype\":\"float64\",\"order\":\"little\"}],[332,{\"type\":\"ndarray\",\"array\":{\"type\":\"bytes\",\"data\":\"AAAAwCba8L8AAAAA1nXiPw==\"},\"shape\":[2],\"dtype\":\"float64\",\"order\":\"little\"}],[333,{\"type\":\"ndarray\",\"array\":{\"type\":\"bytes\",\"data\":\"AAAAAJiIJ8AAAABgzSAlwA==\"},\"shape\":[2],\"dtype\":\"float64\",\"order\":\"little\"}],[334,{\"type\":\"ndarray\",\"array\":{\"type\":\"bytes\",\"data\":\"AAAAgHXJKMAAAADg3iorwA==\"},\"shape\":[2],\"dtype\":\"float64\",\"order\":\"little\"}],[335,{\"type\":\"ndarray\",\"array\":{\"type\":\"bytes\",\"data\":\"AAAAIPS/IsAAAADAsoovwA==\"},\"shape\":[2],\"dtype\":\"float64\",\"order\":\"little\"}],[336,{\"type\":\"ndarray\",\"array\":{\"type\":\"bytes\",\"data\":\"AAAAgMwYJ8AAAACAHuslwA==\"},\"shape\":[2],\"dtype\":\"float64\",\"order\":\"little\"}],[337,{\"type\":\"ndarray\",\"array\":{\"type\":\"bytes\",\"data\":\"AAAAQHzGGsAAAAAg0GQpwA==\"},\"shape\":[2],\"dtype\":\"float64\",\"order\":\"little\"}],[338,{\"type\":\"ndarray\",\"array\":{\"type\":\"bytes\",\"data\":\"AAAAYIP/IMAAAABAUc4uwA==\"},\"shape\":[2],\"dtype\":\"float64\",\"order\":\"little\"}],[339,{\"type\":\"ndarray\",\"array\":{\"type\":\"bytes\",\"data\":\"AAAAQC+pJ8AAAABg6UcowA==\"},\"shape\":[2],\"dtype\":\"float64\",\"order\":\"little\"}],[340,{\"type\":\"ndarray\",\"array\":{\"type\":\"bytes\",\"data\":\"AAAAIGzOIsAAAAAAMaYkwA==\"},\"shape\":[2],\"dtype\":\"float64\",\"order\":\"little\"}],[341,{\"type\":\"ndarray\",\"array\":{\"type\":\"bytes\",\"data\":\"AAAAoFFgG8AAAADgMpkvwA==\"},\"shape\":[2],\"dtype\":\"float64\",\"order\":\"little\"}],[342,{\"type\":\"ndarray\",\"array\":{\"type\":\"bytes\",\"data\":\"AAAAAHbJIsAAAADAYRkjwA==\"},\"shape\":[2],\"dtype\":\"float64\",\"order\":\"little\"}],[343,{\"type\":\"ndarray\",\"array\":{\"type\":\"bytes\",\"data\":\"AAAAAPMLHsAAAAAgg6suwA==\"},\"shape\":[2],\"dtype\":\"float64\",\"order\":\"little\"}],[344,{\"type\":\"ndarray\",\"array\":{\"type\":\"bytes\",\"data\":\"AAAAAHNxFMAAAABALLgtwA==\"},\"shape\":[2],\"dtype\":\"float64\",\"order\":\"little\"}],[345,{\"type\":\"ndarray\",\"array\":{\"type\":\"bytes\",\"data\":\"AAAAANTCE8AAAAAAuZorwA==\"},\"shape\":[2],\"dtype\":\"float64\",\"order\":\"little\"}],[346,{\"type\":\"ndarray\",\"array\":{\"type\":\"bytes\",\"data\":\"AAAAIHl4JsAAAADg76IpwA==\"},\"shape\":[2],\"dtype\":\"float64\",\"order\":\"little\"}],[347,{\"type\":\"ndarray\",\"array\":{\"type\":\"bytes\",\"data\":\"AAAAYN8eJcAAAADgvjIpwA==\"},\"shape\":[2],\"dtype\":\"float64\",\"order\":\"little\"}],[348,{\"type\":\"ndarray\",\"array\":{\"type\":\"bytes\",\"data\":\"AAAAADSAKcAAAACg3dcnwA==\"},\"shape\":[2],\"dtype\":\"float64\",\"order\":\"little\"}],[349,{\"type\":\"ndarray\",\"array\":{\"type\":\"bytes\",\"data\":\"AAAAwOmxJMAAAABANiEuwA==\"},\"shape\":[2],\"dtype\":\"float64\",\"order\":\"little\"}],[350,{\"type\":\"ndarray\",\"array\":{\"type\":\"bytes\",\"data\":\"AAAAIBpiIMAAAABgDokrwA==\"},\"shape\":[2],\"dtype\":\"float64\",\"order\":\"little\"}],[351,{\"type\":\"ndarray\",\"array\":{\"type\":\"bytes\",\"data\":\"AAAAgJzWJsAAAABgNnwtwA==\"},\"shape\":[2],\"dtype\":\"float64\",\"order\":\"little\"}],[352,{\"type\":\"ndarray\",\"array\":{\"type\":\"bytes\",\"data\":\"AAAAYCHhI8AAAADg5cQhwA==\"},\"shape\":[2],\"dtype\":\"float64\",\"order\":\"little\"}],[353,{\"type\":\"ndarray\",\"array\":{\"type\":\"bytes\",\"data\":\"AAAA4AzAJsAAAABANsYswA==\"},\"shape\":[2],\"dtype\":\"float64\",\"order\":\"little\"}],[354,{\"type\":\"ndarray\",\"array\":{\"type\":\"bytes\",\"data\":\"AAAAgIzxIMAAAABghHYtwA==\"},\"shape\":[2],\"dtype\":\"float64\",\"order\":\"little\"}],[355,{\"type\":\"ndarray\",\"array\":{\"type\":\"bytes\",\"data\":\"AAAAwP7JE8AAAAAAErIIwA==\"},\"shape\":[2],\"dtype\":\"float64\",\"order\":\"little\"}],[356,{\"type\":\"ndarray\",\"array\":{\"type\":\"bytes\",\"data\":\"AAAAQNv4HsAAAADgSZMvwA==\"},\"shape\":[2],\"dtype\":\"float64\",\"order\":\"little\"}],[357,{\"type\":\"ndarray\",\"array\":{\"type\":\"bytes\",\"data\":\"AAAAACRCIcAAAACgJOQowA==\"},\"shape\":[2],\"dtype\":\"float64\",\"order\":\"little\"}],[358,{\"type\":\"ndarray\",\"array\":{\"type\":\"bytes\",\"data\":\"AAAAQM9eJsAAAAAgJ60qwA==\"},\"shape\":[2],\"dtype\":\"float64\",\"order\":\"little\"}],[359,{\"type\":\"ndarray\",\"array\":{\"type\":\"bytes\",\"data\":\"AAAA4G0YIsAAAADgrq8pwA==\"},\"shape\":[2],\"dtype\":\"float64\",\"order\":\"little\"}],[360,{\"type\":\"ndarray\",\"array\":{\"type\":\"bytes\",\"data\":\"AAAAwDnBGsAAAABgXz4twA==\"},\"shape\":[2],\"dtype\":\"float64\",\"order\":\"little\"}],[361,{\"type\":\"ndarray\",\"array\":{\"type\":\"bytes\",\"data\":\"AAAAYDHbIsAAAACAy/YswA==\"},\"shape\":[2],\"dtype\":\"float64\",\"order\":\"little\"}],[362,{\"type\":\"ndarray\",\"array\":{\"type\":\"bytes\",\"data\":\"AAAAoCNQI8AAAADAsvUqwA==\"},\"shape\":[2],\"dtype\":\"float64\",\"order\":\"little\"}],[363,{\"type\":\"ndarray\",\"array\":{\"type\":\"bytes\",\"data\":\"AAAAYOp4FcAAAADgyz8qwA==\"},\"shape\":[2],\"dtype\":\"float64\",\"order\":\"little\"}],[364,{\"type\":\"ndarray\",\"array\":{\"type\":\"bytes\",\"data\":\"AAAAoI8kHsAAAACA3FMtwA==\"},\"shape\":[2],\"dtype\":\"float64\",\"order\":\"little\"}],[365,{\"type\":\"ndarray\",\"array\":{\"type\":\"bytes\",\"data\":\"AAAAoN8lGcAAAABgaqwtwA==\"},\"shape\":[2],\"dtype\":\"float64\",\"order\":\"little\"}],[366,{\"type\":\"ndarray\",\"array\":{\"type\":\"bytes\",\"data\":\"AAAAgAm8FsAAAAAA3HUuwA==\"},\"shape\":[2],\"dtype\":\"float64\",\"order\":\"little\"}],[367,{\"type\":\"ndarray\",\"array\":{\"type\":\"bytes\",\"data\":\"AAAAQBYtGcAAAABgihwwwA==\"},\"shape\":[2],\"dtype\":\"float64\",\"order\":\"little\"}],[368,{\"type\":\"ndarray\",\"array\":{\"type\":\"bytes\",\"data\":\"AAAAYM56JcAAAADglusmwA==\"},\"shape\":[2],\"dtype\":\"float64\",\"order\":\"little\"}],[369,{\"type\":\"ndarray\",\"array\":{\"type\":\"bytes\",\"data\":\"AAAAoDShIsAAAADgvxkwwA==\"},\"shape\":[2],\"dtype\":\"float64\",\"order\":\"little\"}],[370,{\"type\":\"ndarray\",\"array\":{\"type\":\"bytes\",\"data\":\"AAAAwO2XJMAAAACAYJQnwA==\"},\"shape\":[2],\"dtype\":\"float64\",\"order\":\"little\"}],[371,{\"type\":\"ndarray\",\"array\":{\"type\":\"bytes\",\"data\":\"AAAAAHRt8L8AAADAQ3fzvw==\"},\"shape\":[2],\"dtype\":\"float64\",\"order\":\"little\"}],[372,{\"type\":\"ndarray\",\"array\":{\"type\":\"bytes\",\"data\":\"AAAAQM3xI8AAAAAghBwtwA==\"},\"shape\":[2],\"dtype\":\"float64\",\"order\":\"little\"}],[373,{\"type\":\"ndarray\",\"array\":{\"type\":\"bytes\",\"data\":\"AAAAYCkVKcAAAABAzuMkwA==\"},\"shape\":[2],\"dtype\":\"float64\",\"order\":\"little\"}],[374,{\"type\":\"ndarray\",\"array\":{\"type\":\"bytes\",\"data\":\"AAAAQHafKMAAAADg9k0owA==\"},\"shape\":[2],\"dtype\":\"float64\",\"order\":\"little\"}],[375,{\"type\":\"ndarray\",\"array\":{\"type\":\"bytes\",\"data\":\"AAAAIBxjJ8AAAACgq78pwA==\"},\"shape\":[2],\"dtype\":\"float64\",\"order\":\"little\"}],[376,{\"type\":\"ndarray\",\"array\":{\"type\":\"bytes\",\"data\":\"AAAAAB9gKcAAAACgaecowA==\"},\"shape\":[2],\"dtype\":\"float64\",\"order\":\"little\"}],[377,{\"type\":\"ndarray\",\"array\":{\"type\":\"bytes\",\"data\":\"AAAAgBZxJ8AAAAAAzWgnwA==\"},\"shape\":[2],\"dtype\":\"float64\",\"order\":\"little\"}],[378,{\"type\":\"ndarray\",\"array\":{\"type\":\"bytes\",\"data\":\"AAAAoAl0IsAAAABAs2srwA==\"},\"shape\":[2],\"dtype\":\"float64\",\"order\":\"little\"}],[379,{\"type\":\"ndarray\",\"array\":{\"type\":\"bytes\",\"data\":\"AAAAoKXyH8AAAABgGSEtwA==\"},\"shape\":[2],\"dtype\":\"float64\",\"order\":\"little\"}],[380,{\"type\":\"ndarray\",\"array\":{\"type\":\"bytes\",\"data\":\"AAAA4NDLHMAAAACAAx8rwA==\"},\"shape\":[2],\"dtype\":\"float64\",\"order\":\"little\"}],[381,{\"type\":\"ndarray\",\"array\":{\"type\":\"bytes\",\"data\":\"AAAAoA2bJcAAAAAARU4rwA==\"},\"shape\":[2],\"dtype\":\"float64\",\"order\":\"little\"}],[382,{\"type\":\"ndarray\",\"array\":{\"type\":\"bytes\",\"data\":\"AAAAIAJJEsAAAADAT9UqwA==\"},\"shape\":[2],\"dtype\":\"float64\",\"order\":\"little\"}],[383,{\"type\":\"ndarray\",\"array\":{\"type\":\"bytes\",\"data\":\"AAAA4IDTIcAAAADA1OQuwA==\"},\"shape\":[2],\"dtype\":\"float64\",\"order\":\"little\"}],[384,{\"type\":\"ndarray\",\"array\":{\"type\":\"bytes\",\"data\":\"AAAAwA6jIcAAAAAA87InwA==\"},\"shape\":[2],\"dtype\":\"float64\",\"order\":\"little\"}],[385,{\"type\":\"ndarray\",\"array\":{\"type\":\"bytes\",\"data\":\"AAAAoPFhIMAAAABgJiUvwA==\"},\"shape\":[2],\"dtype\":\"float64\",\"order\":\"little\"}],[386,{\"type\":\"ndarray\",\"array\":{\"type\":\"bytes\",\"data\":\"AAAAYAWhH8AAAADgsWIqwA==\"},\"shape\":[2],\"dtype\":\"float64\",\"order\":\"little\"}],[387,{\"type\":\"ndarray\",\"array\":{\"type\":\"bytes\",\"data\":\"AAAAAOgnKcAAAACAnC4qwA==\"},\"shape\":[2],\"dtype\":\"float64\",\"order\":\"little\"}],[388,{\"type\":\"ndarray\",\"array\":{\"type\":\"bytes\",\"data\":\"AAAAIBlLIcAAAACAU3EwwA==\"},\"shape\":[2],\"dtype\":\"float64\",\"order\":\"little\"}],[389,{\"type\":\"ndarray\",\"array\":{\"type\":\"bytes\",\"data\":\"AAAAoBtQJsAAAADAHN4jwA==\"},\"shape\":[2],\"dtype\":\"float64\",\"order\":\"little\"}],[390,{\"type\":\"ndarray\",\"array\":{\"type\":\"bytes\",\"data\":\"AAAAwFvUF8AAAAAAsp4swA==\"},\"shape\":[2],\"dtype\":\"float64\",\"order\":\"little\"}],[391,{\"type\":\"ndarray\",\"array\":{\"type\":\"bytes\",\"data\":\"AAAAwGRkF8AAAADA5kkpwA==\"},\"shape\":[2],\"dtype\":\"float64\",\"order\":\"little\"}],[392,{\"type\":\"ndarray\",\"array\":{\"type\":\"bytes\",\"data\":\"AAAAIPnTIsAAAADg0QkmwA==\"},\"shape\":[2],\"dtype\":\"float64\",\"order\":\"little\"}],[393,{\"type\":\"ndarray\",\"array\":{\"type\":\"bytes\",\"data\":\"AAAAoAXqI8AAAACAkcovwA==\"},\"shape\":[2],\"dtype\":\"float64\",\"order\":\"little\"}],[394,{\"type\":\"ndarray\",\"array\":{\"type\":\"bytes\",\"data\":\"AAAAwD87GsAAAABg4uQrwA==\"},\"shape\":[2],\"dtype\":\"float64\",\"order\":\"little\"}],[395,{\"type\":\"ndarray\",\"array\":{\"type\":\"bytes\",\"data\":\"AAAAIIJVJMAAAABgboUswA==\"},\"shape\":[2],\"dtype\":\"float64\",\"order\":\"little\"}],[396,{\"type\":\"ndarray\",\"array\":{\"type\":\"bytes\",\"data\":\"AAAAQOGPKMAAAABAIJ4pwA==\"},\"shape\":[2],\"dtype\":\"float64\",\"order\":\"little\"}],[397,{\"type\":\"ndarray\",\"array\":{\"type\":\"bytes\",\"data\":\"AAAAoGwyI8AAAACgaDoswA==\"},\"shape\":[2],\"dtype\":\"float64\",\"order\":\"little\"}],[398,{\"type\":\"ndarray\",\"array\":{\"type\":\"bytes\",\"data\":\"AAAAwOxvI8AAAACAvN4mwA==\"},\"shape\":[2],\"dtype\":\"float64\",\"order\":\"little\"}],[399,{\"type\":\"ndarray\",\"array\":{\"type\":\"bytes\",\"data\":\"AAAAQIfuGsAAAADgHZoqwA==\"},\"shape\":[2],\"dtype\":\"float64\",\"order\":\"little\"}],[400,{\"type\":\"ndarray\",\"array\":{\"type\":\"bytes\",\"data\":\"AAAAQOXoHsAAAACghdorwA==\"},\"shape\":[2],\"dtype\":\"float64\",\"order\":\"little\"}],[401,{\"type\":\"ndarray\",\"array\":{\"type\":\"bytes\",\"data\":\"AAAAQEF5FsAAAAAgAYotwA==\"},\"shape\":[2],\"dtype\":\"float64\",\"order\":\"little\"}],[402,{\"type\":\"ndarray\",\"array\":{\"type\":\"bytes\",\"data\":\"AAAA4F4aEsAAAAAAqnQswA==\"},\"shape\":[2],\"dtype\":\"float64\",\"order\":\"little\"}],[403,{\"type\":\"ndarray\",\"array\":{\"type\":\"bytes\",\"data\":\"AAAAYLXwHcAAAABAFp0owA==\"},\"shape\":[2],\"dtype\":\"float64\",\"order\":\"little\"}],[404,{\"type\":\"ndarray\",\"array\":{\"type\":\"bytes\",\"data\":\"AAAAQGsmIcAAAADAb0gqwA==\"},\"shape\":[2],\"dtype\":\"float64\",\"order\":\"little\"}],[405,{\"type\":\"ndarray\",\"array\":{\"type\":\"bytes\",\"data\":\"AAAAAFUrIMAAAACAKWInwA==\"},\"shape\":[2],\"dtype\":\"float64\",\"order\":\"little\"}],[406,{\"type\":\"ndarray\",\"array\":{\"type\":\"bytes\",\"data\":\"AAAAYLz6FcAAAACgWlorwA==\"},\"shape\":[2],\"dtype\":\"float64\",\"order\":\"little\"}],[407,{\"type\":\"ndarray\",\"array\":{\"type\":\"bytes\",\"data\":\"AAAAgKkHIMAAAADAXQwpwA==\"},\"shape\":[2],\"dtype\":\"float64\",\"order\":\"little\"}],[408,{\"type\":\"ndarray\",\"array\":{\"type\":\"bytes\",\"data\":\"AAAAwF4RIMAAAABA7x0uwA==\"},\"shape\":[2],\"dtype\":\"float64\",\"order\":\"little\"}],[409,{\"type\":\"ndarray\",\"array\":{\"type\":\"bytes\",\"data\":\"AAAAAKSsJcAAAABgUYcowA==\"},\"shape\":[2],\"dtype\":\"float64\",\"order\":\"little\"}],[410,{\"type\":\"ndarray\",\"array\":{\"type\":\"bytes\",\"data\":\"AAAAQEB6F8AAAACgyuknwA==\"},\"shape\":[2],\"dtype\":\"float64\",\"order\":\"little\"}],[411,{\"type\":\"ndarray\",\"array\":{\"type\":\"bytes\",\"data\":\"AAAAIPeqKMAAAACAMvojwA==\"},\"shape\":[2],\"dtype\":\"float64\",\"order\":\"little\"}],[412,{\"type\":\"ndarray\",\"array\":{\"type\":\"bytes\",\"data\":\"AAAAgPiGJsAAAADgRp8iwA==\"},\"shape\":[2],\"dtype\":\"float64\",\"order\":\"little\"}],[413,{\"type\":\"ndarray\",\"array\":{\"type\":\"bytes\",\"data\":\"AAAAoC5hGsAAAADAgQsowA==\"},\"shape\":[2],\"dtype\":\"float64\",\"order\":\"little\"}],[414,{\"type\":\"ndarray\",\"array\":{\"type\":\"bytes\",\"data\":\"AAAAYOUNIcAAAABgYHMswA==\"},\"shape\":[2],\"dtype\":\"float64\",\"order\":\"little\"}],[415,{\"type\":\"ndarray\",\"array\":{\"type\":\"bytes\",\"data\":\"AAAAQIFXJsAAAABg36QnwA==\"},\"shape\":[2],\"dtype\":\"float64\",\"order\":\"little\"}],[416,{\"type\":\"ndarray\",\"array\":{\"type\":\"bytes\",\"data\":\"AAAAQKAmKMAAAABg1AMswA==\"},\"shape\":[2],\"dtype\":\"float64\",\"order\":\"little\"}],[417,{\"type\":\"ndarray\",\"array\":{\"type\":\"bytes\",\"data\":\"AAAA4GZZHMAAAACgFOEtwA==\"},\"shape\":[2],\"dtype\":\"float64\",\"order\":\"little\"}],[418,{\"type\":\"ndarray\",\"array\":{\"type\":\"bytes\",\"data\":\"AAAAoJr5JcAAAABAkhotwA==\"},\"shape\":[2],\"dtype\":\"float64\",\"order\":\"little\"}],[419,{\"type\":\"ndarray\",\"array\":{\"type\":\"bytes\",\"data\":\"AAAAoGONHMAAAAAAn24swA==\"},\"shape\":[2],\"dtype\":\"float64\",\"order\":\"little\"}],[420,{\"type\":\"ndarray\",\"array\":{\"type\":\"bytes\",\"data\":\"AAAA4DWJJ8AAAABgq34jwA==\"},\"shape\":[2],\"dtype\":\"float64\",\"order\":\"little\"}],[421,{\"type\":\"ndarray\",\"array\":{\"type\":\"bytes\",\"data\":\"AAAAIFTVJcAAAADAuJMtwA==\"},\"shape\":[2],\"dtype\":\"float64\",\"order\":\"little\"}],[422,{\"type\":\"ndarray\",\"array\":{\"type\":\"bytes\",\"data\":\"AAAAILHjJcAAAABA05YuwA==\"},\"shape\":[2],\"dtype\":\"float64\",\"order\":\"little\"}],[423,{\"type\":\"ndarray\",\"array\":{\"type\":\"bytes\",\"data\":\"AAAAwPnwIcAAAAAgslUtwA==\"},\"shape\":[2],\"dtype\":\"float64\",\"order\":\"little\"}],[424,{\"type\":\"ndarray\",\"array\":{\"type\":\"bytes\",\"data\":\"AAAAAACtG8AAAABAzcAuwA==\"},\"shape\":[2],\"dtype\":\"float64\",\"order\":\"little\"}],[425,{\"type\":\"ndarray\",\"array\":{\"type\":\"bytes\",\"data\":\"AAAAoHNBIcAAAABAChwlwA==\"},\"shape\":[2],\"dtype\":\"float64\",\"order\":\"little\"}],[426,{\"type\":\"ndarray\",\"array\":{\"type\":\"bytes\",\"data\":\"AAAAQDTMJsAAAAAg7KwrwA==\"},\"shape\":[2],\"dtype\":\"float64\",\"order\":\"little\"}],[427,{\"type\":\"ndarray\",\"array\":{\"type\":\"bytes\",\"data\":\"AAAAoPkUGMAAAADA1IwrwA==\"},\"shape\":[2],\"dtype\":\"float64\",\"order\":\"little\"}],[428,{\"type\":\"ndarray\",\"array\":{\"type\":\"bytes\",\"data\":\"AAAA4PGLKMAAAABgpUYnwA==\"},\"shape\":[2],\"dtype\":\"float64\",\"order\":\"little\"}],[429,{\"type\":\"ndarray\",\"array\":{\"type\":\"bytes\",\"data\":\"AAAAwHCLKcAAAADgD/glwA==\"},\"shape\":[2],\"dtype\":\"float64\",\"order\":\"little\"}],[430,{\"type\":\"ndarray\",\"array\":{\"type\":\"bytes\",\"data\":\"AAAAwBoeJMAAAACAsdwuwA==\"},\"shape\":[2],\"dtype\":\"float64\",\"order\":\"little\"}],[431,{\"type\":\"ndarray\",\"array\":{\"type\":\"bytes\",\"data\":\"AAAAIO52JcAAAAAg4U0iwA==\"},\"shape\":[2],\"dtype\":\"float64\",\"order\":\"little\"}],[432,{\"type\":\"ndarray\",\"array\":{\"type\":\"bytes\",\"data\":\"AAAAgK02E0AAAACgYyofQA==\"},\"shape\":[2],\"dtype\":\"float64\",\"order\":\"little\"}],[433,{\"type\":\"ndarray\",\"array\":{\"type\":\"bytes\",\"data\":\"AAAAYI7mC0AAAAAA0vIbQA==\"},\"shape\":[2],\"dtype\":\"float64\",\"order\":\"little\"}],[434,{\"type\":\"ndarray\",\"array\":{\"type\":\"bytes\",\"data\":\"AAAA4NRKE0AAAACAcpEJQA==\"},\"shape\":[2],\"dtype\":\"float64\",\"order\":\"little\"}],[435,{\"type\":\"ndarray\",\"array\":{\"type\":\"bytes\",\"data\":\"AAAAwAtJJEAAAACgBVkoQA==\"},\"shape\":[2],\"dtype\":\"float64\",\"order\":\"little\"}],[436,{\"type\":\"ndarray\",\"array\":{\"type\":\"bytes\",\"data\":\"AAAA4DJBAEAAAACArYYgQA==\"},\"shape\":[2],\"dtype\":\"float64\",\"order\":\"little\"}],[437,{\"type\":\"ndarray\",\"array\":{\"type\":\"bytes\",\"data\":\"AAAAwEqZBUAAAABg9pskQA==\"},\"shape\":[2],\"dtype\":\"float64\",\"order\":\"little\"}],[438,{\"type\":\"ndarray\",\"array\":{\"type\":\"bytes\",\"data\":\"AAAAgLbV+T8AAADAVcgNQA==\"},\"shape\":[2],\"dtype\":\"float64\",\"order\":\"little\"}],[439,{\"type\":\"ndarray\",\"array\":{\"type\":\"bytes\",\"data\":\"AAAA4FSl/T8AAABgQNEOQA==\"},\"shape\":[2],\"dtype\":\"float64\",\"order\":\"little\"}],[440,{\"type\":\"ndarray\",\"array\":{\"type\":\"bytes\",\"data\":\"AAAAgKlaEEAAAACg4m0kQA==\"},\"shape\":[2],\"dtype\":\"float64\",\"order\":\"little\"}],[441,{\"type\":\"ndarray\",\"array\":{\"type\":\"bytes\",\"data\":\"AAAAgPU3FEAAAABAiA4VQA==\"},\"shape\":[2],\"dtype\":\"float64\",\"order\":\"little\"}],[442,{\"type\":\"ndarray\",\"array\":{\"type\":\"bytes\",\"data\":\"AAAAgOHlH0AAAACgERoqQA==\"},\"shape\":[2],\"dtype\":\"float64\",\"order\":\"little\"}],[443,{\"type\":\"ndarray\",\"array\":{\"type\":\"bytes\",\"data\":\"AAAA4DQ/8D8AAADgjSEYQA==\"},\"shape\":[2],\"dtype\":\"float64\",\"order\":\"little\"}],[444,{\"type\":\"ndarray\",\"array\":{\"type\":\"bytes\",\"data\":\"AAAAgEOvE0AAAACAm0clQA==\"},\"shape\":[2],\"dtype\":\"float64\",\"order\":\"little\"}],[445,{\"type\":\"ndarray\",\"array\":{\"type\":\"bytes\",\"data\":\"AAAAINqxI0AAAABgj3MkQA==\"},\"shape\":[2],\"dtype\":\"float64\",\"order\":\"little\"}],[446,{\"type\":\"ndarray\",\"array\":{\"type\":\"bytes\",\"data\":\"AAAA4CmOIUAAAACgb5MiQA==\"},\"shape\":[2],\"dtype\":\"float64\",\"order\":\"little\"}],[447,{\"type\":\"ndarray\",\"array\":{\"type\":\"bytes\",\"data\":\"AAAAIKnhBMAAAAAgOcIgQA==\"},\"shape\":[2],\"dtype\":\"float64\",\"order\":\"little\"}],[448,{\"type\":\"ndarray\",\"array\":{\"type\":\"bytes\",\"data\":\"AAAAoH+8G0AAAADA+YEqQA==\"},\"shape\":[2],\"dtype\":\"float64\",\"order\":\"little\"}],[449,{\"type\":\"ndarray\",\"array\":{\"type\":\"bytes\",\"data\":\"AAAAoIwFEUAAAACgsfIbQA==\"},\"shape\":[2],\"dtype\":\"float64\",\"order\":\"little\"}],[450,{\"type\":\"ndarray\",\"array\":{\"type\":\"bytes\",\"data\":\"AAAAIDOqDEAAAAAA3eUnQA==\"},\"shape\":[2],\"dtype\":\"float64\",\"order\":\"little\"}],[451,{\"type\":\"ndarray\",\"array\":{\"type\":\"bytes\",\"data\":\"AAAAoN02AMAAAAAA2NQhQA==\"},\"shape\":[2],\"dtype\":\"float64\",\"order\":\"little\"}],[452,{\"type\":\"ndarray\",\"array\":{\"type\":\"bytes\",\"data\":\"AAAAwGX4IUAAAABAvE4lQA==\"},\"shape\":[2],\"dtype\":\"float64\",\"order\":\"little\"}],[453,{\"type\":\"ndarray\",\"array\":{\"type\":\"bytes\",\"data\":\"AAAAoBu5EkAAAACAo3omQA==\"},\"shape\":[2],\"dtype\":\"float64\",\"order\":\"little\"}],[454,{\"type\":\"ndarray\",\"array\":{\"type\":\"bytes\",\"data\":\"AAAA4PvfJEAAAADAr8cnQA==\"},\"shape\":[2],\"dtype\":\"float64\",\"order\":\"little\"}],[455,{\"type\":\"ndarray\",\"array\":{\"type\":\"bytes\",\"data\":\"AAAAQIvFFEAAAABgzu8jQA==\"},\"shape\":[2],\"dtype\":\"float64\",\"order\":\"little\"}],[456,{\"type\":\"ndarray\",\"array\":{\"type\":\"bytes\",\"data\":\"AAAAAASwH0AAAACguokoQA==\"},\"shape\":[2],\"dtype\":\"float64\",\"order\":\"little\"}],[457,{\"type\":\"ndarray\",\"array\":{\"type\":\"bytes\",\"data\":\"AAAAAKDY+T8AAACANd0KQA==\"},\"shape\":[2],\"dtype\":\"float64\",\"order\":\"little\"}],[458,{\"type\":\"ndarray\",\"array\":{\"type\":\"bytes\",\"data\":\"AAAAgGJp/j8AAABArrskQA==\"},\"shape\":[2],\"dtype\":\"float64\",\"order\":\"little\"}],[459,{\"type\":\"ndarray\",\"array\":{\"type\":\"bytes\",\"data\":\"AAAAYJiUJEAAAACANu0eQA==\"},\"shape\":[2],\"dtype\":\"float64\",\"order\":\"little\"}],[460,{\"type\":\"ndarray\",\"array\":{\"type\":\"bytes\",\"data\":\"AAAAQOvTJEAAAAAgqhQmQA==\"},\"shape\":[2],\"dtype\":\"float64\",\"order\":\"little\"}],[461,{\"type\":\"ndarray\",\"array\":{\"type\":\"bytes\",\"data\":\"AAAAIGXyIkAAAAAga0smQA==\"},\"shape\":[2],\"dtype\":\"float64\",\"order\":\"little\"}],[462,{\"type\":\"ndarray\",\"array\":{\"type\":\"bytes\",\"data\":\"AAAAYPMoA8AAAABgp3ciQA==\"},\"shape\":[2],\"dtype\":\"float64\",\"order\":\"little\"}],[463,{\"type\":\"ndarray\",\"array\":{\"type\":\"bytes\",\"data\":\"AAAA4LSkFUAAAADAsx0gQA==\"},\"shape\":[2],\"dtype\":\"float64\",\"order\":\"little\"}],[464,{\"type\":\"ndarray\",\"array\":{\"type\":\"bytes\",\"data\":\"AAAAYDJ8JUAAAACgYUEnQA==\"},\"shape\":[2],\"dtype\":\"float64\",\"order\":\"little\"}],[465,{\"type\":\"ndarray\",\"array\":{\"type\":\"bytes\",\"data\":\"AAAAQOK/I0AAAAAg2nsdQA==\"},\"shape\":[2],\"dtype\":\"float64\",\"order\":\"little\"}],[466,{\"type\":\"ndarray\",\"array\":{\"type\":\"bytes\",\"data\":\"AAAAIMOLJUAAAACgoC4hQA==\"},\"shape\":[2],\"dtype\":\"float64\",\"order\":\"little\"}],[467,{\"type\":\"ndarray\",\"array\":{\"type\":\"bytes\",\"data\":\"AAAAINXAIkAAAAAg2bscQA==\"},\"shape\":[2],\"dtype\":\"float64\",\"order\":\"little\"}],[468,{\"type\":\"ndarray\",\"array\":{\"type\":\"bytes\",\"data\":\"AAAAIFJFH0AAAACg+monQA==\"},\"shape\":[2],\"dtype\":\"float64\",\"order\":\"little\"}],[469,{\"type\":\"ndarray\",\"array\":{\"type\":\"bytes\",\"data\":\"AAAAIA7XA8AAAAAA4nsfQA==\"},\"shape\":[2],\"dtype\":\"float64\",\"order\":\"little\"}],[470,{\"type\":\"ndarray\",\"array\":{\"type\":\"bytes\",\"data\":\"AAAAoHDSA8AAAADghKEfQA==\"},\"shape\":[2],\"dtype\":\"float64\",\"order\":\"little\"}],[471,{\"type\":\"ndarray\",\"array\":{\"type\":\"bytes\",\"data\":\"AAAAANrU9D8AAACA9H0WQA==\"},\"shape\":[2],\"dtype\":\"float64\",\"order\":\"little\"}],[472,{\"type\":\"ndarray\",\"array\":{\"type\":\"bytes\",\"data\":\"AAAAgGbcA8AAAABAAbAgQA==\"},\"shape\":[2],\"dtype\":\"float64\",\"order\":\"little\"}],[473,{\"type\":\"ndarray\",\"array\":{\"type\":\"bytes\",\"data\":\"AAAAwDhf+T8AAAAg1W8iQA==\"},\"shape\":[2],\"dtype\":\"float64\",\"order\":\"little\"}],[474,{\"type\":\"ndarray\",\"array\":{\"type\":\"bytes\",\"data\":\"AAAA4J8HIUAAAAAAfCMrQA==\"},\"shape\":[2],\"dtype\":\"float64\",\"order\":\"little\"}],[475,{\"type\":\"ndarray\",\"array\":{\"type\":\"bytes\",\"data\":\"AAAAoNjrIUAAAADA+bknQA==\"},\"shape\":[2],\"dtype\":\"float64\",\"order\":\"little\"}],[476,{\"type\":\"ndarray\",\"array\":{\"type\":\"bytes\",\"data\":\"AAAAIJEoJEAAAABASDInQA==\"},\"shape\":[2],\"dtype\":\"float64\",\"order\":\"little\"}],[477,{\"type\":\"ndarray\",\"array\":{\"type\":\"bytes\",\"data\":\"AAAAACtdE0AAAAAgdh8AQA==\"},\"shape\":[2],\"dtype\":\"float64\",\"order\":\"little\"}],[478,{\"type\":\"ndarray\",\"array\":{\"type\":\"bytes\",\"data\":\"AAAAAJ7k5D8AAACAxrMZQA==\"},\"shape\":[2],\"dtype\":\"float64\",\"order\":\"little\"}],[479,{\"type\":\"ndarray\",\"array\":{\"type\":\"bytes\",\"data\":\"AAAA4P6VD0AAAADghcMmQA==\"},\"shape\":[2],\"dtype\":\"float64\",\"order\":\"little\"}],[480,{\"type\":\"ndarray\",\"array\":{\"type\":\"bytes\",\"data\":\"AAAAwOLKI0AAAACgU3cpQA==\"},\"shape\":[2],\"dtype\":\"float64\",\"order\":\"little\"}],[481,{\"type\":\"ndarray\",\"array\":{\"type\":\"bytes\",\"data\":\"AAAAwCl0BkAAAADATKklQA==\"},\"shape\":[2],\"dtype\":\"float64\",\"order\":\"little\"}],[482,{\"type\":\"ndarray\",\"array\":{\"type\":\"bytes\",\"data\":\"AAAAYB4K/T8AAADAVAcVQA==\"},\"shape\":[2],\"dtype\":\"float64\",\"order\":\"little\"}],[483,{\"type\":\"ndarray\",\"array\":{\"type\":\"bytes\",\"data\":\"AAAAgHAl5j8AAADgbXgcQA==\"},\"shape\":[2],\"dtype\":\"float64\",\"order\":\"little\"}],[484,{\"type\":\"ndarray\",\"array\":{\"type\":\"bytes\",\"data\":\"AAAA4MZ7I0AAAADAQmwoQA==\"},\"shape\":[2],\"dtype\":\"float64\",\"order\":\"little\"}],[485,{\"type\":\"ndarray\",\"array\":{\"type\":\"bytes\",\"data\":\"AAAAYOqtDEAAAABgim4kQA==\"},\"shape\":[2],\"dtype\":\"float64\",\"order\":\"little\"}],[486,{\"type\":\"ndarray\",\"array\":{\"type\":\"bytes\",\"data\":\"AAAAIMlNIkAAAAAAoC0qQA==\"},\"shape\":[2],\"dtype\":\"float64\",\"order\":\"little\"}],[487,{\"type\":\"ndarray\",\"array\":{\"type\":\"bytes\",\"data\":\"AAAAYKdiI0AAAAAgvhYhQA==\"},\"shape\":[2],\"dtype\":\"float64\",\"order\":\"little\"}],[488,{\"type\":\"ndarray\",\"array\":{\"type\":\"bytes\",\"data\":\"AAAAYBAZJEAAAACg6DUkQA==\"},\"shape\":[2],\"dtype\":\"float64\",\"order\":\"little\"}],[489,{\"type\":\"ndarray\",\"array\":{\"type\":\"bytes\",\"data\":\"AAAAwLKRCUAAAACAkQElQA==\"},\"shape\":[2],\"dtype\":\"float64\",\"order\":\"little\"}],[490,{\"type\":\"ndarray\",\"array\":{\"type\":\"bytes\",\"data\":\"AAAAQHiSHUAAAACAKF8rQA==\"},\"shape\":[2],\"dtype\":\"float64\",\"order\":\"little\"}],[491,{\"type\":\"ndarray\",\"array\":{\"type\":\"bytes\",\"data\":\"AAAAwJLg+j8AAABg0F4GQA==\"},\"shape\":[2],\"dtype\":\"float64\",\"order\":\"little\"}],[492,{\"type\":\"ndarray\",\"array\":{\"type\":\"bytes\",\"data\":\"AAAAICli8j8AAAAAhyojQA==\"},\"shape\":[2],\"dtype\":\"float64\",\"order\":\"little\"}],[493,{\"type\":\"ndarray\",\"array\":{\"type\":\"bytes\",\"data\":\"AAAAwET63r8AAABgg00WQA==\"},\"shape\":[2],\"dtype\":\"float64\",\"order\":\"little\"}],[494,{\"type\":\"ndarray\",\"array\":{\"type\":\"bytes\",\"data\":\"AAAAYPj+AEAAAADg0rgMQA==\"},\"shape\":[2],\"dtype\":\"float64\",\"order\":\"little\"}],[495,{\"type\":\"ndarray\",\"array\":{\"type\":\"bytes\",\"data\":\"AAAAIKtPAEAAAAAAOUEGQA==\"},\"shape\":[2],\"dtype\":\"float64\",\"order\":\"little\"}],[496,{\"type\":\"ndarray\",\"array\":{\"type\":\"bytes\",\"data\":\"AAAAwJze/D8AAAAgiqsmQA==\"},\"shape\":[2],\"dtype\":\"float64\",\"order\":\"little\"}],[497,{\"type\":\"ndarray\",\"array\":{\"type\":\"bytes\",\"data\":\"AAAAIA3iJUAAAABALnYmQA==\"},\"shape\":[2],\"dtype\":\"float64\",\"order\":\"little\"}],[498,{\"type\":\"ndarray\",\"array\":{\"type\":\"bytes\",\"data\":\"AAAAwLO4HkAAAABA3OgrQA==\"},\"shape\":[2],\"dtype\":\"float64\",\"order\":\"little\"}],[499,{\"type\":\"ndarray\",\"array\":{\"type\":\"bytes\",\"data\":\"AAAAAPBsE0AAAAAgBjAJQA==\"},\"shape\":[2],\"dtype\":\"float64\",\"order\":\"little\"}],[500,{\"type\":\"ndarray\",\"array\":{\"type\":\"bytes\",\"data\":\"AAAAINmEEEAAAABg2zoaQA==\"},\"shape\":[2],\"dtype\":\"float64\",\"order\":\"little\"}],[501,{\"type\":\"ndarray\",\"array\":{\"type\":\"bytes\",\"data\":\"AAAAIAdCDUAAAADALTkmQA==\"},\"shape\":[2],\"dtype\":\"float64\",\"order\":\"little\"}],[502,{\"type\":\"ndarray\",\"array\":{\"type\":\"bytes\",\"data\":\"AAAA4J6ZJUAAAADAw08gQA==\"},\"shape\":[2],\"dtype\":\"float64\",\"order\":\"little\"}],[503,{\"type\":\"ndarray\",\"array\":{\"type\":\"bytes\",\"data\":\"AAAAgANXIUAAAABAhT4qQA==\"},\"shape\":[2],\"dtype\":\"float64\",\"order\":\"little\"}],[504,{\"type\":\"ndarray\",\"array\":{\"type\":\"bytes\",\"data\":\"AAAAQLFcCkAAAACAaRonQA==\"},\"shape\":[2],\"dtype\":\"float64\",\"order\":\"little\"}],[505,{\"type\":\"ndarray\",\"array\":{\"type\":\"bytes\",\"data\":\"AAAAIP9RIEAAAAAgH9orQA==\"},\"shape\":[2],\"dtype\":\"float64\",\"order\":\"little\"}],[506,{\"type\":\"ndarray\",\"array\":{\"type\":\"bytes\",\"data\":\"AAAAoACC9z8AAAAgtpwlQA==\"},\"shape\":[2],\"dtype\":\"float64\",\"order\":\"little\"}],[507,{\"type\":\"ndarray\",\"array\":{\"type\":\"bytes\",\"data\":\"AAAAYEa2BkAAAABgnt8nQA==\"},\"shape\":[2],\"dtype\":\"float64\",\"order\":\"little\"}],[508,{\"type\":\"ndarray\",\"array\":{\"type\":\"bytes\",\"data\":\"AAAAgNQbC0AAAAAgc3MmQA==\"},\"shape\":[2],\"dtype\":\"float64\",\"order\":\"little\"}],[509,{\"type\":\"ndarray\",\"array\":{\"type\":\"bytes\",\"data\":\"AAAAwJMyIEAAAAAgbaslQA==\"},\"shape\":[2],\"dtype\":\"float64\",\"order\":\"little\"}],[510,{\"type\":\"ndarray\",\"array\":{\"type\":\"bytes\",\"data\":\"AAAAQAoxE0AAAABAiNcbQA==\"},\"shape\":[2],\"dtype\":\"float64\",\"order\":\"little\"}],[511,{\"type\":\"ndarray\",\"array\":{\"type\":\"bytes\",\"data\":\"AAAAIK3DDEAAAABgcBwfQA==\"},\"shape\":[2],\"dtype\":\"float64\",\"order\":\"little\"}],[512,{\"type\":\"ndarray\",\"array\":{\"type\":\"bytes\",\"data\":\"AAAAYCOT8T8AAABAfgoZQA==\"},\"shape\":[2],\"dtype\":\"float64\",\"order\":\"little\"}],[513,{\"type\":\"ndarray\",\"array\":{\"type\":\"bytes\",\"data\":\"AAAAAGPSGkAAAADg+JUCQA==\"},\"shape\":[2],\"dtype\":\"float64\",\"order\":\"little\"}],[514,{\"type\":\"ndarray\",\"array\":{\"type\":\"bytes\",\"data\":\"AAAAYE5G9z8AAAAAZUgGQA==\"},\"shape\":[2],\"dtype\":\"float64\",\"order\":\"little\"}],[515,{\"type\":\"ndarray\",\"array\":{\"type\":\"bytes\",\"data\":\"AAAAwI7ZA8AAAADgY7EgQA==\"},\"shape\":[2],\"dtype\":\"float64\",\"order\":\"little\"}],[516,{\"type\":\"ndarray\",\"array\":{\"type\":\"bytes\",\"data\":\"AAAAIN+UIEAAAABgnmcpQA==\"},\"shape\":[2],\"dtype\":\"float64\",\"order\":\"little\"}],[517,{\"type\":\"ndarray\",\"array\":{\"type\":\"bytes\",\"data\":\"AAAAYCiAIEAAAABAKM0qQA==\"},\"shape\":[2],\"dtype\":\"float64\",\"order\":\"little\"}],[518,{\"type\":\"ndarray\",\"array\":{\"type\":\"bytes\",\"data\":\"AAAAAE3BBMAAAADg8YEhQA==\"},\"shape\":[2],\"dtype\":\"float64\",\"order\":\"little\"}],[519,{\"type\":\"ndarray\",\"array\":{\"type\":\"bytes\",\"data\":\"AAAAYM/WIUAAAABgNnUfQA==\"},\"shape\":[2],\"dtype\":\"float64\",\"order\":\"little\"}],[520,{\"type\":\"ndarray\",\"array\":{\"type\":\"bytes\",\"data\":\"AAAAwLaXGUAAAAAgThYqQA==\"},\"shape\":[2],\"dtype\":\"float64\",\"order\":\"little\"}],[521,{\"type\":\"ndarray\",\"array\":{\"type\":\"bytes\",\"data\":\"AAAAoLJ0IkAAAABAup4gQA==\"},\"shape\":[2],\"dtype\":\"float64\",\"order\":\"little\"}],[522,{\"type\":\"ndarray\",\"array\":{\"type\":\"bytes\",\"data\":\"AAAA4CCNIEAAAABg3nkkQA==\"},\"shape\":[2],\"dtype\":\"float64\",\"order\":\"little\"}],[523,{\"type\":\"ndarray\",\"array\":{\"type\":\"bytes\",\"data\":\"AAAAYPvxIUAAAACA1McqQA==\"},\"shape\":[2],\"dtype\":\"float64\",\"order\":\"little\"}],[524,{\"type\":\"ndarray\",\"array\":{\"type\":\"bytes\",\"data\":\"AAAAYNYyHUAAAACAge4pQA==\"},\"shape\":[2],\"dtype\":\"float64\",\"order\":\"little\"}],[525,{\"type\":\"ndarray\",\"array\":{\"type\":\"bytes\",\"data\":\"AAAAgBDXIEAAAABA6DAnQA==\"},\"shape\":[2],\"dtype\":\"float64\",\"order\":\"little\"}],[526,{\"type\":\"ndarray\",\"array\":{\"type\":\"bytes\",\"data\":\"AAAAAFlCJUAAAAAA2CglQA==\"},\"shape\":[2],\"dtype\":\"float64\",\"order\":\"little\"}],[527,{\"type\":\"ndarray\",\"array\":{\"type\":\"bytes\",\"data\":\"AAAAoJE1DUAAAADAdVgjQA==\"},\"shape\":[2],\"dtype\":\"float64\",\"order\":\"little\"}],[528,{\"type\":\"ndarray\",\"array\":{\"type\":\"bytes\",\"data\":\"AAAAYNmjFkAAAABgs8jrPw==\"},\"shape\":[2],\"dtype\":\"float64\",\"order\":\"little\"}],[529,{\"type\":\"ndarray\",\"array\":{\"type\":\"bytes\",\"data\":\"AAAAYG8KAUAAAABAIFgjQA==\"},\"shape\":[2],\"dtype\":\"float64\",\"order\":\"little\"}],[530,{\"type\":\"ndarray\",\"array\":{\"type\":\"bytes\",\"data\":\"AAAAwDi7EEAAAACgjfwdQA==\"},\"shape\":[2],\"dtype\":\"float64\",\"order\":\"little\"}],[531,{\"type\":\"ndarray\",\"array\":{\"type\":\"bytes\",\"data\":\"AAAAgA+0IkAAAABgnWcnQA==\"},\"shape\":[2],\"dtype\":\"float64\",\"order\":\"little\"}],[532,{\"type\":\"ndarray\",\"array\":{\"type\":\"bytes\",\"data\":\"AAAA4MFLBEAAAABgwb8gQA==\"},\"shape\":[2],\"dtype\":\"float64\",\"order\":\"little\"}],[533,{\"type\":\"ndarray\",\"array\":{\"type\":\"bytes\",\"data\":\"AAAAQNJ7+j8AAABANXchQA==\"},\"shape\":[2],\"dtype\":\"float64\",\"order\":\"little\"}],[534,{\"type\":\"ndarray\",\"array\":{\"type\":\"bytes\",\"data\":\"AAAAQMf4FEAAAADgzB0iQA==\"},\"shape\":[2],\"dtype\":\"float64\",\"order\":\"little\"}],[535,{\"type\":\"ndarray\",\"array\":{\"type\":\"bytes\",\"data\":\"AAAAIKQEDUAAAAAAjcIZQA==\"},\"shape\":[2],\"dtype\":\"float64\",\"order\":\"little\"}],[536,{\"type\":\"ndarray\",\"array\":{\"type\":\"bytes\",\"data\":\"AAAAwEXZAEAAAAAgOHwmQA==\"},\"shape\":[2],\"dtype\":\"float64\",\"order\":\"little\"}],[537,{\"type\":\"ndarray\",\"array\":{\"type\":\"bytes\",\"data\":\"AAAAAO+18j8AAAAgqUQkQA==\"},\"shape\":[2],\"dtype\":\"float64\",\"order\":\"little\"}],[538,{\"type\":\"ndarray\",\"array\":{\"type\":\"bytes\",\"data\":\"AAAAwKG+EkAAAADALookQA==\"},\"shape\":[2],\"dtype\":\"float64\",\"order\":\"little\"}],[539,{\"type\":\"ndarray\",\"array\":{\"type\":\"bytes\",\"data\":\"AAAAgENEFEAAAACAd58gQA==\"},\"shape\":[2],\"dtype\":\"float64\",\"order\":\"little\"}],[540,{\"type\":\"ndarray\",\"array\":{\"type\":\"bytes\",\"data\":\"AAAAoFaqHkAAAAAAyrEqQA==\"},\"shape\":[2],\"dtype\":\"float64\",\"order\":\"little\"}],[541,{\"type\":\"ndarray\",\"array\":{\"type\":\"bytes\",\"data\":\"AAAAQJT5IUAAAAAA67AmQA==\"},\"shape\":[2],\"dtype\":\"float64\",\"order\":\"little\"}],[542,{\"type\":\"ndarray\",\"array\":{\"type\":\"bytes\",\"data\":\"AAAAgDVdI0AAAAAAL5kfQA==\"},\"shape\":[2],\"dtype\":\"float64\",\"order\":\"little\"}],[543,{\"type\":\"ndarray\",\"array\":{\"type\":\"bytes\",\"data\":\"AAAAoJnBI0AAAABguo8nQA==\"},\"shape\":[2],\"dtype\":\"float64\",\"order\":\"little\"}],[544,{\"type\":\"ndarray\",\"array\":{\"type\":\"bytes\",\"data\":\"AAAAgAwBJkAAAACAP7wjQA==\"},\"shape\":[2],\"dtype\":\"float64\",\"order\":\"little\"}],[545,{\"type\":\"ndarray\",\"array\":{\"type\":\"bytes\",\"data\":\"AAAAYF5NJEAAAADgH2UhQA==\"},\"shape\":[2],\"dtype\":\"float64\",\"order\":\"little\"}],[546,{\"type\":\"ndarray\",\"array\":{\"type\":\"bytes\",\"data\":\"AAAAQHVjB0AAAACAK8gmQA==\"},\"shape\":[2],\"dtype\":\"float64\",\"order\":\"little\"}],[547,{\"type\":\"ndarray\",\"array\":{\"type\":\"bytes\",\"data\":\"AAAA4F3iIEAAAABAMV8mQA==\"},\"shape\":[2],\"dtype\":\"float64\",\"order\":\"little\"}],[548,{\"type\":\"ndarray\",\"array\":{\"type\":\"bytes\",\"data\":\"AAAAgDf/IkAAAAAgQf8pQA==\"},\"shape\":[2],\"dtype\":\"float64\",\"order\":\"little\"}],[549,{\"type\":\"ndarray\",\"array\":{\"type\":\"bytes\",\"data\":\"AAAAgL5jEEAAAABge44iQA==\"},\"shape\":[2],\"dtype\":\"float64\",\"order\":\"little\"}],[550,{\"type\":\"ndarray\",\"array\":{\"type\":\"bytes\",\"data\":\"AAAAIEqEA0AAAADALs0eQA==\"},\"shape\":[2],\"dtype\":\"float64\",\"order\":\"little\"}],[551,{\"type\":\"ndarray\",\"array\":{\"type\":\"bytes\",\"data\":\"AAAA4KDrEUAAAACAficnQA==\"},\"shape\":[2],\"dtype\":\"float64\",\"order\":\"little\"}],[552,{\"type\":\"ndarray\",\"array\":{\"type\":\"bytes\",\"data\":\"AAAAQJ0hDUAAAACgKjElQA==\"},\"shape\":[2],\"dtype\":\"float64\",\"order\":\"little\"}],[553,{\"type\":\"ndarray\",\"array\":{\"type\":\"bytes\",\"data\":\"AAAAwImAJkAAAADALPIiQA==\"},\"shape\":[2],\"dtype\":\"float64\",\"order\":\"little\"}],[554,{\"type\":\"ndarray\",\"array\":{\"type\":\"bytes\",\"data\":\"AAAAgBaKFEAAAABAi/0dQA==\"},\"shape\":[2],\"dtype\":\"float64\",\"order\":\"little\"}],[555,{\"type\":\"ndarray\",\"array\":{\"type\":\"bytes\",\"data\":\"AAAAgHG6EEAAAAAgpsAnQA==\"},\"shape\":[2],\"dtype\":\"float64\",\"order\":\"little\"}],[556,{\"type\":\"ndarray\",\"array\":{\"type\":\"bytes\",\"data\":\"AAAAAFXZE0AAAADgXRMmQA==\"},\"shape\":[2],\"dtype\":\"float64\",\"order\":\"little\"}],[557,{\"type\":\"ndarray\",\"array\":{\"type\":\"bytes\",\"data\":\"AAAAwEB1AUAAAADgwSsiQA==\"},\"shape\":[2],\"dtype\":\"float64\",\"order\":\"little\"}],[558,{\"type\":\"ndarray\",\"array\":{\"type\":\"bytes\",\"data\":\"AAAAIO07CUAAAADgVQMoQA==\"},\"shape\":[2],\"dtype\":\"float64\",\"order\":\"little\"}],[559,{\"type\":\"ndarray\",\"array\":{\"type\":\"bytes\",\"data\":\"AAAAgH8+DUAAAABAsOMhQA==\"},\"shape\":[2],\"dtype\":\"float64\",\"order\":\"little\"}],[560,{\"type\":\"ndarray\",\"array\":{\"type\":\"bytes\",\"data\":\"AAAAoEsiEUAAAADAlEgmQA==\"},\"shape\":[2],\"dtype\":\"float64\",\"order\":\"little\"}],[561,{\"type\":\"ndarray\",\"array\":{\"type\":\"bytes\",\"data\":\"AAAAoC7+JEAAAABA4hEjQA==\"},\"shape\":[2],\"dtype\":\"float64\",\"order\":\"little\"}],[562,{\"type\":\"ndarray\",\"array\":{\"type\":\"bytes\",\"data\":\"AAAAIFcJI0AAAAAg75ojQA==\"},\"shape\":[2],\"dtype\":\"float64\",\"order\":\"little\"}],[563,{\"type\":\"ndarray\",\"array\":{\"type\":\"bytes\",\"data\":\"AAAAAG9LBEAAAABgwBMcQA==\"},\"shape\":[2],\"dtype\":\"float64\",\"order\":\"little\"}],[564,{\"type\":\"ndarray\",\"array\":{\"type\":\"bytes\",\"data\":\"AAAAAB1aJUAAAAAA5kIiQA==\"},\"shape\":[2],\"dtype\":\"float64\",\"order\":\"little\"}],[565,{\"type\":\"ndarray\",\"array\":{\"type\":\"bytes\",\"data\":\"AAAAwDgoEUAAAADg8HMjQA==\"},\"shape\":[2],\"dtype\":\"float64\",\"order\":\"little\"}],[566,{\"type\":\"ndarray\",\"array\":{\"type\":\"bytes\",\"data\":\"AAAAAI9UEkAAAACAJkciQA==\"},\"shape\":[2],\"dtype\":\"float64\",\"order\":\"little\"}],[567,{\"type\":\"ndarray\",\"array\":{\"type\":\"bytes\",\"data\":\"AAAAAOlmIkAAAAAACd8hQA==\"},\"shape\":[2],\"dtype\":\"float64\",\"order\":\"little\"}],[568,{\"type\":\"ndarray\",\"array\":{\"type\":\"bytes\",\"data\":\"AAAAoJTOJUAAAADgv5UlQA==\"},\"shape\":[2],\"dtype\":\"float64\",\"order\":\"little\"}],[569,{\"type\":\"ndarray\",\"array\":{\"type\":\"bytes\",\"data\":\"AAAAYAJ+HkAAAACAzSomQA==\"},\"shape\":[2],\"dtype\":\"float64\",\"order\":\"little\"}],[570,{\"type\":\"ndarray\",\"array\":{\"type\":\"bytes\",\"data\":\"AAAA4OTRAkAAAADgolMnQA==\"},\"shape\":[2],\"dtype\":\"float64\",\"order\":\"little\"}],[571,{\"type\":\"ndarray\",\"array\":{\"type\":\"bytes\",\"data\":\"AAAAAI8Y+j8AAABA2nQjQA==\"},\"shape\":[2],\"dtype\":\"float64\",\"order\":\"little\"}],[572,{\"type\":\"ndarray\",\"array\":{\"type\":\"bytes\",\"data\":\"AAAAAEPvIkAAAACAGOIoQA==\"},\"shape\":[2],\"dtype\":\"float64\",\"order\":\"little\"}],[573,{\"type\":\"ndarray\",\"array\":{\"type\":\"bytes\",\"data\":\"AAAAQIhfCEAAAADg0GQaQA==\"},\"shape\":[2],\"dtype\":\"float64\",\"order\":\"little\"}],[574,{\"type\":\"ndarray\",\"array\":{\"type\":\"bytes\",\"data\":\"AAAAYE8KJUAAAACAJhMkQA==\"},\"shape\":[2],\"dtype\":\"float64\",\"order\":\"little\"}],[575,{\"type\":\"ndarray\",\"array\":{\"type\":\"bytes\",\"data\":\"AAAAQG4lFEAAAACAI9AiQA==\"},\"shape\":[2],\"dtype\":\"float64\",\"order\":\"little\"}],[576,{\"type\":\"ndarray\",\"array\":{\"type\":\"bytes\",\"data\":\"AAAAAGqkCEAAAADgqlsdQA==\"},\"shape\":[2],\"dtype\":\"float64\",\"order\":\"little\"}],[577,{\"type\":\"ndarray\",\"array\":{\"type\":\"bytes\",\"data\":\"AAAA4KIBJEAAAADAH1wmQA==\"},\"shape\":[2],\"dtype\":\"float64\",\"order\":\"little\"}],[578,{\"type\":\"ndarray\",\"array\":{\"type\":\"bytes\",\"data\":\"AAAAoJk2JEAAAAAgtl0lQA==\"},\"shape\":[2],\"dtype\":\"float64\",\"order\":\"little\"}],[579,{\"type\":\"ndarray\",\"array\":{\"type\":\"bytes\",\"data\":\"AAAAoGxLI0AAAACgor4iQA==\"},\"shape\":[2],\"dtype\":\"float64\",\"order\":\"little\"}],[580,{\"type\":\"ndarray\",\"array\":{\"type\":\"bytes\",\"data\":\"AAAAwFHVIEAAAACAbP4nQA==\"},\"shape\":[2],\"dtype\":\"float64\",\"order\":\"little\"}],[581,{\"type\":\"ndarray\",\"array\":{\"type\":\"bytes\",\"data\":\"AAAAQDv79j8AAAAA2/gUQA==\"},\"shape\":[2],\"dtype\":\"float64\",\"order\":\"little\"}],[582,{\"type\":\"ndarray\",\"array\":{\"type\":\"bytes\",\"data\":\"AAAA4FXhEkAAAACgUZ4jQA==\"},\"shape\":[2],\"dtype\":\"float64\",\"order\":\"little\"}],[583,{\"type\":\"ndarray\",\"array\":{\"type\":\"bytes\",\"data\":\"AAAAAMQIDkAAAABgO98gQA==\"},\"shape\":[2],\"dtype\":\"float64\",\"order\":\"little\"}],[584,{\"type\":\"ndarray\",\"array\":{\"type\":\"bytes\",\"data\":\"AAAAIBMzG0AAAAAgdH0pQA==\"},\"shape\":[2],\"dtype\":\"float64\",\"order\":\"little\"}],[585,{\"type\":\"ndarray\",\"array\":{\"type\":\"bytes\",\"data\":\"AAAAoK7REEAAAABAMFwgQA==\"},\"shape\":[2],\"dtype\":\"float64\",\"order\":\"little\"}],[586,{\"type\":\"ndarray\",\"array\":{\"type\":\"bytes\",\"data\":\"AAAAwHCTFUAAAACgXGkhQA==\"},\"shape\":[2],\"dtype\":\"float64\",\"order\":\"little\"}],[587,{\"type\":\"ndarray\",\"array\":{\"type\":\"bytes\",\"data\":\"AAAA4GTPIEAAAADAck4jQA==\"},\"shape\":[2],\"dtype\":\"float64\",\"order\":\"little\"}],[588,{\"type\":\"ndarray\",\"array\":{\"type\":\"bytes\",\"data\":\"AAAAwEBPIUAAAADA8SMhQA==\"},\"shape\":[2],\"dtype\":\"float64\",\"order\":\"little\"}],[589,{\"type\":\"ndarray\",\"array\":{\"type\":\"bytes\",\"data\":\"AAAAoOQPHEAAAAAAZ7srQA==\"},\"shape\":[2],\"dtype\":\"float64\",\"order\":\"little\"}],[590,{\"type\":\"ndarray\",\"array\":{\"type\":\"bytes\",\"data\":\"AAAAQJL5EUAAAAAANlkhQA==\"},\"shape\":[2],\"dtype\":\"float64\",\"order\":\"little\"}],[591,{\"type\":\"ndarray\",\"array\":{\"type\":\"bytes\",\"data\":\"AAAAgMhCJkAAAADgjxMkQA==\"},\"shape\":[2],\"dtype\":\"float64\",\"order\":\"little\"}],[592,{\"type\":\"ndarray\",\"array\":{\"type\":\"bytes\",\"data\":\"AAAAQNmFB0AAAACAShwjQA==\"},\"shape\":[2],\"dtype\":\"float64\",\"order\":\"little\"}],[593,{\"type\":\"ndarray\",\"array\":{\"type\":\"bytes\",\"data\":\"AAAAwCI1BUAAAABgS7wmQA==\"},\"shape\":[2],\"dtype\":\"float64\",\"order\":\"little\"}],[594,{\"type\":\"ndarray\",\"array\":{\"type\":\"bytes\",\"data\":\"AAAAIEHUCEAAAABACAggQA==\"},\"shape\":[2],\"dtype\":\"float64\",\"order\":\"little\"}],[595,{\"type\":\"ndarray\",\"array\":{\"type\":\"bytes\",\"data\":\"AAAAABNpHEAAAACgUYsoQA==\"},\"shape\":[2],\"dtype\":\"float64\",\"order\":\"little\"}],[596,{\"type\":\"ndarray\",\"array\":{\"type\":\"bytes\",\"data\":\"AAAAoFb1IkAAAAAg7FglQA==\"},\"shape\":[2],\"dtype\":\"float64\",\"order\":\"little\"}],[597,{\"type\":\"ndarray\",\"array\":{\"type\":\"bytes\",\"data\":\"AAAAgDY/JkAAAACgMfkhQA==\"},\"shape\":[2],\"dtype\":\"float64\",\"order\":\"little\"}],[598,{\"type\":\"ndarray\",\"array\":{\"type\":\"bytes\",\"data\":\"AAAAYOgVIkAAAACAX8MjQA==\"},\"shape\":[2],\"dtype\":\"float64\",\"order\":\"little\"}],[599,{\"type\":\"ndarray\",\"array\":{\"type\":\"bytes\",\"data\":\"AAAAID3VIUAAAACgerkdQA==\"},\"shape\":[2],\"dtype\":\"float64\",\"order\":\"little\"}],[600,{\"type\":\"ndarray\",\"array\":{\"type\":\"bytes\",\"data\":\"AAAA4K4vA0AAAABAsE0kQA==\"},\"shape\":[2],\"dtype\":\"float64\",\"order\":\"little\"}],[601,{\"type\":\"ndarray\",\"array\":{\"type\":\"bytes\",\"data\":\"AAAA4LkDA0AAAAAgSSQmQA==\"},\"shape\":[2],\"dtype\":\"float64\",\"order\":\"little\"}],[602,{\"type\":\"ndarray\",\"array\":{\"type\":\"bytes\",\"data\":\"AAAAgEleCUAAAABA2egjQA==\"},\"shape\":[2],\"dtype\":\"float64\",\"order\":\"little\"}],[603,{\"type\":\"ndarray\",\"array\":{\"type\":\"bytes\",\"data\":\"AAAAQLQtIkAAAACgDPooQA==\"},\"shape\":[2],\"dtype\":\"float64\",\"order\":\"little\"}],[604,{\"type\":\"ndarray\",\"array\":{\"type\":\"bytes\",\"data\":\"AAAAgFV4IUAAAABgqiAlQA==\"},\"shape\":[2],\"dtype\":\"float64\",\"order\":\"little\"}],[605,{\"type\":\"ndarray\",\"array\":{\"type\":\"bytes\",\"data\":\"AAAAwCRSGkAAAADgIjwrQA==\"},\"shape\":[2],\"dtype\":\"float64\",\"order\":\"little\"}],[606,{\"type\":\"ndarray\",\"array\":{\"type\":\"bytes\",\"data\":\"AAAAoBKIJkAAAADAw0wlQA==\"},\"shape\":[2],\"dtype\":\"float64\",\"order\":\"little\"}],[607,{\"type\":\"ndarray\",\"array\":{\"type\":\"bytes\",\"data\":\"AAAAYB8OEEAAAABg544lQA==\"},\"shape\":[2],\"dtype\":\"float64\",\"order\":\"little\"}],[608,{\"type\":\"ndarray\",\"array\":{\"type\":\"bytes\",\"data\":\"AAAAIH7aB0AAAABAQkchQA==\"},\"shape\":[2],\"dtype\":\"float64\",\"order\":\"little\"}],[609,{\"type\":\"ndarray\",\"array\":{\"type\":\"bytes\",\"data\":\"AAAA4EDPEUAAAAAAhkQlQA==\"},\"shape\":[2],\"dtype\":\"float64\",\"order\":\"little\"}],[610,{\"type\":\"ndarray\",\"array\":{\"type\":\"bytes\",\"data\":\"AAAAQAMpBEAAAADgSb4iQA==\"},\"shape\":[2],\"dtype\":\"float64\",\"order\":\"little\"}],[611,{\"type\":\"ndarray\",\"array\":{\"type\":\"bytes\",\"data\":\"AAAAYBhsHkAAAACg1UQpQA==\"},\"shape\":[2],\"dtype\":\"float64\",\"order\":\"little\"}],[612,{\"type\":\"ndarray\",\"array\":{\"type\":\"bytes\",\"data\":\"AAAAwNzADkAAAADgKX4nQA==\"},\"shape\":[2],\"dtype\":\"float64\",\"order\":\"little\"}],[613,{\"type\":\"ndarray\",\"array\":{\"type\":\"bytes\",\"data\":\"AAAAgCX1FUAAAAAAiRMjQA==\"},\"shape\":[2],\"dtype\":\"float64\",\"order\":\"little\"}],[614,{\"type\":\"ndarray\",\"array\":{\"type\":\"bytes\",\"data\":\"AAAA4EB6IUAAAACguEcpQA==\"},\"shape\":[2],\"dtype\":\"float64\",\"order\":\"little\"}],[615,{\"type\":\"ndarray\",\"array\":{\"type\":\"bytes\",\"data\":\"AAAAwE4IFUAAAABgfK0kQA==\"},\"shape\":[2],\"dtype\":\"float64\",\"order\":\"little\"}],[616,{\"type\":\"ndarray\",\"array\":{\"type\":\"bytes\",\"data\":\"AAAAwIeTCUAAAAAgJEsiQA==\"},\"shape\":[2],\"dtype\":\"float64\",\"order\":\"little\"}],[617,{\"type\":\"ndarray\",\"array\":{\"type\":\"bytes\",\"data\":\"AAAA4OCRJEAAAACgP4IgQA==\"},\"shape\":[2],\"dtype\":\"float64\",\"order\":\"little\"}],[618,{\"type\":\"ndarray\",\"array\":{\"type\":\"bytes\",\"data\":\"AAAAQLfjAUAAAAAATHAlQA==\"},\"shape\":[2],\"dtype\":\"float64\",\"order\":\"little\"}],[619,{\"type\":\"ndarray\",\"array\":{\"type\":\"bytes\",\"data\":\"AAAAQAAxJEAAAACAiYQiQA==\"},\"shape\":[2],\"dtype\":\"float64\",\"order\":\"little\"}],[620,{\"type\":\"ndarray\",\"array\":{\"type\":\"bytes\",\"data\":\"AAAA4PkfHUAAAADg+aEnQA==\"},\"shape\":[2],\"dtype\":\"float64\",\"order\":\"little\"}],[621,{\"type\":\"ndarray\",\"array\":{\"type\":\"bytes\",\"data\":\"AAAAYDsI7D8AAAAgshggQA==\"},\"shape\":[2],\"dtype\":\"float64\",\"order\":\"little\"}],[622,{\"type\":\"ndarray\",\"array\":{\"type\":\"bytes\",\"data\":\"AAAAwKNOBMAAAABgbBIqQA==\"},\"shape\":[2],\"dtype\":\"float64\",\"order\":\"little\"}],[623,{\"type\":\"ndarray\",\"array\":{\"type\":\"bytes\",\"data\":\"AAAA4KR/7r8AAAAgOGUoQA==\"},\"shape\":[2],\"dtype\":\"float64\",\"order\":\"little\"}],[624,{\"type\":\"ndarray\",\"array\":{\"type\":\"bytes\",\"data\":\"AAAAoMPaFcAAAACgNJEjQA==\"},\"shape\":[2],\"dtype\":\"float64\",\"order\":\"little\"}],[625,{\"type\":\"ndarray\",\"array\":{\"type\":\"bytes\",\"data\":\"AAAAwEn5CcAAAAAAIVQpQA==\"},\"shape\":[2],\"dtype\":\"float64\",\"order\":\"little\"}],[626,{\"type\":\"ndarray\",\"array\":{\"type\":\"bytes\",\"data\":\"AAAAQFsv8j8AAABA8KYrQA==\"},\"shape\":[2],\"dtype\":\"float64\",\"order\":\"little\"}],[627,{\"type\":\"ndarray\",\"array\":{\"type\":\"bytes\",\"data\":\"AAAAIL16AMAAAAAAKmomQA==\"},\"shape\":[2],\"dtype\":\"float64\",\"order\":\"little\"}],[628,{\"type\":\"ndarray\",\"array\":{\"type\":\"bytes\",\"data\":\"AAAAQOYZC8AAAABAEtInQA==\"},\"shape\":[2],\"dtype\":\"float64\",\"order\":\"little\"}],[629,{\"type\":\"ndarray\",\"array\":{\"type\":\"bytes\",\"data\":\"AAAAoF3P+78AAADgQjgrQA==\"},\"shape\":[2],\"dtype\":\"float64\",\"order\":\"little\"}],[630,{\"type\":\"ndarray\",\"array\":{\"type\":\"bytes\",\"data\":\"AAAAAE0N4r8AAABgtzUqQA==\"},\"shape\":[2],\"dtype\":\"float64\",\"order\":\"little\"}],[631,{\"type\":\"ndarray\",\"array\":{\"type\":\"bytes\",\"data\":\"AAAA4OuQBUAAAACgolIQQA==\"},\"shape\":[2],\"dtype\":\"float64\",\"order\":\"little\"}],[632,{\"type\":\"ndarray\",\"array\":{\"type\":\"bytes\",\"data\":\"AAAAwHt7+b8AAABAG7wpQA==\"},\"shape\":[2],\"dtype\":\"float64\",\"order\":\"little\"}],[633,{\"type\":\"ndarray\",\"array\":{\"type\":\"bytes\",\"data\":\"AAAA4HSV678AAABguWIpQA==\"},\"shape\":[2],\"dtype\":\"float64\",\"order\":\"little\"}],[634,{\"type\":\"ndarray\",\"array\":{\"type\":\"bytes\",\"data\":\"AAAAIEu26T8AAABg+zQqQA==\"},\"shape\":[2],\"dtype\":\"float64\",\"order\":\"little\"}],[635,{\"type\":\"ndarray\",\"array\":{\"type\":\"bytes\",\"data\":\"AAAAIP06EsAAAABgN10dQA==\"},\"shape\":[2],\"dtype\":\"float64\",\"order\":\"little\"}],[636,{\"type\":\"ndarray\",\"array\":{\"type\":\"bytes\",\"data\":\"AAAAQAqsAsAAAACgDjQrQA==\"},\"shape\":[2],\"dtype\":\"float64\",\"order\":\"little\"}],[637,{\"type\":\"ndarray\",\"array\":{\"type\":\"bytes\",\"data\":\"AAAAICnb+b8AAAAgU44oQA==\"},\"shape\":[2],\"dtype\":\"float64\",\"order\":\"little\"}],[638,{\"type\":\"ndarray\",\"array\":{\"type\":\"bytes\",\"data\":\"AAAAgBPC+L8AAAAgKN8rQA==\"},\"shape\":[2],\"dtype\":\"float64\",\"order\":\"little\"}],[639,{\"type\":\"ndarray\",\"array\":{\"type\":\"bytes\",\"data\":\"AAAAYMVzzT8AAABgQWUpQA==\"},\"shape\":[2],\"dtype\":\"float64\",\"order\":\"little\"}],[640,{\"type\":\"ndarray\",\"array\":{\"type\":\"bytes\",\"data\":\"AAAAgLykCMAAAAAgQk8qQA==\"},\"shape\":[2],\"dtype\":\"float64\",\"order\":\"little\"}],[641,{\"type\":\"ndarray\",\"array\":{\"type\":\"bytes\",\"data\":\"AAAAQIVi4L8AAACgfpErQA==\"},\"shape\":[2],\"dtype\":\"float64\",\"order\":\"little\"}],[642,{\"type\":\"ndarray\",\"array\":{\"type\":\"bytes\",\"data\":\"AAAAYKaU5L8AAADA12osQA==\"},\"shape\":[2],\"dtype\":\"float64\",\"order\":\"little\"}],[643,{\"type\":\"ndarray\",\"array\":{\"type\":\"bytes\",\"data\":\"AAAA4MCXAcAAAABAL0ooQA==\"},\"shape\":[2],\"dtype\":\"float64\",\"order\":\"little\"}],[644,{\"type\":\"ndarray\",\"array\":{\"type\":\"bytes\",\"data\":\"AAAAIAWMAMAAAACA/ywpQA==\"},\"shape\":[2],\"dtype\":\"float64\",\"order\":\"little\"}],[645,{\"type\":\"ndarray\",\"array\":{\"type\":\"bytes\",\"data\":\"AAAAwPVWBMAAAADALCQpQA==\"},\"shape\":[2],\"dtype\":\"float64\",\"order\":\"little\"}],[646,{\"type\":\"ndarray\",\"array\":{\"type\":\"bytes\",\"data\":\"AAAAgA6L8r8AAACAwFUqQA==\"},\"shape\":[2],\"dtype\":\"float64\",\"order\":\"little\"}],[647,{\"type\":\"ndarray\",\"array\":{\"type\":\"bytes\",\"data\":\"AAAA4FsqB8AAAABApk8mQA==\"},\"shape\":[2],\"dtype\":\"float64\",\"order\":\"little\"}],[648,{\"type\":\"ndarray\",\"array\":{\"type\":\"bytes\",\"data\":\"AAAAQKukt78AAACghAcqQA==\"},\"shape\":[2],\"dtype\":\"float64\",\"order\":\"little\"}],[649,{\"type\":\"ndarray\",\"array\":{\"type\":\"bytes\",\"data\":\"AAAAYEzP9T8AAABgnscqQA==\"},\"shape\":[2],\"dtype\":\"float64\",\"order\":\"little\"}],[650,{\"type\":\"ndarray\",\"array\":{\"type\":\"bytes\",\"data\":\"AAAAIKtM8r8AAACARoErQA==\"},\"shape\":[2],\"dtype\":\"float64\",\"order\":\"little\"}],[651,{\"type\":\"ndarray\",\"array\":{\"type\":\"bytes\",\"data\":\"AAAAoAo22j8AAAAg3twrQA==\"},\"shape\":[2],\"dtype\":\"float64\",\"order\":\"little\"}],[652,{\"type\":\"ndarray\",\"array\":{\"type\":\"bytes\",\"data\":\"AAAA4KxdAcAAAACASAosQA==\"},\"shape\":[2],\"dtype\":\"float64\",\"order\":\"little\"}],[653,{\"type\":\"ndarray\",\"array\":{\"type\":\"bytes\",\"data\":\"AAAAgBrJ8b8AAABAvossQA==\"},\"shape\":[2],\"dtype\":\"float64\",\"order\":\"little\"}],[654,{\"type\":\"ndarray\",\"array\":{\"type\":\"bytes\",\"data\":\"AAAAIPtn/r8AAADgaTInQA==\"},\"shape\":[2],\"dtype\":\"float64\",\"order\":\"little\"}],[655,{\"type\":\"ndarray\",\"array\":{\"type\":\"bytes\",\"data\":\"AAAAoARS5j8AAACADh0rQA==\"},\"shape\":[2],\"dtype\":\"float64\",\"order\":\"little\"}],[656,{\"type\":\"ndarray\",\"array\":{\"type\":\"bytes\",\"data\":\"AAAA4Jc3+78AAAAAkIssQA==\"},\"shape\":[2],\"dtype\":\"float64\",\"order\":\"little\"}],[657,{\"type\":\"ndarray\",\"array\":{\"type\":\"bytes\",\"data\":\"AAAAgC2N0D8AAADAk/wqQA==\"},\"shape\":[2],\"dtype\":\"float64\",\"order\":\"little\"}],[658,{\"type\":\"ndarray\",\"array\":{\"type\":\"bytes\",\"data\":\"AAAAQHutAMAAAABga38qQA==\"},\"shape\":[2],\"dtype\":\"float64\",\"order\":\"little\"}],[659,{\"type\":\"ndarray\",\"array\":{\"type\":\"bytes\",\"data\":\"AAAAoJW3BMAAAABgv30nQA==\"},\"shape\":[2],\"dtype\":\"float64\",\"order\":\"little\"}],[660,{\"type\":\"ndarray\",\"array\":{\"type\":\"bytes\",\"data\":\"AAAAIJlEBsAAAAAg+RsrQA==\"},\"shape\":[2],\"dtype\":\"float64\",\"order\":\"little\"}],[661,{\"type\":\"ndarray\",\"array\":{\"type\":\"bytes\",\"data\":\"AAAAQEAT278AAACAC6YoQA==\"},\"shape\":[2],\"dtype\":\"float64\",\"order\":\"little\"}],[662,{\"type\":\"ndarray\",\"array\":{\"type\":\"bytes\",\"data\":\"AAAAwCSBwL8AAACgU1MsQA==\"},\"shape\":[2],\"dtype\":\"float64\",\"order\":\"little\"}],[663,{\"type\":\"ndarray\",\"array\":{\"type\":\"bytes\",\"data\":\"AAAAgBttB8AAAACgGF8nQA==\"},\"shape\":[2],\"dtype\":\"float64\",\"order\":\"little\"}],[664,{\"type\":\"ndarray\",\"array\":{\"type\":\"bytes\",\"data\":\"AAAAYITV1b8AAACgugQrQA==\"},\"shape\":[2],\"dtype\":\"float64\",\"order\":\"little\"}],[665,{\"type\":\"ndarray\",\"array\":{\"type\":\"bytes\",\"data\":\"AAAA4HEW878AAADgIkcnQA==\"},\"shape\":[2],\"dtype\":\"float64\",\"order\":\"little\"}],[666,{\"type\":\"ndarray\",\"array\":{\"type\":\"bytes\",\"data\":\"AAAA4LNkCcAAAACgkJEoQA==\"},\"shape\":[2],\"dtype\":\"float64\",\"order\":\"little\"}],[667,{\"type\":\"ndarray\",\"array\":{\"type\":\"bytes\",\"data\":\"AAAAYD/yI8AAAAAgTAggQA==\"},\"shape\":[2],\"dtype\":\"float64\",\"order\":\"little\"}],[668,{\"type\":\"ndarray\",\"array\":{\"type\":\"bytes\",\"data\":\"AAAA4PWML8AAAADgzFAhQA==\"},\"shape\":[2],\"dtype\":\"float64\",\"order\":\"little\"}],[669,{\"type\":\"ndarray\",\"array\":{\"type\":\"bytes\",\"data\":\"AAAA4P1WLMAAAADgXogmQA==\"},\"shape\":[2],\"dtype\":\"float64\",\"order\":\"little\"}],[670,{\"type\":\"ndarray\",\"array\":{\"type\":\"bytes\",\"data\":\"AAAAoMG/MMAAAAAgmnofQA==\"},\"shape\":[2],\"dtype\":\"float64\",\"order\":\"little\"}],[671,{\"type\":\"ndarray\",\"array\":{\"type\":\"bytes\",\"data\":\"AAAAIPIvFcAAAADgGpkmQA==\"},\"shape\":[2],\"dtype\":\"float64\",\"order\":\"little\"}],[672,{\"type\":\"ndarray\",\"array\":{\"type\":\"bytes\",\"data\":\"AAAAgF5cKMAAAABAOgEoQA==\"},\"shape\":[2],\"dtype\":\"float64\",\"order\":\"little\"}],[673,{\"type\":\"ndarray\",\"array\":{\"type\":\"bytes\",\"data\":\"AAAAgIPQLsAAAABA7A0aQA==\"},\"shape\":[2],\"dtype\":\"float64\",\"order\":\"little\"}],[674,{\"type\":\"ndarray\",\"array\":{\"type\":\"bytes\",\"data\":\"AAAAgEsC8b8AAADAtu4WQA==\"},\"shape\":[2],\"dtype\":\"float64\",\"order\":\"little\"}],[675,{\"type\":\"ndarray\",\"array\":{\"type\":\"bytes\",\"data\":\"AAAA4FdYL8AAAACA6bQkQA==\"},\"shape\":[2],\"dtype\":\"float64\",\"order\":\"little\"}],[676,{\"type\":\"ndarray\",\"array\":{\"type\":\"bytes\",\"data\":\"AAAAACcXL8AAAADgMEYcQA==\"},\"shape\":[2],\"dtype\":\"float64\",\"order\":\"little\"}],[677,{\"type\":\"ndarray\",\"array\":{\"type\":\"bytes\",\"data\":\"AAAAQMZXKcAAAAAAqpMoQA==\"},\"shape\":[2],\"dtype\":\"float64\",\"order\":\"little\"}],[678,{\"type\":\"ndarray\",\"array\":{\"type\":\"bytes\",\"data\":\"AAAA4EBMKcAAAACgwIsjQA==\"},\"shape\":[2],\"dtype\":\"float64\",\"order\":\"little\"}],[679,{\"type\":\"ndarray\",\"array\":{\"type\":\"bytes\",\"data\":\"AAAAwDVmL8AAAACgRZcjQA==\"},\"shape\":[2],\"dtype\":\"float64\",\"order\":\"little\"}],[680,{\"type\":\"ndarray\",\"array\":{\"type\":\"bytes\",\"data\":\"AAAAwPZx+D8AAADgBtb1Pw==\"},\"shape\":[2],\"dtype\":\"float64\",\"order\":\"little\"}],[681,{\"type\":\"ndarray\",\"array\":{\"type\":\"bytes\",\"data\":\"AAAAgMPbLMAAAACgSNkdQA==\"},\"shape\":[2],\"dtype\":\"float64\",\"order\":\"little\"}],[682,{\"type\":\"ndarray\",\"array\":{\"type\":\"bytes\",\"data\":\"AAAAwOfRJsAAAABAZO4oQA==\"},\"shape\":[2],\"dtype\":\"float64\",\"order\":\"little\"}],[683,{\"type\":\"ndarray\",\"array\":{\"type\":\"bytes\",\"data\":\"AAAAIGH6K8AAAACA22YpQA==\"},\"shape\":[2],\"dtype\":\"float64\",\"order\":\"little\"}],[684,{\"type\":\"ndarray\",\"array\":{\"type\":\"bytes\",\"data\":\"AAAAAJ3GL8AAAABgoEgZQA==\"},\"shape\":[2],\"dtype\":\"float64\",\"order\":\"little\"}],[685,{\"type\":\"ndarray\",\"array\":{\"type\":\"bytes\",\"data\":\"AAAAQFocMMAAAACARwIjQA==\"},\"shape\":[2],\"dtype\":\"float64\",\"order\":\"little\"}],[686,{\"type\":\"ndarray\",\"array\":{\"type\":\"bytes\",\"data\":\"AAAAIFoOKcAAAABgzK4pQA==\"},\"shape\":[2],\"dtype\":\"float64\",\"order\":\"little\"}],[687,{\"type\":\"ndarray\",\"array\":{\"type\":\"bytes\",\"data\":\"AAAAwK7/K8AAAAAAyHMlQA==\"},\"shape\":[2],\"dtype\":\"float64\",\"order\":\"little\"}],[688,{\"type\":\"ndarray\",\"array\":{\"type\":\"bytes\",\"data\":\"AAAAQLLFLsAAAADA2DcpQA==\"},\"shape\":[2],\"dtype\":\"float64\",\"order\":\"little\"}],[689,{\"type\":\"ndarray\",\"array\":{\"type\":\"bytes\",\"data\":\"AAAAgGWJK8AAAADg3/wcQA==\"},\"shape\":[2],\"dtype\":\"float64\",\"order\":\"little\"}],[690,{\"type\":\"ndarray\",\"array\":{\"type\":\"bytes\",\"data\":\"AAAAoB6v+L8AAABAPn0SQA==\"},\"shape\":[2],\"dtype\":\"float64\",\"order\":\"little\"}],[691,{\"type\":\"ndarray\",\"array\":{\"type\":\"bytes\",\"data\":\"AAAAgM6iLsAAAACAvVIlQA==\"},\"shape\":[2],\"dtype\":\"float64\",\"order\":\"little\"}],[692,{\"type\":\"ndarray\",\"array\":{\"type\":\"bytes\",\"data\":\"AAAAIA4cL8AAAACABecXQA==\"},\"shape\":[2],\"dtype\":\"float64\",\"order\":\"little\"}],[693,{\"type\":\"ndarray\",\"array\":{\"type\":\"bytes\",\"data\":\"AAAA4Eg1K8AAAABgDycfQA==\"},\"shape\":[2],\"dtype\":\"float64\",\"order\":\"little\"}],[694,{\"type\":\"ndarray\",\"array\":{\"type\":\"bytes\",\"data\":\"AAAAYN8RFcAAAADggg0mQA==\"},\"shape\":[2],\"dtype\":\"float64\",\"order\":\"little\"}],[695,{\"type\":\"ndarray\",\"array\":{\"type\":\"bytes\",\"data\":\"AAAAwEELKsAAAABAoAwqQA==\"},\"shape\":[2],\"dtype\":\"float64\",\"order\":\"little\"}],[696,{\"type\":\"ndarray\",\"array\":{\"type\":\"bytes\",\"data\":\"AAAAgIw2FMAAAACgk0AlQA==\"},\"shape\":[2],\"dtype\":\"float64\",\"order\":\"little\"}],[697,{\"type\":\"ndarray\",\"array\":{\"type\":\"bytes\",\"data\":\"AAAAYMTvK8AAAABAoSIaQA==\"},\"shape\":[2],\"dtype\":\"float64\",\"order\":\"little\"}],[698,{\"type\":\"ndarray\",\"array\":{\"type\":\"bytes\",\"data\":\"AAAAQP4fK8AAAABg0kYYQA==\"},\"shape\":[2],\"dtype\":\"float64\",\"order\":\"little\"}],[699,{\"type\":\"ndarray\",\"array\":{\"type\":\"bytes\",\"data\":\"AAAA4NVmL8AAAABALQ8mQA==\"},\"shape\":[2],\"dtype\":\"float64\",\"order\":\"little\"}],[700,{\"type\":\"ndarray\",\"array\":{\"type\":\"bytes\",\"data\":\"AAAAwDKJMMAAAADATMEcQA==\"},\"shape\":[2],\"dtype\":\"float64\",\"order\":\"little\"}],[701,{\"type\":\"ndarray\",\"array\":{\"type\":\"bytes\",\"data\":\"AAAAYIguLsAAAACATZAoQA==\"},\"shape\":[2],\"dtype\":\"float64\",\"order\":\"little\"}],[702,{\"type\":\"ndarray\",\"array\":{\"type\":\"bytes\",\"data\":\"AAAAQHG2KsAAAABAJXobQA==\"},\"shape\":[2],\"dtype\":\"float64\",\"order\":\"little\"}],[703,{\"type\":\"ndarray\",\"array\":{\"type\":\"bytes\",\"data\":\"AAAAwCqAJsAAAAAAzx4rQA==\"},\"shape\":[2],\"dtype\":\"float64\",\"order\":\"little\"}],[704,{\"type\":\"ndarray\",\"array\":{\"type\":\"bytes\",\"data\":\"AAAA4JS8J8AAAACgFa8sQA==\"},\"shape\":[2],\"dtype\":\"float64\",\"order\":\"little\"}],[705,{\"type\":\"ndarray\",\"array\":{\"type\":\"bytes\",\"data\":\"AAAAYJL/L8AAAAAAW4snQA==\"},\"shape\":[2],\"dtype\":\"float64\",\"order\":\"little\"}],[706,{\"type\":\"ndarray\",\"array\":{\"type\":\"bytes\",\"data\":\"AAAAIHE6J8AAAADAhMAnQA==\"},\"shape\":[2],\"dtype\":\"float64\",\"order\":\"little\"}],[707,{\"type\":\"ndarray\",\"array\":{\"type\":\"bytes\",\"data\":\"AAAAYEXBK8AAAADgll4oQA==\"},\"shape\":[2],\"dtype\":\"float64\",\"order\":\"little\"}],[708,{\"type\":\"ndarray\",\"array\":{\"type\":\"bytes\",\"data\":\"AAAAYI08LcAAAADAsn4qQA==\"},\"shape\":[2],\"dtype\":\"float64\",\"order\":\"little\"}],[709,{\"type\":\"ndarray\",\"array\":{\"type\":\"bytes\",\"data\":\"AAAAwJ6+MMAAAABAvy0kQA==\"},\"shape\":[2],\"dtype\":\"float64\",\"order\":\"little\"}],[710,{\"type\":\"ndarray\",\"array\":{\"type\":\"bytes\",\"data\":\"AAAAwJ+1KsAAAACASjgoQA==\"},\"shape\":[2],\"dtype\":\"float64\",\"order\":\"little\"}],[711,{\"type\":\"ndarray\",\"array\":{\"type\":\"bytes\",\"data\":\"AAAAoLD7KMAAAACAurgsQA==\"},\"shape\":[2],\"dtype\":\"float64\",\"order\":\"little\"}],[712,{\"type\":\"ndarray\",\"array\":{\"type\":\"bytes\",\"data\":\"AAAA4LYVHsAAAACgOxoXQA==\"},\"shape\":[2],\"dtype\":\"float64\",\"order\":\"little\"}],[713,{\"type\":\"ndarray\",\"array\":{\"type\":\"bytes\",\"data\":\"AAAAwOkLJ8AAAACgrhcsQA==\"},\"shape\":[2],\"dtype\":\"float64\",\"order\":\"little\"}],[714,{\"type\":\"ndarray\",\"array\":{\"type\":\"bytes\",\"data\":\"AAAAgKhRJcAAAAAA04wrQA==\"},\"shape\":[2],\"dtype\":\"float64\",\"order\":\"little\"}],[715,{\"type\":\"ndarray\",\"array\":{\"type\":\"bytes\",\"data\":\"AAAA4AoiJsAAAADA8ywsQA==\"},\"shape\":[2],\"dtype\":\"float64\",\"order\":\"little\"}],[716,{\"type\":\"ndarray\",\"array\":{\"type\":\"bytes\",\"data\":\"AAAAYJo5K8AAAADAk0gnQA==\"},\"shape\":[2],\"dtype\":\"float64\",\"order\":\"little\"}],[717,{\"type\":\"ndarray\",\"array\":{\"type\":\"bytes\",\"data\":\"AAAAAFjhJcAAAABAf24qQA==\"},\"shape\":[2],\"dtype\":\"float64\",\"order\":\"little\"}],[718,{\"type\":\"ndarray\",\"array\":{\"type\":\"bytes\",\"data\":\"AAAAgMdiMMAAAAAA2K8jQA==\"},\"shape\":[2],\"dtype\":\"float64\",\"order\":\"little\"}],[719,{\"type\":\"ndarray\",\"array\":{\"type\":\"bytes\",\"data\":\"AAAAIMzBLMAAAABAVUwhQA==\"},\"shape\":[2],\"dtype\":\"float64\",\"order\":\"little\"}],[720,{\"type\":\"ndarray\",\"array\":{\"type\":\"bytes\",\"data\":\"AAAAYG1wLMAAAADgnYQnQA==\"},\"shape\":[2],\"dtype\":\"float64\",\"order\":\"little\"}],[721,{\"type\":\"ndarray\",\"array\":{\"type\":\"bytes\",\"data\":\"AAAA4EWOLsAAAACA/PYiQA==\"},\"shape\":[2],\"dtype\":\"float64\",\"order\":\"little\"}],[722,{\"type\":\"ndarray\",\"array\":{\"type\":\"bytes\",\"data\":\"AAAAgGAwJ8AAAADg0KImQA==\"},\"shape\":[2],\"dtype\":\"float64\",\"order\":\"little\"}],[723,{\"type\":\"ndarray\",\"array\":{\"type\":\"bytes\",\"data\":\"AAAAgPiDK8AAAAAA7gYhQA==\"},\"shape\":[2],\"dtype\":\"float64\",\"order\":\"little\"}],[724,{\"type\":\"ndarray\",\"array\":{\"type\":\"bytes\",\"data\":\"AAAAoJ0aMMAAAABgIoEkQA==\"},\"shape\":[2],\"dtype\":\"float64\",\"order\":\"little\"}],[725,{\"type\":\"ndarray\",\"array\":{\"type\":\"bytes\",\"data\":\"AAAAwGXVL8AAAAAgOjkiQA==\"},\"shape\":[2],\"dtype\":\"float64\",\"order\":\"little\"}],[726,{\"type\":\"ndarray\",\"array\":{\"type\":\"bytes\",\"data\":\"AAAAoOJg7T8AAABg2c7qPw==\"},\"shape\":[2],\"dtype\":\"float64\",\"order\":\"little\"}],[727,{\"type\":\"ndarray\",\"array\":{\"type\":\"bytes\",\"data\":\"AAAAYDwEL8AAAABgiw4nQA==\"},\"shape\":[2],\"dtype\":\"float64\",\"order\":\"little\"}],[728,{\"type\":\"ndarray\",\"array\":{\"type\":\"bytes\",\"data\":\"AAAA4MBWLMAAAABAMIIiQA==\"},\"shape\":[2],\"dtype\":\"float64\",\"order\":\"little\"}],[729,{\"type\":\"ndarray\",\"array\":{\"type\":\"bytes\",\"data\":\"AAAAIJbBMMAAAAAgYqIgQA==\"},\"shape\":[2],\"dtype\":\"float64\",\"order\":\"little\"}],[730,{\"type\":\"ndarray\",\"array\":{\"type\":\"bytes\",\"data\":\"AAAAgB1xLcAAAADgU7YmQA==\"},\"shape\":[2],\"dtype\":\"float64\",\"order\":\"little\"}],[731,{\"type\":\"ndarray\",\"array\":{\"type\":\"bytes\",\"data\":\"AAAAYCRDKsAAAADAMS4lQA==\"},\"shape\":[2],\"dtype\":\"float64\",\"order\":\"little\"}],[732,{\"type\":\"ndarray\",\"array\":{\"type\":\"bytes\",\"data\":\"AAAAwAL8KcAAAADgHy0iQA==\"},\"shape\":[2],\"dtype\":\"float64\",\"order\":\"little\"}],[733,{\"type\":\"ndarray\",\"array\":{\"type\":\"bytes\",\"data\":\"AAAAgMswMMAAAABgwp0gQA==\"},\"shape\":[2],\"dtype\":\"float64\",\"order\":\"little\"}],[734,{\"type\":\"ndarray\",\"array\":{\"type\":\"bytes\",\"data\":\"AAAAQJi+JMAAAADghoYqQA==\"},\"shape\":[2],\"dtype\":\"float64\",\"order\":\"little\"}],[735,{\"type\":\"ndarray\",\"array\":{\"type\":\"bytes\",\"data\":\"AAAAADhWKsAAAAAgHXogQA==\"},\"shape\":[2],\"dtype\":\"float64\",\"order\":\"little\"}],[736,{\"type\":\"ndarray\",\"array\":{\"type\":\"bytes\",\"data\":\"AAAAAHrnKcAAAACg2DYnQA==\"},\"shape\":[2],\"dtype\":\"float64\",\"order\":\"little\"}],[737,{\"type\":\"ndarray\",\"array\":{\"type\":\"bytes\",\"data\":\"AAAAAPtTLsAAAAAgcK0WQA==\"},\"shape\":[2],\"dtype\":\"float64\",\"order\":\"little\"}],[738,{\"type\":\"ndarray\",\"array\":{\"type\":\"bytes\",\"data\":\"AAAAYAPiKMAAAADAktMkQA==\"},\"shape\":[2],\"dtype\":\"float64\",\"order\":\"little\"}],[739,{\"type\":\"ndarray\",\"array\":{\"type\":\"bytes\",\"data\":\"AAAAQPAhKMAAAADgdtElQA==\"},\"shape\":[2],\"dtype\":\"float64\",\"order\":\"little\"}],[740,{\"type\":\"ndarray\",\"array\":{\"type\":\"bytes\",\"data\":\"AAAAAPSyKMAAAADg/PMmQA==\"},\"shape\":[2],\"dtype\":\"float64\",\"order\":\"little\"}],[741,{\"type\":\"ndarray\",\"array\":{\"type\":\"bytes\",\"data\":\"AAAAQObmLsAAAAAAv+EnQA==\"},\"shape\":[2],\"dtype\":\"float64\",\"order\":\"little\"}],[742,{\"type\":\"ndarray\",\"array\":{\"type\":\"bytes\",\"data\":\"AAAAoIK0LcAAAABAH8wkQA==\"},\"shape\":[2],\"dtype\":\"float64\",\"order\":\"little\"}],[743,{\"type\":\"ndarray\",\"array\":{\"type\":\"bytes\",\"data\":\"AAAAwJ7ULcAAAADA8pAnQA==\"},\"shape\":[2],\"dtype\":\"float64\",\"order\":\"little\"}],[744,{\"type\":\"ndarray\",\"array\":{\"type\":\"bytes\",\"data\":\"AAAAoDgUJcAAAABAAJUpQA==\"},\"shape\":[2],\"dtype\":\"float64\",\"order\":\"little\"}],[745,{\"type\":\"ndarray\",\"array\":{\"type\":\"bytes\",\"data\":\"AAAAIARxLMAAAAAgmAkgQA==\"},\"shape\":[2],\"dtype\":\"float64\",\"order\":\"little\"}],[746,{\"type\":\"ndarray\",\"array\":{\"type\":\"bytes\",\"data\":\"AAAA4Ma4LsAAAAAA7ggiQA==\"},\"shape\":[2],\"dtype\":\"float64\",\"order\":\"little\"}],[747,{\"type\":\"ndarray\",\"array\":{\"type\":\"bytes\",\"data\":\"AAAAYMHcLsAAAAAASvYeQA==\"},\"shape\":[2],\"dtype\":\"float64\",\"order\":\"little\"}],[748,{\"type\":\"ndarray\",\"array\":{\"type\":\"bytes\",\"data\":\"AAAAIIsyLcAAAADglqUlQA==\"},\"shape\":[2],\"dtype\":\"float64\",\"order\":\"little\"}],[749,{\"type\":\"ndarray\",\"array\":{\"type\":\"bytes\",\"data\":\"AAAAoIzhMMAAAABgZq0hQA==\"},\"shape\":[2],\"dtype\":\"float64\",\"order\":\"little\"}],[750,{\"type\":\"ndarray\",\"array\":{\"type\":\"bytes\",\"data\":\"AAAAINbDK8AAAAAgfYIjQA==\"},\"shape\":[2],\"dtype\":\"float64\",\"order\":\"little\"}],[751,{\"type\":\"ndarray\",\"array\":{\"type\":\"bytes\",\"data\":\"AAAAoFCGMMAAAACg5U8iQA==\"},\"shape\":[2],\"dtype\":\"float64\",\"order\":\"little\"}],[752,{\"type\":\"ndarray\",\"array\":{\"type\":\"bytes\",\"data\":\"AAAAAEpsJ8AAAACAxR4rQA==\"},\"shape\":[2],\"dtype\":\"float64\",\"order\":\"little\"}],[753,{\"type\":\"ndarray\",\"array\":{\"type\":\"bytes\",\"data\":\"AAAAwMd5KsAAAADAVtcjQA==\"},\"shape\":[2],\"dtype\":\"float64\",\"order\":\"little\"}],[754,{\"type\":\"ndarray\",\"array\":{\"type\":\"bytes\",\"data\":\"AAAAoDCDKcAAAADgkNEqQA==\"},\"shape\":[2],\"dtype\":\"float64\",\"order\":\"little\"}],[755,{\"type\":\"ndarray\",\"array\":{\"type\":\"bytes\",\"data\":\"AAAAAM5SLcAAAACArW0jQA==\"},\"shape\":[2],\"dtype\":\"float64\",\"order\":\"little\"}],[756,{\"type\":\"ndarray\",\"array\":{\"type\":\"bytes\",\"data\":\"AAAA4N17MMAAAAAALwImQA==\"},\"shape\":[2],\"dtype\":\"float64\",\"order\":\"little\"}],[757,{\"type\":\"ndarray\",\"array\":{\"type\":\"bytes\",\"data\":\"AAAA4JtDK8AAAACA6jYqQA==\"},\"shape\":[2],\"dtype\":\"float64\",\"order\":\"little\"}],[758,{\"type\":\"ndarray\",\"array\":{\"type\":\"bytes\",\"data\":\"AAAAwGIlLMAAAADg4RIWQA==\"},\"shape\":[2],\"dtype\":\"float64\",\"order\":\"little\"}],[759,{\"type\":\"ndarray\",\"array\":{\"type\":\"bytes\",\"data\":\"AAAAAFH1KsAAAADA8B4mQA==\"},\"shape\":[2],\"dtype\":\"float64\",\"order\":\"little\"}],[760,{\"type\":\"ndarray\",\"array\":{\"type\":\"bytes\",\"data\":\"AAAAgGILJsAAAACARdMnQA==\"},\"shape\":[2],\"dtype\":\"float64\",\"order\":\"little\"}],[761,{\"type\":\"ndarray\",\"array\":{\"type\":\"bytes\",\"data\":\"AAAAoC9bLsAAAACAcAUkQA==\"},\"shape\":[2],\"dtype\":\"float64\",\"order\":\"little\"}],[762,{\"type\":\"ndarray\",\"array\":{\"type\":\"bytes\",\"data\":\"AAAA4C4VMMAAAADADLwmQA==\"},\"shape\":[2],\"dtype\":\"float64\",\"order\":\"little\"}],[763,{\"type\":\"ndarray\",\"array\":{\"type\":\"bytes\",\"data\":\"AAAAIKZpK8AAAAAgbKUkQA==\"},\"shape\":[2],\"dtype\":\"float64\",\"order\":\"little\"}],[764,{\"type\":\"ndarray\",\"array\":{\"type\":\"bytes\",\"data\":\"AAAAIDIBLsAAAADAZ0EhQA==\"},\"shape\":[2],\"dtype\":\"float64\",\"order\":\"little\"}],[765,{\"type\":\"ndarray\",\"array\":{\"type\":\"bytes\",\"data\":\"AAAA4EUALsAAAADgEaApQA==\"},\"shape\":[2],\"dtype\":\"float64\",\"order\":\"little\"}],[766,{\"type\":\"ndarray\",\"array\":{\"type\":\"bytes\",\"data\":\"AAAAoKYZLsAAAAAgdvobQA==\"},\"shape\":[2],\"dtype\":\"float64\",\"order\":\"little\"}],[767,{\"type\":\"ndarray\",\"array\":{\"type\":\"bytes\",\"data\":\"AAAAAMZlMMAAAADAN5QeQA==\"},\"shape\":[2],\"dtype\":\"float64\",\"order\":\"little\"}],[768,{\"type\":\"ndarray\",\"array\":{\"type\":\"bytes\",\"data\":\"AAAAYC1HLcAAAAAgdV4WQA==\"},\"shape\":[2],\"dtype\":\"float64\",\"order\":\"little\"}],[769,{\"type\":\"ndarray\",\"array\":{\"type\":\"bytes\",\"data\":\"AAAAYJPTKcAAAACA/0ErQA==\"},\"shape\":[2],\"dtype\":\"float64\",\"order\":\"little\"}],[770,{\"type\":\"ndarray\",\"array\":{\"type\":\"bytes\",\"data\":\"AAAAQGp5LcAAAADgsFYiQA==\"},\"shape\":[2],\"dtype\":\"float64\",\"order\":\"little\"}],[771,{\"type\":\"ndarray\",\"array\":{\"type\":\"bytes\",\"data\":\"AAAAoF3FLMAAAADAdPkoQA==\"},\"shape\":[2],\"dtype\":\"float64\",\"order\":\"little\"}],[772,{\"type\":\"ndarray\",\"array\":{\"type\":\"bytes\",\"data\":\"AAAAAKPoKsAAAADAI8wrQA==\"},\"shape\":[2],\"dtype\":\"float64\",\"order\":\"little\"}],[773,{\"type\":\"ndarray\",\"array\":{\"type\":\"bytes\",\"data\":\"AAAAQJEYMMAAAABgILglQA==\"},\"shape\":[2],\"dtype\":\"float64\",\"order\":\"little\"}],[774,{\"type\":\"ndarray\",\"array\":{\"type\":\"bytes\",\"data\":\"AAAAIGWYKcAAAABAwRsmQA==\"},\"shape\":[2],\"dtype\":\"float64\",\"order\":\"little\"}],[775,{\"type\":\"ndarray\",\"array\":{\"type\":\"bytes\",\"data\":\"AAAAwLxDKsAAAABgZAYpQA==\"},\"shape\":[2],\"dtype\":\"float64\",\"order\":\"little\"}],[776,{\"type\":\"ndarray\",\"array\":{\"type\":\"bytes\",\"data\":\"AAAAYKnbL8AAAABgb9MfQA==\"},\"shape\":[2],\"dtype\":\"float64\",\"order\":\"little\"}],[777,{\"type\":\"ndarray\",\"array\":{\"type\":\"bytes\",\"data\":\"AAAAYHdZLsAAAABAs0kmQA==\"},\"shape\":[2],\"dtype\":\"float64\",\"order\":\"little\"}],[778,{\"type\":\"ndarray\",\"array\":{\"type\":\"bytes\",\"data\":\"AAAAgBo6KMAAAADAeVEqQA==\"},\"shape\":[2],\"dtype\":\"float64\",\"order\":\"little\"}],[779,{\"type\":\"ndarray\",\"array\":{\"type\":\"bytes\",\"data\":\"AAAAgA6tLMAAAAAgWFUkQA==\"},\"shape\":[2],\"dtype\":\"float64\",\"order\":\"little\"}],[780,{\"type\":\"ndarray\",\"array\":{\"type\":\"bytes\",\"data\":\"AAAAIFkHMMAAAAAgVesbQA==\"},\"shape\":[2],\"dtype\":\"float64\",\"order\":\"little\"}],[781,{\"type\":\"ndarray\",\"array\":{\"type\":\"bytes\",\"data\":\"AAAAACDpKMAAAAAAeKQrQA==\"},\"shape\":[2],\"dtype\":\"float64\",\"order\":\"little\"}],[782,{\"type\":\"ndarray\",\"array\":{\"type\":\"bytes\",\"data\":\"AAAAQJKDLcAAAACAjDYaQA==\"},\"shape\":[2],\"dtype\":\"float64\",\"order\":\"little\"}],[783,{\"type\":\"ndarray\",\"array\":{\"type\":\"bytes\",\"data\":\"AAAAYOEJJ8AAAABA2QsqQA==\"},\"shape\":[2],\"dtype\":\"float64\",\"order\":\"little\"}],[784,{\"type\":\"ndarray\",\"array\":{\"type\":\"bytes\",\"data\":\"AAAAINw8LMAAAADgiF4rQA==\"},\"shape\":[2],\"dtype\":\"float64\",\"order\":\"little\"}],[785,{\"type\":\"ndarray\",\"array\":{\"type\":\"bytes\",\"data\":\"AAAAQPiBMMAAAACgAAElQA==\"},\"shape\":[2],\"dtype\":\"float64\",\"order\":\"little\"}],[786,{\"type\":\"ndarray\",\"array\":{\"type\":\"bytes\",\"data\":\"AAAAgGI+K8AAAAAA1vUpQA==\"},\"shape\":[2],\"dtype\":\"float64\",\"order\":\"little\"}],[787,{\"type\":\"ndarray\",\"array\":{\"type\":\"bytes\",\"data\":\"AAAAYChSLMAAAABAvHUqQA==\"},\"shape\":[2],\"dtype\":\"float64\",\"order\":\"little\"}],[788,{\"type\":\"ndarray\",\"array\":{\"type\":\"bytes\",\"data\":\"AAAAIMDRLsAAAADgRYYgQA==\"},\"shape\":[2],\"dtype\":\"float64\",\"order\":\"little\"}],[789,{\"type\":\"ndarray\",\"array\":{\"type\":\"bytes\",\"data\":\"AAAA4OxkMMAAAACgfWMhQA==\"},\"shape\":[2],\"dtype\":\"float64\",\"order\":\"little\"}],[790,{\"type\":\"ndarray\",\"array\":{\"type\":\"bytes\",\"data\":\"AAAAgKtiL8AAAAAgm20oQA==\"},\"shape\":[2],\"dtype\":\"float64\",\"order\":\"little\"}],[791,{\"type\":\"ndarray\",\"array\":{\"type\":\"bytes\",\"data\":\"AAAAAIwpK8AAAAAAREQiQA==\"},\"shape\":[2],\"dtype\":\"float64\",\"order\":\"little\"}],[792,{\"type\":\"ndarray\",\"array\":{\"type\":\"bytes\",\"data\":\"AAAAQA8CKMAAAACA1RwpQA==\"},\"shape\":[2],\"dtype\":\"float64\",\"order\":\"little\"}],[793,{\"type\":\"ndarray\",\"array\":{\"type\":\"bytes\",\"data\":\"AAAAQIcyKMAAAACgTrcrQA==\"},\"shape\":[2],\"dtype\":\"float64\",\"order\":\"little\"}],[794,{\"type\":\"ndarray\",\"array\":{\"type\":\"bytes\",\"data\":\"AAAAAOVoLMAAAABgdBUYQA==\"},\"shape\":[2],\"dtype\":\"float64\",\"order\":\"little\"}],[795,{\"type\":\"ndarray\",\"array\":{\"type\":\"bytes\",\"data\":\"AAAA4DKhJcAAAAAgRNAoQA==\"},\"shape\":[2],\"dtype\":\"float64\",\"order\":\"little\"}],[796,{\"type\":\"ndarray\",\"array\":{\"type\":\"bytes\",\"data\":\"AAAAIL34LcAAAACAXR0eQA==\"},\"shape\":[2],\"dtype\":\"float64\",\"order\":\"little\"}],[797,{\"type\":\"ndarray\",\"array\":{\"type\":\"bytes\",\"data\":\"AAAAQDUSK8AAAAAAUQArQA==\"},\"shape\":[2],\"dtype\":\"float64\",\"order\":\"little\"}],[798,{\"type\":\"ndarray\",\"array\":{\"type\":\"bytes\",\"data\":\"AAAAQJjPMMAAAABglAgjQA==\"},\"shape\":[2],\"dtype\":\"float64\",\"order\":\"little\"}],[799,{\"type\":\"ndarray\",\"array\":{\"type\":\"bytes\",\"data\":\"AAAA4KFDMMAAAAAA434aQA==\"},\"shape\":[2],\"dtype\":\"float64\",\"order\":\"little\"}],[800,{\"type\":\"ndarray\",\"array\":{\"type\":\"bytes\",\"data\":\"AAAA4FPZL8AAAACgDdgdQA==\"},\"shape\":[2],\"dtype\":\"float64\",\"order\":\"little\"}],[801,{\"type\":\"ndarray\",\"array\":{\"type\":\"bytes\",\"data\":\"AAAAQDHsKcAAAABgYxYsQA==\"},\"shape\":[2],\"dtype\":\"float64\",\"order\":\"little\"}],[802,{\"type\":\"ndarray\",\"array\":{\"type\":\"bytes\",\"data\":\"AAAAwLCXLcAAAACAijYgQA==\"},\"shape\":[2],\"dtype\":\"float64\",\"order\":\"little\"}],[803,{\"type\":\"ndarray\",\"array\":{\"type\":\"bytes\",\"data\":\"AAAAwMW6LMAAAABgeLEbQA==\"},\"shape\":[2],\"dtype\":\"float64\",\"order\":\"little\"}],[804,{\"type\":\"ndarray\",\"array\":{\"type\":\"bytes\",\"data\":\"AAAAQMbFLcAAAACAk28YQA==\"},\"shape\":[2],\"dtype\":\"float64\",\"order\":\"little\"}],[805,{\"type\":\"ndarray\",\"array\":{\"type\":\"bytes\",\"data\":\"AAAA4BAiLcAAAAAgxKopQA==\"},\"shape\":[2],\"dtype\":\"float64\",\"order\":\"little\"}],[806,{\"type\":\"ndarray\",\"array\":{\"type\":\"bytes\",\"data\":\"AAAAAF8xLcAAAAAgX1YoQA==\"},\"shape\":[2],\"dtype\":\"float64\",\"order\":\"little\"}],[807,{\"type\":\"ndarray\",\"array\":{\"type\":\"bytes\",\"data\":\"AAAAQJTP9z8AAABAibkkQA==\"},\"shape\":[2],\"dtype\":\"float64\",\"order\":\"little\"}],[808,{\"type\":\"ndarray\",\"array\":{\"type\":\"bytes\",\"data\":\"AAAAoKqPCEAAAADAAc8wQA==\"},\"shape\":[2],\"dtype\":\"float64\",\"order\":\"little\"}],[809,{\"type\":\"ndarray\",\"array\":{\"type\":\"bytes\",\"data\":\"AAAAgAPX9T8AAAAgjBAwQA==\"},\"shape\":[2],\"dtype\":\"float64\",\"order\":\"little\"}],[810,{\"type\":\"ndarray\",\"array\":{\"type\":\"bytes\",\"data\":\"AAAAAI0eE0AAAADgCn8wQA==\"},\"shape\":[2],\"dtype\":\"float64\",\"order\":\"little\"}],[811,{\"type\":\"ndarray\",\"array\":{\"type\":\"bytes\",\"data\":\"AAAAgIUsAEAAAABg40wxQA==\"},\"shape\":[2],\"dtype\":\"float64\",\"order\":\"little\"}],[812,{\"type\":\"ndarray\",\"array\":{\"type\":\"bytes\",\"data\":\"AAAAIMpL8j8AAABgXlcvQA==\"},\"shape\":[2],\"dtype\":\"float64\",\"order\":\"little\"}],[813,{\"type\":\"ndarray\",\"array\":{\"type\":\"bytes\",\"data\":\"AAAA4NBV4L8AAACAlnMwQA==\"},\"shape\":[2],\"dtype\":\"float64\",\"order\":\"little\"}],[814,{\"type\":\"ndarray\",\"array\":{\"type\":\"bytes\",\"data\":\"AAAAYCzJAkAAAADglZAxQA==\"},\"shape\":[2],\"dtype\":\"float64\",\"order\":\"little\"}],[815,{\"type\":\"ndarray\",\"array\":{\"type\":\"bytes\",\"data\":\"AAAAIIpM8T8AAAAAWo4xQA==\"},\"shape\":[2],\"dtype\":\"float64\",\"order\":\"little\"}],[816,{\"type\":\"ndarray\",\"array\":{\"type\":\"bytes\",\"data\":\"AAAAIPwK1T8AAAAgu8gwQA==\"},\"shape\":[2],\"dtype\":\"float64\",\"order\":\"little\"}],[817,{\"type\":\"ndarray\",\"array\":{\"type\":\"bytes\",\"data\":\"AAAA4MzmBkAAAACgpXsxQA==\"},\"shape\":[2],\"dtype\":\"float64\",\"order\":\"little\"}],[818,{\"type\":\"ndarray\",\"array\":{\"type\":\"bytes\",\"data\":\"AAAAoKCEEUAAAADACxgwQA==\"},\"shape\":[2],\"dtype\":\"float64\",\"order\":\"little\"}],[819,{\"type\":\"ndarray\",\"array\":{\"type\":\"bytes\",\"data\":\"AAAAgABiDUAAAADAJjMwQA==\"},\"shape\":[2],\"dtype\":\"float64\",\"order\":\"little\"}],[820,{\"type\":\"ndarray\",\"array\":{\"type\":\"bytes\",\"data\":\"AAAAAKk9xz8AAACALr8vQA==\"},\"shape\":[2],\"dtype\":\"float64\",\"order\":\"little\"}],[821,{\"type\":\"ndarray\",\"array\":{\"type\":\"bytes\",\"data\":\"AAAAIH9X678AAAAgTTIwQA==\"},\"shape\":[2],\"dtype\":\"float64\",\"order\":\"little\"}],[822,{\"type\":\"ndarray\",\"array\":{\"type\":\"bytes\",\"data\":\"AAAAAIBzwD8AAABALDwwQA==\"},\"shape\":[2],\"dtype\":\"float64\",\"order\":\"little\"}],[823,{\"type\":\"ndarray\",\"array\":{\"type\":\"bytes\",\"data\":\"AAAAgDpq878AAACAleUfQA==\"},\"shape\":[2],\"dtype\":\"float64\",\"order\":\"little\"}],[824,{\"type\":\"ndarray\",\"array\":{\"type\":\"bytes\",\"data\":\"AAAAgArgDUAAAACAhgIvQA==\"},\"shape\":[2],\"dtype\":\"float64\",\"order\":\"little\"}],[825,{\"type\":\"ndarray\",\"array\":{\"type\":\"bytes\",\"data\":\"AAAAAHtt+D8AAAAge6wwQA==\"},\"shape\":[2],\"dtype\":\"float64\",\"order\":\"little\"}],[826,{\"type\":\"ndarray\",\"array\":{\"type\":\"bytes\",\"data\":\"AAAAAHsGHUAAAADAxHsDQA==\"},\"shape\":[2],\"dtype\":\"float64\",\"order\":\"little\"}],[827,{\"type\":\"ndarray\",\"array\":{\"type\":\"bytes\",\"data\":\"AAAAIPU/FEAAAACgbOwuQA==\"},\"shape\":[2],\"dtype\":\"float64\",\"order\":\"little\"}],[828,{\"type\":\"ndarray\",\"array\":{\"type\":\"bytes\",\"data\":\"AAAAALJLCUAAAACgcVwwQA==\"},\"shape\":[2],\"dtype\":\"float64\",\"order\":\"little\"}],[829,{\"type\":\"ndarray\",\"array\":{\"type\":\"bytes\",\"data\":\"AAAAoL7m8D8AAAAARJkwQA==\"},\"shape\":[2],\"dtype\":\"float64\",\"order\":\"little\"}],[830,{\"type\":\"ndarray\",\"array\":{\"type\":\"bytes\",\"data\":\"AAAAANj58j8AAACAmSQxQA==\"},\"shape\":[2],\"dtype\":\"float64\",\"order\":\"little\"}],[831,{\"type\":\"ndarray\",\"array\":{\"type\":\"bytes\",\"data\":\"AAAAIM9yAkAAAAAg9B8wQA==\"},\"shape\":[2],\"dtype\":\"float64\",\"order\":\"little\"}],[832,{\"type\":\"ndarray\",\"array\":{\"type\":\"bytes\",\"data\":\"AAAAAEVFAkAAAADA5vEwQA==\"},\"shape\":[2],\"dtype\":\"float64\",\"order\":\"little\"}],[833,{\"type\":\"ndarray\",\"array\":{\"type\":\"bytes\",\"data\":\"AAAAAHwDAEAAAABAxI8wQA==\"},\"shape\":[2],\"dtype\":\"float64\",\"order\":\"little\"}],[834,{\"type\":\"ndarray\",\"array\":{\"type\":\"bytes\",\"data\":\"AAAAgN5cFEAAAAAg5bcvQA==\"},\"shape\":[2],\"dtype\":\"float64\",\"order\":\"little\"}],[835,{\"type\":\"ndarray\",\"array\":{\"type\":\"bytes\",\"data\":\"AAAAAAbgBkAAAADA3bcuQA==\"},\"shape\":[2],\"dtype\":\"float64\",\"order\":\"little\"}],[836,{\"type\":\"ndarray\",\"array\":{\"type\":\"bytes\",\"data\":\"AAAAgLlWEEAAAABg1FwvQA==\"},\"shape\":[2],\"dtype\":\"float64\",\"order\":\"little\"}],[837,{\"type\":\"ndarray\",\"array\":{\"type\":\"bytes\",\"data\":\"AAAAQGCe6j8AAACA2gkwQA==\"},\"shape\":[2],\"dtype\":\"float64\",\"order\":\"little\"}],[838,{\"type\":\"ndarray\",\"array\":{\"type\":\"bytes\",\"data\":\"AAAAgDcB4D8AAAAAbXExQA==\"},\"shape\":[2],\"dtype\":\"float64\",\"order\":\"little\"}],[839,{\"type\":\"ndarray\",\"array\":{\"type\":\"bytes\",\"data\":\"AAAAAC89CkAAAABgMkcxQA==\"},\"shape\":[2],\"dtype\":\"float64\",\"order\":\"little\"}],[840,{\"type\":\"ndarray\",\"array\":{\"type\":\"bytes\",\"data\":\"AAAAIAX8CkAAAACAUj8vQA==\"},\"shape\":[2],\"dtype\":\"float64\",\"order\":\"little\"}],[841,{\"type\":\"ndarray\",\"array\":{\"type\":\"bytes\",\"data\":\"AAAAgAeO+j8AAABA65wxQA==\"},\"shape\":[2],\"dtype\":\"float64\",\"order\":\"little\"}],[842,{\"type\":\"ndarray\",\"array\":{\"type\":\"bytes\",\"data\":\"AAAAAFjRBEAAAAAAoH8wQA==\"},\"shape\":[2],\"dtype\":\"float64\",\"order\":\"little\"}],[843,{\"type\":\"ndarray\",\"array\":{\"type\":\"bytes\",\"data\":\"AAAAYIQmDkAAAADgVzUxQA==\"},\"shape\":[2],\"dtype\":\"float64\",\"order\":\"little\"}],[844,{\"type\":\"ndarray\",\"array\":{\"type\":\"bytes\",\"data\":\"AAAA4Gs83L8AAADgTgsxQA==\"},\"shape\":[2],\"dtype\":\"float64\",\"order\":\"little\"}],[845,{\"type\":\"ndarray\",\"array\":{\"type\":\"bytes\",\"data\":\"AAAA4ODRFEAAAAAAbCH/Pw==\"},\"shape\":[2],\"dtype\":\"float64\",\"order\":\"little\"}],[846,{\"type\":\"ndarray\",\"array\":{\"type\":\"bytes\",\"data\":\"AAAAYA0Mrz8AAAAAlTQxQA==\"},\"shape\":[2],\"dtype\":\"float64\",\"order\":\"little\"}],[847,{\"type\":\"ndarray\",\"array\":{\"type\":\"bytes\",\"data\":\"AAAA4KMHEUAAAABgv/owQA==\"},\"shape\":[2],\"dtype\":\"float64\",\"order\":\"little\"}],[848,{\"type\":\"ndarray\",\"array\":{\"type\":\"bytes\",\"data\":\"AAAA4Gp3/D8AAACAAx0wQA==\"},\"shape\":[2],\"dtype\":\"float64\",\"order\":\"little\"}],[849,{\"type\":\"ndarray\",\"array\":{\"type\":\"bytes\",\"data\":\"AAAAgEb/+T8AAACABiIxQA==\"},\"shape\":[2],\"dtype\":\"float64\",\"order\":\"little\"}],[850,{\"type\":\"ndarray\",\"array\":{\"type\":\"bytes\",\"data\":\"AAAAgMbJ8L8AAAAALzseQA==\"},\"shape\":[2],\"dtype\":\"float64\",\"order\":\"little\"}],[851,{\"type\":\"ndarray\",\"array\":{\"type\":\"bytes\",\"data\":\"AAAAID3MFEAAAACg3gv/Pw==\"},\"shape\":[2],\"dtype\":\"float64\",\"order\":\"little\"}],[852,{\"type\":\"ndarray\",\"array\":{\"type\":\"bytes\",\"data\":\"AAAAgNkHwr8AAADAC60wQA==\"},\"shape\":[2],\"dtype\":\"float64\",\"order\":\"little\"}],[853,{\"type\":\"ndarray\",\"array\":{\"type\":\"bytes\",\"data\":\"AAAAQKVnCEAAAADASOAvQA==\"},\"shape\":[2],\"dtype\":\"float64\",\"order\":\"little\"}],[854,{\"type\":\"ndarray\",\"array\":{\"type\":\"bytes\",\"data\":\"AAAA4Dx+FEAAAADAAD4wQA==\"},\"shape\":[2],\"dtype\":\"float64\",\"order\":\"little\"}],[855,{\"type\":\"ndarray\",\"array\":{\"type\":\"bytes\",\"data\":\"AAAAoHkO5z8AAACgNBMxQA==\"},\"shape\":[2],\"dtype\":\"float64\",\"order\":\"little\"}],[856,{\"type\":\"ndarray\",\"array\":{\"type\":\"bytes\",\"data\":\"AAAAQGV+DEAAAADg580wQA==\"},\"shape\":[2],\"dtype\":\"float64\",\"order\":\"little\"}],[857,{\"type\":\"ndarray\",\"array\":{\"type\":\"bytes\",\"data\":\"AAAAQNkkEkAAAAAgy04vQA==\"},\"shape\":[2],\"dtype\":\"float64\",\"order\":\"little\"}],[858,{\"type\":\"ndarray\",\"array\":{\"type\":\"bytes\",\"data\":\"AAAAYGqKEUAAAADAPI4wQA==\"},\"shape\":[2],\"dtype\":\"float64\",\"order\":\"little\"}],[859,{\"type\":\"ndarray\",\"array\":{\"type\":\"bytes\",\"data\":\"AAAAAHKeBUAAAABgRxAxQA==\"},\"shape\":[2],\"dtype\":\"float64\",\"order\":\"little\"}],[860,{\"type\":\"ndarray\",\"array\":{\"type\":\"bytes\",\"data\":\"AAAAAMuUD0AAAABA6Y4wQA==\"},\"shape\":[2],\"dtype\":\"float64\",\"order\":\"little\"}],[861,{\"type\":\"ndarray\",\"array\":{\"type\":\"bytes\",\"data\":\"AAAAgObiEUAAAABAm2suQA==\"},\"shape\":[2],\"dtype\":\"float64\",\"order\":\"little\"}],[862,{\"type\":\"ndarray\",\"array\":{\"type\":\"bytes\",\"data\":\"AAAAIKAr7r8AAABgkKswQA==\"},\"shape\":[2],\"dtype\":\"float64\",\"order\":\"little\"}],[863,{\"type\":\"ndarray\",\"array\":{\"type\":\"bytes\",\"data\":\"AAAAgNFt/z8AAADAgzIvQA==\"},\"shape\":[2],\"dtype\":\"float64\",\"order\":\"little\"}],[864,{\"type\":\"ndarray\",\"array\":{\"type\":\"bytes\",\"data\":\"AAAAYKZ7BEAAAABgT34vQA==\"},\"shape\":[2],\"dtype\":\"float64\",\"order\":\"little\"}],[865,{\"type\":\"ndarray\",\"array\":{\"type\":\"bytes\",\"data\":\"AAAAwGS+4j8AAACgNXkwQA==\"},\"shape\":[2],\"dtype\":\"float64\",\"order\":\"little\"}],[866,{\"type\":\"ndarray\",\"array\":{\"type\":\"bytes\",\"data\":\"AAAAgA54/b8AAABgoBkMQA==\"},\"shape\":[2],\"dtype\":\"float64\",\"order\":\"little\"}],[867,{\"type\":\"ndarray\",\"array\":{\"type\":\"bytes\",\"data\":\"AAAAgCxVFkAAAAAA1DXuvw==\"},\"shape\":[2],\"dtype\":\"float64\",\"order\":\"little\"}],[868,{\"type\":\"ndarray\",\"array\":{\"type\":\"bytes\",\"data\":\"AAAAgEDAEMAAAABg5nkWQA==\"},\"shape\":[2],\"dtype\":\"float64\",\"order\":\"little\"}],[869,{\"type\":\"ndarray\",\"array\":{\"type\":\"bytes\",\"data\":\"AAAAIHrRFMAAAAAA2gbrPw==\"},\"shape\":[2],\"dtype\":\"float64\",\"order\":\"little\"}],[870,{\"type\":\"ndarray\",\"array\":{\"type\":\"bytes\",\"data\":\"AAAAIOZwGsAAAAAgPt0HQA==\"},\"shape\":[2],\"dtype\":\"float64\",\"order\":\"little\"}],[871,{\"type\":\"ndarray\",\"array\":{\"type\":\"bytes\",\"data\":\"AAAAAJyKE8AAAABgK1kgQA==\"},\"shape\":[2],\"dtype\":\"float64\",\"order\":\"little\"}],[872,{\"type\":\"ndarray\",\"array\":{\"type\":\"bytes\",\"data\":\"AAAA4K8VEsAAAABAXzMTQA==\"},\"shape\":[2],\"dtype\":\"float64\",\"order\":\"little\"}],[873,{\"type\":\"ndarray\",\"array\":{\"type\":\"bytes\",\"data\":\"AAAAwA85EcAAAADA+KkLQA==\"},\"shape\":[2],\"dtype\":\"float64\",\"order\":\"little\"}],[874,{\"type\":\"ndarray\",\"array\":{\"type\":\"bytes\",\"data\":\"AAAAgGkzE0AAAADgIo77vw==\"},\"shape\":[2],\"dtype\":\"float64\",\"order\":\"little\"}],[875,{\"type\":\"ndarray\",\"array\":{\"type\":\"bytes\",\"data\":\"AAAAgHAnG8AAAADg4SIWQA==\"},\"shape\":[2],\"dtype\":\"float64\",\"order\":\"little\"}],[876,{\"type\":\"ndarray\",\"array\":{\"type\":\"bytes\",\"data\":\"AAAAgPs3DsAAAAAgGgceQA==\"},\"shape\":[2],\"dtype\":\"float64\",\"order\":\"little\"}],[877,{\"type\":\"ndarray\",\"array\":{\"type\":\"bytes\",\"data\":\"AAAA4Ew5FcAAAADA+aX6Pw==\"},\"shape\":[2],\"dtype\":\"float64\",\"order\":\"little\"}],[878,{\"type\":\"ndarray\",\"array\":{\"type\":\"bytes\",\"data\":\"AAAAIH+PEMAAAACg7p8gQA==\"},\"shape\":[2],\"dtype\":\"float64\",\"order\":\"little\"}],[879,{\"type\":\"ndarray\",\"array\":{\"type\":\"bytes\",\"data\":\"AAAAIDjVEcAAAAAgDbcPQA==\"},\"shape\":[2],\"dtype\":\"float64\",\"order\":\"little\"}],[880,{\"type\":\"ndarray\",\"array\":{\"type\":\"bytes\",\"data\":\"AAAA4FrRG8AAAADgBkUSQA==\"},\"shape\":[2],\"dtype\":\"float64\",\"order\":\"little\"}],[881,{\"type\":\"ndarray\",\"array\":{\"type\":\"bytes\",\"data\":\"AAAA4EDEFkAAAADAXWbtvw==\"},\"shape\":[2],\"dtype\":\"float64\",\"order\":\"little\"}],[882,{\"type\":\"ndarray\",\"array\":{\"type\":\"bytes\",\"data\":\"AAAAgHo4EcAAAACgOkL9Pw==\"},\"shape\":[2],\"dtype\":\"float64\",\"order\":\"little\"}],[883,{\"type\":\"ndarray\",\"array\":{\"type\":\"bytes\",\"data\":\"AAAAAPUNFcAAAADgmiICQA==\"},\"shape\":[2],\"dtype\":\"float64\",\"order\":\"little\"}],[884,{\"type\":\"ndarray\",\"array\":{\"type\":\"bytes\",\"data\":\"AAAA4HwPB0AAAADgVET7Pw==\"},\"shape\":[2],\"dtype\":\"float64\",\"order\":\"little\"}],[885,{\"type\":\"ndarray\",\"array\":{\"type\":\"bytes\",\"data\":\"AAAAoEwPGcAAAADA+nwcQA==\"},\"shape\":[2],\"dtype\":\"float64\",\"order\":\"little\"}],[886,{\"type\":\"ndarray\",\"array\":{\"type\":\"bytes\",\"data\":\"AAAAwMIoFsAAAACAUuoOQA==\"},\"shape\":[2],\"dtype\":\"float64\",\"order\":\"little\"}],[887,{\"type\":\"ndarray\",\"array\":{\"type\":\"bytes\",\"data\":\"AAAAIFxSG8AAAADg5o8DQA==\"},\"shape\":[2],\"dtype\":\"float64\",\"order\":\"little\"}],[888,{\"type\":\"ndarray\",\"array\":{\"type\":\"bytes\",\"data\":\"AAAA4CMLFsAAAADgTv4fQA==\"},\"shape\":[2],\"dtype\":\"float64\",\"order\":\"little\"}],[889,{\"type\":\"ndarray\",\"array\":{\"type\":\"bytes\",\"data\":\"AAAAICdHFkAAAAAAQqfvvw==\"},\"shape\":[2],\"dtype\":\"float64\",\"order\":\"little\"}],[890,{\"type\":\"ndarray\",\"array\":{\"type\":\"bytes\",\"data\":\"AAAAgBVWE8AAAAAAzIYWQA==\"},\"shape\":[2],\"dtype\":\"float64\",\"order\":\"little\"}],[891,{\"type\":\"ndarray\",\"array\":{\"type\":\"bytes\",\"data\":\"AAAAIP0PE8AAAABg2oUcQA==\"},\"shape\":[2],\"dtype\":\"float64\",\"order\":\"little\"}],[892,{\"type\":\"ndarray\",\"array\":{\"type\":\"bytes\",\"data\":\"AAAAwDIrGMAAAADgdi0BQA==\"},\"shape\":[2],\"dtype\":\"float64\",\"order\":\"little\"}],[893,{\"type\":\"ndarray\",\"array\":{\"type\":\"bytes\",\"data\":\"AAAAwLyuF8AAAACA9Yj5Pw==\"},\"shape\":[2],\"dtype\":\"float64\",\"order\":\"little\"}],[894,{\"type\":\"ndarray\",\"array\":{\"type\":\"bytes\",\"data\":\"AAAA4NRVGsAAAADgyqEZQA==\"},\"shape\":[2],\"dtype\":\"float64\",\"order\":\"little\"}],[895,{\"type\":\"ndarray\",\"array\":{\"type\":\"bytes\",\"data\":\"AAAAQHAoG8AAAACgeUMUQA==\"},\"shape\":[2],\"dtype\":\"float64\",\"order\":\"little\"}],[896,{\"type\":\"ndarray\",\"array\":{\"type\":\"bytes\",\"data\":\"AAAAYCinFMAAAADgv/QHQA==\"},\"shape\":[2],\"dtype\":\"float64\",\"order\":\"little\"}],[897,{\"type\":\"ndarray\",\"array\":{\"type\":\"bytes\",\"data\":\"AAAAIOhOFsAAAAAA5noUQA==\"},\"shape\":[2],\"dtype\":\"float64\",\"order\":\"little\"}],[898,{\"type\":\"ndarray\",\"array\":{\"type\":\"bytes\",\"data\":\"AAAAAJ7/GcAAAABAGPD8Pw==\"},\"shape\":[2],\"dtype\":\"float64\",\"order\":\"little\"}],[899,{\"type\":\"ndarray\",\"array\":{\"type\":\"bytes\",\"data\":\"AAAAAO58GMAAAABguYkaQA==\"},\"shape\":[2],\"dtype\":\"float64\",\"order\":\"little\"}],[900,{\"type\":\"ndarray\",\"array\":{\"type\":\"bytes\",\"data\":\"AAAAQKUZF8AAAABAibfxPw==\"},\"shape\":[2],\"dtype\":\"float64\",\"order\":\"little\"}],[901,{\"type\":\"ndarray\",\"array\":{\"type\":\"bytes\",\"data\":\"AAAAgHhpHMAAAADgloYJQA==\"},\"shape\":[2],\"dtype\":\"float64\",\"order\":\"little\"}],[902,{\"type\":\"ndarray\",\"array\":{\"type\":\"bytes\",\"data\":\"AAAAoFEIF8AAAABACKwcQA==\"},\"shape\":[2],\"dtype\":\"float64\",\"order\":\"little\"}],[903,{\"type\":\"ndarray\",\"array\":{\"type\":\"bytes\",\"data\":\"AAAAoBkgGMAAAACAFkkfQA==\"},\"shape\":[2],\"dtype\":\"float64\",\"order\":\"little\"}],[904,{\"type\":\"ndarray\",\"array\":{\"type\":\"bytes\",\"data\":\"AAAAwEkWEcAAAABA174dQA==\"},\"shape\":[2],\"dtype\":\"float64\",\"order\":\"little\"}],[905,{\"type\":\"ndarray\",\"array\":{\"type\":\"bytes\",\"data\":\"AAAAIK+yFMAAAAAgYf8aQA==\"},\"shape\":[2],\"dtype\":\"float64\",\"order\":\"little\"}],[906,{\"type\":\"ndarray\",\"array\":{\"type\":\"bytes\",\"data\":\"AAAAgDRBB0AAAADgYI7+Pw==\"},\"shape\":[2],\"dtype\":\"float64\",\"order\":\"little\"}],[907,{\"type\":\"ndarray\",\"array\":{\"type\":\"bytes\",\"data\":\"AAAAgCoNFcAAAADg1uQcQA==\"},\"shape\":[2],\"dtype\":\"float64\",\"order\":\"little\"}],[908,{\"type\":\"ndarray\",\"array\":{\"type\":\"bytes\",\"data\":\"AAAAgDrMGMAAAACAlAwFQA==\"},\"shape\":[2],\"dtype\":\"float64\",\"order\":\"little\"}],[909,{\"type\":\"ndarray\",\"array\":{\"type\":\"bytes\",\"data\":\"AAAAYG5uFcAAAABgpLkWQA==\"},\"shape\":[2],\"dtype\":\"float64\",\"order\":\"little\"}],[910,{\"type\":\"ndarray\",\"array\":{\"type\":\"bytes\",\"data\":\"AAAAwFrBE0AAAACA43/5vw==\"},\"shape\":[2],\"dtype\":\"float64\",\"order\":\"little\"}],[911,{\"type\":\"ndarray\",\"array\":{\"type\":\"bytes\",\"data\":\"AAAAQP+1CEAAAAAgs5kCQA==\"},\"shape\":[2],\"dtype\":\"float64\",\"order\":\"little\"}],[912,{\"type\":\"ndarray\",\"array\":{\"type\":\"bytes\",\"data\":\"AAAAwMmKGsAAAABAMXcMQA==\"},\"shape\":[2],\"dtype\":\"float64\",\"order\":\"little\"}],[913,{\"type\":\"ndarray\",\"array\":{\"type\":\"bytes\",\"data\":\"AAAAgIaXF8AAAADgWlkXQA==\"},\"shape\":[2],\"dtype\":\"float64\",\"order\":\"little\"}],[914,{\"type\":\"ndarray\",\"array\":{\"type\":\"bytes\",\"data\":\"AAAAYG5PGcAAAADgQZkSQA==\"},\"shape\":[2],\"dtype\":\"float64\",\"order\":\"little\"}],[915,{\"type\":\"ndarray\",\"array\":{\"type\":\"bytes\",\"data\":\"AAAA4JSLGcAAAAAgm0YQQA==\"},\"shape\":[2],\"dtype\":\"float64\",\"order\":\"little\"}],[916,{\"type\":\"ndarray\",\"array\":{\"type\":\"bytes\",\"data\":\"AAAAYMNmEsAAAAAgn2AaQA==\"},\"shape\":[2],\"dtype\":\"float64\",\"order\":\"little\"}],[917,{\"type\":\"ndarray\",\"array\":{\"type\":\"bytes\",\"data\":\"AAAAAGNNHMAAAACgc0IPQA==\"},\"shape\":[2],\"dtype\":\"float64\",\"order\":\"little\"}],[918,{\"type\":\"ndarray\",\"array\":{\"type\":\"bytes\",\"data\":\"AAAAwFLTFsAAAADg8HgHQA==\"},\"shape\":[2],\"dtype\":\"float64\",\"order\":\"little\"}],[919,{\"type\":\"ndarray\",\"array\":{\"type\":\"bytes\",\"data\":\"AAAAoM46D8AAAAAAw/cbQA==\"},\"shape\":[2],\"dtype\":\"float64\",\"order\":\"little\"}],[920,{\"type\":\"ndarray\",\"array\":{\"type\":\"bytes\",\"data\":\"AAAAAMrTGcAAAACgJqoXQA==\"},\"shape\":[2],\"dtype\":\"float64\",\"order\":\"little\"}],[921,{\"type\":\"ndarray\",\"array\":{\"type\":\"bytes\",\"data\":\"AAAA4NSiEsAAAAAAU2chQA==\"},\"shape\":[2],\"dtype\":\"float64\",\"order\":\"little\"}],[922,{\"type\":\"ndarray\",\"array\":{\"type\":\"bytes\",\"data\":\"AAAAQPPKD8AAAABg5RYZQA==\"},\"shape\":[2],\"dtype\":\"float64\",\"order\":\"little\"}],[923,{\"type\":\"ndarray\",\"array\":{\"type\":\"bytes\",\"data\":\"AAAAYJLAEsAAAADgfGrxPw==\"},\"shape\":[2],\"dtype\":\"float64\",\"order\":\"little\"}],[924,{\"type\":\"ndarray\",\"array\":{\"type\":\"bytes\",\"data\":\"AAAAgDlKFsAAAACgVn8ZQA==\"},\"shape\":[2],\"dtype\":\"float64\",\"order\":\"little\"}],[925,{\"type\":\"ndarray\",\"array\":{\"type\":\"bytes\",\"data\":\"AAAAIM+0GMAAAACAeDAVQA==\"},\"shape\":[2],\"dtype\":\"float64\",\"order\":\"little\"}],[926,{\"type\":\"ndarray\",\"array\":{\"type\":\"bytes\",\"data\":\"AAAAwGeYFEAAAABAPXL4vw==\"},\"shape\":[2],\"dtype\":\"float64\",\"order\":\"little\"}],[927,{\"type\":\"ndarray\",\"array\":{\"type\":\"bytes\",\"data\":\"AAAAIGlnFMAAAABAprMRQA==\"},\"shape\":[2],\"dtype\":\"float64\",\"order\":\"little\"}],[928,{\"type\":\"ndarray\",\"array\":{\"type\":\"bytes\",\"data\":\"AAAAoBHSFcAAAACg3A8gQA==\"},\"shape\":[2],\"dtype\":\"float64\",\"order\":\"little\"}],[929,{\"type\":\"ndarray\",\"array\":{\"type\":\"bytes\",\"data\":\"AAAAACsJF8AAAADAZt4RQA==\"},\"shape\":[2],\"dtype\":\"float64\",\"order\":\"little\"}],[930,{\"type\":\"ndarray\",\"array\":{\"type\":\"bytes\",\"data\":\"AAAAwK4MGMAAAACAD4oLQA==\"},\"shape\":[2],\"dtype\":\"float64\",\"order\":\"little\"}],[931,{\"type\":\"ndarray\",\"array\":{\"type\":\"bytes\",\"data\":\"AAAA4EN5HUAAAACg5134Pw==\"},\"shape\":[2],\"dtype\":\"float64\",\"order\":\"little\"}],[932,{\"type\":\"ndarray\",\"array\":{\"type\":\"bytes\",\"data\":\"AAAAoNnAKEAAAADgI2/8Pw==\"},\"shape\":[2],\"dtype\":\"float64\",\"order\":\"little\"}],[933,{\"type\":\"ndarray\",\"array\":{\"type\":\"bytes\",\"data\":\"AAAAIEJoJ0AAAACgAl8HQA==\"},\"shape\":[2],\"dtype\":\"float64\",\"order\":\"little\"}],[934,{\"type\":\"ndarray\",\"array\":{\"type\":\"bytes\",\"data\":\"AAAAoFc/JkAAAACgGQ8DwA==\"},\"shape\":[2],\"dtype\":\"float64\",\"order\":\"little\"}],[935,{\"type\":\"ndarray\",\"array\":{\"type\":\"bytes\",\"data\":\"AAAAwDyWJEAAAACgEx4HwA==\"},\"shape\":[2],\"dtype\":\"float64\",\"order\":\"little\"}],[936,{\"type\":\"ndarray\",\"array\":{\"type\":\"bytes\",\"data\":\"AAAA4IlKKEAAAABgqBMDQA==\"},\"shape\":[2],\"dtype\":\"float64\",\"order\":\"little\"}],[937,{\"type\":\"ndarray\",\"array\":{\"type\":\"bytes\",\"data\":\"AAAAoPJFJEAAAACgpPoDwA==\"},\"shape\":[2],\"dtype\":\"float64\",\"order\":\"little\"}],[938,{\"type\":\"ndarray\",\"array\":{\"type\":\"bytes\",\"data\":\"AAAA4Je9JEAAAACA/cHyvw==\"},\"shape\":[2],\"dtype\":\"float64\",\"order\":\"little\"}],[939,{\"type\":\"ndarray\",\"array\":{\"type\":\"bytes\",\"data\":\"AAAAIHVhJkAAAABgLnn0Pw==\"},\"shape\":[2],\"dtype\":\"float64\",\"order\":\"little\"}],[940,{\"type\":\"ndarray\",\"array\":{\"type\":\"bytes\",\"data\":\"AAAAwCAzJEAAAAAg9iTxPw==\"},\"shape\":[2],\"dtype\":\"float64\",\"order\":\"little\"}],[941,{\"type\":\"ndarray\",\"array\":{\"type\":\"bytes\",\"data\":\"AAAAoBF+KUAAAABA1ogKQA==\"},\"shape\":[2],\"dtype\":\"float64\",\"order\":\"little\"}],[942,{\"type\":\"ndarray\",\"array\":{\"type\":\"bytes\",\"data\":\"AAAA4DoSJUAAAACABewEwA==\"},\"shape\":[2],\"dtype\":\"float64\",\"order\":\"little\"}],[943,{\"type\":\"ndarray\",\"array\":{\"type\":\"bytes\",\"data\":\"AAAAoFS/I0AAAAAgQKIHwA==\"},\"shape\":[2],\"dtype\":\"float64\",\"order\":\"little\"}],[944,{\"type\":\"ndarray\",\"array\":{\"type\":\"bytes\",\"data\":\"AAAAoGuNJUAAAADghS8DwA==\"},\"shape\":[2],\"dtype\":\"float64\",\"order\":\"little\"}],[945,{\"type\":\"ndarray\",\"array\":{\"type\":\"bytes\",\"data\":\"AAAAYJerJkAAAACAl5HOvw==\"},\"shape\":[2],\"dtype\":\"float64\",\"order\":\"little\"}],[946,{\"type\":\"ndarray\",\"array\":{\"type\":\"bytes\",\"data\":\"AAAAoPyKKEAAAAAAdCLmPw==\"},\"shape\":[2],\"dtype\":\"float64\",\"order\":\"little\"}],[947,{\"type\":\"ndarray\",\"array\":{\"type\":\"bytes\",\"data\":\"AAAAQKeVJ0AAAABA4o/hPw==\"},\"shape\":[2],\"dtype\":\"float64\",\"order\":\"little\"}],[948,{\"type\":\"ndarray\",\"array\":{\"type\":\"bytes\",\"data\":\"AAAAwO7pJ0AAAACARBG0vw==\"},\"shape\":[2],\"dtype\":\"float64\",\"order\":\"little\"}],[949,{\"type\":\"ndarray\",\"array\":{\"type\":\"bytes\",\"data\":\"AAAA4OMwI0AAAAAA1anrvw==\"},\"shape\":[2],\"dtype\":\"float64\",\"order\":\"little\"}],[950,{\"type\":\"ndarray\",\"array\":{\"type\":\"bytes\",\"data\":\"AAAA4FIOKUAAAAAA1AoQQA==\"},\"shape\":[2],\"dtype\":\"float64\",\"order\":\"little\"}],[951,{\"type\":\"ndarray\",\"array\":{\"type\":\"bytes\",\"data\":\"AAAAYGNPKUAAAABA7VsBQA==\"},\"shape\":[2],\"dtype\":\"float64\",\"order\":\"little\"}],[952,{\"type\":\"ndarray\",\"array\":{\"type\":\"bytes\",\"data\":\"AAAAAEmHJ0AAAADAb/ALQA==\"},\"shape\":[2],\"dtype\":\"float64\",\"order\":\"little\"}],[953,{\"type\":\"ndarray\",\"array\":{\"type\":\"bytes\",\"data\":\"AAAAYETzKEAAAABgcZvzPw==\"},\"shape\":[2],\"dtype\":\"float64\",\"order\":\"little\"}],[954,{\"type\":\"ndarray\",\"array\":{\"type\":\"bytes\",\"data\":\"AAAAIMi/JEAAAADAejjYPw==\"},\"shape\":[2],\"dtype\":\"float64\",\"order\":\"little\"}],[955,{\"type\":\"ndarray\",\"array\":{\"type\":\"bytes\",\"data\":\"AAAAYOLPJEAAAABAbWcGQA==\"},\"shape\":[2],\"dtype\":\"float64\",\"order\":\"little\"}],[956,{\"type\":\"ndarray\",\"array\":{\"type\":\"bytes\",\"data\":\"AAAAABBrKUAAAABgNMsFQA==\"},\"shape\":[2],\"dtype\":\"float64\",\"order\":\"little\"}],[957,{\"type\":\"ndarray\",\"array\":{\"type\":\"bytes\",\"data\":\"AAAAgPidJ0AAAAAAxAYQQA==\"},\"shape\":[2],\"dtype\":\"float64\",\"order\":\"little\"}],[958,{\"type\":\"ndarray\",\"array\":{\"type\":\"bytes\",\"data\":\"AAAAoOXqJ0AAAADAe3j1Pw==\"},\"shape\":[2],\"dtype\":\"float64\",\"order\":\"little\"}],[959,{\"type\":\"ndarray\",\"array\":{\"type\":\"bytes\",\"data\":\"AAAAQOoeJUAAAADArfn5Pw==\"},\"shape\":[2],\"dtype\":\"float64\",\"order\":\"little\"}],[960,{\"type\":\"ndarray\",\"array\":{\"type\":\"bytes\",\"data\":\"AAAAYEt6KEAAAADgptYHQA==\"},\"shape\":[2],\"dtype\":\"float64\",\"order\":\"little\"}],[961,{\"type\":\"ndarray\",\"array\":{\"type\":\"bytes\",\"data\":\"AAAAgG42J0AAAAAg5LkBQA==\"},\"shape\":[2],\"dtype\":\"float64\",\"order\":\"little\"}],[962,{\"type\":\"ndarray\",\"array\":{\"type\":\"bytes\",\"data\":\"AAAAoDo0JUAAAAAgeGsBQA==\"},\"shape\":[2],\"dtype\":\"float64\",\"order\":\"little\"}],[963,{\"type\":\"ndarray\",\"array\":{\"type\":\"bytes\",\"data\":\"AAAAgE5tKEAAAADAdJERQA==\"},\"shape\":[2],\"dtype\":\"float64\",\"order\":\"little\"}],[964,{\"type\":\"ndarray\",\"array\":{\"type\":\"bytes\",\"data\":\"AAAA4KuiI0AAAABAP5jHvw==\"},\"shape\":[2],\"dtype\":\"float64\",\"order\":\"little\"}],[965,{\"type\":\"ndarray\",\"array\":{\"type\":\"bytes\",\"data\":\"AAAAAKyrJkAAAAAgkQHZPw==\"},\"shape\":[2],\"dtype\":\"float64\",\"order\":\"little\"}],[966,{\"type\":\"ndarray\",\"array\":{\"type\":\"bytes\",\"data\":\"AAAA4IQaJ0AAAAAgVeP6Pw==\"},\"shape\":[2],\"dtype\":\"float64\",\"order\":\"little\"}],[967,{\"type\":\"ndarray\",\"array\":{\"type\":\"bytes\",\"data\":\"AAAAIFU8J0AAAABA1OARQA==\"},\"shape\":[2],\"dtype\":\"float64\",\"order\":\"little\"}],[968,{\"type\":\"ndarray\",\"array\":{\"type\":\"bytes\",\"data\":\"AAAAoEQAJkAAAABgANIQQA==\"},\"shape\":[2],\"dtype\":\"float64\",\"order\":\"little\"}],[969,{\"type\":\"ndarray\",\"array\":{\"type\":\"bytes\",\"data\":\"AAAAwCRCJUAAAADAvmSovw==\"},\"shape\":[2],\"dtype\":\"float64\",\"order\":\"little\"}],[970,{\"type\":\"ndarray\",\"array\":{\"type\":\"bytes\",\"data\":\"AAAAICUOJUAAAACAixAMQA==\"},\"shape\":[2],\"dtype\":\"float64\",\"order\":\"little\"}],[971,{\"type\":\"ndarray\",\"array\":{\"type\":\"bytes\",\"data\":\"AAAAIMU6JkAAAAAAGywEQA==\"},\"shape\":[2],\"dtype\":\"float64\",\"order\":\"little\"}],[972,{\"type\":\"ndarray\",\"array\":{\"type\":\"bytes\",\"data\":\"AAAAoNYBJkAAAABgqWfqPw==\"},\"shape\":[2],\"dtype\":\"float64\",\"order\":\"little\"}],[973,{\"type\":\"ndarray\",\"array\":{\"type\":\"bytes\",\"data\":\"AAAA4K+sKEAAAACgyYkMQA==\"},\"shape\":[2],\"dtype\":\"float64\",\"order\":\"little\"}],[974,{\"type\":\"ndarray\",\"array\":{\"type\":\"bytes\",\"data\":\"AAAAIO0xJkAAAADAtzoJQA==\"},\"shape\":[2],\"dtype\":\"float64\",\"order\":\"little\"}],[975,{\"type\":\"ndarray\",\"array\":{\"type\":\"bytes\",\"data\":\"AAAAoChWJkAAAACgO+cNQA==\"},\"shape\":[2],\"dtype\":\"float64\",\"order\":\"little\"}],[976,{\"type\":\"ndarray\",\"array\":{\"type\":\"bytes\",\"data\":\"AAAAQNw7JUAAAADA1TTkvw==\"},\"shape\":[2],\"dtype\":\"float64\",\"order\":\"little\"}],[977,{\"type\":\"ndarray\",\"array\":{\"type\":\"bytes\",\"data\":\"AAAA4IADKEAAAADg/2MXwA==\"},\"shape\":[2],\"dtype\":\"float64\",\"order\":\"little\"}],[978,{\"type\":\"ndarray\",\"array\":{\"type\":\"bytes\",\"data\":\"AAAAwEfiKEAAAACgxCwnwA==\"},\"shape\":[2],\"dtype\":\"float64\",\"order\":\"little\"}],[979,{\"type\":\"ndarray\",\"array\":{\"type\":\"bytes\",\"data\":\"AAAAwMzZKUAAAAAANG8owA==\"},\"shape\":[2],\"dtype\":\"float64\",\"order\":\"little\"}],[980,{\"type\":\"ndarray\",\"array\":{\"type\":\"bytes\",\"data\":\"AAAAYG4ZK0AAAABAq6IowA==\"},\"shape\":[2],\"dtype\":\"float64\",\"order\":\"little\"}],[981,{\"type\":\"ndarray\",\"array\":{\"type\":\"bytes\",\"data\":\"AAAAIHhBJ0AAAACgvtMjwA==\"},\"shape\":[2],\"dtype\":\"float64\",\"order\":\"little\"}],[982,{\"type\":\"ndarray\",\"array\":{\"type\":\"bytes\",\"data\":\"AAAAIM4pMUAAAABggVIkwA==\"},\"shape\":[2],\"dtype\":\"float64\",\"order\":\"little\"}],[983,{\"type\":\"ndarray\",\"array\":{\"type\":\"bytes\",\"data\":\"AAAAwPS9MUAAAADA+yQWwA==\"},\"shape\":[2],\"dtype\":\"float64\",\"order\":\"little\"}],[984,{\"type\":\"ndarray\",\"array\":{\"type\":\"bytes\",\"data\":\"AAAAYHxFMkAAAACA4k4fwA==\"},\"shape\":[2],\"dtype\":\"float64\",\"order\":\"little\"}],[985,{\"type\":\"ndarray\",\"array\":{\"type\":\"bytes\",\"data\":\"AAAAAIkPLkAAAADg2qUkwA==\"},\"shape\":[2],\"dtype\":\"float64\",\"order\":\"little\"}],[986,{\"type\":\"ndarray\",\"array\":{\"type\":\"bytes\",\"data\":\"AAAAIObJJ0AAAADgoY4nwA==\"},\"shape\":[2],\"dtype\":\"float64\",\"order\":\"little\"}],[987,{\"type\":\"ndarray\",\"array\":{\"type\":\"bytes\",\"data\":\"AAAAAMq7K0AAAABASRgmwA==\"},\"shape\":[2],\"dtype\":\"float64\",\"order\":\"little\"}],[988,{\"type\":\"ndarray\",\"array\":{\"type\":\"bytes\",\"data\":\"AAAAQIasLkAAAAAAMaIjwA==\"},\"shape\":[2],\"dtype\":\"float64\",\"order\":\"little\"}],[989,{\"type\":\"ndarray\",\"array\":{\"type\":\"bytes\",\"data\":\"AAAAgNYvKEAAAABg94cmwA==\"},\"shape\":[2],\"dtype\":\"float64\",\"order\":\"little\"}],[990,{\"type\":\"ndarray\",\"array\":{\"type\":\"bytes\",\"data\":\"AAAA4N2/MEAAAAAAkCokwA==\"},\"shape\":[2],\"dtype\":\"float64\",\"order\":\"little\"}],[991,{\"type\":\"ndarray\",\"array\":{\"type\":\"bytes\",\"data\":\"AAAAAPcQMkAAAAAgAcciwA==\"},\"shape\":[2],\"dtype\":\"float64\",\"order\":\"little\"}],[992,{\"type\":\"ndarray\",\"array\":{\"type\":\"bytes\",\"data\":\"AAAAgKkwMEAAAABgKPgXwA==\"},\"shape\":[2],\"dtype\":\"float64\",\"order\":\"little\"}],[993,{\"type\":\"ndarray\",\"array\":{\"type\":\"bytes\",\"data\":\"AAAAYJfLLUAAAABACTYowA==\"},\"shape\":[2],\"dtype\":\"float64\",\"order\":\"little\"}],[994,{\"type\":\"ndarray\",\"array\":{\"type\":\"bytes\",\"data\":\"AAAAYJVkMEAAAABALWsawA==\"},\"shape\":[2],\"dtype\":\"float64\",\"order\":\"little\"}],[995,{\"type\":\"ndarray\",\"array\":{\"type\":\"bytes\",\"data\":\"AAAAYA1eMEAAAAAgzV0TwA==\"},\"shape\":[2],\"dtype\":\"float64\",\"order\":\"little\"}],[996,{\"type\":\"ndarray\",\"array\":{\"type\":\"bytes\",\"data\":\"AAAAoPT3MEAAAADALk0gwA==\"},\"shape\":[2],\"dtype\":\"float64\",\"order\":\"little\"}],[997,{\"type\":\"ndarray\",\"array\":{\"type\":\"bytes\",\"data\":\"AAAA4PcPKUAAAABgqpAlwA==\"},\"shape\":[2],\"dtype\":\"float64\",\"order\":\"little\"}],[998,{\"type\":\"ndarray\",\"array\":{\"type\":\"bytes\",\"data\":\"AAAAgFfhMkAAAADA0vsewA==\"},\"shape\":[2],\"dtype\":\"float64\",\"order\":\"little\"}],[999,{\"type\":\"ndarray\",\"array\":{\"type\":\"bytes\",\"data\":\"AAAAAItxMkAAAAAAeHkawA==\"},\"shape\":[2],\"dtype\":\"float64\",\"order\":\"little\"}],[1000,{\"type\":\"ndarray\",\"array\":{\"type\":\"bytes\",\"data\":\"AAAAwJy8MEAAAABgsXsXwA==\"},\"shape\":[2],\"dtype\":\"float64\",\"order\":\"little\"}],[1001,{\"type\":\"ndarray\",\"array\":{\"type\":\"bytes\",\"data\":\"AAAAQHiJMUAAAACAWRYhwA==\"},\"shape\":[2],\"dtype\":\"float64\",\"order\":\"little\"}],[1002,{\"type\":\"ndarray\",\"array\":{\"type\":\"bytes\",\"data\":\"AAAAQHrYMUAAAAAgQjQgwA==\"},\"shape\":[2],\"dtype\":\"float64\",\"order\":\"little\"}],[1003,{\"type\":\"ndarray\",\"array\":{\"type\":\"bytes\",\"data\":\"AAAAoIQFJkAAAABgraYkwA==\"},\"shape\":[2],\"dtype\":\"float64\",\"order\":\"little\"}],[1004,{\"type\":\"ndarray\",\"array\":{\"type\":\"bytes\",\"data\":\"AAAAYNbAMUAAAACg/TgkwA==\"},\"shape\":[2],\"dtype\":\"float64\",\"order\":\"little\"}],[1005,{\"type\":\"ndarray\",\"array\":{\"type\":\"bytes\",\"data\":\"AAAAIEwxL0AAAAAgrXkmwA==\"},\"shape\":[2],\"dtype\":\"float64\",\"order\":\"little\"}],[1006,{\"type\":\"ndarray\",\"array\":{\"type\":\"bytes\",\"data\":\"AAAAgDIVJkAAAABgm2AjwA==\"},\"shape\":[2],\"dtype\":\"float64\",\"order\":\"little\"}],[1007,{\"type\":\"ndarray\",\"array\":{\"type\":\"bytes\",\"data\":\"AAAAIJZ8MEAAAABgrNkfwA==\"},\"shape\":[2],\"dtype\":\"float64\",\"order\":\"little\"}],[1008,{\"type\":\"ndarray\",\"array\":{\"type\":\"bytes\",\"data\":\"AAAAAKh0KkAAAABAe0UjwA==\"},\"shape\":[2],\"dtype\":\"float64\",\"order\":\"little\"}],[1009,{\"type\":\"ndarray\",\"array\":{\"type\":\"bytes\",\"data\":\"AAAAAJ2XMEAAAAAgYRYhwA==\"},\"shape\":[2],\"dtype\":\"float64\",\"order\":\"little\"}],[1010,{\"type\":\"ndarray\",\"array\":{\"type\":\"bytes\",\"data\":\"AAAAgO2mMUAAAAAA11MiwA==\"},\"shape\":[2],\"dtype\":\"float64\",\"order\":\"little\"}],[1011,{\"type\":\"ndarray\",\"array\":{\"type\":\"bytes\",\"data\":\"AAAAYLfiMEAAAAAACQAewA==\"},\"shape\":[2],\"dtype\":\"float64\",\"order\":\"little\"}],[1012,{\"type\":\"ndarray\",\"array\":{\"type\":\"bytes\",\"data\":\"AAAA4KzpLEAAAAAAKF8owA==\"},\"shape\":[2],\"dtype\":\"float64\",\"order\":\"little\"}],[1013,{\"type\":\"ndarray\",\"array\":{\"type\":\"bytes\",\"data\":\"AAAAABP/MUAAAADgXEobwA==\"},\"shape\":[2],\"dtype\":\"float64\",\"order\":\"little\"}],[1014,{\"type\":\"ndarray\",\"array\":{\"type\":\"bytes\",\"data\":\"AAAAoJNaL0AAAABg5DshwA==\"},\"shape\":[2],\"dtype\":\"float64\",\"order\":\"little\"}],[1015,{\"type\":\"ndarray\",\"array\":{\"type\":\"bytes\",\"data\":\"AAAAIHcIMUAAAADgXfwYwA==\"},\"shape\":[2],\"dtype\":\"float64\",\"order\":\"little\"}],[1016,{\"type\":\"ndarray\",\"array\":{\"type\":\"bytes\",\"data\":\"AAAA4EFaJkAAAADgfNElwA==\"},\"shape\":[2],\"dtype\":\"float64\",\"order\":\"little\"}],[1017,{\"type\":\"ndarray\",\"array\":{\"type\":\"bytes\",\"data\":\"AAAAgFTwKUAAAADg9D0nwA==\"},\"shape\":[2],\"dtype\":\"float64\",\"order\":\"little\"}],[1018,{\"type\":\"ndarray\",\"array\":{\"type\":\"bytes\",\"data\":\"AAAAgBkpMEAAAACAIT0iwA==\"},\"shape\":[2],\"dtype\":\"float64\",\"order\":\"little\"}],[1019,{\"type\":\"ndarray\",\"array\":{\"type\":\"bytes\",\"data\":\"AAAAYLT1MUAAAABAyy8YwA==\"},\"shape\":[2],\"dtype\":\"float64\",\"order\":\"little\"}],[1020,{\"type\":\"ndarray\",\"array\":{\"type\":\"bytes\",\"data\":\"AAAAwLHlMUAAAABAmG4SwA==\"},\"shape\":[2],\"dtype\":\"float64\",\"order\":\"little\"}],[1021,{\"type\":\"ndarray\",\"array\":{\"type\":\"bytes\",\"data\":\"AAAAAC+TK0AAAADgcognwA==\"},\"shape\":[2],\"dtype\":\"float64\",\"order\":\"little\"}],[1022,{\"type\":\"ndarray\",\"array\":{\"type\":\"bytes\",\"data\":\"AAAAoOp3L0AAAADA5bcTwA==\"},\"shape\":[2],\"dtype\":\"float64\",\"order\":\"little\"}],[1023,{\"type\":\"ndarray\",\"array\":{\"type\":\"bytes\",\"data\":\"AAAAIJZJMkAAAAAgFooTwA==\"},\"shape\":[2],\"dtype\":\"float64\",\"order\":\"little\"}],[1024,{\"type\":\"ndarray\",\"array\":{\"type\":\"bytes\",\"data\":\"AAAAAOSNKEAAAAAA8qoiwA==\"},\"shape\":[2],\"dtype\":\"float64\",\"order\":\"little\"}],[1025,{\"type\":\"ndarray\",\"array\":{\"type\":\"bytes\",\"data\":\"AAAAwI35K0AAAAAgY8EiwA==\"},\"shape\":[2],\"dtype\":\"float64\",\"order\":\"little\"}],[1026,{\"type\":\"ndarray\",\"array\":{\"type\":\"bytes\",\"data\":\"AAAAAAf9MkAAAADAKkUZwA==\"},\"shape\":[2],\"dtype\":\"float64\",\"order\":\"little\"}],[1027,{\"type\":\"ndarray\",\"array\":{\"type\":\"bytes\",\"data\":\"AAAAgFOiMkAAAADgBBUVwA==\"},\"shape\":[2],\"dtype\":\"float64\",\"order\":\"little\"}],[1028,{\"type\":\"ndarray\",\"array\":{\"type\":\"bytes\",\"data\":\"AAAAwF48LEAAAACA6NEmwA==\"},\"shape\":[2],\"dtype\":\"float64\",\"order\":\"little\"}],[1029,{\"type\":\"ndarray\",\"array\":{\"type\":\"bytes\",\"data\":\"AAAAoLwaMUAAAAAg3V4hwA==\"},\"shape\":[2],\"dtype\":\"float64\",\"order\":\"little\"}],[1030,{\"type\":\"ndarray\",\"array\":{\"type\":\"bytes\",\"data\":\"AAAAYPxSKkAAAABA5qAhwA==\"},\"shape\":[2],\"dtype\":\"float64\",\"order\":\"little\"}],[1031,{\"type\":\"ndarray\",\"array\":{\"type\":\"bytes\",\"data\":\"AAAAoAjiKEAAAAAguh4owA==\"},\"shape\":[2],\"dtype\":\"float64\",\"order\":\"little\"}],[1032,{\"type\":\"ndarray\",\"array\":{\"type\":\"bytes\",\"data\":\"AAAAQGUlLUAAAACgyk0cwA==\"},\"shape\":[2],\"dtype\":\"float64\",\"order\":\"little\"}],[1033,{\"type\":\"ndarray\",\"array\":{\"type\":\"bytes\",\"data\":\"AAAAoNOsMkAAAAAg+wUgwA==\"},\"shape\":[2],\"dtype\":\"float64\",\"order\":\"little\"}],[1034,{\"type\":\"ndarray\",\"array\":{\"type\":\"bytes\",\"data\":\"AAAAwA7EL0AAAACg7icawA==\"},\"shape\":[2],\"dtype\":\"float64\",\"order\":\"little\"}],[1035,{\"type\":\"ndarray\",\"array\":{\"type\":\"bytes\",\"data\":\"AAAAIG4ELEAAAABgtZ4kwA==\"},\"shape\":[2],\"dtype\":\"float64\",\"order\":\"little\"}],[1036,{\"type\":\"ndarray\",\"array\":{\"type\":\"bytes\",\"data\":\"AAAAQBCeMEAAAAAAhlMmwA==\"},\"shape\":[2],\"dtype\":\"float64\",\"order\":\"little\"}],[1037,{\"type\":\"ndarray\",\"array\":{\"type\":\"bytes\",\"data\":\"AAAAYCEFMkAAAADgbK0hwA==\"},\"shape\":[2],\"dtype\":\"float64\",\"order\":\"little\"}],[1038,{\"type\":\"ndarray\",\"array\":{\"type\":\"bytes\",\"data\":\"AAAAAMAzLUAAAADAZ3QmwA==\"},\"shape\":[2],\"dtype\":\"float64\",\"order\":\"little\"}],[1039,{\"type\":\"ndarray\",\"array\":{\"type\":\"bytes\",\"data\":\"AAAAQFANLEAAAACgfnIowA==\"},\"shape\":[2],\"dtype\":\"float64\",\"order\":\"little\"}],[1040,{\"type\":\"ndarray\",\"array\":{\"type\":\"bytes\",\"data\":\"AAAAIF3vMkAAAABA1z4dwA==\"},\"shape\":[2],\"dtype\":\"float64\",\"order\":\"little\"}],[1041,{\"type\":\"ndarray\",\"array\":{\"type\":\"bytes\",\"data\":\"AAAAwD1IMUAAAABA2tgRwA==\"},\"shape\":[2],\"dtype\":\"float64\",\"order\":\"little\"}],[1042,{\"type\":\"ndarray\",\"array\":{\"type\":\"bytes\",\"data\":\"AAAAQDKOL0AAAABAnNwiwA==\"},\"shape\":[2],\"dtype\":\"float64\",\"order\":\"little\"}],[1043,{\"type\":\"ndarray\",\"array\":{\"type\":\"bytes\",\"data\":\"AAAAYNIkMUAAAAAgZmIiwA==\"},\"shape\":[2],\"dtype\":\"float64\",\"order\":\"little\"}],[1044,{\"type\":\"ndarray\",\"array\":{\"type\":\"bytes\",\"data\":\"AAAAwDY0MkAAAAAAML0gwA==\"},\"shape\":[2],\"dtype\":\"float64\",\"order\":\"little\"}],[1045,{\"type\":\"ndarray\",\"array\":{\"type\":\"bytes\",\"data\":\"AAAAIORYLkAAAAAAijAhwA==\"},\"shape\":[2],\"dtype\":\"float64\",\"order\":\"little\"}],[1046,{\"type\":\"ndarray\",\"array\":{\"type\":\"bytes\",\"data\":\"AAAAIPHVJ0AAAABA46klwA==\"},\"shape\":[2],\"dtype\":\"float64\",\"order\":\"little\"}],[1047,{\"type\":\"ndarray\",\"array\":{\"type\":\"bytes\",\"data\":\"AAAAIIVqLEAAAADAGV0hwA==\"},\"shape\":[2],\"dtype\":\"float64\",\"order\":\"little\"}],[1048,{\"type\":\"ndarray\",\"array\":{\"type\":\"bytes\",\"data\":\"AAAAwENtLkAAAACgSuUlwA==\"},\"shape\":[2],\"dtype\":\"float64\",\"order\":\"little\"}],[1049,{\"type\":\"ndarray\",\"array\":{\"type\":\"bytes\",\"data\":\"AAAAwOCPMkAAAAAAIY8cwA==\"},\"shape\":[2],\"dtype\":\"float64\",\"order\":\"little\"}],[1050,{\"type\":\"ndarray\",\"array\":{\"type\":\"bytes\",\"data\":\"AAAAIEm0MEAAAACACwkSwA==\"},\"shape\":[2],\"dtype\":\"float64\",\"order\":\"little\"}],[1051,{\"type\":\"ndarray\",\"array\":{\"type\":\"bytes\",\"data\":\"AAAAQBTZLEAAAADAuPMkwA==\"},\"shape\":[2],\"dtype\":\"float64\",\"order\":\"little\"}],[1052,{\"type\":\"ndarray\",\"array\":{\"type\":\"bytes\",\"data\":\"AAAAoIl+MUAAAADA9lMjwA==\"},\"shape\":[2],\"dtype\":\"float64\",\"order\":\"little\"}],[1053,{\"type\":\"ndarray\",\"array\":{\"type\":\"bytes\",\"data\":\"AAAAAF8LL0AAAADAZRcdwA==\"},\"shape\":[2],\"dtype\":\"float64\",\"order\":\"little\"}],[1054,{\"type\":\"ndarray\",\"array\":{\"type\":\"bytes\",\"data\":\"AAAAoPAyJ0AAAADA0fgkwA==\"},\"shape\":[2],\"dtype\":\"float64\",\"order\":\"little\"}],[1055,{\"type\":\"ndarray\",\"array\":{\"type\":\"bytes\",\"data\":\"AAAA4NoRLkAAAAAAVOwmwA==\"},\"shape\":[2],\"dtype\":\"float64\",\"order\":\"little\"}],[1056,{\"type\":\"ndarray\",\"array\":{\"type\":\"bytes\",\"data\":\"AAAAQLNjMEAAAADgLlgjwA==\"},\"shape\":[2],\"dtype\":\"float64\",\"order\":\"little\"}],[1057,{\"type\":\"ndarray\",\"array\":{\"type\":\"bytes\",\"data\":\"AAAAAFv4MkAAAACgEkMbwA==\"},\"shape\":[2],\"dtype\":\"float64\",\"order\":\"little\"}],[1058,{\"type\":\"ndarray\",\"array\":{\"type\":\"bytes\",\"data\":\"AAAAoLZJMEAAAADg9m8kwA==\"},\"shape\":[2],\"dtype\":\"float64\",\"order\":\"little\"}],[1059,{\"type\":\"ndarray\",\"array\":{\"type\":\"bytes\",\"data\":\"AAAAgIhMMkAAAAAAk58WwA==\"},\"shape\":[2],\"dtype\":\"float64\",\"order\":\"little\"}],[1060,{\"type\":\"ndarray\",\"array\":{\"type\":\"bytes\",\"data\":\"AAAA4NNkMEAAAABg1vwmwA==\"},\"shape\":[2],\"dtype\":\"float64\",\"order\":\"little\"}],[1061,{\"type\":\"ndarray\",\"array\":{\"type\":\"bytes\",\"data\":\"AAAAALGjKUAAAAAga6UgwA==\"},\"shape\":[2],\"dtype\":\"float64\",\"order\":\"little\"}],[1062,{\"type\":\"ndarray\",\"array\":{\"type\":\"bytes\",\"data\":\"AAAAYDBEL0AAAADA66QnwA==\"},\"shape\":[2],\"dtype\":\"float64\",\"order\":\"little\"}],[1063,{\"type\":\"ndarray\",\"array\":{\"type\":\"bytes\",\"data\":\"AAAAoEIsMEAAAABgRBchwA==\"},\"shape\":[2],\"dtype\":\"float64\",\"order\":\"little\"}],[1064,{\"type\":\"ndarray\",\"array\":{\"type\":\"bytes\",\"data\":\"AAAAIG7OK0AAAAAgPF4fwA==\"},\"shape\":[2],\"dtype\":\"float64\",\"order\":\"little\"}],[1065,{\"type\":\"ndarray\",\"array\":{\"type\":\"bytes\",\"data\":\"AAAAIKtmMUAAAADAN2sXwA==\"},\"shape\":[2],\"dtype\":\"float64\",\"order\":\"little\"}],[1066,{\"type\":\"ndarray\",\"array\":{\"type\":\"bytes\",\"data\":\"AAAAgEEvMkAAAADggH0dwA==\"},\"shape\":[2],\"dtype\":\"float64\",\"order\":\"little\"}],[1067,{\"type\":\"ndarray\",\"array\":{\"type\":\"bytes\",\"data\":\"AAAAAKm/L0AAAACgsvMjwA==\"},\"shape\":[2],\"dtype\":\"float64\",\"order\":\"little\"}],[1068,{\"type\":\"ndarray\",\"array\":{\"type\":\"bytes\",\"data\":\"AAAAgKlmLUAAAAAAG1AiwA==\"},\"shape\":[2],\"dtype\":\"float64\",\"order\":\"little\"}],[1069,{\"type\":\"ndarray\",\"array\":{\"type\":\"bytes\",\"data\":\"AAAAAMZxLUAAAACgeZklwA==\"},\"shape\":[2],\"dtype\":\"float64\",\"order\":\"little\"}],[1070,{\"type\":\"ndarray\",\"array\":{\"type\":\"bytes\",\"data\":\"AAAAgH1jK0AAAAAA44EhwA==\"},\"shape\":[2],\"dtype\":\"float64\",\"order\":\"little\"}],[1071,{\"type\":\"ndarray\",\"array\":{\"type\":\"bytes\",\"data\":\"AAAAIHzyL0AAAAAgtSwnwA==\"},\"shape\":[2],\"dtype\":\"float64\",\"order\":\"little\"}],[1072,{\"type\":\"ndarray\",\"array\":{\"type\":\"bytes\",\"data\":\"AAAAYBwdMkAAAADAQ6ojwA==\"},\"shape\":[2],\"dtype\":\"float64\",\"order\":\"little\"}],[1073,{\"type\":\"ndarray\",\"array\":{\"type\":\"bytes\",\"data\":\"AAAAAER5LkAAAADgfJAYwA==\"},\"shape\":[2],\"dtype\":\"float64\",\"order\":\"little\"}],[1074,{\"type\":\"ndarray\",\"array\":{\"type\":\"bytes\",\"data\":\"AAAAQECtMEAAAADgaDMVwA==\"},\"shape\":[2],\"dtype\":\"float64\",\"order\":\"little\"}],[1075,{\"type\":\"ndarray\",\"array\":{\"type\":\"bytes\",\"data\":\"AAAAwIEDKEAAAADAYIMhwA==\"},\"shape\":[2],\"dtype\":\"float64\",\"order\":\"little\"}],[1076,{\"type\":\"ndarray\",\"array\":{\"type\":\"bytes\",\"data\":\"AAAA4D84K0AAAACguUolwA==\"},\"shape\":[2],\"dtype\":\"float64\",\"order\":\"little\"}],[1077,{\"type\":\"ndarray\",\"array\":{\"type\":\"bytes\",\"data\":\"AAAA4K+TKUAAAABABPAiwA==\"},\"shape\":[2],\"dtype\":\"float64\",\"order\":\"little\"}],[1078,{\"type\":\"ndarray\",\"array\":{\"type\":\"bytes\",\"data\":\"AAAAoMzMKkAAAAAg3oQmwA==\"},\"shape\":[2],\"dtype\":\"float64\",\"order\":\"little\"}],[1079,{\"type\":\"ndarray\",\"array\":{\"type\":\"bytes\",\"data\":\"AAAAoOk3MUAAAACgKaolwA==\"},\"shape\":[2],\"dtype\":\"float64\",\"order\":\"little\"}],[1080,{\"type\":\"ndarray\",\"array\":{\"type\":\"bytes\",\"data\":\"AAAAYKapMUAAAABgntsdwA==\"},\"shape\":[2],\"dtype\":\"float64\",\"order\":\"little\"}],[1081,{\"type\":\"ndarray\",\"array\":{\"type\":\"bytes\",\"data\":\"AAAAwPysLUAAAAAAf30jwA==\"},\"shape\":[2],\"dtype\":\"float64\",\"order\":\"little\"}],[1082,{\"type\":\"ndarray\",\"array\":{\"type\":\"bytes\",\"data\":\"AAAAQJ1iMUAAAAAAyJUTwA==\"},\"shape\":[2],\"dtype\":\"float64\",\"order\":\"little\"}],[1083,{\"type\":\"ndarray\",\"array\":{\"type\":\"bytes\",\"data\":\"AAAAYAo1KUAAAADgSoUkwA==\"},\"shape\":[2],\"dtype\":\"float64\",\"order\":\"little\"}],[1084,{\"type\":\"ndarray\",\"array\":{\"type\":\"bytes\",\"data\":\"AAAAgK5tMkAAAADAbYAiwA==\"},\"shape\":[2],\"dtype\":\"float64\",\"order\":\"little\"}],[1085,{\"type\":\"ndarray\",\"array\":{\"type\":\"bytes\",\"data\":\"AAAAQGddMUAAAAAgO5EfwA==\"},\"shape\":[2],\"dtype\":\"float64\",\"order\":\"little\"}],[1086,{\"type\":\"ndarray\",\"array\":{\"type\":\"bytes\",\"data\":\"AAAAYP3WLkAAAACgj0gWwA==\"},\"shape\":[2],\"dtype\":\"float64\",\"order\":\"little\"}],[1087,{\"type\":\"ndarray\",\"array\":{\"type\":\"bytes\",\"data\":\"AAAAADr7MUAAAACA88sUwA==\"},\"shape\":[2],\"dtype\":\"float64\",\"order\":\"little\"}],[1088,{\"type\":\"ndarray\",\"array\":{\"type\":\"bytes\",\"data\":\"AAAAoFyjKkAAAAAgatQnwA==\"},\"shape\":[2],\"dtype\":\"float64\",\"order\":\"little\"}],[1089,{\"type\":\"ndarray\",\"array\":{\"type\":\"bytes\",\"data\":\"AAAAYPgHMEAAAAAAwhgmwA==\"},\"shape\":[2],\"dtype\":\"float64\",\"order\":\"little\"}],[1090,{\"type\":\"ndarray\",\"array\":{\"type\":\"bytes\",\"data\":\"AAAAANsvLkAAAADAuuoawA==\"},\"shape\":[2],\"dtype\":\"float64\",\"order\":\"little\"}],[1091,{\"type\":\"ndarray\",\"array\":{\"type\":\"bytes\",\"data\":\"AAAA4BWCMEAAAAAAiWodwA==\"},\"shape\":[2],\"dtype\":\"float64\",\"order\":\"little\"}],[1092,{\"type\":\"ndarray\",\"array\":{\"type\":\"bytes\",\"data\":\"AAAAYJLcMEAAAACApjQjwA==\"},\"shape\":[2],\"dtype\":\"float64\",\"order\":\"little\"}],[1093,{\"type\":\"ndarray\",\"array\":{\"type\":\"bytes\",\"data\":\"AAAAQKS/MkAAAADgR9cgwA==\"},\"shape\":[2],\"dtype\":\"float64\",\"order\":\"little\"}],[1094,{\"type\":\"ndarray\",\"array\":{\"type\":\"bytes\",\"data\":\"AAAAgGscMEAAAADgLcAVwA==\"},\"shape\":[2],\"dtype\":\"float64\",\"order\":\"little\"}],[1095,{\"type\":\"ndarray\",\"array\":{\"type\":\"bytes\",\"data\":\"AAAA4DPXL0AAAAAAmTUlwA==\"},\"shape\":[2],\"dtype\":\"float64\",\"order\":\"little\"}],[1096,{\"type\":\"ndarray\",\"array\":{\"type\":\"bytes\",\"data\":\"AAAAwNfuLkAAAACgn+QkwA==\"},\"shape\":[2],\"dtype\":\"float64\",\"order\":\"little\"}],[1097,{\"type\":\"ndarray\",\"array\":{\"type\":\"bytes\",\"data\":\"AAAAoFTQMEAAAAAgZN8awA==\"},\"shape\":[2],\"dtype\":\"float64\",\"order\":\"little\"}],[1098,{\"type\":\"ndarray\",\"array\":{\"type\":\"bytes\",\"data\":\"AAAAgGv+JkAAAACg4LUmwA==\"},\"shape\":[2],\"dtype\":\"float64\",\"order\":\"little\"}],[1099,{\"type\":\"ndarray\",\"array\":{\"type\":\"bytes\",\"data\":\"AAAAAKB0MkAAAADAYrgYwA==\"},\"shape\":[2],\"dtype\":\"float64\",\"order\":\"little\"}],[1100,{\"type\":\"ndarray\",\"array\":{\"type\":\"bytes\",\"data\":\"AAAAIKKjMUAAAABgDZUZwA==\"},\"shape\":[2],\"dtype\":\"float64\",\"order\":\"little\"}],[1101,{\"type\":\"ndarray\",\"array\":{\"type\":\"bytes\",\"data\":\"AAAAAOM/LUAAAACAtZcgwA==\"},\"shape\":[2],\"dtype\":\"float64\",\"order\":\"little\"}],[1102,{\"type\":\"ndarray\",\"array\":{\"type\":\"bytes\",\"data\":\"AAAAoII4MUAAAABAKMAcwA==\"},\"shape\":[2],\"dtype\":\"float64\",\"order\":\"little\"}],[1103,{\"type\":\"ndarray\",\"array\":{\"type\":\"bytes\",\"data\":\"AAAA4B6VMkAAAADA9b0hwA==\"},\"shape\":[2],\"dtype\":\"float64\",\"order\":\"little\"}],[1104,{\"type\":\"ndarray\",\"array\":{\"type\":\"bytes\",\"data\":\"AAAA4Jl+LUAAAACAUrgewA==\"},\"shape\":[2],\"dtype\":\"float64\",\"order\":\"little\"}],[1105,{\"type\":\"ndarray\",\"array\":{\"type\":\"bytes\",\"data\":\"AAAAwDogK0AAAADgnvYjwA==\"},\"shape\":[2],\"dtype\":\"float64\",\"order\":\"little\"}],[1106,{\"type\":\"ndarray\",\"array\":{\"type\":\"bytes\",\"data\":\"AAAAgNS+KUAAAABAKD8mwA==\"},\"shape\":[2],\"dtype\":\"float64\",\"order\":\"little\"}],[1107,{\"type\":\"ndarray\",\"array\":{\"type\":\"bytes\",\"data\":\"AAAAoI8/KkAAAADARP8kwA==\"},\"shape\":[2],\"dtype\":\"float64\",\"order\":\"little\"}],[1108,{\"type\":\"ndarray\",\"array\":{\"type\":\"bytes\",\"data\":\"AAAAYGWtMEAAAAAgaz4iwA==\"},\"shape\":[2],\"dtype\":\"float64\",\"order\":\"little\"}],[1109,{\"type\":\"ndarray\",\"array\":{\"type\":\"bytes\",\"data\":\"AAAAwJWpLEAAAADgwaUjwA==\"},\"shape\":[2],\"dtype\":\"float64\",\"order\":\"little\"}],[1110,{\"type\":\"ndarray\",\"array\":{\"type\":\"bytes\",\"data\":\"AAAAgHp0MEAAAAAgWE4lwA==\"},\"shape\":[2],\"dtype\":\"float64\",\"order\":\"little\"}],[1111,{\"type\":\"ndarray\",\"array\":{\"type\":\"bytes\",\"data\":\"AAAA4JuXLkAAAAAgsVsiwA==\"},\"shape\":[2],\"dtype\":\"float64\",\"order\":\"little\"}],[1112,{\"type\":\"ndarray\",\"array\":{\"type\":\"bytes\",\"data\":\"AAAAoE1/LkAAAACAr8YnwA==\"},\"shape\":[2],\"dtype\":\"float64\",\"order\":\"little\"}],[1113,{\"type\":\"ndarray\",\"array\":{\"type\":\"bytes\",\"data\":\"AAAAgCv0LEAAAAAgA3InwA==\"},\"shape\":[2],\"dtype\":\"float64\",\"order\":\"little\"}],[1114,{\"type\":\"ndarray\",\"array\":{\"type\":\"bytes\",\"data\":\"AAAAoIdcKEAAAABA2A4kwA==\"},\"shape\":[2],\"dtype\":\"float64\",\"order\":\"little\"}],[1115,{\"type\":\"ndarray\",\"array\":{\"type\":\"bytes\",\"data\":\"AAAAoE2AMUAAAACgdPskwA==\"},\"shape\":[2],\"dtype\":\"float64\",\"order\":\"little\"}],[1116,{\"type\":\"ndarray\",\"array\":{\"type\":\"bytes\",\"data\":\"AAAAoK/FLkAAAAAAR70fwA==\"},\"shape\":[2],\"dtype\":\"float64\",\"order\":\"little\"}],[1117,{\"type\":\"ndarray\",\"array\":{\"type\":\"bytes\",\"data\":\"AAAAIFbRMkAAAABAyiYXwA==\"},\"shape\":[2],\"dtype\":\"float64\",\"order\":\"little\"}],[1118,{\"type\":\"ndarray\",\"array\":{\"type\":\"bytes\",\"data\":\"AAAAAFzdL0AAAACAGJwfwA==\"},\"shape\":[2],\"dtype\":\"float64\",\"order\":\"little\"}],[1119,{\"type\":\"ndarray\",\"array\":{\"type\":\"bytes\",\"data\":\"AAAA4Ct6MUAAAABABlQbwA==\"},\"shape\":[2],\"dtype\":\"float64\",\"order\":\"little\"}],[1120,{\"type\":\"ndarray\",\"array\":{\"type\":\"bytes\",\"data\":\"AAAAwOvbMEAAAAAAfJAlwA==\"},\"shape\":[2],\"dtype\":\"float64\",\"order\":\"little\"}],[1121,{\"type\":\"ndarray\",\"array\":{\"type\":\"bytes\",\"data\":\"AAAAQFgaJ0AAAABgXIYiwA==\"},\"shape\":[2],\"dtype\":\"float64\",\"order\":\"little\"}],[1122,{\"type\":\"ndarray\",\"array\":{\"type\":\"bytes\",\"data\":\"AAAAAEIsMUAAAACAbEIVwA==\"},\"shape\":[2],\"dtype\":\"float64\",\"order\":\"little\"}],[1123,{\"type\":\"ndarray\",\"array\":{\"type\":\"bytes\",\"data\":\"AAAAAD0HMEAAAABg6bgcwA==\"},\"shape\":[2],\"dtype\":\"float64\",\"order\":\"little\"}]]}}},\"node_renderer\":{\"type\":\"object\",\"name\":\"GlyphRenderer\",\"id\":\"p1817\",\"attributes\":{\"data_source\":{\"type\":\"object\",\"name\":\"ColumnDataSource\",\"id\":\"p1814\",\"attributes\":{\"selected\":{\"type\":\"object\",\"name\":\"Selection\",\"id\":\"p1815\",\"attributes\":{\"indices\":[],\"line_indices\":[]}},\"selection_policy\":{\"type\":\"object\",\"name\":\"UnionRenderers\",\"id\":\"p1816\"},\"data\":{\"type\":\"map\",\"entries\":[[\"color\",[\"#EE8866\",\"#77AADD\",\"#EE8866\",\"#EE8866\",\"#EE8866\",\"#EE8866\",\"#EE8866\",\"#EE8866\",\"#EE8866\",\"#EE8866\",\"#EE8866\",\"#EE8866\",\"#EE8866\",\"#EE8866\",\"#EE8866\",\"#EE8866\",\"#EE8866\",\"#EE8866\",\"#EE8866\",\"#EE8866\",\"#EE8866\",\"#EE8866\",\"#EE8866\",\"#EE8866\",\"#EE8866\",\"#EE8866\",\"#EE8866\",\"#EE8866\",\"#EE8866\",\"#EE8866\",\"#EE8866\",\"#EE8866\",\"#EE8866\",\"#EE8866\",\"#EE8866\",\"#EE8866\",\"#EE8866\",\"#EE8866\",\"#EE8866\",\"#EE8866\",\"#EE8866\",\"#EE8866\",\"#EE8866\",\"#EE8866\",\"#EE8866\",\"#EE8866\",\"#EE8866\",\"#EE8866\",\"#EE8866\",\"#EE8866\",\"#EE8866\",\"#EE8866\",\"#EE8866\",\"#EE8866\",\"#EE8866\",\"#EE8866\",\"#EE8866\",\"#EE8866\",\"#EE8866\",\"#EE8866\",\"#EE8866\",\"#EE8866\",\"#EE8866\",\"#EE8866\",\"#EE8866\",\"#EE8866\",\"#EE8866\",\"#EE8866\",\"#EE8866\",\"#EE8866\",\"#EE8866\",\"#EE8866\",\"#EE8866\",\"#EE8866\",\"#EE8866\",\"#EE8866\",\"#EE8866\",\"#EE8866\",\"#EE8866\",\"#EE8866\",\"#EE8866\",\"#EE8866\",\"#77AADD\",\"#EE8866\",\"#EE8866\",\"#EE8866\",\"#EE8866\",\"#EE8866\",\"#EE8866\",\"#EE8866\",\"#EE8866\",\"#EE8866\",\"#EE8866\",\"#EE8866\",\"#EE8866\",\"#EE8866\",\"#EE8866\",\"#EE8866\",\"#EE8866\",\"#EE8866\",\"#EE8866\",\"#EE8866\",\"#EE8866\",\"#EE8866\",\"#EE8866\",\"#EE8866\",\"#EE8866\",\"#EE8866\",\"#EE8866\",\"#EE8866\",\"#EE8866\",\"#EE8866\",\"#EE8866\",\"#EE8866\",\"#EE8866\",\"#EE8866\",\"#EE8866\",\"#EE8866\",\"#EE8866\",\"#EE8866\",\"#EE8866\",\"#EE8866\",\"#EE8866\",\"#EE8866\",\"#EE8866\",\"#EE8866\",\"#EE8866\",\"#EE8866\",\"#EE8866\",\"#EE8866\",\"#EE8866\",\"#EE8866\",\"#EE8866\",\"#EE8866\",\"#EE8866\",\"#EE8866\",\"#EE8866\",\"#EE8866\",\"#EE8866\",\"#EE8866\",\"#EE8866\",\"#EE8866\",\"#EE8866\",\"#EE8866\",\"#EE8866\",\"#EE8866\",\"#EE8866\",\"#EE8866\",\"#EE8866\",\"#EE8866\",\"#EE8866\",\"#EE8866\",\"#EE8866\",\"#EE8866\",\"#EE8866\",\"#EE8866\",\"#EE8866\",\"#EE8866\",\"#EE8866\",\"#EE8866\",\"#EE8866\",\"#EE8866\",\"#EE8866\",\"#EE8866\",\"#EE8866\",\"#EE8866\",\"#EE8866\",\"#EE8866\",\"#EE8866\",\"#EE8866\",\"#EE8866\",\"#EE8866\",\"#EE8866\",\"#EE8866\",\"#EE8866\",\"#EE8866\",\"#EE8866\",\"#EE8866\",\"#EE8866\",\"#EE8866\",\"#EE8866\",\"#EE8866\",\"#77AADD\",\"#EE8866\",\"#EE8866\",\"#EE8866\",\"#EE8866\",\"#EE8866\",\"#EE8866\",\"#EE8866\",\"#EE8866\",\"#EE8866\",\"#EE8866\",\"#EE8866\",\"#EE8866\",\"#EE8866\",\"#EE8866\",\"#EE8866\",\"#EE8866\",\"#EE8866\",\"#EE8866\",\"#EE8866\",\"#EE8866\",\"#EE8866\",\"#EE8866\",\"#EE8866\",\"#EE8866\",\"#EE8866\",\"#EE8866\",\"#EE8866\",\"#EE8866\",\"#EE8866\",\"#EE8866\",\"#EE8866\",\"#EE8866\",\"#EE8866\",\"#EE8866\",\"#EE8866\",\"#EE8866\",\"#EE8866\",\"#EE8866\",\"#EE8866\",\"#EE8866\",\"#EE8866\",\"#EE8866\",\"#EE8866\",\"#EE8866\",\"#EE8866\",\"#EE8866\",\"#EE8866\",\"#EE8866\",\"#EE8866\",\"#EE8866\",\"#EE8866\",\"#EE8866\",\"#EE8866\",\"#EE8866\",\"#EE8866\",\"#EE8866\",\"#EE8866\",\"#EE8866\",\"#EE8866\",\"#EE8866\",\"#EE8866\",\"#EE8866\",\"#EE8866\",\"#EE8866\",\"#EE8866\",\"#EE8866\",\"#EE8866\",\"#EE8866\",\"#EE8866\",\"#EE8866\",\"#EE8866\",\"#EE8866\",\"#EE8866\",\"#EE8866\",\"#EE8866\",\"#EE8866\",\"#EE8866\",\"#EE8866\",\"#EE8866\",\"#EE8866\",\"#EE8866\",\"#EE8866\",\"#EE8866\",\"#77AADD\",\"#EE8866\",\"#EE8866\",\"#EE8866\",\"#EE8866\",\"#EE8866\",\"#EE8866\",\"#EE8866\",\"#EE8866\",\"#EE8866\",\"#EE8866\",\"#EE8866\",\"#EE8866\",\"#EE8866\",\"#EE8866\",\"#EE8866\",\"#EE8866\",\"#EE8866\",\"#EE8866\",\"#EE8866\",\"#EE8866\",\"#EE8866\",\"#EE8866\",\"#EE8866\",\"#EE8866\",\"#EE8866\",\"#EE8866\",\"#EE8866\",\"#EE8866\",\"#EE8866\",\"#EE8866\",\"#EE8866\",\"#EE8866\",\"#EE8866\",\"#EE8866\",\"#EE8866\",\"#EE8866\",\"#EE8866\",\"#EE8866\",\"#EE8866\",\"#EE8866\",\"#EE8866\",\"#EE8866\",\"#EE8866\",\"#EE8866\",\"#EE8866\",\"#EE8866\",\"#EE8866\",\"#EE8866\",\"#EE8866\",\"#EE8866\",\"#EE8866\",\"#EE8866\",\"#EE8866\",\"#EE8866\",\"#EE8866\",\"#EE8866\",\"#EE8866\",\"#EE8866\",\"#EE8866\",\"#EE8866\",\"#EE8866\",\"#EE8866\",\"#EE8866\",\"#EE8866\",\"#EE8866\",\"#EE8866\",\"#EE8866\",\"#EE8866\",\"#EE8866\",\"#EE8866\",\"#EE8866\",\"#EE8866\",\"#EE8866\",\"#EE8866\",\"#EE8866\",\"#EE8866\",\"#EE8866\",\"#EE8866\",\"#EE8866\",\"#EE8866\",\"#EE8866\",\"#EE8866\",\"#EE8866\",\"#EE8866\",\"#EE8866\",\"#EE8866\",\"#EE8866\",\"#EE8866\",\"#EE8866\",\"#EE8866\",\"#EE8866\",\"#EE8866\",\"#EE8866\",\"#EE8866\",\"#EE8866\",\"#EE8866\",\"#EE8866\",\"#EE8866\",\"#EE8866\",\"#EE8866\",\"#EE8866\",\"#EE8866\",\"#EE8866\",\"#EE8866\",\"#EE8866\",\"#EE8866\",\"#EE8866\",\"#EE8866\",\"#EE8866\",\"#EE8866\",\"#EE8866\",\"#EE8866\",\"#EE8866\",\"#EE8866\",\"#EE8866\",\"#EE8866\",\"#EE8866\",\"#EE8866\",\"#EE8866\",\"#EE8866\",\"#EE8866\",\"#EE8866\",\"#EE8866\",\"#EE8866\",\"#EE8866\",\"#EE8866\",\"#EE8866\",\"#EE8866\",\"#EE8866\",\"#EE8866\",\"#EE8866\",\"#EE8866\",\"#EE8866\",\"#EE8866\",\"#EE8866\",\"#EE8866\",\"#EE8866\",\"#EE8866\",\"#EE8866\",\"#EE8866\",\"#EE8866\",\"#EE8866\",\"#EE8866\",\"#EE8866\",\"#EE8866\",\"#EE8866\",\"#EE8866\",\"#EE8866\",\"#EE8866\",\"#EE8866\",\"#EE8866\",\"#EE8866\",\"#EE8866\",\"#EE8866\",\"#EE8866\",\"#EE8866\",\"#EE8866\",\"#EE8866\",\"#EE8866\",\"#EE8866\",\"#EE8866\",\"#EE8866\",\"#EE8866\",\"#EE8866\",\"#EE8866\",\"#77AADD\",\"#EE8866\",\"#EE8866\",\"#EE8866\",\"#EE8866\",\"#EE8866\",\"#EE8866\",\"#EE8866\",\"#EE8866\",\"#EE8866\",\"#EE8866\",\"#EE8866\",\"#EE8866\",\"#EE8866\",\"#EE8866\",\"#EE8866\",\"#EE8866\",\"#EE8866\",\"#EE8866\",\"#EE8866\",\"#EE8866\",\"#EE8866\",\"#EE8866\",\"#EE8866\",\"#EE8866\",\"#EE8866\",\"#EE8866\",\"#EE8866\",\"#EE8866\",\"#EE8866\",\"#EE8866\",\"#EE8866\",\"#EE8866\",\"#EE8866\",\"#EE8866\",\"#EE8866\",\"#EE8866\",\"#EE8866\",\"#EE8866\",\"#EE8866\",\"#EE8866\",\"#EE8866\",\"#EE8866\",\"#EE8866\",\"#EE8866\",\"#EE8866\",\"#EE8866\",\"#EE8866\",\"#EE8866\",\"#EE8866\",\"#EE8866\",\"#EE8866\",\"#EE8866\",\"#EE8866\",\"#EE8866\",\"#EE8866\",\"#EE8866\",\"#EE8866\",\"#EE8866\",\"#EE8866\",\"#EE8866\",\"#EE8866\",\"#EE8866\",\"#EE8866\",\"#EE8866\",\"#EE8866\",\"#EE8866\",\"#EE8866\",\"#EE8866\",\"#EE8866\",\"#EE8866\",\"#EE8866\",\"#EE8866\",\"#EE8866\",\"#EE8866\",\"#EE8866\",\"#EE8866\",\"#EE8866\",\"#EE8866\",\"#EE8866\",\"#EE8866\",\"#EE8866\",\"#EE8866\",\"#EE8866\",\"#EE8866\",\"#EE8866\",\"#EE8866\",\"#EE8866\",\"#EE8866\",\"#EE8866\",\"#EE8866\",\"#EE8866\",\"#EE8866\",\"#EE8866\",\"#EE8866\",\"#EE8866\",\"#EE8866\",\"#EE8866\",\"#EE8866\",\"#EE8866\",\"#EE8866\",\"#EE8866\",\"#EE8866\",\"#EE8866\",\"#EE8866\",\"#EE8866\",\"#EE8866\",\"#EE8866\",\"#EE8866\",\"#EE8866\",\"#EE8866\",\"#EE8866\",\"#EE8866\",\"#EE8866\",\"#EE8866\",\"#EE8866\",\"#EE8866\",\"#EE8866\",\"#EE8866\",\"#EE8866\",\"#EE8866\",\"#EE8866\",\"#EE8866\",\"#EE8866\",\"#EE8866\",\"#EE8866\",\"#EE8866\",\"#EE8866\",\"#EE8866\",\"#EE8866\",\"#EE8866\",\"#EE8866\",\"#EE8866\",\"#EE8866\",\"#EE8866\",\"#EE8866\",\"#EE8866\",\"#EE8866\",\"#EE8866\",\"#EE8866\",\"#EE8866\",\"#EE8866\",\"#EE8866\",\"#EE8866\",\"#EE8866\",\"#EE8866\",\"#EE8866\",\"#EE8866\",\"#EE8866\",\"#EE8866\",\"#EE8866\",\"#EE8866\",\"#EE8866\",\"#EE8866\",\"#EE8866\",\"#EE8866\",\"#EE8866\",\"#EE8866\",\"#EE8866\",\"#EE8866\",\"#EE8866\",\"#EE8866\",\"#EE8866\",\"#EE8866\",\"#EE8866\",\"#EE8866\",\"#EE8866\",\"#EE8866\",\"#EE8866\",\"#EE8866\",\"#EE8866\",\"#EE8866\",\"#EE8866\",\"#EE8866\",\"#EE8866\",\"#EE8866\",\"#EE8866\",\"#EE8866\",\"#EE8866\",\"#EE8866\",\"#EE8866\",\"#EE8866\",\"#EE8866\",\"#EE8866\",\"#EE8866\",\"#EE8866\",\"#EE8866\",\"#EE8866\",\"#EE8866\",\"#77AADD\",\"#EE8866\",\"#EE8866\",\"#EE8866\",\"#EE8866\",\"#EE8866\",\"#EE8866\",\"#EE8866\",\"#EE8866\",\"#EE8866\",\"#EE8866\",\"#EE8866\",\"#EE8866\",\"#EE8866\",\"#EE8866\",\"#EE8866\",\"#EE8866\",\"#EE8866\",\"#EE8866\",\"#EE8866\",\"#EE8866\",\"#EE8866\",\"#EE8866\",\"#EE8866\",\"#EE8866\",\"#EE8866\",\"#EE8866\",\"#EE8866\",\"#EE8866\",\"#EE8866\",\"#EE8866\",\"#EE8866\",\"#EE8866\",\"#EE8866\",\"#EE8866\",\"#EE8866\",\"#EE8866\",\"#EE8866\",\"#EE8866\",\"#EE8866\",\"#EE8866\",\"#EE8866\",\"#EE8866\",\"#EE8866\",\"#EE8866\",\"#EE8866\",\"#77AADD\",\"#EE8866\",\"#EE8866\",\"#EE8866\",\"#EE8866\",\"#EE8866\",\"#EE8866\",\"#EE8866\",\"#EE8866\",\"#EE8866\",\"#EE8866\",\"#EE8866\",\"#EE8866\",\"#EE8866\",\"#EE8866\",\"#EE8866\",\"#EE8866\",\"#EE8866\",\"#EE8866\",\"#EE8866\",\"#EE8866\",\"#EE8866\",\"#EE8866\",\"#EE8866\",\"#EE8866\",\"#EE8866\",\"#EE8866\",\"#EE8866\",\"#EE8866\",\"#EE8866\",\"#EE8866\",\"#EE8866\",\"#EE8866\",\"#EE8866\",\"#EE8866\",\"#EE8866\",\"#EE8866\",\"#EE8866\",\"#EE8866\",\"#EE8866\",\"#EE8866\",\"#EE8866\",\"#EE8866\",\"#EE8866\",\"#EE8866\",\"#EE8866\",\"#EE8866\",\"#EE8866\",\"#EE8866\",\"#EE8866\",\"#EE8866\",\"#EE8866\",\"#EE8866\",\"#EE8866\",\"#EE8866\",\"#EE8866\",\"#EE8866\",\"#EE8866\",\"#EE8866\",\"#EE8866\",\"#EE8866\",\"#EE8866\",\"#EE8866\",\"#EE8866\",\"#EE8866\",\"#EE8866\",\"#EE8866\",\"#EE8866\",\"#EE8866\",\"#EE8866\",\"#EE8866\",\"#EE8866\",\"#EE8866\",\"#EE8866\",\"#EE8866\",\"#EE8866\",\"#EE8866\",\"#EE8866\",\"#EE8866\",\"#EE8866\",\"#EE8866\",\"#EE8866\",\"#EE8866\",\"#EE8866\",\"#EE8866\",\"#EE8866\",\"#EE8866\",\"#EE8866\",\"#EE8866\",\"#EE8866\",\"#EE8866\",\"#EE8866\",\"#EE8866\",\"#EE8866\",\"#EE8866\",\"#EE8866\",\"#EE8866\",\"#EE8866\",\"#EE8866\",\"#EE8866\",\"#EE8866\",\"#EE8866\",\"#EE8866\",\"#EE8866\",\"#EE8866\",\"#EE8866\",\"#EE8866\",\"#EE8866\",\"#EE8866\",\"#EE8866\",\"#EE8866\",\"#EE8866\",\"#EE8866\",\"#EE8866\",\"#EE8866\",\"#EE8866\",\"#EE8866\",\"#EE8866\",\"#EE8866\",\"#EE8866\",\"#EE8866\",\"#EE8866\",\"#EE8866\",\"#EE8866\",\"#EE8866\",\"#EE8866\",\"#EE8866\",\"#EE8866\",\"#EE8866\",\"#EE8866\",\"#EE8866\",\"#EE8866\",\"#EE8866\",\"#EE8866\",\"#EE8866\",\"#EE8866\",\"#EE8866\",\"#EE8866\",\"#EE8866\",\"#EE8866\",\"#77AADD\",\"#EE8866\",\"#EE8866\",\"#EE8866\",\"#EE8866\",\"#EE8866\",\"#EE8866\",\"#EE8866\",\"#EE8866\",\"#EE8866\",\"#EE8866\",\"#EE8866\",\"#EE8866\",\"#EE8866\",\"#EE8866\",\"#EE8866\",\"#EE8866\",\"#EE8866\",\"#EE8866\",\"#EE8866\",\"#EE8866\",\"#EE8866\",\"#EE8866\",\"#EE8866\",\"#EE8866\",\"#EE8866\",\"#EE8866\",\"#EE8866\",\"#EE8866\",\"#EE8866\",\"#EE8866\",\"#EE8866\",\"#EE8866\",\"#EE8866\",\"#EE8866\",\"#EE8866\",\"#EE8866\",\"#EE8866\",\"#EE8866\",\"#EE8866\",\"#EE8866\",\"#EE8866\",\"#EE8866\",\"#EE8866\",\"#EE8866\",\"#EE8866\",\"#EE8866\",\"#EE8866\",\"#EE8866\",\"#EE8866\",\"#EE8866\",\"#EE8866\",\"#EE8866\",\"#EE8866\",\"#EE8866\",\"#EE8866\",\"#EE8866\",\"#EE8866\",\"#EE8866\",\"#77AADD\",\"#EE8866\",\"#EE8866\",\"#EE8866\",\"#EE8866\",\"#EE8866\",\"#EE8866\",\"#EE8866\",\"#EE8866\",\"#EE8866\",\"#EE8866\",\"#EE8866\",\"#EE8866\",\"#EE8866\",\"#EE8866\",\"#EE8866\",\"#EE8866\",\"#EE8866\",\"#EE8866\",\"#EE8866\",\"#EE8866\",\"#EE8866\",\"#EE8866\",\"#EE8866\",\"#EE8866\",\"#EE8866\",\"#EE8866\",\"#EE8866\",\"#EE8866\",\"#EE8866\",\"#EE8866\",\"#EE8866\",\"#EE8866\",\"#EE8866\",\"#EE8866\",\"#EE8866\",\"#EE8866\",\"#EE8866\",\"#EE8866\",\"#EE8866\",\"#EE8866\",\"#EE8866\",\"#EE8866\",\"#EE8866\",\"#EE8866\",\"#EE8866\",\"#EE8866\",\"#EE8866\",\"#EE8866\",\"#EE8866\",\"#EE8866\",\"#EE8866\",\"#EE8866\",\"#EE8866\",\"#EE8866\",\"#EE8866\",\"#EE8866\",\"#EE8866\",\"#EE8866\",\"#EE8866\",\"#EE8866\",\"#EE8866\",\"#EE8866\",\"#EE8866\",\"#EE8866\",\"#77AADD\",\"#EE8866\",\"#EE8866\",\"#EE8866\",\"#EE8866\",\"#EE8866\",\"#EE8866\",\"#EE8866\",\"#EE8866\",\"#EE8866\",\"#EE8866\",\"#EE8866\",\"#EE8866\",\"#EE8866\",\"#EE8866\",\"#EE8866\",\"#EE8866\",\"#EE8866\",\"#EE8866\",\"#EE8866\",\"#EE8866\",\"#EE8866\",\"#EE8866\",\"#EE8866\",\"#EE8866\",\"#EE8866\",\"#EE8866\",\"#EE8866\",\"#EE8866\",\"#EE8866\",\"#EE8866\",\"#EE8866\",\"#EE8866\",\"#EE8866\",\"#EE8866\",\"#EE8866\",\"#EE8866\",\"#EE8866\",\"#EE8866\",\"#EE8866\",\"#EE8866\",\"#EE8866\",\"#EE8866\",\"#EE8866\",\"#EE8866\",\"#EE8866\",\"#77AADD\",\"#EE8866\",\"#EE8866\",\"#EE8866\",\"#EE8866\",\"#EE8866\",\"#EE8866\",\"#EE8866\",\"#EE8866\",\"#EE8866\",\"#EE8866\",\"#EE8866\",\"#EE8866\",\"#EE8866\",\"#EE8866\",\"#EE8866\",\"#EE8866\",\"#EE8866\",\"#EE8866\",\"#EE8866\",\"#EE8866\",\"#EE8866\",\"#EE8866\",\"#EE8866\",\"#EE8866\",\"#EE8866\",\"#EE8866\",\"#EE8866\",\"#EE8866\",\"#EE8866\",\"#EE8866\",\"#EE8866\",\"#EE8866\",\"#EE8866\",\"#EE8866\",\"#EE8866\",\"#EE8866\",\"#EE8866\",\"#EE8866\",\"#EE8866\",\"#EE8866\",\"#EE8866\",\"#EE8866\",\"#EE8866\",\"#EE8866\",\"#EE8866\",\"#EE8866\",\"#EE8866\",\"#EE8866\",\"#EE8866\",\"#EE8866\",\"#EE8866\",\"#EE8866\",\"#EE8866\",\"#EE8866\",\"#EE8866\",\"#EE8866\",\"#EE8866\",\"#EE8866\",\"#EE8866\",\"#EE8866\",\"#EE8866\",\"#EE8866\",\"#EE8866\",\"#EE8866\",\"#EE8866\",\"#EE8866\",\"#EE8866\",\"#EE8866\",\"#EE8866\",\"#EE8866\",\"#EE8866\",\"#EE8866\",\"#EE8866\",\"#EE8866\",\"#EE8866\",\"#EE8866\",\"#EE8866\",\"#EE8866\",\"#EE8866\",\"#EE8866\",\"#EE8866\",\"#EE8866\",\"#EE8866\",\"#EE8866\",\"#EE8866\",\"#EE8866\",\"#EE8866\",\"#EE8866\",\"#EE8866\",\"#EE8866\",\"#EE8866\",\"#EE8866\",\"#EE8866\",\"#EE8866\",\"#EE8866\",\"#EE8866\",\"#EE8866\",\"#EE8866\",\"#EE8866\",\"#EE8866\",\"#EE8866\",\"#EE8866\",\"#EE8866\",\"#EE8866\",\"#EE8866\",\"#EE8866\",\"#EE8866\",\"#EE8866\",\"#EE8866\",\"#EE8866\",\"#EE8866\",\"#EE8866\",\"#EE8866\",\"#EE8866\",\"#EE8866\",\"#EE8866\",\"#EE8866\",\"#EE8866\",\"#EE8866\",\"#EE8866\",\"#EE8866\",\"#EE8866\",\"#EE8866\",\"#EE8866\",\"#EE8866\",\"#EE8866\",\"#EE8866\",\"#EE8866\",\"#EE8866\",\"#EE8866\",\"#EE8866\",\"#EE8866\",\"#EE8866\",\"#EE8866\",\"#EE8866\",\"#EE8866\",\"#EE8866\",\"#EE8866\",\"#EE8866\",\"#EE8866\",\"#EE8866\",\"#EE8866\",\"#EE8866\",\"#EE8866\",\"#EE8866\",\"#EE8866\"]],[\"degree\",[11,81,7,4,8,1,1,6,2,2,3,3,6,2,1,4,1,1,3,4,8,1,1,2,4,3,1,1,1,2,1,1,1,3,1,1,1,2,1,1,1,1,3,1,1,2,1,1,2,1,1,1,2,1,1,1,1,1,1,1,1,1,1,1,1,1,1,1,1,1,1,1,1,1,1,1,1,1,1,1,1,1,121,3,1,1,8,8,2,1,2,3,2,1,1,1,1,1,1,1,2,1,4,1,1,1,1,1,1,4,1,1,1,1,2,1,2,1,4,2,1,1,1,1,1,1,1,1,2,1,1,1,1,1,1,8,1,1,1,2,1,2,1,1,1,1,2,2,2,2,1,1,1,2,1,1,1,1,1,1,1,2,1,1,1,3,1,2,1,1,1,1,1,1,1,1,1,1,1,1,1,1,104,1,5,1,1,1,1,1,1,1,2,1,1,1,1,1,1,1,1,2,1,1,1,1,2,1,1,1,1,1,1,2,2,1,1,1,1,1,1,1,1,2,1,1,1,1,1,1,1,2,1,1,2,1,1,1,1,1,1,1,1,1,1,1,1,1,1,1,1,1,1,1,1,1,1,1,1,1,2,2,2,1,1,1,202,1,1,1,1,1,3,4,1,1,1,1,1,1,1,1,1,1,1,3,1,1,1,1,1,1,1,1,1,1,1,1,1,1,3,1,1,1,1,1,8,1,2,1,1,1,3,1,2,1,1,1,1,1,2,8,1,3,1,1,1,1,3,1,7,3,3,1,1,1,1,1,1,1,1,1,1,1,1,1,1,1,1,1,1,1,1,1,1,2,1,1,1,1,1,1,1,1,1,1,1,1,1,1,1,2,1,1,1,1,1,1,1,1,1,1,1,1,1,1,1,1,1,1,1,1,1,1,1,1,1,1,1,1,1,1,1,1,1,1,1,1,1,1,1,1,1,1,1,1,1,1,1,1,1,1,1,1,1,1,1,1,1,1,1,1,212,2,6,1,2,3,6,5,2,3,1,3,2,1,1,3,1,2,2,4,1,2,1,2,1,5,2,1,1,1,3,2,1,1,1,1,1,3,3,2,3,2,1,1,1,4,3,2,1,2,2,4,1,2,1,1,1,2,1,4,2,5,7,6,2,1,1,6,2,2,1,1,2,1,2,2,2,1,2,2,3,3,5,3,1,1,3,1,1,1,1,1,1,1,1,2,4,3,2,1,2,2,2,2,2,2,2,2,1,1,1,1,1,1,2,1,1,2,2,2,2,1,2,2,2,2,2,2,2,1,1,2,1,2,2,1,1,1,2,2,1,2,1,2,2,1,1,1,1,2,2,2,1,2,2,1,1,1,2,1,2,2,2,1,1,1,1,1,2,2,2,1,1,1,1,2,2,2,2,1,2,2,1,2,2,1,2,1,1,167,1,1,2,1,1,1,1,1,1,3,1,1,1,3,1,1,1,1,1,1,1,1,1,1,1,1,1,1,1,1,1,1,1,1,1,1,1,1,1,1,1,1,1,1,1,171,1,1,1,2,1,1,4,1,1,1,1,1,4,1,1,1,1,1,1,1,1,1,2,1,1,1,2,1,2,1,1,1,1,1,1,1,1,1,1,1,1,1,1,1,2,1,1,1,1,1,1,1,1,1,1,1,1,1,2,1,1,1,1,1,1,1,1,1,1,1,1,1,1,1,1,1,1,1,1,1,1,1,1,1,1,1,1,1,1,1,1,1,1,1,1,1,1,1,1,1,1,1,1,1,1,1,1,1,1,1,1,1,1,1,1,1,1,1,1,1,1,1,1,1,1,1,1,1,1,1,1,1,1,1,1,1,1,1,1,88,1,1,1,1,1,1,1,1,1,1,1,1,1,1,1,2,1,1,2,1,1,1,1,1,1,1,1,1,1,1,1,1,1,1,1,1,1,4,1,1,1,1,2,4,1,1,1,1,1,1,1,1,1,1,1,1,1,1,104,3,1,1,1,1,1,1,2,1,1,1,1,1,1,3,1,1,2,1,1,1,1,3,1,1,1,1,1,1,1,1,1,1,1,1,1,1,1,1,2,1,1,1,2,2,1,1,1,1,1,1,1,1,1,1,1,1,1,1,2,1,1,1,1,74,1,1,2,2,1,2,1,1,1,1,2,2,2,1,1,1,1,1,1,1,1,1,1,1,1,1,1,1,1,1,1,1,1,1,1,1,1,1,1,1,1,1,1,1,1,181,1,1,1,1,1,1,1,1,1,1,1,1,1,1,1,1,1,1,1,1,1,1,1,1,1,1,1,1,1,1,1,1,1,1,1,1,1,1,1,1,1,1,1,1,1,1,1,1,1,1,1,1,1,1,1,1,1,1,1,1,1,1,1,1,1,1,1,1,1,1,1,1,1,1,1,1,1,1,1,1,1,1,1,1,1,1,1,1,1,1,1,1,1,1,1,1,1,1,1,1,1,1,1,1,1,1,1,1,1,1,1,1,1,1,1,1,1,1,1,1,1,1,1,1,1,1,1,1,1,1,1,1,1,1,1,1,1,1,1,1,1,1,1,1,1,1]],[\"adjusted_size\",[24.183162182386965,40.15559323737951,20.567281192442508,16.090354888959126,21.635532333438686,5.0,5.0,19.33407575382444,10.545177444479563,10.545177444479563,13.788898309344878,13.788898309344878,19.33407575382444,10.545177444479563,5.0,16.090354888959126,5.0,5.0,13.788898309344878,16.090354888959126,21.635532333438686,5.0,5.0,10.545177444479563,16.090354888959126,13.788898309344878,5.0,5.0,5.0,10.545177444479563,5.0,5.0,5.0,13.788898309344878,5.0,5.0,5.0,10.545177444479563,5.0,5.0,5.0,5.0,13.788898309344878,5.0,5.0,10.545177444479563,5.0,5.0,10.545177444479563,5.0,5.0,5.0,10.545177444479563,5.0,5.0,5.0,5.0,5.0,5.0,5.0,5.0,5.0,5.0,5.0,5.0,5.0,5.0,5.0,5.0,5.0,5.0,5.0,5.0,5.0,5.0,5.0,5.0,5.0,5.0,5.0,5.0,5.0,43.36632436477393,13.788898309344878,5.0,5.0,21.635532333438686,21.635532333438686,10.545177444479563,5.0,10.545177444479563,13.788898309344878,10.545177444479563,5.0,5.0,5.0,5.0,5.0,5.0,5.0,10.545177444479563,5.0,16.090354888959126,5.0,5.0,5.0,5.0,5.0,5.0,16.090354888959126,5.0,5.0,5.0,5.0,10.545177444479563,5.0,10.545177444479563,5.0,16.090354888959126,10.545177444479563,5.0,5.0,5.0,5.0,5.0,5.0,5.0,5.0,10.545177444479563,5.0,5.0,5.0,5.0,5.0,5.0,21.635532333438686,5.0,5.0,5.0,10.545177444479563,5.0,10.545177444479563,5.0,5.0,5.0,5.0,10.545177444479563,10.545177444479563,10.545177444479563,10.545177444479563,5.0,5.0,5.0,10.545177444479563,5.0,5.0,5.0,5.0,5.0,5.0,5.0,10.545177444479563,5.0,5.0,5.0,13.788898309344878,5.0,10.545177444479563,5.0,5.0,5.0,5.0,5.0,5.0,5.0,5.0,5.0,5.0,5.0,5.0,5.0,5.0,42.15512719313098,5.0,17.875503299472804,5.0,5.0,5.0,5.0,5.0,5.0,5.0,10.545177444479563,5.0,5.0,5.0,5.0,5.0,5.0,5.0,5.0,10.545177444479563,5.0,5.0,5.0,5.0,10.545177444479563,5.0,5.0,5.0,5.0,5.0,5.0,10.545177444479563,10.545177444479563,5.0,5.0,5.0,5.0,5.0,5.0,5.0,5.0,10.545177444479563,5.0,5.0,5.0,5.0,5.0,5.0,5.0,10.545177444479563,5.0,5.0,10.545177444479563,5.0,5.0,5.0,5.0,5.0,5.0,5.0,5.0,5.0,5.0,5.0,5.0,5.0,5.0,5.0,5.0,5.0,5.0,5.0,5.0,5.0,5.0,5.0,5.0,5.0,10.545177444479563,10.545177444479563,10.545177444479563,5.0,5.0,5.0,47.46614157920964,5.0,5.0,5.0,5.0,5.0,13.788898309344878,16.090354888959126,5.0,5.0,5.0,5.0,5.0,5.0,5.0,5.0,5.0,5.0,5.0,13.788898309344878,5.0,5.0,5.0,5.0,5.0,5.0,5.0,5.0,5.0,5.0,5.0,5.0,5.0,5.0,13.788898309344878,5.0,5.0,5.0,5.0,5.0,21.635532333438686,5.0,10.545177444479563,5.0,5.0,5.0,13.788898309344878,5.0,10.545177444479563,5.0,5.0,5.0,5.0,5.0,10.545177444479563,21.635532333438686,5.0,13.788898309344878,5.0,5.0,5.0,5.0,13.788898309344878,5.0,20.567281192442508,13.788898309344878,13.788898309344878,5.0,5.0,5.0,5.0,5.0,5.0,5.0,5.0,5.0,5.0,5.0,5.0,5.0,5.0,5.0,5.0,5.0,5.0,5.0,5.0,5.0,5.0,10.545177444479563,5.0,5.0,5.0,5.0,5.0,5.0,5.0,5.0,5.0,5.0,5.0,5.0,5.0,5.0,5.0,10.545177444479563,5.0,5.0,5.0,5.0,5.0,5.0,5.0,5.0,5.0,5.0,5.0,5.0,5.0,5.0,5.0,5.0,5.0,5.0,5.0,5.0,5.0,5.0,5.0,5.0,5.0,5.0,5.0,5.0,5.0,5.0,5.0,5.0,5.0,5.0,5.0,5.0,5.0,5.0,5.0,5.0,5.0,5.0,5.0,5.0,5.0,5.0,5.0,5.0,5.0,5.0,5.0,5.0,5.0,5.0,5.0,5.0,5.0,5.0,5.0,5.0,47.8526901973761,10.545177444479563,19.33407575382444,5.0,10.545177444479563,13.788898309344878,19.33407575382444,17.875503299472804,10.545177444479563,13.788898309344878,5.0,13.788898309344878,10.545177444479563,5.0,5.0,13.788898309344878,5.0,10.545177444479563,10.545177444479563,16.090354888959126,5.0,10.545177444479563,5.0,10.545177444479563,5.0,17.875503299472804,10.545177444479563,5.0,5.0,5.0,13.788898309344878,10.545177444479563,5.0,5.0,5.0,5.0,5.0,13.788898309344878,13.788898309344878,10.545177444479563,13.788898309344878,10.545177444479563,5.0,5.0,5.0,16.090354888959126,13.788898309344878,10.545177444479563,5.0,10.545177444479563,10.545177444479563,16.090354888959126,5.0,10.545177444479563,5.0,5.0,5.0,10.545177444479563,5.0,16.090354888959126,10.545177444479563,17.875503299472804,20.567281192442508,19.33407575382444,10.545177444479563,5.0,5.0,19.33407575382444,10.545177444479563,10.545177444479563,5.0,5.0,10.545177444479563,5.0,10.545177444479563,10.545177444479563,10.545177444479563,5.0,10.545177444479563,10.545177444479563,13.788898309344878,13.788898309344878,17.875503299472804,13.788898309344878,5.0,5.0,13.788898309344878,5.0,5.0,5.0,5.0,5.0,5.0,5.0,5.0,10.545177444479563,16.090354888959126,13.788898309344878,10.545177444479563,5.0,10.545177444479563,10.545177444479563,10.545177444479563,10.545177444479563,10.545177444479563,10.545177444479563,10.545177444479563,10.545177444479563,5.0,5.0,5.0,5.0,5.0,5.0,10.545177444479563,5.0,5.0,10.545177444479563,10.545177444479563,10.545177444479563,10.545177444479563,5.0,10.545177444479563,10.545177444479563,10.545177444479563,10.545177444479563,10.545177444479563,10.545177444479563,10.545177444479563,5.0,5.0,10.545177444479563,5.0,10.545177444479563,10.545177444479563,5.0,5.0,5.0,10.545177444479563,10.545177444479563,5.0,10.545177444479563,5.0,10.545177444479563,10.545177444479563,5.0,5.0,5.0,5.0,10.545177444479563,10.545177444479563,10.545177444479563,5.0,10.545177444479563,10.545177444479563,5.0,5.0,5.0,10.545177444479563,5.0,10.545177444479563,10.545177444479563,10.545177444479563,5.0,5.0,5.0,5.0,5.0,10.545177444479563,10.545177444479563,10.545177444479563,5.0,5.0,5.0,5.0,10.545177444479563,10.545177444479563,10.545177444479563,10.545177444479563,5.0,10.545177444479563,10.545177444479563,5.0,10.545177444479563,10.545177444479563,5.0,10.545177444479563,5.0,5.0,45.94395049933404,5.0,5.0,10.545177444479563,5.0,5.0,5.0,5.0,5.0,5.0,13.788898309344878,5.0,5.0,5.0,13.788898309344878,5.0,5.0,5.0,5.0,5.0,5.0,5.0,5.0,5.0,5.0,5.0,5.0,5.0,5.0,5.0,5.0,5.0,5.0,5.0,5.0,5.0,5.0,5.0,5.0,5.0,5.0,5.0,5.0,5.0,5.0,5.0,46.13330845202128,5.0,5.0,5.0,10.545177444479563,5.0,5.0,16.090354888959126,5.0,5.0,5.0,5.0,5.0,16.090354888959126,5.0,5.0,5.0,5.0,5.0,5.0,5.0,5.0,5.0,10.545177444479563,5.0,5.0,5.0,10.545177444479563,5.0,10.545177444479563,5.0,5.0,5.0,5.0,5.0,5.0,5.0,5.0,5.0,5.0,5.0,5.0,5.0,5.0,5.0,10.545177444479563,5.0,5.0,5.0,5.0,5.0,5.0,5.0,5.0,5.0,5.0,5.0,5.0,5.0,10.545177444479563,5.0,5.0,5.0,5.0,5.0,5.0,5.0,5.0,5.0,5.0,5.0,5.0,5.0,5.0,5.0,5.0,5.0,5.0,5.0,5.0,5.0,5.0,5.0,5.0,5.0,5.0,5.0,5.0,5.0,5.0,5.0,5.0,5.0,5.0,5.0,5.0,5.0,5.0,5.0,5.0,5.0,5.0,5.0,5.0,5.0,5.0,5.0,5.0,5.0,5.0,5.0,5.0,5.0,5.0,5.0,5.0,5.0,5.0,5.0,5.0,5.0,5.0,5.0,5.0,5.0,5.0,5.0,5.0,5.0,5.0,5.0,5.0,5.0,5.0,5.0,5.0,5.0,5.0,5.0,5.0,40.818694515825655,5.0,5.0,5.0,5.0,5.0,5.0,5.0,5.0,5.0,5.0,5.0,5.0,5.0,5.0,5.0,10.545177444479563,5.0,5.0,10.545177444479563,5.0,5.0,5.0,5.0,5.0,5.0,5.0,5.0,5.0,5.0,5.0,5.0,5.0,5.0,5.0,5.0,5.0,5.0,16.090354888959126,5.0,5.0,5.0,5.0,10.545177444479563,16.090354888959126,5.0,5.0,5.0,5.0,5.0,5.0,5.0,5.0,5.0,5.0,5.0,5.0,5.0,5.0,42.15512719313098,13.788898309344878,5.0,5.0,5.0,5.0,5.0,5.0,10.545177444479563,5.0,5.0,5.0,5.0,5.0,5.0,13.788898309344878,5.0,5.0,10.545177444479563,5.0,5.0,5.0,5.0,13.788898309344878,5.0,5.0,5.0,5.0,5.0,5.0,5.0,5.0,5.0,5.0,5.0,5.0,5.0,5.0,5.0,5.0,10.545177444479563,5.0,5.0,5.0,10.545177444479563,10.545177444479563,5.0,5.0,5.0,5.0,5.0,5.0,5.0,5.0,5.0,5.0,5.0,5.0,5.0,5.0,10.545177444479563,5.0,5.0,5.0,5.0,39.43252074563336,5.0,5.0,10.545177444479563,10.545177444479563,5.0,10.545177444479563,5.0,5.0,5.0,5.0,10.545177444479563,10.545177444479563,10.545177444479563,5.0,5.0,5.0,5.0,5.0,5.0,5.0,5.0,5.0,5.0,5.0,5.0,5.0,5.0,5.0,5.0,5.0,5.0,5.0,5.0,5.0,5.0,5.0,5.0,5.0,5.0,5.0,5.0,5.0,5.0,5.0,5.0,46.58797625012661,5.0,5.0,5.0,5.0,5.0,5.0,5.0,5.0,5.0,5.0,5.0,5.0,5.0,5.0,5.0,5.0,5.0,5.0,5.0,5.0,5.0,5.0,5.0,5.0,5.0,5.0,5.0,5.0,5.0,5.0,5.0,5.0,5.0,5.0,5.0,5.0,5.0,5.0,5.0,5.0,5.0,5.0,5.0,5.0,5.0,5.0,5.0,5.0,5.0,5.0,5.0,5.0,5.0,5.0,5.0,5.0,5.0,5.0,5.0,5.0,5.0,5.0,5.0,5.0,5.0,5.0,5.0,5.0,5.0,5.0,5.0,5.0,5.0,5.0,5.0,5.0,5.0,5.0,5.0,5.0,5.0,5.0,5.0,5.0,5.0,5.0,5.0,5.0,5.0,5.0,5.0,5.0,5.0,5.0,5.0,5.0,5.0,5.0,5.0,5.0,5.0,5.0,5.0,5.0,5.0,5.0,5.0,5.0,5.0,5.0,5.0,5.0,5.0,5.0,5.0,5.0,5.0,5.0,5.0,5.0,5.0,5.0,5.0,5.0,5.0,5.0,5.0,5.0,5.0,5.0,5.0,5.0,5.0,5.0,5.0,5.0,5.0,5.0,5.0,5.0,5.0,5.0,5.0,5.0,5.0,5.0]],[\"name\",[\"Quentin Tarantino\",\"Reservoir Dogs\",\"Lawrence Bender\",\"Paul Hellerman\",\"Sally Menke\",\"Harvey Keitel\",\"Ross Katz\",\"David Wasco\",\"Roger Avary\",\"Ronnie Yeskel\",\"Andrzej Sekula\",\"Karyn Rachtman\",\"Sandy Reynolds-Wasco\",\"Betsy Heimann\",\"Debra Grieco\",\"Richard N. Gladstein\",\"Ron Bartlett\",\"Monte Hellman\",\"Ken Lesco\",\"Mary Claire Hannan\",\"Martin Kitrosser\",\"Ronna B. Wallace\",\"Mark Emery Moore\",\"Michelle B\\u00fchler\",\"Ziad Doueiri\",\"Stephen Hunter Flick\",\"Kelley Dixon\",\"Stephen DeLollis\",\"Rick Yale\",\"Larry Fioritto\",\"Steve F.B. Smith\",\"Peggy Kennedy\",\"James Lowder\",\"Brett C. Smith\",\"Curt Schulkey\",\"Geoffrey G. Rubay\",\"Jonathan Bobbitt\",\"Jonathan R. Hodges\",\"David E. Stone\",\"Marian Green\",\"Jamie Beardsley\",\"Jeannie H. Kelly\",\"Jacqueline Aronson\",\"Bruce Comtois\",\"Jennifer Pyken\",\"Charles Ewing Smith\",\"Ken Segal\",\"Mary Louise Rodgers\",\"Kelly Kiernan\",\"Enid L. Kantor\",\"Marino Pascal\",\"Ric Urbauer\",\"Iain Jones\",\"Rachel Tanner\",\"Suzanne Celeste\",\"David Coffee\",\"Wayne Alexander\",\"Warren Betts\",\"Melanie Molyneux\",\"Ben C. Giller\",\"Marina Bailey\",\"Chuck Winston\",\"Jay Dahlquist\",\"Joey D. Brown\",\"Greg R. McCullough\",\"Billy A. Fox\",\"R. Blaine Currier\",\"Dwayne S. Henkel\",\"John Hulsman\",\"Cecilia Perna\",\"John Lieberman\",\"Dink Adams\",\"Andy Spilkoman\",\"Nancy Lynn Hurlbut\",\"Dennis K. Wilson\",\"Randall Guth\",\"Mark Lass\",\"Judith E. Goldman\",\"Mary Santiago\",\"Robert John Speer\",\"Pat Domenico\",\"Wendy Baker\",\"Pulp Fiction\",\"Heidi Vogel\",\"Jennifer Beals\",\"Danny DeVito\",\"Bob Weinstein\",\"Harvey Weinstein\",\"Tatiana S. Riegel\",\"Bill Unger\",\"Michael Shamberg\",\"Stacey Sher\",\"Dean Beville\",\"Ken King\",\"Ruth Lambert\",\"Gary M. Zuckerbrod\",\"Charles Collum\",\"Scott Spiegel\",\"Ezra Dweck\",\"Andrew Dickler\",\"Jeff Olan\",\"Ricardo Mestres\",\"Daniel Bradford\",\"Lou Arkoff\",\"Agn\\u00e8s B.\",\"Stephen Martines\",\"Emily Wolfe\",\"Emanuel Steward\",\"Mike Simpson\",\"Barbara Harris\",\"Peter Borck\",\"Terry Jackson\",\"Vance Trussell\",\"Cameron\",\"Thomas L. Bellissimo\",\"Lee Stollman\",\"Ray Maxwell\",\"Patia Prouty\",\"Derek Raser\",\"Brian Markey\",\"Bob Gorelick\",\"Audrey Futterman-Stern\",\"Michael Levine\",\"John A. Johnston\",\"Catherine Rowe\",\"Deborah Wuliger\",\"Linda Arnold\",\"Cathryn Jaymes\",\"Dana Gustafson\",\"Donald Likovich\",\"Kevin McTurk\",\"Kathy Nelson\",\"Linda R. Chen\",\"Billy Gottlieb\",\"Adam Silver\",\"Mary Ramos\",\"Samantha Gore\",\"Bill Fletcher\",\"Rolf Johnson\",\"Mike Stanwick\",\"Bruce Jagoda\",\"Matthew C. Beville\",\"Haley Sweet\",\"Larry Scharf\",\"Marc Meisenheimer\",\"Anna-Lisa Nilsson\",\"Judee Flick\",\"Marc Gillson\",\"Derek Hurd\",\"Ben Parker\",\"Giuseppe Maini III\",\"Mark Shane Davis\",\"Chris Ahern\",\"Joseph W. Grafmuller\",\"Gary L. Brennan\",\"Alonzo Brown Jr.\",\"Angelo de la Cruz\",\"Ruben Cortez\",\"Francis R. Mahony III\",\"Anthony Hall\",\"Michael Stocks\",\"Kristen Becht\",\"Rory Dauson\",\"Jeff Courtie\",\"Zane\",\"Chris Cullen\",\"Bradley Morris\",\"Gregory C. Smith\",\"Kristin Dangl\",\"John W. Hyde Jr.\",\"Liz Chiz\",\"John Felgate\",\"Steve Ingrassia\",\"Robbie Meckler\",\"Alan Parr\",\"Kara Mazzola\",\"Chuck Kelley\",\"Michael Haddad\",\"Cheryl Cain\",\"Chris L. Winslow\",\"Andrew Ambrose\",\"Allison Anders\",\"Four Rooms\",\"Alexandre Rockwell\",\"Robert Rodriguez\",\"Combustible Edison\",\"Gary Frutkoff\",\"Lance Brown\",\"Scott Lambert\",\"Russell Gray\",\"Mayne Berke\",\"Sara Andrews\",\"Guillermo Navarro\",\"Mark Mothersbaugh\",\"Elena Maganini\",\"Phil Parmet\",\"Randi Hiller\",\"Wayne Fitzgerald\",\"Jonathan Brown\",\"Susan L. Bertram\",\"Erik C. Andersen\",\"Debbie Hayn-Cass\",\"Douglas Aarniokoski\",\"Rodrigo Garc\\u00eda\",\"Jay Nierenberg\",\"Chuck Jones\",\"Ermahn Ospina\",\"Tiffanie DeBartolo\",\"Margaret Goodspeed\",\"Toni G\",\"Fernando Altschul\",\"Jayne-Ann Tenggren\",\"Tim Tuchrello\",\"Robert Earl Craft\",\"Dawn Todd Curfman\",\"Zack Davis\",\"Becky Sullivan\",\"Pawel Wdowczak\",\"Glenn Hoskinson\",\"Thom 'Coach' Ehle\",\"Denise Okimoto\",\"P. Gerald Knight\",\"Bruce Fortune\",\"Kyle Oliver\",\"Lynda Reiss\",\"Victor Iorillo\",\"Marisol Jim\\u00e9nez\",\"Edgar Arellano\",\"Paul Taglianetti\",\"Nancy Willen\",\"Mynka Draper\",\"Brian Bettwy\",\"Darrell Dubovsky\",\"Paul Koronkiewicz\",\"Rick Stribling\",\"Orlando\",\"Bj\\u00f8rn Eivind Aarskog\",\"James C. Beeson\",\"Carlos A. Chavez\",\"T.D. Donnelly\",\"Elizabeth Bolden\",\"Thomas G. Marquez\",\"Paul Starr\",\"Sissy Boyd\",\"Nick Roberts\",\"Patrice Carbaugh\",\"Michael Boyce Harris\",\"Dotti Thompson\",\"Bob Allen\",\"Marcel DeJure\",\"Chuck Smith\",\"Deborah Hebert\",\"David Gertz\",\"Jan D. Tys\",\"Theresa Repola Mohammed\",\"Christina Tucker\",\"Martin Charles\",\"Mary Patvaldnieks\",\"Andrew King\",\"Vincent Cassaro\",\"Christy Sumner\",\"James Irons\",\"Bob Ivanjack\",\"Jeff Ervin\",\"Heidrun M. Williams\",\"Susan Noonan-Gero\",\"Jackie Brown\",\"Elmore Leonard\",\"Jaki Brown\",\"Robyn M. Mitchell\",\"Marietta Carter-Narcisse\",\"Leonard L. Thomas\",\"Ilona Herman\",\"Steve Joyner\",\"Andrew Laws\",\"Mary L. Mastro\",\"Robert L. Stevenson\",\"Rowland Wafford\",\"Alicia M. Tripi\",\"Bob Mills\",\"David Melito\",\"Joan Rowe\",\"Rick Canelli\",\"Alex A. Quinn\",\"Charles Maynes\",\"Pilar Savone\",\"Andrew DeCristofaro\",\"Nicholas James\",\"Terry Zarchi\",\"Jason \\\"Jake\\\" Cross\",\"Brian Pope\",\"Colleen Mayne\",\"Warren Hamilton Jr.\",\"Kiante Elam\",\"Tom Kramer\",\"Paul Berolzheimer\",\"Patricio A. Libenson\",\"David V. Butler\",\"George A. Sack\",\"David Lewis Yewdall\",\"Douglas Dresser\",\"Steve M. Davison\",\"D. Chris Smith\",\"Frank A. Monta\\u00f1o\",\"Evan T. Chen\",\"Sergio Reyes\",\"Michael Minkler\",\"Ed Callahan\",\"Caylah Eddleblute\",\"Cathy Agcayab\",\"Stephanie Flack\",\"Frank Smathers\",\"Victoria Wood\",\"Mariko Braswell\",\"Dan Kneece\",\"B. Tennyson Sebastian III\",\"Don Malot\",\"Linda Yeaney\",\"Darren Michaels\",\"Gary Ritchie\",\"Michelle Kuznetsky\",\"Mark Ulano\",\"Jennie Harris\",\"Stephanie Johnson\",\"Ben Bumatai\",\"Kimberly Lambert\",\"Ann Kline\",\"Jerome R. Vitucci\",\"Geraldine Brezca\",\"Cullen G. Chambers\",\"William Paul Clark\",\"Don Feeney\",\"Bruce Callahan\",\"David Lee\",\"Moore Brian\",\"Gordon Tadd Eto\",\"John Polce\",\"Jon Michaels\",\"Gwen Everman\",\"Dena Allen\",\"Tim Soronen\",\"Karen Dimmig\",\"Gary Burritt\",\"Mike Mertens\",\"Bruce Carothers\",\"Brian Glazen\",\"Karla Stevens Flanigan\",\"Shayne A. Wilson\",\"Roman Jakobi\",\"J.T. Thayer\",\"James Eric\",\"David Abrahamsen\",\"Young Vance Cohen\",\"Nathan Hathaway\",\"Bradley O'Donnell\",\"Chandler Vinar\",\"Kristen M. D'Angelo\",\"Thomas J. O'Connell\",\"Steven Mann\",\"R. Derek Keener\",\"Keith A. Hascher\",\"Kimberly Edwards\",\"Stephen Pizzo\",\"Geoff Teagardin\",\"Tracy Thielen\",\"Earl Thielen\",\"Richard Chaim\",\"Kenneth Pratt\",\"Jeff Graham\",\"Courtney Pakiz\",\"John Warner\",\"Norm Hvam\",\"Shannon Hart\",\"Cathy Ragona\",\"Dimitris Moraitis\",\"Mike Bertolina\",\"Tom Lawrence\",\"Alan Kerr\",\"Rick Lange\",\"Linda Stevenson-Khan\",\"David Coronella\",\"Stoney Emshwiller\",\"Craig Hama\",\"Mark Hutman\",\"Gerald Martinez\",\"Patrick Parkhurst\",\"Sally Reed\",\"Scott Tabor\",\"Kathleen McCart\",\"Eric Potter\",\"Anne Gentling\",\"Scot A. Nederman-Paul\",\"Stephen Saunders\",\"Tom Waisanen\",\"Josh Drew\",\"Susan D. Fowler\",\"Carolyn Duffy\",\"Lee Kartis\",\"Lin Coleman\",\"Kristin Eaton\",\"Eric Greenspan\",\"Elizabeth Gregory\",\"John Katovsich\",\"Paul Burlin\",\"Curtis Clark\",\"Jeff Coffman\",\"Sunday Coony\",\"Ken Day\",\"David Garris\",\"Scotty Goudreau\",\"David Joseph\",\"Erin Maguire\",\"George Nadian\",\"Laurence John Reynolds\",\"Matthew Arnold\",\"Paul Candice\",\"David Chute\",\"Kim Crockett\",\"Carolyn Sara Fine\",\"Robert Gonzalez\",\"Scott A. Hale\",\"Bill Miller\",\"Bret Robins\",\"Nick Salick\",\"John Starr\",\"Teron Stevenson\",\"David Tesi\",\"Adam Wallace\",\"Peter Christian White\",\"Ann Du Val\",\"Carlos K. Goodman\",\"Jeff Springer\",\"Kill Bill: Vol. 1\",\"Uma Thurman\",\"Robert Richardson\",\"Julie Dreyfus\",\"Koko Maeda\",\"Johanna Ray\",\"Harry Cohen\",\"Zo\\u00eb Bell\",\"Scott Martin Gershin\",\"Yohei Taneda\",\"Christopher Allen Nelson\",\"RZA\",\"Bob Beher\",\"Debbie Zoller\",\"Mitsuhisa Ishikawa\",\"Dino Dimuro\",\"Yoshihito Akatsuka\",\"John Hartigan\",\"Frankie Chung\",\"Erica Steinberg\",\"Peter Bogdanovich\",\"Catherine Marie Thomas\",\"Kwame Parker\",\"E. Bennett Walsh\",\"Mahiro Maeda\",\"Gregory Nicotero\",\"Joan Sobel\",\"Michiko Nishiwaki\",\"Spencer Sano\",\"Noriko Watanabe\",\"Howard Berger\",\"Jasmine Yuen Carrucan\",\"Minoru Nishida\",\"Katsuhito Ishii\",\"Mizuho Nishikubo\",\"Shou Tajima\",\"Katsuji Morishita\",\"Nerses Gezalyan\",\"James Moriana\",\"Branden Spencer\",\"Jeffrey Wilhoit\",\"Cao Juiping\",\"Takashi Sasaki\",\"Jake McKinnon\",\"Kazuto Nakazawa\",\"Ian Kincaid\",\"Larry McConkey\",\"Ted Gidlow\",\"Jerome Ro Brooks\",\"Mary Saisselin\",\"Greg D'Auria\",\"Jake Garber\",\"Scott Patton\",\"Glenn Cannon\",\"Monica Staggs\",\"Mitsuo Iso\",\"Motoki Ishida\",\"Kumiko Ogawa\",\"Helen Monaghan\",\"Tom Hartig\",\"Frederick H. Stahly\",\"Michael Hertlein\",\"Wylie Stateman\",\"Andrew Cooper\",\"Kanani Wolf\",\"Hidefumi Hanatani\",\"Lu Yo Lui\",\"Heba Thorisdottir\",\"Peter Davidson\",\"Gretchen Engel\",\"Katrina Siegmund\",\"Peter Michael Sullivan\",\"Corey Pritchett\",\"Tommy Tom\",\"Keith Adams\",\"Daniel Grant North\",\"Jay B. Richardson\",\"Akira Morii\",\"David Greenbaum\",\"Hugh Waddell\",\"Greg Steele\",\"John R. Manocchia\",\"Will Casey\",\"Edward J. Borasch Jr\",\"James Logan\",\"Eriko Miyagawa\",\"Eddie Bydalek\",\"Shinya Ohira\",\"Eiji Ishimoto\",\"Sushio\",\"Yasunori Miyazawa\",\"Yutaka Sakamoto\",\"Keiichi Sasajima\",\"Hideki Takahashi\",\"Takaaki Yamashita\",\"Dede Nickerson\",\"Bruce Del Castillo\",\"Emanuel Millar\",\"Rachael Lin Gallaghan\",\"Norman Cabrera\",\"John Bires\",\"Steve Borgese\",\"John Stone\",\"Archie Hankins\",\"Jeff Plauster\",\"Jessica Miglio\",\"Cornelia Ryan\",\"Vincent Joseph Flaherty\",\"Michael Spitaletto\",\"Stephen Dudycha\",\"Angela Meryl\",\"Mark Zunino\",\"Alexander AD\",\"Satoko Saito\",\"Laurel Pickering\",\"Marie Healy\",\"Ayako Sakahara\",\"Elizabeth Norton\",\"Jamie Felz\",\"Herb Ault\",\"David Ladish\",\"D.A. Young\",\"Paul Abraham\",\"Robert Aaron Brown\",\"Ian Elias\",\"Peter Mavromates\",\"Rome Duval\",\"Jennifer A. Bolitho\",\"Elida Cerda\",\"Leslie Yeransian\",\"Sho Brown\",\"Arturo del R\\u00edo\",\"Jennifer Hall Lee\",\"Greg Fausak\",\"Khan Griffith\",\"Preston A. Adams\",\"Carlos Escobar\",\"Katsumi Furuhashi\",\"Jennifer S. Deayton\",\"Mike Hurst\",\"Kelly Bumbarger\",\"Jason Gustafson\",\"Daniel R. Kerr\",\"Julie Helton\",\"Satya Bellord\",\"Roger Morris\",\"Carlos A. Aragon\",\"Shauna Duggins\",\"Jody Hart\",\"Craig S. Jaeger\",\"Sue Smith\",\"Rich King\",\"Adam Blantz\",\"Antonio V. Garrido\",\"Rob Moses\",\"Kennedy Taylor\",\"Jonathan Tex Levitt\",\"Texas Dave\",\"Aaron Denenberg\",\"Rui Kuroki\",\"Heather I. Denton\",\"Stephanie Ito\",\"Andrew Blau\",\"Lisa McCullough\",\"Charlie Estepp\",\"Gary Fry\",\"Ty Williams\",\"Go Abe\",\"Jaime Norman\",\"Beverly Jusi\",\"Edward Poveda\",\"Lisa Bojarski\",\"Ryan Tighe\",\"Juning Li\",\"Kei Itsutsuji\",\"Ellen C. Troy\",\"Phill Zagajewski\",\"Marcus Epps\",\"Jack Jennings\",\"Melanie C. Brown\",\"Amy Lin\",\"Wendi Morris\",\"Hiroyuki Nakano\",\"Jerry Carville\",\"Alan Schwartz\",\"Ryutaro Ishimori\",\"Sean Carville\",\"Junichiro Aki\",\"Ming Qiu\",\"Kill Bill: Vol. 2\",\"Shin'ichi Chiba\",\"Ricardo Del R\\u00edo\",\"Peggy Eghbalian\",\"Christopher Tandon\",\"Carl Thiel\",\"Kerry Ann Carmean\",\"Lee Wimer\",\"David James\",\"Ron Barr\",\"Hector C. Gika\",\"Peter Owen\",\"Douglas S. McClintock II\",\"Kyra Panchenko\",\"Tysuela Hill-Scott\",\"Gerardo Rene Arellano\",\"Jim Hansen\",\"Pete Anthony\",\"Carlos Ponce de Le\\u00f3n\",\"Yingchun Fang\",\"Manuel Barrera Oliver\",\"Thomas W. Lay Jr.\",\"Kristina Soderquist\",\"Norberto Nava\",\"Hally Grounds\",\"Ariel Oclarino\",\"Edgar Ambriz Espinoza\",\"Jeff Brinker\",\"Jessica Vogl\",\"Alan Meyerson\",\"Christopher Haydostian\",\"V\\u00edctor Solorio\",\"Kevin Connolly\",\"Matthew J. Barden\",\"Michele Flynn\",\"Dawn Massaro\",\"Janet Kusnick\",\"Keith O. Wilson\",\"Ernesto Cairo\",\"Dan Duffy\",\"Stephanie A. Fowler\",\"Perry Strong\",\"Cheryl Bermeo\",\"Liuba Esperon Otero\",\"Jessica James\",\"Arturo Saldivar\",\"Death Proof\",\"Elizabeth Avellan\",\"Beth Sepko\",\"Mary Vernieu\",\"Joe D'Augustine\",\"Christopher Assells\",\"Nina Proctor\",\"Jeffrey J. Dashnaw\",\"Ken Zorniak\",\"Jeanette Scott\",\"Michael Keller\",\"Joe Rivera\",\"Greg Zimmerman\",\"Shannon McIntosh\",\"Tracy Keehn-Dashnaw\",\"Jimmy Lindsey\",\"J.C. Cantu\",\"David Hack\",\"Tracey Landon\",\"John McLeod\",\"Crystal Santos\",\"Harrison Witt\",\"Dennis Liddiard\",\"Jonny Pray\",\"Jeffrey W. Petersen\",\"Margit Pfeiffer\",\"Pete Stockton\",\"Jim Schultz\",\"Jeff B. Adams Jr.\",\"Ann Scibelli\",\"Jennifer Long\",\"Ken Gaston-Kilgore\",\"P.K. Munson\",\"Pam Fuller\",\"Drew Webster\",\"Joe McCusker\",\"Peter Zinda\",\"Hap Weaver\",\"Scott Wolf\",\"Tara Smith\",\"Darylin Nagy\",\"Debbie Cortez Haber\",\"Steve A. Hagberg\",\"David Michael Ableman\",\"Mike Walker\",\"Ren\\u00e9e Tondelli\",\"Michael Janov\",\"Arin Finger\",\"Ryan Tudhope\",\"Stefan Tarzan\",\"John 'Fest' Sandau\",\"Brenda J. Chambers\",\"Janice Janacek\",\"Vanessa Nirode\",\"Mirin Soliz\",\"Nina Kawasaki\",\"Cecil D. Evans\",\"Ken Stranahan\",\"Travis Carr\",\"Dana Reed\",\"Amber Kirsch\",\"Crystal Falkner-Paysse\",\"Joe Montenegro\",\"Cynthia Streit\",\"Stephen R. Sheridan\",\"Dina L. Margolin\",\"Shawn Wallbridge\",\"Selena Carrillo\",\"Edison Jackson\",\"Logan Cooper\",\"James F. Cornick\",\"Mike Revell\",\"Matthew McGinn\",\"Steve White\",\"Clark Campbell\",\"Rocky Quiroz\",\"Mo Henry\",\"Richard L. Carden\",\"Jim Shelton\",\"Jamie Franta\",\"Karin Silvestri\",\"Chrissy Weathersby Ball\",\"Ronald Perkins\",\"Alan R. Serotta\",\"Gary A. Beaird\",\"Bethany Orlemann\",\"Neil Fraser\",\"Ferrell A. Shinnick\",\"Kurt Volk\",\"Sebastian Vega\",\"Erin Michelle Hopkins\",\"Raul Mello\",\"Sean Wright\",\"Rick Pratt\",\"Kenneth Bosse\",\"Jennifer Mosley\",\"Daniel Yates\",\"Dirk Rogers\",\"Cheri Jacobs\",\"Amanda Curry\",\"Matthew K. Grigsby\",\"Eric Johnson\",\"April Kelley\",\"Susan Jasso\",\"Michael Dudash\",\"Kurt Kornemann\",\"Kelly Bogdan\",\"Mike Sheeren\",\"Todd Smiley\",\"Todd Green\",\"Mary Duque\",\"Richard M. Moore\",\"Robert Janecka\",\"Scott Conn\",\"Matt Fliehler\",\"David Rimer\",\"Barbara Chennault\",\"Omar Torres\",\"Michael Semon\",\"Carrin Welch\",\"Jammie S. Goodman\",\"Garry Kirks\",\"James Toole\",\"Douglas Gessaman\",\"Timothy W. Lobdell\",\"Desmond O'Regan\",\"Michael P. Weller\",\"Peter Bret Lennon\",\"Dan Hammond\",\"John Eschberger\",\"Erin Randall\",\"Matt Morrow\",\"Kyle Kaufman\",\"Brian Cross\",\"Brian Montgomery\",\"Emily Davis\",\"Adam Picchietti\",\"Denny Rubianes\",\"Greg Urich\",\"Rob DaFoe\",\"Inglourious Basterds\",\"Lloyd Phillips\",\"Maggie Cheung\",\"Tom Tykwer\",\"Simone B\\u00e4r\",\"Anna B. Sheppard\",\"Cloris Leachman\",\"Henning Molfenter\",\"Charlie Woebcken\",\"Marco Bittner Rosser\",\"Sebastian T. Krawinkel\",\"Antje Rau\",\"Sascha Girndt\",\"Alexandra Nazahn\",\"Stephan O. Gessler\",\"Bud Davis\",\"Tony Lamberti\",\"Bruce Moriarty\",\"Olivier Carbone\",\"John Dykstra\",\"Katrin Schneider\",\"Barry Primus\",\"Carlos Fidel\",\"Giorgio Armani\",\"Julie Garc\\u00e9s\",\"Tim Trella\",\"Gabriel Roth\",\"David Scheunemann\",\"Jenny Jue\",\"Evan Henke\",\"Gregg Baxter\",\"Christoph Fisser\",\"Fran\\u00e7ois Duhamel\",\"D\\u00f6rte Eben\",\"Nils Konrad\",\"Sebastian Meuschel\",\"Caroline Veyssi\\u00e8re\",\"Matthias Pilz\",\"Tina Anderson\",\"Klaus Gro\\u00dfe Darrelmann\",\"Viktor M\\u00fcller\",\"Michael Scheel\",\"Sheryl Benko\",\"Yvan Lucas\",\"Gregor Tavenner\",\"Birgit Dierken\",\"Gregor Wilson\",\"Gero Neumann\",\"Erin Hopkins\",\"Danny Bortfeld\",\"Lester Dunton\",\"Christopher Berg\",\"Matthew Sakata\",\"Sebastiano Cartier\",\"Nicole Dierken\",\"Kristin Haberland\",\"Dennis Grzesczak\",\"S\\u00f6nke Korries\",\"Michael Duessel\",\"Django Unchained\",\"Victoria Thomas\",\"James W. Skotchdopole\",\"Richard Roundtree\",\"Sacha Baron Cohen\",\"Kurt Russell\",\"J. Michael Riva\",\"Leslie A. Pope\",\"Tim Monich\",\"David F. Klassen\",\"Sharen Davis\",\"Franco Nero\",\"Page Buckner\",\"Joseph Gordon-Levitt\",\"Nancy Piraquive\",\"Fred Raskin\",\"Luis Bacalov\",\"Reginald Hudlin\",\"Andrew S. Eisen\",\"Erik Polczwartek\",\"Lady Gaga\",\"Dror Mohar\",\"Mara LePere-Schloop\",\"Gary A. Hecker\",\"Gino Crognale\",\"Elaine Ramires\",\"Chere Theriot\",\"Gary Marullo\",\"Nancy Nugent\",\"Mandi Dillin\",\"Russell R. Anderson\",\"Cuitlahuac Morales Velazquez\",\"Lauri Mills\",\"John C. Stuver\",\"Hope M. Parrish\",\"Molly Allen\",\"Robb Boyd\",\"Molly Mikula\",\"Deidra Dixon\",\"Durel Yates\",\"Marc A. Hammer\",\"Michael D. Wilhoit\",\"A. Welch Lambeth\",\"Steve Duncan\",\"Sian Grigg\",\"Camille Friend\",\"Caleb Guillotte\",\"Lauren Abiouness\",\"Brian Walker\",\"Julie Stark\",\"Joseph Guerino\",\"Kei Rowan-Young\",\"Remi Savva\",\"Mark Amos\",\"Craig Branham\",\"Jessica Lakoff\",\"Nicole Reed LeFevre\",\"Kellie Robinson\",\"Greg Hale\",\"Vince LeBlanc\",\"Darren Patnode\",\"Stephanie Portnoy Porter\",\"John Lamkin\",\"Chris Britt\",\"Jason Portera\",\"The Hateful Eight\",\"Ennio Morricone\",\"Bill Abbott\",\"Georgia Kacandes\",\"Richard L. Johnson\",\"Rosemary Brandenburg\",\"Greg Funk\",\"Carole Zacek\",\"Lara Perez Takagi\",\"Courtney Hoffman\",\"Benjamin Edelberg\",\"Sylvain Lasseur\",\"Christian P. Minkler\",\"Rick Owens\",\"Darren Poe\",\"Tricia Yoo\",\"Joshua Coleman\",\"Bob Moore Jr.\",\"Lisa Goldberg\",\"Michael Harden\",\"Stan Parks\",\"Barbara Cantu\",\"Marina Marit\",\"Michael Diersing\",\"Diana Choi\",\"Bruno Van Zeebroeck\",\"Robert 'Rock' Galotti\",\"Lauren Hadaway\",\"Shawn Broes\",\"Sara Ghaffar\",\"Laurent Gillet\",\"Brittany Montero\",\"Mark Webb\",\"Molly Tissavary\",\"Jen R. Clark\",\"Holly E. McCarthy\",\"Mike Edmonson\",\"Kil Won Yu\",\"Megan Louise Smith\",\"Ashley Bradford\",\"Patrick Ready\",\"Louise DeCordoba\",\"Nick Marra\",\"Billy Hobson\",\"Coco Francini\",\"Matt Lange\",\"Once Upon a Time\\u2026 in Hollywood\",\"Tim Roth\",\"John Dexter\",\"Nancy Haigh\",\"Barbara Ling\",\"Toni Basil\",\"Jim Palmer\",\"David Heyman\",\"James Marsden\",\"Adam West\",\"Burt Ward\",\"Arianne Phillips\",\"Sergio Corbucci\",\"Kathy Lucas\",\"Gary Archer\",\"Yu Dong\",\"Keith Jardine\",\"Paul Sonski\",\"Jeremy Fitzgerald\",\"Richard Schuler\",\"Peter Epstein\",\"Toby Holguin\",\"Marcus Young\",\"Tara Macken\",\"Jeffrey Chan\",\"William Fletcher\",\"Debra Tate\",\"Eric Sundahl\",\"Nichole Galicia\",\"Sarah Contant\",\"Samuel Le\",\"Andr\\u00e9s Murillo\",\"Tristan Paris Bourne\",\"Betsy Glick\",\"Jean Ann Black\",\"Lynda Foote\",\"Sam Page\",\"Anne Porter\",\"Patrushkha Mierzwa\",\"Nathan Kelly\",\"Susannah Carradine\",\"Corey Bronson\",\"Sara Philpott\",\"Pete Romano\",\"Lisa Tutunjian\",\"Angel Acosta\",\"Shari Ratliff\",\"Henry Tirl\",\"Rob O'Malley\",\"Janine Rath\",\"Andrew Blustain\",\"Kyle Rochlin\",\"Anna Quinn\",\"Michael Thurman\",\"Mark Weissenfluh\",\"Leigh Bell\",\"Kelly Porter\",\"Jeff Frost\",\"Eric Salas\",\"Chris Tonick\",\"Anthony DiMaria\",\"Charlotte Nichol\",\"Jessica Ripka\",\"Jeremy Hays\",\"Jimmy Hart\",\"Michelle Diamantides\",\"Chris Call\",\"Corey Deist\",\"Michyl-Shannon Quilty\",\"Joel A. Ruiz\",\"Lisa Hoyle\",\"Cindy Mah\",\"Marc Tantin\",\"Vanessa Riegel\",\"Jennifer Yoo\",\"Chris Centrella\",\"Mark Aaron Wagner\",\"Tina Charad\",\"Allan Padelford\",\"Bryan Lane\",\"Krystina Figg\",\"Jared Gibson\",\"Norman Mora\",\"Dario Perez\",\"Seana Gorlick\",\"Braxton McAllister\",\"Marc Banich\",\"Stephen Bettles\",\"Lauren Baker\",\"Rio Noel Zumwalt\",\"Vince Manocchia\",\"Robin Borman\",\"Fante Zamora\",\"Rusty Davis\",\"Hugh McCallum\",\"Jason Zorigian\",\"Michaela McAllister\",\"Dalton Rondell\",\"Jon Nicholson\",\"Christopher T. Sadler\",\"Nashon Petrushkin\",\"Brendan Lee\",\"Mike Byrd\",\"Maryellen Aviano\",\"Brit DeLillo\",\"Riley Harper\",\"Glen Yrigoyen\",\"Dylan Hice\",\"Zoe Gardner\",\"Karl Van Moorsel\",\"Jory Alvarado\",\"Carla Lewis\",\"Chris Howland\",\"Felicia Leilani Jarvis\",\"Zach Goheen\",\"David Tichauer\",\"Kevin Souls\",\"Lance Malbon\",\"Kimberly Shannon Murphy\",\"Amy Redfern\",\"Leigh Jonte\",\"Edward R. Apodaca\",\"Paul Kahil\",\"Mike Morales\",\"Michael James Faradie\",\"Leo Marcil\",\"Leah Holmes\",\"Brandon Linville\",\"Christina Beaumont\",\"Stephen Mapel\",\"Jessica Adler\",\"Mayra-Alejandra Garcia\",\"Katie Pruitt\",\"Paola Magrans\",\"Celine Eva Gimpirea\",\"Roxanne Gross\",\"Daren Metropoulos\",\"Megan Morris\",\"Brett Elliott\",\"Andrew Williams\",\"Donnell Wiley\",\"Jose Reyes\",\"Debbie Chung\",\"Ericka Poniewaz\",\"Rob Alonzo\",\"Sierra Schotts\",\"Bill Harrison\"]],[\"index\",[0,1,2,3,4,5,6,7,8,9,10,11,12,13,14,15,16,17,18,19,20,21,22,23,24,25,26,27,28,29,30,31,32,33,34,35,36,37,38,39,40,41,42,43,44,45,46,47,48,49,50,51,52,53,54,55,56,57,58,59,60,61,62,63,64,65,66,67,68,69,70,71,72,73,74,75,76,77,78,79,80,81,82,83,84,85,86,87,88,89,90,91,92,93,94,95,96,97,98,99,100,101,102,103,104,105,106,107,108,109,110,111,112,113,114,115,116,117,118,119,120,121,122,123,124,125,126,127,128,129,130,131,132,133,134,135,136,137,138,139,140,141,142,143,144,145,146,147,148,149,150,151,152,153,154,155,156,157,158,159,160,161,162,163,164,165,166,167,168,169,170,171,172,173,174,175,176,177,178,179,180,181,182,183,184,185,186,187,188,189,190,191,192,193,194,195,196,197,198,199,200,201,202,203,204,205,206,207,208,209,210,211,212,213,214,215,216,217,218,219,220,221,222,223,224,225,226,227,228,229,230,231,232,233,234,235,236,237,238,239,240,241,242,243,244,245,246,247,248,249,250,251,252,253,254,255,256,257,258,259,260,261,262,263,264,265,266,267,268,269,270,271,272,273,274,275,276,277,278,279,280,281,282,283,284,285,286,287,288,289,290,291,292,293,294,295,296,297,298,299,300,301,302,303,304,305,306,307,308,309,310,311,312,313,314,315,316,317,318,319,320,321,322,323,324,325,326,327,328,329,330,331,332,333,334,335,336,337,338,339,340,341,342,343,344,345,346,347,348,349,350,351,352,353,354,355,356,357,358,359,360,361,362,363,364,365,366,367,368,369,370,371,372,373,374,375,376,377,378,379,380,381,382,383,384,385,386,387,388,389,390,391,392,393,394,395,396,397,398,399,400,401,402,403,404,405,406,407,408,409,410,411,412,413,414,415,416,417,418,419,420,421,422,423,424,425,426,427,428,429,430,431,432,433,434,435,436,437,438,439,440,441,442,443,444,445,446,447,448,449,450,451,452,453,454,455,456,457,458,459,460,461,462,463,464,465,466,467,468,469,470,471,472,473,474,475,476,477,478,479,480,481,482,483,484,485,486,487,488,489,490,491,492,493,494,495,496,497,498,499,500,501,502,503,504,505,506,507,508,509,510,511,512,513,514,515,516,517,518,519,520,521,522,523,524,525,526,527,528,529,530,531,532,533,534,535,536,537,538,539,540,541,542,543,544,545,546,547,548,549,550,551,552,553,554,555,556,557,558,559,560,561,562,563,564,565,566,567,568,569,570,571,572,573,574,575,576,577,578,579,580,581,582,583,584,585,586,587,588,589,590,591,592,593,594,595,596,597,598,599,600,601,602,603,604,605,606,607,608,609,610,611,612,613,614,615,616,617,618,619,620,621,622,623,624,625,626,627,628,629,630,631,632,633,634,635,636,637,638,639,640,641,642,643,644,645,646,647,648,649,650,651,652,653,654,655,656,657,658,659,660,661,662,663,664,665,666,667,668,669,670,671,672,673,674,675,676,677,678,679,680,681,682,683,684,685,686,687,688,689,690,691,692,693,694,695,696,697,698,699,700,701,702,703,704,705,706,707,708,709,710,711,712,713,714,715,716,717,718,719,720,721,722,723,724,725,726,727,728,729,730,731,732,733,734,735,736,737,738,739,740,741,742,743,744,745,746,747,748,749,750,751,752,753,754,755,756,757,758,759,760,761,762,763,764,765,766,767,768,769,770,771,772,773,774,775,776,777,778,779,780,781,782,783,784,785,786,787,788,789,790,791,792,793,794,795,796,797,798,799,800,801,802,803,804,805,806,807,808,809,810,811,812,813,814,815,816,817,818,819,820,821,822,823,824,825,826,827,828,829,830,831,832,833,834,835,836,837,838,839,840,841,842,843,844,845,846,847,848,849,850,851,852,853,854,855,856,857,858,859,860,861,862,863,864,865,866,867,868,869,870,871,872,873,874,875,876,877,878,879,880,881,882,883,884,885,886,887,888,889,890,891,892,893,894,895,896,897,898,899,900,901,902,903,904,905,906,907,908,909,910,911,912,913,914,915,916,917,918,919,920,921,922,923,924,925,926,927,928,929,930,931,932,933,934,935,936,937,938,939,940,941,942,943,944,945,946,947,948,949,950,951,952,953,954,955,956,957,958,959,960,961,962,963,964,965,966,967,968,969,970,971,972,973,974,975,976,977,978,979,980,981,982,983,984,985,986,987,988,989,990,991,992,993,994,995,996,997,998,999,1000,1001,1002,1003,1004,1005,1006,1007,1008,1009,1010,1011,1012,1013,1014,1015,1016,1017,1018,1019,1020,1021,1022,1023,1024,1025,1026,1027,1028,1029,1030,1031,1032,1033,1034,1035,1036,1037,1038,1039,1040,1041,1042,1043,1044,1045,1046,1047,1048,1049,1050,1051,1052,1053,1054,1055,1056,1057,1058,1059,1060,1061,1062,1063,1064,1065,1066,1067,1068,1069,1070,1071,1072,1073,1074,1075,1076,1077,1078,1079,1080,1081,1082,1083,1084,1085,1086,1087,1088,1089,1090,1091,1092,1093,1094,1095,1096,1097,1098,1099,1100,1101,1102,1103,1104,1105,1106,1107,1108,1109,1110,1111,1112,1113,1114,1115,1116,1117,1118,1119,1120,1121,1122,1123]]]}}},\"view\":{\"type\":\"object\",\"name\":\"CDSView\",\"id\":\"p1818\",\"attributes\":{\"filter\":{\"type\":\"object\",\"name\":\"AllIndices\",\"id\":\"p1819\"}}},\"glyph\":{\"type\":\"object\",\"name\":\"Circle\",\"id\":\"p1844\",\"attributes\":{\"size\":{\"type\":\"field\",\"field\":\"adjusted_size\"},\"fill_color\":{\"type\":\"field\",\"field\":\"color\"}}}}},\"edge_renderer\":{\"type\":\"object\",\"name\":\"GlyphRenderer\",\"id\":\"p1825\",\"attributes\":{\"data_source\":{\"type\":\"object\",\"name\":\"ColumnDataSource\",\"id\":\"p1822\",\"attributes\":{\"selected\":{\"type\":\"object\",\"name\":\"Selection\",\"id\":\"p1823\",\"attributes\":{\"indices\":[],\"line_indices\":[]}},\"selection_policy\":{\"type\":\"object\",\"name\":\"UnionRenderers\",\"id\":\"p1824\"},\"data\":{\"type\":\"map\",\"entries\":[[\"job\",[\"Writer\",\"Story\",\"Writer\",\"Executive Music Producer\",\"Writer\",\"Writer\",\"Writer\",\"Writer\",\"Writer\",\"Writer\",\"Writer\",\"Producer\",\"Production Manager\",\"Editor\",\"Co-Producer\",\"Grip\",\"Production Design\",\"Creator\",\"Casting\",\"Director of Photography\",\"Music Supervisor\",\"Set Decoration\",\"Costume Design\",\"Assistant Accountant\",\"Executive Producer\",\"Sound Re-Recording Mixer\",\"Executive Producer\",\"Stunt Coordinator\",\"Costume Supervisor\",\"Script Supervisor\",\"Executive Producer\",\"Steadicam Operator\",\"Makeup Artist\",\"First Assistant Camera\",\"Supervising Sound Editor\",\"First Assistant Editor\",\"Special Effects\",\"Special Effects\",\"Special Effects Coordinator\",\"Dolby Consultant\",\"Casting Associate\",\"Transportation Coordinator\",\"Leadman\",\"Sound Editor\",\"Supervising Sound Editor\",\"Swing\",\"Property Master\",\"Sound Editor\",\"Stunts\",\"First Assistant Director\",\"Craft Service\",\"Set Costumer\",\"Security\",\"Post Production Assistant\",\"Sound Editor\",\"Production Sound Mixer\",\"Foley Artist\",\"Second Assistant Director\",\"Production Coordinator\",\"Location Scout\",\"Key Grip\",\"Hair Designer\",\"Hairstylist\",\"Dialect Coach\",\"Driver\",\"Legal Services\",\"Public Relations\",\"Set Medic\",\"Transportation Captain\",\"Unit Publicist\",\"Color Timer\",\"Best Boy Electric\",\"Electrician\",\"Gaffer\",\"Location Manager\",\"Production Accountant\",\"Boom Operator\",\"Assistant Sound Editor\",\"Foley Mixer\",\"Thanks\",\"Best Boy Grip\",\"Second Second Assistant Director\",\"Assistant Music Supervisor\",\"Dolly Grip\",\"Second Assistant Camera\",\"Negative Cutter\",\"Assistant Location Manager\",\"Extras Casting\",\"Generator Operator\",\"Key Special Effects\",\"Production Assistant\",\"Producer\",\"Producer\",\"Executive Music Producer\",\"Producer\",\"Producer\",\"Producer\",\"Production Manager\",\"Co-Producer\",\"Co-Producer\",\"Editor\",\"Editor\",\"Editor\",\"Editor\",\"Editor\",\"Editor\",\"Editor\",\"Production Design\",\"Production Design\",\"Production Design\",\"Production Design\",\"Production Design\",\"Story\",\"Casting\",\"Director of Photography\",\"Director of Photography\",\"Music Supervisor\",\"Music Supervisor\",\"Set Decoration\",\"Set Decoration\",\"Set Decoration\",\"Set Decoration\",\"Set Decoration\",\"Costume Design\",\"Co-Executive Producer\",\"Executive Producer\",\"Producer\",\"Stunt Coordinator\",\"Utility Stunts\",\"Assistant Costume Designer\",\"Costume Design\",\"Costume Design\",\"Script Supervisor\",\"Script Supervisor\",\"Script Supervisor\",\"Script Supervisor\",\"Script Supervisor\",\"Script Supervisor\",\"Script Supervisor\",\"Makeup Artist\",\"First Assistant Camera\",\"First Assistant Camera\",\"First Assistant Camera\",\"Supervising Sound Editor\",\"Supervising Sound Editor\",\"Special Effects Coordinator\",\"Leadman\",\"Leadman\",\"Property Master\",\"Costume Supervisor\",\"Costume Supervisor\",\"Sound Editor\",\"Second Assistant Director\",\"Hair Designer\",\"Post Production Supervisor\",\"Thanks\",\"Executive Producer\",\"Co-Executive Producer\",\"Co-Executive Producer\",\"First Assistant Editor\",\"Thanks\",\"Executive Producer\",\"Executive Producer\",\"Sound Editor\",\"Production Sound Mixer\",\"Casting Associate\",\"Casting\",\"Art Direction\",\"Thanks\",\"Foley Mixer\",\"Editorial Staff\",\"Casting\",\"Thanks\",\"Set Designer\",\"Thanks\",\"Thanks\",\"Thanks\",\"Art Department Coordinator\",\"Thanks\",\"Thanks\",\"ADR Voice Casting\",\"Leadman\",\"Stunt Double\",\"Gaffer\",\"Stand In\",\"Makeup Effects\",\"Thanks\",\"Construction Foreman\",\"Set Costumer\",\"Transportation Coordinator\",\"Construction Coordinator\",\"Steadicam Operator\",\"Key Hair Stylist\",\"Camera Operator\",\"Assistant Location Manager\",\"Foley Artist\",\"Unit Publicist\",\"Hairstylist\",\"Thanks\",\"Assistant Sound Editor\",\"Assistant Editor\",\"Special Effects Assistant\",\"Music Supervisor\",\"Thanks\",\"Assistant Music Supervisor\",\"Location Scout\",\"Music Coordinator\",\"Assistant Art Director\",\"Wigmaker\",\"Music Editor\",\"Color Timer\",\"Electrician\",\"Sound Recordist\",\"Location Assistant\",\"Boom Operator\",\"Rigging Gaffer\",\"Production Coordinator\",\"Supervising ADR Editor\",\"Lead Painter\",\"Craft Service\",\"Post Production Assistant\",\"Painter\",\"Key Grip\",\"Grip\",\"Set Dressing Artist\",\"Carpenter\",\"Driver\",\"Camera Loader\",\"Security\",\"First Assistant Director\",\"Best Boy Electric\",\"Key Rigging Grip\",\"Assistant Music Supervisor\",\"Stand In\",\"ADR Mixer\",\"Assistant Accountant\",\"Graphic Designer\",\"Production Secretary\",\"Second Assistant Camera\",\"Costumer\",\"Second Second Assistant Director\",\"Assistant Decorator\",\"Assistant Property Master\",\"Swing\",\"Best Boy Grip\",\"Dolly Grip\",\"Post Production Coordinator\",\"Music Consultant\",\"Assistant Craft Service\",\"Assistant Production Coordinator\",\"Charge Scenic Artist\",\"Special Effects Assistant\",\"Co-Producer\",\"Post Production Supervisor\",\"Executive Producer\",\"Executive Producer\",\"Executive Producer\",\"Executive Producer\",\"Executive Producer\",\"Executive Producer\",\"Executive Producer\",\"Executive Producer\",\"Executive Producer\",\"Executive Producer\",\"Executive Producer\",\"Executive Producer\",\"Executive Producer\",\"Executive Producer\",\"Associate Editor\",\"Executive Producer\",\"Producer\",\"Producer\",\"Sound Editor\",\"Extras Casting\",\"Art Direction\",\"Art Direction\",\"Art Direction\",\"ADR Voice Casting\",\"ADR Voice Casting\",\"ADR Voice Casting\",\"Special Effects Coordinator\",\"Construction Foreman\",\"Transportation Coordinator\",\"Transportation Coordinator\",\"Transportation Coordinator\",\"Construction Coordinator\",\"Foley Editor\",\"Music Consultant\",\"Music Supervisor\",\"Music Supervisor\",\"Music Supervisor\",\"Music Supervisor\",\"Music Supervisor\",\"Music Supervisor\",\"Color Timer\",\"Foley Mixer\",\"Supervising ADR Editor\",\"Lead Painter\",\"Craft Service\",\"Set Production Assistant\",\"Swing\",\"Music Coordinator\",\"Graphic Designer\",\"Graphic Designer\",\"Assistant Camera\",\"Writer\",\"Writer\",\"Writer\",\"Original Music Composer\",\"Production Design\",\"Sound Designer\",\"Co-Producer\",\"Casting\",\"Art Direction\",\"Set Decoration\",\"Director of Photography\",\"Music Producer\",\"Editor\",\"Director of Photography\",\"Casting Associate\",\"Title Designer\",\"Steadicam Operator\",\"Costume Design\",\"First Assistant Editor\",\"Production Supervisor\",\"First Assistant Director\",\"Director of Photography\",\"Sound Editor\",\"Creative Consultant\",\"Key Hair Stylist\",\"Intern\",\"Editor\",\"Assistant Makeup Artist\",\"First Assistant Director\",\"Script Supervisor\",\"First Assistant Sound Editor\",\"Location Manager\",\"Post Production Coordinator\",\"ADR Editor\",\"Supervising ADR Editor\",\"Production Sound Mixer\",\"Sound Effects Editor\",\"Dolby Consultant\",\"Music Editor\",\"Transportation Coordinator\",\"Supervising Sound Editor\",\"Location Assistant\",\"Property Master\",\"Special Sound Effects\",\"Art Department Coordinator\",\"Best Boy Electric\",\"Special Effects Coordinator\",\"Unit Publicist\",\"Costumer\",\"Second Assistant Director\",\"Driver\",\"Boom Operator\",\"Key Grip\",\"Hairstylist\",\"Second Assistant Camera\",\"Carpenter\",\"Painter\",\"Standby Painter\",\"Grip\",\"Costume Supervisor\",\"Makeup Artist\",\"Choreographer\",\"Security\",\"Set Medic\",\"Stand In\",\"Transportation Captain\",\"First Assistant Editor\",\"Electrician\",\"Gaffer\",\"Production Accountant\",\"Foley Mixer\",\"Studio Teachers\",\"Negative Cutter\",\"ADR Mixer\",\"Graphic Designer\",\"Assistant Decorator\",\"Assistant Property Master\",\"Second Assistant Sound\",\"Special Effects Assistant\",\"Best Boy Grip\",\"Dolly Grip\",\"Assistant Editor\",\"Assistant Accountant\",\"Assistant Production Coordinator\",\"Thanks\",\"Original Music Composer\",\"Producer\",\"Thanks\",\"Director of Photography\",\"Production Manager\",\"Key Makeup Artist\",\"Location Manager\",\"Production Coordinator\",\"Location Scout\",\"First Assistant Director\",\"Key Grip\",\"Special Effects Assistant\",\"Grip\",\"Dolly Grip\",\"Novel\",\"Casting\",\"Casting\",\"Makeup Artist\",\"Driver\",\"Hairstylist\",\"Property Master\",\"Graphic Designer\",\"Hairstylist\",\"Key Hair Stylist\",\"Set Production Assistant\",\"Hairstylist\",\"Makeup Artist\",\"Art Department Coordinator\",\"Foley Artist\",\"ADR Recordist\",\"Production Intern\",\"Sound Editor\",\"Second Second Assistant Director\",\"ADR Editor\",\"Sound Editor\",\"Extras Casting\",\"Grip\",\"Second Assistant Accountant\",\"Stand In\",\"Sound Editor\",\"Stunt Coordinator\",\"Music Editor\",\"Special Sound Effects\",\"Sound Editor\",\"Sound Effects\",\"Driver\",\"Sound Editor\",\"Assistant Location Manager\",\"Stunt Coordinator\",\"Foley Recordist\",\"Sound Re-Recording Mixer\",\"Foley Recordist\",\"Additional Sound Re-Recording Mixer\",\"Sound Re-Recording Mixer\",\"Sound Editor\",\"Assistant Property Master\",\"Assistant Production Coordinator\",\"Sound Editor\",\"Sound Editor\",\"Wig Designer\",\"Set Designer\",\"Steadicam Operator\",\"Additional Sound Re-Recording Mixer\",\"Assistant Makeup Artist\",\"First Assistant Sound Editor\",\"Still Photographer\",\"Sound Recordist\",\"Music Consultant\",\"Production Sound Mixer\",\"Assistant Set Decoration\",\"Assistant Editor\",\"Head Carpenter\",\"ADR Editor\",\"Music Coordinator\",\"Boom Operator\",\"Camera Intern\",\"Stand In\",\"First Assistant Director\",\"Driver\",\"Driver\",\"Gaffer\",\"Driver\",\"Electrician\",\"Stand In\",\"Sound Effects\",\"Production Accountant\",\"Set Dresser\",\"Best Boy Grip\",\"First Assistant Editor\",\"Negative Cutter\",\"Color Timer\",\"Grip\",\"Location Assistant\",\"Costume Supervisor\",\"Script Coordinator\",\"Electrician\",\"Transportation Captain\",\"Utility Sound\",\"Sound\",\"Grip\",\"Best Boy Electric\",\"Construction Foreman\",\"Swing\",\"Production Secretary\",\"ADR Mixer\",\"\\\"B\\\" Camera Operator\",\"Electrician\",\"Lighting Technician\",\"Post Production Accountant\",\"Second Assistant Camera\",\"Driver\",\"Driver\",\"Driver\",\"Sound\",\"Production Assistant\",\"Additional Director of Photography\",\"Stunts\",\"Key Rigging Grip\",\"Animation\",\"Property Buyer\",\"Post Production Coordinator\",\"Stand In\",\"Production Assistant\",\"Stand In\",\"Foley Artist\",\"Second Assistant Director\",\"Assistant Hairstylist\",\"Set Dresser\",\"Set Dresser\",\"Graphic Designer\",\"On Set Dresser\",\"Graphic Designer\",\"Construction Coordinator\",\"Set Dresser\",\"Props\",\"Sound Recordist\",\"Sound Effects\",\"Loader\",\"Loader\",\"Electrician\",\"Second Assistant Camera\",\"Rigging Grip\",\"Casting Assistant\",\"Wardrobe Assistant\",\"Set Costumer\",\"Assistant Editor\",\"Assistant Editor\",\"Legal Services\",\"Legal Services\",\"Music Coordinator\",\"Driver\",\"Driver\",\"Driver\",\"Driver\",\"Camera Car\",\"Driver\",\"Driver\",\"Driver\",\"Driver\",\"Driver\",\"Driver\",\"Production Assistant\",\"Assistant Craft Service\",\"Unit Publicist\",\"Stand In\",\"Key Set Production Assistant\",\"Production Assistant\",\"Production Assistant\",\"Stand In\",\"Production Assistant\",\"Production Intern\",\"Craft Service\",\"Production Intern\",\"Set Production Assistant\",\"Set Production Assistant\",\"Production Assistant\",\"Legal Services\",\"Legal Services\",\"Legal Services\",\"Hairstylist\",\"Hairstylist\",\"Property Master\",\"Property Master\",\"Production Design\",\"Associate Producer\",\"Producer\",\"Location Manager\",\"Location Manager\",\"Sound Re-Recording Mixer\",\"Sound Re-Recording Mixer\",\"Sound Re-Recording Mixer\",\"Sound Re-Recording Mixer\",\"Sound Re-Recording Mixer\",\"Sound Re-Recording Mixer\",\"Sound Re-Recording Mixer\",\"Art Direction\",\"Wigmaker\",\"Wigmaker\",\"Steadicam Operator\",\"Music Supervisor\",\"Production Sound Mixer\",\"Production Sound Mixer\",\"Production Sound Mixer\",\"Production Sound Mixer\",\"Production Sound Mixer\",\"Production Sound Mixer\",\"Production Sound Mixer\",\"Assistant Editor\",\"First Assistant Editor\",\"Set Production Assistant\",\"Clapper Loader\",\"Assistant Director\",\"Assistant Director\",\"Associate Producer\",\"Associate Producer\",\"Associate Producer\",\"First Assistant Director\",\"Picture Car Coordinator\",\"Picture Car Coordinator\",\"Transportation Co-Captain\",\"Transportation Co-Captain\",\"Set Dresser\",\"Graphic Designer\",\"Characters\",\"Director of Photography\",\"Casting Associate\",\"Associate Producer\",\"Casting\",\"Sound Designer\",\"Stunt Double\",\"Supervising Sound Editor\",\"Production Design\",\"Special Effects Makeup Artist\",\"Original Music Composer\",\"Sound Editor\",\"Key Makeup Artist\",\"Executive Producer\",\"Sound Effects Editor\",\"Set Decoration\",\"Special Effects Coordinator\",\"Visual Effects Supervisor\",\"Executive Producer\",\"Thanks\",\"Costume Design\",\"Associate Producer\",\"Executive Producer\",\"Animation\",\"Special Effects Makeup Artist\",\"First Assistant Editor\",\"Stunt Double\",\"Stunts\",\"Hairstylist\",\"Special Effects Makeup Artist\",\"Second Assistant Camera\",\"Art Direction\",\"Animation Director\",\"Second Unit Director\",\"Character Designer\",\"Producer\",\"Foley Mixer\",\"Foley Artist\",\"First Assistant Sound Editor\",\"Foley Artist\",\"Art Direction\",\"Set Designer\",\"Special Effects Makeup Artist\",\"First Assistant Director\",\"Gaffer\",\"Steadicam Operator\",\"Post Production Coordinator\",\"Casting Assistant\",\"Set Designer\",\"Assistant Editor\",\"Special Effects Makeup Artist\",\"Makeup Effects Designer\",\"Video Assist Operator\",\"Stunt Double\",\"Animation\",\"Production Manager\",\"Costume Design\",\"Costume Supervisor\",\"Boom Operator\",\"Dialogue Editor\",\"Dialogue Editor\",\"Supervising Sound Editor\",\"Still Photographer\",\"Set Costumer\",\"Art Direction\",\"Art Direction\",\"Makeup Department Head\",\"Set Designer\",\"Art Department Coordinator\",\"Dialogue Editor\",\"Sound Designer\",\"Special Effects Coordinator\",\"Visual Effects Supervisor\",\"Stunt Coordinator\",\"Costume Supervisor\",\"Music Editor\",\"Location Manager\",\"Executive Assistant\",\"ADR Supervisor\",\"ADR Mixer\",\"Rigging Gaffer\",\"Unit Publicist\",\"Assistant Property Master\",\"Stunts\",\"Art Department Assistant\",\"Sound Mix Technician\",\"Animation\",\"Animation\",\"Animation\",\"Animation\",\"Animation Manager\",\"Animation\",\"Animation\",\"Animation\",\"Associate Producer\",\"Grip\",\"Key Hair Stylist\",\"Assistant Production Coordinator\",\"Special Effects Makeup Artist\",\"Sound Engineer\",\"Greensman\",\"Construction Coordinator\",\"Carpenter\",\"Construction Foreman\",\"Camera Production Assistant\",\"Unit Production Manager\",\"Armorer\",\"Painter\",\"Set Production Assistant\",\"Stunt Double\",\"Costume Design\",\"Costume Design\",\"Assistant Art Director\",\"Lead Painter\",\"Location Scout\",\"Production Illustrator\",\"Standby Painter\",\"First Assistant Camera\",\"Key Grip\",\"Set Dresser\",\"Additional Music\",\"Craft Service\",\"Driver\",\"Post Production Assistant\",\"Post Production Supervisor\",\"Propmaker\",\"Scenic Artist\",\"Set Medic\",\"Stand In\",\"Stunts\",\"Unit Production Manager\",\"Digital Intermediate\",\"Best Boy Grip\",\"Electrician\",\"Lighting Technician\",\"Rigging Grip\",\"Production Accountant\",\"Production Coordinator\",\"Assistant Sound Editor\",\"Digital Compositors\",\"Special Effects Supervisor\",\"Sound\",\"Camera Loader\",\"Stunts\",\"ADR Recordist\",\"Assistant Location Manager\",\"Stunt Double\",\"Stunt Driver\",\"Foley Editor\",\"Production Secretary\",\"Extras Casting\",\"Utility Sound\",\"Dolly Grip\",\"Fight Choreographer\",\"First Assistant Director\",\"Second Assistant Director\",\"Third Assistant Director\",\"Negative Cutter\",\"Assistant Production Manager\",\"Second Second Assistant Director\",\"Digital Intermediate Producer\",\"Travel Coordinator\",\"Stunt Double\",\"Stunts\",\"Stunts\",\"Stunt Driver\",\"Production Assistant\",\"Visual Effects Production Manager\",\"First Assistant Accountant\",\"Payroll Accountant\",\"Costumer\",\"Additional Second Assistant Director\",\"Art Department Assistant\",\"Assistant Set Designer\",\"Construction Buyer\",\"Creative Director\",\"Swing\",\"Special Effects Technician\",\"Assistant Camera\",\"Wardrobe Assistant\",\"Music Coordinator\",\"Accountant\",\"Assistant Accountant\",\"Assistant Craft Service\",\"Key Production Assistant\",\"Second Assistant Accountant\",\"Technical Advisor\",\"Stunt Double\",\"Characters\",\"Director of Photography\",\"Director of Photography\",\"Director of Photography\",\"Director of Photography\",\"Director of Photography\",\"Associate Producer\",\"Casting\",\"Casting\",\"Supervising Sound Editor\",\"Sound Effects Designer\",\"Sound Designer\",\"Sound Designer\",\"Sound Effects Designer\",\"Stunt Double\",\"Stunts\",\"Stunt Double\",\"Stunt Coordinator\",\"Supervising Sound Editor\",\"Production Design\",\"Production Design\",\"Additional Music\",\"Thanks\",\"Sound Editor\",\"Sound Designer\",\"Sound Effects Editor\",\"Special Effects Coordinator\",\"Visual Effects Supervisor\",\"Executive Producer\",\"Producer\",\"Executive Producer\",\"Costume Design\",\"Executive Producer\",\"Makeup Effects Designer\",\"Makeup Effects\",\"Makeup Effects\",\"Makeup Effects Designer\",\"First Assistant Editor\",\"Makeup Effects Designer\",\"Makeup Effects\",\"Second Assistant Camera\",\"Foley Mixer\",\"Foley Mixer\",\"Foley Artist\",\"Foley Artist\",\"Sound Effects Editor\",\"Foley Artist\",\"Foley Artist\",\"Production Design\",\"Gaffer\",\"Gaffer\",\"Gaffer\",\"Steadicam Operator\",\"Steadicam Operator\",\"Post Production Coordinator\",\"Set Designer\",\"First Assistant Editor\",\"Makeup Effects\",\"Makeup Effects\",\"Makeup Effects\",\"Video Assist Operator\",\"Costume Design\",\"Boom Operator\",\"Boom Operator\",\"Boom Operator\",\"Dialogue Editor\",\"Dialogue Editor\",\"Dialogue Editor\",\"Dialogue Editor\",\"Dialogue Editor\",\"Supervising Sound Editor\",\"Supervising Sound Editor\",\"Supervising Sound Editor\",\"Supervising Sound Editor\",\"Supervising Sound Editor\",\"Supervising Sound Editor\",\"Still Photographer\",\"Still Photographer\",\"Still Photographer\",\"Still Photographer\",\"Still Photographer\",\"Set Costumer\",\"Makeup Department Head\",\"Makeup Department Head\",\"Makeup Department Head\",\"Makeup Department Head\",\"Makeup Department Head\",\"Set Designer\",\"Art Department Coordinator\",\"Special Effects Coordinator\",\"Stunt Coordinator\",\"Costume Supervisor\",\"Music Editor\",\"Executive Assistant\",\"ADR Supervisor\",\"ADR Mixer\",\"Visual Effects Supervisor\",\"Rigging Gaffer\",\"Rigging Gaffer\",\"Unit Publicist\",\"Unit Publicist\",\"Unit Publicist\",\"Unit Publicist\",\"Assistant Property Master\",\"Property Master\",\"Sound Mix Technician\",\"Sound Mix Technician\",\"Associate Producer\",\"Grip\",\"Grip\",\"Driver\",\"Key Hair Stylist\",\"Key Hair Stylist\",\"Assistant Production Coordinator\",\"Sound Engineer\",\"Greensman\",\"Construction Coordinator\",\"Carpenter\",\"Construction Foreman\",\"Camera Production Assistant\",\"Production Manager\",\"Armorer\",\"Lead Painter\",\"Standby Painter\",\"First Assistant Camera\",\"Key Grip\",\"Set Dresser\",\"Craft Service\",\"Driver\",\"Sound\",\"Post Production Supervisor\",\"Propmaker\",\"Scenic Artist\",\"Set Medic\",\"Unit Production Manager\",\"Best Boy Grip\",\"Lighting Technician\",\"Production Coordinator\",\"Assistant Sound Editor\",\"Special Effects Supervisor\",\"Camera Loader\",\"Utility Stunts\",\"Foley Editor\",\"Production Secretary\",\"Extras Casting\",\"Dolly Grip\",\"Fight Choreographer\",\"Negative Cutter\",\"Second Second Assistant Director\",\"Digital Intermediate Producer\",\"Travel Coordinator\",\"Visual Effects Production Manager\",\"First Assistant Accountant\",\"Payroll Accountant\",\"Construction Buyer\",\"Creative Director\",\"Swing\",\"Special Effects Technician\",\"Wardrobe Assistant\",\"Music Coordinator\",\"Assistant Accountant\",\"Assistant Craft Service\",\"Second Assistant Accountant\",\"Fight Choreographer\",\"Production Supervisor\",\"Assistant Editor\",\"Assistant Art Director\",\"Music Producer\",\"Sound Designer\",\"Color Timer\",\"Sculptor\",\"Digital Intermediate Editor\",\"Sound Effects Editor\",\"Wigmaker\",\"Assistant Location Manager\",\"Hair Designer\",\"Makeup Artist\",\"Extras Casting Assistant\",\"Costumer\",\"Conductor\",\"Transportation Captain\",\"Line Producer\",\"Painter\",\"Production Illustrator\",\"Production Controller\",\"Security Coordinator\",\"Stand In\",\"Systems Administrators & Support\",\"Electrician\",\"Rigging Grip\",\"Casting Associate\",\"Scoring Mixer\",\"Digital Compositors\",\"Unit Manager\",\"Musician\",\"Grip\",\"Ager/Dyer\",\"Second Assistant Director\",\"Storyboard Artist\",\"Special Effects Assistant\",\"Extras Casting Coordinator\",\"Generator Operator\",\"Assistant Makeup Artist\",\"Art Department Assistant\",\"Stunt Driver\",\"Location Assistant\",\"Production Assistant\",\"Production Driver\",\"Assistant Editor\",\"Sound Effects Editor\",\"Sound Effects Editor\",\"Makeup Department Head\",\"Makeup Artist\",\"Producer\",\"Extras Casting\",\"Casting\",\"Additional Editor\",\"Sound Effects Editor\",\"Costume Design\",\"Stunt Coordinator\",\"Visual Effects\",\"Set Decoration\",\"Sound Re-Recording Mixer\",\"Hairstylist\",\"ADR Recordist\",\"Executive Producer\",\"Stunt Double\",\"Camera Operator\",\"Casting Associate\",\"Leadman\",\"Production Supervisor\",\"Special Effects Coordinator\",\"Stunts\",\"Electrician\",\"Makeup Artist\",\"Costume Supervisor\",\"Electrician\",\"Dialogue Editor\",\"Key Rigging Grip\",\"Music Editor\",\"Set Designer\",\"Sound Effects Designer\",\"Set Decoration Buyer\",\"Set Dresser\",\"First Assistant \\\"B\\\" Camera\",\"Script Supervisor\",\"Sound Mix Technician\",\"Construction Coordinator\",\"Sound Effects Editor\",\"Greensman\",\"Sound Effects Editor\",\"Hair Department Head\",\"Key Makeup Artist\",\"Art Department Coordinator\",\"Construction Coordinator\",\"Scenic Artist\",\"Scenic Artist\",\"ADR Supervisor\",\"CG Supervisor\",\"Visual Effects Producer\",\"Visual Effects Supervisor\",\"Camera Operator\",\"Gaffer\",\"Set Costumer\",\"Set Costumer\",\"Key Set Costumer\",\"Set Costumer\",\"First Assistant Editor\",\"Transportation Coordinator\",\"VFX Artist\",\"Key Set Production Assistant\",\"Stunts\",\"Visual Effects Producer\",\"Costumer\",\"Special Effects Technician\",\"Production Coordinator\",\"Color Timer\",\"Stunts\",\"Systems Administrators & Support\",\"Assistant Production Coordinator\",\"Rigging Gaffer\",\"Location Manager\",\"Best Boy Electric\",\"Production Accountant\",\"Camera Production Assistant\",\"Location Manager\",\"Assistant Editor\",\"Utility Sound\",\"Negative Cutter\",\"Best Boy Grip\",\"Key Grip\",\"Grip\",\"Stunt Double\",\"Stunt Double\",\"Construction Foreman\",\"Construction Foreman\",\"Dolly Grip\",\"Assistant Editor\",\"Rigging Grip\",\"Key Grip\",\"Graphic Designer\",\"First Assistant \\\"A\\\" Camera\",\"Assistant Editor\",\"Electrician\",\"Grip\",\"Key Rigging Grip\",\"Special Effects Technician\",\"Assistant Production Coordinator\",\"Special Effects Technician\",\"Special Effects Technician\",\"First Assistant Accountant\",\"First Assistant Accountant\",\"Production Accountant\",\"Editorial Production Assistant\",\"Second Assistant \\\"A\\\" Camera\",\"Second Second Assistant Director\",\"Painter\",\"Best Boy Grip\",\"Second Assistant \\\"B\\\" Camera\",\"Dolly Grip\",\"Assistant Chief Lighting Technician\",\"Assistant Production Coordinator\",\"Art Department Assistant\",\"Propmaker\",\"Electrician\",\"Electrician\",\"Electrician\",\"Second Assistant Director\",\"Production Assistant\",\"Special Effects Technician\",\"Assistant Property Master\",\"Construction Buyer\",\"Painter\",\"Propmaker\",\"Propmaker\",\"Propmaker\",\"Propmaker\",\"Propmaker\",\"Propmaker\",\"Propmaker\",\"Assistant Camera\",\"Electrician\",\"Costumer\",\"Editorial Production Assistant\",\"Location Manager\",\"Special Effects Technician\",\"Special Effects Technician\",\"Visual Effects Coordinator\",\"Production Assistant\",\"Production Assistant\",\"Production Assistant\",\"Production Assistant\",\"Additional Editor\",\"Stunt Coordinator\",\"Stunt Coordinator\",\"Stunt Coordinator\",\"Executive Producer\",\"Producer\",\"Producer\",\"Costume Supervisor\",\"Music Editor\",\"Sound Designer\",\"ADR Supervisor\",\"Stunts\",\"Executive Producer\",\"Thanks\",\"Thanks\",\"Casting\",\"Costume Design\",\"Thanks\",\"Co-Producer\",\"Co-Producer\",\"Art Direction\",\"Supervising Art Director\",\"Stunt Coordinator\",\"Stunts\",\"Stunt Double\",\"Art Direction\",\"Stunt Coordinator\",\"Sound Re-Recording Mixer\",\"Associate Producer\",\"Casting\",\"Visual Effects Designer\",\"Makeup Artist\",\"Thanks\",\"Assistant Director\",\"Costume Design\",\"Assistant Editor\",\"Utility Stunts\",\"Thanks\",\"Art Direction\",\"Casting\",\"First Assistant Editor\",\"ADR Supervisor\",\"Co-Producer\",\"Still Photographer\",\"Hairstylist\",\"Driver\",\"Steadicam Operator\",\"Additional Script Supervisor\",\"Loader\",\"Post Production Supervisor\",\"Location Manager\",\"Visual Effects Supervisor\",\"Unit Production Manager\",\"Post Production Coordinator\",\"Color Timer\",\"First Assistant \\\"A\\\" Camera\",\"First Assistant \\\"B\\\" Camera\",\"Unit Production Manager\",\"Second Assistant \\\"A\\\" Camera\",\"Assistant Editor\",\"Stunts\",\"Visual Effects Camera\",\"Post Production Supervisor\",\"Editorial Production Assistant\",\"Stunts\",\"Second Assistant \\\"B\\\" Camera\",\"Stunt Double\",\"Stunts\",\"Stunt Double\",\"Stunts\",\"Sound Re-Recording Mixer\",\"Visual Effects Designer\",\"Post Production Supervisor\",\"Post Production Supervisor\",\"Post Production Producer\",\"Digital Intermediate\",\"First Assistant \\\"A\\\" Camera\",\"First Assistant Camera\",\"First Assistant Camera\",\"Casting\",\"Unit Production Manager\",\"Thanks\",\"Thanks\",\"Thanks\",\"Production Design\",\"Set Decoration\",\"Dialect Coach\",\"Supervising Art Director\",\"Costume Design\",\"Thanks\",\"Art Direction\",\"Thanks\",\"Second Assistant Camera\",\"Editor\",\"Music\",\"Producer\",\"Visual Effects Editor\",\"Set Dresser\",\"Thanks\",\"Sound Effects Editor\",\"Art Direction\",\"Foley\",\"Makeup Effects\",\"Costume Supervisor\",\"Set Decoration Buyer\",\"Foley\",\"Dialogue Editor\",\"Location Manager\",\"Leadman\",\"Sculptor\",\"Studio Teachers\",\"Dialogue Editor\",\"Property Master\",\"Production Supervisor\",\"Music Editor\",\"Set Designer\",\"Hairstylist\",\"Set Dresser\",\"Production Supervisor\",\"Sound Effects Editor\",\"Transportation Coordinator\",\"Transportation Coordinator\",\"Makeup Artist\",\"Hairstylist\",\"Art Department Coordinator\",\"Assistant Art Director\",\"Construction Coordinator\",\"Sequence Supervisor\",\"Rigging Gaffer\",\"Location Manager\",\"Makeup Artist\",\"Production Accountant\",\"Stunts\",\"Second Assistant \\\"A\\\" Camera\",\"Set Designer\",\"Makeup Artist\",\"Second Assistant Director\",\"Set Dresser\",\"Set Dresser\",\"Assistant Costume Designer\",\"Set Dresser\",\"Set Dresser\",\"Set Dresser\",\"Casting\",\"Casting\",\"Dialect Coach\",\"Editor\",\"Editor\",\"Visual Effects Editor\",\"Foley\",\"Foley Supervisor\",\"Unit Production Manager\",\"Makeup Artist\",\"Hair Department Head\",\"On Set Dresser\",\"Original Music Composer\",\"Music Editor\",\"Executive Producer\",\"Art Direction\",\"Set Decoration\",\"Makeup Artist\",\"Set Costumer\",\"Visual Effects Coordinator\",\"Costume Design\",\"Art Direction\",\"Sound Effects Editor\",\"Sound Re-Recording Mixer\",\"Foley\",\"Visual Effects Supervisor\",\"Set Costumer\",\"Set Costumer\",\"Set Costumer\",\"Visual Effects Producer\",\"Visual Effects Editor\",\"Special Effects Supervisor\",\"Key Hair Stylist\",\"Set Costumer\",\"Construction Coordinator\",\"Wigmaker\",\"Special Effects Coordinator\",\"Armorer\",\"Dialogue Editor\",\"Visual Effects Editor\",\"Art Department Coordinator\",\"Visual Effects Supervisor\",\"Visual Effects Coordinator\",\"Visual Effects Producer\",\"Makeup Artist\",\"Art Department Assistant\",\"Art Department Assistant\",\"Special Effects Supervisor\",\"Assistant Art Director\",\"Visual Effects Coordinator\",\"Visual Effects Coordinator\",\"Digital Intermediate\",\"Production Supervisor\",\"Sculptor\",\"Digital Intermediate\",\"Associate Producer\",\"Sound Designer\",\"Unit Production Manager\",\"Supervising Art Director\",\"Makeup Department Head\",\"Sound Effects Designer\",\"Sound Re-Recording Mixer\",\"Foley Artist\",\"Thanks\",\"Art Direction\",\"Set Decoration\",\"Production Design\",\"Choreographer\",\"Stunts\",\"Producer\",\"Thanks\",\"Thanks\",\"Thanks\",\"Costume Designer\",\"Thanks\",\"Set Buyer\",\"Prosthetics\",\"Executive Producer\",\"Stunts\",\"Set Designer\",\"Stunts\",\"Location Manager\",\"Stunts\",\"Stunts\",\"Stunts\",\"Stunts\",\"Executive Producer\",\"First Assistant Editor\",\"Thanks\",\"Art Direction\",\"Thanks\",\"Set Designer\",\"Stunts\",\"Rigging Grip\",\"Art Direction\",\"Key Costumer\",\"Makeup Artist\",\"Costume Supervisor\",\"Set Designer\",\"Set Designer\",\"Utility Sound\",\"Unit Production Manager\",\"Art Department Coordinator\",\"Set Costumer\",\"Assistant Set Decoration\",\"Underwater Camera\",\"Digital Intermediate Editor\",\"Assistant Property Master\",\"Set Designer\",\"Steadicam Operator\",\"Stand In\",\"Hair Department Head\",\"Assistant Editor\",\"Foley Mixer\",\"Hairstylist\",\"Set Dresser\",\"Leadman\",\"Costumer\",\"Set Costumer\",\"Modeling\",\"Stunts\",\"First Assistant Editor\",\"Thanks\",\"Actor's Assistant\",\"Set Decorating Coordinator\",\"Special Effects Supervisor\",\"Stunts\",\"Hair Department Head\",\"Property Master\",\"Assistant Costume Designer\",\"Production Coordinator\",\"Electrician\",\"Stunts\",\"Assistant Property Master\",\"Special Effects Technician\",\"Graphic Designer\",\"Casting Associate\",\"Key Grip\",\"Stunts\",\"Graphic Designer\",\"Stunts\",\"Set Designer\",\"Best Boy Grip\",\"Stand In\",\"Stunts\",\"Stunts\",\"Makeup Artist\",\"Stunts\",\"Special Effects Technician\",\"Special Effects Makeup Artist\",\"Production Assistant\",\"Loader\",\"Electrician\",\"Key Costumer\",\"Set Dresser\",\"Grip\",\"Grip\",\"Production Supervisor\",\"Stunts\",\"Stunts\",\"Set Dresser\",\"Second Assistant Director\",\"Set Dresser\",\"Second Second Assistant Director\",\"Grip\",\"Extras Casting Coordinator\",\"Assistant Editor\",\"Stunts\",\"Stunts\",\"Stunts\",\"Production Assistant\",\"Stunts\",\"Set Dresser\",\"Extras Casting\",\"Additional Production Sound Mixer\",\"Costumer\",\"Sound Editor\",\"Mix Technician\",\"Visual Effects Supervisor\",\"Researcher\",\"Stunts\",\"Digital Intermediate Producer\",\"Casting Assistant\",\"Grip\",\"Actor's Assistant\",\"Grip\",\"Stand In\",\"Sound Editor\",\"Post Production Accountant\",\"First Assistant Accountant\",\"Location Assistant\",\"Location Manager\",\"Production Secretary\",\"Actor's Assistant\",\"Additional Second Assistant Director\",\"Sound Assistant\",\"Production Intern\",\"Special Effects Technician\",\"Associate Producer\",\"Second Assistant Camera\",\"Grip\",\"Grip\",\"Grip\",\"Grip\",\"Additional Second Assistant Director\",\"Set Medic\",\"Fight Choreographer\",\"Stand In\",\"Pyrotechnician\"]],[\"start\",[0,0,0,0,0,0,0,0,0,0,0,1,1,1,1,1,1,1,1,1,1,1,1,1,1,1,1,1,1,1,1,1,1,1,1,1,1,1,1,1,1,1,1,1,1,1,1,1,1,1,1,1,1,1,1,1,1,1,1,1,1,1,1,1,1,1,1,1,1,1,1,1,1,1,1,1,1,1,1,1,1,1,1,1,1,1,1,1,1,1,1,2,2,2,2,2,2,3,3,3,4,4,4,4,4,4,4,7,7,7,7,7,8,9,10,10,11,11,12,12,12,12,12,13,15,15,15,18,18,19,19,19,20,20,20,20,20,20,20,23,24,24,24,25,25,29,33,33,37,42,42,45,48,52,82,82,82,82,82,82,82,82,82,82,82,82,82,82,82,82,82,82,82,82,82,82,82,82,82,82,82,82,82,82,82,82,82,82,82,82,82,82,82,82,82,82,82,82,82,82,82,82,82,82,82,82,82,82,82,82,82,82,82,82,82,82,82,82,82,82,82,82,82,82,82,82,82,82,82,82,82,82,82,82,82,82,82,82,82,82,82,82,82,82,82,82,82,82,82,82,82,82,83,83,86,86,86,86,86,86,86,87,87,87,87,87,87,87,88,90,91,91,92,100,102,102,102,109,109,109,114,116,118,118,118,119,128,135,135,135,135,135,135,135,139,141,146,147,148,149,153,161,165,165,167,181,182,182,182,182,182,182,182,182,182,182,182,182,182,182,182,182,182,182,182,182,182,182,182,182,182,182,182,182,182,182,182,182,182,182,182,182,182,182,182,182,182,182,182,182,182,182,182,182,182,182,182,182,182,182,182,182,182,182,182,182,182,182,182,182,182,182,182,182,182,182,182,182,182,182,182,182,182,182,182,182,182,182,182,184,184,184,184,192,201,206,213,214,223,231,234,260,261,262,266,266,266,266,266,266,266,266,266,266,266,266,266,266,266,266,266,266,266,266,266,266,266,266,266,266,266,266,266,266,266,266,266,266,266,266,266,266,266,266,266,266,266,266,266,266,266,266,266,266,266,266,266,266,266,266,266,266,266,266,266,266,266,266,266,266,266,266,266,266,266,266,266,266,266,266,266,266,266,266,266,266,266,266,266,266,266,266,266,266,266,266,266,266,266,266,266,266,266,266,266,266,266,266,266,266,266,266,266,266,266,266,266,266,266,266,266,266,266,266,266,266,266,266,266,266,266,266,266,266,266,266,266,266,266,266,266,266,266,266,266,266,266,266,266,266,266,266,266,266,266,266,266,266,266,266,266,266,266,266,266,266,266,266,266,272,272,273,273,273,285,285,300,300,306,306,306,306,306,306,306,308,312,312,314,320,321,321,321,321,321,321,321,323,323,328,328,330,330,330,330,330,330,331,331,332,332,355,371,432,432,432,432,432,432,432,432,432,432,432,432,432,432,432,432,432,432,432,432,432,432,432,432,432,432,432,432,432,432,432,432,432,432,432,432,432,432,432,432,432,432,432,432,432,432,432,432,432,432,432,432,432,432,432,432,432,432,432,432,432,432,432,432,432,432,432,432,432,432,432,432,432,432,432,432,432,432,432,432,432,432,432,432,432,432,432,432,432,432,432,432,432,432,432,432,432,432,432,432,432,432,432,432,432,432,432,432,432,432,432,432,432,432,432,432,432,432,432,432,432,432,432,432,432,432,432,432,432,432,432,432,432,432,432,432,432,432,432,432,432,432,432,432,432,432,432,432,432,432,432,432,432,432,432,432,432,432,432,432,432,432,432,432,432,432,432,432,432,432,432,432,432,432,432,432,432,432,432,432,432,432,432,432,432,432,432,432,433,434,434,434,434,434,436,437,437,438,438,438,438,438,439,439,439,439,440,441,441,443,443,444,447,447,449,450,451,451,451,453,455,457,457,457,457,458,462,462,463,469,469,470,470,471,472,472,473,477,477,477,478,478,479,481,482,483,483,483,485,489,491,491,491,492,493,493,493,493,494,494,494,494,494,494,495,495,495,495,495,496,499,499,499,499,499,500,501,504,506,507,508,510,511,512,512,513,513,514,514,514,514,515,515,518,518,527,528,528,528,529,529,530,532,533,534,535,536,537,538,539,546,549,550,551,552,554,555,556,557,558,559,560,563,565,566,570,571,573,575,576,581,582,583,585,586,590,592,593,594,600,601,602,607,608,609,610,612,613,615,616,618,621,621,621,621,621,621,621,621,621,621,621,621,621,621,621,621,621,621,621,621,621,621,621,621,621,621,621,621,621,621,621,621,621,621,621,621,621,621,621,621,621,621,621,621,621,624,631,631,635,635,667,667,667,667,667,667,667,667,667,667,667,667,667,667,667,667,667,667,667,667,667,667,667,667,667,667,667,667,667,667,667,667,667,667,667,667,667,667,667,667,667,667,667,667,667,667,667,667,667,667,667,667,667,667,667,667,667,667,667,667,667,667,667,667,667,667,667,667,667,667,667,667,667,667,667,667,667,667,667,667,667,667,667,667,667,667,667,667,667,667,667,667,667,667,667,667,667,667,667,667,667,667,667,667,667,667,667,667,667,667,667,667,667,667,667,667,667,667,667,667,667,667,667,667,667,667,667,667,667,667,667,667,667,667,667,667,667,667,667,671,674,674,674,680,680,680,690,694,696,712,726,807,807,807,807,807,807,807,807,807,807,807,807,807,807,807,807,807,807,807,807,807,807,807,807,807,807,807,807,807,807,807,807,807,807,807,807,807,807,807,807,807,807,807,807,807,807,807,807,807,807,807,807,807,807,807,807,807,807,823,826,845,845,845,850,851,851,851,866,866,866,866,866,866,866,866,866,866,866,866,866,866,866,866,866,866,866,866,866,866,866,866,866,866,866,866,866,866,866,866,866,866,866,866,866,866,866,866,866,866,866,866,866,866,866,866,866,866,866,866,866,866,866,866,866,866,866,866,866,866,866,866,867,867,874,881,881,884,889,889,906,910,911,926,931,931,931,931,931,931,931,931,931,931,931,931,931,931,931,931,931,931,931,931,931,931,931,931,931,931,931,931,931,931,931,931,931,931,931,931,931,931,931,931,931,931,931,931,931,934,935,937,942,943,944,977,977,977,977,977,977,977,977,977,977,977,977,977,977,977,977,977,977,977,977,977,977,977,977,977,977,977,977,977,977,977,977,977,977,977,977,977,977,977,977,977,977,977,977,977,977,977,977,977,977,977,977,977,977,977,977,977,977,977,977,977,977,977,977,977,977,977,977,977,977,977,977,977,977,977,977,977,977,977,977,977,977,977,977,977,977,977,977,977,977,977,977,977,977,977,977,977,977,977,977,977,977,977,977,977,977,977,977,977,977,977,977,977,977,977,977,977,977,977,977,977,977,977,977,977,977,977,977,977,977,977,977,977,977,977,977,977,977,977,977,977,977,977,977,977,977]],[\"end\",[1,82,182,266,432,621,667,807,866,931,977,2,3,4,5,6,7,8,9,10,11,12,13,14,15,16,17,18,19,20,21,22,23,24,25,26,27,28,29,30,31,32,33,34,35,36,37,38,39,40,41,42,43,44,45,46,47,48,49,50,51,52,53,54,55,56,57,58,59,60,61,62,63,64,65,66,67,68,69,70,71,72,73,74,75,76,77,78,79,80,81,82,182,266,432,621,807,82,182,266,82,182,266,432,621,667,807,82,266,432,621,807,82,82,82,182,82,182,82,266,432,621,807,82,82,266,931,82,432,82,182,266,82,266,667,807,866,931,977,82,82,182,266,82,266,82,432,621,82,82,182,266,82,82,83,84,85,86,87,88,89,90,91,92,93,94,95,96,97,98,99,100,101,102,103,104,105,106,107,108,109,110,111,112,113,114,115,116,117,118,119,120,121,122,123,124,125,126,127,128,129,130,131,132,133,134,135,136,137,138,139,140,141,142,143,144,145,146,147,148,149,150,151,152,153,154,155,156,157,158,159,160,161,162,163,164,165,166,167,168,169,170,171,172,173,174,175,176,177,178,179,180,182,266,266,432,621,667,807,866,931,266,432,621,667,807,866,931,266,866,866,931,266,266,266,432,621,182,266,667,266,182,266,432,621,182,266,266,432,621,807,866,931,977,182,266,266,182,182,182,182,182,266,621,182,182,183,184,185,186,187,188,189,190,191,192,193,194,195,196,197,198,199,200,201,202,203,204,205,206,207,208,209,210,211,212,213,214,215,216,217,218,219,220,221,222,223,224,225,226,227,228,229,230,231,232,233,234,235,236,237,238,239,240,241,242,243,244,245,246,247,248,249,250,251,252,253,254,255,256,257,258,259,260,261,262,263,264,265,432,621,667,866,266,266,266,266,266,266,667,266,266,266,266,267,268,269,270,271,272,273,274,275,276,277,278,279,280,281,282,283,284,285,286,287,288,289,290,291,292,293,294,295,296,297,298,299,300,301,302,303,304,305,306,307,308,309,310,311,312,313,314,315,316,317,318,319,320,321,322,323,324,325,326,327,328,329,330,331,332,333,334,335,336,337,338,339,340,341,342,343,344,345,346,347,348,349,350,351,352,353,354,355,356,357,358,359,360,361,362,363,364,365,366,367,368,369,370,371,372,373,374,375,376,377,378,379,380,381,382,383,384,385,386,387,388,389,390,391,392,393,394,395,396,397,398,399,400,401,402,403,404,405,406,407,408,409,410,411,412,413,414,415,416,417,418,419,420,421,422,423,424,425,426,427,428,429,430,431,432,621,432,621,667,807,866,432,621,432,621,667,807,866,931,977,667,432,866,667,432,432,621,667,807,866,931,977,667,807,621,807,432,621,807,866,931,977,432,621,432,621,866,432,433,434,435,436,437,438,439,440,441,442,443,444,445,446,447,448,449,450,451,452,453,454,455,456,457,458,459,460,461,462,463,464,465,466,467,468,469,470,471,472,473,474,475,476,477,478,479,480,481,482,483,484,485,486,487,488,489,490,491,492,493,494,495,496,497,498,499,500,501,502,503,504,505,506,507,508,509,510,511,512,513,514,515,516,517,518,519,520,521,522,523,524,525,526,527,528,529,530,531,532,533,534,535,536,537,538,539,540,541,542,543,544,545,546,547,548,549,550,551,552,553,554,555,556,557,558,559,560,561,562,563,564,565,566,567,568,569,570,571,572,573,574,575,576,577,578,579,580,581,582,583,584,585,586,587,588,589,590,591,592,593,594,595,596,597,598,599,600,601,602,603,604,605,606,607,608,609,610,611,612,613,614,615,616,617,618,619,620,621,621,807,866,931,977,621,621,807,621,667,807,866,977,621,667,807,977,621,621,931,621,866,621,621,667,621,621,621,667,807,621,621,667,807,866,977,621,667,807,621,621,667,621,667,866,621,667,621,621,866,977,621,866,621,621,866,621,807,866,621,621,621,667,977,621,621,667,866,931,621,667,807,866,931,977,621,667,866,931,977,621,621,807,866,931,977,621,621,621,621,621,621,621,621,621,866,621,977,621,667,866,977,621,667,621,667,621,866,931,977,621,807,621,621,621,621,621,621,621,621,621,621,621,621,621,621,621,621,621,621,621,621,621,621,621,621,621,621,621,621,621,866,621,621,621,621,621,621,621,621,621,621,621,621,621,621,621,621,621,621,621,621,622,623,624,625,626,627,628,629,630,631,632,633,634,635,636,637,638,639,640,641,642,643,644,645,646,647,648,649,650,651,652,653,654,655,656,657,658,659,660,661,662,663,664,665,666,667,866,931,667,866,668,669,670,671,672,673,674,675,676,677,678,679,680,681,682,683,684,685,686,687,688,689,690,691,692,693,694,695,696,697,698,699,700,701,702,703,704,705,706,707,708,709,710,711,712,713,714,715,716,717,718,719,720,721,722,723,724,725,726,727,728,729,730,731,732,733,734,735,736,737,738,739,740,741,742,743,744,745,746,747,748,749,750,751,752,753,754,755,756,757,758,759,760,761,762,763,764,765,766,767,768,769,770,771,772,773,774,775,776,777,778,779,780,781,782,783,784,785,786,787,788,789,790,791,792,793,794,795,796,797,798,799,800,801,802,803,804,805,806,807,807,866,931,866,931,977,931,807,807,866,977,808,809,810,811,812,813,814,815,816,817,818,819,820,821,822,823,824,825,826,827,828,829,830,831,832,833,834,835,836,837,838,839,840,841,842,843,844,845,846,847,848,849,850,851,852,853,854,855,856,857,858,859,860,861,862,863,864,865,866,977,866,931,977,866,866,931,977,867,868,869,870,871,872,873,874,875,876,877,878,879,880,881,882,883,884,885,886,887,888,889,890,891,892,893,894,895,896,897,898,899,900,901,902,903,904,905,906,907,908,909,910,911,912,913,914,915,916,917,918,919,920,921,922,923,924,925,926,927,928,929,930,931,977,977,931,977,931,931,977,931,977,931,977,932,933,934,935,936,937,938,939,940,941,942,943,944,945,946,947,948,949,950,951,952,953,954,955,956,957,958,959,960,961,962,963,964,965,966,967,968,969,970,971,972,973,974,975,976,977,977,977,977,977,977,978,979,980,981,982,983,984,985,986,987,988,989,990,991,992,993,994,995,996,997,998,999,1000,1001,1002,1003,1004,1005,1006,1007,1008,1009,1010,1011,1012,1013,1014,1015,1016,1017,1018,1019,1020,1021,1022,1023,1024,1025,1026,1027,1028,1029,1030,1031,1032,1033,1034,1035,1036,1037,1038,1039,1040,1041,1042,1043,1044,1045,1046,1047,1048,1049,1050,1051,1052,1053,1054,1055,1056,1057,1058,1059,1060,1061,1062,1063,1064,1065,1066,1067,1068,1069,1070,1071,1072,1073,1074,1075,1076,1077,1078,1079,1080,1081,1082,1083,1084,1085,1086,1087,1088,1089,1090,1091,1092,1093,1094,1095,1096,1097,1098,1099,1100,1101,1102,1103,1104,1105,1106,1107,1108,1109,1110,1111,1112,1113,1114,1115,1116,1117,1118,1119,1120,1121,1122,1123]]]}}},\"view\":{\"type\":\"object\",\"name\":\"CDSView\",\"id\":\"p1826\",\"attributes\":{\"filter\":{\"type\":\"object\",\"name\":\"AllIndices\",\"id\":\"p1827\"}}},\"glyph\":{\"type\":\"object\",\"name\":\"MultiLine\",\"id\":\"p1852\",\"attributes\":{\"line_alpha\":{\"type\":\"value\",\"value\":0.3}}}}},\"selection_policy\":{\"type\":\"object\",\"name\":\"NodesOnly\",\"id\":\"p1828\"},\"inspection_policy\":{\"type\":\"object\",\"name\":\"NodesOnly\",\"id\":\"p1820\"}}}],\"toolbar\":{\"type\":\"object\",\"name\":\"Toolbar\",\"id\":\"p1779\",\"attributes\":{\"tools\":[{\"type\":\"object\",\"name\":\"PanTool\",\"id\":\"p1801\"},{\"type\":\"object\",\"name\":\"WheelZoomTool\",\"id\":\"p1802\"},{\"type\":\"object\",\"name\":\"SaveTool\",\"id\":\"p1803\"},{\"type\":\"object\",\"name\":\"ResetTool\",\"id\":\"p1804\"},{\"type\":\"object\",\"name\":\"HoverTool\",\"id\":\"p1805\",\"attributes\":{\"renderers\":\"auto\",\"tooltips\":[[\"Name\",\"@name\"],[\"Degree\",\"@degree\"]]}}],\"active_scroll\":{\"id\":\"p1802\"}}},\"left\":[{\"type\":\"object\",\"name\":\"LinearAxis\",\"id\":\"p1794\",\"attributes\":{\"ticker\":{\"type\":\"object\",\"name\":\"BasicTicker\",\"id\":\"p1797\",\"attributes\":{\"mantissas\":[1,2,5]}},\"formatter\":{\"type\":\"object\",\"name\":\"BasicTickFormatter\",\"id\":\"p1796\"},\"major_label_policy\":{\"type\":\"object\",\"name\":\"AllLabels\",\"id\":\"p1795\"}}}],\"below\":[{\"type\":\"object\",\"name\":\"LinearAxis\",\"id\":\"p1787\",\"attributes\":{\"ticker\":{\"type\":\"object\",\"name\":\"BasicTicker\",\"id\":\"p1790\",\"attributes\":{\"mantissas\":[1,2,5]}},\"formatter\":{\"type\":\"object\",\"name\":\"BasicTickFormatter\",\"id\":\"p1789\"},\"major_label_policy\":{\"type\":\"object\",\"name\":\"AllLabels\",\"id\":\"p1788\"}}}],\"center\":[{\"type\":\"object\",\"name\":\"Grid\",\"id\":\"p1793\",\"attributes\":{\"axis\":{\"id\":\"p1787\"}}},{\"type\":\"object\",\"name\":\"Grid\",\"id\":\"p1800\",\"attributes\":{\"dimension\":1,\"axis\":{\"id\":\"p1794\"}}}]}}],\"callbacks\":{\"type\":\"map\"}}};\n  const render_items = [{\"docid\":\"bb2de156-678c-4392-b8cc-f3a0d07933b5\",\"roots\":{\"p1771\":\"0dd0b5ae-f17f-4f84-b4d6-01a525cd3a21\"},\"root_ids\":[\"p1771\"]}];\n  root.Bokeh.embed.embed_items_notebook(docs_json, render_items);\n  }\n  if (root.Bokeh !== undefined) {\n    embed_document(root);\n  } else {\n    let attempts = 0;\n    const timer = setInterval(function(root) {\n      if (root.Bokeh !== undefined) {\n        clearInterval(timer);\n        embed_document(root);\n      } else {\n        attempts++;\n        if (attempts > 100) {\n          clearInterval(timer);\n          console.log(\"Bokeh: ERROR: Unable to run BokehJS code because BokehJS library is missing\");\n        }\n      }\n    }, 10, root)\n  }\n})(window);",
      "application/vnd.bokehjs_exec.v0+json": ""
     },
     "metadata": {
      "application/vnd.bokehjs_exec.v0+json": {
       "id": "p1771"
      }
     },
     "output_type": "display_data"
    }
   ],
   "source": [
    "G = nx.from_pandas_edgelist(crew_df, 'person', 'title', 'job')\n",
    "\n",
    "degrees = dict(nx.degree(G))\n",
    "nx.set_node_attributes(G, name='degree', values=degrees)\n",
    "adjusted_node_size = dict([(node, 8*math.log(degree) + 5) for node, degree in nx.degree(G)])\n",
    "nx.set_node_attributes(G, name='adjusted_size', values=adjusted_node_size)\n",
    "\n",
    "node_colors = {} \n",
    "\n",
    "for node in G.nodes():\n",
    "    if node in list(movie_df['title']):\n",
    "        node_colors[node] = Light3[0]\n",
    "    else:\n",
    "        node_colors[node] = Light3[1]\n",
    "\n",
    "nx.set_node_attributes(G, name='color', values=node_colors)\n",
    "\n",
    "G = nx.convert_node_labels_to_integers(G, label_attribute='name')\n",
    "\n",
    "#Establish which categories will appear when hovering over each node\n",
    "HOVER_TOOLTIPS = [\n",
    "    (\"Name\", \"@name\"),\n",
    "    (\"Degree\", \"@degree\")\n",
    "]\n",
    "\n",
    "\n",
    "title = 'Tarantino Crew Network'\n",
    "\n",
    "plot = figure(tooltips = HOVER_TOOLTIPS,\n",
    "              tools=\"pan,wheel_zoom,save,reset\", active_scroll='wheel_zoom',\n",
    "              x_range=Range1d(-20.1, 20.1), y_range=Range1d(-20.1, 20.1), title=title)\n",
    "\n",
    "graph = from_networkx(G, nx.spring_layout, scale=20, center=(0,0))\n",
    "\n",
    "graph.node_renderer.glyph = Circle(size='adjusted_size', fill_color='color')\n",
    "\n",
    "graph.edge_renderer.glyph = MultiLine(line_alpha=0.3)\n",
    "\n",
    "plot.renderers.append(graph)\n",
    "\n",
    "show(plot)"
   ]
  }
 ],
 "metadata": {
  "kernelspec": {
   "display_name": "Python 3 (ipykernel)",
   "language": "python",
   "name": "python3"
  },
  "language_info": {
   "codemirror_mode": {
    "name": "ipython",
    "version": 3
   },
   "file_extension": ".py",
   "mimetype": "text/x-python",
   "name": "python",
   "nbconvert_exporter": "python",
   "pygments_lexer": "ipython3",
   "version": "3.11.0"
  }
 },
 "nbformat": 4,
 "nbformat_minor": 5
}
